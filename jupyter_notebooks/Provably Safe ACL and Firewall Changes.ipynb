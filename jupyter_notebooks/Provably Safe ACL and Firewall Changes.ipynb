{
 "cells": [
  {
   "cell_type": "markdown",
   "metadata": {},
   "source": [
    "# Provably safe ACL and firewall rule changes\n",
    "\n",
    "Changing ACLs or firewall rules is one of the riskiest update to the network. Even a small error can block connectivity for a large set of critical services or open up sensitive resources to the world at large. \n",
    "\n",
    "This notebook shows a 3-step process that uses Batfish to make provably safe and correct changes to ACLs and firewall rules, which we generally call filters. For a broader view of Batfish's support for analyzing filters, check out [this notebook](Analyzing%20ACLs%20and%20Firewall%20Rules.ipynb).\n",
    "![Analytics](https://ga-beacon.appspot.com/UA-100596389-3/open-source/pybatfish/jupyter_notebooks/provably-safe-acl-and-firewall-changes?pixel&useReferer) "
   ]
  },
  {
   "cell_type": "markdown",
   "metadata": {},
   "source": [
    "## Change scenario\n",
    "\n",
    "We mimic a scenario where we want to permit HTTP traffic (ports 80 and 8080) from one subnet to another. We will implement this by adding a rule to permit this traffic to our filter, and we will then use Batfish to check if the implementation was correct."
   ]
  },
  {
   "cell_type": "code",
   "execution_count": 1,
   "metadata": {},
   "outputs": [],
   "source": [
    "# The traffic to allow\n",
    "src_prefix = \"10.10.10.0/24\"\n",
    "dst_prefix = \"18.18.18.0/27\"\n",
    "ip_protocols = [\"tcp\"]\n",
    "dst_ports = [80, 8080]\n",
    "\n",
    "# The node and the name of the filter to change\n",
    "node_name = \"rtr-with-acl\"\n",
    "filter_name = \"acl_in\""
   ]
  },
  {
   "cell_type": "markdown",
   "metadata": {},
   "source": [
    "## Intialize the current (pre-change) snapshot\n",
    "\n",
    "We start by initializing the pre-change snapshot. In our example, the snapshot contains two devices, and we'll change the ACL on `rtr-with-acl`, whose configuration can be seen [here](https://FILL ME/). "
   ]
  },
  {
   "cell_type": "code",
   "execution_count": 2,
   "metadata": {},
   "outputs": [
    {
     "data": {
      "text/plain": [
       "'current'"
      ]
     },
     "execution_count": 2,
     "metadata": {},
     "output_type": "execute_result"
    }
   ],
   "source": [
    "# Import packages and load questions\n",
    "%run startup.py\n",
    "\n",
    "# Initialize a network and snapshot\n",
    "NETWORK_NAME = \"network-example-filters\"\n",
    "CURRENT_SNAPSHOT_NAME = \"current\"\n",
    "CURRENT_SNAPSHOT_PATH = \"networks/example-filters/current\"\n",
    "\n",
    "bf_set_network(NETWORK_NAME)\n",
    "bf_init_snapshot(CURRENT_SNAPSHOT_PATH, name=CURRENT_SNAPSHOT_NAME, overwrite=True)"
   ]
  },
  {
   "cell_type": "markdown",
   "metadata": {},
   "source": [
    "## Step 1:  Ensure that the intended traffic is not already permitted\n",
    "\n",
    "Before we make the change to allow the intended traffic, we verify that that traffic is not already permitted---because if it is, we are done and do not need to do anything. We accomplish this using the `reachfilter` question. Given a space of flows, specified using header fields such as source and destination addresses and ports, and a matching condition (e.g., permit, deny) as input, this question finds flows that satisfy the condition. If it reports no flows, that implies a guarantee that no flow within the space satisfies the condition. "
   ]
  },
  {
   "cell_type": "code",
   "execution_count": 3,
   "metadata": {},
   "outputs": [
    {
     "data": {
      "text/html": [
       "<style  type=\"text/css\" >\n",
       "</style>  \n",
       "<table id=\"T_b87f7b7e_b8b2_11e8_aec8_c4b301cae04d\" > \n",
       "<thead>    <tr> \n",
       "        <th class=\"blank level0\" ></th> \n",
       "        <th class=\"col_heading level0 col0\" >Node</th> \n",
       "        <th class=\"col_heading level0 col1\" >Filter_Name</th> \n",
       "        <th class=\"col_heading level0 col2\" >Flow</th> \n",
       "        <th class=\"col_heading level0 col3\" >Action</th> \n",
       "        <th class=\"col_heading level0 col4\" >Line_Number</th> \n",
       "        <th class=\"col_heading level0 col5\" >Line_Content</th> \n",
       "        <th class=\"col_heading level0 col6\" >Trace</th> \n",
       "    </tr></thead> \n",
       "<tbody></tbody> \n",
       "</table> "
      ],
      "text/plain": [
       "<pandas.io.formats.style.Styler at 0x11514cc18>"
      ]
     },
     "metadata": {},
     "output_type": "display_data"
    }
   ],
   "source": [
    "# Check if the intended traffic is already permitted in the initial snapshot\n",
    "answer = bfq.reachfilter(src=src_prefix,\n",
    "                         dst=dst_prefix, \n",
    "                         dstPorts=dst_ports,\n",
    "                         ipProtocols=ip_protocols,\n",
    "                         filters=filter_name,\n",
    "                         nodes = node_name,\n",
    "                         query=\"permit\").answer(snapshot=CURRENT_SNAPSHOT_NAME).frame()\n",
    "display_html(answer)"
   ]
  },
  {
   "cell_type": "markdown",
   "metadata": {},
   "source": [
    "Since the query above did not find any result, we know with certainty that no flow within the specified space is already permitted. We can now proceed. If some flow is returned as part of the query, we may want to first delete the corresponding line. "
   ]
  },
  {
   "cell_type": "markdown",
   "metadata": {},
   "source": [
    "## Load candidate change\n",
    "\n",
    "Assume that we implemented the change as shown by the diff below and stored at `CANDIDATE1_SNAPSHOT_PATH` (see below). \n",
    "\n",
    "```\n",
    "diff -r networks/example-filters/current/configs/rtr-with-acl.cfg \\ \n",
    "        networks/example-filters/candidate1/configs/rtr-with-acl.cfg\n",
    "39a40,41\n",
    ">   462 permit tcp 10.10.10.0/24 18.18.18.0/26 eq 80   \n",
    ">   463 permit tcp 10.10.10.0/24 18.18.18.0/26 eq 8080   \n",
    "```\n",
    "\n",
    "Now we will load the proposed change into Batfish so that we can analyze it. "
   ]
  },
  {
   "cell_type": "code",
   "execution_count": 4,
   "metadata": {},
   "outputs": [
    {
     "data": {
      "text/plain": [
       "'candidate1'"
      ]
     },
     "execution_count": 4,
     "metadata": {},
     "output_type": "execute_result"
    }
   ],
   "source": [
    "CANDIDATE1_SNAPSHOT_NAME = \"candidate1\"\n",
    "CANDIDATE1_SNAPSHOT_PATH = \"networks/example-filters/candidate1\"\n",
    "\n",
    "bf_init_snapshot(CANDIDATE1_SNAPSHOT_PATH, name=CANDIDATE1_SNAPSHOT_NAME, overwrite=True)"
   ]
  },
  {
   "cell_type": "markdown",
   "metadata": {},
   "source": [
    "## Step 2: Ensure that the intended traffic is now permitted\n",
    "\n",
    "We run the same query as in Step 2 above, but on the candidate1 snapshot."
   ]
  },
  {
   "cell_type": "code",
   "execution_count": 5,
   "metadata": {},
   "outputs": [
    {
     "data": {
      "text/html": [
       "<style  type=\"text/css\" >\n",
       "</style>  \n",
       "<table id=\"T_ba5dcbd0_b8b2_11e8_8b3e_c4b301cae04d\" > \n",
       "<thead>    <tr> \n",
       "        <th class=\"blank level0\" ></th> \n",
       "        <th class=\"col_heading level0 col0\" >Node</th> \n",
       "        <th class=\"col_heading level0 col1\" >Filter_Name</th> \n",
       "        <th class=\"col_heading level0 col2\" >Flow</th> \n",
       "        <th class=\"col_heading level0 col3\" >Action</th> \n",
       "        <th class=\"col_heading level0 col4\" >Line_Number</th> \n",
       "        <th class=\"col_heading level0 col5\" >Line_Content</th> \n",
       "        <th class=\"col_heading level0 col6\" >Trace</th> \n",
       "    </tr></thead> \n",
       "<tbody></tbody> \n",
       "</table> "
      ],
      "text/plain": [
       "<pandas.io.formats.style.Styler at 0x115157860>"
      ]
     },
     "metadata": {},
     "output_type": "display_data"
    }
   ],
   "source": [
    "# Check if any flow in the intended traffic is denied in candidate1 snapshot\n",
    "answer = bfq.reachfilter(src=src_prefix,\n",
    "                         dst=dst_prefix, \n",
    "                         dstPorts=dst_ports,\n",
    "                         ipProtocols=ip_protocols,\n",
    "                         filters=filter_name,\n",
    "                         nodes=node_name,\n",
    "                         query=\"deny\").answer(snapshot=CANDIDATE1_SNAPSHOT_NAME).frame()\n",
    "display_html(answer)"
   ]
  },
  {
   "cell_type": "markdown",
   "metadata": {},
   "source": [
    "Since we got no results, we can be confident that our candidate change permits *all* traffic that we intended to permit. If there were any flow in the desired space that was not permitted by the change, the query above would have found it."
   ]
  },
  {
   "cell_type": "markdown",
   "metadata": {},
   "source": [
    "## Step 3: Ensure that no collateral damage has occurred\n",
    "\n",
    "Typically, engineers will stop change validation after checking that the intended traffic has been successfully permitted by the change. However, for safety and correctness, we must also check that no traffic outside of the intended space has been impacted--that is, our change has not caused collateral damage. \n",
    "\n",
    "We can verify that by using a \"differential\" version of the `reachfilter` question that compares two snapshots. The query below compares the candidate1 and initial snapshots, and is asking Batfish if there is *any* flow outside of the intended traffic that the two snapshots treat differently (i.e., one of them permits and the other rejects, or vice versa). The \"outside\" part is specified using the `complementHeaderSpace` flag. If this query, returns no result, then combined with the result above, we have ensured that the change is completely correct."
   ]
  },
  {
   "cell_type": "code",
   "execution_count": 6,
   "metadata": {},
   "outputs": [
    {
     "data": {
      "text/html": [
       "<style  type=\"text/css\" >\n",
       "    #T_baff20c0_b8b2_11e8_981f_c4b301cae04drow0_col0 {\n",
       "            text-align:  left;\n",
       "            vertical-align:  top;\n",
       "        }    #T_baff20c0_b8b2_11e8_981f_c4b301cae04drow0_col1 {\n",
       "            text-align:  left;\n",
       "            vertical-align:  top;\n",
       "        }    #T_baff20c0_b8b2_11e8_981f_c4b301cae04drow0_col2 {\n",
       "            text-align:  left;\n",
       "            vertical-align:  top;\n",
       "        }    #T_baff20c0_b8b2_11e8_981f_c4b301cae04drow0_col3 {\n",
       "            text-align:  left;\n",
       "            vertical-align:  top;\n",
       "        }    #T_baff20c0_b8b2_11e8_981f_c4b301cae04drow0_col4 {\n",
       "            text-align:  left;\n",
       "            vertical-align:  top;\n",
       "        }    #T_baff20c0_b8b2_11e8_981f_c4b301cae04drow0_col5 {\n",
       "            text-align:  left;\n",
       "            vertical-align:  top;\n",
       "        }    #T_baff20c0_b8b2_11e8_981f_c4b301cae04drow0_col6 {\n",
       "            text-align:  left;\n",
       "            vertical-align:  top;\n",
       "        }    #T_baff20c0_b8b2_11e8_981f_c4b301cae04drow0_col7 {\n",
       "            text-align:  left;\n",
       "            vertical-align:  top;\n",
       "        }    #T_baff20c0_b8b2_11e8_981f_c4b301cae04drow0_col8 {\n",
       "            text-align:  left;\n",
       "            vertical-align:  top;\n",
       "        }    #T_baff20c0_b8b2_11e8_981f_c4b301cae04drow0_col9 {\n",
       "            text-align:  left;\n",
       "            vertical-align:  top;\n",
       "        }    #T_baff20c0_b8b2_11e8_981f_c4b301cae04drow0_col10 {\n",
       "            text-align:  left;\n",
       "            vertical-align:  top;\n",
       "        }    #T_baff20c0_b8b2_11e8_981f_c4b301cae04drow0_col11 {\n",
       "            text-align:  left;\n",
       "            vertical-align:  top;\n",
       "        }    #T_baff20c0_b8b2_11e8_981f_c4b301cae04drow0_col12 {\n",
       "            text-align:  left;\n",
       "            vertical-align:  top;\n",
       "        }    #T_baff20c0_b8b2_11e8_981f_c4b301cae04drow0_col13 {\n",
       "            text-align:  left;\n",
       "            vertical-align:  top;\n",
       "        }    #T_baff20c0_b8b2_11e8_981f_c4b301cae04drow0_col14 {\n",
       "            text-align:  left;\n",
       "            vertical-align:  top;\n",
       "        }    #T_baff20c0_b8b2_11e8_981f_c4b301cae04drow0_col15 {\n",
       "            text-align:  left;\n",
       "            vertical-align:  top;\n",
       "        }</style>  \n",
       "<table id=\"T_baff20c0_b8b2_11e8_981f_c4b301cae04d\" > \n",
       "<thead>    <tr> \n",
       "        <th class=\"blank level0\" ></th> \n",
       "        <th class=\"col_heading level0 col0\" >Node</th> \n",
       "        <th class=\"col_heading level0 col1\" >Filter_Name</th> \n",
       "        <th class=\"col_heading level0 col2\" >Flow</th> \n",
       "        <th class=\"col_heading level0 col3\" >KeyPresence</th> \n",
       "        <th class=\"col_heading level0 col4\" >Diff_Action</th> \n",
       "        <th class=\"col_heading level0 col5\" >Base_Action</th> \n",
       "        <th class=\"col_heading level0 col6\" >Delta_Action</th> \n",
       "        <th class=\"col_heading level0 col7\" >Diff_Line_Number</th> \n",
       "        <th class=\"col_heading level0 col8\" >Base_Line_Number</th> \n",
       "        <th class=\"col_heading level0 col9\" >Delta_Line_Number</th> \n",
       "        <th class=\"col_heading level0 col10\" >Diff_Line_Content</th> \n",
       "        <th class=\"col_heading level0 col11\" >Base_Line_Content</th> \n",
       "        <th class=\"col_heading level0 col12\" >Delta_Line_Content</th> \n",
       "        <th class=\"col_heading level0 col13\" >Diff_Trace</th> \n",
       "        <th class=\"col_heading level0 col14\" >Base_Trace</th> \n",
       "        <th class=\"col_heading level0 col15\" >Delta_Trace</th> \n",
       "    </tr></thead> \n",
       "<tbody>    <tr> \n",
       "        <th id=\"T_baff20c0_b8b2_11e8_981f_c4b301cae04dlevel0_row0\" class=\"row_heading level0 row0\" >0</th> \n",
       "        <td id=\"T_baff20c0_b8b2_11e8_981f_c4b301cae04drow0_col0\" class=\"data row0 col0\" >rtr-with-acl</td> \n",
       "        <td id=\"T_baff20c0_b8b2_11e8_981f_c4b301cae04drow0_col1\" class=\"data row0 col1\" >acl_in</td> \n",
       "        <td id=\"T_baff20c0_b8b2_11e8_981f_c4b301cae04drow0_col2\" class=\"data row0 col2\" >rtr-with-acl->[10.10.10.0:0->18.18.18.32:80 proto: TCP dscp:0 ecn:0 fragOff:0 length:0 state:NEW flags: n/a</td> \n",
       "        <td id=\"T_baff20c0_b8b2_11e8_981f_c4b301cae04drow0_col3\" class=\"data row0 col3\" >In both</td> \n",
       "        <td id=\"T_baff20c0_b8b2_11e8_981f_c4b301cae04drow0_col4\" class=\"data row0 col4\" ><Different></td> \n",
       "        <td id=\"T_baff20c0_b8b2_11e8_981f_c4b301cae04drow0_col5\" class=\"data row0 col5\" >PERMIT</td> \n",
       "        <td id=\"T_baff20c0_b8b2_11e8_981f_c4b301cae04drow0_col6\" class=\"data row0 col6\" >DENY</td> \n",
       "        <td id=\"T_baff20c0_b8b2_11e8_981f_c4b301cae04drow0_col7\" class=\"data row0 col7\" ><Different>: -78</td> \n",
       "        <td id=\"T_baff20c0_b8b2_11e8_981f_c4b301cae04drow0_col8\" class=\"data row0 col8\" >23</td> \n",
       "        <td id=\"T_baff20c0_b8b2_11e8_981f_c4b301cae04drow0_col9\" class=\"data row0 col9\" >101</td> \n",
       "        <td id=\"T_baff20c0_b8b2_11e8_981f_c4b301cae04drow0_col10\" class=\"data row0 col10\" ><Different></td> \n",
       "        <td id=\"T_baff20c0_b8b2_11e8_981f_c4b301cae04drow0_col11\" class=\"data row0 col11\" >462 permit tcp 10.10.10.0/24 18.18.18.0/26 eq 80</td> \n",
       "        <td id=\"T_baff20c0_b8b2_11e8_981f_c4b301cae04drow0_col12\" class=\"data row0 col12\" >2020 deny tcp any any</td> \n",
       "        <td id=\"T_baff20c0_b8b2_11e8_981f_c4b301cae04drow0_col13\" class=\"data row0 col13\" ><Different></td> \n",
       "        <td id=\"T_baff20c0_b8b2_11e8_981f_c4b301cae04drow0_col14\" class=\"data row0 col14\" >Flow permitted by 'extended ipv4 access-list' named 'acl_in', index 23: 462 permit tcp 10.10.10.0/24 18.18.18.0/26 eq 80</td> \n",
       "        <td id=\"T_baff20c0_b8b2_11e8_981f_c4b301cae04drow0_col15\" class=\"data row0 col15\" >Flow denied by 'extended ipv4 access-list' named 'acl_in', index 101: 2020 deny tcp any any</td> \n",
       "    </tr></tbody> \n",
       "</table> "
      ],
      "text/plain": [
       "<pandas.io.formats.style.Styler at 0x115157860>"
      ]
     },
     "metadata": {},
     "output_type": "display_data"
    }
   ],
   "source": [
    "# Check if traffic other than the intended traffic has been impacted\n",
    "answer = bfq.reachfilter(src=src_prefix,\n",
    "                         dst=dst_prefix, \n",
    "                         dstPorts=dst_ports,\n",
    "                         ipProtocols=ip_protocols,\n",
    "                         filters=filter_name,\n",
    "                         nodes=node_name,\n",
    "                         complementHeaderSpace=True).answer(snapshot=CANDIDATE1_SNAPSHOT_NAME, \n",
    "                                                            reference_snapshot=CURRENT_SNAPSHOT_NAME).frame()\n",
    "display_html(answer)"
   ]
  },
  {
   "cell_type": "markdown",
   "metadata": {},
   "source": [
    "As we can see, unfortunately, we do get some results. In particular, we have accidentally allowed traffic that we didn't intend to. The column `Flow` shows the example flow that the two snapshots treat differently. The columns that start with `Base_` show how the candidate snapshot treats that flow, and those that start with `Delta_` show how the current snapshot treats the flow. As show, the candidate snapshot permits the flow while the current snapshot denies it. That means we've accidentally opened up more space than we intended. \n",
    "\n",
    "The root cause of the problem is apparent if we look at the diff above more carefully. We ended permitting 18.18.18.0/26 destination prefix as opposed to 18.18.18.0/27. We thus need to fix this."
   ]
  },
  {
   "cell_type": "markdown",
   "metadata": {},
   "source": [
    "## Load (another) candidate change\n",
    "\n",
    "Assume that we implemented another candidate change as shown by the diff below and stored at `CANDIDATE2_SNAPSHOT_PATH` (see below). \n",
    "\n",
    "```\n",
    "diff -r networks/example-filters/current/configs/rtr-with-acl.cfg \\ \n",
    "        networks/example-filters/candidate2/configs/rtr-with-acl.cfg\n",
    "39a40,41\n",
    ">   462 permit tcp 10.10.10.0/24 18.18.18.0/27 eq 80   \n",
    ">   463 permit tcp 10.10.10.0/24 18.18.18.0/27 eq 8080   \n",
    "```\n",
    "\n",
    "We will now load this change and repeat Steps 2 and 3 to validate it."
   ]
  },
  {
   "cell_type": "code",
   "execution_count": 7,
   "metadata": {},
   "outputs": [
    {
     "data": {
      "text/plain": [
       "'candidate2'"
      ]
     },
     "execution_count": 7,
     "metadata": {},
     "output_type": "execute_result"
    }
   ],
   "source": [
    "CANDIDATE2_SNAPSHOT_NAME = \"candidate2\"\n",
    "CANDIDATE2_SNAPSHOT_PATH = \"networks/example-filters/candidate2\"\n",
    "\n",
    "bf_init_snapshot(CANDIDATE2_SNAPSHOT_PATH, name=CANDIDATE2_SNAPSHOT_NAME, overwrite=True)"
   ]
  },
  {
   "cell_type": "markdown",
   "metadata": {},
   "source": [
    "## Step 2 (again): Ensure that the intended traffic is now permitted\n",
    "\n",
    "We run the same query as in Step 2 above, but on the candidate2 snapshot."
   ]
  },
  {
   "cell_type": "code",
   "execution_count": 8,
   "metadata": {},
   "outputs": [
    {
     "data": {
      "text/html": [
       "<style  type=\"text/css\" >\n",
       "</style>  \n",
       "<table id=\"T_bc3ef992_b8b2_11e8_8f38_c4b301cae04d\" > \n",
       "<thead>    <tr> \n",
       "        <th class=\"blank level0\" ></th> \n",
       "        <th class=\"col_heading level0 col0\" >Node</th> \n",
       "        <th class=\"col_heading level0 col1\" >Filter_Name</th> \n",
       "        <th class=\"col_heading level0 col2\" >Flow</th> \n",
       "        <th class=\"col_heading level0 col3\" >Action</th> \n",
       "        <th class=\"col_heading level0 col4\" >Line_Number</th> \n",
       "        <th class=\"col_heading level0 col5\" >Line_Content</th> \n",
       "        <th class=\"col_heading level0 col6\" >Trace</th> \n",
       "    </tr></thead> \n",
       "<tbody></tbody> \n",
       "</table> "
      ],
      "text/plain": [
       "<pandas.io.formats.style.Styler at 0x11189b470>"
      ]
     },
     "metadata": {},
     "output_type": "display_data"
    }
   ],
   "source": [
    "# Check if any flow in the intended traffic is denied in candidate2 snapshot\n",
    "answer = bfq.reachfilter(src=src_prefix,\n",
    "                         dst=dst_prefix, \n",
    "                         dstPorts=dst_ports,\n",
    "                         ipProtocols=ip_protocols,\n",
    "                         filters=filter_name,\n",
    "                         nodes=node_name,\n",
    "                         query=\"deny\").answer(snapshot=CANDIDATE2_SNAPSHOT_NAME).frame()\n",
    "display_html(answer)"
   ]
  },
  {
   "cell_type": "markdown",
   "metadata": {},
   "source": [
    "As before, we got no results, which means that no flow in the intended traffic is being denied, and we thus correctly permitted all intended traffic. "
   ]
  },
  {
   "cell_type": "markdown",
   "metadata": {},
   "source": [
    "## Step 3 (again): Ensure that no collateral damage has occurred\n",
    "\n",
    "Now, lets also check again that no other traffic is impacted."
   ]
  },
  {
   "cell_type": "code",
   "execution_count": 9,
   "metadata": {},
   "outputs": [
    {
     "data": {
      "text/html": [
       "<style  type=\"text/css\" >\n",
       "</style>  \n",
       "<table id=\"T_bcdcc6e2_b8b2_11e8_8718_c4b301cae04d\" > \n",
       "<thead>    <tr> \n",
       "        <th class=\"blank level0\" ></th> \n",
       "        <th class=\"col_heading level0 col0\" >Node</th> \n",
       "        <th class=\"col_heading level0 col1\" >Filter_Name</th> \n",
       "        <th class=\"col_heading level0 col2\" >Flow</th> \n",
       "        <th class=\"col_heading level0 col3\" >KeyPresence</th> \n",
       "        <th class=\"col_heading level0 col4\" >Diff_Action</th> \n",
       "        <th class=\"col_heading level0 col5\" >Base_Action</th> \n",
       "        <th class=\"col_heading level0 col6\" >Delta_Action</th> \n",
       "        <th class=\"col_heading level0 col7\" >Diff_Line_Number</th> \n",
       "        <th class=\"col_heading level0 col8\" >Base_Line_Number</th> \n",
       "        <th class=\"col_heading level0 col9\" >Delta_Line_Number</th> \n",
       "        <th class=\"col_heading level0 col10\" >Diff_Line_Content</th> \n",
       "        <th class=\"col_heading level0 col11\" >Base_Line_Content</th> \n",
       "        <th class=\"col_heading level0 col12\" >Delta_Line_Content</th> \n",
       "        <th class=\"col_heading level0 col13\" >Diff_Trace</th> \n",
       "        <th class=\"col_heading level0 col14\" >Base_Trace</th> \n",
       "        <th class=\"col_heading level0 col15\" >Delta_Trace</th> \n",
       "    </tr></thead> \n",
       "<tbody></tbody> \n",
       "</table> "
      ],
      "text/plain": [
       "<pandas.io.formats.style.Styler at 0x115157e48>"
      ]
     },
     "metadata": {},
     "output_type": "display_data"
    }
   ],
   "source": [
    "# Check if traffic other than the intended traffic has been impacted\n",
    "answer = bfq.reachfilter(src=src_prefix,\n",
    "                         dst=dst_prefix, \n",
    "                         dstPorts=dst_ports,\n",
    "                         ipProtocols=ip_protocols,\n",
    "                         filters=filter_name,\n",
    "                         nodes=node_name,\n",
    "                         complementHeaderSpace=True).answer(snapshot=CANDIDATE2_SNAPSHOT_NAME, \n",
    "                                                            reference_snapshot=CURRENT_SNAPSHOT_NAME).frame()\n",
    "display_html(answer)"
   ]
  },
  {
   "cell_type": "markdown",
   "metadata": {},
   "source": [
    "We got no results again. Thus, this change is completely correct: It allows all traffic that we meant to allow and has no impact of any other traffic. "
   ]
  },
  {
   "cell_type": "markdown",
   "metadata": {},
   "source": [
    "## Conclusions\n",
    "\n",
    "In this notebook, we showed how you can use Batfish to validate that a change to a complex ACL/filter is correct and only permits or denies the desired set of traffic/flows. The following 3 steps provide that guarantee:\n",
    "\n",
    "1. Check that the intended traffic does not already match the desired action (permit or deny) in the existing configuration\n",
    "2. Check that the intended traffic is matched with the desired action in the changed configuration\n",
    "3. Check that nothing but the intended traffic is impacted by the change\n",
    "\n",
    "This simple 3 step process gives you the assurance needed to be able to quickly and safely make changes to ACLs and firewall rules in your network. For general filter analysis using Batfish, see [this notebook](Analyzing%20ACLs%20and%20Firewall%20Rules.ipynb)."
   ]
  },
  {
   "cell_type": "markdown",
   "metadata": {},
   "source": [
    "***\n",
    "### Get involved with the Batfish community\n",
    "\n",
    "To get involved and learn more, join our community on [Slack](https://join.slack.com/t/batfish-org/shared_invite/enQtMzA0Nzg2OTAzNzQ1LTUxOTJlY2YyNTVlNGQ3MTJkOTIwZTU2YjY3YzRjZWFiYzE4ODE5ODZiNjA4NGI5NTJhZmU2ZTllOTMwZDhjMzA) and [Github](https://github.com/batfish/batfish). "
   ]
  }
 ],
 "metadata": {
  "kernelspec": {
   "display_name": "Python 3",
   "language": "python",
   "name": "python3"
  },
  "language_info": {
   "codemirror_mode": {
    "name": "ipython",
    "version": 3
   },
   "file_extension": ".py",
   "mimetype": "text/x-python",
   "name": "python",
   "nbconvert_exporter": "python",
   "pygments_lexer": "ipython3",
   "version": "3.6.2"
  }
 },
 "nbformat": 4,
 "nbformat_minor": 1
}
