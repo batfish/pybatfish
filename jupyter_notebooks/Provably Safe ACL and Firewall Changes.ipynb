{
 "cells": [
  {
   "cell_type": "markdown",
   "metadata": {},
   "source": [
    "# Provably safe ACL and firewall rule changes\n",
    "\n",
    "Changing ACLs or firewall rules is one of the riskiest update to the network. Even a small error can block connectivity for a large set of critical services or open up sensitive resources to the world at large. \n",
    "\n",
    "This notebook shows how Batfish can update ACLs and firewall rules, which we generally call filters, in a provably correct and safe manner. For a broader view of Batfish's support for filter analysis, check out [this notebook](Analyzing%20ACLs%20and%20Firewall%20Rules.ipynb).\n",
    "![Analytics](https://ga-beacon.appspot.com/UA-100596389-3/open-source/pybatfish/jupyter_notebooks/provably-safe-filter-changes?pixel&useReferer) "
   ]
  },
  {
   "cell_type": "markdown",
   "metadata": {},
   "source": [
    "## Change scenario\n",
    "\n",
    "We mimic a scenario where we want to permit HTTP traffic (ports 80 and 8080) from one subnet to another. We will implement this by adding a rule to permit this traffic to our filter, and we will then use Batfish to check if the implementation was correct."
   ]
  },
  {
   "cell_type": "code",
   "execution_count": 9,
   "metadata": {},
   "outputs": [],
   "source": [
    "# The source and destination prefix for the traffic to allow\n",
    "src_prefix = \"10.10.20.10/26\"\n",
    "dst_prefix = \"18.18.18.0/24\"\n",
    "ip_protocol = \"tcp\"\n",
    "dst_ports = [80, 8080]\n",
    "\n",
    "# The name of the filter to change\n",
    "filter_name = \"851034_in_20171004133715\""
   ]
  },
  {
   "cell_type": "markdown",
   "metadata": {},
   "source": [
    "## Step 1: Intialize the current (pre-change) snapshot\n",
    "\n",
    "We start by initializing the pre-change snapshot. In our example, the snapshot contains two devices, and we'll change the ACL on `rtr-with-acl`, whose configuration can be seen [here](https://FILL ME/). "
   ]
  },
  {
   "cell_type": "code",
   "execution_count": 14,
   "metadata": {},
   "outputs": [
    {
     "data": {
      "text/plain": [
       "'initial'"
      ]
     },
     "execution_count": 14,
     "metadata": {},
     "output_type": "execute_result"
    }
   ],
   "source": [
    "# Import packages and load questions\n",
    "%run startup.py\n",
    "\n",
    "# Initialize a network and snapshot\n",
    "NETWORK_NAME = \"filter_analysis_network\"\n",
    "INITIAL_SNAPSHOT_NAME = \"initial\"\n",
    "INITIAL_SNAPSHOT_PATH = \"networks/example-filters\"\n",
    "\n",
    "bf_set_network(NETWORK_NAME)\n",
    "bf_init_snapshot(INITIAL_SNAPSHOT_PATH, name=INITIAL_SNAPSHOT_NAME, overwrite=True)"
   ]
  },
  {
   "cell_type": "markdown",
   "metadata": {},
   "source": [
    "## Step 2:  Ensure that the intended traffic is not already permitted\n",
    "\n",
    "Before we make the change to allow the intended traffic, we verify that that traffic is not already permitted---because if it is, we are done and do not need to do anything. We accomplish this using the `reachfilter` question, which finds flows that match the specified criteria.  "
   ]
  },
  {
   "cell_type": "code",
   "execution_count": 12,
   "metadata": {},
   "outputs": [
    {
     "data": {
      "text/html": [
       "<style  type=\"text/css\" >\n",
       "    #T_2c738406_b658_11e8_bb6d_c4b301cae04drow0_col0 {\n",
       "            text-align:  left;\n",
       "            vertical-align:  top;\n",
       "        }    #T_2c738406_b658_11e8_bb6d_c4b301cae04drow0_col1 {\n",
       "            text-align:  left;\n",
       "            vertical-align:  top;\n",
       "        }    #T_2c738406_b658_11e8_bb6d_c4b301cae04drow0_col2 {\n",
       "            text-align:  left;\n",
       "            vertical-align:  top;\n",
       "        }    #T_2c738406_b658_11e8_bb6d_c4b301cae04drow0_col3 {\n",
       "            text-align:  left;\n",
       "            vertical-align:  top;\n",
       "        }    #T_2c738406_b658_11e8_bb6d_c4b301cae04drow0_col4 {\n",
       "            text-align:  left;\n",
       "            vertical-align:  top;\n",
       "        }    #T_2c738406_b658_11e8_bb6d_c4b301cae04drow0_col5 {\n",
       "            text-align:  left;\n",
       "            vertical-align:  top;\n",
       "        }    #T_2c738406_b658_11e8_bb6d_c4b301cae04drow0_col6 {\n",
       "            text-align:  left;\n",
       "            vertical-align:  top;\n",
       "        }</style>  \n",
       "<table id=\"T_2c738406_b658_11e8_bb6d_c4b301cae04d\" > \n",
       "<thead>    <tr> \n",
       "        <th class=\"blank level0\" ></th> \n",
       "        <th class=\"col_heading level0 col0\" >Node</th> \n",
       "        <th class=\"col_heading level0 col1\" >Filter_Name</th> \n",
       "        <th class=\"col_heading level0 col2\" >Flow</th> \n",
       "        <th class=\"col_heading level0 col3\" >Action</th> \n",
       "        <th class=\"col_heading level0 col4\" >Line_Number</th> \n",
       "        <th class=\"col_heading level0 col5\" >Line_Content</th> \n",
       "        <th class=\"col_heading level0 col6\" >Trace</th> \n",
       "    </tr></thead> \n",
       "<tbody>    <tr> \n",
       "        <th id=\"T_2c738406_b658_11e8_bb6d_c4b301cae04dlevel0_row0\" class=\"row_heading level0 row0\" >0</th> \n",
       "        <td id=\"T_2c738406_b658_11e8_bb6d_c4b301cae04drow0_col0\" class=\"data row0 col0\" >rtr-with-acl</td> \n",
       "        <td id=\"T_2c738406_b658_11e8_bb6d_c4b301cae04drow0_col1\" class=\"data row0 col1\" >851034_in_20171004133715</td> \n",
       "        <td id=\"T_2c738406_b658_11e8_bb6d_c4b301cae04drow0_col2\" class=\"data row0 col2\" >rtr-with-acl->[10.10.20.0:0->18.18.18.0:80 proto: ICMP dscp:0 ecn:0 fragOff:0 length:0 state:NEW flags: n/a</td> \n",
       "        <td id=\"T_2c738406_b658_11e8_bb6d_c4b301cae04drow0_col3\" class=\"data row0 col3\" >PERMIT</td> \n",
       "        <td id=\"T_2c738406_b658_11e8_bb6d_c4b301cae04drow0_col4\" class=\"data row0 col4\" >67</td> \n",
       "        <td id=\"T_2c738406_b658_11e8_bb6d_c4b301cae04drow0_col5\" class=\"data row0 col5\" >1320 permit icmp any any echo-reply</td> \n",
       "        <td id=\"T_2c738406_b658_11e8_bb6d_c4b301cae04drow0_col6\" class=\"data row0 col6\" >Flow permitted by 'extended ipv4 access-list' named '851034_in_20171004133715', index 67: 1320 permit icmp any any echo-reply</td> \n",
       "    </tr></tbody> \n",
       "</table> "
      ],
      "text/plain": [
       "<pandas.io.formats.style.Styler at 0x110649518>"
      ]
     },
     "metadata": {},
     "output_type": "display_data"
    }
   ],
   "source": [
    "# Check if the intended traffic is already permitted in the initial snapshot\n",
    "answer = bfq.reachfilter(src=src_prefix,\n",
    "                         dst=dst_prefix, \n",
    "                         dstPorts=dst_ports,\n",
    "                         #ipProtocols=\"tcp\",\n",
    "                         filterRegex=filter_name,\n",
    "                         query=\"permit\").answer(snaphot=INITIAL_SNAPSHOT_NAME).frame()\n",
    "display_html(answer)"
   ]
  },
  {
   "cell_type": "markdown",
   "metadata": {},
   "source": [
    "Since the query above did not find any flows, we know with certainty that no flow within the specified space is already permitted. We can now proceed.\n",
    "\n",
    "**TODO**\n",
    "1. Support ipProtocols (that is when this query should return zero results)"
   ]
  },
  {
   "cell_type": "markdown",
   "metadata": {},
   "source": [
    "## Step C1.1: Implement and load the change\n",
    "\n",
    "Assume that we implemented the change and stored it in the `CANDIDATE_SNAPSHOT_PATH` (see below). The diff of the change is:\n",
    "\n",
    "**FILL**\n",
    "\n",
    "Now we will load the proposed change into Batfish so that we can analyze it. "
   ]
  },
  {
   "cell_type": "code",
   "execution_count": 17,
   "metadata": {},
   "outputs": [
    {
     "ename": "FileNotFoundError",
     "evalue": "[Errno 2] No such file or directory: 'networks/example-filters-candidate1'",
     "output_type": "error",
     "traceback": [
      "\u001b[0;31m---------------------------------------------------------------------------\u001b[0m",
      "\u001b[0;31mFileNotFoundError\u001b[0m                         Traceback (most recent call last)",
      "\u001b[0;32m<ipython-input-17-20835b02354c>\u001b[0m in \u001b[0;36m<module>\u001b[0;34m()\u001b[0m\n\u001b[1;32m      2\u001b[0m \u001b[0mCANDIDATE1_SNAPSHOT_PATH\u001b[0m \u001b[0;34m=\u001b[0m \u001b[0;34m\"networks/example-filters-candidate1\"\u001b[0m\u001b[0;34m\u001b[0m\u001b[0m\n\u001b[1;32m      3\u001b[0m \u001b[0;34m\u001b[0m\u001b[0m\n\u001b[0;32m----> 4\u001b[0;31m \u001b[0mbf_init_snapshot\u001b[0m\u001b[0;34m(\u001b[0m\u001b[0mCANDIDATE1_SNAPSHOT_PATH\u001b[0m\u001b[0;34m,\u001b[0m \u001b[0mname\u001b[0m\u001b[0;34m=\u001b[0m\u001b[0mCANDIDATE1_SNAPSHOT_NAME\u001b[0m\u001b[0;34m,\u001b[0m \u001b[0moverwrite\u001b[0m\u001b[0;34m=\u001b[0m\u001b[0;32mTrue\u001b[0m\u001b[0;34m)\u001b[0m\u001b[0;34m\u001b[0m\u001b[0m\n\u001b[0m",
      "\u001b[0;32m~/work/pybatfish/pybatfish/client/commands.py\u001b[0m in \u001b[0;36mbf_init_snapshot\u001b[0;34m(upload, name, overwrite, background)\u001b[0m\n\u001b[1;32m    532\u001b[0m \u001b[0;34m\u001b[0m\u001b[0m\n\u001b[1;32m    533\u001b[0m     json_data = workhelper.get_data_upload_snapshot(bf_session, name,\n\u001b[0;32m--> 534\u001b[0;31m                                                     file_to_send)\n\u001b[0m\u001b[1;32m    535\u001b[0m     resthelper.get_json_response(bf_session,\n\u001b[1;32m    536\u001b[0m                                  \u001b[0mCoordConsts\u001b[0m\u001b[0;34m.\u001b[0m\u001b[0mSVC_RSC_UPLOAD_SNAPSHOT\u001b[0m\u001b[0;34m,\u001b[0m\u001b[0;34m\u001b[0m\u001b[0m\n",
      "\u001b[0;32m~/work/pybatfish/pybatfish/client/workhelper.py\u001b[0m in \u001b[0;36mget_data_upload_snapshot\u001b[0;34m(session, snapshot, file_to_send)\u001b[0m\n\u001b[1;32m    337\u001b[0m                  \u001b[0mCoordConsts\u001b[0m\u001b[0;34m.\u001b[0m\u001b[0mSVC_KEY_SNAPSHOT_NAME\u001b[0m\u001b[0;34m:\u001b[0m \u001b[0msnapshot\u001b[0m\u001b[0;34m,\u001b[0m\u001b[0;34m\u001b[0m\u001b[0m\n\u001b[1;32m    338\u001b[0m                  CoordConsts.SVC_KEY_ZIPFILE: (\n\u001b[0;32m--> 339\u001b[0;31m                      \u001b[0;34m'filename'\u001b[0m\u001b[0;34m,\u001b[0m \u001b[0mopen\u001b[0m\u001b[0;34m(\u001b[0m\u001b[0mfile_to_send\u001b[0m\u001b[0;34m,\u001b[0m \u001b[0;34m'rb'\u001b[0m\u001b[0;34m)\u001b[0m\u001b[0;34m,\u001b[0m\u001b[0;34m\u001b[0m\u001b[0m\n\u001b[0m\u001b[1;32m    340\u001b[0m                      'application/octet-stream')}\n\u001b[1;32m    341\u001b[0m     \u001b[0;32mreturn\u001b[0m \u001b[0mjson_data\u001b[0m\u001b[0;34m\u001b[0m\u001b[0m\n",
      "\u001b[0;31mFileNotFoundError\u001b[0m: [Errno 2] No such file or directory: 'networks/example-filters-candidate1'"
     ]
    }
   ],
   "source": [
    "CANDIDATE1_SNAPSHOT_NAME = \"candidate1\"\n",
    "CANDIDATE1_SNAPSHOT_PATH = \"networks/example-filters-candidate1\"\n",
    "\n",
    "bf_init_snapshot(CANDIDATE1_SNAPSHOT_PATH, name=CANDIDATE1_SNAPSHOT_NAME, overwrite=True)"
   ]
  },
  {
   "cell_type": "markdown",
   "metadata": {},
   "source": [
    "## Step C1.2: Ensure that the intended traffic is now permitted\n",
    "\n",
    "We run the same query as in Step 2 above, but on the candidate1 snapshot."
   ]
  },
  {
   "cell_type": "code",
   "execution_count": 15,
   "metadata": {},
   "outputs": [
    {
     "ename": "NameError",
     "evalue": "name 'CANDIDATE1_SNAPSHOT_NAME' is not defined",
     "output_type": "error",
     "traceback": [
      "\u001b[0;31m---------------------------------------------------------------------------\u001b[0m",
      "\u001b[0;31mNameError\u001b[0m                                 Traceback (most recent call last)",
      "\u001b[0;32m<ipython-input-15-09f641bdf35e>\u001b[0m in \u001b[0;36m<module>\u001b[0;34m()\u001b[0m\n\u001b[1;32m      5\u001b[0m                          \u001b[0;31m#ipProtocols=\"tcp\",\u001b[0m\u001b[0;34m\u001b[0m\u001b[0;34m\u001b[0m\u001b[0m\n\u001b[1;32m      6\u001b[0m                          \u001b[0mfilterRegex\u001b[0m\u001b[0;34m=\u001b[0m\u001b[0mfilter_name\u001b[0m\u001b[0;34m,\u001b[0m\u001b[0;34m\u001b[0m\u001b[0m\n\u001b[0;32m----> 7\u001b[0;31m                          query=\"permit\").answer(snaphot=CANDIDATE1_SNAPSHOT_NAME).frame()\n\u001b[0m\u001b[1;32m      8\u001b[0m \u001b[0mdisplay_html\u001b[0m\u001b[0;34m(\u001b[0m\u001b[0manswer\u001b[0m\u001b[0;34m)\u001b[0m\u001b[0;34m\u001b[0m\u001b[0m\n",
      "\u001b[0;31mNameError\u001b[0m: name 'CANDIDATE1_SNAPSHOT_NAME' is not defined"
     ]
    }
   ],
   "source": [
    "# Check if the intended traffic is already permitted in the candidate1 snapshot\n",
    "answer = bfq.reachfilter(src=src_prefix,\n",
    "                         dst=dst_prefix, \n",
    "                         dstPorts=dst_ports,\n",
    "                         #ipProtocols=\"tcp\",\n",
    "                         filterRegex=filter_name,\n",
    "                         query=\"permit\").answer(snaphot=CANDIDATE1_SNAPSHOT_NAME).frame()\n",
    "display_html(answer)"
   ]
  },
  {
   "cell_type": "markdown",
   "metadata": {},
   "source": [
    "Since we got no results, we can be confident that our candidate change permits *all* traffic that we intended to permit. If there were any flow in the desired space that was not permitted by the change, the query above would have found it."
   ]
  },
  {
   "cell_type": "markdown",
   "metadata": {},
   "source": [
    "## Step C1.3: Ensure that no other traffic is impacted\n",
    "\n",
    "Typically, engineers will stop change validation after checking that the intended traffic has been successfully permitted by the change. However, we must also check that no traffic outside of the intended space has been impacted--that is, our change has not caused collateral damage. \n",
    "\n",
    "We can verify that by using a \"differential\" version of the `reachfilter` question that compares two snapshots. The query below compares the candidate1 and initial snapshots, and is asking Batfish to return any flow outside of the intended traffic that the two snapshots treat differently (i.e., one of them permits and the other rejects, or vice versa). The \"outside\" part is specified using the `complementHeaderSpace` parameter; in its absence, the search for differently-treated flows is conducted *inside* the specified space. If our query, returns no result, then combined with the result above, we have ensured that the change is completely correct."
   ]
  },
  {
   "cell_type": "code",
   "execution_count": 168,
   "metadata": {},
   "outputs": [
    {
     "data": {
      "text/html": [
       "<style  type=\"text/css\" >\n",
       "    #T_44ed877a_b0cc_11e8_83f3_fe00dc987701row0_col0 {\n",
       "            text-align:  left;\n",
       "            vertical-align:  top;\n",
       "        }    #T_44ed877a_b0cc_11e8_83f3_fe00dc987701row0_col1 {\n",
       "            text-align:  left;\n",
       "            vertical-align:  top;\n",
       "        }    #T_44ed877a_b0cc_11e8_83f3_fe00dc987701row0_col2 {\n",
       "            text-align:  left;\n",
       "            vertical-align:  top;\n",
       "        }    #T_44ed877a_b0cc_11e8_83f3_fe00dc987701row0_col3 {\n",
       "            text-align:  left;\n",
       "            vertical-align:  top;\n",
       "        }    #T_44ed877a_b0cc_11e8_83f3_fe00dc987701row0_col4 {\n",
       "            text-align:  left;\n",
       "            vertical-align:  top;\n",
       "        }    #T_44ed877a_b0cc_11e8_83f3_fe00dc987701row0_col5 {\n",
       "            text-align:  left;\n",
       "            vertical-align:  top;\n",
       "        }    #T_44ed877a_b0cc_11e8_83f3_fe00dc987701row0_col6 {\n",
       "            text-align:  left;\n",
       "            vertical-align:  top;\n",
       "        }    #T_44ed877a_b0cc_11e8_83f3_fe00dc987701row0_col7 {\n",
       "            text-align:  left;\n",
       "            vertical-align:  top;\n",
       "        }    #T_44ed877a_b0cc_11e8_83f3_fe00dc987701row0_col8 {\n",
       "            text-align:  left;\n",
       "            vertical-align:  top;\n",
       "        }    #T_44ed877a_b0cc_11e8_83f3_fe00dc987701row0_col9 {\n",
       "            text-align:  left;\n",
       "            vertical-align:  top;\n",
       "        }    #T_44ed877a_b0cc_11e8_83f3_fe00dc987701row0_col10 {\n",
       "            text-align:  left;\n",
       "            vertical-align:  top;\n",
       "        }    #T_44ed877a_b0cc_11e8_83f3_fe00dc987701row0_col11 {\n",
       "            text-align:  left;\n",
       "            vertical-align:  top;\n",
       "        }    #T_44ed877a_b0cc_11e8_83f3_fe00dc987701row0_col12 {\n",
       "            text-align:  left;\n",
       "            vertical-align:  top;\n",
       "        }    #T_44ed877a_b0cc_11e8_83f3_fe00dc987701row0_col13 {\n",
       "            text-align:  left;\n",
       "            vertical-align:  top;\n",
       "        }    #T_44ed877a_b0cc_11e8_83f3_fe00dc987701row0_col14 {\n",
       "            text-align:  left;\n",
       "            vertical-align:  top;\n",
       "        }    #T_44ed877a_b0cc_11e8_83f3_fe00dc987701row0_col15 {\n",
       "            text-align:  left;\n",
       "            vertical-align:  top;\n",
       "        }    #T_44ed877a_b0cc_11e8_83f3_fe00dc987701row0_col16 {\n",
       "            text-align:  left;\n",
       "            vertical-align:  top;\n",
       "        }</style>  \n",
       "<table id=\"T_44ed877a_b0cc_11e8_83f3_fe00dc987701\" > \n",
       "<thead>    <tr> \n",
       "        <th class=\"blank level0\" ></th> \n",
       "        <th class=\"col_heading level0 col0\" >Node</th> \n",
       "        <th class=\"col_heading level0 col1\" >Filter_Name</th> \n",
       "        <th class=\"col_heading level0 col2\" >HeaderSpace</th> \n",
       "        <th class=\"col_heading level0 col3\" >Flow</th> \n",
       "        <th class=\"col_heading level0 col4\" >KeyPresence</th> \n",
       "        <th class=\"col_heading level0 col5\" >Diff_Action</th> \n",
       "        <th class=\"col_heading level0 col6\" >Base_Action</th> \n",
       "        <th class=\"col_heading level0 col7\" >Delta_Action</th> \n",
       "        <th class=\"col_heading level0 col8\" >Diff_Line_Number</th> \n",
       "        <th class=\"col_heading level0 col9\" >Base_Line_Number</th> \n",
       "        <th class=\"col_heading level0 col10\" >Delta_Line_Number</th> \n",
       "        <th class=\"col_heading level0 col11\" >Diff_Line_Content</th> \n",
       "        <th class=\"col_heading level0 col12\" >Base_Line_Content</th> \n",
       "        <th class=\"col_heading level0 col13\" >Delta_Line_Content</th> \n",
       "        <th class=\"col_heading level0 col14\" >Diff_Trace</th> \n",
       "        <th class=\"col_heading level0 col15\" >Base_Trace</th> \n",
       "        <th class=\"col_heading level0 col16\" >Delta_Trace</th> \n",
       "    </tr></thead> \n",
       "<tbody>    <tr> \n",
       "        <th id=\"T_44ed877a_b0cc_11e8_83f3_fe00dc987701level0_row0\" class=\"row_heading level0 row0\" >0</th> \n",
       "        <td id=\"T_44ed877a_b0cc_11e8_83f3_fe00dc987701row0_col0\" class=\"data row0 col0\" >lvs1-ar01</td> \n",
       "        <td id=\"T_44ed877a_b0cc_11e8_83f3_fe00dc987701row0_col1\" class=\"data row0 col1\" >851034_in</td> \n",
       "        <td id=\"T_44ed877a_b0cc_11e8_83f3_fe00dc987701row0_col2\" class=\"data row0 col2\" >Including dstIps: 12.125.93.0/26, dstPorts: 80, ipProtocols: TCP, srcIps: 0.0.0.0/0<br>Excluding srcIps: 2.80.3.219<br>Excluding srcIps: 8.89.120.0/22<br>Excluding srcIps: 10.64.90.249<br>Excluding srcIps: 11.36.192.0/19<br>Excluding srcIps: 11.125.64.0/19<br>Excluding srcIps: 27.212.145.150<br>Excluding srcIps: 28.69.250.136<br>Excluding srcIps: 29.228.179.210<br>Excluding srcIps: 54.0.0.0/8<br>Excluding srcIps: 118.0.0.0/8<br>Excluding srcIps: 131.159.53.215<br>Excluding srcIps: 144.49.45.40<br>Excluding srcIps: 163.157.0.0/16<br>Excluding srcIps: 163.255.18.63<br>Excluding srcIps: 166.144.0.0/12<br>Excluding srcIps: 194.181.135.214<br>Excluding srcIps: 196.64.84.239<br>Excluding srcIps: 198.120.0.0/16<br>Excluding srcIps: 198.170.50.0/24<br>Excluding srcIps: 200.45.87.238<br>Excluding srcIps: 202.45.130.141<br>Excluding srcIps: 207.70.46.217<br>Excluding srcIps: 212.26.132.18<br>Excluding srcIps: 213.78.84.0/22<br>Excluding srcIps: 214.220.213.107<br>Excluding srcIps: 218.8.104.0/25<br>Excluding srcIps: 218.8.106.128/25<br>Excluding srcIps: 218.8.107.0/25<br>Excluding srcIps: 218.66.51.0/24<br>Excluding srcIps: 218.66.57.0/24<br>Excluding srcIps: 218.67.46.0/23<br>Excluding srcIps: 218.67.96.0/22<br>Excluding srcIps: 218.67.213.0/24<br>Excluding srcIps: 218.111.16.132<br>Excluding srcIps: 218.246.165.90<br>Excluding srcIps: 219.185.241.117<br>Excluding srcIps: 224.0.0.0/3<br>Excluding ipProtocols: TCP, tcpFlags: [ack=True, rst=True]<br>Excluding dstIps: 12.125.93.0/27, dstPorts: [80, 443], ipProtocols: TCP, srcIps: any<br><br>Including dstIps: 12.125.93.0/26, dstPorts: 443, ipProtocols: TCP, srcIps: 0.0.0.0/0<br>Excluding srcIps: 2.80.3.219<br>Excluding srcIps: 8.89.120.0/22<br>Excluding srcIps: 10.64.90.249<br>Excluding srcIps: 11.36.192.0/19<br>Excluding srcIps: 11.125.64.0/19<br>Excluding srcIps: 27.212.145.150<br>Excluding srcIps: 28.69.250.136<br>Excluding srcIps: 29.228.179.210<br>Excluding srcIps: 54.0.0.0/8<br>Excluding srcIps: 118.0.0.0/8<br>Excluding srcIps: 131.159.53.215<br>Excluding srcIps: 144.49.45.40<br>Excluding srcIps: 163.157.0.0/16<br>Excluding srcIps: 163.255.18.63<br>Excluding srcIps: 166.144.0.0/12<br>Excluding srcIps: 194.181.135.214<br>Excluding srcIps: 196.64.84.239<br>Excluding srcIps: 198.120.0.0/16<br>Excluding srcIps: 198.170.50.0/24<br>Excluding srcIps: 200.45.87.238<br>Excluding srcIps: 202.45.130.141<br>Excluding srcIps: 207.70.46.217<br>Excluding srcIps: 212.26.132.18<br>Excluding srcIps: 213.78.84.0/22<br>Excluding srcIps: 214.220.213.107<br>Excluding srcIps: 218.8.104.0/25<br>Excluding srcIps: 218.8.106.128/25<br>Excluding srcIps: 218.8.107.0/25<br>Excluding srcIps: 218.66.51.0/24<br>Excluding srcIps: 218.66.57.0/24<br>Excluding srcIps: 218.67.46.0/23<br>Excluding srcIps: 218.67.96.0/22<br>Excluding srcIps: 218.67.213.0/24<br>Excluding srcIps: 218.111.16.132<br>Excluding srcIps: 218.246.165.90<br>Excluding srcIps: 219.185.241.117<br>Excluding srcIps: 224.0.0.0/3<br>Excluding ipProtocols: TCP, tcpFlags: [ack=True, rst=True]<br>Excluding dstIps: 12.125.93.0/27, dstPorts: [80, 443], ipProtocols: TCP, srcIps: any</td> \n",
       "        <td id=\"T_44ed877a_b0cc_11e8_83f3_fe00dc987701row0_col3\" class=\"data row0 col3\" >lvs1-ar01->[0.0.0.0:0->12.125.93.32:80 proto: TCP dscp:0 ecn:0 fragOff:0 length:0 state:NEW flags: n/a</td> \n",
       "        <td id=\"T_44ed877a_b0cc_11e8_83f3_fe00dc987701row0_col4\" class=\"data row0 col4\" >In both</td> \n",
       "        <td id=\"T_44ed877a_b0cc_11e8_83f3_fe00dc987701row0_col5\" class=\"data row0 col5\" ><Different></td> \n",
       "        <td id=\"T_44ed877a_b0cc_11e8_83f3_fe00dc987701row0_col6\" class=\"data row0 col6\" >DENY</td> \n",
       "        <td id=\"T_44ed877a_b0cc_11e8_83f3_fe00dc987701row0_col7\" class=\"data row0 col7\" >PERMIT</td> \n",
       "        <td id=\"T_44ed877a_b0cc_11e8_83f3_fe00dc987701row0_col8\" class=\"data row0 col8\" ><Different>: 527</td> \n",
       "        <td id=\"T_44ed877a_b0cc_11e8_83f3_fe00dc987701row0_col9\" class=\"data row0 col9\" >976</td> \n",
       "        <td id=\"T_44ed877a_b0cc_11e8_83f3_fe00dc987701row0_col10\" class=\"data row0 col10\" >449</td> \n",
       "        <td id=\"T_44ed877a_b0cc_11e8_83f3_fe00dc987701row0_col11\" class=\"data row0 col11\" ><Different></td> \n",
       "        <td id=\"T_44ed877a_b0cc_11e8_83f3_fe00dc987701row0_col12\" class=\"data row0 col12\" >19590 deny tcp any any</td> \n",
       "        <td id=\"T_44ed877a_b0cc_11e8_83f3_fe00dc987701row0_col13\" class=\"data row0 col13\" >9032 permit tcp any 12.125.93.10/26 eq www</td> \n",
       "        <td id=\"T_44ed877a_b0cc_11e8_83f3_fe00dc987701row0_col14\" class=\"data row0 col14\" ><Different></td> \n",
       "        <td id=\"T_44ed877a_b0cc_11e8_83f3_fe00dc987701row0_col15\" class=\"data row0 col15\" >Flow denied by 'extended ipv4 access-list' named '851034_in', index 976: 19590 deny tcp any any</td> \n",
       "        <td id=\"T_44ed877a_b0cc_11e8_83f3_fe00dc987701row0_col16\" class=\"data row0 col16\" >Flow permitted by 'extended ipv4 access-list' named '851034_in', index 449: 9032 permit tcp any 12.125.93.10/26 eq www</td> \n",
       "    </tr></tbody> \n",
       "</table> "
      ],
      "text/plain": [
       "<pandas.io.formats.style.Styler at 0x113993d30>"
      ]
     },
     "metadata": {},
     "output_type": "display_data"
    }
   ],
   "source": [
    "# Check if traffic other than the intended traffic has been impacted\n",
    "answer = bfq.reachfilter(src=src_prefix,\n",
    "                         dst=dst_prefix, \n",
    "                         dstPorts=dst_ports,\n",
    "                         #ipProtocols=\"tcp\",\n",
    "                         filterRegex=filter_name,\n",
    "                         complementHeaderSpace=True).answer(snapshot=CANDIDATE1_SNAPSHOT_NAME, \n",
    "                                                            reference_snapshot=INITIAL_SNAPSHOT_NAME).frame()\n",
    "display_html(answer)"
   ]
  },
  {
   "cell_type": "markdown",
   "metadata": {},
   "source": [
    "As we see, unfortunately, we do get some results. In particular, we have accidentally allowed traffic that we didn't intend to. The columns of the result show what traffic that is and how it is treated differently. \n",
    "\n",
    "The root cause of the problem is that we in our candidate1 change, we ended permitting /25 source prefix instead of the intended /26 prefix. We thus need to fix this."
   ]
  },
  {
   "cell_type": "markdown",
   "metadata": {},
   "source": [
    "## Step C2.1: Implement and load the change\n",
    "\n",
    "Assume that we re-implemented the change and stored it in the `CANDIDATE2_SNAPSHOT_PATH`. We can now load the change for analysis. For reference, the diff view of the change, with respect to the initial snapshot, is: \n",
    "\n",
    "**FILL**"
   ]
  },
  {
   "cell_type": "code",
   "execution_count": 18,
   "metadata": {},
   "outputs": [
    {
     "ename": "FileNotFoundError",
     "evalue": "[Errno 2] No such file or directory: 'networks/example-filters-candidate2'",
     "output_type": "error",
     "traceback": [
      "\u001b[0;31m---------------------------------------------------------------------------\u001b[0m",
      "\u001b[0;31mFileNotFoundError\u001b[0m                         Traceback (most recent call last)",
      "\u001b[0;32m<ipython-input-18-e95f43bcaa5f>\u001b[0m in \u001b[0;36m<module>\u001b[0;34m()\u001b[0m\n\u001b[1;32m      2\u001b[0m \u001b[0mCANDIDATE2_SNAPSHOT_PATH\u001b[0m \u001b[0;34m=\u001b[0m \u001b[0;34m\"networks/example-filters-candidate2\"\u001b[0m\u001b[0;34m\u001b[0m\u001b[0m\n\u001b[1;32m      3\u001b[0m \u001b[0;34m\u001b[0m\u001b[0m\n\u001b[0;32m----> 4\u001b[0;31m \u001b[0mbf_init_snapshot\u001b[0m\u001b[0;34m(\u001b[0m\u001b[0mCANDIDATE2_SNAPSHOT_PATH\u001b[0m\u001b[0;34m,\u001b[0m \u001b[0mname\u001b[0m\u001b[0;34m=\u001b[0m\u001b[0mCANDIDATE2_SNAPSHOT_NAME\u001b[0m\u001b[0;34m,\u001b[0m \u001b[0moverwrite\u001b[0m\u001b[0;34m=\u001b[0m\u001b[0;32mTrue\u001b[0m\u001b[0;34m)\u001b[0m\u001b[0;34m\u001b[0m\u001b[0m\n\u001b[0m",
      "\u001b[0;32m~/work/pybatfish/pybatfish/client/commands.py\u001b[0m in \u001b[0;36mbf_init_snapshot\u001b[0;34m(upload, name, overwrite, background)\u001b[0m\n\u001b[1;32m    532\u001b[0m \u001b[0;34m\u001b[0m\u001b[0m\n\u001b[1;32m    533\u001b[0m     json_data = workhelper.get_data_upload_snapshot(bf_session, name,\n\u001b[0;32m--> 534\u001b[0;31m                                                     file_to_send)\n\u001b[0m\u001b[1;32m    535\u001b[0m     resthelper.get_json_response(bf_session,\n\u001b[1;32m    536\u001b[0m                                  \u001b[0mCoordConsts\u001b[0m\u001b[0;34m.\u001b[0m\u001b[0mSVC_RSC_UPLOAD_SNAPSHOT\u001b[0m\u001b[0;34m,\u001b[0m\u001b[0;34m\u001b[0m\u001b[0m\n",
      "\u001b[0;32m~/work/pybatfish/pybatfish/client/workhelper.py\u001b[0m in \u001b[0;36mget_data_upload_snapshot\u001b[0;34m(session, snapshot, file_to_send)\u001b[0m\n\u001b[1;32m    337\u001b[0m                  \u001b[0mCoordConsts\u001b[0m\u001b[0;34m.\u001b[0m\u001b[0mSVC_KEY_SNAPSHOT_NAME\u001b[0m\u001b[0;34m:\u001b[0m \u001b[0msnapshot\u001b[0m\u001b[0;34m,\u001b[0m\u001b[0;34m\u001b[0m\u001b[0m\n\u001b[1;32m    338\u001b[0m                  CoordConsts.SVC_KEY_ZIPFILE: (\n\u001b[0;32m--> 339\u001b[0;31m                      \u001b[0;34m'filename'\u001b[0m\u001b[0;34m,\u001b[0m \u001b[0mopen\u001b[0m\u001b[0;34m(\u001b[0m\u001b[0mfile_to_send\u001b[0m\u001b[0;34m,\u001b[0m \u001b[0;34m'rb'\u001b[0m\u001b[0;34m)\u001b[0m\u001b[0;34m,\u001b[0m\u001b[0;34m\u001b[0m\u001b[0m\n\u001b[0m\u001b[1;32m    340\u001b[0m                      'application/octet-stream')}\n\u001b[1;32m    341\u001b[0m     \u001b[0;32mreturn\u001b[0m \u001b[0mjson_data\u001b[0m\u001b[0;34m\u001b[0m\u001b[0m\n",
      "\u001b[0;31mFileNotFoundError\u001b[0m: [Errno 2] No such file or directory: 'networks/example-filters-candidate2'"
     ]
    }
   ],
   "source": [
    "CANDIDATE2_SNAPSHOT_NAME = \"candidate2\"\n",
    "CANDIDATE2_SNAPSHOT_PATH = \"networks/example-filters-candidate2\"\n",
    "\n",
    "bf_init_snapshot(CANDIDATE2_SNAPSHOT_PATH, name=CANDIDATE2_SNAPSHOT_NAME, overwrite=True)"
   ]
  },
  {
   "cell_type": "markdown",
   "metadata": {},
   "source": [
    "## Step C2.2: Ensure that the intended traffic is now permitted\n",
    "\n",
    "We run the same query as in Step 2 above, but on the candidate2 snapshot."
   ]
  },
  {
   "cell_type": "code",
   "execution_count": 15,
   "metadata": {},
   "outputs": [
    {
     "ename": "NameError",
     "evalue": "name 'CANDIDATE1_SNAPSHOT_NAME' is not defined",
     "output_type": "error",
     "traceback": [
      "\u001b[0;31m---------------------------------------------------------------------------\u001b[0m",
      "\u001b[0;31mNameError\u001b[0m                                 Traceback (most recent call last)",
      "\u001b[0;32m<ipython-input-15-09f641bdf35e>\u001b[0m in \u001b[0;36m<module>\u001b[0;34m()\u001b[0m\n\u001b[1;32m      5\u001b[0m                          \u001b[0;31m#ipProtocols=\"tcp\",\u001b[0m\u001b[0;34m\u001b[0m\u001b[0;34m\u001b[0m\u001b[0m\n\u001b[1;32m      6\u001b[0m                          \u001b[0mfilterRegex\u001b[0m\u001b[0;34m=\u001b[0m\u001b[0mfilter_name\u001b[0m\u001b[0;34m,\u001b[0m\u001b[0;34m\u001b[0m\u001b[0m\n\u001b[0;32m----> 7\u001b[0;31m                          query=\"permit\").answer(snaphot=CANDIDATE1_SNAPSHOT_NAME).frame()\n\u001b[0m\u001b[1;32m      8\u001b[0m \u001b[0mdisplay_html\u001b[0m\u001b[0;34m(\u001b[0m\u001b[0manswer\u001b[0m\u001b[0;34m)\u001b[0m\u001b[0;34m\u001b[0m\u001b[0m\n",
      "\u001b[0;31mNameError\u001b[0m: name 'CANDIDATE1_SNAPSHOT_NAME' is not defined"
     ]
    }
   ],
   "source": [
    "# Check if the intended traffic is already permitted in the candidate2 snapshot\n",
    "answer = bfq.reachfilter(src=src_prefix,\n",
    "                         dst=dst_prefix, \n",
    "                         dstPorts=dst_ports,\n",
    "                         #ipProtocols=\"tcp\",\n",
    "                         filterRegex=filter_name,\n",
    "                         query=\"permit\").answer(snaphot=CANDIDATE2_SNAPSHOT_NAME).frame()\n",
    "display_html(answer)"
   ]
  },
  {
   "cell_type": "markdown",
   "metadata": {},
   "source": [
    "As before, we got no results, which means that we correctly permitted all intended traffic. "
   ]
  },
  {
   "cell_type": "markdown",
   "metadata": {},
   "source": [
    "## Step C2.3: Ensure that no other traffic is impacted\n",
    "\n",
    "Now, lets check again that no other traffic is impacted."
   ]
  },
  {
   "cell_type": "code",
   "execution_count": 19,
   "metadata": {},
   "outputs": [
    {
     "ename": "BatfishException",
     "evalue": "Coordinator returned failure: Snapshot 'candidate2' does not exist",
     "output_type": "error",
     "traceback": [
      "\u001b[0;31m---------------------------------------------------------------------------\u001b[0m",
      "\u001b[0;31mBatfishException\u001b[0m                          Traceback (most recent call last)",
      "\u001b[0;32m<ipython-input-19-c36e6a7563b9>\u001b[0m in \u001b[0;36m<module>\u001b[0;34m()\u001b[0m\n\u001b[1;32m      6\u001b[0m                          \u001b[0mfilterRegex\u001b[0m\u001b[0;34m=\u001b[0m\u001b[0mfilter_name\u001b[0m\u001b[0;34m,\u001b[0m\u001b[0;34m\u001b[0m\u001b[0m\n\u001b[1;32m      7\u001b[0m                          \u001b[0mcomplementHeaderSpace\u001b[0m\u001b[0;34m=\u001b[0m\u001b[0;32mTrue\u001b[0m\u001b[0;34m)\u001b[0m\u001b[0;34m.\u001b[0m\u001b[0manswer\u001b[0m\u001b[0;34m(\u001b[0m\u001b[0msnapshot\u001b[0m\u001b[0;34m=\u001b[0m\u001b[0mCANDIDATE2_SNAPSHOT_NAME\u001b[0m\u001b[0;34m,\u001b[0m\u001b[0;34m\u001b[0m\u001b[0m\n\u001b[0;32m----> 8\u001b[0;31m                                                             reference_snapshot=INITIAL_SNAPSHOT_NAME).frame()\n\u001b[0m\u001b[1;32m      9\u001b[0m \u001b[0mdisplay_html\u001b[0m\u001b[0;34m(\u001b[0m\u001b[0manswer\u001b[0m\u001b[0;34m)\u001b[0m\u001b[0;34m\u001b[0m\u001b[0m\n",
      "\u001b[0;32m~/work/pybatfish/pybatfish/question/question.py\u001b[0m in \u001b[0;36manswer\u001b[0;34m(self, snapshot, reference_snapshot, include_one_table_keys, background)\u001b[0m\n\u001b[1;32m    142\u001b[0m                               \u001b[0mbackground\u001b[0m\u001b[0;34m=\u001b[0m\u001b[0mbackground\u001b[0m\u001b[0;34m,\u001b[0m\u001b[0;34m\u001b[0m\u001b[0m\n\u001b[1;32m    143\u001b[0m                               \u001b[0msnapshot\u001b[0m\u001b[0;34m=\u001b[0m\u001b[0msnapshot\u001b[0m\u001b[0;34m,\u001b[0m\u001b[0;34m\u001b[0m\u001b[0m\n\u001b[0;32m--> 144\u001b[0;31m                               reference_snapshot=reference_snapshot)\n\u001b[0m\u001b[1;32m    145\u001b[0m \u001b[0;34m\u001b[0m\u001b[0m\n\u001b[1;32m    146\u001b[0m     \u001b[0;32mdef\u001b[0m \u001b[0mdict\u001b[0m\u001b[0;34m(\u001b[0m\u001b[0mself\u001b[0m\u001b[0;34m)\u001b[0m\u001b[0;34m:\u001b[0m\u001b[0;34m\u001b[0m\u001b[0m\n",
      "\u001b[0;32m~/work/pybatfish/pybatfish/client/commands.py\u001b[0m in \u001b[0;36m_bf_answer_obj\u001b[0;34m(question_str, parameters_str, question_name, background, snapshot, reference_snapshot)\u001b[0m\n\u001b[1;32m    171\u001b[0m     work_item = workhelper.get_workitem_answer(bf_session, question_name,\n\u001b[1;32m    172\u001b[0m                                                snapshot, reference_snapshot)\n\u001b[0;32m--> 173\u001b[0;31m     \u001b[0manswer_dict\u001b[0m \u001b[0;34m=\u001b[0m \u001b[0mworkhelper\u001b[0m\u001b[0;34m.\u001b[0m\u001b[0mexecute\u001b[0m\u001b[0;34m(\u001b[0m\u001b[0mwork_item\u001b[0m\u001b[0;34m,\u001b[0m \u001b[0mbf_session\u001b[0m\u001b[0;34m,\u001b[0m \u001b[0mbackground\u001b[0m\u001b[0;34m)\u001b[0m\u001b[0;34m\u001b[0m\u001b[0m\n\u001b[0m\u001b[1;32m    174\u001b[0m     \u001b[0;32mif\u001b[0m \u001b[0mbackground\u001b[0m\u001b[0;34m:\u001b[0m\u001b[0;34m\u001b[0m\u001b[0m\n\u001b[1;32m    175\u001b[0m         \u001b[0;32mreturn\u001b[0m \u001b[0mwork_item\u001b[0m\u001b[0;34m.\u001b[0m\u001b[0mid\u001b[0m\u001b[0;34m\u001b[0m\u001b[0m\n",
      "\u001b[0;32m~/work/pybatfish/pybatfish/client/workhelper.py\u001b[0m in \u001b[0;36mexecute\u001b[0;34m(work_item, session, background)\u001b[0m\n\u001b[1;32m     95\u001b[0m     \u001b[0;31m# Submit the work item\u001b[0m\u001b[0;34m\u001b[0m\u001b[0;34m\u001b[0m\u001b[0m\n\u001b[1;32m     96\u001b[0m     response = resthelper.get_json_response(\n\u001b[0;32m---> 97\u001b[0;31m         session, CoordConsts.SVC_RSC_QUEUE_WORK, json_data)\n\u001b[0m\u001b[1;32m     98\u001b[0m \u001b[0;34m\u001b[0m\u001b[0m\n\u001b[1;32m     99\u001b[0m     \u001b[0;32mif\u001b[0m \u001b[0mbackground\u001b[0m\u001b[0;34m:\u001b[0m\u001b[0;34m\u001b[0m\u001b[0m\n",
      "\u001b[0;32m~/work/pybatfish/pybatfish/client/resthelper.py\u001b[0m in \u001b[0;36mget_json_response\u001b[0;34m(session, resource, jsonData, useHttpGet)\u001b[0m\n\u001b[1;32m     83\u001b[0m     \u001b[0;32mif\u001b[0m \u001b[0mjson_response\u001b[0m\u001b[0;34m[\u001b[0m\u001b[0;36m0\u001b[0m\u001b[0;34m]\u001b[0m \u001b[0;34m!=\u001b[0m \u001b[0mCoordConsts\u001b[0m\u001b[0;34m.\u001b[0m\u001b[0mSVC_KEY_SUCCESS\u001b[0m\u001b[0;34m:\u001b[0m\u001b[0;34m\u001b[0m\u001b[0m\n\u001b[1;32m     84\u001b[0m         raise BatfishException(\n\u001b[0;32m---> 85\u001b[0;31m             \"Coordinator returned failure: {}\".format(json_response[1]))\n\u001b[0m\u001b[1;32m     86\u001b[0m \u001b[0;34m\u001b[0m\u001b[0m\n\u001b[1;32m     87\u001b[0m     \u001b[0;32mreturn\u001b[0m \u001b[0mdict\u001b[0m\u001b[0;34m(\u001b[0m\u001b[0mjson_response\u001b[0m\u001b[0;34m[\u001b[0m\u001b[0;36m1\u001b[0m\u001b[0;34m]\u001b[0m\u001b[0;34m)\u001b[0m\u001b[0;34m\u001b[0m\u001b[0m\n",
      "\u001b[0;31mBatfishException\u001b[0m: Coordinator returned failure: Snapshot 'candidate2' does not exist"
     ]
    }
   ],
   "source": [
    "# Check if traffic other than the intended traffic has been impacted\n",
    "answer = bfq.reachfilter(src=src_prefix,\n",
    "                         dst=dst_prefix, \n",
    "                         dstPorts=dst_ports,\n",
    "                         #ipProtocols=\"tcp\",\n",
    "                         filterRegex=filter_name,\n",
    "                         complementHeaderSpace=True).answer(snapshot=CANDIDATE2_SNAPSHOT_NAME, \n",
    "                                                            reference_snapshot=INITIAL_SNAPSHOT_NAME).frame()\n",
    "display_html(answer)"
   ]
  },
  {
   "cell_type": "markdown",
   "metadata": {},
   "source": [
    "This time, we got no results. Thus, this change is completely correct: It allows all traffic that we meant to allow and has no impact of any other traffic. "
   ]
  },
  {
   "cell_type": "markdown",
   "metadata": {},
   "source": [
    "## Conclusions\n",
    "\n",
    "In this notebook, we showed how you can use Batfish to validate that a change to a complex ACL/filter is correct and only permits or denies the desired set of traffic/flows. The following 3 steps provide that guarantee:\n",
    "\n",
    "1. Check that the intended traffic does not already match the desired action (permit or deny) in the existing configuration\n",
    "2. Check that the intended traffic is matched with the desired action in the changed configuration\n",
    "3. Check that nothing but the intended traffic is impacted by the change\n",
    "\n",
    "This simple 3 step process gives you the assurance needed to be able to quickly and safely make changes to ACLs/filters in your network. For general filter analysis using Batfish, see [this notebook](Analyzing%20ACLs%20and%20Firewall%20Rules.ipynb)."
   ]
  },
  {
   "cell_type": "markdown",
   "metadata": {},
   "source": [
    "***\n",
    "### Get involved with the Batfish community\n",
    "\n",
    "To get involved and learn more, join our community on [Slack](https://join.slack.com/t/batfish-org/shared_invite/enQtMzA0Nzg2OTAzNzQ1LTUxOTJlY2YyNTVlNGQ3MTJkOTIwZTU2YjY3YzRjZWFiYzE4ODE5ODZiNjA4NGI5NTJhZmU2ZTllOTMwZDhjMzA) and [Github](https://github.com/batfish/batfish). "
   ]
  }
 ],
 "metadata": {
  "kernelspec": {
   "display_name": "Python 3",
   "language": "python",
   "name": "python3"
  },
  "language_info": {
   "codemirror_mode": {
    "name": "ipython",
    "version": 3
   },
   "file_extension": ".py",
   "mimetype": "text/x-python",
   "name": "python",
   "nbconvert_exporter": "python",
   "pygments_lexer": "ipython3",
   "version": "3.6.2"
  }
 },
 "nbformat": 4,
 "nbformat_minor": 1
}
