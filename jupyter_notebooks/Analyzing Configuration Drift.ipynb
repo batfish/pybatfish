{
 "cells": [
  {
   "cell_type": "markdown",
   "metadata": {},
   "source": [
    "## Analyzing Configuration Drift"
   ]
  },
  {
   "cell_type": "markdown",
   "metadata": {},
   "source": [
    "When debugging network issues, it is important to understand how the network configuration has changed relative to recent past or the desired golden state and to understand the impacts of those changes. A text diff for the configs is one way to do this, but it tends to be too noisy. It will output many differences that you may not care about (e.g., changes in whitespace or timestamps), and it is hard to control what is reported. Text diffs also do not tell you about the impact of change, such as which new flows will be permitted or if some BGP edges go down.\n",
    "\n",
    "Batfish parses and builds a vendor-neutral model of device configs. This model enables you to learn how two snapshots of network configuration differ exactly along the aspects you care about. The behavior modeling of Batfish also lets you understand the full impact of these changes. This notebook illustrates this capability. "
   ]
  },
  {
   "cell_type": "markdown",
   "metadata": {},
   "source": [
    "We focus on the following differences:\n",
    " 1. Some node- and interface-level configuration settings\n",
    " 1. Some settings of BGP processes and neighbors\n",
    " 1. Structures defined in device configs \n",
    " 1. Undefined references\n",
    " 1. BGP adjacencies\n",
    " 1. ACL lines with treat flows differently \n",
    "\n",
    "Simple text diffs won't be useful for anything but the first two items. The next two items require understanding the structure of the config, and the final two network behavior they induce. \n",
    "\n",
    "We picked these as examples of different types of changes that you can analyze using Batfish. You may be interested in a different aspects of your networkk, and you should be able to adapt the code below to suit your needs."
   ]
  },
  {
   "cell_type": "code",
   "execution_count": 66,
   "metadata": {},
   "outputs": [
    {
     "data": {
      "text/plain": [
       "'reference'"
      ]
     },
     "execution_count": 66,
     "metadata": {},
     "output_type": "execute_result"
    }
   ],
   "source": [
    "# Import packages and load questions\n",
    "%run startup.py\n",
    "load_questions()\n",
    "\n",
    "\n",
    "# Initialize both the snapshot and the reference that we want to use\n",
    "NETWORK_NAME = \"my_network\"\n",
    "SNAPSHOT_PATH = \"networks/drift/reference\"\n",
    "REFERENCE_PATH = \"networks/drift/snapshot\"\n",
    "\n",
    "bf_set_network(NETWORK_NAME)\n",
    "bf_init_snapshot(SNAPSHOT_PATH, name=\"snapshot\", overwrite=True)\n",
    "bf_init_snapshot(REFERENCE_PATH, name=\"reference\", overwrite=True)"
   ]
  },
  {
   "cell_type": "code",
   "execution_count": 83,
   "metadata": {},
   "outputs": [],
   "source": [
    "# Helper functions to print drift information in a readable manner\n",
    "\n",
    "def friendly_name(entity_type, row, key_columns): \n",
    "    \"\"\"\n",
    "    Returns a readable string for an entity in a Pandas row. The fields that define the entity are in key_columns.\n",
    "    \"\"\"\n",
    "    if len(key_columns) == 1:\n",
    "        # Simpler expression when the entity is defined by only one column\n",
    "        return \"{}({})\".format(entity_type, row[column_names[0]])\n",
    "    else:\n",
    "        return \"{}({})\".format(entity_type, \",\".join([f\"{key}={row[key]}\" for key in key_columns]))\n",
    "    \n",
    "\n",
    "def diff_properties(diff_frame, entity_type, key_columns, property_columns):\n",
    "    if len(diff_frame) == 0:\n",
    "        print(f\"{entity_type} properties are identical across the two snapshot\")\n",
    "        return\n",
    "    for index,row in diff_frame.iterrows():\n",
    "        entity_name = friendly_name(entity_type, row, key_columns)\n",
    "        if (row['KeyPresence'] == \"Only in Reference\"):\n",
    "            print(f\"{entity_name} is present only in the reference snapshot\")\n",
    "        elif (row['KeyPresence'] == \"Only in Snapshot\"):\n",
    "            print(f\"{entity_name} is not present in the reference snapshot\")\n",
    "        else:\n",
    "            print(f\"Properties differ for {entity_name}\")\n",
    "            for setting in property_columns:\n",
    "                snapshot_setting = row[f\"Snapshot_{setting}\"]\n",
    "                reference_setting = row[f\"Reference_{setting}\"]\n",
    "                print(f\"  {reference_setting} -> {snapshot_setting}\")\n",
    "\n",
    "\n",
    "def diff_frames(snapshot_frame, reference_frame, entity_type):\n",
    "    combined = pd.merge(snapshot_frame, reference_frame, how=\"outer\", indicator=True)\n",
    "    found_difference = False\n",
    "    for index, row in combined.iterrows():\n",
    "        entity_name = friendly_name(entity_type, row, set(combined.columns) - {\"_merge\"})\n",
    "        if row[\"_merge\"] == \"both\":\n",
    "            next\n",
    "        elif row[\"_merge\"] == \"left_only\":\n",
    "            print(f\"Appears only in snapshot: {entity_name}\")\n",
    "            found_difference = True\n",
    "        else:\n",
    "            print(f\"Appears only in reference snapshot: {entity_name}\")\n",
    "            found_difference = True\n",
    "    if not found_difference:\n",
    "        print(f\"{entity_type}s are identical across the two snapshots\")"
   ]
  },
  {
   "cell_type": "markdown",
   "metadata": {},
   "source": [
    "### Node-level properties\n",
    "\n",
    "We first check if any node-level configuration setting has changed. We focus on three example settings: 1) TACACS servers, 2) Domain name, and 3) VRFs configured on the device. The complete list of node settings extracted by Batfish are [here](https://batfish.readthedocs.io/en/latest/notebooks/configProperties.html#Node-Properties).\n",
    "\n",
    "We will compute the settings difference between the snapshots using differential questions. Batfish makes its models available via a [set of questions](https://batfish.readthedocs.io/en/latest/questions.html). When questions are run in differential mode, it outputs how the answer differ across two snapshots. "
   ]
  },
  {
   "cell_type": "code",
   "execution_count": 87,
   "metadata": {},
   "outputs": [
    {
     "data": {
      "text/html": [
       "<div>\n",
       "<style scoped>\n",
       "    .dataframe tbody tr th:only-of-type {\n",
       "        vertical-align: middle;\n",
       "    }\n",
       "\n",
       "    .dataframe tbody tr th {\n",
       "        vertical-align: top;\n",
       "    }\n",
       "\n",
       "    .dataframe thead th {\n",
       "        text-align: right;\n",
       "    }\n",
       "</style>\n",
       "<table border=\"1\" class=\"dataframe tex2jax_ignore\">\n",
       "  <thead>\n",
       "    <tr style=\"text-align: right;\">\n",
       "      <th></th>\n",
       "      <th>Node</th>\n",
       "      <th>KeyPresence</th>\n",
       "      <th>Snapshot_Domain_Name</th>\n",
       "      <th>Reference_Domain_Name</th>\n",
       "      <th>Snapshot_TACACS_Servers</th>\n",
       "      <th>Reference_TACACS_Servers</th>\n",
       "      <th>Snapshot_VRFs</th>\n",
       "      <th>Reference_VRFs</th>\n",
       "    </tr>\n",
       "  </thead>\n",
       "  <tbody>\n",
       "  </tbody>\n",
       "</table>\n",
       "</div>"
      ],
      "text/plain": [
       "Empty DataFrame\n",
       "Columns: [Node, KeyPresence, Snapshot_Domain_Name, Reference_Domain_Name, Snapshot_TACACS_Servers, Reference_TACACS_Servers, Snapshot_VRFs, Reference_VRFs]\n",
       "Index: []"
      ]
     },
     "metadata": {},
     "output_type": "display_data"
    }
   ],
   "source": [
    "# Properties of interest\n",
    "NODE_PROPERTIES = [\"TACACS_Servers\" , \"Domain_Name\", \"VRFs\"]\n",
    "\n",
    "# Compute the difference across two snapshots and return a Pandas DataFrame\n",
    "node_diff = bfq.nodeProperties(properties=\",\".join(NODE_PROPERTIES)).answer(snapshot=\"snapshot\", \n",
    "                                                                            reference_snapshot=\"reference\").frame()\n",
    "\n",
    "# Print the first two rows so we can see the DataFrame schema\n",
    "show(node_diff.head())"
   ]
  },
  {
   "cell_type": "code",
   "execution_count": 73,
   "metadata": {},
   "outputs": [
    {
     "name": "stdout",
     "output_type": "stream",
     "text": [
      "Node properties are identical across the two interfaces\n"
     ]
    }
   ],
   "source": [
    "# Print readable messages on the differences\n",
    "diff_properties(node_diff, \"Node\", [\"Node\"], NODE_PROPERTIES)"
   ]
  },
  {
   "cell_type": "markdown",
   "metadata": {},
   "source": [
    "### Interface-level properties\n",
    "\n",
    "We next check if any interface-level settings have changed. We again focus on three example settings: 1) Whether the interface is active, 2) Description, and 3) Primary IP address. The complete list of interface settings extracted by Batfish are [here](https://batfish.readthedocs.io/en/latest/notebooks/configProperties.html#Interface-Properties).\n"
   ]
  },
  {
   "cell_type": "code",
   "execution_count": 75,
   "metadata": {},
   "outputs": [
    {
     "name": "stdout",
     "output_type": "stream",
     "text": [
      "Interface properties are identical across the two interfaces\n"
     ]
    }
   ],
   "source": [
    "# Properties of interest\n",
    "INTERFACE_PROPERTIES = ['Active', 'Description', 'Primary_Address']\n",
    "\n",
    "# Compute the difference across two snapshots and return a Pandas DataFrame\n",
    "interface_diff = bfq.interfaceProperties(properties=\",\".join(INTERFACE_PROPERTIES)).answer(snapshot=\"snapshot\", \n",
    "                                                                               reference_snapshot=\"reference\").frame()\n",
    "\n",
    "# Print readable messages on the differences\n",
    "diff_properties(interface_diff, \"Interface\", [\"Interface\"], INTERFACE_PROPERTIES)"
   ]
  },
  {
   "cell_type": "markdown",
   "metadata": {},
   "source": [
    "### BGP process and peer properties\n",
    "\n",
    "We check BGP processes and peers next. For BGP processes, we will focus on the set of neighbors defined, and for BGP neighbors we will focus on four example properties: 1) Remote AS, 2) Description, 3) Import policies applies to the peer, and 4) Export policies applied to the peer. The complete list of BGP process properties are [here](https://batfish.readthedocs.io/en/latest/notebooks/configProperties.html#BGP-Process-Configuration) and those of BGP peers are [here](https://batfish.readthedocs.io/en/latest/notebooks/configProperties.html#BGP-Peer-Configuration).\n"
   ]
  },
  {
   "cell_type": "code",
   "execution_count": 77,
   "metadata": {},
   "outputs": [
    {
     "name": "stdout",
     "output_type": "stream",
     "text": [
      "BgpProcess properties are identical across the two interfaces\n",
      "BgpPeer properties are identical across the two interfaces\n"
     ]
    }
   ],
   "source": [
    "# Properties of interest\n",
    "BGP_PROCESS_PROPERTIES = ['Neighbors']\n",
    "BGP_PEER_PROPERTIES = ['Remote_AS', 'Description', 'Import_Policy', 'Export_Policy']\n",
    "\n",
    "# Compute the difference across two snapshots and return a Pandas DataFrame\n",
    "bgp_process_diff = bfq.bgpProcessConfiguration(properties=\",\".join(BGP_PROCESS_PROPERTIES)).answer(snapshot=\"snapshot\", \n",
    "                                                                                    reference_snapshot=\"reference\").frame()\n",
    "\n",
    "bgp_peer_diff = bfq.bgpPeerConfiguration(properties=\",\".join(BGP_PEER_PROPERTIES)).answer(snapshot=\"snapshot\", \n",
    "                                                                                    reference_snapshot=\"reference\").frame()\n",
    "\n",
    "#Print readable messages on the differences\n",
    "diff_properties(bgp_process_diff, \"BgpProcess\", [\"Node\", \"VRF\", \"Router_ID\"], BGP_PROCESS_PROPERTIES)\n",
    "diff_properties(bgp_peer_diff, \"BgpPeer\", [\"Node\", \"VRF\", \"Local_Interface\", \"Remote_IP\"], BGP_PEER_PROPERTIES)"
   ]
  },
  {
   "cell_type": "markdown",
   "metadata": {},
   "source": [
    "### Structures defined in configs\n",
    "\n"
   ]
  },
  {
   "cell_type": "code",
   "execution_count": 86,
   "metadata": {
    "scrolled": true
   },
   "outputs": [
    {
     "data": {
      "text/html": [
       "<style  type=\"text/css\" >\n",
       "#T_pybfstylerow0_col0,#T_pybfstylerow0_col1,#T_pybfstylerow0_col2,#T_pybfstylerow1_col0,#T_pybfstylerow1_col1,#T_pybfstylerow1_col2,#T_pybfstylerow2_col0,#T_pybfstylerow2_col1,#T_pybfstylerow2_col2,#T_pybfstylerow3_col0,#T_pybfstylerow3_col1,#T_pybfstylerow3_col2,#T_pybfstylerow4_col0,#T_pybfstylerow4_col1,#T_pybfstylerow4_col2{\n",
       "            text-align:  left;\n",
       "            vertical-align:  top;\n",
       "        }</style><table id=\"T_pybfstyle\"  class=\"tex2jax_ignore\"><thead>    <tr>        <th class=\"blank level0\" ></th>        <th class=\"col_heading level0 col0\" >Structure_Type</th>        <th class=\"col_heading level0 col1\" >Structure_Name</th>        <th class=\"col_heading level0 col2\" >Source_Lines</th>    </tr></thead><tbody>\n",
       "                <tr>\n",
       "                        <th id=\"T_pybfstylelevel0_row0\" class=\"row_heading level0 row0\" >0</th>\n",
       "                        <td id=\"T_pybfstylerow0_col0\" class=\"data row0 col0\" >bgp peer-group</td>\n",
       "                        <td id=\"T_pybfstylerow0_col1\" class=\"data row0 col1\" >as2</td>\n",
       "                        <td id=\"T_pybfstylerow0_col2\" class=\"data row0 col2\" >FileLines(filename=&#x27;configs/as1border1.cfg&#x27;, lines=[81])</td>\n",
       "            </tr>\n",
       "            <tr>\n",
       "                        <th id=\"T_pybfstylelevel0_row1\" class=\"row_heading level0 row1\" >1</th>\n",
       "                        <td id=\"T_pybfstylerow1_col0\" class=\"data row1 col0\" >interface</td>\n",
       "                        <td id=\"T_pybfstylerow1_col1\" class=\"data row1 col1\" >GigabitEthernet1/0</td>\n",
       "                        <td id=\"T_pybfstylerow1_col2\" class=\"data row1 col2\" >FileLines(filename=&#x27;configs/as1core1.cfg&#x27;, lines=[69, 70, 71])</td>\n",
       "            </tr>\n",
       "            <tr>\n",
       "                        <th id=\"T_pybfstylelevel0_row2\" class=\"row_heading level0 row2\" >2</th>\n",
       "                        <td id=\"T_pybfstylerow2_col0\" class=\"data row2 col0\" >extended ipv4 access-list</td>\n",
       "                        <td id=\"T_pybfstylerow2_col1\" class=\"data row2 col1\" >103</td>\n",
       "                        <td id=\"T_pybfstylerow2_col2\" class=\"data row2 col2\" >FileLines(filename=&#x27;configs/as1border2.cfg&#x27;, lines=[140])</td>\n",
       "            </tr>\n",
       "            <tr>\n",
       "                        <th id=\"T_pybfstylelevel0_row3\" class=\"row_heading level0 row3\" >3</th>\n",
       "                        <td id=\"T_pybfstylerow3_col0\" class=\"data row3 col0\" >ipv4 prefix-list</td>\n",
       "                        <td id=\"T_pybfstylerow3_col1\" class=\"data row3 col1\" >as4-prefixes</td>\n",
       "                        <td id=\"T_pybfstylerow3_col2\" class=\"data row3 col2\" >FileLines(filename=&#x27;configs/as1border2.cfg&#x27;, lines=[132])</td>\n",
       "            </tr>\n",
       "            <tr>\n",
       "                        <th id=\"T_pybfstylelevel0_row4\" class=\"row_heading level0 row4\" >4</th>\n",
       "                        <td id=\"T_pybfstylerow4_col0\" class=\"data row4 col0\" >extended ipv4 access-list</td>\n",
       "                        <td id=\"T_pybfstylerow4_col1\" class=\"data row4 col1\" >101</td>\n",
       "                        <td id=\"T_pybfstylerow4_col2\" class=\"data row4 col2\" >FileLines(filename=&#x27;configs/as2border2.cfg&#x27;, lines=[140, 141])</td>\n",
       "            </tr>\n",
       "    </tbody></table>"
      ],
      "text/plain": [
       "              Structure_Type      Structure_Name  \\\n",
       "0             bgp peer-group                 as2   \n",
       "1                  interface  GigabitEthernet1/0   \n",
       "2  extended ipv4 access-list                 103   \n",
       "3           ipv4 prefix-list        as4-prefixes   \n",
       "4  extended ipv4 access-list                 101   \n",
       "\n",
       "                        Source_Lines  \n",
       "0        configs/as1border1.cfg:[81]  \n",
       "1  configs/as1core1.cfg:[69, 70, 71]  \n",
       "2       configs/as1border2.cfg:[140]  \n",
       "3       configs/as1border2.cfg:[132]  \n",
       "4  configs/as2border2.cfg:[140, 141]  "
      ]
     },
     "metadata": {},
     "output_type": "display_data"
    }
   ],
   "source": [
    "# Extract defined structures from both snapshots as a Pandas DataFrame\n",
    "snapshot_structures = bfq.definedStructures().answer(snapshot=\"snapshot\").frame()\n",
    "reference_structures = bfq.definedStructures().answer(snapshot=\"reference\").frame()\n",
    "\n",
    "# Show me what the schema looks like\n",
    "show(snapshot_structures.head())"
   ]
  },
  {
   "cell_type": "code",
   "execution_count": 84,
   "metadata": {},
   "outputs": [
    {
     "name": "stdout",
     "output_type": "stream",
     "text": [
      "DefinedStructures are identical across the two snapshots\n"
     ]
    }
   ],
   "source": [
    "# Remove the line number information since we don't care about where exactly the structure was defined\n",
    "snapshot_structures_without_lines = snapshot_structures[['Structure_Type', 'Structure_Name']].assign(\n",
    "    File_Name=snapshot_structures[\"Source_Lines\"].map(lambda x: x.filename))\n",
    "reference_structures_without_lines = reference_structures[['Structure_Type', 'Structure_Name']].assign(\n",
    "    File_Name=reference_structures[\"Source_Lines\"].map(lambda x: x.filename))\n",
    "\n",
    "# Print a readable message on the differences\n",
    "diff_frames(snapshot_structures_without_lines, \n",
    "            reference_structures_without_lines, \n",
    "            \"DefinedStructure\")"
   ]
  },
  {
   "cell_type": "markdown",
   "metadata": {},
   "source": [
    "### Undefined references"
   ]
  },
  {
   "cell_type": "code",
   "execution_count": 88,
   "metadata": {
    "scrolled": true
   },
   "outputs": [
    {
     "data": {
      "text/html": [
       "<style  type=\"text/css\" >\n",
       "#T_pybfstylerow0_col0,#T_pybfstylerow0_col1,#T_pybfstylerow0_col2,#T_pybfstylerow0_col3,#T_pybfstylerow0_col4{\n",
       "            text-align:  left;\n",
       "            vertical-align:  top;\n",
       "        }</style><table id=\"T_pybfstyle\"  class=\"tex2jax_ignore\"><thead>    <tr>        <th class=\"blank level0\" ></th>        <th class=\"col_heading level0 col0\" >File_Name</th>        <th class=\"col_heading level0 col1\" >Struct_Type</th>        <th class=\"col_heading level0 col2\" >Ref_Name</th>        <th class=\"col_heading level0 col3\" >Context</th>        <th class=\"col_heading level0 col4\" >Lines</th>    </tr></thead><tbody>\n",
       "                <tr>\n",
       "                        <th id=\"T_pybfstylelevel0_row0\" class=\"row_heading level0 row0\" >0</th>\n",
       "                        <td id=\"T_pybfstylerow0_col0\" class=\"data row0 col0\" >configs/as2core2.cfg</td>\n",
       "                        <td id=\"T_pybfstylerow0_col1\" class=\"data row0 col1\" >route-map</td>\n",
       "                        <td id=\"T_pybfstylerow0_col2\" class=\"data row0 col2\" >filter-bogons</td>\n",
       "                        <td id=\"T_pybfstylerow0_col3\" class=\"data row0 col3\" >bgp inbound route-map</td>\n",
       "                        <td id=\"T_pybfstylerow0_col4\" class=\"data row0 col4\" >FileLines(filename=&#x27;configs/as2core2.cfg&#x27;, lines=[110])</td>\n",
       "            </tr>\n",
       "    </tbody></table>"
      ],
      "text/plain": [
       "              File_Name Struct_Type       Ref_Name                Context  \\\n",
       "0  configs/as2core2.cfg   route-map  filter-bogons  bgp inbound route-map   \n",
       "\n",
       "                        Lines  \n",
       "0  configs/as2core2.cfg:[110]  "
      ]
     },
     "metadata": {},
     "output_type": "display_data"
    }
   ],
   "source": [
    "# Extract undefined references from both snapshots as a Pandas DataFrame\n",
    "snapshot_undefined_references=bfq.undefinedReferences().answer(snapshot=\"snapshot\").frame()\n",
    "reference_undefined_references= bfq.undefinedReferences().answer(snapshot=\"reference\").frame()\n",
    "\n",
    "# Show me what the schema looks like\n",
    "show(snapshot_undefined_references.head())"
   ]
  },
  {
   "cell_type": "code",
   "execution_count": 90,
   "metadata": {},
   "outputs": [
    {
     "name": "stdout",
     "output_type": "stream",
     "text": [
      "UndefinedRefeferences are identical across the two snapshots\n"
     ]
    }
   ],
   "source": [
    "# Remove the line number information since we don't care about where it was referenced\n",
    "snapshot_undefined_references_without_lines = snapshot_undefined_references.drop(columns=['Lines'])\n",
    "reference_undefined_references_without_lines = reference_undefined_references.drop(columns=['Lines'])\n",
    "\n",
    "# Print a readable message on the differences\n",
    "diff_frames(snapshot_undefined_references_without_lines, \n",
    "            reference_undefined_references_without_lines, \n",
    "            \"UndefinedRefeference\")"
   ]
  },
  {
   "cell_type": "markdown",
   "metadata": {},
   "source": [
    "### BGP adjacencies\n"
   ]
  },
  {
   "cell_type": "code",
   "execution_count": 92,
   "metadata": {
    "scrolled": true
   },
   "outputs": [
    {
     "data": {
      "text/html": [
       "<style  type=\"text/css\" >\n",
       "#T_pybfstylerow0_col0,#T_pybfstylerow0_col1,#T_pybfstylerow0_col2,#T_pybfstylerow0_col3,#T_pybfstylerow0_col4,#T_pybfstylerow0_col5,#T_pybfstylerow0_col6,#T_pybfstylerow0_col7,#T_pybfstylerow1_col0,#T_pybfstylerow1_col1,#T_pybfstylerow1_col2,#T_pybfstylerow1_col3,#T_pybfstylerow1_col4,#T_pybfstylerow1_col5,#T_pybfstylerow1_col6,#T_pybfstylerow1_col7,#T_pybfstylerow2_col0,#T_pybfstylerow2_col1,#T_pybfstylerow2_col2,#T_pybfstylerow2_col3,#T_pybfstylerow2_col4,#T_pybfstylerow2_col5,#T_pybfstylerow2_col6,#T_pybfstylerow2_col7,#T_pybfstylerow3_col0,#T_pybfstylerow3_col1,#T_pybfstylerow3_col2,#T_pybfstylerow3_col3,#T_pybfstylerow3_col4,#T_pybfstylerow3_col5,#T_pybfstylerow3_col6,#T_pybfstylerow3_col7,#T_pybfstylerow4_col0,#T_pybfstylerow4_col1,#T_pybfstylerow4_col2,#T_pybfstylerow4_col3,#T_pybfstylerow4_col4,#T_pybfstylerow4_col5,#T_pybfstylerow4_col6,#T_pybfstylerow4_col7{\n",
       "            text-align:  left;\n",
       "            vertical-align:  top;\n",
       "        }</style><table id=\"T_pybfstyle\"  class=\"tex2jax_ignore\"><thead>    <tr>        <th class=\"blank level0\" ></th>        <th class=\"col_heading level0 col0\" >Node</th>        <th class=\"col_heading level0 col1\" >IP</th>        <th class=\"col_heading level0 col2\" >Interface</th>        <th class=\"col_heading level0 col3\" >AS_Number</th>        <th class=\"col_heading level0 col4\" >Remote_Node</th>        <th class=\"col_heading level0 col5\" >Remote_IP</th>        <th class=\"col_heading level0 col6\" >Remote_Interface</th>        <th class=\"col_heading level0 col7\" >Remote_AS_Number</th>    </tr></thead><tbody>\n",
       "                <tr>\n",
       "                        <th id=\"T_pybfstylelevel0_row0\" class=\"row_heading level0 row0\" >0</th>\n",
       "                        <td id=\"T_pybfstylerow0_col0\" class=\"data row0 col0\" >as1border2</td>\n",
       "                        <td id=\"T_pybfstylerow0_col1\" class=\"data row0 col1\" >1.2.2.2</td>\n",
       "                        <td id=\"T_pybfstylerow0_col2\" class=\"data row0 col2\" >None</td>\n",
       "                        <td id=\"T_pybfstylerow0_col3\" class=\"data row0 col3\" >1</td>\n",
       "                        <td id=\"T_pybfstylerow0_col4\" class=\"data row0 col4\" >as1core1</td>\n",
       "                        <td id=\"T_pybfstylerow0_col5\" class=\"data row0 col5\" >1.10.1.1</td>\n",
       "                        <td id=\"T_pybfstylerow0_col6\" class=\"data row0 col6\" >None</td>\n",
       "                        <td id=\"T_pybfstylerow0_col7\" class=\"data row0 col7\" >1</td>\n",
       "            </tr>\n",
       "            <tr>\n",
       "                        <th id=\"T_pybfstylelevel0_row1\" class=\"row_heading level0 row1\" >1</th>\n",
       "                        <td id=\"T_pybfstylerow1_col0\" class=\"data row1 col0\" >as1core1</td>\n",
       "                        <td id=\"T_pybfstylerow1_col1\" class=\"data row1 col1\" >1.10.1.1</td>\n",
       "                        <td id=\"T_pybfstylerow1_col2\" class=\"data row1 col2\" >None</td>\n",
       "                        <td id=\"T_pybfstylerow1_col3\" class=\"data row1 col3\" >1</td>\n",
       "                        <td id=\"T_pybfstylerow1_col4\" class=\"data row1 col4\" >as1border1</td>\n",
       "                        <td id=\"T_pybfstylerow1_col5\" class=\"data row1 col5\" >1.1.1.1</td>\n",
       "                        <td id=\"T_pybfstylerow1_col6\" class=\"data row1 col6\" >None</td>\n",
       "                        <td id=\"T_pybfstylerow1_col7\" class=\"data row1 col7\" >1</td>\n",
       "            </tr>\n",
       "            <tr>\n",
       "                        <th id=\"T_pybfstylelevel0_row2\" class=\"row_heading level0 row2\" >2</th>\n",
       "                        <td id=\"T_pybfstylerow2_col0\" class=\"data row2 col0\" >as2dist2</td>\n",
       "                        <td id=\"T_pybfstylerow2_col1\" class=\"data row2 col1\" >2.1.3.2</td>\n",
       "                        <td id=\"T_pybfstylerow2_col2\" class=\"data row2 col2\" >None</td>\n",
       "                        <td id=\"T_pybfstylerow2_col3\" class=\"data row2 col3\" >2</td>\n",
       "                        <td id=\"T_pybfstylerow2_col4\" class=\"data row2 col4\" >as2core2</td>\n",
       "                        <td id=\"T_pybfstylerow2_col5\" class=\"data row2 col5\" >2.1.2.2</td>\n",
       "                        <td id=\"T_pybfstylerow2_col6\" class=\"data row2 col6\" >None</td>\n",
       "                        <td id=\"T_pybfstylerow2_col7\" class=\"data row2 col7\" >2</td>\n",
       "            </tr>\n",
       "            <tr>\n",
       "                        <th id=\"T_pybfstylelevel0_row3\" class=\"row_heading level0 row3\" >3</th>\n",
       "                        <td id=\"T_pybfstylerow3_col0\" class=\"data row3 col0\" >as3border2</td>\n",
       "                        <td id=\"T_pybfstylerow3_col1\" class=\"data row3 col1\" >3.2.2.2</td>\n",
       "                        <td id=\"T_pybfstylerow3_col2\" class=\"data row3 col2\" >None</td>\n",
       "                        <td id=\"T_pybfstylerow3_col3\" class=\"data row3 col3\" >3</td>\n",
       "                        <td id=\"T_pybfstylerow3_col4\" class=\"data row3 col4\" >as3core1</td>\n",
       "                        <td id=\"T_pybfstylerow3_col5\" class=\"data row3 col5\" >3.10.1.1</td>\n",
       "                        <td id=\"T_pybfstylerow3_col6\" class=\"data row3 col6\" >None</td>\n",
       "                        <td id=\"T_pybfstylerow3_col7\" class=\"data row3 col7\" >3</td>\n",
       "            </tr>\n",
       "            <tr>\n",
       "                        <th id=\"T_pybfstylelevel0_row4\" class=\"row_heading level0 row4\" >4</th>\n",
       "                        <td id=\"T_pybfstylerow4_col0\" class=\"data row4 col0\" >as3border1</td>\n",
       "                        <td id=\"T_pybfstylerow4_col1\" class=\"data row4 col1\" >10.23.21.3</td>\n",
       "                        <td id=\"T_pybfstylerow4_col2\" class=\"data row4 col2\" >None</td>\n",
       "                        <td id=\"T_pybfstylerow4_col3\" class=\"data row4 col3\" >3</td>\n",
       "                        <td id=\"T_pybfstylerow4_col4\" class=\"data row4 col4\" >as2border2</td>\n",
       "                        <td id=\"T_pybfstylerow4_col5\" class=\"data row4 col5\" >10.23.21.2</td>\n",
       "                        <td id=\"T_pybfstylerow4_col6\" class=\"data row4 col6\" >None</td>\n",
       "                        <td id=\"T_pybfstylerow4_col7\" class=\"data row4 col7\" >2</td>\n",
       "            </tr>\n",
       "    </tbody></table>"
      ],
      "text/plain": [
       "         Node          IP Interface AS_Number Remote_Node   Remote_IP  \\\n",
       "0  as1border2     1.2.2.2      None         1    as1core1    1.10.1.1   \n",
       "1    as1core1    1.10.1.1      None         1  as1border1     1.1.1.1   \n",
       "2    as2dist2     2.1.3.2      None         2    as2core2     2.1.2.2   \n",
       "3  as3border2     3.2.2.2      None         3    as3core1    3.10.1.1   \n",
       "4  as3border1  10.23.21.3      None         3  as2border2  10.23.21.2   \n",
       "\n",
       "  Remote_Interface Remote_AS_Number  \n",
       "0             None                1  \n",
       "1             None                1  \n",
       "2             None                2  \n",
       "3             None                3  \n",
       "4             None                2  "
      ]
     },
     "metadata": {},
     "output_type": "display_data"
    }
   ],
   "source": [
    "# Get the edges from both snapshots as Pandas DataFrames\n",
    "snapshot_bgp_edges = bfq.bgpEdges().answer(snapshot=\"snapshot\").frame()\n",
    "reference_bgp_edges = bfq.bgpEdges().answer(snapshot=\"reference\").frame()\n",
    "\n",
    "# Show me the schema\n",
    "show(snapshot_bgp_edges.head())"
   ]
  },
  {
   "cell_type": "code",
   "execution_count": 94,
   "metadata": {},
   "outputs": [
    {
     "name": "stdout",
     "output_type": "stream",
     "text": [
      "BgpEdges are identical across the two snapshots\n"
     ]
    }
   ],
   "source": [
    "# Only retain the Node and Remote_Node columns, and keep only one row across both directions\n",
    "snapshot_bgp_edges_nodes = snapshot_bgp_edges[snapshot_bgp_edges['Node'] < snapshot_bgp_edges['Remote_Node']][['Node', 'Remote_Node']]\n",
    "reference_bgp_edges_nodes = reference_bgp_edges[reference_bgp_edges['Node'] < reference_bgp_edges['Remote_Node']][['Node', 'Remote_Node']]\n",
    "\n",
    "# Print a readable message on the differences\n",
    "diff_frames(snapshot_bgp_edges, \n",
    "            reference_bgp_edges, \n",
    "            \"BgpEdge\")"
   ]
  },
  {
   "cell_type": "markdown",
   "metadata": {},
   "source": [
    "### Compare packet filters\n",
    "\n",
    "Batfish offers two natively differential questions whose answers explain the behavioral differences for packet filters (ACLs, firewall rules) and end-to-end reachability. We will use both types of differential queries in the analysis below."
   ]
  },
  {
   "cell_type": "code",
   "execution_count": 95,
   "metadata": {},
   "outputs": [
    {
     "data": {
      "text/html": [
       "<div>\n",
       "<style scoped>\n",
       "    .dataframe tbody tr th:only-of-type {\n",
       "        vertical-align: middle;\n",
       "    }\n",
       "\n",
       "    .dataframe tbody tr th {\n",
       "        vertical-align: top;\n",
       "    }\n",
       "\n",
       "    .dataframe thead th {\n",
       "        text-align: right;\n",
       "    }\n",
       "</style>\n",
       "<table border=\"1\" class=\"dataframe tex2jax_ignore\">\n",
       "  <thead>\n",
       "    <tr style=\"text-align: right;\">\n",
       "      <th></th>\n",
       "      <th>Node</th>\n",
       "      <th>Filter_Name</th>\n",
       "      <th>Line_Index</th>\n",
       "      <th>Line_Content</th>\n",
       "      <th>Line_Action</th>\n",
       "      <th>Reference_Line_Index</th>\n",
       "      <th>Reference_Line_Content</th>\n",
       "    </tr>\n",
       "  </thead>\n",
       "  <tbody>\n",
       "  </tbody>\n",
       "</table>\n",
       "</div>"
      ],
      "text/plain": [
       "Empty DataFrame\n",
       "Columns: [Node, Filter_Name, Line_Index, Line_Content, Line_Action, Reference_Line_Index, Reference_Line_Content]\n",
       "Index: []"
      ]
     },
     "metadata": {},
     "output_type": "display_data"
    }
   ],
   "source": [
    "compare_filters = bfq.compareFilters().answer(snapshot='snapshot',reference_snapshot='reference').frame()\n",
    "show(compare_filters)"
   ]
  }
 ],
 "metadata": {
  "kernelspec": {
   "display_name": "Python 3",
   "language": "python",
   "name": "python3"
  },
  "language_info": {
   "codemirror_mode": {
    "name": "ipython",
    "version": 3
   },
   "file_extension": ".py",
   "mimetype": "text/x-python",
   "name": "python",
   "nbconvert_exporter": "python",
   "pygments_lexer": "ipython3",
   "version": "3.7.7"
  }
 },
 "nbformat": 4,
 "nbformat_minor": 4
}
