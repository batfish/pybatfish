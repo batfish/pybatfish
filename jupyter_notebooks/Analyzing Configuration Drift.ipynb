{
 "cells": [
  {
   "cell_type": "markdown",
   "metadata": {},
   "source": [
    "## Analyzing Configuration Drift"
   ]
  },
  {
   "cell_type": "markdown",
   "metadata": {},
   "source": [
    "When debugging network issues, it is important to understand how the network configuration has changed relative to recent past or the desired golden state and to understand the impacts of those changes. A text diff for the configs is one way to do this, but it tends to be too noisy. It will output many differences that you may not care about (e.g., changes in whitespace or timestamps), and it is hard to control what is reported. Text diffs also do not tell you about the impact of change, such as which new flows will be permitted or if some BGP edges go down.\n",
    "\n",
    "Batfish parses and builds a vendor-neutral model of device configs. This model enables you to learn how two snapshots of network configuration differ exactly along the aspects you care about. The behavior modeling of Batfish also lets you understand the full impact of these changes. This notebook illustrates this capability. "
   ]
  },
  {
   "cell_type": "markdown",
   "metadata": {},
   "source": [
    "We focus on the following differences:\n",
    " 1. Some node- and interface-level configuration settings\n",
    " 1. Some settings of BGP processes and neighbors\n",
    " 1. Structures defined in device configs \n",
    " 1. Undefined references\n",
    " 1. BGP adjacencies\n",
    " 1. ACL lines with treat flows differently \n",
    "\n",
    "Simple text diffs won't be useful for anything but the first two items. The next two items require understanding the structure of the config, and the final two network behavior they induce. \n",
    "\n",
    "We picked these as examples of different types of changes that you can analyze using Batfish. You may be interested in a different aspects of your networkk, and you should be able to adapt the code below to suit your needs."
   ]
  },
  {
   "cell_type": "code",
   "execution_count": 1,
   "metadata": {
    "scrolled": false
   },
   "outputs": [
    {
     "name": "stdout",
     "output_type": "stream",
     "text": [
      "diff -ur networks/drift/reference/configs/as1border1.cfg networks/drift/snapshot/configs/as1border1.cfg\r\n",
      "--- networks/drift/reference/configs/as1border1.cfg\t2021-03-19 20:32:35.000000000 -0700\r\n",
      "+++ networks/drift/snapshot/configs/as1border1.cfg\t2021-03-30 14:32:04.000000000 -0700\r\n",
      "@@ -21,7 +21,7 @@\r\n",
      " !\r\n",
      " !\r\n",
      " no ip domain lookup\r\n",
      "-ip domain name lab.local\r\n",
      "+ip domain name lab.localp\r\n",
      " no ipv6 cef\r\n",
      " !\r\n",
      " !\r\n",
      "diff -ur networks/drift/reference/configs/as1border2.cfg networks/drift/snapshot/configs/as1border2.cfg\r\n",
      "--- networks/drift/reference/configs/as1border2.cfg\t2021-03-19 20:32:35.000000000 -0700\r\n",
      "+++ networks/drift/snapshot/configs/as1border2.cfg\t2021-03-30 14:56:28.000000000 -0700\r\n",
      "@@ -11,7 +11,7 @@\r\n",
      " !\r\n",
      " !\r\n",
      " ntp server 18.18.18.18\r\n",
      "-ntp server 23.23.23.23\r\n",
      "+ntp server 18.18.18.19\r\n",
      " !\r\n",
      " !\r\n",
      " no aaa new-model\r\n",
      "diff -ur networks/drift/reference/configs/as2border2.cfg networks/drift/snapshot/configs/as2border2.cfg\r\n",
      "--- networks/drift/reference/configs/as2border2.cfg\t2021-03-19 20:32:35.000000000 -0700\r\n",
      "+++ networks/drift/snapshot/configs/as2border2.cfg\t2021-03-30 14:43:49.000000000 -0700\r\n",
      "@@ -59,13 +59,14 @@\r\n",
      "  duplex auto\r\n",
      " !\r\n",
      " interface GigabitEthernet0/0\r\n",
      "- ip address 10.23.21.2 255.255.255.0\r\n",
      "- ip access-group OUTSIDE_TO_INSIDE in\r\n",
      "- ip access-group INSIDE_TO_AS3 out\r\n",
      "- media-type gbic\r\n",
      "- speed 1000\r\n",
      "- duplex full\r\n",
      "- negotiation auto\r\n",
      "+ shutdown\r\n",
      "+! ip address 10.23.21.2 255.255.255.0\r\n",
      "+! ip access-group OUTSIDE_TO_INSIDE in\r\n",
      "+! ip access-group INSIDE_TO_AS3 out\r\n",
      "+! media-type gbic\r\n",
      "+! speed 1000\r\n",
      "+! duplex full\r\n",
      "+! negotiation auto\r\n",
      " !\r\n",
      " interface GigabitEthernet1/0\r\n",
      "  ip address 2.12.22.1 255.255.255.0\r\n",
      "diff -ur networks/drift/reference/configs/as2core1.cfg networks/drift/snapshot/configs/as2core1.cfg\r\n",
      "--- networks/drift/reference/configs/as2core1.cfg\t2021-03-19 20:32:35.000000000 -0700\r\n",
      "+++ networks/drift/snapshot/configs/as2core1.cfg\t2021-03-30 16:53:45.000000000 -0700\r\n",
      "@@ -60,6 +60,7 @@\r\n",
      "  duplex auto\r\n",
      " !\r\n",
      " interface GigabitEthernet0/0\r\n",
      "+ description \"To as2border1 GigabitEthernet1/0\"\r\n",
      "  ip address 2.12.11.2 255.255.255.0\r\n",
      "  media-type gbic\r\n",
      "  speed 1000\r\n",
      "@@ -67,6 +68,7 @@\r\n",
      "  negotiation auto\r\n",
      " !\r\n",
      " interface GigabitEthernet1/0\r\n",
      "+ description \"To as2border2 GigabitEthernet2/0\"\r\n",
      "  ip address 2.12.21.2 255.255.255.0\r\n",
      "  negotiation auto\r\n",
      " !\r\n",
      "diff -ur networks/drift/reference/configs/as2dept1.cfg networks/drift/snapshot/configs/as2dept1.cfg\r\n",
      "--- networks/drift/reference/configs/as2dept1.cfg\t2021-03-19 20:32:35.000000000 -0700\r\n",
      "+++ networks/drift/snapshot/configs/as2dept1.cfg\t2021-03-30 17:18:38.000000000 -0700\r\n",
      "@@ -84,6 +84,7 @@\r\n",
      "  neighbor as2 remote-as 2\r\n",
      "  neighbor 2.34.101.3 peer-group as2\r\n",
      "  neighbor 2.34.201.3 peer-group as2\r\n",
      "+ neighbor 2.34.209.3 peer-group as2\r\n",
      "  !\r\n",
      "  address-family ipv4\r\n",
      "   bgp dampening\r\n",
      "@@ -96,7 +97,6 @@\r\n",
      "   neighbor as2 route-map dept_to_as2 out\r\n",
      "   neighbor 2.34.101.3 activate\r\n",
      "   neighbor 2.34.201.3 activate\r\n",
      "-  maximum-paths eibgp 5\r\n",
      "  exit-address-family\r\n",
      " !\r\n",
      " ip forward-protocol nd\r\n",
      "diff -ur networks/drift/reference/configs/as2dist1.cfg networks/drift/snapshot/configs/as2dist1.cfg\r\n",
      "--- networks/drift/reference/configs/as2dist1.cfg\t2021-03-19 20:32:35.000000000 -0700\r\n",
      "+++ networks/drift/snapshot/configs/as2dist1.cfg\t2021-03-30 17:45:12.000000000 -0700\r\n",
      "@@ -82,13 +82,13 @@\r\n",
      "  bgp log-neighbor-changes\r\n",
      "  neighbor as2 peer-group\r\n",
      "  neighbor as2 remote-as 2\r\n",
      "- neighbor dept peer-group\r\n",
      "- neighbor dept remote-as 65001\r\n",
      "+ neighbor dept2 peer-group\r\n",
      "+ neighbor dept2 remote-as 65001\r\n",
      "  neighbor 2.1.2.1 peer-group as2\r\n",
      "  neighbor 2.1.2.1 update-source Loopback0\r\n",
      "  neighbor 2.1.2.2 peer-group as2\r\n",
      "  neighbor 2.1.2.2 update-source Loopback0\r\n",
      "- neighbor 2.34.101.4 peer-group dept\r\n",
      "+ neighbor 2.34.101.4 peer-group dept2\r\n",
      "  !\r\n",
      "  address-family ipv4\r\n",
      "   bgp dampening\r\n",
      "@@ -113,6 +113,7 @@\r\n",
      " no ip http server\r\n",
      " no ip http secure-server\r\n",
      " !\r\n",
      "+access-list 102 permit tcp host 2.128.0.0 host 255.255.0.0\r\n",
      " access-list 102 permit ip host 2.128.0.0 host 255.255.0.0\r\n",
      " access-list 105 permit ip host 1.0.1.0 host 255.255.255.0\r\n",
      " access-list 105 permit ip host 1.0.2.0 host 255.255.255.0\r\n",
      "@@ -128,6 +129,9 @@\r\n",
      "  match community dept_community\r\n",
      "  set local-preference 350\r\n",
      " !\r\n",
      "+route-map dept_to_as2dist permit 200\r\n",
      "+ match community dept_community_new\r\n",
      "+ set local-preference 350\r\n",
      " !\r\n",
      " !\r\n",
      " control-plane\r\n",
      "diff -ur networks/drift/reference/configs/as2dist2.cfg networks/drift/snapshot/configs/as2dist2.cfg\r\n",
      "--- networks/drift/reference/configs/as2dist2.cfg\t2021-03-19 20:32:35.000000000 -0700\r\n",
      "+++ networks/drift/snapshot/configs/as2dist2.cfg\t2021-03-30 17:27:12.000000000 -0700\r\n",
      "@@ -118,6 +118,7 @@\r\n",
      " access-list 105 permit ip host 1.0.2.0 host 255.255.255.0\r\n",
      " access-list 105 permit ip host 3.0.1.0 host 255.255.255.0\r\n",
      " access-list 105 permit ip host 3.0.2.0 host 255.255.255.0\r\n",
      "+access-list 105 permit ip host 3.0.3.0 host 255.255.255.0\r\n",
      " !\r\n",
      " route-map as2dist_to_dept permit 100\r\n",
      "  match ip address 105\r\n",
      "diff -ur networks/drift/reference/configs/as3border1.cfg networks/drift/snapshot/configs/as3border1.cfg\r\n",
      "--- networks/drift/reference/configs/as3border1.cfg\t2021-03-19 20:32:35.000000000 -0700\r\n",
      "+++ networks/drift/snapshot/configs/as3border1.cfg\t2021-03-30 16:35:47.000000000 -0700\r\n",
      "@@ -120,6 +120,10 @@\r\n",
      " !\r\n",
      " ip prefix-list default_list seq 5 permit 0.0.0.0/0\r\n",
      " !\r\n",
      "+ip prefix-list bogons seq 5 permit 10.0.0.0/8\r\n",
      "+ip prefix-list bogons seq 10 permit 172.16.0.0/16\r\n",
      "+ip prefix-list bogons seq 15 permit 192.168.0.0/16\r\n",
      "+! \r\n",
      " ip prefix-list inbound_route_filter seq 5 deny 3.0.0.0/8 le 32\r\n",
      " ip prefix-list inbound_route_filter seq 10 permit 0.0.0.0/0 le 32\r\n",
      " access-list 101 permit ip host 1.0.1.0 host 255.255.255.0\r\n"
     ]
    }
   ],
   "source": [
    "!diff -ur networks/drift/reference networks/drift/snapshot"
   ]
  },
  {
   "cell_type": "code",
   "execution_count": 2,
   "metadata": {},
   "outputs": [
    {
     "data": {
      "text/plain": [
       "'reference'"
      ]
     },
     "execution_count": 2,
     "metadata": {},
     "output_type": "execute_result"
    }
   ],
   "source": [
    "# Import packages and load questions\n",
    "%run startup.py\n",
    "load_questions()\n",
    "\n",
    "\n",
    "# Initialize both the snapshot and the reference that we want to use\n",
    "NETWORK_NAME = \"my_network\"\n",
    "SNAPSHOT_PATH = \"networks/drift/snapshot\"\n",
    "REFERENCE_PATH = \"networks/drift/reference\"\n",
    "\n",
    "bf_set_network(NETWORK_NAME)\n",
    "bf_init_snapshot(SNAPSHOT_PATH, name=\"snapshot\", overwrite=True)\n",
    "bf_init_snapshot(REFERENCE_PATH, name=\"reference\", overwrite=True)"
   ]
  },
  {
   "cell_type": "code",
   "execution_count": 3,
   "metadata": {},
   "outputs": [],
   "source": [
    "# Helper functions to print drift information in a readable manner\n",
    "\n",
    "def friendly_name(entity_type, row, key_columns): \n",
    "    \"\"\"\n",
    "    Returns a readable string as key, value pairs for an entity in a Pandas row. \n",
    "    \"\"\"\n",
    "    return \",\".join([f\"{key}={row[key]}\" for key in key_columns])\n",
    "    \n",
    "\n",
    "def diff_properties(diff_frame, entity_type, key_columns, property_columns):\n",
    "    if len(diff_frame) == 0:\n",
    "        print(f\"{entity_type} properties are identical across the two snapshot\")\n",
    "        return\n",
    "    snapshot_only = diff_frame[diff_frame[\"KeyPresence\"] == \"Only in Snapshot\"]\n",
    "    reference_only = diff_frame[diff_frame[\"KeyPresence\"] == \"Only in Reference\"]\n",
    "    both = diff_frame[diff_frame[\"KeyPresence\"] == \"In both\"]\n",
    "    if len(snapshot_only) > 0:\n",
    "        print(f\"{entity_type}s only in snapshot\")        \n",
    "        for index, row in snapshot_only.iterrows():\n",
    "            print(f\"    {friendly_name(entity_type, row, key_columns)}\")\n",
    "    if len(reference_only) > 0:\n",
    "        print(f\"{entity_type}s only in reference\")        \n",
    "        for index, row in reference_only.iterrows():\n",
    "            print(f\"    {friendly_name(entity_type, row, key_columns)}\")\n",
    "    for index,row in both.iterrows():\n",
    "        print(\"Differences for {}\".format(friendly_name(entity_type, row, key_columns)))\n",
    "        for property in property_columns:\n",
    "            snapshot_setting = row[f\"Snapshot_{property}\"]\n",
    "            reference_setting = row[f\"Reference_{property}\"]\n",
    "            if snapshot_setting != reference_setting:\n",
    "                print(f\"    {property}: {reference_setting} -> {snapshot_setting}\")\n",
    "\n",
    "\n",
    "def diff_frames(snapshot_frame, reference_frame, entity_type):\n",
    "    combined = pd.merge(snapshot_frame, reference_frame, how=\"outer\", indicator=True)\n",
    "    snapshot_only = combined[combined[\"_merge\"] == \"left_only\"]\n",
    "    reference_only = combined[combined[\"_merge\"] == \"right_only\"]\n",
    "    if len(snapshot_only) > 0:\n",
    "        print(f\"{entity_type}s only in snapshot\")        \n",
    "        for index, row in snapshot_only.iterrows():\n",
    "            print(\"    \", friendly_name(entity_type, row, set(combined.columns) - {\"_merge\"}))\n",
    "    if len(reference_only) > 0:\n",
    "        print(f\"{entity_type}s only in reference\")        \n",
    "        for index, row in reference_only.iterrows():\n",
    "            print(\"    \", friendly_name(entity_type, row, set(combined.columns) - {\"_merge\"}))\n",
    "    if len(snapshot_only) == 0 and len(reference_only) == 0:\n",
    "        print(f\"{entity_type}s are identical across the two snapshots\")"
   ]
  },
  {
   "cell_type": "markdown",
   "metadata": {},
   "source": [
    "### Node-level properties\n",
    "\n",
    "We first check if any node-level configuration setting has changed. We focus on three example settings: 1) NTP servers, 2) Domain name, and 3) VRFs configured on the device. The complete list of node settings extracted by Batfish are [here](https://batfish.readthedocs.io/en/latest/notebooks/configProperties.html#Node-Properties).\n",
    "\n",
    "We will compute the settings difference between the snapshots using differential questions. Batfish makes its models available via a [set of questions](https://batfish.readthedocs.io/en/latest/questions.html). When questions are run in differential mode, it outputs how the answer differ across two snapshots. "
   ]
  },
  {
   "cell_type": "code",
   "execution_count": 4,
   "metadata": {},
   "outputs": [
    {
     "data": {
      "text/html": [
       "<style  type=\"text/css\" >\n",
       "#T_pybfstylerow0_col0,#T_pybfstylerow0_col1,#T_pybfstylerow0_col2,#T_pybfstylerow0_col3,#T_pybfstylerow0_col4,#T_pybfstylerow0_col5,#T_pybfstylerow0_col6,#T_pybfstylerow0_col7,#T_pybfstylerow1_col0,#T_pybfstylerow1_col1,#T_pybfstylerow1_col2,#T_pybfstylerow1_col3,#T_pybfstylerow1_col4,#T_pybfstylerow1_col5,#T_pybfstylerow1_col6,#T_pybfstylerow1_col7{\n",
       "            text-align:  left;\n",
       "            vertical-align:  top;\n",
       "        }</style><table id=\"T_pybfstyle\"  class=\"tex2jax_ignore\"><thead>    <tr>        <th class=\"blank level0\" ></th>        <th class=\"col_heading level0 col0\" >Node</th>        <th class=\"col_heading level0 col1\" >KeyPresence</th>        <th class=\"col_heading level0 col2\" >Snapshot_Domain_Name</th>        <th class=\"col_heading level0 col3\" >Reference_Domain_Name</th>        <th class=\"col_heading level0 col4\" >Snapshot_NTP_Servers</th>        <th class=\"col_heading level0 col5\" >Reference_NTP_Servers</th>        <th class=\"col_heading level0 col6\" >Snapshot_VRFs</th>        <th class=\"col_heading level0 col7\" >Reference_VRFs</th>    </tr></thead><tbody>\n",
       "                <tr>\n",
       "                        <th id=\"T_pybfstylelevel0_row0\" class=\"row_heading level0 row0\" >0</th>\n",
       "                        <td id=\"T_pybfstylerow0_col0\" class=\"data row0 col0\" >as1border1</td>\n",
       "                        <td id=\"T_pybfstylerow0_col1\" class=\"data row0 col1\" >In both</td>\n",
       "                        <td id=\"T_pybfstylerow0_col2\" class=\"data row0 col2\" >lab.localp</td>\n",
       "                        <td id=\"T_pybfstylerow0_col3\" class=\"data row0 col3\" >lab.local</td>\n",
       "                        <td id=\"T_pybfstylerow0_col4\" class=\"data row0 col4\" ></td>\n",
       "                        <td id=\"T_pybfstylerow0_col5\" class=\"data row0 col5\" ></td>\n",
       "                        <td id=\"T_pybfstylerow0_col6\" class=\"data row0 col6\" >default</td>\n",
       "                        <td id=\"T_pybfstylerow0_col7\" class=\"data row0 col7\" >default</td>\n",
       "            </tr>\n",
       "            <tr>\n",
       "                        <th id=\"T_pybfstylelevel0_row1\" class=\"row_heading level0 row1\" >1</th>\n",
       "                        <td id=\"T_pybfstylerow1_col0\" class=\"data row1 col0\" >as1border2</td>\n",
       "                        <td id=\"T_pybfstylerow1_col1\" class=\"data row1 col1\" >In both</td>\n",
       "                        <td id=\"T_pybfstylerow1_col2\" class=\"data row1 col2\" >lab.local</td>\n",
       "                        <td id=\"T_pybfstylerow1_col3\" class=\"data row1 col3\" >lab.local</td>\n",
       "                        <td id=\"T_pybfstylerow1_col4\" class=\"data row1 col4\" >18.18.18.19<br><br>18.18.18.18</td>\n",
       "                        <td id=\"T_pybfstylerow1_col5\" class=\"data row1 col5\" >23.23.23.23<br><br>18.18.18.18</td>\n",
       "                        <td id=\"T_pybfstylerow1_col6\" class=\"data row1 col6\" >default</td>\n",
       "                        <td id=\"T_pybfstylerow1_col7\" class=\"data row1 col7\" >default</td>\n",
       "            </tr>\n",
       "    </tbody></table>"
      ],
      "text/plain": [
       "         Node KeyPresence Snapshot_Domain_Name Reference_Domain_Name  \\\n",
       "0  as1border1     In both           lab.localp             lab.local   \n",
       "1  as1border2     In both            lab.local             lab.local   \n",
       "\n",
       "             Snapshot_NTP_Servers           Reference_NTP_Servers  \\\n",
       "0                              []                              []   \n",
       "1  ['18.18.18.19', '18.18.18.18']  ['23.23.23.23', '18.18.18.18']   \n",
       "\n",
       "  Snapshot_VRFs Reference_VRFs  \n",
       "0   ['default']    ['default']  \n",
       "1   ['default']    ['default']  "
      ]
     },
     "metadata": {},
     "output_type": "display_data"
    }
   ],
   "source": [
    "# Properties of interest\n",
    "NODE_PROPERTIES = [\"NTP_Servers\" , \"Domain_Name\", \"VRFs\"]\n",
    "\n",
    "# Compute the difference across two snapshots and return a Pandas DataFrame\n",
    "node_diff = bfq.nodeProperties(properties=\",\".join(NODE_PROPERTIES)).answer(snapshot=\"snapshot\", \n",
    "                                                                            reference_snapshot=\"reference\").frame()\n",
    "\n",
    "# Print the first two rows so we can see the DataFrame schema\n",
    "show(node_diff.head())"
   ]
  },
  {
   "cell_type": "code",
   "execution_count": 5,
   "metadata": {},
   "outputs": [
    {
     "name": "stdout",
     "output_type": "stream",
     "text": [
      "Differences for Node=as1border1\n",
      "    Domain_Name: lab.local -> lab.localp\n",
      "Differences for Node=as1border2\n",
      "    NTP_Servers: ['23.23.23.23', '18.18.18.18'] -> ['18.18.18.19', '18.18.18.18']\n"
     ]
    }
   ],
   "source": [
    "# Print readable messages on the differences\n",
    "diff_properties(node_diff, \"Node\", [\"Node\"], NODE_PROPERTIES)"
   ]
  },
  {
   "cell_type": "markdown",
   "metadata": {},
   "source": [
    "### Interface-level properties\n",
    "\n",
    "We next check if any interface-level settings have changed. We again focus on three example settings: 1) Whether the interface is active, 2) Description, and 3) Primary IP address. The complete list of interface settings extracted by Batfish are [here](https://batfish.readthedocs.io/en/latest/notebooks/configProperties.html#Interface-Properties).\n"
   ]
  },
  {
   "cell_type": "code",
   "execution_count": 6,
   "metadata": {},
   "outputs": [
    {
     "name": "stdout",
     "output_type": "stream",
     "text": [
      "Differences for Interface=as2border2[GigabitEthernet0/0]\n",
      "    Active: True -> False\n",
      "    Primary_Address: 10.23.21.2/24 -> None\n",
      "Differences for Interface=as2core1[GigabitEthernet0/0]\n",
      "    Description: None -> \"To as2border1 GigabitEthernet1/0\"\n",
      "Differences for Interface=as2core1[GigabitEthernet1/0]\n",
      "    Description: None -> \"To as2border2 GigabitEthernet2/0\"\n"
     ]
    }
   ],
   "source": [
    "# Properties of interest\n",
    "INTERFACE_PROPERTIES = ['Active', 'Description', 'Primary_Address']\n",
    "\n",
    "# Compute the difference across two snapshots and return a Pandas DataFrame\n",
    "interface_diff = bfq.interfaceProperties(properties=\",\".join(INTERFACE_PROPERTIES)).answer(snapshot=\"snapshot\", \n",
    "                                                                               reference_snapshot=\"reference\").frame()\n",
    "\n",
    "# Print readable messages on the differences\n",
    "diff_properties(interface_diff, \"Interface\", [\"Interface\"], INTERFACE_PROPERTIES)"
   ]
  },
  {
   "cell_type": "markdown",
   "metadata": {},
   "source": [
    "### BGP process and peer properties\n",
    "\n",
    "We check BGP processes and peers next. For BGP processes, we will focus on the set of neighbors defined, and for BGP neighbors we will focus on four example properties: 1) Remote AS, 2) Description, 3) Import policies applies to the peer, and 4) Export policies applied to the peer. The complete list of BGP process properties are [here](https://batfish.readthedocs.io/en/latest/notebooks/configProperties.html#BGP-Process-Configuration) and those of BGP peers are [here](https://batfish.readthedocs.io/en/latest/notebooks/configProperties.html#BGP-Peer-Configuration).\n"
   ]
  },
  {
   "cell_type": "code",
   "execution_count": 7,
   "metadata": {},
   "outputs": [
    {
     "name": "stdout",
     "output_type": "stream",
     "text": [
      "Differences for Node=as2dept1,VRF=default,Router_ID=2.1.4.1\n",
      "    Multipath_EBGP: True -> False\n",
      "\n",
      "BgpPeers only in snapshot\n",
      "    Node=as2dept1,VRF=default,Local_Interface=None,Remote_IP=2.34.209.3\n",
      "Differences for Node=as2dist1,VRF=default,Local_Interface=None,Remote_IP=2.34.101.4\n",
      "    Peer_Group: dept -> dept2\n",
      "    Import_Policy: ['dept_to_as2dist'] -> []\n",
      "    Export_Policy: ['as2dist_to_dept'] -> []\n"
     ]
    }
   ],
   "source": [
    "# Properties of interest\n",
    "BGP_PROCESS_PROPERTIES = ['Multipath_EBGP']\n",
    "BGP_PEER_PROPERTIES = ['Remote_AS', 'Description', 'Peer_Group', 'Import_Policy', 'Export_Policy']\n",
    "\n",
    "# Compute the difference across two snapshots and return a Pandas DataFrame\n",
    "bgp_process_diff = bfq.bgpProcessConfiguration(properties=\",\".join(BGP_PROCESS_PROPERTIES)).answer(snapshot=\"snapshot\", \n",
    "                                                                                    reference_snapshot=\"reference\").frame()\n",
    "\n",
    "bgp_peer_diff = bfq.bgpPeerConfiguration(properties=\",\".join(BGP_PEER_PROPERTIES)).answer(snapshot=\"snapshot\", \n",
    "                                                                                    reference_snapshot=\"reference\").frame()\n",
    "\n",
    "#Print readable messages on the differences\n",
    "diff_properties(bgp_process_diff, \"BgpProcess\", [\"Node\", \"VRF\", \"Router_ID\"], BGP_PROCESS_PROPERTIES)\n",
    "print()\n",
    "diff_properties(bgp_peer_diff, \"BgpPeer\", [\"Node\", \"VRF\", \"Local_Interface\", \"Remote_IP\"], BGP_PEER_PROPERTIES)"
   ]
  },
  {
   "cell_type": "markdown",
   "metadata": {},
   "source": [
    "### Structures defined in configs\n",
    "\n"
   ]
  },
  {
   "cell_type": "code",
   "execution_count": 8,
   "metadata": {
    "scrolled": true
   },
   "outputs": [
    {
     "data": {
      "text/html": [
       "<style  type=\"text/css\" >\n",
       "#T_pybfstylerow0_col0,#T_pybfstylerow0_col1,#T_pybfstylerow0_col2,#T_pybfstylerow1_col0,#T_pybfstylerow1_col1,#T_pybfstylerow1_col2,#T_pybfstylerow2_col0,#T_pybfstylerow2_col1,#T_pybfstylerow2_col2,#T_pybfstylerow3_col0,#T_pybfstylerow3_col1,#T_pybfstylerow3_col2,#T_pybfstylerow4_col0,#T_pybfstylerow4_col1,#T_pybfstylerow4_col2{\n",
       "            text-align:  left;\n",
       "            vertical-align:  top;\n",
       "        }</style><table id=\"T_pybfstyle\"  class=\"tex2jax_ignore\"><thead>    <tr>        <th class=\"blank level0\" ></th>        <th class=\"col_heading level0 col0\" >Structure_Type</th>        <th class=\"col_heading level0 col1\" >Structure_Name</th>        <th class=\"col_heading level0 col2\" >Source_Lines</th>    </tr></thead><tbody>\n",
       "                <tr>\n",
       "                        <th id=\"T_pybfstylelevel0_row0\" class=\"row_heading level0 row0\" >0</th>\n",
       "                        <td id=\"T_pybfstylerow0_col0\" class=\"data row0 col0\" >bgp peer-group</td>\n",
       "                        <td id=\"T_pybfstylerow0_col1\" class=\"data row0 col1\" >as2</td>\n",
       "                        <td id=\"T_pybfstylerow0_col2\" class=\"data row0 col2\" >FileLines(filename=&#x27;configs/as1border1.cfg&#x27;, lines=[81])</td>\n",
       "            </tr>\n",
       "            <tr>\n",
       "                        <th id=\"T_pybfstylelevel0_row1\" class=\"row_heading level0 row1\" >1</th>\n",
       "                        <td id=\"T_pybfstylerow1_col0\" class=\"data row1 col0\" >interface</td>\n",
       "                        <td id=\"T_pybfstylerow1_col1\" class=\"data row1 col1\" >GigabitEthernet1/0</td>\n",
       "                        <td id=\"T_pybfstylerow1_col2\" class=\"data row1 col2\" >FileLines(filename=&#x27;configs/as1core1.cfg&#x27;, lines=[69, 70, 71])</td>\n",
       "            </tr>\n",
       "            <tr>\n",
       "                        <th id=\"T_pybfstylelevel0_row2\" class=\"row_heading level0 row2\" >2</th>\n",
       "                        <td id=\"T_pybfstylerow2_col0\" class=\"data row2 col0\" >extended ipv4 access-list</td>\n",
       "                        <td id=\"T_pybfstylerow2_col1\" class=\"data row2 col1\" >OUTSIDE_TO_INSIDE</td>\n",
       "                        <td id=\"T_pybfstylerow2_col2\" class=\"data row2 col2\" >FileLines(filename=&#x27;configs/as2border2.cfg&#x27;, lines=[132, 133, 134])</td>\n",
       "            </tr>\n",
       "            <tr>\n",
       "                        <th id=\"T_pybfstylelevel0_row3\" class=\"row_heading level0 row3\" >3</th>\n",
       "                        <td id=\"T_pybfstylerow3_col0\" class=\"data row3 col0\" >route-map</td>\n",
       "                        <td id=\"T_pybfstylerow3_col1\" class=\"data row3 col1\" >as2dist_to_dept</td>\n",
       "                        <td id=\"T_pybfstylerow3_col2\" class=\"data row3 col2\" >FileLines(filename=&#x27;configs/as2dist1.cfg&#x27;, lines=[123, 124, 125, 126])</td>\n",
       "            </tr>\n",
       "            <tr>\n",
       "                        <th id=\"T_pybfstylelevel0_row4\" class=\"row_heading level0 row4\" >4</th>\n",
       "                        <td id=\"T_pybfstylerow4_col0\" class=\"data row4 col0\" >extended ipv4 access-list</td>\n",
       "                        <td id=\"T_pybfstylerow4_col1\" class=\"data row4 col1\" >103</td>\n",
       "                        <td id=\"T_pybfstylerow4_col2\" class=\"data row4 col2\" >FileLines(filename=&#x27;configs/as1border2.cfg&#x27;, lines=[140])</td>\n",
       "            </tr>\n",
       "    </tbody></table>"
      ],
      "text/plain": [
       "              Structure_Type      Structure_Name  \\\n",
       "0             bgp peer-group                 as2   \n",
       "1                  interface  GigabitEthernet1/0   \n",
       "2  extended ipv4 access-list   OUTSIDE_TO_INSIDE   \n",
       "3                  route-map     as2dist_to_dept   \n",
       "4  extended ipv4 access-list                 103   \n",
       "\n",
       "                                Source_Lines  \n",
       "0                configs/as1border1.cfg:[81]  \n",
       "1          configs/as1core1.cfg:[69, 70, 71]  \n",
       "2     configs/as2border2.cfg:[132, 133, 134]  \n",
       "3  configs/as2dist1.cfg:[123, 124, 125, 126]  \n",
       "4               configs/as1border2.cfg:[140]  "
      ]
     },
     "metadata": {},
     "output_type": "display_data"
    }
   ],
   "source": [
    "# Extract defined structures from both snapshots as a Pandas DataFrame\n",
    "snapshot_structures = bfq.definedStructures().answer(snapshot=\"snapshot\").frame()\n",
    "reference_structures = bfq.definedStructures().answer(snapshot=\"reference\").frame()\n",
    "\n",
    "# Show me what the schema looks like\n",
    "show(snapshot_structures.head())"
   ]
  },
  {
   "cell_type": "code",
   "execution_count": 9,
   "metadata": {},
   "outputs": [
    {
     "name": "stdout",
     "output_type": "stream",
     "text": [
      "DefinedStructures only in snapshot\n",
      "     File_Name=configs/as2dist1.cfg,Structure_Name=dept2,Structure_Type=bgp peer-group\n",
      "     File_Name=configs/as3border1.cfg,Structure_Name=bogons,Structure_Type=ipv4 prefix-list\n",
      "DefinedStructures only in reference\n",
      "     File_Name=configs/as2dist1.cfg,Structure_Name=dept,Structure_Type=bgp peer-group\n"
     ]
    }
   ],
   "source": [
    "# Remove the line number information since we don't care about where exactly the structure was defined\n",
    "snapshot_structures_without_lines = snapshot_structures[['Structure_Type', 'Structure_Name']].assign(\n",
    "    File_Name=snapshot_structures[\"Source_Lines\"].map(lambda x: x.filename))\n",
    "reference_structures_without_lines = reference_structures[['Structure_Type', 'Structure_Name']].assign(\n",
    "    File_Name=reference_structures[\"Source_Lines\"].map(lambda x: x.filename))\n",
    "\n",
    "# Print a readable message on the differences\n",
    "diff_frames(snapshot_structures_without_lines, \n",
    "            reference_structures_without_lines, \n",
    "            \"DefinedStructure\")"
   ]
  },
  {
   "cell_type": "markdown",
   "metadata": {},
   "source": [
    "### Undefined references"
   ]
  },
  {
   "cell_type": "code",
   "execution_count": 10,
   "metadata": {
    "scrolled": true
   },
   "outputs": [
    {
     "data": {
      "text/html": [
       "<style  type=\"text/css\" >\n",
       "#T_pybfstylerow0_col0,#T_pybfstylerow0_col1,#T_pybfstylerow0_col2,#T_pybfstylerow0_col3,#T_pybfstylerow0_col4,#T_pybfstylerow1_col0,#T_pybfstylerow1_col1,#T_pybfstylerow1_col2,#T_pybfstylerow1_col3,#T_pybfstylerow1_col4,#T_pybfstylerow2_col0,#T_pybfstylerow2_col1,#T_pybfstylerow2_col2,#T_pybfstylerow2_col3,#T_pybfstylerow2_col4{\n",
       "            text-align:  left;\n",
       "            vertical-align:  top;\n",
       "        }</style><table id=\"T_pybfstyle\"  class=\"tex2jax_ignore\"><thead>    <tr>        <th class=\"blank level0\" ></th>        <th class=\"col_heading level0 col0\" >File_Name</th>        <th class=\"col_heading level0 col1\" >Struct_Type</th>        <th class=\"col_heading level0 col2\" >Ref_Name</th>        <th class=\"col_heading level0 col3\" >Context</th>        <th class=\"col_heading level0 col4\" >Lines</th>    </tr></thead><tbody>\n",
       "                <tr>\n",
       "                        <th id=\"T_pybfstylelevel0_row0\" class=\"row_heading level0 row0\" >0</th>\n",
       "                        <td id=\"T_pybfstylerow0_col0\" class=\"data row0 col0\" >configs/as2core2.cfg</td>\n",
       "                        <td id=\"T_pybfstylerow0_col1\" class=\"data row0 col1\" >route-map</td>\n",
       "                        <td id=\"T_pybfstylerow0_col2\" class=\"data row0 col2\" >filter-bogons</td>\n",
       "                        <td id=\"T_pybfstylerow0_col3\" class=\"data row0 col3\" >bgp inbound route-map</td>\n",
       "                        <td id=\"T_pybfstylerow0_col4\" class=\"data row0 col4\" >FileLines(filename=&#x27;configs/as2core2.cfg&#x27;, lines=[110])</td>\n",
       "            </tr>\n",
       "            <tr>\n",
       "                        <th id=\"T_pybfstylelevel0_row1\" class=\"row_heading level0 row1\" >1</th>\n",
       "                        <td id=\"T_pybfstylerow1_col0\" class=\"data row1 col0\" >configs/as2dist1.cfg</td>\n",
       "                        <td id=\"T_pybfstylerow1_col1\" class=\"data row1 col1\" >community-list</td>\n",
       "                        <td id=\"T_pybfstylerow1_col2\" class=\"data row1 col2\" >dept_community_new</td>\n",
       "                        <td id=\"T_pybfstylerow1_col3\" class=\"data row1 col3\" >route-map match community-list</td>\n",
       "                        <td id=\"T_pybfstylerow1_col4\" class=\"data row1 col4\" >FileLines(filename=&#x27;configs/as2dist1.cfg&#x27;, lines=[133])</td>\n",
       "            </tr>\n",
       "            <tr>\n",
       "                        <th id=\"T_pybfstylelevel0_row2\" class=\"row_heading level0 row2\" >2</th>\n",
       "                        <td id=\"T_pybfstylerow2_col0\" class=\"data row2 col0\" >configs/as2dist1.cfg</td>\n",
       "                        <td id=\"T_pybfstylerow2_col1\" class=\"data row2 col1\" >undeclared bgp peer-group</td>\n",
       "                        <td id=\"T_pybfstylerow2_col2\" class=\"data row2 col2\" >dept</td>\n",
       "                        <td id=\"T_pybfstylerow2_col3\" class=\"data row2 col3\" >bgp peer-group referenced before defined</td>\n",
       "                        <td id=\"T_pybfstylerow2_col4\" class=\"data row2 col4\" >FileLines(filename=&#x27;configs/as2dist1.cfg&#x27;, lines=[99, 100, 101])</td>\n",
       "            </tr>\n",
       "    </tbody></table>"
      ],
      "text/plain": [
       "              File_Name                Struct_Type            Ref_Name  \\\n",
       "0  configs/as2core2.cfg                  route-map       filter-bogons   \n",
       "1  configs/as2dist1.cfg             community-list  dept_community_new   \n",
       "2  configs/as2dist1.cfg  undeclared bgp peer-group                dept   \n",
       "\n",
       "                                    Context  \\\n",
       "0                     bgp inbound route-map   \n",
       "1            route-map match community-list   \n",
       "2  bgp peer-group referenced before defined   \n",
       "\n",
       "                                 Lines  \n",
       "0           configs/as2core2.cfg:[110]  \n",
       "1           configs/as2dist1.cfg:[133]  \n",
       "2  configs/as2dist1.cfg:[99, 100, 101]  "
      ]
     },
     "metadata": {},
     "output_type": "display_data"
    }
   ],
   "source": [
    "# Extract undefined references from both snapshots as a Pandas DataFrame\n",
    "snapshot_undefined_references=bfq.undefinedReferences().answer(snapshot=\"snapshot\").frame()\n",
    "reference_undefined_references= bfq.undefinedReferences().answer(snapshot=\"reference\").frame()\n",
    "\n",
    "# Show me what the schema looks like\n",
    "show(snapshot_undefined_references.head())"
   ]
  },
  {
   "cell_type": "code",
   "execution_count": 11,
   "metadata": {},
   "outputs": [
    {
     "name": "stdout",
     "output_type": "stream",
     "text": [
      "UndefinedRefeferences only in snapshot\n",
      "     Ref_Name=dept_community_new,File_Name=configs/as2dist1.cfg,Struct_Type=community-list,Context=route-map match community-list\n",
      "     Ref_Name=dept,File_Name=configs/as2dist1.cfg,Struct_Type=undeclared bgp peer-group,Context=bgp peer-group referenced before defined\n"
     ]
    }
   ],
   "source": [
    "# Remove the line number information since we don't care about where it was referenced\n",
    "snapshot_undefined_references_without_lines = snapshot_undefined_references.drop(columns=['Lines'])\n",
    "reference_undefined_references_without_lines = reference_undefined_references.drop(columns=['Lines'])\n",
    "\n",
    "# Print a readable message on the differences\n",
    "diff_frames(snapshot_undefined_references_without_lines, \n",
    "            reference_undefined_references_without_lines, \n",
    "            \"UndefinedRefeference\")"
   ]
  },
  {
   "cell_type": "markdown",
   "metadata": {},
   "source": [
    "### BGP adjacencies\n"
   ]
  },
  {
   "cell_type": "code",
   "execution_count": 12,
   "metadata": {
    "scrolled": true
   },
   "outputs": [
    {
     "data": {
      "text/html": [
       "<style  type=\"text/css\" >\n",
       "#T_pybfstylerow0_col0,#T_pybfstylerow0_col1,#T_pybfstylerow0_col2,#T_pybfstylerow0_col3,#T_pybfstylerow0_col4,#T_pybfstylerow0_col5,#T_pybfstylerow0_col6,#T_pybfstylerow0_col7,#T_pybfstylerow1_col0,#T_pybfstylerow1_col1,#T_pybfstylerow1_col2,#T_pybfstylerow1_col3,#T_pybfstylerow1_col4,#T_pybfstylerow1_col5,#T_pybfstylerow1_col6,#T_pybfstylerow1_col7,#T_pybfstylerow2_col0,#T_pybfstylerow2_col1,#T_pybfstylerow2_col2,#T_pybfstylerow2_col3,#T_pybfstylerow2_col4,#T_pybfstylerow2_col5,#T_pybfstylerow2_col6,#T_pybfstylerow2_col7,#T_pybfstylerow3_col0,#T_pybfstylerow3_col1,#T_pybfstylerow3_col2,#T_pybfstylerow3_col3,#T_pybfstylerow3_col4,#T_pybfstylerow3_col5,#T_pybfstylerow3_col6,#T_pybfstylerow3_col7,#T_pybfstylerow4_col0,#T_pybfstylerow4_col1,#T_pybfstylerow4_col2,#T_pybfstylerow4_col3,#T_pybfstylerow4_col4,#T_pybfstylerow4_col5,#T_pybfstylerow4_col6,#T_pybfstylerow4_col7{\n",
       "            text-align:  left;\n",
       "            vertical-align:  top;\n",
       "        }</style><table id=\"T_pybfstyle\"  class=\"tex2jax_ignore\"><thead>    <tr>        <th class=\"blank level0\" ></th>        <th class=\"col_heading level0 col0\" >Node</th>        <th class=\"col_heading level0 col1\" >IP</th>        <th class=\"col_heading level0 col2\" >Interface</th>        <th class=\"col_heading level0 col3\" >AS_Number</th>        <th class=\"col_heading level0 col4\" >Remote_Node</th>        <th class=\"col_heading level0 col5\" >Remote_IP</th>        <th class=\"col_heading level0 col6\" >Remote_Interface</th>        <th class=\"col_heading level0 col7\" >Remote_AS_Number</th>    </tr></thead><tbody>\n",
       "                <tr>\n",
       "                        <th id=\"T_pybfstylelevel0_row0\" class=\"row_heading level0 row0\" >0</th>\n",
       "                        <td id=\"T_pybfstylerow0_col0\" class=\"data row0 col0\" >as1border2</td>\n",
       "                        <td id=\"T_pybfstylerow0_col1\" class=\"data row0 col1\" >1.2.2.2</td>\n",
       "                        <td id=\"T_pybfstylerow0_col2\" class=\"data row0 col2\" >None</td>\n",
       "                        <td id=\"T_pybfstylerow0_col3\" class=\"data row0 col3\" >1</td>\n",
       "                        <td id=\"T_pybfstylerow0_col4\" class=\"data row0 col4\" >as1core1</td>\n",
       "                        <td id=\"T_pybfstylerow0_col5\" class=\"data row0 col5\" >1.10.1.1</td>\n",
       "                        <td id=\"T_pybfstylerow0_col6\" class=\"data row0 col6\" >None</td>\n",
       "                        <td id=\"T_pybfstylerow0_col7\" class=\"data row0 col7\" >1</td>\n",
       "            </tr>\n",
       "            <tr>\n",
       "                        <th id=\"T_pybfstylelevel0_row1\" class=\"row_heading level0 row1\" >1</th>\n",
       "                        <td id=\"T_pybfstylerow1_col0\" class=\"data row1 col0\" >as1core1</td>\n",
       "                        <td id=\"T_pybfstylerow1_col1\" class=\"data row1 col1\" >1.10.1.1</td>\n",
       "                        <td id=\"T_pybfstylerow1_col2\" class=\"data row1 col2\" >None</td>\n",
       "                        <td id=\"T_pybfstylerow1_col3\" class=\"data row1 col3\" >1</td>\n",
       "                        <td id=\"T_pybfstylerow1_col4\" class=\"data row1 col4\" >as1border1</td>\n",
       "                        <td id=\"T_pybfstylerow1_col5\" class=\"data row1 col5\" >1.1.1.1</td>\n",
       "                        <td id=\"T_pybfstylerow1_col6\" class=\"data row1 col6\" >None</td>\n",
       "                        <td id=\"T_pybfstylerow1_col7\" class=\"data row1 col7\" >1</td>\n",
       "            </tr>\n",
       "            <tr>\n",
       "                        <th id=\"T_pybfstylelevel0_row2\" class=\"row_heading level0 row2\" >2</th>\n",
       "                        <td id=\"T_pybfstylerow2_col0\" class=\"data row2 col0\" >as2dist2</td>\n",
       "                        <td id=\"T_pybfstylerow2_col1\" class=\"data row2 col1\" >2.1.3.2</td>\n",
       "                        <td id=\"T_pybfstylerow2_col2\" class=\"data row2 col2\" >None</td>\n",
       "                        <td id=\"T_pybfstylerow2_col3\" class=\"data row2 col3\" >2</td>\n",
       "                        <td id=\"T_pybfstylerow2_col4\" class=\"data row2 col4\" >as2core2</td>\n",
       "                        <td id=\"T_pybfstylerow2_col5\" class=\"data row2 col5\" >2.1.2.2</td>\n",
       "                        <td id=\"T_pybfstylerow2_col6\" class=\"data row2 col6\" >None</td>\n",
       "                        <td id=\"T_pybfstylerow2_col7\" class=\"data row2 col7\" >2</td>\n",
       "            </tr>\n",
       "            <tr>\n",
       "                        <th id=\"T_pybfstylelevel0_row3\" class=\"row_heading level0 row3\" >3</th>\n",
       "                        <td id=\"T_pybfstylerow3_col0\" class=\"data row3 col0\" >as3border2</td>\n",
       "                        <td id=\"T_pybfstylerow3_col1\" class=\"data row3 col1\" >3.2.2.2</td>\n",
       "                        <td id=\"T_pybfstylerow3_col2\" class=\"data row3 col2\" >None</td>\n",
       "                        <td id=\"T_pybfstylerow3_col3\" class=\"data row3 col3\" >3</td>\n",
       "                        <td id=\"T_pybfstylerow3_col4\" class=\"data row3 col4\" >as3core1</td>\n",
       "                        <td id=\"T_pybfstylerow3_col5\" class=\"data row3 col5\" >3.10.1.1</td>\n",
       "                        <td id=\"T_pybfstylerow3_col6\" class=\"data row3 col6\" >None</td>\n",
       "                        <td id=\"T_pybfstylerow3_col7\" class=\"data row3 col7\" >3</td>\n",
       "            </tr>\n",
       "            <tr>\n",
       "                        <th id=\"T_pybfstylelevel0_row4\" class=\"row_heading level0 row4\" >4</th>\n",
       "                        <td id=\"T_pybfstylerow4_col0\" class=\"data row4 col0\" >as2dist2</td>\n",
       "                        <td id=\"T_pybfstylerow4_col1\" class=\"data row4 col1\" >2.34.201.3</td>\n",
       "                        <td id=\"T_pybfstylerow4_col2\" class=\"data row4 col2\" >None</td>\n",
       "                        <td id=\"T_pybfstylerow4_col3\" class=\"data row4 col3\" >2</td>\n",
       "                        <td id=\"T_pybfstylerow4_col4\" class=\"data row4 col4\" >as2dept1</td>\n",
       "                        <td id=\"T_pybfstylerow4_col5\" class=\"data row4 col5\" >2.34.201.4</td>\n",
       "                        <td id=\"T_pybfstylerow4_col6\" class=\"data row4 col6\" >None</td>\n",
       "                        <td id=\"T_pybfstylerow4_col7\" class=\"data row4 col7\" >65001</td>\n",
       "            </tr>\n",
       "    </tbody></table>"
      ],
      "text/plain": [
       "         Node          IP Interface AS_Number Remote_Node   Remote_IP  \\\n",
       "0  as1border2     1.2.2.2      None         1    as1core1    1.10.1.1   \n",
       "1    as1core1    1.10.1.1      None         1  as1border1     1.1.1.1   \n",
       "2    as2dist2     2.1.3.2      None         2    as2core2     2.1.2.2   \n",
       "3  as3border2     3.2.2.2      None         3    as3core1    3.10.1.1   \n",
       "4    as2dist2  2.34.201.3      None         2    as2dept1  2.34.201.4   \n",
       "\n",
       "  Remote_Interface Remote_AS_Number  \n",
       "0             None                1  \n",
       "1             None                1  \n",
       "2             None                2  \n",
       "3             None                3  \n",
       "4             None            65001  "
      ]
     },
     "metadata": {},
     "output_type": "display_data"
    }
   ],
   "source": [
    "# Get the edges from both snapshots as Pandas DataFrames\n",
    "snapshot_bgp_edges = bfq.bgpEdges().answer(snapshot=\"snapshot\").frame()\n",
    "reference_bgp_edges = bfq.bgpEdges().answer(snapshot=\"reference\").frame()\n",
    "\n",
    "# Show me the schema\n",
    "show(snapshot_bgp_edges.head())"
   ]
  },
  {
   "cell_type": "code",
   "execution_count": 13,
   "metadata": {},
   "outputs": [
    {
     "name": "stdout",
     "output_type": "stream",
     "text": [
      "BgpEdges only in reference\n",
      "     Node=as2border2,Remote_Node=as3border1\n"
     ]
    }
   ],
   "source": [
    "# Only retain the Node and Remote_Node columns, and keep only one row across both directions\n",
    "snapshot_bgp_edges_nodes = snapshot_bgp_edges[snapshot_bgp_edges['Node'] < snapshot_bgp_edges['Remote_Node']][['Node', 'Remote_Node']]\n",
    "reference_bgp_edges_nodes = reference_bgp_edges[reference_bgp_edges['Node'] < reference_bgp_edges['Remote_Node']][['Node', 'Remote_Node']]\n",
    "\n",
    "# Print a readable message on the differences\n",
    "diff_frames(snapshot_bgp_edges_nodes, \n",
    "            reference_bgp_edges_nodes, \n",
    "            \"BgpEdge\")"
   ]
  },
  {
   "cell_type": "markdown",
   "metadata": {},
   "source": [
    "### Compare packet filters\n",
    "\n",
    "Batfish offers two natively differential questions whose answers explain the behavioral differences for packet filters (ACLs, firewall rules) and end-to-end reachability. We will use both types of differential queries in the analysis below."
   ]
  },
  {
   "cell_type": "code",
   "execution_count": 14,
   "metadata": {
    "scrolled": true
   },
   "outputs": [
    {
     "data": {
      "text/html": [
       "<style  type=\"text/css\" >\n",
       "#T_pybfstylerow0_col0,#T_pybfstylerow0_col1,#T_pybfstylerow0_col2,#T_pybfstylerow0_col3,#T_pybfstylerow0_col4,#T_pybfstylerow0_col5,#T_pybfstylerow0_col6{\n",
       "            text-align:  left;\n",
       "            vertical-align:  top;\n",
       "        }</style><table id=\"T_pybfstyle\"  class=\"tex2jax_ignore\"><thead>    <tr>        <th class=\"blank level0\" ></th>        <th class=\"col_heading level0 col0\" >Node</th>        <th class=\"col_heading level0 col1\" >Filter_Name</th>        <th class=\"col_heading level0 col2\" >Line_Index</th>        <th class=\"col_heading level0 col3\" >Line_Content</th>        <th class=\"col_heading level0 col4\" >Line_Action</th>        <th class=\"col_heading level0 col5\" >Reference_Line_Index</th>        <th class=\"col_heading level0 col6\" >Reference_Line_Content</th>    </tr></thead><tbody>\n",
       "                <tr>\n",
       "                        <th id=\"T_pybfstylelevel0_row0\" class=\"row_heading level0 row0\" >0</th>\n",
       "                        <td id=\"T_pybfstylerow0_col0\" class=\"data row0 col0\" >as2dist2</td>\n",
       "                        <td id=\"T_pybfstylerow0_col1\" class=\"data row0 col1\" >105</td>\n",
       "                        <td id=\"T_pybfstylerow0_col2\" class=\"data row0 col2\" >4</td>\n",
       "                        <td id=\"T_pybfstylerow0_col3\" class=\"data row0 col3\" >permit ip host 3.0.3.0 host 255.255.255.0</td>\n",
       "                        <td id=\"T_pybfstylerow0_col4\" class=\"data row0 col4\" >PERMIT</td>\n",
       "                        <td id=\"T_pybfstylerow0_col5\" class=\"data row0 col5\" >End of ACL</td>\n",
       "                        <td id=\"T_pybfstylerow0_col6\" class=\"data row0 col6\" ></td>\n",
       "            </tr>\n",
       "    </tbody></table>"
      ],
      "text/plain": [
       "       Node Filter_Name Line_Index                               Line_Content  \\\n",
       "0  as2dist2         105          4  permit ip host 3.0.3.0 host 255.255.255.0   \n",
       "\n",
       "  Line_Action Reference_Line_Index Reference_Line_Content  \n",
       "0      PERMIT           End of ACL                         "
      ]
     },
     "metadata": {},
     "output_type": "display_data"
    }
   ],
   "source": [
    "compare_filters = bfq.compareFilters().answer(snapshot='snapshot',reference_snapshot='reference').frame()\n",
    "show(compare_filters)"
   ]
  },
  {
   "cell_type": "markdown",
   "metadata": {},
   "source": [
    "### Summary\n"
   ]
  }
 ],
 "metadata": {
  "kernelspec": {
   "display_name": "Python 3",
   "language": "python",
   "name": "python3"
  },
  "language_info": {
   "codemirror_mode": {
    "name": "ipython",
    "version": 3
   },
   "file_extension": ".py",
   "mimetype": "text/x-python",
   "name": "python",
   "nbconvert_exporter": "python",
   "pygments_lexer": "ipython3",
   "version": "3.7.7"
  }
 },
 "nbformat": 4,
 "nbformat_minor": 4
}
