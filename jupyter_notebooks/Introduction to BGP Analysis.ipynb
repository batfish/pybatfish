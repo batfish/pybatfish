{
 "cells": [
  {
   "cell_type": "markdown",
   "metadata": {},
   "source": [
    "## Introduction to BGP Analysis using Batfish"
   ]
  },
  {
   "cell_type": "markdown",
   "metadata": {},
   "source": [
    "Network engineers routinely need to validate BGP configuration and session status in the network. They often do that by connecting to multiple network devices and executing a series of `show ip bgp` commands. This distributed debugging is highly complex even in a moderately-sized network. Batfish makes this task extremely simple by providing an easy-to-query, centralized view of routing tables in the network. \n",
    "\n",
    "In this notebook, we will look at how you can extract BGP configuration and session status information from Batfish.\n",
    "\n",
    "![Analytics](https://ga-beacon.appspot.com/UA-100596389-3/open-source/pybatfish/jupyter_notebooks/intro-bgp-analysis?pixel&useReferer)"
   ]
  },
  {
   "cell_type": "code",
   "execution_count": 1,
   "metadata": {},
   "outputs": [],
   "source": [
    "# Import packages and load questions\n",
    "%run startup.py"
   ]
  },
  {
   "cell_type": "markdown",
   "metadata": {},
   "source": [
    " ### Initializing the Network and Snapshot"
   ]
  },
  {
   "cell_type": "markdown",
   "metadata": {},
   "source": [
    "`SNAPSHOT_PATH` below can be updated to point to a custom snapshot directory, see the [Batfish instructions](https://github.com/batfish/batfish/wiki/Packaging-snapshots-for-analysis) for how to package data for analysis.<br>\n",
    "More example networks are available in the [networks](https://github.com/batfish/batfish/tree/master/networks) folder of the Batfish repository."
   ]
  },
  {
   "cell_type": "code",
   "execution_count": 2,
   "metadata": {},
   "outputs": [],
   "source": [
    "# Initialize a network and snapshot\n",
    "NETWORK_NAME = \"example_network\"\n",
    "SNAPSHOT_NAME = \"example_snapshot\"\n",
    "\n",
    "SNAPSHOT_PATH = \"networks/example-bgp\"\n",
    "\n",
    "bf_set_network(NETWORK_NAME)\n",
    "bf_init_snapshot(SNAPSHOT_PATH, name=SNAPSHOT_NAME, overwrite=True)\n",
    "\n",
    "load_questions()"
   ]
  },
  {
   "cell_type": "markdown",
   "metadata": {},
   "source": [
    "The network snapshot that we initialized above is illustrated below. You can download/view devices' configuration files [here](https://github.com/batfish/pybatfish/tree/master/jupyter_notebooks/networks/example).\n",
    "\n",
    "![example-network](https://raw.githubusercontent.com/batfish/pybatfish/master/jupyter_notebooks/networks/example/example-network.png)"
   ]
  },
  {
   "cell_type": "markdown",
   "metadata": {},
   "source": [
    "All of the information we will show you in this notebook is dynamically computed by Batfish based on the configuration files for the network devices."
   ]
  },
  {
   "cell_type": "markdown",
   "metadata": {},
   "source": [
    "### View BGP Configuration for ALL devices\n",
    "Batfish makes BGP Configuration settings in the network easily accessible. Let's take a look at how you can retrieve the specific information you want. Let's start with configuration attributes of the BGP process on all devices running BGP."
   ]
  },
  {
   "cell_type": "code",
   "execution_count": 3,
   "metadata": {
    "scrolled": true
   },
   "outputs": [
    {
     "data": {
      "text/html": [
       "<div>\n",
       "<style scoped>\n",
       "    .dataframe tbody tr th:only-of-type {\n",
       "        vertical-align: middle;\n",
       "    }\n",
       "\n",
       "    .dataframe tbody tr th {\n",
       "        vertical-align: top;\n",
       "    }\n",
       "\n",
       "    .dataframe thead th {\n",
       "        text-align: right;\n",
       "    }\n",
       "</style>\n",
       "<table border=\"1\" class=\"dataframe tex2jax_ignore\">\n",
       "  <thead>\n",
       "    <tr style=\"text-align: right;\">\n",
       "      <th></th>\n",
       "      <th>Node</th>\n",
       "      <th>VRF</th>\n",
       "      <th>Router_ID</th>\n",
       "      <th>Route_Reflector</th>\n",
       "      <th>Multipath_Match_Mode</th>\n",
       "      <th>Multipath_EBGP</th>\n",
       "      <th>Multipath_IBGP</th>\n",
       "      <th>Neighbors</th>\n",
       "      <th>Tie_Breaker</th>\n",
       "    </tr>\n",
       "  </thead>\n",
       "  <tbody>\n",
       "    <tr>\n",
       "      <th>0</th>\n",
       "      <td>as1border1</td>\n",
       "      <td>default</td>\n",
       "      <td>1.1.1.1</td>\n",
       "      <td>False</td>\n",
       "      <td>EXACT_PATH</td>\n",
       "      <td>True</td>\n",
       "      <td>True</td>\n",
       "      <td>['1.10.1.1/32', '3.2.2.2/32', '5.6.7.8/32', '10.12.11.2/32']</td>\n",
       "      <td>ARRIVAL_ORDER</td>\n",
       "    </tr>\n",
       "    <tr>\n",
       "      <th>1</th>\n",
       "      <td>as2dist2</td>\n",
       "      <td>default</td>\n",
       "      <td>2.1.3.2</td>\n",
       "      <td>False</td>\n",
       "      <td>EXACT_PATH</td>\n",
       "      <td>True</td>\n",
       "      <td>True</td>\n",
       "      <td>['2.1.2.1/32', '2.1.2.2/32', '2.34.0.0/16']</td>\n",
       "      <td>ARRIVAL_ORDER</td>\n",
       "    </tr>\n",
       "    <tr>\n",
       "      <th>2</th>\n",
       "      <td>as2border1</td>\n",
       "      <td>default</td>\n",
       "      <td>2.1.1.1</td>\n",
       "      <td>False</td>\n",
       "      <td>EXACT_PATH</td>\n",
       "      <td>True</td>\n",
       "      <td>True</td>\n",
       "      <td>['2.1.2.1/32', '2.1.2.2/32', '10.12.11.1/32']</td>\n",
       "      <td>ARRIVAL_ORDER</td>\n",
       "    </tr>\n",
       "    <tr>\n",
       "      <th>3</th>\n",
       "      <td>as2core2</td>\n",
       "      <td>default</td>\n",
       "      <td>2.1.2.2</td>\n",
       "      <td>True</td>\n",
       "      <td>EXACT_PATH</td>\n",
       "      <td>True</td>\n",
       "      <td>True</td>\n",
       "      <td>['2.1.1.1/32', '2.1.1.2/32', '2.1.3.1/32', '2.1.3.2/32']</td>\n",
       "      <td>ARRIVAL_ORDER</td>\n",
       "    </tr>\n",
       "    <tr>\n",
       "      <th>4</th>\n",
       "      <td>as3border1</td>\n",
       "      <td>default</td>\n",
       "      <td>3.1.1.1</td>\n",
       "      <td>False</td>\n",
       "      <td>EXACT_PATH</td>\n",
       "      <td>True</td>\n",
       "      <td>True</td>\n",
       "      <td>['3.10.1.1/32', '10.23.21.2/32']</td>\n",
       "      <td>ARRIVAL_ORDER</td>\n",
       "    </tr>\n",
       "    <tr>\n",
       "      <th>5</th>\n",
       "      <td>as3border2</td>\n",
       "      <td>default</td>\n",
       "      <td>3.2.2.2</td>\n",
       "      <td>False</td>\n",
       "      <td>EXACT_PATH</td>\n",
       "      <td>True</td>\n",
       "      <td>True</td>\n",
       "      <td>['3.10.1.1/32', '10.13.22.1/32']</td>\n",
       "      <td>ARRIVAL_ORDER</td>\n",
       "    </tr>\n",
       "    <tr>\n",
       "      <th>6</th>\n",
       "      <td>as3core1</td>\n",
       "      <td>default</td>\n",
       "      <td>3.10.1.1</td>\n",
       "      <td>True</td>\n",
       "      <td>EXACT_PATH</td>\n",
       "      <td>True</td>\n",
       "      <td>True</td>\n",
       "      <td>['3.1.1.1/32', '3.2.2.2/32']</td>\n",
       "      <td>ARRIVAL_ORDER</td>\n",
       "    </tr>\n",
       "    <tr>\n",
       "      <th>7</th>\n",
       "      <td>as2dist1</td>\n",
       "      <td>default</td>\n",
       "      <td>2.1.3.1</td>\n",
       "      <td>False</td>\n",
       "      <td>EXACT_PATH</td>\n",
       "      <td>True</td>\n",
       "      <td>True</td>\n",
       "      <td>['2.1.2.1/32', '2.1.2.2/32', '2.34.0.0/16']</td>\n",
       "      <td>ARRIVAL_ORDER</td>\n",
       "    </tr>\n",
       "    <tr>\n",
       "      <th>8</th>\n",
       "      <td>as1border2</td>\n",
       "      <td>default</td>\n",
       "      <td>1.2.2.2</td>\n",
       "      <td>False</td>\n",
       "      <td>EXACT_PATH</td>\n",
       "      <td>True</td>\n",
       "      <td>True</td>\n",
       "      <td>['1.10.1.1/32', '10.13.22.3/32', '10.14.22.4/32']</td>\n",
       "      <td>ARRIVAL_ORDER</td>\n",
       "    </tr>\n",
       "    <tr>\n",
       "      <th>9</th>\n",
       "      <td>as2border2</td>\n",
       "      <td>default</td>\n",
       "      <td>2.1.1.2</td>\n",
       "      <td>False</td>\n",
       "      <td>EXACT_PATH</td>\n",
       "      <td>True</td>\n",
       "      <td>True</td>\n",
       "      <td>['2.1.2.1/32', '2.1.2.2/32', '10.23.21.3/32']</td>\n",
       "      <td>ARRIVAL_ORDER</td>\n",
       "    </tr>\n",
       "    <tr>\n",
       "      <th>10</th>\n",
       "      <td>as2dept1</td>\n",
       "      <td>default</td>\n",
       "      <td>2.1.4.1</td>\n",
       "      <td>False</td>\n",
       "      <td>EXACT_PATH</td>\n",
       "      <td>True</td>\n",
       "      <td>True</td>\n",
       "      <td>['2.34.101.3/32', '2.34.201.3/32']</td>\n",
       "      <td>ARRIVAL_ORDER</td>\n",
       "    </tr>\n",
       "    <tr>\n",
       "      <th>11</th>\n",
       "      <td>as2core1</td>\n",
       "      <td>default</td>\n",
       "      <td>2.1.2.1</td>\n",
       "      <td>True</td>\n",
       "      <td>EXACT_PATH</td>\n",
       "      <td>True</td>\n",
       "      <td>True</td>\n",
       "      <td>['2.1.1.1/32', '2.1.1.2/32', '2.1.3.1/32', '2.1.3.2/32']</td>\n",
       "      <td>ARRIVAL_ORDER</td>\n",
       "    </tr>\n",
       "    <tr>\n",
       "      <th>12</th>\n",
       "      <td>as1core1</td>\n",
       "      <td>default</td>\n",
       "      <td>1.10.1.1</td>\n",
       "      <td>True</td>\n",
       "      <td>EXACT_PATH</td>\n",
       "      <td>True</td>\n",
       "      <td>True</td>\n",
       "      <td>['1.1.1.1/32', '1.2.2.2/32']</td>\n",
       "      <td>ARRIVAL_ORDER</td>\n",
       "    </tr>\n",
       "  </tbody>\n",
       "</table>\n",
       "</div>"
      ],
      "text/plain": [
       "          Node      VRF Router_ID Route_Reflector Multipath_Match_Mode  \\\n",
       "0   as1border1  default  1.1.1.1   False           EXACT_PATH            \n",
       "1   as2dist2    default  2.1.3.2   False           EXACT_PATH            \n",
       "2   as2border1  default  2.1.1.1   False           EXACT_PATH            \n",
       "3   as2core2    default  2.1.2.2   True            EXACT_PATH            \n",
       "4   as3border1  default  3.1.1.1   False           EXACT_PATH            \n",
       "5   as3border2  default  3.2.2.2   False           EXACT_PATH            \n",
       "6   as3core1    default  3.10.1.1  True            EXACT_PATH            \n",
       "7   as2dist1    default  2.1.3.1   False           EXACT_PATH            \n",
       "8   as1border2  default  1.2.2.2   False           EXACT_PATH            \n",
       "9   as2border2  default  2.1.1.2   False           EXACT_PATH            \n",
       "10  as2dept1    default  2.1.4.1   False           EXACT_PATH            \n",
       "11  as2core1    default  2.1.2.1   True            EXACT_PATH            \n",
       "12  as1core1    default  1.10.1.1  True            EXACT_PATH            \n",
       "\n",
       "   Multipath_EBGP Multipath_IBGP  \\\n",
       "0   True           True            \n",
       "1   True           True            \n",
       "2   True           True            \n",
       "3   True           True            \n",
       "4   True           True            \n",
       "5   True           True            \n",
       "6   True           True            \n",
       "7   True           True            \n",
       "8   True           True            \n",
       "9   True           True            \n",
       "10  True           True            \n",
       "11  True           True            \n",
       "12  True           True            \n",
       "\n",
       "                                                       Neighbors  \\\n",
       "0   ['1.10.1.1/32', '3.2.2.2/32', '5.6.7.8/32', '10.12.11.2/32']   \n",
       "1   ['2.1.2.1/32', '2.1.2.2/32', '2.34.0.0/16']                    \n",
       "2   ['2.1.2.1/32', '2.1.2.2/32', '10.12.11.1/32']                  \n",
       "3   ['2.1.1.1/32', '2.1.1.2/32', '2.1.3.1/32', '2.1.3.2/32']       \n",
       "4   ['3.10.1.1/32', '10.23.21.2/32']                               \n",
       "5   ['3.10.1.1/32', '10.13.22.1/32']                               \n",
       "6   ['3.1.1.1/32', '3.2.2.2/32']                                   \n",
       "7   ['2.1.2.1/32', '2.1.2.2/32', '2.34.0.0/16']                    \n",
       "8   ['1.10.1.1/32', '10.13.22.3/32', '10.14.22.4/32']              \n",
       "9   ['2.1.2.1/32', '2.1.2.2/32', '10.23.21.3/32']                  \n",
       "10  ['2.34.101.3/32', '2.34.201.3/32']                             \n",
       "11  ['2.1.1.1/32', '2.1.1.2/32', '2.1.3.1/32', '2.1.3.2/32']       \n",
       "12  ['1.1.1.1/32', '1.2.2.2/32']                                   \n",
       "\n",
       "      Tie_Breaker  \n",
       "0   ARRIVAL_ORDER  \n",
       "1   ARRIVAL_ORDER  \n",
       "2   ARRIVAL_ORDER  \n",
       "3   ARRIVAL_ORDER  \n",
       "4   ARRIVAL_ORDER  \n",
       "5   ARRIVAL_ORDER  \n",
       "6   ARRIVAL_ORDER  \n",
       "7   ARRIVAL_ORDER  \n",
       "8   ARRIVAL_ORDER  \n",
       "9   ARRIVAL_ORDER  \n",
       "10  ARRIVAL_ORDER  \n",
       "11  ARRIVAL_ORDER  \n",
       "12  ARRIVAL_ORDER  "
      ]
     },
     "execution_count": 3,
     "metadata": {},
     "output_type": "execute_result"
    }
   ],
   "source": [
    "# Get BGP process configuration information for ALL devices\n",
    "bgp_config = bfq.bgpProcessConfiguration().answer().frame()\n",
    "bgp_config"
   ]
  },
  {
   "cell_type": "markdown",
   "metadata": {},
   "source": [
    "NOTE: Any router that has a `Cluster ID` set is configured to be a route-reflector for some of it's BGP peers"
   ]
  },
  {
   "cell_type": "code",
   "execution_count": 4,
   "metadata": {},
   "outputs": [],
   "source": [
    "# wrapper function that will return the definition of a routing policy\n",
    "#\n",
    "# Input:\n",
    "#    node: Name of the device\n",
    "#    policy_names: List of policy names to retrieve\n",
    "#    config_file_path: Directory where the `configs` folder resides\n",
    "#\n",
    "# Output:\n",
    "#    policy_def: dictionary keyed on policy name that contains the actual config lines that define the policy\n",
    "def get_bgp_policies(node, policy_names, config_file_path):\n",
    "    \n",
    "    import linecache\n",
    "    from collections import defaultdict\n",
    "    \n",
    "    # This returns the list of all defined structures on `as2dept1`\n",
    "    def_struct = bfq.definedStructures(nodes=node).answer().frame()\n",
    "    \n",
    "    policy_def = defaultdict(list)\n",
    "\n",
    "    # Retrieving just the structures that are used as BGP import policies for the specific peer we are looking at\n",
    "\n",
    "    for policy in policy_names:\n",
    "        struct = def_struct[def_struct['Structure_Name']==policy]\n",
    "        file = config_file_path + \"/\" + struct.Source_Lines.iloc[0].filename\n",
    "\n",
    "        lines = struct.Source_Lines.iloc[0].lines\n",
    "\n",
    "        text_line = []\n",
    "\n",
    "        for line in lines:\n",
    "            text_line.append(linecache.getline(file, line))\n",
    "            \n",
    "        policy_def[policy] = text_line\n",
    "            \n",
    "    return(policy_def)"
   ]
  },
  {
   "cell_type": "markdown",
   "metadata": {},
   "source": [
    "Now let's drill into the configuration of a specific BGP session. Let's look at the sessions on `as2dept1`"
   ]
  },
  {
   "cell_type": "code",
   "execution_count": 5,
   "metadata": {},
   "outputs": [
    {
     "data": {
      "text/html": [
       "<div>\n",
       "<style scoped>\n",
       "    .dataframe tbody tr th:only-of-type {\n",
       "        vertical-align: middle;\n",
       "    }\n",
       "\n",
       "    .dataframe tbody tr th {\n",
       "        vertical-align: top;\n",
       "    }\n",
       "\n",
       "    .dataframe thead th {\n",
       "        text-align: right;\n",
       "    }\n",
       "</style>\n",
       "<table border=\"1\" class=\"dataframe tex2jax_ignore\">\n",
       "  <thead>\n",
       "    <tr style=\"text-align: right;\">\n",
       "      <th></th>\n",
       "      <th>Node</th>\n",
       "      <th>VRF</th>\n",
       "      <th>Local_AS</th>\n",
       "      <th>Local_IP</th>\n",
       "      <th>Local_Interface</th>\n",
       "      <th>Remote_AS</th>\n",
       "      <th>Remote_IP</th>\n",
       "      <th>Route_Reflector_Client</th>\n",
       "      <th>Cluster_ID</th>\n",
       "      <th>Peer_Group</th>\n",
       "      <th>Import_Policy</th>\n",
       "      <th>Export_Policy</th>\n",
       "      <th>Send_Community</th>\n",
       "      <th>Is_Passive</th>\n",
       "    </tr>\n",
       "  </thead>\n",
       "  <tbody>\n",
       "    <tr>\n",
       "      <th>3</th>\n",
       "      <td>as2dept1</td>\n",
       "      <td>default</td>\n",
       "      <td>65001</td>\n",
       "      <td>2.34.201.4</td>\n",
       "      <td>None</td>\n",
       "      <td>2</td>\n",
       "      <td>2.34.201.3</td>\n",
       "      <td>False</td>\n",
       "      <td>None</td>\n",
       "      <td>as2</td>\n",
       "      <td>['as2_to_dept']</td>\n",
       "      <td>['dept_to_as2']</td>\n",
       "      <td>True</td>\n",
       "      <td>False</td>\n",
       "    </tr>\n",
       "    <tr>\n",
       "      <th>17</th>\n",
       "      <td>as2dept1</td>\n",
       "      <td>default</td>\n",
       "      <td>65001</td>\n",
       "      <td>2.34.101.4</td>\n",
       "      <td>None</td>\n",
       "      <td>2</td>\n",
       "      <td>2.34.101.3</td>\n",
       "      <td>False</td>\n",
       "      <td>None</td>\n",
       "      <td>as2</td>\n",
       "      <td>['as2_to_dept']</td>\n",
       "      <td>['dept_to_as2']</td>\n",
       "      <td>True</td>\n",
       "      <td>False</td>\n",
       "    </tr>\n",
       "  </tbody>\n",
       "</table>\n",
       "</div>"
      ],
      "text/plain": [
       "        Node      VRF Local_AS    Local_IP Local_Interface Remote_AS  \\\n",
       "3   as2dept1  default  65001    2.34.201.4  None            2          \n",
       "17  as2dept1  default  65001    2.34.101.4  None            2          \n",
       "\n",
       "     Remote_IP Route_Reflector_Client Cluster_ID Peer_Group    Import_Policy  \\\n",
       "3   2.34.201.3  False                  None       as2        ['as2_to_dept']   \n",
       "17  2.34.101.3  False                  None       as2        ['as2_to_dept']   \n",
       "\n",
       "      Export_Policy Send_Community Is_Passive  \n",
       "3   ['dept_to_as2']  True           False      \n",
       "17  ['dept_to_as2']  True           False      "
      ]
     },
     "execution_count": 5,
     "metadata": {},
     "output_type": "execute_result"
    }
   ],
   "source": [
    "# Get all of the BGP peer configuration for ALl devices\n",
    "bgp_peer_config = bfq.bgpPeerConfiguration().answer().frame()\n",
    "bgp_peer_config[bgp_peer_config['Node'].str.contains('as2dept1')]"
   ]
  },
  {
   "cell_type": "markdown",
   "metadata": {},
   "source": [
    "`as2dept1` has 2 configured bgp peers. Let's take a look at the input and output route policies for the peer `2.24.101.3`"
   ]
  },
  {
   "cell_type": "code",
   "execution_count": 6,
   "metadata": {},
   "outputs": [],
   "source": [
    "# as2dept1 BGP peer configuration that we want to dig into\n",
    "peer_ip = '2.34.101.3'\n",
    "\n",
    "peer_import_policy = bgp_peer_config[(bgp_peer_config['Node'].str.contains('as2dept1')) & (bgp_peer_config['Remote_IP']==peer_ip)].Import_Policy.iloc[0]\n",
    "peer_export_policy = bgp_peer_config[(bgp_peer_config['Node'].str.contains('as2dept1')) & (bgp_peer_config['Remote_IP']==peer_ip)].Export_Policy.iloc[0]"
   ]
  },
  {
   "cell_type": "code",
   "execution_count": 7,
   "metadata": {},
   "outputs": [
    {
     "name": "stdout",
     "output_type": "stream",
     "text": [
      "Import Policy: as2_to_dept\n",
      "Definition: ['route-map as2_to_dept permit 100\\n', ' match community as2_community\\n', ' set local-preference 350\\n']\n"
     ]
    }
   ],
   "source": [
    "import_policy_text = get_bgp_policies('as2dept1', peer_import_policy, SNAPSHOT_PATH)\n",
    "\n",
    "for import_policy in import_policy_text:\n",
    "    print(\"Import Policy: {}\".format(import_policy))\n",
    "    print(\"Definition: {}\".format(import_policy_text[import_policy]))"
   ]
  },
  {
   "cell_type": "code",
   "execution_count": 8,
   "metadata": {},
   "outputs": [
    {
     "name": "stdout",
     "output_type": "stream",
     "text": [
      "Export Policy: dept_to_as2\n",
      "Definition: ['route-map dept_to_as2 permit 100\\n', ' match ip address 102\\n', ' set metric 50\\n', ' set community 65001:2 additive\\n']\n"
     ]
    }
   ],
   "source": [
    "export_policy_text = get_bgp_policies('as2dept1', peer_export_policy, SNAPSHOT_PATH)\n",
    "\n",
    "for export_policy in export_policy_text:\n",
    "    print(\"Export Policy: {}\".format(export_policy))\n",
    "    print(\"Definition: {}\".format(export_policy_text[export_policy]))"
   ]
  },
  {
   "cell_type": "markdown",
   "metadata": {},
   "source": [
    "### View BGP Session Status"
   ]
  },
  {
   "cell_type": "markdown",
   "metadata": {},
   "source": [
    "Now that we have seen the configuration for each peer on `as2dept1`, let's ensure that their configuration is compatible with their peers"
   ]
  },
  {
   "cell_type": "code",
   "execution_count": 9,
   "metadata": {},
   "outputs": [
    {
     "data": {
      "text/html": [
       "<div>\n",
       "<style scoped>\n",
       "    .dataframe tbody tr th:only-of-type {\n",
       "        vertical-align: middle;\n",
       "    }\n",
       "\n",
       "    .dataframe tbody tr th {\n",
       "        vertical-align: top;\n",
       "    }\n",
       "\n",
       "    .dataframe thead th {\n",
       "        text-align: right;\n",
       "    }\n",
       "</style>\n",
       "<table border=\"1\" class=\"dataframe tex2jax_ignore\">\n",
       "  <thead>\n",
       "    <tr style=\"text-align: right;\">\n",
       "      <th></th>\n",
       "      <th>Node</th>\n",
       "      <th>VRF</th>\n",
       "      <th>Local_AS</th>\n",
       "      <th>Local_Interface</th>\n",
       "      <th>Local_IP</th>\n",
       "      <th>Remote_AS</th>\n",
       "      <th>Remote_Node</th>\n",
       "      <th>Remote_Interface</th>\n",
       "      <th>Remote_IP</th>\n",
       "      <th>Session_Type</th>\n",
       "      <th>Configured_Status</th>\n",
       "    </tr>\n",
       "  </thead>\n",
       "  <tbody>\n",
       "    <tr>\n",
       "      <th>0</th>\n",
       "      <td>as2dept1</td>\n",
       "      <td>default</td>\n",
       "      <td>65001</td>\n",
       "      <td>None</td>\n",
       "      <td>2.34.101.4</td>\n",
       "      <td>2</td>\n",
       "      <td>as2dist1</td>\n",
       "      <td>None</td>\n",
       "      <td>2.34.101.3</td>\n",
       "      <td>EBGP_SINGLEHOP</td>\n",
       "      <td>UNIQUE_MATCH</td>\n",
       "    </tr>\n",
       "    <tr>\n",
       "      <th>1</th>\n",
       "      <td>as2dept1</td>\n",
       "      <td>default</td>\n",
       "      <td>65001</td>\n",
       "      <td>None</td>\n",
       "      <td>2.34.201.4</td>\n",
       "      <td>2</td>\n",
       "      <td>as2dist2</td>\n",
       "      <td>None</td>\n",
       "      <td>2.34.201.3</td>\n",
       "      <td>EBGP_SINGLEHOP</td>\n",
       "      <td>UNIQUE_MATCH</td>\n",
       "    </tr>\n",
       "  </tbody>\n",
       "</table>\n",
       "</div>"
      ],
      "text/plain": [
       "       Node      VRF Local_AS Local_Interface    Local_IP Remote_AS  \\\n",
       "0  as2dept1  default  65001    None            2.34.101.4  2          \n",
       "1  as2dept1  default  65001    None            2.34.201.4  2          \n",
       "\n",
       "  Remote_Node Remote_Interface   Remote_IP    Session_Type Configured_Status  \n",
       "0  as2dist1    None             2.34.101.3  EBGP_SINGLEHOP  UNIQUE_MATCH      \n",
       "1  as2dist2    None             2.34.201.3  EBGP_SINGLEHOP  UNIQUE_MATCH      "
      ]
     },
     "execution_count": 9,
     "metadata": {},
     "output_type": "execute_result"
    }
   ],
   "source": [
    "# The bgpSessionCompatibility question allows you to ensure that BGP sessions are compatibly configured, so that if there is IP reachability between the peers\n",
    "# the sessions will be established. Compatiblity checks that the remote-as matches up on both ends, the correct update source is specified, etc...\n",
    "\n",
    "bgpSessCompat = bfq.bgpSessionCompatibility(nodes='as2dept1').answer().frame()\n",
    "bgpSessCompat"
   ]
  },
  {
   "cell_type": "markdown",
   "metadata": {},
   "source": [
    "Both of the configured BGP peers on `as2dept1` are compatible. We know that since the `Configured_Status` is `UNIQUE_MATCH`. So now let's check if they are established."
   ]
  },
  {
   "cell_type": "code",
   "execution_count": 10,
   "metadata": {},
   "outputs": [
    {
     "data": {
      "text/html": [
       "<div>\n",
       "<style scoped>\n",
       "    .dataframe tbody tr th:only-of-type {\n",
       "        vertical-align: middle;\n",
       "    }\n",
       "\n",
       "    .dataframe tbody tr th {\n",
       "        vertical-align: top;\n",
       "    }\n",
       "\n",
       "    .dataframe thead th {\n",
       "        text-align: right;\n",
       "    }\n",
       "</style>\n",
       "<table border=\"1\" class=\"dataframe tex2jax_ignore\">\n",
       "  <thead>\n",
       "    <tr style=\"text-align: right;\">\n",
       "      <th></th>\n",
       "      <th>Node</th>\n",
       "      <th>VRF</th>\n",
       "      <th>Local_AS</th>\n",
       "      <th>Local_Interface</th>\n",
       "      <th>Local_IP</th>\n",
       "      <th>Remote_AS</th>\n",
       "      <th>Remote_Node</th>\n",
       "      <th>Remote_Interface</th>\n",
       "      <th>Remote_IP</th>\n",
       "      <th>Session_Type</th>\n",
       "      <th>Established_Status</th>\n",
       "    </tr>\n",
       "  </thead>\n",
       "  <tbody>\n",
       "    <tr>\n",
       "      <th>0</th>\n",
       "      <td>as2dept1</td>\n",
       "      <td>default</td>\n",
       "      <td>65001</td>\n",
       "      <td>None</td>\n",
       "      <td>2.34.101.4</td>\n",
       "      <td>2</td>\n",
       "      <td>as2dist1</td>\n",
       "      <td>None</td>\n",
       "      <td>2.34.101.3</td>\n",
       "      <td>EBGP_SINGLEHOP</td>\n",
       "      <td>ESTABLISHED</td>\n",
       "    </tr>\n",
       "    <tr>\n",
       "      <th>1</th>\n",
       "      <td>as2dept1</td>\n",
       "      <td>default</td>\n",
       "      <td>65001</td>\n",
       "      <td>None</td>\n",
       "      <td>2.34.201.4</td>\n",
       "      <td>2</td>\n",
       "      <td>as2dist2</td>\n",
       "      <td>None</td>\n",
       "      <td>2.34.201.3</td>\n",
       "      <td>EBGP_SINGLEHOP</td>\n",
       "      <td>ESTABLISHED</td>\n",
       "    </tr>\n",
       "  </tbody>\n",
       "</table>\n",
       "</div>"
      ],
      "text/plain": [
       "       Node      VRF Local_AS Local_Interface    Local_IP Remote_AS  \\\n",
       "0  as2dept1  default  65001    None            2.34.101.4  2          \n",
       "1  as2dept1  default  65001    None            2.34.201.4  2          \n",
       "\n",
       "  Remote_Node Remote_Interface   Remote_IP    Session_Type Established_Status  \n",
       "0  as2dist1    None             2.34.101.3  EBGP_SINGLEHOP  ESTABLISHED        \n",
       "1  as2dist2    None             2.34.201.3  EBGP_SINGLEHOP  ESTABLISHED        "
      ]
     },
     "execution_count": 10,
     "metadata": {},
     "output_type": "execute_result"
    }
   ],
   "source": [
    "bgpSessStat = bfq.bgpSessionStatus(nodes='as2dept1').answer().frame()\n",
    "bgpSessStat"
   ]
  },
  {
   "cell_type": "markdown",
   "metadata": {},
   "source": [
    "Both sessions are established. Let's see if there are any configured BGP sessions, on any other device in the network, that are not established"
   ]
  },
  {
   "cell_type": "code",
   "execution_count": 23,
   "metadata": {},
   "outputs": [
    {
     "data": {
      "text/html": [
       "<div>\n",
       "<style scoped>\n",
       "    .dataframe tbody tr th:only-of-type {\n",
       "        vertical-align: middle;\n",
       "    }\n",
       "\n",
       "    .dataframe tbody tr th {\n",
       "        vertical-align: top;\n",
       "    }\n",
       "\n",
       "    .dataframe thead th {\n",
       "        text-align: right;\n",
       "    }\n",
       "</style>\n",
       "<table border=\"1\" class=\"dataframe tex2jax_ignore\">\n",
       "  <thead>\n",
       "    <tr style=\"text-align: right;\">\n",
       "      <th></th>\n",
       "      <th>Node</th>\n",
       "      <th>VRF</th>\n",
       "      <th>Local_AS</th>\n",
       "      <th>Local_Interface</th>\n",
       "      <th>Local_IP</th>\n",
       "      <th>Remote_AS</th>\n",
       "      <th>Remote_Node</th>\n",
       "      <th>Remote_Interface</th>\n",
       "      <th>Remote_IP</th>\n",
       "      <th>Session_Type</th>\n",
       "      <th>Established_Status</th>\n",
       "    </tr>\n",
       "  </thead>\n",
       "  <tbody>\n",
       "    <tr>\n",
       "      <th>1</th>\n",
       "      <td>as1border1</td>\n",
       "      <td>default</td>\n",
       "      <td>1</td>\n",
       "      <td>None</td>\n",
       "      <td>None</td>\n",
       "      <td>666</td>\n",
       "      <td>None</td>\n",
       "      <td>None</td>\n",
       "      <td>3.2.2.2</td>\n",
       "      <td>EBGP_SINGLEHOP</td>\n",
       "      <td>NOT_COMPATIBLE</td>\n",
       "    </tr>\n",
       "    <tr>\n",
       "      <th>2</th>\n",
       "      <td>as1border1</td>\n",
       "      <td>default</td>\n",
       "      <td>1</td>\n",
       "      <td>None</td>\n",
       "      <td>None</td>\n",
       "      <td>555</td>\n",
       "      <td>None</td>\n",
       "      <td>None</td>\n",
       "      <td>5.6.7.8</td>\n",
       "      <td>EBGP_SINGLEHOP</td>\n",
       "      <td>NOT_COMPATIBLE</td>\n",
       "    </tr>\n",
       "    <tr>\n",
       "      <th>6</th>\n",
       "      <td>as1border2</td>\n",
       "      <td>default</td>\n",
       "      <td>1</td>\n",
       "      <td>None</td>\n",
       "      <td>10.14.22.1</td>\n",
       "      <td>4</td>\n",
       "      <td>None</td>\n",
       "      <td>None</td>\n",
       "      <td>10.14.22.4</td>\n",
       "      <td>EBGP_SINGLEHOP</td>\n",
       "      <td>NOT_COMPATIBLE</td>\n",
       "    </tr>\n",
       "    <tr>\n",
       "      <th>9</th>\n",
       "      <td>as2border1</td>\n",
       "      <td>default</td>\n",
       "      <td>2</td>\n",
       "      <td>None</td>\n",
       "      <td>2.1.1.1</td>\n",
       "      <td>2</td>\n",
       "      <td>as2core1</td>\n",
       "      <td>None</td>\n",
       "      <td>2.1.2.1</td>\n",
       "      <td>IBGP</td>\n",
       "      <td>NOT_ESTABLISHED</td>\n",
       "    </tr>\n",
       "    <tr>\n",
       "      <th>12</th>\n",
       "      <td>as2border2</td>\n",
       "      <td>default</td>\n",
       "      <td>2</td>\n",
       "      <td>None</td>\n",
       "      <td>2.1.1.2</td>\n",
       "      <td>2</td>\n",
       "      <td>as2core1</td>\n",
       "      <td>None</td>\n",
       "      <td>2.1.2.1</td>\n",
       "      <td>IBGP</td>\n",
       "      <td>NOT_ESTABLISHED</td>\n",
       "    </tr>\n",
       "    <tr>\n",
       "      <th>15</th>\n",
       "      <td>as2core1</td>\n",
       "      <td>default</td>\n",
       "      <td>2</td>\n",
       "      <td>None</td>\n",
       "      <td>2.1.2.1</td>\n",
       "      <td>2</td>\n",
       "      <td>as2border1</td>\n",
       "      <td>None</td>\n",
       "      <td>2.1.1.1</td>\n",
       "      <td>IBGP</td>\n",
       "      <td>NOT_ESTABLISHED</td>\n",
       "    </tr>\n",
       "    <tr>\n",
       "      <th>16</th>\n",
       "      <td>as2core1</td>\n",
       "      <td>default</td>\n",
       "      <td>2</td>\n",
       "      <td>None</td>\n",
       "      <td>2.1.2.1</td>\n",
       "      <td>2</td>\n",
       "      <td>as2border2</td>\n",
       "      <td>None</td>\n",
       "      <td>2.1.1.2</td>\n",
       "      <td>IBGP</td>\n",
       "      <td>NOT_ESTABLISHED</td>\n",
       "    </tr>\n",
       "    <tr>\n",
       "      <th>17</th>\n",
       "      <td>as2core1</td>\n",
       "      <td>default</td>\n",
       "      <td>2</td>\n",
       "      <td>None</td>\n",
       "      <td>2.1.2.1</td>\n",
       "      <td>2</td>\n",
       "      <td>as2dist1</td>\n",
       "      <td>None</td>\n",
       "      <td>2.1.3.1</td>\n",
       "      <td>IBGP</td>\n",
       "      <td>NOT_ESTABLISHED</td>\n",
       "    </tr>\n",
       "    <tr>\n",
       "      <th>18</th>\n",
       "      <td>as2core1</td>\n",
       "      <td>default</td>\n",
       "      <td>2</td>\n",
       "      <td>None</td>\n",
       "      <td>2.1.2.1</td>\n",
       "      <td>2</td>\n",
       "      <td>as2dist2</td>\n",
       "      <td>None</td>\n",
       "      <td>2.1.3.2</td>\n",
       "      <td>IBGP</td>\n",
       "      <td>NOT_ESTABLISHED</td>\n",
       "    </tr>\n",
       "    <tr>\n",
       "      <th>25</th>\n",
       "      <td>as2dist1</td>\n",
       "      <td>default</td>\n",
       "      <td>2</td>\n",
       "      <td>None</td>\n",
       "      <td>2.1.3.1</td>\n",
       "      <td>2</td>\n",
       "      <td>as2core1</td>\n",
       "      <td>None</td>\n",
       "      <td>2.1.2.1</td>\n",
       "      <td>IBGP</td>\n",
       "      <td>NOT_ESTABLISHED</td>\n",
       "    </tr>\n",
       "    <tr>\n",
       "      <th>28</th>\n",
       "      <td>as2dist2</td>\n",
       "      <td>default</td>\n",
       "      <td>2</td>\n",
       "      <td>None</td>\n",
       "      <td>2.1.3.2</td>\n",
       "      <td>2</td>\n",
       "      <td>as2core1</td>\n",
       "      <td>None</td>\n",
       "      <td>2.1.2.1</td>\n",
       "      <td>IBGP</td>\n",
       "      <td>NOT_ESTABLISHED</td>\n",
       "    </tr>\n",
       "  </tbody>\n",
       "</table>\n",
       "</div>"
      ],
      "text/plain": [
       "          Node      VRF Local_AS Local_Interface    Local_IP Remote_AS  \\\n",
       "1   as1border1  default  1        None            None        666        \n",
       "2   as1border1  default  1        None            None        555        \n",
       "6   as1border2  default  1        None            10.14.22.1  4          \n",
       "9   as2border1  default  2        None            2.1.1.1     2          \n",
       "12  as2border2  default  2        None            2.1.1.2     2          \n",
       "15  as2core1    default  2        None            2.1.2.1     2          \n",
       "16  as2core1    default  2        None            2.1.2.1     2          \n",
       "17  as2core1    default  2        None            2.1.2.1     2          \n",
       "18  as2core1    default  2        None            2.1.2.1     2          \n",
       "25  as2dist1    default  2        None            2.1.3.1     2          \n",
       "28  as2dist2    default  2        None            2.1.3.2     2          \n",
       "\n",
       "   Remote_Node Remote_Interface   Remote_IP    Session_Type Established_Status  \n",
       "1   None        None             3.2.2.2     EBGP_SINGLEHOP  NOT_COMPATIBLE     \n",
       "2   None        None             5.6.7.8     EBGP_SINGLEHOP  NOT_COMPATIBLE     \n",
       "6   None        None             10.14.22.4  EBGP_SINGLEHOP  NOT_COMPATIBLE     \n",
       "9   as2core1    None             2.1.2.1     IBGP            NOT_ESTABLISHED    \n",
       "12  as2core1    None             2.1.2.1     IBGP            NOT_ESTABLISHED    \n",
       "15  as2border1  None             2.1.1.1     IBGP            NOT_ESTABLISHED    \n",
       "16  as2border2  None             2.1.1.2     IBGP            NOT_ESTABLISHED    \n",
       "17  as2dist1    None             2.1.3.1     IBGP            NOT_ESTABLISHED    \n",
       "18  as2dist2    None             2.1.3.2     IBGP            NOT_ESTABLISHED    \n",
       "25  as2core1    None             2.1.2.1     IBGP            NOT_ESTABLISHED    \n",
       "28  as2core1    None             2.1.2.1     IBGP            NOT_ESTABLISHED    "
      ]
     },
     "execution_count": 23,
     "metadata": {},
     "output_type": "execute_result"
    }
   ],
   "source": [
    "bgpSessStat = bfq.bgpSessionStatus().answer().frame()\n",
    "bgpSessStat[bgpSessStat['Established_Status'] != 'ESTABLISHED']"
   ]
  },
  {
   "cell_type": "markdown",
   "metadata": {},
   "source": [
    "Wow, there are a lot of sessions that are configured, but not established. Let's dig into these issues. Let's find all of the sessions that are not compatibly configured. For that we are looking for sessions which are not either a `UNIQUE_MATCH` or `DYNAMIC_MATCH`. The latter is for peers that are configured with a `listen-range`."
   ]
  },
  {
   "cell_type": "markdown",
   "metadata": {},
   "source": [
    "## Debug sessions that are NOT_COMPATIBLE"
   ]
  },
  {
   "cell_type": "code",
   "execution_count": 25,
   "metadata": {
    "scrolled": false
   },
   "outputs": [
    {
     "data": {
      "text/html": [
       "<div>\n",
       "<style scoped>\n",
       "    .dataframe tbody tr th:only-of-type {\n",
       "        vertical-align: middle;\n",
       "    }\n",
       "\n",
       "    .dataframe tbody tr th {\n",
       "        vertical-align: top;\n",
       "    }\n",
       "\n",
       "    .dataframe thead th {\n",
       "        text-align: right;\n",
       "    }\n",
       "</style>\n",
       "<table border=\"1\" class=\"dataframe tex2jax_ignore\">\n",
       "  <thead>\n",
       "    <tr style=\"text-align: right;\">\n",
       "      <th></th>\n",
       "      <th>Node</th>\n",
       "      <th>VRF</th>\n",
       "      <th>Local_AS</th>\n",
       "      <th>Local_Interface</th>\n",
       "      <th>Local_IP</th>\n",
       "      <th>Remote_AS</th>\n",
       "      <th>Remote_Node</th>\n",
       "      <th>Remote_Interface</th>\n",
       "      <th>Remote_IP</th>\n",
       "      <th>Session_Type</th>\n",
       "      <th>Configured_Status</th>\n",
       "    </tr>\n",
       "  </thead>\n",
       "  <tbody>\n",
       "    <tr>\n",
       "      <th>1</th>\n",
       "      <td>as1border1</td>\n",
       "      <td>default</td>\n",
       "      <td>1</td>\n",
       "      <td>None</td>\n",
       "      <td>None</td>\n",
       "      <td>666</td>\n",
       "      <td>None</td>\n",
       "      <td>None</td>\n",
       "      <td>3.2.2.2</td>\n",
       "      <td>EBGP_SINGLEHOP</td>\n",
       "      <td>NO_LOCAL_IP</td>\n",
       "    </tr>\n",
       "    <tr>\n",
       "      <th>2</th>\n",
       "      <td>as1border1</td>\n",
       "      <td>default</td>\n",
       "      <td>1</td>\n",
       "      <td>None</td>\n",
       "      <td>None</td>\n",
       "      <td>555</td>\n",
       "      <td>None</td>\n",
       "      <td>None</td>\n",
       "      <td>5.6.7.8</td>\n",
       "      <td>EBGP_SINGLEHOP</td>\n",
       "      <td>NO_LOCAL_IP</td>\n",
       "    </tr>\n",
       "    <tr>\n",
       "      <th>6</th>\n",
       "      <td>as1border2</td>\n",
       "      <td>default</td>\n",
       "      <td>1</td>\n",
       "      <td>None</td>\n",
       "      <td>10.14.22.1</td>\n",
       "      <td>4</td>\n",
       "      <td>None</td>\n",
       "      <td>None</td>\n",
       "      <td>10.14.22.4</td>\n",
       "      <td>EBGP_SINGLEHOP</td>\n",
       "      <td>UNKNOWN_REMOTE</td>\n",
       "    </tr>\n",
       "    <tr>\n",
       "      <th>13</th>\n",
       "      <td>as2border2</td>\n",
       "      <td>default</td>\n",
       "      <td>2</td>\n",
       "      <td>None</td>\n",
       "      <td>None</td>\n",
       "      <td>2</td>\n",
       "      <td>None</td>\n",
       "      <td>None</td>\n",
       "      <td>2.1.2.2</td>\n",
       "      <td>IBGP</td>\n",
       "      <td>LOCAL_IP_UNKNOWN_STATICALLY</td>\n",
       "    </tr>\n",
       "  </tbody>\n",
       "</table>\n",
       "</div>"
      ],
      "text/plain": [
       "          Node      VRF Local_AS Local_Interface    Local_IP Remote_AS  \\\n",
       "1   as1border1  default  1        None            None        666        \n",
       "2   as1border1  default  1        None            None        555        \n",
       "6   as1border2  default  1        None            10.14.22.1  4          \n",
       "13  as2border2  default  2        None            None        2          \n",
       "\n",
       "   Remote_Node Remote_Interface   Remote_IP    Session_Type  \\\n",
       "1   None        None             3.2.2.2     EBGP_SINGLEHOP   \n",
       "2   None        None             5.6.7.8     EBGP_SINGLEHOP   \n",
       "6   None        None             10.14.22.4  EBGP_SINGLEHOP   \n",
       "13  None        None             2.1.2.2     IBGP             \n",
       "\n",
       "              Configured_Status  \n",
       "1   NO_LOCAL_IP                  \n",
       "2   NO_LOCAL_IP                  \n",
       "6   UNKNOWN_REMOTE               \n",
       "13  LOCAL_IP_UNKNOWN_STATICALLY  "
      ]
     },
     "execution_count": 25,
     "metadata": {},
     "output_type": "execute_result"
    }
   ],
   "source": [
    "bgpSessCompat = bfq.bgpSessionCompatibility().answer().frame()\n",
    "bgpSessCompat[~bgpSessCompat['Configured_Status'].isin([\"UNIQUE_MATCH\", \"DYNAMIC_MATCH\"])]"
   ]
  },
  {
   "cell_type": "markdown",
   "metadata": {},
   "source": [
    "We see 4 entries in this table even though we only saw 3 BGP session with thes status NOT_COMPATIBLE. This means that despite not having a `Configured_Status` of `UNIQUE_MATCH` or `DYNAMIC_MATCH` one of these sessions was indeed established. This typically occurs if the mis-configuration is such that the session can ONLY be established when initiated from one side, but not the other. The likely candidate in this output is the `as2border2` session to `2.1.2.2` that has status of `LOCAL_IP_UNKNOWN_STATICALLY`."
   ]
  },
  {
   "cell_type": "markdown",
   "metadata": {},
   "source": [
    "### Debug UNKNOWN_REMOTE peer on as1border2"
   ]
  },
  {
   "cell_type": "markdown",
   "metadata": {},
   "source": [
    "Batfish deems the BGP peer `10.14.22.4` is not compatible because it cannot find a device in the snapshot that has that IP address configured on any interface. That is why the status is `UNKNOWN_REMOTE`.\n",
    "This will occur in  most networks, since you will not have the configurations of the devices for your external peers (ISPs, content partners, etc...). We can easily verify this by checking the output of `bfq.ipOwners`"
   ]
  },
  {
   "cell_type": "code",
   "execution_count": 14,
   "metadata": {},
   "outputs": [
    {
     "data": {
      "text/html": [
       "<div>\n",
       "<style scoped>\n",
       "    .dataframe tbody tr th:only-of-type {\n",
       "        vertical-align: middle;\n",
       "    }\n",
       "\n",
       "    .dataframe tbody tr th {\n",
       "        vertical-align: top;\n",
       "    }\n",
       "\n",
       "    .dataframe thead th {\n",
       "        text-align: right;\n",
       "    }\n",
       "</style>\n",
       "<table border=\"1\" class=\"dataframe tex2jax_ignore\">\n",
       "  <thead>\n",
       "    <tr style=\"text-align: right;\">\n",
       "      <th></th>\n",
       "      <th>Node</th>\n",
       "      <th>VRF</th>\n",
       "      <th>Interface</th>\n",
       "      <th>IP</th>\n",
       "      <th>Mask</th>\n",
       "      <th>Active</th>\n",
       "    </tr>\n",
       "  </thead>\n",
       "  <tbody>\n",
       "  </tbody>\n",
       "</table>\n",
       "</div>"
      ],
      "text/plain": [
       "Empty DataFrame\n",
       "Columns: [Node, VRF, Interface, IP, Mask, Active]\n",
       "Index: []"
      ]
     },
     "execution_count": 14,
     "metadata": {},
     "output_type": "execute_result"
    }
   ],
   "source": [
    "# check if there is a node in the network that has the `10.14.22.4` on an interface\n",
    "ipOwn = bfq.ipOwners().answer().frame()\n",
    "ipOwn[ipOwn['IP']=='10.14.22.4']"
   ]
  },
  {
   "cell_type": "markdown",
   "metadata": {},
   "source": [
    "### Debug LOCAL_IP_UNKNOWN_STATICALLY on as2border2"
   ]
  },
  {
   "cell_type": "markdown",
   "metadata": {},
   "source": [
    "Now, let's dig into the sessions that are `LOCAL_IP_UNKNOWN_STATICALLY`.\n",
    "\n",
    "An iBGP session will have the status `LOCAL_IP_UNKNOWN_STATICALLY` if you are missing the `update-source` command.\n",
    "\n",
    "So, in this case, it is likely that the issue is that `as2border2` is missing the `update-source` command on it's BGP session. This is needed for iBGP sessions to ensure the peers pick the correct IP address to use when trying to establish the TCP session. We can find out the target remote node by looking at the `bfq.ipOwners` output"
   ]
  },
  {
   "cell_type": "code",
   "execution_count": 26,
   "metadata": {
    "scrolled": true
   },
   "outputs": [
    {
     "data": {
      "text/html": [
       "<div>\n",
       "<style scoped>\n",
       "    .dataframe tbody tr th:only-of-type {\n",
       "        vertical-align: middle;\n",
       "    }\n",
       "\n",
       "    .dataframe tbody tr th {\n",
       "        vertical-align: top;\n",
       "    }\n",
       "\n",
       "    .dataframe thead th {\n",
       "        text-align: right;\n",
       "    }\n",
       "</style>\n",
       "<table border=\"1\" class=\"dataframe tex2jax_ignore\">\n",
       "  <thead>\n",
       "    <tr style=\"text-align: right;\">\n",
       "      <th></th>\n",
       "      <th>Node</th>\n",
       "      <th>VRF</th>\n",
       "      <th>Interface</th>\n",
       "      <th>IP</th>\n",
       "      <th>Mask</th>\n",
       "      <th>Active</th>\n",
       "    </tr>\n",
       "  </thead>\n",
       "  <tbody>\n",
       "    <tr>\n",
       "      <th>22</th>\n",
       "      <td>as2core2</td>\n",
       "      <td>default</td>\n",
       "      <td>Loopback0</td>\n",
       "      <td>2.1.2.2</td>\n",
       "      <td>32</td>\n",
       "      <td>True</td>\n",
       "    </tr>\n",
       "  </tbody>\n",
       "</table>\n",
       "</div>"
      ],
      "text/plain": [
       "        Node      VRF  Interface       IP Mask Active\n",
       "22  as2core2  default  Loopback0  2.1.2.2  32   True "
      ]
     },
     "execution_count": 26,
     "metadata": {},
     "output_type": "execute_result"
    }
   ],
   "source": [
    "#find the devces that own these ip addresses\n",
    "ipOwn[ipOwn['IP'].isin(['2.1.2.2'])]"
   ]
  },
  {
   "cell_type": "markdown",
   "metadata": {},
   "source": [
    "So the sessions is supposed to be between `as2border2` and `as2core2`. Let's see if this sessions established."
   ]
  },
  {
   "cell_type": "code",
   "execution_count": 16,
   "metadata": {},
   "outputs": [
    {
     "data": {
      "text/html": [
       "<div>\n",
       "<style scoped>\n",
       "    .dataframe tbody tr th:only-of-type {\n",
       "        vertical-align: middle;\n",
       "    }\n",
       "\n",
       "    .dataframe tbody tr th {\n",
       "        vertical-align: top;\n",
       "    }\n",
       "\n",
       "    .dataframe thead th {\n",
       "        text-align: right;\n",
       "    }\n",
       "</style>\n",
       "<table border=\"1\" class=\"dataframe tex2jax_ignore\">\n",
       "  <thead>\n",
       "    <tr style=\"text-align: right;\">\n",
       "      <th></th>\n",
       "      <th>Node</th>\n",
       "      <th>VRF</th>\n",
       "      <th>Local_AS</th>\n",
       "      <th>Local_Interface</th>\n",
       "      <th>Local_IP</th>\n",
       "      <th>Remote_AS</th>\n",
       "      <th>Remote_Node</th>\n",
       "      <th>Remote_Interface</th>\n",
       "      <th>Remote_IP</th>\n",
       "      <th>Session_Type</th>\n",
       "      <th>Established_Status</th>\n",
       "    </tr>\n",
       "  </thead>\n",
       "  <tbody>\n",
       "    <tr>\n",
       "      <th>20</th>\n",
       "      <td>as2core2</td>\n",
       "      <td>default</td>\n",
       "      <td>2</td>\n",
       "      <td>None</td>\n",
       "      <td>2.1.2.2</td>\n",
       "      <td>2</td>\n",
       "      <td>as2border2</td>\n",
       "      <td>None</td>\n",
       "      <td>2.1.1.2</td>\n",
       "      <td>IBGP</td>\n",
       "      <td>ESTABLISHED</td>\n",
       "    </tr>\n",
       "  </tbody>\n",
       "</table>\n",
       "</div>"
      ],
      "text/plain": [
       "        Node      VRF Local_AS Local_Interface Local_IP Remote_AS Remote_Node  \\\n",
       "20  as2core2  default  2        None            2.1.2.2  2         as2border2   \n",
       "\n",
       "   Remote_Interface Remote_IP Session_Type Established_Status  \n",
       "20  None             2.1.1.2   IBGP         ESTABLISHED        "
      ]
     },
     "execution_count": 16,
     "metadata": {},
     "output_type": "execute_result"
    }
   ],
   "source": [
    "# check if either direction of the session can be established\n",
    "bgpSessStat[((bgpSessStat['Local_IP']=='2.1.1.2') & (bgpSessStat['Remote_IP']=='2.1.2.2')) | ((bgpSessStat['Local_IP']=='2.1.2.2') & (bgpSessStat['Remote_IP']=='2.1.1.2'))]"
   ]
  },
  {
   "cell_type": "markdown",
   "metadata": {},
   "source": [
    "This confirms that our theory. We are missing the `update-source` command on `as2border2` which prevents it from initiating the BGP session. But since `as2core2` is properly configured, the session is established. "
   ]
  },
  {
   "cell_type": "markdown",
   "metadata": {},
   "source": [
    "### Debug NO_LOCAL_IP on as1border1"
   ]
  },
  {
   "cell_type": "code",
   "execution_count": 28,
   "metadata": {},
   "outputs": [
    {
     "data": {
      "text/html": [
       "<div>\n",
       "<style scoped>\n",
       "    .dataframe tbody tr th:only-of-type {\n",
       "        vertical-align: middle;\n",
       "    }\n",
       "\n",
       "    .dataframe tbody tr th {\n",
       "        vertical-align: top;\n",
       "    }\n",
       "\n",
       "    .dataframe thead th {\n",
       "        text-align: right;\n",
       "    }\n",
       "</style>\n",
       "<table border=\"1\" class=\"dataframe tex2jax_ignore\">\n",
       "  <thead>\n",
       "    <tr style=\"text-align: right;\">\n",
       "      <th></th>\n",
       "      <th>Node</th>\n",
       "      <th>VRF</th>\n",
       "      <th>Local_AS</th>\n",
       "      <th>Local_Interface</th>\n",
       "      <th>Local_IP</th>\n",
       "      <th>Remote_AS</th>\n",
       "      <th>Remote_Node</th>\n",
       "      <th>Remote_Interface</th>\n",
       "      <th>Remote_IP</th>\n",
       "      <th>Session_Type</th>\n",
       "      <th>Configured_Status</th>\n",
       "    </tr>\n",
       "  </thead>\n",
       "  <tbody>\n",
       "    <tr>\n",
       "      <th>1</th>\n",
       "      <td>as1border1</td>\n",
       "      <td>default</td>\n",
       "      <td>1</td>\n",
       "      <td>None</td>\n",
       "      <td>None</td>\n",
       "      <td>666</td>\n",
       "      <td>None</td>\n",
       "      <td>None</td>\n",
       "      <td>3.2.2.2</td>\n",
       "      <td>EBGP_SINGLEHOP</td>\n",
       "      <td>NO_LOCAL_IP</td>\n",
       "    </tr>\n",
       "    <tr>\n",
       "      <th>2</th>\n",
       "      <td>as1border1</td>\n",
       "      <td>default</td>\n",
       "      <td>1</td>\n",
       "      <td>None</td>\n",
       "      <td>None</td>\n",
       "      <td>555</td>\n",
       "      <td>None</td>\n",
       "      <td>None</td>\n",
       "      <td>5.6.7.8</td>\n",
       "      <td>EBGP_SINGLEHOP</td>\n",
       "      <td>NO_LOCAL_IP</td>\n",
       "    </tr>\n",
       "  </tbody>\n",
       "</table>\n",
       "</div>"
      ],
      "text/plain": [
       "         Node      VRF Local_AS Local_Interface Local_IP Remote_AS  \\\n",
       "1  as1border1  default  1        None            None     666        \n",
       "2  as1border1  default  1        None            None     555        \n",
       "\n",
       "  Remote_Node Remote_Interface Remote_IP    Session_Type Configured_Status  \n",
       "1  None        None             3.2.2.2   EBGP_SINGLEHOP  NO_LOCAL_IP       \n",
       "2  None        None             5.6.7.8   EBGP_SINGLEHOP  NO_LOCAL_IP       "
      ]
     },
     "execution_count": 28,
     "metadata": {},
     "output_type": "execute_result"
    }
   ],
   "source": [
    "bgpSessCompat[(~bgpSessCompat['Configured_Status'].isin([\"UNIQUE_MATCH\", \"DYNAMIC_MATCH\"])) & (bgpSessCompat['Node']=='as1border1')]"
   ]
  },
  {
   "cell_type": "markdown",
   "metadata": {},
   "source": [
    "For an `EBGP_SINGLEHOP` session to have `CONFIGURED_STATUS` of `NO_LOCAL_IP` this typically means that no interface exists on the box which is in the same subnet as the BGP peer's IP address. This can easily be checked by looking at the IP addresses configued on `as1border1`."
   ]
  },
  {
   "cell_type": "code",
   "execution_count": 30,
   "metadata": {},
   "outputs": [
    {
     "data": {
      "text/html": [
       "<div>\n",
       "<style scoped>\n",
       "    .dataframe tbody tr th:only-of-type {\n",
       "        vertical-align: middle;\n",
       "    }\n",
       "\n",
       "    .dataframe tbody tr th {\n",
       "        vertical-align: top;\n",
       "    }\n",
       "\n",
       "    .dataframe thead th {\n",
       "        text-align: right;\n",
       "    }\n",
       "</style>\n",
       "<table border=\"1\" class=\"dataframe tex2jax_ignore\">\n",
       "  <thead>\n",
       "    <tr style=\"text-align: right;\">\n",
       "      <th></th>\n",
       "      <th>Node</th>\n",
       "      <th>VRF</th>\n",
       "      <th>Interface</th>\n",
       "      <th>IP</th>\n",
       "      <th>Mask</th>\n",
       "      <th>Active</th>\n",
       "    </tr>\n",
       "  </thead>\n",
       "  <tbody>\n",
       "    <tr>\n",
       "      <th>7</th>\n",
       "      <td>as1border1</td>\n",
       "      <td>default</td>\n",
       "      <td>GigabitEthernet1/0</td>\n",
       "      <td>10.12.11.1</td>\n",
       "      <td>24</td>\n",
       "      <td>True</td>\n",
       "    </tr>\n",
       "    <tr>\n",
       "      <th>14</th>\n",
       "      <td>as1border1</td>\n",
       "      <td>default</td>\n",
       "      <td>GigabitEthernet0/0</td>\n",
       "      <td>1.0.1.1</td>\n",
       "      <td>24</td>\n",
       "      <td>True</td>\n",
       "    </tr>\n",
       "    <tr>\n",
       "      <th>19</th>\n",
       "      <td>as1border1</td>\n",
       "      <td>default</td>\n",
       "      <td>Loopback0</td>\n",
       "      <td>1.1.1.1</td>\n",
       "      <td>32</td>\n",
       "      <td>True</td>\n",
       "    </tr>\n",
       "  </tbody>\n",
       "</table>\n",
       "</div>"
      ],
      "text/plain": [
       "          Node      VRF           Interface          IP Mask Active\n",
       "7   as1border1  default  GigabitEthernet1/0  10.12.11.1  24   True \n",
       "14  as1border1  default  GigabitEthernet0/0  1.0.1.1     24   True \n",
       "19  as1border1  default  Loopback0           1.1.1.1     32   True "
      ]
     },
     "execution_count": 30,
     "metadata": {},
     "output_type": "execute_result"
    }
   ],
   "source": [
    "ipOwn[ipOwn['Node']=='as1border1']"
   ]
  },
  {
   "cell_type": "markdown",
   "metadata": {},
   "source": [
    "As you can see there are no interfaces with addresses that would be in the same subnet as `3.2.2.2` and `5.6.7.8`. There could be many explanations for this - 1) Peers configured ahead of the circuit connecting the neighbors is ready, 2) incorrect BGP peer address, 3) The interfaces used to exist but were decommissioned, however the BGP config was not cleaned up, 4) should be an eBGP multi-hop session with an explicit update source,  etc..."
   ]
  },
  {
   "cell_type": "markdown",
   "metadata": {},
   "source": [
    "Batfish determines the Local_IP for each BGP session, either based on explicit configuration with `updates-source foo` (or equivalent non-IOS command) for iBGP sessions or eBGP multi-hop sessions,\n",
    "or by determining the interface the router will use to send packets towards the BGP peer. The latter method requires the route to the peer to be known.\n",
    "\n",
    "So, if there is no route to the configured peer, or the configured peer does not exist in the snapshot, you will see this status. We can check the output of `bfq.routes` and `bfq.ipOwners` questions to dig into this"
   ]
  },
  {
   "cell_type": "code",
   "execution_count": 31,
   "metadata": {},
   "outputs": [],
   "source": [
    "bad_bgp_peer = ['3.2.2.2', '5.6.7.8']"
   ]
  },
  {
   "cell_type": "code",
   "execution_count": 32,
   "metadata": {},
   "outputs": [
    {
     "data": {
      "text/html": [
       "<div>\n",
       "<style scoped>\n",
       "    .dataframe tbody tr th:only-of-type {\n",
       "        vertical-align: middle;\n",
       "    }\n",
       "\n",
       "    .dataframe tbody tr th {\n",
       "        vertical-align: top;\n",
       "    }\n",
       "\n",
       "    .dataframe thead th {\n",
       "        text-align: right;\n",
       "    }\n",
       "</style>\n",
       "<table border=\"1\" class=\"dataframe tex2jax_ignore\">\n",
       "  <thead>\n",
       "    <tr style=\"text-align: right;\">\n",
       "      <th></th>\n",
       "      <th>Node</th>\n",
       "      <th>VRF</th>\n",
       "      <th>Interface</th>\n",
       "      <th>IP</th>\n",
       "      <th>Mask</th>\n",
       "      <th>Active</th>\n",
       "    </tr>\n",
       "  </thead>\n",
       "  <tbody>\n",
       "    <tr>\n",
       "      <th>10</th>\n",
       "      <td>as3border2</td>\n",
       "      <td>default</td>\n",
       "      <td>Loopback0</td>\n",
       "      <td>3.2.2.2</td>\n",
       "      <td>32</td>\n",
       "      <td>True</td>\n",
       "    </tr>\n",
       "  </tbody>\n",
       "</table>\n",
       "</div>"
      ],
      "text/plain": [
       "          Node      VRF  Interface       IP Mask Active\n",
       "10  as3border2  default  Loopback0  3.2.2.2  32   True "
      ]
     },
     "execution_count": 32,
     "metadata": {},
     "output_type": "execute_result"
    }
   ],
   "source": [
    "ipOwn[ipOwn['IP'].isin(bad_bgp_peer)]"
   ]
  },
  {
   "cell_type": "markdown",
   "metadata": {},
   "source": [
    "So we can see that `5.6.7.8` does not exist in the network. This either means there is a mis-configuration, or the device is just not expected to be in the snapshot."
   ]
  },
  {
   "cell_type": "markdown",
   "metadata": {},
   "source": [
    "Now let's dig into the peer `3.2.2.2`, which we know is the Loopback interface on `as3border2`"
   ]
  },
  {
   "cell_type": "code",
   "execution_count": 33,
   "metadata": {},
   "outputs": [
    {
     "data": {
      "text/html": [
       "<div>\n",
       "<style scoped>\n",
       "    .dataframe tbody tr th:only-of-type {\n",
       "        vertical-align: middle;\n",
       "    }\n",
       "\n",
       "    .dataframe tbody tr th {\n",
       "        vertical-align: top;\n",
       "    }\n",
       "\n",
       "    .dataframe thead th {\n",
       "        text-align: right;\n",
       "    }\n",
       "</style>\n",
       "<table border=\"1\" class=\"dataframe tex2jax_ignore\">\n",
       "  <thead>\n",
       "    <tr style=\"text-align: right;\">\n",
       "      <th></th>\n",
       "      <th>Node</th>\n",
       "      <th>VRF</th>\n",
       "      <th>Network</th>\n",
       "      <th>Next_Hop</th>\n",
       "      <th>Next_Hop_IP</th>\n",
       "      <th>Next_Hop_Interface</th>\n",
       "      <th>Protocol</th>\n",
       "      <th>Metric</th>\n",
       "      <th>Admin_Distance</th>\n",
       "      <th>Tag</th>\n",
       "    </tr>\n",
       "  </thead>\n",
       "  <tbody>\n",
       "  </tbody>\n",
       "</table>\n",
       "</div>"
      ],
      "text/plain": [
       "Empty DataFrame\n",
       "Columns: [Node, VRF, Network, Next_Hop, Next_Hop_IP, Next_Hop_Interface, Protocol, Metric, Admin_Distance, Tag]\n",
       "Index: []"
      ]
     },
     "execution_count": 33,
     "metadata": {},
     "output_type": "execute_result"
    }
   ],
   "source": [
    "routes = bfq.routes(network='3.2.2.2/32').answer().frame()\n",
    "routes[routes['Node']=='as1border1']"
   ]
  },
  {
   "cell_type": "markdown",
   "metadata": {},
   "source": [
    "The specific /32 is not present on `as1border1`. What about other routers?"
   ]
  },
  {
   "cell_type": "code",
   "execution_count": 34,
   "metadata": {},
   "outputs": [
    {
     "data": {
      "text/html": [
       "<div>\n",
       "<style scoped>\n",
       "    .dataframe tbody tr th:only-of-type {\n",
       "        vertical-align: middle;\n",
       "    }\n",
       "\n",
       "    .dataframe tbody tr th {\n",
       "        vertical-align: top;\n",
       "    }\n",
       "\n",
       "    .dataframe thead th {\n",
       "        text-align: right;\n",
       "    }\n",
       "</style>\n",
       "<table border=\"1\" class=\"dataframe tex2jax_ignore\">\n",
       "  <thead>\n",
       "    <tr style=\"text-align: right;\">\n",
       "      <th></th>\n",
       "      <th>Node</th>\n",
       "      <th>VRF</th>\n",
       "      <th>Network</th>\n",
       "      <th>Next_Hop</th>\n",
       "      <th>Next_Hop_IP</th>\n",
       "      <th>Next_Hop_Interface</th>\n",
       "      <th>Protocol</th>\n",
       "      <th>Metric</th>\n",
       "      <th>Admin_Distance</th>\n",
       "      <th>Tag</th>\n",
       "    </tr>\n",
       "  </thead>\n",
       "  <tbody>\n",
       "    <tr>\n",
       "      <th>0</th>\n",
       "      <td>as3border1</td>\n",
       "      <td>default</td>\n",
       "      <td>3.2.2.2/32</td>\n",
       "      <td>as3core1</td>\n",
       "      <td>3.0.1.2</td>\n",
       "      <td>dynamic</td>\n",
       "      <td>ospf</td>\n",
       "      <td>3</td>\n",
       "      <td>110</td>\n",
       "      <td>None</td>\n",
       "    </tr>\n",
       "    <tr>\n",
       "      <th>1</th>\n",
       "      <td>as3border2</td>\n",
       "      <td>default</td>\n",
       "      <td>3.2.2.2/32</td>\n",
       "      <td>None</td>\n",
       "      <td>AUTO/NONE(-1l)</td>\n",
       "      <td>Loopback0</td>\n",
       "      <td>connected</td>\n",
       "      <td>0</td>\n",
       "      <td>0</td>\n",
       "      <td>None</td>\n",
       "    </tr>\n",
       "    <tr>\n",
       "      <th>2</th>\n",
       "      <td>as3core1</td>\n",
       "      <td>default</td>\n",
       "      <td>3.2.2.2/32</td>\n",
       "      <td>as3border2</td>\n",
       "      <td>3.0.2.1</td>\n",
       "      <td>dynamic</td>\n",
       "      <td>ospf</td>\n",
       "      <td>2</td>\n",
       "      <td>110</td>\n",
       "      <td>None</td>\n",
       "    </tr>\n",
       "  </tbody>\n",
       "</table>\n",
       "</div>"
      ],
      "text/plain": [
       "         Node      VRF     Network    Next_Hop     Next_Hop_IP  \\\n",
       "0  as3border1  default  3.2.2.2/32  as3core1    3.0.1.2          \n",
       "1  as3border2  default  3.2.2.2/32  None        AUTO/NONE(-1l)   \n",
       "2  as3core1    default  3.2.2.2/32  as3border2  3.0.2.1          \n",
       "\n",
       "  Next_Hop_Interface   Protocol Metric Admin_Distance   Tag  \n",
       "0  dynamic            ospf       3      110            None  \n",
       "1  Loopback0          connected  0      0              None  \n",
       "2  dynamic            ospf       2      110            None  "
      ]
     },
     "execution_count": 34,
     "metadata": {},
     "output_type": "execute_result"
    }
   ],
   "source": [
    "routes"
   ]
  },
  {
   "cell_type": "markdown",
   "metadata": {},
   "source": [
    "We can see that this route does not leave `as3`, which is why `as1border1` is unable to established the configured BGP session.\n",
    "This session should have been configured as an eBGP multi-hop session with static routes pointing to the appropriate interface and next-hop"
   ]
  },
  {
   "cell_type": "markdown",
   "metadata": {},
   "source": [
    "## Debugging BGP sessions that are NOT_ESTABLISHED"
   ]
  },
  {
   "cell_type": "markdown",
   "metadata": {},
   "source": [
    "We have root-caused the `NOT_COMPATIBLE` sessions, now let's dig into the ones that are `NOT_ESTABLISHED`."
   ]
  },
  {
   "cell_type": "code",
   "execution_count": 40,
   "metadata": {},
   "outputs": [
    {
     "data": {
      "text/html": [
       "<div>\n",
       "<style scoped>\n",
       "    .dataframe tbody tr th:only-of-type {\n",
       "        vertical-align: middle;\n",
       "    }\n",
       "\n",
       "    .dataframe tbody tr th {\n",
       "        vertical-align: top;\n",
       "    }\n",
       "\n",
       "    .dataframe thead th {\n",
       "        text-align: right;\n",
       "    }\n",
       "</style>\n",
       "<table border=\"1\" class=\"dataframe tex2jax_ignore\">\n",
       "  <thead>\n",
       "    <tr style=\"text-align: right;\">\n",
       "      <th></th>\n",
       "      <th>Node</th>\n",
       "      <th>VRF</th>\n",
       "      <th>Local_AS</th>\n",
       "      <th>Local_Interface</th>\n",
       "      <th>Local_IP</th>\n",
       "      <th>Remote_AS</th>\n",
       "      <th>Remote_Node</th>\n",
       "      <th>Remote_Interface</th>\n",
       "      <th>Remote_IP</th>\n",
       "      <th>Session_Type</th>\n",
       "      <th>Established_Status</th>\n",
       "    </tr>\n",
       "  </thead>\n",
       "  <tbody>\n",
       "    <tr>\n",
       "      <th>9</th>\n",
       "      <td>as2border1</td>\n",
       "      <td>default</td>\n",
       "      <td>2</td>\n",
       "      <td>None</td>\n",
       "      <td>2.1.1.1</td>\n",
       "      <td>2</td>\n",
       "      <td>as2core1</td>\n",
       "      <td>None</td>\n",
       "      <td>2.1.2.1</td>\n",
       "      <td>IBGP</td>\n",
       "      <td>NOT_ESTABLISHED</td>\n",
       "    </tr>\n",
       "    <tr>\n",
       "      <th>12</th>\n",
       "      <td>as2border2</td>\n",
       "      <td>default</td>\n",
       "      <td>2</td>\n",
       "      <td>None</td>\n",
       "      <td>2.1.1.2</td>\n",
       "      <td>2</td>\n",
       "      <td>as2core1</td>\n",
       "      <td>None</td>\n",
       "      <td>2.1.2.1</td>\n",
       "      <td>IBGP</td>\n",
       "      <td>NOT_ESTABLISHED</td>\n",
       "    </tr>\n",
       "    <tr>\n",
       "      <th>15</th>\n",
       "      <td>as2core1</td>\n",
       "      <td>default</td>\n",
       "      <td>2</td>\n",
       "      <td>None</td>\n",
       "      <td>2.1.2.1</td>\n",
       "      <td>2</td>\n",
       "      <td>as2border1</td>\n",
       "      <td>None</td>\n",
       "      <td>2.1.1.1</td>\n",
       "      <td>IBGP</td>\n",
       "      <td>NOT_ESTABLISHED</td>\n",
       "    </tr>\n",
       "    <tr>\n",
       "      <th>16</th>\n",
       "      <td>as2core1</td>\n",
       "      <td>default</td>\n",
       "      <td>2</td>\n",
       "      <td>None</td>\n",
       "      <td>2.1.2.1</td>\n",
       "      <td>2</td>\n",
       "      <td>as2border2</td>\n",
       "      <td>None</td>\n",
       "      <td>2.1.1.2</td>\n",
       "      <td>IBGP</td>\n",
       "      <td>NOT_ESTABLISHED</td>\n",
       "    </tr>\n",
       "    <tr>\n",
       "      <th>17</th>\n",
       "      <td>as2core1</td>\n",
       "      <td>default</td>\n",
       "      <td>2</td>\n",
       "      <td>None</td>\n",
       "      <td>2.1.2.1</td>\n",
       "      <td>2</td>\n",
       "      <td>as2dist1</td>\n",
       "      <td>None</td>\n",
       "      <td>2.1.3.1</td>\n",
       "      <td>IBGP</td>\n",
       "      <td>NOT_ESTABLISHED</td>\n",
       "    </tr>\n",
       "    <tr>\n",
       "      <th>18</th>\n",
       "      <td>as2core1</td>\n",
       "      <td>default</td>\n",
       "      <td>2</td>\n",
       "      <td>None</td>\n",
       "      <td>2.1.2.1</td>\n",
       "      <td>2</td>\n",
       "      <td>as2dist2</td>\n",
       "      <td>None</td>\n",
       "      <td>2.1.3.2</td>\n",
       "      <td>IBGP</td>\n",
       "      <td>NOT_ESTABLISHED</td>\n",
       "    </tr>\n",
       "    <tr>\n",
       "      <th>25</th>\n",
       "      <td>as2dist1</td>\n",
       "      <td>default</td>\n",
       "      <td>2</td>\n",
       "      <td>None</td>\n",
       "      <td>2.1.3.1</td>\n",
       "      <td>2</td>\n",
       "      <td>as2core1</td>\n",
       "      <td>None</td>\n",
       "      <td>2.1.2.1</td>\n",
       "      <td>IBGP</td>\n",
       "      <td>NOT_ESTABLISHED</td>\n",
       "    </tr>\n",
       "    <tr>\n",
       "      <th>28</th>\n",
       "      <td>as2dist2</td>\n",
       "      <td>default</td>\n",
       "      <td>2</td>\n",
       "      <td>None</td>\n",
       "      <td>2.1.3.2</td>\n",
       "      <td>2</td>\n",
       "      <td>as2core1</td>\n",
       "      <td>None</td>\n",
       "      <td>2.1.2.1</td>\n",
       "      <td>IBGP</td>\n",
       "      <td>NOT_ESTABLISHED</td>\n",
       "    </tr>\n",
       "  </tbody>\n",
       "</table>\n",
       "</div>"
      ],
      "text/plain": [
       "          Node      VRF Local_AS Local_Interface Local_IP Remote_AS  \\\n",
       "9   as2border1  default  2        None            2.1.1.1  2          \n",
       "12  as2border2  default  2        None            2.1.1.2  2          \n",
       "15  as2core1    default  2        None            2.1.2.1  2          \n",
       "16  as2core1    default  2        None            2.1.2.1  2          \n",
       "17  as2core1    default  2        None            2.1.2.1  2          \n",
       "18  as2core1    default  2        None            2.1.2.1  2          \n",
       "25  as2dist1    default  2        None            2.1.3.1  2          \n",
       "28  as2dist2    default  2        None            2.1.3.2  2          \n",
       "\n",
       "   Remote_Node Remote_Interface Remote_IP Session_Type Established_Status  \n",
       "9   as2core1    None             2.1.2.1   IBGP         NOT_ESTABLISHED    \n",
       "12  as2core1    None             2.1.2.1   IBGP         NOT_ESTABLISHED    \n",
       "15  as2border1  None             2.1.1.1   IBGP         NOT_ESTABLISHED    \n",
       "16  as2border2  None             2.1.1.2   IBGP         NOT_ESTABLISHED    \n",
       "17  as2dist1    None             2.1.3.1   IBGP         NOT_ESTABLISHED    \n",
       "18  as2dist2    None             2.1.3.2   IBGP         NOT_ESTABLISHED    \n",
       "25  as2core1    None             2.1.2.1   IBGP         NOT_ESTABLISHED    \n",
       "28  as2core1    None             2.1.2.1   IBGP         NOT_ESTABLISHED    "
      ]
     },
     "execution_count": 40,
     "metadata": {},
     "output_type": "execute_result"
    }
   ],
   "source": [
    "bgpSessStat[bgpSessStat['Established_Status'] == 'NOT_ESTABLISHED']"
   ]
  },
  {
   "cell_type": "markdown",
   "metadata": {},
   "source": [
    "The  reasons for a session that is compatiable (`UNIQUE_MATCH` or `DYNAMIC_MATCH`) to not get established would be 1) missing routes or 2) some ACL in the path blocking traffic. Let's check the routing tables on `as2core1`"
   ]
  },
  {
   "cell_type": "code",
   "execution_count": 48,
   "metadata": {},
   "outputs": [
    {
     "data": {
      "text/html": [
       "<div>\n",
       "<style scoped>\n",
       "    .dataframe tbody tr th:only-of-type {\n",
       "        vertical-align: middle;\n",
       "    }\n",
       "\n",
       "    .dataframe tbody tr th {\n",
       "        vertical-align: top;\n",
       "    }\n",
       "\n",
       "    .dataframe thead th {\n",
       "        text-align: right;\n",
       "    }\n",
       "</style>\n",
       "<table border=\"1\" class=\"dataframe tex2jax_ignore\">\n",
       "  <thead>\n",
       "    <tr style=\"text-align: right;\">\n",
       "      <th></th>\n",
       "      <th>Node</th>\n",
       "      <th>VRF</th>\n",
       "      <th>Network</th>\n",
       "      <th>Next_Hop</th>\n",
       "      <th>Next_Hop_IP</th>\n",
       "      <th>Next_Hop_Interface</th>\n",
       "      <th>Protocol</th>\n",
       "      <th>Metric</th>\n",
       "      <th>Admin_Distance</th>\n",
       "      <th>Tag</th>\n",
       "    </tr>\n",
       "  </thead>\n",
       "  <tbody>\n",
       "    <tr>\n",
       "      <th>2</th>\n",
       "      <td>as2core1</td>\n",
       "      <td>default</td>\n",
       "      <td>2.1.1.1/32</td>\n",
       "      <td>as2border1</td>\n",
       "      <td>2.12.11.1</td>\n",
       "      <td>dynamic</td>\n",
       "      <td>ospf</td>\n",
       "      <td>2</td>\n",
       "      <td>110</td>\n",
       "      <td>None</td>\n",
       "    </tr>\n",
       "  </tbody>\n",
       "</table>\n",
       "</div>"
      ],
      "text/plain": [
       "       Node      VRF     Network    Next_Hop Next_Hop_IP Next_Hop_Interface  \\\n",
       "2  as2core1  default  2.1.1.1/32  as2border1  2.12.11.1   dynamic             \n",
       "\n",
       "  Protocol Metric Admin_Distance   Tag  \n",
       "2  ospf     2      110            None  "
      ]
     },
     "execution_count": 48,
     "metadata": {},
     "output_type": "execute_result"
    }
   ],
   "source": [
    "routes = bfq.routes(nodes='as2core1').answer().frame()\n",
    "routes[routes['Network']=='2.1.1.1/32']"
   ]
  },
  {
   "cell_type": "markdown",
   "metadata": {},
   "source": [
    "As we can see `as2core1` has a route to it's configured neighbor `2.1.1.1`. What about the other routers?"
   ]
  },
  {
   "cell_type": "code",
   "execution_count": 49,
   "metadata": {},
   "outputs": [
    {
     "data": {
      "text/html": [
       "<div>\n",
       "<style scoped>\n",
       "    .dataframe tbody tr th:only-of-type {\n",
       "        vertical-align: middle;\n",
       "    }\n",
       "\n",
       "    .dataframe tbody tr th {\n",
       "        vertical-align: top;\n",
       "    }\n",
       "\n",
       "    .dataframe thead th {\n",
       "        text-align: right;\n",
       "    }\n",
       "</style>\n",
       "<table border=\"1\" class=\"dataframe tex2jax_ignore\">\n",
       "  <thead>\n",
       "    <tr style=\"text-align: right;\">\n",
       "      <th></th>\n",
       "      <th>Node</th>\n",
       "      <th>VRF</th>\n",
       "      <th>Network</th>\n",
       "      <th>Next_Hop</th>\n",
       "      <th>Next_Hop_IP</th>\n",
       "      <th>Next_Hop_Interface</th>\n",
       "      <th>Protocol</th>\n",
       "      <th>Metric</th>\n",
       "      <th>Admin_Distance</th>\n",
       "      <th>Tag</th>\n",
       "    </tr>\n",
       "  </thead>\n",
       "  <tbody>\n",
       "  </tbody>\n",
       "</table>\n",
       "</div>"
      ],
      "text/plain": [
       "Empty DataFrame\n",
       "Columns: [Node, VRF, Network, Next_Hop, Next_Hop_IP, Next_Hop_Interface, Protocol, Metric, Admin_Distance, Tag]\n",
       "Index: []"
      ]
     },
     "execution_count": 49,
     "metadata": {},
     "output_type": "execute_result"
    }
   ],
   "source": [
    "routes=bfq.routes(nodes='as2border1').answer().frame()\n",
    "routes[routes['Network']=='2.1.2.1/32']"
   ]
  },
  {
   "cell_type": "markdown",
   "metadata": {},
   "source": [
    "`as2border1` does not have a route to the loopback address `2.1.2.1` of `as2core1`. Let's also check `as2border2`."
   ]
  },
  {
   "cell_type": "code",
   "execution_count": 50,
   "metadata": {},
   "outputs": [
    {
     "data": {
      "text/html": [
       "<div>\n",
       "<style scoped>\n",
       "    .dataframe tbody tr th:only-of-type {\n",
       "        vertical-align: middle;\n",
       "    }\n",
       "\n",
       "    .dataframe tbody tr th {\n",
       "        vertical-align: top;\n",
       "    }\n",
       "\n",
       "    .dataframe thead th {\n",
       "        text-align: right;\n",
       "    }\n",
       "</style>\n",
       "<table border=\"1\" class=\"dataframe tex2jax_ignore\">\n",
       "  <thead>\n",
       "    <tr style=\"text-align: right;\">\n",
       "      <th></th>\n",
       "      <th>Node</th>\n",
       "      <th>VRF</th>\n",
       "      <th>Network</th>\n",
       "      <th>Next_Hop</th>\n",
       "      <th>Next_Hop_IP</th>\n",
       "      <th>Next_Hop_Interface</th>\n",
       "      <th>Protocol</th>\n",
       "      <th>Metric</th>\n",
       "      <th>Admin_Distance</th>\n",
       "      <th>Tag</th>\n",
       "    </tr>\n",
       "  </thead>\n",
       "  <tbody>\n",
       "  </tbody>\n",
       "</table>\n",
       "</div>"
      ],
      "text/plain": [
       "Empty DataFrame\n",
       "Columns: [Node, VRF, Network, Next_Hop, Next_Hop_IP, Next_Hop_Interface, Protocol, Metric, Admin_Distance, Tag]\n",
       "Index: []"
      ]
     },
     "execution_count": 50,
     "metadata": {},
     "output_type": "execute_result"
    }
   ],
   "source": [
    "routes=bfq.routes(nodes='as2border2').answer().frame()\n",
    "routes[routes['Network']=='2.1.2.1/32']"
   ]
  },
  {
   "cell_type": "markdown",
   "metadata": {},
   "source": [
    "Neither border router has a route to the loopback of `as2core1`. Since the loopback is supposed to be distributed via OSPF, next step is to look at the OSPF configuration on `as2core1`"
   ]
  },
  {
   "cell_type": "markdown",
   "metadata": {},
   "source": [
    "From the snippet of the configuration of `as2core1`, we can see that the Loopback address isn't part of the OSPF process:\n",
    "```\n",
    "interface Loopback0\n",
    " ip address 2.1.2.1 255.255.255.255\n",
    "\n",
    "router ospf 1\n",
    " router-id 2.1.2.1\n",
    " !network 2.0.0.0 0.255.255.255 area 1\n",
    " network 2.12.0.0 0.0.255.255 area 1\n",
    " network 2.23.0.0 0.0.255.255 area 1\n",
    " ```\n",
    " \n",
    " This explains why the BGP session wasn't established.\n"
   ]
  },
  {
   "cell_type": "markdown",
   "metadata": {},
   "source": [
    "We have finished debugging all of the sessions that were NOT_ESTABLISHED."
   ]
  },
  {
   "cell_type": "markdown",
   "metadata": {},
   "source": [
    "### Now let's look at how Batfish treats dynamic BGP sessions configured using a listen-range"
   ]
  },
  {
   "cell_type": "markdown",
   "metadata": {},
   "source": [
    "We identify routers that are configured with dynamic BGP sessions by looking for `DYNAMIC_MATCH` in the `bfq.bgpSessionCompatibility` question"
   ]
  },
  {
   "cell_type": "code",
   "execution_count": 51,
   "metadata": {},
   "outputs": [
    {
     "data": {
      "text/html": [
       "<div>\n",
       "<style scoped>\n",
       "    .dataframe tbody tr th:only-of-type {\n",
       "        vertical-align: middle;\n",
       "    }\n",
       "\n",
       "    .dataframe tbody tr th {\n",
       "        vertical-align: top;\n",
       "    }\n",
       "\n",
       "    .dataframe thead th {\n",
       "        text-align: right;\n",
       "    }\n",
       "</style>\n",
       "<table border=\"1\" class=\"dataframe tex2jax_ignore\">\n",
       "  <thead>\n",
       "    <tr style=\"text-align: right;\">\n",
       "      <th></th>\n",
       "      <th>Node</th>\n",
       "      <th>VRF</th>\n",
       "      <th>Local_AS</th>\n",
       "      <th>Local_Interface</th>\n",
       "      <th>Local_IP</th>\n",
       "      <th>Remote_AS</th>\n",
       "      <th>Remote_Node</th>\n",
       "      <th>Remote_Interface</th>\n",
       "      <th>Remote_IP</th>\n",
       "      <th>Session_Type</th>\n",
       "      <th>Configured_Status</th>\n",
       "    </tr>\n",
       "  </thead>\n",
       "  <tbody>\n",
       "    <tr>\n",
       "      <th>27</th>\n",
       "      <td>as2dist1</td>\n",
       "      <td>default</td>\n",
       "      <td>2</td>\n",
       "      <td>None</td>\n",
       "      <td>AUTO/NONE(-1l)</td>\n",
       "      <td>65001</td>\n",
       "      <td>as2dept1</td>\n",
       "      <td>None</td>\n",
       "      <td>2.34.101.4</td>\n",
       "      <td>EBGP_SINGLEHOP</td>\n",
       "      <td>DYNAMIC_MATCH</td>\n",
       "    </tr>\n",
       "    <tr>\n",
       "      <th>30</th>\n",
       "      <td>as2dist2</td>\n",
       "      <td>default</td>\n",
       "      <td>2</td>\n",
       "      <td>None</td>\n",
       "      <td>AUTO/NONE(-1l)</td>\n",
       "      <td>65001</td>\n",
       "      <td>as2dept1</td>\n",
       "      <td>None</td>\n",
       "      <td>2.34.201.4</td>\n",
       "      <td>EBGP_SINGLEHOP</td>\n",
       "      <td>DYNAMIC_MATCH</td>\n",
       "    </tr>\n",
       "  </tbody>\n",
       "</table>\n",
       "</div>"
      ],
      "text/plain": [
       "        Node      VRF Local_AS Local_Interface        Local_IP Remote_AS  \\\n",
       "27  as2dist1  default  2        None            AUTO/NONE(-1l)  65001      \n",
       "30  as2dist2  default  2        None            AUTO/NONE(-1l)  65001      \n",
       "\n",
       "   Remote_Node Remote_Interface   Remote_IP    Session_Type Configured_Status  \n",
       "27  as2dept1    None             2.34.101.4  EBGP_SINGLEHOP  DYNAMIC_MATCH     \n",
       "30  as2dept1    None             2.34.201.4  EBGP_SINGLEHOP  DYNAMIC_MATCH     "
      ]
     },
     "execution_count": 51,
     "metadata": {},
     "output_type": "execute_result"
    }
   ],
   "source": [
    "bgpSessCompat[bgpSessCompat['Configured_Status']=='DYNAMIC_MATCH']"
   ]
  },
  {
   "cell_type": "markdown",
   "metadata": {},
   "source": [
    "Let's see if any sessions were established between `2.34.101.4` and other routers in the snapshot"
   ]
  },
  {
   "cell_type": "code",
   "execution_count": 52,
   "metadata": {},
   "outputs": [
    {
     "data": {
      "text/html": [
       "<div>\n",
       "<style scoped>\n",
       "    .dataframe tbody tr th:only-of-type {\n",
       "        vertical-align: middle;\n",
       "    }\n",
       "\n",
       "    .dataframe tbody tr th {\n",
       "        vertical-align: top;\n",
       "    }\n",
       "\n",
       "    .dataframe thead th {\n",
       "        text-align: right;\n",
       "    }\n",
       "</style>\n",
       "<table border=\"1\" class=\"dataframe tex2jax_ignore\">\n",
       "  <thead>\n",
       "    <tr style=\"text-align: right;\">\n",
       "      <th></th>\n",
       "      <th>Node</th>\n",
       "      <th>VRF</th>\n",
       "      <th>Local_AS</th>\n",
       "      <th>Local_Interface</th>\n",
       "      <th>Local_IP</th>\n",
       "      <th>Remote_AS</th>\n",
       "      <th>Remote_Node</th>\n",
       "      <th>Remote_Interface</th>\n",
       "      <th>Remote_IP</th>\n",
       "      <th>Session_Type</th>\n",
       "      <th>Established_Status</th>\n",
       "    </tr>\n",
       "  </thead>\n",
       "  <tbody>\n",
       "    <tr>\n",
       "      <th>23</th>\n",
       "      <td>as2dept1</td>\n",
       "      <td>default</td>\n",
       "      <td>65001</td>\n",
       "      <td>None</td>\n",
       "      <td>2.34.101.4</td>\n",
       "      <td>2</td>\n",
       "      <td>as2dist1</td>\n",
       "      <td>None</td>\n",
       "      <td>2.34.101.3</td>\n",
       "      <td>EBGP_SINGLEHOP</td>\n",
       "      <td>ESTABLISHED</td>\n",
       "    </tr>\n",
       "    <tr>\n",
       "      <th>27</th>\n",
       "      <td>as2dist1</td>\n",
       "      <td>default</td>\n",
       "      <td>2</td>\n",
       "      <td>None</td>\n",
       "      <td>AUTO/NONE(-1l)</td>\n",
       "      <td>65001</td>\n",
       "      <td>as2dept1</td>\n",
       "      <td>None</td>\n",
       "      <td>2.34.101.4</td>\n",
       "      <td>EBGP_SINGLEHOP</td>\n",
       "      <td>ESTABLISHED</td>\n",
       "    </tr>\n",
       "  </tbody>\n",
       "</table>\n",
       "</div>"
      ],
      "text/plain": [
       "        Node      VRF Local_AS Local_Interface        Local_IP Remote_AS  \\\n",
       "23  as2dept1  default  65001    None            2.34.101.4      2          \n",
       "27  as2dist1  default  2        None            AUTO/NONE(-1l)  65001      \n",
       "\n",
       "   Remote_Node Remote_Interface   Remote_IP    Session_Type Established_Status  \n",
       "23  as2dist1    None             2.34.101.3  EBGP_SINGLEHOP  ESTABLISHED        \n",
       "27  as2dept1    None             2.34.101.4  EBGP_SINGLEHOP  ESTABLISHED        "
      ]
     },
     "execution_count": 52,
     "metadata": {},
     "output_type": "execute_result"
    }
   ],
   "source": [
    "bgpSessStat[(bgpSessStat['Remote_IP']=='2.34.101.4') | (bgpSessStat['Local_IP']=='2.34.101.4')]"
   ]
  },
  {
   "cell_type": "markdown",
   "metadata": {},
   "source": [
    "As we can see we found a session between `as2dist1` and `as2dept1` that matches the configured dynamic BGP session"
   ]
  },
  {
   "cell_type": "markdown",
   "metadata": {},
   "source": [
    "Now let's take a look at the sessions between 2.34.201.4 and other routers in the snapshot"
   ]
  },
  {
   "cell_type": "code",
   "execution_count": 53,
   "metadata": {},
   "outputs": [
    {
     "data": {
      "text/html": [
       "<div>\n",
       "<style scoped>\n",
       "    .dataframe tbody tr th:only-of-type {\n",
       "        vertical-align: middle;\n",
       "    }\n",
       "\n",
       "    .dataframe tbody tr th {\n",
       "        vertical-align: top;\n",
       "    }\n",
       "\n",
       "    .dataframe thead th {\n",
       "        text-align: right;\n",
       "    }\n",
       "</style>\n",
       "<table border=\"1\" class=\"dataframe tex2jax_ignore\">\n",
       "  <thead>\n",
       "    <tr style=\"text-align: right;\">\n",
       "      <th></th>\n",
       "      <th>Node</th>\n",
       "      <th>VRF</th>\n",
       "      <th>Local_AS</th>\n",
       "      <th>Local_Interface</th>\n",
       "      <th>Local_IP</th>\n",
       "      <th>Remote_AS</th>\n",
       "      <th>Remote_Node</th>\n",
       "      <th>Remote_Interface</th>\n",
       "      <th>Remote_IP</th>\n",
       "      <th>Session_Type</th>\n",
       "      <th>Established_Status</th>\n",
       "    </tr>\n",
       "  </thead>\n",
       "  <tbody>\n",
       "    <tr>\n",
       "      <th>24</th>\n",
       "      <td>as2dept1</td>\n",
       "      <td>default</td>\n",
       "      <td>65001</td>\n",
       "      <td>None</td>\n",
       "      <td>2.34.201.4</td>\n",
       "      <td>2</td>\n",
       "      <td>as2dist2</td>\n",
       "      <td>None</td>\n",
       "      <td>2.34.201.3</td>\n",
       "      <td>EBGP_SINGLEHOP</td>\n",
       "      <td>ESTABLISHED</td>\n",
       "    </tr>\n",
       "    <tr>\n",
       "      <th>30</th>\n",
       "      <td>as2dist2</td>\n",
       "      <td>default</td>\n",
       "      <td>2</td>\n",
       "      <td>None</td>\n",
       "      <td>AUTO/NONE(-1l)</td>\n",
       "      <td>65001</td>\n",
       "      <td>as2dept1</td>\n",
       "      <td>None</td>\n",
       "      <td>2.34.201.4</td>\n",
       "      <td>EBGP_SINGLEHOP</td>\n",
       "      <td>ESTABLISHED</td>\n",
       "    </tr>\n",
       "  </tbody>\n",
       "</table>\n",
       "</div>"
      ],
      "text/plain": [
       "        Node      VRF Local_AS Local_Interface        Local_IP Remote_AS  \\\n",
       "24  as2dept1  default  65001    None            2.34.201.4      2          \n",
       "30  as2dist2  default  2        None            AUTO/NONE(-1l)  65001      \n",
       "\n",
       "   Remote_Node Remote_Interface   Remote_IP    Session_Type Established_Status  \n",
       "24  as2dist2    None             2.34.201.3  EBGP_SINGLEHOP  ESTABLISHED        \n",
       "30  as2dept1    None             2.34.201.4  EBGP_SINGLEHOP  ESTABLISHED        "
      ]
     },
     "execution_count": 53,
     "metadata": {},
     "output_type": "execute_result"
    }
   ],
   "source": [
    "bgpSessStat[(bgpSessStat['Remote_IP']=='2.34.201.4') | (bgpSessStat['Local_IP']=='2.34.201.4')]"
   ]
  },
  {
   "cell_type": "markdown",
   "metadata": {},
   "source": [
    "As you can see, both dynamic BGP sessions were established."
   ]
  },
  {
   "cell_type": "markdown",
   "metadata": {},
   "source": [
    "On that note, we conclude this notebook. We hope you found this notebook useful and informative. \n",
    "\n",
    "\n",
    "With Batfish you can easily retrieve information about BGP configuration of all devices and peers, as well as status of each peer. This enables you to easily debug any broken BGP sessions in the network.\n",
    "\n",
    "\n",
    "Future notebooks will dive into more advanced topics like path analysis, debugging ACLs and firewall rules, validating routing policy, etc.. so stay tuned! "
   ]
  },
  {
   "cell_type": "markdown",
   "metadata": {},
   "source": [
    "### Want to know more? "
   ]
  },
  {
   "cell_type": "markdown",
   "metadata": {},
   "source": [
    "Reach out to us through [Slack](https://join.slack.com/t/batfish-org/shared_invite/enQtMzA0Nzg2OTAzNzQ1LTUxOTJlY2YyNTVlNGQ3MTJkOTIwZTU2YjY3YzRjZWFiYzE4ODE5ODZiNjA4NGI5NTJhZmU2ZTllOTMwZDhjMzA) or [Github](https://github.com/batfish/batfish) to learn more, or send feedback."
   ]
  }
 ],
 "metadata": {
  "hide_input": false,
  "kernelspec": {
   "display_name": "Python 3",
   "language": "python",
   "name": "python3"
  },
  "language_info": {
   "codemirror_mode": {
    "name": "ipython",
    "version": 3
   },
   "file_extension": ".py",
   "mimetype": "text/x-python",
   "name": "python",
   "nbconvert_exporter": "python",
   "pygments_lexer": "ipython3",
   "version": "3.6.2"
  }
 },
 "nbformat": 4,
 "nbformat_minor": 2
}
