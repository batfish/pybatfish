{
 "cells": [
  {
   "cell_type": "markdown",
   "metadata": {},
   "source": [
    "## Uncovering Configuration and Behavior Drift"
   ]
  },
  {
   "cell_type": "markdown",
   "metadata": {},
   "source": [
    "When debugging network issues, it is important to understand how the network is different today compared to yesterday or to the desired golden state. A text diff of device configs is one way to do this, but it tends to be too noisy. It will show differences that you may not care about (e.g., changes in whitespace or timestamps), and it is hard to control what is reported. More importantly, text diffs also do not tell you about the impact of change on network behavior, such as if new traffic will be permitted or if some BGP edges will go down.\n",
    "\n",
    "Batfish parses and builds a vendor-neutral model of device configs and behavior. This model enables you to learn how two snapshots of the network differ exactly along the aspects you care about. The behavior modeling of Batfish also lets you understand the full impact of these changes. This notebook illustrates this capability. "
   ]
  },
  {
   "cell_type": "markdown",
   "metadata": {},
   "source": [
    "We focus on the following differences across three categories. \n",
    "\n",
    " 1. Configuration settings\n",
    "    1. Node-level properties\n",
    "    1. Interface-level properties\n",
    "    1. Properties of BGP processes and neighbors\n",
    " 1. Structures and references\n",
    "    1. Structures defined in device configs \n",
    "    1. Undefined references\n",
    " 1. Network behavior\n",
    "    1. BGP adjacencies\n",
    "    1. ACL lines with treat flows differently \n",
    "\n",
    "\n",
    "These are examples of different types of changes that you can analyze using Batfish. You may be interested in a different aspects of your network, and you should be able to adapt the code below to suit your needs.\n",
    "\n",
    "Text diff will help with the configuration settings category at best. The other two categories require understanding the structure of the config and the network behavior it induces. To illustrate this point, the text diff of example configs that we use in this notebook is below. "
   ]
  },
  {
   "cell_type": "code",
   "execution_count": 1,
   "metadata": {
    "scrolled": false
   },
   "outputs": [],
   "source": [
    "# Use recursive diff, followed by some pretty printing hacks\n",
    "! diff -ur networks/drift/reference networks/drift/snapshot \\\n",
    "    | sed -e 's;diff.*snapshot/\\(configs.*cfg\\);^-----------\\1---------;g' | tr '^' '\\n' | grep -v networks/drift"
   ]
  },
  {
   "cell_type": "markdown",
   "metadata": {},
   "source": [
    "As we can see, it is difficult to grasp the nature and impact of the change from this output, not to mention that it is impossible to build automation on top of it (e.g., to alert on certain types of differences). We show next how Batfish offers a meaningful view of these differences and their impact on network behavior. "
   ]
  },
  {
   "cell_type": "code",
   "execution_count": 2,
   "metadata": {},
   "outputs": [
    {
     "data": {
      "text/plain": [
       "'reference'"
      ]
     },
     "execution_count": 2,
     "metadata": {},
     "output_type": "execute_result"
    }
   ],
   "source": [
    "# Import packages and load questions\n",
    "%run startup.py\n",
    "load_questions()\n",
    "\n",
    "\n",
    "# Initialize both the snapshot and the reference that we want to use\n",
    "NETWORK_NAME = \"my_network\"\n",
    "SNAPSHOT_PATH = \"networks/drift/snapshot\"\n",
    "REFERENCE_PATH = \"networks/drift/reference\"\n",
    "\n",
    "bf_set_network(NETWORK_NAME)\n",
    "bf_init_snapshot(SNAPSHOT_PATH, name=\"snapshot\", overwrite=True)\n",
    "bf_init_snapshot(REFERENCE_PATH, name=\"reference\", overwrite=True)"
   ]
  },
  {
   "cell_type": "code",
   "execution_count": 3,
   "metadata": {},
   "outputs": [],
   "source": [
    "# Helper functions to print drift information in a readable manner\n",
    "\n",
    "def friendly_name(entity_type, row, key_columns): \n",
    "    \"\"\"\n",
    "    Returns a readable string as key, value pairs for an entity in a Pandas row. \n",
    "    \"\"\"\n",
    "    return \", \".join([f\"{key}={row[key]}\" for key in key_columns])\n",
    "    \n",
    "\n",
    "def diff_properties(diff_frame, entity_type, key_columns, properties):\n",
    "    \"\"\"\n",
    "    Prints the content of the diff_frame that is the answer of a differential \n",
    "    Batfish question, run for the specified entity_type and properties. \n",
    "    \n",
    "    The entity is described using the key_columns parameter.\n",
    "    \"\"\"\n",
    "    if len(diff_frame) == 0:\n",
    "        print(f\"{entity_type} properties are identical across the two snapshot\")\n",
    "        return\n",
    "    snapshot_only = diff_frame[diff_frame[\"KeyPresence\"] == \"Only in Snapshot\"]\n",
    "    reference_only = diff_frame[diff_frame[\"KeyPresence\"] == \"Only in Reference\"]\n",
    "    both = diff_frame[diff_frame[\"KeyPresence\"] == \"In both\"]\n",
    "    if len(snapshot_only) > 0:\n",
    "        print(f\"\\n{entity_type}s only in snapshot\")        \n",
    "        for index, row in snapshot_only.iterrows():\n",
    "            print(f\"    {friendly_name(entity_type, row, key_columns)}\")\n",
    "    if len(reference_only) > 0:\n",
    "        print(f\"\\n{entity_type}s only in reference\")        \n",
    "        for index, row in reference_only.iterrows():\n",
    "            print(f\"    {friendly_name(entity_type, row, key_columns)}\")\n",
    "    for index,row in both.iterrows():\n",
    "        print(\"\\nDifferences for {}\".format(friendly_name(entity_type, row, key_columns)))\n",
    "        for property in properties:\n",
    "            snapshot_setting = row[f\"Snapshot_{property}\"]\n",
    "            reference_setting = row[f\"Reference_{property}\"]\n",
    "            if snapshot_setting != reference_setting:\n",
    "                print(f\"    {property}: {reference_setting} -> {snapshot_setting}\")\n",
    "\n",
    "\n",
    "def diff_frames(snapshot_frame, reference_frame, entity_type):\n",
    "    \"\"\"\n",
    "    Prints the differences between snapshot and reference information about entity_type.\n",
    "    \"\"\"\n",
    "    combined = pd.merge(snapshot_frame, reference_frame, how=\"outer\", indicator=True)\n",
    "    snapshot_only = combined[combined[\"_merge\"] == \"left_only\"]\n",
    "    reference_only = combined[combined[\"_merge\"] == \"right_only\"]\n",
    "    if len(snapshot_only) > 0:\n",
    "        print(f\"\\n{entity_type}s only in snapshot\")        \n",
    "        for index, row in snapshot_only.iterrows():\n",
    "            print(\"    \", friendly_name(entity_type, row, set(combined.columns) - {\"_merge\"}))\n",
    "    if len(reference_only) > 0:\n",
    "        print(f\"\\n{entity_type}s only in reference\")        \n",
    "        for index, row in reference_only.iterrows():\n",
    "            print(\"    \", friendly_name(entity_type, row, set(combined.columns) - {\"_merge\"}))\n",
    "    if len(snapshot_only) == 0 and len(reference_only) == 0:\n",
    "        print(f\"\\n{entity_type}s are identical across the two snapshots\")"
   ]
  },
  {
   "cell_type": "markdown",
   "metadata": {},
   "source": [
    "### 1. Configuration settings\n",
    "\n",
    "Let first uncover differences in configuration settings, starting with node-level properties.\n",
    "\n",
    "#### 1A. Node-level properties\n",
    "\n",
    "We focus on three example properties: 1) NTP servers, 2) Domain name, and 3) VRFs that exist on the device. The complete list of node properties extracted by Batfish is [here](https://batfish.readthedocs.io/en/latest/notebooks/configProperties.html#Node-Properties).\n",
    "\n",
    "We will compute the property differences between across snapshots using Batfish questions. Batfish makes its models available via a [set of questions](https://batfish.readthedocs.io/en/latest/questions.html). When questions are run in [differential mode](https://pybatfish.readthedocs.io/en/latest/notebooks/differentialQuestions.html), it outputs how the answer differ across two snapshots. "
   ]
  },
  {
   "cell_type": "code",
   "execution_count": 4,
   "metadata": {},
   "outputs": [
    {
     "data": {
      "text/html": [
       "<style  type=\"text/css\" >\n",
       "#T_pybfstylerow0_col0,#T_pybfstylerow0_col1,#T_pybfstylerow0_col2,#T_pybfstylerow0_col3,#T_pybfstylerow0_col4,#T_pybfstylerow0_col5,#T_pybfstylerow0_col6,#T_pybfstylerow0_col7,#T_pybfstylerow1_col0,#T_pybfstylerow1_col1,#T_pybfstylerow1_col2,#T_pybfstylerow1_col3,#T_pybfstylerow1_col4,#T_pybfstylerow1_col5,#T_pybfstylerow1_col6,#T_pybfstylerow1_col7{\n",
       "            text-align:  left;\n",
       "            vertical-align:  top;\n",
       "        }</style><table id=\"T_pybfstyle\"  class=\"tex2jax_ignore\"><thead>    <tr>        <th class=\"blank level0\" ></th>        <th class=\"col_heading level0 col0\" >Node</th>        <th class=\"col_heading level0 col1\" >KeyPresence</th>        <th class=\"col_heading level0 col2\" >Snapshot_Domain_Name</th>        <th class=\"col_heading level0 col3\" >Reference_Domain_Name</th>        <th class=\"col_heading level0 col4\" >Snapshot_NTP_Servers</th>        <th class=\"col_heading level0 col5\" >Reference_NTP_Servers</th>        <th class=\"col_heading level0 col6\" >Snapshot_VRFs</th>        <th class=\"col_heading level0 col7\" >Reference_VRFs</th>    </tr></thead><tbody>\n",
       "                <tr>\n",
       "                        <th id=\"T_pybfstylelevel0_row0\" class=\"row_heading level0 row0\" >0</th>\n",
       "                        <td id=\"T_pybfstylerow0_col0\" class=\"data row0 col0\" >as1border1</td>\n",
       "                        <td id=\"T_pybfstylerow0_col1\" class=\"data row0 col1\" >In both</td>\n",
       "                        <td id=\"T_pybfstylerow0_col2\" class=\"data row0 col2\" >lab.localp</td>\n",
       "                        <td id=\"T_pybfstylerow0_col3\" class=\"data row0 col3\" >lab.local</td>\n",
       "                        <td id=\"T_pybfstylerow0_col4\" class=\"data row0 col4\" ></td>\n",
       "                        <td id=\"T_pybfstylerow0_col5\" class=\"data row0 col5\" ></td>\n",
       "                        <td id=\"T_pybfstylerow0_col6\" class=\"data row0 col6\" >default</td>\n",
       "                        <td id=\"T_pybfstylerow0_col7\" class=\"data row0 col7\" >default</td>\n",
       "            </tr>\n",
       "            <tr>\n",
       "                        <th id=\"T_pybfstylelevel0_row1\" class=\"row_heading level0 row1\" >1</th>\n",
       "                        <td id=\"T_pybfstylerow1_col0\" class=\"data row1 col0\" >as1border2</td>\n",
       "                        <td id=\"T_pybfstylerow1_col1\" class=\"data row1 col1\" >In both</td>\n",
       "                        <td id=\"T_pybfstylerow1_col2\" class=\"data row1 col2\" >lab.local</td>\n",
       "                        <td id=\"T_pybfstylerow1_col3\" class=\"data row1 col3\" >lab.local</td>\n",
       "                        <td id=\"T_pybfstylerow1_col4\" class=\"data row1 col4\" >18.18.18.19<br><br>18.18.18.18</td>\n",
       "                        <td id=\"T_pybfstylerow1_col5\" class=\"data row1 col5\" >23.23.23.23<br><br>18.18.18.18</td>\n",
       "                        <td id=\"T_pybfstylerow1_col6\" class=\"data row1 col6\" >default</td>\n",
       "                        <td id=\"T_pybfstylerow1_col7\" class=\"data row1 col7\" >default</td>\n",
       "            </tr>\n",
       "    </tbody></table>"
      ],
      "text/plain": [
       "         Node KeyPresence Snapshot_Domain_Name Reference_Domain_Name  \\\n",
       "0  as1border1     In both           lab.localp             lab.local   \n",
       "1  as1border2     In both            lab.local             lab.local   \n",
       "\n",
       "             Snapshot_NTP_Servers           Reference_NTP_Servers  \\\n",
       "0                              []                              []   \n",
       "1  ['18.18.18.19', '18.18.18.18']  ['23.23.23.23', '18.18.18.18']   \n",
       "\n",
       "  Snapshot_VRFs Reference_VRFs  \n",
       "0   ['default']    ['default']  \n",
       "1   ['default']    ['default']  "
      ]
     },
     "metadata": {},
     "output_type": "display_data"
    }
   ],
   "source": [
    "# Properties of interest\n",
    "NODE_PROPERTIES = [\"NTP_Servers\" , \"Domain_Name\", \"VRFs\"]\n",
    "\n",
    "# Compute the difference across two snapshots and return a Pandas DataFrame\n",
    "node_diff = bfq.nodeProperties(\n",
    "                properties=\",\".join(NODE_PROPERTIES)\n",
    "            ).answer(\n",
    "                snapshot=\"snapshot\", \n",
    "                reference_snapshot=\"reference\"\n",
    "            ).frame()\n",
    "\n",
    "# Print the DataFrame\n",
    "show(node_diff.head())"
   ]
  },
  {
   "cell_type": "markdown",
   "metadata": {},
   "source": [
    "The output above shows all property differences for all nodes. There is a row per node. We see that on `as1border1` the domain name has changed, and on `as1border2` the set of NTP servers has changes. There is no other difference for any other node for the chosen properties.\n",
    "\n",
    "This structured output can be transformed and fed into any type of automation, e.g., to alert you when an important property has changed. We can also generate readable drift reports using the helper function we defined above."
   ]
  },
  {
   "cell_type": "code",
   "execution_count": 5,
   "metadata": {},
   "outputs": [
    {
     "name": "stdout",
     "output_type": "stream",
     "text": [
      "\n",
      "Differences for Node=as1border1\n",
      "    Domain_Name: lab.local -> lab.localp\n",
      "\n",
      "Differences for Node=as1border2\n",
      "    NTP_Servers: ['23.23.23.23', '18.18.18.18'] -> ['18.18.18.19', '18.18.18.18']\n"
     ]
    }
   ],
   "source": [
    "# Print readable messages on the differences\n",
    "diff_properties(node_diff, \"Node\", [\"Node\"], NODE_PROPERTIES)"
   ]
  },
  {
   "cell_type": "markdown",
   "metadata": {},
   "source": [
    "##### 1B. Interface-level properties\n",
    "\n",
    "We next check if any interface-level properties have changed. We again focus on three example settings: 1) whether the interface is active, 2) description, and 3) primary IP address. The complete list of interface settings extracted by Batfish are [here](https://batfish.readthedocs.io/en/latest/notebooks/configProperties.html#Interface-Properties)."
   ]
  },
  {
   "cell_type": "code",
   "execution_count": 6,
   "metadata": {
    "scrolled": true
   },
   "outputs": [
    {
     "name": "stdout",
     "output_type": "stream",
     "text": [
      "\n",
      "Differences for Interface=as2border2[GigabitEthernet0/0]\n",
      "    Active: True -> False\n",
      "    Primary_Address: 10.23.21.2/24 -> None\n",
      "\n",
      "Differences for Interface=as2core1[GigabitEthernet0/0]\n",
      "    Description: None -> \"To as2border1 GigabitEthernet1/0\"\n",
      "\n",
      "Differences for Interface=as2core1[GigabitEthernet1/0]\n",
      "    Description: None -> \"To as2border2 GigabitEthernet2/0\"\n"
     ]
    }
   ],
   "source": [
    "# Properties of interest\n",
    "INTERFACE_PROPERTIES = ['Active', 'Description', 'Primary_Address']\n",
    "\n",
    "# Compute the difference across two snapshots and return a Pandas DataFrame\n",
    "interface_diff = bfq.interfaceProperties(\n",
    "                    properties=\",\".join(INTERFACE_PROPERTIES)\n",
    "                ).answer(\n",
    "                    snapshot=\"snapshot\", \n",
    "                    reference_snapshot=\"reference\"\n",
    "                ).frame()\n",
    "\n",
    "# Print a readable version of the differences\n",
    "diff_properties(interface_diff, \"Interface\", [\"Interface\"], INTERFACE_PROPERTIES)"
   ]
  },
  {
   "cell_type": "markdown",
   "metadata": {},
   "source": [
    "We see that the interface `GigabitEthernet0/0` on `as2border2` has been shutdown and its address assignment has been eliminated. We also see that the description has been added for two interfaces on `as2core1`."
   ]
  },
  {
   "cell_type": "markdown",
   "metadata": {},
   "source": [
    "##### 1C. BGP process and peer properties\n",
    "\n",
    "We next check properties of BGP processes and peers next. For BGP processes, we will consider if multipath is turned on for EBGP sessions; and for BGP peers, we will consider four example properties: 1) description, 2) peer group, 3) Import policies applied to the peer, and 4) Export policies applied to the peer. The complete list of BGP process properties are [here](https://batfish.readthedocs.io/en/latest/notebooks/configProperties.html#BGP-Process-Configuration) and of BGP peers are [here](https://batfish.readthedocs.io/en/latest/notebooks/configProperties.html#BGP-Peer-Configuration)."
   ]
  },
  {
   "cell_type": "code",
   "execution_count": 7,
   "metadata": {},
   "outputs": [
    {
     "name": "stdout",
     "output_type": "stream",
     "text": [
      "\n",
      "Differences for Node=as2dept1, VRF=default, Router_ID=2.1.4.1\n",
      "    Multipath_EBGP: True -> False\n",
      "\n",
      "\n",
      "BgpPeers only in snapshot\n",
      "    Node=as2dept1, VRF=default, Local_Interface=None, Remote_IP=2.34.209.3\n",
      "\n",
      "Differences for Node=as2dist1, VRF=default, Local_Interface=None, Remote_IP=2.34.101.4\n",
      "    Peer_Group: dept -> dept2\n",
      "    Import_Policy: ['dept_to_as2dist'] -> []\n",
      "    Export_Policy: ['as2dist_to_dept'] -> []\n"
     ]
    }
   ],
   "source": [
    "# Properties of interest\n",
    "BGP_PROCESS_PROPERTIES = ['Multipath_EBGP']\n",
    "BGP_PEER_PROPERTIES = ['Remote_AS', 'Description', 'Peer_Group', 'Import_Policy', 'Export_Policy']\n",
    "\n",
    "# Compute the difference across two snapshots and return a Pandas DataFrame\n",
    "bgp_process_diff = bfq.bgpProcessConfiguration(\n",
    "                        properties=\",\".join(BGP_PROCESS_PROPERTIES)\n",
    "                    ).answer(\n",
    "                        snapshot=\"snapshot\", \n",
    "                        reference_snapshot=\"reference\"\n",
    "                    ).frame()\n",
    "\n",
    "bgp_peer_diff = bfq.bgpPeerConfiguration(\n",
    "                    properties=\",\".join(BGP_PEER_PROPERTIES)\n",
    "                ).answer(\n",
    "                    snapshot=\"snapshot\", \n",
    "                    reference_snapshot=\"reference\"\n",
    "                ).frame()\n",
    "\n",
    "#Print readable messages on the differences\n",
    "diff_properties(bgp_process_diff, \"BgpProcess\", [\"Node\", \"VRF\", \"Router_ID\"], BGP_PROCESS_PROPERTIES)\n",
    "print()\n",
    "diff_properties(bgp_peer_diff, \"BgpPeer\", [\"Node\", \"VRF\", \"Local_Interface\", \"Remote_IP\"], BGP_PEER_PROPERTIES)"
   ]
  },
  {
   "cell_type": "markdown",
   "metadata": {},
   "source": [
    "The output shows that the multipath setting has changed for a BGP process on `as2dept1`. For BGP peers, a new peer has been defined on `as2dept1` with remote IP address `2.34.209.3`; and the peer group has changed for an an existing peer on `as2dist1`, which then also led to its import and export policies changing. This correlated change in import/export policies are invisible in the text diff."
   ]
  },
  {
   "cell_type": "markdown",
   "metadata": {},
   "source": [
    "### 2. Structures and references\n",
    "\n",
    "Batfish models include all structures defined in device configs (e.g., ACLs, prefix-lists) and how they are referenced in other parts of the config. You can use these models to learn if structures have been defined or deleted, which represents a major change in the configuration. \n",
    "\n",
    "##### 2A. Structures defined in configs\n",
    "\n",
    "The `definedStructures` question is the basis for learning about structures defined in the config."
   ]
  },
  {
   "cell_type": "code",
   "execution_count": 8,
   "metadata": {
    "scrolled": false
   },
   "outputs": [
    {
     "data": {
      "text/html": [
       "<style  type=\"text/css\" >\n",
       "#T_pybfstylerow0_col0,#T_pybfstylerow0_col1,#T_pybfstylerow0_col2,#T_pybfstylerow1_col0,#T_pybfstylerow1_col1,#T_pybfstylerow1_col2,#T_pybfstylerow2_col0,#T_pybfstylerow2_col1,#T_pybfstylerow2_col2,#T_pybfstylerow3_col0,#T_pybfstylerow3_col1,#T_pybfstylerow3_col2,#T_pybfstylerow4_col0,#T_pybfstylerow4_col1,#T_pybfstylerow4_col2{\n",
       "            text-align:  left;\n",
       "            vertical-align:  top;\n",
       "        }</style><table id=\"T_pybfstyle\"  class=\"tex2jax_ignore\"><thead>    <tr>        <th class=\"blank level0\" ></th>        <th class=\"col_heading level0 col0\" >Structure_Type</th>        <th class=\"col_heading level0 col1\" >Structure_Name</th>        <th class=\"col_heading level0 col2\" >Source_Lines</th>    </tr></thead><tbody>\n",
       "                <tr>\n",
       "                        <th id=\"T_pybfstylelevel0_row0\" class=\"row_heading level0 row0\" >0</th>\n",
       "                        <td id=\"T_pybfstylerow0_col0\" class=\"data row0 col0\" >bgp peer-group</td>\n",
       "                        <td id=\"T_pybfstylerow0_col1\" class=\"data row0 col1\" >as2</td>\n",
       "                        <td id=\"T_pybfstylerow0_col2\" class=\"data row0 col2\" >FileLines(filename=&#x27;configs/as1border1.cfg&#x27;, lines=[81])</td>\n",
       "            </tr>\n",
       "            <tr>\n",
       "                        <th id=\"T_pybfstylelevel0_row1\" class=\"row_heading level0 row1\" >1</th>\n",
       "                        <td id=\"T_pybfstylerow1_col0\" class=\"data row1 col0\" >interface</td>\n",
       "                        <td id=\"T_pybfstylerow1_col1\" class=\"data row1 col1\" >GigabitEthernet1/0</td>\n",
       "                        <td id=\"T_pybfstylerow1_col2\" class=\"data row1 col2\" >FileLines(filename=&#x27;configs/as1core1.cfg&#x27;, lines=[69, 70, 71])</td>\n",
       "            </tr>\n",
       "            <tr>\n",
       "                        <th id=\"T_pybfstylelevel0_row2\" class=\"row_heading level0 row2\" >2</th>\n",
       "                        <td id=\"T_pybfstylerow2_col0\" class=\"data row2 col0\" >extended ipv4 access-list</td>\n",
       "                        <td id=\"T_pybfstylerow2_col1\" class=\"data row2 col1\" >OUTSIDE_TO_INSIDE</td>\n",
       "                        <td id=\"T_pybfstylerow2_col2\" class=\"data row2 col2\" >FileLines(filename=&#x27;configs/as2border2.cfg&#x27;, lines=[132, 133, 134])</td>\n",
       "            </tr>\n",
       "            <tr>\n",
       "                        <th id=\"T_pybfstylelevel0_row3\" class=\"row_heading level0 row3\" >3</th>\n",
       "                        <td id=\"T_pybfstylerow3_col0\" class=\"data row3 col0\" >route-map</td>\n",
       "                        <td id=\"T_pybfstylerow3_col1\" class=\"data row3 col1\" >as2dist_to_dept</td>\n",
       "                        <td id=\"T_pybfstylerow3_col2\" class=\"data row3 col2\" >FileLines(filename=&#x27;configs/as2dist1.cfg&#x27;, lines=[123, 124, 125, 126])</td>\n",
       "            </tr>\n",
       "            <tr>\n",
       "                        <th id=\"T_pybfstylelevel0_row4\" class=\"row_heading level0 row4\" >4</th>\n",
       "                        <td id=\"T_pybfstylerow4_col0\" class=\"data row4 col0\" >extended ipv4 access-list</td>\n",
       "                        <td id=\"T_pybfstylerow4_col1\" class=\"data row4 col1\" >103</td>\n",
       "                        <td id=\"T_pybfstylerow4_col2\" class=\"data row4 col2\" >FileLines(filename=&#x27;configs/as1border2.cfg&#x27;, lines=[140])</td>\n",
       "            </tr>\n",
       "    </tbody></table>"
      ],
      "text/plain": [
       "              Structure_Type      Structure_Name  \\\n",
       "0             bgp peer-group                 as2   \n",
       "1                  interface  GigabitEthernet1/0   \n",
       "2  extended ipv4 access-list   OUTSIDE_TO_INSIDE   \n",
       "3                  route-map     as2dist_to_dept   \n",
       "4  extended ipv4 access-list                 103   \n",
       "\n",
       "                                Source_Lines  \n",
       "0                configs/as1border1.cfg:[81]  \n",
       "1          configs/as1core1.cfg:[69, 70, 71]  \n",
       "2     configs/as2border2.cfg:[132, 133, 134]  \n",
       "3  configs/as2dist1.cfg:[123, 124, 125, 126]  \n",
       "4               configs/as1border2.cfg:[140]  "
      ]
     },
     "metadata": {},
     "output_type": "display_data"
    }
   ],
   "source": [
    "# Extract defined structures from both snapshots as a Pandas DataFrame\n",
    "snapshot_structures = bfq.definedStructures().answer(snapshot=\"snapshot\").frame()\n",
    "reference_structures = bfq.definedStructures().answer(snapshot=\"reference\").frame()\n",
    "\n",
    "# Show me what the information looks like by printing the first few rows\n",
    "show(snapshot_structures.head())"
   ]
  },
  {
   "cell_type": "markdown",
   "metadata": {},
   "source": [
    "The output snippet shows how Batfish captures the exact lines in each file where each structure is defined. We can process this information from the two snapshots to produce a report on all differences."
   ]
  },
  {
   "cell_type": "code",
   "execution_count": 9,
   "metadata": {},
   "outputs": [
    {
     "name": "stdout",
     "output_type": "stream",
     "text": [
      "\n",
      "DefinedStructures only in snapshot\n",
      "     Structure_Type=bgp peer-group, File_Name=configs/as2dist1.cfg, Structure_Name=dept2\n",
      "     Structure_Type=ipv4 prefix-list, File_Name=configs/as3border1.cfg, Structure_Name=bogons\n",
      "\n",
      "DefinedStructures only in reference\n",
      "     Structure_Type=bgp peer-group, File_Name=configs/as2dist1.cfg, Structure_Name=dept\n"
     ]
    }
   ],
   "source": [
    "# Remove the line numbers but keep the filename. We don't care about where in the file structure are defined.\n",
    "snapshot_structures_without_lines = snapshot_structures[['Structure_Type', 'Structure_Name']].assign(\n",
    "    File_Name=snapshot_structures[\"Source_Lines\"].map(lambda x: x.filename))\n",
    "reference_structures_without_lines = reference_structures[['Structure_Type', 'Structure_Name']].assign(\n",
    "    File_Name=reference_structures[\"Source_Lines\"].map(lambda x: x.filename))\n",
    "\n",
    "# Print a readable message on the differences\n",
    "diff_frames(snapshot_structures_without_lines, \n",
    "            reference_structures_without_lines, \n",
    "            \"DefinedStructure\")"
   ]
  },
  {
   "cell_type": "markdown",
   "metadata": {},
   "source": [
    "We can easily see in this output that a BGP peer group named `dept2` was newly defined on `as2dist1` and a prefix-list named `bogons` was defined on as2border1. We also see that the peer group named `dept` was removed from `as2dist1`. The peer group change is related to what we saw earlier with a peer property changing. This view shows that the entire structure has been removed and defined."
   ]
  },
  {
   "cell_type": "markdown",
   "metadata": {},
   "source": [
    "##### 2B. Undefined structure references\n",
    "\n",
    "References to undefined structures are symptoms of configuration errors. Using the `undefinedReferences` question, Batfish can help you understand if new undefined references have been introduced or old ones have been cleared. "
   ]
  },
  {
   "cell_type": "code",
   "execution_count": 10,
   "metadata": {
    "scrolled": false
   },
   "outputs": [
    {
     "data": {
      "text/html": [
       "<style  type=\"text/css\" >\n",
       "#T_pybfstylerow0_col0,#T_pybfstylerow0_col1,#T_pybfstylerow0_col2,#T_pybfstylerow0_col3,#T_pybfstylerow0_col4,#T_pybfstylerow1_col0,#T_pybfstylerow1_col1,#T_pybfstylerow1_col2,#T_pybfstylerow1_col3,#T_pybfstylerow1_col4,#T_pybfstylerow2_col0,#T_pybfstylerow2_col1,#T_pybfstylerow2_col2,#T_pybfstylerow2_col3,#T_pybfstylerow2_col4{\n",
       "            text-align:  left;\n",
       "            vertical-align:  top;\n",
       "        }</style><table id=\"T_pybfstyle\"  class=\"tex2jax_ignore\"><thead>    <tr>        <th class=\"blank level0\" ></th>        <th class=\"col_heading level0 col0\" >File_Name</th>        <th class=\"col_heading level0 col1\" >Struct_Type</th>        <th class=\"col_heading level0 col2\" >Ref_Name</th>        <th class=\"col_heading level0 col3\" >Context</th>        <th class=\"col_heading level0 col4\" >Lines</th>    </tr></thead><tbody>\n",
       "                <tr>\n",
       "                        <th id=\"T_pybfstylelevel0_row0\" class=\"row_heading level0 row0\" >0</th>\n",
       "                        <td id=\"T_pybfstylerow0_col0\" class=\"data row0 col0\" >configs/as2core2.cfg</td>\n",
       "                        <td id=\"T_pybfstylerow0_col1\" class=\"data row0 col1\" >route-map</td>\n",
       "                        <td id=\"T_pybfstylerow0_col2\" class=\"data row0 col2\" >filter-bogons</td>\n",
       "                        <td id=\"T_pybfstylerow0_col3\" class=\"data row0 col3\" >bgp inbound route-map</td>\n",
       "                        <td id=\"T_pybfstylerow0_col4\" class=\"data row0 col4\" >FileLines(filename=&#x27;configs/as2core2.cfg&#x27;, lines=[110])</td>\n",
       "            </tr>\n",
       "            <tr>\n",
       "                        <th id=\"T_pybfstylelevel0_row1\" class=\"row_heading level0 row1\" >1</th>\n",
       "                        <td id=\"T_pybfstylerow1_col0\" class=\"data row1 col0\" >configs/as2dist1.cfg</td>\n",
       "                        <td id=\"T_pybfstylerow1_col1\" class=\"data row1 col1\" >community-list</td>\n",
       "                        <td id=\"T_pybfstylerow1_col2\" class=\"data row1 col2\" >dept_community_new</td>\n",
       "                        <td id=\"T_pybfstylerow1_col3\" class=\"data row1 col3\" >route-map match community-list</td>\n",
       "                        <td id=\"T_pybfstylerow1_col4\" class=\"data row1 col4\" >FileLines(filename=&#x27;configs/as2dist1.cfg&#x27;, lines=[133])</td>\n",
       "            </tr>\n",
       "            <tr>\n",
       "                        <th id=\"T_pybfstylelevel0_row2\" class=\"row_heading level0 row2\" >2</th>\n",
       "                        <td id=\"T_pybfstylerow2_col0\" class=\"data row2 col0\" >configs/as2dist1.cfg</td>\n",
       "                        <td id=\"T_pybfstylerow2_col1\" class=\"data row2 col1\" >undeclared bgp peer-group</td>\n",
       "                        <td id=\"T_pybfstylerow2_col2\" class=\"data row2 col2\" >dept</td>\n",
       "                        <td id=\"T_pybfstylerow2_col3\" class=\"data row2 col3\" >bgp peer-group referenced before defined</td>\n",
       "                        <td id=\"T_pybfstylerow2_col4\" class=\"data row2 col4\" >FileLines(filename=&#x27;configs/as2dist1.cfg&#x27;, lines=[99, 100, 101])</td>\n",
       "            </tr>\n",
       "    </tbody></table>"
      ],
      "text/plain": [
       "              File_Name                Struct_Type            Ref_Name  \\\n",
       "0  configs/as2core2.cfg                  route-map       filter-bogons   \n",
       "1  configs/as2dist1.cfg             community-list  dept_community_new   \n",
       "2  configs/as2dist1.cfg  undeclared bgp peer-group                dept   \n",
       "\n",
       "                                    Context  \\\n",
       "0                     bgp inbound route-map   \n",
       "1            route-map match community-list   \n",
       "2  bgp peer-group referenced before defined   \n",
       "\n",
       "                                 Lines  \n",
       "0           configs/as2core2.cfg:[110]  \n",
       "1           configs/as2dist1.cfg:[133]  \n",
       "2  configs/as2dist1.cfg:[99, 100, 101]  "
      ]
     },
     "metadata": {},
     "output_type": "display_data"
    }
   ],
   "source": [
    "# Extract undefined references from both snapshots as a Pandas DataFrame\n",
    "snapshot_undefined_references=bfq.undefinedReferences().answer(snapshot=\"snapshot\").frame()\n",
    "reference_undefined_references= bfq.undefinedReferences().answer(snapshot=\"reference\").frame()\n",
    "\n",
    "# Show me all undefined references in the snapshot\n",
    "show(snapshot_undefined_references)"
   ]
  },
  {
   "cell_type": "markdown",
   "metadata": {},
   "source": [
    "The output shows that there are three undefined references in the snapshot. Let us find out which ones were newly introduced relative to the reference."
   ]
  },
  {
   "cell_type": "code",
   "execution_count": 11,
   "metadata": {},
   "outputs": [
    {
     "name": "stdout",
     "output_type": "stream",
     "text": [
      "\n",
      "UndefinedRefeferences only in snapshot\n",
      "     Ref_Name=dept_community_new, Struct_Type=community-list, File_Name=configs/as2dist1.cfg, Context=route-map match community-list\n",
      "     Ref_Name=dept, Struct_Type=undeclared bgp peer-group, File_Name=configs/as2dist1.cfg, Context=bgp peer-group referenced before defined\n"
     ]
    }
   ],
   "source": [
    "# Remove Lines since we don't care about where it was referenced\n",
    "snapshot_undefined_references_without_lines = snapshot_undefined_references.drop(columns=['Lines'])\n",
    "reference_undefined_references_without_lines = reference_undefined_references.drop(columns=['Lines'])\n",
    "\n",
    "# Print a readable message on the differences\n",
    "diff_frames(snapshot_undefined_references_without_lines, \n",
    "            reference_undefined_references_without_lines, \n",
    "            \"UndefinedRefeference\")"
   ]
  },
  {
   "cell_type": "markdown",
   "metadata": {},
   "source": [
    "We thus see that, of the three undefined references that we saw earlier, two were newly introduced and one exists in both snapshots. "
   ]
  },
  {
   "cell_type": "markdown",
   "metadata": {},
   "source": [
    "### 3. Network behavior\n",
    "\n",
    "We now turn our attention to behavioral differences between network snapshots, starting with changes in BGP adjacencies.\n",
    "\n",
    "##### 3A. BGP adjacencies\n",
    "\n",
    "The `bgpEdges` question of Batfish enables you to learn about all BGP adjacencines in the network, as follows."
   ]
  },
  {
   "cell_type": "code",
   "execution_count": 12,
   "metadata": {
    "scrolled": true
   },
   "outputs": [
    {
     "data": {
      "text/html": [
       "<style  type=\"text/css\" >\n",
       "#T_pybfstylerow0_col0,#T_pybfstylerow0_col1,#T_pybfstylerow0_col2,#T_pybfstylerow0_col3,#T_pybfstylerow0_col4,#T_pybfstylerow0_col5,#T_pybfstylerow0_col6,#T_pybfstylerow0_col7,#T_pybfstylerow1_col0,#T_pybfstylerow1_col1,#T_pybfstylerow1_col2,#T_pybfstylerow1_col3,#T_pybfstylerow1_col4,#T_pybfstylerow1_col5,#T_pybfstylerow1_col6,#T_pybfstylerow1_col7,#T_pybfstylerow2_col0,#T_pybfstylerow2_col1,#T_pybfstylerow2_col2,#T_pybfstylerow2_col3,#T_pybfstylerow2_col4,#T_pybfstylerow2_col5,#T_pybfstylerow2_col6,#T_pybfstylerow2_col7,#T_pybfstylerow3_col0,#T_pybfstylerow3_col1,#T_pybfstylerow3_col2,#T_pybfstylerow3_col3,#T_pybfstylerow3_col4,#T_pybfstylerow3_col5,#T_pybfstylerow3_col6,#T_pybfstylerow3_col7,#T_pybfstylerow4_col0,#T_pybfstylerow4_col1,#T_pybfstylerow4_col2,#T_pybfstylerow4_col3,#T_pybfstylerow4_col4,#T_pybfstylerow4_col5,#T_pybfstylerow4_col6,#T_pybfstylerow4_col7{\n",
       "            text-align:  left;\n",
       "            vertical-align:  top;\n",
       "        }</style><table id=\"T_pybfstyle\"  class=\"tex2jax_ignore\"><thead>    <tr>        <th class=\"blank level0\" ></th>        <th class=\"col_heading level0 col0\" >Node</th>        <th class=\"col_heading level0 col1\" >IP</th>        <th class=\"col_heading level0 col2\" >Interface</th>        <th class=\"col_heading level0 col3\" >AS_Number</th>        <th class=\"col_heading level0 col4\" >Remote_Node</th>        <th class=\"col_heading level0 col5\" >Remote_IP</th>        <th class=\"col_heading level0 col6\" >Remote_Interface</th>        <th class=\"col_heading level0 col7\" >Remote_AS_Number</th>    </tr></thead><tbody>\n",
       "                <tr>\n",
       "                        <th id=\"T_pybfstylelevel0_row0\" class=\"row_heading level0 row0\" >0</th>\n",
       "                        <td id=\"T_pybfstylerow0_col0\" class=\"data row0 col0\" >as1border2</td>\n",
       "                        <td id=\"T_pybfstylerow0_col1\" class=\"data row0 col1\" >1.2.2.2</td>\n",
       "                        <td id=\"T_pybfstylerow0_col2\" class=\"data row0 col2\" >None</td>\n",
       "                        <td id=\"T_pybfstylerow0_col3\" class=\"data row0 col3\" >1</td>\n",
       "                        <td id=\"T_pybfstylerow0_col4\" class=\"data row0 col4\" >as1core1</td>\n",
       "                        <td id=\"T_pybfstylerow0_col5\" class=\"data row0 col5\" >1.10.1.1</td>\n",
       "                        <td id=\"T_pybfstylerow0_col6\" class=\"data row0 col6\" >None</td>\n",
       "                        <td id=\"T_pybfstylerow0_col7\" class=\"data row0 col7\" >1</td>\n",
       "            </tr>\n",
       "            <tr>\n",
       "                        <th id=\"T_pybfstylelevel0_row1\" class=\"row_heading level0 row1\" >1</th>\n",
       "                        <td id=\"T_pybfstylerow1_col0\" class=\"data row1 col0\" >as1core1</td>\n",
       "                        <td id=\"T_pybfstylerow1_col1\" class=\"data row1 col1\" >1.10.1.1</td>\n",
       "                        <td id=\"T_pybfstylerow1_col2\" class=\"data row1 col2\" >None</td>\n",
       "                        <td id=\"T_pybfstylerow1_col3\" class=\"data row1 col3\" >1</td>\n",
       "                        <td id=\"T_pybfstylerow1_col4\" class=\"data row1 col4\" >as1border1</td>\n",
       "                        <td id=\"T_pybfstylerow1_col5\" class=\"data row1 col5\" >1.1.1.1</td>\n",
       "                        <td id=\"T_pybfstylerow1_col6\" class=\"data row1 col6\" >None</td>\n",
       "                        <td id=\"T_pybfstylerow1_col7\" class=\"data row1 col7\" >1</td>\n",
       "            </tr>\n",
       "            <tr>\n",
       "                        <th id=\"T_pybfstylelevel0_row2\" class=\"row_heading level0 row2\" >2</th>\n",
       "                        <td id=\"T_pybfstylerow2_col0\" class=\"data row2 col0\" >as2dist2</td>\n",
       "                        <td id=\"T_pybfstylerow2_col1\" class=\"data row2 col1\" >2.1.3.2</td>\n",
       "                        <td id=\"T_pybfstylerow2_col2\" class=\"data row2 col2\" >None</td>\n",
       "                        <td id=\"T_pybfstylerow2_col3\" class=\"data row2 col3\" >2</td>\n",
       "                        <td id=\"T_pybfstylerow2_col4\" class=\"data row2 col4\" >as2core2</td>\n",
       "                        <td id=\"T_pybfstylerow2_col5\" class=\"data row2 col5\" >2.1.2.2</td>\n",
       "                        <td id=\"T_pybfstylerow2_col6\" class=\"data row2 col6\" >None</td>\n",
       "                        <td id=\"T_pybfstylerow2_col7\" class=\"data row2 col7\" >2</td>\n",
       "            </tr>\n",
       "            <tr>\n",
       "                        <th id=\"T_pybfstylelevel0_row3\" class=\"row_heading level0 row3\" >3</th>\n",
       "                        <td id=\"T_pybfstylerow3_col0\" class=\"data row3 col0\" >as3border2</td>\n",
       "                        <td id=\"T_pybfstylerow3_col1\" class=\"data row3 col1\" >3.2.2.2</td>\n",
       "                        <td id=\"T_pybfstylerow3_col2\" class=\"data row3 col2\" >None</td>\n",
       "                        <td id=\"T_pybfstylerow3_col3\" class=\"data row3 col3\" >3</td>\n",
       "                        <td id=\"T_pybfstylerow3_col4\" class=\"data row3 col4\" >as3core1</td>\n",
       "                        <td id=\"T_pybfstylerow3_col5\" class=\"data row3 col5\" >3.10.1.1</td>\n",
       "                        <td id=\"T_pybfstylerow3_col6\" class=\"data row3 col6\" >None</td>\n",
       "                        <td id=\"T_pybfstylerow3_col7\" class=\"data row3 col7\" >3</td>\n",
       "            </tr>\n",
       "            <tr>\n",
       "                        <th id=\"T_pybfstylelevel0_row4\" class=\"row_heading level0 row4\" >4</th>\n",
       "                        <td id=\"T_pybfstylerow4_col0\" class=\"data row4 col0\" >as2dist2</td>\n",
       "                        <td id=\"T_pybfstylerow4_col1\" class=\"data row4 col1\" >2.34.201.3</td>\n",
       "                        <td id=\"T_pybfstylerow4_col2\" class=\"data row4 col2\" >None</td>\n",
       "                        <td id=\"T_pybfstylerow4_col3\" class=\"data row4 col3\" >2</td>\n",
       "                        <td id=\"T_pybfstylerow4_col4\" class=\"data row4 col4\" >as2dept1</td>\n",
       "                        <td id=\"T_pybfstylerow4_col5\" class=\"data row4 col5\" >2.34.201.4</td>\n",
       "                        <td id=\"T_pybfstylerow4_col6\" class=\"data row4 col6\" >None</td>\n",
       "                        <td id=\"T_pybfstylerow4_col7\" class=\"data row4 col7\" >65001</td>\n",
       "            </tr>\n",
       "    </tbody></table>"
      ],
      "text/plain": [
       "         Node          IP Interface AS_Number Remote_Node   Remote_IP  \\\n",
       "0  as1border2     1.2.2.2      None         1    as1core1    1.10.1.1   \n",
       "1    as1core1    1.10.1.1      None         1  as1border1     1.1.1.1   \n",
       "2    as2dist2     2.1.3.2      None         2    as2core2     2.1.2.2   \n",
       "3  as3border2     3.2.2.2      None         3    as3core1    3.10.1.1   \n",
       "4    as2dist2  2.34.201.3      None         2    as2dept1  2.34.201.4   \n",
       "\n",
       "  Remote_Interface Remote_AS_Number  \n",
       "0             None                1  \n",
       "1             None                1  \n",
       "2             None                2  \n",
       "3             None                3  \n",
       "4             None            65001  "
      ]
     },
     "metadata": {},
     "output_type": "display_data"
    }
   ],
   "source": [
    "# Get the edges from both snapshots as Pandas DataFrames\n",
    "snapshot_bgp_edges = bfq.bgpEdges().answer(snapshot=\"snapshot\").frame()\n",
    "reference_bgp_edges = bfq.bgpEdges().answer(snapshot=\"reference\").frame()\n",
    "\n",
    "# Show me the schema by printing the first few rows\n",
    "show(snapshot_bgp_edges.head())"
   ]
  },
  {
   "cell_type": "markdown",
   "metadata": {},
   "source": [
    "We see that Batfish knows which BGP edges in the snapshot come up and shows key information about them. We can use the answer to this question to learn which edges exist only in the snapshot or only in the refrence."
   ]
  },
  {
   "cell_type": "code",
   "execution_count": 13,
   "metadata": {},
   "outputs": [
    {
     "name": "stdout",
     "output_type": "stream",
     "text": [
      "\n",
      "BgpEdges only in reference\n",
      "     Remote_Node=as3border1, Node=as2border2\n"
     ]
    }
   ],
   "source": [
    "# Retain only columns we care about for this analysis\n",
    "snapshot_bgp_edges_nodes = snapshot_bgp_edges[['Node', 'Remote_Node']]\n",
    "reference_bgp_edges_nodes = reference_bgp_edges[['Node', 'Remote_Node']]\n",
    "\n",
    "# DataFrames contain one edge per direction; keep only one direction\n",
    "snapshot_bgp_bidir_edges_nodes = snapshot_bgp_edges_nodes[\n",
    "                                    snapshot_bgp_edges_nodes['Node'] < snapshot_bgp_edges_nodes['Remote_Node']\n",
    "                                  ]\n",
    "reference_bgp_bidir_edges_nodes = reference_bgp_edges_nodes[\n",
    "                                    reference_bgp_edges_nodes['Node'] < reference_bgp_edges_nodes['Remote_Node']\n",
    "                                  ]\n",
    "\n",
    "# Print a readable message on the differences\n",
    "diff_frames(snapshot_bgp_bidir_edges_nodes, \n",
    "            reference_bgp_bidir_edges_nodes, \n",
    "            \"BgpEdge\")"
   ]
  },
  {
   "cell_type": "markdown",
   "metadata": {},
   "source": [
    "One BGP edge exists only in the reference, that is, it disappeared in the snapshot. We can find more details about this edge, like so:"
   ]
  },
  {
   "cell_type": "code",
   "execution_count": 14,
   "metadata": {},
   "outputs": [
    {
     "data": {
      "text/html": [
       "<style  type=\"text/css\" >\n",
       "#T_pybfstylerow0_col0,#T_pybfstylerow0_col1,#T_pybfstylerow0_col2,#T_pybfstylerow0_col3,#T_pybfstylerow0_col4,#T_pybfstylerow0_col5,#T_pybfstylerow0_col6,#T_pybfstylerow0_col7{\n",
       "            text-align:  left;\n",
       "            vertical-align:  top;\n",
       "        }</style><table id=\"T_pybfstyle\"  class=\"tex2jax_ignore\"><thead>    <tr>        <th class=\"blank level0\" ></th>        <th class=\"col_heading level0 col0\" >Node</th>        <th class=\"col_heading level0 col1\" >IP</th>        <th class=\"col_heading level0 col2\" >Interface</th>        <th class=\"col_heading level0 col3\" >AS_Number</th>        <th class=\"col_heading level0 col4\" >Remote_Node</th>        <th class=\"col_heading level0 col5\" >Remote_IP</th>        <th class=\"col_heading level0 col6\" >Remote_Interface</th>        <th class=\"col_heading level0 col7\" >Remote_AS_Number</th>    </tr></thead><tbody>\n",
       "                <tr>\n",
       "                        <th id=\"T_pybfstylelevel0_row0\" class=\"row_heading level0 row0\" >20</th>\n",
       "                        <td id=\"T_pybfstylerow0_col0\" class=\"data row0 col0\" >as2border2</td>\n",
       "                        <td id=\"T_pybfstylerow0_col1\" class=\"data row0 col1\" >10.23.21.2</td>\n",
       "                        <td id=\"T_pybfstylerow0_col2\" class=\"data row0 col2\" >None</td>\n",
       "                        <td id=\"T_pybfstylerow0_col3\" class=\"data row0 col3\" >2</td>\n",
       "                        <td id=\"T_pybfstylerow0_col4\" class=\"data row0 col4\" >as3border1</td>\n",
       "                        <td id=\"T_pybfstylerow0_col5\" class=\"data row0 col5\" >10.23.21.3</td>\n",
       "                        <td id=\"T_pybfstylerow0_col6\" class=\"data row0 col6\" >None</td>\n",
       "                        <td id=\"T_pybfstylerow0_col7\" class=\"data row0 col7\" >3</td>\n",
       "            </tr>\n",
       "    </tbody></table>"
      ],
      "text/plain": [
       "          Node          IP Interface AS_Number Remote_Node   Remote_IP  \\\n",
       "20  as2border2  10.23.21.2      None         2  as3border1  10.23.21.3   \n",
       "\n",
       "   Remote_Interface Remote_AS_Number  \n",
       "20             None                3  "
      ]
     },
     "metadata": {},
     "output_type": "display_data"
    }
   ],
   "source": [
    "# Find the matching edge in the reference edges answer from before\n",
    "missing_snapshot_edge = reference_bgp_edges[\n",
    "                           (reference_bgp_edges['Node']==\"as2border2\") \n",
    "                           & (reference_bgp_edges['Remote_Node']==\"as3border1\")\n",
    "                         ]\n",
    "\n",
    "# Print the edge information\n",
    "show(missing_snapshot_edge)"
   ]
  },
  {
   "cell_type": "markdown",
   "metadata": {},
   "source": [
    "Do you recall the interface on as2border2 that was shut earlier? This edge removal is because of that interface shutdown (which you confirm using IP of the interface---`10.23.21.2/24`)."
   ]
  },
  {
   "cell_type": "markdown",
   "metadata": {},
   "source": [
    "##### 3B. ACL behavior\n",
    "\n",
    "To compute the behavior differences between ACLs, we use the [compare filters question](https://pybatfish.readthedocs.io/en/latest/notebooks/differentialQuestions.html#Compare-Filters). It returns pairs of lines, one from the filter definition in each snapshot, that match the same flow(s) but treat them differently (i.e. one permits and the other denies the flow)."
   ]
  },
  {
   "cell_type": "code",
   "execution_count": 15,
   "metadata": {
    "scrolled": true
   },
   "outputs": [
    {
     "data": {
      "text/html": [
       "<style  type=\"text/css\" >\n",
       "#T_pybfstylerow0_col0,#T_pybfstylerow0_col1,#T_pybfstylerow0_col2,#T_pybfstylerow0_col3,#T_pybfstylerow0_col4,#T_pybfstylerow0_col5,#T_pybfstylerow0_col6{\n",
       "            text-align:  left;\n",
       "            vertical-align:  top;\n",
       "        }</style><table id=\"T_pybfstyle\"  class=\"tex2jax_ignore\"><thead>    <tr>        <th class=\"blank level0\" ></th>        <th class=\"col_heading level0 col0\" >Node</th>        <th class=\"col_heading level0 col1\" >Filter_Name</th>        <th class=\"col_heading level0 col2\" >Line_Index</th>        <th class=\"col_heading level0 col3\" >Line_Content</th>        <th class=\"col_heading level0 col4\" >Line_Action</th>        <th class=\"col_heading level0 col5\" >Reference_Line_Index</th>        <th class=\"col_heading level0 col6\" >Reference_Line_Content</th>    </tr></thead><tbody>\n",
       "                <tr>\n",
       "                        <th id=\"T_pybfstylelevel0_row0\" class=\"row_heading level0 row0\" >0</th>\n",
       "                        <td id=\"T_pybfstylerow0_col0\" class=\"data row0 col0\" >as2dist2</td>\n",
       "                        <td id=\"T_pybfstylerow0_col1\" class=\"data row0 col1\" >105</td>\n",
       "                        <td id=\"T_pybfstylerow0_col2\" class=\"data row0 col2\" >4</td>\n",
       "                        <td id=\"T_pybfstylerow0_col3\" class=\"data row0 col3\" >permit ip host 3.0.3.0 host 255.255.255.0</td>\n",
       "                        <td id=\"T_pybfstylerow0_col4\" class=\"data row0 col4\" >PERMIT</td>\n",
       "                        <td id=\"T_pybfstylerow0_col5\" class=\"data row0 col5\" >End of ACL</td>\n",
       "                        <td id=\"T_pybfstylerow0_col6\" class=\"data row0 col6\" ></td>\n",
       "            </tr>\n",
       "    </tbody></table>"
      ],
      "text/plain": [
       "       Node Filter_Name Line_Index                               Line_Content  \\\n",
       "0  as2dist2         105          4  permit ip host 3.0.3.0 host 255.255.255.0   \n",
       "\n",
       "  Line_Action Reference_Line_Index Reference_Line_Content  \n",
       "0      PERMIT           End of ACL                         "
      ]
     },
     "metadata": {},
     "output_type": "display_data"
    }
   ],
   "source": [
    "# compute behavior differences between ACLs\n",
    "compare_filters = bfq.compareFilters().answer(\n",
    "                                            snapshot='snapshot',\n",
    "                                            reference_snapshot='reference'\n",
    "                                        ).frame()\n",
    "\n",
    "# print the result\n",
    "show(compare_filters)"
   ]
  },
  {
   "cell_type": "markdown",
   "metadata": {},
   "source": [
    "We see that the only difference in the ACL behaviors of the two snapshots is for ACL `105` on `as2dist`. Line `permit ip host 3.0.3.0 host 255.255.255.0` in the snapshot permits some flows that were earlier being denied because of the implicit deny at the end of the ACL in the reference snapshot. Thus,we have permitted flows that were not being permitted before.\n",
    "\n",
    "If you were paying attention to the text diff above, the result produced by Batfish may surprise you because that diff shows that ACL `102` on `as2dist1` has changed as well. Batfish analysis reveals, however, that this change did not result in a behavior difference at all. The added line was permitting TCP traffic between two hosts for which IP traffic was already permitted, so no new traffic was permitted. So, either this change was unnecessary or someone mistyped the host addresses. "
   ]
  },
  {
   "cell_type": "markdown",
   "metadata": {},
   "source": [
    "### Summary\n",
    "\n",
    "Batfish enables you to easily understand how your device configs differ from a historial reference or golden versions. It provides structured information about not only changes to settings in configs but also about changes in network behavior. This information provides important context beyond simple text diffs and can be inserted into an automated pipeline that alerts on important changes. \n"
   ]
  },
  {
   "cell_type": "markdown",
   "metadata": {},
   "source": [
    "***\n",
    "### Get involved with the Batfish community\n",
    "\n",
    "Join our community on [Slack](https://join.slack.com/t/batfish-org/shared_invite/enQtMzA0Nzg2OTAzNzQ1LTcyYzY3M2Q0NWUyYTRhYjdlM2IzYzRhZGU1NWFlNGU2MzlhNDY3OTJmMDIyMjQzYmRlNjhkMTRjNWIwNTUwNTQ) and [GitHub](https://github.com/batfish/batfish). "
   ]
  }
 ],
 "metadata": {
  "kernelspec": {
   "display_name": "Python 3",
   "language": "python",
   "name": "python3"
  },
  "language_info": {
   "codemirror_mode": {
    "name": "ipython",
    "version": 3
   },
   "file_extension": ".py",
   "mimetype": "text/x-python",
   "name": "python",
   "nbconvert_exporter": "python",
   "pygments_lexer": "ipython3",
   "version": "3.7.7"
  }
 },
 "nbformat": 4,
 "nbformat_minor": 4
}
