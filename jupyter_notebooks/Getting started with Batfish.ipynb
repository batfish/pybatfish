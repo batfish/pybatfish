{
 "cells": [
  {
   "cell_type": "markdown",
   "metadata": {},
   "source": [
    "## Getting Started with Batfish\n",
    "\n",
    "This notebook uses pybatfish, a Python-based SDK for Batfish, to analyze a sample network. It shows how to submit your configurations and other network data for analysis and how to query its vendor-neutral network model. [Other notebooks](https://github.com/batfish/pybatfish/tree/master/jupyter_notebooks) show how to use Batfish for different types of network validation tasks.\n",
    "\n",
    "### Initializing a Network and Snapshot\n",
    "\n",
    "A *network* is a logical group of routers and links. It can be your entire network or a subset of it. A *snapshot* is a collection of information (configuration files, routing data, up/down status of nodes and links) that represent the network state. Snapshots can contain the actual state of the network or candidate states (e.g, those corresponding to a planned change) that you want to analyze.\n",
    "\n",
    "**\\*\\*Make sure that the Batfish service is running locally before running the cells below.\\*\\***"
   ]
  },
  {
   "cell_type": "code",
   "execution_count": 1,
   "metadata": {},
   "outputs": [],
   "source": [
    "# Import pybatfish and other needed packages\n",
    "%run startup.py"
   ]
  },
  {
   "cell_type": "code",
   "execution_count": 2,
   "metadata": {
    "scrolled": false
   },
   "outputs": [
    {
     "data": {
      "text/plain": [
       "'example_snapshot'"
      ]
     },
     "execution_count": 2,
     "metadata": {},
     "output_type": "execute_result"
    }
   ],
   "source": [
    "# Assign a friendly name to your network and snapshot\n",
    "NETWORK_NAME = \"example_network\"\n",
    "SNAPSHOT_NAME = \"example_snapshot\"\n",
    "\n",
    "# Update SNAPSHOT_PATH to point to a directory containing your network snapshots.\n",
    "# Example snapshots are available in the test_rigs folder of the Batfish repository.\n",
    "# See https://github.com/batfish/batfish/wiki/Packaging-testrigs-for-analysis for how to package data for analysis\n",
    "SNAPSHOT_PATH = \"../test_rigs/example\"\n",
    "\n",
    "# Now create the network and initialize the snapshot\n",
    "bf_set_network(NETWORK_NAME)\n",
    "bf_init_snapshot(SNAPSHOT_PATH, name=SNAPSHOT_NAME, overwrite=True)"
   ]
  },
  {
   "cell_type": "markdown",
   "metadata": {},
   "source": [
    "If you used the example we provided, the network you initialized above is illustrated below. You can download/view devices' configuration files [here](https://github.com/batfish/batfish/tree/master/test_rigs/example).\n",
    "\n",
    "![example-network](https://raw.githubusercontent.com/batfish/batfish/master/test_rigs/example/example-network.png)\n",
    "\n",
    "***"
   ]
  },
  {
   "cell_type": "markdown",
   "metadata": {},
   "source": [
    "### Querying the Network Model\n",
    "\n",
    "Batfish creates a comprehensive vendor-neutral device and network model which can be queried for information about devices, interfaces, VRFs, routes, etc. It offers a set of *questions*  to query this model."
   ]
  },
  {
   "cell_type": "code",
   "execution_count": 3,
   "metadata": {},
   "outputs": [],
   "source": [
    "# Load questions from Batfish\n",
    "load_questions()"
   ]
  },
  {
   "cell_type": "code",
   "execution_count": 4,
   "metadata": {},
   "outputs": [
    {
     "name": "stdout",
     "output_type": "stream",
     "text": [
      "Return configuration properties of nodes.\n",
      "\n",
      "\n",
      ":param nodeRegex: Only include nodes that match this regex.\n",
      ":type nodeRegex: nodeSpec\n",
      ":param propertySpec: Only include properties that match this regex. Default behavior is to return all properties.\n",
      ":type propertySpec: nodePropertySpec\n"
     ]
    }
   ],
   "source": [
    "# To see available questions, you can use\n",
    "list_questions()\n",
    "\n",
    "# You can also use tab-completion on the Batfish question module - bfq. -> press TAB key,\n",
    "# uncomment and try on the following line\n",
    "# bfq.\n",
    "\n",
    "# You can find out usage for a question by calling .help() on it; note the `()` before .help()\n",
    "bfq.nodeProperties().help()"
   ]
  },
  {
   "cell_type": "markdown",
   "metadata": {},
   "source": [
    "***\n",
    "\n",
    "### Getting status of parsed files\n",
    "\n",
    "Batfish may ignore certain lines in the configuration. To retrieve the parsing status of snapshot files, use the `fileParseStatus()` question."
   ]
  },
  {
   "cell_type": "code",
   "execution_count": 5,
   "metadata": {},
   "outputs": [],
   "source": [
    "parse_status = bfq.fileParseStatus().answer().frame()"
   ]
  },
  {
   "cell_type": "markdown",
   "metadata": {},
   "source": [
    "`answer()` runs the question and returns the answer in a JSON format. \n",
    "\n",
    "`frame()` wraps the answer as [pandas dataframe](https://pandas.pydata.org/pandas-docs/stable/generated/pandas.DataFrame.html)."
   ]
  },
  {
   "cell_type": "code",
   "execution_count": 6,
   "metadata": {},
   "outputs": [
    {
     "data": {
      "text/html": [
       "<div>\n",
       "<style scoped>\n",
       "    .dataframe tbody tr th:only-of-type {\n",
       "        vertical-align: middle;\n",
       "    }\n",
       "\n",
       "    .dataframe tbody tr th {\n",
       "        vertical-align: top;\n",
       "    }\n",
       "\n",
       "    .dataframe thead th {\n",
       "        text-align: right;\n",
       "    }\n",
       "</style>\n",
       "<table border=\"1\" class=\"dataframe\">\n",
       "  <thead>\n",
       "    <tr style=\"text-align: right;\">\n",
       "      <th></th>\n",
       "      <th>Filename</th>\n",
       "      <th>Status</th>\n",
       "      <th>Nodes</th>\n",
       "    </tr>\n",
       "  </thead>\n",
       "  <tbody>\n",
       "    <tr>\n",
       "      <th>0</th>\n",
       "      <td>configs/as1border1.cfg</td>\n",
       "      <td>PASSED</td>\n",
       "      <td>[as1border1]</td>\n",
       "    </tr>\n",
       "    <tr>\n",
       "      <th>1</th>\n",
       "      <td>configs/as1border2.cfg</td>\n",
       "      <td>PASSED</td>\n",
       "      <td>[as1border2]</td>\n",
       "    </tr>\n",
       "    <tr>\n",
       "      <th>2</th>\n",
       "      <td>configs/as1core1.cfg</td>\n",
       "      <td>PASSED</td>\n",
       "      <td>[as1core1]</td>\n",
       "    </tr>\n",
       "    <tr>\n",
       "      <th>3</th>\n",
       "      <td>configs/as2border1.cfg</td>\n",
       "      <td>PASSED</td>\n",
       "      <td>[as2border1]</td>\n",
       "    </tr>\n",
       "    <tr>\n",
       "      <th>4</th>\n",
       "      <td>configs/as2border2.cfg</td>\n",
       "      <td>PASSED</td>\n",
       "      <td>[as2border2]</td>\n",
       "    </tr>\n",
       "    <tr>\n",
       "      <th>5</th>\n",
       "      <td>configs/as2core1.cfg</td>\n",
       "      <td>PASSED</td>\n",
       "      <td>[as2core1]</td>\n",
       "    </tr>\n",
       "    <tr>\n",
       "      <th>6</th>\n",
       "      <td>configs/as2core2.cfg</td>\n",
       "      <td>PASSED</td>\n",
       "      <td>[as2core2]</td>\n",
       "    </tr>\n",
       "    <tr>\n",
       "      <th>7</th>\n",
       "      <td>configs/as2dept1.cfg</td>\n",
       "      <td>PASSED</td>\n",
       "      <td>[as2dept1]</td>\n",
       "    </tr>\n",
       "    <tr>\n",
       "      <th>8</th>\n",
       "      <td>configs/as2dist1.cfg</td>\n",
       "      <td>PASSED</td>\n",
       "      <td>[as2dist1]</td>\n",
       "    </tr>\n",
       "    <tr>\n",
       "      <th>9</th>\n",
       "      <td>configs/as2dist2.cfg</td>\n",
       "      <td>PASSED</td>\n",
       "      <td>[as2dist2]</td>\n",
       "    </tr>\n",
       "    <tr>\n",
       "      <th>10</th>\n",
       "      <td>configs/as3border1.cfg</td>\n",
       "      <td>PASSED</td>\n",
       "      <td>[as3border1]</td>\n",
       "    </tr>\n",
       "    <tr>\n",
       "      <th>11</th>\n",
       "      <td>configs/as3border2.cfg</td>\n",
       "      <td>PASSED</td>\n",
       "      <td>[as3border2]</td>\n",
       "    </tr>\n",
       "    <tr>\n",
       "      <th>12</th>\n",
       "      <td>configs/as3core1.cfg</td>\n",
       "      <td>PASSED</td>\n",
       "      <td>[as3core1]</td>\n",
       "    </tr>\n",
       "    <tr>\n",
       "      <th>13</th>\n",
       "      <td>hosts/host1.json</td>\n",
       "      <td>PASSED</td>\n",
       "      <td>[host1]</td>\n",
       "    </tr>\n",
       "    <tr>\n",
       "      <th>14</th>\n",
       "      <td>hosts/host2.json</td>\n",
       "      <td>PASSED</td>\n",
       "      <td>[host2]</td>\n",
       "    </tr>\n",
       "    <tr>\n",
       "      <th>15</th>\n",
       "      <td>iptables/host1.iptables</td>\n",
       "      <td>PASSED</td>\n",
       "      <td>[iptables/host1.iptables]</td>\n",
       "    </tr>\n",
       "    <tr>\n",
       "      <th>16</th>\n",
       "      <td>iptables/host2.iptables</td>\n",
       "      <td>PASSED</td>\n",
       "      <td>[iptables/host2.iptables]</td>\n",
       "    </tr>\n",
       "  </tbody>\n",
       "</table>\n",
       "</div>"
      ],
      "text/plain": [
       "                   Filename  Status                      Nodes\n",
       "0    configs/as1border1.cfg  PASSED               [as1border1]\n",
       "1    configs/as1border2.cfg  PASSED               [as1border2]\n",
       "2      configs/as1core1.cfg  PASSED                 [as1core1]\n",
       "3    configs/as2border1.cfg  PASSED               [as2border1]\n",
       "4    configs/as2border2.cfg  PASSED               [as2border2]\n",
       "5      configs/as2core1.cfg  PASSED                 [as2core1]\n",
       "6      configs/as2core2.cfg  PASSED                 [as2core2]\n",
       "7      configs/as2dept1.cfg  PASSED                 [as2dept1]\n",
       "8      configs/as2dist1.cfg  PASSED                 [as2dist1]\n",
       "9      configs/as2dist2.cfg  PASSED                 [as2dist2]\n",
       "10   configs/as3border1.cfg  PASSED               [as3border1]\n",
       "11   configs/as3border2.cfg  PASSED               [as3border2]\n",
       "12     configs/as3core1.cfg  PASSED                 [as3core1]\n",
       "13         hosts/host1.json  PASSED                    [host1]\n",
       "14         hosts/host2.json  PASSED                    [host2]\n",
       "15  iptables/host1.iptables  PASSED  [iptables/host1.iptables]\n",
       "16  iptables/host2.iptables  PASSED  [iptables/host2.iptables]"
      ]
     },
     "execution_count": 6,
     "metadata": {},
     "output_type": "execute_result"
    }
   ],
   "source": [
    "# View the parse status results\n",
    "parse_status"
   ]
  },
  {
   "cell_type": "markdown",
   "metadata": {},
   "source": [
    "Additional post-processing can be done on this data, like filtering for values in one or multiple columns, reducing the number of columns, etc. using pandas. A tutorial on pandas-based filtering is [here](http://nbviewer.jupyter.org/github/jvns/pandas-cookbook/blob/v0.2/cookbook/Chapter%203%20-%20Which%20borough%20has%20the%20most%20noise%20complaints%20%28or%2C%20more%20selecting%20data%29.ipynb)."
   ]
  },
  {
   "cell_type": "code",
   "execution_count": 7,
   "metadata": {},
   "outputs": [
    {
     "data": {
      "text/html": [
       "<div>\n",
       "<style scoped>\n",
       "    .dataframe tbody tr th:only-of-type {\n",
       "        vertical-align: middle;\n",
       "    }\n",
       "\n",
       "    .dataframe tbody tr th {\n",
       "        vertical-align: top;\n",
       "    }\n",
       "\n",
       "    .dataframe thead th {\n",
       "        text-align: right;\n",
       "    }\n",
       "</style>\n",
       "<table border=\"1\" class=\"dataframe\">\n",
       "  <thead>\n",
       "    <tr style=\"text-align: right;\">\n",
       "      <th></th>\n",
       "      <th>Filename</th>\n",
       "      <th>Status</th>\n",
       "      <th>Nodes</th>\n",
       "    </tr>\n",
       "  </thead>\n",
       "  <tbody>\n",
       "  </tbody>\n",
       "</table>\n",
       "</div>"
      ],
      "text/plain": [
       "Empty DataFrame\n",
       "Columns: [Filename, Status, Nodes]\n",
       "Index: []"
      ]
     },
     "execution_count": 7,
     "metadata": {},
     "output_type": "execute_result"
    }
   ],
   "source": [
    "# An example: use a filter on the returned dataframe to see which files failed to parse completely\n",
    "parse_status[parse_status['Status'] != 'PASSED']  # change '!=' to '==' to get the files which passed"
   ]
  },
  {
   "cell_type": "code",
   "execution_count": 8,
   "metadata": {},
   "outputs": [
    {
     "data": {
      "text/html": [
       "<div>\n",
       "<style scoped>\n",
       "    .dataframe tbody tr th:only-of-type {\n",
       "        vertical-align: middle;\n",
       "    }\n",
       "\n",
       "    .dataframe tbody tr th {\n",
       "        vertical-align: top;\n",
       "    }\n",
       "\n",
       "    .dataframe thead th {\n",
       "        text-align: right;\n",
       "    }\n",
       "</style>\n",
       "<table border=\"1\" class=\"dataframe\">\n",
       "  <thead>\n",
       "    <tr style=\"text-align: right;\">\n",
       "      <th></th>\n",
       "      <th>Filename</th>\n",
       "      <th>Text</th>\n",
       "      <th>Line</th>\n",
       "      <th>Parser_Context</th>\n",
       "      <th>Comment</th>\n",
       "    </tr>\n",
       "  </thead>\n",
       "  <tbody>\n",
       "  </tbody>\n",
       "</table>\n",
       "</div>"
      ],
      "text/plain": [
       "Empty DataFrame\n",
       "Columns: [Filename, Text, Line, Parser_Context, Comment]\n",
       "Index: []"
      ]
     },
     "execution_count": 8,
     "metadata": {},
     "output_type": "execute_result"
    }
   ],
   "source": [
    "# View details if some of the files were not parsed completely\n",
    "parse_warning = bfq.parseWarning().answer().frame()\n",
    "\n",
    "parse_warning"
   ]
  },
  {
   "cell_type": "markdown",
   "metadata": {},
   "source": [
    "***\n",
    "### Extracting properties of network entities\n",
    "Entities in the network refer to things like nodes, interfaces, routing processes, and VRFs. Batfish makes it trivial to extract configured properties of such entities in a vendor neutral manner. \n",
    "\n",
    "##### Node properties\n",
    "The nodeProperties question extracts information on nodes in the snapshot."
   ]
  },
  {
   "cell_type": "code",
   "execution_count": 9,
   "metadata": {},
   "outputs": [],
   "source": [
    "# Extract the properties of all nodes whose names match the regular expression '.*border.*'\n",
    "node_properties = bfq.nodeProperties(nodeRegex=\".*border.*\").answer().frame()"
   ]
  },
  {
   "cell_type": "code",
   "execution_count": 10,
   "metadata": {},
   "outputs": [
    {
     "data": {
      "text/plain": [
       "Index(['node', 'domain-name', 'ip6-access-lists', 'tacacs-servers',\n",
       "       'logging-servers', 'tacacs-source-interface', 'ipsec-vpns',\n",
       "       'snmp-source-interface', 'hostname', 'ntp-source-interface',\n",
       "       'configuration-format', 'routing-policies', 'dns-servers',\n",
       "       'dns-source-interface', 'ike-policies', 'device-type',\n",
       "       'route6-filter-lists', 'canonical-ip', 'route-filter-lists',\n",
       "       'interfaces', 'ip-access-lists', 'logging-source-interface',\n",
       "       'authentication-key-chains', 'ipsec-policies', 'zones',\n",
       "       'community-lists', 'ip-spaces', 'default-cross-zone-action',\n",
       "       'default-inbound-action', 'ipsec-proposals', 'snmp-trap-servers',\n",
       "       'as-path-access-lists', 'ntp-servers', 'ike-gateways', 'vendor-family',\n",
       "       'vrfs'],\n",
       "      dtype='object')"
      ]
     },
     "execution_count": 10,
     "metadata": {},
     "output_type": "execute_result"
    }
   ],
   "source": [
    "# View what columns (properties) are present in the answer\n",
    "node_properties.columns"
   ]
  },
  {
   "cell_type": "code",
   "execution_count": 11,
   "metadata": {},
   "outputs": [
    {
     "data": {
      "text/html": [
       "<div>\n",
       "<style scoped>\n",
       "    .dataframe tbody tr th:only-of-type {\n",
       "        vertical-align: middle;\n",
       "    }\n",
       "\n",
       "    .dataframe tbody tr th {\n",
       "        vertical-align: top;\n",
       "    }\n",
       "\n",
       "    .dataframe thead th {\n",
       "        text-align: right;\n",
       "    }\n",
       "</style>\n",
       "<table border=\"1\" class=\"dataframe\">\n",
       "  <thead>\n",
       "    <tr style=\"text-align: right;\">\n",
       "      <th></th>\n",
       "      <th>node</th>\n",
       "      <th>domain-name</th>\n",
       "      <th>interfaces</th>\n",
       "      <th>ntp-servers</th>\n",
       "    </tr>\n",
       "  </thead>\n",
       "  <tbody>\n",
       "    <tr>\n",
       "      <th>0</th>\n",
       "      <td>as2border1</td>\n",
       "      <td>lab.local</td>\n",
       "      <td>[GigabitEthernet0/0, GigabitEthernet1/0, GigabitEthernet2/0, Ethernet0/0, Loopback0]</td>\n",
       "      <td>[18.18.18.18, 23.23.23.23]</td>\n",
       "    </tr>\n",
       "    <tr>\n",
       "      <th>1</th>\n",
       "      <td>as3border1</td>\n",
       "      <td>lab.local</td>\n",
       "      <td>[GigabitEthernet0/0, GigabitEthernet1/0, Ethernet0/0, Loopback0]</td>\n",
       "      <td>[18.18.18.18, 23.23.23.23]</td>\n",
       "    </tr>\n",
       "    <tr>\n",
       "      <th>2</th>\n",
       "      <td>as1border1</td>\n",
       "      <td>lab.local</td>\n",
       "      <td>[GigabitEthernet0/0, GigabitEthernet1/0, Ethernet0/0, Loopback0]</td>\n",
       "      <td>[]</td>\n",
       "    </tr>\n",
       "    <tr>\n",
       "      <th>3</th>\n",
       "      <td>as1border2</td>\n",
       "      <td>lab.local</td>\n",
       "      <td>[GigabitEthernet0/0, GigabitEthernet1/0, GigabitEthernet2/0, Ethernet0/0, Loopback0]</td>\n",
       "      <td>[18.18.18.18, 23.23.23.23]</td>\n",
       "    </tr>\n",
       "    <tr>\n",
       "      <th>4</th>\n",
       "      <td>as2border2</td>\n",
       "      <td>lab.local</td>\n",
       "      <td>[GigabitEthernet0/0, GigabitEthernet1/0, GigabitEthernet2/0, Ethernet0/0, Loopback0]</td>\n",
       "      <td>[18.18.18.18]</td>\n",
       "    </tr>\n",
       "    <tr>\n",
       "      <th>5</th>\n",
       "      <td>as3border2</td>\n",
       "      <td>lab.local</td>\n",
       "      <td>[GigabitEthernet0/0, GigabitEthernet1/0, Ethernet0/0, Loopback0]</td>\n",
       "      <td>[18.18.18.18, 23.23.23.23]</td>\n",
       "    </tr>\n",
       "  </tbody>\n",
       "</table>\n",
       "</div>"
      ],
      "text/plain": [
       "         node domain-name  \\\n",
       "0  as2border1   lab.local   \n",
       "1  as3border1   lab.local   \n",
       "2  as1border1   lab.local   \n",
       "3  as1border2   lab.local   \n",
       "4  as2border2   lab.local   \n",
       "5  as3border2   lab.local   \n",
       "\n",
       "                                                                             interfaces  \\\n",
       "0  [GigabitEthernet0/0, GigabitEthernet1/0, GigabitEthernet2/0, Ethernet0/0, Loopback0]   \n",
       "1                      [GigabitEthernet0/0, GigabitEthernet1/0, Ethernet0/0, Loopback0]   \n",
       "2                      [GigabitEthernet0/0, GigabitEthernet1/0, Ethernet0/0, Loopback0]   \n",
       "3  [GigabitEthernet0/0, GigabitEthernet1/0, GigabitEthernet2/0, Ethernet0/0, Loopback0]   \n",
       "4  [GigabitEthernet0/0, GigabitEthernet1/0, GigabitEthernet2/0, Ethernet0/0, Loopback0]   \n",
       "5                      [GigabitEthernet0/0, GigabitEthernet1/0, Ethernet0/0, Loopback0]   \n",
       "\n",
       "                  ntp-servers  \n",
       "0  [18.18.18.18, 23.23.23.23]  \n",
       "1  [18.18.18.18, 23.23.23.23]  \n",
       "2                          []  \n",
       "3  [18.18.18.18, 23.23.23.23]  \n",
       "4               [18.18.18.18]  \n",
       "5  [18.18.18.18, 23.23.23.23]  "
      ]
     },
     "execution_count": 11,
     "metadata": {},
     "output_type": "execute_result"
    }
   ],
   "source": [
    "# To extract only a subset of properties, use the propertySpec parameter\n",
    "node_properties_trunc = bfq.nodeProperties(nodeRegex=\".*border.*\", propertySpec=\"domain-name|ntp-servers|interfaces\").answer().frame()\n",
    "\n",
    "node_properties_trunc"
   ]
  },
  {
   "cell_type": "markdown",
   "metadata": {},
   "source": [
    "An alternative (client-side) way to restrict the list of columns displayed is to use pandas-based column filtering ([pandas tutorial](http://nbviewer.jupyter.org/github/jvns/pandas-cookbook/blob/v0.2/cookbook/Chapter%202%20-%20Selecting%20data%20%26%20finding%20the%20most%20common%20complaint%20type.ipynb))."
   ]
  },
  {
   "cell_type": "code",
   "execution_count": 12,
   "metadata": {},
   "outputs": [
    {
     "data": {
      "text/html": [
       "<div>\n",
       "<style scoped>\n",
       "    .dataframe tbody tr th:only-of-type {\n",
       "        vertical-align: middle;\n",
       "    }\n",
       "\n",
       "    .dataframe tbody tr th {\n",
       "        vertical-align: top;\n",
       "    }\n",
       "\n",
       "    .dataframe thead th {\n",
       "        text-align: right;\n",
       "    }\n",
       "</style>\n",
       "<table border=\"1\" class=\"dataframe\">\n",
       "  <thead>\n",
       "    <tr style=\"text-align: right;\">\n",
       "      <th></th>\n",
       "      <th>node</th>\n",
       "      <th>domain-name</th>\n",
       "      <th>ntp-servers</th>\n",
       "    </tr>\n",
       "  </thead>\n",
       "  <tbody>\n",
       "    <tr>\n",
       "      <th>0</th>\n",
       "      <td>as2border1</td>\n",
       "      <td>lab.local</td>\n",
       "      <td>[18.18.18.18, 23.23.23.23]</td>\n",
       "    </tr>\n",
       "    <tr>\n",
       "      <th>1</th>\n",
       "      <td>as3border1</td>\n",
       "      <td>lab.local</td>\n",
       "      <td>[18.18.18.18, 23.23.23.23]</td>\n",
       "    </tr>\n",
       "    <tr>\n",
       "      <th>2</th>\n",
       "      <td>as1border1</td>\n",
       "      <td>lab.local</td>\n",
       "      <td>[]</td>\n",
       "    </tr>\n",
       "    <tr>\n",
       "      <th>3</th>\n",
       "      <td>as1border2</td>\n",
       "      <td>lab.local</td>\n",
       "      <td>[18.18.18.18, 23.23.23.23]</td>\n",
       "    </tr>\n",
       "    <tr>\n",
       "      <th>4</th>\n",
       "      <td>as2border2</td>\n",
       "      <td>lab.local</td>\n",
       "      <td>[18.18.18.18]</td>\n",
       "    </tr>\n",
       "    <tr>\n",
       "      <th>5</th>\n",
       "      <td>as3border2</td>\n",
       "      <td>lab.local</td>\n",
       "      <td>[18.18.18.18, 23.23.23.23]</td>\n",
       "    </tr>\n",
       "  </tbody>\n",
       "</table>\n",
       "</div>"
      ],
      "text/plain": [
       "         node domain-name                 ntp-servers\n",
       "0  as2border1   lab.local  [18.18.18.18, 23.23.23.23]\n",
       "1  as3border1   lab.local  [18.18.18.18, 23.23.23.23]\n",
       "2  as1border1   lab.local                          []\n",
       "3  as1border2   lab.local  [18.18.18.18, 23.23.23.23]\n",
       "4  as2border2   lab.local               [18.18.18.18]\n",
       "5  as3border2   lab.local  [18.18.18.18, 23.23.23.23]"
      ]
     },
     "execution_count": 12,
     "metadata": {},
     "output_type": "execute_result"
    }
   ],
   "source": [
    "# Let's remove the interfaces column from our result\n",
    "node_properties_trunc = node_properties_trunc[[\"node\", \"domain-name\", \"ntp-servers\"]]\n",
    "\n",
    "node_properties_trunc"
   ]
  },
  {
   "cell_type": "markdown",
   "metadata": {},
   "source": [
    "You can add additional filters to restrict entries based on values of columns."
   ]
  },
  {
   "cell_type": "code",
   "execution_count": 13,
   "metadata": {},
   "outputs": [
    {
     "data": {
      "text/html": [
       "<div>\n",
       "<style scoped>\n",
       "    .dataframe tbody tr th:only-of-type {\n",
       "        vertical-align: middle;\n",
       "    }\n",
       "\n",
       "    .dataframe tbody tr th {\n",
       "        vertical-align: top;\n",
       "    }\n",
       "\n",
       "    .dataframe thead th {\n",
       "        text-align: right;\n",
       "    }\n",
       "</style>\n",
       "<table border=\"1\" class=\"dataframe\">\n",
       "  <thead>\n",
       "    <tr style=\"text-align: right;\">\n",
       "      <th></th>\n",
       "      <th>node</th>\n",
       "      <th>domain-name</th>\n",
       "      <th>ntp-servers</th>\n",
       "    </tr>\n",
       "  </thead>\n",
       "  <tbody>\n",
       "    <tr>\n",
       "      <th>0</th>\n",
       "      <td>as2border1</td>\n",
       "      <td>lab.local</td>\n",
       "      <td>[18.18.18.18, 23.23.23.23]</td>\n",
       "    </tr>\n",
       "    <tr>\n",
       "      <th>1</th>\n",
       "      <td>as3border1</td>\n",
       "      <td>lab.local</td>\n",
       "      <td>[18.18.18.18, 23.23.23.23]</td>\n",
       "    </tr>\n",
       "    <tr>\n",
       "      <th>3</th>\n",
       "      <td>as1border2</td>\n",
       "      <td>lab.local</td>\n",
       "      <td>[18.18.18.18, 23.23.23.23]</td>\n",
       "    </tr>\n",
       "    <tr>\n",
       "      <th>5</th>\n",
       "      <td>as3border2</td>\n",
       "      <td>lab.local</td>\n",
       "      <td>[18.18.18.18, 23.23.23.23]</td>\n",
       "    </tr>\n",
       "  </tbody>\n",
       "</table>\n",
       "</div>"
      ],
      "text/plain": [
       "         node domain-name                 ntp-servers\n",
       "0  as2border1   lab.local  [18.18.18.18, 23.23.23.23]\n",
       "1  as3border1   lab.local  [18.18.18.18, 23.23.23.23]\n",
       "3  as1border2   lab.local  [18.18.18.18, 23.23.23.23]\n",
       "5  as3border2   lab.local  [18.18.18.18, 23.23.23.23]"
      ]
     },
     "execution_count": 13,
     "metadata": {},
     "output_type": "execute_result"
    }
   ],
   "source": [
    "# View only nodes with **23.23.23.23** as one of the configured ntp-servers\n",
    "node_properties_trunc[node_properties_trunc['ntp-servers'].apply(lambda x:'23.23.23.23' in x)]"
   ]
  },
  {
   "cell_type": "markdown",
   "metadata": {},
   "source": [
    "#### Interface properties\n",
    "To retrieve information about interfaces present and the properties of them, use the **interfaceProperties** question"
   ]
  },
  {
   "cell_type": "code",
   "execution_count": 14,
   "metadata": {},
   "outputs": [],
   "source": [
    "interface_properties = bfq.interfaceProperties(nodeRegex=\".*border.*\", propertySpec=\"interface-type|bandwidth|vrf|primary-address\").answer().frame()"
   ]
  },
  {
   "cell_type": "markdown",
   "metadata": {},
   "source": [
    "If you wanted to just find interfaces with the primary ip address in <b>10.12.0.0/16</b>, you can filter the results as shown below.\n",
    "\n",
    "**na=False** is required in order to ignore interfaces without any configured IP addresses, such as ethernet switchports.\n"
   ]
  },
  {
   "cell_type": "code",
   "execution_count": 15,
   "metadata": {},
   "outputs": [
    {
     "data": {
      "text/html": [
       "<div>\n",
       "<style scoped>\n",
       "    .dataframe tbody tr th:only-of-type {\n",
       "        vertical-align: middle;\n",
       "    }\n",
       "\n",
       "    .dataframe tbody tr th {\n",
       "        vertical-align: top;\n",
       "    }\n",
       "\n",
       "    .dataframe thead th {\n",
       "        text-align: right;\n",
       "    }\n",
       "</style>\n",
       "<table border=\"1\" class=\"dataframe\">\n",
       "  <thead>\n",
       "    <tr style=\"text-align: right;\">\n",
       "      <th></th>\n",
       "      <th>interface</th>\n",
       "      <th>bandwidth</th>\n",
       "      <th>interface-type</th>\n",
       "      <th>vrf</th>\n",
       "      <th>primary-address</th>\n",
       "    </tr>\n",
       "  </thead>\n",
       "  <tbody>\n",
       "    <tr>\n",
       "      <th>4</th>\n",
       "      <td>as2border1:GigabitEthernet0/0</td>\n",
       "      <td>1.000000e+09</td>\n",
       "      <td>PHYSICAL</td>\n",
       "      <td>default</td>\n",
       "      <td>10.12.11.2/24</td>\n",
       "    </tr>\n",
       "    <tr>\n",
       "      <th>14</th>\n",
       "      <td>as1border1:GigabitEthernet1/0</td>\n",
       "      <td>1.000000e+09</td>\n",
       "      <td>PHYSICAL</td>\n",
       "      <td>default</td>\n",
       "      <td>10.12.11.1/24</td>\n",
       "    </tr>\n",
       "  </tbody>\n",
       "</table>\n",
       "</div>"
      ],
      "text/plain": [
       "                        interface     bandwidth interface-type      vrf  \\\n",
       "4   as2border1:GigabitEthernet0/0  1.000000e+09       PHYSICAL  default   \n",
       "14  as1border1:GigabitEthernet1/0  1.000000e+09       PHYSICAL  default   \n",
       "\n",
       "   primary-address  \n",
       "4    10.12.11.2/24  \n",
       "14   10.12.11.1/24  "
      ]
     },
     "execution_count": 15,
     "metadata": {},
     "output_type": "execute_result"
    }
   ],
   "source": [
    "interface_properties[interface_properties['primary-address'].str.match(\"10.12\", na=False)]"
   ]
  },
  {
   "cell_type": "markdown",
   "metadata": {},
   "source": [
    "Similar questions extract properties of other entities (e.g., `bgpProperties()` extracts properties of BGP processes)."
   ]
  },
  {
   "cell_type": "markdown",
   "metadata": {},
   "source": [
    "***\n",
    "### Inspecting referential integrity of configuration structures\n",
    "Network configuratons define and reference named structures like route maps, access control lists (ACLs), prefix lists, etc. Two common indicators of buggy configurations include references to structures that are not defined anywhere (which can lead to disastrous consequences on some platforms) or defined structures that are not referenced anywhere. Batfish makes it easy to flag such instances because it understand the underlying semantics of configuration."
   ]
  },
  {
   "cell_type": "code",
   "execution_count": 16,
   "metadata": {},
   "outputs": [
    {
     "data": {
      "text/html": [
       "<div>\n",
       "<style scoped>\n",
       "    .dataframe tbody tr th:only-of-type {\n",
       "        vertical-align: middle;\n",
       "    }\n",
       "\n",
       "    .dataframe tbody tr th {\n",
       "        vertical-align: top;\n",
       "    }\n",
       "\n",
       "    .dataframe thead th {\n",
       "        text-align: right;\n",
       "    }\n",
       "</style>\n",
       "<table border=\"1\" class=\"dataframe\">\n",
       "  <thead>\n",
       "    <tr style=\"text-align: right;\">\n",
       "      <th></th>\n",
       "      <th>filename</th>\n",
       "      <th>structType</th>\n",
       "      <th>refName</th>\n",
       "      <th>context</th>\n",
       "      <th>lines</th>\n",
       "    </tr>\n",
       "  </thead>\n",
       "  <tbody>\n",
       "    <tr>\n",
       "      <th>0</th>\n",
       "      <td>configs/as2core2.cfg</td>\n",
       "      <td>route-map</td>\n",
       "      <td>filter-bogons</td>\n",
       "      <td>bgp inbound route-map</td>\n",
       "      <td>configs/as2core2.cfg:[109]</td>\n",
       "    </tr>\n",
       "  </tbody>\n",
       "</table>\n",
       "</div>"
      ],
      "text/plain": [
       "               filename structType        refName                context  \\\n",
       "0  configs/as2core2.cfg  route-map  filter-bogons  bgp inbound route-map   \n",
       "\n",
       "                        lines  \n",
       "0  configs/as2core2.cfg:[109]  "
      ]
     },
     "execution_count": 16,
     "metadata": {},
     "output_type": "execute_result"
    }
   ],
   "source": [
    "# List references to undefined structures\n",
    "bfq.undefinedReferences().answer().frame()"
   ]
  },
  {
   "cell_type": "markdown",
   "metadata": {},
   "source": [
    "The question for listing any unused structures is `unusedStructures()`."
   ]
  },
  {
   "cell_type": "markdown",
   "metadata": {},
   "source": [
    "***\n",
    "### Exploring Routing and Forwarding Tables (RIBs and FIBs)\n",
    "Batfish can compute routing and forwarding tables (aka dataplane) of the network from snapshot data itself. This data plane can be examined to understand the routing and forwarding behavior of the network. "
   ]
  },
  {
   "cell_type": "code",
   "execution_count": 17,
   "metadata": {},
   "outputs": [],
   "source": [
    "# Fetch the routing table of all VRFs on all nodes in the snapshot\n",
    "routes_df = bfq.routes().answer().frame()"
   ]
  },
  {
   "cell_type": "markdown",
   "metadata": {},
   "source": [
    "(For a large network, the first time you run a question that needs the dataplane, fetching the answer can take a few minutes. Subsequent questions are quick as the generated dataplane is saved by Batfish.)\n",
    "\n",
    "As used above, the routes() question can generate a lot of results. You may restrict the output using parameters to the question---to restrict the results to **border** routers, use **nodeRegex = \"\\.\\*border\\.\\*\"**. Or, you can use pandas for client-side filtering as below."
   ]
  },
  {
   "cell_type": "code",
   "execution_count": 18,
   "metadata": {},
   "outputs": [
    {
     "data": {
      "text/html": [
       "<div>\n",
       "<style scoped>\n",
       "    .dataframe tbody tr th:only-of-type {\n",
       "        vertical-align: middle;\n",
       "    }\n",
       "\n",
       "    .dataframe tbody tr th {\n",
       "        vertical-align: top;\n",
       "    }\n",
       "\n",
       "    .dataframe thead th {\n",
       "        text-align: right;\n",
       "    }\n",
       "</style>\n",
       "<table border=\"1\" class=\"dataframe\">\n",
       "  <thead>\n",
       "    <tr style=\"text-align: right;\">\n",
       "      <th></th>\n",
       "      <th>Node</th>\n",
       "      <th>VRF</th>\n",
       "      <th>Network</th>\n",
       "      <th>Protocol</th>\n",
       "      <th>Tag</th>\n",
       "      <th>NextHopIp</th>\n",
       "      <th>NextHop</th>\n",
       "      <th>AdminDistance</th>\n",
       "      <th>Metric</th>\n",
       "    </tr>\n",
       "  </thead>\n",
       "  <tbody>\n",
       "    <tr>\n",
       "      <th>21</th>\n",
       "      <td>as3core1</td>\n",
       "      <td>default</td>\n",
       "      <td>90.90.90.0/24</td>\n",
       "      <td>connected</td>\n",
       "      <td>-1</td>\n",
       "      <td>AUTO/NONE(-1l)</td>\n",
       "      <td>None</td>\n",
       "      <td>0</td>\n",
       "      <td>0</td>\n",
       "    </tr>\n",
       "    <tr>\n",
       "      <th>22</th>\n",
       "      <td>as3core1</td>\n",
       "      <td>default</td>\n",
       "      <td>90.90.90.0/24</td>\n",
       "      <td>connected</td>\n",
       "      <td>-1</td>\n",
       "      <td>AUTO/NONE(-1l)</td>\n",
       "      <td>None</td>\n",
       "      <td>0</td>\n",
       "      <td>0</td>\n",
       "    </tr>\n",
       "  </tbody>\n",
       "</table>\n",
       "</div>"
      ],
      "text/plain": [
       "        Node      VRF        Network   Protocol  Tag       NextHopIp NextHop  \\\n",
       "21  as3core1  default  90.90.90.0/24  connected   -1  AUTO/NONE(-1l)    None   \n",
       "22  as3core1  default  90.90.90.0/24  connected   -1  AUTO/NONE(-1l)    None   \n",
       "\n",
       "    AdminDistance  Metric  \n",
       "21              0       0  \n",
       "22              0       0  "
      ]
     },
     "execution_count": 18,
     "metadata": {},
     "output_type": "execute_result"
    }
   ],
   "source": [
    "# View all routes for the network 90.90.90.0/24 with an AdminDistance of 0\n",
    "routes_df[(routes_df['Network'] == \"90.90.90.0/24\") & (routes_df[\"AdminDistance\"] == 0)]"
   ]
  },
  {
   "cell_type": "markdown",
   "metadata": {},
   "source": [
    "***\n",
    "That's it for now! Feel free to explore further by adding cells and running other questions, or play with [other notebooks](https://github.com/batfish/pybatfish/tree/master/jupyter_notebooks)."
   ]
  }
 ],
 "metadata": {
  "hide_input": false,
  "kernelspec": {
   "display_name": "Python 3",
   "language": "python",
   "name": "python3"
  },
  "language_info": {
   "codemirror_mode": {
    "name": "ipython",
    "version": 3
   },
   "file_extension": ".py",
   "mimetype": "text/x-python",
   "name": "python",
   "nbconvert_exporter": "python",
   "pygments_lexer": "ipython3",
   "version": "3.6.4"
  }
 },
 "nbformat": 4,
 "nbformat_minor": 2
}
