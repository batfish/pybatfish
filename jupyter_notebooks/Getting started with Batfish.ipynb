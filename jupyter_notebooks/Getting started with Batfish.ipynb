{
 "cells": [
  {
   "cell_type": "markdown",
   "metadata": {},
   "source": [
    "### Getting started with Batfish"
   ]
  },
  {
   "cell_type": "markdown",
   "metadata": {},
   "source": [
    "We will use the python client for Batfish (pybatfish) to analyze a sample network. This notebook will show the commands necessary to:\n",
    "#### 1. Create a Network and a Snapshot\n",
    "Network is the logical network. It can be the entire network or a subset of it. Snapshot is a collection of information (configuration files, etc…) that represent the network at a point in time. Snapshots can contain the actual configuration of network devices or candidate configurations.\n",
    "\n",
    "#### 2. Extract information\n",
    "Batfish creates a comprehensive vendor neutral device and network model from which information such as list of devices, interface state, VRFs etc. can be extracted."
   ]
  },
  {
   "cell_type": "code",
   "execution_count": 8,
   "metadata": {},
   "outputs": [],
   "source": [
    "# Importing required libraries and setting up logging\n",
    "\n",
    "from pybatfish.client.commands import (bf_set_network,\n",
    "                                       bf_init_snapshot, bf_generate_dataplane, bf_logger)\n",
    "from pybatfish.question import bfq, load_questions\n",
    "\n",
    "import logging\n",
    "\n",
    "bf_logger.setLevel(logging.WARN)"
   ]
  },
  {
   "cell_type": "markdown",
   "metadata": {},
   "source": [
    "### Initializing our Network and Snapshot"
   ]
  },
  {
   "cell_type": "code",
   "execution_count": 9,
   "metadata": {
    "scrolled": false
   },
   "outputs": [
    {
     "data": {
      "text/plain": [
       "'{\\n  \"answerElements\" : [\\n    {\\n      \"class\" : \"org.batfish.datamodel.answers.InitInfoAnswerElement\",\\n      \"parseStatus\" : {\\n        \"as1border1\" : \"PASSED\",\\n        \"as1border2\" : \"PASSED\",\\n        \"as1core1\" : \"PASSED\",\\n        \"as2border1\" : \"PASSED\",\\n        \"as2border2\" : \"PASSED\",\\n        \"as2core1\" : \"PASSED\",\\n        \"as2core2\" : \"PASSED\",\\n        \"as2dept1\" : \"PASSED\",\\n        \"as2dist1\" : \"PASSED\",\\n        \"as2dist2\" : \"PASSED\",\\n        \"as3border1\" : \"PASSED\",\\n        \"as3border2\" : \"PASSED\",\\n        \"as3core1\" : \"PASSED\",\\n        \"host1\" : \"PASSED\",\\n        \"host2\" : \"PASSED\",\\n        \"iptables/host1.iptables\" : \"PASSED\",\\n        \"iptables/host2.iptables\" : \"PASSED\"\\n      }\\n    }\\n  ],\\n  \"status\" : \"SUCCESS\",\\n  \"summary\" : {\\n    \"numFailed\" : 0,\\n    \"numPassed\" : 0,\\n    \"numResults\" : 0\\n  }\\n}\\n'"
      ]
     },
     "execution_count": 9,
     "metadata": {},
     "output_type": "execute_result"
    }
   ],
   "source": [
    "NETWORK_NAME = \"example_network\"\n",
    "SNAPSHOT_NAME = \"example_snapshot\"\n",
    "SNAPSHOT_PATH = \"test_rigs/example\"\n",
    "\n",
    "bf_set_network(NETWORK_NAME)\n",
    "bf_init_snapshot(SNAPSHOT_PATH, name=SNAPSHOT_NAME)"
   ]
  },
  {
   "cell_type": "markdown",
   "metadata": {},
   "source": [
    "### Loading questions from Batfish\n",
    "Questions are like commands exposed through Batfish/clients to interact with a network and run queries on it."
   ]
  },
  {
   "cell_type": "code",
   "execution_count": 10,
   "metadata": {},
   "outputs": [],
   "source": [
    "# Load questions from Batfish\n",
    "load_questions()"
   ]
  },
  {
   "cell_type": "code",
   "execution_count": 11,
   "metadata": {},
   "outputs": [],
   "source": [
    "# To see available questions use the tab auto-completion on the Batfish question module - bfq. -> press TAB key,\n",
    "# uncomment and try on the following line\n",
    "# bfq."
   ]
  },
  {
   "cell_type": "markdown",
   "metadata": {},
   "source": [
    "To get information about which files were not parsed completely during initialization, we can use the fileParseStatus question"
   ]
  },
  {
   "cell_type": "code",
   "execution_count": 12,
   "metadata": {},
   "outputs": [],
   "source": [
    "parse_status = bfq.fileParseStatus().answer().frame()"
   ]
  },
  {
   "cell_type": "markdown",
   "metadata": {},
   "source": [
    "`answer()` runs a question at the service and returns the answer in a tabular JSON format. `frame()` further wraps the answer as [pandas dataframe](https://pandas.pydata.org/pandas-docs/stable/generated/pandas.DataFrame.html) which can be used to do various post-processing on the answer, like filtering or minimizing the columns in the tabular JSON: [pandas tutorial on filtering](http://nbviewer.jupyter.org/github/jvns/pandas-cookbook/blob/v0.2/cookbook/Chapter%203%20-%20Which%20borough%20has%20the%20most%20noise%20complaints%20%28or%2C%20more%20selecting%20data%29.ipynb)."
   ]
  },
  {
   "cell_type": "code",
   "execution_count": 13,
   "metadata": {},
   "outputs": [
    {
     "data": {
      "text/html": [
       "<div>\n",
       "<style scoped>\n",
       "    .dataframe tbody tr th:only-of-type {\n",
       "        vertical-align: middle;\n",
       "    }\n",
       "\n",
       "    .dataframe tbody tr th {\n",
       "        vertical-align: top;\n",
       "    }\n",
       "\n",
       "    .dataframe thead th {\n",
       "        text-align: right;\n",
       "    }\n",
       "</style>\n",
       "<table border=\"1\" class=\"dataframe\">\n",
       "  <thead>\n",
       "    <tr style=\"text-align: right;\">\n",
       "      <th></th>\n",
       "      <th>Filename</th>\n",
       "      <th>Status</th>\n",
       "      <th>Hosts</th>\n",
       "    </tr>\n",
       "  </thead>\n",
       "  <tbody>\n",
       "  </tbody>\n",
       "</table>\n",
       "</div>"
      ],
      "text/plain": [
       "Empty DataFrame\n",
       "Columns: [Filename, Status, Hosts]\n",
       "Index: []"
      ]
     },
     "execution_count": 13,
     "metadata": {},
     "output_type": "execute_result"
    }
   ],
   "source": [
    "# Use a filter on the returned dataframe to see which files failed to parse\n",
    "parse_status[parse_status['Status'] != 'PASSED']  # change '!=' to '==' to get the files which passed\n"
   ]
  },
  {
   "cell_type": "markdown",
   "metadata": {},
   "source": [
    "### Exploring \"example\" network snapshot and extracting information\n"
   ]
  },
  {
   "cell_type": "markdown",
   "metadata": {},
   "source": [
    "Getting information about the border nodes in the network"
   ]
  },
  {
   "cell_type": "code",
   "execution_count": 14,
   "metadata": {},
   "outputs": [
    {
     "name": "stderr",
     "output_type": "stream",
     "text": [
      "WARNING: skipping validation for unknown argument type nodeSpec\n",
      "WARNING: skipping validation for unknown argument type nodeSpec\n",
      "WARNING: skipping validation for unknown argument type nodePropertySpec\n"
     ]
    }
   ],
   "source": [
    "node_properties = bfq.nodeProperties(nodeRegex=\".*border.*\").answer().frame()\n",
    "# To view what columns are present in the answer, run\n",
    "# node_properties.columns\n",
    "# To make Batfish return an answer with only some columns, pass the propertySpec parameter in the question\n",
    "node_properties_trunc = bfq.nodeProperties(nodeRegex=\".*border.*\", propertySpec=\"hostname|domain-name|ntp-servers|interfaces\").answer().frame()"
   ]
  },
  {
   "cell_type": "markdown",
   "metadata": {},
   "source": [
    "We can also apply pandas column filtering on top of the result, [pandas tutorial](http://nbviewer.jupyter.org/github/jvns/pandas-cookbook/blob/v0.2/cookbook/Chapter%202%20-%20Selecting%20data%20%26%20finding%20the%20most%20common%20complaint%20type.ipynb) "
   ]
  },
  {
   "cell_type": "code",
   "execution_count": 15,
   "metadata": {},
   "outputs": [],
   "source": [
    "# Let's remove the interfaces column from our result\n",
    "node_properties_trunc = node_properties_trunc[[\"hostname\", \"domain-name\", \"ntp-servers\"]]"
   ]
  },
  {
   "cell_type": "markdown",
   "metadata": {},
   "source": [
    "We can also do filtering based on values of columns, for example to view only the nodes having **23.23.23.23** as one of their ntp-servers, run the following on the above result"
   ]
  },
  {
   "cell_type": "code",
   "execution_count": 16,
   "metadata": {},
   "outputs": [
    {
     "data": {
      "text/html": [
       "<div>\n",
       "<style scoped>\n",
       "    .dataframe tbody tr th:only-of-type {\n",
       "        vertical-align: middle;\n",
       "    }\n",
       "\n",
       "    .dataframe tbody tr th {\n",
       "        vertical-align: top;\n",
       "    }\n",
       "\n",
       "    .dataframe thead th {\n",
       "        text-align: right;\n",
       "    }\n",
       "</style>\n",
       "<table border=\"1\" class=\"dataframe\">\n",
       "  <thead>\n",
       "    <tr style=\"text-align: right;\">\n",
       "      <th></th>\n",
       "      <th>hostname</th>\n",
       "      <th>domain-name</th>\n",
       "      <th>ntp-servers</th>\n",
       "    </tr>\n",
       "  </thead>\n",
       "  <tbody>\n",
       "    <tr>\n",
       "      <th>1</th>\n",
       "      <td>as1border2</td>\n",
       "      <td>lab.local</td>\n",
       "      <td>[18.18.18.18, 23.23.23.23]</td>\n",
       "    </tr>\n",
       "    <tr>\n",
       "      <th>2</th>\n",
       "      <td>as2border1</td>\n",
       "      <td>lab.local</td>\n",
       "      <td>[18.18.18.18, 23.23.23.23]</td>\n",
       "    </tr>\n",
       "    <tr>\n",
       "      <th>4</th>\n",
       "      <td>as3border1</td>\n",
       "      <td>lab.local</td>\n",
       "      <td>[18.18.18.18, 23.23.23.23]</td>\n",
       "    </tr>\n",
       "    <tr>\n",
       "      <th>5</th>\n",
       "      <td>as3border2</td>\n",
       "      <td>lab.local</td>\n",
       "      <td>[18.18.18.18, 23.23.23.23]</td>\n",
       "    </tr>\n",
       "  </tbody>\n",
       "</table>\n",
       "</div>"
      ],
      "text/plain": [
       "     hostname domain-name                 ntp-servers\n",
       "1  as1border2   lab.local  [18.18.18.18, 23.23.23.23]\n",
       "2  as2border1   lab.local  [18.18.18.18, 23.23.23.23]\n",
       "4  as3border1   lab.local  [18.18.18.18, 23.23.23.23]\n",
       "5  as3border2   lab.local  [18.18.18.18, 23.23.23.23]"
      ]
     },
     "execution_count": 16,
     "metadata": {},
     "output_type": "execute_result"
    }
   ],
   "source": [
    "node_properties_trunc[node_properties_trunc['ntp-servers'].apply(lambda x:'23.23.23.23' in x)]"
   ]
  },
  {
   "cell_type": "markdown",
   "metadata": {},
   "source": [
    "To inspect the properties of interfaces present in the network we can use the **interfaceProperties** question"
   ]
  },
  {
   "cell_type": "code",
   "execution_count": 17,
   "metadata": {},
   "outputs": [
    {
     "name": "stderr",
     "output_type": "stream",
     "text": [
      "WARNING: skipping validation for unknown argument type nodeSpec\n",
      "WARNING: skipping validation for unknown argument type interfacePropertySpec\n"
     ]
    }
   ],
   "source": [
    "interfaces = bfq.interfaceProperties(nodeRegex=\".*border.*\", propertySpec=\"interface-type|bandwidth|vrf|primary-address\").answer().frame()"
   ]
  },
  {
   "cell_type": "markdown",
   "metadata": {},
   "source": [
    "We can do filtering on the table returned to get information like which interfaces have a primary IP starting with **10.12.\\*.\\*, na=False** will ignore the interfaces which do not have a primary address."
   ]
  },
  {
   "cell_type": "code",
   "execution_count": 18,
   "metadata": {},
   "outputs": [
    {
     "data": {
      "text/html": [
       "<div>\n",
       "<style scoped>\n",
       "    .dataframe tbody tr th:only-of-type {\n",
       "        vertical-align: middle;\n",
       "    }\n",
       "\n",
       "    .dataframe tbody tr th {\n",
       "        vertical-align: top;\n",
       "    }\n",
       "\n",
       "    .dataframe thead th {\n",
       "        text-align: right;\n",
       "    }\n",
       "</style>\n",
       "<table border=\"1\" class=\"dataframe\">\n",
       "  <thead>\n",
       "    <tr style=\"text-align: right;\">\n",
       "      <th></th>\n",
       "      <th>interface</th>\n",
       "      <th>bandwidth</th>\n",
       "      <th>interface-type</th>\n",
       "      <th>vrf</th>\n",
       "      <th>primary-address</th>\n",
       "    </tr>\n",
       "  </thead>\n",
       "  <tbody>\n",
       "    <tr>\n",
       "      <th>2</th>\n",
       "      <td>as1border1:GigabitEthernet1/0</td>\n",
       "      <td>1.000000e+09</td>\n",
       "      <td>PHYSICAL</td>\n",
       "      <td>default</td>\n",
       "      <td>10.12.11.1/24</td>\n",
       "    </tr>\n",
       "    <tr>\n",
       "      <th>10</th>\n",
       "      <td>as2border1:GigabitEthernet0/0</td>\n",
       "      <td>1.000000e+09</td>\n",
       "      <td>PHYSICAL</td>\n",
       "      <td>default</td>\n",
       "      <td>10.12.11.2/24</td>\n",
       "    </tr>\n",
       "  </tbody>\n",
       "</table>\n",
       "</div>"
      ],
      "text/plain": [
       "                        interface     bandwidth interface-type      vrf  \\\n",
       "2   as1border1:GigabitEthernet1/0  1.000000e+09       PHYSICAL  default   \n",
       "10  as2border1:GigabitEthernet0/0  1.000000e+09       PHYSICAL  default   \n",
       "\n",
       "   primary-address  \n",
       "2    10.12.11.1/24  \n",
       "10   10.12.11.2/24  "
      ]
     },
     "execution_count": 18,
     "metadata": {},
     "output_type": "execute_result"
    }
   ],
   "source": [
    "interfaces[interfaces['primary-address'].str.match(\"10.12\", na=False)]"
   ]
  },
  {
   "cell_type": "markdown",
   "metadata": {},
   "source": [
    "### Exploring the data-plane related aspects of the network"
   ]
  },
  {
   "cell_type": "code",
   "execution_count": 19,
   "metadata": {},
   "outputs": [
    {
     "data": {
      "text/plain": [
       "'{\\n  \"answerElements\" : [\\n    {\\n      \"class\" : \"org.batfish.datamodel.answers.IncrementalBdpAnswerElement\",\\n      \"bgpBestPathRibRoutesByIteration\" : {\\n        \"1\" : 24,\\n        \"2\" : 58,\\n        \"3\" : 66,\\n        \"4\" : 75,\\n        \"5\" : 76,\\n        \"6\" : 76,\\n        \"7\" : 76\\n      },\\n      \"bgpMultipathRibRoutesByIteration\" : {\\n        \"1\" : 28,\\n        \"2\" : 94,\\n        \"3\" : 106,\\n        \"4\" : 123,\\n        \"5\" : 124,\\n        \"6\" : 124,\\n        \"7\" : 124\\n      },\\n      \"dependentRoutesIterations\" : 7,\\n      \"eigrpInternalIterations\" : 1,\\n      \"mainRibRoutesByIteration\" : {\\n        \"1\" : 211,\\n        \"2\" : 307,\\n        \"3\" : 321,\\n        \"4\" : 338,\\n        \"5\" : 339,\\n        \"6\" : 339,\\n        \"7\" : 339\\n      },\\n      \"ospfInternalIterations\" : 3,\\n      \"version\" : \"0.36.0\",\\n      \"warnings\" : { }\\n    }\\n  ],\\n  \"status\" : \"SUCCESS\",\\n  \"summary\" : {\\n    \"numFailed\" : 0,\\n    \"numPassed\" : 0,\\n    \"numResults\" : 0\\n  }\\n}\\n'"
      ]
     },
     "execution_count": 19,
     "metadata": {},
     "output_type": "execute_result"
    }
   ],
   "source": [
    "# Let's generate the data-plane for our network\n",
    "bf_generate_dataplane()"
   ]
  },
  {
   "cell_type": "markdown",
   "metadata": {},
   "source": [
    "This will make sure a data-plane exists before we start running our data-plane dependent questions\n",
    "Otherwise this will be done implicitly by the data-plane dependent questions"
   ]
  },
  {
   "cell_type": "markdown",
   "metadata": {},
   "source": [
    "We can run the routes question to get all the routes present on all nodes/VRFs after the data-plane computation is done."
   ]
  },
  {
   "cell_type": "code",
   "execution_count": 20,
   "metadata": {},
   "outputs": [],
   "source": [
    "routes_df = bfq.routes().answer().frame()"
   ]
  },
  {
   "cell_type": "markdown",
   "metadata": {},
   "source": [
    "We can do filtering based on the fields returned, to find out information like \"Tell me all the routes on all the nodes/VRFs which are going to the network **90.90.90.0/24** with an **Admin Distance of 0**\", we can filter using multiple conditions in [pandas](http://pandas.pydata.org/pandas-docs/version/0.15/indexing.html#boolean-indexing)"
   ]
  },
  {
   "cell_type": "code",
   "execution_count": 21,
   "metadata": {},
   "outputs": [
    {
     "data": {
      "text/html": [
       "<div>\n",
       "<style scoped>\n",
       "    .dataframe tbody tr th:only-of-type {\n",
       "        vertical-align: middle;\n",
       "    }\n",
       "\n",
       "    .dataframe tbody tr th {\n",
       "        vertical-align: top;\n",
       "    }\n",
       "\n",
       "    .dataframe thead th {\n",
       "        text-align: right;\n",
       "    }\n",
       "</style>\n",
       "<table border=\"1\" class=\"dataframe\">\n",
       "  <thead>\n",
       "    <tr style=\"text-align: right;\">\n",
       "      <th></th>\n",
       "      <th>Node</th>\n",
       "      <th>VRF</th>\n",
       "      <th>Network</th>\n",
       "      <th>Protocol</th>\n",
       "      <th>Tag</th>\n",
       "      <th>NextHopIp</th>\n",
       "      <th>NextHop</th>\n",
       "      <th>AdminDistance</th>\n",
       "      <th>Metric</th>\n",
       "    </tr>\n",
       "  </thead>\n",
       "  <tbody>\n",
       "    <tr>\n",
       "      <th>329</th>\n",
       "      <td>as3core1</td>\n",
       "      <td>default</td>\n",
       "      <td>90.90.90.0/24</td>\n",
       "      <td>connected</td>\n",
       "      <td>-1</td>\n",
       "      <td>AUTO/NONE(-1l)</td>\n",
       "      <td>None</td>\n",
       "      <td>0</td>\n",
       "      <td>0</td>\n",
       "    </tr>\n",
       "    <tr>\n",
       "      <th>330</th>\n",
       "      <td>as3core1</td>\n",
       "      <td>default</td>\n",
       "      <td>90.90.90.0/24</td>\n",
       "      <td>connected</td>\n",
       "      <td>-1</td>\n",
       "      <td>AUTO/NONE(-1l)</td>\n",
       "      <td>None</td>\n",
       "      <td>0</td>\n",
       "      <td>0</td>\n",
       "    </tr>\n",
       "  </tbody>\n",
       "</table>\n",
       "</div>"
      ],
      "text/plain": [
       "         Node      VRF        Network   Protocol  Tag       NextHopIp NextHop  \\\n",
       "329  as3core1  default  90.90.90.0/24  connected   -1  AUTO/NONE(-1l)    None   \n",
       "330  as3core1  default  90.90.90.0/24  connected   -1  AUTO/NONE(-1l)    None   \n",
       "\n",
       "     AdminDistance  Metric  \n",
       "329              0       0  \n",
       "330              0       0  "
      ]
     },
     "execution_count": 21,
     "metadata": {},
     "output_type": "execute_result"
    }
   ],
   "source": [
    "routes_df[(routes_df['Network'] == \"90.90.90.0/24\") & (routes_df[\"AdminDistance\"] == 0)]"
   ]
  },
  {
   "cell_type": "markdown",
   "metadata": {},
   "source": [
    "That's it for now!"
   ]
  }
 ],
 "metadata": {
  "kernelspec": {
   "display_name": "Python 3",
   "language": "python",
   "name": "python3"
  },
  "language_info": {
   "codemirror_mode": {
    "name": "ipython",
    "version": 3
   },
   "file_extension": ".py",
   "mimetype": "text/x-python",
   "name": "python",
   "nbconvert_exporter": "python",
   "pygments_lexer": "ipython3",
   "version": "3.6.3"
  }
 },
 "nbformat": 4,
 "nbformat_minor": 2
}
