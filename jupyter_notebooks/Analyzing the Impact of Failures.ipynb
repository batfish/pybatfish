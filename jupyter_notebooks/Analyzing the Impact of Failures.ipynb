{
 "cells": [
  {
   "cell_type": "markdown",
   "metadata": {
    "colab_type": "text",
    "id": "Jn1OYHkLdoxu"
   },
   "source": [
    "# Analyzing the Impact of Failures (and letting loose a Chaos Monkey)\n",
    "\n",
    "Planned (maintenance) and unplanned failure of nodes and interfaces in the network is a frequent occurrence. While most networks are designed to be tolerant to such failures, gaining confidence that they are in fact tolerant is difficult. Network engineers often reason about network behavior under failures manually, which is a complex and error-prone task. Consequently, the network could be one link failure away from an outage that leads to a massive loss of revenue and reputation.\n",
    "\n",
    "Fortunately, based just on device configurations, Batfish makes it easy to *proactively* analyze the network behavior under failures and offer guarantees on its tolerance to a range of failure scenarios. \n",
    "\n",
    "In this notebook, we will show how to use Batfish to analyze network behavior under failures. Specifically, we will describe how to simulate a specific network failure scenario, how to check forwarding changes for all flows in that scenario, and finally how to identify vulnerabilities using Chaos Monkey style testing."
   ]
  },
  {
   "cell_type": "markdown",
   "metadata": {
    "colab_type": "text",
    "id": "eR1UNRVUdoxw"
   },
   "source": [
    "## Initialization"
   ]
  },
  {
   "cell_type": "markdown",
   "metadata": {
    "colab_type": "text",
    "id": "_d_ogdeFdoxx"
   },
   "source": [
    "We will use the example network shown below with three autonomous systems (ASes) spread that connect via eBGP. Within each AS  iBGP and OSPF is used. The configurations of these devices are available [here](https://github.com/batfish/pybatfish/tree/master/jupyter_notebooks/networks/failure-analysis).\n",
    "\n",
    "![example-network](https://raw.githubusercontent.com/batfish/pybatfish/failure-analysis/jupyter_notebooks/networks/failure-analysis/failure-network.png)\n",
    "\n",
    "***"
   ]
  },
  {
   "cell_type": "code",
   "execution_count": null,
   "metadata": {
    "colab": {
     "base_uri": "https://localhost:8080/",
     "height": 34
    },
    "colab_type": "code",
    "id": "cqm31jGHdoxy",
    "outputId": "334c4eca-b09c-4924-db30-0f77ab22b5cb"
   },
   "outputs": [],
   "source": [
    "# Import pybatfish and other needed packages\n",
    "%run startup.py\n",
    "\n",
    "# Initialize the example network and snapshot\n",
    "NETWORK_NAME = \"example_network\"\n",
    "BASE_SNAPSHOT_NAME = \"base\"\n",
    "\n",
    "SNAPSHOT_PATH = \"networks/failure-analysis\"\n",
    "\n",
    "bf_set_network(NETWORK_NAME)\n",
    "bf_init_snapshot(SNAPSHOT_PATH, name=BASE_SNAPSHOT_NAME, overwrite=True)"
   ]
  },
  {
   "cell_type": "markdown",
   "metadata": {
    "colab_type": "text",
    "id": "uxhu1ZWZdox3"
   },
   "source": [
    "## `bf_fork_snapshot`: Simulating network failures\n",
    "To simulate network failures, Batfish offers a simple API `bf_fork_snapshot` that clones the original snapshot to a new one with the specified failure scenarios. \n",
    "\n",
    "Suppose we want to analyze the scenario where node `london` fails. We can use `bf_fork_snapshot` to simulate this failure as shown below."
   ]
  },
  {
   "cell_type": "code",
   "execution_count": null,
   "metadata": {
    "colab": {
     "base_uri": "https://localhost:8080/",
     "height": 34
    },
    "colab_type": "code",
    "id": "Aql_0RvNdox4",
    "outputId": "a3ee1d60-2d79-4f9f-8483-a1a0134fd54b"
   },
   "outputs": [],
   "source": [
    "# Fork a new snapshot with London deactivated\n",
    "FAIL_LONDON_SNAPSHOT_NAME = \"fail_london\"\n",
    "bf_fork_snapshot(BASE_SNAPSHOT_NAME, FAIL_LONDON_SNAPSHOT_NAME, deactivate_nodes=[\"london\"], overwrite=True)"
   ]
  },
  {
   "cell_type": "markdown",
   "metadata": {
    "colab_type": "text",
    "id": "S_L6mS-odox7"
   },
   "source": [
    "In the code, `bf_fork_snapshot` accepts four parameters: `BASE_SNAPSHOT_NAME` indicates the original snapshot name, `FAIL_LONDON_SNAPSHOT_NAME` is the name of the new snapshot, `deactivate_nodes` is a list of nodes that we wish to fail, and `overwrite=True` indictes that we want to reinitialize the snapshot if it already exists. \n",
    "\n",
    "In addition to `deactivate_nodes`, `bf_fork_snapshot` can also take `deactivate_interfaces` and `deactivate_links` as parameters to simulate interface and link failures. Combining these functions, Batfish allows us to simulate complicated failure scenarios involving interfaces, nodes, and links. For example, `bf_fork_snapshot(BASE_SNAPSHOT_NAME, FAIL_SNAPSHOT_NAME, deactivate_nodes=FAIL_NODES, deactivate_interfaces=FAIL_INTERFACES, overwrite=True))` creates a new snapshot that simulates both node and interface failures."
   ]
  },
  {
   "cell_type": "markdown",
   "metadata": {
    "colab_type": "text",
    "id": "tvuOz2MMdox_"
   },
   "source": [
    "To understand network behavior under the simulated failure, we can run any Batfish question on the newly created snapshot.  As an example, to ensure that the flows from `Paris` would still reach `PoP` even if `London` failed, we can run the traceroute question on the snapshot in which london has failed, as shown below. (See the [Introduction to Forwarding Analysis using Batfish](https://github.com/batfish/pybatfish/blob/master/jupyter_notebooks/Introduction%20to%20Forwarding%20Analysis.ipynb) notebook for more forwarding analysis quetions)."
   ]
  },
  {
   "cell_type": "code",
   "execution_count": null,
   "metadata": {
    "colab": {
     "base_uri": "https://localhost:8080/",
     "height": 10324
    },
    "colab_type": "code",
    "id": "lWIN-v-4doyA",
    "outputId": "6d8b43d0-ffc9-479d-ff1a-296bb919a738",
    "scrolled": true
   },
   "outputs": [],
   "source": [
    "# Get the answer of a traceroute question from Paris to the PoP's prefix\n",
    "pop_prefix = \"2.128.0.0/24\"\n",
    "tr_answer = bfq.traceroute(\n",
    "    startLocation=\"paris\",\n",
    "    headers=HeaderConstraints(dstIps=pop_prefix),\n",
    "    maxTraces=1\n",
    ").answer(FAIL_LONDON_SNAPSHOT_NAME)\n",
    "\n",
    "# Display the result in a pretty form\n",
    "show(tr_answer.frame())"
   ]
  },
  {
   "cell_type": "markdown",
   "metadata": {
    "colab_type": "text",
    "id": "jmJduHMMXUVr"
   },
   "source": [
    "Great! We have confirmed that `Paris` can still reach `PoP` via `Asia` even when `London` has failed. "
   ]
  },
  {
   "cell_type": "markdown",
   "metadata": {
    "colab_type": "text",
    "id": "tjVaHTZVdoyD"
   },
   "source": [
    "## `differentialReachability`: Checking changes of forwarding behavior for *all* flows"
   ]
  },
  {
   "cell_type": "markdown",
   "metadata": {
    "colab_type": "text",
    "id": "XoapZDnedoyE"
   },
   "source": [
    "Above, we saw how Batfish can create new snapshots that simulate failure scenarios and run analysis on them. This capability is useful to *test* the forwarding behavior under interesting failure scenarios. In some cases, we may also want to *verify* that certain network failures have no impact to the network, i.e., the forwarding behavior of *all* flows would not be changed by those failures. \n",
    "\n",
    "We now show a powerful question `differentialReachability` of Batfish, which allows us to analyze changes of *any* flow between two snapshots. This question will report any flow that was successfully delivered in the base snapshot but will not be delivered in failure snapshot or the other way around---not delivered in the base snapshot but delivered in the failure snapshot. \n",
    "\n",
    "Let us revisit the scenario where `London` fails. To understand if this failure impacts any flow to the PoP in the `US`, we can run the differential reachability question as below, by scoping the search to flows destined to the `PoP`(from anywhere) and comparing `FAIL_LONDON_SNAPSHOT_NAME` with `BASE_SNAPSHOT_NAME` as the reference. Leaving the headers field unscoped would search across flows to all possible destinations. "
   ]
  },
  {
   "cell_type": "code",
   "execution_count": null,
   "metadata": {
    "colab": {
     "base_uri": "https://localhost:8080/",
     "height": 741
    },
    "colab_type": "code",
    "id": "DNV0CDfWdoyF",
    "outputId": "9a371b43-0bca-48d3-b7e4-9ea7a2ecc919",
    "scrolled": true
   },
   "outputs": [],
   "source": [
    "# Get the answer to the differential reachability question given two snapshots\n",
    "diff_reachability_answer = bfq.differentialReachability(\n",
    "    headers=HeaderConstraints(dstIps=pop_prefix), maxTraces=1).answer(\n",
    "    snapshot=FAIL_LONDON_SNAPSHOT_NAME,\n",
    "    reference_snapshot=BASE_SNAPSHOT_NAME)\n",
    "\n",
    "# Display the results\n",
    "show(diff_reachability_answer.frame())"
   ]
  },
  {
   "cell_type": "markdown",
   "metadata": {
    "colab_type": "text",
    "id": "I_BxdFYsdoyI"
   },
   "source": [
    "We see from the result that the failures of `London` would in fact permit a flow that was originally being blocked by the `AS1_TO_AS2` ACL on `New York`. This difference reveals a potential security vulnerability! Luckily, Batfish allows us to catch and fix it before something bad happens in production. Similarly, if there were flows that were carried in `BASE_SNAPSHOT_NAME` but dropped in `FAIL_LONDON_SNAPSHOT_NAME` (an availablity issue), Batfish would have caught it.  \n",
    "\n",
    "Check out our [Introduction to Forwarding Change Validation](https://github.com/batfish/pybatfish/blob/master/jupyter_notebooks/Introduction%20to%20Forwarding%20Change%20Validation.ipynb) notebook for more use cases of differential reachability queries."
   ]
  },
  {
   "cell_type": "markdown",
   "metadata": {
    "colab_type": "text",
    "id": "5yOcfrvudoyM"
   },
   "source": [
    "## Chaos Monkey Testing\n",
    "\n",
    "Chaos Monkey style testing is a common method to to build highly reliable software systems. In it, different components of the system are randomly failed to see what impact it has on the service performance. Such testing is known to be highly effective but is not possible to do in the networking context. Until now.\n",
    "\n",
    "Batfish can easily enable Chaos Monkey testing for networks. Using the basic functions shown above, we can compose more complicated functions that randomly fail links and identify potential vulnerabilities in the network. \n",
    "\n",
    "Suppose we wanted our network to be robust to any possible 2-link failures. The example below shows how to perform Chaos Monkey testing to identify 2-link-failures that can cause an outage. Specifically, we will fail a pair of links picked at random and check whether the forwarding behavior would be changed by the failure using the `differentialReachability` question. "
   ]
  },
  {
   "cell_type": "markdown",
   "metadata": {
    "colab_type": "text",
    "id": "Wfseqb1C3Jox"
   },
   "source": [
    "Next, we run Chaos Monkey testing, shown as below."
   ]
  },
  {
   "cell_type": "code",
   "execution_count": null,
   "metadata": {
    "colab": {
     "base_uri": "https://localhost:8080/",
     "height": 82
    },
    "colab_type": "code",
    "id": "9bf8kTedkomL",
    "outputId": "f72d8d7a-2a56-47d0-df3d-45d4f1b021f3"
   },
   "outputs": [],
   "source": [
    "# Fix for demonstration purpose\n",
    "random.seed(435)\n",
    "\n",
    "max_iterations = 5\n",
    "\n",
    "# Get all links in the network\n",
    "links = bfq.edges().answer(BASE_SNAPSHOT_NAME).frame()\n",
    "\n",
    "for i in range(max_iterations):\n",
    "    # Get two links at random\n",
    "    failed_link1_index = random.randint(0, len(links) - 1)\n",
    "    failed_link2_index = random.randint(0, len(links) - 1)\n",
    "\n",
    "    # Fork a snapshot with the link failures\n",
    "    FAIL_SNAPSHOT_NAME = \"fail_snapshot\"\n",
    "    bf_fork_snapshot(\n",
    "        BASE_SNAPSHOT_NAME,\n",
    "        FAIL_SNAPSHOT_NAME,\n",
    "        deactivate_interfaces=[links.loc[failed_link1_index].Interface,\n",
    "                               links.loc[failed_link2_index].Interface],\n",
    "        overwrite=True)\n",
    "\n",
    "    # Run a differential reachability question\n",
    "    answer = bfq.differentialReachability(\n",
    "        headers=HeaderConstraints(dstIps=pop_prefix)\n",
    "    ).answer(\n",
    "        snapshot=FAIL_SNAPSHOT_NAME,\n",
    "        reference_snapshot=BASE_SNAPSHOT_NAME\n",
    "    )\n",
    "\n",
    "    # A non-empty returned answer means changed forwarding behavior\n",
    "    # We print the bad failure scenario and exit\n",
    "    if (len(answer.frame()) > 0):\n",
    "        show(links.iloc[[failed_link1_index, failed_link2_index]])\n",
    "        break"
   ]
  },
  {
   "cell_type": "markdown",
   "metadata": {
    "colab_type": "text",
    "id": "iKGhLXes6JOB"
   },
   "source": [
    "We see that there is a failure scenario under to which the network is not robust, that is, the failure will lead to a change in the forwarding behavior of at least some flows.  This scenairo is the failure of two links that connect `Seattle` to `Philadelphia` and `San Francisco`. This is unexpected because `Seattle` has another link that connects it to the rest of the network and should generally be available for traffic. \n",
    "\n",
    "Let us diagnose this situation to understand the problem. To begin, we first see which flows are impacted. "
   ]
  },
  {
   "cell_type": "code",
   "execution_count": null,
   "metadata": {
    "colab": {
     "base_uri": "https://localhost:8080/",
     "height": 7332
    },
    "colab_type": "code",
    "id": "50ds1zbT2Puh",
    "outputId": "de3c7889-b549-48b6-b570-dba4c78cc7bc"
   },
   "outputs": [],
   "source": [
    "show(answer.frame())"
   ]
  },
  {
   "cell_type": "markdown",
   "metadata": {
    "colab_type": "text",
    "id": "qc1w_8URRSIx"
   },
   "source": [
    "We see that when the links fail,  if we ignore flows that end in `Seattle` (whose links have failed), a general pattern is that `Asia` loses connectivity to `US`. Given the network topology, this is quite surprising because after those failure we would have expected `Asia` to be able to reach `US` via `Europe`. \n",
    "\n",
    "To investigate furhter into the root cause, we ask Batfish to show how the routing tables in the two cases differ. We do so using the `routes` question and comparing the two snapshots as in the differential reachabiity question. We focus on the impacted destination prefix `2.128.0.0/16`. "
   ]
  },
  {
   "cell_type": "code",
   "execution_count": null,
   "metadata": {
    "colab": {
     "base_uri": "https://localhost:8080/",
     "height": 571
    },
    "colab_type": "code",
    "id": "sUfNZS0ZLMEt",
    "outputId": "f3d7aaca-34dd-4752-868d-855713e3b6eb"
   },
   "outputs": [],
   "source": [
    "diff_routes = bfq.routes(network=\"2.128.0.0/16\", rib=\"bgp\").answer(snapshot=FAIL_SNAPSHOT_NAME, reference_snapshot=BASE_SNAPSHOT_NAME)\n",
    "show(diff_routes)"
   ]
  },
  {
   "cell_type": "markdown",
   "metadata": {
    "colab_type": "text",
    "id": "mTsuK7hDSOf4"
   },
   "source": [
    "We see that routers in `Asia` (`Hongkong`, `Singapore`, and `Tokyo`) and `Seattle` do not have any BGP routes to the prefix in the failure snapshot, which they did in the reference snapshot. The missing route in `Seattle` can be explained via missing routes in `Asia` since `Seattle` depended on `Asia` after losing its two other links. \n",
    "\n",
    "That `Europe` still has the routes after the failure alerts us to the possiblity of improper filtering of incoming routes in `Asia`. So, we should check on that. There are many ways to analyze the incoming route filters; we'll use the `definedStructures` question of Batfish to extract necessary definitions that we need to view."
   ]
  },
  {
   "cell_type": "code",
   "execution_count": null,
   "metadata": {
    "colab": {
     "base_uri": "https://localhost:8080/",
     "height": 328
    },
    "colab_type": "code",
    "id": "nETg597oOIHK",
    "outputId": "f75d3fb5-a0cf-4f42-e806-0781e324afa6"
   },
   "outputs": [],
   "source": [
    "# View all defined structres on 'hongkong'\n",
    "bfq.definedStructures(nodes=\"hongkong\").answer()"
   ]
  },
  {
   "cell_type": "markdown",
   "metadata": {
    "colab_type": "text",
    "id": "taewNfp_aHhG"
   },
   "source": [
    "We see the route map `as1_to_as3` is defined on line 119 and 120. Now we can quickly navigate to the lines in the config file, as showing below."
   ]
  },
  {
   "cell_type": "code",
   "execution_count": null,
   "metadata": {
    "colab": {
     "base_uri": "https://localhost:8080/",
     "height": 85
    },
    "colab_type": "code",
    "id": "zWqLfd-5Ou3F",
    "outputId": "fb032a17-0f78-4efa-d736-cad26ebb2d1e"
   },
   "outputs": [],
   "source": [
    "# See the config lines where the route map as1_to_as3 is defined\n",
    "!cat networks/failure-analysis/configs/hongkong.cfg | head -121 | tail -4"
   ]
  },
  {
   "cell_type": "markdown",
   "metadata": {
    "colab_type": "text",
    "id": "lJ7S3nrYa447"
   },
   "source": [
    "We see that the route map is denying routes that match the access-list '102.' Let's look at the definition of this list, which is on lines 115-117 per the defined structures list above. "
   ]
  },
  {
   "cell_type": "code",
   "execution_count": null,
   "metadata": {
    "colab": {
     "base_uri": "https://localhost:8080/",
     "height": 102
    },
    "colab_type": "code",
    "id": "_xtq4bH8jMln",
    "outputId": "d7a3485e-49b9-4ed8-d6ac-e05f39ae6f94"
   },
   "outputs": [],
   "source": [
    "# See the config lines where the access list '102' is defined\n",
    "!cat networks/failure-analysis/configs/hongkong.cfg | head -118 | tail -5"
   ]
  },
  {
   "cell_type": "markdown",
   "metadata": {
    "colab_type": "text",
    "id": "HfHAyy9Za36m"
   },
   "source": [
    "We see that this list includes the prefix of interest, which is `2.128.0.0/16` on the last line. Thus, the route map inadvertently blocks the prefix, thus disconnecting `Asia` from `US` when `Seattle` or its links fail. \n",
    "\n",
    "Without Batfish, it would have been hard to find this vulnerability, but the Chaos Monkey style testing enabled by Batfish makes it easy to find such vulnerabilities before they cause a service outage."
   ]
  },
  {
   "cell_type": "markdown",
   "metadata": {
    "colab_type": "text",
    "id": "7UAP7SQ3doyT"
   },
   "source": [
    "## Summary \n",
    "This notebook demonstrates how Batfish help analyze forwarding behavior in network failures. Specifically,\n",
    "  1. `bf_fork_snapshot` can clone a snapshot from another with deactivated interfaces, links and nodes;\n",
    "  2. `differentialReachability` can check all forwarding behavior changes for all flows between two snapshots;\n",
    "  3. We can build on top of the basic functions to create more involved analysis such as Chao Monkey testing."
   ]
  },
  {
   "cell_type": "markdown",
   "metadata": {
    "colab_type": "text",
    "id": "RuomiAqzdoyU"
   },
   "source": [
    "***\n",
    "### Get involved with the Batfish community\n",
    "\n",
    "Join our community on [Slack](https://join.slack.com/t/batfish-org/shared_invite/enQtMzA0Nzg2OTAzNzQ1LTUxOTJlY2YyNTVlNGQ3MTJkOTIwZTU2YjY3YzRjZWFiYzE4ODE5ODZiNjA4NGI5NTJhZmU2ZTllOTMwZDhjMzA) and [Github](https://github.com/batfish/batfish). "
   ]
  }
 ],
 "metadata": {
  "colab": {
   "collapsed_sections": [],
   "name": "Analyzing the Impact of Failures",
   "provenance": [],
   "version": "0.3.2"
  },
  "kernelspec": {
   "display_name": "Python 3",
   "language": "python",
   "name": "python3"
  },
  "language_info": {
   "codemirror_mode": {
    "name": "ipython",
    "version": 2
   },
   "file_extension": ".py",
   "mimetype": "text/x-python",
   "name": "python",
   "nbconvert_exporter": "python",
   "pygments_lexer": "ipython2",
   "version": "2.7.10"
  }
 },
 "nbformat": 4,
 "nbformat_minor": 1
}
