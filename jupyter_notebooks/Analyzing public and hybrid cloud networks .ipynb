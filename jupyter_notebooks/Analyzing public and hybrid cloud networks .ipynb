{
 "cells": [
  {
   "cell_type": "markdown",
   "metadata": {},
   "source": [
    "### Analyzing public and hybrid cloud networks\n",
    "\n",
    "XXXX"
   ]
  },
  {
   "cell_type": "code",
   "execution_count": 33,
   "metadata": {},
   "outputs": [],
   "source": [
    "# Import packages and load questions\n",
    "%run startup.py\n",
    "load_questions()\n",
    "\n",
    "# a helper function to print the flow and the first trace \n",
    "def show_first_trace(traceroute_answer_frame):\n",
    "    show(\"Flow: {}\".format(traceroute_answer_frame.iloc[0]['Flow']))\n",
    "    show(traceroute_answer_frame.iloc[0]['Traces'][0])\n",
    "    \n",
    "def is_reachable(start_location, end_location, headers=None):\n",
    "    ans = bfq.reachability(pathConstraints=PathConstraints(startLocation=start_location, \n",
    "                                                           endLocation=end_location),\n",
    "                          headers=headers,\n",
    "                          actions=\"success\").answer()\n",
    "    show(ans.frame())\n",
    "    return len(ans.frame()) > 0"
   ]
  },
  {
   "cell_type": "markdown",
   "metadata": {},
   "source": [
    "### Initializing the Network and Snapshot\n",
    "\n",
    "SNAPSHOT_PATH below can be updated to point to a custom snapshot directory, see the Batfish instructions for how to package data for analysis. More example networks are available in the networks folder of the Batfish repository."
   ]
  },
  {
   "cell_type": "code",
   "execution_count": 24,
   "metadata": {},
   "outputs": [
    {
     "data": {
      "text/plain": [
       "'snapshot'"
      ]
     },
     "execution_count": 24,
     "metadata": {},
     "output_type": "execute_result"
    }
   ],
   "source": [
    "# Initialize a network and snapshot\n",
    "NETWORK_NAME = \"hybrid-cloud\"\n",
    "SNAPSHOT_NAME = \"snapshot\"\n",
    "\n",
    "SNAPSHOT_PATH = \"networks/hybrid-cloud\"\n",
    "\n",
    "bf_set_network(NETWORK_NAME)\n",
    "bf_init_snapshot(SNAPSHOT_PATH, name=SNAPSHOT_NAME, overwrite=True, extra_args={ \"parsereuse\" : False})"
   ]
  },
  {
   "cell_type": "markdown",
   "metadata": {},
   "source": [
    "The network snapshot that we initialized above is illustrated below. It has a physical datacenter network on the left, which has a standard leaf spine design, along with an example host. The exit gateway of the datacenter connects to an ISP called \"orange\".\n",
    "\n",
    "The AWS network is shown on the right. It is spread across two regions. Each region has two VPCs, one of which is meant to host Internet-facing services and the other is meant to host only private services. The two VPCs in a region peer via a transit gateway. Each VPC has two subnets, and we have some instances running as well. \n",
    "\n",
    "The physical network connects to the AWS network by having the exitgw establish IPSec tunnels, shown in pink, to the two transit gateways. BGP sessions running atop these tunnels to make endpoints aware of networks on the other side.\n",
    "\n",
    "You can download/view devices' configuration files [here](https://github.com/batfish/pybatfish/tree/master/jupyter_notebooks/networks/hybrid-cloud). The AWS portion of the configuration is in the aws_configs subfolder. It has JSON files obtained via AWS APIs. An example script that packages AWS data into a Batfish snapshot is [here](https://github.com/ratulm/bf-aws-snapshot).\n",
    "\n",
    "![example-bgp-network](https://raw.githubusercontent.com/batfish/pybatfish/aws-notebook/jupyter_notebooks/networks/hybrid-cloud/hybrid-cloud.png)"
   ]
  },
  {
   "cell_type": "raw",
   "metadata": {},
   "source": [
    "Batfish can help analyze hybrid networks in two ways. The first is to analyze how traffic flows (or not) in the network, which also helps debug and fix configuration errors. The second type of analysis is to ensure that the network is configured as desired, with respect to reachability and security policies."
   ]
  },
  {
   "cell_type": "code",
   "execution_count": 3,
   "metadata": {},
   "outputs": [],
   "source": [
    "host_dc = \"srv-101\"\n",
    "\n",
    "## instances in AWS in each region and VPC type (public, private)\n",
    "host_east2_private = \"i-04cd3db5124a05ee6\"\n",
    "host_east2_public = \"i-01602d9efaed4409a\"\n",
    "host_west2_private = \"i-0a5d64b8b58c6dd09\"\n",
    "host_west2_public = \"i-02cae6eaa9edeed70\"\n",
    "\n",
    "## public IPs of instances in AWS\n",
    "ip_east2_public = \"13.59.144.125\" # of i-01602d9efaed4409a\n",
    "ip_west2_public = \"54.191.42.182\" # of i-02cae6eaa9edeed70"
   ]
  },
  {
   "cell_type": "markdown",
   "metadata": {},
   "source": [
    "#### Paths across VPCs within an AWS region"
   ]
  },
  {
   "cell_type": "code",
   "execution_count": null,
   "metadata": {
    "scrolled": false
   },
   "outputs": [],
   "source": [
    "# traceroute between instances in the same region\n",
    "ans = bfq.traceroute(startLocation=host_east2_public, \n",
    "                     headers=HeaderConstraints(dstIps=host_east2_private, \n",
    "                                               applications=\"http\")).answer()\n",
    "show_first_trace(ans.frame())"
   ]
  },
  {
   "cell_type": "markdown",
   "metadata": {},
   "source": [
    "XXXX explain transit gateway, network acl, security groups"
   ]
  },
  {
   "cell_type": "markdown",
   "metadata": {},
   "source": [
    "#### Paths across AWS regions"
   ]
  },
  {
   "cell_type": "code",
   "execution_count": 8,
   "metadata": {
    "scrolled": false
   },
   "outputs": [
    {
     "data": {
      "text/plain": [
       "'Flow: start=i-01602d9efaed4409a [10.20.1.207:49152->10.40.2.80:22 TCP length=512]'"
      ]
     },
     "metadata": {},
     "output_type": "display_data"
    },
    {
     "data": {
      "text/html": [
       "<span style=\"color:#7c020e; text-weight:bold;\">NULL_ROUTED</span><br><strong>1</strong>. node: i-01602d9efaed4409a<br>&nbsp;&nbsp;ORIGINATED(default)<br>&nbsp;&nbsp;FORWARDED(ARP IP: 10.20.1.1, Output Interface: eni-01997085076a9b98a, Routes: [static (Network: 0.0.0.0/0, Next Hop IP:10.20.1.1)])<br>&nbsp;&nbsp;PERMITTED(~SECURITY_GROUP_EGRESS_ACL~ (EGRESS_FILTER))<br>&nbsp;&nbsp;SETUP_SESSION(Incoming Interfaces: [eni-01997085076a9b98a], Action: Accept, Match Criteria: [ipProtocol=TCP, srcIp=10.40.2.80, dstIp=10.20.1.207, srcPort=22, dstPort=49152])<br>&nbsp;&nbsp;TRANSMITTED(eni-01997085076a9b98a)<br><strong>2</strong>. node: subnet-06a692ed4ef84368d<br>&nbsp;&nbsp;RECEIVED(subnet-06a692ed4ef84368d)<br>&nbsp;&nbsp;PERMITTED(acl-09c0bb4e71ae5f9e4_egress (INGRESS_FILTER))<br>&nbsp;&nbsp;FORWARDED(ARP IP: 169.254.0.2, Output Interface: igw-02fd68f94367a67c7, Routes: [static (Network: 0.0.0.0/0, Next Hop IP:169.254.0.2)])<br>&nbsp;&nbsp;TRANSMITTED(igw-02fd68f94367a67c7)<br><strong>3</strong>. node: igw-02fd68f94367a67c7<br>&nbsp;&nbsp;RECEIVED(subnet-06a692ed4ef84368d)<br>&nbsp;&nbsp;FORWARDED(ARP IP: 240.0.0.1, Output Interface: backbone, Routes: [bgp (Network: 0.0.0.0/0, Next Hop IP:240.0.0.1)])<br>&nbsp;&nbsp;TRANSFORMED(SOURCE_NAT srcIp: 10.20.1.207 -> 13.59.144.125)<br>&nbsp;&nbsp;TRANSMITTED(backbone)<br><strong>4</strong>. node: aws-backbone<br>&nbsp;&nbsp;RECEIVED(~Interface_1~)<br>&nbsp;&nbsp;FORWARDED(ARP IP: 240.1.1.4, Output Interface: ~Interface_6~, Routes: [bgp (Network: 0.0.0.0/0, Next Hop IP:240.1.1.4)])<br>&nbsp;&nbsp;TRANSMITTED(~Interface_6~)<br><strong>5</strong>. node: internet<br>&nbsp;&nbsp;RECEIVED(~Interface_5~)<br>&nbsp;&nbsp;NULL_ROUTED(Routes: [static (Network: 10.0.0.0/8, Next Hop IP:AUTO/NONE(-1l))])"
      ],
      "text/plain": [
       "Trace(disposition='NULL_ROUTED', hops=[Hop(node='i-01602d9efaed4409a', steps=[Step(detail=OriginateStepDetail(originatingVrf='default'), action='ORIGINATED'), Step(detail=RoutingStepDetail(routes=[{'network': '0.0.0.0/0', 'nextHopIp': '10.20.1.1', 'protocol': 'static'}], arpIp='10.20.1.1', outputInterface='eni-01997085076a9b98a'), action='FORWARDED'), Step(detail=FilterStepDetail(filter='~SECURITY_GROUP_EGRESS_ACL~', filterType='EGRESS_FILTER', inputInterface='', flow=Flow(dscp=0, dstIp='10.40.2.80', dstPort=22, ecn=0, fragmentOffset=0, icmpCode=None, icmpVar=None, ingressInterface=None, ingressNode='i-01602d9efaed4409a', ingressVrf='default', ipProtocol='TCP', packetLength=512, srcIp='10.20.1.207', srcPort=49152, tcpFlagsAck=0, tcpFlagsCwr=0, tcpFlagsEce=0, tcpFlagsFin=0, tcpFlagsPsh=0, tcpFlagsRst=0, tcpFlagsSyn=1, tcpFlagsUrg=0)), action='PERMITTED'), Step(detail=SetupSessionStepDetail(incomingInterfaces=['eni-01997085076a9b98a'], sessionAction=Accept(), matchCriteria=SessionMatchExpr(ipProtocol='TCP', srcIp='10.40.2.80', dstIp='10.20.1.207', srcPort=22, dstPort=49152), transformation=[]), action='SETUP_SESSION'), Step(detail=ExitOutputIfaceStepDetail(outputInterface='eni-01997085076a9b98a', transformedFlow=None), action='TRANSMITTED')]), Hop(node='subnet-06a692ed4ef84368d', steps=[Step(detail=EnterInputIfaceStepDetail(inputInterface='subnet-06a692ed4ef84368d', inputVrf='default'), action='RECEIVED'), Step(detail=FilterStepDetail(filter='acl-09c0bb4e71ae5f9e4_egress', filterType='INGRESS_FILTER', inputInterface='subnet-06a692ed4ef84368d', flow=Flow(dscp=0, dstIp='10.40.2.80', dstPort=22, ecn=0, fragmentOffset=0, icmpCode=None, icmpVar=None, ingressInterface=None, ingressNode='i-01602d9efaed4409a', ingressVrf='default', ipProtocol='TCP', packetLength=512, srcIp='10.20.1.207', srcPort=49152, tcpFlagsAck=0, tcpFlagsCwr=0, tcpFlagsEce=0, tcpFlagsFin=0, tcpFlagsPsh=0, tcpFlagsRst=0, tcpFlagsSyn=1, tcpFlagsUrg=0)), action='PERMITTED'), Step(detail=RoutingStepDetail(routes=[{'network': '0.0.0.0/0', 'nextHopIp': '169.254.0.2', 'protocol': 'static'}], arpIp='169.254.0.2', outputInterface='igw-02fd68f94367a67c7'), action='FORWARDED'), Step(detail=ExitOutputIfaceStepDetail(outputInterface='igw-02fd68f94367a67c7', transformedFlow=None), action='TRANSMITTED')]), Hop(node='igw-02fd68f94367a67c7', steps=[Step(detail=EnterInputIfaceStepDetail(inputInterface='subnet-06a692ed4ef84368d', inputVrf='default'), action='RECEIVED'), Step(detail=RoutingStepDetail(routes=[{'network': '0.0.0.0/0', 'nextHopIp': '240.0.0.1', 'protocol': 'bgp'}], arpIp='240.0.0.1', outputInterface='backbone'), action='FORWARDED'), Step(detail=TransformationStepDetail(transformationType='SOURCE_NAT', flowDiffs=[FlowDiff(fieldName='srcIp', oldValue='10.20.1.207', newValue='13.59.144.125')]), action='TRANSFORMED'), Step(detail=ExitOutputIfaceStepDetail(outputInterface='backbone', transformedFlow={'dscp': 0, 'dstIp': '10.40.2.80', 'dstPort': 22, 'ecn': 0, 'fragmentOffset': 0, 'ingressNode': 'i-01602d9efaed4409a', 'ingressVrf': 'default', 'ipProtocol': 'TCP', 'packetLength': 512, 'srcIp': '13.59.144.125', 'srcPort': 49152, 'state': 'NEW', 'tag': 'tag', 'tcpFlagsAck': 0, 'tcpFlagsCwr': 0, 'tcpFlagsEce': 0, 'tcpFlagsFin': 0, 'tcpFlagsPsh': 0, 'tcpFlagsRst': 0, 'tcpFlagsSyn': 1, 'tcpFlagsUrg': 0}), action='TRANSMITTED')]), Hop(node='aws-backbone', steps=[Step(detail=EnterInputIfaceStepDetail(inputInterface='~Interface_1~', inputVrf='default'), action='RECEIVED'), Step(detail=RoutingStepDetail(routes=[{'network': '0.0.0.0/0', 'nextHopIp': '240.1.1.4', 'protocol': 'bgp'}], arpIp='240.1.1.4', outputInterface='~Interface_6~'), action='FORWARDED'), Step(detail=ExitOutputIfaceStepDetail(outputInterface='~Interface_6~', transformedFlow={'dscp': 0, 'dstIp': '10.40.2.80', 'dstPort': 22, 'ecn': 0, 'fragmentOffset': 0, 'ingressNode': 'i-01602d9efaed4409a', 'ingressVrf': 'default', 'ipProtocol': 'TCP', 'packetLength': 512, 'srcIp': '13.59.144.125', 'srcPort': 49152, 'state': 'NEW', 'tag': 'tag', 'tcpFlagsAck': 0, 'tcpFlagsCwr': 0, 'tcpFlagsEce': 0, 'tcpFlagsFin': 0, 'tcpFlagsPsh': 0, 'tcpFlagsRst': 0, 'tcpFlagsSyn': 1, 'tcpFlagsUrg': 0}), action='TRANSMITTED')]), Hop(node='internet', steps=[Step(detail=EnterInputIfaceStepDetail(inputInterface='~Interface_5~', inputVrf='default'), action='RECEIVED'), Step(detail=RoutingStepDetail(routes=[{'network': '10.0.0.0/8', 'nextHopIp': 'AUTO/NONE(-1l)', 'protocol': 'static'}], arpIp=None, outputInterface=None), action='NULL_ROUTED')])])"
      ]
     },
     "metadata": {},
     "output_type": "display_data"
    }
   ],
   "source": [
    "# traceroute betwee instances across region using the destination's private IP\n",
    "ans = bfq.traceroute(startLocation=host_east2_public, \n",
    "                     headers=HeaderConstraints(dstIps=host_west2_public,\n",
    "                                              applications=\"ssh\")).answer()\n",
    "show_first_trace(ans.frame())"
   ]
  },
  {
   "cell_type": "code",
   "execution_count": 9,
   "metadata": {},
   "outputs": [
    {
     "data": {
      "text/plain": [
       "'Flow: start=i-01602d9efaed4409a [10.20.1.207:49152->54.191.42.182:22 TCP length=512]'"
      ]
     },
     "metadata": {},
     "output_type": "display_data"
    },
    {
     "data": {
      "text/html": [
       "<span style=\"color:#019612; text-weight:bold;\">ACCEPTED</span><br><strong>1</strong>. node: i-01602d9efaed4409a<br>&nbsp;&nbsp;ORIGINATED(default)<br>&nbsp;&nbsp;FORWARDED(ARP IP: 10.20.1.1, Output Interface: eni-01997085076a9b98a, Routes: [static (Network: 0.0.0.0/0, Next Hop IP:10.20.1.1)])<br>&nbsp;&nbsp;PERMITTED(~SECURITY_GROUP_EGRESS_ACL~ (EGRESS_FILTER))<br>&nbsp;&nbsp;SETUP_SESSION(Incoming Interfaces: [eni-01997085076a9b98a], Action: Accept, Match Criteria: [ipProtocol=TCP, srcIp=54.191.42.182, dstIp=10.20.1.207, srcPort=22, dstPort=49152])<br>&nbsp;&nbsp;TRANSMITTED(eni-01997085076a9b98a)<br><strong>2</strong>. node: subnet-06a692ed4ef84368d<br>&nbsp;&nbsp;RECEIVED(subnet-06a692ed4ef84368d)<br>&nbsp;&nbsp;PERMITTED(acl-09c0bb4e71ae5f9e4_egress (INGRESS_FILTER))<br>&nbsp;&nbsp;FORWARDED(ARP IP: 169.254.0.2, Output Interface: igw-02fd68f94367a67c7, Routes: [static (Network: 0.0.0.0/0, Next Hop IP:169.254.0.2)])<br>&nbsp;&nbsp;TRANSMITTED(igw-02fd68f94367a67c7)<br><strong>3</strong>. node: igw-02fd68f94367a67c7<br>&nbsp;&nbsp;RECEIVED(subnet-06a692ed4ef84368d)<br>&nbsp;&nbsp;FORWARDED(ARP IP: 240.0.0.1, Output Interface: backbone, Routes: [bgp (Network: 0.0.0.0/0, Next Hop IP:240.0.0.1)])<br>&nbsp;&nbsp;TRANSFORMED(SOURCE_NAT srcIp: 10.20.1.207 -> 13.59.144.125)<br>&nbsp;&nbsp;TRANSMITTED(backbone)<br><strong>4</strong>. node: aws-backbone<br>&nbsp;&nbsp;RECEIVED(~Interface_1~)<br>&nbsp;&nbsp;FORWARDED(ARP IP: 240.0.0.2, Output Interface: ~Interface_2~, Routes: [bgp (Network: 54.191.42.182/32, Next Hop IP:240.0.0.2)])<br>&nbsp;&nbsp;TRANSMITTED(~Interface_2~)<br><strong>5</strong>. node: igw-0a8309f3192e7cea3<br>&nbsp;&nbsp;RECEIVED(backbone)<br>&nbsp;&nbsp;TRANSFORMED(DEST_NAT dstIp: 54.191.42.182 -> 10.40.2.80)<br>&nbsp;&nbsp;FORWARDED(ARP IP: 169.254.0.1, Output Interface: subnet-06005943afe32f714, Routes: [static (Network: 10.40.2.0/24, Next Hop IP:169.254.0.1)])<br>&nbsp;&nbsp;TRANSMITTED(subnet-06005943afe32f714)<br><strong>6</strong>. node: subnet-06005943afe32f714<br>&nbsp;&nbsp;RECEIVED(igw-0a8309f3192e7cea3)<br>&nbsp;&nbsp;FORWARDED(ARP IP: AUTO/NONE(-1l), Output Interface: subnet-06005943afe32f714, Routes: [connected (Network: 10.40.2.0/24, Next Hop IP:AUTO/NONE(-1l))])<br>&nbsp;&nbsp;PERMITTED(acl-087574e8620270842_ingress (EGRESS_FILTER))<br>&nbsp;&nbsp;TRANSMITTED(subnet-06005943afe32f714)<br><strong>7</strong>. node: i-02cae6eaa9edeed70<br>&nbsp;&nbsp;RECEIVED(eni-087e18628dadd9b48)<br>&nbsp;&nbsp;PERMITTED(~SECURITY_GROUP_INGRESS_ACL~ (INGRESS_FILTER))<br>&nbsp;&nbsp;ACCEPTED(eni-087e18628dadd9b48)"
      ],
      "text/plain": [
       "Trace(disposition='ACCEPTED', hops=[Hop(node='i-01602d9efaed4409a', steps=[Step(detail=OriginateStepDetail(originatingVrf='default'), action='ORIGINATED'), Step(detail=RoutingStepDetail(routes=[{'network': '0.0.0.0/0', 'nextHopIp': '10.20.1.1', 'protocol': 'static'}], arpIp='10.20.1.1', outputInterface='eni-01997085076a9b98a'), action='FORWARDED'), Step(detail=FilterStepDetail(filter='~SECURITY_GROUP_EGRESS_ACL~', filterType='EGRESS_FILTER', inputInterface='', flow=Flow(dscp=0, dstIp='54.191.42.182', dstPort=22, ecn=0, fragmentOffset=0, icmpCode=None, icmpVar=None, ingressInterface=None, ingressNode='i-01602d9efaed4409a', ingressVrf='default', ipProtocol='TCP', packetLength=512, srcIp='10.20.1.207', srcPort=49152, tcpFlagsAck=0, tcpFlagsCwr=0, tcpFlagsEce=0, tcpFlagsFin=0, tcpFlagsPsh=0, tcpFlagsRst=0, tcpFlagsSyn=1, tcpFlagsUrg=0)), action='PERMITTED'), Step(detail=SetupSessionStepDetail(incomingInterfaces=['eni-01997085076a9b98a'], sessionAction=Accept(), matchCriteria=SessionMatchExpr(ipProtocol='TCP', srcIp='54.191.42.182', dstIp='10.20.1.207', srcPort=22, dstPort=49152), transformation=[]), action='SETUP_SESSION'), Step(detail=ExitOutputIfaceStepDetail(outputInterface='eni-01997085076a9b98a', transformedFlow=None), action='TRANSMITTED')]), Hop(node='subnet-06a692ed4ef84368d', steps=[Step(detail=EnterInputIfaceStepDetail(inputInterface='subnet-06a692ed4ef84368d', inputVrf='default'), action='RECEIVED'), Step(detail=FilterStepDetail(filter='acl-09c0bb4e71ae5f9e4_egress', filterType='INGRESS_FILTER', inputInterface='subnet-06a692ed4ef84368d', flow=Flow(dscp=0, dstIp='54.191.42.182', dstPort=22, ecn=0, fragmentOffset=0, icmpCode=None, icmpVar=None, ingressInterface=None, ingressNode='i-01602d9efaed4409a', ingressVrf='default', ipProtocol='TCP', packetLength=512, srcIp='10.20.1.207', srcPort=49152, tcpFlagsAck=0, tcpFlagsCwr=0, tcpFlagsEce=0, tcpFlagsFin=0, tcpFlagsPsh=0, tcpFlagsRst=0, tcpFlagsSyn=1, tcpFlagsUrg=0)), action='PERMITTED'), Step(detail=RoutingStepDetail(routes=[{'network': '0.0.0.0/0', 'nextHopIp': '169.254.0.2', 'protocol': 'static'}], arpIp='169.254.0.2', outputInterface='igw-02fd68f94367a67c7'), action='FORWARDED'), Step(detail=ExitOutputIfaceStepDetail(outputInterface='igw-02fd68f94367a67c7', transformedFlow=None), action='TRANSMITTED')]), Hop(node='igw-02fd68f94367a67c7', steps=[Step(detail=EnterInputIfaceStepDetail(inputInterface='subnet-06a692ed4ef84368d', inputVrf='default'), action='RECEIVED'), Step(detail=RoutingStepDetail(routes=[{'network': '0.0.0.0/0', 'nextHopIp': '240.0.0.1', 'protocol': 'bgp'}], arpIp='240.0.0.1', outputInterface='backbone'), action='FORWARDED'), Step(detail=TransformationStepDetail(transformationType='SOURCE_NAT', flowDiffs=[FlowDiff(fieldName='srcIp', oldValue='10.20.1.207', newValue='13.59.144.125')]), action='TRANSFORMED'), Step(detail=ExitOutputIfaceStepDetail(outputInterface='backbone', transformedFlow={'dscp': 0, 'dstIp': '54.191.42.182', 'dstPort': 22, 'ecn': 0, 'fragmentOffset': 0, 'ingressNode': 'i-01602d9efaed4409a', 'ingressVrf': 'default', 'ipProtocol': 'TCP', 'packetLength': 512, 'srcIp': '13.59.144.125', 'srcPort': 49152, 'state': 'NEW', 'tag': 'tag', 'tcpFlagsAck': 0, 'tcpFlagsCwr': 0, 'tcpFlagsEce': 0, 'tcpFlagsFin': 0, 'tcpFlagsPsh': 0, 'tcpFlagsRst': 0, 'tcpFlagsSyn': 1, 'tcpFlagsUrg': 0}), action='TRANSMITTED')]), Hop(node='aws-backbone', steps=[Step(detail=EnterInputIfaceStepDetail(inputInterface='~Interface_1~', inputVrf='default'), action='RECEIVED'), Step(detail=RoutingStepDetail(routes=[{'network': '54.191.42.182/32', 'nextHopIp': '240.0.0.2', 'protocol': 'bgp'}], arpIp='240.0.0.2', outputInterface='~Interface_2~'), action='FORWARDED'), Step(detail=ExitOutputIfaceStepDetail(outputInterface='~Interface_2~', transformedFlow={'dscp': 0, 'dstIp': '54.191.42.182', 'dstPort': 22, 'ecn': 0, 'fragmentOffset': 0, 'ingressNode': 'i-01602d9efaed4409a', 'ingressVrf': 'default', 'ipProtocol': 'TCP', 'packetLength': 512, 'srcIp': '13.59.144.125', 'srcPort': 49152, 'state': 'NEW', 'tag': 'tag', 'tcpFlagsAck': 0, 'tcpFlagsCwr': 0, 'tcpFlagsEce': 0, 'tcpFlagsFin': 0, 'tcpFlagsPsh': 0, 'tcpFlagsRst': 0, 'tcpFlagsSyn': 1, 'tcpFlagsUrg': 0}), action='TRANSMITTED')]), Hop(node='igw-0a8309f3192e7cea3', steps=[Step(detail=EnterInputIfaceStepDetail(inputInterface='backbone', inputVrf='default'), action='RECEIVED'), Step(detail=TransformationStepDetail(transformationType='DEST_NAT', flowDiffs=[FlowDiff(fieldName='dstIp', oldValue='54.191.42.182', newValue='10.40.2.80')]), action='TRANSFORMED'), Step(detail=RoutingStepDetail(routes=[{'network': '10.40.2.0/24', 'nextHopIp': '169.254.0.1', 'protocol': 'static'}], arpIp='169.254.0.1', outputInterface='subnet-06005943afe32f714'), action='FORWARDED'), Step(detail=ExitOutputIfaceStepDetail(outputInterface='subnet-06005943afe32f714', transformedFlow={'dscp': 0, 'dstIp': '10.40.2.80', 'dstPort': 22, 'ecn': 0, 'fragmentOffset': 0, 'ingressNode': 'i-01602d9efaed4409a', 'ingressVrf': 'default', 'ipProtocol': 'TCP', 'packetLength': 512, 'srcIp': '13.59.144.125', 'srcPort': 49152, 'state': 'NEW', 'tag': 'tag', 'tcpFlagsAck': 0, 'tcpFlagsCwr': 0, 'tcpFlagsEce': 0, 'tcpFlagsFin': 0, 'tcpFlagsPsh': 0, 'tcpFlagsRst': 0, 'tcpFlagsSyn': 1, 'tcpFlagsUrg': 0}), action='TRANSMITTED')]), Hop(node='subnet-06005943afe32f714', steps=[Step(detail=EnterInputIfaceStepDetail(inputInterface='igw-0a8309f3192e7cea3', inputVrf='default'), action='RECEIVED'), Step(detail=RoutingStepDetail(routes=[{'network': '10.40.2.0/24', 'nextHopIp': 'AUTO/NONE(-1l)', 'protocol': 'connected'}], arpIp='AUTO/NONE(-1l)', outputInterface='subnet-06005943afe32f714'), action='FORWARDED'), Step(detail=FilterStepDetail(filter='acl-087574e8620270842_ingress', filterType='EGRESS_FILTER', inputInterface='igw-0a8309f3192e7cea3', flow=Flow(dscp=0, dstIp='10.40.2.80', dstPort=22, ecn=0, fragmentOffset=0, icmpCode=None, icmpVar=None, ingressInterface=None, ingressNode='i-01602d9efaed4409a', ingressVrf='default', ipProtocol='TCP', packetLength=512, srcIp='13.59.144.125', srcPort=49152, tcpFlagsAck=0, tcpFlagsCwr=0, tcpFlagsEce=0, tcpFlagsFin=0, tcpFlagsPsh=0, tcpFlagsRst=0, tcpFlagsSyn=1, tcpFlagsUrg=0)), action='PERMITTED'), Step(detail=ExitOutputIfaceStepDetail(outputInterface='subnet-06005943afe32f714', transformedFlow={'dscp': 0, 'dstIp': '10.40.2.80', 'dstPort': 22, 'ecn': 0, 'fragmentOffset': 0, 'ingressNode': 'i-01602d9efaed4409a', 'ingressVrf': 'default', 'ipProtocol': 'TCP', 'packetLength': 512, 'srcIp': '13.59.144.125', 'srcPort': 49152, 'state': 'NEW', 'tag': 'tag', 'tcpFlagsAck': 0, 'tcpFlagsCwr': 0, 'tcpFlagsEce': 0, 'tcpFlagsFin': 0, 'tcpFlagsPsh': 0, 'tcpFlagsRst': 0, 'tcpFlagsSyn': 1, 'tcpFlagsUrg': 0}), action='TRANSMITTED')]), Hop(node='i-02cae6eaa9edeed70', steps=[Step(detail=EnterInputIfaceStepDetail(inputInterface='eni-087e18628dadd9b48', inputVrf='default'), action='RECEIVED'), Step(detail=FilterStepDetail(filter='~SECURITY_GROUP_INGRESS_ACL~', filterType='INGRESS_FILTER', inputInterface='eni-087e18628dadd9b48', flow=Flow(dscp=0, dstIp='10.40.2.80', dstPort=22, ecn=0, fragmentOffset=0, icmpCode=None, icmpVar=None, ingressInterface=None, ingressNode='i-01602d9efaed4409a', ingressVrf='default', ipProtocol='TCP', packetLength=512, srcIp='13.59.144.125', srcPort=49152, tcpFlagsAck=0, tcpFlagsCwr=0, tcpFlagsEce=0, tcpFlagsFin=0, tcpFlagsPsh=0, tcpFlagsRst=0, tcpFlagsSyn=1, tcpFlagsUrg=0)), action='PERMITTED'), Step(detail=InboundStepDetail(interface='eni-087e18628dadd9b48'), action='ACCEPTED')])])"
      ]
     },
     "metadata": {},
     "output_type": "display_data"
    }
   ],
   "source": [
    "# traceroute betwee instances across region using the destination's public IP\n",
    "ans = bfq.traceroute(startLocation=host_east2_public, \n",
    "                     headers=HeaderConstraints(dstIps=ip_west2_public,\n",
    "                                              applications=\"ssh\")).answer()\n",
    "show_first_trace(ans.frame())"
   ]
  },
  {
   "cell_type": "markdown",
   "metadata": {},
   "source": [
    "#### Paths from the physical DC to AWS"
   ]
  },
  {
   "cell_type": "code",
   "execution_count": 25,
   "metadata": {
    "scrolled": false
   },
   "outputs": [
    {
     "data": {
      "text/plain": [
       "'Flow: start=srv-101 [203.0.113.12:49152->10.20.1.207:80 TCP length=512]'"
      ]
     },
     "metadata": {},
     "output_type": "display_data"
    },
    {
     "data": {
      "text/html": [
       "<span style=\"color:#019612; text-weight:bold;\">ACCEPTED</span><br><strong>1</strong>. node: srv-101<br>&nbsp;&nbsp;ORIGINATED(default)<br>&nbsp;&nbsp;FORWARDED(ARP IP: 203.0.113.2, Output Interface: eth0, Routes: [static (Network: 0.0.0.0/0, Next Hop IP:203.0.113.2)])<br>&nbsp;&nbsp;TRANSMITTED(eth0)<br><strong>2</strong>. node: leaf1<br>&nbsp;&nbsp;RECEIVED(Ethernet10)<br>&nbsp;&nbsp;FORWARDED(ARP IP: 10.10.11.1, Output Interface: Ethernet1, Routes: [bgp (Network: 10.20.0.0/16, Next Hop IP:10.10.11.1)])<br>&nbsp;&nbsp;TRANSMITTED(Ethernet1)<br><strong>3</strong>. node: spine1<br>&nbsp;&nbsp;RECEIVED(Ethernet1)<br>&nbsp;&nbsp;FORWARDED(ARP IP: 10.10.100.2, Output Interface: Ethernet10, Routes: [bgp (Network: 10.20.0.0/16, Next Hop IP:10.10.100.2)])<br>&nbsp;&nbsp;TRANSMITTED(Ethernet10)<br><strong>4</strong>. node: exitgw<br>&nbsp;&nbsp;RECEIVED(GigabitEthernet1)<br>&nbsp;&nbsp;FORWARDED(ARP IP: 169.254.25.161, Output Interface: Tunnel1, Routes: [bgp (Network: 10.20.0.0/16, Next Hop IP:169.254.25.161)])<br>&nbsp;&nbsp;TRANSMITTED(Tunnel1)<br><strong>5</strong>. node: tgw-06b348adabd13452d<br>&nbsp;&nbsp;RECEIVED(vpn-vpn-01c45673532d3e33e-1)<br>&nbsp;&nbsp;FORWARDED(ARP IP: 169.254.0.2, Output Interface: vpc-0574d08f8d05917e4-tgw-attach-0648110513acd6de5, Routes: [static (Network: 10.20.0.0/16, Next Hop IP:169.254.0.2)])<br>&nbsp;&nbsp;TRANSMITTED(vpc-0574d08f8d05917e4-tgw-attach-0648110513acd6de5)<br><strong>6</strong>. node: vpc-0574d08f8d05917e4<br>&nbsp;&nbsp;RECEIVED(tgw-06b348adabd13452d-tgw-attach-0648110513acd6de5)<br>&nbsp;&nbsp;FORWARDED(ARP IP: 169.254.0.1, Output Interface: subnet-06a692ed4ef84368d-tgw-attach-0648110513acd6de5, Routes: [static (Network: 10.20.1.0/24, Next Hop IP:169.254.0.1)])<br>&nbsp;&nbsp;TRANSMITTED(subnet-06a692ed4ef84368d-tgw-attach-0648110513acd6de5)<br><strong>7</strong>. node: subnet-06a692ed4ef84368d<br>&nbsp;&nbsp;RECEIVED(vpc-0574d08f8d05917e4-tgw-attach-0648110513acd6de5)<br>&nbsp;&nbsp;FORWARDED(ARP IP: AUTO/NONE(-1l), Output Interface: subnet-06a692ed4ef84368d, Routes: [connected (Network: 10.20.1.0/24, Next Hop IP:AUTO/NONE(-1l))])<br>&nbsp;&nbsp;PERMITTED(acl-09c0bb4e71ae5f9e4_ingress (EGRESS_FILTER))<br>&nbsp;&nbsp;TRANSMITTED(subnet-06a692ed4ef84368d)<br><strong>8</strong>. node: i-01602d9efaed4409a<br>&nbsp;&nbsp;RECEIVED(eni-01997085076a9b98a)<br>&nbsp;&nbsp;PERMITTED(Security Group launch-wizard-1 (INGRESS_FILTER))<br>&nbsp;&nbsp;ACCEPTED(eni-01997085076a9b98a)"
      ],
      "text/plain": [
       "Trace(disposition='ACCEPTED', hops=[Hop(node='srv-101', steps=[Step(detail=OriginateStepDetail(originatingVrf='default'), action='ORIGINATED'), Step(detail=RoutingStepDetail(routes=[{'network': '0.0.0.0/0', 'nextHopIp': '203.0.113.2', 'protocol': 'static'}], arpIp='203.0.113.2', outputInterface='eth0'), action='FORWARDED'), Step(detail=ExitOutputIfaceStepDetail(outputInterface='eth0', transformedFlow=None), action='TRANSMITTED')]), Hop(node='leaf1', steps=[Step(detail=EnterInputIfaceStepDetail(inputInterface='Ethernet10', inputVrf='default'), action='RECEIVED'), Step(detail=RoutingStepDetail(routes=[{'network': '10.20.0.0/16', 'nextHopIp': '10.10.11.1', 'protocol': 'bgp'}], arpIp='10.10.11.1', outputInterface='Ethernet1'), action='FORWARDED'), Step(detail=ExitOutputIfaceStepDetail(outputInterface='Ethernet1', transformedFlow=None), action='TRANSMITTED')]), Hop(node='spine1', steps=[Step(detail=EnterInputIfaceStepDetail(inputInterface='Ethernet1', inputVrf='default'), action='RECEIVED'), Step(detail=RoutingStepDetail(routes=[{'network': '10.20.0.0/16', 'nextHopIp': '10.10.100.2', 'protocol': 'bgp'}], arpIp='10.10.100.2', outputInterface='Ethernet10'), action='FORWARDED'), Step(detail=ExitOutputIfaceStepDetail(outputInterface='Ethernet10', transformedFlow=None), action='TRANSMITTED')]), Hop(node='exitgw', steps=[Step(detail=EnterInputIfaceStepDetail(inputInterface='GigabitEthernet1', inputVrf='default'), action='RECEIVED'), Step(detail=RoutingStepDetail(routes=[{'network': '10.20.0.0/16', 'nextHopIp': '169.254.25.161', 'protocol': 'bgp'}], arpIp='169.254.25.161', outputInterface='Tunnel1'), action='FORWARDED'), Step(detail=ExitOutputIfaceStepDetail(outputInterface='Tunnel1', transformedFlow=None), action='TRANSMITTED')]), Hop(node='tgw-06b348adabd13452d', steps=[Step(detail=EnterInputIfaceStepDetail(inputInterface='vpn-vpn-01c45673532d3e33e-1', inputVrf='vrf-tgw-rtb-00e37bc5142347b03'), action='RECEIVED'), Step(detail=RoutingStepDetail(routes=[{'network': '10.20.0.0/16', 'nextHopIp': '169.254.0.2', 'protocol': 'static'}], arpIp='169.254.0.2', outputInterface='vpc-0574d08f8d05917e4-tgw-attach-0648110513acd6de5'), action='FORWARDED'), Step(detail=ExitOutputIfaceStepDetail(outputInterface='vpc-0574d08f8d05917e4-tgw-attach-0648110513acd6de5', transformedFlow=None), action='TRANSMITTED')]), Hop(node='vpc-0574d08f8d05917e4', steps=[Step(detail=EnterInputIfaceStepDetail(inputInterface='tgw-06b348adabd13452d-tgw-attach-0648110513acd6de5', inputVrf='vrf-tgw-attach-0648110513acd6de5'), action='RECEIVED'), Step(detail=RoutingStepDetail(routes=[{'network': '10.20.1.0/24', 'nextHopIp': '169.254.0.1', 'protocol': 'static'}], arpIp='169.254.0.1', outputInterface='subnet-06a692ed4ef84368d-tgw-attach-0648110513acd6de5'), action='FORWARDED'), Step(detail=ExitOutputIfaceStepDetail(outputInterface='subnet-06a692ed4ef84368d-tgw-attach-0648110513acd6de5', transformedFlow=None), action='TRANSMITTED')]), Hop(node='subnet-06a692ed4ef84368d', steps=[Step(detail=EnterInputIfaceStepDetail(inputInterface='vpc-0574d08f8d05917e4-tgw-attach-0648110513acd6de5', inputVrf='default'), action='RECEIVED'), Step(detail=RoutingStepDetail(routes=[{'network': '10.20.1.0/24', 'nextHopIp': 'AUTO/NONE(-1l)', 'protocol': 'connected'}], arpIp='AUTO/NONE(-1l)', outputInterface='subnet-06a692ed4ef84368d'), action='FORWARDED'), Step(detail=FilterStepDetail(filter='acl-09c0bb4e71ae5f9e4_ingress', filterType='EGRESS_FILTER', inputInterface='vpc-0574d08f8d05917e4-tgw-attach-0648110513acd6de5', flow=Flow(dscp=0, dstIp='10.20.1.207', dstPort=80, ecn=0, fragmentOffset=0, icmpCode=None, icmpVar=None, ingressInterface=None, ingressNode='srv-101', ingressVrf='default', ipProtocol='TCP', packetLength=512, srcIp='203.0.113.12', srcPort=49152, tcpFlagsAck=0, tcpFlagsCwr=0, tcpFlagsEce=0, tcpFlagsFin=0, tcpFlagsPsh=0, tcpFlagsRst=0, tcpFlagsSyn=1, tcpFlagsUrg=0)), action='PERMITTED'), Step(detail=ExitOutputIfaceStepDetail(outputInterface='subnet-06a692ed4ef84368d', transformedFlow=None), action='TRANSMITTED')]), Hop(node='i-01602d9efaed4409a', steps=[Step(detail=EnterInputIfaceStepDetail(inputInterface='eni-01997085076a9b98a', inputVrf='default'), action='RECEIVED'), Step(detail=FilterStepDetail(filter='Security Group launch-wizard-1', filterType='INGRESS_FILTER', inputInterface='eni-01997085076a9b98a', flow=Flow(dscp=0, dstIp='10.20.1.207', dstPort=80, ecn=0, fragmentOffset=0, icmpCode=None, icmpVar=None, ingressInterface=None, ingressNode='srv-101', ingressVrf='default', ipProtocol='TCP', packetLength=512, srcIp='203.0.113.12', srcPort=49152, tcpFlagsAck=0, tcpFlagsCwr=0, tcpFlagsEce=0, tcpFlagsFin=0, tcpFlagsPsh=0, tcpFlagsRst=0, tcpFlagsSyn=1, tcpFlagsUrg=0)), action='PERMITTED'), Step(detail=InboundStepDetail(interface='eni-01997085076a9b98a'), action='ACCEPTED')])])"
      ]
     },
     "metadata": {},
     "output_type": "display_data"
    }
   ],
   "source": [
    "# traceroute from DC host to an instances using private IP\n",
    "ans = bfq.traceroute(startLocation=host_dc, \n",
    "                     headers=HeaderConstraints(dstIps=host_east2_public,\n",
    "                                              applications=\"http\")).answer()\n",
    "show_first_trace(ans.frame())"
   ]
  },
  {
   "cell_type": "code",
   "execution_count": 11,
   "metadata": {},
   "outputs": [
    {
     "data": {
      "text/plain": [
       "'Flow: start=srv-101 [203.0.113.12:49152->13.59.144.125:80 TCP length=512]'"
      ]
     },
     "metadata": {},
     "output_type": "display_data"
    },
    {
     "data": {
      "text/html": [
       "<span style=\"color:#7c020e; text-weight:bold;\">DENIED_IN</span><br><strong>1</strong>. node: srv-101<br>&nbsp;&nbsp;ORIGINATED(default)<br>&nbsp;&nbsp;FORWARDED(ARP IP: 203.0.113.2, Output Interface: eth0, Routes: [static (Network: 0.0.0.0/0, Next Hop IP:203.0.113.2)])<br>&nbsp;&nbsp;TRANSMITTED(eth0)<br><strong>2</strong>. node: leaf1<br>&nbsp;&nbsp;RECEIVED(Ethernet10)<br>&nbsp;&nbsp;FORWARDED(ARP IP: 10.10.11.1, Output Interface: Ethernet1, Routes: [bgp (Network: 0.0.0.0/0, Next Hop IP:10.10.11.1)])<br>&nbsp;&nbsp;TRANSMITTED(Ethernet1)<br><strong>3</strong>. node: spine1<br>&nbsp;&nbsp;RECEIVED(Ethernet1)<br>&nbsp;&nbsp;FORWARDED(ARP IP: 10.10.100.2, Output Interface: Ethernet10, Routes: [bgp (Network: 0.0.0.0/0, Next Hop IP:10.10.100.2)])<br>&nbsp;&nbsp;TRANSMITTED(Ethernet10)<br><strong>4</strong>. node: exitgw<br>&nbsp;&nbsp;RECEIVED(GigabitEthernet1)<br>&nbsp;&nbsp;FORWARDED(ARP IP: 147.75.69.26, Output Interface: GigabitEthernet3, Routes: [static (Network: 0.0.0.0/0, Next Hop IP:147.75.69.26)])<br>&nbsp;&nbsp;TRANSMITTED(GigabitEthernet3)<br><strong>5</strong>. node: isp_dc<br>&nbsp;&nbsp;RECEIVED(~Interface_0~)<br>&nbsp;&nbsp;FORWARDED(ARP IP: 240.1.1.2, Output Interface: ~Interface_4~, Routes: [bgp (Network: 0.0.0.0/0, Next Hop IP:240.1.1.2)])<br>&nbsp;&nbsp;TRANSMITTED(~Interface_4~)<br><strong>6</strong>. node: internet<br>&nbsp;&nbsp;RECEIVED(~Interface_3~)<br>&nbsp;&nbsp;FORWARDED(ARP IP: 240.1.1.5, Output Interface: ~Interface_5~, Routes: [bgp (Network: 13.59.144.125/32, Next Hop IP:240.1.1.5)])<br>&nbsp;&nbsp;TRANSMITTED(~Interface_5~)<br><strong>7</strong>. node: aws-backbone<br>&nbsp;&nbsp;RECEIVED(~Interface_6~)<br>&nbsp;&nbsp;FORWARDED(ARP IP: 240.0.0.0, Output Interface: ~Interface_1~, Routes: [bgp (Network: 13.59.144.125/32, Next Hop IP:240.0.0.0)])<br>&nbsp;&nbsp;TRANSMITTED(~Interface_1~)<br><strong>8</strong>. node: igw-02fd68f94367a67c7<br>&nbsp;&nbsp;RECEIVED(backbone)<br>&nbsp;&nbsp;TRANSFORMED(DEST_NAT dstIp: 13.59.144.125 -> 10.20.1.207)<br>&nbsp;&nbsp;FORWARDED(ARP IP: 169.254.0.1, Output Interface: subnet-06a692ed4ef84368d, Routes: [static (Network: 10.20.1.0/24, Next Hop IP:169.254.0.1)])<br>&nbsp;&nbsp;TRANSMITTED(subnet-06a692ed4ef84368d)<br><strong>9</strong>. node: subnet-06a692ed4ef84368d<br>&nbsp;&nbsp;RECEIVED(igw-02fd68f94367a67c7)<br>&nbsp;&nbsp;FORWARDED(ARP IP: AUTO/NONE(-1l), Output Interface: subnet-06a692ed4ef84368d, Routes: [connected (Network: 10.20.1.0/24, Next Hop IP:AUTO/NONE(-1l))])<br>&nbsp;&nbsp;PERMITTED(acl-09c0bb4e71ae5f9e4_ingress (EGRESS_FILTER))<br>&nbsp;&nbsp;TRANSMITTED(subnet-06a692ed4ef84368d)<br><strong>10</strong>. node: i-01602d9efaed4409a<br>&nbsp;&nbsp;RECEIVED(eni-01997085076a9b98a)<br>&nbsp;&nbsp;DENIED(~SECURITY_GROUP_INGRESS_ACL~ (INGRESS_FILTER))"
      ],
      "text/plain": [
       "Trace(disposition='DENIED_IN', hops=[Hop(node='srv-101', steps=[Step(detail=OriginateStepDetail(originatingVrf='default'), action='ORIGINATED'), Step(detail=RoutingStepDetail(routes=[{'network': '0.0.0.0/0', 'nextHopIp': '203.0.113.2', 'protocol': 'static'}], arpIp='203.0.113.2', outputInterface='eth0'), action='FORWARDED'), Step(detail=ExitOutputIfaceStepDetail(outputInterface='eth0', transformedFlow=None), action='TRANSMITTED')]), Hop(node='leaf1', steps=[Step(detail=EnterInputIfaceStepDetail(inputInterface='Ethernet10', inputVrf='default'), action='RECEIVED'), Step(detail=RoutingStepDetail(routes=[{'network': '0.0.0.0/0', 'nextHopIp': '10.10.11.1', 'protocol': 'bgp'}], arpIp='10.10.11.1', outputInterface='Ethernet1'), action='FORWARDED'), Step(detail=ExitOutputIfaceStepDetail(outputInterface='Ethernet1', transformedFlow=None), action='TRANSMITTED')]), Hop(node='spine1', steps=[Step(detail=EnterInputIfaceStepDetail(inputInterface='Ethernet1', inputVrf='default'), action='RECEIVED'), Step(detail=RoutingStepDetail(routes=[{'network': '0.0.0.0/0', 'nextHopIp': '10.10.100.2', 'protocol': 'bgp'}], arpIp='10.10.100.2', outputInterface='Ethernet10'), action='FORWARDED'), Step(detail=ExitOutputIfaceStepDetail(outputInterface='Ethernet10', transformedFlow=None), action='TRANSMITTED')]), Hop(node='exitgw', steps=[Step(detail=EnterInputIfaceStepDetail(inputInterface='GigabitEthernet1', inputVrf='default'), action='RECEIVED'), Step(detail=RoutingStepDetail(routes=[{'network': '0.0.0.0/0', 'nextHopIp': '147.75.69.26', 'protocol': 'static'}], arpIp='147.75.69.26', outputInterface='GigabitEthernet3'), action='FORWARDED'), Step(detail=ExitOutputIfaceStepDetail(outputInterface='GigabitEthernet3', transformedFlow=None), action='TRANSMITTED')]), Hop(node='isp_dc', steps=[Step(detail=EnterInputIfaceStepDetail(inputInterface='~Interface_0~', inputVrf='default'), action='RECEIVED'), Step(detail=RoutingStepDetail(routes=[{'network': '0.0.0.0/0', 'nextHopIp': '240.1.1.2', 'protocol': 'bgp'}], arpIp='240.1.1.2', outputInterface='~Interface_4~'), action='FORWARDED'), Step(detail=ExitOutputIfaceStepDetail(outputInterface='~Interface_4~', transformedFlow=None), action='TRANSMITTED')]), Hop(node='internet', steps=[Step(detail=EnterInputIfaceStepDetail(inputInterface='~Interface_3~', inputVrf='default'), action='RECEIVED'), Step(detail=RoutingStepDetail(routes=[{'network': '13.59.144.125/32', 'nextHopIp': '240.1.1.5', 'protocol': 'bgp'}], arpIp='240.1.1.5', outputInterface='~Interface_5~'), action='FORWARDED'), Step(detail=ExitOutputIfaceStepDetail(outputInterface='~Interface_5~', transformedFlow=None), action='TRANSMITTED')]), Hop(node='aws-backbone', steps=[Step(detail=EnterInputIfaceStepDetail(inputInterface='~Interface_6~', inputVrf='default'), action='RECEIVED'), Step(detail=RoutingStepDetail(routes=[{'network': '13.59.144.125/32', 'nextHopIp': '240.0.0.0', 'protocol': 'bgp'}], arpIp='240.0.0.0', outputInterface='~Interface_1~'), action='FORWARDED'), Step(detail=ExitOutputIfaceStepDetail(outputInterface='~Interface_1~', transformedFlow=None), action='TRANSMITTED')]), Hop(node='igw-02fd68f94367a67c7', steps=[Step(detail=EnterInputIfaceStepDetail(inputInterface='backbone', inputVrf='default'), action='RECEIVED'), Step(detail=TransformationStepDetail(transformationType='DEST_NAT', flowDiffs=[FlowDiff(fieldName='dstIp', oldValue='13.59.144.125', newValue='10.20.1.207')]), action='TRANSFORMED'), Step(detail=RoutingStepDetail(routes=[{'network': '10.20.1.0/24', 'nextHopIp': '169.254.0.1', 'protocol': 'static'}], arpIp='169.254.0.1', outputInterface='subnet-06a692ed4ef84368d'), action='FORWARDED'), Step(detail=ExitOutputIfaceStepDetail(outputInterface='subnet-06a692ed4ef84368d', transformedFlow={'dscp': 0, 'dstIp': '10.20.1.207', 'dstPort': 80, 'ecn': 0, 'fragmentOffset': 0, 'ingressNode': 'srv-101', 'ingressVrf': 'default', 'ipProtocol': 'TCP', 'packetLength': 512, 'srcIp': '203.0.113.12', 'srcPort': 49152, 'state': 'NEW', 'tag': 'tag', 'tcpFlagsAck': 0, 'tcpFlagsCwr': 0, 'tcpFlagsEce': 0, 'tcpFlagsFin': 0, 'tcpFlagsPsh': 0, 'tcpFlagsRst': 0, 'tcpFlagsSyn': 1, 'tcpFlagsUrg': 0}), action='TRANSMITTED')]), Hop(node='subnet-06a692ed4ef84368d', steps=[Step(detail=EnterInputIfaceStepDetail(inputInterface='igw-02fd68f94367a67c7', inputVrf='default'), action='RECEIVED'), Step(detail=RoutingStepDetail(routes=[{'network': '10.20.1.0/24', 'nextHopIp': 'AUTO/NONE(-1l)', 'protocol': 'connected'}], arpIp='AUTO/NONE(-1l)', outputInterface='subnet-06a692ed4ef84368d'), action='FORWARDED'), Step(detail=FilterStepDetail(filter='acl-09c0bb4e71ae5f9e4_ingress', filterType='EGRESS_FILTER', inputInterface='igw-02fd68f94367a67c7', flow=Flow(dscp=0, dstIp='10.20.1.207', dstPort=80, ecn=0, fragmentOffset=0, icmpCode=None, icmpVar=None, ingressInterface=None, ingressNode='srv-101', ingressVrf='default', ipProtocol='TCP', packetLength=512, srcIp='203.0.113.12', srcPort=49152, tcpFlagsAck=0, tcpFlagsCwr=0, tcpFlagsEce=0, tcpFlagsFin=0, tcpFlagsPsh=0, tcpFlagsRst=0, tcpFlagsSyn=1, tcpFlagsUrg=0)), action='PERMITTED'), Step(detail=ExitOutputIfaceStepDetail(outputInterface='subnet-06a692ed4ef84368d', transformedFlow={'dscp': 0, 'dstIp': '10.20.1.207', 'dstPort': 80, 'ecn': 0, 'fragmentOffset': 0, 'ingressNode': 'srv-101', 'ingressVrf': 'default', 'ipProtocol': 'TCP', 'packetLength': 512, 'srcIp': '203.0.113.12', 'srcPort': 49152, 'state': 'NEW', 'tag': 'tag', 'tcpFlagsAck': 0, 'tcpFlagsCwr': 0, 'tcpFlagsEce': 0, 'tcpFlagsFin': 0, 'tcpFlagsPsh': 0, 'tcpFlagsRst': 0, 'tcpFlagsSyn': 1, 'tcpFlagsUrg': 0}), action='TRANSMITTED')]), Hop(node='i-01602d9efaed4409a', steps=[Step(detail=EnterInputIfaceStepDetail(inputInterface='eni-01997085076a9b98a', inputVrf='default'), action='RECEIVED'), Step(detail=FilterStepDetail(filter='~SECURITY_GROUP_INGRESS_ACL~', filterType='INGRESS_FILTER', inputInterface='eni-01997085076a9b98a', flow=Flow(dscp=0, dstIp='10.20.1.207', dstPort=80, ecn=0, fragmentOffset=0, icmpCode=None, icmpVar=None, ingressInterface=None, ingressNode='srv-101', ingressVrf='default', ipProtocol='TCP', packetLength=512, srcIp='203.0.113.12', srcPort=49152, tcpFlagsAck=0, tcpFlagsCwr=0, tcpFlagsEce=0, tcpFlagsFin=0, tcpFlagsPsh=0, tcpFlagsRst=0, tcpFlagsSyn=1, tcpFlagsUrg=0)), action='DENIED')])])"
      ]
     },
     "metadata": {},
     "output_type": "display_data"
    }
   ],
   "source": [
    "# traceroute from DC host to an instances using public IP\n",
    "ans = bfq.traceroute(startLocation=host_dc, \n",
    "                     headers=HeaderConstraints(dstIps=ip_east2_public,\n",
    "                                              applications=\"http\")).answer()\n",
    "show_first_trace(ans.frame())"
   ]
  },
  {
   "cell_type": "markdown",
   "metadata": {},
   "source": [
    "## Which instances are accessible from the Internet?"
   ]
  },
  {
   "cell_type": "code",
   "execution_count": 12,
   "metadata": {},
   "outputs": [
    {
     "name": "stdout",
     "output_type": "stream",
     "text": [
      "Instances reachable from the Internet: ['i-01602d9efaed4409a', 'i-02cae6eaa9edeed70']\n",
      "\n",
      "Instances NOT reachable from the Internet: ['i-04cd3db5124a05ee6', 'i-0a5d64b8b58c6dd09']\n",
      "\n",
      "Instances reachable from the DC: ['i-01602d9efaed4409a', 'i-04cd3db5124a05ee6', 'i-02cae6eaa9edeed70', 'i-0a5d64b8b58c6dd09']\n",
      "\n"
     ]
    }
   ],
   "source": [
    "all_instances = [host_east2_public, host_east2_private, host_west2_public, host_west2_private]\n",
    "\n",
    "reachable_from_internet = [host for host in all_instances if is_reachable(\"internet\", host)]\n",
    "isolated_from_internet = [host for host in all_instances if not is_reachable(\"internet\", host)]\n",
    "reachable_from_dc = [host for host in all_instances if is_reachable(host_dc, host)]\n",
    "\n",
    "print(\"Instances reachable from the Internet: {}\\n\".format(reachable_from_internet))\n",
    "print(\"Instances NOT reachable from the Internet: {}\\n\".format(isolated_from_internet))\n",
    "print(\"Instances reachable from the DC: {}\\n\".format(reachable_from_dc))"
   ]
  },
  {
   "cell_type": "code",
   "execution_count": 32,
   "metadata": {
    "scrolled": false
   },
   "outputs": [
    {
     "data": {
      "text/html": [
       "<style  type=\"text/css\" >\n",
       "    #T_pybfstylerow0_col0 {\n",
       "            text-align:  left;\n",
       "            vertical-align:  top;\n",
       "        }    #T_pybfstylerow0_col1 {\n",
       "            text-align:  left;\n",
       "            vertical-align:  top;\n",
       "        }    #T_pybfstylerow0_col2 {\n",
       "            text-align:  left;\n",
       "            vertical-align:  top;\n",
       "        }</style><table id=\"T_pybfstyle\"  class=\"tex2jax_ignore\"><thead>    <tr>        <th class=\"blank level0\" ></th>        <th class=\"col_heading level0 col0\" >Flow</th>        <th class=\"col_heading level0 col1\" >Traces</th>        <th class=\"col_heading level0 col2\" >TraceCount</th>    </tr></thead><tbody>\n",
       "                <tr>\n",
       "                        <th id=\"T_pybfstylelevel0_row0\" class=\"row_heading level0 row0\" >0</th>\n",
       "                        <td id=\"T_pybfstylerow0_col0\" class=\"data row0 col0\" >Start Location: internet<br>Src IP: 240.1.1.2<br>Src Port: 49152<br>Dst IP: 13.59.144.125<br>Dst Port: 23<br>IP Protocol: TCP</td>\n",
       "                        <td id=\"T_pybfstylerow0_col1\" class=\"data row0 col1\" ><span style=\"color:#019612; text-weight:bold;\">ACCEPTED</span><br><strong>1</strong>. node: internet<br>&nbsp;&nbsp;ORIGINATED(default)<br>&nbsp;&nbsp;FORWARDED(ARP IP: 240.1.1.5, Output Interface: ~Interface_5~, Routes: [bgp (Network: 13.59.144.125/32, Next Hop IP:240.1.1.5)])<br>&nbsp;&nbsp;TRANSMITTED(~Interface_5~)<br><strong>2</strong>. node: aws-backbone<br>&nbsp;&nbsp;RECEIVED(~Interface_6~)<br>&nbsp;&nbsp;FORWARDED(ARP IP: 240.0.0.0, Output Interface: ~Interface_1~, Routes: [bgp (Network: 13.59.144.125/32, Next Hop IP:240.0.0.0)])<br>&nbsp;&nbsp;TRANSMITTED(~Interface_1~)<br><strong>3</strong>. node: igw-02fd68f94367a67c7<br>&nbsp;&nbsp;RECEIVED(backbone)<br>&nbsp;&nbsp;TRANSFORMED(DEST_NAT dstIp: 13.59.144.125 -> 10.20.1.207)<br>&nbsp;&nbsp;FORWARDED(ARP IP: 169.254.0.1, Output Interface: subnet-06a692ed4ef84368d, Routes: [static (Network: 10.20.1.0/24, Next Hop IP:169.254.0.1)])<br>&nbsp;&nbsp;TRANSMITTED(subnet-06a692ed4ef84368d)<br><strong>4</strong>. node: subnet-06a692ed4ef84368d<br>&nbsp;&nbsp;RECEIVED(igw-02fd68f94367a67c7)<br>&nbsp;&nbsp;FORWARDED(ARP IP: AUTO/NONE(-1l), Output Interface: subnet-06a692ed4ef84368d, Routes: [connected (Network: 10.20.1.0/24, Next Hop IP:AUTO/NONE(-1l))])<br>&nbsp;&nbsp;PERMITTED(acl-09c0bb4e71ae5f9e4_ingress (EGRESS_FILTER))<br>&nbsp;&nbsp;TRANSMITTED(subnet-06a692ed4ef84368d)<br><strong>5</strong>. node: i-01602d9efaed4409a<br>&nbsp;&nbsp;RECEIVED(eni-01997085076a9b98a)<br>&nbsp;&nbsp;PERMITTED(Security Group launch-wizard-1 (INGRESS_FILTER))<br>&nbsp;&nbsp;ACCEPTED(eni-01997085076a9b98a)</td>\n",
       "                        <td id=\"T_pybfstylerow0_col2\" class=\"data row0 col2\" >1</td>\n",
       "            </tr>\n",
       "    </tbody></table>"
      ],
      "text/plain": [
       "                                                     Flow  \\\n",
       "0  start=internet [240.1.1.2:49152->13.59.144.125:23 TCP]   \n",
       "\n",
       "                                                                                                                                                                                                                                                                                                                                                                                                                                                                                                                                                                                                                                                                                                                                                                                                                                                                                                                                                                                                                                                                              Traces  \\\n",
       "0  [((ORIGINATED(default), FORWARDED(ARP IP: 240.1.1.5, Output Interface: ~Interface_5~, Routes: [bgp (Network: 13.59.144.125/32, Next Hop IP:240.1.1.5)]), TRANSMITTED(~Interface_5~)), (RECEIVED(~Interface_6~), FORWARDED(ARP IP: 240.0.0.0, Output Interface: ~Interface_1~, Routes: [bgp (Network: 13.59.144.125/32, Next Hop IP:240.0.0.0)]), TRANSMITTED(~Interface_1~)), (RECEIVED(backbone), TRANSFORMED(DEST_NAT dstIp: 13.59.144.125 -> 10.20.1.207), FORWARDED(ARP IP: 169.254.0.1, Output Interface: subnet-06a692ed4ef84368d, Routes: [static (Network: 10.20.1.0/24, Next Hop IP:169.254.0.1)]), TRANSMITTED(subnet-06a692ed4ef84368d)), (RECEIVED(igw-02fd68f94367a67c7), FORWARDED(ARP IP: AUTO/NONE(-1l), Output Interface: subnet-06a692ed4ef84368d, Routes: [connected (Network: 10.20.1.0/24, Next Hop IP:AUTO/NONE(-1l))]), PERMITTED(acl-09c0bb4e71ae5f9e4_ingress (EGRESS_FILTER)), TRANSMITTED(subnet-06a692ed4ef84368d)), (RECEIVED(eni-01997085076a9b98a), PERMITTED(Security Group launch-wizard-1 (INGRESS_FILTER)), ACCEPTED(eni-01997085076a9b98a)))]   \n",
       "\n",
       "  TraceCount  \n",
       "0  1          "
      ]
     },
     "metadata": {},
     "output_type": "display_data"
    },
    {
     "data": {
      "text/html": [
       "<div>\n",
       "<style scoped>\n",
       "    .dataframe tbody tr th:only-of-type {\n",
       "        vertical-align: middle;\n",
       "    }\n",
       "\n",
       "    .dataframe tbody tr th {\n",
       "        vertical-align: top;\n",
       "    }\n",
       "\n",
       "    .dataframe thead th {\n",
       "        text-align: right;\n",
       "    }\n",
       "</style>\n",
       "<table border=\"1\" class=\"dataframe tex2jax_ignore\">\n",
       "  <thead>\n",
       "    <tr style=\"text-align: right;\">\n",
       "      <th></th>\n",
       "      <th>Flow</th>\n",
       "      <th>Traces</th>\n",
       "      <th>TraceCount</th>\n",
       "    </tr>\n",
       "  </thead>\n",
       "  <tbody>\n",
       "  </tbody>\n",
       "</table>\n",
       "</div>"
      ],
      "text/plain": [
       "Empty DataFrame\n",
       "Columns: [Flow, Traces, TraceCount]\n",
       "Index: []"
      ]
     },
     "metadata": {},
     "output_type": "display_data"
    },
    {
     "data": {
      "text/html": [
       "<style  type=\"text/css\" >\n",
       "    #T_pybfstylerow0_col0 {\n",
       "            text-align:  left;\n",
       "            vertical-align:  top;\n",
       "        }    #T_pybfstylerow0_col1 {\n",
       "            text-align:  left;\n",
       "            vertical-align:  top;\n",
       "        }    #T_pybfstylerow0_col2 {\n",
       "            text-align:  left;\n",
       "            vertical-align:  top;\n",
       "        }</style><table id=\"T_pybfstyle\"  class=\"tex2jax_ignore\"><thead>    <tr>        <th class=\"blank level0\" ></th>        <th class=\"col_heading level0 col0\" >Flow</th>        <th class=\"col_heading level0 col1\" >Traces</th>        <th class=\"col_heading level0 col2\" >TraceCount</th>    </tr></thead><tbody>\n",
       "                <tr>\n",
       "                        <th id=\"T_pybfstylelevel0_row0\" class=\"row_heading level0 row0\" >0</th>\n",
       "                        <td id=\"T_pybfstylerow0_col0\" class=\"data row0 col0\" >Start Location: internet<br>Src IP: 240.1.1.2<br>Src Port: 49152<br>Dst IP: 54.191.42.182<br>Dst Port: 23<br>IP Protocol: TCP</td>\n",
       "                        <td id=\"T_pybfstylerow0_col1\" class=\"data row0 col1\" ><span style=\"color:#7c020e; text-weight:bold;\">DENIED_IN</span><br><strong>1</strong>. node: internet<br>&nbsp;&nbsp;ORIGINATED(default)<br>&nbsp;&nbsp;FORWARDED(ARP IP: 240.1.1.5, Output Interface: ~Interface_5~, Routes: [bgp (Network: 54.191.42.182/32, Next Hop IP:240.1.1.5)])<br>&nbsp;&nbsp;TRANSMITTED(~Interface_5~)<br><strong>2</strong>. node: aws-backbone<br>&nbsp;&nbsp;RECEIVED(~Interface_6~)<br>&nbsp;&nbsp;FORWARDED(ARP IP: 240.0.0.2, Output Interface: ~Interface_2~, Routes: [bgp (Network: 54.191.42.182/32, Next Hop IP:240.0.0.2)])<br>&nbsp;&nbsp;TRANSMITTED(~Interface_2~)<br><strong>3</strong>. node: igw-0a8309f3192e7cea3<br>&nbsp;&nbsp;RECEIVED(backbone)<br>&nbsp;&nbsp;TRANSFORMED(DEST_NAT dstIp: 54.191.42.182 -> 10.40.2.80)<br>&nbsp;&nbsp;FORWARDED(ARP IP: 169.254.0.1, Output Interface: subnet-06005943afe32f714, Routes: [static (Network: 10.40.2.0/24, Next Hop IP:169.254.0.1)])<br>&nbsp;&nbsp;TRANSMITTED(subnet-06005943afe32f714)<br><strong>4</strong>. node: subnet-06005943afe32f714<br>&nbsp;&nbsp;RECEIVED(igw-0a8309f3192e7cea3)<br>&nbsp;&nbsp;FORWARDED(ARP IP: AUTO/NONE(-1l), Output Interface: subnet-06005943afe32f714, Routes: [connected (Network: 10.40.2.0/24, Next Hop IP:AUTO/NONE(-1l))])<br>&nbsp;&nbsp;PERMITTED(acl-087574e8620270842_ingress (EGRESS_FILTER))<br>&nbsp;&nbsp;TRANSMITTED(subnet-06005943afe32f714)<br><strong>5</strong>. node: i-02cae6eaa9edeed70<br>&nbsp;&nbsp;RECEIVED(eni-087e18628dadd9b48)<br>&nbsp;&nbsp;DENIED(Security Group launch-wizard-1 (INGRESS_FILTER))</td>\n",
       "                        <td id=\"T_pybfstylerow0_col2\" class=\"data row0 col2\" >1</td>\n",
       "            </tr>\n",
       "    </tbody></table>"
      ],
      "text/plain": [
       "                                                     Flow  \\\n",
       "0  start=internet [240.1.1.2:49152->54.191.42.182:23 TCP]   \n",
       "\n",
       "                                                                                                                                                                                                                                                                                                                                                                                                                                                                                                                                                                                                                                                                                                                                                                                                                                                                                                                                                                                                                                         Traces  \\\n",
       "0  [((ORIGINATED(default), FORWARDED(ARP IP: 240.1.1.5, Output Interface: ~Interface_5~, Routes: [bgp (Network: 54.191.42.182/32, Next Hop IP:240.1.1.5)]), TRANSMITTED(~Interface_5~)), (RECEIVED(~Interface_6~), FORWARDED(ARP IP: 240.0.0.2, Output Interface: ~Interface_2~, Routes: [bgp (Network: 54.191.42.182/32, Next Hop IP:240.0.0.2)]), TRANSMITTED(~Interface_2~)), (RECEIVED(backbone), TRANSFORMED(DEST_NAT dstIp: 54.191.42.182 -> 10.40.2.80), FORWARDED(ARP IP: 169.254.0.1, Output Interface: subnet-06005943afe32f714, Routes: [static (Network: 10.40.2.0/24, Next Hop IP:169.254.0.1)]), TRANSMITTED(subnet-06005943afe32f714)), (RECEIVED(igw-0a8309f3192e7cea3), FORWARDED(ARP IP: AUTO/NONE(-1l), Output Interface: subnet-06005943afe32f714, Routes: [connected (Network: 10.40.2.0/24, Next Hop IP:AUTO/NONE(-1l))]), PERMITTED(acl-087574e8620270842_ingress (EGRESS_FILTER)), TRANSMITTED(subnet-06005943afe32f714)), (RECEIVED(eni-087e18628dadd9b48), DENIED(Security Group launch-wizard-1 (INGRESS_FILTER))))]   \n",
       "\n",
       "  TraceCount  \n",
       "0  1          "
      ]
     },
     "metadata": {},
     "output_type": "display_data"
    },
    {
     "data": {
      "text/html": [
       "<div>\n",
       "<style scoped>\n",
       "    .dataframe tbody tr th:only-of-type {\n",
       "        vertical-align: middle;\n",
       "    }\n",
       "\n",
       "    .dataframe tbody tr th {\n",
       "        vertical-align: top;\n",
       "    }\n",
       "\n",
       "    .dataframe thead th {\n",
       "        text-align: right;\n",
       "    }\n",
       "</style>\n",
       "<table border=\"1\" class=\"dataframe tex2jax_ignore\">\n",
       "  <thead>\n",
       "    <tr style=\"text-align: right;\">\n",
       "      <th></th>\n",
       "      <th>Flow</th>\n",
       "      <th>Traces</th>\n",
       "      <th>TraceCount</th>\n",
       "    </tr>\n",
       "  </thead>\n",
       "  <tbody>\n",
       "  </tbody>\n",
       "</table>\n",
       "</div>"
      ],
      "text/plain": [
       "Empty DataFrame\n",
       "Columns: [Flow, Traces, TraceCount]\n",
       "Index: []"
      ]
     },
     "metadata": {},
     "output_type": "display_data"
    },
    {
     "data": {
      "text/plain": [
       "['i-01602d9efaed4409a', 'i-02cae6eaa9edeed70']"
      ]
     },
     "execution_count": 32,
     "metadata": {},
     "output_type": "execute_result"
    }
   ],
   "source": [
    "reachable_from_internet_non_ssh = [host for host in all_instances if is_reachable(\"internet\", host, HeaderConstraints(applications=\"!ssh\"))]\n",
    "reachable_from_internet_non_ssh"
   ]
  },
  {
   "cell_type": "code",
   "execution_count": 38,
   "metadata": {},
   "outputs": [
    {
     "data": {
      "text/html": [
       "<style  type=\"text/css\" >\n",
       "    #T_pybfstylerow0_col0 {\n",
       "            text-align:  left;\n",
       "            vertical-align:  top;\n",
       "        }    #T_pybfstylerow0_col1 {\n",
       "            text-align:  left;\n",
       "            vertical-align:  top;\n",
       "        }    #T_pybfstylerow0_col2 {\n",
       "            text-align:  left;\n",
       "            vertical-align:  top;\n",
       "        }</style><table id=\"T_pybfstyle\"  class=\"tex2jax_ignore\"><thead>    <tr>        <th class=\"blank level0\" ></th>        <th class=\"col_heading level0 col0\" >Flow</th>        <th class=\"col_heading level0 col1\" >Traces</th>        <th class=\"col_heading level0 col2\" >TraceCount</th>    </tr></thead><tbody>\n",
       "                <tr>\n",
       "                        <th id=\"T_pybfstylelevel0_row0\" class=\"row_heading level0 row0\" >0</th>\n",
       "                        <td id=\"T_pybfstylerow0_col0\" class=\"data row0 col0\" >Start Location: internet<br>Src IP: 240.1.1.2<br>Dst IP: 54.191.42.182<br>IP Protocol: ICMP</td>\n",
       "                        <td id=\"T_pybfstylerow0_col1\" class=\"data row0 col1\" ><span style=\"color:#7c020e; text-weight:bold;\">DENIED_IN</span><br><strong>1</strong>. node: internet<br>&nbsp;&nbsp;ORIGINATED(default)<br>&nbsp;&nbsp;FORWARDED(ARP IP: 240.1.1.5, Output Interface: ~Interface_5~, Routes: [bgp (Network: 54.191.42.182/32, Next Hop IP:240.1.1.5)])<br>&nbsp;&nbsp;TRANSMITTED(~Interface_5~)<br><strong>2</strong>. node: aws-backbone<br>&nbsp;&nbsp;RECEIVED(~Interface_6~)<br>&nbsp;&nbsp;FORWARDED(ARP IP: 240.0.0.2, Output Interface: ~Interface_2~, Routes: [bgp (Network: 54.191.42.182/32, Next Hop IP:240.0.0.2)])<br>&nbsp;&nbsp;TRANSMITTED(~Interface_2~)<br><strong>3</strong>. node: igw-0a8309f3192e7cea3<br>&nbsp;&nbsp;RECEIVED(backbone)<br>&nbsp;&nbsp;TRANSFORMED(DEST_NAT dstIp: 54.191.42.182 -> 10.40.2.80)<br>&nbsp;&nbsp;FORWARDED(ARP IP: 169.254.0.1, Output Interface: subnet-06005943afe32f714, Routes: [static (Network: 10.40.2.0/24, Next Hop IP:169.254.0.1)])<br>&nbsp;&nbsp;TRANSMITTED(subnet-06005943afe32f714)<br><strong>4</strong>. node: subnet-06005943afe32f714<br>&nbsp;&nbsp;RECEIVED(igw-0a8309f3192e7cea3)<br>&nbsp;&nbsp;FORWARDED(ARP IP: AUTO/NONE(-1l), Output Interface: subnet-06005943afe32f714, Routes: [connected (Network: 10.40.2.0/24, Next Hop IP:AUTO/NONE(-1l))])<br>&nbsp;&nbsp;PERMITTED(acl-087574e8620270842_ingress (EGRESS_FILTER))<br>&nbsp;&nbsp;TRANSMITTED(subnet-06005943afe32f714)<br><strong>5</strong>. node: i-02cae6eaa9edeed70<br>&nbsp;&nbsp;RECEIVED(eni-087e18628dadd9b48)<br>&nbsp;&nbsp;DENIED(Security Group launch-wizard-1 (INGRESS_FILTER))</td>\n",
       "                        <td id=\"T_pybfstylerow0_col2\" class=\"data row0 col2\" >1</td>\n",
       "            </tr>\n",
       "    </tbody></table>"
      ],
      "text/plain": [
       "                                             Flow  \\\n",
       "0  start=internet [240.1.1.2->54.191.42.182 ICMP]   \n",
       "\n",
       "                                                                                                                                                                                                                                                                                                                                                                                                                                                                                                                                                                                                                                                                                                                                                                                                                                                                                                                                                                                                                                         Traces  \\\n",
       "0  [((ORIGINATED(default), FORWARDED(ARP IP: 240.1.1.5, Output Interface: ~Interface_5~, Routes: [bgp (Network: 54.191.42.182/32, Next Hop IP:240.1.1.5)]), TRANSMITTED(~Interface_5~)), (RECEIVED(~Interface_6~), FORWARDED(ARP IP: 240.0.0.2, Output Interface: ~Interface_2~, Routes: [bgp (Network: 54.191.42.182/32, Next Hop IP:240.0.0.2)]), TRANSMITTED(~Interface_2~)), (RECEIVED(backbone), TRANSFORMED(DEST_NAT dstIp: 54.191.42.182 -> 10.40.2.80), FORWARDED(ARP IP: 169.254.0.1, Output Interface: subnet-06005943afe32f714, Routes: [static (Network: 10.40.2.0/24, Next Hop IP:169.254.0.1)]), TRANSMITTED(subnet-06005943afe32f714)), (RECEIVED(igw-0a8309f3192e7cea3), FORWARDED(ARP IP: AUTO/NONE(-1l), Output Interface: subnet-06005943afe32f714, Routes: [connected (Network: 10.40.2.0/24, Next Hop IP:AUTO/NONE(-1l))]), PERMITTED(acl-087574e8620270842_ingress (EGRESS_FILTER)), TRANSMITTED(subnet-06005943afe32f714)), (RECEIVED(eni-087e18628dadd9b48), DENIED(Security Group launch-wizard-1 (INGRESS_FILTER))))]   \n",
       "\n",
       "  TraceCount  \n",
       "0  1          "
      ]
     },
     "metadata": {},
     "output_type": "display_data"
    }
   ],
   "source": [
    "ans = bfq.reachability(pathConstraints=PathConstraints(startLocation=\"internet\"), \n",
    "                       headers=HeaderConstraints(dstIps=\"54.191.42.182\"),\n",
    "                       actions=\"success\").answer()\n",
    "show(ans)"
   ]
  },
  {
   "cell_type": "code",
   "execution_count": 27,
   "metadata": {},
   "outputs": [
    {
     "data": {
      "text/html": [
       "<div>\n",
       "<style scoped>\n",
       "    .dataframe tbody tr th:only-of-type {\n",
       "        vertical-align: middle;\n",
       "    }\n",
       "\n",
       "    .dataframe tbody tr th {\n",
       "        vertical-align: top;\n",
       "    }\n",
       "\n",
       "    .dataframe thead th {\n",
       "        text-align: right;\n",
       "    }\n",
       "</style>\n",
       "<table border=\"1\" class=\"dataframe tex2jax_ignore\">\n",
       "  <thead>\n",
       "    <tr style=\"text-align: right;\">\n",
       "      <th></th>\n",
       "      <th>Nodes</th>\n",
       "      <th>Source_Lines</th>\n",
       "      <th>Type</th>\n",
       "      <th>Details</th>\n",
       "      <th>Line_Text</th>\n",
       "      <th>Parser_Context</th>\n",
       "    </tr>\n",
       "  </thead>\n",
       "  <tbody>\n",
       "    <tr>\n",
       "      <th>0</th>\n",
       "      <td>['leaf1', 'leaf2', 'leaf3', 'leaf4', 'spine1', 'spine2']</td>\n",
       "      <td>None</td>\n",
       "      <td>Convert warning (redflag)</td>\n",
       "      <td>Redistribution of OSPF_NSSA_EXTERNAL routes is not yet supported</td>\n",
       "      <td>None</td>\n",
       "      <td>None</td>\n",
       "    </tr>\n",
       "    <tr>\n",
       "      <th>1</th>\n",
       "      <td>['leaf1', 'leaf2', 'leaf3', 'leaf4', 'spine1', 'spine2']</td>\n",
       "      <td>None</td>\n",
       "      <td>Convert warning (redflag)</td>\n",
       "      <td>Redistribution of OSPF_NSSA_EXTERNAL_TYPE_1 routes is not yet supported</td>\n",
       "      <td>None</td>\n",
       "      <td>None</td>\n",
       "    </tr>\n",
       "    <tr>\n",
       "      <th>2</th>\n",
       "      <td>['leaf1', 'leaf2', 'leaf3', 'leaf4', 'spine1', 'spine2']</td>\n",
       "      <td>None</td>\n",
       "      <td>Convert warning (redflag)</td>\n",
       "      <td>Redistribution of OSPF_NSSA_EXTERNAL_TYPE_2 routes is not yet supported</td>\n",
       "      <td>None</td>\n",
       "      <td>None</td>\n",
       "    </tr>\n",
       "    <tr>\n",
       "      <th>3</th>\n",
       "      <td>None</td>\n",
       "      <td>[aws_configs:[]]</td>\n",
       "      <td>Parse warning (unimplemented)</td>\n",
       "      <td>Unrecognized element 'ServiceDetails' in AWS file aws_configs/us-east-2/VpcEndpointServices.json</td>\n",
       "      <td>None</td>\n",
       "      <td>None</td>\n",
       "    </tr>\n",
       "    <tr>\n",
       "      <th>4</th>\n",
       "      <td>None</td>\n",
       "      <td>[aws_configs:[]]</td>\n",
       "      <td>Parse warning (unimplemented)</td>\n",
       "      <td>Unrecognized element 'ServiceDetails' in AWS file aws_configs/us-west-2/VpcEndpointServices.json</td>\n",
       "      <td>None</td>\n",
       "      <td>None</td>\n",
       "    </tr>\n",
       "  </tbody>\n",
       "</table>\n",
       "</div>"
      ],
      "text/plain": [
       "                                                      Nodes      Source_Lines  \\\n",
       "0  ['leaf1', 'leaf2', 'leaf3', 'leaf4', 'spine1', 'spine2']  None               \n",
       "1  ['leaf1', 'leaf2', 'leaf3', 'leaf4', 'spine1', 'spine2']  None               \n",
       "2  ['leaf1', 'leaf2', 'leaf3', 'leaf4', 'spine1', 'spine2']  None               \n",
       "3  None                                                      [aws_configs:[]]   \n",
       "4  None                                                      [aws_configs:[]]   \n",
       "\n",
       "                            Type  \\\n",
       "0  Convert warning (redflag)       \n",
       "1  Convert warning (redflag)       \n",
       "2  Convert warning (redflag)       \n",
       "3  Parse warning (unimplemented)   \n",
       "4  Parse warning (unimplemented)   \n",
       "\n",
       "                                                                                            Details  \\\n",
       "0  Redistribution of OSPF_NSSA_EXTERNAL routes is not yet supported                                   \n",
       "1  Redistribution of OSPF_NSSA_EXTERNAL_TYPE_1 routes is not yet supported                            \n",
       "2  Redistribution of OSPF_NSSA_EXTERNAL_TYPE_2 routes is not yet supported                            \n",
       "3  Unrecognized element 'ServiceDetails' in AWS file aws_configs/us-east-2/VpcEndpointServices.json   \n",
       "4  Unrecognized element 'ServiceDetails' in AWS file aws_configs/us-west-2/VpcEndpointServices.json   \n",
       "\n",
       "  Line_Text Parser_Context  \n",
       "0  None      None           \n",
       "1  None      None           \n",
       "2  None      None           \n",
       "3  None      None           \n",
       "4  None      None           "
      ]
     },
     "execution_count": 27,
     "metadata": {},
     "output_type": "execute_result"
    }
   ],
   "source": [
    "bfq.initIssues().answer()"
   ]
  }
 ],
 "metadata": {
  "kernelspec": {
   "display_name": "Python 3",
   "language": "python",
   "name": "python3"
  },
  "language_info": {
   "codemirror_mode": {
    "name": "ipython",
    "version": 3
   },
   "file_extension": ".py",
   "mimetype": "text/x-python",
   "name": "python",
   "nbconvert_exporter": "python",
   "pygments_lexer": "ipython3",
   "version": "3.6.8"
  }
 },
 "nbformat": 4,
 "nbformat_minor": 2
}
