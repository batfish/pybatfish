{
 "cells": [
  {
   "cell_type": "markdown",
   "metadata": {},
   "source": [
    "# Debugging traceroute failures caused by ACLs with Batfish\n",
    "\n",
    "Network engineers are responsible for verifying that the ACLs in their networks are permitting and denying traffic as intended. This generally requires loading each ACL onto a lab device in order to test its behavior on a wide range of packets. Batfish makes it easy to see what each ACL will do with any packet, right down to the line of the ACL that matches it. We also provide a sanity check to ensure that every line in every ACL can match some packet that won't be matched by a previous line.\n",
    "\n",
    "In this notebook, we will start by showing an example network where a traceroute is failing with because the flow is denied by an ACL\n",
    "To debug this problem, we find which ACLs cause the deny action with the help of `testfilters` question, and later explore the full scope of the flows the problematic ACL affects with the `reachfilter` question.\n",
    "\n",
    "![example-network](https://raw.githubusercontent.com/batfish/pybatfish/master/jupyter_notebooks/networks/example/example-network.png)"
   ]
  },
  {
   "cell_type": "markdown",
   "metadata": {},
   "source": [
    "`SNAPSHOT_PATH` below can be updated to point to a custom snapshot directory, see the [Batfish instructions](https://github.com/batfish/batfish/wiki/Packaging-snapshots-for-analysis) for how to package data for analysis.<br>\n",
    "More example networks are available in the [networks](https://github.com/batfish/batfish/tree/master/networks) folder of the Batfish repository."
   ]
  },
  {
   "cell_type": "code",
   "execution_count": 1,
   "metadata": {
    "scrolled": false
   },
   "outputs": [
    {
     "name": "stderr",
     "output_type": "stream",
     "text": [
      "/Users/victor/pybatfish/pybatfish/client/commands.py:47: UserWarning: Pybatfish public API is being updated, note that API names and parameters will soon change.\n",
      "  \"Pybatfish public API is being updated, note that API names and parameters will soon change.\")\n"
     ]
    }
   ],
   "source": [
    "# Import packages and load questions\n",
    "%run startup.py\n",
    "\n",
    "# Initialize a network and snapshot\n",
    "NETWORK_NAME = \"acl_debugging_network\"\n",
    "SNAPSHOT_NAME = \"example_snapshot\"\n",
    "\n",
    "SNAPSHOT_PATH = \"networks/example\""
   ]
  },
  {
   "cell_type": "code",
   "execution_count": 2,
   "metadata": {},
   "outputs": [
    {
     "data": {
      "text/plain": [
       "'example_snapshot'"
      ]
     },
     "execution_count": 2,
     "metadata": {},
     "output_type": "execute_result"
    }
   ],
   "source": [
    "bf_set_network(NETWORK_NAME)\n",
    "bf_init_snapshot(SNAPSHOT_PATH, name=SNAPSHOT_NAME, overwrite=True)"
   ]
  },
  {
   "cell_type": "markdown",
   "metadata": {},
   "source": [
    "## Performing a traceroute\n",
    "\n",
    "Let us test that host2 can be reached from `AS3`. The Batfish virtual traceroute question mimics the behavior of real traceroute, with additional capability of specifying ports/protocols and the start location of the trace.\n",
    "\n",
    "#### Tip: Pull up a table of IP addresses to help fill in `src` and `dst` ip address\n",
    "The IP Owners question achieves this nicely (we'll use [Pandas APIs](https://pandas.pydata.org/pandas-docs/stable/) here and throughout the notebook to filter results):"
   ]
  },
  {
   "cell_type": "code",
   "execution_count": 3,
   "metadata": {},
   "outputs": [
    {
     "data": {
      "text/html": [
       "<div>\n",
       "<style scoped>\n",
       "    .dataframe tbody tr th:only-of-type {\n",
       "        vertical-align: middle;\n",
       "    }\n",
       "\n",
       "    .dataframe tbody tr th {\n",
       "        vertical-align: top;\n",
       "    }\n",
       "\n",
       "    .dataframe thead th {\n",
       "        text-align: right;\n",
       "    }\n",
       "</style>\n",
       "<table border=\"1\" class=\"dataframe\">\n",
       "  <thead>\n",
       "    <tr style=\"text-align: right;\">\n",
       "      <th></th>\n",
       "      <th>Hostname</th>\n",
       "      <th>VRF</th>\n",
       "      <th>Interface</th>\n",
       "      <th>IP</th>\n",
       "      <th>Mask</th>\n",
       "      <th>Active</th>\n",
       "    </tr>\n",
       "  </thead>\n",
       "  <tbody>\n",
       "    <tr>\n",
       "      <th>5</th>\n",
       "      <td>as3core1</td>\n",
       "      <td>default</td>\n",
       "      <td>GigabitEthernet2/0</td>\n",
       "      <td>90.90.90.1</td>\n",
       "      <td>24</td>\n",
       "      <td>True</td>\n",
       "    </tr>\n",
       "    <tr>\n",
       "      <th>20</th>\n",
       "      <td>as3core1</td>\n",
       "      <td>default</td>\n",
       "      <td>Loopback0</td>\n",
       "      <td>3.10.1.1</td>\n",
       "      <td>32</td>\n",
       "      <td>True</td>\n",
       "    </tr>\n",
       "    <tr>\n",
       "      <th>21</th>\n",
       "      <td>as3core1</td>\n",
       "      <td>default</td>\n",
       "      <td>GigabitEthernet1/0</td>\n",
       "      <td>3.0.1.2</td>\n",
       "      <td>24</td>\n",
       "      <td>True</td>\n",
       "    </tr>\n",
       "    <tr>\n",
       "      <th>22</th>\n",
       "      <td>host2</td>\n",
       "      <td>default</td>\n",
       "      <td>eth0</td>\n",
       "      <td>2.128.1.101</td>\n",
       "      <td>24</td>\n",
       "      <td>True</td>\n",
       "    </tr>\n",
       "    <tr>\n",
       "      <th>29</th>\n",
       "      <td>as3core1</td>\n",
       "      <td>default</td>\n",
       "      <td>GigabitEthernet0/0</td>\n",
       "      <td>3.0.2.2</td>\n",
       "      <td>24</td>\n",
       "      <td>True</td>\n",
       "    </tr>\n",
       "    <tr>\n",
       "      <th>40</th>\n",
       "      <td>as3core1</td>\n",
       "      <td>default</td>\n",
       "      <td>GigabitEthernet3/0</td>\n",
       "      <td>90.90.90.2</td>\n",
       "      <td>24</td>\n",
       "      <td>True</td>\n",
       "    </tr>\n",
       "  </tbody>\n",
       "</table>\n",
       "</div>"
      ],
      "text/plain": [
       "    Hostname      VRF           Interface           IP  Mask  Active\n",
       "5   as3core1  default  GigabitEthernet2/0   90.90.90.1    24    True\n",
       "20  as3core1  default           Loopback0     3.10.1.1    32    True\n",
       "21  as3core1  default  GigabitEthernet1/0      3.0.1.2    24    True\n",
       "22     host2  default                eth0  2.128.1.101    24    True\n",
       "29  as3core1  default  GigabitEthernet0/0      3.0.2.2    24    True\n",
       "40  as3core1  default  GigabitEthernet3/0   90.90.90.2    24    True"
      ]
     },
     "execution_count": 3,
     "metadata": {},
     "output_type": "execute_result"
    }
   ],
   "source": [
    "# Show IP Owners for host1 and devices in AS1\n",
    "ip_owners = bfq.ipOwners().answer().frame()\n",
    "ip_owners[(ip_owners.Hostname.isin(['as3core1', 'host2']))]"
   ]
  },
  {
   "cell_type": "markdown",
   "metadata": {},
   "source": [
    "We ask the traceroute question using the start location of `as3core1`, on the Loopback0 interface, going to the `host2` (IP 2.128.1.101)\n",
    "\n",
    "What we are interested in is the `results` column, indicating the fate of the flow (e.g., `ACCEPT` or `DENIED`)"
   ]
  },
  {
   "cell_type": "code",
   "execution_count": 4,
   "metadata": {},
   "outputs": [
    {
     "data": {
      "text/html": [
       "<div>\n",
       "<style scoped>\n",
       "    .dataframe tbody tr th:only-of-type {\n",
       "        vertical-align: middle;\n",
       "    }\n",
       "\n",
       "    .dataframe tbody tr th {\n",
       "        vertical-align: top;\n",
       "    }\n",
       "\n",
       "    .dataframe thead th {\n",
       "        text-align: right;\n",
       "    }\n",
       "</style>\n",
       "<table border=\"1\" class=\"dataframe\">\n",
       "  <thead>\n",
       "    <tr style=\"text-align: right;\">\n",
       "      <th></th>\n",
       "      <th>node</th>\n",
       "      <th>dstIp</th>\n",
       "      <th>flow</th>\n",
       "      <th>numPaths</th>\n",
       "      <th>results</th>\n",
       "    </tr>\n",
       "  </thead>\n",
       "  <tbody>\n",
       "    <tr>\n",
       "      <th>0</th>\n",
       "      <td>as3core1</td>\n",
       "      <td>2.128.1.101</td>\n",
       "      <td>as3core1ingressInterface: Loopback0-&gt;[3.10.1.1:0-&gt;2.128.1.101:80 proto: IP dscp:0 ecn:0 fragOff:0 length:0 state:NEW flags: n/a</td>\n",
       "      <td>4</td>\n",
       "      <td>[DENIED_IN]</td>\n",
       "    </tr>\n",
       "  </tbody>\n",
       "</table>\n",
       "</div>"
      ],
      "text/plain": [
       "       node        dstIp  \\\n",
       "0  as3core1  2.128.1.101   \n",
       "\n",
       "                                                                                                                              flow  \\\n",
       "0  as3core1ingressInterface: Loopback0->[3.10.1.1:0->2.128.1.101:80 proto: IP dscp:0 ecn:0 fragOff:0 length:0 state:NEW flags: n/a   \n",
       "\n",
       "   numPaths      results  \n",
       "0         4  [DENIED_IN]  "
      ]
     },
     "metadata": {},
     "output_type": "display_data"
    }
   ],
   "source": [
    "display(bfq.traceroute(srcIpSpace='3.10.1.1', dst='2.128.1.101', traceStart='enter(as3core1[Loopback0])', dstPort=80).answer().frame().drop('paths', axis='columns'))"
   ]
  },
  {
   "cell_type": "markdown",
   "metadata": {},
   "source": [
    "We see that the result is `DENIED_IN` leading us to believe that an input ACL on some interface is responsible for this flow being dropped.\n",
    "\n",
    "Let us examine which ACLs in the network can affect the flow we just constructed using the `testfilters` question.\n",
    "\n",
    "### Test Filters\n",
    "\n",
    "The Test Filters question takes in the properties of a flow and a set of ACLs to test. The answer shows what each ACL will do to that flow and why.\n",
    "\n",
    "To specify the flow, you must provide the source IP address `srcIp` and the destination `dst` (hostname or IP address). Optionally, you can also specify IP protocols, ports, TCP flags, ICMP codes, and other properties ([see documentation for details](https://pybatfish.readthedocs.io/en/latest/questions.html#pybatfish.question.bfq.testfilters)). The question will fill in any unspecified flow properties with default values.\n",
    "\n",
    "The set of ACLs to examine can be narrowed down using these optional parameters:\n",
    "- `nodeRegex` specifies the ACLs present on the set of nodes matching the given regex\n",
    "- `filterRegex` specifies ACLs with names matching the given regex\n",
    "\n",
    "If `nodeRegex` and `filterRegex` are left blank, Test Filters will give results for every ACL in the network.\n",
    "\n",
    "In this case we ask the question for *all* ACLs, and filter the ouput to focus on lines that match and result in the `DENY` action.\n"
   ]
  },
  {
   "cell_type": "code",
   "execution_count": 5,
   "metadata": {},
   "outputs": [
    {
     "data": {
      "text/html": [
       "<div>\n",
       "<style scoped>\n",
       "    .dataframe tbody tr th:only-of-type {\n",
       "        vertical-align: middle;\n",
       "    }\n",
       "\n",
       "    .dataframe tbody tr th {\n",
       "        vertical-align: top;\n",
       "    }\n",
       "\n",
       "    .dataframe thead th {\n",
       "        text-align: right;\n",
       "    }\n",
       "</style>\n",
       "<table border=\"1\" class=\"dataframe\">\n",
       "  <thead>\n",
       "    <tr style=\"text-align: right;\">\n",
       "      <th></th>\n",
       "      <th>node</th>\n",
       "      <th>filterName</th>\n",
       "      <th>flow</th>\n",
       "      <th>action</th>\n",
       "      <th>lineNumber</th>\n",
       "      <th>lineContent</th>\n",
       "      <th>trace</th>\n",
       "    </tr>\n",
       "  </thead>\n",
       "  <tbody>\n",
       "    <tr>\n",
       "      <th>0</th>\n",
       "      <td>host2</td>\n",
       "      <td>filter::INPUT</td>\n",
       "      <td>host2-&gt;[3.10.1.1:0-&gt;2.128.1.101:80 proto: IP dscp:0 ecn:0 fragOff:0 length:0 state:NEW flags: n/a</td>\n",
       "      <td>DENY</td>\n",
       "      <td>1.0</td>\n",
       "      <td>default</td>\n",
       "      <td>Flow denied by ACL named 'filter::INPUT', index 1: default</td>\n",
       "    </tr>\n",
       "    <tr>\n",
       "      <th>10</th>\n",
       "      <td>host1</td>\n",
       "      <td>filter::INPUT</td>\n",
       "      <td>host1-&gt;[3.10.1.1:0-&gt;2.128.1.101:80 proto: IP dscp:0 ecn:0 fragOff:0 length:0 state:NEW flags: n/a</td>\n",
       "      <td>DENY</td>\n",
       "      <td>2.0</td>\n",
       "      <td>default</td>\n",
       "      <td>Flow denied by ACL named 'filter::INPUT', index 2: default</td>\n",
       "    </tr>\n",
       "    <tr>\n",
       "      <th>13</th>\n",
       "      <td>as2border1</td>\n",
       "      <td>INSIDE_TO_AS1</td>\n",
       "      <td>as2border1-&gt;[3.10.1.1:0-&gt;2.128.1.101:80 proto: IP dscp:0 ecn:0 fragOff:0 length:0 state:NEW flags: n/a</td>\n",
       "      <td>DENY</td>\n",
       "      <td>2.0</td>\n",
       "      <td>deny   ip any any</td>\n",
       "      <td>Flow denied by 'extended ipv4 access-list' named 'INSIDE_TO_AS1', index 2: deny   ip any any</td>\n",
       "    </tr>\n",
       "    <tr>\n",
       "      <th>18</th>\n",
       "      <td>as2border1</td>\n",
       "      <td>OUTSIDE_TO_INSIDE</td>\n",
       "      <td>as2border1-&gt;[3.10.1.1:0-&gt;2.128.1.101:80 proto: IP dscp:0 ecn:0 fragOff:0 length:0 state:NEW flags: n/a</td>\n",
       "      <td>DENY</td>\n",
       "      <td>1.0</td>\n",
       "      <td>deny   ip any host 2.128.1.101</td>\n",
       "      <td>Flow denied by 'extended ipv4 access-list' named 'OUTSIDE_TO_INSIDE', index 1: deny   ip any host 2.128.1.101</td>\n",
       "    </tr>\n",
       "    <tr>\n",
       "      <th>21</th>\n",
       "      <td>as2dept1</td>\n",
       "      <td>RESTRICT_HOST_TRAFFIC_IN</td>\n",
       "      <td>as2dept1-&gt;[3.10.1.1:0-&gt;2.128.1.101:80 proto: IP dscp:0 ecn:0 fragOff:0 length:0 state:NEW flags: n/a</td>\n",
       "      <td>DENY</td>\n",
       "      <td>1.0</td>\n",
       "      <td>deny   ip any any</td>\n",
       "      <td>Flow denied by 'extended ipv4 access-list' named 'RESTRICT_HOST_TRAFFIC_IN', index 1: deny   ip any any</td>\n",
       "    </tr>\n",
       "    <tr>\n",
       "      <th>23</th>\n",
       "      <td>as2border2</td>\n",
       "      <td>INSIDE_TO_AS3</td>\n",
       "      <td>as2border2-&gt;[3.10.1.1:0-&gt;2.128.1.101:80 proto: IP dscp:0 ecn:0 fragOff:0 length:0 state:NEW flags: n/a</td>\n",
       "      <td>DENY</td>\n",
       "      <td>2.0</td>\n",
       "      <td>deny   ip any any</td>\n",
       "      <td>Flow denied by 'extended ipv4 access-list' named 'INSIDE_TO_AS3', index 2: deny   ip any any</td>\n",
       "    </tr>\n",
       "  </tbody>\n",
       "</table>\n",
       "</div>"
      ],
      "text/plain": [
       "          node                filterName  \\\n",
       "0        host2             filter::INPUT   \n",
       "10       host1             filter::INPUT   \n",
       "13  as2border1             INSIDE_TO_AS1   \n",
       "18  as2border1         OUTSIDE_TO_INSIDE   \n",
       "21    as2dept1  RESTRICT_HOST_TRAFFIC_IN   \n",
       "23  as2border2             INSIDE_TO_AS3   \n",
       "\n",
       "                                                                                                      flow  \\\n",
       "0        host2->[3.10.1.1:0->2.128.1.101:80 proto: IP dscp:0 ecn:0 fragOff:0 length:0 state:NEW flags: n/a   \n",
       "10       host1->[3.10.1.1:0->2.128.1.101:80 proto: IP dscp:0 ecn:0 fragOff:0 length:0 state:NEW flags: n/a   \n",
       "13  as2border1->[3.10.1.1:0->2.128.1.101:80 proto: IP dscp:0 ecn:0 fragOff:0 length:0 state:NEW flags: n/a   \n",
       "18  as2border1->[3.10.1.1:0->2.128.1.101:80 proto: IP dscp:0 ecn:0 fragOff:0 length:0 state:NEW flags: n/a   \n",
       "21    as2dept1->[3.10.1.1:0->2.128.1.101:80 proto: IP dscp:0 ecn:0 fragOff:0 length:0 state:NEW flags: n/a   \n",
       "23  as2border2->[3.10.1.1:0->2.128.1.101:80 proto: IP dscp:0 ecn:0 fragOff:0 length:0 state:NEW flags: n/a   \n",
       "\n",
       "   action  lineNumber                     lineContent  \\\n",
       "0    DENY         1.0                         default   \n",
       "10   DENY         2.0                         default   \n",
       "13   DENY         2.0               deny   ip any any   \n",
       "18   DENY         1.0  deny   ip any host 2.128.1.101   \n",
       "21   DENY         1.0               deny   ip any any   \n",
       "23   DENY         2.0               deny   ip any any   \n",
       "\n",
       "                                                                                                            trace  \n",
       "0                                                      Flow denied by ACL named 'filter::INPUT', index 1: default  \n",
       "10                                                     Flow denied by ACL named 'filter::INPUT', index 2: default  \n",
       "13                   Flow denied by 'extended ipv4 access-list' named 'INSIDE_TO_AS1', index 2: deny   ip any any  \n",
       "18  Flow denied by 'extended ipv4 access-list' named 'OUTSIDE_TO_INSIDE', index 1: deny   ip any host 2.128.1.101  \n",
       "21        Flow denied by 'extended ipv4 access-list' named 'RESTRICT_HOST_TRAFFIC_IN', index 1: deny   ip any any  \n",
       "23                   Flow denied by 'extended ipv4 access-list' named 'INSIDE_TO_AS3', index 2: deny   ip any any  "
      ]
     },
     "execution_count": 5,
     "metadata": {},
     "output_type": "execute_result"
    }
   ],
   "source": [
    "fr = bfq.testfilters(dst='2.128.1.101', srcIp='3.10.1.1', dstPort=80).answer().frame()\n",
    "# Filter the output\n",
    "fr[(fr.action == 'DENY') & (fr.lineContent != 'no-match')]"
   ]
  },
  {
   "cell_type": "markdown",
   "metadata": {},
   "source": [
    "As we can see, there are multiple ACLs that can drop our flow. Lets work from the destination outward and focus on `filter::INPUT` on `host2` for our initial analysis.\n",
    "We know it matches our conditions because the flow was `DENIED_IN` and the filter is applied on `INPUT`.\n",
    "\n",
    "## Exploration with reachfilter\n",
    "Let's see if there is **anything** that filter permits, with the help of `reachfilter` question.\n",
    "`reachfilter` allows you to explore full space of flows affected by an ACL and return a representative flow that matches some action/query (e.g., `permit`, `deny` or `matchLine X`). [See full documentation for details](https://pybatfish.readthedocs.io/en/latest/questions.html#pybatfish.question.bfq.reachfilter)\n",
    "\n",
    "We constrain the set of nodes and ACL to analyze using `nodeSpecifierInput='host2'` and `filterRegex='filter::INPUT'`, thus scoping the query to only one filter.\n",
    "Similarly to other questions, we specify source/destination IPs and the type of query we care about (in this case, `'permit'`)."
   ]
  },
  {
   "cell_type": "code",
   "execution_count": 6,
   "metadata": {
    "scrolled": true
   },
   "outputs": [
    {
     "data": {
      "text/html": [
       "<div>\n",
       "<style scoped>\n",
       "    .dataframe tbody tr th:only-of-type {\n",
       "        vertical-align: middle;\n",
       "    }\n",
       "\n",
       "    .dataframe tbody tr th {\n",
       "        vertical-align: top;\n",
       "    }\n",
       "\n",
       "    .dataframe thead th {\n",
       "        text-align: right;\n",
       "    }\n",
       "</style>\n",
       "<table border=\"1\" class=\"dataframe\">\n",
       "  <thead>\n",
       "    <tr style=\"text-align: right;\">\n",
       "      <th></th>\n",
       "      <th>node</th>\n",
       "      <th>filterName</th>\n",
       "      <th>flow</th>\n",
       "      <th>action</th>\n",
       "      <th>lineNumber</th>\n",
       "      <th>lineContent</th>\n",
       "      <th>trace</th>\n",
       "    </tr>\n",
       "  </thead>\n",
       "  <tbody>\n",
       "    <tr>\n",
       "      <th>0</th>\n",
       "      <td>host2</td>\n",
       "      <td>filter::INPUT</td>\n",
       "      <td>host2-&gt;[3.10.1.1:0-&gt;2.128.0.101:22 proto: TCP dscp:0 ecn:0 fragOff:0 length:0 state:NEW flags: n/a</td>\n",
       "      <td>PERMIT</td>\n",
       "      <td>0</td>\n",
       "      <td>-p tcp --dport 22 -j ACCEPT</td>\n",
       "      <td>Flow permitted by ACL named 'filter::INPUT', index 0: -p tcp --dport 22 -j ACCEPT</td>\n",
       "    </tr>\n",
       "  </tbody>\n",
       "</table>\n",
       "</div>"
      ],
      "text/plain": [
       "    node     filterName  \\\n",
       "0  host2  filter::INPUT   \n",
       "\n",
       "                                                                                                 flow  \\\n",
       "0  host2->[3.10.1.1:0->2.128.0.101:22 proto: TCP dscp:0 ecn:0 fragOff:0 length:0 state:NEW flags: n/a   \n",
       "\n",
       "   action  lineNumber                  lineContent  \\\n",
       "0  PERMIT           0  -p tcp --dport 22 -j ACCEPT   \n",
       "\n",
       "                                                                               trace  \n",
       "0  Flow permitted by ACL named 'filter::INPUT', index 0: -p tcp --dport 22 -j ACCEPT  "
      ]
     },
     "execution_count": 6,
     "metadata": {},
     "output_type": "execute_result"
    }
   ],
   "source": [
    "bfq.reachfilter(src='3.10.1.1', dst='2.128.0.101', query='permit', nodeSpecifierInput='host2', filterRegex='filter::INPUT').answer().frame()"
   ]
  },
  {
   "cell_type": "markdown",
   "metadata": {},
   "source": [
    "Here we see that the filter allows `SSH` connections to `host2` (port 22), and based on the syntax of the `lineContent` column, we can infer that it is an *iptables* rule. \n",
    "\n",
    "### Futher scoping\n",
    "As a curiosity exercise, let us see if `filter::INPUT` permits anything else besides SSH. For this we can can ask \"Show me what's permitted, that is **not** port 22?\" with the help of `complementHeaderSpace` parameter.\n"
   ]
  },
  {
   "cell_type": "code",
   "execution_count": 8,
   "metadata": {},
   "outputs": [
    {
     "data": {
      "text/html": [
       "<div>\n",
       "<style scoped>\n",
       "    .dataframe tbody tr th:only-of-type {\n",
       "        vertical-align: middle;\n",
       "    }\n",
       "\n",
       "    .dataframe tbody tr th {\n",
       "        vertical-align: top;\n",
       "    }\n",
       "\n",
       "    .dataframe thead th {\n",
       "        text-align: right;\n",
       "    }\n",
       "</style>\n",
       "<table border=\"1\" class=\"dataframe\">\n",
       "  <thead>\n",
       "    <tr style=\"text-align: right;\">\n",
       "      <th></th>\n",
       "      <th>node</th>\n",
       "      <th>filterName</th>\n",
       "      <th>flow</th>\n",
       "      <th>action</th>\n",
       "      <th>lineNumber</th>\n",
       "      <th>lineContent</th>\n",
       "      <th>trace</th>\n",
       "    </tr>\n",
       "  </thead>\n",
       "  <tbody>\n",
       "  </tbody>\n",
       "</table>\n",
       "</div>"
      ],
      "text/plain": [
       "Empty DataFrame\n",
       "Columns: [node, filterName, flow, action, lineNumber, lineContent, trace]\n",
       "Index: []"
      ]
     },
     "execution_count": 8,
     "metadata": {},
     "output_type": "execute_result"
    }
   ],
   "source": [
    "bfq.reachfilter(dstPorts=[22], complementHeaderSpace=True, query='permit', nodeSpecifierInput='host2', filterRegex='filter::INPUT').answer().frame()"
   ]
  },
  {
   "cell_type": "markdown",
   "metadata": {},
   "source": [
    "Great, we get back an empty result, telling us that only SSH is permitted to `host2`. That means we will need to punch a hole in the iptables rules on for HTTP traffic.\n",
    "\n",
    "To sum up:\n",
    "- We performed a virtual traceroute for an HTTP flow, finding it to be blocked\n",
    "- We investigated which ACL/filters can drop that flow\n",
    "- We concluded that a necessary change is to change iptables rules on host2 to allow HTTP traffic"
   ]
  },
  {
   "cell_type": "markdown",
   "metadata": {},
   "source": [
    "## Get involved with the Batfish community\n",
    "\n",
    "Thanks for checking out our ACL debugging examples! To get involved and learn more, check out the community on [Slack](https://join.slack.com/t/batfish-org/shared_invite/enQtMzA0Nzg2OTAzNzQ1LTUxOTJlY2YyNTVlNGQ3MTJkOTIwZTU2YjY3YzRjZWFiYzE4ODE5ODZiNjA4NGI5NTJhZmU2ZTllOTMwZDhjMzA) and [Github](https://github.com/batfish/batfish). We would love to talk with you about Batfish or your network!"
   ]
  }
 ],
 "metadata": {
  "hide_input": false,
  "kernelspec": {
   "display_name": "Python 3",
   "language": "python",
   "name": "python3"
  },
  "language_info": {
   "codemirror_mode": {
    "name": "ipython",
    "version": 3
   },
   "file_extension": ".py",
   "mimetype": "text/x-python",
   "name": "python",
   "nbconvert_exporter": "python",
   "pygments_lexer": "ipython3",
   "version": "3.6.3"
  },
  "varInspector": {
   "cols": {
    "lenName": 16,
    "lenType": 16,
    "lenVar": 40
   },
   "kernels_config": {
    "python": {
     "delete_cmd_postfix": "",
     "delete_cmd_prefix": "del ",
     "library": "var_list.py",
     "varRefreshCmd": "print(var_dic_list())"
    },
    "r": {
     "delete_cmd_postfix": ") ",
     "delete_cmd_prefix": "rm(",
     "library": "var_list.r",
     "varRefreshCmd": "cat(var_dic_list()) "
    }
   },
   "types_to_exclude": [
    "module",
    "function",
    "builtin_function_or_method",
    "instance",
    "_Feature"
   ],
   "window_display": false
  }
 },
 "nbformat": 4,
 "nbformat_minor": 2
}
