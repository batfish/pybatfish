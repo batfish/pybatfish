{
 "cells": [
  {
   "cell_type": "markdown",
   "metadata": {},
   "source": [
    "### Testing and Validation of a Network with Batfish"
   ]
  },
  {
   "cell_type": "markdown",
   "metadata": {},
   "source": [
    "Network engineers routinely need to verify configuration parameters of various devices. In a multi-vendor network this is very hard to do, even with automation tools. However, with Batfish and the vendor-independent models that it produces, this task is extremely simple.\n",
    "\n",
    "In this notebook, we will look at configuration validation scenarios that can be implemented with Batfish. More specifically, we will examine how the configuration of NTP servers can be validated. The same validation scenarios can be performed for other configuration properties of nodes (dns-servers, tacacs-servers, snmp-community, VRFs, etc.), for properties of interfaces (mtu, bandwidth, input-access-list, output-access-list, state, etc.), VRFs, BGP sessions, and more."
   ]
  },
  {
   "cell_type": "code",
   "execution_count": 1,
   "metadata": {},
   "outputs": [],
   "source": [
    "# Importing packages and loading questions\n",
    "%run startup.py"
   ]
  },
  {
   "cell_type": "markdown",
   "metadata": {},
   "source": [
    "### Initializing our Network and Snapshot"
   ]
  },
  {
   "cell_type": "code",
   "execution_count": 2,
   "metadata": {
    "scrolled": false
   },
   "outputs": [
    {
     "data": {
      "text/plain": [
       "'{\\n  \"answerElements\" : [\\n    {\\n      \"class\" : \"org.batfish.datamodel.answers.InitInfoAnswerElement\",\\n      \"parseStatus\" : {\\n        \"as1border1\" : \"PASSED\",\\n        \"as1border2\" : \"PASSED\",\\n        \"as1core1\" : \"PASSED\",\\n        \"as2border1\" : \"PASSED\",\\n        \"as2border2\" : \"PASSED\",\\n        \"as2core1\" : \"PASSED\",\\n        \"as2core2\" : \"PASSED\",\\n        \"as2dept1\" : \"PASSED\",\\n        \"as2dist1\" : \"PASSED\",\\n        \"as2dist2\" : \"PASSED\",\\n        \"as3border1\" : \"PASSED\",\\n        \"as3border2\" : \"PASSED\",\\n        \"as3core1\" : \"PASSED\",\\n        \"host1\" : \"PASSED\",\\n        \"host2\" : \"PASSED\",\\n        \"iptables/host1.iptables\" : \"PASSED\",\\n        \"iptables/host2.iptables\" : \"PASSED\"\\n      }\\n    }\\n  ],\\n  \"status\" : \"SUCCESS\",\\n  \"summary\" : {\\n    \"numFailed\" : 0,\\n    \"numPassed\" : 0,\\n    \"numResults\" : 0\\n  }\\n}\\n'"
      ]
     },
     "execution_count": 2,
     "metadata": {},
     "output_type": "execute_result"
    }
   ],
   "source": [
    "NETWORK_NAME = \"example_network\"\n",
    "SNAPSHOT_NAME = \"example_snapshot\"\n",
    "SNAPSHOT_PATH = \"../test_rigs/example\"\n",
    "\n",
    "bf_set_network(NETWORK_NAME)\n",
    "bf_init_snapshot(SNAPSHOT_PATH, name=SNAPSHOT_NAME, overwrite=True)"
   ]
  },
  {
   "cell_type": "markdown",
   "metadata": {},
   "source": [
    "The network snapshot that we initialized above is illustrated below. You can download/view devices' configuration files [here](https://github.com/batfish/batfish/tree/master/test_rigs/example).\n",
    "\n",
    "![example-network](https://raw.githubusercontent.com/batfish/batfish/master/test_rigs/example/example-network.png)"
   ]
  },
  {
   "cell_type": "markdown",
   "metadata": {},
   "source": [
    "### Validating _NTP Servers_ Configuration\n",
    "Given a reference set of valid _NTP Servers_, there are many possible validation scenarios for the configuration of _NTP servers_:\n",
    "* Every node has at least one _NTP server_ configured.\n",
    "* Every node has at least one _NTP server_ configured from the reference set.\n",
    "* Every node has the reference set of _NTP servers_ configured.\n",
    "* Every node has its specific reference set of _NTP servers_ stored in a database, JSON file or YAML file. We can extract this into a Python dictionary and use that for validation."
   ]
  },
  {
   "cell_type": "code",
   "execution_count": 3,
   "metadata": {},
   "outputs": [],
   "source": [
    "ref_ntp_servers = set(['23.23.23.23'])"
   ]
  },
  {
   "cell_type": "markdown",
   "metadata": {},
   "source": [
    "In this example, we will use a reference NTP server set of [23.23.23.23]. Further, we will focus the validation on the **border** routers.<br>(We will be using [Pandas APIs](https://pandas.pydata.org/pandas-docs/stable/) with `Pybatfish` for viewing results and for doing validations.)\n",
    "\n",
    "**First, let's retrieve the configured NTP servers for all border routers.**"
   ]
  },
  {
   "cell_type": "code",
   "execution_count": 4,
   "metadata": {},
   "outputs": [],
   "source": [
    "# Setting the property column name that we want to extract from the nodes\n",
    "COL_NAME = \"ntp-servers\""
   ]
  },
  {
   "cell_type": "code",
   "execution_count": 5,
   "metadata": {},
   "outputs": [
    {
     "data": {
      "text/html": [
       "<div>\n",
       "<style scoped>\n",
       "    .dataframe tbody tr th:only-of-type {\n",
       "        vertical-align: middle;\n",
       "    }\n",
       "\n",
       "    .dataframe tbody tr th {\n",
       "        vertical-align: top;\n",
       "    }\n",
       "\n",
       "    .dataframe thead th {\n",
       "        text-align: right;\n",
       "    }\n",
       "</style>\n",
       "<table border=\"1\" class=\"dataframe\">\n",
       "  <thead>\n",
       "    <tr style=\"text-align: right;\">\n",
       "      <th></th>\n",
       "      <th>node</th>\n",
       "      <th>ntp-servers</th>\n",
       "    </tr>\n",
       "  </thead>\n",
       "  <tbody>\n",
       "    <tr>\n",
       "      <th>0</th>\n",
       "      <td>as1border1</td>\n",
       "      <td>[]</td>\n",
       "    </tr>\n",
       "    <tr>\n",
       "      <th>1</th>\n",
       "      <td>as1border2</td>\n",
       "      <td>[18.18.18.18, 23.23.23.23]</td>\n",
       "    </tr>\n",
       "    <tr>\n",
       "      <th>2</th>\n",
       "      <td>as2border1</td>\n",
       "      <td>[18.18.18.18, 23.23.23.23]</td>\n",
       "    </tr>\n",
       "    <tr>\n",
       "      <th>3</th>\n",
       "      <td>as2border2</td>\n",
       "      <td>[18.18.18.18]</td>\n",
       "    </tr>\n",
       "    <tr>\n",
       "      <th>4</th>\n",
       "      <td>as3border1</td>\n",
       "      <td>[18.18.18.18, 23.23.23.23]</td>\n",
       "    </tr>\n",
       "    <tr>\n",
       "      <th>5</th>\n",
       "      <td>as3border2</td>\n",
       "      <td>[18.18.18.18, 23.23.23.23]</td>\n",
       "    </tr>\n",
       "  </tbody>\n",
       "</table>\n",
       "</div>"
      ],
      "text/plain": [
       "         node                 ntp-servers\n",
       "0  as1border1                          []\n",
       "1  as1border2  [18.18.18.18, 23.23.23.23]\n",
       "2  as2border1  [18.18.18.18, 23.23.23.23]\n",
       "3  as2border2               [18.18.18.18]\n",
       "4  as3border1  [18.18.18.18, 23.23.23.23]\n",
       "5  as3border2  [18.18.18.18, 23.23.23.23]"
      ]
     },
     "execution_count": 5,
     "metadata": {},
     "output_type": "execute_result"
    }
   ],
   "source": [
    "node_props = bfq.nodeProperties(nodeRegex=\".*border.*\", propertySpec=COL_NAME).answer().frame()\n",
    "node_props"
   ]
  },
  {
   "cell_type": "markdown",
   "metadata": {},
   "source": [
    "#### Every node has at least one _NTP server_ configured\n",
    "Now that we have the list of servers, let's check the scenario where every node has at least one NTP server configured. This is accomplished by finding nodes where the list of configured NTP servers is empty."
   ]
  },
  {
   "cell_type": "code",
   "execution_count": 6,
   "metadata": {},
   "outputs": [
    {
     "data": {
      "text/html": [
       "<div>\n",
       "<style scoped>\n",
       "    .dataframe tbody tr th:only-of-type {\n",
       "        vertical-align: middle;\n",
       "    }\n",
       "\n",
       "    .dataframe tbody tr th {\n",
       "        vertical-align: top;\n",
       "    }\n",
       "\n",
       "    .dataframe thead th {\n",
       "        text-align: right;\n",
       "    }\n",
       "</style>\n",
       "<table border=\"1\" class=\"dataframe\">\n",
       "  <thead>\n",
       "    <tr style=\"text-align: right;\">\n",
       "      <th></th>\n",
       "      <th>node</th>\n",
       "      <th>ntp-servers</th>\n",
       "    </tr>\n",
       "  </thead>\n",
       "  <tbody>\n",
       "    <tr>\n",
       "      <th>0</th>\n",
       "      <td>as1border1</td>\n",
       "      <td>[]</td>\n",
       "    </tr>\n",
       "  </tbody>\n",
       "</table>\n",
       "</div>"
      ],
      "text/plain": [
       "         node ntp-servers\n",
       "0  as1border1          []"
      ]
     },
     "execution_count": 6,
     "metadata": {},
     "output_type": "execute_result"
    }
   ],
   "source": [
    "# Violators\n",
    "ns_violators = node_props[node_props[COL_NAME].apply(lambda x: len(x) == 0)]\n",
    "ns_violators"
   ]
  },
  {
   "cell_type": "markdown",
   "metadata": {},
   "source": [
    "(If you want to know more about the **lambda** keyword, see [lambda expressions](https://docs.python.org/3/reference/expressions.html#lambda).)"
   ]
  },
  {
   "cell_type": "markdown",
   "metadata": {},
   "source": [
    "#### Every node has at least one _NTP server_ configured from the reference set\n",
    "_NTP servers_ on all nodes should contain at least one _NTP server_ from our reference. This is a more lenient version of the previous check which verifies that every node has at least one _NTP server_ from our reference set.\n",
    "\n",
    "To get a table of violators, we can use the following command.<br>If a node does not have even one common _NTP server_ with our reference set, we will count it as a violator."
   ]
  },
  {
   "cell_type": "code",
   "execution_count": 7,
   "metadata": {},
   "outputs": [
    {
     "data": {
      "text/html": [
       "<div>\n",
       "<style scoped>\n",
       "    .dataframe tbody tr th:only-of-type {\n",
       "        vertical-align: middle;\n",
       "    }\n",
       "\n",
       "    .dataframe tbody tr th {\n",
       "        vertical-align: top;\n",
       "    }\n",
       "\n",
       "    .dataframe thead th {\n",
       "        text-align: right;\n",
       "    }\n",
       "</style>\n",
       "<table border=\"1\" class=\"dataframe\">\n",
       "  <thead>\n",
       "    <tr style=\"text-align: right;\">\n",
       "      <th></th>\n",
       "      <th>node</th>\n",
       "      <th>ntp-servers</th>\n",
       "    </tr>\n",
       "  </thead>\n",
       "  <tbody>\n",
       "    <tr>\n",
       "      <th>0</th>\n",
       "      <td>as1border1</td>\n",
       "      <td>[]</td>\n",
       "    </tr>\n",
       "    <tr>\n",
       "      <th>3</th>\n",
       "      <td>as2border2</td>\n",
       "      <td>[18.18.18.18]</td>\n",
       "    </tr>\n",
       "  </tbody>\n",
       "</table>\n",
       "</div>"
      ],
      "text/plain": [
       "         node    ntp-servers\n",
       "0  as1border1             []\n",
       "3  as2border2  [18.18.18.18]"
      ]
     },
     "execution_count": 7,
     "metadata": {},
     "output_type": "execute_result"
    }
   ],
   "source": [
    "# Violators (Nodes which do not contain even a single NTP server from our reference set)\n",
    "ns_violators = node_props[node_props[COL_NAME].apply(lambda x: len(ref_ntp_servers.intersection(set(x))) == 0)]\n",
    "ns_violators"
   ]
  },
  {
   "cell_type": "markdown",
   "metadata": {},
   "source": [
    "So `as1border1` contains an empty set of NTP servers which clearly violates our assertion in this case."
   ]
  },
  {
   "cell_type": "markdown",
   "metadata": {},
   "source": [
    "#### Every node has the reference set of _NTP servers_ configured.\n",
    "A common use case for validating _NTP servers_ generally involves checking that the set of _NTP servers_ on all relevant nodes is equal to a given set. Doing this using `Pybatfish`/`pandas` is pretty straightforward.\n",
    "\n",
    "An example command for getting a table of violators would look like:"
   ]
  },
  {
   "cell_type": "code",
   "execution_count": 8,
   "metadata": {},
   "outputs": [
    {
     "data": {
      "text/html": [
       "<div>\n",
       "<style scoped>\n",
       "    .dataframe tbody tr th:only-of-type {\n",
       "        vertical-align: middle;\n",
       "    }\n",
       "\n",
       "    .dataframe tbody tr th {\n",
       "        vertical-align: top;\n",
       "    }\n",
       "\n",
       "    .dataframe thead th {\n",
       "        text-align: right;\n",
       "    }\n",
       "</style>\n",
       "<table border=\"1\" class=\"dataframe\">\n",
       "  <thead>\n",
       "    <tr style=\"text-align: right;\">\n",
       "      <th></th>\n",
       "      <th>node</th>\n",
       "      <th>ntp-servers</th>\n",
       "    </tr>\n",
       "  </thead>\n",
       "  <tbody>\n",
       "    <tr>\n",
       "      <th>0</th>\n",
       "      <td>as1border1</td>\n",
       "      <td>[]</td>\n",
       "    </tr>\n",
       "    <tr>\n",
       "      <th>1</th>\n",
       "      <td>as1border2</td>\n",
       "      <td>[18.18.18.18, 23.23.23.23]</td>\n",
       "    </tr>\n",
       "    <tr>\n",
       "      <th>2</th>\n",
       "      <td>as2border1</td>\n",
       "      <td>[18.18.18.18, 23.23.23.23]</td>\n",
       "    </tr>\n",
       "    <tr>\n",
       "      <th>3</th>\n",
       "      <td>as2border2</td>\n",
       "      <td>[18.18.18.18]</td>\n",
       "    </tr>\n",
       "    <tr>\n",
       "      <th>4</th>\n",
       "      <td>as3border1</td>\n",
       "      <td>[18.18.18.18, 23.23.23.23]</td>\n",
       "    </tr>\n",
       "    <tr>\n",
       "      <th>5</th>\n",
       "      <td>as3border2</td>\n",
       "      <td>[18.18.18.18, 23.23.23.23]</td>\n",
       "    </tr>\n",
       "  </tbody>\n",
       "</table>\n",
       "</div>"
      ],
      "text/plain": [
       "         node                 ntp-servers\n",
       "0  as1border1                          []\n",
       "1  as1border2  [18.18.18.18, 23.23.23.23]\n",
       "2  as2border1  [18.18.18.18, 23.23.23.23]\n",
       "3  as2border2               [18.18.18.18]\n",
       "4  as3border1  [18.18.18.18, 23.23.23.23]\n",
       "5  as3border2  [18.18.18.18, 23.23.23.23]"
      ]
     },
     "execution_count": 8,
     "metadata": {},
     "output_type": "execute_result"
    }
   ],
   "source": [
    "# Violators (Nodes whose set of NTP servers is not equal to our reference set)\n",
    "ns_violators = node_props[node_props[COL_NAME].apply(lambda x: ref_ntp_servers != set(x))]\n",
    "ns_violators"
   ]
  },
  {
   "cell_type": "markdown",
   "metadata": {},
   "source": [
    "As we can see, all border nodes violate this condition."
   ]
  },
  {
   "cell_type": "markdown",
   "metadata": {},
   "source": [
    "To look at which nodes actually have different _NTP servers_ compared to our reference set, we can find the extra _NTP Servers_ and missing _NTP Servers_ for each node. Commands to do that would look like below:"
   ]
  },
  {
   "cell_type": "code",
   "execution_count": 9,
   "metadata": {},
   "outputs": [
    {
     "data": {
      "text/html": [
       "<div>\n",
       "<style scoped>\n",
       "    .dataframe tbody tr th:only-of-type {\n",
       "        vertical-align: middle;\n",
       "    }\n",
       "\n",
       "    .dataframe tbody tr th {\n",
       "        vertical-align: top;\n",
       "    }\n",
       "\n",
       "    .dataframe thead th {\n",
       "        text-align: right;\n",
       "    }\n",
       "</style>\n",
       "<table border=\"1\" class=\"dataframe\">\n",
       "  <thead>\n",
       "    <tr style=\"text-align: right;\">\n",
       "      <th></th>\n",
       "      <th>node</th>\n",
       "      <th>extra-ntp-servers</th>\n",
       "      <th>missing-ntp-servers</th>\n",
       "    </tr>\n",
       "  </thead>\n",
       "  <tbody>\n",
       "    <tr>\n",
       "      <th>0</th>\n",
       "      <td>as1border1</td>\n",
       "      <td>{}</td>\n",
       "      <td>{23.23.23.23}</td>\n",
       "    </tr>\n",
       "    <tr>\n",
       "      <th>1</th>\n",
       "      <td>as1border2</td>\n",
       "      <td>{18.18.18.18}</td>\n",
       "      <td>{}</td>\n",
       "    </tr>\n",
       "    <tr>\n",
       "      <th>2</th>\n",
       "      <td>as2border1</td>\n",
       "      <td>{18.18.18.18}</td>\n",
       "      <td>{}</td>\n",
       "    </tr>\n",
       "    <tr>\n",
       "      <th>3</th>\n",
       "      <td>as2border2</td>\n",
       "      <td>{18.18.18.18}</td>\n",
       "      <td>{23.23.23.23}</td>\n",
       "    </tr>\n",
       "    <tr>\n",
       "      <th>4</th>\n",
       "      <td>as3border1</td>\n",
       "      <td>{18.18.18.18}</td>\n",
       "      <td>{}</td>\n",
       "    </tr>\n",
       "    <tr>\n",
       "      <th>5</th>\n",
       "      <td>as3border2</td>\n",
       "      <td>{18.18.18.18}</td>\n",
       "      <td>{}</td>\n",
       "    </tr>\n",
       "  </tbody>\n",
       "</table>\n",
       "</div>"
      ],
      "text/plain": [
       "         node extra-ntp-servers missing-ntp-servers\n",
       "0  as1border1                {}       {23.23.23.23}\n",
       "1  as1border2     {18.18.18.18}                  {}\n",
       "2  as2border1     {18.18.18.18}                  {}\n",
       "3  as2border2     {18.18.18.18}       {23.23.23.23}\n",
       "4  as3border1     {18.18.18.18}                  {}\n",
       "5  as3border2     {18.18.18.18}                  {}"
      ]
     },
     "execution_count": 9,
     "metadata": {},
     "output_type": "execute_result"
    }
   ],
   "source": [
    "ns_extra = node_props[COL_NAME].map(lambda x: set(x) - ref_ntp_servers)\n",
    "ns_missing = node_props[COL_NAME].map(lambda x: ref_ntp_servers - set(x))\n",
    "# Let's join these columns up with the node columns for a better view\n",
    "diff_df = pd.DataFrame({'node': node_props[\"node\"], 'extra-{}'.format(COL_NAME): ns_extra,\n",
    "                        'missing-{}'.format(COL_NAME): ns_missing})\n",
    "diff_df"
   ]
  },
  {
   "cell_type": "markdown",
   "metadata": {},
   "source": [
    "#### Every node has its specific reference set of _NTP servers_ stored in a database\n",
    "Every node should match its reference set of _NTP Servers_ which may be stored in a database or somewhere else. This sort of check enables easy validation of configurations which may be non-uniform across nodes, where each node could have a unique set of _NTP servers_ defined.\n",
    "\n",
    "We will assume data from the database is fetched in the following format, where node names are dictionary keys and specific properties are defined in a property-keyed dictionary per node:\n"
   ]
  },
  {
   "cell_type": "code",
   "execution_count": 10,
   "metadata": {},
   "outputs": [],
   "source": [
    "# Mock reference-node-data, presumably taken from some database\n",
    "database = {'as1border1': {'ntp-servers': ['23.23.23.23'], 'dns-servers': ['1.1.1.1']},\n",
    "            'as1border2': {'ntp-servers': ['23.23.23.23'], 'dns-servers': ['1.1.1.1']},\n",
    "            'as2border1': {'ntp-servers': ['18.18.18.18', '23.23.23.23'], 'dns-servers': ['2.2.2.2']},\n",
    "            'as2border2': {'ntp-servers': ['18.18.18.18'], 'dns-servers': ['1.1.1.1']},\n",
    "            'as3border1': {'ntp-servers': ['18.18.18.18', '23.23.23.23'], 'dns-servers': ['2.2.2.2']},\n",
    "            'as3border2': {'ntp-servers': ['18.18.18.18', '23.23.23.23'], 'dns-servers': ['2.2.2.2']},\n",
    "            }"
   ]
  },
  {
   "cell_type": "markdown",
   "metadata": {},
   "source": [
    "Note that there is an extra property in this dictionary that we don't care about comparing right now: `dns-server` (we will just filter this out below, before comparing the dataframe from `Batfish` to the one we are generating from the database).\n",
    "\n",
    "After a little tweaking, the database and `Batfish` dataframes can be compared to generate two sets of servers: missing (defined in the database but not in the configurations) and extra (defined in the configurations but not in the database)."
   ]
  },
  {
   "cell_type": "code",
   "execution_count": 11,
   "metadata": {},
   "outputs": [
    {
     "data": {
      "text/html": [
       "<div>\n",
       "<style scoped>\n",
       "    .dataframe tbody tr th:only-of-type {\n",
       "        vertical-align: middle;\n",
       "    }\n",
       "\n",
       "    .dataframe tbody tr th {\n",
       "        vertical-align: top;\n",
       "    }\n",
       "\n",
       "    .dataframe thead th {\n",
       "        text-align: right;\n",
       "    }\n",
       "</style>\n",
       "<table border=\"1\" class=\"dataframe\">\n",
       "  <thead>\n",
       "    <tr style=\"text-align: right;\">\n",
       "      <th></th>\n",
       "      <th>missing-ntp-servers</th>\n",
       "      <th>extra-ntp-servers</th>\n",
       "    </tr>\n",
       "  </thead>\n",
       "  <tbody>\n",
       "    <tr>\n",
       "      <th>as1border1</th>\n",
       "      <td>{23.23.23.23}</td>\n",
       "      <td>{}</td>\n",
       "    </tr>\n",
       "    <tr>\n",
       "      <th>as1border2</th>\n",
       "      <td>{}</td>\n",
       "      <td>{18.18.18.18}</td>\n",
       "    </tr>\n",
       "    <tr>\n",
       "      <th>as2border1</th>\n",
       "      <td>{}</td>\n",
       "      <td>{}</td>\n",
       "    </tr>\n",
       "    <tr>\n",
       "      <th>as2border2</th>\n",
       "      <td>{}</td>\n",
       "      <td>{}</td>\n",
       "    </tr>\n",
       "    <tr>\n",
       "      <th>as3border1</th>\n",
       "      <td>{}</td>\n",
       "      <td>{}</td>\n",
       "    </tr>\n",
       "    <tr>\n",
       "      <th>as3border2</th>\n",
       "      <td>{}</td>\n",
       "      <td>{}</td>\n",
       "    </tr>\n",
       "  </tbody>\n",
       "</table>\n",
       "</div>"
      ],
      "text/plain": [
       "           missing-ntp-servers extra-ntp-servers\n",
       "as1border1       {23.23.23.23}                {}\n",
       "as1border2                  {}     {18.18.18.18}\n",
       "as2border1                  {}                {}\n",
       "as2border2                  {}                {}\n",
       "as3border1                  {}                {}\n",
       "as3border2                  {}                {}"
      ]
     },
     "execution_count": 11,
     "metadata": {},
     "output_type": "execute_result"
    }
   ],
   "source": [
    "# Transpose database data so each node has its own row\n",
    "database_df = pd.DataFrame(data=database).transpose()\n",
    "\n",
    "# Index on node for easier comparison\n",
    "df_node_props = node_props.set_index('node')\n",
    "\n",
    "# Select only columns present in node_props (get rid of the extra dns-servers column)\n",
    "df_db_node_props = database_df[df_node_props.columns].copy()\n",
    "\n",
    "# Convert server lists into sets to support arithmetic below\n",
    "df_node_props[COL_NAME] = df_node_props[COL_NAME].apply(set)\n",
    "df_db_node_props[COL_NAME] = df_db_node_props[COL_NAME].apply(set)\n",
    "\n",
    "# Figure out what servers are in the configs but not the database and vice versa\n",
    "missing_servers = (df_db_node_props - df_node_props).rename(columns={COL_NAME: 'missing-{}'.format(COL_NAME)})\n",
    "extra_servers = (df_node_props - df_db_node_props).rename(columns={COL_NAME: 'extra-{}'.format(COL_NAME)})\n",
    "result = pd.concat([missing_servers, extra_servers], axis=1, sort=False)\n",
    "# removing the index name for clearer output\n",
    "del result.index.name\n",
    "result"
   ]
  },
  {
   "cell_type": "markdown",
   "metadata": {},
   "source": [
    "### Continue exploring with Batfish!\n",
    "\n",
    "We showed you how to extract the database of configured _NTP servers_ for every node and how to test that the settings are correct for a variety of desired test configurations. The underlying principles can be applied to other network configurations, such as [interfaceProperties](https://github.com/batfish/batfish/blob/master/questions/experimental/interfaceProperties.json), [bgpProperties](https://github.com/batfish/batfish/blob/master/questions/experimental/bgpProperties.json), [ospfProperties](https://github.com/batfish/batfish/blob/master/questions/experimental/ospfProperties.json) etc.\n",
    "\n",
    "For example `interfaceProperties` question can be used to fetch properties like interface MTU through a simple command like:"
   ]
  },
  {
   "cell_type": "code",
   "execution_count": 12,
   "metadata": {},
   "outputs": [
    {
     "data": {
      "text/html": [
       "<div>\n",
       "<style scoped>\n",
       "    .dataframe tbody tr th:only-of-type {\n",
       "        vertical-align: middle;\n",
       "    }\n",
       "\n",
       "    .dataframe tbody tr th {\n",
       "        vertical-align: top;\n",
       "    }\n",
       "\n",
       "    .dataframe thead th {\n",
       "        text-align: right;\n",
       "    }\n",
       "</style>\n",
       "<table border=\"1\" class=\"dataframe\">\n",
       "  <thead>\n",
       "    <tr style=\"text-align: right;\">\n",
       "      <th></th>\n",
       "      <th>interface</th>\n",
       "      <th>mtu</th>\n",
       "    </tr>\n",
       "  </thead>\n",
       "  <tbody>\n",
       "    <tr>\n",
       "      <th>0</th>\n",
       "      <td>as1border1:Ethernet0/0</td>\n",
       "      <td>1500</td>\n",
       "    </tr>\n",
       "    <tr>\n",
       "      <th>1</th>\n",
       "      <td>as1border1:GigabitEthernet0/0</td>\n",
       "      <td>1500</td>\n",
       "    </tr>\n",
       "    <tr>\n",
       "      <th>2</th>\n",
       "      <td>as1border1:GigabitEthernet1/0</td>\n",
       "      <td>1500</td>\n",
       "    </tr>\n",
       "    <tr>\n",
       "      <th>3</th>\n",
       "      <td>as1border1:Loopback0</td>\n",
       "      <td>1500</td>\n",
       "    </tr>\n",
       "    <tr>\n",
       "      <th>4</th>\n",
       "      <td>as1border2:Ethernet0/0</td>\n",
       "      <td>1500</td>\n",
       "    </tr>\n",
       "    <tr>\n",
       "      <th>5</th>\n",
       "      <td>as1border2:GigabitEthernet0/0</td>\n",
       "      <td>1500</td>\n",
       "    </tr>\n",
       "    <tr>\n",
       "      <th>6</th>\n",
       "      <td>as1border2:GigabitEthernet1/0</td>\n",
       "      <td>1500</td>\n",
       "    </tr>\n",
       "    <tr>\n",
       "      <th>7</th>\n",
       "      <td>as1border2:GigabitEthernet2/0</td>\n",
       "      <td>1500</td>\n",
       "    </tr>\n",
       "    <tr>\n",
       "      <th>8</th>\n",
       "      <td>as1border2:Loopback0</td>\n",
       "      <td>1500</td>\n",
       "    </tr>\n",
       "    <tr>\n",
       "      <th>9</th>\n",
       "      <td>as2border1:Ethernet0/0</td>\n",
       "      <td>1500</td>\n",
       "    </tr>\n",
       "    <tr>\n",
       "      <th>10</th>\n",
       "      <td>as2border1:GigabitEthernet0/0</td>\n",
       "      <td>1500</td>\n",
       "    </tr>\n",
       "    <tr>\n",
       "      <th>11</th>\n",
       "      <td>as2border1:GigabitEthernet1/0</td>\n",
       "      <td>1500</td>\n",
       "    </tr>\n",
       "    <tr>\n",
       "      <th>12</th>\n",
       "      <td>as2border1:GigabitEthernet2/0</td>\n",
       "      <td>1500</td>\n",
       "    </tr>\n",
       "    <tr>\n",
       "      <th>13</th>\n",
       "      <td>as2border1:Loopback0</td>\n",
       "      <td>1500</td>\n",
       "    </tr>\n",
       "    <tr>\n",
       "      <th>14</th>\n",
       "      <td>as2border2:Ethernet0/0</td>\n",
       "      <td>1500</td>\n",
       "    </tr>\n",
       "    <tr>\n",
       "      <th>15</th>\n",
       "      <td>as2border2:GigabitEthernet0/0</td>\n",
       "      <td>1500</td>\n",
       "    </tr>\n",
       "    <tr>\n",
       "      <th>16</th>\n",
       "      <td>as2border2:GigabitEthernet1/0</td>\n",
       "      <td>1500</td>\n",
       "    </tr>\n",
       "    <tr>\n",
       "      <th>17</th>\n",
       "      <td>as2border2:GigabitEthernet2/0</td>\n",
       "      <td>1500</td>\n",
       "    </tr>\n",
       "    <tr>\n",
       "      <th>18</th>\n",
       "      <td>as2border2:Loopback0</td>\n",
       "      <td>1500</td>\n",
       "    </tr>\n",
       "    <tr>\n",
       "      <th>19</th>\n",
       "      <td>as3border1:Ethernet0/0</td>\n",
       "      <td>1500</td>\n",
       "    </tr>\n",
       "    <tr>\n",
       "      <th>20</th>\n",
       "      <td>as3border1:GigabitEthernet0/0</td>\n",
       "      <td>1500</td>\n",
       "    </tr>\n",
       "    <tr>\n",
       "      <th>21</th>\n",
       "      <td>as3border1:GigabitEthernet1/0</td>\n",
       "      <td>1500</td>\n",
       "    </tr>\n",
       "    <tr>\n",
       "      <th>22</th>\n",
       "      <td>as3border1:Loopback0</td>\n",
       "      <td>1500</td>\n",
       "    </tr>\n",
       "    <tr>\n",
       "      <th>23</th>\n",
       "      <td>as3border2:Ethernet0/0</td>\n",
       "      <td>1500</td>\n",
       "    </tr>\n",
       "    <tr>\n",
       "      <th>24</th>\n",
       "      <td>as3border2:GigabitEthernet0/0</td>\n",
       "      <td>1500</td>\n",
       "    </tr>\n",
       "    <tr>\n",
       "      <th>25</th>\n",
       "      <td>as3border2:GigabitEthernet1/0</td>\n",
       "      <td>1500</td>\n",
       "    </tr>\n",
       "    <tr>\n",
       "      <th>26</th>\n",
       "      <td>as3border2:Loopback0</td>\n",
       "      <td>1500</td>\n",
       "    </tr>\n",
       "  </tbody>\n",
       "</table>\n",
       "</div>"
      ],
      "text/plain": [
       "                        interface   mtu\n",
       "0          as1border1:Ethernet0/0  1500\n",
       "1   as1border1:GigabitEthernet0/0  1500\n",
       "2   as1border1:GigabitEthernet1/0  1500\n",
       "3            as1border1:Loopback0  1500\n",
       "4          as1border2:Ethernet0/0  1500\n",
       "5   as1border2:GigabitEthernet0/0  1500\n",
       "6   as1border2:GigabitEthernet1/0  1500\n",
       "7   as1border2:GigabitEthernet2/0  1500\n",
       "8            as1border2:Loopback0  1500\n",
       "9          as2border1:Ethernet0/0  1500\n",
       "10  as2border1:GigabitEthernet0/0  1500\n",
       "11  as2border1:GigabitEthernet1/0  1500\n",
       "12  as2border1:GigabitEthernet2/0  1500\n",
       "13           as2border1:Loopback0  1500\n",
       "14         as2border2:Ethernet0/0  1500\n",
       "15  as2border2:GigabitEthernet0/0  1500\n",
       "16  as2border2:GigabitEthernet1/0  1500\n",
       "17  as2border2:GigabitEthernet2/0  1500\n",
       "18           as2border2:Loopback0  1500\n",
       "19         as3border1:Ethernet0/0  1500\n",
       "20  as3border1:GigabitEthernet0/0  1500\n",
       "21  as3border1:GigabitEthernet1/0  1500\n",
       "22           as3border1:Loopback0  1500\n",
       "23         as3border2:Ethernet0/0  1500\n",
       "24  as3border2:GigabitEthernet0/0  1500\n",
       "25  as3border2:GigabitEthernet1/0  1500\n",
       "26           as3border2:Loopback0  1500"
      ]
     },
     "execution_count": 12,
     "metadata": {},
     "output_type": "execute_result"
    }
   ],
   "source": [
    "interface_mtu = bfq.interfaceProperties(nodeRegex=\".*border.*\", propertySpec=\"mtu\").answer().frame()\n",
    "interface_mtu"
   ]
  },
  {
   "cell_type": "markdown",
   "metadata": {},
   "source": [
    "### Get involved with the Batfish community ! "
   ]
  },
  {
   "cell_type": "markdown",
   "metadata": {},
   "source": [
    "Start interacting through [Slack](https://join.slack.com/t/batfish-org/shared_invite/enQtMzA0Nzg2OTAzNzQ1LTUxOTJlY2YyNTVlNGQ3MTJkOTIwZTU2YjY3YzRjZWFiYzE4ODE5ODZiNjA4NGI5NTJhZmU2ZTllOTMwZDhjMzA) or [Github](https://github.com/batfish/batfish) to know more. We would love to talk with you about Batfish or your Network !"
   ]
  }
 ],
 "metadata": {
  "kernelspec": {
   "display_name": "Python 3",
   "language": "python",
   "name": "python3"
  },
  "language_info": {
   "codemirror_mode": {
    "name": "ipython",
    "version": 3
   },
   "file_extension": ".py",
   "mimetype": "text/x-python",
   "name": "python",
   "nbconvert_exporter": "python",
   "pygments_lexer": "ipython3",
   "version": "3.6.3"
  }
 },
 "nbformat": 4,
 "nbformat_minor": 2
}
