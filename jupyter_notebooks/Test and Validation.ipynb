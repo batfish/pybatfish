{
 "cells": [
  {
   "cell_type": "markdown",
   "metadata": {},
   "source": [
    "### Testing and Validation of a network with Batfish"
   ]
  },
  {
   "cell_type": "markdown",
   "metadata": {},
   "source": [
    "In this notebook we will focus on different types of validations that can be done on the results returned from Batfish. We will see how these validations are possible in Python using simple and easy to use [Pandas APIs](https://pandas.pydata.org/pandas-docs/stable/)."
   ]
  },
  {
   "cell_type": "code",
   "execution_count": 1,
   "metadata": {},
   "outputs": [
    {
     "name": "stderr",
     "output_type": "stream",
     "text": [
      "/Users/harshverma/sprints/open_source/pybatfish/venv/lib/python3.6/importlib/_bootstrap.py:219: RuntimeWarning: numpy.dtype size changed, may indicate binary incompatibility. Expected 96, got 88\n",
      "  return f(*args, **kwds)\n",
      "/Users/harshverma/sprints/open_source/pybatfish/pybatfish/client/commands.py:49: UserWarning: Pybatfish public API is being updated, note that API names and parameters will soon change.\n",
      "  \"Pybatfish public API is being updated, note that API names and parameters will soon change.\")\n"
     ]
    }
   ],
   "source": [
    "%run startup.py"
   ]
  },
  {
   "cell_type": "markdown",
   "metadata": {},
   "source": [
    "### Initializing our Network and Snapshot"
   ]
  },
  {
   "cell_type": "code",
   "execution_count": 2,
   "metadata": {
    "scrolled": false
   },
   "outputs": [
    {
     "data": {
      "text/plain": [
       "'{\\n  \"answerElements\" : [\\n    {\\n      \"class\" : \"org.batfish.datamodel.answers.InitInfoAnswerElement\",\\n      \"parseStatus\" : {\\n        \"as1border1\" : \"PASSED\",\\n        \"as1border2\" : \"PASSED\",\\n        \"as1core1\" : \"PASSED\",\\n        \"as2border1\" : \"PASSED\",\\n        \"as2border2\" : \"PASSED\",\\n        \"as2core1\" : \"PASSED\",\\n        \"as2core2\" : \"PASSED\",\\n        \"as2dept1\" : \"PASSED\",\\n        \"as2dist1\" : \"PASSED\",\\n        \"as2dist2\" : \"PASSED\",\\n        \"as3border1\" : \"PASSED\",\\n        \"as3border2\" : \"PASSED\",\\n        \"as3core1\" : \"PASSED\",\\n        \"host1\" : \"PASSED\",\\n        \"host2\" : \"PASSED\",\\n        \"iptables/host1.iptables\" : \"PASSED\",\\n        \"iptables/host2.iptables\" : \"PASSED\"\\n      }\\n    }\\n  ],\\n  \"status\" : \"SUCCESS\",\\n  \"summary\" : {\\n    \"numFailed\" : 0,\\n    \"numPassed\" : 0,\\n    \"numResults\" : 0\\n  }\\n}\\n'"
      ]
     },
     "execution_count": 2,
     "metadata": {},
     "output_type": "execute_result"
    }
   ],
   "source": [
    "NETWORK_NAME = \"example_network\"\n",
    "SNAPSHOT_NAME = \"example_snapshot\"\n",
    "SNAPSHOT_PATH = \"../test_rigs/example\"\n",
    "\n",
    "try:\n",
    "    bf_init_network(NETWORK_NAME)\n",
    "except BatfishException as e:\n",
    "    bf_set_network(NETWORK_NAME)\n",
    "bf_init_snapshot(SNAPSHOT_PATH, name=SNAPSHOT_NAME)"
   ]
  },
  {
   "cell_type": "markdown",
   "metadata": {},
   "source": [
    "### NTP servers validation"
   ]
  },
  {
   "cell_type": "markdown",
   "metadata": {},
   "source": [
    "As a first step, let's get all the NTP servers on the border routers."
   ]
  },
  {
   "cell_type": "code",
   "execution_count": 3,
   "metadata": {},
   "outputs": [
    {
     "name": "stderr",
     "output_type": "stream",
     "text": [
      "WARNING: skipping validation for unknown argument type nodeSpec\n",
      "WARNING: skipping validation for unknown argument type nodePropertySpec\n"
     ]
    },
    {
     "data": {
      "text/html": [
       "<div>\n",
       "<style scoped>\n",
       "    .dataframe tbody tr th:only-of-type {\n",
       "        vertical-align: middle;\n",
       "    }\n",
       "\n",
       "    .dataframe tbody tr th {\n",
       "        vertical-align: top;\n",
       "    }\n",
       "\n",
       "    .dataframe thead th {\n",
       "        text-align: right;\n",
       "    }\n",
       "</style>\n",
       "<table border=\"1\" class=\"dataframe\">\n",
       "  <thead>\n",
       "    <tr style=\"text-align: right;\">\n",
       "      <th></th>\n",
       "      <th>node</th>\n",
       "      <th>ntp-servers</th>\n",
       "    </tr>\n",
       "  </thead>\n",
       "  <tbody>\n",
       "    <tr>\n",
       "      <th>0</th>\n",
       "      <td>as1border1</td>\n",
       "      <td>[]</td>\n",
       "    </tr>\n",
       "    <tr>\n",
       "      <th>1</th>\n",
       "      <td>as1border2</td>\n",
       "      <td>[18.18.18.18, 23.23.23.23]</td>\n",
       "    </tr>\n",
       "    <tr>\n",
       "      <th>2</th>\n",
       "      <td>as2border1</td>\n",
       "      <td>[18.18.18.18, 23.23.23.23]</td>\n",
       "    </tr>\n",
       "    <tr>\n",
       "      <th>3</th>\n",
       "      <td>as2border2</td>\n",
       "      <td>[18.18.18.18]</td>\n",
       "    </tr>\n",
       "    <tr>\n",
       "      <th>4</th>\n",
       "      <td>as3border1</td>\n",
       "      <td>[18.18.18.18, 23.23.23.23]</td>\n",
       "    </tr>\n",
       "    <tr>\n",
       "      <th>5</th>\n",
       "      <td>as3border2</td>\n",
       "      <td>[18.18.18.18, 23.23.23.23]</td>\n",
       "    </tr>\n",
       "  </tbody>\n",
       "</table>\n",
       "</div>"
      ],
      "text/plain": [
       "         node                 ntp-servers\n",
       "0  as1border1                          []\n",
       "1  as1border2  [18.18.18.18, 23.23.23.23]\n",
       "2  as2border1  [18.18.18.18, 23.23.23.23]\n",
       "3  as2border2               [18.18.18.18]\n",
       "4  as3border1  [18.18.18.18, 23.23.23.23]\n",
       "5  as3border2  [18.18.18.18, 23.23.23.23]"
      ]
     },
     "execution_count": 3,
     "metadata": {},
     "output_type": "execute_result"
    }
   ],
   "source": [
    "ntp_servers = bfq.nodeProperties(nodeRegex=\".*border.*\", propertySpec=\"ntp-servers\").answer().frame()\n",
    "ntp_servers"
   ]
  },
  {
   "cell_type": "markdown",
   "metadata": {},
   "source": [
    "#### Validation Scenario 1\n",
    "All nodes under consideration should have **18.18.18.18** and **23.23.23.23** in their set of NTP servers."
   ]
  },
  {
   "cell_type": "markdown",
   "metadata": {},
   "source": [
    "Let's get a list of all nodes conforming and violating this condition."
   ]
  },
  {
   "cell_type": "code",
   "execution_count": 4,
   "metadata": {},
   "outputs": [
    {
     "data": {
      "text/html": [
       "<div>\n",
       "<style scoped>\n",
       "    .dataframe tbody tr th:only-of-type {\n",
       "        vertical-align: middle;\n",
       "    }\n",
       "\n",
       "    .dataframe tbody tr th {\n",
       "        vertical-align: top;\n",
       "    }\n",
       "\n",
       "    .dataframe thead th {\n",
       "        text-align: right;\n",
       "    }\n",
       "</style>\n",
       "<table border=\"1\" class=\"dataframe\">\n",
       "  <thead>\n",
       "    <tr style=\"text-align: right;\">\n",
       "      <th></th>\n",
       "      <th>node</th>\n",
       "      <th>ntp-servers</th>\n",
       "    </tr>\n",
       "  </thead>\n",
       "  <tbody>\n",
       "    <tr>\n",
       "      <th>1</th>\n",
       "      <td>as1border2</td>\n",
       "      <td>[18.18.18.18, 23.23.23.23]</td>\n",
       "    </tr>\n",
       "    <tr>\n",
       "      <th>2</th>\n",
       "      <td>as2border1</td>\n",
       "      <td>[18.18.18.18, 23.23.23.23]</td>\n",
       "    </tr>\n",
       "    <tr>\n",
       "      <th>4</th>\n",
       "      <td>as3border1</td>\n",
       "      <td>[18.18.18.18, 23.23.23.23]</td>\n",
       "    </tr>\n",
       "    <tr>\n",
       "      <th>5</th>\n",
       "      <td>as3border2</td>\n",
       "      <td>[18.18.18.18, 23.23.23.23]</td>\n",
       "    </tr>\n",
       "  </tbody>\n",
       "</table>\n",
       "</div>"
      ],
      "text/plain": [
       "         node                 ntp-servers\n",
       "1  as1border2  [18.18.18.18, 23.23.23.23]\n",
       "2  as2border1  [18.18.18.18, 23.23.23.23]\n",
       "4  as3border1  [18.18.18.18, 23.23.23.23]\n",
       "5  as3border2  [18.18.18.18, 23.23.23.23]"
      ]
     },
     "execution_count": 4,
     "metadata": {},
     "output_type": "execute_result"
    }
   ],
   "source": [
    "# Conformers (Nodes which have both 18.18.18.18 and 23.23.23.23 in their set of NTP servers)\n",
    "ns_conformers = ntp_servers[ntp_servers[\"ntp-servers\"].apply(lambda x:set(['18.18.18.18','23.23.23.23']).issubset(set(x)))]\n",
    "ns_conformers"
   ]
  },
  {
   "cell_type": "code",
   "execution_count": 5,
   "metadata": {},
   "outputs": [
    {
     "data": {
      "text/html": [
       "<div>\n",
       "<style scoped>\n",
       "    .dataframe tbody tr th:only-of-type {\n",
       "        vertical-align: middle;\n",
       "    }\n",
       "\n",
       "    .dataframe tbody tr th {\n",
       "        vertical-align: top;\n",
       "    }\n",
       "\n",
       "    .dataframe thead th {\n",
       "        text-align: right;\n",
       "    }\n",
       "</style>\n",
       "<table border=\"1\" class=\"dataframe\">\n",
       "  <thead>\n",
       "    <tr style=\"text-align: right;\">\n",
       "      <th></th>\n",
       "      <th>node</th>\n",
       "      <th>ntp-servers</th>\n",
       "    </tr>\n",
       "  </thead>\n",
       "  <tbody>\n",
       "    <tr>\n",
       "      <th>0</th>\n",
       "      <td>as1border1</td>\n",
       "      <td>[]</td>\n",
       "    </tr>\n",
       "    <tr>\n",
       "      <th>3</th>\n",
       "      <td>as2border2</td>\n",
       "      <td>[18.18.18.18]</td>\n",
       "    </tr>\n",
       "  </tbody>\n",
       "</table>\n",
       "</div>"
      ],
      "text/plain": [
       "         node    ntp-servers\n",
       "0  as1border1             []\n",
       "3  as2border2  [18.18.18.18]"
      ]
     },
     "execution_count": 5,
     "metadata": {},
     "output_type": "execute_result"
    }
   ],
   "source": [
    "# Violators (Nodes which don't have both 18.18.18.18 and 23.23.23.23 in their set of NTP servers)\n",
    "ns_violators = ntp_servers[ntp_servers[\"ntp-servers\"].apply(lambda x:not set(['18.18.18.18','23.23.23.23']).issubset(set(x)))]\n",
    "ns_violators"
   ]
  },
  {
   "cell_type": "markdown",
   "metadata": {},
   "source": [
    "#### Validation Scenario 2\n",
    "All nodes under consideration should have NTP servers only from the set of **18.18.18.18** and **23.23.23.23**."
   ]
  },
  {
   "cell_type": "code",
   "execution_count": 6,
   "metadata": {},
   "outputs": [
    {
     "data": {
      "text/html": [
       "<div>\n",
       "<style scoped>\n",
       "    .dataframe tbody tr th:only-of-type {\n",
       "        vertical-align: middle;\n",
       "    }\n",
       "\n",
       "    .dataframe tbody tr th {\n",
       "        vertical-align: top;\n",
       "    }\n",
       "\n",
       "    .dataframe thead th {\n",
       "        text-align: right;\n",
       "    }\n",
       "</style>\n",
       "<table border=\"1\" class=\"dataframe\">\n",
       "  <thead>\n",
       "    <tr style=\"text-align: right;\">\n",
       "      <th></th>\n",
       "      <th>node</th>\n",
       "      <th>ntp-servers</th>\n",
       "    </tr>\n",
       "  </thead>\n",
       "  <tbody>\n",
       "    <tr>\n",
       "      <th>0</th>\n",
       "      <td>as1border1</td>\n",
       "      <td>[]</td>\n",
       "    </tr>\n",
       "    <tr>\n",
       "      <th>1</th>\n",
       "      <td>as1border2</td>\n",
       "      <td>[18.18.18.18, 23.23.23.23]</td>\n",
       "    </tr>\n",
       "    <tr>\n",
       "      <th>2</th>\n",
       "      <td>as2border1</td>\n",
       "      <td>[18.18.18.18, 23.23.23.23]</td>\n",
       "    </tr>\n",
       "    <tr>\n",
       "      <th>3</th>\n",
       "      <td>as2border2</td>\n",
       "      <td>[18.18.18.18]</td>\n",
       "    </tr>\n",
       "    <tr>\n",
       "      <th>4</th>\n",
       "      <td>as3border1</td>\n",
       "      <td>[18.18.18.18, 23.23.23.23]</td>\n",
       "    </tr>\n",
       "    <tr>\n",
       "      <th>5</th>\n",
       "      <td>as3border2</td>\n",
       "      <td>[18.18.18.18, 23.23.23.23]</td>\n",
       "    </tr>\n",
       "  </tbody>\n",
       "</table>\n",
       "</div>"
      ],
      "text/plain": [
       "         node                 ntp-servers\n",
       "0  as1border1                          []\n",
       "1  as1border2  [18.18.18.18, 23.23.23.23]\n",
       "2  as2border1  [18.18.18.18, 23.23.23.23]\n",
       "3  as2border2               [18.18.18.18]\n",
       "4  as3border1  [18.18.18.18, 23.23.23.23]\n",
       "5  as3border2  [18.18.18.18, 23.23.23.23]"
      ]
     },
     "execution_count": 6,
     "metadata": {},
     "output_type": "execute_result"
    }
   ],
   "source": [
    "# Conformers (Nodes whose NTP servers are from the set of 18.18.18.18 and 23.23.23.23)\n",
    "ns_conformers = ntp_servers[ntp_servers[\"ntp-servers\"].apply(lambda x:set(['18.18.18.18','23.23.23.23']).issuperset(set(x)))]\n",
    "ns_conformers"
   ]
  },
  {
   "cell_type": "markdown",
   "metadata": {},
   "source": [
    "This will also return the nodes which have an empty set of NTP servers (technically they do not violate our condition). But if we want to exclude them, we can add a condition in the above command to filter out empty sets of NTP servers."
   ]
  },
  {
   "cell_type": "code",
   "execution_count": 7,
   "metadata": {},
   "outputs": [
    {
     "data": {
      "text/html": [
       "<div>\n",
       "<style scoped>\n",
       "    .dataframe tbody tr th:only-of-type {\n",
       "        vertical-align: middle;\n",
       "    }\n",
       "\n",
       "    .dataframe tbody tr th {\n",
       "        vertical-align: top;\n",
       "    }\n",
       "\n",
       "    .dataframe thead th {\n",
       "        text-align: right;\n",
       "    }\n",
       "</style>\n",
       "<table border=\"1\" class=\"dataframe\">\n",
       "  <thead>\n",
       "    <tr style=\"text-align: right;\">\n",
       "      <th></th>\n",
       "      <th>node</th>\n",
       "      <th>ntp-servers</th>\n",
       "    </tr>\n",
       "  </thead>\n",
       "  <tbody>\n",
       "    <tr>\n",
       "      <th>1</th>\n",
       "      <td>as1border2</td>\n",
       "      <td>[18.18.18.18, 23.23.23.23]</td>\n",
       "    </tr>\n",
       "    <tr>\n",
       "      <th>2</th>\n",
       "      <td>as2border1</td>\n",
       "      <td>[18.18.18.18, 23.23.23.23]</td>\n",
       "    </tr>\n",
       "    <tr>\n",
       "      <th>3</th>\n",
       "      <td>as2border2</td>\n",
       "      <td>[18.18.18.18]</td>\n",
       "    </tr>\n",
       "    <tr>\n",
       "      <th>4</th>\n",
       "      <td>as3border1</td>\n",
       "      <td>[18.18.18.18, 23.23.23.23]</td>\n",
       "    </tr>\n",
       "    <tr>\n",
       "      <th>5</th>\n",
       "      <td>as3border2</td>\n",
       "      <td>[18.18.18.18, 23.23.23.23]</td>\n",
       "    </tr>\n",
       "  </tbody>\n",
       "</table>\n",
       "</div>"
      ],
      "text/plain": [
       "         node                 ntp-servers\n",
       "1  as1border2  [18.18.18.18, 23.23.23.23]\n",
       "2  as2border1  [18.18.18.18, 23.23.23.23]\n",
       "3  as2border2               [18.18.18.18]\n",
       "4  as3border1  [18.18.18.18, 23.23.23.23]\n",
       "5  as3border2  [18.18.18.18, 23.23.23.23]"
      ]
     },
     "execution_count": 7,
     "metadata": {},
     "output_type": "execute_result"
    }
   ],
   "source": [
    "ns_conformers = ntp_servers[ntp_servers[\"ntp-servers\"].apply(lambda x:set(['18.18.18.18','23.23.23.23']).issuperset(set(x)) and bool(x))]\n",
    "ns_conformers"
   ]
  },
  {
   "cell_type": "code",
   "execution_count": 8,
   "metadata": {},
   "outputs": [
    {
     "data": {
      "text/html": [
       "<div>\n",
       "<style scoped>\n",
       "    .dataframe tbody tr th:only-of-type {\n",
       "        vertical-align: middle;\n",
       "    }\n",
       "\n",
       "    .dataframe tbody tr th {\n",
       "        vertical-align: top;\n",
       "    }\n",
       "\n",
       "    .dataframe thead th {\n",
       "        text-align: right;\n",
       "    }\n",
       "</style>\n",
       "<table border=\"1\" class=\"dataframe\">\n",
       "  <thead>\n",
       "    <tr style=\"text-align: right;\">\n",
       "      <th></th>\n",
       "      <th>node</th>\n",
       "      <th>ntp-servers</th>\n",
       "    </tr>\n",
       "  </thead>\n",
       "  <tbody>\n",
       "  </tbody>\n",
       "</table>\n",
       "</div>"
      ],
      "text/plain": [
       "Empty DataFrame\n",
       "Columns: [node, ntp-servers]\n",
       "Index: []"
      ]
     },
     "execution_count": 8,
     "metadata": {},
     "output_type": "execute_result"
    }
   ],
   "source": [
    "# Violators (Nodes whose NTP servers are not from the set of 18.18.18.18 and 23.23.23.23)\n",
    "ns_violators = ntp_servers[ntp_servers[\"ntp-servers\"].apply(lambda x:not set(['18.18.18.18','23.23.23.23']).issuperset(set(x)))]\n",
    "ns_violators"
   ]
  },
  {
   "cell_type": "markdown",
   "metadata": {},
   "source": [
    "The above query will not return any result, as in this case there are no violators."
   ]
  },
  {
   "cell_type": "markdown",
   "metadata": {},
   "source": [
    "#### Validation Scenario 3\n",
    "All nodes should have set of NTP servers that is equal to the set of **18.18.18.18** and **23.23.23.23**"
   ]
  },
  {
   "cell_type": "code",
   "execution_count": 9,
   "metadata": {},
   "outputs": [
    {
     "data": {
      "text/html": [
       "<div>\n",
       "<style scoped>\n",
       "    .dataframe tbody tr th:only-of-type {\n",
       "        vertical-align: middle;\n",
       "    }\n",
       "\n",
       "    .dataframe tbody tr th {\n",
       "        vertical-align: top;\n",
       "    }\n",
       "\n",
       "    .dataframe thead th {\n",
       "        text-align: right;\n",
       "    }\n",
       "</style>\n",
       "<table border=\"1\" class=\"dataframe\">\n",
       "  <thead>\n",
       "    <tr style=\"text-align: right;\">\n",
       "      <th></th>\n",
       "      <th>node</th>\n",
       "      <th>ntp-servers</th>\n",
       "    </tr>\n",
       "  </thead>\n",
       "  <tbody>\n",
       "    <tr>\n",
       "      <th>1</th>\n",
       "      <td>as1border2</td>\n",
       "      <td>[18.18.18.18, 23.23.23.23]</td>\n",
       "    </tr>\n",
       "    <tr>\n",
       "      <th>2</th>\n",
       "      <td>as2border1</td>\n",
       "      <td>[18.18.18.18, 23.23.23.23]</td>\n",
       "    </tr>\n",
       "    <tr>\n",
       "      <th>4</th>\n",
       "      <td>as3border1</td>\n",
       "      <td>[18.18.18.18, 23.23.23.23]</td>\n",
       "    </tr>\n",
       "    <tr>\n",
       "      <th>5</th>\n",
       "      <td>as3border2</td>\n",
       "      <td>[18.18.18.18, 23.23.23.23]</td>\n",
       "    </tr>\n",
       "  </tbody>\n",
       "</table>\n",
       "</div>"
      ],
      "text/plain": [
       "         node                 ntp-servers\n",
       "1  as1border2  [18.18.18.18, 23.23.23.23]\n",
       "2  as2border1  [18.18.18.18, 23.23.23.23]\n",
       "4  as3border1  [18.18.18.18, 23.23.23.23]\n",
       "5  as3border2  [18.18.18.18, 23.23.23.23]"
      ]
     },
     "execution_count": 9,
     "metadata": {},
     "output_type": "execute_result"
    }
   ],
   "source": [
    "# Conformers (Nodes whose NTP servers are equal to the set of 18.18.18.18 and 23.23.23.23)\n",
    "ns_conformers = ntp_servers[ntp_servers[\"ntp-servers\"].apply(lambda x:set(['18.18.18.18','23.23.23.23']) == set(x))]\n",
    "ns_conformers"
   ]
  },
  {
   "cell_type": "code",
   "execution_count": 10,
   "metadata": {},
   "outputs": [],
   "source": [
    "# Violators (Nodes whose set of NTP servers is not equal to the set of 18.18.18.18 and 23.23.23.23)"
   ]
  },
  {
   "cell_type": "code",
   "execution_count": 11,
   "metadata": {},
   "outputs": [
    {
     "data": {
      "text/html": [
       "<div>\n",
       "<style scoped>\n",
       "    .dataframe tbody tr th:only-of-type {\n",
       "        vertical-align: middle;\n",
       "    }\n",
       "\n",
       "    .dataframe tbody tr th {\n",
       "        vertical-align: top;\n",
       "    }\n",
       "\n",
       "    .dataframe thead th {\n",
       "        text-align: right;\n",
       "    }\n",
       "</style>\n",
       "<table border=\"1\" class=\"dataframe\">\n",
       "  <thead>\n",
       "    <tr style=\"text-align: right;\">\n",
       "      <th></th>\n",
       "      <th>node</th>\n",
       "      <th>ntp-servers</th>\n",
       "    </tr>\n",
       "  </thead>\n",
       "  <tbody>\n",
       "    <tr>\n",
       "      <th>0</th>\n",
       "      <td>as1border1</td>\n",
       "      <td>[]</td>\n",
       "    </tr>\n",
       "    <tr>\n",
       "      <th>3</th>\n",
       "      <td>as2border2</td>\n",
       "      <td>[18.18.18.18]</td>\n",
       "    </tr>\n",
       "  </tbody>\n",
       "</table>\n",
       "</div>"
      ],
      "text/plain": [
       "         node    ntp-servers\n",
       "0  as1border1             []\n",
       "3  as2border2  [18.18.18.18]"
      ]
     },
     "execution_count": 11,
     "metadata": {},
     "output_type": "execute_result"
    }
   ],
   "source": [
    "ns_violators = ntp_servers[ntp_servers[\"ntp-servers\"].apply(lambda x:set(['18.18.18.18','23.23.23.23']) != set(x))]\n",
    "ns_violators"
   ]
  },
  {
   "cell_type": "markdown",
   "metadata": {},
   "source": [
    "To find out which NTP servers actually differed from our expected set of NTP servers, we can do a set difference for each row"
   ]
  },
  {
   "cell_type": "code",
   "execution_count": 12,
   "metadata": {},
   "outputs": [
    {
     "data": {
      "text/plain": [
       "0    {18.18.18.18, 23.23.23.23}\n",
       "1                            {}\n",
       "2                            {}\n",
       "3                 {23.23.23.23}\n",
       "4                            {}\n",
       "5                            {}\n",
       "Name: ntp-servers, dtype: object"
      ]
     },
     "execution_count": 12,
     "metadata": {},
     "output_type": "execute_result"
    }
   ],
   "source": [
    "ns_difference = ntp_servers[\"ntp-servers\"].map(lambda x: set(['18.18.18.18','23.23.23.23']) - set(x))\n",
    "ns_difference"
   ]
  },
  {
   "cell_type": "markdown",
   "metadata": {},
   "source": [
    "That's it for now!"
   ]
  }
 ],
 "metadata": {
  "kernelspec": {
   "display_name": "Python 3",
   "language": "python",
   "name": "python3"
  },
  "language_info": {
   "codemirror_mode": {
    "name": "ipython",
    "version": 3
   },
   "file_extension": ".py",
   "mimetype": "text/x-python",
   "name": "python",
   "nbconvert_exporter": "python",
   "pygments_lexer": "ipython3",
   "version": "3.6.3"
  }
 },
 "nbformat": 4,
 "nbformat_minor": 2
}
