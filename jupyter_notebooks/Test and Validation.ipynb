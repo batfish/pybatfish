{
 "cells": [
  {
   "cell_type": "markdown",
   "metadata": {},
   "source": [
    "### Testing and Validation of a Network with Batfish"
   ]
  },
  {
   "cell_type": "markdown",
   "metadata": {},
   "source": [
    "Network engineers often need to verify their networks via assertions on device configurations.  This can become a daunting task for large networks when done manually.  However, programmatically performing these assertions on the vendor-independent model produced by Batfish can be done quickly and easily.\n",
    "\n",
    "In this notebook, we will look at different types of validations that can be done with Batfish.  More specifically, we will consider validation of _NTP servers_ and we will see how these validations are possible with [Pandas APIs](https://pandas.pydata.org/pandas-docs/stable/)."
   ]
  },
  {
   "cell_type": "code",
   "execution_count": 1,
   "metadata": {},
   "outputs": [],
   "source": [
    "# Importing packages and loading questions\n",
    "%run startup.py"
   ]
  },
  {
   "cell_type": "markdown",
   "metadata": {},
   "source": [
    "### Initializing our Network and Snapshot"
   ]
  },
  {
   "cell_type": "code",
   "execution_count": 1,
   "metadata": {
    "scrolled": false
   },
   "outputs": [
    {
     "data": {
      "text/plain": [
       "'{\\n  \"answerElements\" : [\\n    {\\n      \"class\" : \"org.batfish.datamodel.answers.InitInfoAnswerElement\",\\n      \"parseStatus\" : {\\n        \"as1border1\" : \"PASSED\",\\n        \"as1border2\" : \"PASSED\",\\n        \"as1core1\" : \"PASSED\",\\n        \"as2border1\" : \"PASSED\",\\n        \"as2border2\" : \"PASSED\",\\n        \"as2core1\" : \"PASSED\",\\n        \"as2core2\" : \"PASSED\",\\n        \"as2dept1\" : \"PASSED\",\\n        \"as2dist1\" : \"PASSED\",\\n        \"as2dist2\" : \"PASSED\",\\n        \"as3border1\" : \"PASSED\",\\n        \"as3border2\" : \"PASSED\",\\n        \"as3core1\" : \"PASSED\",\\n        \"host1\" : \"PASSED\",\\n        \"host2\" : \"PASSED\",\\n        \"iptables/host1.iptables\" : \"PASSED\",\\n        \"iptables/host2.iptables\" : \"PASSED\"\\n      }\\n    }\\n  ],\\n  \"status\" : \"SUCCESS\",\\n  \"summary\" : {\\n    \"numFailed\" : 0,\\n    \"numPassed\" : 0,\\n    \"numResults\" : 0\\n  }\\n}\\n'"
      ]
     },
     "execution_count": 1,
     "metadata": {},
     "output_type": "execute_result"
    }
   ],
   "source": [
    "NETWORK_NAME = \"example_network\"\n",
    "SNAPSHOT_NAME = \"example_snapshot\"\n",
    "SNAPSHOT_PATH = \"../test_rigs/example\"\n",
    "COL_NAME = \"ntp-servers\"\n",
    "\n",
    "bf_set_network(NETWORK_NAME)\n",
    "bf_init_snapshot(SNAPSHOT_PATH, name=SNAPSHOT_NAME)"
   ]
  },
  {
   "cell_type": "markdown",
   "metadata": {},
   "source": [
    "The network snapshot that we initialized above would look like below. You can download/view devices' configuration files from [here](https://github.com/batfish/batfish/tree/master/test_rigs/example).\n",
    "\n",
    "<img src=\"https://raw.githubusercontent.com/batfish/batfish/master/test_rigs/example/example-network.png\" height=auto width=60%>"
   ]
  },
  {
   "cell_type": "markdown",
   "metadata": {},
   "source": [
    "### Validating _NTP Servers_ Configuration\n",
    "There are many potential assertions we might apply on _NTP server_ configuration, but in this notebook we will focus on the common scenarios we have observed in some real world networks.\n",
    "In this exercise, we will try to validate the following scenarios with respect to a set of reference servers `[23.23.23.23]` (which contains just a single server to make things simple):\n",
    "* Every node has some _NTP server_ configured (not necessarily from the reference servers).\n",
    "* Every node has the same set of _NTP servers_ as the reference servers.\n",
    "* Every node contains at least one _NTP server_ from the reference servers.\n",
    "* Every node has _NTP servers_ matching the servers listed in a database."
   ]
  },
  {
   "cell_type": "code",
   "execution_count": 2,
   "metadata": {},
   "outputs": [],
   "source": [
    "ref_ntp_servers = set(['23.23.23.23'])"
   ]
  },
  {
   "cell_type": "markdown",
   "metadata": {},
   "source": [
    "We can restrict our validation to the border nodes to better simultate a real scenario. To start with, let's see the _NTP servers_ configured on all border nodes."
   ]
  },
  {
   "cell_type": "code",
   "execution_count": 2,
   "metadata": {},
   "outputs": [
    {
     "data": {
      "text/html": [
       "<div>\n",
       "<style scoped>\n",
       "    .dataframe tbody tr th:only-of-type {\n",
       "        vertical-align: middle;\n",
       "    }\n",
       "\n",
       "    .dataframe tbody tr th {\n",
       "        vertical-align: top;\n",
       "    }\n",
       "\n",
       "    .dataframe thead th {\n",
       "        text-align: right;\n",
       "    }\n",
       "</style>\n",
       "<table border=\"1\" class=\"dataframe\">\n",
       "  <thead>\n",
       "    <tr style=\"text-align: right;\">\n",
       "      <th></th>\n",
       "      <th>node</th>\n",
       "      <th>ntp-servers</th>\n",
       "    </tr>\n",
       "  </thead>\n",
       "  <tbody>\n",
       "    <tr>\n",
       "      <th>0</th>\n",
       "      <td>as1border1</td>\n",
       "      <td>[]</td>\n",
       "    </tr>\n",
       "    <tr>\n",
       "      <th>1</th>\n",
       "      <td>as1border2</td>\n",
       "      <td>[18.18.18.18, 23.23.23.23]</td>\n",
       "    </tr>\n",
       "    <tr>\n",
       "      <th>2</th>\n",
       "      <td>as2border1</td>\n",
       "      <td>[18.18.18.18, 23.23.23.23]</td>\n",
       "    </tr>\n",
       "    <tr>\n",
       "      <th>3</th>\n",
       "      <td>as2border2</td>\n",
       "      <td>[18.18.18.18]</td>\n",
       "    </tr>\n",
       "    <tr>\n",
       "      <th>4</th>\n",
       "      <td>as3border1</td>\n",
       "      <td>[18.18.18.18, 23.23.23.23]</td>\n",
       "    </tr>\n",
       "    <tr>\n",
       "      <th>5</th>\n",
       "      <td>as3border2</td>\n",
       "      <td>[18.18.18.18, 23.23.23.23]</td>\n",
       "    </tr>\n",
       "  </tbody>\n",
       "</table>\n",
       "</div>"
      ],
      "text/plain": [
       "         node                 ntp-servers\n",
       "0  as1border1                          []\n",
       "1  as1border2  [18.18.18.18, 23.23.23.23]\n",
       "2  as2border1  [18.18.18.18, 23.23.23.23]\n",
       "3  as2border2               [18.18.18.18]\n",
       "4  as3border1  [18.18.18.18, 23.23.23.23]\n",
       "5  as3border2  [18.18.18.18, 23.23.23.23]"
      ]
     },
     "execution_count": 2,
     "metadata": {},
     "output_type": "execute_result"
    }
   ],
   "source": [
    "node_props = bfq.nodeProperties(nodeRegex=\".*border.*\", propertySpec=COL_NAME).answer().frame()\n",
    "node_props"
   ]
  },
  {
   "cell_type": "markdown",
   "metadata": {},
   "source": [
    "#### At least one _NTP server_ is configured on each node\n",
    "This check verifies that every node has at least one _NTP server_, but does not check the address of the server.<br>To find violators, we can simply find nodes where the list of servers is empty, which is what the following command does:<br>(If you want to know more about the **lambda** keyword, see [lambda expressions](https://docs.python.org/3/reference/expressions.html#lambda).)"
   ]
  },
  {
   "cell_type": "code",
   "execution_count": 2,
   "metadata": {},
   "outputs": [
    {
     "data": {
      "text/html": [
       "<div>\n",
       "<style scoped>\n",
       "    .dataframe tbody tr th:only-of-type {\n",
       "        vertical-align: middle;\n",
       "    }\n",
       "\n",
       "    .dataframe tbody tr th {\n",
       "        vertical-align: top;\n",
       "    }\n",
       "\n",
       "    .dataframe thead th {\n",
       "        text-align: right;\n",
       "    }\n",
       "</style>\n",
       "<table border=\"1\" class=\"dataframe\">\n",
       "  <thead>\n",
       "    <tr style=\"text-align: right;\">\n",
       "      <th></th>\n",
       "      <th>node</th>\n",
       "      <th>ntp-servers</th>\n",
       "    </tr>\n",
       "  </thead>\n",
       "  <tbody>\n",
       "    <tr>\n",
       "      <th>0</th>\n",
       "      <td>as1border1</td>\n",
       "      <td>[]</td>\n",
       "    </tr>\n",
       "  </tbody>\n",
       "</table>\n",
       "</div>"
      ],
      "text/plain": [
       "         node ntp-servers\n",
       "0  as1border1          []"
      ]
     },
     "execution_count": 2,
     "metadata": {},
     "output_type": "execute_result"
    }
   ],
   "source": [
    "# Violators\n",
    "ns_violators = node_props[node_props[COL_NAME].apply(lambda x: len(x) == 0)]\n",
    "ns_violators"
   ]
  },
  {
   "cell_type": "markdown",
   "metadata": {},
   "source": [
    "#### _NTP servers_ on all nodes should be the same as our reference\n",
    "A common use case for validating _NTP servers_ generally involves checking that the set of _NTP servers_ on all relevant nodes is equal to a given set. Doing this using **Pybatfish/pandas** is pretty straightforward."
   ]
  },
  {
   "cell_type": "markdown",
   "metadata": {},
   "source": [
    "An example command for getting a table of violators would look like"
   ]
  },
  {
   "cell_type": "code",
   "execution_count": 2,
   "metadata": {},
   "outputs": [
    {
     "data": {
      "text/html": [
       "<div>\n",
       "<style scoped>\n",
       "    .dataframe tbody tr th:only-of-type {\n",
       "        vertical-align: middle;\n",
       "    }\n",
       "\n",
       "    .dataframe tbody tr th {\n",
       "        vertical-align: top;\n",
       "    }\n",
       "\n",
       "    .dataframe thead th {\n",
       "        text-align: right;\n",
       "    }\n",
       "</style>\n",
       "<table border=\"1\" class=\"dataframe\">\n",
       "  <thead>\n",
       "    <tr style=\"text-align: right;\">\n",
       "      <th></th>\n",
       "      <th>node</th>\n",
       "      <th>ntp-servers</th>\n",
       "    </tr>\n",
       "  </thead>\n",
       "  <tbody>\n",
       "    <tr>\n",
       "      <th>0</th>\n",
       "      <td>as1border1</td>\n",
       "      <td>[]</td>\n",
       "    </tr>\n",
       "    <tr>\n",
       "      <th>1</th>\n",
       "      <td>as1border2</td>\n",
       "      <td>[18.18.18.18, 23.23.23.23]</td>\n",
       "    </tr>\n",
       "    <tr>\n",
       "      <th>2</th>\n",
       "      <td>as2border1</td>\n",
       "      <td>[18.18.18.18, 23.23.23.23]</td>\n",
       "    </tr>\n",
       "    <tr>\n",
       "      <th>3</th>\n",
       "      <td>as2border2</td>\n",
       "      <td>[18.18.18.18]</td>\n",
       "    </tr>\n",
       "    <tr>\n",
       "      <th>4</th>\n",
       "      <td>as3border1</td>\n",
       "      <td>[18.18.18.18, 23.23.23.23]</td>\n",
       "    </tr>\n",
       "    <tr>\n",
       "      <th>5</th>\n",
       "      <td>as3border2</td>\n",
       "      <td>[18.18.18.18, 23.23.23.23]</td>\n",
       "    </tr>\n",
       "  </tbody>\n",
       "</table>\n",
       "</div>"
      ],
      "text/plain": [
       "         node                 ntp-servers\n",
       "0  as1border1                          []\n",
       "1  as1border2  [18.18.18.18, 23.23.23.23]\n",
       "2  as2border1  [18.18.18.18, 23.23.23.23]\n",
       "3  as2border2               [18.18.18.18]\n",
       "4  as3border1  [18.18.18.18, 23.23.23.23]\n",
       "5  as3border2  [18.18.18.18, 23.23.23.23]"
      ]
     },
     "execution_count": 2,
     "metadata": {},
     "output_type": "execute_result"
    }
   ],
   "source": [
    "# Violators (Nodes whose set of NTP servers is not equal to our reference set)\n",
    "ns_violators = node_props[node_props[COL_NAME].apply(lambda x: ref_ntp_servers != set(x))]\n",
    "ns_violators"
   ]
  },
  {
   "cell_type": "markdown",
   "metadata": {},
   "source": [
    "As we can see, all border nodes violate this condition."
   ]
  },
  {
   "cell_type": "markdown",
   "metadata": {},
   "source": [
    "To look at which nodes actually have different _NTP servers_ compared to our reference set, we can do a set difference on the `ntp-servers` column. Commands to do that would look like below:"
   ]
  },
  {
   "cell_type": "code",
   "execution_count": 2,
   "metadata": {},
   "outputs": [
    {
     "data": {
      "text/html": [
       "<div>\n",
       "<style scoped>\n",
       "    .dataframe tbody tr th:only-of-type {\n",
       "        vertical-align: middle;\n",
       "    }\n",
       "\n",
       "    .dataframe tbody tr th {\n",
       "        vertical-align: top;\n",
       "    }\n",
       "\n",
       "    .dataframe thead th {\n",
       "        text-align: right;\n",
       "    }\n",
       "</style>\n",
       "<table border=\"1\" class=\"dataframe\">\n",
       "  <thead>\n",
       "    <tr style=\"text-align: right;\">\n",
       "      <th></th>\n",
       "      <th>node</th>\n",
       "      <th>ntp-servers-difference</th>\n",
       "    </tr>\n",
       "  </thead>\n",
       "  <tbody>\n",
       "    <tr>\n",
       "      <th>0</th>\n",
       "      <td>as1border1</td>\n",
       "      <td>{23.23.23.23}</td>\n",
       "    </tr>\n",
       "    <tr>\n",
       "      <th>1</th>\n",
       "      <td>as1border2</td>\n",
       "      <td>{18.18.18.18}</td>\n",
       "    </tr>\n",
       "    <tr>\n",
       "      <th>2</th>\n",
       "      <td>as2border1</td>\n",
       "      <td>{18.18.18.18}</td>\n",
       "    </tr>\n",
       "    <tr>\n",
       "      <th>3</th>\n",
       "      <td>as2border2</td>\n",
       "      <td>{18.18.18.18}</td>\n",
       "    </tr>\n",
       "    <tr>\n",
       "      <th>4</th>\n",
       "      <td>as3border1</td>\n",
       "      <td>{18.18.18.18}</td>\n",
       "    </tr>\n",
       "    <tr>\n",
       "      <th>5</th>\n",
       "      <td>as3border2</td>\n",
       "      <td>{18.18.18.18}</td>\n",
       "    </tr>\n",
       "  </tbody>\n",
       "</table>\n",
       "</div>"
      ],
      "text/plain": [
       "         node ntp-servers-difference\n",
       "0  as1border1          {23.23.23.23}\n",
       "1  as1border2          {18.18.18.18}\n",
       "2  as2border1          {18.18.18.18}\n",
       "3  as2border2          {18.18.18.18}\n",
       "4  as3border1          {18.18.18.18}\n",
       "5  as3border2          {18.18.18.18}"
      ]
     },
     "execution_count": 2,
     "metadata": {},
     "output_type": "execute_result"
    }
   ],
   "source": [
    "def abs_set_diff(a, b):\n",
    "    return a - b if len(a - b) else b - a\n",
    "\n",
    "\n",
    "ns_difference = node_props[COL_NAME].map(lambda x: abs_set_diff(set(x), ref_ntp_servers))\n",
    "# Let's pair it up with the node columns for a better view\n",
    "diff_df = pd.DataFrame({'node': node_props[\"node\"], '{}-difference'.format(COL_NAME): ns_difference})\n",
    "# Getting only the rows with a non-empty ntp-server-difference\n",
    "diff_df[diff_df[\"{}-difference\".format(COL_NAME)].apply(lambda x: len(x) > 0)]"
   ]
  },
  {
   "cell_type": "markdown",
   "metadata": {},
   "source": [
    "#### _NTP servers_ on all nodes should contain at least one _NTP server_ from our reference\n",
    "_NTP servers_ on all nodes should contain at least one _NTP server_ from our reference. This is a more lenient version of the previous check which verifies that every node has at least one _NTP server_ from our reference set.\n",
    "\n",
    "To get a table of violators, we can use the following command.<br>If a node does not have even one common _NTP server_ with our reference set, we will count it as a violator."
   ]
  },
  {
   "cell_type": "code",
   "execution_count": 2,
   "metadata": {},
   "outputs": [
    {
     "data": {
      "text/html": [
       "<div>\n",
       "<style scoped>\n",
       "    .dataframe tbody tr th:only-of-type {\n",
       "        vertical-align: middle;\n",
       "    }\n",
       "\n",
       "    .dataframe tbody tr th {\n",
       "        vertical-align: top;\n",
       "    }\n",
       "\n",
       "    .dataframe thead th {\n",
       "        text-align: right;\n",
       "    }\n",
       "</style>\n",
       "<table border=\"1\" class=\"dataframe\">\n",
       "  <thead>\n",
       "    <tr style=\"text-align: right;\">\n",
       "      <th></th>\n",
       "      <th>node</th>\n",
       "      <th>ntp-servers</th>\n",
       "    </tr>\n",
       "  </thead>\n",
       "  <tbody>\n",
       "    <tr>\n",
       "      <th>0</th>\n",
       "      <td>as1border1</td>\n",
       "      <td>[]</td>\n",
       "    </tr>\n",
       "    <tr>\n",
       "      <th>3</th>\n",
       "      <td>as2border2</td>\n",
       "      <td>[18.18.18.18]</td>\n",
       "    </tr>\n",
       "  </tbody>\n",
       "</table>\n",
       "</div>"
      ],
      "text/plain": [
       "         node    ntp-servers\n",
       "0  as1border1             []\n",
       "3  as2border2  [18.18.18.18]"
      ]
     },
     "execution_count": 2,
     "metadata": {},
     "output_type": "execute_result"
    }
   ],
   "source": [
    "# Violators (Nodes which do not contain even a single NTP server from our reference set)\n",
    "ns_violators = node_props[node_props[COL_NAME].apply(lambda x: len(ref_ntp_servers.intersection(set(x))) == 0)]\n",
    "ns_violators"
   ]
  },
  {
   "cell_type": "markdown",
   "metadata": {},
   "source": [
    "So `as1border1` contains an empty set of NTP servers which clearly violates our assertion in this case."
   ]
  },
  {
   "cell_type": "markdown",
   "metadata": {},
   "source": [
    "#### _NTP servers_ match definition in database\n",
    "Each node's _NTP servers_ should match those defined in a database. This sort of check enables easy validation of configurations which may be non-uniform across nodes.\n",
    "\n",
    "We will assume data from the database is fetched in the following format, where node names are dictionary keys and specific properties are defined in a property-keyed sub-dictionary:\n"
   ]
  },
  {
   "cell_type": "code",
   "execution_count": 2,
   "metadata": {},
   "outputs": [],
   "source": [
    "# Mock reference-node-data, presumably taken from some database\n",
    "database = {'as1border1': {'ntp-servers': ['23.23.23.23'], 'dns-servers': ['1.1.1.1']},\n",
    "            'as1border2': {'ntp-servers': ['23.23.23.23'], 'dns-servers': ['1.1.1.1']},\n",
    "            'as2border1': {'ntp-servers': ['18.18.18.18', '23.23.23.23'], 'dns-servers': ['2.2.2.2']},\n",
    "            'as2border2': {'ntp-servers': ['18.18.18.18'], 'dns-servers': ['1.1.1.1']},\n",
    "            'as3border1': {'ntp-servers': ['18.18.18.18', '23.23.23.23'], 'dns-servers': ['2.2.2.2']},\n",
    "            'as3border2': {'ntp-servers': ['18.18.18.18', '23.23.23.23'], 'dns-servers': ['2.2.2.2']},\n",
    "           }\n"
   ]
  },
  {
   "cell_type": "markdown",
   "metadata": {},
   "source": [
    "Note that:\n",
    "* There is an extra property in this dictionary that we don't care about comparing right now: `dns-server` (we will just filter this out below, before comparnig the dataframe from Batfish to the one we are generating from the database)\n",
    "* **as1border1** has **23.23.23.23** listed as its `ntp-servers`, which does not match the empty list of servers in the `Batfish` dataframe\n",
    "* **as1border2** has only **23.23.23.23** as its `ntp-servers`, which is missing **18.18.18.18** when compared to the two servers listed in the `Batfish` dataframe\n",
    "\n",
    "After a little tweaking, the database and `Batfish` dataframes can be compared to generate two sets of servers: missing (defined in the database but not in the configurations) and extra (defined in the configurations but not in the database)."
   ]
  },
  {
   "cell_type": "code",
   "execution_count": 2,
   "metadata": {},
   "outputs": [
    {
     "data": {
      "text/html": [
       "<div>\n",
       "<style scoped>\n",
       "    .dataframe tbody tr th:only-of-type {\n",
       "        vertical-align: middle;\n",
       "    }\n",
       "\n",
       "    .dataframe tbody tr th {\n",
       "        vertical-align: top;\n",
       "    }\n",
       "\n",
       "    .dataframe thead th {\n",
       "        text-align: right;\n",
       "    }\n",
       "</style>\n",
       "<table border=\"1\" class=\"dataframe\">\n",
       "  <thead>\n",
       "    <tr style=\"text-align: right;\">\n",
       "      <th></th>\n",
       "      <th>missing-ntp-servers</th>\n",
       "      <th>extra-ntp-servers</th>\n",
       "    </tr>\n",
       "    <tr>\n",
       "      <th>node</th>\n",
       "      <th></th>\n",
       "      <th></th>\n",
       "    </tr>\n",
       "  </thead>\n",
       "  <tbody>\n",
       "    <tr>\n",
       "      <th>as1border1</th>\n",
       "      <td>{23.23.23.23}</td>\n",
       "      <td>{}</td>\n",
       "    </tr>\n",
       "    <tr>\n",
       "      <th>as1border2</th>\n",
       "      <td>{}</td>\n",
       "      <td>{18.18.18.18}</td>\n",
       "    </tr>\n",
       "    <tr>\n",
       "      <th>as2border1</th>\n",
       "      <td>{}</td>\n",
       "      <td>{}</td>\n",
       "    </tr>\n",
       "    <tr>\n",
       "      <th>as2border2</th>\n",
       "      <td>{}</td>\n",
       "      <td>{}</td>\n",
       "    </tr>\n",
       "    <tr>\n",
       "      <th>as3border1</th>\n",
       "      <td>{}</td>\n",
       "      <td>{}</td>\n",
       "    </tr>\n",
       "    <tr>\n",
       "      <th>as3border2</th>\n",
       "      <td>{}</td>\n",
       "      <td>{}</td>\n",
       "    </tr>\n",
       "  </tbody>\n",
       "</table>\n",
       "</div>"
      ],
      "text/plain": [
       "           missing-ntp-servers extra-ntp-servers\n",
       "node                                            \n",
       "as1border1       {23.23.23.23}                {}\n",
       "as1border2                  {}     {18.18.18.18}\n",
       "as2border1                  {}                {}\n",
       "as2border2                  {}                {}\n",
       "as3border1                  {}                {}\n",
       "as3border2                  {}                {}"
      ]
     },
     "execution_count": 2,
     "metadata": {},
     "output_type": "execute_result"
    }
   ],
   "source": [
    "# Transpose database data so each node has its own row\n",
    "database_df = pd.DataFrame(data=database).transpose()\n",
    "\n",
    "# Index on node for easier comparison\n",
    "df_bf = node_props.set_index('node')\n",
    "\n",
    "# Select only columns present in node_props (get rid of the extra dns-servers column)\n",
    "df_db = database_df[list(df2)]\n",
    "\n",
    "# Convert server lists into sets to support arithmetic below\n",
    "df_bf[COL_NAME] = df_bf[col_name].apply(set)\n",
    "df_db[COL_NAME] = df_db[col_name].apply(set)\n",
    "\n",
    "# Figure out what servers are in the configs but not the database and vice versa\n",
    "missing_servers = (df_db - df_bf).rename(columns={COL_NAME: 'missing-{}'.format(COL_NAME)})\n",
    "extra_servers = (df_bf - df_db).rename(columns={COL_NAME: 'extra-{}'.format(COL_NAME)})\n",
    "result = pd.concat([missing_servers, extra_servers], axis=1, sort=False)\n",
    "result"
   ]
  },
  {
   "cell_type": "markdown",
   "metadata": {},
   "source": [
    "We can perform similar validations on other node-properties as well, for example on _dns-servers_, _interfaces_, _ip-access-lists_ etc.\n",
    "\n",
    "Hope this will help you get started doing validations using Pybatfish !"
   ]
  }
 ],
 "metadata": {
  "kernelspec": {
   "display_name": "Python 3",
   "language": "python",
   "name": "python3"
  },
  "language_info": {
   "codemirror_mode": {
    "name": "ipython",
    "version": 3
   },
   "file_extension": ".py",
   "mimetype": "text/x-python",
   "name": "python",
   "nbconvert_exporter": "python",
   "pygments_lexer": "ipython3",
   "version": "3.6.5"
  }
 },
 "nbformat": 4,
 "nbformat_minor": 2
}
