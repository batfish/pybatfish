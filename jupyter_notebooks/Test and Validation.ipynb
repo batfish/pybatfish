{
 "cells": [
  {
   "cell_type": "markdown",
   "metadata": {},
   "source": [
    "### Testing and Validation of a Network with Batfish"
   ]
  },
  {
   "cell_type": "markdown",
   "metadata": {},
   "source": [
    "Network engineers often need to verify their networks via assertions on device configurations.  This can become a daunting task for large networks when done manually.  However, programmatically performing these assertions on the vendor-independent model produced by Batfish can be done quickly and easily.\n",
    "\n",
    "In this notebook, we will look at different types of validations that can be done with Batfish.  More specifically, we will consider validation of configured NTP servers and we will see how these validations are possible with [Pandas APIs](https://pandas.pydata.org/pandas-docs/stable/)."
   ]
  },
  {
   "cell_type": "code",
   "execution_count": 1,
   "metadata": {},
   "outputs": [],
   "source": [
    "# Importing packages and loading questions\n",
    "%run startup.py"
   ]
  },
  {
   "cell_type": "markdown",
   "metadata": {},
   "source": [
    "### Initializing our Network and Snapshot"
   ]
  },
  {
   "cell_type": "code",
   "execution_count": 2,
   "metadata": {
    "scrolled": false
   },
   "outputs": [
    {
     "data": {
      "text/plain": [
       "'{\\n  \"answerElements\" : [\\n    {\\n      \"class\" : \"org.batfish.datamodel.answers.InitInfoAnswerElement\",\\n      \"parseStatus\" : {\\n        \"as1border1\" : \"PASSED\",\\n        \"as1border2\" : \"PASSED\",\\n        \"as1core1\" : \"PASSED\",\\n        \"as2border1\" : \"PASSED\",\\n        \"as2border2\" : \"PASSED\",\\n        \"as2core1\" : \"PASSED\",\\n        \"as2core2\" : \"PASSED\",\\n        \"as2dept1\" : \"PASSED\",\\n        \"as2dist1\" : \"PASSED\",\\n        \"as2dist2\" : \"PASSED\",\\n        \"as3border1\" : \"PASSED\",\\n        \"as3border2\" : \"PASSED\",\\n        \"as3core1\" : \"PASSED\",\\n        \"host1\" : \"PASSED\",\\n        \"host2\" : \"PASSED\",\\n        \"iptables/host1.iptables\" : \"PASSED\",\\n        \"iptables/host2.iptables\" : \"PASSED\"\\n      }\\n    }\\n  ],\\n  \"status\" : \"SUCCESS\",\\n  \"summary\" : {\\n    \"numFailed\" : 0,\\n    \"numPassed\" : 0,\\n    \"numResults\" : 0\\n  }\\n}\\n'"
      ]
     },
     "execution_count": 2,
     "metadata": {},
     "output_type": "execute_result"
    }
   ],
   "source": [
    "NETWORK_NAME = \"example_network\"\n",
    "SNAPSHOT_NAME = \"example_snapshot\"\n",
    "SNAPSHOT_PATH = \"../test_rigs/example\"\n",
    "\n",
    "try:\n",
    "    bf_init_network(NETWORK_NAME)\n",
    "except BatfishException as e:\n",
    "    bf_set_network(NETWORK_NAME)\n",
    "bf_init_snapshot(SNAPSHOT_PATH, name=SNAPSHOT_NAME)"
   ]
  },
  {
   "cell_type": "markdown",
   "metadata": {},
   "source": [
    "### Validating NTP Servers Configuration\n",
    "There are many potential assertions we might apply on NTP server configuration, but in this notebook we will focus on  the common scenarios we have observed in some real world networks.\n",
    "In this exercise, we will try to validate the following scenarios with respect to a set of reference servers **[18.18.18.18, 23.23.23.23]**:\n",
    "* At least one NTP server is configured on each node (not necessarily from the reference servers).\n",
    "* NTP servers on all nodes should be the same as the reference servers.\n",
    "* NTP servers on all nodes should contain at least one NTP server from the reference servers."
   ]
  },
  {
   "cell_type": "code",
   "execution_count": 3,
   "metadata": {},
   "outputs": [],
   "source": [
    "ref_ntp_servers = set(['18.18.18.18','23.23.23.23'])"
   ]
  },
  {
   "cell_type": "markdown",
   "metadata": {},
   "source": [
    "To start with, let's see the NTP servers configured on the nodes having name containing ***border***."
   ]
  },
  {
   "cell_type": "code",
   "execution_count": 4,
   "metadata": {},
   "outputs": [
    {
     "name": "stderr",
     "output_type": "stream",
     "text": [
      "WARNING: skipping validation for unknown argument type nodeSpec\n",
      "WARNING: skipping validation for unknown argument type nodePropertySpec\n"
     ]
    },
    {
     "data": {
      "text/html": [
       "<div>\n",
       "<style scoped>\n",
       "    .dataframe tbody tr th:only-of-type {\n",
       "        vertical-align: middle;\n",
       "    }\n",
       "\n",
       "    .dataframe tbody tr th {\n",
       "        vertical-align: top;\n",
       "    }\n",
       "\n",
       "    .dataframe thead th {\n",
       "        text-align: right;\n",
       "    }\n",
       "</style>\n",
       "<table border=\"1\" class=\"dataframe\">\n",
       "  <thead>\n",
       "    <tr style=\"text-align: right;\">\n",
       "      <th></th>\n",
       "      <th>node</th>\n",
       "      <th>ntp-servers</th>\n",
       "    </tr>\n",
       "  </thead>\n",
       "  <tbody>\n",
       "    <tr>\n",
       "      <th>0</th>\n",
       "      <td>as1border1</td>\n",
       "      <td>[]</td>\n",
       "    </tr>\n",
       "    <tr>\n",
       "      <th>1</th>\n",
       "      <td>as1border2</td>\n",
       "      <td>[18.18.18.18, 23.23.23.23]</td>\n",
       "    </tr>\n",
       "    <tr>\n",
       "      <th>2</th>\n",
       "      <td>as2border1</td>\n",
       "      <td>[18.18.18.18, 23.23.23.23]</td>\n",
       "    </tr>\n",
       "    <tr>\n",
       "      <th>3</th>\n",
       "      <td>as2border2</td>\n",
       "      <td>[18.18.18.18]</td>\n",
       "    </tr>\n",
       "    <tr>\n",
       "      <th>4</th>\n",
       "      <td>as3border1</td>\n",
       "      <td>[18.18.18.18, 23.23.23.23]</td>\n",
       "    </tr>\n",
       "    <tr>\n",
       "      <th>5</th>\n",
       "      <td>as3border2</td>\n",
       "      <td>[18.18.18.18, 23.23.23.23]</td>\n",
       "    </tr>\n",
       "  </tbody>\n",
       "</table>\n",
       "</div>"
      ],
      "text/plain": [
       "         node                 ntp-servers\n",
       "0  as1border1                          []\n",
       "1  as1border2  [18.18.18.18, 23.23.23.23]\n",
       "2  as2border1  [18.18.18.18, 23.23.23.23]\n",
       "3  as2border2               [18.18.18.18]\n",
       "4  as3border1  [18.18.18.18, 23.23.23.23]\n",
       "5  as3border2  [18.18.18.18, 23.23.23.23]"
      ]
     },
     "execution_count": 4,
     "metadata": {},
     "output_type": "execute_result"
    }
   ],
   "source": [
    "node_props = bfq.nodeProperties(nodeRegex=\".*border.*\", propertySpec=\"ntp-servers\").answer().frame()\n",
    "node_props"
   ]
  },
  {
   "cell_type": "markdown",
   "metadata": {},
   "source": [
    "#### At least one NTP server is configured on each node\n",
    "If a node has at least one NTP server configured (may be arbitarary and not from our reference set), it will pass our assertion.\n",
    "\n",
    "All nodes which have an empty set of NTP servers will be violators of this assertion. Following command can get us a table of violators."
   ]
  },
  {
   "cell_type": "code",
   "execution_count": 5,
   "metadata": {},
   "outputs": [
    {
     "data": {
      "text/html": [
       "<div>\n",
       "<style scoped>\n",
       "    .dataframe tbody tr th:only-of-type {\n",
       "        vertical-align: middle;\n",
       "    }\n",
       "\n",
       "    .dataframe tbody tr th {\n",
       "        vertical-align: top;\n",
       "    }\n",
       "\n",
       "    .dataframe thead th {\n",
       "        text-align: right;\n",
       "    }\n",
       "</style>\n",
       "<table border=\"1\" class=\"dataframe\">\n",
       "  <thead>\n",
       "    <tr style=\"text-align: right;\">\n",
       "      <th></th>\n",
       "      <th>node</th>\n",
       "      <th>ntp-servers</th>\n",
       "    </tr>\n",
       "  </thead>\n",
       "  <tbody>\n",
       "    <tr>\n",
       "      <th>0</th>\n",
       "      <td>as1border1</td>\n",
       "      <td>[]</td>\n",
       "    </tr>\n",
       "  </tbody>\n",
       "</table>\n",
       "</div>"
      ],
      "text/plain": [
       "         node ntp-servers\n",
       "0  as1border1          []"
      ]
     },
     "execution_count": 5,
     "metadata": {},
     "output_type": "execute_result"
    }
   ],
   "source": [
    "# Violators\n",
    "ns_violators = node_props[node_props[\"ntp-servers\"].apply(lambda x: not bool(x))]\n",
    "ns_violators"
   ]
  },
  {
   "cell_type": "markdown",
   "metadata": {},
   "source": [
    "#### NTP servers on all nodes should be the same as our reference\n",
    "A common use case for validating NTP servers generally involves checking that the set of NTP servers on all relevant nodes is equal to a given set. Doing this using pybatfish/pandas is pretty straightforward."
   ]
  },
  {
   "cell_type": "markdown",
   "metadata": {},
   "source": [
    "To get a table of violators an example command would look like"
   ]
  },
  {
   "cell_type": "code",
   "execution_count": 6,
   "metadata": {},
   "outputs": [
    {
     "data": {
      "text/html": [
       "<div>\n",
       "<style scoped>\n",
       "    .dataframe tbody tr th:only-of-type {\n",
       "        vertical-align: middle;\n",
       "    }\n",
       "\n",
       "    .dataframe tbody tr th {\n",
       "        vertical-align: top;\n",
       "    }\n",
       "\n",
       "    .dataframe thead th {\n",
       "        text-align: right;\n",
       "    }\n",
       "</style>\n",
       "<table border=\"1\" class=\"dataframe\">\n",
       "  <thead>\n",
       "    <tr style=\"text-align: right;\">\n",
       "      <th></th>\n",
       "      <th>node</th>\n",
       "      <th>ntp-servers</th>\n",
       "    </tr>\n",
       "  </thead>\n",
       "  <tbody>\n",
       "    <tr>\n",
       "      <th>0</th>\n",
       "      <td>as1border1</td>\n",
       "      <td>[]</td>\n",
       "    </tr>\n",
       "    <tr>\n",
       "      <th>3</th>\n",
       "      <td>as2border2</td>\n",
       "      <td>[18.18.18.18]</td>\n",
       "    </tr>\n",
       "  </tbody>\n",
       "</table>\n",
       "</div>"
      ],
      "text/plain": [
       "         node    ntp-servers\n",
       "0  as1border1             []\n",
       "3  as2border2  [18.18.18.18]"
      ]
     },
     "execution_count": 6,
     "metadata": {},
     "output_type": "execute_result"
    }
   ],
   "source": [
    "# Violators (Nodes whose set of NTP servers is not equal to our reference set)\n",
    "ns_violators = node_props[node_props[\"ntp-servers\"].apply(lambda x: ref_ntp_servers != set(x))]\n",
    "ns_violators"
   ]
  },
  {
   "cell_type": "markdown",
   "metadata": {},
   "source": [
    "If you want to know more about the **lambda** keyword, see [lambda expressions](https://docs.python.org/3/reference/expressions.html#lambda)."
   ]
  },
  {
   "cell_type": "markdown",
   "metadata": {},
   "source": [
    "To look at which nodes actually have different NTP servers compared to our reference set, we can do a set difference on the **ntp-servers** column. Commands to do that would look like below:"
   ]
  },
  {
   "cell_type": "code",
   "execution_count": 7,
   "metadata": {},
   "outputs": [
    {
     "data": {
      "text/html": [
       "<div>\n",
       "<style scoped>\n",
       "    .dataframe tbody tr th:only-of-type {\n",
       "        vertical-align: middle;\n",
       "    }\n",
       "\n",
       "    .dataframe tbody tr th {\n",
       "        vertical-align: top;\n",
       "    }\n",
       "\n",
       "    .dataframe thead th {\n",
       "        text-align: right;\n",
       "    }\n",
       "</style>\n",
       "<table border=\"1\" class=\"dataframe\">\n",
       "  <thead>\n",
       "    <tr style=\"text-align: right;\">\n",
       "      <th></th>\n",
       "      <th>node</th>\n",
       "      <th>ntp-servers-missing</th>\n",
       "    </tr>\n",
       "  </thead>\n",
       "  <tbody>\n",
       "    <tr>\n",
       "      <th>0</th>\n",
       "      <td>as1border1</td>\n",
       "      <td>{18.18.18.18, 23.23.23.23}</td>\n",
       "    </tr>\n",
       "    <tr>\n",
       "      <th>3</th>\n",
       "      <td>as2border2</td>\n",
       "      <td>{23.23.23.23}</td>\n",
       "    </tr>\n",
       "  </tbody>\n",
       "</table>\n",
       "</div>"
      ],
      "text/plain": [
       "         node         ntp-servers-missing\n",
       "0  as1border1  {18.18.18.18, 23.23.23.23}\n",
       "3  as2border2               {23.23.23.23}"
      ]
     },
     "execution_count": 7,
     "metadata": {},
     "output_type": "execute_result"
    }
   ],
   "source": [
    "ns_difference = node_props[\"ntp-servers\"].map(lambda x: ref_ntp_servers - set(x))\n",
    "# Let's pair it up with the node columns for a better view\n",
    "diff_df = pd.DataFrame({'node': node_props[\"node\"], 'ntp-servers-missing': ns_difference})\n",
    "# Getting only the rows with a non-empty ntp-server-difference\n",
    "diff_df[diff_df[\"ntp-servers-missing\"].apply(lambda x: bool(x))]"
   ]
  },
  {
   "cell_type": "markdown",
   "metadata": {},
   "source": [
    "#### NTP servers on all nodes should contain at least one NTP server from our reference\n",
    "NTP servers on all nodes should contain at least one NTP server from our reference. This is a more lenient version of the previous check where if any node contains at least one NTP server from our reference set, it passes our assertion.\n",
    "\n",
    "To get a table of violators, we can use the following command, the intersection of reference NTP servers and a Node's NTP servers should be empty to make it a violator:"
   ]
  },
  {
   "cell_type": "code",
   "execution_count": 8,
   "metadata": {},
   "outputs": [
    {
     "data": {
      "text/html": [
       "<div>\n",
       "<style scoped>\n",
       "    .dataframe tbody tr th:only-of-type {\n",
       "        vertical-align: middle;\n",
       "    }\n",
       "\n",
       "    .dataframe tbody tr th {\n",
       "        vertical-align: top;\n",
       "    }\n",
       "\n",
       "    .dataframe thead th {\n",
       "        text-align: right;\n",
       "    }\n",
       "</style>\n",
       "<table border=\"1\" class=\"dataframe\">\n",
       "  <thead>\n",
       "    <tr style=\"text-align: right;\">\n",
       "      <th></th>\n",
       "      <th>node</th>\n",
       "      <th>ntp-servers</th>\n",
       "    </tr>\n",
       "  </thead>\n",
       "  <tbody>\n",
       "    <tr>\n",
       "      <th>0</th>\n",
       "      <td>as1border1</td>\n",
       "      <td>[]</td>\n",
       "    </tr>\n",
       "  </tbody>\n",
       "</table>\n",
       "</div>"
      ],
      "text/plain": [
       "         node ntp-servers\n",
       "0  as1border1          []"
      ]
     },
     "execution_count": 8,
     "metadata": {},
     "output_type": "execute_result"
    }
   ],
   "source": [
    "# Violators (Nodes which do not contain even a single NTP server from our reference set)\n",
    "ns_violators = node_props[node_props[\"ntp-servers\"].apply(lambda x: not bool(ref_ntp_servers.intersection(set(x))))]\n",
    "ns_violators"
   ]
  },
  {
   "cell_type": "markdown",
   "metadata": {},
   "source": [
    "So _as1border1_ contains an empty set of NTP servers which clearly violates our assertion in this case."
   ]
  },
  {
   "cell_type": "markdown",
   "metadata": {},
   "source": [
    "That's it for now!"
   ]
  }
 ],
 "metadata": {
  "kernelspec": {
   "display_name": "Python 3",
   "language": "python",
   "name": "python3"
  },
  "language_info": {
   "codemirror_mode": {
    "name": "ipython",
    "version": 3
   },
   "file_extension": ".py",
   "mimetype": "text/x-python",
   "name": "python",
   "nbconvert_exporter": "python",
   "pygments_lexer": "ipython3",
   "version": "3.6.3"
  }
 },
 "nbformat": 4,
 "nbformat_minor": 2
}
