{
 "cells": [
  {
   "cell_type": "markdown",
   "metadata": {
    "colab_type": "text",
    "id": "Jn1OYHkLdoxu"
   },
   "source": [
    "# Analyzing the Impact of Failures (and letting loose a Chaos Monkey)\n",
    "\n",
    "Planned (maintenance) and unplanned failure of nodes and interfaces in the network is a frequent occurrence. While most networks are designed to be tolerant to such failures, gaining confidence that they are in fact tolerant is difficult. Network engineers often reason about network behavior under failures manually, which is a complex and error-prone task. Consequently, the network could be one link failure away from an outage that leads to a massive loss of revenue and reputation.\n",
    "\n",
    "Fortunately, based just on device configurations, Batfish makes it easy to *proactively* analyze the network behavior under failures and offer guarantees on its tolerance to a range of failure scenarios. \n",
    "\n",
    "In this notebook, we will show how to use Batfish to analyze network behavior under failures. Specifically, we will describe how to simulate a specific network failure scenario, how to check forwarding changes for all flows in that scenario, and finally how to identify vulnerabilities using Chaos Monkey style testing.\n",
    "\n",
    "Check out a video demo of this notebook [here](https://youtu.be/1adAT6FK-UI)."
   ]
  },
  {
   "cell_type": "markdown",
   "metadata": {
    "colab_type": "text",
    "id": "eR1UNRVUdoxw"
   },
   "source": [
    "## Initialization"
   ]
  },
  {
   "cell_type": "markdown",
   "metadata": {
    "colab_type": "text",
    "id": "_d_ogdeFdoxx"
   },
   "source": [
    "We will use the example network shown below with three autonomous systems (ASes) spread that connect via eBGP. Within each AS  iBGP and OSPF is used. The configurations of these devices are available [here](https://github.com/batfish/pybatfish/tree/master/jupyter_notebooks/networks/failure-analysis).\n",
    "\n",
    "![example-network](https://raw.githubusercontent.com/batfish/pybatfish/master/jupyter_notebooks/networks/failure-analysis/failure-network.png)\n",
    "\n",
    "***"
   ]
  },
  {
   "cell_type": "code",
   "execution_count": 1,
   "metadata": {
    "colab": {
     "base_uri": "https://localhost:8080/",
     "height": 34
    },
    "colab_type": "code",
    "id": "cqm31jGHdoxy",
    "outputId": "334c4eca-b09c-4924-db30-0f77ab22b5cb"
   },
   "outputs": [
    {
     "data": {
      "text/plain": [
       "'base'"
      ]
     },
     "execution_count": 1,
     "metadata": {},
     "output_type": "execute_result"
    }
   ],
   "source": [
    "# Import packages and load questions\n",
    "%run startup.py\n",
    "load_questions()\n",
    "\n",
    "# Initialize the example network and snapshot\n",
    "NETWORK_NAME = \"example_network\"\n",
    "BASE_SNAPSHOT_NAME = \"base\"\n",
    "\n",
    "SNAPSHOT_PATH = \"networks/failure-analysis\"\n",
    "\n",
    "bf_set_network(NETWORK_NAME)\n",
    "bf_init_snapshot(SNAPSHOT_PATH, name=BASE_SNAPSHOT_NAME, overwrite=True)"
   ]
  },
  {
   "cell_type": "markdown",
   "metadata": {
    "colab_type": "text",
    "id": "uxhu1ZWZdox3"
   },
   "source": [
    "## `bf_fork_snapshot`: Simulating network failures\n",
    "To simulate network failures, Batfish offers a simple API `bf_fork_snapshot` that clones the original snapshot to a new one with the specified failure scenarios. \n",
    "\n",
    "Suppose we want to analyze the scenario where node `London` fails. We can use `bf_fork_snapshot` to simulate this failure as shown below."
   ]
  },
  {
   "cell_type": "code",
   "execution_count": 2,
   "metadata": {
    "colab": {
     "base_uri": "https://localhost:8080/",
     "height": 34
    },
    "colab_type": "code",
    "id": "Aql_0RvNdox4",
    "outputId": "a3ee1d60-2d79-4f9f-8483-a1a0134fd54b"
   },
   "outputs": [
    {
     "data": {
      "text/plain": [
       "'fail_london'"
      ]
     },
     "execution_count": 2,
     "metadata": {},
     "output_type": "execute_result"
    }
   ],
   "source": [
    "# Fork a new snapshot with London deactivated\n",
    "FAIL_LONDON_SNAPSHOT_NAME = \"fail_london\"\n",
    "bf_fork_snapshot(BASE_SNAPSHOT_NAME, FAIL_LONDON_SNAPSHOT_NAME, deactivate_nodes=[\"london\"], overwrite=True)"
   ]
  },
  {
   "cell_type": "markdown",
   "metadata": {
    "colab_type": "text",
    "id": "S_L6mS-odox7"
   },
   "source": [
    "In the code, `bf_fork_snapshot` accepts four parameters: `BASE_SNAPSHOT_NAME` indicates the original snapshot name, `FAIL_LONDON_SNAPSHOT_NAME` is the name of the new snapshot, `deactivate_nodes` is a list of nodes that we wish to fail, and `overwrite=True` indicates that we want to reinitialize the snapshot if it already exists. \n",
    "\n",
    "In addition to `deactivate_nodes`, `bf_fork_snapshot` can also take `deactivate_interfaces` and `deactivate_links` as parameters to simulate interface and link failures. Combining these functions, Batfish allows us to simulate complicated failure scenarios involving interfaces, nodes, and links. For example, `bf_fork_snapshot(BASE_SNAPSHOT_NAME, FAIL_SNAPSHOT_NAME, deactivate_nodes=FAIL_NODES, deactivate_interfaces=FAIL_INTERFACES, overwrite=True))` creates a new snapshot that simulates both node and interface failures."
   ]
  },
  {
   "cell_type": "markdown",
   "metadata": {
    "colab_type": "text",
    "id": "tvuOz2MMdox_"
   },
   "source": [
    "To understand network behavior under the simulated failure, we can run any Batfish question on the newly created snapshot.  As an example, to ensure that the flows from `Paris` would still reach `PoP` even if `London` failed, we can run the traceroute question on the snapshot in which London has failed, as shown below. (See the [Introduction to Forwarding Analysis using Batfish](https://github.com/batfish/pybatfish/blob/master/jupyter_notebooks/Introduction%20to%20Forwarding%20Analysis.ipynb) notebook for more forwarding analysis questions)."
   ]
  },
  {
   "cell_type": "code",
   "execution_count": 3,
   "metadata": {
    "colab": {
     "base_uri": "https://localhost:8080/",
     "height": 10324
    },
    "colab_type": "code",
    "id": "lWIN-v-4doyA",
    "outputId": "6d8b43d0-ffc9-479d-ff1a-296bb919a738",
    "scrolled": true
   },
   "outputs": [
    {
     "data": {
      "text/html": [
       "<style  type=\"text/css\" >\n",
       "    #T_pybfstylerow0_col0 {\n",
       "            text-align:  left;\n",
       "            vertical-align:  top;\n",
       "        }    #T_pybfstylerow0_col1 {\n",
       "            text-align:  left;\n",
       "            vertical-align:  top;\n",
       "        }    #T_pybfstylerow0_col2 {\n",
       "            text-align:  left;\n",
       "            vertical-align:  top;\n",
       "        }    #T_pybfstylerow1_col0 {\n",
       "            text-align:  left;\n",
       "            vertical-align:  top;\n",
       "        }    #T_pybfstylerow1_col1 {\n",
       "            text-align:  left;\n",
       "            vertical-align:  top;\n",
       "        }    #T_pybfstylerow1_col2 {\n",
       "            text-align:  left;\n",
       "            vertical-align:  top;\n",
       "        }    #T_pybfstylerow2_col0 {\n",
       "            text-align:  left;\n",
       "            vertical-align:  top;\n",
       "        }    #T_pybfstylerow2_col1 {\n",
       "            text-align:  left;\n",
       "            vertical-align:  top;\n",
       "        }    #T_pybfstylerow2_col2 {\n",
       "            text-align:  left;\n",
       "            vertical-align:  top;\n",
       "        }    #T_pybfstylerow3_col0 {\n",
       "            text-align:  left;\n",
       "            vertical-align:  top;\n",
       "        }    #T_pybfstylerow3_col1 {\n",
       "            text-align:  left;\n",
       "            vertical-align:  top;\n",
       "        }    #T_pybfstylerow3_col2 {\n",
       "            text-align:  left;\n",
       "            vertical-align:  top;\n",
       "        }</style><table id=\"T_pybfstyle\"  class=\"tex2jax_ignore\"><thead>    <tr>        <th class=\"blank level0\" ></th>        <th class=\"col_heading level0 col0\" >Flow</th>        <th class=\"col_heading level0 col1\" >Traces</th>        <th class=\"col_heading level0 col2\" >TraceCount</th>    </tr></thead><tbody>\n",
       "                <tr>\n",
       "                        <th id=\"T_pybfstylelevel0_row0\" class=\"row_heading level0 row0\" >0</th>\n",
       "                        <td id=\"T_pybfstylerow0_col0\" class=\"data row0 col0\" >Start Location: paris<br>Src IP: 1.0.1.2<br>Src Port: 49152<br>Dst IP: 2.128.0.0<br>Dst Port: 33434<br>IP Protocol: UDP</td>\n",
       "                        <td id=\"T_pybfstylerow0_col1\" class=\"data row0 col1\" ><span style=\"color:#019612; text-weight:bold;\">EXITS_NETWORK</span><br><strong>1</strong>. node: paris<br>&nbsp;&nbsp;ORIGINATED(default)<br>&nbsp;&nbsp;FORWARDED(Routes: ibgp [Network: 2.128.0.0/16, Next Hop IP:10.13.22.3])<br>&nbsp;&nbsp;TRANSMITTED(GigabitEthernet0/0)<br><strong>2</strong>. node: milan<br>&nbsp;&nbsp;RECEIVED(GigabitEthernet1/0)<br>&nbsp;&nbsp;FORWARDED(Routes: bgp [Network: 2.128.0.0/16, Next Hop IP:10.13.22.3])<br>&nbsp;&nbsp;TRANSMITTED(GigabitEthernet0/0)<br><strong>3</strong>. node: singapore<br>&nbsp;&nbsp;RECEIVED(GigabitEthernet0/0)<br>&nbsp;&nbsp;FORWARDED(Routes: ibgp [Network: 2.128.0.0/16, Next Hop IP:10.23.21.2])<br>&nbsp;&nbsp;TRANSMITTED(GigabitEthernet1/0)<br><strong>4</strong>. node: hongkong<br>&nbsp;&nbsp;RECEIVED(GigabitEthernet0/0)<br>&nbsp;&nbsp;FORWARDED(Routes: ibgp [Network: 2.128.0.0/16, Next Hop IP:10.23.21.2])<br>&nbsp;&nbsp;TRANSMITTED(GigabitEthernet1/0)<br><strong>5</strong>. node: tokyo<br>&nbsp;&nbsp;RECEIVED(GigabitEthernet0/0)<br>&nbsp;&nbsp;FORWARDED(Routes: bgp [Network: 2.128.0.0/16, Next Hop IP:10.23.21.2])<br>&nbsp;&nbsp;TRANSMITTED(GigabitEthernet1/0)<br><strong>6</strong>. node: seattle<br>&nbsp;&nbsp;RECEIVED(GigabitEthernet0/0)<br>&nbsp;&nbsp;FORWARDED(Routes: ibgp [Network: 2.128.0.0/24, Next Hop IP:2.34.101.4],ibgp [Network: 2.128.0.0/24, Next Hop IP:2.34.201.4])<br>&nbsp;&nbsp;TRANSMITTED(GigabitEthernet1/0)<br><strong>7</strong>. node: sanfrancisco<br>&nbsp;&nbsp;RECEIVED(GigabitEthernet0/0)<br>&nbsp;&nbsp;FORWARDED(Routes: ibgp [Network: 2.128.0.0/24, Next Hop IP:2.34.101.4],ibgp [Network: 2.128.0.0/24, Next Hop IP:2.34.201.4])<br>&nbsp;&nbsp;TRANSMITTED(GigabitEthernet2/0)<br><strong>8</strong>. node: losangeles<br>&nbsp;&nbsp;RECEIVED(GigabitEthernet0/0)<br>&nbsp;&nbsp;FORWARDED(Routes: bgp [Network: 2.128.0.0/24, Next Hop IP:2.34.201.4])<br>&nbsp;&nbsp;TRANSMITTED(GigabitEthernet2/0)<br><strong>9</strong>. node: houston<br>&nbsp;&nbsp;RECEIVED(GigabitEthernet1/0)<br>&nbsp;&nbsp;FORWARDED(Routes: connected [Network: 2.128.0.0/24, Next Hop IP:AUTO/NONE(-1l)])<br>&nbsp;&nbsp;EXITS_NETWORK(GigabitEthernet2/0)</td>\n",
       "                        <td id=\"T_pybfstylerow0_col2\" class=\"data row0 col2\" >4</td>\n",
       "            </tr>\n",
       "            <tr>\n",
       "                        <th id=\"T_pybfstylelevel0_row1\" class=\"row_heading level0 row1\" >1</th>\n",
       "                        <td id=\"T_pybfstylerow1_col0\" class=\"data row1 col0\" >Start Location: paris<br>Src IP: 1.0.2.2<br>Src Port: 49152<br>Dst IP: 2.128.0.0<br>Dst Port: 33434<br>IP Protocol: UDP</td>\n",
       "                        <td id=\"T_pybfstylerow1_col1\" class=\"data row1 col1\" ><span style=\"color:#019612; text-weight:bold;\">EXITS_NETWORK</span><br><strong>1</strong>. node: paris<br>&nbsp;&nbsp;ORIGINATED(default)<br>&nbsp;&nbsp;FORWARDED(Routes: ibgp [Network: 2.128.0.0/16, Next Hop IP:10.13.22.3])<br>&nbsp;&nbsp;TRANSMITTED(GigabitEthernet0/0)<br><strong>2</strong>. node: milan<br>&nbsp;&nbsp;RECEIVED(GigabitEthernet1/0)<br>&nbsp;&nbsp;FORWARDED(Routes: bgp [Network: 2.128.0.0/16, Next Hop IP:10.13.22.3])<br>&nbsp;&nbsp;TRANSMITTED(GigabitEthernet0/0)<br><strong>3</strong>. node: singapore<br>&nbsp;&nbsp;RECEIVED(GigabitEthernet0/0)<br>&nbsp;&nbsp;FORWARDED(Routes: ibgp [Network: 2.128.0.0/16, Next Hop IP:10.23.21.2])<br>&nbsp;&nbsp;TRANSMITTED(GigabitEthernet1/0)<br><strong>4</strong>. node: hongkong<br>&nbsp;&nbsp;RECEIVED(GigabitEthernet0/0)<br>&nbsp;&nbsp;FORWARDED(Routes: ibgp [Network: 2.128.0.0/16, Next Hop IP:10.23.21.2])<br>&nbsp;&nbsp;TRANSMITTED(GigabitEthernet1/0)<br><strong>5</strong>. node: tokyo<br>&nbsp;&nbsp;RECEIVED(GigabitEthernet0/0)<br>&nbsp;&nbsp;FORWARDED(Routes: bgp [Network: 2.128.0.0/16, Next Hop IP:10.23.21.2])<br>&nbsp;&nbsp;TRANSMITTED(GigabitEthernet1/0)<br><strong>6</strong>. node: seattle<br>&nbsp;&nbsp;RECEIVED(GigabitEthernet0/0)<br>&nbsp;&nbsp;FORWARDED(Routes: ibgp [Network: 2.128.0.0/24, Next Hop IP:2.34.101.4],ibgp [Network: 2.128.0.0/24, Next Hop IP:2.34.201.4])<br>&nbsp;&nbsp;TRANSMITTED(GigabitEthernet1/0)<br><strong>7</strong>. node: sanfrancisco<br>&nbsp;&nbsp;RECEIVED(GigabitEthernet0/0)<br>&nbsp;&nbsp;FORWARDED(Routes: ibgp [Network: 2.128.0.0/24, Next Hop IP:2.34.101.4],ibgp [Network: 2.128.0.0/24, Next Hop IP:2.34.201.4])<br>&nbsp;&nbsp;TRANSMITTED(GigabitEthernet2/0)<br><strong>8</strong>. node: losangeles<br>&nbsp;&nbsp;RECEIVED(GigabitEthernet0/0)<br>&nbsp;&nbsp;FORWARDED(Routes: bgp [Network: 2.128.0.0/24, Next Hop IP:2.34.201.4])<br>&nbsp;&nbsp;TRANSMITTED(GigabitEthernet2/0)<br><strong>9</strong>. node: houston<br>&nbsp;&nbsp;RECEIVED(GigabitEthernet1/0)<br>&nbsp;&nbsp;FORWARDED(Routes: connected [Network: 2.128.0.0/24, Next Hop IP:AUTO/NONE(-1l)])<br>&nbsp;&nbsp;EXITS_NETWORK(GigabitEthernet2/0)</td>\n",
       "                        <td id=\"T_pybfstylerow1_col2\" class=\"data row1 col2\" >4</td>\n",
       "            </tr>\n",
       "            <tr>\n",
       "                        <th id=\"T_pybfstylelevel0_row2\" class=\"row_heading level0 row2\" >2</th>\n",
       "                        <td id=\"T_pybfstylerow2_col0\" class=\"data row2 col0\" >Start Location: paris<br>Src IP: 1.10.1.1<br>Src Port: 49152<br>Dst IP: 2.128.0.0<br>Dst Port: 33434<br>IP Protocol: UDP</td>\n",
       "                        <td id=\"T_pybfstylerow2_col1\" class=\"data row2 col1\" ><span style=\"color:#019612; text-weight:bold;\">EXITS_NETWORK</span><br><strong>1</strong>. node: paris<br>&nbsp;&nbsp;ORIGINATED(default)<br>&nbsp;&nbsp;FORWARDED(Routes: ibgp [Network: 2.128.0.0/16, Next Hop IP:10.13.22.3])<br>&nbsp;&nbsp;TRANSMITTED(GigabitEthernet0/0)<br><strong>2</strong>. node: milan<br>&nbsp;&nbsp;RECEIVED(GigabitEthernet1/0)<br>&nbsp;&nbsp;FORWARDED(Routes: bgp [Network: 2.128.0.0/16, Next Hop IP:10.13.22.3])<br>&nbsp;&nbsp;TRANSMITTED(GigabitEthernet0/0)<br><strong>3</strong>. node: singapore<br>&nbsp;&nbsp;RECEIVED(GigabitEthernet0/0)<br>&nbsp;&nbsp;FORWARDED(Routes: ibgp [Network: 2.128.0.0/16, Next Hop IP:10.23.21.2])<br>&nbsp;&nbsp;TRANSMITTED(GigabitEthernet1/0)<br><strong>4</strong>. node: hongkong<br>&nbsp;&nbsp;RECEIVED(GigabitEthernet0/0)<br>&nbsp;&nbsp;FORWARDED(Routes: ibgp [Network: 2.128.0.0/16, Next Hop IP:10.23.21.2])<br>&nbsp;&nbsp;TRANSMITTED(GigabitEthernet1/0)<br><strong>5</strong>. node: tokyo<br>&nbsp;&nbsp;RECEIVED(GigabitEthernet0/0)<br>&nbsp;&nbsp;FORWARDED(Routes: bgp [Network: 2.128.0.0/16, Next Hop IP:10.23.21.2])<br>&nbsp;&nbsp;TRANSMITTED(GigabitEthernet1/0)<br><strong>6</strong>. node: seattle<br>&nbsp;&nbsp;RECEIVED(GigabitEthernet0/0)<br>&nbsp;&nbsp;FORWARDED(Routes: ibgp [Network: 2.128.0.0/24, Next Hop IP:2.34.101.4],ibgp [Network: 2.128.0.0/24, Next Hop IP:2.34.201.4])<br>&nbsp;&nbsp;TRANSMITTED(GigabitEthernet1/0)<br><strong>7</strong>. node: sanfrancisco<br>&nbsp;&nbsp;RECEIVED(GigabitEthernet0/0)<br>&nbsp;&nbsp;FORWARDED(Routes: ibgp [Network: 2.128.0.0/24, Next Hop IP:2.34.101.4],ibgp [Network: 2.128.0.0/24, Next Hop IP:2.34.201.4])<br>&nbsp;&nbsp;TRANSMITTED(GigabitEthernet2/0)<br><strong>8</strong>. node: losangeles<br>&nbsp;&nbsp;RECEIVED(GigabitEthernet0/0)<br>&nbsp;&nbsp;FORWARDED(Routes: bgp [Network: 2.128.0.0/24, Next Hop IP:2.34.201.4])<br>&nbsp;&nbsp;TRANSMITTED(GigabitEthernet2/0)<br><strong>9</strong>. node: houston<br>&nbsp;&nbsp;RECEIVED(GigabitEthernet1/0)<br>&nbsp;&nbsp;FORWARDED(Routes: connected [Network: 2.128.0.0/24, Next Hop IP:AUTO/NONE(-1l)])<br>&nbsp;&nbsp;EXITS_NETWORK(GigabitEthernet2/0)</td>\n",
       "                        <td id=\"T_pybfstylerow2_col2\" class=\"data row2 col2\" >4</td>\n",
       "            </tr>\n",
       "            <tr>\n",
       "                        <th id=\"T_pybfstylelevel0_row3\" class=\"row_heading level0 row3\" >3</th>\n",
       "                        <td id=\"T_pybfstylerow3_col0\" class=\"data row3 col0\" >Start Location: paris<br>Src IP: 90.90.90.2<br>Src Port: 49152<br>Dst IP: 2.128.0.0<br>Dst Port: 33434<br>IP Protocol: UDP</td>\n",
       "                        <td id=\"T_pybfstylerow3_col1\" class=\"data row3 col1\" ><span style=\"color:#019612; text-weight:bold;\">EXITS_NETWORK</span><br><strong>1</strong>. node: paris<br>&nbsp;&nbsp;ORIGINATED(default)<br>&nbsp;&nbsp;FORWARDED(Routes: ibgp [Network: 2.128.0.0/16, Next Hop IP:10.13.22.3])<br>&nbsp;&nbsp;TRANSMITTED(GigabitEthernet0/0)<br><strong>2</strong>. node: milan<br>&nbsp;&nbsp;RECEIVED(GigabitEthernet1/0)<br>&nbsp;&nbsp;FORWARDED(Routes: bgp [Network: 2.128.0.0/16, Next Hop IP:10.13.22.3])<br>&nbsp;&nbsp;TRANSMITTED(GigabitEthernet0/0)<br><strong>3</strong>. node: singapore<br>&nbsp;&nbsp;RECEIVED(GigabitEthernet0/0)<br>&nbsp;&nbsp;FORWARDED(Routes: ibgp [Network: 2.128.0.0/16, Next Hop IP:10.23.21.2])<br>&nbsp;&nbsp;TRANSMITTED(GigabitEthernet1/0)<br><strong>4</strong>. node: hongkong<br>&nbsp;&nbsp;RECEIVED(GigabitEthernet0/0)<br>&nbsp;&nbsp;FORWARDED(Routes: ibgp [Network: 2.128.0.0/16, Next Hop IP:10.23.21.2])<br>&nbsp;&nbsp;TRANSMITTED(GigabitEthernet1/0)<br><strong>5</strong>. node: tokyo<br>&nbsp;&nbsp;RECEIVED(GigabitEthernet0/0)<br>&nbsp;&nbsp;FORWARDED(Routes: bgp [Network: 2.128.0.0/16, Next Hop IP:10.23.21.2])<br>&nbsp;&nbsp;TRANSMITTED(GigabitEthernet1/0)<br><strong>6</strong>. node: seattle<br>&nbsp;&nbsp;RECEIVED(GigabitEthernet0/0)<br>&nbsp;&nbsp;FORWARDED(Routes: ibgp [Network: 2.128.0.0/24, Next Hop IP:2.34.101.4],ibgp [Network: 2.128.0.0/24, Next Hop IP:2.34.201.4])<br>&nbsp;&nbsp;TRANSMITTED(GigabitEthernet1/0)<br><strong>7</strong>. node: sanfrancisco<br>&nbsp;&nbsp;RECEIVED(GigabitEthernet0/0)<br>&nbsp;&nbsp;FORWARDED(Routes: ibgp [Network: 2.128.0.0/24, Next Hop IP:2.34.101.4],ibgp [Network: 2.128.0.0/24, Next Hop IP:2.34.201.4])<br>&nbsp;&nbsp;TRANSMITTED(GigabitEthernet2/0)<br><strong>8</strong>. node: losangeles<br>&nbsp;&nbsp;RECEIVED(GigabitEthernet0/0)<br>&nbsp;&nbsp;FORWARDED(Routes: bgp [Network: 2.128.0.0/24, Next Hop IP:2.34.201.4])<br>&nbsp;&nbsp;TRANSMITTED(GigabitEthernet2/0)<br><strong>9</strong>. node: houston<br>&nbsp;&nbsp;RECEIVED(GigabitEthernet1/0)<br>&nbsp;&nbsp;FORWARDED(Routes: connected [Network: 2.128.0.0/24, Next Hop IP:AUTO/NONE(-1l)])<br>&nbsp;&nbsp;EXITS_NETWORK(GigabitEthernet2/0)</td>\n",
       "                        <td id=\"T_pybfstylerow3_col2\" class=\"data row3 col2\" >4</td>\n",
       "            </tr>\n",
       "    </tbody></table>"
      ],
      "text/plain": [
       "                                                             Flow  \\\n",
       "0  start=paris [1.0.1.2:49152->2.128.0.0:33434 UDP length=512]      \n",
       "1  start=paris [1.0.2.2:49152->2.128.0.0:33434 UDP length=512]      \n",
       "2  start=paris [1.10.1.1:49152->2.128.0.0:33434 UDP length=512]     \n",
       "3  start=paris [90.90.90.2:49152->2.128.0.0:33434 UDP length=512]   \n",
       "\n",
       "                                                                                                                                                                                                                                                                                                                                                                                                                                                                                                                                                                                                                                                                                                                                                                                                                                                                                                                                                                                                                                                                                                                                                                                                                                                                                                                                                                                                  Traces  \\\n",
       "0  [((ORIGINATED(default), FORWARDED(Routes: ibgp [Network: 2.128.0.0/16, Next Hop IP:10.13.22.3]), TRANSMITTED(GigabitEthernet0/0)), (RECEIVED(GigabitEthernet1/0), FORWARDED(Routes: bgp [Network: 2.128.0.0/16, Next Hop IP:10.13.22.3]), TRANSMITTED(GigabitEthernet0/0)), (RECEIVED(GigabitEthernet0/0), FORWARDED(Routes: ibgp [Network: 2.128.0.0/16, Next Hop IP:10.23.21.2]), TRANSMITTED(GigabitEthernet1/0)), (RECEIVED(GigabitEthernet0/0), FORWARDED(Routes: ibgp [Network: 2.128.0.0/16, Next Hop IP:10.23.21.2]), TRANSMITTED(GigabitEthernet1/0)), (RECEIVED(GigabitEthernet0/0), FORWARDED(Routes: bgp [Network: 2.128.0.0/16, Next Hop IP:10.23.21.2]), TRANSMITTED(GigabitEthernet1/0)), (RECEIVED(GigabitEthernet0/0), FORWARDED(Routes: ibgp [Network: 2.128.0.0/24, Next Hop IP:2.34.101.4],ibgp [Network: 2.128.0.0/24, Next Hop IP:2.34.201.4]), TRANSMITTED(GigabitEthernet1/0)), (RECEIVED(GigabitEthernet0/0), FORWARDED(Routes: ibgp [Network: 2.128.0.0/24, Next Hop IP:2.34.101.4],ibgp [Network: 2.128.0.0/24, Next Hop IP:2.34.201.4]), TRANSMITTED(GigabitEthernet2/0)), (RECEIVED(GigabitEthernet0/0), FORWARDED(Routes: bgp [Network: 2.128.0.0/24, Next Hop IP:2.34.201.4]), TRANSMITTED(GigabitEthernet2/0)), (RECEIVED(GigabitEthernet1/0), FORWARDED(Routes: connected [Network: 2.128.0.0/24, Next Hop IP:AUTO/NONE(-1l)]), EXITS_NETWORK(GigabitEthernet2/0)))]   \n",
       "1  [((ORIGINATED(default), FORWARDED(Routes: ibgp [Network: 2.128.0.0/16, Next Hop IP:10.13.22.3]), TRANSMITTED(GigabitEthernet0/0)), (RECEIVED(GigabitEthernet1/0), FORWARDED(Routes: bgp [Network: 2.128.0.0/16, Next Hop IP:10.13.22.3]), TRANSMITTED(GigabitEthernet0/0)), (RECEIVED(GigabitEthernet0/0), FORWARDED(Routes: ibgp [Network: 2.128.0.0/16, Next Hop IP:10.23.21.2]), TRANSMITTED(GigabitEthernet1/0)), (RECEIVED(GigabitEthernet0/0), FORWARDED(Routes: ibgp [Network: 2.128.0.0/16, Next Hop IP:10.23.21.2]), TRANSMITTED(GigabitEthernet1/0)), (RECEIVED(GigabitEthernet0/0), FORWARDED(Routes: bgp [Network: 2.128.0.0/16, Next Hop IP:10.23.21.2]), TRANSMITTED(GigabitEthernet1/0)), (RECEIVED(GigabitEthernet0/0), FORWARDED(Routes: ibgp [Network: 2.128.0.0/24, Next Hop IP:2.34.101.4],ibgp [Network: 2.128.0.0/24, Next Hop IP:2.34.201.4]), TRANSMITTED(GigabitEthernet1/0)), (RECEIVED(GigabitEthernet0/0), FORWARDED(Routes: ibgp [Network: 2.128.0.0/24, Next Hop IP:2.34.101.4],ibgp [Network: 2.128.0.0/24, Next Hop IP:2.34.201.4]), TRANSMITTED(GigabitEthernet2/0)), (RECEIVED(GigabitEthernet0/0), FORWARDED(Routes: bgp [Network: 2.128.0.0/24, Next Hop IP:2.34.201.4]), TRANSMITTED(GigabitEthernet2/0)), (RECEIVED(GigabitEthernet1/0), FORWARDED(Routes: connected [Network: 2.128.0.0/24, Next Hop IP:AUTO/NONE(-1l)]), EXITS_NETWORK(GigabitEthernet2/0)))]   \n",
       "2  [((ORIGINATED(default), FORWARDED(Routes: ibgp [Network: 2.128.0.0/16, Next Hop IP:10.13.22.3]), TRANSMITTED(GigabitEthernet0/0)), (RECEIVED(GigabitEthernet1/0), FORWARDED(Routes: bgp [Network: 2.128.0.0/16, Next Hop IP:10.13.22.3]), TRANSMITTED(GigabitEthernet0/0)), (RECEIVED(GigabitEthernet0/0), FORWARDED(Routes: ibgp [Network: 2.128.0.0/16, Next Hop IP:10.23.21.2]), TRANSMITTED(GigabitEthernet1/0)), (RECEIVED(GigabitEthernet0/0), FORWARDED(Routes: ibgp [Network: 2.128.0.0/16, Next Hop IP:10.23.21.2]), TRANSMITTED(GigabitEthernet1/0)), (RECEIVED(GigabitEthernet0/0), FORWARDED(Routes: bgp [Network: 2.128.0.0/16, Next Hop IP:10.23.21.2]), TRANSMITTED(GigabitEthernet1/0)), (RECEIVED(GigabitEthernet0/0), FORWARDED(Routes: ibgp [Network: 2.128.0.0/24, Next Hop IP:2.34.101.4],ibgp [Network: 2.128.0.0/24, Next Hop IP:2.34.201.4]), TRANSMITTED(GigabitEthernet1/0)), (RECEIVED(GigabitEthernet0/0), FORWARDED(Routes: ibgp [Network: 2.128.0.0/24, Next Hop IP:2.34.101.4],ibgp [Network: 2.128.0.0/24, Next Hop IP:2.34.201.4]), TRANSMITTED(GigabitEthernet2/0)), (RECEIVED(GigabitEthernet0/0), FORWARDED(Routes: bgp [Network: 2.128.0.0/24, Next Hop IP:2.34.201.4]), TRANSMITTED(GigabitEthernet2/0)), (RECEIVED(GigabitEthernet1/0), FORWARDED(Routes: connected [Network: 2.128.0.0/24, Next Hop IP:AUTO/NONE(-1l)]), EXITS_NETWORK(GigabitEthernet2/0)))]   \n",
       "3  [((ORIGINATED(default), FORWARDED(Routes: ibgp [Network: 2.128.0.0/16, Next Hop IP:10.13.22.3]), TRANSMITTED(GigabitEthernet0/0)), (RECEIVED(GigabitEthernet1/0), FORWARDED(Routes: bgp [Network: 2.128.0.0/16, Next Hop IP:10.13.22.3]), TRANSMITTED(GigabitEthernet0/0)), (RECEIVED(GigabitEthernet0/0), FORWARDED(Routes: ibgp [Network: 2.128.0.0/16, Next Hop IP:10.23.21.2]), TRANSMITTED(GigabitEthernet1/0)), (RECEIVED(GigabitEthernet0/0), FORWARDED(Routes: ibgp [Network: 2.128.0.0/16, Next Hop IP:10.23.21.2]), TRANSMITTED(GigabitEthernet1/0)), (RECEIVED(GigabitEthernet0/0), FORWARDED(Routes: bgp [Network: 2.128.0.0/16, Next Hop IP:10.23.21.2]), TRANSMITTED(GigabitEthernet1/0)), (RECEIVED(GigabitEthernet0/0), FORWARDED(Routes: ibgp [Network: 2.128.0.0/24, Next Hop IP:2.34.101.4],ibgp [Network: 2.128.0.0/24, Next Hop IP:2.34.201.4]), TRANSMITTED(GigabitEthernet1/0)), (RECEIVED(GigabitEthernet0/0), FORWARDED(Routes: ibgp [Network: 2.128.0.0/24, Next Hop IP:2.34.101.4],ibgp [Network: 2.128.0.0/24, Next Hop IP:2.34.201.4]), TRANSMITTED(GigabitEthernet2/0)), (RECEIVED(GigabitEthernet0/0), FORWARDED(Routes: bgp [Network: 2.128.0.0/24, Next Hop IP:2.34.201.4]), TRANSMITTED(GigabitEthernet2/0)), (RECEIVED(GigabitEthernet1/0), FORWARDED(Routes: connected [Network: 2.128.0.0/24, Next Hop IP:AUTO/NONE(-1l)]), EXITS_NETWORK(GigabitEthernet2/0)))]   \n",
       "\n",
       "  TraceCount  \n",
       "0  4          \n",
       "1  4          \n",
       "2  4          \n",
       "3  4          "
      ]
     },
     "metadata": {},
     "output_type": "display_data"
    }
   ],
   "source": [
    "# Get the answer of a traceroute question from Paris to the PoP's prefix\n",
    "pop_prefix = \"2.128.0.0/24\"\n",
    "tr_answer = bfq.traceroute(\n",
    "    startLocation=\"paris\",\n",
    "    headers=HeaderConstraints(dstIps=pop_prefix),\n",
    "    maxTraces=1\n",
    ").answer(FAIL_LONDON_SNAPSHOT_NAME)\n",
    "\n",
    "# Display the result in a pretty form\n",
    "show(tr_answer.frame())"
   ]
  },
  {
   "cell_type": "markdown",
   "metadata": {
    "colab_type": "text",
    "id": "jmJduHMMXUVr"
   },
   "source": [
    "Great! We have confirmed that `Paris` can still reach `PoP` via `Asia` even when `London` has failed. "
   ]
  },
  {
   "cell_type": "markdown",
   "metadata": {
    "colab_type": "text",
    "id": "tjVaHTZVdoyD"
   },
   "source": [
    "## `differentialReachability`: Checking changes of forwarding behavior for *all* flows"
   ]
  },
  {
   "cell_type": "markdown",
   "metadata": {
    "colab_type": "text",
    "id": "XoapZDnedoyE"
   },
   "source": [
    "Above, we saw how Batfish can create new snapshots that simulate failure scenarios and run analysis on them. This capability is useful to *test* the forwarding behavior under interesting failure scenarios. In some cases, we may also want to *verify* that certain network failures have no impact to the network, i.e., the forwarding behavior of *all* flows would not be changed by those failures. \n",
    "\n",
    "We now show a powerful question `differentialReachability` of Batfish, which allows us to analyze changes of *any* flow between two snapshots. This question will report any flow that was successfully delivered in the base snapshot but will not be delivered in failure snapshot or the other way around---not delivered in the base snapshot but delivered in the failure snapshot. \n",
    "\n",
    "Let us revisit the scenario where `London` fails. To understand if this failure impacts any flow to the PoP in the `US`, we can run the differential reachability question as below, by scoping the search to flows destined to the `PoP`(from anywhere) and comparing `FAIL_LONDON_SNAPSHOT_NAME` with `BASE_SNAPSHOT_NAME` as the reference. Leaving the headers field unscoped would search across flows to all possible destinations. "
   ]
  },
  {
   "cell_type": "code",
   "execution_count": 4,
   "metadata": {
    "colab": {
     "base_uri": "https://localhost:8080/",
     "height": 741
    },
    "colab_type": "code",
    "id": "DNV0CDfWdoyF",
    "outputId": "9a371b43-0bca-48d3-b7e4-9ea7a2ecc919",
    "scrolled": true
   },
   "outputs": [
    {
     "data": {
      "text/html": [
       "<style  type=\"text/css\" >\n",
       "    #T_pybfstylerow0_col0 {\n",
       "            text-align:  left;\n",
       "            vertical-align:  top;\n",
       "        }    #T_pybfstylerow0_col1 {\n",
       "            text-align:  left;\n",
       "            vertical-align:  top;\n",
       "        }    #T_pybfstylerow0_col2 {\n",
       "            text-align:  left;\n",
       "            vertical-align:  top;\n",
       "        }    #T_pybfstylerow0_col3 {\n",
       "            text-align:  left;\n",
       "            vertical-align:  top;\n",
       "        }    #T_pybfstylerow0_col4 {\n",
       "            text-align:  left;\n",
       "            vertical-align:  top;\n",
       "        }</style><table id=\"T_pybfstyle\"  class=\"tex2jax_ignore\"><thead>    <tr>        <th class=\"blank level0\" ></th>        <th class=\"col_heading level0 col0\" >Flow</th>        <th class=\"col_heading level0 col1\" >Snapshot_Traces</th>        <th class=\"col_heading level0 col2\" >Snapshot_TraceCount</th>        <th class=\"col_heading level0 col3\" >Reference_Traces</th>        <th class=\"col_heading level0 col4\" >Reference_TraceCount</th>    </tr></thead><tbody>\n",
       "                <tr>\n",
       "                        <th id=\"T_pybfstylelevel0_row0\" class=\"row_heading level0 row0\" >0</th>\n",
       "                        <td id=\"T_pybfstylerow0_col0\" class=\"data row0 col0\" >Start Location: milan<br>Src IP: 1.0.2.1<br>Dst IP: 2.128.0.0<br>IP Protocol: ICMP</td>\n",
       "                        <td id=\"T_pybfstylerow0_col1\" class=\"data row0 col1\" ><span style=\"color:#019612; text-weight:bold;\">EXITS_NETWORK</span><br><strong>1</strong>. node: milan<br>&nbsp;&nbsp;ORIGINATED(default)<br>&nbsp;&nbsp;FORWARDED(Routes: bgp [Network: 2.128.0.0/16, Next Hop IP:10.13.22.3])<br>&nbsp;&nbsp;TRANSMITTED(GigabitEthernet0/0)<br><strong>2</strong>. node: singapore<br>&nbsp;&nbsp;RECEIVED(GigabitEthernet0/0)<br>&nbsp;&nbsp;FORWARDED(Routes: ibgp [Network: 2.128.0.0/16, Next Hop IP:10.23.21.2])<br>&nbsp;&nbsp;TRANSMITTED(GigabitEthernet1/0)<br><strong>3</strong>. node: hongkong<br>&nbsp;&nbsp;RECEIVED(GigabitEthernet0/0)<br>&nbsp;&nbsp;FORWARDED(Routes: ibgp [Network: 2.128.0.0/16, Next Hop IP:10.23.21.2])<br>&nbsp;&nbsp;TRANSMITTED(GigabitEthernet1/0)<br><strong>4</strong>. node: tokyo<br>&nbsp;&nbsp;RECEIVED(GigabitEthernet0/0)<br>&nbsp;&nbsp;FORWARDED(Routes: bgp [Network: 2.128.0.0/16, Next Hop IP:10.23.21.2])<br>&nbsp;&nbsp;TRANSMITTED(GigabitEthernet1/0)<br><strong>5</strong>. node: seattle<br>&nbsp;&nbsp;RECEIVED(GigabitEthernet0/0)<br>&nbsp;&nbsp;FORWARDED(Routes: ibgp [Network: 2.128.0.0/24, Next Hop IP:2.34.101.4],ibgp [Network: 2.128.0.0/24, Next Hop IP:2.34.201.4])<br>&nbsp;&nbsp;TRANSMITTED(GigabitEthernet1/0)<br><strong>6</strong>. node: sanfrancisco<br>&nbsp;&nbsp;RECEIVED(GigabitEthernet0/0)<br>&nbsp;&nbsp;FORWARDED(Routes: ibgp [Network: 2.128.0.0/24, Next Hop IP:2.34.101.4],ibgp [Network: 2.128.0.0/24, Next Hop IP:2.34.201.4])<br>&nbsp;&nbsp;TRANSMITTED(GigabitEthernet2/0)<br><strong>7</strong>. node: losangeles<br>&nbsp;&nbsp;RECEIVED(GigabitEthernet0/0)<br>&nbsp;&nbsp;FORWARDED(Routes: bgp [Network: 2.128.0.0/24, Next Hop IP:2.34.201.4])<br>&nbsp;&nbsp;TRANSMITTED(GigabitEthernet2/0)<br><strong>8</strong>. node: houston<br>&nbsp;&nbsp;RECEIVED(GigabitEthernet1/0)<br>&nbsp;&nbsp;FORWARDED(Routes: connected [Network: 2.128.0.0/24, Next Hop IP:AUTO/NONE(-1l)])<br>&nbsp;&nbsp;EXITS_NETWORK(GigabitEthernet2/0)</td>\n",
       "                        <td id=\"T_pybfstylerow0_col2\" class=\"data row0 col2\" >4</td>\n",
       "                        <td id=\"T_pybfstylerow0_col3\" class=\"data row0 col3\" ><span style=\"color:#7c020e; text-weight:bold;\">DENIED_IN</span><br><strong>1</strong>. node: milan<br>&nbsp;&nbsp;ORIGINATED(default)<br>&nbsp;&nbsp;FORWARDED(Routes: ibgp [Network: 2.128.0.0/16, Next Hop IP:10.12.11.2])<br>&nbsp;&nbsp;TRANSMITTED(GigabitEthernet1/0)<br><strong>2</strong>. node: paris<br>&nbsp;&nbsp;RECEIVED(GigabitEthernet0/0)<br>&nbsp;&nbsp;FORWARDED(Routes: ibgp [Network: 2.128.0.0/16, Next Hop IP:10.12.11.2])<br>&nbsp;&nbsp;TRANSMITTED(GigabitEthernet1/0)<br><strong>3</strong>. node: london<br>&nbsp;&nbsp;RECEIVED(GigabitEthernet0/0)<br>&nbsp;&nbsp;FORWARDED(Routes: bgp [Network: 2.128.0.0/16, Next Hop IP:10.12.11.2])<br>&nbsp;&nbsp;TRANSMITTED(GigabitEthernet1/0)<br><strong>4</strong>. node: newyork<br>&nbsp;&nbsp;RECEIVED(GigabitEthernet0/0)<br>&nbsp;&nbsp;DENIED(AS1_TO_AS2 (INGRESS_FILTER))</td>\n",
       "                        <td id=\"T_pybfstylerow0_col4\" class=\"data row0 col4\" >1</td>\n",
       "            </tr>\n",
       "    </tbody></table>"
      ],
      "text/plain": [
       "                                    Flow  \\\n",
       "0  start=milan [1.0.2.1->2.128.0.0 ICMP]   \n",
       "\n",
       "                                                                                                                                                                                                                                                                                                                                                                                                                                                                                                                                                                                                                                                                                                                                                                                                                                                                                                                                                                                                                                                                                                                                                                                                                                               Snapshot_Traces  \\\n",
       "0  [((ORIGINATED(default), FORWARDED(Routes: bgp [Network: 2.128.0.0/16, Next Hop IP:10.13.22.3]), TRANSMITTED(GigabitEthernet0/0)), (RECEIVED(GigabitEthernet0/0), FORWARDED(Routes: ibgp [Network: 2.128.0.0/16, Next Hop IP:10.23.21.2]), TRANSMITTED(GigabitEthernet1/0)), (RECEIVED(GigabitEthernet0/0), FORWARDED(Routes: ibgp [Network: 2.128.0.0/16, Next Hop IP:10.23.21.2]), TRANSMITTED(GigabitEthernet1/0)), (RECEIVED(GigabitEthernet0/0), FORWARDED(Routes: bgp [Network: 2.128.0.0/16, Next Hop IP:10.23.21.2]), TRANSMITTED(GigabitEthernet1/0)), (RECEIVED(GigabitEthernet0/0), FORWARDED(Routes: ibgp [Network: 2.128.0.0/24, Next Hop IP:2.34.101.4],ibgp [Network: 2.128.0.0/24, Next Hop IP:2.34.201.4]), TRANSMITTED(GigabitEthernet1/0)), (RECEIVED(GigabitEthernet0/0), FORWARDED(Routes: ibgp [Network: 2.128.0.0/24, Next Hop IP:2.34.101.4],ibgp [Network: 2.128.0.0/24, Next Hop IP:2.34.201.4]), TRANSMITTED(GigabitEthernet2/0)), (RECEIVED(GigabitEthernet0/0), FORWARDED(Routes: bgp [Network: 2.128.0.0/24, Next Hop IP:2.34.201.4]), TRANSMITTED(GigabitEthernet2/0)), (RECEIVED(GigabitEthernet1/0), FORWARDED(Routes: connected [Network: 2.128.0.0/24, Next Hop IP:AUTO/NONE(-1l)]), EXITS_NETWORK(GigabitEthernet2/0)))]   \n",
       "\n",
       "  Snapshot_TraceCount  \\\n",
       "0  4                    \n",
       "\n",
       "                                                                                                                                                                                                                                                                                                                                                                                                                                                                              Reference_Traces  \\\n",
       "0  [((ORIGINATED(default), FORWARDED(Routes: ibgp [Network: 2.128.0.0/16, Next Hop IP:10.12.11.2]), TRANSMITTED(GigabitEthernet1/0)), (RECEIVED(GigabitEthernet0/0), FORWARDED(Routes: ibgp [Network: 2.128.0.0/16, Next Hop IP:10.12.11.2]), TRANSMITTED(GigabitEthernet1/0)), (RECEIVED(GigabitEthernet0/0), FORWARDED(Routes: bgp [Network: 2.128.0.0/16, Next Hop IP:10.12.11.2]), TRANSMITTED(GigabitEthernet1/0)), (RECEIVED(GigabitEthernet0/0), DENIED(AS1_TO_AS2 (INGRESS_FILTER))))]   \n",
       "\n",
       "  Reference_TraceCount  \n",
       "0  1                    "
      ]
     },
     "metadata": {},
     "output_type": "display_data"
    }
   ],
   "source": [
    "# Get the answer to the differential reachability question given two snapshots\n",
    "diff_reachability_answer = bfq.differentialReachability(\n",
    "    headers=HeaderConstraints(dstIps=pop_prefix), maxTraces=1).answer(\n",
    "    snapshot=FAIL_LONDON_SNAPSHOT_NAME,\n",
    "    reference_snapshot=BASE_SNAPSHOT_NAME)\n",
    "\n",
    "# Display the results\n",
    "show(diff_reachability_answer.frame())"
   ]
  },
  {
   "cell_type": "markdown",
   "metadata": {
    "colab_type": "text",
    "id": "I_BxdFYsdoyI"
   },
   "source": [
    "We see from the result that the failures of `London` would in fact permit a flow that was originally being blocked by the `AS1_TO_AS2` ACL on `New York`. This difference reveals a potential security vulnerability! Luckily, Batfish allows us to catch and fix it before something bad happens in production. Similarly, if there were flows that were carried in `BASE_SNAPSHOT_NAME` but dropped in `FAIL_LONDON_SNAPSHOT_NAME` (an availability issue), Batfish would have caught it.  \n",
    "\n",
    "Check out our [Introduction to Forwarding Change Validation](https://github.com/batfish/pybatfish/blob/master/jupyter_notebooks/Introduction%20to%20Forwarding%20Change%20Validation.ipynb) notebook for more use cases of differential reachability queries."
   ]
  },
  {
   "cell_type": "markdown",
   "metadata": {
    "colab_type": "text",
    "id": "5yOcfrvudoyM"
   },
   "source": [
    "## Chaos Monkey Testing\n",
    "\n",
    "Chaos Monkey style testing is a common method to to build highly reliable software systems. In it, different components of the system are randomly failed to see what impact it has on the service performance. Such testing is known to be highly effective but is not possible to do in the networking context. Until now.\n",
    "\n",
    "Batfish can easily enable Chaos Monkey testing for networks. Using the basic functions shown above, we can compose more complicated functions that randomly fail links and identify potential vulnerabilities in the network. \n",
    "\n",
    "Suppose we wanted our network to be robust to any possible 2-link failures. The example below shows how to perform Chaos Monkey testing to identify 2-link-failures that can cause an outage. Specifically, we will fail a pair of links picked at random and check whether the forwarding behavior would be changed by the failure using the `differentialReachability` question. "
   ]
  },
  {
   "cell_type": "markdown",
   "metadata": {
    "colab_type": "text",
    "id": "Wfseqb1C3Jox"
   },
   "source": [
    "Next, we run Chaos Monkey testing, shown as below."
   ]
  },
  {
   "cell_type": "code",
   "execution_count": 5,
   "metadata": {
    "colab": {
     "base_uri": "https://localhost:8080/",
     "height": 82
    },
    "colab_type": "code",
    "id": "9bf8kTedkomL",
    "outputId": "f72d8d7a-2a56-47d0-df3d-45d4f1b021f3"
   },
   "outputs": [
    {
     "data": {
      "text/html": [
       "<style  type=\"text/css\" >\n",
       "    #T_pybfstylerow0_col0 {\n",
       "            text-align:  left;\n",
       "            vertical-align:  top;\n",
       "        }    #T_pybfstylerow0_col1 {\n",
       "            text-align:  left;\n",
       "            vertical-align:  top;\n",
       "        }    #T_pybfstylerow0_col2 {\n",
       "            text-align:  left;\n",
       "            vertical-align:  top;\n",
       "        }    #T_pybfstylerow0_col3 {\n",
       "            text-align:  left;\n",
       "            vertical-align:  top;\n",
       "        }    #T_pybfstylerow1_col0 {\n",
       "            text-align:  left;\n",
       "            vertical-align:  top;\n",
       "        }    #T_pybfstylerow1_col1 {\n",
       "            text-align:  left;\n",
       "            vertical-align:  top;\n",
       "        }    #T_pybfstylerow1_col2 {\n",
       "            text-align:  left;\n",
       "            vertical-align:  top;\n",
       "        }    #T_pybfstylerow1_col3 {\n",
       "            text-align:  left;\n",
       "            vertical-align:  top;\n",
       "        }</style><table id=\"T_pybfstyle\"  class=\"tex2jax_ignore\"><thead>    <tr>        <th class=\"blank level0\" ></th>        <th class=\"col_heading level0 col0\" >Interface</th>        <th class=\"col_heading level0 col1\" >IPs</th>        <th class=\"col_heading level0 col2\" >Remote_Interface</th>        <th class=\"col_heading level0 col3\" >Remote_IPs</th>    </tr></thead><tbody>\n",
       "                <tr>\n",
       "                        <th id=\"T_pybfstylelevel0_row0\" class=\"row_heading level0 row0\" >36</th>\n",
       "                        <td id=\"T_pybfstylerow0_col0\" class=\"data row0 col0\" >seattle[GigabitEthernet1/0]</td>\n",
       "                        <td id=\"T_pybfstylerow0_col1\" class=\"data row0 col1\" >2.12.22.1</td>\n",
       "                        <td id=\"T_pybfstylerow0_col2\" class=\"data row0 col2\" >sanfrancisco[GigabitEthernet0/0]</td>\n",
       "                        <td id=\"T_pybfstylerow0_col3\" class=\"data row0 col3\" >2.12.22.2</td>\n",
       "            </tr>\n",
       "            <tr>\n",
       "                        <th id=\"T_pybfstylelevel0_row1\" class=\"row_heading level0 row1\" >41</th>\n",
       "                        <td id=\"T_pybfstylerow1_col0\" class=\"data row1 col0\" >seattle[GigabitEthernet2/0]</td>\n",
       "                        <td id=\"T_pybfstylerow1_col1\" class=\"data row1 col1\" >2.12.21.1</td>\n",
       "                        <td id=\"T_pybfstylerow1_col2\" class=\"data row1 col2\" >philadelphia[GigabitEthernet1/0]</td>\n",
       "                        <td id=\"T_pybfstylerow1_col3\" class=\"data row1 col3\" >2.12.21.2</td>\n",
       "            </tr>\n",
       "    </tbody></table>"
      ],
      "text/plain": [
       "                      Interface            IPs  \\\n",
       "36  seattle[GigabitEthernet1/0]  ['2.12.22.1']   \n",
       "41  seattle[GigabitEthernet2/0]  ['2.12.21.1']   \n",
       "\n",
       "                    Remote_Interface     Remote_IPs  \n",
       "36  sanfrancisco[GigabitEthernet0/0]  ['2.12.22.2']  \n",
       "41  philadelphia[GigabitEthernet1/0]  ['2.12.21.2']  "
      ]
     },
     "metadata": {},
     "output_type": "display_data"
    }
   ],
   "source": [
    "# Fix for demonstration purpose\n",
    "random.seed(821)\n",
    "\n",
    "max_iterations = 5\n",
    "\n",
    "# Get all links in the network\n",
    "links = bfq.edges().answer(BASE_SNAPSHOT_NAME).frame()\n",
    "\n",
    "for i in range(max_iterations):\n",
    "    # Get two links at random\n",
    "    failed_link1_index = random.randint(0, len(links) - 1)\n",
    "    failed_link2_index = random.randint(0, len(links) - 1)\n",
    "\n",
    "    # Fork a snapshot with the link failures\n",
    "    FAIL_SNAPSHOT_NAME = \"fail_snapshot\"\n",
    "    bf_fork_snapshot(\n",
    "        BASE_SNAPSHOT_NAME,\n",
    "        FAIL_SNAPSHOT_NAME,\n",
    "        deactivate_interfaces=[links.loc[failed_link1_index].Interface,\n",
    "                               links.loc[failed_link2_index].Interface],\n",
    "        overwrite=True)\n",
    "\n",
    "    # Run a differential reachability question\n",
    "    answer = bfq.differentialReachability(\n",
    "        headers=HeaderConstraints(dstIps=pop_prefix)\n",
    "    ).answer(\n",
    "        snapshot=FAIL_SNAPSHOT_NAME,\n",
    "        reference_snapshot=BASE_SNAPSHOT_NAME\n",
    "    )\n",
    "\n",
    "    # A non-empty returned answer means changed forwarding behavior\n",
    "    # We print the bad failure scenario and exit\n",
    "    if len(answer.frame()) > 0:\n",
    "        show(links.iloc[[failed_link1_index, failed_link2_index]])\n",
    "        break"
   ]
  },
  {
   "cell_type": "markdown",
   "metadata": {
    "colab_type": "text",
    "id": "iKGhLXes6JOB"
   },
   "source": [
    "We see that there is a failure scenario under to which the network is not robust, that is, the failure will lead to a change in the forwarding behavior of at least some flows.  This scenario is the failure of two links that connect `Seattle` to `Philadelphia` and `San Francisco`. This is unexpected because `Seattle` has another link that connects it to the rest of the network and should generally be available for traffic. \n",
    "\n",
    "Let us diagnose this situation to understand the problem. To begin, we first see which flows are impacted. "
   ]
  },
  {
   "cell_type": "code",
   "execution_count": 6,
   "metadata": {
    "colab": {
     "base_uri": "https://localhost:8080/",
     "height": 7332
    },
    "colab_type": "code",
    "id": "50ds1zbT2Puh",
    "outputId": "de3c7889-b549-48b6-b570-dba4c78cc7bc"
   },
   "outputs": [
    {
     "data": {
      "text/html": [
       "<style  type=\"text/css\" >\n",
       "    #T_pybfstylerow0_col0 {\n",
       "            text-align:  left;\n",
       "            vertical-align:  top;\n",
       "        }    #T_pybfstylerow0_col1 {\n",
       "            text-align:  left;\n",
       "            vertical-align:  top;\n",
       "        }    #T_pybfstylerow0_col2 {\n",
       "            text-align:  left;\n",
       "            vertical-align:  top;\n",
       "        }    #T_pybfstylerow0_col3 {\n",
       "            text-align:  left;\n",
       "            vertical-align:  top;\n",
       "        }    #T_pybfstylerow0_col4 {\n",
       "            text-align:  left;\n",
       "            vertical-align:  top;\n",
       "        }    #T_pybfstylerow1_col0 {\n",
       "            text-align:  left;\n",
       "            vertical-align:  top;\n",
       "        }    #T_pybfstylerow1_col1 {\n",
       "            text-align:  left;\n",
       "            vertical-align:  top;\n",
       "        }    #T_pybfstylerow1_col2 {\n",
       "            text-align:  left;\n",
       "            vertical-align:  top;\n",
       "        }    #T_pybfstylerow1_col3 {\n",
       "            text-align:  left;\n",
       "            vertical-align:  top;\n",
       "        }    #T_pybfstylerow1_col4 {\n",
       "            text-align:  left;\n",
       "            vertical-align:  top;\n",
       "        }    #T_pybfstylerow2_col0 {\n",
       "            text-align:  left;\n",
       "            vertical-align:  top;\n",
       "        }    #T_pybfstylerow2_col1 {\n",
       "            text-align:  left;\n",
       "            vertical-align:  top;\n",
       "        }    #T_pybfstylerow2_col2 {\n",
       "            text-align:  left;\n",
       "            vertical-align:  top;\n",
       "        }    #T_pybfstylerow2_col3 {\n",
       "            text-align:  left;\n",
       "            vertical-align:  top;\n",
       "        }    #T_pybfstylerow2_col4 {\n",
       "            text-align:  left;\n",
       "            vertical-align:  top;\n",
       "        }    #T_pybfstylerow3_col0 {\n",
       "            text-align:  left;\n",
       "            vertical-align:  top;\n",
       "        }    #T_pybfstylerow3_col1 {\n",
       "            text-align:  left;\n",
       "            vertical-align:  top;\n",
       "        }    #T_pybfstylerow3_col2 {\n",
       "            text-align:  left;\n",
       "            vertical-align:  top;\n",
       "        }    #T_pybfstylerow3_col3 {\n",
       "            text-align:  left;\n",
       "            vertical-align:  top;\n",
       "        }    #T_pybfstylerow3_col4 {\n",
       "            text-align:  left;\n",
       "            vertical-align:  top;\n",
       "        }</style><table id=\"T_pybfstyle\"  class=\"tex2jax_ignore\"><thead>    <tr>        <th class=\"blank level0\" ></th>        <th class=\"col_heading level0 col0\" >Flow</th>        <th class=\"col_heading level0 col1\" >Snapshot_Traces</th>        <th class=\"col_heading level0 col2\" >Snapshot_TraceCount</th>        <th class=\"col_heading level0 col3\" >Reference_Traces</th>        <th class=\"col_heading level0 col4\" >Reference_TraceCount</th>    </tr></thead><tbody>\n",
       "                <tr>\n",
       "                        <th id=\"T_pybfstylelevel0_row0\" class=\"row_heading level0 row0\" >0</th>\n",
       "                        <td id=\"T_pybfstylerow0_col0\" class=\"data row0 col0\" >Start Location: hongkong<br>Src IP: 3.0.1.2<br>Dst IP: 2.128.0.0<br>IP Protocol: ICMP</td>\n",
       "                        <td id=\"T_pybfstylerow0_col1\" class=\"data row0 col1\" ><span style=\"color:#7c020e; text-weight:bold;\">NO_ROUTE</span><br><strong>1</strong>. node: hongkong<br>&nbsp;&nbsp;ORIGINATED(default)<br>&nbsp;&nbsp;NO_ROUTE</td>\n",
       "                        <td id=\"T_pybfstylerow0_col2\" class=\"data row0 col2\" >1</td>\n",
       "                        <td id=\"T_pybfstylerow0_col3\" class=\"data row0 col3\" ><span style=\"color:#019612; text-weight:bold;\">EXITS_NETWORK</span><br><strong>1</strong>. node: hongkong<br>&nbsp;&nbsp;ORIGINATED(default)<br>&nbsp;&nbsp;FORWARDED(Routes: ibgp [Network: 2.128.0.0/16, Next Hop IP:10.23.21.2])<br>&nbsp;&nbsp;TRANSMITTED(GigabitEthernet1/0)<br><strong>2</strong>. node: tokyo<br>&nbsp;&nbsp;RECEIVED(GigabitEthernet0/0)<br>&nbsp;&nbsp;FORWARDED(Routes: bgp [Network: 2.128.0.0/16, Next Hop IP:10.23.21.2])<br>&nbsp;&nbsp;TRANSMITTED(GigabitEthernet1/0)<br><strong>3</strong>. node: seattle<br>&nbsp;&nbsp;RECEIVED(GigabitEthernet0/0)<br>&nbsp;&nbsp;FORWARDED(Routes: ibgp [Network: 2.128.0.0/24, Next Hop IP:2.34.101.4],ibgp [Network: 2.128.0.0/24, Next Hop IP:2.34.201.4])<br>&nbsp;&nbsp;TRANSMITTED(GigabitEthernet1/0)<br><strong>4</strong>. node: sanfrancisco<br>&nbsp;&nbsp;RECEIVED(GigabitEthernet0/0)<br>&nbsp;&nbsp;FORWARDED(Routes: ibgp [Network: 2.128.0.0/24, Next Hop IP:2.34.101.4],ibgp [Network: 2.128.0.0/24, Next Hop IP:2.34.201.4])<br>&nbsp;&nbsp;TRANSMITTED(GigabitEthernet2/0)<br><strong>5</strong>. node: losangeles<br>&nbsp;&nbsp;RECEIVED(GigabitEthernet0/0)<br>&nbsp;&nbsp;FORWARDED(Routes: bgp [Network: 2.128.0.0/24, Next Hop IP:2.34.201.4])<br>&nbsp;&nbsp;TRANSMITTED(GigabitEthernet2/0)<br><strong>6</strong>. node: houston<br>&nbsp;&nbsp;RECEIVED(GigabitEthernet1/0)<br>&nbsp;&nbsp;FORWARDED(Routes: connected [Network: 2.128.0.0/24, Next Hop IP:AUTO/NONE(-1l)])<br>&nbsp;&nbsp;EXITS_NETWORK(GigabitEthernet2/0)<br><br><span style=\"color:#019612; text-weight:bold;\">EXITS_NETWORK</span><br><strong>1</strong>. node: hongkong<br>&nbsp;&nbsp;ORIGINATED(default)<br>&nbsp;&nbsp;FORWARDED(Routes: ibgp [Network: 2.128.0.0/16, Next Hop IP:10.23.21.2])<br>&nbsp;&nbsp;TRANSMITTED(GigabitEthernet1/0)<br><strong>2</strong>. node: tokyo<br>&nbsp;&nbsp;RECEIVED(GigabitEthernet0/0)<br>&nbsp;&nbsp;FORWARDED(Routes: bgp [Network: 2.128.0.0/16, Next Hop IP:10.23.21.2])<br>&nbsp;&nbsp;TRANSMITTED(GigabitEthernet1/0)<br><strong>3</strong>. node: seattle<br>&nbsp;&nbsp;RECEIVED(GigabitEthernet0/0)<br>&nbsp;&nbsp;FORWARDED(Routes: ibgp [Network: 2.128.0.0/24, Next Hop IP:2.34.101.4],ibgp [Network: 2.128.0.0/24, Next Hop IP:2.34.201.4])<br>&nbsp;&nbsp;TRANSMITTED(GigabitEthernet1/0)<br><strong>4</strong>. node: sanfrancisco<br>&nbsp;&nbsp;RECEIVED(GigabitEthernet0/0)<br>&nbsp;&nbsp;FORWARDED(Routes: ibgp [Network: 2.128.0.0/24, Next Hop IP:2.34.101.4],ibgp [Network: 2.128.0.0/24, Next Hop IP:2.34.201.4])<br>&nbsp;&nbsp;TRANSMITTED(GigabitEthernet3/0)<br><strong>5</strong>. node: washingtondc<br>&nbsp;&nbsp;RECEIVED(GigabitEthernet1/0)<br>&nbsp;&nbsp;FORWARDED(Routes: bgp [Network: 2.128.0.0/24, Next Hop IP:2.34.101.4])<br>&nbsp;&nbsp;TRANSMITTED(GigabitEthernet2/0)<br><strong>6</strong>. node: houston<br>&nbsp;&nbsp;RECEIVED(GigabitEthernet0/0)<br>&nbsp;&nbsp;FORWARDED(Routes: connected [Network: 2.128.0.0/24, Next Hop IP:AUTO/NONE(-1l)])<br>&nbsp;&nbsp;EXITS_NETWORK(GigabitEthernet2/0)<br><br><span style=\"color:#019612; text-weight:bold;\">EXITS_NETWORK</span><br><strong>1</strong>. node: hongkong<br>&nbsp;&nbsp;ORIGINATED(default)<br>&nbsp;&nbsp;FORWARDED(Routes: ibgp [Network: 2.128.0.0/16, Next Hop IP:10.23.21.2])<br>&nbsp;&nbsp;TRANSMITTED(GigabitEthernet1/0)<br><strong>2</strong>. node: tokyo<br>&nbsp;&nbsp;RECEIVED(GigabitEthernet0/0)<br>&nbsp;&nbsp;FORWARDED(Routes: bgp [Network: 2.128.0.0/16, Next Hop IP:10.23.21.2])<br>&nbsp;&nbsp;TRANSMITTED(GigabitEthernet1/0)<br><strong>3</strong>. node: seattle<br>&nbsp;&nbsp;RECEIVED(GigabitEthernet0/0)<br>&nbsp;&nbsp;FORWARDED(Routes: ibgp [Network: 2.128.0.0/24, Next Hop IP:2.34.101.4],ibgp [Network: 2.128.0.0/24, Next Hop IP:2.34.201.4])<br>&nbsp;&nbsp;TRANSMITTED(GigabitEthernet2/0)<br><strong>4</strong>. node: philadelphia<br>&nbsp;&nbsp;RECEIVED(GigabitEthernet1/0)<br>&nbsp;&nbsp;FORWARDED(Routes: ibgp [Network: 2.128.0.0/24, Next Hop IP:2.34.101.4],ibgp [Network: 2.128.0.0/24, Next Hop IP:2.34.201.4])<br>&nbsp;&nbsp;TRANSMITTED(GigabitEthernet2/0)<br><strong>5</strong>. node: washingtondc<br>&nbsp;&nbsp;RECEIVED(GigabitEthernet0/0)<br>&nbsp;&nbsp;FORWARDED(Routes: bgp [Network: 2.128.0.0/24, Next Hop IP:2.34.101.4])<br>&nbsp;&nbsp;TRANSMITTED(GigabitEthernet2/0)<br><strong>6</strong>. node: houston<br>&nbsp;&nbsp;RECEIVED(GigabitEthernet0/0)<br>&nbsp;&nbsp;FORWARDED(Routes: connected [Network: 2.128.0.0/24, Next Hop IP:AUTO/NONE(-1l)])<br>&nbsp;&nbsp;EXITS_NETWORK(GigabitEthernet2/0)<br><br><span style=\"color:#019612; text-weight:bold;\">EXITS_NETWORK</span><br><strong>1</strong>. node: hongkong<br>&nbsp;&nbsp;ORIGINATED(default)<br>&nbsp;&nbsp;FORWARDED(Routes: ibgp [Network: 2.128.0.0/16, Next Hop IP:10.23.21.2])<br>&nbsp;&nbsp;TRANSMITTED(GigabitEthernet1/0)<br><strong>2</strong>. node: tokyo<br>&nbsp;&nbsp;RECEIVED(GigabitEthernet0/0)<br>&nbsp;&nbsp;FORWARDED(Routes: bgp [Network: 2.128.0.0/16, Next Hop IP:10.23.21.2])<br>&nbsp;&nbsp;TRANSMITTED(GigabitEthernet1/0)<br><strong>3</strong>. node: seattle<br>&nbsp;&nbsp;RECEIVED(GigabitEthernet0/0)<br>&nbsp;&nbsp;FORWARDED(Routes: ibgp [Network: 2.128.0.0/24, Next Hop IP:2.34.101.4],ibgp [Network: 2.128.0.0/24, Next Hop IP:2.34.201.4])<br>&nbsp;&nbsp;TRANSMITTED(GigabitEthernet2/0)<br><strong>4</strong>. node: philadelphia<br>&nbsp;&nbsp;RECEIVED(GigabitEthernet1/0)<br>&nbsp;&nbsp;FORWARDED(Routes: ibgp [Network: 2.128.0.0/24, Next Hop IP:2.34.101.4],ibgp [Network: 2.128.0.0/24, Next Hop IP:2.34.201.4])<br>&nbsp;&nbsp;TRANSMITTED(GigabitEthernet3/0)<br><strong>5</strong>. node: losangeles<br>&nbsp;&nbsp;RECEIVED(GigabitEthernet1/0)<br>&nbsp;&nbsp;FORWARDED(Routes: bgp [Network: 2.128.0.0/24, Next Hop IP:2.34.201.4])<br>&nbsp;&nbsp;TRANSMITTED(GigabitEthernet2/0)<br><strong>6</strong>. node: houston<br>&nbsp;&nbsp;RECEIVED(GigabitEthernet1/0)<br>&nbsp;&nbsp;FORWARDED(Routes: connected [Network: 2.128.0.0/24, Next Hop IP:AUTO/NONE(-1l)])<br>&nbsp;&nbsp;EXITS_NETWORK(GigabitEthernet2/0)</td>\n",
       "                        <td id=\"T_pybfstylerow0_col4\" class=\"data row0 col4\" >4</td>\n",
       "            </tr>\n",
       "            <tr>\n",
       "                        <th id=\"T_pybfstylelevel0_row1\" class=\"row_heading level0 row1\" >1</th>\n",
       "                        <td id=\"T_pybfstylerow1_col0\" class=\"data row1 col0\" >Start Location: seattle<br>Src IP: 2.1.1.2<br>Dst IP: 2.128.0.0<br>IP Protocol: ICMP</td>\n",
       "                        <td id=\"T_pybfstylerow1_col1\" class=\"data row1 col1\" ><span style=\"color:#7c020e; text-weight:bold;\">NO_ROUTE</span><br><strong>1</strong>. node: seattle<br>&nbsp;&nbsp;ORIGINATED(default)<br>&nbsp;&nbsp;NO_ROUTE</td>\n",
       "                        <td id=\"T_pybfstylerow1_col2\" class=\"data row1 col2\" >1</td>\n",
       "                        <td id=\"T_pybfstylerow1_col3\" class=\"data row1 col3\" ><span style=\"color:#019612; text-weight:bold;\">EXITS_NETWORK</span><br><strong>1</strong>. node: seattle<br>&nbsp;&nbsp;ORIGINATED(default)<br>&nbsp;&nbsp;FORWARDED(Routes: ibgp [Network: 2.128.0.0/24, Next Hop IP:2.34.101.4],ibgp [Network: 2.128.0.0/24, Next Hop IP:2.34.201.4])<br>&nbsp;&nbsp;TRANSMITTED(GigabitEthernet1/0)<br><strong>2</strong>. node: sanfrancisco<br>&nbsp;&nbsp;RECEIVED(GigabitEthernet0/0)<br>&nbsp;&nbsp;FORWARDED(Routes: ibgp [Network: 2.128.0.0/24, Next Hop IP:2.34.101.4],ibgp [Network: 2.128.0.0/24, Next Hop IP:2.34.201.4])<br>&nbsp;&nbsp;TRANSMITTED(GigabitEthernet2/0)<br><strong>3</strong>. node: losangeles<br>&nbsp;&nbsp;RECEIVED(GigabitEthernet0/0)<br>&nbsp;&nbsp;FORWARDED(Routes: bgp [Network: 2.128.0.0/24, Next Hop IP:2.34.201.4])<br>&nbsp;&nbsp;TRANSMITTED(GigabitEthernet2/0)<br><strong>4</strong>. node: houston<br>&nbsp;&nbsp;RECEIVED(GigabitEthernet1/0)<br>&nbsp;&nbsp;FORWARDED(Routes: connected [Network: 2.128.0.0/24, Next Hop IP:AUTO/NONE(-1l)])<br>&nbsp;&nbsp;EXITS_NETWORK(GigabitEthernet2/0)<br><br><span style=\"color:#019612; text-weight:bold;\">EXITS_NETWORK</span><br><strong>1</strong>. node: seattle<br>&nbsp;&nbsp;ORIGINATED(default)<br>&nbsp;&nbsp;FORWARDED(Routes: ibgp [Network: 2.128.0.0/24, Next Hop IP:2.34.101.4],ibgp [Network: 2.128.0.0/24, Next Hop IP:2.34.201.4])<br>&nbsp;&nbsp;TRANSMITTED(GigabitEthernet1/0)<br><strong>2</strong>. node: sanfrancisco<br>&nbsp;&nbsp;RECEIVED(GigabitEthernet0/0)<br>&nbsp;&nbsp;FORWARDED(Routes: ibgp [Network: 2.128.0.0/24, Next Hop IP:2.34.101.4],ibgp [Network: 2.128.0.0/24, Next Hop IP:2.34.201.4])<br>&nbsp;&nbsp;TRANSMITTED(GigabitEthernet3/0)<br><strong>3</strong>. node: washingtondc<br>&nbsp;&nbsp;RECEIVED(GigabitEthernet1/0)<br>&nbsp;&nbsp;FORWARDED(Routes: bgp [Network: 2.128.0.0/24, Next Hop IP:2.34.101.4])<br>&nbsp;&nbsp;TRANSMITTED(GigabitEthernet2/0)<br><strong>4</strong>. node: houston<br>&nbsp;&nbsp;RECEIVED(GigabitEthernet0/0)<br>&nbsp;&nbsp;FORWARDED(Routes: connected [Network: 2.128.0.0/24, Next Hop IP:AUTO/NONE(-1l)])<br>&nbsp;&nbsp;EXITS_NETWORK(GigabitEthernet2/0)<br><br><span style=\"color:#019612; text-weight:bold;\">EXITS_NETWORK</span><br><strong>1</strong>. node: seattle<br>&nbsp;&nbsp;ORIGINATED(default)<br>&nbsp;&nbsp;FORWARDED(Routes: ibgp [Network: 2.128.0.0/24, Next Hop IP:2.34.101.4],ibgp [Network: 2.128.0.0/24, Next Hop IP:2.34.201.4])<br>&nbsp;&nbsp;TRANSMITTED(GigabitEthernet2/0)<br><strong>2</strong>. node: philadelphia<br>&nbsp;&nbsp;RECEIVED(GigabitEthernet1/0)<br>&nbsp;&nbsp;FORWARDED(Routes: ibgp [Network: 2.128.0.0/24, Next Hop IP:2.34.101.4],ibgp [Network: 2.128.0.0/24, Next Hop IP:2.34.201.4])<br>&nbsp;&nbsp;TRANSMITTED(GigabitEthernet2/0)<br><strong>3</strong>. node: washingtondc<br>&nbsp;&nbsp;RECEIVED(GigabitEthernet0/0)<br>&nbsp;&nbsp;FORWARDED(Routes: bgp [Network: 2.128.0.0/24, Next Hop IP:2.34.101.4])<br>&nbsp;&nbsp;TRANSMITTED(GigabitEthernet2/0)<br><strong>4</strong>. node: houston<br>&nbsp;&nbsp;RECEIVED(GigabitEthernet0/0)<br>&nbsp;&nbsp;FORWARDED(Routes: connected [Network: 2.128.0.0/24, Next Hop IP:AUTO/NONE(-1l)])<br>&nbsp;&nbsp;EXITS_NETWORK(GigabitEthernet2/0)<br><br><span style=\"color:#019612; text-weight:bold;\">EXITS_NETWORK</span><br><strong>1</strong>. node: seattle<br>&nbsp;&nbsp;ORIGINATED(default)<br>&nbsp;&nbsp;FORWARDED(Routes: ibgp [Network: 2.128.0.0/24, Next Hop IP:2.34.101.4],ibgp [Network: 2.128.0.0/24, Next Hop IP:2.34.201.4])<br>&nbsp;&nbsp;TRANSMITTED(GigabitEthernet2/0)<br><strong>2</strong>. node: philadelphia<br>&nbsp;&nbsp;RECEIVED(GigabitEthernet1/0)<br>&nbsp;&nbsp;FORWARDED(Routes: ibgp [Network: 2.128.0.0/24, Next Hop IP:2.34.101.4],ibgp [Network: 2.128.0.0/24, Next Hop IP:2.34.201.4])<br>&nbsp;&nbsp;TRANSMITTED(GigabitEthernet3/0)<br><strong>3</strong>. node: losangeles<br>&nbsp;&nbsp;RECEIVED(GigabitEthernet1/0)<br>&nbsp;&nbsp;FORWARDED(Routes: bgp [Network: 2.128.0.0/24, Next Hop IP:2.34.201.4])<br>&nbsp;&nbsp;TRANSMITTED(GigabitEthernet2/0)<br><strong>4</strong>. node: houston<br>&nbsp;&nbsp;RECEIVED(GigabitEthernet1/0)<br>&nbsp;&nbsp;FORWARDED(Routes: connected [Network: 2.128.0.0/24, Next Hop IP:AUTO/NONE(-1l)])<br>&nbsp;&nbsp;EXITS_NETWORK(GigabitEthernet2/0)</td>\n",
       "                        <td id=\"T_pybfstylerow1_col4\" class=\"data row1 col4\" >4</td>\n",
       "            </tr>\n",
       "            <tr>\n",
       "                        <th id=\"T_pybfstylelevel0_row2\" class=\"row_heading level0 row2\" >2</th>\n",
       "                        <td id=\"T_pybfstylerow2_col0\" class=\"data row2 col0\" >Start Location: singapore<br>Src IP: 3.0.2.1<br>Dst IP: 2.128.0.0<br>IP Protocol: ICMP</td>\n",
       "                        <td id=\"T_pybfstylerow2_col1\" class=\"data row2 col1\" ><span style=\"color:#7c020e; text-weight:bold;\">NO_ROUTE</span><br><strong>1</strong>. node: singapore<br>&nbsp;&nbsp;ORIGINATED(default)<br>&nbsp;&nbsp;NO_ROUTE</td>\n",
       "                        <td id=\"T_pybfstylerow2_col2\" class=\"data row2 col2\" >1</td>\n",
       "                        <td id=\"T_pybfstylerow2_col3\" class=\"data row2 col3\" ><span style=\"color:#019612; text-weight:bold;\">EXITS_NETWORK</span><br><strong>1</strong>. node: singapore<br>&nbsp;&nbsp;ORIGINATED(default)<br>&nbsp;&nbsp;FORWARDED(Routes: ibgp [Network: 2.128.0.0/16, Next Hop IP:10.23.21.2])<br>&nbsp;&nbsp;TRANSMITTED(GigabitEthernet1/0)<br><strong>2</strong>. node: hongkong<br>&nbsp;&nbsp;RECEIVED(GigabitEthernet0/0)<br>&nbsp;&nbsp;FORWARDED(Routes: ibgp [Network: 2.128.0.0/16, Next Hop IP:10.23.21.2])<br>&nbsp;&nbsp;TRANSMITTED(GigabitEthernet1/0)<br><strong>3</strong>. node: tokyo<br>&nbsp;&nbsp;RECEIVED(GigabitEthernet0/0)<br>&nbsp;&nbsp;FORWARDED(Routes: bgp [Network: 2.128.0.0/16, Next Hop IP:10.23.21.2])<br>&nbsp;&nbsp;TRANSMITTED(GigabitEthernet1/0)<br><strong>4</strong>. node: seattle<br>&nbsp;&nbsp;RECEIVED(GigabitEthernet0/0)<br>&nbsp;&nbsp;FORWARDED(Routes: ibgp [Network: 2.128.0.0/24, Next Hop IP:2.34.101.4],ibgp [Network: 2.128.0.0/24, Next Hop IP:2.34.201.4])<br>&nbsp;&nbsp;TRANSMITTED(GigabitEthernet1/0)<br><strong>5</strong>. node: sanfrancisco<br>&nbsp;&nbsp;RECEIVED(GigabitEthernet0/0)<br>&nbsp;&nbsp;FORWARDED(Routes: ibgp [Network: 2.128.0.0/24, Next Hop IP:2.34.101.4],ibgp [Network: 2.128.0.0/24, Next Hop IP:2.34.201.4])<br>&nbsp;&nbsp;TRANSMITTED(GigabitEthernet2/0)<br><strong>6</strong>. node: losangeles<br>&nbsp;&nbsp;RECEIVED(GigabitEthernet0/0)<br>&nbsp;&nbsp;FORWARDED(Routes: bgp [Network: 2.128.0.0/24, Next Hop IP:2.34.201.4])<br>&nbsp;&nbsp;TRANSMITTED(GigabitEthernet2/0)<br><strong>7</strong>. node: houston<br>&nbsp;&nbsp;RECEIVED(GigabitEthernet1/0)<br>&nbsp;&nbsp;FORWARDED(Routes: connected [Network: 2.128.0.0/24, Next Hop IP:AUTO/NONE(-1l)])<br>&nbsp;&nbsp;EXITS_NETWORK(GigabitEthernet2/0)<br><br><span style=\"color:#019612; text-weight:bold;\">EXITS_NETWORK</span><br><strong>1</strong>. node: singapore<br>&nbsp;&nbsp;ORIGINATED(default)<br>&nbsp;&nbsp;FORWARDED(Routes: ibgp [Network: 2.128.0.0/16, Next Hop IP:10.23.21.2])<br>&nbsp;&nbsp;TRANSMITTED(GigabitEthernet1/0)<br><strong>2</strong>. node: hongkong<br>&nbsp;&nbsp;RECEIVED(GigabitEthernet0/0)<br>&nbsp;&nbsp;FORWARDED(Routes: ibgp [Network: 2.128.0.0/16, Next Hop IP:10.23.21.2])<br>&nbsp;&nbsp;TRANSMITTED(GigabitEthernet1/0)<br><strong>3</strong>. node: tokyo<br>&nbsp;&nbsp;RECEIVED(GigabitEthernet0/0)<br>&nbsp;&nbsp;FORWARDED(Routes: bgp [Network: 2.128.0.0/16, Next Hop IP:10.23.21.2])<br>&nbsp;&nbsp;TRANSMITTED(GigabitEthernet1/0)<br><strong>4</strong>. node: seattle<br>&nbsp;&nbsp;RECEIVED(GigabitEthernet0/0)<br>&nbsp;&nbsp;FORWARDED(Routes: ibgp [Network: 2.128.0.0/24, Next Hop IP:2.34.101.4],ibgp [Network: 2.128.0.0/24, Next Hop IP:2.34.201.4])<br>&nbsp;&nbsp;TRANSMITTED(GigabitEthernet1/0)<br><strong>5</strong>. node: sanfrancisco<br>&nbsp;&nbsp;RECEIVED(GigabitEthernet0/0)<br>&nbsp;&nbsp;FORWARDED(Routes: ibgp [Network: 2.128.0.0/24, Next Hop IP:2.34.101.4],ibgp [Network: 2.128.0.0/24, Next Hop IP:2.34.201.4])<br>&nbsp;&nbsp;TRANSMITTED(GigabitEthernet3/0)<br><strong>6</strong>. node: washingtondc<br>&nbsp;&nbsp;RECEIVED(GigabitEthernet1/0)<br>&nbsp;&nbsp;FORWARDED(Routes: bgp [Network: 2.128.0.0/24, Next Hop IP:2.34.101.4])<br>&nbsp;&nbsp;TRANSMITTED(GigabitEthernet2/0)<br><strong>7</strong>. node: houston<br>&nbsp;&nbsp;RECEIVED(GigabitEthernet0/0)<br>&nbsp;&nbsp;FORWARDED(Routes: connected [Network: 2.128.0.0/24, Next Hop IP:AUTO/NONE(-1l)])<br>&nbsp;&nbsp;EXITS_NETWORK(GigabitEthernet2/0)<br><br><span style=\"color:#019612; text-weight:bold;\">EXITS_NETWORK</span><br><strong>1</strong>. node: singapore<br>&nbsp;&nbsp;ORIGINATED(default)<br>&nbsp;&nbsp;FORWARDED(Routes: ibgp [Network: 2.128.0.0/16, Next Hop IP:10.23.21.2])<br>&nbsp;&nbsp;TRANSMITTED(GigabitEthernet1/0)<br><strong>2</strong>. node: hongkong<br>&nbsp;&nbsp;RECEIVED(GigabitEthernet0/0)<br>&nbsp;&nbsp;FORWARDED(Routes: ibgp [Network: 2.128.0.0/16, Next Hop IP:10.23.21.2])<br>&nbsp;&nbsp;TRANSMITTED(GigabitEthernet1/0)<br><strong>3</strong>. node: tokyo<br>&nbsp;&nbsp;RECEIVED(GigabitEthernet0/0)<br>&nbsp;&nbsp;FORWARDED(Routes: bgp [Network: 2.128.0.0/16, Next Hop IP:10.23.21.2])<br>&nbsp;&nbsp;TRANSMITTED(GigabitEthernet1/0)<br><strong>4</strong>. node: seattle<br>&nbsp;&nbsp;RECEIVED(GigabitEthernet0/0)<br>&nbsp;&nbsp;FORWARDED(Routes: ibgp [Network: 2.128.0.0/24, Next Hop IP:2.34.101.4],ibgp [Network: 2.128.0.0/24, Next Hop IP:2.34.201.4])<br>&nbsp;&nbsp;TRANSMITTED(GigabitEthernet2/0)<br><strong>5</strong>. node: philadelphia<br>&nbsp;&nbsp;RECEIVED(GigabitEthernet1/0)<br>&nbsp;&nbsp;FORWARDED(Routes: ibgp [Network: 2.128.0.0/24, Next Hop IP:2.34.101.4],ibgp [Network: 2.128.0.0/24, Next Hop IP:2.34.201.4])<br>&nbsp;&nbsp;TRANSMITTED(GigabitEthernet2/0)<br><strong>6</strong>. node: washingtondc<br>&nbsp;&nbsp;RECEIVED(GigabitEthernet0/0)<br>&nbsp;&nbsp;FORWARDED(Routes: bgp [Network: 2.128.0.0/24, Next Hop IP:2.34.101.4])<br>&nbsp;&nbsp;TRANSMITTED(GigabitEthernet2/0)<br><strong>7</strong>. node: houston<br>&nbsp;&nbsp;RECEIVED(GigabitEthernet0/0)<br>&nbsp;&nbsp;FORWARDED(Routes: connected [Network: 2.128.0.0/24, Next Hop IP:AUTO/NONE(-1l)])<br>&nbsp;&nbsp;EXITS_NETWORK(GigabitEthernet2/0)<br><br><span style=\"color:#019612; text-weight:bold;\">EXITS_NETWORK</span><br><strong>1</strong>. node: singapore<br>&nbsp;&nbsp;ORIGINATED(default)<br>&nbsp;&nbsp;FORWARDED(Routes: ibgp [Network: 2.128.0.0/16, Next Hop IP:10.23.21.2])<br>&nbsp;&nbsp;TRANSMITTED(GigabitEthernet1/0)<br><strong>2</strong>. node: hongkong<br>&nbsp;&nbsp;RECEIVED(GigabitEthernet0/0)<br>&nbsp;&nbsp;FORWARDED(Routes: ibgp [Network: 2.128.0.0/16, Next Hop IP:10.23.21.2])<br>&nbsp;&nbsp;TRANSMITTED(GigabitEthernet1/0)<br><strong>3</strong>. node: tokyo<br>&nbsp;&nbsp;RECEIVED(GigabitEthernet0/0)<br>&nbsp;&nbsp;FORWARDED(Routes: bgp [Network: 2.128.0.0/16, Next Hop IP:10.23.21.2])<br>&nbsp;&nbsp;TRANSMITTED(GigabitEthernet1/0)<br><strong>4</strong>. node: seattle<br>&nbsp;&nbsp;RECEIVED(GigabitEthernet0/0)<br>&nbsp;&nbsp;FORWARDED(Routes: ibgp [Network: 2.128.0.0/24, Next Hop IP:2.34.101.4],ibgp [Network: 2.128.0.0/24, Next Hop IP:2.34.201.4])<br>&nbsp;&nbsp;TRANSMITTED(GigabitEthernet2/0)<br><strong>5</strong>. node: philadelphia<br>&nbsp;&nbsp;RECEIVED(GigabitEthernet1/0)<br>&nbsp;&nbsp;FORWARDED(Routes: ibgp [Network: 2.128.0.0/24, Next Hop IP:2.34.101.4],ibgp [Network: 2.128.0.0/24, Next Hop IP:2.34.201.4])<br>&nbsp;&nbsp;TRANSMITTED(GigabitEthernet3/0)<br><strong>6</strong>. node: losangeles<br>&nbsp;&nbsp;RECEIVED(GigabitEthernet1/0)<br>&nbsp;&nbsp;FORWARDED(Routes: bgp [Network: 2.128.0.0/24, Next Hop IP:2.34.201.4])<br>&nbsp;&nbsp;TRANSMITTED(GigabitEthernet2/0)<br><strong>7</strong>. node: houston<br>&nbsp;&nbsp;RECEIVED(GigabitEthernet1/0)<br>&nbsp;&nbsp;FORWARDED(Routes: connected [Network: 2.128.0.0/24, Next Hop IP:AUTO/NONE(-1l)])<br>&nbsp;&nbsp;EXITS_NETWORK(GigabitEthernet2/0)</td>\n",
       "                        <td id=\"T_pybfstylerow2_col4\" class=\"data row2 col4\" >4</td>\n",
       "            </tr>\n",
       "            <tr>\n",
       "                        <th id=\"T_pybfstylelevel0_row3\" class=\"row_heading level0 row3\" >3</th>\n",
       "                        <td id=\"T_pybfstylerow3_col0\" class=\"data row3 col0\" >Start Location: tokyo<br>Src IP: 3.0.1.1<br>Dst IP: 2.128.0.0<br>IP Protocol: ICMP</td>\n",
       "                        <td id=\"T_pybfstylerow3_col1\" class=\"data row3 col1\" ><span style=\"color:#7c020e; text-weight:bold;\">NO_ROUTE</span><br><strong>1</strong>. node: tokyo<br>&nbsp;&nbsp;ORIGINATED(default)<br>&nbsp;&nbsp;NO_ROUTE</td>\n",
       "                        <td id=\"T_pybfstylerow3_col2\" class=\"data row3 col2\" >1</td>\n",
       "                        <td id=\"T_pybfstylerow3_col3\" class=\"data row3 col3\" ><span style=\"color:#019612; text-weight:bold;\">EXITS_NETWORK</span><br><strong>1</strong>. node: tokyo<br>&nbsp;&nbsp;ORIGINATED(default)<br>&nbsp;&nbsp;FORWARDED(Routes: bgp [Network: 2.128.0.0/16, Next Hop IP:10.23.21.2])<br>&nbsp;&nbsp;TRANSMITTED(GigabitEthernet1/0)<br><strong>2</strong>. node: seattle<br>&nbsp;&nbsp;RECEIVED(GigabitEthernet0/0)<br>&nbsp;&nbsp;FORWARDED(Routes: ibgp [Network: 2.128.0.0/24, Next Hop IP:2.34.101.4],ibgp [Network: 2.128.0.0/24, Next Hop IP:2.34.201.4])<br>&nbsp;&nbsp;TRANSMITTED(GigabitEthernet1/0)<br><strong>3</strong>. node: sanfrancisco<br>&nbsp;&nbsp;RECEIVED(GigabitEthernet0/0)<br>&nbsp;&nbsp;FORWARDED(Routes: ibgp [Network: 2.128.0.0/24, Next Hop IP:2.34.101.4],ibgp [Network: 2.128.0.0/24, Next Hop IP:2.34.201.4])<br>&nbsp;&nbsp;TRANSMITTED(GigabitEthernet2/0)<br><strong>4</strong>. node: losangeles<br>&nbsp;&nbsp;RECEIVED(GigabitEthernet0/0)<br>&nbsp;&nbsp;FORWARDED(Routes: bgp [Network: 2.128.0.0/24, Next Hop IP:2.34.201.4])<br>&nbsp;&nbsp;TRANSMITTED(GigabitEthernet2/0)<br><strong>5</strong>. node: houston<br>&nbsp;&nbsp;RECEIVED(GigabitEthernet1/0)<br>&nbsp;&nbsp;FORWARDED(Routes: connected [Network: 2.128.0.0/24, Next Hop IP:AUTO/NONE(-1l)])<br>&nbsp;&nbsp;EXITS_NETWORK(GigabitEthernet2/0)<br><br><span style=\"color:#019612; text-weight:bold;\">EXITS_NETWORK</span><br><strong>1</strong>. node: tokyo<br>&nbsp;&nbsp;ORIGINATED(default)<br>&nbsp;&nbsp;FORWARDED(Routes: bgp [Network: 2.128.0.0/16, Next Hop IP:10.23.21.2])<br>&nbsp;&nbsp;TRANSMITTED(GigabitEthernet1/0)<br><strong>2</strong>. node: seattle<br>&nbsp;&nbsp;RECEIVED(GigabitEthernet0/0)<br>&nbsp;&nbsp;FORWARDED(Routes: ibgp [Network: 2.128.0.0/24, Next Hop IP:2.34.101.4],ibgp [Network: 2.128.0.0/24, Next Hop IP:2.34.201.4])<br>&nbsp;&nbsp;TRANSMITTED(GigabitEthernet1/0)<br><strong>3</strong>. node: sanfrancisco<br>&nbsp;&nbsp;RECEIVED(GigabitEthernet0/0)<br>&nbsp;&nbsp;FORWARDED(Routes: ibgp [Network: 2.128.0.0/24, Next Hop IP:2.34.101.4],ibgp [Network: 2.128.0.0/24, Next Hop IP:2.34.201.4])<br>&nbsp;&nbsp;TRANSMITTED(GigabitEthernet3/0)<br><strong>4</strong>. node: washingtondc<br>&nbsp;&nbsp;RECEIVED(GigabitEthernet1/0)<br>&nbsp;&nbsp;FORWARDED(Routes: bgp [Network: 2.128.0.0/24, Next Hop IP:2.34.101.4])<br>&nbsp;&nbsp;TRANSMITTED(GigabitEthernet2/0)<br><strong>5</strong>. node: houston<br>&nbsp;&nbsp;RECEIVED(GigabitEthernet0/0)<br>&nbsp;&nbsp;FORWARDED(Routes: connected [Network: 2.128.0.0/24, Next Hop IP:AUTO/NONE(-1l)])<br>&nbsp;&nbsp;EXITS_NETWORK(GigabitEthernet2/0)<br><br><span style=\"color:#019612; text-weight:bold;\">EXITS_NETWORK</span><br><strong>1</strong>. node: tokyo<br>&nbsp;&nbsp;ORIGINATED(default)<br>&nbsp;&nbsp;FORWARDED(Routes: bgp [Network: 2.128.0.0/16, Next Hop IP:10.23.21.2])<br>&nbsp;&nbsp;TRANSMITTED(GigabitEthernet1/0)<br><strong>2</strong>. node: seattle<br>&nbsp;&nbsp;RECEIVED(GigabitEthernet0/0)<br>&nbsp;&nbsp;FORWARDED(Routes: ibgp [Network: 2.128.0.0/24, Next Hop IP:2.34.101.4],ibgp [Network: 2.128.0.0/24, Next Hop IP:2.34.201.4])<br>&nbsp;&nbsp;TRANSMITTED(GigabitEthernet2/0)<br><strong>3</strong>. node: philadelphia<br>&nbsp;&nbsp;RECEIVED(GigabitEthernet1/0)<br>&nbsp;&nbsp;FORWARDED(Routes: ibgp [Network: 2.128.0.0/24, Next Hop IP:2.34.101.4],ibgp [Network: 2.128.0.0/24, Next Hop IP:2.34.201.4])<br>&nbsp;&nbsp;TRANSMITTED(GigabitEthernet2/0)<br><strong>4</strong>. node: washingtondc<br>&nbsp;&nbsp;RECEIVED(GigabitEthernet0/0)<br>&nbsp;&nbsp;FORWARDED(Routes: bgp [Network: 2.128.0.0/24, Next Hop IP:2.34.101.4])<br>&nbsp;&nbsp;TRANSMITTED(GigabitEthernet2/0)<br><strong>5</strong>. node: houston<br>&nbsp;&nbsp;RECEIVED(GigabitEthernet0/0)<br>&nbsp;&nbsp;FORWARDED(Routes: connected [Network: 2.128.0.0/24, Next Hop IP:AUTO/NONE(-1l)])<br>&nbsp;&nbsp;EXITS_NETWORK(GigabitEthernet2/0)<br><br><span style=\"color:#019612; text-weight:bold;\">EXITS_NETWORK</span><br><strong>1</strong>. node: tokyo<br>&nbsp;&nbsp;ORIGINATED(default)<br>&nbsp;&nbsp;FORWARDED(Routes: bgp [Network: 2.128.0.0/16, Next Hop IP:10.23.21.2])<br>&nbsp;&nbsp;TRANSMITTED(GigabitEthernet1/0)<br><strong>2</strong>. node: seattle<br>&nbsp;&nbsp;RECEIVED(GigabitEthernet0/0)<br>&nbsp;&nbsp;FORWARDED(Routes: ibgp [Network: 2.128.0.0/24, Next Hop IP:2.34.101.4],ibgp [Network: 2.128.0.0/24, Next Hop IP:2.34.201.4])<br>&nbsp;&nbsp;TRANSMITTED(GigabitEthernet2/0)<br><strong>3</strong>. node: philadelphia<br>&nbsp;&nbsp;RECEIVED(GigabitEthernet1/0)<br>&nbsp;&nbsp;FORWARDED(Routes: ibgp [Network: 2.128.0.0/24, Next Hop IP:2.34.101.4],ibgp [Network: 2.128.0.0/24, Next Hop IP:2.34.201.4])<br>&nbsp;&nbsp;TRANSMITTED(GigabitEthernet3/0)<br><strong>4</strong>. node: losangeles<br>&nbsp;&nbsp;RECEIVED(GigabitEthernet1/0)<br>&nbsp;&nbsp;FORWARDED(Routes: bgp [Network: 2.128.0.0/24, Next Hop IP:2.34.201.4])<br>&nbsp;&nbsp;TRANSMITTED(GigabitEthernet2/0)<br><strong>5</strong>. node: houston<br>&nbsp;&nbsp;RECEIVED(GigabitEthernet1/0)<br>&nbsp;&nbsp;FORWARDED(Routes: connected [Network: 2.128.0.0/24, Next Hop IP:AUTO/NONE(-1l)])<br>&nbsp;&nbsp;EXITS_NETWORK(GigabitEthernet2/0)</td>\n",
       "                        <td id=\"T_pybfstylerow3_col4\" class=\"data row3 col4\" >4</td>\n",
       "            </tr>\n",
       "    </tbody></table>"
      ],
      "text/plain": [
       "                                        Flow  \\\n",
       "0  start=hongkong [3.0.1.2->2.128.0.0 ICMP]    \n",
       "1  start=seattle [2.1.1.2->2.128.0.0 ICMP]     \n",
       "2  start=singapore [3.0.2.1->2.128.0.0 ICMP]   \n",
       "3  start=tokyo [3.0.1.1->2.128.0.0 ICMP]       \n",
       "\n",
       "                       Snapshot_Traces Snapshot_TraceCount  \\\n",
       "0  [((ORIGINATED(default), NO_ROUTE))]  1                    \n",
       "1  [((ORIGINATED(default), NO_ROUTE))]  1                    \n",
       "2  [((ORIGINATED(default), NO_ROUTE))]  1                    \n",
       "3  [((ORIGINATED(default), NO_ROUTE))]  1                    \n",
       "\n",
       "                                                                                                                                                                                                                                                                                                                                                                                                                                                                                                                                                                                                                                                                                                                                                                                                                                                                                                                                                                                                                                                                                                                                                                                                                                                                                                                                                                                                                                                                                                                                                                                                                                                                                                                                                                                                                                                                                                                                                                                                                                                                                                                                                                                                                                                                                                                                                                                                                                                                                                                                                                                                                                                                                                                                                                                                                                                                                                                                                                                                                                                                                                                                                                                                                                                                                                                                                                                                                                                                                                                                                                                                                                                                                                                                                                                                                                                                                                                                                                                                                                                                                                                                                                                                                                                                                                                                                                                                                                                           Reference_Traces  \\\n",
       "0  [((ORIGINATED(default), FORWARDED(Routes: ibgp [Network: 2.128.0.0/16, Next Hop IP:10.23.21.2]), TRANSMITTED(GigabitEthernet1/0)), (RECEIVED(GigabitEthernet0/0), FORWARDED(Routes: bgp [Network: 2.128.0.0/16, Next Hop IP:10.23.21.2]), TRANSMITTED(GigabitEthernet1/0)), (RECEIVED(GigabitEthernet0/0), FORWARDED(Routes: ibgp [Network: 2.128.0.0/24, Next Hop IP:2.34.101.4],ibgp [Network: 2.128.0.0/24, Next Hop IP:2.34.201.4]), TRANSMITTED(GigabitEthernet1/0)), (RECEIVED(GigabitEthernet0/0), FORWARDED(Routes: ibgp [Network: 2.128.0.0/24, Next Hop IP:2.34.101.4],ibgp [Network: 2.128.0.0/24, Next Hop IP:2.34.201.4]), TRANSMITTED(GigabitEthernet2/0)), (RECEIVED(GigabitEthernet0/0), FORWARDED(Routes: bgp [Network: 2.128.0.0/24, Next Hop IP:2.34.201.4]), TRANSMITTED(GigabitEthernet2/0)), (RECEIVED(GigabitEthernet1/0), FORWARDED(Routes: connected [Network: 2.128.0.0/24, Next Hop IP:AUTO/NONE(-1l)]), EXITS_NETWORK(GigabitEthernet2/0))), ((ORIGINATED(default), FORWARDED(Routes: ibgp [Network: 2.128.0.0/16, Next Hop IP:10.23.21.2]), TRANSMITTED(GigabitEthernet1/0)), (RECEIVED(GigabitEthernet0/0), FORWARDED(Routes: bgp [Network: 2.128.0.0/16, Next Hop IP:10.23.21.2]), TRANSMITTED(GigabitEthernet1/0)), (RECEIVED(GigabitEthernet0/0), FORWARDED(Routes: ibgp [Network: 2.128.0.0/24, Next Hop IP:2.34.101.4],ibgp [Network: 2.128.0.0/24, Next Hop IP:2.34.201.4]), TRANSMITTED(GigabitEthernet1/0)), (RECEIVED(GigabitEthernet0/0), FORWARDED(Routes: ibgp [Network: 2.128.0.0/24, Next Hop IP:2.34.101.4],ibgp [Network: 2.128.0.0/24, Next Hop IP:2.34.201.4]), TRANSMITTED(GigabitEthernet3/0)), (RECEIVED(GigabitEthernet1/0), FORWARDED(Routes: bgp [Network: 2.128.0.0/24, Next Hop IP:2.34.101.4]), TRANSMITTED(GigabitEthernet2/0)), (RECEIVED(GigabitEthernet0/0), FORWARDED(Routes: connected [Network: 2.128.0.0/24, Next Hop IP:AUTO/NONE(-1l)]), EXITS_NETWORK(GigabitEthernet2/0))), ((ORIGINATED(default), FORWARDED(Routes: ibgp [Network: 2.128.0.0/16, Next Hop IP:10.23.21.2]), TRANSMITTED(GigabitEthernet1/0)), (RECEIVED(GigabitEthernet0/0), FORWARDED(Routes: bgp [Network: 2.128.0.0/16, Next Hop IP:10.23.21.2]), TRANSMITTED(GigabitEthernet1/0)), (RECEIVED(GigabitEthernet0/0), FORWARDED(Routes: ibgp [Network: 2.128.0.0/24, Next Hop IP:2.34.101.4],ibgp [Network: 2.128.0.0/24, Next Hop IP:2.34.201.4]), TRANSMITTED(GigabitEthernet2/0)), (RECEIVED(GigabitEthernet1/0), FORWARDED(Routes: ibgp [Network: 2.128.0.0/24, Next Hop IP:2.34.101.4],ibgp [Network: 2.128.0.0/24, Next Hop IP:2.34.201.4]), TRANSMITTED(GigabitEthernet2/0)), (RECEIVED(GigabitEthernet0/0), FORWARDED(Routes: bgp [Network: 2.128.0.0/24, Next Hop IP:2.34.101.4]), TRANSMITTED(GigabitEthernet2/0)), (RECEIVED(GigabitEthernet0/0), FORWARDED(Routes: connected [Network: 2.128.0.0/24, Next Hop IP:AUTO/NONE(-1l)]), EXITS_NETWORK(GigabitEthernet2/0))), ((ORIGINATED(default), FORWARDED(Routes: ibgp [Network: 2.128.0.0/16, Next Hop IP:10.23.21.2]), TRANSMITTED(GigabitEthernet1/0)), (RECEIVED(GigabitEthernet0/0), FORWARDED(Routes: bgp [Network: 2.128.0.0/16, Next Hop IP:10.23.21.2]), TRANSMITTED(GigabitEthernet1/0)), (RECEIVED(GigabitEthernet0/0), FORWARDED(Routes: ibgp [Network: 2.128.0.0/24, Next Hop IP:2.34.101.4],ibgp [Network: 2.128.0.0/24, Next Hop IP:2.34.201.4]), TRANSMITTED(GigabitEthernet2/0)), (RECEIVED(GigabitEthernet1/0), FORWARDED(Routes: ibgp [Network: 2.128.0.0/24, Next Hop IP:2.34.101.4],ibgp [Network: 2.128.0.0/24, Next Hop IP:2.34.201.4]), TRANSMITTED(GigabitEthernet3/0)), (RECEIVED(GigabitEthernet1/0), FORWARDED(Routes: bgp [Network: 2.128.0.0/24, Next Hop IP:2.34.201.4]), TRANSMITTED(GigabitEthernet2/0)), (RECEIVED(GigabitEthernet1/0), FORWARDED(Routes: connected [Network: 2.128.0.0/24, Next Hop IP:AUTO/NONE(-1l)]), EXITS_NETWORK(GigabitEthernet2/0)))]                                                                                                                                                                                                                                                                                                                                                                                                                                                                                                                                                                           \n",
       "1  [((ORIGINATED(default), FORWARDED(Routes: ibgp [Network: 2.128.0.0/24, Next Hop IP:2.34.101.4],ibgp [Network: 2.128.0.0/24, Next Hop IP:2.34.201.4]), TRANSMITTED(GigabitEthernet1/0)), (RECEIVED(GigabitEthernet0/0), FORWARDED(Routes: ibgp [Network: 2.128.0.0/24, Next Hop IP:2.34.101.4],ibgp [Network: 2.128.0.0/24, Next Hop IP:2.34.201.4]), TRANSMITTED(GigabitEthernet2/0)), (RECEIVED(GigabitEthernet0/0), FORWARDED(Routes: bgp [Network: 2.128.0.0/24, Next Hop IP:2.34.201.4]), TRANSMITTED(GigabitEthernet2/0)), (RECEIVED(GigabitEthernet1/0), FORWARDED(Routes: connected [Network: 2.128.0.0/24, Next Hop IP:AUTO/NONE(-1l)]), EXITS_NETWORK(GigabitEthernet2/0))), ((ORIGINATED(default), FORWARDED(Routes: ibgp [Network: 2.128.0.0/24, Next Hop IP:2.34.101.4],ibgp [Network: 2.128.0.0/24, Next Hop IP:2.34.201.4]), TRANSMITTED(GigabitEthernet1/0)), (RECEIVED(GigabitEthernet0/0), FORWARDED(Routes: ibgp [Network: 2.128.0.0/24, Next Hop IP:2.34.101.4],ibgp [Network: 2.128.0.0/24, Next Hop IP:2.34.201.4]), TRANSMITTED(GigabitEthernet3/0)), (RECEIVED(GigabitEthernet1/0), FORWARDED(Routes: bgp [Network: 2.128.0.0/24, Next Hop IP:2.34.101.4]), TRANSMITTED(GigabitEthernet2/0)), (RECEIVED(GigabitEthernet0/0), FORWARDED(Routes: connected [Network: 2.128.0.0/24, Next Hop IP:AUTO/NONE(-1l)]), EXITS_NETWORK(GigabitEthernet2/0))), ((ORIGINATED(default), FORWARDED(Routes: ibgp [Network: 2.128.0.0/24, Next Hop IP:2.34.101.4],ibgp [Network: 2.128.0.0/24, Next Hop IP:2.34.201.4]), TRANSMITTED(GigabitEthernet2/0)), (RECEIVED(GigabitEthernet1/0), FORWARDED(Routes: ibgp [Network: 2.128.0.0/24, Next Hop IP:2.34.101.4],ibgp [Network: 2.128.0.0/24, Next Hop IP:2.34.201.4]), TRANSMITTED(GigabitEthernet2/0)), (RECEIVED(GigabitEthernet0/0), FORWARDED(Routes: bgp [Network: 2.128.0.0/24, Next Hop IP:2.34.101.4]), TRANSMITTED(GigabitEthernet2/0)), (RECEIVED(GigabitEthernet0/0), FORWARDED(Routes: connected [Network: 2.128.0.0/24, Next Hop IP:AUTO/NONE(-1l)]), EXITS_NETWORK(GigabitEthernet2/0))), ((ORIGINATED(default), FORWARDED(Routes: ibgp [Network: 2.128.0.0/24, Next Hop IP:2.34.101.4],ibgp [Network: 2.128.0.0/24, Next Hop IP:2.34.201.4]), TRANSMITTED(GigabitEthernet2/0)), (RECEIVED(GigabitEthernet1/0), FORWARDED(Routes: ibgp [Network: 2.128.0.0/24, Next Hop IP:2.34.101.4],ibgp [Network: 2.128.0.0/24, Next Hop IP:2.34.201.4]), TRANSMITTED(GigabitEthernet3/0)), (RECEIVED(GigabitEthernet1/0), FORWARDED(Routes: bgp [Network: 2.128.0.0/24, Next Hop IP:2.34.201.4]), TRANSMITTED(GigabitEthernet2/0)), (RECEIVED(GigabitEthernet1/0), FORWARDED(Routes: connected [Network: 2.128.0.0/24, Next Hop IP:AUTO/NONE(-1l)]), EXITS_NETWORK(GigabitEthernet2/0)))]                                                                                                                                                                                                                                                                                                                                                                                                                                                                                                                                                                                                                                                                                                                                                                                                                                                                                                                                                                                                                                                                                                                                                                                                                                                                                                                                                                                                                                                                                                                                                                                                                                                                                                                       \n",
       "2  [((ORIGINATED(default), FORWARDED(Routes: ibgp [Network: 2.128.0.0/16, Next Hop IP:10.23.21.2]), TRANSMITTED(GigabitEthernet1/0)), (RECEIVED(GigabitEthernet0/0), FORWARDED(Routes: ibgp [Network: 2.128.0.0/16, Next Hop IP:10.23.21.2]), TRANSMITTED(GigabitEthernet1/0)), (RECEIVED(GigabitEthernet0/0), FORWARDED(Routes: bgp [Network: 2.128.0.0/16, Next Hop IP:10.23.21.2]), TRANSMITTED(GigabitEthernet1/0)), (RECEIVED(GigabitEthernet0/0), FORWARDED(Routes: ibgp [Network: 2.128.0.0/24, Next Hop IP:2.34.101.4],ibgp [Network: 2.128.0.0/24, Next Hop IP:2.34.201.4]), TRANSMITTED(GigabitEthernet1/0)), (RECEIVED(GigabitEthernet0/0), FORWARDED(Routes: ibgp [Network: 2.128.0.0/24, Next Hop IP:2.34.101.4],ibgp [Network: 2.128.0.0/24, Next Hop IP:2.34.201.4]), TRANSMITTED(GigabitEthernet2/0)), (RECEIVED(GigabitEthernet0/0), FORWARDED(Routes: bgp [Network: 2.128.0.0/24, Next Hop IP:2.34.201.4]), TRANSMITTED(GigabitEthernet2/0)), (RECEIVED(GigabitEthernet1/0), FORWARDED(Routes: connected [Network: 2.128.0.0/24, Next Hop IP:AUTO/NONE(-1l)]), EXITS_NETWORK(GigabitEthernet2/0))), ((ORIGINATED(default), FORWARDED(Routes: ibgp [Network: 2.128.0.0/16, Next Hop IP:10.23.21.2]), TRANSMITTED(GigabitEthernet1/0)), (RECEIVED(GigabitEthernet0/0), FORWARDED(Routes: ibgp [Network: 2.128.0.0/16, Next Hop IP:10.23.21.2]), TRANSMITTED(GigabitEthernet1/0)), (RECEIVED(GigabitEthernet0/0), FORWARDED(Routes: bgp [Network: 2.128.0.0/16, Next Hop IP:10.23.21.2]), TRANSMITTED(GigabitEthernet1/0)), (RECEIVED(GigabitEthernet0/0), FORWARDED(Routes: ibgp [Network: 2.128.0.0/24, Next Hop IP:2.34.101.4],ibgp [Network: 2.128.0.0/24, Next Hop IP:2.34.201.4]), TRANSMITTED(GigabitEthernet1/0)), (RECEIVED(GigabitEthernet0/0), FORWARDED(Routes: ibgp [Network: 2.128.0.0/24, Next Hop IP:2.34.101.4],ibgp [Network: 2.128.0.0/24, Next Hop IP:2.34.201.4]), TRANSMITTED(GigabitEthernet3/0)), (RECEIVED(GigabitEthernet1/0), FORWARDED(Routes: bgp [Network: 2.128.0.0/24, Next Hop IP:2.34.101.4]), TRANSMITTED(GigabitEthernet2/0)), (RECEIVED(GigabitEthernet0/0), FORWARDED(Routes: connected [Network: 2.128.0.0/24, Next Hop IP:AUTO/NONE(-1l)]), EXITS_NETWORK(GigabitEthernet2/0))), ((ORIGINATED(default), FORWARDED(Routes: ibgp [Network: 2.128.0.0/16, Next Hop IP:10.23.21.2]), TRANSMITTED(GigabitEthernet1/0)), (RECEIVED(GigabitEthernet0/0), FORWARDED(Routes: ibgp [Network: 2.128.0.0/16, Next Hop IP:10.23.21.2]), TRANSMITTED(GigabitEthernet1/0)), (RECEIVED(GigabitEthernet0/0), FORWARDED(Routes: bgp [Network: 2.128.0.0/16, Next Hop IP:10.23.21.2]), TRANSMITTED(GigabitEthernet1/0)), (RECEIVED(GigabitEthernet0/0), FORWARDED(Routes: ibgp [Network: 2.128.0.0/24, Next Hop IP:2.34.101.4],ibgp [Network: 2.128.0.0/24, Next Hop IP:2.34.201.4]), TRANSMITTED(GigabitEthernet2/0)), (RECEIVED(GigabitEthernet1/0), FORWARDED(Routes: ibgp [Network: 2.128.0.0/24, Next Hop IP:2.34.101.4],ibgp [Network: 2.128.0.0/24, Next Hop IP:2.34.201.4]), TRANSMITTED(GigabitEthernet2/0)), (RECEIVED(GigabitEthernet0/0), FORWARDED(Routes: bgp [Network: 2.128.0.0/24, Next Hop IP:2.34.101.4]), TRANSMITTED(GigabitEthernet2/0)), (RECEIVED(GigabitEthernet0/0), FORWARDED(Routes: connected [Network: 2.128.0.0/24, Next Hop IP:AUTO/NONE(-1l)]), EXITS_NETWORK(GigabitEthernet2/0))), ((ORIGINATED(default), FORWARDED(Routes: ibgp [Network: 2.128.0.0/16, Next Hop IP:10.23.21.2]), TRANSMITTED(GigabitEthernet1/0)), (RECEIVED(GigabitEthernet0/0), FORWARDED(Routes: ibgp [Network: 2.128.0.0/16, Next Hop IP:10.23.21.2]), TRANSMITTED(GigabitEthernet1/0)), (RECEIVED(GigabitEthernet0/0), FORWARDED(Routes: bgp [Network: 2.128.0.0/16, Next Hop IP:10.23.21.2]), TRANSMITTED(GigabitEthernet1/0)), (RECEIVED(GigabitEthernet0/0), FORWARDED(Routes: ibgp [Network: 2.128.0.0/24, Next Hop IP:2.34.101.4],ibgp [Network: 2.128.0.0/24, Next Hop IP:2.34.201.4]), TRANSMITTED(GigabitEthernet2/0)), (RECEIVED(GigabitEthernet1/0), FORWARDED(Routes: ibgp [Network: 2.128.0.0/24, Next Hop IP:2.34.101.4],ibgp [Network: 2.128.0.0/24, Next Hop IP:2.34.201.4]), TRANSMITTED(GigabitEthernet3/0)), (RECEIVED(GigabitEthernet1/0), FORWARDED(Routes: bgp [Network: 2.128.0.0/24, Next Hop IP:2.34.201.4]), TRANSMITTED(GigabitEthernet2/0)), (RECEIVED(GigabitEthernet1/0), FORWARDED(Routes: connected [Network: 2.128.0.0/24, Next Hop IP:AUTO/NONE(-1l)]), EXITS_NETWORK(GigabitEthernet2/0)))]   \n",
       "3  [((ORIGINATED(default), FORWARDED(Routes: bgp [Network: 2.128.0.0/16, Next Hop IP:10.23.21.2]), TRANSMITTED(GigabitEthernet1/0)), (RECEIVED(GigabitEthernet0/0), FORWARDED(Routes: ibgp [Network: 2.128.0.0/24, Next Hop IP:2.34.101.4],ibgp [Network: 2.128.0.0/24, Next Hop IP:2.34.201.4]), TRANSMITTED(GigabitEthernet1/0)), (RECEIVED(GigabitEthernet0/0), FORWARDED(Routes: ibgp [Network: 2.128.0.0/24, Next Hop IP:2.34.101.4],ibgp [Network: 2.128.0.0/24, Next Hop IP:2.34.201.4]), TRANSMITTED(GigabitEthernet2/0)), (RECEIVED(GigabitEthernet0/0), FORWARDED(Routes: bgp [Network: 2.128.0.0/24, Next Hop IP:2.34.201.4]), TRANSMITTED(GigabitEthernet2/0)), (RECEIVED(GigabitEthernet1/0), FORWARDED(Routes: connected [Network: 2.128.0.0/24, Next Hop IP:AUTO/NONE(-1l)]), EXITS_NETWORK(GigabitEthernet2/0))), ((ORIGINATED(default), FORWARDED(Routes: bgp [Network: 2.128.0.0/16, Next Hop IP:10.23.21.2]), TRANSMITTED(GigabitEthernet1/0)), (RECEIVED(GigabitEthernet0/0), FORWARDED(Routes: ibgp [Network: 2.128.0.0/24, Next Hop IP:2.34.101.4],ibgp [Network: 2.128.0.0/24, Next Hop IP:2.34.201.4]), TRANSMITTED(GigabitEthernet1/0)), (RECEIVED(GigabitEthernet0/0), FORWARDED(Routes: ibgp [Network: 2.128.0.0/24, Next Hop IP:2.34.101.4],ibgp [Network: 2.128.0.0/24, Next Hop IP:2.34.201.4]), TRANSMITTED(GigabitEthernet3/0)), (RECEIVED(GigabitEthernet1/0), FORWARDED(Routes: bgp [Network: 2.128.0.0/24, Next Hop IP:2.34.101.4]), TRANSMITTED(GigabitEthernet2/0)), (RECEIVED(GigabitEthernet0/0), FORWARDED(Routes: connected [Network: 2.128.0.0/24, Next Hop IP:AUTO/NONE(-1l)]), EXITS_NETWORK(GigabitEthernet2/0))), ((ORIGINATED(default), FORWARDED(Routes: bgp [Network: 2.128.0.0/16, Next Hop IP:10.23.21.2]), TRANSMITTED(GigabitEthernet1/0)), (RECEIVED(GigabitEthernet0/0), FORWARDED(Routes: ibgp [Network: 2.128.0.0/24, Next Hop IP:2.34.101.4],ibgp [Network: 2.128.0.0/24, Next Hop IP:2.34.201.4]), TRANSMITTED(GigabitEthernet2/0)), (RECEIVED(GigabitEthernet1/0), FORWARDED(Routes: ibgp [Network: 2.128.0.0/24, Next Hop IP:2.34.101.4],ibgp [Network: 2.128.0.0/24, Next Hop IP:2.34.201.4]), TRANSMITTED(GigabitEthernet2/0)), (RECEIVED(GigabitEthernet0/0), FORWARDED(Routes: bgp [Network: 2.128.0.0/24, Next Hop IP:2.34.101.4]), TRANSMITTED(GigabitEthernet2/0)), (RECEIVED(GigabitEthernet0/0), FORWARDED(Routes: connected [Network: 2.128.0.0/24, Next Hop IP:AUTO/NONE(-1l)]), EXITS_NETWORK(GigabitEthernet2/0))), ((ORIGINATED(default), FORWARDED(Routes: bgp [Network: 2.128.0.0/16, Next Hop IP:10.23.21.2]), TRANSMITTED(GigabitEthernet1/0)), (RECEIVED(GigabitEthernet0/0), FORWARDED(Routes: ibgp [Network: 2.128.0.0/24, Next Hop IP:2.34.101.4],ibgp [Network: 2.128.0.0/24, Next Hop IP:2.34.201.4]), TRANSMITTED(GigabitEthernet2/0)), (RECEIVED(GigabitEthernet1/0), FORWARDED(Routes: ibgp [Network: 2.128.0.0/24, Next Hop IP:2.34.101.4],ibgp [Network: 2.128.0.0/24, Next Hop IP:2.34.201.4]), TRANSMITTED(GigabitEthernet3/0)), (RECEIVED(GigabitEthernet1/0), FORWARDED(Routes: bgp [Network: 2.128.0.0/24, Next Hop IP:2.34.201.4]), TRANSMITTED(GigabitEthernet2/0)), (RECEIVED(GigabitEthernet1/0), FORWARDED(Routes: connected [Network: 2.128.0.0/24, Next Hop IP:AUTO/NONE(-1l)]), EXITS_NETWORK(GigabitEthernet2/0)))]                                                                                                                                                                                                                                                                                                                                                                                                                                                                                                                                                                                                                                                                                                                                                                                                                                                                                                                                                                                                                                                                                                                                                   \n",
       "\n",
       "  Reference_TraceCount  \n",
       "0  4                    \n",
       "1  4                    \n",
       "2  4                    \n",
       "3  4                    "
      ]
     },
     "metadata": {},
     "output_type": "display_data"
    }
   ],
   "source": [
    "show(answer.frame())"
   ]
  },
  {
   "cell_type": "markdown",
   "metadata": {
    "colab_type": "text",
    "id": "qc1w_8URRSIx"
   },
   "source": [
    "We see that when the links fail,  if we ignore flows that end in `Seattle` (whose links have failed), a general pattern is that `Asia` loses connectivity to `US`. Given the network topology, this is quite surprising because after those failure we would have expected `Asia` to be able to reach `US` via `Europe`. \n",
    "\n",
    "To investigate furhter into the root cause, we ask Batfish to show how the routing tables in the two cases differ. We do so using the `routes` question and comparing the two snapshots as in the differential reachability question. We focus on the impacted destination prefix `2.128.0.0/16`. "
   ]
  },
  {
   "cell_type": "code",
   "execution_count": 7,
   "metadata": {
    "colab": {
     "base_uri": "https://localhost:8080/",
     "height": 571
    },
    "colab_type": "code",
    "id": "sUfNZS0ZLMEt",
    "outputId": "f3d7aaca-34dd-4752-868d-855713e3b6eb"
   },
   "outputs": [
    {
     "data": {
      "text/html": [
       "<div>\n",
       "<style scoped>\n",
       "    .dataframe tbody tr th:only-of-type {\n",
       "        vertical-align: middle;\n",
       "    }\n",
       "\n",
       "    .dataframe tbody tr th {\n",
       "        vertical-align: top;\n",
       "    }\n",
       "\n",
       "    .dataframe thead th {\n",
       "        text-align: right;\n",
       "    }\n",
       "</style>\n",
       "<table border=\"1\" class=\"dataframe tex2jax_ignore\">\n",
       "  <thead>\n",
       "    <tr style=\"text-align: right;\">\n",
       "      <th></th>\n",
       "      <th>Node</th>\n",
       "      <th>VRF</th>\n",
       "      <th>Network</th>\n",
       "      <th>Entry_Presence</th>\n",
       "      <th>Snapshot_Next_Hop_IP</th>\n",
       "      <th>Reference_Next_Hop_IP</th>\n",
       "      <th>Snapshot_Protocol</th>\n",
       "      <th>Reference_Protocol</th>\n",
       "      <th>Snapshot_AS_Path</th>\n",
       "      <th>Reference_AS_Path</th>\n",
       "      <th>Snapshot_Metric</th>\n",
       "      <th>Reference_Metric</th>\n",
       "      <th>Snapshot_Local_Pref</th>\n",
       "      <th>Reference_Local_Pref</th>\n",
       "      <th>Snapshot_Communities</th>\n",
       "      <th>Reference_Communities</th>\n",
       "      <th>Snapshot_Origin_Protocol</th>\n",
       "      <th>Reference_Origin_Protocol</th>\n",
       "      <th>Snapshot_Tag</th>\n",
       "      <th>Reference_Tag</th>\n",
       "    </tr>\n",
       "  </thead>\n",
       "  <tbody>\n",
       "    <tr>\n",
       "      <th>0</th>\n",
       "      <td>tokyo</td>\n",
       "      <td>default</td>\n",
       "      <td>2.128.0.0/16</td>\n",
       "      <td>Only in Reference</td>\n",
       "      <td>None</td>\n",
       "      <td>10.23.21.2</td>\n",
       "      <td>None</td>\n",
       "      <td>bgp</td>\n",
       "      <td>None</td>\n",
       "      <td>2</td>\n",
       "      <td>None</td>\n",
       "      <td>50</td>\n",
       "      <td>None</td>\n",
       "      <td>350</td>\n",
       "      <td>None</td>\n",
       "      <td>['2:3']</td>\n",
       "      <td>None</td>\n",
       "      <td>bgp</td>\n",
       "      <td>None</td>\n",
       "      <td>None</td>\n",
       "    </tr>\n",
       "    <tr>\n",
       "      <th>1</th>\n",
       "      <td>singapore</td>\n",
       "      <td>default</td>\n",
       "      <td>2.128.0.0/16</td>\n",
       "      <td>Only in Reference</td>\n",
       "      <td>None</td>\n",
       "      <td>10.23.21.2</td>\n",
       "      <td>None</td>\n",
       "      <td>ibgp</td>\n",
       "      <td>None</td>\n",
       "      <td>2</td>\n",
       "      <td>None</td>\n",
       "      <td>50</td>\n",
       "      <td>None</td>\n",
       "      <td>350</td>\n",
       "      <td>None</td>\n",
       "      <td>['2:3']</td>\n",
       "      <td>None</td>\n",
       "      <td>ibgp</td>\n",
       "      <td>None</td>\n",
       "      <td>None</td>\n",
       "    </tr>\n",
       "    <tr>\n",
       "      <th>2</th>\n",
       "      <td>philadelphia</td>\n",
       "      <td>default</td>\n",
       "      <td>2.128.0.0/16</td>\n",
       "      <td>Unchanged</td>\n",
       "      <td>2.1.1.1</td>\n",
       "      <td>2.1.1.1</td>\n",
       "      <td>ibgp</td>\n",
       "      <td>ibgp</td>\n",
       "      <td></td>\n",
       "      <td></td>\n",
       "      <td>0</td>\n",
       "      <td>0</td>\n",
       "      <td>100</td>\n",
       "      <td>100</td>\n",
       "      <td>[]</td>\n",
       "      <td>[]</td>\n",
       "      <td>ibgp</td>\n",
       "      <td>ibgp</td>\n",
       "      <td>None</td>\n",
       "      <td>None</td>\n",
       "    </tr>\n",
       "    <tr>\n",
       "      <th>3</th>\n",
       "      <td>sanfrancisco</td>\n",
       "      <td>default</td>\n",
       "      <td>2.128.0.0/16</td>\n",
       "      <td>Only in Reference</td>\n",
       "      <td>None</td>\n",
       "      <td>2.1.1.2</td>\n",
       "      <td>None</td>\n",
       "      <td>ibgp</td>\n",
       "      <td>None</td>\n",
       "      <td></td>\n",
       "      <td>None</td>\n",
       "      <td>0</td>\n",
       "      <td>None</td>\n",
       "      <td>100</td>\n",
       "      <td>None</td>\n",
       "      <td>[]</td>\n",
       "      <td>None</td>\n",
       "      <td>ibgp</td>\n",
       "      <td>None</td>\n",
       "      <td>None</td>\n",
       "    </tr>\n",
       "    <tr>\n",
       "      <th>4</th>\n",
       "      <td>losangeles</td>\n",
       "      <td>default</td>\n",
       "      <td>2.128.0.0/16</td>\n",
       "      <td>Only in Reference</td>\n",
       "      <td>None</td>\n",
       "      <td>2.1.1.2</td>\n",
       "      <td>None</td>\n",
       "      <td>ibgp</td>\n",
       "      <td>None</td>\n",
       "      <td></td>\n",
       "      <td>None</td>\n",
       "      <td>0</td>\n",
       "      <td>None</td>\n",
       "      <td>100</td>\n",
       "      <td>None</td>\n",
       "      <td>[]</td>\n",
       "      <td>None</td>\n",
       "      <td>ibgp</td>\n",
       "      <td>None</td>\n",
       "      <td>None</td>\n",
       "    </tr>\n",
       "    <tr>\n",
       "      <th>5</th>\n",
       "      <td>washingtondc</td>\n",
       "      <td>default</td>\n",
       "      <td>2.128.0.0/16</td>\n",
       "      <td>Only in Reference</td>\n",
       "      <td>None</td>\n",
       "      <td>2.1.1.2</td>\n",
       "      <td>None</td>\n",
       "      <td>ibgp</td>\n",
       "      <td>None</td>\n",
       "      <td></td>\n",
       "      <td>None</td>\n",
       "      <td>0</td>\n",
       "      <td>None</td>\n",
       "      <td>100</td>\n",
       "      <td>None</td>\n",
       "      <td>[]</td>\n",
       "      <td>None</td>\n",
       "      <td>ibgp</td>\n",
       "      <td>None</td>\n",
       "      <td>None</td>\n",
       "    </tr>\n",
       "    <tr>\n",
       "      <th>6</th>\n",
       "      <td>losangeles</td>\n",
       "      <td>default</td>\n",
       "      <td>2.128.0.0/16</td>\n",
       "      <td>Unchanged</td>\n",
       "      <td>2.1.1.1</td>\n",
       "      <td>2.1.1.1</td>\n",
       "      <td>ibgp</td>\n",
       "      <td>ibgp</td>\n",
       "      <td></td>\n",
       "      <td></td>\n",
       "      <td>0</td>\n",
       "      <td>0</td>\n",
       "      <td>100</td>\n",
       "      <td>100</td>\n",
       "      <td>[]</td>\n",
       "      <td>[]</td>\n",
       "      <td>ibgp</td>\n",
       "      <td>ibgp</td>\n",
       "      <td>None</td>\n",
       "      <td>None</td>\n",
       "    </tr>\n",
       "    <tr>\n",
       "      <th>7</th>\n",
       "      <td>washingtondc</td>\n",
       "      <td>default</td>\n",
       "      <td>2.128.0.0/16</td>\n",
       "      <td>Unchanged</td>\n",
       "      <td>2.1.1.1</td>\n",
       "      <td>2.1.1.1</td>\n",
       "      <td>ibgp</td>\n",
       "      <td>ibgp</td>\n",
       "      <td></td>\n",
       "      <td></td>\n",
       "      <td>0</td>\n",
       "      <td>0</td>\n",
       "      <td>100</td>\n",
       "      <td>100</td>\n",
       "      <td>[]</td>\n",
       "      <td>[]</td>\n",
       "      <td>ibgp</td>\n",
       "      <td>ibgp</td>\n",
       "      <td>None</td>\n",
       "      <td>None</td>\n",
       "    </tr>\n",
       "    <tr>\n",
       "      <th>8</th>\n",
       "      <td>seattle</td>\n",
       "      <td>default</td>\n",
       "      <td>2.128.0.0/16</td>\n",
       "      <td>Only in Reference</td>\n",
       "      <td>None</td>\n",
       "      <td>AUTO/NONE(-1l)</td>\n",
       "      <td>None</td>\n",
       "      <td>aggregate</td>\n",
       "      <td>None</td>\n",
       "      <td></td>\n",
       "      <td>None</td>\n",
       "      <td>0</td>\n",
       "      <td>None</td>\n",
       "      <td>100</td>\n",
       "      <td>None</td>\n",
       "      <td>[]</td>\n",
       "      <td>None</td>\n",
       "      <td>aggregate</td>\n",
       "      <td>None</td>\n",
       "      <td>None</td>\n",
       "    </tr>\n",
       "    <tr>\n",
       "      <th>9</th>\n",
       "      <td>philadelphia</td>\n",
       "      <td>default</td>\n",
       "      <td>2.128.0.0/16</td>\n",
       "      <td>Only in Reference</td>\n",
       "      <td>None</td>\n",
       "      <td>2.1.1.2</td>\n",
       "      <td>None</td>\n",
       "      <td>ibgp</td>\n",
       "      <td>None</td>\n",
       "      <td></td>\n",
       "      <td>None</td>\n",
       "      <td>0</td>\n",
       "      <td>None</td>\n",
       "      <td>100</td>\n",
       "      <td>None</td>\n",
       "      <td>[]</td>\n",
       "      <td>None</td>\n",
       "      <td>ibgp</td>\n",
       "      <td>None</td>\n",
       "      <td>None</td>\n",
       "    </tr>\n",
       "    <tr>\n",
       "      <th>10</th>\n",
       "      <td>sanfrancisco</td>\n",
       "      <td>default</td>\n",
       "      <td>2.128.0.0/16</td>\n",
       "      <td>Unchanged</td>\n",
       "      <td>2.1.1.1</td>\n",
       "      <td>2.1.1.1</td>\n",
       "      <td>ibgp</td>\n",
       "      <td>ibgp</td>\n",
       "      <td></td>\n",
       "      <td></td>\n",
       "      <td>0</td>\n",
       "      <td>0</td>\n",
       "      <td>100</td>\n",
       "      <td>100</td>\n",
       "      <td>[]</td>\n",
       "      <td>[]</td>\n",
       "      <td>ibgp</td>\n",
       "      <td>ibgp</td>\n",
       "      <td>None</td>\n",
       "      <td>None</td>\n",
       "    </tr>\n",
       "    <tr>\n",
       "      <th>11</th>\n",
       "      <td>hongkong</td>\n",
       "      <td>default</td>\n",
       "      <td>2.128.0.0/16</td>\n",
       "      <td>Only in Reference</td>\n",
       "      <td>None</td>\n",
       "      <td>10.23.21.2</td>\n",
       "      <td>None</td>\n",
       "      <td>ibgp</td>\n",
       "      <td>None</td>\n",
       "      <td>2</td>\n",
       "      <td>None</td>\n",
       "      <td>50</td>\n",
       "      <td>None</td>\n",
       "      <td>350</td>\n",
       "      <td>None</td>\n",
       "      <td>['2:3']</td>\n",
       "      <td>None</td>\n",
       "      <td>ibgp</td>\n",
       "      <td>None</td>\n",
       "      <td>None</td>\n",
       "    </tr>\n",
       "  </tbody>\n",
       "</table>\n",
       "</div>"
      ],
      "text/plain": [
       "            Node      VRF       Network     Entry_Presence  \\\n",
       "0   tokyo         default  2.128.0.0/16  Only in Reference   \n",
       "1   singapore     default  2.128.0.0/16  Only in Reference   \n",
       "2   philadelphia  default  2.128.0.0/16  Unchanged           \n",
       "3   sanfrancisco  default  2.128.0.0/16  Only in Reference   \n",
       "4   losangeles    default  2.128.0.0/16  Only in Reference   \n",
       "5   washingtondc  default  2.128.0.0/16  Only in Reference   \n",
       "6   losangeles    default  2.128.0.0/16  Unchanged           \n",
       "7   washingtondc  default  2.128.0.0/16  Unchanged           \n",
       "8   seattle       default  2.128.0.0/16  Only in Reference   \n",
       "9   philadelphia  default  2.128.0.0/16  Only in Reference   \n",
       "10  sanfrancisco  default  2.128.0.0/16  Unchanged           \n",
       "11  hongkong      default  2.128.0.0/16  Only in Reference   \n",
       "\n",
       "   Snapshot_Next_Hop_IP Reference_Next_Hop_IP Snapshot_Protocol  \\\n",
       "0   None                 10.23.21.2            None               \n",
       "1   None                 10.23.21.2            None               \n",
       "2   2.1.1.1              2.1.1.1               ibgp               \n",
       "3   None                 2.1.1.2               None               \n",
       "4   None                 2.1.1.2               None               \n",
       "5   None                 2.1.1.2               None               \n",
       "6   2.1.1.1              2.1.1.1               ibgp               \n",
       "7   2.1.1.1              2.1.1.1               ibgp               \n",
       "8   None                 AUTO/NONE(-1l)        None               \n",
       "9   None                 2.1.1.2               None               \n",
       "10  2.1.1.1              2.1.1.1               ibgp               \n",
       "11  None                 10.23.21.2            None               \n",
       "\n",
       "   Reference_Protocol Snapshot_AS_Path Reference_AS_Path Snapshot_Metric  \\\n",
       "0   bgp                None             2                 None             \n",
       "1   ibgp               None             2                 None             \n",
       "2   ibgp                                                  0                \n",
       "3   ibgp               None                               None             \n",
       "4   ibgp               None                               None             \n",
       "5   ibgp               None                               None             \n",
       "6   ibgp                                                  0                \n",
       "7   ibgp                                                  0                \n",
       "8   aggregate          None                               None             \n",
       "9   ibgp               None                               None             \n",
       "10  ibgp                                                  0                \n",
       "11  ibgp               None             2                 None             \n",
       "\n",
       "   Reference_Metric Snapshot_Local_Pref Reference_Local_Pref  \\\n",
       "0   50               None                350                   \n",
       "1   50               None                350                   \n",
       "2   0                100                 100                   \n",
       "3   0                None                100                   \n",
       "4   0                None                100                   \n",
       "5   0                None                100                   \n",
       "6   0                100                 100                   \n",
       "7   0                100                 100                   \n",
       "8   0                None                100                   \n",
       "9   0                None                100                   \n",
       "10  0                100                 100                   \n",
       "11  50               None                350                   \n",
       "\n",
       "   Snapshot_Communities Reference_Communities Snapshot_Origin_Protocol  \\\n",
       "0   None                 ['2:3']               None                      \n",
       "1   None                 ['2:3']               None                      \n",
       "2   []                   []                    ibgp                      \n",
       "3   None                 []                    None                      \n",
       "4   None                 []                    None                      \n",
       "5   None                 []                    None                      \n",
       "6   []                   []                    ibgp                      \n",
       "7   []                   []                    ibgp                      \n",
       "8   None                 []                    None                      \n",
       "9   None                 []                    None                      \n",
       "10  []                   []                    ibgp                      \n",
       "11  None                 ['2:3']               None                      \n",
       "\n",
       "   Reference_Origin_Protocol Snapshot_Tag Reference_Tag  \n",
       "0   bgp                       None         None          \n",
       "1   ibgp                      None         None          \n",
       "2   ibgp                      None         None          \n",
       "3   ibgp                      None         None          \n",
       "4   ibgp                      None         None          \n",
       "5   ibgp                      None         None          \n",
       "6   ibgp                      None         None          \n",
       "7   ibgp                      None         None          \n",
       "8   aggregate                 None         None          \n",
       "9   ibgp                      None         None          \n",
       "10  ibgp                      None         None          \n",
       "11  ibgp                      None         None          "
      ]
     },
     "execution_count": 7,
     "metadata": {},
     "output_type": "execute_result"
    }
   ],
   "source": [
    "diff_routes = bfq.routes(network=\"2.128.0.0/16\", rib=\"bgp\").answer(snapshot=FAIL_SNAPSHOT_NAME, reference_snapshot=BASE_SNAPSHOT_NAME)\n",
    "diff_routes"
   ]
  },
  {
   "cell_type": "markdown",
   "metadata": {
    "colab_type": "text",
    "id": "mTsuK7hDSOf4"
   },
   "source": [
    "We see that routers in `Asia` (`Hongkong`, `Singapore`, and `Tokyo`) and `Seattle` do not have any BGP routes to the prefix in the failure snapshot, which they did in the reference snapshot. The missing route in `Seattle` can be explained via missing routes in `Asia` since `Seattle` depended on `Asia` after losing its two other links. \n",
    "\n",
    "That `Europe` still has the routes after the failure alerts us to the possibility of improper filtering of incoming routes in `Asia`. So, we should check on that. There are many ways to analyze the incoming route filters; we'll use the `definedStructures` question of Batfish to extract necessary definitions that we need to view."
   ]
  },
  {
   "cell_type": "code",
   "execution_count": 8,
   "metadata": {
    "colab": {
     "base_uri": "https://localhost:8080/",
     "height": 328
    },
    "colab_type": "code",
    "id": "nETg597oOIHK",
    "outputId": "f75d3fb5-a0cf-4f42-e806-0781e324afa6"
   },
   "outputs": [
    {
     "data": {
      "text/html": [
       "<div>\n",
       "<style scoped>\n",
       "    .dataframe tbody tr th:only-of-type {\n",
       "        vertical-align: middle;\n",
       "    }\n",
       "\n",
       "    .dataframe tbody tr th {\n",
       "        vertical-align: top;\n",
       "    }\n",
       "\n",
       "    .dataframe thead th {\n",
       "        text-align: right;\n",
       "    }\n",
       "</style>\n",
       "<table border=\"1\" class=\"dataframe tex2jax_ignore\">\n",
       "  <thead>\n",
       "    <tr style=\"text-align: right;\">\n",
       "      <th></th>\n",
       "      <th>Structure_Type</th>\n",
       "      <th>Structure_Name</th>\n",
       "      <th>Source_Lines</th>\n",
       "    </tr>\n",
       "  </thead>\n",
       "  <tbody>\n",
       "    <tr>\n",
       "      <th>0</th>\n",
       "      <td>interface</td>\n",
       "      <td>GigabitEthernet2/0</td>\n",
       "      <td>configs/hongkong.cfg:[73, 74, 75]</td>\n",
       "    </tr>\n",
       "    <tr>\n",
       "      <th>1</th>\n",
       "      <td>bgp peer-group</td>\n",
       "      <td>as1</td>\n",
       "      <td>configs/hongkong.cfg:[89]</td>\n",
       "    </tr>\n",
       "    <tr>\n",
       "      <th>2</th>\n",
       "      <td>bgp peer-group</td>\n",
       "      <td>as3</td>\n",
       "      <td>configs/hongkong.cfg:[83]</td>\n",
       "    </tr>\n",
       "    <tr>\n",
       "      <th>3</th>\n",
       "      <td>interface</td>\n",
       "      <td>Ethernet0/0</td>\n",
       "      <td>configs/hongkong.cfg:[57, 58, 59, 60]</td>\n",
       "    </tr>\n",
       "    <tr>\n",
       "      <th>4</th>\n",
       "      <td>interface</td>\n",
       "      <td>GigabitEthernet1/0</td>\n",
       "      <td>configs/hongkong.cfg:[69, 70, 71]</td>\n",
       "    </tr>\n",
       "    <tr>\n",
       "      <th>5</th>\n",
       "      <td>route-map</td>\n",
       "      <td>as1_to_as3</td>\n",
       "      <td>configs/hongkong.cfg:[119, 120]</td>\n",
       "    </tr>\n",
       "    <tr>\n",
       "      <th>6</th>\n",
       "      <td>interface</td>\n",
       "      <td>GigabitEthernet0/0</td>\n",
       "      <td>configs/hongkong.cfg:[62, 63, 64, 65, 66, 67]</td>\n",
       "    </tr>\n",
       "    <tr>\n",
       "      <th>7</th>\n",
       "      <td>extended ipv4 access-list</td>\n",
       "      <td>102</td>\n",
       "      <td>configs/hongkong.cfg:[115, 116, 117]</td>\n",
       "    </tr>\n",
       "    <tr>\n",
       "      <th>8</th>\n",
       "      <td>interface</td>\n",
       "      <td>Loopback0</td>\n",
       "      <td>configs/hongkong.cfg:[54, 55]</td>\n",
       "    </tr>\n",
       "  </tbody>\n",
       "</table>\n",
       "</div>"
      ],
      "text/plain": [
       "              Structure_Type      Structure_Name  \\\n",
       "0  interface                  GigabitEthernet2/0   \n",
       "1  bgp peer-group             as1                  \n",
       "2  bgp peer-group             as3                  \n",
       "3  interface                  Ethernet0/0          \n",
       "4  interface                  GigabitEthernet1/0   \n",
       "5  route-map                  as1_to_as3           \n",
       "6  interface                  GigabitEthernet0/0   \n",
       "7  extended ipv4 access-list  102                  \n",
       "8  interface                  Loopback0            \n",
       "\n",
       "                                    Source_Lines  \n",
       "0  configs/hongkong.cfg:[73, 74, 75]              \n",
       "1  configs/hongkong.cfg:[89]                      \n",
       "2  configs/hongkong.cfg:[83]                      \n",
       "3  configs/hongkong.cfg:[57, 58, 59, 60]          \n",
       "4  configs/hongkong.cfg:[69, 70, 71]              \n",
       "5  configs/hongkong.cfg:[119, 120]                \n",
       "6  configs/hongkong.cfg:[62, 63, 64, 65, 66, 67]  \n",
       "7  configs/hongkong.cfg:[115, 116, 117]           \n",
       "8  configs/hongkong.cfg:[54, 55]                  "
      ]
     },
     "execution_count": 8,
     "metadata": {},
     "output_type": "execute_result"
    }
   ],
   "source": [
    "# View all defined structres on 'hongkong'\n",
    "bfq.definedStructures(nodes=\"hongkong\").answer()"
   ]
  },
  {
   "cell_type": "markdown",
   "metadata": {
    "colab_type": "text",
    "id": "taewNfp_aHhG"
   },
   "source": [
    "We see the route map `as1_to_as3` is defined on line 119 and 120. Now we can quickly navigate to the lines in the config file, as showing below."
   ]
  },
  {
   "cell_type": "code",
   "execution_count": 9,
   "metadata": {
    "colab": {
     "base_uri": "https://localhost:8080/",
     "height": 85
    },
    "colab_type": "code",
    "id": "zWqLfd-5Ou3F",
    "outputId": "fb032a17-0f78-4efa-d736-cad26ebb2d1e"
   },
   "outputs": [
    {
     "name": "stdout",
     "output_type": "stream",
     "text": [
      "!\r\n",
      "route-map as1_to_as3 deny 100\r\n",
      " match ip address 102\r\n",
      "!\r\n"
     ]
    }
   ],
   "source": [
    "# See the config lines where the route map as1_to_as3 is defined\n",
    "!cat networks/failure-analysis/configs/hongkong.cfg | head -121 | tail -4"
   ]
  },
  {
   "cell_type": "markdown",
   "metadata": {
    "colab_type": "text",
    "id": "lJ7S3nrYa447"
   },
   "source": [
    "We see that the route map is denying routes that match the access-list '102.' Let's look at the definition of this list, which is on lines 115-117 per the defined structures list above. "
   ]
  },
  {
   "cell_type": "code",
   "execution_count": 10,
   "metadata": {
    "colab": {
     "base_uri": "https://localhost:8080/",
     "height": 102
    },
    "colab_type": "code",
    "id": "_xtq4bH8jMln",
    "outputId": "d7a3485e-49b9-4ed8-d6ac-e05f39ae6f94"
   },
   "outputs": [
    {
     "name": "stdout",
     "output_type": "stream",
     "text": [
      "!\r\n",
      "access-list 102 permit ip host 1.0.1.0 host 255.255.255.0\r\n",
      "access-list 102 permit ip host 1.0.2.0 host 255.255.255.0\r\n",
      "access-list 102 permit ip host 2.128.0.0 host 255.255.0.0\r\n",
      "!\r\n"
     ]
    }
   ],
   "source": [
    "# See the config lines where the access list '102' is defined\n",
    "!cat networks/failure-analysis/configs/hongkong.cfg | head -118 | tail -5"
   ]
  },
  {
   "cell_type": "markdown",
   "metadata": {
    "colab_type": "text",
    "id": "HfHAyy9Za36m"
   },
   "source": [
    "We see that this list includes the prefix of interest, which is `2.128.0.0/16` on the last line. Thus, the route map inadvertently blocks the prefix, thus disconnecting `Asia` from `US` when `Seattle` or its links fail. \n",
    "\n",
    "Without Batfish, it would have been hard to find this vulnerability, but the Chaos Monkey style testing enabled by Batfish makes it easy to find such vulnerabilities before they cause a service outage."
   ]
  },
  {
   "cell_type": "markdown",
   "metadata": {
    "colab_type": "text",
    "id": "7UAP7SQ3doyT"
   },
   "source": [
    "## Summary \n",
    "This notebook demonstrates how Batfish help analyze forwarding behavior in network failures. Specifically,\n",
    "  1. `bf_fork_snapshot` can clone a snapshot from another with deactivated interfaces, links and nodes;\n",
    "  2. `differentialReachability` can check all forwarding behavior changes for all flows between two snapshots;\n",
    "  3. We can build on top of the basic functions to create more involved analysis such as Chaos Monkey testing."
   ]
  },
  {
   "cell_type": "markdown",
   "metadata": {
    "colab_type": "text",
    "id": "RuomiAqzdoyU"
   },
   "source": [
    "***\n",
    "### Get involved with the Batfish community\n",
    "\n",
    "Join our community on [Slack](https://join.slack.com/t/batfish-org/shared_invite/enQtMzA0Nzg2OTAzNzQ1LTUxOTJlY2YyNTVlNGQ3MTJkOTIwZTU2YjY3YzRjZWFiYzE4ODE5ODZiNjA4NGI5NTJhZmU2ZTllOTMwZDhjMzA) and [GitHub](https://github.com/batfish/batfish). "
   ]
  }
 ],
 "metadata": {
  "colab": {
   "collapsed_sections": [],
   "name": "Analyzing the Impact of Failures",
   "provenance": [],
   "version": "0.3.2"
  },
  "hide_input": false,
  "kernelspec": {
   "display_name": "Python 3",
   "language": "python",
   "name": "python3"
  },
  "language_info": {
   "codemirror_mode": {
    "name": "ipython",
    "version": 3
   },
   "file_extension": ".py",
   "mimetype": "text/x-python",
   "name": "python",
   "nbconvert_exporter": "python",
   "pygments_lexer": "ipython3",
   "version": "3.7.2"
  }
 },
 "nbformat": 4,
 "nbformat_minor": 1
}
