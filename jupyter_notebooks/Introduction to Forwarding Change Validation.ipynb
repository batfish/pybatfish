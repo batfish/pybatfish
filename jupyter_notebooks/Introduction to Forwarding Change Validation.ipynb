{
  "nbformat": 4,
  "nbformat_minor": 0,
  "metadata": {
    "colab": {
      "name": "Introduction to Forwarding Change Validation.ipynb",
      "version": "0.3.2",
      "provenance": [],
      "collapsed_sections": []
    },
    "kernelspec": {
      "display_name": "Python 3",
      "language": "python",
      "name": "python3"
    }
  },
  "cells": [
    {
      "metadata": {
        "id": "_zOXbY_QD1_x",
        "colab_type": "text"
      },
      "cell_type": "markdown",
      "source": [
        "# Introduction to Forwarding Change Validation\n"
      ]
    },
    {
      "metadata": {
        "id": "9_rvcQ1gQNBr",
        "colab_type": "text"
      },
      "cell_type": "markdown",
      "source": [
        "Network engineers frequently have to make changes to forwarding behavior: add new routes, open or close flows, route traffic traffic through different devices, etc. These changes are often hard to get right and hard to validate. This notebook will show how batfish can help validate changes to network forwarding _before_ you deploy them. We will do this using batfish's differential analyses to compare the forwarding behavior of two snapshots of the network. As we will see, these anaylses are a powerful way to understand, test, and validate changes to the network. "
      ]
    },
    {
      "metadata": {
        "id": "0MIiSLpYD1_z",
        "colab_type": "code",
        "outputId": "6cff2ad8-1cbf-4685-9406-6f39520caad9",
        "colab": {
          "base_uri": "https://localhost:8080/",
          "height": 105
        }
      },
      "cell_type": "code",
      "source": [
        "# Import packages and load questions\n",
        "%run startup.py"
      ],
      "execution_count": 1,
      "outputs": [
        {
          "output_type": "stream",
          "text": [
            "/Users/matt/.pyenv/versions/3.6.4/lib/python3.6/importlib/_bootstrap.py:219: RuntimeWarning: numpy.dtype size changed, may indicate binary incompatibility. Expected 96, got 88\n",
            "  return f(*args, **kwds)\n",
            "/Users/matt/src/pybatfish/pybatfish/client/commands.py:50: UserWarning: Pybatfish public API is being updated, note that API names and parameters will soon change.\n",
            "  \"Pybatfish public API is being updated, note that API names and parameters will soon change.\")\n"
          ],
          "name": "stderr"
        }
      ]
    },
    {
      "metadata": {
        "id": "bGiVSaSKD1_4",
        "colab_type": "text"
      },
      "cell_type": "markdown",
      "source": [
        "In this notebook we will be focusing on the autonomous system AS2 within the network shown in the following diagram.\n",
        "\n",
        "You can view and download the device configuration files [here](https://github.com/batfish/pybatfish/tree/master/jupyter_notebooks/networks/differential-ex1-base).\n",
        "\n",
        "![example-network](https://raw.githubusercontent.com/batfish/pybatfish/master/jupyter_notebooks/networks/example/example-network.png)\n",
        "\n",
        "***\n",
        "\n",
        "In these configurations, the network is overprovisioned with failover redundancy for the core routers. All traffic is routed through `as2core1`, but will automatically switch to use `as2core2` in case of a failure or during maintenance.\n",
        "\n",
        "In this notebook, we want to shift traffic from `as2core1` to `as2core2` so we can service `as2core1`. We'll implement a change to cost out `as2core1`, and verify that it does not affect network behavior.\n",
        "\n"
      ]
    },
    {
      "metadata": {
        "id": "APnbwW9rg8eo",
        "colab_type": "text"
      },
      "cell_type": "markdown",
      "source": [
        "## Step 1: Test current behavior\n"
      ]
    },
    {
      "metadata": {
        "id": "FlbuZUKSg9my",
        "colab_type": "text"
      },
      "cell_type": "markdown",
      "source": [
        "Before beginning, let's check that the network is working as expected (routing through `as2core1`). First we load our snapshot into batfish."
      ]
    },
    {
      "metadata": {
        "id": "XFx4SzuUD1_6",
        "colab_type": "code",
        "outputId": "befc7abd-6a25-4e9d-bad0-c1091e6df9c8",
        "colab": {
          "base_uri": "https://localhost:8080/",
          "height": 34
        }
      },
      "cell_type": "code",
      "source": [
        "EX1_NETWORK_NAME = \"differential-example1\"\n",
        "EX1_BASE_NAME = \"base\"\n",
        "EX1_BASE_PATH = \"networks/differential-ex1-base\"\n",
        "\n",
        "bf_set_network(EX1_NETWORK_NAME)\n",
        "bf_init_snapshot(EX1_BASE_PATH, name=EX1_BASE_NAME, overwrite=True)"
      ],
      "execution_count": 2,
      "outputs": [
        {
          "output_type": "execute_result",
          "data": {
            "text/plain": [
              "'base'"
            ]
          },
          "metadata": {
            "tags": []
          },
          "execution_count": 2
        }
      ]
    },
    {
      "metadata": {
        "id": "tIQpmC2hUjwV",
        "colab_type": "text"
      },
      "cell_type": "markdown",
      "source": [
        "Batfish will automatically compute the RIBs and FIBs from the device configuration files in the snapshot, allowing us to test the forwarding behavior offline. Let's do that now, by using the `reachability` question to search for flows from the border routers `as2border1` or `as2border2` to the hosts `host1` or `host2` that are delivered successfully."
      ]
    },
    {
      "metadata": {
        "id": "gXGQW1mNTuIU",
        "colab_type": "code",
        "colab": {
          "base_uri": "https://localhost:8080/",
          "height": 728
        },
        "outputId": "b42f850b-7f5a-4ba7-9095-af7fc560cbb3"
      },
      "cell_type": "code",
      "source": [
        "answer = bfq.reachability(\n",
        "    pathConstraints = PathConstraints(startLocation=\"as2border.*\"), \n",
        "    headers = HeaderConstraints(dstIps=\"ofLocation(host.*)\")\n",
        ").answer(snapshot = EX1_BASE_NAME)\n",
        "display_html(answer.frame())"
      ],
      "execution_count": 3,
      "outputs": [
        {
          "output_type": "display_data",
          "data": {
            "text/plain": [
              "                                                   Flow  \\\n",
              "0  start=as2border1 [2.1.1.1:49152->2.128.0.101:22 TCP]   \n",
              "1  start=as2border2 [2.1.1.2:49152->2.128.0.101:22 TCP]   \n",
              "\n",
              "                                                                                                                                                                                                                                                                                                                                                                                                                                                                                                                                                                                                                              Traces  \\\n",
              "0  [((ORIGINATED(default), FORWARDED(Routes: ibgp [Network: 2.128.0.0/24, Next Hop IP:2.34.201.4]), TRANSMITTED(GigabitEthernet1/0)), (RECEIVED(GigabitEthernet0/0), FORWARDED(Routes: ibgp [Network: 2.128.0.0/24, Next Hop IP:2.34.201.4]), TRANSMITTED(GigabitEthernet3/0)), (RECEIVED(GigabitEthernet1/0), FORWARDED(Routes: bgp [Network: 2.128.0.0/24, Next Hop IP:2.34.201.4]), TRANSMITTED(GigabitEthernet2/0)), (RECEIVED(GigabitEthernet1/0), FORWARDED(Routes: connected [Network: 2.128.0.0/24, Next Hop IP:AUTO/NONE(-1l)]), TRANSMITTED(GigabitEthernet2/0)), (RECEIVED(eth0: filter::INPUT), ACCEPTED(InboundStep)))]   \n",
              "1  [((ORIGINATED(default), FORWARDED(Routes: ibgp [Network: 2.128.0.0/24, Next Hop IP:2.34.201.4]), TRANSMITTED(GigabitEthernet2/0)), (RECEIVED(GigabitEthernet1/0), FORWARDED(Routes: ibgp [Network: 2.128.0.0/24, Next Hop IP:2.34.201.4]), TRANSMITTED(GigabitEthernet3/0)), (RECEIVED(GigabitEthernet1/0), FORWARDED(Routes: bgp [Network: 2.128.0.0/24, Next Hop IP:2.34.201.4]), TRANSMITTED(GigabitEthernet2/0)), (RECEIVED(GigabitEthernet1/0), FORWARDED(Routes: connected [Network: 2.128.0.0/24, Next Hop IP:AUTO/NONE(-1l)]), TRANSMITTED(GigabitEthernet2/0)), (RECEIVED(eth0: filter::INPUT), ACCEPTED(InboundStep)))]   \n",
              "\n",
              "   TraceCount  \n",
              "0  1           \n",
              "1  1           "
            ],
            "text/html": [
              "<style  type=\"text/css\" >\n",
              "    #T_pybfstylerow0_col0 {\n",
              "            text-align:  left;\n",
              "            vertical-align:  top;\n",
              "        }    #T_pybfstylerow0_col1 {\n",
              "            text-align:  left;\n",
              "            vertical-align:  top;\n",
              "        }    #T_pybfstylerow0_col2 {\n",
              "            text-align:  left;\n",
              "            vertical-align:  top;\n",
              "        }    #T_pybfstylerow1_col0 {\n",
              "            text-align:  left;\n",
              "            vertical-align:  top;\n",
              "        }    #T_pybfstylerow1_col1 {\n",
              "            text-align:  left;\n",
              "            vertical-align:  top;\n",
              "        }    #T_pybfstylerow1_col2 {\n",
              "            text-align:  left;\n",
              "            vertical-align:  top;\n",
              "        }</style>  \n",
              "<table id=\"T_pybfstyle\" > \n",
              "<thead>    <tr> \n",
              "        <th class=\"blank level0\" ></th> \n",
              "        <th class=\"col_heading level0 col0\" >Flow</th> \n",
              "        <th class=\"col_heading level0 col1\" >Traces</th> \n",
              "        <th class=\"col_heading level0 col2\" >TraceCount</th> \n",
              "    </tr></thead> \n",
              "<tbody>    <tr> \n",
              "        <th id=\"T_pybfstylelevel0_row0\" class=\"row_heading level0 row0\" >0</th> \n",
              "        <td id=\"T_pybfstylerow0_col0\" class=\"data row0 col0\" >Src IP: 2.1.1.1<br>Src Port: 49152<br>Dst IP: 2.128.0.101<br>Dst Port: 22<br>IP Protocol: TCP<br>Start Location: as2border1</td> \n",
              "        <td id=\"T_pybfstylerow0_col1\" class=\"data row0 col1\" ><span style=\"color:#019612; text-weight:bold;\">ACCEPTED</span><br><strong>1</strong>. node: as2border1<br>&nbsp;&nbsp;ORIGINATED(default)<br>&nbsp;&nbsp;FORWARDED(Routes: ibgp [Network: 2.128.0.0/24, Next Hop IP:2.34.201.4])<br>&nbsp;&nbsp;TRANSMITTED(GigabitEthernet1/0)<br><strong>2</strong>. node: as2core1<br>&nbsp;&nbsp;RECEIVED(GigabitEthernet0/0)<br>&nbsp;&nbsp;FORWARDED(Routes: ibgp [Network: 2.128.0.0/24, Next Hop IP:2.34.201.4])<br>&nbsp;&nbsp;TRANSMITTED(GigabitEthernet3/0)<br><strong>3</strong>. node: as2dist2<br>&nbsp;&nbsp;RECEIVED(GigabitEthernet1/0)<br>&nbsp;&nbsp;FORWARDED(Routes: bgp [Network: 2.128.0.0/24, Next Hop IP:2.34.201.4])<br>&nbsp;&nbsp;TRANSMITTED(GigabitEthernet2/0)<br><strong>4</strong>. node: as2dept1<br>&nbsp;&nbsp;RECEIVED(GigabitEthernet1/0)<br>&nbsp;&nbsp;FORWARDED(Routes: connected [Network: 2.128.0.0/24, Next Hop IP:AUTO/NONE(-1l)])<br>&nbsp;&nbsp;TRANSMITTED(GigabitEthernet2/0)<br><strong>5</strong>. node: host1<br>&nbsp;&nbsp;RECEIVED(eth0: filter::INPUT)<br>&nbsp;&nbsp;ACCEPTED(InboundStep)</td> \n",
              "        <td id=\"T_pybfstylerow0_col2\" class=\"data row0 col2\" >1</td> \n",
              "    </tr>    <tr> \n",
              "        <th id=\"T_pybfstylelevel0_row1\" class=\"row_heading level0 row1\" >1</th> \n",
              "        <td id=\"T_pybfstylerow1_col0\" class=\"data row1 col0\" >Src IP: 2.1.1.2<br>Src Port: 49152<br>Dst IP: 2.128.0.101<br>Dst Port: 22<br>IP Protocol: TCP<br>Start Location: as2border2</td> \n",
              "        <td id=\"T_pybfstylerow1_col1\" class=\"data row1 col1\" ><span style=\"color:#019612; text-weight:bold;\">ACCEPTED</span><br><strong>1</strong>. node: as2border2<br>&nbsp;&nbsp;ORIGINATED(default)<br>&nbsp;&nbsp;FORWARDED(Routes: ibgp [Network: 2.128.0.0/24, Next Hop IP:2.34.201.4])<br>&nbsp;&nbsp;TRANSMITTED(GigabitEthernet2/0)<br><strong>2</strong>. node: as2core1<br>&nbsp;&nbsp;RECEIVED(GigabitEthernet1/0)<br>&nbsp;&nbsp;FORWARDED(Routes: ibgp [Network: 2.128.0.0/24, Next Hop IP:2.34.201.4])<br>&nbsp;&nbsp;TRANSMITTED(GigabitEthernet3/0)<br><strong>3</strong>. node: as2dist2<br>&nbsp;&nbsp;RECEIVED(GigabitEthernet1/0)<br>&nbsp;&nbsp;FORWARDED(Routes: bgp [Network: 2.128.0.0/24, Next Hop IP:2.34.201.4])<br>&nbsp;&nbsp;TRANSMITTED(GigabitEthernet2/0)<br><strong>4</strong>. node: as2dept1<br>&nbsp;&nbsp;RECEIVED(GigabitEthernet1/0)<br>&nbsp;&nbsp;FORWARDED(Routes: connected [Network: 2.128.0.0/24, Next Hop IP:AUTO/NONE(-1l)])<br>&nbsp;&nbsp;TRANSMITTED(GigabitEthernet2/0)<br><strong>5</strong>. node: host1<br>&nbsp;&nbsp;RECEIVED(eth0: filter::INPUT)<br>&nbsp;&nbsp;ACCEPTED(InboundStep)</td> \n",
              "        <td id=\"T_pybfstylerow1_col2\" class=\"data row1 col2\" >1</td> \n",
              "    </tr></tbody> \n",
              "</table> "
            ]
          },
          "metadata": {
            "tags": []
          }
        }
      ]
    },
    {
      "metadata": {
        "id": "cAacOuNGD1_8",
        "colab_type": "text"
      },
      "cell_type": "markdown",
      "source": [
        "The `reachability` question returns an example flow from each of the border routers. As we can see in the `Traces` column, both flows are routed through `as2core1`.  For more detail on `reachability` question, see the notebook [Introduction to Forwarding Analysis](https://github.com/batfish/pybatfish/blob/master/jupyter_notebooks/Introduction%20to%20Forwarding%20Analysis.ipynb).\n"
      ]
    },
    {
      "metadata": {
        "id": "3nNsBIlHAOws",
        "colab_type": "text"
      },
      "cell_type": "markdown",
      "source": [
        "Next, we'll cost out `as2core1`, causing traffic to route through `as2core2` instead of `as2core1`. Below you can see the configuration changes we're going to make: adjust some ospf costs and shutdown BGP neighbors to ensure no traffic passes throught `as2core1`. We'll implement this change offline in a new snapshot, and validate that the change won't affect end-to-end reachability. Then we can push the change to the network with complete confidence.\n",
        "\n",
        "We'll validate the change using a two-step process, verifying that it has the intended effect, and that it causes no collateral damage. More specifically, the change must:\n",
        "1. Ensure that no traffic is routed through `as2core1`.\n",
        "1. Have no impact on the reachability matrix.\n",
        "\n",
        "Each of these requirements is essential -- without either one, traffic could be disrupted."
      ]
    },
    {
      "metadata": {
        "id": "-Z_M1J0cD2AF",
        "colab_type": "text"
      },
      "cell_type": "markdown",
      "source": [
        "## Step 2: Ensure that no traffic is routed transit through `as2core1`\n"
      ]
    },
    {
      "metadata": {
        "id": "5ukNVilchE4Y",
        "colab_type": "text"
      },
      "cell_type": "markdown",
      "source": [
        "\n",
        "Next we initialize a new snapshot with the updated configurations. Below is the diff summarizing the change. We add the command `ip ospf cost 500` to each interface on `as2core1`, increasing its OSPF cost from the previous value of `1`. This will cause the lower-cost routes through `as2core2` to be preferred.\n",
        "\n",
        "```\n",
        "$ diff -r networks/differential-ex1-base networks/differential-ex1-change\n",
        "diff -r networks/differential-ex1-base/configs/as2core1.cfg networks/differential-ex1-change/configs/as2core1.cfg\n",
        "67a68\n",
        ">  ip ospf cost 500\n",
        "71a73\n",
        ">  ip ospf cost 500\n",
        "76a79\n",
        ">  ip ospf cost 500\n",
        "81a85\n",
        ">  ip ospf cost 500\n",
        "```"
      ]
    },
    {
      "metadata": {
        "id": "ogG6tM4kD2AG",
        "colab_type": "code",
        "outputId": "87071969-8894-47d0-a9cf-6350781453ec",
        "colab": {
          "base_uri": "https://localhost:8080/",
          "height": 34
        }
      },
      "cell_type": "code",
      "source": [
        "EX1_CHANGE_NAME = \"change\"\n",
        "EX1_CHANGE_PATH = \"networks/differential-ex1-change\"\n",
        "\n",
        "bf_init_snapshot(EX1_CHANGE_PATH, name=EX1_CHANGE_NAME, overwrite=True)"
      ],
      "execution_count": 4,
      "outputs": [
        {
          "output_type": "execute_result",
          "data": {
            "text/plain": [
              "'change'"
            ]
          },
          "metadata": {
            "tags": []
          },
          "execution_count": 4
        }
      ]
    },
    {
      "metadata": {
        "id": "3r58fD4KZuej",
        "colab_type": "text"
      },
      "cell_type": "markdown",
      "source": [
        "Next, let's run our previous `reachability` query again, this time on the change snapshot.  "
      ]
    },
    {
      "metadata": {
        "id": "hZFxuPjTZtje",
        "colab_type": "code",
        "colab": {
          "base_uri": "https://localhost:8080/",
          "height": 728
        },
        "outputId": "0b6dda2b-31bc-4ee5-e03b-b0e7ed29d752"
      },
      "cell_type": "code",
      "source": [
        "answer = bfq.reachability(\n",
        "    pathConstraints = PathConstraints(startLocation=\"as2border.*\"), \n",
        "    headers = HeaderConstraints(dstIps=\"ofLocation(host.*)\")\n",
        ").answer(snapshot = EX1_CHANGE_NAME)\n",
        "display_html(answer.frame())"
      ],
      "execution_count": 5,
      "outputs": [
        {
          "output_type": "display_data",
          "data": {
            "text/plain": [
              "                                                   Flow  \\\n",
              "0  start=as2border1 [2.1.1.1:49152->2.128.1.101:22 TCP]   \n",
              "1  start=as2border2 [2.1.1.2:49152->2.128.1.101:22 TCP]   \n",
              "\n",
              "                                                                                                                                                                                                                                                                                                                                                                                                                                                                                                                                                                                                                              Traces  \\\n",
              "0  [((ORIGINATED(default), FORWARDED(Routes: ibgp [Network: 2.128.1.0/24, Next Hop IP:2.34.201.4]), TRANSMITTED(GigabitEthernet2/0)), (RECEIVED(GigabitEthernet1/0), FORWARDED(Routes: ibgp [Network: 2.128.1.0/24, Next Hop IP:2.34.201.4]), TRANSMITTED(GigabitEthernet2/0)), (RECEIVED(GigabitEthernet0/0), FORWARDED(Routes: bgp [Network: 2.128.1.0/24, Next Hop IP:2.34.201.4]), TRANSMITTED(GigabitEthernet2/0)), (RECEIVED(GigabitEthernet1/0), FORWARDED(Routes: connected [Network: 2.128.1.0/24, Next Hop IP:AUTO/NONE(-1l)]), TRANSMITTED(GigabitEthernet3/0)), (RECEIVED(eth0: filter::INPUT), ACCEPTED(InboundStep)))]   \n",
              "1  [((ORIGINATED(default), FORWARDED(Routes: ibgp [Network: 2.128.1.0/24, Next Hop IP:2.34.201.4]), TRANSMITTED(GigabitEthernet1/0)), (RECEIVED(GigabitEthernet0/0), FORWARDED(Routes: ibgp [Network: 2.128.1.0/24, Next Hop IP:2.34.201.4]), TRANSMITTED(GigabitEthernet2/0)), (RECEIVED(GigabitEthernet0/0), FORWARDED(Routes: bgp [Network: 2.128.1.0/24, Next Hop IP:2.34.201.4]), TRANSMITTED(GigabitEthernet2/0)), (RECEIVED(GigabitEthernet1/0), FORWARDED(Routes: connected [Network: 2.128.1.0/24, Next Hop IP:AUTO/NONE(-1l)]), TRANSMITTED(GigabitEthernet3/0)), (RECEIVED(eth0: filter::INPUT), ACCEPTED(InboundStep)))]   \n",
              "\n",
              "   TraceCount  \n",
              "0  1           \n",
              "1  1           "
            ],
            "text/html": [
              "<style  type=\"text/css\" >\n",
              "    #T_pybfstylerow0_col0 {\n",
              "            text-align:  left;\n",
              "            vertical-align:  top;\n",
              "        }    #T_pybfstylerow0_col1 {\n",
              "            text-align:  left;\n",
              "            vertical-align:  top;\n",
              "        }    #T_pybfstylerow0_col2 {\n",
              "            text-align:  left;\n",
              "            vertical-align:  top;\n",
              "        }    #T_pybfstylerow1_col0 {\n",
              "            text-align:  left;\n",
              "            vertical-align:  top;\n",
              "        }    #T_pybfstylerow1_col1 {\n",
              "            text-align:  left;\n",
              "            vertical-align:  top;\n",
              "        }    #T_pybfstylerow1_col2 {\n",
              "            text-align:  left;\n",
              "            vertical-align:  top;\n",
              "        }</style>  \n",
              "<table id=\"T_pybfstyle\" > \n",
              "<thead>    <tr> \n",
              "        <th class=\"blank level0\" ></th> \n",
              "        <th class=\"col_heading level0 col0\" >Flow</th> \n",
              "        <th class=\"col_heading level0 col1\" >Traces</th> \n",
              "        <th class=\"col_heading level0 col2\" >TraceCount</th> \n",
              "    </tr></thead> \n",
              "<tbody>    <tr> \n",
              "        <th id=\"T_pybfstylelevel0_row0\" class=\"row_heading level0 row0\" >0</th> \n",
              "        <td id=\"T_pybfstylerow0_col0\" class=\"data row0 col0\" >Src IP: 2.1.1.1<br>Src Port: 49152<br>Dst IP: 2.128.1.101<br>Dst Port: 22<br>IP Protocol: TCP<br>Start Location: as2border1</td> \n",
              "        <td id=\"T_pybfstylerow0_col1\" class=\"data row0 col1\" ><span style=\"color:#019612; text-weight:bold;\">ACCEPTED</span><br><strong>1</strong>. node: as2border1<br>&nbsp;&nbsp;ORIGINATED(default)<br>&nbsp;&nbsp;FORWARDED(Routes: ibgp [Network: 2.128.1.0/24, Next Hop IP:2.34.201.4])<br>&nbsp;&nbsp;TRANSMITTED(GigabitEthernet2/0)<br><strong>2</strong>. node: as2core2<br>&nbsp;&nbsp;RECEIVED(GigabitEthernet1/0)<br>&nbsp;&nbsp;FORWARDED(Routes: ibgp [Network: 2.128.1.0/24, Next Hop IP:2.34.201.4])<br>&nbsp;&nbsp;TRANSMITTED(GigabitEthernet2/0)<br><strong>3</strong>. node: as2dist2<br>&nbsp;&nbsp;RECEIVED(GigabitEthernet0/0)<br>&nbsp;&nbsp;FORWARDED(Routes: bgp [Network: 2.128.1.0/24, Next Hop IP:2.34.201.4])<br>&nbsp;&nbsp;TRANSMITTED(GigabitEthernet2/0)<br><strong>4</strong>. node: as2dept1<br>&nbsp;&nbsp;RECEIVED(GigabitEthernet1/0)<br>&nbsp;&nbsp;FORWARDED(Routes: connected [Network: 2.128.1.0/24, Next Hop IP:AUTO/NONE(-1l)])<br>&nbsp;&nbsp;TRANSMITTED(GigabitEthernet3/0)<br><strong>5</strong>. node: host2<br>&nbsp;&nbsp;RECEIVED(eth0: filter::INPUT)<br>&nbsp;&nbsp;ACCEPTED(InboundStep)</td> \n",
              "        <td id=\"T_pybfstylerow0_col2\" class=\"data row0 col2\" >1</td> \n",
              "    </tr>    <tr> \n",
              "        <th id=\"T_pybfstylelevel0_row1\" class=\"row_heading level0 row1\" >1</th> \n",
              "        <td id=\"T_pybfstylerow1_col0\" class=\"data row1 col0\" >Src IP: 2.1.1.2<br>Src Port: 49152<br>Dst IP: 2.128.1.101<br>Dst Port: 22<br>IP Protocol: TCP<br>Start Location: as2border2</td> \n",
              "        <td id=\"T_pybfstylerow1_col1\" class=\"data row1 col1\" ><span style=\"color:#019612; text-weight:bold;\">ACCEPTED</span><br><strong>1</strong>. node: as2border2<br>&nbsp;&nbsp;ORIGINATED(default)<br>&nbsp;&nbsp;FORWARDED(Routes: ibgp [Network: 2.128.1.0/24, Next Hop IP:2.34.201.4])<br>&nbsp;&nbsp;TRANSMITTED(GigabitEthernet1/0)<br><strong>2</strong>. node: as2core2<br>&nbsp;&nbsp;RECEIVED(GigabitEthernet0/0)<br>&nbsp;&nbsp;FORWARDED(Routes: ibgp [Network: 2.128.1.0/24, Next Hop IP:2.34.201.4])<br>&nbsp;&nbsp;TRANSMITTED(GigabitEthernet2/0)<br><strong>3</strong>. node: as2dist2<br>&nbsp;&nbsp;RECEIVED(GigabitEthernet0/0)<br>&nbsp;&nbsp;FORWARDED(Routes: bgp [Network: 2.128.1.0/24, Next Hop IP:2.34.201.4])<br>&nbsp;&nbsp;TRANSMITTED(GigabitEthernet2/0)<br><strong>4</strong>. node: as2dept1<br>&nbsp;&nbsp;RECEIVED(GigabitEthernet1/0)<br>&nbsp;&nbsp;FORWARDED(Routes: connected [Network: 2.128.1.0/24, Next Hop IP:AUTO/NONE(-1l)])<br>&nbsp;&nbsp;TRANSMITTED(GigabitEthernet3/0)<br><strong>5</strong>. node: host2<br>&nbsp;&nbsp;RECEIVED(eth0: filter::INPUT)<br>&nbsp;&nbsp;ACCEPTED(InboundStep)</td> \n",
              "        <td id=\"T_pybfstylerow1_col2\" class=\"data row1 col2\" >1</td> \n",
              "    </tr></tbody> \n",
              "</table> "
            ]
          },
          "metadata": {
            "tags": []
          }
        }
      ]
    },
    {
      "metadata": {
        "id": "ytI9PpreD2AJ",
        "colab_type": "text"
      },
      "cell_type": "markdown",
      "source": [
        "Good! The traffic we previously saw being routed through `as2core1` is now routed through `as2core2`. It appears that our change correctly moved traffic off of `as2core1`. However,  this doesn't ensure that **no** traffic is routed through `as2core1`; for that we need to search for counter-examples: traffic that *is* routed through `as2core1`. If no counterexamples are found, we have proven that `as2core1` is never used. We do this by running `reachability` again, using the `transitLocations` parameter to search for flows that transit `as2core1`. We'll broaden the search to include *all flows* by removing the `startLocation` constraint and setting the `actions` parameter to `SUCCESS,FAILURE` to include dropped flows as well as those that are successfully delivered."
      ]
    },
    {
      "metadata": {
        "id": "W93RTInYCf7f",
        "colab_type": "code",
        "colab": {
          "base_uri": "https://localhost:8080/",
          "height": 180
        },
        "outputId": "0ff771fb-e8a9-4a93-ca30-f7bc3ebf85a0"
      },
      "cell_type": "code",
      "source": [
        "# Search for any traffic routed through as2core1\n",
        "answer = bfq.reachability(\n",
        "    pathConstraints = PathConstraints(transitLocations=\"as2core1\"),\n",
        "    actions = \"SUCCESS,FAILURE\"\n",
        ").answer(snapshot=EX1_CHANGE_NAME)\n",
        "display_html(answer.frame())"
      ],
      "execution_count": 6,
      "outputs": [
        {
          "output_type": "display_data",
          "data": {
            "text/plain": [
              "                                         Flow  \\\n",
              "0  start=as2core1 [2.1.2.1:0->2.1.1.1:0 ICMP]   \n",
              "\n",
              "                                                                                                                                                                                    Traces  \\\n",
              "0  [((ORIGINATED(default), FORWARDED(Routes: ospf [Network: 2.1.1.1/32, Next Hop IP:2.12.11.1]), TRANSMITTED(GigabitEthernet0/0)), (RECEIVED(GigabitEthernet1/0), ACCEPTED(InboundStep)))]   \n",
              "\n",
              "   TraceCount  \n",
              "0  1           "
            ],
            "text/html": [
              "<style  type=\"text/css\" >\n",
              "    #T_pybfstylerow0_col0 {\n",
              "            text-align:  left;\n",
              "            vertical-align:  top;\n",
              "        }    #T_pybfstylerow0_col1 {\n",
              "            text-align:  left;\n",
              "            vertical-align:  top;\n",
              "        }    #T_pybfstylerow0_col2 {\n",
              "            text-align:  left;\n",
              "            vertical-align:  top;\n",
              "        }</style>  \n",
              "<table id=\"T_pybfstyle\" > \n",
              "<thead>    <tr> \n",
              "        <th class=\"blank level0\" ></th> \n",
              "        <th class=\"col_heading level0 col0\" >Flow</th> \n",
              "        <th class=\"col_heading level0 col1\" >Traces</th> \n",
              "        <th class=\"col_heading level0 col2\" >TraceCount</th> \n",
              "    </tr></thead> \n",
              "<tbody>    <tr> \n",
              "        <th id=\"T_pybfstylelevel0_row0\" class=\"row_heading level0 row0\" >0</th> \n",
              "        <td id=\"T_pybfstylerow0_col0\" class=\"data row0 col0\" >Src IP: 2.1.2.1<br>Src Port: 0<br>Dst IP: 2.1.1.1<br>Dst Port: 0<br>IP Protocol: ICMP<br>Start Location: as2core1</td> \n",
              "        <td id=\"T_pybfstylerow0_col1\" class=\"data row0 col1\" ><span style=\"color:#019612; text-weight:bold;\">ACCEPTED</span><br><strong>1</strong>. node: as2core1<br>&nbsp;&nbsp;ORIGINATED(default)<br>&nbsp;&nbsp;FORWARDED(Routes: ospf [Network: 2.1.1.1/32, Next Hop IP:2.12.11.1])<br>&nbsp;&nbsp;TRANSMITTED(GigabitEthernet0/0)<br><strong>2</strong>. node: as2border1<br>&nbsp;&nbsp;RECEIVED(GigabitEthernet1/0)<br>&nbsp;&nbsp;ACCEPTED(InboundStep)</td> \n",
              "        <td id=\"T_pybfstylerow0_col2\" class=\"data row0 col2\" >1</td> \n",
              "    </tr></tbody> \n",
              "</table> "
            ]
          },
          "metadata": {
            "tags": []
          }
        }
      ]
    },
    {
      "metadata": {
        "id": "yrmyrVR-CqRI",
        "colab_type": "text"
      },
      "cell_type": "markdown",
      "source": [
        "Again, batfish returns an example flow from each source location satisfying the query.  We get a single result, from `as2core1` itself. But since there are no other results, we are guaranteed that no traffic from *any other device* in the network will route through `as2core1`. This verifies the first requirement of the change. Having done so, let's check our second requirement -- that end-to-end network behavior is completely unchanged.\n",
        "\n"
      ]
    },
    {
      "metadata": {
        "id": "Y_w8n3qwdniv",
        "colab_type": "text"
      },
      "cell_type": "markdown",
      "source": [
        "## Step 3: End-to-end network behavior is unchanged.\n"
      ]
    },
    {
      "metadata": {
        "id": "ffnw7wQPdpA1",
        "colab_type": "text"
      },
      "cell_type": "markdown",
      "source": [
        "In this step, we'll compare the forwarding behavior of the candidate change snapshot against the original using the `differentialReachability` question. In particular, we'll use the question to search for flows that are successfully delivered in either snapshot but not the other. If the change is correct, no such flows will be found, because costing out `as2core1` should have no effect on the end-to-end network behavior."
      ]
    },
    {
      "metadata": {
        "id": "1_OGA3Vr84u9",
        "colab_type": "code",
        "colab": {
          "base_uri": "https://localhost:8080/",
          "height": 762
        },
        "outputId": "97d6968d-a90a-4907-8554-481f8dc202b5"
      },
      "cell_type": "code",
      "source": [
        "answer = bfq.differentialReachability().answer(\n",
        "    snapshot=EX1_CHANGE_NAME, \n",
        "    reference_snapshot=EX1_BASE_NAME)\n",
        "display_html(answer.frame())"
      ],
      "execution_count": 16,
      "outputs": [
        {
          "output_type": "display_data",
          "data": {
            "text/plain": [
              "                                             Flow  \\\n",
              "0  start=as2border1 [2.1.1.1:0->2.128.0.0:0 ICMP]   \n",
              "1  start=as2border2 [2.1.1.2:0->2.128.0.0:0 ICMP]   \n",
              "\n",
              "                                                                                                                                                                                                                                                                   Snapshot_Traces  \\\n",
              "0  [((ORIGINATED(default), FORWARDED(Routes: ibgp [Network: 2.128.0.0/24, Next Hop IP:2.34.201.4]), TRANSMITTED(GigabitEthernet2/0)), (RECEIVED(GigabitEthernet1/0), FORWARDED(Routes: static [Network: 2.128.0.0/24, Next Hop IP:AUTO/NONE(-1l)]), NULL_ROUTED(null_interface)))]   \n",
              "1  [((ORIGINATED(default), FORWARDED(Routes: ibgp [Network: 2.128.0.0/24, Next Hop IP:2.34.201.4]), TRANSMITTED(GigabitEthernet1/0)), (RECEIVED(GigabitEthernet0/0), FORWARDED(Routes: static [Network: 2.128.0.0/24, Next Hop IP:AUTO/NONE(-1l)]), NULL_ROUTED(null_interface)))]   \n",
              "\n",
              "   Snapshot_TraceCount  \\\n",
              "0  1                     \n",
              "1  1                     \n",
              "\n",
              "                                                                                                                                                                                                                                                                                                                                                                                                                                                                                                                                                              Reference_Traces  \\\n",
              "0  [((ORIGINATED(default), FORWARDED(Routes: ibgp [Network: 2.128.0.0/24, Next Hop IP:2.34.201.4]), TRANSMITTED(GigabitEthernet1/0)), (RECEIVED(GigabitEthernet0/0), FORWARDED(Routes: ibgp [Network: 2.128.0.0/24, Next Hop IP:2.34.201.4]), TRANSMITTED(GigabitEthernet3/0)), (RECEIVED(GigabitEthernet1/0), FORWARDED(Routes: bgp [Network: 2.128.0.0/24, Next Hop IP:2.34.201.4]), TRANSMITTED(GigabitEthernet2/0)), (RECEIVED(GigabitEthernet1/0), FORWARDED(Routes: connected [Network: 2.128.0.0/24, Next Hop IP:AUTO/NONE(-1l)]), EXITS_NETWORK(GigabitEthernet2/0)))]   \n",
              "1  [((ORIGINATED(default), FORWARDED(Routes: ibgp [Network: 2.128.0.0/24, Next Hop IP:2.34.201.4]), TRANSMITTED(GigabitEthernet2/0)), (RECEIVED(GigabitEthernet1/0), FORWARDED(Routes: ibgp [Network: 2.128.0.0/24, Next Hop IP:2.34.201.4]), TRANSMITTED(GigabitEthernet3/0)), (RECEIVED(GigabitEthernet1/0), FORWARDED(Routes: bgp [Network: 2.128.0.0/24, Next Hop IP:2.34.201.4]), TRANSMITTED(GigabitEthernet2/0)), (RECEIVED(GigabitEthernet1/0), FORWARDED(Routes: connected [Network: 2.128.0.0/24, Next Hop IP:AUTO/NONE(-1l)]), EXITS_NETWORK(GigabitEthernet2/0)))]   \n",
              "\n",
              "   Reference_TraceCount  \n",
              "0  1                     \n",
              "1  1                     "
            ],
            "text/html": [
              "<style  type=\"text/css\" >\n",
              "    #T_pybfstylerow0_col0 {\n",
              "            text-align:  left;\n",
              "            vertical-align:  top;\n",
              "        }    #T_pybfstylerow0_col1 {\n",
              "            text-align:  left;\n",
              "            vertical-align:  top;\n",
              "        }    #T_pybfstylerow0_col2 {\n",
              "            text-align:  left;\n",
              "            vertical-align:  top;\n",
              "        }    #T_pybfstylerow0_col3 {\n",
              "            text-align:  left;\n",
              "            vertical-align:  top;\n",
              "        }    #T_pybfstylerow0_col4 {\n",
              "            text-align:  left;\n",
              "            vertical-align:  top;\n",
              "        }    #T_pybfstylerow1_col0 {\n",
              "            text-align:  left;\n",
              "            vertical-align:  top;\n",
              "        }    #T_pybfstylerow1_col1 {\n",
              "            text-align:  left;\n",
              "            vertical-align:  top;\n",
              "        }    #T_pybfstylerow1_col2 {\n",
              "            text-align:  left;\n",
              "            vertical-align:  top;\n",
              "        }    #T_pybfstylerow1_col3 {\n",
              "            text-align:  left;\n",
              "            vertical-align:  top;\n",
              "        }    #T_pybfstylerow1_col4 {\n",
              "            text-align:  left;\n",
              "            vertical-align:  top;\n",
              "        }</style>  \n",
              "<table id=\"T_pybfstyle\" > \n",
              "<thead>    <tr> \n",
              "        <th class=\"blank level0\" ></th> \n",
              "        <th class=\"col_heading level0 col0\" >Flow</th> \n",
              "        <th class=\"col_heading level0 col1\" >Snapshot_Traces</th> \n",
              "        <th class=\"col_heading level0 col2\" >Snapshot_TraceCount</th> \n",
              "        <th class=\"col_heading level0 col3\" >Reference_Traces</th> \n",
              "        <th class=\"col_heading level0 col4\" >Reference_TraceCount</th> \n",
              "    </tr></thead> \n",
              "<tbody>    <tr> \n",
              "        <th id=\"T_pybfstylelevel0_row0\" class=\"row_heading level0 row0\" >0</th> \n",
              "        <td id=\"T_pybfstylerow0_col0\" class=\"data row0 col0\" >Src IP: 2.1.1.1<br>Src Port: 0<br>Dst IP: 2.128.0.0<br>Dst Port: 0<br>IP Protocol: ICMP<br>Start Location: as2border1</td> \n",
              "        <td id=\"T_pybfstylerow0_col1\" class=\"data row0 col1\" ><span style=\"color:#7c020e; text-weight:bold;\">NULL_ROUTED</span><br><strong>1</strong>. node: as2border1<br>&nbsp;&nbsp;ORIGINATED(default)<br>&nbsp;&nbsp;FORWARDED(Routes: ibgp [Network: 2.128.0.0/24, Next Hop IP:2.34.201.4])<br>&nbsp;&nbsp;TRANSMITTED(GigabitEthernet2/0)<br><strong>2</strong>. node: as2core2<br>&nbsp;&nbsp;RECEIVED(GigabitEthernet1/0)<br>&nbsp;&nbsp;FORWARDED(Routes: static [Network: 2.128.0.0/24, Next Hop IP:AUTO/NONE(-1l)])<br>&nbsp;&nbsp;NULL_ROUTED(null_interface)</td> \n",
              "        <td id=\"T_pybfstylerow0_col2\" class=\"data row0 col2\" >1</td> \n",
              "        <td id=\"T_pybfstylerow0_col3\" class=\"data row0 col3\" ><span style=\"color:#019612; text-weight:bold;\">EXITS_NETWORK</span><br><strong>1</strong>. node: as2border1<br>&nbsp;&nbsp;ORIGINATED(default)<br>&nbsp;&nbsp;FORWARDED(Routes: ibgp [Network: 2.128.0.0/24, Next Hop IP:2.34.201.4])<br>&nbsp;&nbsp;TRANSMITTED(GigabitEthernet1/0)<br><strong>2</strong>. node: as2core1<br>&nbsp;&nbsp;RECEIVED(GigabitEthernet0/0)<br>&nbsp;&nbsp;FORWARDED(Routes: ibgp [Network: 2.128.0.0/24, Next Hop IP:2.34.201.4])<br>&nbsp;&nbsp;TRANSMITTED(GigabitEthernet3/0)<br><strong>3</strong>. node: as2dist2<br>&nbsp;&nbsp;RECEIVED(GigabitEthernet1/0)<br>&nbsp;&nbsp;FORWARDED(Routes: bgp [Network: 2.128.0.0/24, Next Hop IP:2.34.201.4])<br>&nbsp;&nbsp;TRANSMITTED(GigabitEthernet2/0)<br><strong>4</strong>. node: as2dept1<br>&nbsp;&nbsp;RECEIVED(GigabitEthernet1/0)<br>&nbsp;&nbsp;FORWARDED(Routes: connected [Network: 2.128.0.0/24, Next Hop IP:AUTO/NONE(-1l)])<br>&nbsp;&nbsp;EXITS_NETWORK(GigabitEthernet2/0)</td> \n",
              "        <td id=\"T_pybfstylerow0_col4\" class=\"data row0 col4\" >1</td> \n",
              "    </tr>    <tr> \n",
              "        <th id=\"T_pybfstylelevel0_row1\" class=\"row_heading level0 row1\" >1</th> \n",
              "        <td id=\"T_pybfstylerow1_col0\" class=\"data row1 col0\" >Src IP: 2.1.1.2<br>Src Port: 0<br>Dst IP: 2.128.0.0<br>Dst Port: 0<br>IP Protocol: ICMP<br>Start Location: as2border2</td> \n",
              "        <td id=\"T_pybfstylerow1_col1\" class=\"data row1 col1\" ><span style=\"color:#7c020e; text-weight:bold;\">NULL_ROUTED</span><br><strong>1</strong>. node: as2border2<br>&nbsp;&nbsp;ORIGINATED(default)<br>&nbsp;&nbsp;FORWARDED(Routes: ibgp [Network: 2.128.0.0/24, Next Hop IP:2.34.201.4])<br>&nbsp;&nbsp;TRANSMITTED(GigabitEthernet1/0)<br><strong>2</strong>. node: as2core2<br>&nbsp;&nbsp;RECEIVED(GigabitEthernet0/0)<br>&nbsp;&nbsp;FORWARDED(Routes: static [Network: 2.128.0.0/24, Next Hop IP:AUTO/NONE(-1l)])<br>&nbsp;&nbsp;NULL_ROUTED(null_interface)</td> \n",
              "        <td id=\"T_pybfstylerow1_col2\" class=\"data row1 col2\" >1</td> \n",
              "        <td id=\"T_pybfstylerow1_col3\" class=\"data row1 col3\" ><span style=\"color:#019612; text-weight:bold;\">EXITS_NETWORK</span><br><strong>1</strong>. node: as2border2<br>&nbsp;&nbsp;ORIGINATED(default)<br>&nbsp;&nbsp;FORWARDED(Routes: ibgp [Network: 2.128.0.0/24, Next Hop IP:2.34.201.4])<br>&nbsp;&nbsp;TRANSMITTED(GigabitEthernet2/0)<br><strong>2</strong>. node: as2core1<br>&nbsp;&nbsp;RECEIVED(GigabitEthernet1/0)<br>&nbsp;&nbsp;FORWARDED(Routes: ibgp [Network: 2.128.0.0/24, Next Hop IP:2.34.201.4])<br>&nbsp;&nbsp;TRANSMITTED(GigabitEthernet3/0)<br><strong>3</strong>. node: as2dist2<br>&nbsp;&nbsp;RECEIVED(GigabitEthernet1/0)<br>&nbsp;&nbsp;FORWARDED(Routes: bgp [Network: 2.128.0.0/24, Next Hop IP:2.34.201.4])<br>&nbsp;&nbsp;TRANSMITTED(GigabitEthernet2/0)<br><strong>4</strong>. node: as2dept1<br>&nbsp;&nbsp;RECEIVED(GigabitEthernet1/0)<br>&nbsp;&nbsp;FORWARDED(Routes: connected [Network: 2.128.0.0/24, Next Hop IP:AUTO/NONE(-1l)])<br>&nbsp;&nbsp;EXITS_NETWORK(GigabitEthernet2/0)</td> \n",
              "        <td id=\"T_pybfstylerow1_col4\" class=\"data row1 col4\" >1</td> \n",
              "    </tr></tbody> \n",
              "</table> "
            ]
          },
          "metadata": {
            "tags": []
          }
        }
      ]
    },
    {
      "metadata": {
        "id": "Srh6MQdCD2AY",
        "colab_type": "text"
      },
      "cell_type": "markdown",
      "source": [
        "In our scenario, there has been some drift between our core routers, so moving traffic from `as2core1` to `as2core2` does affect end-to-end behavior: some traffic that was being delivered before the change is being *null routed* after. This means if we deploy the change now, there will be a loss of connectivity. Fortunately the `differentialReachability` question was able to identify that bug before we deployed the change. \n",
        "\n",
        "The results include an example flow from each start location that has traffic affected by the change. Each flow comes with detailed traces of all the paths it can take through the network, which helps us diagnose the problem:\n",
        "`as2core2` has a rogue null route for `2.180.0.0/24` that should have been removed.\n",
        "\n",
        "We fix this bug by removing the static route, and then upload the fixed change snapshot. "
      ]
    },
    {
      "metadata": {
        "id": "C8XT6mnQgi7E",
        "colab_type": "text"
      },
      "cell_type": "markdown",
      "source": [
        "## Step 2 (again): Ensure that no traffic is routed transit through as2core1"
      ]
    },
    {
      "metadata": {
        "colab_type": "text",
        "id": "pjSzx61-Bx2c"
      },
      "cell_type": "markdown",
      "source": [
        "\n",
        "Having removed the bad null route from both the base and the change snapshots, we load them into batfish again and perform the same validation steps:"
      ]
    },
    {
      "metadata": {
        "id": "VDUMSREzD2AY",
        "colab_type": "code",
        "outputId": "8816f6a9-0f86-4338-b416-c5db5bfd7e7f",
        "colab": {
          "base_uri": "https://localhost:8080/",
          "height": 34
        }
      },
      "cell_type": "code",
      "source": [
        "EX1_BASE_FIXED_NAME = \"base-fixed\"\n",
        "EX1_BASE_FIXED_PATH = \"networks/differential-ex1-base-fixed\"\n",
        "bf_init_snapshot(EX1_BASE_FIXED_PATH, name=EX1_BASE_FIXED_NAME, overwrite=True)\n",
        "\n",
        "EX1_CHANGE_FIXED_NAME = \"change-fixed\"\n",
        "EX1_CHANGE_FIXED_PATH = \"networks/differential-ex1-change-fixed\"\n",
        "bf_init_snapshot(EX1_CHANGE_FIXED_PATH, name=EX1_CHANGE_FIXED_NAME, overwrite=True)"
      ],
      "execution_count": 8,
      "outputs": [
        {
          "output_type": "execute_result",
          "data": {
            "text/plain": [
              "'change-fixed'"
            ]
          },
          "metadata": {
            "tags": []
          },
          "execution_count": 8
        }
      ]
    },
    {
      "metadata": {
        "id": "7PwwXc1rD2Ad",
        "colab_type": "code",
        "outputId": "847b9e78-9bd1-4c83-8a15-8af095746087",
        "colab": {
          "base_uri": "https://localhost:8080/",
          "height": 180
        }
      },
      "cell_type": "code",
      "source": [
        "# Requirement 1: No traffic is routed through as2core1.\n",
        "answer = bfq.reachability(\n",
        "    pathConstraints = PathConstraints(transitLocations=\"as2core1\"),\n",
        "    actions = \"SUCCESS,FAILURE\"\n",
        ").answer(snapshot = EX1_CHANGE_FIXED_NAME)\n",
        "display_html(answer.frame())\n"
      ],
      "execution_count": 9,
      "outputs": [
        {
          "output_type": "display_data",
          "data": {
            "text/plain": [
              "                                         Flow  \\\n",
              "0  start=as2core1 [2.1.2.1:0->2.1.1.1:0 ICMP]   \n",
              "\n",
              "                                                                                                                                                                                    Traces  \\\n",
              "0  [((ORIGINATED(default), FORWARDED(Routes: ospf [Network: 2.1.1.1/32, Next Hop IP:2.12.11.1]), TRANSMITTED(GigabitEthernet0/0)), (RECEIVED(GigabitEthernet1/0), ACCEPTED(InboundStep)))]   \n",
              "\n",
              "   TraceCount  \n",
              "0  1           "
            ],
            "text/html": [
              "<style  type=\"text/css\" >\n",
              "    #T_pybfstylerow0_col0 {\n",
              "            text-align:  left;\n",
              "            vertical-align:  top;\n",
              "        }    #T_pybfstylerow0_col1 {\n",
              "            text-align:  left;\n",
              "            vertical-align:  top;\n",
              "        }    #T_pybfstylerow0_col2 {\n",
              "            text-align:  left;\n",
              "            vertical-align:  top;\n",
              "        }</style>  \n",
              "<table id=\"T_pybfstyle\" > \n",
              "<thead>    <tr> \n",
              "        <th class=\"blank level0\" ></th> \n",
              "        <th class=\"col_heading level0 col0\" >Flow</th> \n",
              "        <th class=\"col_heading level0 col1\" >Traces</th> \n",
              "        <th class=\"col_heading level0 col2\" >TraceCount</th> \n",
              "    </tr></thead> \n",
              "<tbody>    <tr> \n",
              "        <th id=\"T_pybfstylelevel0_row0\" class=\"row_heading level0 row0\" >0</th> \n",
              "        <td id=\"T_pybfstylerow0_col0\" class=\"data row0 col0\" >Src IP: 2.1.2.1<br>Src Port: 0<br>Dst IP: 2.1.1.1<br>Dst Port: 0<br>IP Protocol: ICMP<br>Start Location: as2core1</td> \n",
              "        <td id=\"T_pybfstylerow0_col1\" class=\"data row0 col1\" ><span style=\"color:#019612; text-weight:bold;\">ACCEPTED</span><br><strong>1</strong>. node: as2core1<br>&nbsp;&nbsp;ORIGINATED(default)<br>&nbsp;&nbsp;FORWARDED(Routes: ospf [Network: 2.1.1.1/32, Next Hop IP:2.12.11.1])<br>&nbsp;&nbsp;TRANSMITTED(GigabitEthernet0/0)<br><strong>2</strong>. node: as2border1<br>&nbsp;&nbsp;RECEIVED(GigabitEthernet1/0)<br>&nbsp;&nbsp;ACCEPTED(InboundStep)</td> \n",
              "        <td id=\"T_pybfstylerow0_col2\" class=\"data row0 col2\" >1</td> \n",
              "    </tr></tbody> \n",
              "</table> "
            ]
          },
          "metadata": {
            "tags": []
          }
        }
      ]
    },
    {
      "metadata": {
        "id": "30mvGvW-H2Cx",
        "colab_type": "text"
      },
      "cell_type": "markdown",
      "source": [
        "Again, the only traffic that routes through `as2core1` is traffic from `as2core1` itself. So `as2core1` is still correctly costed-out. \n"
      ]
    },
    {
      "metadata": {
        "id": "5GuO-3Rlgq2z",
        "colab_type": "text"
      },
      "cell_type": "markdown",
      "source": [
        "\n",
        "## Step 3 (again): End-to-end network behavior is unchanged.\n"
      ]
    },
    {
      "metadata": {
        "id": "RRa7Gh7wgtxk",
        "colab_type": "text"
      },
      "cell_type": "markdown",
      "source": [
        "We now move on to check that after removing the bad null route, costing out `as2core1` has no impact on the reachability matrix:"
      ]
    },
    {
      "metadata": {
        "id": "IY1gbCULD2Aj",
        "colab_type": "code",
        "outputId": "56f14449-6b68-4ec7-b3b4-841b5065fcc3",
        "colab": {
          "base_uri": "https://localhost:8080/",
          "height": 49
        }
      },
      "cell_type": "code",
      "source": [
        "# Requirement 2: End-to-end network behavior is unchanged.\n",
        "answer = bfq.differentialReachability().answer(\n",
        "    snapshot = EX1_CHANGE_FIXED_NAME, \n",
        "    reference_snapshot = EX1_BASE_FIXED_NAME)\n",
        "display_html(answer.frame())"
      ],
      "execution_count": 10,
      "outputs": [
        {
          "output_type": "display_data",
          "data": {
            "text/plain": [
              "Empty DataFrame\n",
              "Columns: [Flow, Traces, TraceCount, Reference_Traces, Reference_TraceCount]\n",
              "Index: []"
            ],
            "text/html": [
              "<div>\n",
              "<style scoped>\n",
              "    .dataframe tbody tr th:only-of-type {\n",
              "        vertical-align: middle;\n",
              "    }\n",
              "\n",
              "    .dataframe tbody tr th {\n",
              "        vertical-align: top;\n",
              "    }\n",
              "\n",
              "    .dataframe thead th {\n",
              "        text-align: right;\n",
              "    }\n",
              "</style>\n",
              "<table border=\"1\" class=\"dataframe\">\n",
              "  <thead>\n",
              "    <tr style=\"text-align: right;\">\n",
              "      <th></th>\n",
              "      <th>Flow</th>\n",
              "      <th>Traces</th>\n",
              "      <th>TraceCount</th>\n",
              "      <th>Reference_Traces</th>\n",
              "      <th>Reference_TraceCount</th>\n",
              "    </tr>\n",
              "  </thead>\n",
              "  <tbody>\n",
              "  </tbody>\n",
              "</table>\n",
              "</div>"
            ]
          },
          "metadata": {
            "tags": []
          }
        }
      ]
    },
    {
      "metadata": {
        "id": "DpIQk5JvD2Al",
        "colab_type": "text"
      },
      "cell_type": "markdown",
      "source": [
        "Success! We have now verified that our change will correctly cost-out `as2core1` without affecting end-to-end network behavior. We are ready to deploy the change and do the maintenance work for `as2core1` with complete confidence. \n",
        "\n"
      ]
    },
    {
      "metadata": {
        "id": "DT8YftmAg2N8",
        "colab_type": "text"
      },
      "cell_type": "markdown",
      "source": [
        "# Summary\n"
      ]
    },
    {
      "metadata": {
        "id": "b5EhU8Swg3lH",
        "colab_type": "text"
      },
      "cell_type": "markdown",
      "source": [
        "In this notebook, you saw how batfish can help you validate changes to forwarding behavior before you depoly them to the network.\n",
        "\n",
        "Let's recap the steps we took to verify this change:\n",
        "1. First, we verified that the primary intent of the change is achieved: traffic is moved from `as2core1` to `as2core2`. We used the `reachability` query to search *all flows* in the network, and verified that none will transit `as2core1` after the change.\n",
        "1. Second, we verified that moving the traffic did not affect end-to-end reachability. For this, we used the `differentialReachability` query to compare the forwarding behavior of two snapshots. This verified that *no flow* will be affected by the change."
      ]
    }
  ]
}