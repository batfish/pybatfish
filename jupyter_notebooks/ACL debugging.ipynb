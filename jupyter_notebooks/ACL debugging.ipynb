{
 "cells": [
  {
   "cell_type": "markdown",
   "metadata": {},
   "source": [
    "# ACL debugging with Batfish\n",
    "\n",
    "This notebook contains examples to help answer some common questions about ACLs:\n",
    "- What will a given ACL do with some packet? Which line in the ACL permits/denies the packet?\n",
    "- Do any ACLs have lines that are unreachable by any packet?\n",
    "\n",
    "The example network used in this notebook is shown below.\n",
    "\n",
    "![example-network](https://raw.githubusercontent.com/batfish/batfish/master/test_rigs/example/example-network.png)"
   ]
  },
  {
   "cell_type": "code",
   "execution_count": null,
   "metadata": {},
   "outputs": [],
   "source": [
    "# Initialize a network and snapshot\n",
    "%run startup.py\n",
    "\n",
    "NETWORK_NAME = \"acl_debugging_network\"\n",
    "SNAPSHOT_NAME = \"example_snapshot\"\n",
    "SNAPSHOT_PATH = \"../test_rigs/example\"\n",
    "\n",
    "bf_set_network(NETWORK_NAME)\n",
    "try:\n",
    "    bf_init_snapshot(SNAPSHOT_PATH, name=SNAPSHOT_NAME)\n",
    "except BatfishException:\n",
    "    bf_set_snapshot(SNAPSHOT_NAME)"
   ]
  },
  {
   "cell_type": "markdown",
   "metadata": {},
   "source": [
    "## Debugging flow for a given packet\n",
    "\n",
    "The `tracefilters` question is helpful for spot-checking that particular packets are permitted or denied along a given path. For example, `host1` in our sample network is a DNS server, so ACLs should permit DNS packets destined for `host1`. Let's confirm that using `tracefilters`.\n",
    "\n",
    "### Parameters of tracefilters\n",
    "The non-optional paramters of `tracefilters` are `dst` (destination hostname or IP) and `srcIp`. When given only these two parameters, the result shows the behavior of every ACL in the network on a default packet.\n",
    "\n",
    "The set of ACLs to examine can be narrowed down using two optional parameters:\n",
    "- `nodeRegex` specifies the ACLs present on the set of nodes matching the given regex\n",
    "- `filterRegex` specifies ACLs with names matching the given regex\n",
    "\n",
    "There are also many optional parameters that specify the packet to examine. Check out the [documentation](https://pybatfish.readthedocs.io/en/latest/questions.html#pybatfish.question.bfq.tracefilters) for details.\n",
    "\n",
    "#### Tip: Pull up a table of hostnames to IP addresses to help fill in `srcIp` and `dst`\n",
    "`nodeProperties` achieves this nicely:"
   ]
  },
  {
   "cell_type": "code",
   "execution_count": 5,
   "metadata": {},
   "outputs": [
    {
     "data": {
      "text/html": [
       "<div>\n",
       "<style scoped>\n",
       "    .dataframe tbody tr th:only-of-type {\n",
       "        vertical-align: middle;\n",
       "    }\n",
       "\n",
       "    .dataframe tbody tr th {\n",
       "        vertical-align: top;\n",
       "    }\n",
       "\n",
       "    .dataframe thead th {\n",
       "        text-align: right;\n",
       "    }\n",
       "</style>\n",
       "<table border=\"1\" class=\"dataframe\">\n",
       "  <thead>\n",
       "    <tr style=\"text-align: right;\">\n",
       "      <th></th>\n",
       "      <th>node</th>\n",
       "      <th>canonical-ip</th>\n",
       "    </tr>\n",
       "  </thead>\n",
       "  <tbody>\n",
       "    <tr>\n",
       "      <th>0</th>\n",
       "      <td>as1border1</td>\n",
       "      <td>1.0.1.1</td>\n",
       "    </tr>\n",
       "    <tr>\n",
       "      <th>1</th>\n",
       "      <td>as1border2</td>\n",
       "      <td>1.0.2.1</td>\n",
       "    </tr>\n",
       "    <tr>\n",
       "      <th>2</th>\n",
       "      <td>as1core1</td>\n",
       "      <td>1.0.1.2</td>\n",
       "    </tr>\n",
       "    <tr>\n",
       "      <th>3</th>\n",
       "      <td>as2border1</td>\n",
       "      <td>2.1.1.1</td>\n",
       "    </tr>\n",
       "    <tr>\n",
       "      <th>4</th>\n",
       "      <td>as2border2</td>\n",
       "      <td>2.1.1.2</td>\n",
       "    </tr>\n",
       "    <tr>\n",
       "      <th>5</th>\n",
       "      <td>as2core1</td>\n",
       "      <td>2.1.2.1</td>\n",
       "    </tr>\n",
       "    <tr>\n",
       "      <th>6</th>\n",
       "      <td>as2core2</td>\n",
       "      <td>2.1.2.2</td>\n",
       "    </tr>\n",
       "    <tr>\n",
       "      <th>7</th>\n",
       "      <td>as2dept1</td>\n",
       "      <td>2.1.1.2</td>\n",
       "    </tr>\n",
       "    <tr>\n",
       "      <th>8</th>\n",
       "      <td>as2dist1</td>\n",
       "      <td>2.1.3.1</td>\n",
       "    </tr>\n",
       "    <tr>\n",
       "      <th>9</th>\n",
       "      <td>as2dist2</td>\n",
       "      <td>2.1.3.2</td>\n",
       "    </tr>\n",
       "    <tr>\n",
       "      <th>10</th>\n",
       "      <td>as3border1</td>\n",
       "      <td>3.0.1.1</td>\n",
       "    </tr>\n",
       "    <tr>\n",
       "      <th>11</th>\n",
       "      <td>as3border2</td>\n",
       "      <td>3.0.2.1</td>\n",
       "    </tr>\n",
       "    <tr>\n",
       "      <th>12</th>\n",
       "      <td>as3core1</td>\n",
       "      <td>3.0.1.2</td>\n",
       "    </tr>\n",
       "    <tr>\n",
       "      <th>13</th>\n",
       "      <td>host1</td>\n",
       "      <td>2.128.0.101</td>\n",
       "    </tr>\n",
       "    <tr>\n",
       "      <th>14</th>\n",
       "      <td>host2</td>\n",
       "      <td>2.128.1.101</td>\n",
       "    </tr>\n",
       "  </tbody>\n",
       "</table>\n",
       "</div>"
      ],
      "text/plain": [
       "          node canonical-ip\n",
       "0   as1border1      1.0.1.1\n",
       "1   as1border2      1.0.2.1\n",
       "2     as1core1      1.0.1.2\n",
       "3   as2border1      2.1.1.1\n",
       "4   as2border2      2.1.1.2\n",
       "5     as2core1      2.1.2.1\n",
       "6     as2core2      2.1.2.2\n",
       "7     as2dept1      2.1.1.2\n",
       "8     as2dist1      2.1.3.1\n",
       "9     as2dist2      2.1.3.2\n",
       "10  as3border1      3.0.1.1\n",
       "11  as3border2      3.0.2.1\n",
       "12    as3core1      3.0.1.2\n",
       "13       host1  2.128.0.101\n",
       "14       host2  2.128.1.101"
      ]
     },
     "execution_count": 5,
     "metadata": {},
     "output_type": "execute_result"
    }
   ],
   "source": [
    "bfq.nodeProperties(nodeRegex=\".*\", propertySpec=\"canonical-ip\").answer().frame()"
   ]
  },
  {
   "cell_type": "markdown",
   "metadata": {},
   "source": [
    "### Verifying that DNS requests will reach `host1`\n",
    "\n",
    "Suppose `as1core1` sends a DNS request destined for DNS server `host1`. The packet will need to pass through `as1border1`, `as2border1`, `as2core1`, `as2dist1`, and `as2dept1`. It will hit the following ACLs:\n",
    "- Entering `as2border1`: `OUTSIDE_TO_INSIDE`\n",
    "- Entering `host1`: `filter::INPUT`\n",
    "\n",
    "Running `tracefilters` for a DNS packet going from `as1core1` to `host1` shows that the packet is accepted by both ACLs, as expected. It also shows which line in each ACL accepts the packet."
   ]
  },
  {
   "cell_type": "code",
   "execution_count": 6,
   "metadata": {},
   "outputs": [
    {
     "data": {
      "text/html": [
       "<div>\n",
       "<style scoped>\n",
       "    .dataframe tbody tr th:only-of-type {\n",
       "        vertical-align: middle;\n",
       "    }\n",
       "\n",
       "    .dataframe tbody tr th {\n",
       "        vertical-align: top;\n",
       "    }\n",
       "\n",
       "    .dataframe thead th {\n",
       "        text-align: right;\n",
       "    }\n",
       "</style>\n",
       "<table border=\"1\" class=\"dataframe\">\n",
       "  <thead>\n",
       "    <tr style=\"text-align: right;\">\n",
       "      <th></th>\n",
       "      <th>node</th>\n",
       "      <th>filterName</th>\n",
       "      <th>flow</th>\n",
       "      <th>action</th>\n",
       "      <th>lineNumber</th>\n",
       "      <th>lineContent</th>\n",
       "      <th>trace</th>\n",
       "    </tr>\n",
       "  </thead>\n",
       "  <tbody>\n",
       "    <tr>\n",
       "      <th>0</th>\n",
       "      <td>as2border1</td>\n",
       "      <td>OUTSIDE_TO_INSIDE</td>\n",
       "      <td>as2border1-&gt;[:1.0.1.2-&gt;0:2.128.0.101 proto: 53...</td>\n",
       "      <td>ACCEPT</td>\n",
       "      <td>2</td>\n",
       "      <td>permit ip any any</td>\n",
       "      <td>Flow permitted by 'extended ipv4 access-list' ...</td>\n",
       "    </tr>\n",
       "    <tr>\n",
       "      <th>1</th>\n",
       "      <td>host1</td>\n",
       "      <td>filter::INPUT</td>\n",
       "      <td>host1-&gt;[:1.0.1.2-&gt;0:2.128.0.101 proto: 53 dscp...</td>\n",
       "      <td>ACCEPT</td>\n",
       "      <td>0</td>\n",
       "      <td>-p udp --dport 53 -j ACCEPT</td>\n",
       "      <td>Flow permitted by ACL named 'filter::INPUT', i...</td>\n",
       "    </tr>\n",
       "  </tbody>\n",
       "</table>\n",
       "</div>"
      ],
      "text/plain": [
       "         node         filterName  \\\n",
       "0  as2border1  OUTSIDE_TO_INSIDE   \n",
       "1       host1      filter::INPUT   \n",
       "\n",
       "                                                flow  action  lineNumber  \\\n",
       "0  as2border1->[:1.0.1.2->0:2.128.0.101 proto: 53...  ACCEPT           2   \n",
       "1  host1->[:1.0.1.2->0:2.128.0.101 proto: 53 dscp...  ACCEPT           0   \n",
       "\n",
       "                   lineContent  \\\n",
       "0            permit ip any any   \n",
       "1  -p udp --dport 53 -j ACCEPT   \n",
       "\n",
       "                                               trace  \n",
       "0  Flow permitted by 'extended ipv4 access-list' ...  \n",
       "1  Flow permitted by ACL named 'filter::INPUT', i...  "
      ]
     },
     "execution_count": 6,
     "metadata": {},
     "output_type": "execute_result"
    }
   ],
   "source": [
    "host1_ip = \"2.128.0.101\"\n",
    "as1core1_ip = \"1.0.1.2\"\n",
    "nodes = \"as2border1|host1\"\n",
    "acls = \"OUTSIDE_TO_INSIDE|filter::INPUT\"\n",
    "bfq.tracefilters(dst=host1_ip, srcIp=as1core1_ip, nodeRegex=nodes, filterRegex=acls, dstProtocol=\"dns\").answer().frame()"
   ]
  },
  {
   "cell_type": "markdown",
   "metadata": {},
   "source": [
    "### Verifying that `host1` can be reached via SSH\n",
    "We would also like for `host1` to be reachable from `as1core1` by SSH, which we can check with a similar `tracefilter` question:"
   ]
  },
  {
   "cell_type": "code",
   "execution_count": 10,
   "metadata": {},
   "outputs": [
    {
     "data": {
      "text/html": [
       "<div>\n",
       "<style scoped>\n",
       "    .dataframe tbody tr th:only-of-type {\n",
       "        vertical-align: middle;\n",
       "    }\n",
       "\n",
       "    .dataframe tbody tr th {\n",
       "        vertical-align: top;\n",
       "    }\n",
       "\n",
       "    .dataframe thead th {\n",
       "        text-align: right;\n",
       "    }\n",
       "</style>\n",
       "<table border=\"1\" class=\"dataframe\">\n",
       "  <thead>\n",
       "    <tr style=\"text-align: right;\">\n",
       "      <th></th>\n",
       "      <th>node</th>\n",
       "      <th>filterName</th>\n",
       "      <th>flow</th>\n",
       "      <th>action</th>\n",
       "      <th>lineNumber</th>\n",
       "      <th>lineContent</th>\n",
       "      <th>trace</th>\n",
       "    </tr>\n",
       "  </thead>\n",
       "  <tbody>\n",
       "    <tr>\n",
       "      <th>0</th>\n",
       "      <td>as2border1</td>\n",
       "      <td>OUTSIDE_TO_INSIDE</td>\n",
       "      <td>as2border1-&gt;[:1.0.1.2-&gt;0:2.128.0.101 proto: 22...</td>\n",
       "      <td>ACCEPT</td>\n",
       "      <td>2</td>\n",
       "      <td>permit ip any any</td>\n",
       "      <td>Flow permitted by 'extended ipv4 access-list' ...</td>\n",
       "    </tr>\n",
       "    <tr>\n",
       "      <th>1</th>\n",
       "      <td>host1</td>\n",
       "      <td>filter::INPUT</td>\n",
       "      <td>host1-&gt;[:1.0.1.2-&gt;0:2.128.0.101 proto: 22 dscp...</td>\n",
       "      <td>ACCEPT</td>\n",
       "      <td>1</td>\n",
       "      <td>-p tcp --dport 22 -j ACCEPT</td>\n",
       "      <td>Flow permitted by ACL named 'filter::INPUT', i...</td>\n",
       "    </tr>\n",
       "  </tbody>\n",
       "</table>\n",
       "</div>"
      ],
      "text/plain": [
       "         node         filterName  \\\n",
       "0  as2border1  OUTSIDE_TO_INSIDE   \n",
       "1       host1      filter::INPUT   \n",
       "\n",
       "                                                flow  action  lineNumber  \\\n",
       "0  as2border1->[:1.0.1.2->0:2.128.0.101 proto: 22...  ACCEPT           2   \n",
       "1  host1->[:1.0.1.2->0:2.128.0.101 proto: 22 dscp...  ACCEPT           1   \n",
       "\n",
       "                   lineContent  \\\n",
       "0            permit ip any any   \n",
       "1  -p tcp --dport 22 -j ACCEPT   \n",
       "\n",
       "                                               trace  \n",
       "0  Flow permitted by 'extended ipv4 access-list' ...  \n",
       "1  Flow permitted by ACL named 'filter::INPUT', i...  "
      ]
     },
     "execution_count": 10,
     "metadata": {},
     "output_type": "execute_result"
    }
   ],
   "source": [
    "bfq.tracefilters(dst=host1_ip, srcIp=as1core1_ip, nodeRegex=nodes, filterRegex=acls, dstProtocol=\"ssh\").answer().frame()"
   ]
  },
  {
   "cell_type": "markdown",
   "metadata": {},
   "source": [
    "### Confirming that other packets will not reach `host1`\n",
    "\n",
    "Outside of DNS and SSH, `host1` should not ultimately receive any traffic from `as1core1`. The next cell spot-checks some other packets with `tracefilters` to help confirm this. The only packets found to be accepted by both ACLs are TCP to port 22 (SSH) and UDP to port 53 (DNS)."
   ]
  },
  {
   "cell_type": "code",
   "execution_count": 22,
   "metadata": {},
   "outputs": [
    {
     "name": "stdout",
     "output_type": "stream",
     "text": [
      "Accepted: tcp on port 22\n",
      "Accepted: udp on port 53\n"
     ]
    }
   ],
   "source": [
    "common_ports = {\n",
    "    'tcp': [1, 20, 22, 25, 80, 156, 179, 389, 443, 444],\n",
    "    'udp': [7, 13, 37, 42, 49, 53, 107, 123, 156, 161]\n",
    "}\n",
    "\n",
    "for protocol in common_ports:\n",
    "    for port in common_ports[protocol]:\n",
    "\n",
    "        # Run tracefilters with the packet specified by protocol and port\n",
    "        traceFiltersResult = bfq.tracefilters(dst=host1_ip, srcIp=as1core1_ip, nodeRegex=nodes, filterRegex=acls, dstProtocol=protocol, dstPort=port).answer().frame()\n",
    "\n",
    "        # Create a filtered version of the result that only contains the ACLs that denied the packet\n",
    "        rejectsOnly = traceFiltersResult[traceFiltersResult['action'].apply(lambda action:'REJECT' == action)]\n",
    "\n",
    "        # If the filtered result is empty, then no ACLs denied the packet. Report that host1 accepted it.\n",
    "        if len(rejectsOnly) == 0:\n",
    "            print(\"Accepted: \" + protocol + \" on port \" + str(port))"
   ]
  },
  {
   "cell_type": "markdown",
   "metadata": {},
   "source": [
    "## Ensuring all ACL lines are reachable\n",
    "\n",
    "When debugging or editing ACLs, it can be useful to confirm that every line is reachable -- that is, it matches some set of packets that don't match earlier lines. Often unreachable ACL lines are symptomatic of past edits to the ACL that did not achieve their intent.\n",
    "\n",
    "The `aclReachability` question identifies unreachable ACL lines. Given no parameters, it will check every ACL in the network, but the scope can be narrowed down using parameters `aclNameRegex` and `nodeRegex` (see [documentation](https://pybatfish.readthedocs.io/en/latest/questions.html#pybatfish.question.bfq.aclReachability)).\n",
    "\n",
    "For now, let's take a look at all the ACLs in the network."
   ]
  },
  {
   "cell_type": "code",
   "execution_count": 13,
   "metadata": {},
   "outputs": [
    {
     "data": {
      "text/html": [
       "<div>\n",
       "<style scoped>\n",
       "    .dataframe tbody tr th:only-of-type {\n",
       "        vertical-align: middle;\n",
       "    }\n",
       "\n",
       "    .dataframe tbody tr th {\n",
       "        vertical-align: top;\n",
       "    }\n",
       "\n",
       "    .dataframe thead th {\n",
       "        text-align: right;\n",
       "    }\n",
       "</style>\n",
       "<table border=\"1\" class=\"dataframe\">\n",
       "  <thead>\n",
       "    <tr style=\"text-align: right;\">\n",
       "      <th></th>\n",
       "      <th>aclSources</th>\n",
       "      <th>lines</th>\n",
       "      <th>blockedLineNum</th>\n",
       "      <th>blockingLineNums</th>\n",
       "      <th>differentAction</th>\n",
       "      <th>message</th>\n",
       "    </tr>\n",
       "  </thead>\n",
       "  <tbody>\n",
       "    <tr>\n",
       "      <th>0</th>\n",
       "      <td>[as2dept1: RESTRICT_HOST_TRAFFIC_IN]</td>\n",
       "      <td>[permit ip 2.128.0.0 0.0.255.255 any, deny   i...</td>\n",
       "      <td>2</td>\n",
       "      <td>[1]</td>\n",
       "      <td>True</td>\n",
       "      <td>ACLs { as2dept1: RESTRICT_HOST_TRAFFIC_IN } co...</td>\n",
       "    </tr>\n",
       "    <tr>\n",
       "      <th>1</th>\n",
       "      <td>[as2dept1: RESTRICT_HOST_TRAFFIC_OUT]</td>\n",
       "      <td>[permit ip any 2.128.0.0 0.0.255.255, deny   i...</td>\n",
       "      <td>1</td>\n",
       "      <td>[0]</td>\n",
       "      <td>True</td>\n",
       "      <td>ACLs { as2dept1: RESTRICT_HOST_TRAFFIC_OUT } c...</td>\n",
       "    </tr>\n",
       "  </tbody>\n",
       "</table>\n",
       "</div>"
      ],
      "text/plain": [
       "                              aclSources  \\\n",
       "0   [as2dept1: RESTRICT_HOST_TRAFFIC_IN]   \n",
       "1  [as2dept1: RESTRICT_HOST_TRAFFIC_OUT]   \n",
       "\n",
       "                                               lines  blockedLineNum  \\\n",
       "0  [permit ip 2.128.0.0 0.0.255.255 any, deny   i...               2   \n",
       "1  [permit ip any 2.128.0.0 0.0.255.255, deny   i...               1   \n",
       "\n",
       "  blockingLineNums  differentAction  \\\n",
       "0              [1]             True   \n",
       "1              [0]             True   \n",
       "\n",
       "                                             message  \n",
       "0  ACLs { as2dept1: RESTRICT_HOST_TRAFFIC_IN } co...  \n",
       "1  ACLs { as2dept1: RESTRICT_HOST_TRAFFIC_OUT } c...  "
      ]
     },
     "execution_count": 13,
     "metadata": {},
     "output_type": "execute_result"
    }
   ],
   "source": [
    "aclReachAnswer = bfq.aclReachability().answer().frame()\n",
    "aclReachAnswer"
   ]
  },
  {
   "cell_type": "markdown",
   "metadata": {},
   "source": [
    "### Examining ACL reachability results\n",
    "The answer identifies 2 unreachable lines. Let's take a closer look at the first one, line 2 in ACL `RESTRICT_HOST_TRAFFIC_IN` on node `as2dept1`. The `lines` column contains all the lines of the ACL, so the blocked and blocking lines can be found programmatically using their line numbers. The `message` column provides a human-readable result summary."
   ]
  },
  {
   "cell_type": "code",
   "execution_count": 14,
   "metadata": {},
   "outputs": [
    {
     "name": "stdout",
     "output_type": "stream",
     "text": [
      "Results based on looking up lines in lines column:\n",
      "Blocked line: permit icmp any any\n",
      "Blocking line(s): ['deny   ip any any']\n",
      "\n",
      "Message column:\n",
      "ACLs { as2dept1: RESTRICT_HOST_TRAFFIC_IN } contain an unreachable line:\n",
      "  [index 2] permit icmp any any\n",
      "Blocking line(s):\n",
      "  [index 1] deny   ip any any\n"
     ]
    }
   ],
   "source": [
    "# Pull out first result\n",
    "firstResult = aclReachAnswer.iloc[0]\n",
    "\n",
    "# Find the blocked and blocking lines from the lines column\n",
    "lines = firstResult['lines']\n",
    "blocking_nums = firstResult['blockingLineNums']\n",
    "blocked_num = firstResult['blockedLineNum']\n",
    "blocking_lines = [lines[int(n)] for n in blocking_nums]\n",
    "blocked_line = lines[blocked_num]\n",
    "print('Results based on looking up lines in lines column:')\n",
    "print('Blocked line: ' + blocked_line)\n",
    "print('Blocking line(s): ' + str(blocking_lines))\n",
    "print()\n",
    "\n",
    "# Show the human-readable message\n",
    "print(\"Message column:\")\n",
    "print(firstResult['message'])"
   ]
  },
  {
   "cell_type": "markdown",
   "metadata": {},
   "source": [
    "In this case, the line is unreachable because previous line `deny ip any any` matches and denies all packets that `permit icmp any any` would have permitted. The `aclReachability` question also identifies:\n",
    "- inherently unmatchable lines\n",
    "- unreachable lines blocked by multiple partially blocking lines\n",
    "- lines that have an uncertain impact because they contain an undefined or circular reference"
   ]
  }
 ],
 "metadata": {
  "kernelspec": {
   "display_name": "Python 3",
   "language": "python",
   "name": "python3"
  },
  "language_info": {
   "codemirror_mode": {
    "name": "ipython",
    "version": 3
   },
   "file_extension": ".py",
   "mimetype": "text/x-python",
   "name": "python",
   "nbconvert_exporter": "python",
   "pygments_lexer": "ipython3",
   "version": "3.6.4"
  }
 },
 "nbformat": 4,
 "nbformat_minor": 2
}
