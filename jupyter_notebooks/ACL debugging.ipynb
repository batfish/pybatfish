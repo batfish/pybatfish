{
 "cells": [
  {
   "cell_type": "markdown",
   "metadata": {},
   "source": [
    "# ACL debugging with Batfish\n",
    "\n",
    "Network engineers are responsible for verifying that the ACLs in their networks are permitting and denying traffic as intended. This generally requires loading each ACL onto a lab device in order to test its behavior on a wide range of packets. Batfish makes it easy to see what each ACL will do with any packet, right down to the line of the ACL that matches it. We also provide a sanity check to ensure that every line in every ACL can match some packet that won't be matched by a previous line.\n",
    "\n",
    "![Analytics](https://ga-beacon.appspot.com/UA-100596389-3/open-source/pybatfish/jupyter_notebooks/acl-debugging?pixel&useReferer)In this notebook, we will start by verifying that `host1` in our example network is correctly configured as a DNS server, then go on to check that all ACL lines are reachable across the network. The example network is shown below.\n",
    "\n",
    "![example-network](https://raw.githubusercontent.com/batfish/pybatfish/master/jupyter_notebooks/networks/example/example-network.png)"
   ]
  },
  {
   "cell_type": "markdown",
   "metadata": {},
   "source": [
    "`SNAPSHOT_PATH` below can be updated to point to a custom snapshot directory, see the [Batfish instructions](https://github.com/batfish/batfish/wiki/Packaging-snapshots-for-analysis) for how to package data for analysis.<br>\n",
    "More example networks are available in the [networks](https://github.com/batfish/batfish/tree/master/networks) folder of the Batfish repository."
   ]
  },
  {
   "cell_type": "code",
   "execution_count": 1,
   "metadata": {},
   "outputs": [
    {
     "data": {
      "text/plain": [
       "'example_snapshot'"
      ]
     },
     "execution_count": 1,
     "metadata": {},
     "output_type": "execute_result"
    }
   ],
   "source": [
    "# Import packages and load questions\n",
    "%run startup.py\n",
    "\n",
    "# Initialize a network and snapshot\n",
    "NETWORK_NAME = \"acl_debugging_network\"\n",
    "SNAPSHOT_NAME = \"example_snapshot\"\n",
    "\n",
    "SNAPSHOT_PATH = \"networks/example\"\n",
    "\n",
    "bf_set_network(NETWORK_NAME)\n",
    "bf_init_snapshot(SNAPSHOT_PATH, name=SNAPSHOT_NAME, overwrite=True)"
   ]
  },
  {
   "cell_type": "markdown",
   "metadata": {},
   "source": [
    "## Debugging how ACLs treat a given packet\n",
    "\n",
    "In this notebook we're operating from the perspective of `AS1` and would like to confirm that our ACLs are correctly configured to enable a DNS service hosted on `host1`. Packets from `AS1` destined for `host1` will hit two ACLs:\n",
    "- Entering `AS2`, they will hit an ACL on the border router called `OUTSIDE_TO_INSIDE`\n",
    "- Entering `host1`, they will hit an input ACL `filter::INPUT`\n",
    "\n",
    "The Test Filters question (`bfq.testfilters`) is helpful for checking what ACLs do with particular packets. We can use it to test that ACLs `OUTSIDE_TO_INSIDE` and `filter::INPUT` permit DNS packets destined for `host1`.\n",
    "\n",
    "### Parameters of Test Filters\n",
    "\n",
    "The Test Filters question takes in the properties of a flow and a set of ACLs to test. The answer shows what each ACL will do to that flow and why.\n",
    "\n",
    "To specify the flow, you must provide the source IP address `srcIp` and the destination `dst` (hostname or IP address). Optionally, you can also specify IP protocols, ports, TCP flags, ICMP codes, and other properties ([see documentation for details](https://pybatfish.readthedocs.io/en/latest/questions.html#pybatfish.question.bfq.testfilters)). The question will fill in any unspecified flow properties with default values.\n",
    "\n",
    "The set of ACLs to examine can be narrowed down using these optional parameters:\n",
    "- `nodes` specifies the ACLs present on the set of nodes matching the given regex\n",
    "- `filters` specifies ACLs with names matching the given regex\n",
    "\n",
    "If `nodes` and `filters` are left blank, Test Filters will give results for every ACL in the network.\n",
    "\n",
    "#### Tip: Pull up a table of IP addresses to help fill in `srcIp` and `dst`\n",
    "The IP Owners question achieves this nicely (we'll use [Pandas APIs](https://pandas.pydata.org/pandas-docs/stable/) here and throughout the notebook to filter results):"
   ]
  },
  {
   "cell_type": "code",
   "execution_count": 2,
   "metadata": {},
   "outputs": [
    {
     "data": {
      "text/html": [
       "<div>\n",
       "<style scoped>\n",
       "    .dataframe tbody tr th:only-of-type {\n",
       "        vertical-align: middle;\n",
       "    }\n",
       "\n",
       "    .dataframe tbody tr th {\n",
       "        vertical-align: top;\n",
       "    }\n",
       "\n",
       "    .dataframe thead th {\n",
       "        text-align: right;\n",
       "    }\n",
       "</style>\n",
       "<table border=\"1\" class=\"dataframe\">\n",
       "  <thead>\n",
       "    <tr style=\"text-align: right;\">\n",
       "      <th></th>\n",
       "      <th>Node</th>\n",
       "      <th>VRF</th>\n",
       "      <th>Interface</th>\n",
       "      <th>IP</th>\n",
       "      <th>Mask</th>\n",
       "      <th>Active</th>\n",
       "    </tr>\n",
       "  </thead>\n",
       "  <tbody>\n",
       "    <tr>\n",
       "      <th>8</th>\n",
       "      <td>as1border1</td>\n",
       "      <td>default</td>\n",
       "      <td>GigabitEthernet1/0</td>\n",
       "      <td>10.12.11.1</td>\n",
       "      <td>24</td>\n",
       "      <td>True</td>\n",
       "    </tr>\n",
       "    <tr>\n",
       "      <th>14</th>\n",
       "      <td>as1border2</td>\n",
       "      <td>default</td>\n",
       "      <td>GigabitEthernet0/0</td>\n",
       "      <td>10.13.22.1</td>\n",
       "      <td>24</td>\n",
       "      <td>True</td>\n",
       "    </tr>\n",
       "    <tr>\n",
       "      <th>15</th>\n",
       "      <td>as1border1</td>\n",
       "      <td>default</td>\n",
       "      <td>GigabitEthernet0/0</td>\n",
       "      <td>1.0.1.1</td>\n",
       "      <td>24</td>\n",
       "      <td>True</td>\n",
       "    </tr>\n",
       "    <tr>\n",
       "      <th>20</th>\n",
       "      <td>as1border1</td>\n",
       "      <td>default</td>\n",
       "      <td>Loopback0</td>\n",
       "      <td>1.1.1.1</td>\n",
       "      <td>32</td>\n",
       "      <td>True</td>\n",
       "    </tr>\n",
       "    <tr>\n",
       "      <th>22</th>\n",
       "      <td>as1border2</td>\n",
       "      <td>default</td>\n",
       "      <td>GigabitEthernet1/0</td>\n",
       "      <td>1.0.2.1</td>\n",
       "      <td>24</td>\n",
       "      <td>True</td>\n",
       "    </tr>\n",
       "    <tr>\n",
       "      <th>27</th>\n",
       "      <td>as1border2</td>\n",
       "      <td>default</td>\n",
       "      <td>Loopback0</td>\n",
       "      <td>1.2.2.2</td>\n",
       "      <td>32</td>\n",
       "      <td>True</td>\n",
       "    </tr>\n",
       "    <tr>\n",
       "      <th>28</th>\n",
       "      <td>as1core1</td>\n",
       "      <td>default</td>\n",
       "      <td>Loopback0</td>\n",
       "      <td>1.10.1.1</td>\n",
       "      <td>32</td>\n",
       "      <td>True</td>\n",
       "    </tr>\n",
       "    <tr>\n",
       "      <th>33</th>\n",
       "      <td>as1border2</td>\n",
       "      <td>default</td>\n",
       "      <td>GigabitEthernet2/0</td>\n",
       "      <td>10.14.22.1</td>\n",
       "      <td>24</td>\n",
       "      <td>True</td>\n",
       "    </tr>\n",
       "    <tr>\n",
       "      <th>45</th>\n",
       "      <td>as1core1</td>\n",
       "      <td>default</td>\n",
       "      <td>GigabitEthernet0/0</td>\n",
       "      <td>1.0.2.2</td>\n",
       "      <td>24</td>\n",
       "      <td>True</td>\n",
       "    </tr>\n",
       "    <tr>\n",
       "      <th>46</th>\n",
       "      <td>host1</td>\n",
       "      <td>default</td>\n",
       "      <td>eth0</td>\n",
       "      <td>2.128.0.101</td>\n",
       "      <td>24</td>\n",
       "      <td>True</td>\n",
       "    </tr>\n",
       "    <tr>\n",
       "      <th>47</th>\n",
       "      <td>as1core1</td>\n",
       "      <td>default</td>\n",
       "      <td>GigabitEthernet1/0</td>\n",
       "      <td>1.0.1.2</td>\n",
       "      <td>24</td>\n",
       "      <td>True</td>\n",
       "    </tr>\n",
       "  </tbody>\n",
       "</table>\n",
       "</div>"
      ],
      "text/plain": [
       "          Node      VRF           Interface           IP  Mask  Active\n",
       "8   as1border1  default  GigabitEthernet1/0   10.12.11.1    24    True\n",
       "14  as1border2  default  GigabitEthernet0/0   10.13.22.1    24    True\n",
       "15  as1border1  default  GigabitEthernet0/0      1.0.1.1    24    True\n",
       "20  as1border1  default           Loopback0      1.1.1.1    32    True\n",
       "22  as1border2  default  GigabitEthernet1/0      1.0.2.1    24    True\n",
       "27  as1border2  default           Loopback0      1.2.2.2    32    True\n",
       "28    as1core1  default           Loopback0     1.10.1.1    32    True\n",
       "33  as1border2  default  GigabitEthernet2/0   10.14.22.1    24    True\n",
       "45    as1core1  default  GigabitEthernet0/0      1.0.2.2    24    True\n",
       "46       host1  default                eth0  2.128.0.101    24    True\n",
       "47    as1core1  default  GigabitEthernet1/0      1.0.1.2    24    True"
      ]
     },
     "execution_count": 2,
     "metadata": {},
     "output_type": "execute_result"
    }
   ],
   "source": [
    "# Show IP Owners for host1 and devices in AS1\n",
    "ip_owners = bfq.ipOwners().answer().frame()\n",
    "ip_owners[ip_owners['Node'].apply(lambda hostname: 'as1' in hostname or hostname == 'host1')]"
   ]
  },
  {
   "cell_type": "markdown",
   "metadata": {},
   "source": [
    "### Verifying that ACLs will not block DNS requests to `host1`\n",
    "\n",
    "Suppose `as1core1` sends a DNS request destined for DNS server `host1`. Let's first run Test Filters on ACL `OUTSIDE_TO_INSIDE` to check that it will permit such a packet.\n",
    "\n",
    "The result shows that the second line of `OUTSIDE_TO_INSIDE` matches and permits DNS packets. Since that line, `permit ip any any`, will also permit many packets that should not reach `host1`, let's also check ACL `filter::INPUT` on `host1`."
   ]
  },
  {
   "cell_type": "code",
   "execution_count": 3,
   "metadata": {},
   "outputs": [
    {
     "data": {
      "text/html": [
       "<div>\n",
       "<style scoped>\n",
       "    .dataframe tbody tr th:only-of-type {\n",
       "        vertical-align: middle;\n",
       "    }\n",
       "\n",
       "    .dataframe tbody tr th {\n",
       "        vertical-align: top;\n",
       "    }\n",
       "\n",
       "    .dataframe thead th {\n",
       "        text-align: right;\n",
       "    }\n",
       "</style>\n",
       "<table border=\"1\" class=\"dataframe\">\n",
       "  <thead>\n",
       "    <tr style=\"text-align: right;\">\n",
       "      <th></th>\n",
       "      <th>Node</th>\n",
       "      <th>Filter_Name</th>\n",
       "      <th>Flow</th>\n",
       "      <th>Action</th>\n",
       "      <th>Line_Content</th>\n",
       "      <th>Trace</th>\n",
       "    </tr>\n",
       "  </thead>\n",
       "  <tbody>\n",
       "    <tr>\n",
       "      <th>0</th>\n",
       "      <td>as2border1</td>\n",
       "      <td>OUTSIDE_TO_INSIDE</td>\n",
       "      <td>start=as2border1 [1.0.1.2:49152-&gt;2.128.0.101:53 UDP]</td>\n",
       "      <td>PERMIT</td>\n",
       "      <td>permit ip any any</td>\n",
       "      <td>Flow permitted by 'extended ipv4 access-list' named 'OUTSIDE_TO_INSIDE', index 2: permit ip any any</td>\n",
       "    </tr>\n",
       "  </tbody>\n",
       "</table>\n",
       "</div>"
      ],
      "text/plain": [
       "         Node        Filter_Name  \\\n",
       "0  as2border1  OUTSIDE_TO_INSIDE   \n",
       "\n",
       "                                                   Flow  Action  \\\n",
       "0  start=as2border1 [1.0.1.2:49152->2.128.0.101:53 UDP]  PERMIT   \n",
       "\n",
       "        Line_Content  \\\n",
       "0  permit ip any any   \n",
       "\n",
       "                                                                                                 Trace  \n",
       "0  Flow permitted by 'extended ipv4 access-list' named 'OUTSIDE_TO_INSIDE', index 2: permit ip any any  "
      ]
     },
     "execution_count": 3,
     "metadata": {},
     "output_type": "execute_result"
    }
   ],
   "source": [
    "as1core1_ip = \"1.0.1.2\"\n",
    "host1_ip = \"2.128.0.101\"\n",
    "node = \"as2border1\"\n",
    "acl = \"OUTSIDE_TO_INSIDE\"\n",
    "bfq.testfilters(headers=HeaderConstraints(dstIps=host1_ip, srcIps=as1core1_ip, applications=[\"dns\"]), nodes=node, filters=acl).answer().frame()"
   ]
  },
  {
   "cell_type": "markdown",
   "metadata": {},
   "source": [
    "Below is a similar Test Filters result on the input ACL to `host1`. As shown, that filter also permits DNS packets, and the matching line is much more narrowly targeted: it permits UDP traffic to port 53 (i.e. DNS traffic)."
   ]
  },
  {
   "cell_type": "code",
   "execution_count": 4,
   "metadata": {},
   "outputs": [
    {
     "data": {
      "text/html": [
       "<div>\n",
       "<style scoped>\n",
       "    .dataframe tbody tr th:only-of-type {\n",
       "        vertical-align: middle;\n",
       "    }\n",
       "\n",
       "    .dataframe tbody tr th {\n",
       "        vertical-align: top;\n",
       "    }\n",
       "\n",
       "    .dataframe thead th {\n",
       "        text-align: right;\n",
       "    }\n",
       "</style>\n",
       "<table border=\"1\" class=\"dataframe\">\n",
       "  <thead>\n",
       "    <tr style=\"text-align: right;\">\n",
       "      <th></th>\n",
       "      <th>Node</th>\n",
       "      <th>Filter_Name</th>\n",
       "      <th>Flow</th>\n",
       "      <th>Action</th>\n",
       "      <th>Line_Content</th>\n",
       "      <th>Trace</th>\n",
       "    </tr>\n",
       "  </thead>\n",
       "  <tbody>\n",
       "    <tr>\n",
       "      <th>0</th>\n",
       "      <td>host1</td>\n",
       "      <td>filter::INPUT</td>\n",
       "      <td>start=host1 [1.0.1.2:49152-&gt;2.128.0.101:53 UDP]</td>\n",
       "      <td>PERMIT</td>\n",
       "      <td>-p udp --dport 53 -j ACCEPT</td>\n",
       "      <td>Flow permitted by ACL named 'filter::INPUT', index 0: -p udp --dport 53 -j ACCEPT</td>\n",
       "    </tr>\n",
       "  </tbody>\n",
       "</table>\n",
       "</div>"
      ],
      "text/plain": [
       "    Node    Filter_Name                                             Flow  \\\n",
       "0  host1  filter::INPUT  start=host1 [1.0.1.2:49152->2.128.0.101:53 UDP]   \n",
       "\n",
       "   Action                 Line_Content  \\\n",
       "0  PERMIT  -p udp --dport 53 -j ACCEPT   \n",
       "\n",
       "                                                                               Trace  \n",
       "0  Flow permitted by ACL named 'filter::INPUT', index 0: -p udp --dport 53 -j ACCEPT  "
      ]
     },
     "execution_count": 4,
     "metadata": {},
     "output_type": "execute_result"
    }
   ],
   "source": [
    "node = \"host1\"\n",
    "acl = \"filter::INPUT\"\n",
    "bfq.testfilters(headers=HeaderConstraints(dstIps=host1_ip, srcIps=as1core1_ip, applications=[\"dns\"]), nodes=node, filters=acl).answer().frame()"
   ]
  },
  {
   "cell_type": "markdown",
   "metadata": {},
   "source": [
    "### Checking that an HTTP packet will be dropped\n",
    "Meanwhile, other traffic from `AS1` should not reach `host1`. Let's run Test Filters with an HTTP packet to check. This time we will specify both ACLs in the regex parameters so that we can run one check to see both results.\n",
    "\n",
    "As with the DNS packet, `OUTSIDE_TO_INSIDE` permits the HTTP packet when it matches line `permit ip any any`. However, the input filter of `host1` has no matching line and therefore drops the packet."
   ]
  },
  {
   "cell_type": "code",
   "execution_count": 5,
   "metadata": {},
   "outputs": [
    {
     "data": {
      "text/html": [
       "<div>\n",
       "<style scoped>\n",
       "    .dataframe tbody tr th:only-of-type {\n",
       "        vertical-align: middle;\n",
       "    }\n",
       "\n",
       "    .dataframe tbody tr th {\n",
       "        vertical-align: top;\n",
       "    }\n",
       "\n",
       "    .dataframe thead th {\n",
       "        text-align: right;\n",
       "    }\n",
       "</style>\n",
       "<table border=\"1\" class=\"dataframe\">\n",
       "  <thead>\n",
       "    <tr style=\"text-align: right;\">\n",
       "      <th></th>\n",
       "      <th>Node</th>\n",
       "      <th>Filter_Name</th>\n",
       "      <th>Flow</th>\n",
       "      <th>Action</th>\n",
       "      <th>Line_Content</th>\n",
       "      <th>Trace</th>\n",
       "    </tr>\n",
       "  </thead>\n",
       "  <tbody>\n",
       "    <tr>\n",
       "      <th>0</th>\n",
       "      <td>host1</td>\n",
       "      <td>filter::INPUT</td>\n",
       "      <td>start=host1 [1.0.1.2:49152-&gt;2.128.0.101:80 TCP]</td>\n",
       "      <td>DENY</td>\n",
       "      <td>default</td>\n",
       "      <td>Flow denied by ACL named 'filter::INPUT', index 2: default</td>\n",
       "    </tr>\n",
       "    <tr>\n",
       "      <th>1</th>\n",
       "      <td>as2border1</td>\n",
       "      <td>OUTSIDE_TO_INSIDE</td>\n",
       "      <td>start=as2border1 [1.0.1.2:49152-&gt;2.128.0.101:80 TCP]</td>\n",
       "      <td>PERMIT</td>\n",
       "      <td>permit ip any any</td>\n",
       "      <td>Flow permitted by 'extended ipv4 access-list' named 'OUTSIDE_TO_INSIDE', index 2: permit ip any any</td>\n",
       "    </tr>\n",
       "  </tbody>\n",
       "</table>\n",
       "</div>"
      ],
      "text/plain": [
       "         Node        Filter_Name  \\\n",
       "0       host1      filter::INPUT   \n",
       "1  as2border1  OUTSIDE_TO_INSIDE   \n",
       "\n",
       "                                                   Flow  Action  \\\n",
       "0       start=host1 [1.0.1.2:49152->2.128.0.101:80 TCP]    DENY   \n",
       "1  start=as2border1 [1.0.1.2:49152->2.128.0.101:80 TCP]  PERMIT   \n",
       "\n",
       "        Line_Content  \\\n",
       "0            default   \n",
       "1  permit ip any any   \n",
       "\n",
       "                                                                                                 Trace  \n",
       "0                                           Flow denied by ACL named 'filter::INPUT', index 2: default  \n",
       "1  Flow permitted by 'extended ipv4 access-list' named 'OUTSIDE_TO_INSIDE', index 2: permit ip any any  "
      ]
     },
     "execution_count": 5,
     "metadata": {},
     "output_type": "execute_result"
    }
   ],
   "source": [
    "nodes = \"as2border1|host1\"\n",
    "acls = \"OUTSIDE_TO_INSIDE|filter::INPUT\"\n",
    "bfq.testfilters(headers=HeaderConstraints(dstIps=host1_ip, srcIps=as1core1_ip, applications=[\"http\"]), nodes=nodes, filters=acls).answer().frame()"
   ]
  },
  {
   "cell_type": "markdown",
   "metadata": {},
   "source": [
    "### Examining ACL behavior for other traffic from `AS1` to `host1`\n",
    "\n",
    "We can run several more Test Filters checks programmatically to look for other permitted flows. The next cell examines what happens to some other packets from `as1core1` destined for `host1`.\n",
    "\n",
    "The result shows that DNS packets are permitted (UDP to port 53), as well as SSH packets (TCP to port 22). We do want `AS1` devices to be able to reach `host1` via SSH, so that is expected. All other packets tested are denied by one of the two ACLs along the path to `host1`."
   ]
  },
  {
   "cell_type": "code",
   "execution_count": 6,
   "metadata": {},
   "outputs": [
    {
     "name": "stdout",
     "output_type": "stream",
     "text": [
      "Permitted: tcp on port 22\n",
      "Permitted: udp on port 53\n",
      "Denied: tcp on ports 1, 20, 25, 80, 156, 179, 389, 443, 444\n",
      "Denied: udp on ports 7, 13, 37, 42, 49, 107, 123, 156, 161\n"
     ]
    }
   ],
   "source": [
    "common_ports = {\n",
    "    'tcp': [1, 20, 22, 25, 80, 156, 179, 389, 443, 444],\n",
    "    'udp': [7, 13, 37, 42, 49, 53, 107, 123, 156, 161]\n",
    "}\n",
    "denied = {'tcp': [], 'udp': []}\n",
    "\n",
    "for protocol in common_ports:\n",
    "    for port in common_ports[protocol]:\n",
    "\n",
    "        # Run Test Filters with the packet specified by protocol and port\n",
    "        test_filters_result = bfq.testfilters(headers=HeaderConstraints(dstIps=host1_ip, srcIps=as1core1_ip, ipProtocols=[protocol], dstPorts=[port]), nodes=nodes, filters=acls).answer().frame()\n",
    "\n",
    "        # Create a filtered version of the result that only contains the ACLs that denied the packet\n",
    "        denies_only = test_filters_result[test_filters_result['Action'].apply(lambda action:'DENY' == action)]\n",
    "\n",
    "        # If the filtered result is empty, then no ACLs denied the packet. Report that host1 accepted it.\n",
    "        if len(denies_only) == 0:\n",
    "            print(\"Permitted: {} on port {}\".format(protocol, port))\n",
    "        else:\n",
    "            denied[protocol].append(port)\n",
    "\n",
    "for protocol in denied:\n",
    "    print(\"Denied: {} on ports {}\".format(protocol, ', '.join([str(port) for port in denied[protocol]])))"
   ]
  },
  {
   "cell_type": "markdown",
   "metadata": {},
   "source": [
    "## Ensuring all ACL lines are reachable\n",
    "\n",
    "When debugging or editing ACLs, it can be useful to confirm that every line is reachable -- that is, it matches some set of packets that don't match earlier lines. Often unreachable ACL lines are symptomatic of past edits to the ACL that did not achieve their intent.\n",
    "\n",
    "The ACL Reachability question (`bfq.aclReachability`) identifies unreachable ACL lines. Given no parameters, it will check every ACL in the network, but the scope can be narrowed down using parameters `filters` and `nodes` (see [documentation](https://pybatfish.readthedocs.io/en/latest/questions.html#pybatfish.question.bfq.aclReachability)).\n",
    "\n",
    "For now, let's take a look at all the ACLs in the network."
   ]
  },
  {
   "cell_type": "code",
   "execution_count": 7,
   "metadata": {},
   "outputs": [
    {
     "data": {
      "text/html": [
       "<div>\n",
       "<style scoped>\n",
       "    .dataframe tbody tr th:only-of-type {\n",
       "        vertical-align: middle;\n",
       "    }\n",
       "\n",
       "    .dataframe tbody tr th {\n",
       "        vertical-align: top;\n",
       "    }\n",
       "\n",
       "    .dataframe thead th {\n",
       "        text-align: right;\n",
       "    }\n",
       "</style>\n",
       "<table border=\"1\" class=\"dataframe\">\n",
       "  <thead>\n",
       "    <tr style=\"text-align: right;\">\n",
       "      <th></th>\n",
       "      <th>ACL_Sources</th>\n",
       "      <th>Lines</th>\n",
       "      <th>Blocked_Line_Num</th>\n",
       "      <th>Blocked_Line_Action</th>\n",
       "      <th>Blocking_Line_Nums</th>\n",
       "      <th>Different_Action</th>\n",
       "      <th>Reason</th>\n",
       "      <th>Message</th>\n",
       "    </tr>\n",
       "  </thead>\n",
       "  <tbody>\n",
       "    <tr>\n",
       "      <th>0</th>\n",
       "      <td>[as2dept1: RESTRICT_HOST_TRAFFIC_IN]</td>\n",
       "      <td>[permit ip 2.128.0.0 0.0.255.255 any, deny   ip any any, permit icmp any any]</td>\n",
       "      <td>2</td>\n",
       "      <td>PERMIT</td>\n",
       "      <td>[0, 1]</td>\n",
       "      <td>True</td>\n",
       "      <td>BLOCKING_LINES</td>\n",
       "      <td>ACLs { as2dept1: RESTRICT_HOST_TRAFFIC_IN } contain an unreachable line:\\n  [index 2] permit icmp any any\\nBlocking line(s):\\n  [index 0] permit ip 2.128.0.0 0.0.255.255 any\\n  [index 1] deny   ip any any</td>\n",
       "    </tr>\n",
       "    <tr>\n",
       "      <th>1</th>\n",
       "      <td>[as2dept1: RESTRICT_HOST_TRAFFIC_OUT]</td>\n",
       "      <td>[permit ip any 2.128.0.0 0.0.255.255, deny   ip 1.128.0.0 0.0.255.255 2.128.0.0 0.0.255.255, deny   ip any any]</td>\n",
       "      <td>1</td>\n",
       "      <td>DENY</td>\n",
       "      <td>[0]</td>\n",
       "      <td>True</td>\n",
       "      <td>BLOCKING_LINES</td>\n",
       "      <td>ACLs { as2dept1: RESTRICT_HOST_TRAFFIC_OUT } contain an unreachable line:\\n  [index 1] deny   ip 1.128.0.0 0.0.255.255 2.128.0.0 0.0.255.255\\nBlocking line(s):\\n  [index 0] permit ip any 2.128.0.0 0.0.255.255</td>\n",
       "    </tr>\n",
       "  </tbody>\n",
       "</table>\n",
       "</div>"
      ],
      "text/plain": [
       "                             ACL_Sources  \\\n",
       "0   [as2dept1: RESTRICT_HOST_TRAFFIC_IN]   \n",
       "1  [as2dept1: RESTRICT_HOST_TRAFFIC_OUT]   \n",
       "\n",
       "                                                                                                             Lines  \\\n",
       "0                                    [permit ip 2.128.0.0 0.0.255.255 any, deny   ip any any, permit icmp any any]   \n",
       "1  [permit ip any 2.128.0.0 0.0.255.255, deny   ip 1.128.0.0 0.0.255.255 2.128.0.0 0.0.255.255, deny   ip any any]   \n",
       "\n",
       "   Blocked_Line_Num Blocked_Line_Action Blocking_Line_Nums  Different_Action  \\\n",
       "0                 2              PERMIT             [0, 1]              True   \n",
       "1                 1                DENY                [0]              True   \n",
       "\n",
       "           Reason  \\\n",
       "0  BLOCKING_LINES   \n",
       "1  BLOCKING_LINES   \n",
       "\n",
       "                                                                                                                                                                                                            Message  \n",
       "0      ACLs { as2dept1: RESTRICT_HOST_TRAFFIC_IN } contain an unreachable line:\\n  [index 2] permit icmp any any\\nBlocking line(s):\\n  [index 0] permit ip 2.128.0.0 0.0.255.255 any\\n  [index 1] deny   ip any any  \n",
       "1  ACLs { as2dept1: RESTRICT_HOST_TRAFFIC_OUT } contain an unreachable line:\\n  [index 1] deny   ip 1.128.0.0 0.0.255.255 2.128.0.0 0.0.255.255\\nBlocking line(s):\\n  [index 0] permit ip any 2.128.0.0 0.0.255.255  "
      ]
     },
     "execution_count": 7,
     "metadata": {},
     "output_type": "execute_result"
    }
   ],
   "source": [
    "acl_reach_answer = bfq.aclReachability().answer().frame()\n",
    "acl_reach_answer"
   ]
  },
  {
   "cell_type": "markdown",
   "metadata": {},
   "source": [
    "### Examining ACL reachability results\n",
    "The answer identifies 2 unreachable lines. Let's take a closer look at the first one, line 2 in ACL `RESTRICT_HOST_TRAFFIC_IN` on node `as2dept1`. The `lines` column contains all the lines of the ACL, so the blocked and blocking lines can be found programmatically using their line numbers. The `message` column provides a human-readable result summary."
   ]
  },
  {
   "cell_type": "code",
   "execution_count": 8,
   "metadata": {},
   "outputs": [
    {
     "name": "stdout",
     "output_type": "stream",
     "text": [
      "Results based on looking up lines in lines column:\n",
      "Blocked line: permit icmp any any\n",
      "Blocking line(s): ['permit ip 2.128.0.0 0.0.255.255 any', 'deny   ip any any']\n",
      "\n",
      "Message column:\n",
      "ACLs { as2dept1: RESTRICT_HOST_TRAFFIC_IN } contain an unreachable line:\n",
      "  [index 2] permit icmp any any\n",
      "Blocking line(s):\n",
      "  [index 0] permit ip 2.128.0.0 0.0.255.255 any\n",
      "  [index 1] deny   ip any any\n"
     ]
    }
   ],
   "source": [
    "# Pull out first result\n",
    "first_result = acl_reach_answer.iloc[0]\n",
    "\n",
    "# Find the blocked and blocking lines from the lines column\n",
    "lines = first_result['Lines']\n",
    "blocking_nums = first_result['Blocking_Line_Nums']\n",
    "blocked_num = first_result['Blocked_Line_Num']\n",
    "blocking_lines = [lines[int(n)] for n in blocking_nums]\n",
    "blocked_line = lines[blocked_num]\n",
    "print('Results based on looking up lines in lines column:')\n",
    "print('Blocked line: ' + blocked_line)\n",
    "print('Blocking line(s): ' + str(blocking_lines))\n",
    "print()\n",
    "\n",
    "# Show the human-readable message\n",
    "print(\"Message column:\")\n",
    "print(first_result['Message'])"
   ]
  },
  {
   "cell_type": "markdown",
   "metadata": {},
   "source": [
    "In this case, the line is unreachable because previous line `deny ip any any` matches and denies all packets that `permit icmp any any` would have permitted. ACL Reachability also identifies:\n",
    "- inherently unmatchable lines\n",
    "- unreachable lines blocked by multiple partially blocking lines\n",
    "- lines that have an uncertain impact because they contain an undefined or circular reference"
   ]
  },
  {
   "cell_type": "markdown",
   "metadata": {},
   "source": [
    "## Get involved with the Batfish community\n",
    "\n",
    "Thanks for checking out our ACL debugging examples! To get involved and learn more, check out the community on [Slack](https://join.slack.com/t/batfish-org/shared_invite/enQtMzA0Nzg2OTAzNzQ1LTUxOTJlY2YyNTVlNGQ3MTJkOTIwZTU2YjY3YzRjZWFiYzE4ODE5ODZiNjA4NGI5NTJhZmU2ZTllOTMwZDhjMzA) and [Github](https://github.com/batfish/batfish). We would love to talk with you about Batfish or your network!"
   ]
  }
 ],
 "metadata": {
  "hide_input": false,
  "kernelspec": {
   "display_name": "Python 3",
   "language": "python",
   "name": "python3"
  },
  "language_info": {
   "codemirror_mode": {
    "name": "ipython",
    "version": 3
   },
   "file_extension": ".py",
   "mimetype": "text/x-python",
   "name": "python",
   "nbconvert_exporter": "python",
   "pygments_lexer": "ipython3",
   "version": "3.6.4"
  }
 },
 "nbformat": 4,
 "nbformat_minor": 2
}
