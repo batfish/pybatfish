{
 "cells": [
  {
   "cell_type": "markdown",
   "metadata": {},
   "source": [
    "# ACL debugging with Batfish\n",
    "\n",
    "This notebook contains examples to help answer some common questions about ACLs:\n",
    "- What will a given ACL do with some packet? Which line in the ACL permits/denies the packet?\n",
    "- Do any ACLs have lines that are unreachable by any packet?\n",
    "\n",
    "The example network used in this notebook is shown below.\n",
    "\n",
    "![example-network](https://raw.githubusercontent.com/batfish/batfish/master/test_rigs/example/example-network.png)"
   ]
  },
  {
   "cell_type": "code",
   "execution_count": null,
   "metadata": {},
   "outputs": [],
   "source": [
    "# Initialize a network and snapshot\n",
    "%run startup.py\n",
    "\n",
    "NETWORK_NAME = \"acl_debugging_network\"\n",
    "SNAPSHOT_NAME = \"example_snapshot\"\n",
    "SNAPSHOT_PATH = \"../test_rigs/example\"\n",
    "\n",
    "bf_set_network(NETWORK_NAME)\n",
    "try:\n",
    "    bf_init_snapshot(SNAPSHOT_PATH, name=SNAPSHOT_NAME)\n",
    "except BatfishException:\n",
    "    bf_set_snapshot(SNAPSHOT_NAME)"
   ]
  },
  {
   "cell_type": "markdown",
   "metadata": {},
   "source": [
    "## Debugging flow for a given packet\n",
    "\n",
    "The `tracefilters` question is helpful for spot-checking that particular packets are permitted or denied by a given ACL. For example, `host1` in our sample network is a DNS server, so ACLs should permit DNS packets destined for `host1`. Let's confirm that using `tracefilters`.\n",
    "\n",
    "### Parameters of tracefilters\n",
    "\n",
    "The `tracefilters` question takes in the properties of a flow and a set of ACLs to trace. The answer shows what each ACL will do to that flow and why.\n",
    "\n",
    "To specify the flow, you must provide the source IP address `srcIp` and the destination `dst` (hostname or IP address). Optionally, you can also specify IP protocols, ports, TCP flags, ICMP codes, and other properties ([see documentation for details](https://pybatfish.readthedocs.io/en/latest/questions.html#pybatfish.question.bfq.tracefilters)). The question will fill in any unspecified flow properties with default values.\n",
    "\n",
    "The set of ACLs to examine can be narrowed down using two optional parameters:\n",
    "- `nodeRegex` specifies the ACLs present on the set of nodes matching the given regex\n",
    "- `filterRegex` specifies ACLs with names matching the given regex\n",
    "\n",
    "There are also many optional parameters that specify the packet to examine. Check out the [documentation](https://pybatfish.readthedocs.io/en/latest/questions.html#pybatfish.question.bfq.tracefilters) for details.\n",
    "\n",
    "#### Tip: Pull up a table of hostnames to IP addresses to help fill in `srcIp` and `dst`\n",
    "`nodeProperties` achieves this nicely:"
   ]
  },
  {
   "cell_type": "code",
   "execution_count": 13,
   "metadata": {},
   "outputs": [
    {
     "data": {
      "text/html": [
       "<div>\n",
       "<style scoped>\n",
       "    .dataframe tbody tr th:only-of-type {\n",
       "        vertical-align: middle;\n",
       "    }\n",
       "\n",
       "    .dataframe tbody tr th {\n",
       "        vertical-align: top;\n",
       "    }\n",
       "\n",
       "    .dataframe thead th {\n",
       "        text-align: right;\n",
       "    }\n",
       "</style>\n",
       "<table border=\"1\" class=\"dataframe\">\n",
       "  <thead>\n",
       "    <tr style=\"text-align: right;\">\n",
       "      <th></th>\n",
       "      <th>node</th>\n",
       "      <th>canonical-ip</th>\n",
       "    </tr>\n",
       "  </thead>\n",
       "  <tbody>\n",
       "    <tr>\n",
       "      <th>0</th>\n",
       "      <td>as1border1</td>\n",
       "      <td>1.0.1.1</td>\n",
       "    </tr>\n",
       "    <tr>\n",
       "      <th>1</th>\n",
       "      <td>as1border2</td>\n",
       "      <td>1.0.2.1</td>\n",
       "    </tr>\n",
       "    <tr>\n",
       "      <th>2</th>\n",
       "      <td>as1core1</td>\n",
       "      <td>1.0.1.2</td>\n",
       "    </tr>\n",
       "    <tr>\n",
       "      <th>3</th>\n",
       "      <td>as2border1</td>\n",
       "      <td>2.1.1.1</td>\n",
       "    </tr>\n",
       "    <tr>\n",
       "      <th>4</th>\n",
       "      <td>as2border2</td>\n",
       "      <td>2.1.1.2</td>\n",
       "    </tr>\n",
       "    <tr>\n",
       "      <th>5</th>\n",
       "      <td>as2core1</td>\n",
       "      <td>2.1.2.1</td>\n",
       "    </tr>\n",
       "    <tr>\n",
       "      <th>6</th>\n",
       "      <td>as2core2</td>\n",
       "      <td>2.1.2.2</td>\n",
       "    </tr>\n",
       "    <tr>\n",
       "      <th>7</th>\n",
       "      <td>as2dept1</td>\n",
       "      <td>2.1.1.2</td>\n",
       "    </tr>\n",
       "    <tr>\n",
       "      <th>8</th>\n",
       "      <td>as2dist1</td>\n",
       "      <td>2.1.3.1</td>\n",
       "    </tr>\n",
       "    <tr>\n",
       "      <th>9</th>\n",
       "      <td>as2dist2</td>\n",
       "      <td>2.1.3.2</td>\n",
       "    </tr>\n",
       "    <tr>\n",
       "      <th>10</th>\n",
       "      <td>as3border1</td>\n",
       "      <td>3.0.1.1</td>\n",
       "    </tr>\n",
       "    <tr>\n",
       "      <th>11</th>\n",
       "      <td>as3border2</td>\n",
       "      <td>3.0.2.1</td>\n",
       "    </tr>\n",
       "    <tr>\n",
       "      <th>12</th>\n",
       "      <td>as3core1</td>\n",
       "      <td>3.0.1.2</td>\n",
       "    </tr>\n",
       "    <tr>\n",
       "      <th>13</th>\n",
       "      <td>host1</td>\n",
       "      <td>2.128.0.101</td>\n",
       "    </tr>\n",
       "    <tr>\n",
       "      <th>14</th>\n",
       "      <td>host2</td>\n",
       "      <td>2.128.1.101</td>\n",
       "    </tr>\n",
       "  </tbody>\n",
       "</table>\n",
       "</div>"
      ],
      "text/plain": [
       "          node canonical-ip\n",
       "0   as1border1      1.0.1.1\n",
       "1   as1border2      1.0.2.1\n",
       "2     as1core1      1.0.1.2\n",
       "3   as2border1      2.1.1.1\n",
       "4   as2border2      2.1.1.2\n",
       "5     as2core1      2.1.2.1\n",
       "6     as2core2      2.1.2.2\n",
       "7     as2dept1      2.1.1.2\n",
       "8     as2dist1      2.1.3.1\n",
       "9     as2dist2      2.1.3.2\n",
       "10  as3border1      3.0.1.1\n",
       "11  as3border2      3.0.2.1\n",
       "12    as3core1      3.0.1.2\n",
       "13       host1  2.128.0.101\n",
       "14       host2  2.128.1.101"
      ]
     },
     "execution_count": 13,
     "metadata": {},
     "output_type": "execute_result"
    }
   ],
   "source": [
    "bfq.nodeProperties(nodeRegex=\".*\", propertySpec=\"canonical-ip\").answer().frame()"
   ]
  },
  {
   "cell_type": "markdown",
   "metadata": {},
   "source": [
    "### Verifying that ACLs will not block DNS requests to `host1`\n",
    "\n",
    "Suppose `as1core1` sends a DNS request destined for DNS server `host1`. The packet will need to pass through `as1border1`, `as2border1`, `as2core1`, `as2dist1`, and `as2dept1`. It will hit the following ACLs:\n",
    "- Entering `as2border1`: `OUTSIDE_TO_INSIDE`\n",
    "- Entering `host1`: `filter::INPUT`\n",
    "\n",
    "Running `tracefilters` for a DNS packet going from `as1core1` to `host1` shows that the packet is accepted by both ACLs, as expected. It also shows which line in each ACL accepts the packet."
   ]
  },
  {
   "cell_type": "code",
   "execution_count": 14,
   "metadata": {},
   "outputs": [
    {
     "data": {
      "text/html": [
       "<div>\n",
       "<style scoped>\n",
       "    .dataframe tbody tr th:only-of-type {\n",
       "        vertical-align: middle;\n",
       "    }\n",
       "\n",
       "    .dataframe tbody tr th {\n",
       "        vertical-align: top;\n",
       "    }\n",
       "\n",
       "    .dataframe thead th {\n",
       "        text-align: right;\n",
       "    }\n",
       "</style>\n",
       "<table border=\"1\" class=\"dataframe\">\n",
       "  <thead>\n",
       "    <tr style=\"text-align: right;\">\n",
       "      <th></th>\n",
       "      <th>node</th>\n",
       "      <th>filterName</th>\n",
       "      <th>flow</th>\n",
       "      <th>action</th>\n",
       "      <th>lineNumber</th>\n",
       "      <th>lineContent</th>\n",
       "      <th>trace</th>\n",
       "    </tr>\n",
       "  </thead>\n",
       "  <tbody>\n",
       "    <tr>\n",
       "      <th>0</th>\n",
       "      <td>as2border1</td>\n",
       "      <td>OUTSIDE_TO_INSIDE</td>\n",
       "      <td>as2border1-&gt;[:1.0.1.2-&gt;0:2.128.0.101 proto: 53 dscp:UDP ecn:0 fragOff:0 length:0 state:0 flags: NEW</td>\n",
       "      <td>ACCEPT</td>\n",
       "      <td>2</td>\n",
       "      <td>permit ip any any</td>\n",
       "      <td>Flow permitted by 'extended ipv4 access-list' named 'OUTSIDE_TO_INSIDE', index 2: permit ip any any</td>\n",
       "    </tr>\n",
       "    <tr>\n",
       "      <th>1</th>\n",
       "      <td>host1</td>\n",
       "      <td>filter::INPUT</td>\n",
       "      <td>host1-&gt;[:1.0.1.2-&gt;0:2.128.0.101 proto: 53 dscp:UDP ecn:0 fragOff:0 length:0 state:0 flags: NEW</td>\n",
       "      <td>ACCEPT</td>\n",
       "      <td>0</td>\n",
       "      <td>-p udp --dport 53 -j ACCEPT</td>\n",
       "      <td>Flow permitted by ACL named 'filter::INPUT', index 0: -p udp --dport 53 -j ACCEPT</td>\n",
       "    </tr>\n",
       "  </tbody>\n",
       "</table>\n",
       "</div>"
      ],
      "text/plain": [
       "         node         filterName  \\\n",
       "0  as2border1  OUTSIDE_TO_INSIDE   \n",
       "1       host1      filter::INPUT   \n",
       "\n",
       "                                                                                                  flow  \\\n",
       "0  as2border1->[:1.0.1.2->0:2.128.0.101 proto: 53 dscp:UDP ecn:0 fragOff:0 length:0 state:0 flags: NEW   \n",
       "1       host1->[:1.0.1.2->0:2.128.0.101 proto: 53 dscp:UDP ecn:0 fragOff:0 length:0 state:0 flags: NEW   \n",
       "\n",
       "   action  lineNumber                  lineContent  \\\n",
       "0  ACCEPT           2            permit ip any any   \n",
       "1  ACCEPT           0  -p udp --dport 53 -j ACCEPT   \n",
       "\n",
       "                                                                                                 trace  \n",
       "0  Flow permitted by 'extended ipv4 access-list' named 'OUTSIDE_TO_INSIDE', index 2: permit ip any any  \n",
       "1                    Flow permitted by ACL named 'filter::INPUT', index 0: -p udp --dport 53 -j ACCEPT  "
      ]
     },
     "execution_count": 14,
     "metadata": {},
     "output_type": "execute_result"
    }
   ],
   "source": [
    "host1_ip = \"2.128.0.101\"\n",
    "as1core1_ip = \"1.0.1.2\"\n",
    "nodes = \"as2border1|host1\"\n",
    "acls = \"OUTSIDE_TO_INSIDE|filter::INPUT\"\n",
    "bfq.tracefilters(dst=host1_ip, srcIp=as1core1_ip, nodeRegex=nodes, filterRegex=acls, dstProtocol=\"dns\").answer().frame()"
   ]
  },
  {
   "cell_type": "markdown",
   "metadata": {},
   "source": [
    "### Verifying ACLs will not block SSH requests to `host1`\n",
    "We would also like for `host1` to be reachable from `as1core1` by SSH. We can check that the ACLs will permit SSH packets using a similar `tracefilter` question:"
   ]
  },
  {
   "cell_type": "code",
   "execution_count": 15,
   "metadata": {},
   "outputs": [
    {
     "data": {
      "text/html": [
       "<div>\n",
       "<style scoped>\n",
       "    .dataframe tbody tr th:only-of-type {\n",
       "        vertical-align: middle;\n",
       "    }\n",
       "\n",
       "    .dataframe tbody tr th {\n",
       "        vertical-align: top;\n",
       "    }\n",
       "\n",
       "    .dataframe thead th {\n",
       "        text-align: right;\n",
       "    }\n",
       "</style>\n",
       "<table border=\"1\" class=\"dataframe\">\n",
       "  <thead>\n",
       "    <tr style=\"text-align: right;\">\n",
       "      <th></th>\n",
       "      <th>node</th>\n",
       "      <th>filterName</th>\n",
       "      <th>flow</th>\n",
       "      <th>action</th>\n",
       "      <th>lineNumber</th>\n",
       "      <th>lineContent</th>\n",
       "      <th>trace</th>\n",
       "    </tr>\n",
       "  </thead>\n",
       "  <tbody>\n",
       "    <tr>\n",
       "      <th>0</th>\n",
       "      <td>as2border1</td>\n",
       "      <td>OUTSIDE_TO_INSIDE</td>\n",
       "      <td>as2border1-&gt;[:1.0.1.2-&gt;0:2.128.0.101 proto: 22 dscp:TCP ecn:0 fragOff:0 length:0 state:0 flags: NEW</td>\n",
       "      <td>ACCEPT</td>\n",
       "      <td>2</td>\n",
       "      <td>permit ip any any</td>\n",
       "      <td>Flow permitted by 'extended ipv4 access-list' named 'OUTSIDE_TO_INSIDE', index 2: permit ip any any</td>\n",
       "    </tr>\n",
       "    <tr>\n",
       "      <th>1</th>\n",
       "      <td>host1</td>\n",
       "      <td>filter::INPUT</td>\n",
       "      <td>host1-&gt;[:1.0.1.2-&gt;0:2.128.0.101 proto: 22 dscp:TCP ecn:0 fragOff:0 length:0 state:0 flags: NEW</td>\n",
       "      <td>ACCEPT</td>\n",
       "      <td>1</td>\n",
       "      <td>-p tcp --dport 22 -j ACCEPT</td>\n",
       "      <td>Flow permitted by ACL named 'filter::INPUT', index 1: -p tcp --dport 22 -j ACCEPT</td>\n",
       "    </tr>\n",
       "  </tbody>\n",
       "</table>\n",
       "</div>"
      ],
      "text/plain": [
       "         node         filterName  \\\n",
       "0  as2border1  OUTSIDE_TO_INSIDE   \n",
       "1       host1      filter::INPUT   \n",
       "\n",
       "                                                                                                  flow  \\\n",
       "0  as2border1->[:1.0.1.2->0:2.128.0.101 proto: 22 dscp:TCP ecn:0 fragOff:0 length:0 state:0 flags: NEW   \n",
       "1       host1->[:1.0.1.2->0:2.128.0.101 proto: 22 dscp:TCP ecn:0 fragOff:0 length:0 state:0 flags: NEW   \n",
       "\n",
       "   action  lineNumber                  lineContent  \\\n",
       "0  ACCEPT           2            permit ip any any   \n",
       "1  ACCEPT           1  -p tcp --dport 22 -j ACCEPT   \n",
       "\n",
       "                                                                                                 trace  \n",
       "0  Flow permitted by 'extended ipv4 access-list' named 'OUTSIDE_TO_INSIDE', index 2: permit ip any any  \n",
       "1                    Flow permitted by ACL named 'filter::INPUT', index 1: -p tcp --dport 22 -j ACCEPT  "
      ]
     },
     "execution_count": 15,
     "metadata": {},
     "output_type": "execute_result"
    }
   ],
   "source": [
    "bfq.tracefilters(dst=host1_ip, srcIp=as1core1_ip, nodeRegex=nodes, filterRegex=acls, dstProtocol=\"ssh\").answer().frame()"
   ]
  },
  {
   "cell_type": "markdown",
   "metadata": {},
   "source": [
    "### Confirming that other packets to `host1` will be denied\n",
    "\n",
    "Outside of DNS and SSH, `host1` should not ultimately receive any traffic from `as1core1`. The next cell spot-checks some other packets with `tracefilters` to help confirm this. The only packets found to be accepted by both ACLs are TCP to port 22 (SSH) and UDP to port 53 (DNS)."
   ]
  },
  {
   "cell_type": "code",
   "execution_count": 16,
   "metadata": {},
   "outputs": [
    {
     "name": "stdout",
     "output_type": "stream",
     "text": [
      "Accepted: tcp on port 22\n",
      "Accepted: udp on port 53\n"
     ]
    }
   ],
   "source": [
    "common_ports = {\n",
    "    'tcp': [1, 20, 22, 25, 80, 156, 179, 389, 443, 444],\n",
    "    'udp': [7, 13, 37, 42, 49, 53, 107, 123, 156, 161]\n",
    "}\n",
    "\n",
    "for protocol in common_ports:\n",
    "    for port in common_ports[protocol]:\n",
    "\n",
    "        # Run tracefilters with the packet specified by protocol and port\n",
    "        traceFiltersResult = bfq.tracefilters(dst=host1_ip, srcIp=as1core1_ip, nodeRegex=nodes, filterRegex=acls, dstProtocol=protocol, dstPort=port).answer().frame()\n",
    "\n",
    "        # Create a filtered version of the result that only contains the ACLs that denied the packet\n",
    "        rejectsOnly = traceFiltersResult[traceFiltersResult['action'].apply(lambda action:'REJECT' == action)]\n",
    "\n",
    "        # If the filtered result is empty, then no ACLs denied the packet. Report that host1 accepted it.\n",
    "        if len(rejectsOnly) == 0:\n",
    "            print(\"Accepted: \" + protocol + \" on port \" + str(port))"
   ]
  },
  {
   "cell_type": "markdown",
   "metadata": {},
   "source": [
    "## Ensuring all ACL lines are reachable\n",
    "\n",
    "When debugging or editing ACLs, it can be useful to confirm that every line is reachable -- that is, it matches some set of packets that don't match earlier lines. Often unreachable ACL lines are symptomatic of past edits to the ACL that did not achieve their intent.\n",
    "\n",
    "The `aclReachability` question identifies unreachable ACL lines. Given no parameters, it will check every ACL in the network, but the scope can be narrowed down using parameters `aclNameRegex` and `nodeRegex` (see [documentation](https://pybatfish.readthedocs.io/en/latest/questions.html#pybatfish.question.bfq.aclReachability)).\n",
    "\n",
    "For now, let's take a look at all the ACLs in the network."
   ]
  },
  {
   "cell_type": "code",
   "execution_count": 3,
   "metadata": {},
   "outputs": [
    {
     "data": {
      "text/html": [
       "<div>\n",
       "<style scoped>\n",
       "    .dataframe tbody tr th:only-of-type {\n",
       "        vertical-align: middle;\n",
       "    }\n",
       "\n",
       "    .dataframe tbody tr th {\n",
       "        vertical-align: top;\n",
       "    }\n",
       "\n",
       "    .dataframe thead th {\n",
       "        text-align: right;\n",
       "    }\n",
       "</style>\n",
       "<table border=\"1\" class=\"dataframe\">\n",
       "  <thead>\n",
       "    <tr style=\"text-align: right;\">\n",
       "      <th></th>\n",
       "      <th>aclSources</th>\n",
       "      <th>lines</th>\n",
       "      <th>blockedLineNum</th>\n",
       "      <th>blockingLineNums</th>\n",
       "      <th>differentAction</th>\n",
       "      <th>message</th>\n",
       "    </tr>\n",
       "  </thead>\n",
       "  <tbody>\n",
       "    <tr>\n",
       "      <th>0</th>\n",
       "      <td>[as2dept1: RESTRICT_HOST_TRAFFIC_IN]</td>\n",
       "      <td>[permit ip 2.128.0.0 0.0.255.255 any, deny   ip any any, permit icmp any any]</td>\n",
       "      <td>2</td>\n",
       "      <td>[1]</td>\n",
       "      <td>True</td>\n",
       "      <td>ACLs { as2dept1: RESTRICT_HOST_TRAFFIC_IN } contain an unreachable line:\\n  [index 2] permit icmp any any\\nBlocking line(s):\\n  [index 1] deny   ip any any</td>\n",
       "    </tr>\n",
       "    <tr>\n",
       "      <th>1</th>\n",
       "      <td>[as2dept1: RESTRICT_HOST_TRAFFIC_OUT]</td>\n",
       "      <td>[permit ip any 2.128.0.0 0.0.255.255, deny   ip 1.128.0.0 0.0.255.255 2.128.0.0 0.0.255.255, deny   ip any any]</td>\n",
       "      <td>1</td>\n",
       "      <td>[0]</td>\n",
       "      <td>True</td>\n",
       "      <td>ACLs { as2dept1: RESTRICT_HOST_TRAFFIC_OUT } contain an unreachable line:\\n  [index 1] deny   ip 1.128.0.0 0.0.255.255 2.128.0.0 0.0.255.255\\nBlocking line(s):\\n  [index 0] permit ip any 2.128.0.0 0.0.255.255</td>\n",
       "    </tr>\n",
       "  </tbody>\n",
       "</table>\n",
       "</div>"
      ],
      "text/plain": [
       "                              aclSources  \\\n",
       "0   [as2dept1: RESTRICT_HOST_TRAFFIC_IN]   \n",
       "1  [as2dept1: RESTRICT_HOST_TRAFFIC_OUT]   \n",
       "\n",
       "                                                                                                             lines  \\\n",
       "0                                    [permit ip 2.128.0.0 0.0.255.255 any, deny   ip any any, permit icmp any any]   \n",
       "1  [permit ip any 2.128.0.0 0.0.255.255, deny   ip 1.128.0.0 0.0.255.255 2.128.0.0 0.0.255.255, deny   ip any any]   \n",
       "\n",
       "   blockedLineNum blockingLineNums  differentAction  \\\n",
       "0               2              [1]             True   \n",
       "1               1              [0]             True   \n",
       "\n",
       "                                                                                                                                                                                                            message  \n",
       "0                                                       ACLs { as2dept1: RESTRICT_HOST_TRAFFIC_IN } contain an unreachable line:\\n  [index 2] permit icmp any any\\nBlocking line(s):\\n  [index 1] deny   ip any any  \n",
       "1  ACLs { as2dept1: RESTRICT_HOST_TRAFFIC_OUT } contain an unreachable line:\\n  [index 1] deny   ip 1.128.0.0 0.0.255.255 2.128.0.0 0.0.255.255\\nBlocking line(s):\\n  [index 0] permit ip any 2.128.0.0 0.0.255.255  "
      ]
     },
     "execution_count": 3,
     "metadata": {},
     "output_type": "execute_result"
    }
   ],
   "source": [
    "acl_reach_answer = bfq.aclReachability().answer().frame()\n",
    "acl_reach_answer"
   ]
  },
  {
   "cell_type": "markdown",
   "metadata": {},
   "source": [
    "### Examining ACL reachability results\n",
    "The answer identifies 2 unreachable lines. Let's take a closer look at the first one, line 2 in ACL `RESTRICT_HOST_TRAFFIC_IN` on node `as2dept1`. The `lines` column contains all the lines of the ACL, so the blocked and blocking lines can be found programmatically using their line numbers. The `message` column provides a human-readable result summary."
   ]
  },
  {
   "cell_type": "code",
   "execution_count": 4,
   "metadata": {},
   "outputs": [
    {
     "name": "stdout",
     "output_type": "stream",
     "text": [
      "Results based on looking up lines in lines column:\n",
      "Blocked line: permit icmp any any\n",
      "Blocking line(s): ['deny   ip any any']\n",
      "\n",
      "Message column:\n",
      "ACLs { as2dept1: RESTRICT_HOST_TRAFFIC_IN } contain an unreachable line:\n",
      "  [index 2] permit icmp any any\n",
      "Blocking line(s):\n",
      "  [index 1] deny   ip any any\n"
     ]
    }
   ],
   "source": [
    "# Pull out first result\n",
    "first_result = acl_reach_answer.iloc[0]\n",
    "\n",
    "# Find the blocked and blocking lines from the lines column\n",
    "lines = first_result['lines']\n",
    "blocking_nums = first_result['blockingLineNums']\n",
    "blocked_num = first_result['blockedLineNum']\n",
    "blocking_lines = [lines[int(n)] for n in blocking_nums]\n",
    "blocked_line = lines[blocked_num]\n",
    "print('Results based on looking up lines in lines column:')\n",
    "print('Blocked line: ' + blocked_line)\n",
    "print('Blocking line(s): ' + str(blocking_lines))\n",
    "print()\n",
    "\n",
    "# Show the human-readable message\n",
    "print(\"Message column:\")\n",
    "print(first_result['message'])"
   ]
  },
  {
   "cell_type": "markdown",
   "metadata": {},
   "source": [
    "In this case, the line is unreachable because previous line `deny ip any any` matches and denies all packets that `permit icmp any any` would have permitted. The `aclReachability` question also identifies:\n",
    "- inherently unmatchable lines\n",
    "- unreachable lines blocked by multiple partially blocking lines\n",
    "- lines that have an uncertain impact because they contain an undefined or circular reference"
   ]
  },
  {
   "cell_type": "markdown",
   "metadata": {},
   "source": [
    "## Get involved with the Batfish community\n",
    "\n",
    "Thanks for checking out our ACL debugging examples! To get involved and learn more, check out the community on [Slack](https://join.slack.com/t/batfish-org/shared_invite/enQtMzA0Nzg2OTAzNzQ1LTUxOTJlY2YyNTVlNGQ3MTJkOTIwZTU2YjY3YzRjZWFiYzE4ODE5ODZiNjA4NGI5NTJhZmU2ZTllOTMwZDhjMzA) and [Github](https://github.com/batfish/batfish). We would love to talk with you about Batfish or your network!"
   ]
  }
 ],
 "metadata": {
  "kernelspec": {
   "display_name": "Python 3",
   "language": "python",
   "name": "python3"
  },
  "language_info": {
   "codemirror_mode": {
    "name": "ipython",
    "version": 3
   },
   "file_extension": ".py",
   "mimetype": "text/x-python",
   "name": "python",
   "nbconvert_exporter": "python",
   "pygments_lexer": "ipython3",
   "version": "3.6.4"
  }
 },
 "nbformat": 4,
 "nbformat_minor": 2
}
