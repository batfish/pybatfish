{
 "cells": [
  {
   "cell_type": "markdown",
   "metadata": {},
   "source": [
    "# ACL debugging with Batfish\n",
    "\n",
    "Network engineers are responsible for verifying that the ACLs in their networks are permitting and denying traffic as intended. This generally requires loading each ACL onto a lab device in order to test its behavior on a wide range of packets. Batfish makes it easy to see what each ACL will do with any packet, right down to the line of the ACL that matches it. We also provide a sanity check to ensure that every line in every ACL can match some packet that won't be matched by a previous line.\n",
    "\n",
    "In this notebook, we will start by verifying that `host1` in our example network is correctly configured as a DNS server, then go on to check that all ACL lines are reachable across the network. The example network is shown below.\n",
    "\n",
    "![example-network](https://raw.githubusercontent.com/batfish/pybatfish/master/jupyter_notebooks/networks/example/example-network.png)"
   ]
  },
  {
   "cell_type": "markdown",
   "metadata": {},
   "source": [
    "`SNAPSHOT_PATH` below can be updated to point to a custom snapshot directory, see the [Batfish instructions](https://github.com/batfish/batfish/wiki/Packaging-snapshots-for-analysis) for how to package data for analysis.<br>\n",
    "More example networks are available in the [networks](https://github.com/batfish/batfish/tree/master/networks) folder of the Batfish repository."
   ]
  },
  {
   "cell_type": "code",
   "execution_count": 1,
   "metadata": {},
   "outputs": [
    {
     "data": {
      "text/plain": [
       "'example_snapshot'"
      ]
     },
     "execution_count": 1,
     "metadata": {},
     "output_type": "execute_result"
    }
   ],
   "source": [
    "# Import packages and load questions\n",
    "%run startup.py\n",
    "\n",
    "# Initialize a network and snapshot\n",
    "NETWORK_NAME = \"acl_debugging_network\"\n",
    "SNAPSHOT_NAME = \"example_snapshot\"\n",
    "\n",
    "SNAPSHOT_PATH = \"networks/example\"\n",
    "\n",
    "bf_set_network(NETWORK_NAME)\n",
    "bf_init_snapshot(SNAPSHOT_PATH, name=SNAPSHOT_NAME, overwrite=True)"
   ]
  },
  {
   "cell_type": "markdown",
   "metadata": {},
   "source": [
    "## Debugging how ACLs treat a given packet\n",
    "\n",
    "In this notebook we're operating from the perspective of `AS1` and would like to confirm that our ACLs are correctly configured to enable a DNS service hosted on `host1`. Packets from `AS1` destined for `host1` will hit two ACLs:\n",
    "- Entering `AS2`, they will hit an ACL on the border router called `OUTSIDE_TO_INSIDE`\n",
    "- Entering `host1`, they will hit an input ACL `filter::INPUT`\n",
    "\n",
    "The Test Filters question (`bfq.testfilters`) is helpful for checking what ACLs do with particular packets. We can use it to test that ACLs `OUTSIDE_TO_INSIDE` and `filter::INPUT` permit DNS packets destined for `host1`.\n",
    "\n",
    "### Parameters of Test Filters\n",
    "\n",
    "The Test Filters question takes in the properties of a flow and a set of ACLs to test. The answer shows what each ACL will do to that flow and why.\n",
    "\n",
    "To specify the flow, you must provide the source IP address `srcIp` and the destination `dst` (hostname or IP address). Optionally, you can also specify IP protocols, ports, TCP flags, ICMP codes, and other properties ([see documentation for details](https://pybatfish.readthedocs.io/en/latest/questions.html#pybatfish.question.bfq.testfilters)). The question will fill in any unspecified flow properties with default values.\n",
    "\n",
    "The set of ACLs to examine can be narrowed down using these optional parameters:\n",
    "- `nodeRegex` specifies the ACLs present on the set of nodes matching the given regex\n",
    "- `filterRegex` specifies ACLs with names matching the given regex\n",
    "\n",
    "If `nodeRegex` and `filterRegex` are left blank, Test Filters will give results for every ACL in the network.\n",
    "\n",
    "#### Tip: Pull up a table of hostnames to IP addresses to help fill in `srcIp` and `dst`\n",
    "The Node Properties question achieves this nicely:"
   ]
  },
  {
   "cell_type": "code",
   "execution_count": 2,
   "metadata": {},
   "outputs": [
    {
     "data": {
      "text/html": [
       "<div>\n",
       "<style scoped>\n",
       "    .dataframe tbody tr th:only-of-type {\n",
       "        vertical-align: middle;\n",
       "    }\n",
       "\n",
       "    .dataframe tbody tr th {\n",
       "        vertical-align: top;\n",
       "    }\n",
       "\n",
       "    .dataframe thead th {\n",
       "        text-align: right;\n",
       "    }\n",
       "</style>\n",
       "<table border=\"1\" class=\"dataframe\">\n",
       "  <thead>\n",
       "    <tr style=\"text-align: right;\">\n",
       "      <th></th>\n",
       "      <th>node</th>\n",
       "      <th>canonical-ip</th>\n",
       "    </tr>\n",
       "  </thead>\n",
       "  <tbody>\n",
       "    <tr>\n",
       "      <th>0</th>\n",
       "      <td>as3border2</td>\n",
       "      <td>3.0.2.1</td>\n",
       "    </tr>\n",
       "    <tr>\n",
       "      <th>1</th>\n",
       "      <td>as3border1</td>\n",
       "      <td>3.0.1.1</td>\n",
       "    </tr>\n",
       "    <tr>\n",
       "      <th>2</th>\n",
       "      <td>host1</td>\n",
       "      <td>2.128.0.101</td>\n",
       "    </tr>\n",
       "    <tr>\n",
       "      <th>3</th>\n",
       "      <td>as3core1</td>\n",
       "      <td>3.0.1.2</td>\n",
       "    </tr>\n",
       "    <tr>\n",
       "      <th>4</th>\n",
       "      <td>as1border2</td>\n",
       "      <td>1.0.2.1</td>\n",
       "    </tr>\n",
       "    <tr>\n",
       "      <th>5</th>\n",
       "      <td>as1border1</td>\n",
       "      <td>1.0.1.1</td>\n",
       "    </tr>\n",
       "    <tr>\n",
       "      <th>6</th>\n",
       "      <td>as2border2</td>\n",
       "      <td>2.1.1.2</td>\n",
       "    </tr>\n",
       "    <tr>\n",
       "      <th>7</th>\n",
       "      <td>as2core2</td>\n",
       "      <td>2.1.2.2</td>\n",
       "    </tr>\n",
       "    <tr>\n",
       "      <th>8</th>\n",
       "      <td>as2dist1</td>\n",
       "      <td>2.1.3.1</td>\n",
       "    </tr>\n",
       "    <tr>\n",
       "      <th>9</th>\n",
       "      <td>as2core1</td>\n",
       "      <td>2.1.2.1</td>\n",
       "    </tr>\n",
       "    <tr>\n",
       "      <th>10</th>\n",
       "      <td>as2border1</td>\n",
       "      <td>2.1.1.1</td>\n",
       "    </tr>\n",
       "    <tr>\n",
       "      <th>11</th>\n",
       "      <td>as1core1</td>\n",
       "      <td>1.0.1.2</td>\n",
       "    </tr>\n",
       "    <tr>\n",
       "      <th>12</th>\n",
       "      <td>as2dept1</td>\n",
       "      <td>2.1.1.2</td>\n",
       "    </tr>\n",
       "    <tr>\n",
       "      <th>13</th>\n",
       "      <td>host2</td>\n",
       "      <td>2.128.1.101</td>\n",
       "    </tr>\n",
       "    <tr>\n",
       "      <th>14</th>\n",
       "      <td>as2dist2</td>\n",
       "      <td>2.1.3.2</td>\n",
       "    </tr>\n",
       "  </tbody>\n",
       "</table>\n",
       "</div>"
      ],
      "text/plain": [
       "          node canonical-ip\n",
       "0   as3border2      3.0.2.1\n",
       "1   as3border1      3.0.1.1\n",
       "2        host1  2.128.0.101\n",
       "3     as3core1      3.0.1.2\n",
       "4   as1border2      1.0.2.1\n",
       "5   as1border1      1.0.1.1\n",
       "6   as2border2      2.1.1.2\n",
       "7     as2core2      2.1.2.2\n",
       "8     as2dist1      2.1.3.1\n",
       "9     as2core1      2.1.2.1\n",
       "10  as2border1      2.1.1.1\n",
       "11    as1core1      1.0.1.2\n",
       "12    as2dept1      2.1.1.2\n",
       "13       host2  2.128.1.101\n",
       "14    as2dist2      2.1.3.2"
      ]
     },
     "execution_count": 2,
     "metadata": {},
     "output_type": "execute_result"
    }
   ],
   "source": [
    "bfq.nodeProperties(nodeRegex=\".*\", propertySpec=\"canonical-ip\").answer().frame()"
   ]
  },
  {
   "cell_type": "markdown",
   "metadata": {},
   "source": [
    "### Verifying that ACLs will not block DNS requests to `host1`\n",
    "\n",
    "Suppose `as1core1` sends a DNS request destined for DNS server `host1`. Let's first run Test Filters on ACL `OUTSIDE_TO_INSIDE` to check that it will permit such a packet.\n",
    "\n",
    "The result shows that the second line of `OUTSIDE_TO_INSIDE` matches and permits DNS packets. Since that line, `permit ip any any`, will also permit many packets that should not reach `host1`, let's also check ACL `filter::INPUT` on `host1`."
   ]
  },
  {
   "cell_type": "code",
   "execution_count": 3,
   "metadata": {},
   "outputs": [
    {
     "data": {
      "text/html": [
       "<div>\n",
       "<style scoped>\n",
       "    .dataframe tbody tr th:only-of-type {\n",
       "        vertical-align: middle;\n",
       "    }\n",
       "\n",
       "    .dataframe tbody tr th {\n",
       "        vertical-align: top;\n",
       "    }\n",
       "\n",
       "    .dataframe thead th {\n",
       "        text-align: right;\n",
       "    }\n",
       "</style>\n",
       "<table border=\"1\" class=\"dataframe\">\n",
       "  <thead>\n",
       "    <tr style=\"text-align: right;\">\n",
       "      <th></th>\n",
       "      <th>node</th>\n",
       "      <th>filterName</th>\n",
       "      <th>flow</th>\n",
       "      <th>action</th>\n",
       "      <th>lineNumber</th>\n",
       "      <th>lineContent</th>\n",
       "      <th>trace</th>\n",
       "    </tr>\n",
       "  </thead>\n",
       "  <tbody>\n",
       "    <tr>\n",
       "      <th>0</th>\n",
       "      <td>as2border1</td>\n",
       "      <td>OUTSIDE_TO_INSIDE</td>\n",
       "      <td>as2border1-&gt;[1.0.1.2:0-&gt;2.128.0.101:53 proto: UDP dscp:0 ecn:0 fragOff:0 length:0 state:NEW flags: n/a</td>\n",
       "      <td>ACCEPT</td>\n",
       "      <td>2</td>\n",
       "      <td>permit ip any any</td>\n",
       "      <td>Flow permitted by 'extended ipv4 access-list' named 'OUTSIDE_TO_INSIDE', index 2: permit ip any any</td>\n",
       "    </tr>\n",
       "  </tbody>\n",
       "</table>\n",
       "</div>"
      ],
      "text/plain": [
       "         node         filterName  \\\n",
       "0  as2border1  OUTSIDE_TO_INSIDE   \n",
       "\n",
       "                                                                                                     flow  \\\n",
       "0  as2border1->[1.0.1.2:0->2.128.0.101:53 proto: UDP dscp:0 ecn:0 fragOff:0 length:0 state:NEW flags: n/a   \n",
       "\n",
       "   action  lineNumber        lineContent  \\\n",
       "0  ACCEPT           2  permit ip any any   \n",
       "\n",
       "                                                                                                 trace  \n",
       "0  Flow permitted by 'extended ipv4 access-list' named 'OUTSIDE_TO_INSIDE', index 2: permit ip any any  "
      ]
     },
     "execution_count": 3,
     "metadata": {},
     "output_type": "execute_result"
    }
   ],
   "source": [
    "as1core1_ip = \"1.0.1.2\"\n",
    "host1_ip = \"2.128.0.101\"\n",
    "node = \"as2border1\"\n",
    "acl = \"OUTSIDE_TO_INSIDE\"\n",
    "bfq.testfilters(dst=host1_ip, srcIp=as1core1_ip, dstProtocol=\"dns\", nodeRegex=node, filterRegex=acl).answer().frame()"
   ]
  },
  {
   "cell_type": "markdown",
   "metadata": {},
   "source": [
    "Below is a similar Test Filters result on the input ACL to `host1`. As shown, that filter also permits DNS packets, and the matching line is much more narrowly targeted: it permits UDP traffic to port 53 (i.e. DNS traffic)."
   ]
  },
  {
   "cell_type": "code",
   "execution_count": 4,
   "metadata": {},
   "outputs": [
    {
     "data": {
      "text/html": [
       "<div>\n",
       "<style scoped>\n",
       "    .dataframe tbody tr th:only-of-type {\n",
       "        vertical-align: middle;\n",
       "    }\n",
       "\n",
       "    .dataframe tbody tr th {\n",
       "        vertical-align: top;\n",
       "    }\n",
       "\n",
       "    .dataframe thead th {\n",
       "        text-align: right;\n",
       "    }\n",
       "</style>\n",
       "<table border=\"1\" class=\"dataframe\">\n",
       "  <thead>\n",
       "    <tr style=\"text-align: right;\">\n",
       "      <th></th>\n",
       "      <th>node</th>\n",
       "      <th>filterName</th>\n",
       "      <th>flow</th>\n",
       "      <th>action</th>\n",
       "      <th>lineNumber</th>\n",
       "      <th>lineContent</th>\n",
       "      <th>trace</th>\n",
       "    </tr>\n",
       "  </thead>\n",
       "  <tbody>\n",
       "    <tr>\n",
       "      <th>0</th>\n",
       "      <td>host1</td>\n",
       "      <td>filter::INPUT</td>\n",
       "      <td>host1-&gt;[1.0.1.2:0-&gt;2.128.0.101:53 proto: UDP dscp:0 ecn:0 fragOff:0 length:0 state:NEW flags: n/a</td>\n",
       "      <td>ACCEPT</td>\n",
       "      <td>0</td>\n",
       "      <td>-p udp --dport 53 -j ACCEPT</td>\n",
       "      <td>Flow permitted by ACL named 'filter::INPUT', index 0: -p udp --dport 53 -j ACCEPT</td>\n",
       "    </tr>\n",
       "  </tbody>\n",
       "</table>\n",
       "</div>"
      ],
      "text/plain": [
       "    node     filterName  \\\n",
       "0  host1  filter::INPUT   \n",
       "\n",
       "                                                                                                flow  \\\n",
       "0  host1->[1.0.1.2:0->2.128.0.101:53 proto: UDP dscp:0 ecn:0 fragOff:0 length:0 state:NEW flags: n/a   \n",
       "\n",
       "   action  lineNumber                  lineContent  \\\n",
       "0  ACCEPT           0  -p udp --dport 53 -j ACCEPT   \n",
       "\n",
       "                                                                               trace  \n",
       "0  Flow permitted by ACL named 'filter::INPUT', index 0: -p udp --dport 53 -j ACCEPT  "
      ]
     },
     "execution_count": 4,
     "metadata": {},
     "output_type": "execute_result"
    }
   ],
   "source": [
    "node = \"host1\"\n",
    "acl = \"filter::INPUT\"\n",
    "bfq.testfilters(dst=host1_ip, srcIp=as1core1_ip, dstProtocol=\"dns\", nodeRegex=node, filterRegex=acl).answer().frame()"
   ]
  },
  {
   "cell_type": "markdown",
   "metadata": {},
   "source": [
    "### Checking that an HTTP packet will be dropped\n",
    "Meanwhile, other traffic from `AS1` should not reach `host1`. Let's run Test Filters with an HTTP packet to check. This time we will specify both ACLs in the regex parameters so that we can run one check to see both results.\n",
    "\n",
    "As with the DNS packet, `OUTSIDE_TO_INSIDE` permits the HTTP packet when it matches line `permit ip any any`. However, the input filter of `host1` has no matching line and therefore drops the packet."
   ]
  },
  {
   "cell_type": "code",
   "execution_count": 5,
   "metadata": {},
   "outputs": [
    {
     "data": {
      "text/html": [
       "<div>\n",
       "<style scoped>\n",
       "    .dataframe tbody tr th:only-of-type {\n",
       "        vertical-align: middle;\n",
       "    }\n",
       "\n",
       "    .dataframe tbody tr th {\n",
       "        vertical-align: top;\n",
       "    }\n",
       "\n",
       "    .dataframe thead th {\n",
       "        text-align: right;\n",
       "    }\n",
       "</style>\n",
       "<table border=\"1\" class=\"dataframe\">\n",
       "  <thead>\n",
       "    <tr style=\"text-align: right;\">\n",
       "      <th></th>\n",
       "      <th>node</th>\n",
       "      <th>filterName</th>\n",
       "      <th>flow</th>\n",
       "      <th>action</th>\n",
       "      <th>lineNumber</th>\n",
       "      <th>lineContent</th>\n",
       "      <th>trace</th>\n",
       "    </tr>\n",
       "  </thead>\n",
       "  <tbody>\n",
       "    <tr>\n",
       "      <th>0</th>\n",
       "      <td>as2border1</td>\n",
       "      <td>OUTSIDE_TO_INSIDE</td>\n",
       "      <td>as2border1-&gt;[1.0.1.2:0-&gt;2.128.0.101:80 proto: TCP dscp:0 ecn:0 fragOff:0 length:0 state:NEW flags: n/a</td>\n",
       "      <td>ACCEPT</td>\n",
       "      <td>2</td>\n",
       "      <td>permit ip any any</td>\n",
       "      <td>Flow permitted by 'extended ipv4 access-list' named 'OUTSIDE_TO_INSIDE', index 2: permit ip any any</td>\n",
       "    </tr>\n",
       "    <tr>\n",
       "      <th>1</th>\n",
       "      <td>host1</td>\n",
       "      <td>filter::INPUT</td>\n",
       "      <td>host1-&gt;[1.0.1.2:0-&gt;2.128.0.101:80 proto: TCP dscp:0 ecn:0 fragOff:0 length:0 state:NEW flags: n/a</td>\n",
       "      <td>REJECT</td>\n",
       "      <td>2</td>\n",
       "      <td>default</td>\n",
       "      <td>Flow denied by ACL named 'filter::INPUT', index 2: default</td>\n",
       "    </tr>\n",
       "  </tbody>\n",
       "</table>\n",
       "</div>"
      ],
      "text/plain": [
       "         node         filterName  \\\n",
       "0  as2border1  OUTSIDE_TO_INSIDE   \n",
       "1       host1      filter::INPUT   \n",
       "\n",
       "                                                                                                     flow  \\\n",
       "0  as2border1->[1.0.1.2:0->2.128.0.101:80 proto: TCP dscp:0 ecn:0 fragOff:0 length:0 state:NEW flags: n/a   \n",
       "1       host1->[1.0.1.2:0->2.128.0.101:80 proto: TCP dscp:0 ecn:0 fragOff:0 length:0 state:NEW flags: n/a   \n",
       "\n",
       "   action  lineNumber        lineContent  \\\n",
       "0  ACCEPT           2  permit ip any any   \n",
       "1  REJECT           2            default   \n",
       "\n",
       "                                                                                                 trace  \n",
       "0  Flow permitted by 'extended ipv4 access-list' named 'OUTSIDE_TO_INSIDE', index 2: permit ip any any  \n",
       "1                                           Flow denied by ACL named 'filter::INPUT', index 2: default  "
      ]
     },
     "execution_count": 5,
     "metadata": {},
     "output_type": "execute_result"
    }
   ],
   "source": [
    "nodes = \"as2border1|host1\"\n",
    "acls = \"OUTSIDE_TO_INSIDE|filter::INPUT\"\n",
    "bfq.testfilters(dst=host1_ip, srcIp=as1core1_ip, dstProtocol=\"tcp\", dstPort=80, nodeRegex=nodes, filterRegex=acls).answer().frame()"
   ]
  },
  {
   "cell_type": "markdown",
   "metadata": {},
   "source": [
    "### Examining ACL behavior for other traffic from `AS1` to `host1`\n",
    "\n",
    "We can run several more Test Filters checks programmatically to look for other accepted flows. The next cell examines what happens to some other packets from `as1core1` destined for `host1`.\n",
    "\n",
    "The result shows that DNS packets are accepted (UDP to port 53), as well as SSH packets (TCP to port 22). We do want `AS1` devices to be able to reach `host1` via SSH, so that is expected. All other packets tested are denied by one of the two ACLs along the path to `host1`."
   ]
  },
  {
   "cell_type": "code",
   "execution_count": 6,
   "metadata": {},
   "outputs": [
    {
     "name": "stdout",
     "output_type": "stream",
     "text": [
      "Accepted: tcp on port 22\n",
      "Accepted: udp on port 53\n"
     ]
    }
   ],
   "source": [
    "common_ports = {\n",
    "    'tcp': [1, 20, 22, 25, 80, 156, 179, 389, 443, 444],\n",
    "    'udp': [7, 13, 37, 42, 49, 53, 107, 123, 156, 161]\n",
    "}\n",
    "\n",
    "for protocol in common_ports:\n",
    "    for port in common_ports[protocol]:\n",
    "\n",
    "        # Run Test Filters with the packet specified by protocol and port\n",
    "        test_filters_result = bfq.testfilters(dst=host1_ip, srcIp=as1core1_ip, dstProtocol=protocol, dstPort=port, nodeRegex=nodes, filterRegex=acls).answer().frame()\n",
    "\n",
    "        # Create a filtered version of the result that only contains the ACLs that denied the packet\n",
    "        rejects_only = test_filters_result[test_filters_result['action'].apply(lambda action:'REJECT' == action)]\n",
    "\n",
    "        # If the filtered result is empty, then no ACLs denied the packet. Report that host1 accepted it.\n",
    "        if len(rejects_only) == 0:\n",
    "            print(\"Accepted: \" + protocol + \" on port \" + str(port))"
   ]
  },
  {
   "cell_type": "markdown",
   "metadata": {},
   "source": [
    "## Ensuring all ACL lines are reachable\n",
    "\n",
    "When debugging or editing ACLs, it can be useful to confirm that every line is reachable -- that is, it matches some set of packets that don't match earlier lines. Often unreachable ACL lines are symptomatic of past edits to the ACL that did not achieve their intent.\n",
    "\n",
    "The ACL Reachability question (`bfq.aclReachability`) identifies unreachable ACL lines. Given no parameters, it will check every ACL in the network, but the scope can be narrowed down using parameters `aclNameRegex` and `nodeRegex` (see [documentation](https://pybatfish.readthedocs.io/en/latest/questions.html#pybatfish.question.bfq.aclReachability)).\n",
    "\n",
    "For now, let's take a look at all the ACLs in the network."
   ]
  },
  {
   "cell_type": "code",
   "execution_count": 7,
   "metadata": {},
   "outputs": [
    {
     "data": {
      "text/html": [
       "<div>\n",
       "<style scoped>\n",
       "    .dataframe tbody tr th:only-of-type {\n",
       "        vertical-align: middle;\n",
       "    }\n",
       "\n",
       "    .dataframe tbody tr th {\n",
       "        vertical-align: top;\n",
       "    }\n",
       "\n",
       "    .dataframe thead th {\n",
       "        text-align: right;\n",
       "    }\n",
       "</style>\n",
       "<table border=\"1\" class=\"dataframe\">\n",
       "  <thead>\n",
       "    <tr style=\"text-align: right;\">\n",
       "      <th></th>\n",
       "      <th>aclSources</th>\n",
       "      <th>lines</th>\n",
       "      <th>blockedLineNum</th>\n",
       "      <th>blockingLineNums</th>\n",
       "      <th>differentAction</th>\n",
       "      <th>message</th>\n",
       "    </tr>\n",
       "  </thead>\n",
       "  <tbody>\n",
       "    <tr>\n",
       "      <th>0</th>\n",
       "      <td>[as2dept1: RESTRICT_HOST_TRAFFIC_IN]</td>\n",
       "      <td>[permit ip 2.128.0.0 0.0.255.255 any, deny   ip any any, permit icmp any any]</td>\n",
       "      <td>2</td>\n",
       "      <td>[1]</td>\n",
       "      <td>True</td>\n",
       "      <td>ACLs { as2dept1: RESTRICT_HOST_TRAFFIC_IN } contain an unreachable line:\\n  [index 2] permit icmp any any\\nBlocking line(s):\\n  [index 1] deny   ip any any</td>\n",
       "    </tr>\n",
       "    <tr>\n",
       "      <th>1</th>\n",
       "      <td>[as2dept1: RESTRICT_HOST_TRAFFIC_OUT]</td>\n",
       "      <td>[permit ip any 2.128.0.0 0.0.255.255, deny   ip 1.128.0.0 0.0.255.255 2.128.0.0 0.0.255.255, deny   ip any any]</td>\n",
       "      <td>1</td>\n",
       "      <td>[0]</td>\n",
       "      <td>True</td>\n",
       "      <td>ACLs { as2dept1: RESTRICT_HOST_TRAFFIC_OUT } contain an unreachable line:\\n  [index 1] deny   ip 1.128.0.0 0.0.255.255 2.128.0.0 0.0.255.255\\nBlocking line(s):\\n  [index 0] permit ip any 2.128.0.0 0.0.255.255</td>\n",
       "    </tr>\n",
       "  </tbody>\n",
       "</table>\n",
       "</div>"
      ],
      "text/plain": [
       "                              aclSources  \\\n",
       "0   [as2dept1: RESTRICT_HOST_TRAFFIC_IN]   \n",
       "1  [as2dept1: RESTRICT_HOST_TRAFFIC_OUT]   \n",
       "\n",
       "                                                                                                             lines  \\\n",
       "0                                    [permit ip 2.128.0.0 0.0.255.255 any, deny   ip any any, permit icmp any any]   \n",
       "1  [permit ip any 2.128.0.0 0.0.255.255, deny   ip 1.128.0.0 0.0.255.255 2.128.0.0 0.0.255.255, deny   ip any any]   \n",
       "\n",
       "   blockedLineNum blockingLineNums  differentAction  \\\n",
       "0               2              [1]             True   \n",
       "1               1              [0]             True   \n",
       "\n",
       "                                                                                                                                                                                                            message  \n",
       "0                                                       ACLs { as2dept1: RESTRICT_HOST_TRAFFIC_IN } contain an unreachable line:\\n  [index 2] permit icmp any any\\nBlocking line(s):\\n  [index 1] deny   ip any any  \n",
       "1  ACLs { as2dept1: RESTRICT_HOST_TRAFFIC_OUT } contain an unreachable line:\\n  [index 1] deny   ip 1.128.0.0 0.0.255.255 2.128.0.0 0.0.255.255\\nBlocking line(s):\\n  [index 0] permit ip any 2.128.0.0 0.0.255.255  "
      ]
     },
     "execution_count": 7,
     "metadata": {},
     "output_type": "execute_result"
    }
   ],
   "source": [
    "acl_reach_answer = bfq.aclReachability().answer().frame()\n",
    "acl_reach_answer"
   ]
  },
  {
   "cell_type": "markdown",
   "metadata": {},
   "source": [
    "### Examining ACL reachability results\n",
    "The answer identifies 2 unreachable lines. Let's take a closer look at the first one, line 2 in ACL `RESTRICT_HOST_TRAFFIC_IN` on node `as2dept1`. The `lines` column contains all the lines of the ACL, so the blocked and blocking lines can be found programmatically using their line numbers. The `message` column provides a human-readable result summary."
   ]
  },
  {
   "cell_type": "code",
   "execution_count": 8,
   "metadata": {},
   "outputs": [
    {
     "name": "stdout",
     "output_type": "stream",
     "text": [
      "Results based on looking up lines in lines column:\n",
      "Blocked line: permit icmp any any\n",
      "Blocking line(s): ['deny   ip any any']\n",
      "\n",
      "Message column:\n",
      "ACLs { as2dept1: RESTRICT_HOST_TRAFFIC_IN } contain an unreachable line:\n",
      "  [index 2] permit icmp any any\n",
      "Blocking line(s):\n",
      "  [index 1] deny   ip any any\n"
     ]
    }
   ],
   "source": [
    "# Pull out first result\n",
    "first_result = acl_reach_answer.iloc[0]\n",
    "\n",
    "# Find the blocked and blocking lines from the lines column\n",
    "lines = first_result['lines']\n",
    "blocking_nums = first_result['blockingLineNums']\n",
    "blocked_num = first_result['blockedLineNum']\n",
    "blocking_lines = [lines[int(n)] for n in blocking_nums]\n",
    "blocked_line = lines[blocked_num]\n",
    "print('Results based on looking up lines in lines column:')\n",
    "print('Blocked line: ' + blocked_line)\n",
    "print('Blocking line(s): ' + str(blocking_lines))\n",
    "print()\n",
    "\n",
    "# Show the human-readable message\n",
    "print(\"Message column:\")\n",
    "print(first_result['message'])"
   ]
  },
  {
   "cell_type": "markdown",
   "metadata": {},
   "source": [
    "In this case, the line is unreachable because previous line `deny ip any any` matches and denies all packets that `permit icmp any any` would have permitted. ACL Reachability also identifies:\n",
    "- inherently unmatchable lines\n",
    "- unreachable lines blocked by multiple partially blocking lines\n",
    "- lines that have an uncertain impact because they contain an undefined or circular reference"
   ]
  },
  {
   "cell_type": "markdown",
   "metadata": {},
   "source": [
    "## Get involved with the Batfish community\n",
    "\n",
    "Thanks for checking out our ACL debugging examples! To get involved and learn more, check out the community on [Slack](https://join.slack.com/t/batfish-org/shared_invite/enQtMzA0Nzg2OTAzNzQ1LTUxOTJlY2YyNTVlNGQ3MTJkOTIwZTU2YjY3YzRjZWFiYzE4ODE5ODZiNjA4NGI5NTJhZmU2ZTllOTMwZDhjMzA) and [Github](https://github.com/batfish/batfish). We would love to talk with you about Batfish or your network!"
   ]
  }
 ],
 "metadata": {
  "kernelspec": {
   "display_name": "Python 3",
   "language": "python",
   "name": "python3"
  },
  "language_info": {
   "codemirror_mode": {
    "name": "ipython",
    "version": 3
   },
   "file_extension": ".py",
   "mimetype": "text/x-python",
   "name": "python",
   "nbconvert_exporter": "python",
   "pygments_lexer": "ipython3",
   "version": "3.6.5"
  }
 },
 "nbformat": 4,
 "nbformat_minor": 2
}
