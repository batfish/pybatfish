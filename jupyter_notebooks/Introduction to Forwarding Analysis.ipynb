{
 "cells": [
  {
   "cell_type": "markdown",
   "metadata": {
    "colab_type": "text",
    "id": "-rmC-zu0WYjw"
   },
   "source": [
    "# Introduction to Forwarding Analysis using Batfish"
   ]
  },
  {
   "cell_type": "markdown",
   "metadata": {
    "colab_type": "text",
    "hide_input": true,
    "id": "HkCLyRtHWYjx"
   },
   "source": [
    "Analyzing how the network forwards packets is one of the most common tasks for network engineers. Typically, it is performed by running `traceroute` between multiple sources and destinations. This process is highly complex even in a moderately-sized network. It also fails to provide strong assurance as only some of the source-destination pairs and some of the packets can be feasibly tested.  \n",
    "\n",
    "Batfish makes forwarding analysis extremely simple by providing 1) easy-to-use queries over a centralized view of the network; and 2) ability to reason comprehensively about entire spaces of flows. Further,  it can perform this analysis proactively, that is, analyze the impact of configuration changes *before* they are pushed to the network. \n",
    "\n",
    "In this notebook, we will show you how to perform forwarding analysis with Batfish.\n",
    "\n",
    "Check out a video demo of this notebook [here](https://youtu.be/yaJBH3ZZ5Dw).\n",
    "\n",
    "![](https://ga-beacon.appspot.com/UA-100596389-3/open-source/pybatfish/jupyter_notebooks/intro-path-analysis?pixel&useReferer)"
   ]
  },
  {
   "cell_type": "code",
   "execution_count": 1,
   "metadata": {
    "colab": {},
    "colab_type": "code",
    "id": "_17kNqJdWYjz"
   },
   "outputs": [],
   "source": [
    "# Import packages and load questions\n",
    "%run startup.py\n",
    "load_questions()"
   ]
  },
  {
   "cell_type": "markdown",
   "metadata": {
    "colab_type": "text",
    "id": "dMyqKGtNWYj2"
   },
   "source": [
    "## Setup: Initializing the Network and Snapshot"
   ]
  },
  {
   "cell_type": "markdown",
   "metadata": {
    "colab_type": "text",
    "id": "zYSQebDoWYj3"
   },
   "source": [
    "`SNAPSHOT_PATH` below can be updated to point to a custom snapshot directory. See the [Batfish instructions](https://github.com/batfish/batfish/wiki/Packaging-snapshots-for-analysis) for how to package data for analysis.\n",
    "\n",
    "More example networks are available in the [networks](https://github.com/batfish/batfish/tree/master/networks) folder of the Batfish repository."
   ]
  },
  {
   "cell_type": "code",
   "execution_count": 2,
   "metadata": {
    "colab": {
     "base_uri": "https://localhost:8080/",
     "height": 34
    },
    "colab_type": "code",
    "id": "kaVuyCn8WYj4",
    "outputId": "6eab521f-3e70-4b4a-adf0-f28af897ccfa"
   },
   "outputs": [
    {
     "data": {
      "text/plain": [
       "'example_snapshot'"
      ]
     },
     "execution_count": 2,
     "metadata": {},
     "output_type": "execute_result"
    }
   ],
   "source": [
    "NETWORK_NAME = \"example_network\"\n",
    "SNAPSHOT_NAME = \"example_snapshot\"\n",
    "\n",
    "SNAPSHOT_PATH = \"networks/example\"\n",
    "\n",
    "bf_set_network(NETWORK_NAME)\n",
    "bf_init_snapshot(SNAPSHOT_PATH, name=SNAPSHOT_NAME, overwrite=True)"
   ]
  },
  {
   "cell_type": "markdown",
   "metadata": {
    "colab_type": "text",
    "id": "wNbL4P6HWYj7"
   },
   "source": [
    "The network snapshot that we initialized above is illustrated below. You can view or download the devices' configuration files [here](https://github.com/batfish/pybatfish/tree/master/jupyter_notebooks/networks/example).\n",
    "\n",
    "![example-network](https://raw.githubusercontent.com/batfish/pybatfish/master/jupyter_notebooks/networks/example/example-network.png)"
   ]
  },
  {
   "cell_type": "markdown",
   "metadata": {
    "colab_type": "text",
    "id": "qxvp9hQmWYj8"
   },
   "source": [
    "All of the information we will show you in this notebook is dynamically computed by Batfish based on the configuration files for the network devices.\n",
    "\n",
    "---\n",
    "\n"
   ]
  },
  {
   "cell_type": "markdown",
   "metadata": {
    "colab_type": "text",
    "id": "XXDxhAFzWYj8"
   },
   "source": [
    "## Batfish Smart Traceroute: Detailed analysis of path(s) of a flow"
   ]
  },
  {
   "cell_type": "markdown",
   "metadata": {
    "colab_type": "text",
    "id": "fbkcVCMGWYj9"
   },
   "source": [
    "In this section, we will use the [traceroute question](https://pybatfish.readthedocs.io/en/latest/notebooks/forwarding.html#Traceroute) to find the path taken by AS3 core routers to reach the DNS Server (`host1`) in AS2. Traceroute has three (composite) parameters that you can specify, allowing for a variety of queries. We will focus on the two main ones:\n",
    "\n",
    "* `startLocation` - where in the network the flow starts\n",
    "* `headers` - [packet headers](https://pybatfish.readthedocs.io/en/latest/datamodel.html#pybatfish.datamodel.flow.HeaderConstraints) for the flow you are interested in tracing. This is **not** just limited to UDP or ICMP.\n",
    "\n",
    "We want the trace to start from the `Loopback0` interface on `as3core1`, and we want to use the IP address of that interface as the source address. For this we set the `startLocation` to `as3core1[Loopback0]`. Batfish automatically chooses the IP address of `Loopback0` as the source IP.\n",
    "\n",
    "We set the destination IP address of our virtual packet by specifying `dstIps='ofLocation(host1)'`. Batfish will automatically pick *one of the* IP addresses for `host1` as the destination IP address.  See the `ofLocation` function (see [documentation](https://github.com/batfish/batfish/blob/master/questions/Parameters.md#ip-specifier) for more detail).\n",
    "\n",
    "To run the query:"
   ]
  },
  {
   "cell_type": "code",
   "execution_count": 3,
   "metadata": {
    "colab": {},
    "colab_type": "code",
    "id": "DeDA8yNMWYj-"
   },
   "outputs": [],
   "source": [
    "# start the traceroute from the Loopback0 interface of as3core1 to host1\n",
    "headers = HeaderConstraints(dstIps='host1')\n",
    "tracert = bfq.traceroute(startLocation=\"as3core1[Loopback0]\", headers=headers).answer().frame()"
   ]
  },
  {
   "cell_type": "markdown",
   "metadata": {
    "colab_type": "text",
    "id": "tHGTLc1QWYkA"
   },
   "source": [
    "To pretty-print the traces in HTML use the `display_html` function. We will show you how to extract more detailed information below."
   ]
  },
  {
   "cell_type": "code",
   "execution_count": 4,
   "metadata": {
    "colab": {
     "base_uri": "https://localhost:8080/",
     "height": 1931
    },
    "colab_type": "code",
    "id": "dYuBiclQWYkC",
    "outputId": "89a9fd8d-acca-4408-a318-50ef000ef014"
   },
   "outputs": [
    {
     "data": {
      "text/html": [
       "<style  type=\"text/css\" >\n",
       "    #T_pybfstylerow0_col0 {\n",
       "            text-align:  left;\n",
       "            vertical-align:  top;\n",
       "        }    #T_pybfstylerow0_col1 {\n",
       "            text-align:  left;\n",
       "            vertical-align:  top;\n",
       "        }    #T_pybfstylerow0_col2 {\n",
       "            text-align:  left;\n",
       "            vertical-align:  top;\n",
       "        }</style><table id=\"T_pybfstyle\"  class=\"tex2jax_ignore\"><thead>    <tr>        <th class=\"blank level0\" ></th>        <th class=\"col_heading level0 col0\" >Flow</th>        <th class=\"col_heading level0 col1\" >Traces</th>        <th class=\"col_heading level0 col2\" >TraceCount</th>    </tr></thead><tbody>\n",
       "                <tr>\n",
       "                        <th id=\"T_pybfstylelevel0_row0\" class=\"row_heading level0 row0\" >0</th>\n",
       "                        <td id=\"T_pybfstylerow0_col0\" class=\"data row0 col0\" >Start Location: as3core1<br>Src IP: 3.10.1.1<br>Src Port: 49152<br>Dst IP: 2.128.0.101<br>Dst Port: 33434<br>IP Protocol: UDP</td>\n",
       "                        <td id=\"T_pybfstylerow0_col1\" class=\"data row0 col1\" ><span style=\"color:#7c020e; text-weight:bold;\">DENIED_IN</span><br><strong>1</strong>. node: as3core1<br>&nbsp;&nbsp;ORIGINATED(default)<br>&nbsp;&nbsp;FORWARDED(ARP IP: 3.0.1.1, Output Interface: GigabitEthernet1/0, Routes: [ibgp (Network: 2.128.0.0/16, Next Hop IP:10.23.21.2)])<br>&nbsp;&nbsp;TRANSMITTED(GigabitEthernet1/0)<br><strong>2</strong>. node: as3border1<br>&nbsp;&nbsp;RECEIVED(GigabitEthernet0/0)<br>&nbsp;&nbsp;FORWARDED(ARP IP: 10.23.21.2, Output Interface: GigabitEthernet1/0, Routes: [bgp (Network: 2.128.0.0/16, Next Hop IP:10.23.21.2)])<br>&nbsp;&nbsp;TRANSMITTED(GigabitEthernet1/0)<br><strong>3</strong>. node: as2border2<br>&nbsp;&nbsp;RECEIVED(GigabitEthernet0/0)<br>&nbsp;&nbsp;PERMITTED(OUTSIDE_TO_INSIDE (INGRESS_FILTER))<br>&nbsp;&nbsp;FORWARDED(ARP IP: 2.12.22.2, Output Interface: GigabitEthernet1/0, Routes: [ibgp (Network: 2.128.0.0/24, Next Hop IP:2.34.101.4),ibgp (Network: 2.128.0.0/24, Next Hop IP:2.34.201.4)])<br>&nbsp;&nbsp;TRANSMITTED(GigabitEthernet1/0)<br><strong>4</strong>. node: as2core2<br>&nbsp;&nbsp;RECEIVED(GigabitEthernet0/0)<br>&nbsp;&nbsp;FORWARDED(ARP IP: 2.23.22.3, Output Interface: GigabitEthernet2/0, Routes: [ibgp (Network: 2.128.0.0/24, Next Hop IP:2.34.201.4)])<br>&nbsp;&nbsp;TRANSMITTED(GigabitEthernet2/0)<br><strong>5</strong>. node: as2dist2<br>&nbsp;&nbsp;RECEIVED(GigabitEthernet0/0)<br>&nbsp;&nbsp;FORWARDED(ARP IP: 2.34.201.4, Output Interface: GigabitEthernet2/0, Routes: [bgp (Network: 2.128.0.0/24, Next Hop IP:2.34.201.4)])<br>&nbsp;&nbsp;TRANSMITTED(GigabitEthernet2/0)<br><strong>6</strong>. node: as2dept1<br>&nbsp;&nbsp;RECEIVED(GigabitEthernet1/0)<br>&nbsp;&nbsp;FORWARDED(ARP IP: AUTO/NONE(-1l), Output Interface: GigabitEthernet2/0, Routes: [connected (Network: 2.128.0.0/24, Next Hop IP:AUTO/NONE(-1l))])<br>&nbsp;&nbsp;TRANSMITTED(GigabitEthernet2/0)<br><strong>7</strong>. node: host1<br>&nbsp;&nbsp;RECEIVED(eth0)<br>&nbsp;&nbsp;DENIED(filter::INPUT (INGRESS_FILTER))<br><br><span style=\"color:#7c020e; text-weight:bold;\">DENIED_IN</span><br><strong>1</strong>. node: as3core1<br>&nbsp;&nbsp;ORIGINATED(default)<br>&nbsp;&nbsp;FORWARDED(ARP IP: 3.0.1.1, Output Interface: GigabitEthernet1/0, Routes: [ibgp (Network: 2.128.0.0/16, Next Hop IP:10.23.21.2)])<br>&nbsp;&nbsp;TRANSMITTED(GigabitEthernet1/0)<br><strong>2</strong>. node: as3border1<br>&nbsp;&nbsp;RECEIVED(GigabitEthernet0/0)<br>&nbsp;&nbsp;FORWARDED(ARP IP: 10.23.21.2, Output Interface: GigabitEthernet1/0, Routes: [bgp (Network: 2.128.0.0/16, Next Hop IP:10.23.21.2)])<br>&nbsp;&nbsp;TRANSMITTED(GigabitEthernet1/0)<br><strong>3</strong>. node: as2border2<br>&nbsp;&nbsp;RECEIVED(GigabitEthernet0/0)<br>&nbsp;&nbsp;PERMITTED(OUTSIDE_TO_INSIDE (INGRESS_FILTER))<br>&nbsp;&nbsp;FORWARDED(ARP IP: 2.12.22.2, Output Interface: GigabitEthernet1/0, Routes: [ibgp (Network: 2.128.0.0/24, Next Hop IP:2.34.101.4),ibgp (Network: 2.128.0.0/24, Next Hop IP:2.34.201.4)])<br>&nbsp;&nbsp;TRANSMITTED(GigabitEthernet1/0)<br><strong>4</strong>. node: as2core2<br>&nbsp;&nbsp;RECEIVED(GigabitEthernet0/0)<br>&nbsp;&nbsp;FORWARDED(ARP IP: 2.23.21.3, Output Interface: GigabitEthernet3/0, Routes: [ibgp (Network: 2.128.0.0/24, Next Hop IP:2.34.101.4)])<br>&nbsp;&nbsp;TRANSMITTED(GigabitEthernet3/0)<br><strong>5</strong>. node: as2dist1<br>&nbsp;&nbsp;RECEIVED(GigabitEthernet1/0)<br>&nbsp;&nbsp;FORWARDED(ARP IP: 2.34.101.4, Output Interface: GigabitEthernet2/0, Routes: [bgp (Network: 2.128.0.0/24, Next Hop IP:2.34.101.4)])<br>&nbsp;&nbsp;TRANSMITTED(GigabitEthernet2/0)<br><strong>6</strong>. node: as2dept1<br>&nbsp;&nbsp;RECEIVED(GigabitEthernet0/0)<br>&nbsp;&nbsp;FORWARDED(ARP IP: AUTO/NONE(-1l), Output Interface: GigabitEthernet2/0, Routes: [connected (Network: 2.128.0.0/24, Next Hop IP:AUTO/NONE(-1l))])<br>&nbsp;&nbsp;TRANSMITTED(GigabitEthernet2/0)<br><strong>7</strong>. node: host1<br>&nbsp;&nbsp;RECEIVED(eth0)<br>&nbsp;&nbsp;DENIED(filter::INPUT (INGRESS_FILTER))<br><br><span style=\"color:#7c020e; text-weight:bold;\">DENIED_IN</span><br><strong>1</strong>. node: as3core1<br>&nbsp;&nbsp;ORIGINATED(default)<br>&nbsp;&nbsp;FORWARDED(ARP IP: 3.0.1.1, Output Interface: GigabitEthernet1/0, Routes: [ibgp (Network: 2.128.0.0/16, Next Hop IP:10.23.21.2)])<br>&nbsp;&nbsp;TRANSMITTED(GigabitEthernet1/0)<br><strong>2</strong>. node: as3border1<br>&nbsp;&nbsp;RECEIVED(GigabitEthernet0/0)<br>&nbsp;&nbsp;FORWARDED(ARP IP: 10.23.21.2, Output Interface: GigabitEthernet1/0, Routes: [bgp (Network: 2.128.0.0/16, Next Hop IP:10.23.21.2)])<br>&nbsp;&nbsp;TRANSMITTED(GigabitEthernet1/0)<br><strong>3</strong>. node: as2border2<br>&nbsp;&nbsp;RECEIVED(GigabitEthernet0/0)<br>&nbsp;&nbsp;PERMITTED(OUTSIDE_TO_INSIDE (INGRESS_FILTER))<br>&nbsp;&nbsp;FORWARDED(ARP IP: 2.12.21.2, Output Interface: GigabitEthernet2/0, Routes: [ibgp (Network: 2.128.0.0/24, Next Hop IP:2.34.101.4),ibgp (Network: 2.128.0.0/24, Next Hop IP:2.34.201.4)])<br>&nbsp;&nbsp;TRANSMITTED(GigabitEthernet2/0)<br><strong>4</strong>. node: as2core1<br>&nbsp;&nbsp;RECEIVED(GigabitEthernet1/0)<br>&nbsp;&nbsp;FORWARDED(ARP IP: 2.23.11.3, Output Interface: GigabitEthernet2/0, Routes: [ibgp (Network: 2.128.0.0/24, Next Hop IP:2.34.101.4)])<br>&nbsp;&nbsp;TRANSMITTED(GigabitEthernet2/0)<br><strong>5</strong>. node: as2dist1<br>&nbsp;&nbsp;RECEIVED(GigabitEthernet0/0)<br>&nbsp;&nbsp;FORWARDED(ARP IP: 2.34.101.4, Output Interface: GigabitEthernet2/0, Routes: [bgp (Network: 2.128.0.0/24, Next Hop IP:2.34.101.4)])<br>&nbsp;&nbsp;TRANSMITTED(GigabitEthernet2/0)<br><strong>6</strong>. node: as2dept1<br>&nbsp;&nbsp;RECEIVED(GigabitEthernet0/0)<br>&nbsp;&nbsp;FORWARDED(ARP IP: AUTO/NONE(-1l), Output Interface: GigabitEthernet2/0, Routes: [connected (Network: 2.128.0.0/24, Next Hop IP:AUTO/NONE(-1l))])<br>&nbsp;&nbsp;TRANSMITTED(GigabitEthernet2/0)<br><strong>7</strong>. node: host1<br>&nbsp;&nbsp;RECEIVED(eth0)<br>&nbsp;&nbsp;DENIED(filter::INPUT (INGRESS_FILTER))<br><br><span style=\"color:#7c020e; text-weight:bold;\">DENIED_IN</span><br><strong>1</strong>. node: as3core1<br>&nbsp;&nbsp;ORIGINATED(default)<br>&nbsp;&nbsp;FORWARDED(ARP IP: 3.0.1.1, Output Interface: GigabitEthernet1/0, Routes: [ibgp (Network: 2.128.0.0/16, Next Hop IP:10.23.21.2)])<br>&nbsp;&nbsp;TRANSMITTED(GigabitEthernet1/0)<br><strong>2</strong>. node: as3border1<br>&nbsp;&nbsp;RECEIVED(GigabitEthernet0/0)<br>&nbsp;&nbsp;FORWARDED(ARP IP: 10.23.21.2, Output Interface: GigabitEthernet1/0, Routes: [bgp (Network: 2.128.0.0/16, Next Hop IP:10.23.21.2)])<br>&nbsp;&nbsp;TRANSMITTED(GigabitEthernet1/0)<br><strong>3</strong>. node: as2border2<br>&nbsp;&nbsp;RECEIVED(GigabitEthernet0/0)<br>&nbsp;&nbsp;PERMITTED(OUTSIDE_TO_INSIDE (INGRESS_FILTER))<br>&nbsp;&nbsp;FORWARDED(ARP IP: 2.12.21.2, Output Interface: GigabitEthernet2/0, Routes: [ibgp (Network: 2.128.0.0/24, Next Hop IP:2.34.101.4),ibgp (Network: 2.128.0.0/24, Next Hop IP:2.34.201.4)])<br>&nbsp;&nbsp;TRANSMITTED(GigabitEthernet2/0)<br><strong>4</strong>. node: as2core1<br>&nbsp;&nbsp;RECEIVED(GigabitEthernet1/0)<br>&nbsp;&nbsp;FORWARDED(ARP IP: 2.23.12.3, Output Interface: GigabitEthernet3/0, Routes: [ibgp (Network: 2.128.0.0/24, Next Hop IP:2.34.201.4)])<br>&nbsp;&nbsp;TRANSMITTED(GigabitEthernet3/0)<br><strong>5</strong>. node: as2dist2<br>&nbsp;&nbsp;RECEIVED(GigabitEthernet1/0)<br>&nbsp;&nbsp;FORWARDED(ARP IP: 2.34.201.4, Output Interface: GigabitEthernet2/0, Routes: [bgp (Network: 2.128.0.0/24, Next Hop IP:2.34.201.4)])<br>&nbsp;&nbsp;TRANSMITTED(GigabitEthernet2/0)<br><strong>6</strong>. node: as2dept1<br>&nbsp;&nbsp;RECEIVED(GigabitEthernet1/0)<br>&nbsp;&nbsp;FORWARDED(ARP IP: AUTO/NONE(-1l), Output Interface: GigabitEthernet2/0, Routes: [connected (Network: 2.128.0.0/24, Next Hop IP:AUTO/NONE(-1l))])<br>&nbsp;&nbsp;TRANSMITTED(GigabitEthernet2/0)<br><strong>7</strong>. node: host1<br>&nbsp;&nbsp;RECEIVED(eth0)<br>&nbsp;&nbsp;DENIED(filter::INPUT (INGRESS_FILTER))</td>\n",
       "                        <td id=\"T_pybfstylerow0_col2\" class=\"data row0 col2\" >4</td>\n",
       "            </tr>\n",
       "    </tbody></table>"
      ],
      "text/plain": [
       "                                                                Flow  \\\n",
       "0  start=as3core1 [3.10.1.1:49152->2.128.0.101:33434 UDP length=512]   \n",
       "\n",
       "                                                                                                                                                                                                                                                                                                                                                                                                                                                                                                                                                                                                                                                                                                                                                                                                                                                                                                                                                                                                                                                                                                                                                                                                                                                                                                                                                                                                                                                                                                                                                                                                                                                                                                                                                                                                                                                                                                                                                                                                                                                                                                                                                                                                                                                                                                                                                                                                                                                                                                                                                                                                                                                                                                                                                                                                                                                                                                                                                                                                                                                                                                                                                                                                                                                                                                                                                                                                                                                                                                                                                                                                                                                                                                                                                                                                                                                                                                                                                                                                                                                                                                                                                                                                                                                                                                                                                                                                                                                                                                                                                                                                                                                                                                                                                                                                                                                                                                                                                                                                                                                                                                                                                                                                                                                                                                                                                                                                                                                                                                                                                                                                 Traces  \\\n",
       "0  [((ORIGINATED(default), FORWARDED(ARP IP: 3.0.1.1, Output Interface: GigabitEthernet1/0, Routes: [ibgp (Network: 2.128.0.0/16, Next Hop IP:10.23.21.2)]), TRANSMITTED(GigabitEthernet1/0)), (RECEIVED(GigabitEthernet0/0), FORWARDED(ARP IP: 10.23.21.2, Output Interface: GigabitEthernet1/0, Routes: [bgp (Network: 2.128.0.0/16, Next Hop IP:10.23.21.2)]), TRANSMITTED(GigabitEthernet1/0)), (RECEIVED(GigabitEthernet0/0), PERMITTED(OUTSIDE_TO_INSIDE (INGRESS_FILTER)), FORWARDED(ARP IP: 2.12.22.2, Output Interface: GigabitEthernet1/0, Routes: [ibgp (Network: 2.128.0.0/24, Next Hop IP:2.34.101.4),ibgp (Network: 2.128.0.0/24, Next Hop IP:2.34.201.4)]), TRANSMITTED(GigabitEthernet1/0)), (RECEIVED(GigabitEthernet0/0), FORWARDED(ARP IP: 2.23.22.3, Output Interface: GigabitEthernet2/0, Routes: [ibgp (Network: 2.128.0.0/24, Next Hop IP:2.34.201.4)]), TRANSMITTED(GigabitEthernet2/0)), (RECEIVED(GigabitEthernet0/0), FORWARDED(ARP IP: 2.34.201.4, Output Interface: GigabitEthernet2/0, Routes: [bgp (Network: 2.128.0.0/24, Next Hop IP:2.34.201.4)]), TRANSMITTED(GigabitEthernet2/0)), (RECEIVED(GigabitEthernet1/0), FORWARDED(ARP IP: AUTO/NONE(-1l), Output Interface: GigabitEthernet2/0, Routes: [connected (Network: 2.128.0.0/24, Next Hop IP:AUTO/NONE(-1l))]), TRANSMITTED(GigabitEthernet2/0)), (RECEIVED(eth0), DENIED(filter::INPUT (INGRESS_FILTER)))), ((ORIGINATED(default), FORWARDED(ARP IP: 3.0.1.1, Output Interface: GigabitEthernet1/0, Routes: [ibgp (Network: 2.128.0.0/16, Next Hop IP:10.23.21.2)]), TRANSMITTED(GigabitEthernet1/0)), (RECEIVED(GigabitEthernet0/0), FORWARDED(ARP IP: 10.23.21.2, Output Interface: GigabitEthernet1/0, Routes: [bgp (Network: 2.128.0.0/16, Next Hop IP:10.23.21.2)]), TRANSMITTED(GigabitEthernet1/0)), (RECEIVED(GigabitEthernet0/0), PERMITTED(OUTSIDE_TO_INSIDE (INGRESS_FILTER)), FORWARDED(ARP IP: 2.12.22.2, Output Interface: GigabitEthernet1/0, Routes: [ibgp (Network: 2.128.0.0/24, Next Hop IP:2.34.101.4),ibgp (Network: 2.128.0.0/24, Next Hop IP:2.34.201.4)]), TRANSMITTED(GigabitEthernet1/0)), (RECEIVED(GigabitEthernet0/0), FORWARDED(ARP IP: 2.23.21.3, Output Interface: GigabitEthernet3/0, Routes: [ibgp (Network: 2.128.0.0/24, Next Hop IP:2.34.101.4)]), TRANSMITTED(GigabitEthernet3/0)), (RECEIVED(GigabitEthernet1/0), FORWARDED(ARP IP: 2.34.101.4, Output Interface: GigabitEthernet2/0, Routes: [bgp (Network: 2.128.0.0/24, Next Hop IP:2.34.101.4)]), TRANSMITTED(GigabitEthernet2/0)), (RECEIVED(GigabitEthernet0/0), FORWARDED(ARP IP: AUTO/NONE(-1l), Output Interface: GigabitEthernet2/0, Routes: [connected (Network: 2.128.0.0/24, Next Hop IP:AUTO/NONE(-1l))]), TRANSMITTED(GigabitEthernet2/0)), (RECEIVED(eth0), DENIED(filter::INPUT (INGRESS_FILTER)))), ((ORIGINATED(default), FORWARDED(ARP IP: 3.0.1.1, Output Interface: GigabitEthernet1/0, Routes: [ibgp (Network: 2.128.0.0/16, Next Hop IP:10.23.21.2)]), TRANSMITTED(GigabitEthernet1/0)), (RECEIVED(GigabitEthernet0/0), FORWARDED(ARP IP: 10.23.21.2, Output Interface: GigabitEthernet1/0, Routes: [bgp (Network: 2.128.0.0/16, Next Hop IP:10.23.21.2)]), TRANSMITTED(GigabitEthernet1/0)), (RECEIVED(GigabitEthernet0/0), PERMITTED(OUTSIDE_TO_INSIDE (INGRESS_FILTER)), FORWARDED(ARP IP: 2.12.21.2, Output Interface: GigabitEthernet2/0, Routes: [ibgp (Network: 2.128.0.0/24, Next Hop IP:2.34.101.4),ibgp (Network: 2.128.0.0/24, Next Hop IP:2.34.201.4)]), TRANSMITTED(GigabitEthernet2/0)), (RECEIVED(GigabitEthernet1/0), FORWARDED(ARP IP: 2.23.11.3, Output Interface: GigabitEthernet2/0, Routes: [ibgp (Network: 2.128.0.0/24, Next Hop IP:2.34.101.4)]), TRANSMITTED(GigabitEthernet2/0)), (RECEIVED(GigabitEthernet0/0), FORWARDED(ARP IP: 2.34.101.4, Output Interface: GigabitEthernet2/0, Routes: [bgp (Network: 2.128.0.0/24, Next Hop IP:2.34.101.4)]), TRANSMITTED(GigabitEthernet2/0)), (RECEIVED(GigabitEthernet0/0), FORWARDED(ARP IP: AUTO/NONE(-1l), Output Interface: GigabitEthernet2/0, Routes: [connected (Network: 2.128.0.0/24, Next Hop IP:AUTO/NONE(-1l))]), TRANSMITTED(GigabitEthernet2/0)), (RECEIVED(eth0), DENIED(filter::INPUT (INGRESS_FILTER)))), ((ORIGINATED(default), FORWARDED(ARP IP: 3.0.1.1, Output Interface: GigabitEthernet1/0, Routes: [ibgp (Network: 2.128.0.0/16, Next Hop IP:10.23.21.2)]), TRANSMITTED(GigabitEthernet1/0)), (RECEIVED(GigabitEthernet0/0), FORWARDED(ARP IP: 10.23.21.2, Output Interface: GigabitEthernet1/0, Routes: [bgp (Network: 2.128.0.0/16, Next Hop IP:10.23.21.2)]), TRANSMITTED(GigabitEthernet1/0)), (RECEIVED(GigabitEthernet0/0), PERMITTED(OUTSIDE_TO_INSIDE (INGRESS_FILTER)), FORWARDED(ARP IP: 2.12.21.2, Output Interface: GigabitEthernet2/0, Routes: [ibgp (Network: 2.128.0.0/24, Next Hop IP:2.34.101.4),ibgp (Network: 2.128.0.0/24, Next Hop IP:2.34.201.4)]), TRANSMITTED(GigabitEthernet2/0)), (RECEIVED(GigabitEthernet1/0), FORWARDED(ARP IP: 2.23.12.3, Output Interface: GigabitEthernet3/0, Routes: [ibgp (Network: 2.128.0.0/24, Next Hop IP:2.34.201.4)]), TRANSMITTED(GigabitEthernet3/0)), (RECEIVED(GigabitEthernet1/0), FORWARDED(ARP IP: 2.34.201.4, Output Interface: GigabitEthernet2/0, Routes: [bgp (Network: 2.128.0.0/24, Next Hop IP:2.34.201.4)]), TRANSMITTED(GigabitEthernet2/0)), (RECEIVED(GigabitEthernet1/0), FORWARDED(ARP IP: AUTO/NONE(-1l), Output Interface: GigabitEthernet2/0, Routes: [connected (Network: 2.128.0.0/24, Next Hop IP:AUTO/NONE(-1l))]), TRANSMITTED(GigabitEthernet2/0)), (RECEIVED(eth0), DENIED(filter::INPUT (INGRESS_FILTER))))]   \n",
       "\n",
       "  TraceCount  \n",
       "0  4          "
      ]
     },
     "metadata": {},
     "output_type": "display_data"
    }
   ],
   "source": [
    "show(tracert)"
   ]
  },
  {
   "cell_type": "markdown",
   "metadata": {
    "colab_type": "text",
    "id": "7Hy_Z_dIWYkG"
   },
   "source": [
    "The `Flow` column describes the packet being traced: it starts at `as3core1` using source IP  `3.10.1.1` (of `Loopback0`) and and destination IP `2.128.0.101`. By default, `bfq.traceroute` uses the standard UDP traceroute to destination port `33434`, and Batfish arbitrarily picks the lowest ephemeral source port of  `49152`."
   ]
  },
  {
   "cell_type": "code",
   "execution_count": 5,
   "metadata": {
    "colab": {
     "base_uri": "https://localhost:8080/",
     "height": 119
    },
    "colab_type": "code",
    "id": "DtxVV-ZnjgOx",
    "outputId": "285c117a-50de-495c-b672-5df6facfa9eb"
   },
   "outputs": [
    {
     "data": {
      "text/html": [
       "Start Location: as3core1<br>Src IP: 3.10.1.1<br>Src Port: 49152<br>Dst IP: 2.128.0.101<br>Dst Port: 33434<br>IP Protocol: UDP"
      ],
      "text/plain": [
       "Flow(dscp=0, dstIp='2.128.0.101', dstPort=33434, ecn=0, fragmentOffset=0, icmpCode=None, icmpVar=None, ingressInterface=None, ingressNode='as3core1', ingressVrf='default', ipProtocol='UDP', packetLength=512, srcIp='3.10.1.1', srcPort=49152, tcpFlagsAck=0, tcpFlagsCwr=0, tcpFlagsEce=0, tcpFlagsFin=0, tcpFlagsPsh=0, tcpFlagsRst=0, tcpFlagsSyn=0, tcpFlagsUrg=0)"
      ]
     },
     "execution_count": 5,
     "metadata": {},
     "output_type": "execute_result"
    }
   ],
   "source": [
    "tracert['Flow'][0]"
   ]
  },
  {
   "cell_type": "markdown",
   "metadata": {
    "colab_type": "text",
    "id": "F3bag96LkZUv"
   },
   "source": [
    "The `Trace` column contains the detailed information provided by Batfish about the paths through the network for each flow. Let's look in detail on the first path:"
   ]
  },
  {
   "cell_type": "code",
   "execution_count": 6,
   "metadata": {
    "colab": {
     "base_uri": "https://localhost:8080/",
     "height": 476
    },
    "colab_type": "code",
    "id": "Y3ByWH_WkZ0k",
    "outputId": "fbbddd3b-11fd-4bcd-8977-067cf4f2d619"
   },
   "outputs": [
    {
     "data": {
      "text/html": [
       "<span style=\"color:#7c020e; text-weight:bold;\">DENIED_IN</span><br><strong>1</strong>. node: as3core1<br>&nbsp;&nbsp;ORIGINATED(default)<br>&nbsp;&nbsp;FORWARDED(ARP IP: 3.0.1.1, Output Interface: GigabitEthernet1/0, Routes: [ibgp (Network: 2.128.0.0/16, Next Hop IP:10.23.21.2)])<br>&nbsp;&nbsp;TRANSMITTED(GigabitEthernet1/0)<br><strong>2</strong>. node: as3border1<br>&nbsp;&nbsp;RECEIVED(GigabitEthernet0/0)<br>&nbsp;&nbsp;FORWARDED(ARP IP: 10.23.21.2, Output Interface: GigabitEthernet1/0, Routes: [bgp (Network: 2.128.0.0/16, Next Hop IP:10.23.21.2)])<br>&nbsp;&nbsp;TRANSMITTED(GigabitEthernet1/0)<br><strong>3</strong>. node: as2border2<br>&nbsp;&nbsp;RECEIVED(GigabitEthernet0/0)<br>&nbsp;&nbsp;PERMITTED(OUTSIDE_TO_INSIDE (INGRESS_FILTER))<br>&nbsp;&nbsp;FORWARDED(ARP IP: 2.12.22.2, Output Interface: GigabitEthernet1/0, Routes: [ibgp (Network: 2.128.0.0/24, Next Hop IP:2.34.101.4),ibgp (Network: 2.128.0.0/24, Next Hop IP:2.34.201.4)])<br>&nbsp;&nbsp;TRANSMITTED(GigabitEthernet1/0)<br><strong>4</strong>. node: as2core2<br>&nbsp;&nbsp;RECEIVED(GigabitEthernet0/0)<br>&nbsp;&nbsp;FORWARDED(ARP IP: 2.23.22.3, Output Interface: GigabitEthernet2/0, Routes: [ibgp (Network: 2.128.0.0/24, Next Hop IP:2.34.201.4)])<br>&nbsp;&nbsp;TRANSMITTED(GigabitEthernet2/0)<br><strong>5</strong>. node: as2dist2<br>&nbsp;&nbsp;RECEIVED(GigabitEthernet0/0)<br>&nbsp;&nbsp;FORWARDED(ARP IP: 2.34.201.4, Output Interface: GigabitEthernet2/0, Routes: [bgp (Network: 2.128.0.0/24, Next Hop IP:2.34.201.4)])<br>&nbsp;&nbsp;TRANSMITTED(GigabitEthernet2/0)<br><strong>6</strong>. node: as2dept1<br>&nbsp;&nbsp;RECEIVED(GigabitEthernet1/0)<br>&nbsp;&nbsp;FORWARDED(ARP IP: AUTO/NONE(-1l), Output Interface: GigabitEthernet2/0, Routes: [connected (Network: 2.128.0.0/24, Next Hop IP:AUTO/NONE(-1l))])<br>&nbsp;&nbsp;TRANSMITTED(GigabitEthernet2/0)<br><strong>7</strong>. node: host1<br>&nbsp;&nbsp;RECEIVED(eth0)<br>&nbsp;&nbsp;DENIED(filter::INPUT (INGRESS_FILTER))"
      ],
      "text/plain": [
       "Trace(disposition='DENIED_IN', hops=[Hop(node='as3core1', steps=[Step(detail=OriginateStepDetail(originatingVrf='default'), action='ORIGINATED'), Step(detail=RoutingStepDetail(routes=[{'network': '2.128.0.0/16', 'nextHopIp': '10.23.21.2', 'protocol': 'ibgp'}], arpIp='3.0.1.1', outputInterface='GigabitEthernet1/0'), action='FORWARDED'), Step(detail=ExitOutputIfaceStepDetail(outputInterface='GigabitEthernet1/0', transformedFlow=None), action='TRANSMITTED')]), Hop(node='as3border1', steps=[Step(detail=EnterInputIfaceStepDetail(inputInterface='GigabitEthernet0/0', inputVrf='default'), action='RECEIVED'), Step(detail=RoutingStepDetail(routes=[{'network': '2.128.0.0/16', 'nextHopIp': '10.23.21.2', 'protocol': 'bgp'}], arpIp='10.23.21.2', outputInterface='GigabitEthernet1/0'), action='FORWARDED'), Step(detail=ExitOutputIfaceStepDetail(outputInterface='GigabitEthernet1/0', transformedFlow=None), action='TRANSMITTED')]), Hop(node='as2border2', steps=[Step(detail=EnterInputIfaceStepDetail(inputInterface='GigabitEthernet0/0', inputVrf='default'), action='RECEIVED'), Step(detail=FilterStepDetail(filter='OUTSIDE_TO_INSIDE', filterType='INGRESS_FILTER', inputInterface='GigabitEthernet0/0', flow=Flow(dscp=0, dstIp='2.128.0.101', dstPort=33434, ecn=0, fragmentOffset=0, icmpCode=None, icmpVar=None, ingressInterface=None, ingressNode='as3core1', ingressVrf='default', ipProtocol='UDP', packetLength=512, srcIp='3.10.1.1', srcPort=49152, tcpFlagsAck=0, tcpFlagsCwr=0, tcpFlagsEce=0, tcpFlagsFin=0, tcpFlagsPsh=0, tcpFlagsRst=0, tcpFlagsSyn=0, tcpFlagsUrg=0)), action='PERMITTED'), Step(detail=RoutingStepDetail(routes=[{'network': '2.128.0.0/24', 'nextHopIp': '2.34.101.4', 'protocol': 'ibgp'}, {'network': '2.128.0.0/24', 'nextHopIp': '2.34.201.4', 'protocol': 'ibgp'}], arpIp='2.12.22.2', outputInterface='GigabitEthernet1/0'), action='FORWARDED'), Step(detail=ExitOutputIfaceStepDetail(outputInterface='GigabitEthernet1/0', transformedFlow=None), action='TRANSMITTED')]), Hop(node='as2core2', steps=[Step(detail=EnterInputIfaceStepDetail(inputInterface='GigabitEthernet0/0', inputVrf='default'), action='RECEIVED'), Step(detail=RoutingStepDetail(routes=[{'network': '2.128.0.0/24', 'nextHopIp': '2.34.201.4', 'protocol': 'ibgp'}], arpIp='2.23.22.3', outputInterface='GigabitEthernet2/0'), action='FORWARDED'), Step(detail=ExitOutputIfaceStepDetail(outputInterface='GigabitEthernet2/0', transformedFlow=None), action='TRANSMITTED')]), Hop(node='as2dist2', steps=[Step(detail=EnterInputIfaceStepDetail(inputInterface='GigabitEthernet0/0', inputVrf='default'), action='RECEIVED'), Step(detail=RoutingStepDetail(routes=[{'network': '2.128.0.0/24', 'nextHopIp': '2.34.201.4', 'protocol': 'bgp'}], arpIp='2.34.201.4', outputInterface='GigabitEthernet2/0'), action='FORWARDED'), Step(detail=ExitOutputIfaceStepDetail(outputInterface='GigabitEthernet2/0', transformedFlow=None), action='TRANSMITTED')]), Hop(node='as2dept1', steps=[Step(detail=EnterInputIfaceStepDetail(inputInterface='GigabitEthernet1/0', inputVrf='default'), action='RECEIVED'), Step(detail=RoutingStepDetail(routes=[{'network': '2.128.0.0/24', 'nextHopIp': 'AUTO/NONE(-1l)', 'protocol': 'connected'}], arpIp='AUTO/NONE(-1l)', outputInterface='GigabitEthernet2/0'), action='FORWARDED'), Step(detail=ExitOutputIfaceStepDetail(outputInterface='GigabitEthernet2/0', transformedFlow=None), action='TRANSMITTED')]), Hop(node='host1', steps=[Step(detail=EnterInputIfaceStepDetail(inputInterface='eth0', inputVrf='default'), action='RECEIVED'), Step(detail=FilterStepDetail(filter='filter::INPUT', filterType='INGRESS_FILTER', inputInterface='eth0', flow=Flow(dscp=0, dstIp='2.128.0.101', dstPort=33434, ecn=0, fragmentOffset=0, icmpCode=None, icmpVar=None, ingressInterface=None, ingressNode='as3core1', ingressVrf='default', ipProtocol='UDP', packetLength=512, srcIp='3.10.1.1', srcPort=49152, tcpFlagsAck=0, tcpFlagsCwr=0, tcpFlagsEce=0, tcpFlagsFin=0, tcpFlagsPsh=0, tcpFlagsRst=0, tcpFlagsSyn=0, tcpFlagsUrg=0)), action='DENIED')])])"
      ]
     },
     "execution_count": 6,
     "metadata": {},
     "output_type": "execute_result"
    }
   ],
   "source": [
    "tracert['Traces'][0][0]  # Get the trace for the first path of the first flow"
   ]
  },
  {
   "cell_type": "markdown",
   "metadata": {
    "colab_type": "text",
    "id": "wdw4qcKVkI4J"
   },
   "source": [
    "This flow starts at `as3core1` and crosses from AS3 into AS2 via the border routers `as3border1` and `as2border2`; on `as2border2`, the flow is permitted by the inbound ACL `OUTSIDE_TO_INSIDE`. Once inside AS2, the flow is forwarded through AS2's core and distribution servers to the department router. The flow does reach `host1`, but is blocked by that server iptables rule `filter::INPUT` on `eth0`."
   ]
  },
  {
   "cell_type": "markdown",
   "metadata": {
    "colab_type": "text",
    "id": "FHA2Hk0tjp-8"
   },
   "source": [
    "The `TraceCount` column reports the total number of paths for each flow. In this example, the count `4` matches the four paths we saw in the `Traces` column. These are all the best-cost paths inside AS2 -- the flow can go through either `as2core1` or `as2core2` and either `as2dist1` or `as2dist2`.\n",
    "\n",
    "<small>Detail: `TraceCount` may not always match the `TracesColumn`: in networks with high ECMP, there may be hundreds or even thousands of traces even for a single flow, in which case the `Traces` column will produce fewer results.</small>\n",
    "\n"
   ]
  },
  {
   "cell_type": "code",
   "execution_count": 7,
   "metadata": {
    "colab": {
     "base_uri": "https://localhost:8080/",
     "height": 34
    },
    "colab_type": "code",
    "id": "lWTFGXHij5hY",
    "outputId": "ea0d7f3e-0605-41a7-c901-5b1cfd3df32c"
   },
   "outputs": [
    {
     "data": {
      "text/plain": [
       "4"
      ]
     },
     "execution_count": 7,
     "metadata": {},
     "output_type": "execute_result"
    }
   ],
   "source": [
    "tracert['TraceCount'][0]"
   ]
  },
  {
   "cell_type": "markdown",
   "metadata": {
    "colab_type": "text",
    "id": "FQpr_NzRWYkI"
   },
   "source": [
    "To programmatically get the _detailed_ information about the final hop of the first trace in pure Python form:"
   ]
  },
  {
   "cell_type": "code",
   "execution_count": 8,
   "metadata": {
    "colab": {
     "base_uri": "https://localhost:8080/",
     "height": 34
    },
    "colab_type": "code",
    "id": "BLU5X1lyWYkI",
    "outputId": "dcb739a2-a37a-474f-bace-6e2eead03d95"
   },
   "outputs": [
    {
     "data": {
      "text/plain": [
       "\"Hop(node='host1', steps=[Step(detail=EnterInputIfaceStepDetail(inputInterface='eth0', inputVrf='default'), action='RECEIVED'), Step(detail=FilterStepDetail(filter='filter::INPUT', filterType='INGRESS_FILTER', inputInterface='eth0', flow=Flow(dscp=0, dstIp='2.128.0.101', dstPort=33434, ecn=0, fragmentOffset=0, icmpCode=None, icmpVar=None, ingressInterface=None, ingressNode='as3core1', ingressVrf='default', ipProtocol='UDP', packetLength=512, srcIp='3.10.1.1', srcPort=49152, tcpFlagsAck=0, tcpFlagsCwr=0, tcpFlagsEce=0, tcpFlagsFin=0, tcpFlagsPsh=0, tcpFlagsRst=0, tcpFlagsSyn=0, tcpFlagsUrg=0)), action='DENIED')])\""
      ]
     },
     "execution_count": 8,
     "metadata": {},
     "output_type": "execute_result"
    }
   ],
   "source": [
    "last_hop = tracert['Traces'][0][0].hops[-1]\n",
    "repr(last_hop)"
   ]
  },
  {
   "cell_type": "markdown",
   "metadata": {
    "colab_type": "text",
    "id": "yFqtR22ppcsX"
   },
   "source": [
    "Note that compared to running traceroute on a router, **Batfish is able to provide much more detail about the trace**:\n",
    "\n",
    "1. All active parallel paths between the source and destination\n",
    "1. The reason why each hop in a path is taken (the specific routing entry that was matched)\n",
    "1. All processing steps inside each hop on the path\n",
    "1. All interfaces visited and filters encountered during the trace\n",
    "1. The disposition of the flow for each path"
   ]
  },
  {
   "cell_type": "markdown",
   "metadata": {
    "colab_type": "text",
    "id": "-EoqIm7TWYkO"
   },
   "source": [
    "## Batfish Reachability: Search for forwarding behaviors in (large) spaces of flows\n",
    "\n",
    "Batfish's smart traceroute provides detailed information about all paths taken by a specified flow through the network, which is a powerful capability for exploring and testing network behavior. However, network engineers often need information about some *type* of flow, without being able to specify a particular flow of that type. For example, we may want to know what TCP flows can (or cannot) reach a particular host. In other words, we want to search within the (huge!) space of TCP flows addressed to that host. Batfish's\n",
    "[reachability question](https://pybatfish.readthedocs.io/en/latest/notebooks/forwarding.html#Reachability) \n",
    "is an easy and efficient way to perform exactly this kind of search.\n",
    "\n",
    "### Example 1: Search for DNS flows that reach the DNS server\n",
    "Continuing with our running example, let's search for DNS flows within AS2 that reach our DNS server `host1`.  The parameter `srcIps='0.0.0.0/0'` tells Batfish to search within the entire space of source IP addresses. \n",
    "\n",
    "<small>Detail: In traceroute `ofLocation(host1)` specified a single IP address of `host1` (chosen arbitrarily). In reachability, it specifies to search over *all* IP addresses of `host1`.</small>"
   ]
  },
  {
   "cell_type": "code",
   "execution_count": 9,
   "metadata": {
    "colab": {
     "base_uri": "https://localhost:8080/",
     "height": 4471
    },
    "colab_type": "code",
    "id": "bo_ROYp1WYkO",
    "outputId": "c5830cd9-640c-4c01-a7bb-0527cabbc365"
   },
   "outputs": [
    {
     "data": {
      "text/html": [
       "<style  type=\"text/css\" >\n",
       "    #T_pybfstylerow0_col0 {\n",
       "            text-align:  left;\n",
       "            vertical-align:  top;\n",
       "        }    #T_pybfstylerow0_col1 {\n",
       "            text-align:  left;\n",
       "            vertical-align:  top;\n",
       "        }    #T_pybfstylerow0_col2 {\n",
       "            text-align:  left;\n",
       "            vertical-align:  top;\n",
       "        }    #T_pybfstylerow1_col0 {\n",
       "            text-align:  left;\n",
       "            vertical-align:  top;\n",
       "        }    #T_pybfstylerow1_col1 {\n",
       "            text-align:  left;\n",
       "            vertical-align:  top;\n",
       "        }    #T_pybfstylerow1_col2 {\n",
       "            text-align:  left;\n",
       "            vertical-align:  top;\n",
       "        }    #T_pybfstylerow2_col0 {\n",
       "            text-align:  left;\n",
       "            vertical-align:  top;\n",
       "        }    #T_pybfstylerow2_col1 {\n",
       "            text-align:  left;\n",
       "            vertical-align:  top;\n",
       "        }    #T_pybfstylerow2_col2 {\n",
       "            text-align:  left;\n",
       "            vertical-align:  top;\n",
       "        }    #T_pybfstylerow3_col0 {\n",
       "            text-align:  left;\n",
       "            vertical-align:  top;\n",
       "        }    #T_pybfstylerow3_col1 {\n",
       "            text-align:  left;\n",
       "            vertical-align:  top;\n",
       "        }    #T_pybfstylerow3_col2 {\n",
       "            text-align:  left;\n",
       "            vertical-align:  top;\n",
       "        }    #T_pybfstylerow4_col0 {\n",
       "            text-align:  left;\n",
       "            vertical-align:  top;\n",
       "        }    #T_pybfstylerow4_col1 {\n",
       "            text-align:  left;\n",
       "            vertical-align:  top;\n",
       "        }    #T_pybfstylerow4_col2 {\n",
       "            text-align:  left;\n",
       "            vertical-align:  top;\n",
       "        }    #T_pybfstylerow5_col0 {\n",
       "            text-align:  left;\n",
       "            vertical-align:  top;\n",
       "        }    #T_pybfstylerow5_col1 {\n",
       "            text-align:  left;\n",
       "            vertical-align:  top;\n",
       "        }    #T_pybfstylerow5_col2 {\n",
       "            text-align:  left;\n",
       "            vertical-align:  top;\n",
       "        }    #T_pybfstylerow6_col0 {\n",
       "            text-align:  left;\n",
       "            vertical-align:  top;\n",
       "        }    #T_pybfstylerow6_col1 {\n",
       "            text-align:  left;\n",
       "            vertical-align:  top;\n",
       "        }    #T_pybfstylerow6_col2 {\n",
       "            text-align:  left;\n",
       "            vertical-align:  top;\n",
       "        }</style><table id=\"T_pybfstyle\"  class=\"tex2jax_ignore\"><thead>    <tr>        <th class=\"blank level0\" ></th>        <th class=\"col_heading level0 col0\" >Flow</th>        <th class=\"col_heading level0 col1\" >Traces</th>        <th class=\"col_heading level0 col2\" >TraceCount</th>    </tr></thead><tbody>\n",
       "                <tr>\n",
       "                        <th id=\"T_pybfstylelevel0_row0\" class=\"row_heading level0 row0\" >0</th>\n",
       "                        <td id=\"T_pybfstylerow0_col0\" class=\"data row0 col0\" >Start Location: as2border1<br>Src IP: 0.0.0.0<br>Src Port: 0<br>Dst IP: 2.128.0.101<br>Dst Port: 53<br>IP Protocol: UDP</td>\n",
       "                        <td id=\"T_pybfstylerow0_col1\" class=\"data row0 col1\" ><span style=\"color:#019612; text-weight:bold;\">ACCEPTED</span><br><strong>1</strong>. node: as2border1<br>&nbsp;&nbsp;ORIGINATED(default)<br>&nbsp;&nbsp;FORWARDED(ARP IP: 2.12.11.2, Output Interface: GigabitEthernet1/0, Routes: [ibgp (Network: 2.128.0.0/24, Next Hop IP:2.34.101.4),ibgp (Network: 2.128.0.0/24, Next Hop IP:2.34.201.4)])<br>&nbsp;&nbsp;TRANSMITTED(GigabitEthernet1/0)<br><strong>2</strong>. node: as2core1<br>&nbsp;&nbsp;RECEIVED(GigabitEthernet0/0)<br>&nbsp;&nbsp;FORWARDED(ARP IP: 2.23.11.3, Output Interface: GigabitEthernet2/0, Routes: [ibgp (Network: 2.128.0.0/24, Next Hop IP:2.34.101.4)])<br>&nbsp;&nbsp;TRANSMITTED(GigabitEthernet2/0)<br><strong>3</strong>. node: as2dist1<br>&nbsp;&nbsp;RECEIVED(GigabitEthernet0/0)<br>&nbsp;&nbsp;FORWARDED(ARP IP: 2.34.101.4, Output Interface: GigabitEthernet2/0, Routes: [bgp (Network: 2.128.0.0/24, Next Hop IP:2.34.101.4)])<br>&nbsp;&nbsp;TRANSMITTED(GigabitEthernet2/0)<br><strong>4</strong>. node: as2dept1<br>&nbsp;&nbsp;RECEIVED(GigabitEthernet0/0)<br>&nbsp;&nbsp;FORWARDED(ARP IP: AUTO/NONE(-1l), Output Interface: GigabitEthernet2/0, Routes: [connected (Network: 2.128.0.0/24, Next Hop IP:AUTO/NONE(-1l))])<br>&nbsp;&nbsp;TRANSMITTED(GigabitEthernet2/0)<br><strong>5</strong>. node: host1<br>&nbsp;&nbsp;RECEIVED(eth0)<br>&nbsp;&nbsp;PERMITTED(filter::INPUT (INGRESS_FILTER))<br>&nbsp;&nbsp;ACCEPTED(eth0)<br><br><span style=\"color:#019612; text-weight:bold;\">ACCEPTED</span><br><strong>1</strong>. node: as2border1<br>&nbsp;&nbsp;ORIGINATED(default)<br>&nbsp;&nbsp;FORWARDED(ARP IP: 2.12.11.2, Output Interface: GigabitEthernet1/0, Routes: [ibgp (Network: 2.128.0.0/24, Next Hop IP:2.34.101.4),ibgp (Network: 2.128.0.0/24, Next Hop IP:2.34.201.4)])<br>&nbsp;&nbsp;TRANSMITTED(GigabitEthernet1/0)<br><strong>2</strong>. node: as2core1<br>&nbsp;&nbsp;RECEIVED(GigabitEthernet0/0)<br>&nbsp;&nbsp;FORWARDED(ARP IP: 2.23.12.3, Output Interface: GigabitEthernet3/0, Routes: [ibgp (Network: 2.128.0.0/24, Next Hop IP:2.34.201.4)])<br>&nbsp;&nbsp;TRANSMITTED(GigabitEthernet3/0)<br><strong>3</strong>. node: as2dist2<br>&nbsp;&nbsp;RECEIVED(GigabitEthernet1/0)<br>&nbsp;&nbsp;FORWARDED(ARP IP: 2.34.201.4, Output Interface: GigabitEthernet2/0, Routes: [bgp (Network: 2.128.0.0/24, Next Hop IP:2.34.201.4)])<br>&nbsp;&nbsp;TRANSMITTED(GigabitEthernet2/0)<br><strong>4</strong>. node: as2dept1<br>&nbsp;&nbsp;RECEIVED(GigabitEthernet1/0)<br>&nbsp;&nbsp;FORWARDED(ARP IP: AUTO/NONE(-1l), Output Interface: GigabitEthernet2/0, Routes: [connected (Network: 2.128.0.0/24, Next Hop IP:AUTO/NONE(-1l))])<br>&nbsp;&nbsp;TRANSMITTED(GigabitEthernet2/0)<br><strong>5</strong>. node: host1<br>&nbsp;&nbsp;RECEIVED(eth0)<br>&nbsp;&nbsp;PERMITTED(filter::INPUT (INGRESS_FILTER))<br>&nbsp;&nbsp;ACCEPTED(eth0)<br><br><span style=\"color:#019612; text-weight:bold;\">ACCEPTED</span><br><strong>1</strong>. node: as2border1<br>&nbsp;&nbsp;ORIGINATED(default)<br>&nbsp;&nbsp;FORWARDED(ARP IP: 2.12.12.2, Output Interface: GigabitEthernet2/0, Routes: [ibgp (Network: 2.128.0.0/24, Next Hop IP:2.34.101.4),ibgp (Network: 2.128.0.0/24, Next Hop IP:2.34.201.4)])<br>&nbsp;&nbsp;TRANSMITTED(GigabitEthernet2/0)<br><strong>2</strong>. node: as2core2<br>&nbsp;&nbsp;RECEIVED(GigabitEthernet1/0)<br>&nbsp;&nbsp;FORWARDED(ARP IP: 2.23.22.3, Output Interface: GigabitEthernet2/0, Routes: [ibgp (Network: 2.128.0.0/24, Next Hop IP:2.34.201.4)])<br>&nbsp;&nbsp;TRANSMITTED(GigabitEthernet2/0)<br><strong>3</strong>. node: as2dist2<br>&nbsp;&nbsp;RECEIVED(GigabitEthernet0/0)<br>&nbsp;&nbsp;FORWARDED(ARP IP: 2.34.201.4, Output Interface: GigabitEthernet2/0, Routes: [bgp (Network: 2.128.0.0/24, Next Hop IP:2.34.201.4)])<br>&nbsp;&nbsp;TRANSMITTED(GigabitEthernet2/0)<br><strong>4</strong>. node: as2dept1<br>&nbsp;&nbsp;RECEIVED(GigabitEthernet1/0)<br>&nbsp;&nbsp;FORWARDED(ARP IP: AUTO/NONE(-1l), Output Interface: GigabitEthernet2/0, Routes: [connected (Network: 2.128.0.0/24, Next Hop IP:AUTO/NONE(-1l))])<br>&nbsp;&nbsp;TRANSMITTED(GigabitEthernet2/0)<br><strong>5</strong>. node: host1<br>&nbsp;&nbsp;RECEIVED(eth0)<br>&nbsp;&nbsp;PERMITTED(filter::INPUT (INGRESS_FILTER))<br>&nbsp;&nbsp;ACCEPTED(eth0)<br><br><span style=\"color:#019612; text-weight:bold;\">ACCEPTED</span><br><strong>1</strong>. node: as2border1<br>&nbsp;&nbsp;ORIGINATED(default)<br>&nbsp;&nbsp;FORWARDED(ARP IP: 2.12.12.2, Output Interface: GigabitEthernet2/0, Routes: [ibgp (Network: 2.128.0.0/24, Next Hop IP:2.34.101.4),ibgp (Network: 2.128.0.0/24, Next Hop IP:2.34.201.4)])<br>&nbsp;&nbsp;TRANSMITTED(GigabitEthernet2/0)<br><strong>2</strong>. node: as2core2<br>&nbsp;&nbsp;RECEIVED(GigabitEthernet1/0)<br>&nbsp;&nbsp;FORWARDED(ARP IP: 2.23.21.3, Output Interface: GigabitEthernet3/0, Routes: [ibgp (Network: 2.128.0.0/24, Next Hop IP:2.34.101.4)])<br>&nbsp;&nbsp;TRANSMITTED(GigabitEthernet3/0)<br><strong>3</strong>. node: as2dist1<br>&nbsp;&nbsp;RECEIVED(GigabitEthernet1/0)<br>&nbsp;&nbsp;FORWARDED(ARP IP: 2.34.101.4, Output Interface: GigabitEthernet2/0, Routes: [bgp (Network: 2.128.0.0/24, Next Hop IP:2.34.101.4)])<br>&nbsp;&nbsp;TRANSMITTED(GigabitEthernet2/0)<br><strong>4</strong>. node: as2dept1<br>&nbsp;&nbsp;RECEIVED(GigabitEthernet0/0)<br>&nbsp;&nbsp;FORWARDED(ARP IP: AUTO/NONE(-1l), Output Interface: GigabitEthernet2/0, Routes: [connected (Network: 2.128.0.0/24, Next Hop IP:AUTO/NONE(-1l))])<br>&nbsp;&nbsp;TRANSMITTED(GigabitEthernet2/0)<br><strong>5</strong>. node: host1<br>&nbsp;&nbsp;RECEIVED(eth0)<br>&nbsp;&nbsp;PERMITTED(filter::INPUT (INGRESS_FILTER))<br>&nbsp;&nbsp;ACCEPTED(eth0)</td>\n",
       "                        <td id=\"T_pybfstylerow0_col2\" class=\"data row0 col2\" >4</td>\n",
       "            </tr>\n",
       "            <tr>\n",
       "                        <th id=\"T_pybfstylelevel0_row1\" class=\"row_heading level0 row1\" >1</th>\n",
       "                        <td id=\"T_pybfstylerow1_col0\" class=\"data row1 col0\" >Start Location: as2border2<br>Src IP: 0.0.0.0<br>Src Port: 0<br>Dst IP: 2.128.0.101<br>Dst Port: 53<br>IP Protocol: UDP</td>\n",
       "                        <td id=\"T_pybfstylerow1_col1\" class=\"data row1 col1\" ><span style=\"color:#019612; text-weight:bold;\">ACCEPTED</span><br><strong>1</strong>. node: as2border2<br>&nbsp;&nbsp;ORIGINATED(default)<br>&nbsp;&nbsp;FORWARDED(ARP IP: 2.12.22.2, Output Interface: GigabitEthernet1/0, Routes: [ibgp (Network: 2.128.0.0/24, Next Hop IP:2.34.101.4),ibgp (Network: 2.128.0.0/24, Next Hop IP:2.34.201.4)])<br>&nbsp;&nbsp;TRANSMITTED(GigabitEthernet1/0)<br><strong>2</strong>. node: as2core2<br>&nbsp;&nbsp;RECEIVED(GigabitEthernet0/0)<br>&nbsp;&nbsp;FORWARDED(ARP IP: 2.23.22.3, Output Interface: GigabitEthernet2/0, Routes: [ibgp (Network: 2.128.0.0/24, Next Hop IP:2.34.201.4)])<br>&nbsp;&nbsp;TRANSMITTED(GigabitEthernet2/0)<br><strong>3</strong>. node: as2dist2<br>&nbsp;&nbsp;RECEIVED(GigabitEthernet0/0)<br>&nbsp;&nbsp;FORWARDED(ARP IP: 2.34.201.4, Output Interface: GigabitEthernet2/0, Routes: [bgp (Network: 2.128.0.0/24, Next Hop IP:2.34.201.4)])<br>&nbsp;&nbsp;TRANSMITTED(GigabitEthernet2/0)<br><strong>4</strong>. node: as2dept1<br>&nbsp;&nbsp;RECEIVED(GigabitEthernet1/0)<br>&nbsp;&nbsp;FORWARDED(ARP IP: AUTO/NONE(-1l), Output Interface: GigabitEthernet2/0, Routes: [connected (Network: 2.128.0.0/24, Next Hop IP:AUTO/NONE(-1l))])<br>&nbsp;&nbsp;TRANSMITTED(GigabitEthernet2/0)<br><strong>5</strong>. node: host1<br>&nbsp;&nbsp;RECEIVED(eth0)<br>&nbsp;&nbsp;PERMITTED(filter::INPUT (INGRESS_FILTER))<br>&nbsp;&nbsp;ACCEPTED(eth0)<br><br><span style=\"color:#019612; text-weight:bold;\">ACCEPTED</span><br><strong>1</strong>. node: as2border2<br>&nbsp;&nbsp;ORIGINATED(default)<br>&nbsp;&nbsp;FORWARDED(ARP IP: 2.12.22.2, Output Interface: GigabitEthernet1/0, Routes: [ibgp (Network: 2.128.0.0/24, Next Hop IP:2.34.101.4),ibgp (Network: 2.128.0.0/24, Next Hop IP:2.34.201.4)])<br>&nbsp;&nbsp;TRANSMITTED(GigabitEthernet1/0)<br><strong>2</strong>. node: as2core2<br>&nbsp;&nbsp;RECEIVED(GigabitEthernet0/0)<br>&nbsp;&nbsp;FORWARDED(ARP IP: 2.23.21.3, Output Interface: GigabitEthernet3/0, Routes: [ibgp (Network: 2.128.0.0/24, Next Hop IP:2.34.101.4)])<br>&nbsp;&nbsp;TRANSMITTED(GigabitEthernet3/0)<br><strong>3</strong>. node: as2dist1<br>&nbsp;&nbsp;RECEIVED(GigabitEthernet1/0)<br>&nbsp;&nbsp;FORWARDED(ARP IP: 2.34.101.4, Output Interface: GigabitEthernet2/0, Routes: [bgp (Network: 2.128.0.0/24, Next Hop IP:2.34.101.4)])<br>&nbsp;&nbsp;TRANSMITTED(GigabitEthernet2/0)<br><strong>4</strong>. node: as2dept1<br>&nbsp;&nbsp;RECEIVED(GigabitEthernet0/0)<br>&nbsp;&nbsp;FORWARDED(ARP IP: AUTO/NONE(-1l), Output Interface: GigabitEthernet2/0, Routes: [connected (Network: 2.128.0.0/24, Next Hop IP:AUTO/NONE(-1l))])<br>&nbsp;&nbsp;TRANSMITTED(GigabitEthernet2/0)<br><strong>5</strong>. node: host1<br>&nbsp;&nbsp;RECEIVED(eth0)<br>&nbsp;&nbsp;PERMITTED(filter::INPUT (INGRESS_FILTER))<br>&nbsp;&nbsp;ACCEPTED(eth0)<br><br><span style=\"color:#019612; text-weight:bold;\">ACCEPTED</span><br><strong>1</strong>. node: as2border2<br>&nbsp;&nbsp;ORIGINATED(default)<br>&nbsp;&nbsp;FORWARDED(ARP IP: 2.12.21.2, Output Interface: GigabitEthernet2/0, Routes: [ibgp (Network: 2.128.0.0/24, Next Hop IP:2.34.101.4),ibgp (Network: 2.128.0.0/24, Next Hop IP:2.34.201.4)])<br>&nbsp;&nbsp;TRANSMITTED(GigabitEthernet2/0)<br><strong>2</strong>. node: as2core1<br>&nbsp;&nbsp;RECEIVED(GigabitEthernet1/0)<br>&nbsp;&nbsp;FORWARDED(ARP IP: 2.23.11.3, Output Interface: GigabitEthernet2/0, Routes: [ibgp (Network: 2.128.0.0/24, Next Hop IP:2.34.101.4)])<br>&nbsp;&nbsp;TRANSMITTED(GigabitEthernet2/0)<br><strong>3</strong>. node: as2dist1<br>&nbsp;&nbsp;RECEIVED(GigabitEthernet0/0)<br>&nbsp;&nbsp;FORWARDED(ARP IP: 2.34.101.4, Output Interface: GigabitEthernet2/0, Routes: [bgp (Network: 2.128.0.0/24, Next Hop IP:2.34.101.4)])<br>&nbsp;&nbsp;TRANSMITTED(GigabitEthernet2/0)<br><strong>4</strong>. node: as2dept1<br>&nbsp;&nbsp;RECEIVED(GigabitEthernet0/0)<br>&nbsp;&nbsp;FORWARDED(ARP IP: AUTO/NONE(-1l), Output Interface: GigabitEthernet2/0, Routes: [connected (Network: 2.128.0.0/24, Next Hop IP:AUTO/NONE(-1l))])<br>&nbsp;&nbsp;TRANSMITTED(GigabitEthernet2/0)<br><strong>5</strong>. node: host1<br>&nbsp;&nbsp;RECEIVED(eth0)<br>&nbsp;&nbsp;PERMITTED(filter::INPUT (INGRESS_FILTER))<br>&nbsp;&nbsp;ACCEPTED(eth0)<br><br><span style=\"color:#019612; text-weight:bold;\">ACCEPTED</span><br><strong>1</strong>. node: as2border2<br>&nbsp;&nbsp;ORIGINATED(default)<br>&nbsp;&nbsp;FORWARDED(ARP IP: 2.12.21.2, Output Interface: GigabitEthernet2/0, Routes: [ibgp (Network: 2.128.0.0/24, Next Hop IP:2.34.101.4),ibgp (Network: 2.128.0.0/24, Next Hop IP:2.34.201.4)])<br>&nbsp;&nbsp;TRANSMITTED(GigabitEthernet2/0)<br><strong>2</strong>. node: as2core1<br>&nbsp;&nbsp;RECEIVED(GigabitEthernet1/0)<br>&nbsp;&nbsp;FORWARDED(ARP IP: 2.23.12.3, Output Interface: GigabitEthernet3/0, Routes: [ibgp (Network: 2.128.0.0/24, Next Hop IP:2.34.201.4)])<br>&nbsp;&nbsp;TRANSMITTED(GigabitEthernet3/0)<br><strong>3</strong>. node: as2dist2<br>&nbsp;&nbsp;RECEIVED(GigabitEthernet1/0)<br>&nbsp;&nbsp;FORWARDED(ARP IP: 2.34.201.4, Output Interface: GigabitEthernet2/0, Routes: [bgp (Network: 2.128.0.0/24, Next Hop IP:2.34.201.4)])<br>&nbsp;&nbsp;TRANSMITTED(GigabitEthernet2/0)<br><strong>4</strong>. node: as2dept1<br>&nbsp;&nbsp;RECEIVED(GigabitEthernet1/0)<br>&nbsp;&nbsp;FORWARDED(ARP IP: AUTO/NONE(-1l), Output Interface: GigabitEthernet2/0, Routes: [connected (Network: 2.128.0.0/24, Next Hop IP:AUTO/NONE(-1l))])<br>&nbsp;&nbsp;TRANSMITTED(GigabitEthernet2/0)<br><strong>5</strong>. node: host1<br>&nbsp;&nbsp;RECEIVED(eth0)<br>&nbsp;&nbsp;PERMITTED(filter::INPUT (INGRESS_FILTER))<br>&nbsp;&nbsp;ACCEPTED(eth0)</td>\n",
       "                        <td id=\"T_pybfstylerow1_col2\" class=\"data row1 col2\" >4</td>\n",
       "            </tr>\n",
       "            <tr>\n",
       "                        <th id=\"T_pybfstylelevel0_row2\" class=\"row_heading level0 row2\" >2</th>\n",
       "                        <td id=\"T_pybfstylerow2_col0\" class=\"data row2 col0\" >Start Location: as2core1<br>Src IP: 0.0.0.0<br>Src Port: 0<br>Dst IP: 2.128.0.101<br>Dst Port: 53<br>IP Protocol: UDP</td>\n",
       "                        <td id=\"T_pybfstylerow2_col1\" class=\"data row2 col1\" ><span style=\"color:#019612; text-weight:bold;\">ACCEPTED</span><br><strong>1</strong>. node: as2core1<br>&nbsp;&nbsp;ORIGINATED(default)<br>&nbsp;&nbsp;FORWARDED(ARP IP: 2.23.11.3, Output Interface: GigabitEthernet2/0, Routes: [ibgp (Network: 2.128.0.0/24, Next Hop IP:2.34.101.4)])<br>&nbsp;&nbsp;TRANSMITTED(GigabitEthernet2/0)<br><strong>2</strong>. node: as2dist1<br>&nbsp;&nbsp;RECEIVED(GigabitEthernet0/0)<br>&nbsp;&nbsp;FORWARDED(ARP IP: 2.34.101.4, Output Interface: GigabitEthernet2/0, Routes: [bgp (Network: 2.128.0.0/24, Next Hop IP:2.34.101.4)])<br>&nbsp;&nbsp;TRANSMITTED(GigabitEthernet2/0)<br><strong>3</strong>. node: as2dept1<br>&nbsp;&nbsp;RECEIVED(GigabitEthernet0/0)<br>&nbsp;&nbsp;FORWARDED(ARP IP: AUTO/NONE(-1l), Output Interface: GigabitEthernet2/0, Routes: [connected (Network: 2.128.0.0/24, Next Hop IP:AUTO/NONE(-1l))])<br>&nbsp;&nbsp;TRANSMITTED(GigabitEthernet2/0)<br><strong>4</strong>. node: host1<br>&nbsp;&nbsp;RECEIVED(eth0)<br>&nbsp;&nbsp;PERMITTED(filter::INPUT (INGRESS_FILTER))<br>&nbsp;&nbsp;ACCEPTED(eth0)<br><br><span style=\"color:#019612; text-weight:bold;\">ACCEPTED</span><br><strong>1</strong>. node: as2core1<br>&nbsp;&nbsp;ORIGINATED(default)<br>&nbsp;&nbsp;FORWARDED(ARP IP: 2.23.12.3, Output Interface: GigabitEthernet3/0, Routes: [ibgp (Network: 2.128.0.0/24, Next Hop IP:2.34.201.4)])<br>&nbsp;&nbsp;TRANSMITTED(GigabitEthernet3/0)<br><strong>2</strong>. node: as2dist2<br>&nbsp;&nbsp;RECEIVED(GigabitEthernet1/0)<br>&nbsp;&nbsp;FORWARDED(ARP IP: 2.34.201.4, Output Interface: GigabitEthernet2/0, Routes: [bgp (Network: 2.128.0.0/24, Next Hop IP:2.34.201.4)])<br>&nbsp;&nbsp;TRANSMITTED(GigabitEthernet2/0)<br><strong>3</strong>. node: as2dept1<br>&nbsp;&nbsp;RECEIVED(GigabitEthernet1/0)<br>&nbsp;&nbsp;FORWARDED(ARP IP: AUTO/NONE(-1l), Output Interface: GigabitEthernet2/0, Routes: [connected (Network: 2.128.0.0/24, Next Hop IP:AUTO/NONE(-1l))])<br>&nbsp;&nbsp;TRANSMITTED(GigabitEthernet2/0)<br><strong>4</strong>. node: host1<br>&nbsp;&nbsp;RECEIVED(eth0)<br>&nbsp;&nbsp;PERMITTED(filter::INPUT (INGRESS_FILTER))<br>&nbsp;&nbsp;ACCEPTED(eth0)</td>\n",
       "                        <td id=\"T_pybfstylerow2_col2\" class=\"data row2 col2\" >2</td>\n",
       "            </tr>\n",
       "            <tr>\n",
       "                        <th id=\"T_pybfstylelevel0_row3\" class=\"row_heading level0 row3\" >3</th>\n",
       "                        <td id=\"T_pybfstylerow3_col0\" class=\"data row3 col0\" >Start Location: as2core2<br>Src IP: 0.0.0.0<br>Src Port: 0<br>Dst IP: 2.128.0.101<br>Dst Port: 53<br>IP Protocol: UDP</td>\n",
       "                        <td id=\"T_pybfstylerow3_col1\" class=\"data row3 col1\" ><span style=\"color:#019612; text-weight:bold;\">ACCEPTED</span><br><strong>1</strong>. node: as2core2<br>&nbsp;&nbsp;ORIGINATED(default)<br>&nbsp;&nbsp;FORWARDED(ARP IP: 2.23.22.3, Output Interface: GigabitEthernet2/0, Routes: [ibgp (Network: 2.128.0.0/24, Next Hop IP:2.34.201.4)])<br>&nbsp;&nbsp;TRANSMITTED(GigabitEthernet2/0)<br><strong>2</strong>. node: as2dist2<br>&nbsp;&nbsp;RECEIVED(GigabitEthernet0/0)<br>&nbsp;&nbsp;FORWARDED(ARP IP: 2.34.201.4, Output Interface: GigabitEthernet2/0, Routes: [bgp (Network: 2.128.0.0/24, Next Hop IP:2.34.201.4)])<br>&nbsp;&nbsp;TRANSMITTED(GigabitEthernet2/0)<br><strong>3</strong>. node: as2dept1<br>&nbsp;&nbsp;RECEIVED(GigabitEthernet1/0)<br>&nbsp;&nbsp;FORWARDED(ARP IP: AUTO/NONE(-1l), Output Interface: GigabitEthernet2/0, Routes: [connected (Network: 2.128.0.0/24, Next Hop IP:AUTO/NONE(-1l))])<br>&nbsp;&nbsp;TRANSMITTED(GigabitEthernet2/0)<br><strong>4</strong>. node: host1<br>&nbsp;&nbsp;RECEIVED(eth0)<br>&nbsp;&nbsp;PERMITTED(filter::INPUT (INGRESS_FILTER))<br>&nbsp;&nbsp;ACCEPTED(eth0)<br><br><span style=\"color:#019612; text-weight:bold;\">ACCEPTED</span><br><strong>1</strong>. node: as2core2<br>&nbsp;&nbsp;ORIGINATED(default)<br>&nbsp;&nbsp;FORWARDED(ARP IP: 2.23.21.3, Output Interface: GigabitEthernet3/0, Routes: [ibgp (Network: 2.128.0.0/24, Next Hop IP:2.34.101.4)])<br>&nbsp;&nbsp;TRANSMITTED(GigabitEthernet3/0)<br><strong>2</strong>. node: as2dist1<br>&nbsp;&nbsp;RECEIVED(GigabitEthernet1/0)<br>&nbsp;&nbsp;FORWARDED(ARP IP: 2.34.101.4, Output Interface: GigabitEthernet2/0, Routes: [bgp (Network: 2.128.0.0/24, Next Hop IP:2.34.101.4)])<br>&nbsp;&nbsp;TRANSMITTED(GigabitEthernet2/0)<br><strong>3</strong>. node: as2dept1<br>&nbsp;&nbsp;RECEIVED(GigabitEthernet0/0)<br>&nbsp;&nbsp;FORWARDED(ARP IP: AUTO/NONE(-1l), Output Interface: GigabitEthernet2/0, Routes: [connected (Network: 2.128.0.0/24, Next Hop IP:AUTO/NONE(-1l))])<br>&nbsp;&nbsp;TRANSMITTED(GigabitEthernet2/0)<br><strong>4</strong>. node: host1<br>&nbsp;&nbsp;RECEIVED(eth0)<br>&nbsp;&nbsp;PERMITTED(filter::INPUT (INGRESS_FILTER))<br>&nbsp;&nbsp;ACCEPTED(eth0)</td>\n",
       "                        <td id=\"T_pybfstylerow3_col2\" class=\"data row3 col2\" >2</td>\n",
       "            </tr>\n",
       "            <tr>\n",
       "                        <th id=\"T_pybfstylelevel0_row4\" class=\"row_heading level0 row4\" >4</th>\n",
       "                        <td id=\"T_pybfstylerow4_col0\" class=\"data row4 col0\" >Start Location: as2dept1<br>Src IP: 0.0.0.0<br>Src Port: 0<br>Dst IP: 2.128.0.101<br>Dst Port: 53<br>IP Protocol: UDP</td>\n",
       "                        <td id=\"T_pybfstylerow4_col1\" class=\"data row4 col1\" ><span style=\"color:#019612; text-weight:bold;\">ACCEPTED</span><br><strong>1</strong>. node: as2dept1<br>&nbsp;&nbsp;ORIGINATED(default)<br>&nbsp;&nbsp;FORWARDED(ARP IP: AUTO/NONE(-1l), Output Interface: GigabitEthernet2/0, Routes: [connected (Network: 2.128.0.0/24, Next Hop IP:AUTO/NONE(-1l))])<br>&nbsp;&nbsp;TRANSMITTED(GigabitEthernet2/0)<br><strong>2</strong>. node: host1<br>&nbsp;&nbsp;RECEIVED(eth0)<br>&nbsp;&nbsp;PERMITTED(filter::INPUT (INGRESS_FILTER))<br>&nbsp;&nbsp;ACCEPTED(eth0)</td>\n",
       "                        <td id=\"T_pybfstylerow4_col2\" class=\"data row4 col2\" >1</td>\n",
       "            </tr>\n",
       "            <tr>\n",
       "                        <th id=\"T_pybfstylelevel0_row5\" class=\"row_heading level0 row5\" >5</th>\n",
       "                        <td id=\"T_pybfstylerow5_col0\" class=\"data row5 col0\" >Start Location: as2dist1<br>Src IP: 0.0.0.0<br>Src Port: 0<br>Dst IP: 2.128.0.101<br>Dst Port: 53<br>IP Protocol: UDP</td>\n",
       "                        <td id=\"T_pybfstylerow5_col1\" class=\"data row5 col1\" ><span style=\"color:#019612; text-weight:bold;\">ACCEPTED</span><br><strong>1</strong>. node: as2dist1<br>&nbsp;&nbsp;ORIGINATED(default)<br>&nbsp;&nbsp;FORWARDED(ARP IP: 2.34.101.4, Output Interface: GigabitEthernet2/0, Routes: [bgp (Network: 2.128.0.0/24, Next Hop IP:2.34.101.4)])<br>&nbsp;&nbsp;TRANSMITTED(GigabitEthernet2/0)<br><strong>2</strong>. node: as2dept1<br>&nbsp;&nbsp;RECEIVED(GigabitEthernet0/0)<br>&nbsp;&nbsp;FORWARDED(ARP IP: AUTO/NONE(-1l), Output Interface: GigabitEthernet2/0, Routes: [connected (Network: 2.128.0.0/24, Next Hop IP:AUTO/NONE(-1l))])<br>&nbsp;&nbsp;TRANSMITTED(GigabitEthernet2/0)<br><strong>3</strong>. node: host1<br>&nbsp;&nbsp;RECEIVED(eth0)<br>&nbsp;&nbsp;PERMITTED(filter::INPUT (INGRESS_FILTER))<br>&nbsp;&nbsp;ACCEPTED(eth0)</td>\n",
       "                        <td id=\"T_pybfstylerow5_col2\" class=\"data row5 col2\" >1</td>\n",
       "            </tr>\n",
       "            <tr>\n",
       "                        <th id=\"T_pybfstylelevel0_row6\" class=\"row_heading level0 row6\" >6</th>\n",
       "                        <td id=\"T_pybfstylerow6_col0\" class=\"data row6 col0\" >Start Location: as2dist2<br>Src IP: 0.0.0.0<br>Src Port: 0<br>Dst IP: 2.128.0.101<br>Dst Port: 53<br>IP Protocol: UDP</td>\n",
       "                        <td id=\"T_pybfstylerow6_col1\" class=\"data row6 col1\" ><span style=\"color:#019612; text-weight:bold;\">ACCEPTED</span><br><strong>1</strong>. node: as2dist2<br>&nbsp;&nbsp;ORIGINATED(default)<br>&nbsp;&nbsp;FORWARDED(ARP IP: 2.34.201.4, Output Interface: GigabitEthernet2/0, Routes: [bgp (Network: 2.128.0.0/24, Next Hop IP:2.34.201.4)])<br>&nbsp;&nbsp;TRANSMITTED(GigabitEthernet2/0)<br><strong>2</strong>. node: as2dept1<br>&nbsp;&nbsp;RECEIVED(GigabitEthernet1/0)<br>&nbsp;&nbsp;FORWARDED(ARP IP: AUTO/NONE(-1l), Output Interface: GigabitEthernet2/0, Routes: [connected (Network: 2.128.0.0/24, Next Hop IP:AUTO/NONE(-1l))])<br>&nbsp;&nbsp;TRANSMITTED(GigabitEthernet2/0)<br><strong>3</strong>. node: host1<br>&nbsp;&nbsp;RECEIVED(eth0)<br>&nbsp;&nbsp;PERMITTED(filter::INPUT (INGRESS_FILTER))<br>&nbsp;&nbsp;ACCEPTED(eth0)</td>\n",
       "                        <td id=\"T_pybfstylerow6_col2\" class=\"data row6 col2\" >1</td>\n",
       "            </tr>\n",
       "    </tbody></table>"
      ],
      "text/plain": [
       "                                                          Flow  \\\n",
       "0  start=as2border1 [0.0.0.0:0->2.128.0.101:53 UDP length=512]   \n",
       "1  start=as2border2 [0.0.0.0:0->2.128.0.101:53 UDP length=512]   \n",
       "2  start=as2core1 [0.0.0.0:0->2.128.0.101:53 UDP length=512]     \n",
       "3  start=as2core2 [0.0.0.0:0->2.128.0.101:53 UDP length=512]     \n",
       "4  start=as2dept1 [0.0.0.0:0->2.128.0.101:53 UDP length=512]     \n",
       "5  start=as2dist1 [0.0.0.0:0->2.128.0.101:53 UDP length=512]     \n",
       "6  start=as2dist2 [0.0.0.0:0->2.128.0.101:53 UDP length=512]     \n",
       "\n",
       "                                                                                                                                                                                                                                                                                                                                                                                                                                                                                                                                                                                                                                                                                                                                                                                                                                                                                                                                                                                                                                                                                                                                                                                                                                                                                                                                                                                                                                                                                                                                                                                                                                                                                                                                                                                                                                                                                                                                                                                                                                                                                                                                                                                                                                                                                                                                                                                                                                                                                                                                                                                                                                                                                                                                                                                                                                                                                                                                                                                                                                                                                                                                                                                                                                                                                                                                                                                                                                                                                                                                                                                                                                                                                                                                                                                                                                                 Traces  \\\n",
       "0  [((ORIGINATED(default), FORWARDED(ARP IP: 2.12.11.2, Output Interface: GigabitEthernet1/0, Routes: [ibgp (Network: 2.128.0.0/24, Next Hop IP:2.34.101.4),ibgp (Network: 2.128.0.0/24, Next Hop IP:2.34.201.4)]), TRANSMITTED(GigabitEthernet1/0)), (RECEIVED(GigabitEthernet0/0), FORWARDED(ARP IP: 2.23.11.3, Output Interface: GigabitEthernet2/0, Routes: [ibgp (Network: 2.128.0.0/24, Next Hop IP:2.34.101.4)]), TRANSMITTED(GigabitEthernet2/0)), (RECEIVED(GigabitEthernet0/0), FORWARDED(ARP IP: 2.34.101.4, Output Interface: GigabitEthernet2/0, Routes: [bgp (Network: 2.128.0.0/24, Next Hop IP:2.34.101.4)]), TRANSMITTED(GigabitEthernet2/0)), (RECEIVED(GigabitEthernet0/0), FORWARDED(ARP IP: AUTO/NONE(-1l), Output Interface: GigabitEthernet2/0, Routes: [connected (Network: 2.128.0.0/24, Next Hop IP:AUTO/NONE(-1l))]), TRANSMITTED(GigabitEthernet2/0)), (RECEIVED(eth0), PERMITTED(filter::INPUT (INGRESS_FILTER)), ACCEPTED(eth0))), ((ORIGINATED(default), FORWARDED(ARP IP: 2.12.11.2, Output Interface: GigabitEthernet1/0, Routes: [ibgp (Network: 2.128.0.0/24, Next Hop IP:2.34.101.4),ibgp (Network: 2.128.0.0/24, Next Hop IP:2.34.201.4)]), TRANSMITTED(GigabitEthernet1/0)), (RECEIVED(GigabitEthernet0/0), FORWARDED(ARP IP: 2.23.12.3, Output Interface: GigabitEthernet3/0, Routes: [ibgp (Network: 2.128.0.0/24, Next Hop IP:2.34.201.4)]), TRANSMITTED(GigabitEthernet3/0)), (RECEIVED(GigabitEthernet1/0), FORWARDED(ARP IP: 2.34.201.4, Output Interface: GigabitEthernet2/0, Routes: [bgp (Network: 2.128.0.0/24, Next Hop IP:2.34.201.4)]), TRANSMITTED(GigabitEthernet2/0)), (RECEIVED(GigabitEthernet1/0), FORWARDED(ARP IP: AUTO/NONE(-1l), Output Interface: GigabitEthernet2/0, Routes: [connected (Network: 2.128.0.0/24, Next Hop IP:AUTO/NONE(-1l))]), TRANSMITTED(GigabitEthernet2/0)), (RECEIVED(eth0), PERMITTED(filter::INPUT (INGRESS_FILTER)), ACCEPTED(eth0))), ((ORIGINATED(default), FORWARDED(ARP IP: 2.12.12.2, Output Interface: GigabitEthernet2/0, Routes: [ibgp (Network: 2.128.0.0/24, Next Hop IP:2.34.101.4),ibgp (Network: 2.128.0.0/24, Next Hop IP:2.34.201.4)]), TRANSMITTED(GigabitEthernet2/0)), (RECEIVED(GigabitEthernet1/0), FORWARDED(ARP IP: 2.23.22.3, Output Interface: GigabitEthernet2/0, Routes: [ibgp (Network: 2.128.0.0/24, Next Hop IP:2.34.201.4)]), TRANSMITTED(GigabitEthernet2/0)), (RECEIVED(GigabitEthernet0/0), FORWARDED(ARP IP: 2.34.201.4, Output Interface: GigabitEthernet2/0, Routes: [bgp (Network: 2.128.0.0/24, Next Hop IP:2.34.201.4)]), TRANSMITTED(GigabitEthernet2/0)), (RECEIVED(GigabitEthernet1/0), FORWARDED(ARP IP: AUTO/NONE(-1l), Output Interface: GigabitEthernet2/0, Routes: [connected (Network: 2.128.0.0/24, Next Hop IP:AUTO/NONE(-1l))]), TRANSMITTED(GigabitEthernet2/0)), (RECEIVED(eth0), PERMITTED(filter::INPUT (INGRESS_FILTER)), ACCEPTED(eth0))), ((ORIGINATED(default), FORWARDED(ARP IP: 2.12.12.2, Output Interface: GigabitEthernet2/0, Routes: [ibgp (Network: 2.128.0.0/24, Next Hop IP:2.34.101.4),ibgp (Network: 2.128.0.0/24, Next Hop IP:2.34.201.4)]), TRANSMITTED(GigabitEthernet2/0)), (RECEIVED(GigabitEthernet1/0), FORWARDED(ARP IP: 2.23.21.3, Output Interface: GigabitEthernet3/0, Routes: [ibgp (Network: 2.128.0.0/24, Next Hop IP:2.34.101.4)]), TRANSMITTED(GigabitEthernet3/0)), (RECEIVED(GigabitEthernet1/0), FORWARDED(ARP IP: 2.34.101.4, Output Interface: GigabitEthernet2/0, Routes: [bgp (Network: 2.128.0.0/24, Next Hop IP:2.34.101.4)]), TRANSMITTED(GigabitEthernet2/0)), (RECEIVED(GigabitEthernet0/0), FORWARDED(ARP IP: AUTO/NONE(-1l), Output Interface: GigabitEthernet2/0, Routes: [connected (Network: 2.128.0.0/24, Next Hop IP:AUTO/NONE(-1l))]), TRANSMITTED(GigabitEthernet2/0)), (RECEIVED(eth0), PERMITTED(filter::INPUT (INGRESS_FILTER)), ACCEPTED(eth0)))]   \n",
       "1  [((ORIGINATED(default), FORWARDED(ARP IP: 2.12.22.2, Output Interface: GigabitEthernet1/0, Routes: [ibgp (Network: 2.128.0.0/24, Next Hop IP:2.34.101.4),ibgp (Network: 2.128.0.0/24, Next Hop IP:2.34.201.4)]), TRANSMITTED(GigabitEthernet1/0)), (RECEIVED(GigabitEthernet0/0), FORWARDED(ARP IP: 2.23.22.3, Output Interface: GigabitEthernet2/0, Routes: [ibgp (Network: 2.128.0.0/24, Next Hop IP:2.34.201.4)]), TRANSMITTED(GigabitEthernet2/0)), (RECEIVED(GigabitEthernet0/0), FORWARDED(ARP IP: 2.34.201.4, Output Interface: GigabitEthernet2/0, Routes: [bgp (Network: 2.128.0.0/24, Next Hop IP:2.34.201.4)]), TRANSMITTED(GigabitEthernet2/0)), (RECEIVED(GigabitEthernet1/0), FORWARDED(ARP IP: AUTO/NONE(-1l), Output Interface: GigabitEthernet2/0, Routes: [connected (Network: 2.128.0.0/24, Next Hop IP:AUTO/NONE(-1l))]), TRANSMITTED(GigabitEthernet2/0)), (RECEIVED(eth0), PERMITTED(filter::INPUT (INGRESS_FILTER)), ACCEPTED(eth0))), ((ORIGINATED(default), FORWARDED(ARP IP: 2.12.22.2, Output Interface: GigabitEthernet1/0, Routes: [ibgp (Network: 2.128.0.0/24, Next Hop IP:2.34.101.4),ibgp (Network: 2.128.0.0/24, Next Hop IP:2.34.201.4)]), TRANSMITTED(GigabitEthernet1/0)), (RECEIVED(GigabitEthernet0/0), FORWARDED(ARP IP: 2.23.21.3, Output Interface: GigabitEthernet3/0, Routes: [ibgp (Network: 2.128.0.0/24, Next Hop IP:2.34.101.4)]), TRANSMITTED(GigabitEthernet3/0)), (RECEIVED(GigabitEthernet1/0), FORWARDED(ARP IP: 2.34.101.4, Output Interface: GigabitEthernet2/0, Routes: [bgp (Network: 2.128.0.0/24, Next Hop IP:2.34.101.4)]), TRANSMITTED(GigabitEthernet2/0)), (RECEIVED(GigabitEthernet0/0), FORWARDED(ARP IP: AUTO/NONE(-1l), Output Interface: GigabitEthernet2/0, Routes: [connected (Network: 2.128.0.0/24, Next Hop IP:AUTO/NONE(-1l))]), TRANSMITTED(GigabitEthernet2/0)), (RECEIVED(eth0), PERMITTED(filter::INPUT (INGRESS_FILTER)), ACCEPTED(eth0))), ((ORIGINATED(default), FORWARDED(ARP IP: 2.12.21.2, Output Interface: GigabitEthernet2/0, Routes: [ibgp (Network: 2.128.0.0/24, Next Hop IP:2.34.101.4),ibgp (Network: 2.128.0.0/24, Next Hop IP:2.34.201.4)]), TRANSMITTED(GigabitEthernet2/0)), (RECEIVED(GigabitEthernet1/0), FORWARDED(ARP IP: 2.23.11.3, Output Interface: GigabitEthernet2/0, Routes: [ibgp (Network: 2.128.0.0/24, Next Hop IP:2.34.101.4)]), TRANSMITTED(GigabitEthernet2/0)), (RECEIVED(GigabitEthernet0/0), FORWARDED(ARP IP: 2.34.101.4, Output Interface: GigabitEthernet2/0, Routes: [bgp (Network: 2.128.0.0/24, Next Hop IP:2.34.101.4)]), TRANSMITTED(GigabitEthernet2/0)), (RECEIVED(GigabitEthernet0/0), FORWARDED(ARP IP: AUTO/NONE(-1l), Output Interface: GigabitEthernet2/0, Routes: [connected (Network: 2.128.0.0/24, Next Hop IP:AUTO/NONE(-1l))]), TRANSMITTED(GigabitEthernet2/0)), (RECEIVED(eth0), PERMITTED(filter::INPUT (INGRESS_FILTER)), ACCEPTED(eth0))), ((ORIGINATED(default), FORWARDED(ARP IP: 2.12.21.2, Output Interface: GigabitEthernet2/0, Routes: [ibgp (Network: 2.128.0.0/24, Next Hop IP:2.34.101.4),ibgp (Network: 2.128.0.0/24, Next Hop IP:2.34.201.4)]), TRANSMITTED(GigabitEthernet2/0)), (RECEIVED(GigabitEthernet1/0), FORWARDED(ARP IP: 2.23.12.3, Output Interface: GigabitEthernet3/0, Routes: [ibgp (Network: 2.128.0.0/24, Next Hop IP:2.34.201.4)]), TRANSMITTED(GigabitEthernet3/0)), (RECEIVED(GigabitEthernet1/0), FORWARDED(ARP IP: 2.34.201.4, Output Interface: GigabitEthernet2/0, Routes: [bgp (Network: 2.128.0.0/24, Next Hop IP:2.34.201.4)]), TRANSMITTED(GigabitEthernet2/0)), (RECEIVED(GigabitEthernet1/0), FORWARDED(ARP IP: AUTO/NONE(-1l), Output Interface: GigabitEthernet2/0, Routes: [connected (Network: 2.128.0.0/24, Next Hop IP:AUTO/NONE(-1l))]), TRANSMITTED(GigabitEthernet2/0)), (RECEIVED(eth0), PERMITTED(filter::INPUT (INGRESS_FILTER)), ACCEPTED(eth0)))]   \n",
       "2  [((ORIGINATED(default), FORWARDED(ARP IP: 2.23.11.3, Output Interface: GigabitEthernet2/0, Routes: [ibgp (Network: 2.128.0.0/24, Next Hop IP:2.34.101.4)]), TRANSMITTED(GigabitEthernet2/0)), (RECEIVED(GigabitEthernet0/0), FORWARDED(ARP IP: 2.34.101.4, Output Interface: GigabitEthernet2/0, Routes: [bgp (Network: 2.128.0.0/24, Next Hop IP:2.34.101.4)]), TRANSMITTED(GigabitEthernet2/0)), (RECEIVED(GigabitEthernet0/0), FORWARDED(ARP IP: AUTO/NONE(-1l), Output Interface: GigabitEthernet2/0, Routes: [connected (Network: 2.128.0.0/24, Next Hop IP:AUTO/NONE(-1l))]), TRANSMITTED(GigabitEthernet2/0)), (RECEIVED(eth0), PERMITTED(filter::INPUT (INGRESS_FILTER)), ACCEPTED(eth0))), ((ORIGINATED(default), FORWARDED(ARP IP: 2.23.12.3, Output Interface: GigabitEthernet3/0, Routes: [ibgp (Network: 2.128.0.0/24, Next Hop IP:2.34.201.4)]), TRANSMITTED(GigabitEthernet3/0)), (RECEIVED(GigabitEthernet1/0), FORWARDED(ARP IP: 2.34.201.4, Output Interface: GigabitEthernet2/0, Routes: [bgp (Network: 2.128.0.0/24, Next Hop IP:2.34.201.4)]), TRANSMITTED(GigabitEthernet2/0)), (RECEIVED(GigabitEthernet1/0), FORWARDED(ARP IP: AUTO/NONE(-1l), Output Interface: GigabitEthernet2/0, Routes: [connected (Network: 2.128.0.0/24, Next Hop IP:AUTO/NONE(-1l))]), TRANSMITTED(GigabitEthernet2/0)), (RECEIVED(eth0), PERMITTED(filter::INPUT (INGRESS_FILTER)), ACCEPTED(eth0)))]                                                                                                                                                                                                                                                                                                                                                                                                                                                                                                                                                                                                                                                                                                                                                                                                                                                                                                                                                                                                                                                                                                                                                                                                                                                                                                                                                                                                                                                                                                                                                                                                                                                                                                                                                                                                                                                                                                                                                                                                                                                                                                                                                                                                                                                                                                                                                                                                                                                 \n",
       "3  [((ORIGINATED(default), FORWARDED(ARP IP: 2.23.22.3, Output Interface: GigabitEthernet2/0, Routes: [ibgp (Network: 2.128.0.0/24, Next Hop IP:2.34.201.4)]), TRANSMITTED(GigabitEthernet2/0)), (RECEIVED(GigabitEthernet0/0), FORWARDED(ARP IP: 2.34.201.4, Output Interface: GigabitEthernet2/0, Routes: [bgp (Network: 2.128.0.0/24, Next Hop IP:2.34.201.4)]), TRANSMITTED(GigabitEthernet2/0)), (RECEIVED(GigabitEthernet1/0), FORWARDED(ARP IP: AUTO/NONE(-1l), Output Interface: GigabitEthernet2/0, Routes: [connected (Network: 2.128.0.0/24, Next Hop IP:AUTO/NONE(-1l))]), TRANSMITTED(GigabitEthernet2/0)), (RECEIVED(eth0), PERMITTED(filter::INPUT (INGRESS_FILTER)), ACCEPTED(eth0))), ((ORIGINATED(default), FORWARDED(ARP IP: 2.23.21.3, Output Interface: GigabitEthernet3/0, Routes: [ibgp (Network: 2.128.0.0/24, Next Hop IP:2.34.101.4)]), TRANSMITTED(GigabitEthernet3/0)), (RECEIVED(GigabitEthernet1/0), FORWARDED(ARP IP: 2.34.101.4, Output Interface: GigabitEthernet2/0, Routes: [bgp (Network: 2.128.0.0/24, Next Hop IP:2.34.101.4)]), TRANSMITTED(GigabitEthernet2/0)), (RECEIVED(GigabitEthernet0/0), FORWARDED(ARP IP: AUTO/NONE(-1l), Output Interface: GigabitEthernet2/0, Routes: [connected (Network: 2.128.0.0/24, Next Hop IP:AUTO/NONE(-1l))]), TRANSMITTED(GigabitEthernet2/0)), (RECEIVED(eth0), PERMITTED(filter::INPUT (INGRESS_FILTER)), ACCEPTED(eth0)))]                                                                                                                                                                                                                                                                                                                                                                                                                                                                                                                                                                                                                                                                                                                                                                                                                                                                                                                                                                                                                                                                                                                                                                                                                                                                                                                                                                                                                                                                                                                                                                                                                                                                                                                                                                                                                                                                                                                                                                                                                                                                                                                                                                                                                                                                                                                                                                                                                                                 \n",
       "4  [((ORIGINATED(default), FORWARDED(ARP IP: AUTO/NONE(-1l), Output Interface: GigabitEthernet2/0, Routes: [connected (Network: 2.128.0.0/24, Next Hop IP:AUTO/NONE(-1l))]), TRANSMITTED(GigabitEthernet2/0)), (RECEIVED(eth0), PERMITTED(filter::INPUT (INGRESS_FILTER)), ACCEPTED(eth0)))]                                                                                                                                                                                                                                                                                                                                                                                                                                                                                                                                                                                                                                                                                                                                                                                                                                                                                                                                                                                                                                                                                                                                                                                                                                                                                                                                                                                                                                                                                                                                                                                                                                                                                                                                                                                                                                                                                                                                                                                                                                                                                                                                                                                                                                                                                                                                                                                                                                                                                                                                                                                                                                                                                                                                                                                                                                                                                                                                                                                                                                                                                                                                                                                                                                                                                                                                                                                                                                                                                                                                                              \n",
       "5  [((ORIGINATED(default), FORWARDED(ARP IP: 2.34.101.4, Output Interface: GigabitEthernet2/0, Routes: [bgp (Network: 2.128.0.0/24, Next Hop IP:2.34.101.4)]), TRANSMITTED(GigabitEthernet2/0)), (RECEIVED(GigabitEthernet0/0), FORWARDED(ARP IP: AUTO/NONE(-1l), Output Interface: GigabitEthernet2/0, Routes: [connected (Network: 2.128.0.0/24, Next Hop IP:AUTO/NONE(-1l))]), TRANSMITTED(GigabitEthernet2/0)), (RECEIVED(eth0), PERMITTED(filter::INPUT (INGRESS_FILTER)), ACCEPTED(eth0)))]                                                                                                                                                                                                                                                                                                                                                                                                                                                                                                                                                                                                                                                                                                                                                                                                                                                                                                                                                                                                                                                                                                                                                                                                                                                                                                                                                                                                                                                                                                                                                                                                                                                                                                                                                                                                                                                                                                                                                                                                                                                                                                                                                                                                                                                                                                                                                                                                                                                                                                                                                                                                                                                                                                                                                                                                                                                                                                                                                                                                                                                                                                                                                                                                                                                                                                                                                         \n",
       "6  [((ORIGINATED(default), FORWARDED(ARP IP: 2.34.201.4, Output Interface: GigabitEthernet2/0, Routes: [bgp (Network: 2.128.0.0/24, Next Hop IP:2.34.201.4)]), TRANSMITTED(GigabitEthernet2/0)), (RECEIVED(GigabitEthernet1/0), FORWARDED(ARP IP: AUTO/NONE(-1l), Output Interface: GigabitEthernet2/0, Routes: [connected (Network: 2.128.0.0/24, Next Hop IP:AUTO/NONE(-1l))]), TRANSMITTED(GigabitEthernet2/0)), (RECEIVED(eth0), PERMITTED(filter::INPUT (INGRESS_FILTER)), ACCEPTED(eth0)))]                                                                                                                                                                                                                                                                                                                                                                                                                                                                                                                                                                                                                                                                                                                                                                                                                                                                                                                                                                                                                                                                                                                                                                                                                                                                                                                                                                                                                                                                                                                                                                                                                                                                                                                                                                                                                                                                                                                                                                                                                                                                                                                                                                                                                                                                                                                                                                                                                                                                                                                                                                                                                                                                                                                                                                                                                                                                                                                                                                                                                                                                                                                                                                                                                                                                                                                                                         \n",
       "\n",
       "  TraceCount  \n",
       "0  4          \n",
       "1  4          \n",
       "2  2          \n",
       "3  2          \n",
       "4  1          \n",
       "5  1          \n",
       "6  1          "
      ]
     },
     "metadata": {},
     "output_type": "display_data"
    }
   ],
   "source": [
    "path = PathConstraints(startLocation=\"/as2/\")\n",
    "headers = HeaderConstraints(srcIps=\"0.0.0.0/0\", dstIps=\"host1\", applications=\"DNS\")\n",
    "reach = bfq.reachability(pathConstraints=path, headers=headers, actions=\"success\").answer().frame()\n",
    "show(reach)"
   ]
  },
  {
   "cell_type": "markdown",
   "metadata": {
    "colab_type": "text",
    "id": "SPp-llYPWYkS"
   },
   "source": [
    "As you can see, this query found *some* DNS flow entering the network at *each* `as2...` node destined for `host1` that would be delivered. This guarantees that DNS is at least partially available (some authorized nodes can reach `host1`). \n",
    "\n",
    "## Using Batfish Reachability as a verification tool\n",
    "\n",
    "Batfish's reachability analysis performs an *exhaustive* search, considering every possible flow. This makes it a very powerful tool for finding bugs, and when no bugs are found, it provides **strong guarantees** about the network behavior. It allows you to **verify** essential network properties like availability or security (i.e., presence or absence of reachability). In the following examples shows we'll use reachability to verify the intended availability and security properties of our DNS server.\n",
    "\n",
    "### Example 2: Verify that the DNS server is available *everywhere* inside AS2 \n",
    "To verify DNS is available inside of AS2, we search for flows that would demonstrate a lack of availability -- i.e. DNS flows to `host1` that would **fail** to be delivered.  Our intent in this case is that no such flows should exist in the network, and this is where we see the power of exhaustive search. If Batfish does not find any dropped DNS flows to `host1`,  we have **verified** availability. \n",
    "\n"
   ]
  },
  {
   "cell_type": "code",
   "execution_count": 10,
   "metadata": {
    "colab": {
     "base_uri": "https://localhost:8080/",
     "height": 49
    },
    "colab_type": "code",
    "id": "5MlHXsXsWYkS",
    "outputId": "291c3e43-e8be-4549-da5c-b95677d8e267"
   },
   "outputs": [
    {
     "data": {
      "text/html": [
       "<div>\n",
       "<style scoped>\n",
       "    .dataframe tbody tr th:only-of-type {\n",
       "        vertical-align: middle;\n",
       "    }\n",
       "\n",
       "    .dataframe tbody tr th {\n",
       "        vertical-align: top;\n",
       "    }\n",
       "\n",
       "    .dataframe thead th {\n",
       "        text-align: right;\n",
       "    }\n",
       "</style>\n",
       "<table border=\"1\" class=\"dataframe tex2jax_ignore\">\n",
       "  <thead>\n",
       "    <tr style=\"text-align: right;\">\n",
       "      <th></th>\n",
       "      <th>Flow</th>\n",
       "      <th>Traces</th>\n",
       "      <th>TraceCount</th>\n",
       "    </tr>\n",
       "  </thead>\n",
       "  <tbody>\n",
       "  </tbody>\n",
       "</table>\n",
       "</div>"
      ],
      "text/plain": [
       "Empty DataFrame\n",
       "Columns: [Flow, Traces, TraceCount]\n",
       "Index: []"
      ]
     },
     "metadata": {},
     "output_type": "display_data"
    }
   ],
   "source": [
    "path = PathConstraints(startLocation=\"/as2/\")\n",
    "headers = HeaderConstraints(dstIps=\"host1\", applications=\"DNS\")\n",
    "reach = bfq.reachability(pathConstraints=path, headers=headers, actions=\"failure\").answer().frame()\n",
    "show(reach)"
   ]
  },
  {
   "cell_type": "markdown",
   "metadata": {
    "colab_type": "text",
    "id": "edZTPhaQBC0Z"
   },
   "source": [
    "The fact that Batfish returned 0 flows guarantees that `host1` is reachable via DNS from everywhere within AS2. This guarantees that DNS is available to all authorized nodes."
   ]
  },
  {
   "cell_type": "markdown",
   "metadata": {
    "colab_type": "text",
    "id": "QKKLIHtuWYkY"
   },
   "source": [
    "### Example 3: No UDP traffic except DNS is accessible on host1\n",
    "Next, let's verify a security property: that no UDP traffic other than DNS will reach `host1`. We do this by searching for any UDP flows **accepted** by `host1` that are **not DNS**:"
   ]
  },
  {
   "cell_type": "code",
   "execution_count": 11,
   "metadata": {
    "colab": {
     "base_uri": "https://localhost:8080/",
     "height": 49
    },
    "colab_type": "code",
    "id": "v1JyjEWYWYkZ",
    "outputId": "9ce8e204-6086-4937-9c7a-8f70b87cbc67",
    "scrolled": true
   },
   "outputs": [
    {
     "data": {
      "text/html": [
       "<div>\n",
       "<style scoped>\n",
       "    .dataframe tbody tr th:only-of-type {\n",
       "        vertical-align: middle;\n",
       "    }\n",
       "\n",
       "    .dataframe tbody tr th {\n",
       "        vertical-align: top;\n",
       "    }\n",
       "\n",
       "    .dataframe thead th {\n",
       "        text-align: right;\n",
       "    }\n",
       "</style>\n",
       "<table border=\"1\" class=\"dataframe tex2jax_ignore\">\n",
       "  <thead>\n",
       "    <tr style=\"text-align: right;\">\n",
       "      <th></th>\n",
       "      <th>Flow</th>\n",
       "      <th>Traces</th>\n",
       "      <th>TraceCount</th>\n",
       "    </tr>\n",
       "  </thead>\n",
       "  <tbody>\n",
       "  </tbody>\n",
       "</table>\n",
       "</div>"
      ],
      "text/plain": [
       "Empty DataFrame\n",
       "Columns: [Flow, Traces, TraceCount]\n",
       "Index: []"
      ]
     },
     "metadata": {},
     "output_type": "display_data"
    }
   ],
   "source": [
    "path = PathConstraints(startLocation=\"/as2/\")\n",
    "headers = HeaderConstraints(srcIps=\"0.0.0.0/0\", dstIps=\"host1\", ipProtocols=\"UDP\", dstPorts=\"!53\")\n",
    "reach = bfq.reachability(pathConstraints=path, headers=headers, actions=\"accepted\").answer().frame()\n",
    "show(reach)"
   ]
  },
  {
   "cell_type": "markdown",
   "metadata": {
    "colab_type": "text",
    "id": "dgmBg2O4AiSt"
   },
   "source": [
    "Success! Since Batfish returned 0 flows, we are guaranteed that no unauthorized UDP flows will reach `host1`."
   ]
  },
  {
   "cell_type": "markdown",
   "metadata": {
    "colab_type": "text",
    "id": "5uJddJLAWYkU"
   },
   "source": [
    "### Example 4: Verify that the DNS server is not reachable from *anywhere* outside AS2 \n",
    "Next, let's verify that no DNS traffic from *outside* of AS2 can reach `host1`. We can do this by searching for flows starting from the border interfaces (`GigabitEthernet0/0` on AS2 border routers).\n",
    "\n",
    "<small>_Details_: We use the [enter function](https://github.com/batfish/batfish/blob/master/questions/Parameters.md#interface-specifier) to model that traffic is received on the interface rather than starting from a border router. If we did not relax source IP to `0.0.0.0/0`, only source IP addresses within the connected subnet of the border interfaces would be included in the search.</small>"
   ]
  },
  {
   "cell_type": "code",
   "execution_count": 12,
   "metadata": {
    "colab": {
     "base_uri": "https://localhost:8080/",
     "height": 2870
    },
    "colab_type": "code",
    "id": "11Xr5oicWYkV",
    "outputId": "339d8667-75be-4ca6-ff64-90dc2ecb1c13"
   },
   "outputs": [
    {
     "data": {
      "text/html": [
       "<style  type=\"text/css\" >\n",
       "    #T_pybfstylerow0_col0 {\n",
       "            text-align:  left;\n",
       "            vertical-align:  top;\n",
       "        }    #T_pybfstylerow0_col1 {\n",
       "            text-align:  left;\n",
       "            vertical-align:  top;\n",
       "        }    #T_pybfstylerow0_col2 {\n",
       "            text-align:  left;\n",
       "            vertical-align:  top;\n",
       "        }    #T_pybfstylerow1_col0 {\n",
       "            text-align:  left;\n",
       "            vertical-align:  top;\n",
       "        }    #T_pybfstylerow1_col1 {\n",
       "            text-align:  left;\n",
       "            vertical-align:  top;\n",
       "        }    #T_pybfstylerow1_col2 {\n",
       "            text-align:  left;\n",
       "            vertical-align:  top;\n",
       "        }</style><table id=\"T_pybfstyle\"  class=\"tex2jax_ignore\"><thead>    <tr>        <th class=\"blank level0\" ></th>        <th class=\"col_heading level0 col0\" >Flow</th>        <th class=\"col_heading level0 col1\" >Traces</th>        <th class=\"col_heading level0 col2\" >TraceCount</th>    </tr></thead><tbody>\n",
       "                <tr>\n",
       "                        <th id=\"T_pybfstylelevel0_row0\" class=\"row_heading level0 row0\" >0</th>\n",
       "                        <td id=\"T_pybfstylerow0_col0\" class=\"data row0 col0\" >Start Location: as2border1 interface=GigabitEthernet0/0<br>Src IP: 0.0.0.0<br>Src Port: 0<br>Dst IP: 2.128.0.101<br>Dst Port: 53<br>IP Protocol: UDP</td>\n",
       "                        <td id=\"T_pybfstylerow0_col1\" class=\"data row0 col1\" ><span style=\"color:#019612; text-weight:bold;\">ACCEPTED</span><br><strong>1</strong>. node: as2border1<br>&nbsp;&nbsp;RECEIVED(GigabitEthernet0/0)<br>&nbsp;&nbsp;PERMITTED(OUTSIDE_TO_INSIDE (INGRESS_FILTER))<br>&nbsp;&nbsp;FORWARDED(ARP IP: 2.12.11.2, Output Interface: GigabitEthernet1/0, Routes: [ibgp (Network: 2.128.0.0/24, Next Hop IP:2.34.101.4),ibgp (Network: 2.128.0.0/24, Next Hop IP:2.34.201.4)])<br>&nbsp;&nbsp;TRANSMITTED(GigabitEthernet1/0)<br><strong>2</strong>. node: as2core1<br>&nbsp;&nbsp;RECEIVED(GigabitEthernet0/0)<br>&nbsp;&nbsp;FORWARDED(ARP IP: 2.23.11.3, Output Interface: GigabitEthernet2/0, Routes: [ibgp (Network: 2.128.0.0/24, Next Hop IP:2.34.101.4)])<br>&nbsp;&nbsp;TRANSMITTED(GigabitEthernet2/0)<br><strong>3</strong>. node: as2dist1<br>&nbsp;&nbsp;RECEIVED(GigabitEthernet0/0)<br>&nbsp;&nbsp;FORWARDED(ARP IP: 2.34.101.4, Output Interface: GigabitEthernet2/0, Routes: [bgp (Network: 2.128.0.0/24, Next Hop IP:2.34.101.4)])<br>&nbsp;&nbsp;TRANSMITTED(GigabitEthernet2/0)<br><strong>4</strong>. node: as2dept1<br>&nbsp;&nbsp;RECEIVED(GigabitEthernet0/0)<br>&nbsp;&nbsp;FORWARDED(ARP IP: AUTO/NONE(-1l), Output Interface: GigabitEthernet2/0, Routes: [connected (Network: 2.128.0.0/24, Next Hop IP:AUTO/NONE(-1l))])<br>&nbsp;&nbsp;TRANSMITTED(GigabitEthernet2/0)<br><strong>5</strong>. node: host1<br>&nbsp;&nbsp;RECEIVED(eth0)<br>&nbsp;&nbsp;PERMITTED(filter::INPUT (INGRESS_FILTER))<br>&nbsp;&nbsp;ACCEPTED(eth0)<br><br><span style=\"color:#019612; text-weight:bold;\">ACCEPTED</span><br><strong>1</strong>. node: as2border1<br>&nbsp;&nbsp;RECEIVED(GigabitEthernet0/0)<br>&nbsp;&nbsp;PERMITTED(OUTSIDE_TO_INSIDE (INGRESS_FILTER))<br>&nbsp;&nbsp;FORWARDED(ARP IP: 2.12.11.2, Output Interface: GigabitEthernet1/0, Routes: [ibgp (Network: 2.128.0.0/24, Next Hop IP:2.34.101.4),ibgp (Network: 2.128.0.0/24, Next Hop IP:2.34.201.4)])<br>&nbsp;&nbsp;TRANSMITTED(GigabitEthernet1/0)<br><strong>2</strong>. node: as2core1<br>&nbsp;&nbsp;RECEIVED(GigabitEthernet0/0)<br>&nbsp;&nbsp;FORWARDED(ARP IP: 2.23.12.3, Output Interface: GigabitEthernet3/0, Routes: [ibgp (Network: 2.128.0.0/24, Next Hop IP:2.34.201.4)])<br>&nbsp;&nbsp;TRANSMITTED(GigabitEthernet3/0)<br><strong>3</strong>. node: as2dist2<br>&nbsp;&nbsp;RECEIVED(GigabitEthernet1/0)<br>&nbsp;&nbsp;FORWARDED(ARP IP: 2.34.201.4, Output Interface: GigabitEthernet2/0, Routes: [bgp (Network: 2.128.0.0/24, Next Hop IP:2.34.201.4)])<br>&nbsp;&nbsp;TRANSMITTED(GigabitEthernet2/0)<br><strong>4</strong>. node: as2dept1<br>&nbsp;&nbsp;RECEIVED(GigabitEthernet1/0)<br>&nbsp;&nbsp;FORWARDED(ARP IP: AUTO/NONE(-1l), Output Interface: GigabitEthernet2/0, Routes: [connected (Network: 2.128.0.0/24, Next Hop IP:AUTO/NONE(-1l))])<br>&nbsp;&nbsp;TRANSMITTED(GigabitEthernet2/0)<br><strong>5</strong>. node: host1<br>&nbsp;&nbsp;RECEIVED(eth0)<br>&nbsp;&nbsp;PERMITTED(filter::INPUT (INGRESS_FILTER))<br>&nbsp;&nbsp;ACCEPTED(eth0)<br><br><span style=\"color:#019612; text-weight:bold;\">ACCEPTED</span><br><strong>1</strong>. node: as2border1<br>&nbsp;&nbsp;RECEIVED(GigabitEthernet0/0)<br>&nbsp;&nbsp;PERMITTED(OUTSIDE_TO_INSIDE (INGRESS_FILTER))<br>&nbsp;&nbsp;FORWARDED(ARP IP: 2.12.12.2, Output Interface: GigabitEthernet2/0, Routes: [ibgp (Network: 2.128.0.0/24, Next Hop IP:2.34.101.4),ibgp (Network: 2.128.0.0/24, Next Hop IP:2.34.201.4)])<br>&nbsp;&nbsp;TRANSMITTED(GigabitEthernet2/0)<br><strong>2</strong>. node: as2core2<br>&nbsp;&nbsp;RECEIVED(GigabitEthernet1/0)<br>&nbsp;&nbsp;FORWARDED(ARP IP: 2.23.22.3, Output Interface: GigabitEthernet2/0, Routes: [ibgp (Network: 2.128.0.0/24, Next Hop IP:2.34.201.4)])<br>&nbsp;&nbsp;TRANSMITTED(GigabitEthernet2/0)<br><strong>3</strong>. node: as2dist2<br>&nbsp;&nbsp;RECEIVED(GigabitEthernet0/0)<br>&nbsp;&nbsp;FORWARDED(ARP IP: 2.34.201.4, Output Interface: GigabitEthernet2/0, Routes: [bgp (Network: 2.128.0.0/24, Next Hop IP:2.34.201.4)])<br>&nbsp;&nbsp;TRANSMITTED(GigabitEthernet2/0)<br><strong>4</strong>. node: as2dept1<br>&nbsp;&nbsp;RECEIVED(GigabitEthernet1/0)<br>&nbsp;&nbsp;FORWARDED(ARP IP: AUTO/NONE(-1l), Output Interface: GigabitEthernet2/0, Routes: [connected (Network: 2.128.0.0/24, Next Hop IP:AUTO/NONE(-1l))])<br>&nbsp;&nbsp;TRANSMITTED(GigabitEthernet2/0)<br><strong>5</strong>. node: host1<br>&nbsp;&nbsp;RECEIVED(eth0)<br>&nbsp;&nbsp;PERMITTED(filter::INPUT (INGRESS_FILTER))<br>&nbsp;&nbsp;ACCEPTED(eth0)<br><br><span style=\"color:#019612; text-weight:bold;\">ACCEPTED</span><br><strong>1</strong>. node: as2border1<br>&nbsp;&nbsp;RECEIVED(GigabitEthernet0/0)<br>&nbsp;&nbsp;PERMITTED(OUTSIDE_TO_INSIDE (INGRESS_FILTER))<br>&nbsp;&nbsp;FORWARDED(ARP IP: 2.12.12.2, Output Interface: GigabitEthernet2/0, Routes: [ibgp (Network: 2.128.0.0/24, Next Hop IP:2.34.101.4),ibgp (Network: 2.128.0.0/24, Next Hop IP:2.34.201.4)])<br>&nbsp;&nbsp;TRANSMITTED(GigabitEthernet2/0)<br><strong>2</strong>. node: as2core2<br>&nbsp;&nbsp;RECEIVED(GigabitEthernet1/0)<br>&nbsp;&nbsp;FORWARDED(ARP IP: 2.23.21.3, Output Interface: GigabitEthernet3/0, Routes: [ibgp (Network: 2.128.0.0/24, Next Hop IP:2.34.101.4)])<br>&nbsp;&nbsp;TRANSMITTED(GigabitEthernet3/0)<br><strong>3</strong>. node: as2dist1<br>&nbsp;&nbsp;RECEIVED(GigabitEthernet1/0)<br>&nbsp;&nbsp;FORWARDED(ARP IP: 2.34.101.4, Output Interface: GigabitEthernet2/0, Routes: [bgp (Network: 2.128.0.0/24, Next Hop IP:2.34.101.4)])<br>&nbsp;&nbsp;TRANSMITTED(GigabitEthernet2/0)<br><strong>4</strong>. node: as2dept1<br>&nbsp;&nbsp;RECEIVED(GigabitEthernet0/0)<br>&nbsp;&nbsp;FORWARDED(ARP IP: AUTO/NONE(-1l), Output Interface: GigabitEthernet2/0, Routes: [connected (Network: 2.128.0.0/24, Next Hop IP:AUTO/NONE(-1l))])<br>&nbsp;&nbsp;TRANSMITTED(GigabitEthernet2/0)<br><strong>5</strong>. node: host1<br>&nbsp;&nbsp;RECEIVED(eth0)<br>&nbsp;&nbsp;PERMITTED(filter::INPUT (INGRESS_FILTER))<br>&nbsp;&nbsp;ACCEPTED(eth0)</td>\n",
       "                        <td id=\"T_pybfstylerow0_col2\" class=\"data row0 col2\" >4</td>\n",
       "            </tr>\n",
       "            <tr>\n",
       "                        <th id=\"T_pybfstylelevel0_row1\" class=\"row_heading level0 row1\" >1</th>\n",
       "                        <td id=\"T_pybfstylerow1_col0\" class=\"data row1 col0\" >Start Location: as2border2 interface=GigabitEthernet0/0<br>Src IP: 0.0.0.0<br>Src Port: 0<br>Dst IP: 2.128.0.101<br>Dst Port: 53<br>IP Protocol: UDP</td>\n",
       "                        <td id=\"T_pybfstylerow1_col1\" class=\"data row1 col1\" ><span style=\"color:#019612; text-weight:bold;\">ACCEPTED</span><br><strong>1</strong>. node: as2border2<br>&nbsp;&nbsp;RECEIVED(GigabitEthernet0/0)<br>&nbsp;&nbsp;PERMITTED(OUTSIDE_TO_INSIDE (INGRESS_FILTER))<br>&nbsp;&nbsp;FORWARDED(ARP IP: 2.12.22.2, Output Interface: GigabitEthernet1/0, Routes: [ibgp (Network: 2.128.0.0/24, Next Hop IP:2.34.101.4),ibgp (Network: 2.128.0.0/24, Next Hop IP:2.34.201.4)])<br>&nbsp;&nbsp;TRANSMITTED(GigabitEthernet1/0)<br><strong>2</strong>. node: as2core2<br>&nbsp;&nbsp;RECEIVED(GigabitEthernet0/0)<br>&nbsp;&nbsp;FORWARDED(ARP IP: 2.23.22.3, Output Interface: GigabitEthernet2/0, Routes: [ibgp (Network: 2.128.0.0/24, Next Hop IP:2.34.201.4)])<br>&nbsp;&nbsp;TRANSMITTED(GigabitEthernet2/0)<br><strong>3</strong>. node: as2dist2<br>&nbsp;&nbsp;RECEIVED(GigabitEthernet0/0)<br>&nbsp;&nbsp;FORWARDED(ARP IP: 2.34.201.4, Output Interface: GigabitEthernet2/0, Routes: [bgp (Network: 2.128.0.0/24, Next Hop IP:2.34.201.4)])<br>&nbsp;&nbsp;TRANSMITTED(GigabitEthernet2/0)<br><strong>4</strong>. node: as2dept1<br>&nbsp;&nbsp;RECEIVED(GigabitEthernet1/0)<br>&nbsp;&nbsp;FORWARDED(ARP IP: AUTO/NONE(-1l), Output Interface: GigabitEthernet2/0, Routes: [connected (Network: 2.128.0.0/24, Next Hop IP:AUTO/NONE(-1l))])<br>&nbsp;&nbsp;TRANSMITTED(GigabitEthernet2/0)<br><strong>5</strong>. node: host1<br>&nbsp;&nbsp;RECEIVED(eth0)<br>&nbsp;&nbsp;PERMITTED(filter::INPUT (INGRESS_FILTER))<br>&nbsp;&nbsp;ACCEPTED(eth0)<br><br><span style=\"color:#019612; text-weight:bold;\">ACCEPTED</span><br><strong>1</strong>. node: as2border2<br>&nbsp;&nbsp;RECEIVED(GigabitEthernet0/0)<br>&nbsp;&nbsp;PERMITTED(OUTSIDE_TO_INSIDE (INGRESS_FILTER))<br>&nbsp;&nbsp;FORWARDED(ARP IP: 2.12.22.2, Output Interface: GigabitEthernet1/0, Routes: [ibgp (Network: 2.128.0.0/24, Next Hop IP:2.34.101.4),ibgp (Network: 2.128.0.0/24, Next Hop IP:2.34.201.4)])<br>&nbsp;&nbsp;TRANSMITTED(GigabitEthernet1/0)<br><strong>2</strong>. node: as2core2<br>&nbsp;&nbsp;RECEIVED(GigabitEthernet0/0)<br>&nbsp;&nbsp;FORWARDED(ARP IP: 2.23.21.3, Output Interface: GigabitEthernet3/0, Routes: [ibgp (Network: 2.128.0.0/24, Next Hop IP:2.34.101.4)])<br>&nbsp;&nbsp;TRANSMITTED(GigabitEthernet3/0)<br><strong>3</strong>. node: as2dist1<br>&nbsp;&nbsp;RECEIVED(GigabitEthernet1/0)<br>&nbsp;&nbsp;FORWARDED(ARP IP: 2.34.101.4, Output Interface: GigabitEthernet2/0, Routes: [bgp (Network: 2.128.0.0/24, Next Hop IP:2.34.101.4)])<br>&nbsp;&nbsp;TRANSMITTED(GigabitEthernet2/0)<br><strong>4</strong>. node: as2dept1<br>&nbsp;&nbsp;RECEIVED(GigabitEthernet0/0)<br>&nbsp;&nbsp;FORWARDED(ARP IP: AUTO/NONE(-1l), Output Interface: GigabitEthernet2/0, Routes: [connected (Network: 2.128.0.0/24, Next Hop IP:AUTO/NONE(-1l))])<br>&nbsp;&nbsp;TRANSMITTED(GigabitEthernet2/0)<br><strong>5</strong>. node: host1<br>&nbsp;&nbsp;RECEIVED(eth0)<br>&nbsp;&nbsp;PERMITTED(filter::INPUT (INGRESS_FILTER))<br>&nbsp;&nbsp;ACCEPTED(eth0)<br><br><span style=\"color:#019612; text-weight:bold;\">ACCEPTED</span><br><strong>1</strong>. node: as2border2<br>&nbsp;&nbsp;RECEIVED(GigabitEthernet0/0)<br>&nbsp;&nbsp;PERMITTED(OUTSIDE_TO_INSIDE (INGRESS_FILTER))<br>&nbsp;&nbsp;FORWARDED(ARP IP: 2.12.21.2, Output Interface: GigabitEthernet2/0, Routes: [ibgp (Network: 2.128.0.0/24, Next Hop IP:2.34.101.4),ibgp (Network: 2.128.0.0/24, Next Hop IP:2.34.201.4)])<br>&nbsp;&nbsp;TRANSMITTED(GigabitEthernet2/0)<br><strong>2</strong>. node: as2core1<br>&nbsp;&nbsp;RECEIVED(GigabitEthernet1/0)<br>&nbsp;&nbsp;FORWARDED(ARP IP: 2.23.11.3, Output Interface: GigabitEthernet2/0, Routes: [ibgp (Network: 2.128.0.0/24, Next Hop IP:2.34.101.4)])<br>&nbsp;&nbsp;TRANSMITTED(GigabitEthernet2/0)<br><strong>3</strong>. node: as2dist1<br>&nbsp;&nbsp;RECEIVED(GigabitEthernet0/0)<br>&nbsp;&nbsp;FORWARDED(ARP IP: 2.34.101.4, Output Interface: GigabitEthernet2/0, Routes: [bgp (Network: 2.128.0.0/24, Next Hop IP:2.34.101.4)])<br>&nbsp;&nbsp;TRANSMITTED(GigabitEthernet2/0)<br><strong>4</strong>. node: as2dept1<br>&nbsp;&nbsp;RECEIVED(GigabitEthernet0/0)<br>&nbsp;&nbsp;FORWARDED(ARP IP: AUTO/NONE(-1l), Output Interface: GigabitEthernet2/0, Routes: [connected (Network: 2.128.0.0/24, Next Hop IP:AUTO/NONE(-1l))])<br>&nbsp;&nbsp;TRANSMITTED(GigabitEthernet2/0)<br><strong>5</strong>. node: host1<br>&nbsp;&nbsp;RECEIVED(eth0)<br>&nbsp;&nbsp;PERMITTED(filter::INPUT (INGRESS_FILTER))<br>&nbsp;&nbsp;ACCEPTED(eth0)<br><br><span style=\"color:#019612; text-weight:bold;\">ACCEPTED</span><br><strong>1</strong>. node: as2border2<br>&nbsp;&nbsp;RECEIVED(GigabitEthernet0/0)<br>&nbsp;&nbsp;PERMITTED(OUTSIDE_TO_INSIDE (INGRESS_FILTER))<br>&nbsp;&nbsp;FORWARDED(ARP IP: 2.12.21.2, Output Interface: GigabitEthernet2/0, Routes: [ibgp (Network: 2.128.0.0/24, Next Hop IP:2.34.101.4),ibgp (Network: 2.128.0.0/24, Next Hop IP:2.34.201.4)])<br>&nbsp;&nbsp;TRANSMITTED(GigabitEthernet2/0)<br><strong>2</strong>. node: as2core1<br>&nbsp;&nbsp;RECEIVED(GigabitEthernet1/0)<br>&nbsp;&nbsp;FORWARDED(ARP IP: 2.23.12.3, Output Interface: GigabitEthernet3/0, Routes: [ibgp (Network: 2.128.0.0/24, Next Hop IP:2.34.201.4)])<br>&nbsp;&nbsp;TRANSMITTED(GigabitEthernet3/0)<br><strong>3</strong>. node: as2dist2<br>&nbsp;&nbsp;RECEIVED(GigabitEthernet1/0)<br>&nbsp;&nbsp;FORWARDED(ARP IP: 2.34.201.4, Output Interface: GigabitEthernet2/0, Routes: [bgp (Network: 2.128.0.0/24, Next Hop IP:2.34.201.4)])<br>&nbsp;&nbsp;TRANSMITTED(GigabitEthernet2/0)<br><strong>4</strong>. node: as2dept1<br>&nbsp;&nbsp;RECEIVED(GigabitEthernet1/0)<br>&nbsp;&nbsp;FORWARDED(ARP IP: AUTO/NONE(-1l), Output Interface: GigabitEthernet2/0, Routes: [connected (Network: 2.128.0.0/24, Next Hop IP:AUTO/NONE(-1l))])<br>&nbsp;&nbsp;TRANSMITTED(GigabitEthernet2/0)<br><strong>5</strong>. node: host1<br>&nbsp;&nbsp;RECEIVED(eth0)<br>&nbsp;&nbsp;PERMITTED(filter::INPUT (INGRESS_FILTER))<br>&nbsp;&nbsp;ACCEPTED(eth0)</td>\n",
       "                        <td id=\"T_pybfstylerow1_col2\" class=\"data row1 col2\" >4</td>\n",
       "            </tr>\n",
       "    </tbody></table>"
      ],
      "text/plain": [
       "                                                                                       Flow  \\\n",
       "0  start=as2border1 interface=GigabitEthernet0/0 [0.0.0.0:0->2.128.0.101:53 UDP length=512]   \n",
       "1  start=as2border2 interface=GigabitEthernet0/0 [0.0.0.0:0->2.128.0.101:53 UDP length=512]   \n",
       "\n",
       "                                                                                                                                                                                                                                                                                                                                                                                                                                                                                                                                                                                                                                                                                                                                                                                                                                                                                                                                                                                                                                                                                                                                                                                                                                                                                                                                                                                                                                                                                                                                                                                                                                                                                                                                                                                                                                                                                                                                                                                                                                                                                                                                                                                                                                                                                                                                                                                                                                                                                                                                                                                                                                                                                                                                                                                                                                                                                                                                                                                                                                                                                                                                                                                                                                                                                                                                                                                                                                                                                                                                                                                                                                                                                                                                                                                                                                                                                                                                                                                                                                                                                 Traces  \\\n",
       "0  [((RECEIVED(GigabitEthernet0/0), PERMITTED(OUTSIDE_TO_INSIDE (INGRESS_FILTER)), FORWARDED(ARP IP: 2.12.11.2, Output Interface: GigabitEthernet1/0, Routes: [ibgp (Network: 2.128.0.0/24, Next Hop IP:2.34.101.4),ibgp (Network: 2.128.0.0/24, Next Hop IP:2.34.201.4)]), TRANSMITTED(GigabitEthernet1/0)), (RECEIVED(GigabitEthernet0/0), FORWARDED(ARP IP: 2.23.11.3, Output Interface: GigabitEthernet2/0, Routes: [ibgp (Network: 2.128.0.0/24, Next Hop IP:2.34.101.4)]), TRANSMITTED(GigabitEthernet2/0)), (RECEIVED(GigabitEthernet0/0), FORWARDED(ARP IP: 2.34.101.4, Output Interface: GigabitEthernet2/0, Routes: [bgp (Network: 2.128.0.0/24, Next Hop IP:2.34.101.4)]), TRANSMITTED(GigabitEthernet2/0)), (RECEIVED(GigabitEthernet0/0), FORWARDED(ARP IP: AUTO/NONE(-1l), Output Interface: GigabitEthernet2/0, Routes: [connected (Network: 2.128.0.0/24, Next Hop IP:AUTO/NONE(-1l))]), TRANSMITTED(GigabitEthernet2/0)), (RECEIVED(eth0), PERMITTED(filter::INPUT (INGRESS_FILTER)), ACCEPTED(eth0))), ((RECEIVED(GigabitEthernet0/0), PERMITTED(OUTSIDE_TO_INSIDE (INGRESS_FILTER)), FORWARDED(ARP IP: 2.12.11.2, Output Interface: GigabitEthernet1/0, Routes: [ibgp (Network: 2.128.0.0/24, Next Hop IP:2.34.101.4),ibgp (Network: 2.128.0.0/24, Next Hop IP:2.34.201.4)]), TRANSMITTED(GigabitEthernet1/0)), (RECEIVED(GigabitEthernet0/0), FORWARDED(ARP IP: 2.23.12.3, Output Interface: GigabitEthernet3/0, Routes: [ibgp (Network: 2.128.0.0/24, Next Hop IP:2.34.201.4)]), TRANSMITTED(GigabitEthernet3/0)), (RECEIVED(GigabitEthernet1/0), FORWARDED(ARP IP: 2.34.201.4, Output Interface: GigabitEthernet2/0, Routes: [bgp (Network: 2.128.0.0/24, Next Hop IP:2.34.201.4)]), TRANSMITTED(GigabitEthernet2/0)), (RECEIVED(GigabitEthernet1/0), FORWARDED(ARP IP: AUTO/NONE(-1l), Output Interface: GigabitEthernet2/0, Routes: [connected (Network: 2.128.0.0/24, Next Hop IP:AUTO/NONE(-1l))]), TRANSMITTED(GigabitEthernet2/0)), (RECEIVED(eth0), PERMITTED(filter::INPUT (INGRESS_FILTER)), ACCEPTED(eth0))), ((RECEIVED(GigabitEthernet0/0), PERMITTED(OUTSIDE_TO_INSIDE (INGRESS_FILTER)), FORWARDED(ARP IP: 2.12.12.2, Output Interface: GigabitEthernet2/0, Routes: [ibgp (Network: 2.128.0.0/24, Next Hop IP:2.34.101.4),ibgp (Network: 2.128.0.0/24, Next Hop IP:2.34.201.4)]), TRANSMITTED(GigabitEthernet2/0)), (RECEIVED(GigabitEthernet1/0), FORWARDED(ARP IP: 2.23.22.3, Output Interface: GigabitEthernet2/0, Routes: [ibgp (Network: 2.128.0.0/24, Next Hop IP:2.34.201.4)]), TRANSMITTED(GigabitEthernet2/0)), (RECEIVED(GigabitEthernet0/0), FORWARDED(ARP IP: 2.34.201.4, Output Interface: GigabitEthernet2/0, Routes: [bgp (Network: 2.128.0.0/24, Next Hop IP:2.34.201.4)]), TRANSMITTED(GigabitEthernet2/0)), (RECEIVED(GigabitEthernet1/0), FORWARDED(ARP IP: AUTO/NONE(-1l), Output Interface: GigabitEthernet2/0, Routes: [connected (Network: 2.128.0.0/24, Next Hop IP:AUTO/NONE(-1l))]), TRANSMITTED(GigabitEthernet2/0)), (RECEIVED(eth0), PERMITTED(filter::INPUT (INGRESS_FILTER)), ACCEPTED(eth0))), ((RECEIVED(GigabitEthernet0/0), PERMITTED(OUTSIDE_TO_INSIDE (INGRESS_FILTER)), FORWARDED(ARP IP: 2.12.12.2, Output Interface: GigabitEthernet2/0, Routes: [ibgp (Network: 2.128.0.0/24, Next Hop IP:2.34.101.4),ibgp (Network: 2.128.0.0/24, Next Hop IP:2.34.201.4)]), TRANSMITTED(GigabitEthernet2/0)), (RECEIVED(GigabitEthernet1/0), FORWARDED(ARP IP: 2.23.21.3, Output Interface: GigabitEthernet3/0, Routes: [ibgp (Network: 2.128.0.0/24, Next Hop IP:2.34.101.4)]), TRANSMITTED(GigabitEthernet3/0)), (RECEIVED(GigabitEthernet1/0), FORWARDED(ARP IP: 2.34.101.4, Output Interface: GigabitEthernet2/0, Routes: [bgp (Network: 2.128.0.0/24, Next Hop IP:2.34.101.4)]), TRANSMITTED(GigabitEthernet2/0)), (RECEIVED(GigabitEthernet0/0), FORWARDED(ARP IP: AUTO/NONE(-1l), Output Interface: GigabitEthernet2/0, Routes: [connected (Network: 2.128.0.0/24, Next Hop IP:AUTO/NONE(-1l))]), TRANSMITTED(GigabitEthernet2/0)), (RECEIVED(eth0), PERMITTED(filter::INPUT (INGRESS_FILTER)), ACCEPTED(eth0)))]   \n",
       "1  [((RECEIVED(GigabitEthernet0/0), PERMITTED(OUTSIDE_TO_INSIDE (INGRESS_FILTER)), FORWARDED(ARP IP: 2.12.22.2, Output Interface: GigabitEthernet1/0, Routes: [ibgp (Network: 2.128.0.0/24, Next Hop IP:2.34.101.4),ibgp (Network: 2.128.0.0/24, Next Hop IP:2.34.201.4)]), TRANSMITTED(GigabitEthernet1/0)), (RECEIVED(GigabitEthernet0/0), FORWARDED(ARP IP: 2.23.22.3, Output Interface: GigabitEthernet2/0, Routes: [ibgp (Network: 2.128.0.0/24, Next Hop IP:2.34.201.4)]), TRANSMITTED(GigabitEthernet2/0)), (RECEIVED(GigabitEthernet0/0), FORWARDED(ARP IP: 2.34.201.4, Output Interface: GigabitEthernet2/0, Routes: [bgp (Network: 2.128.0.0/24, Next Hop IP:2.34.201.4)]), TRANSMITTED(GigabitEthernet2/0)), (RECEIVED(GigabitEthernet1/0), FORWARDED(ARP IP: AUTO/NONE(-1l), Output Interface: GigabitEthernet2/0, Routes: [connected (Network: 2.128.0.0/24, Next Hop IP:AUTO/NONE(-1l))]), TRANSMITTED(GigabitEthernet2/0)), (RECEIVED(eth0), PERMITTED(filter::INPUT (INGRESS_FILTER)), ACCEPTED(eth0))), ((RECEIVED(GigabitEthernet0/0), PERMITTED(OUTSIDE_TO_INSIDE (INGRESS_FILTER)), FORWARDED(ARP IP: 2.12.22.2, Output Interface: GigabitEthernet1/0, Routes: [ibgp (Network: 2.128.0.0/24, Next Hop IP:2.34.101.4),ibgp (Network: 2.128.0.0/24, Next Hop IP:2.34.201.4)]), TRANSMITTED(GigabitEthernet1/0)), (RECEIVED(GigabitEthernet0/0), FORWARDED(ARP IP: 2.23.21.3, Output Interface: GigabitEthernet3/0, Routes: [ibgp (Network: 2.128.0.0/24, Next Hop IP:2.34.101.4)]), TRANSMITTED(GigabitEthernet3/0)), (RECEIVED(GigabitEthernet1/0), FORWARDED(ARP IP: 2.34.101.4, Output Interface: GigabitEthernet2/0, Routes: [bgp (Network: 2.128.0.0/24, Next Hop IP:2.34.101.4)]), TRANSMITTED(GigabitEthernet2/0)), (RECEIVED(GigabitEthernet0/0), FORWARDED(ARP IP: AUTO/NONE(-1l), Output Interface: GigabitEthernet2/0, Routes: [connected (Network: 2.128.0.0/24, Next Hop IP:AUTO/NONE(-1l))]), TRANSMITTED(GigabitEthernet2/0)), (RECEIVED(eth0), PERMITTED(filter::INPUT (INGRESS_FILTER)), ACCEPTED(eth0))), ((RECEIVED(GigabitEthernet0/0), PERMITTED(OUTSIDE_TO_INSIDE (INGRESS_FILTER)), FORWARDED(ARP IP: 2.12.21.2, Output Interface: GigabitEthernet2/0, Routes: [ibgp (Network: 2.128.0.0/24, Next Hop IP:2.34.101.4),ibgp (Network: 2.128.0.0/24, Next Hop IP:2.34.201.4)]), TRANSMITTED(GigabitEthernet2/0)), (RECEIVED(GigabitEthernet1/0), FORWARDED(ARP IP: 2.23.11.3, Output Interface: GigabitEthernet2/0, Routes: [ibgp (Network: 2.128.0.0/24, Next Hop IP:2.34.101.4)]), TRANSMITTED(GigabitEthernet2/0)), (RECEIVED(GigabitEthernet0/0), FORWARDED(ARP IP: 2.34.101.4, Output Interface: GigabitEthernet2/0, Routes: [bgp (Network: 2.128.0.0/24, Next Hop IP:2.34.101.4)]), TRANSMITTED(GigabitEthernet2/0)), (RECEIVED(GigabitEthernet0/0), FORWARDED(ARP IP: AUTO/NONE(-1l), Output Interface: GigabitEthernet2/0, Routes: [connected (Network: 2.128.0.0/24, Next Hop IP:AUTO/NONE(-1l))]), TRANSMITTED(GigabitEthernet2/0)), (RECEIVED(eth0), PERMITTED(filter::INPUT (INGRESS_FILTER)), ACCEPTED(eth0))), ((RECEIVED(GigabitEthernet0/0), PERMITTED(OUTSIDE_TO_INSIDE (INGRESS_FILTER)), FORWARDED(ARP IP: 2.12.21.2, Output Interface: GigabitEthernet2/0, Routes: [ibgp (Network: 2.128.0.0/24, Next Hop IP:2.34.101.4),ibgp (Network: 2.128.0.0/24, Next Hop IP:2.34.201.4)]), TRANSMITTED(GigabitEthernet2/0)), (RECEIVED(GigabitEthernet1/0), FORWARDED(ARP IP: 2.23.12.3, Output Interface: GigabitEthernet3/0, Routes: [ibgp (Network: 2.128.0.0/24, Next Hop IP:2.34.201.4)]), TRANSMITTED(GigabitEthernet3/0)), (RECEIVED(GigabitEthernet1/0), FORWARDED(ARP IP: 2.34.201.4, Output Interface: GigabitEthernet2/0, Routes: [bgp (Network: 2.128.0.0/24, Next Hop IP:2.34.201.4)]), TRANSMITTED(GigabitEthernet2/0)), (RECEIVED(GigabitEthernet1/0), FORWARDED(ARP IP: AUTO/NONE(-1l), Output Interface: GigabitEthernet2/0, Routes: [connected (Network: 2.128.0.0/24, Next Hop IP:AUTO/NONE(-1l))]), TRANSMITTED(GigabitEthernet2/0)), (RECEIVED(eth0), PERMITTED(filter::INPUT (INGRESS_FILTER)), ACCEPTED(eth0)))]   \n",
       "\n",
       "  TraceCount  \n",
       "0  4          \n",
       "1  4          "
      ]
     },
     "metadata": {},
     "output_type": "display_data"
    }
   ],
   "source": [
    "path = PathConstraints(startLocation=\"@enter(/as2border/[GigabitEthernet0/0])\")\n",
    "headers = HeaderConstraints(srcIps=\"0.0.0.0/0\", dstIps=\"host1\", applications=\"DNS\")\n",
    "reach = bfq.reachability(pathConstraints=path, headers=headers, actions=\"success\").answer().frame()\n",
    "show(reach)"
   ]
  },
  {
   "cell_type": "markdown",
   "metadata": {
    "colab_type": "text",
    "id": "1XjQO3qJWYkY"
   },
   "source": [
    "We found that the DNS server is **not** secure: external DNS traffic can reach `host1`! However, we did find where to look: in all likelihood, the `OUTSIDE_TO_INSIDE` ACL on the border router should be blocking more DNS traffic."
   ]
  },
  {
   "cell_type": "markdown",
   "metadata": {
    "colab_type": "text",
    "id": "PhlT_3Pms3Al"
   },
   "source": [
    "## Multipath Consistency: Verify consistent treatment of a flow across all paths"
   ]
  },
  {
   "cell_type": "markdown",
   "metadata": {
    "colab_type": "text",
    "id": "p4NKnRS8tB-S"
   },
   "source": [
    "Finally, we will demonstrate an **experimental** feature to detect an important class of reachability bugs in any network with *no* user input: the `multipathconsistency` check. This question will report find flows with multipath routing where some paths reach the destination and some paths fail. Multipath inconsistencies are almost always bugs, and may be a sign that the network is not robust to failures.\n",
    "\n",
    "In this example network there are mutiple multipath consistencies; for conciseness we show only the first result."
   ]
  },
  {
   "cell_type": "code",
   "execution_count": 13,
   "metadata": {
    "colab": {
     "base_uri": "https://localhost:8080/",
     "height": 877
    },
    "colab_type": "code",
    "id": "IpqXGVPVcV8n",
    "outputId": "731e94ba-fb1d-417c-9f78-f17fbe6f08b0"
   },
   "outputs": [
    {
     "ename": "BatfishException",
     "evalue": "Work terminated abnormally\nwork_item: {\"containerName\": \"example_network\", \"id\": \"986d955f-188e-4f89-ac20-ceaadc5d138d\", \"requestParams\": {\"answer\": \"\", \"questionname\": \"__multipathConsistency_d9f3e835-ae35-496f-a8ea-7a6e7a15a0c6\", \"testrig\": \"example_snapshot\"}, \"testrigName\": \"example_snapshot\"}\n\nlog: Loading configurations for NetworkSnapshot{network=d2ff3005-d6af-4bac-8a76-8ac17a43c91c, snapshot=847da619-522d-411d-a9be-2994e117ad2b}\nLoading configurations for NetworkSnapshot{network=d2ff3005-d6af-4bac-8a76-8ac17a43c91c, snapshot=847da619-522d-411d-a9be-2994e117ad2b}\nLoading configurations for NetworkSnapshot{network=d2ff3005-d6af-4bac-8a76-8ac17a43c91c, snapshot=847da619-522d-411d-a9be-2994e117ad2b}\nLoading configurations for NetworkSnapshot{network=d2ff3005-d6af-4bac-8a76-8ac17a43c91c, snapshot=847da619-522d-411d-a9be-2994e117ad2b}\nException in container:d2ff3005-d6af-4bac-8a76-8ac17a43c91c, testrig:847da619-522d-411d-a9be-2994e117ad2b; exception:org.batfish.common.QuestionException: Exception answering question\n\tat org.batfish.datamodel.answers.Answer.append(Answer.java:46)\n\tat org.batfish.main.Batfish.run(Batfish.java:2250)\n\tat org.batfish.main.Driver.lambda$runBatfish$3(Driver.java:551)\n\tat java.base/java.lang.Thread.run(Thread.java:834)\nCaused by: org.batfish.common.BatfishException: Failed to answer question\n\tat org.batfish.main.Batfish.answer(Batfish.java:680)\n\t... 3 more\nCaused by: java.lang.NullPointerException\n\tat org.batfish.specifier.InferFromLocationIpSpaceSpecifier.lambda$resolve$0(InferFromLocationIpSpaceSpecifier.java:19)\n\tat java.base/java.lang.Iterable.forEach(Iterable.java:75)\n\tat org.batfish.specifier.InferFromLocationIpSpaceSpecifier.resolve(InferFromLocationIpSpaceSpecifier.java:18)\n\tat org.batfish.question.multipath.MultipathConsistencyAnswerer.parameters(MultipathConsistencyAnswerer.java:66)\n\tat org.batfish.question.multipath.MultipathConsistencyAnswerer.answer(MultipathConsistencyAnswerer.java:42)\n\tat org.batfish.main.Batfish.answer(Batfish.java:677)\n\t... 3 more\n{\"answerElements\":[{\"class\":\"org.batfish.common.BatfishException$BatfishStackTrace\",\"answer\":[\"org.batfish.common.BatfishException: Failed to answer question\",\"   at org.batfish.main.Batfish.answer(Batfish.java:680)\",\"   at org.batfish.main.Batfish.run(Batfish.java:2250)\",\"   at org.batfish.main.Driver.lambda$runBatfish$3(Driver.java:551)\",\"   at java.base/java.lang.Thread.run(Thread.java:834)\",\"Caused by: java.lang.NullPointerException\",\"   at org.batfish.specifier.InferFromLocationIpSpaceSpecifier.lambda$resolve$0(InferFromLocationIpSpaceSpecifier.java:19)\",\"   at java.base/java.lang.Iterable.forEach(Iterable.java:75)\",\"   at org.batfish.specifier.InferFromLocationIpSpaceSpecifier.resolve(InferFromLocationIpSpaceSpecifier.java:18)\",\"   at org.batfish.question.multipath.MultipathConsistencyAnswerer.parameters(MultipathConsistencyAnswerer.java:66)\",\"   at org.batfish.question.multipath.MultipathConsistencyAnswerer.answer(MultipathConsistencyAnswerer.java:42)\",\"   at org.batfish.main.Batfish.answer(Batfish.java:677)\",\"   ... 3 more\",\"\"]}],\"question\":{\"class\":\"org.batfish.question.multipath.MultipathConsistencyQuestion\",\"headers\":{},\"maxTraces\":32,\"pathConstraints\":{},\"differential\":false,\"includeOneTableKeys\":true,\"instance\":{\"description\":\"Validates multipath consistency.\",\"instanceName\":\"__multipathConsistency_d9f3e835-ae35-496f-a8ea-7a6e7a15a0c6\",\"longDescription\":\"Searches across all flows in the network and returns example flows that are treated differently (i.e., dropped versus forwarded) by different paths in the presence of multipath routing.\",\"orderedVariableNames\":[\"pathConstraints\",\"headers\",\"maxTraces\"],\"tags\":[\"dataplane\",\"reachability\"],\"variables\":{\"headers\":{\"description\":\"Packet header constraints.\",\"displayName\":\"Headers\",\"fields\":{\"applications\":{\"optional\":true},\"dscps\":{\"optional\":true},\"dstIps\":{\"optional\":true},\"dstPorts\":{\"optional\":true},\"ecns\":{\"optional\":true},\"flowStates\":{\"optional\":true},\"fragmentOffsets\":{\"optional\":true},\"icmpCodes\":{\"optional\":true},\"icmpTypes\":{\"optional\":true},\"ipProtocols\":{\"optional\":true},\"packetLengths\":{\"optional\":true},\"srcIps\":{\"optional\":true},\"srcPorts\":{\"optional\":true},\"tcpFlags\":{\"optional\":true}},\"optional\":true,\"type\":\"headerConstraint\"},\"maxTraces\":{\"description\":\"Limit the number of traces returned.\",\"displayName\":\"Max Traces\",\"optional\":true,\"type\":\"integer\"},\"pathConstraints\":{\"description\":\"Constraint the path a flow can take (start/end/transit locations).\",\"displayName\":\"Path Constraints\",\"fields\":{\"endLocation\":{\"optional\":true},\"forbiddenLocations\":{\"optional\":true},\"startLocation\":{\"optional\":true},\"transitLocations\":{\"optional\":true}},\"optional\":true,\"type\":\"pathConstraint\"}}}},\"status\":\"FAILURE\",\"summary\":{\"numFailed\":0,\"numPassed\":0,\"numResults\":0}}",
     "output_type": "error",
     "traceback": [
      "\u001b[0;31m---------------------------------------------------------------------------\u001b[0m",
      "\u001b[0;31mBatfishException\u001b[0m                          Traceback (most recent call last)",
      "\u001b[0;32m<ipython-input-13-886b06b0c315>\u001b[0m in \u001b[0;36m<module>\u001b[0;34m\u001b[0m\n\u001b[0;32m----> 1\u001b[0;31m \u001b[0mmultipath\u001b[0m \u001b[0;34m=\u001b[0m \u001b[0mbfq\u001b[0m\u001b[0;34m.\u001b[0m\u001b[0mmultipathConsistency\u001b[0m\u001b[0;34m(\u001b[0m\u001b[0;34m)\u001b[0m\u001b[0;34m.\u001b[0m\u001b[0manswer\u001b[0m\u001b[0;34m(\u001b[0m\u001b[0;34m)\u001b[0m\u001b[0;34m.\u001b[0m\u001b[0mframe\u001b[0m\u001b[0;34m(\u001b[0m\u001b[0;34m)\u001b[0m\u001b[0;34m\u001b[0m\u001b[0;34m\u001b[0m\u001b[0m\n\u001b[0m\u001b[1;32m      2\u001b[0m \u001b[0mfirst_result\u001b[0m \u001b[0;34m=\u001b[0m \u001b[0mmultipath\u001b[0m\u001b[0;34m.\u001b[0m\u001b[0mhead\u001b[0m\u001b[0;34m(\u001b[0m\u001b[0;36m1\u001b[0m\u001b[0;34m)\u001b[0m  \u001b[0;31m# this check returns many results, just show 1\u001b[0m\u001b[0;34m\u001b[0m\u001b[0;34m\u001b[0m\u001b[0m\n\u001b[1;32m      3\u001b[0m \u001b[0mshow\u001b[0m\u001b[0;34m(\u001b[0m\u001b[0mfirst_result\u001b[0m\u001b[0;34m)\u001b[0m\u001b[0;34m\u001b[0m\u001b[0;34m\u001b[0m\u001b[0m\n",
      "\u001b[0;32m~/src/pybatfish/pybatfish/question/question.py\u001b[0m in \u001b[0;36manswer\u001b[0;34m(self, snapshot, reference_snapshot, include_one_table_keys, background, extra_args)\u001b[0m\n\u001b[1;32m    198\u001b[0m             \u001b[0msnapshot\u001b[0m\u001b[0;34m=\u001b[0m\u001b[0mreal_snapshot\u001b[0m\u001b[0;34m,\u001b[0m\u001b[0;34m\u001b[0m\u001b[0;34m\u001b[0m\u001b[0m\n\u001b[1;32m    199\u001b[0m             \u001b[0mreference_snapshot\u001b[0m\u001b[0;34m=\u001b[0m\u001b[0mreference_snapshot\u001b[0m\u001b[0;34m,\u001b[0m\u001b[0;34m\u001b[0m\u001b[0;34m\u001b[0m\u001b[0m\n\u001b[0;32m--> 200\u001b[0;31m             \u001b[0mextra_args\u001b[0m\u001b[0;34m=\u001b[0m\u001b[0mextra_args\u001b[0m\u001b[0;34m,\u001b[0m\u001b[0;34m\u001b[0m\u001b[0;34m\u001b[0m\u001b[0m\n\u001b[0m\u001b[1;32m    201\u001b[0m         )\n\u001b[1;32m    202\u001b[0m \u001b[0;34m\u001b[0m\u001b[0m\n",
      "\u001b[0;32m~/src/pybatfish/pybatfish/client/internal.py\u001b[0m in \u001b[0;36m_bf_answer_obj\u001b[0;34m(session, question_str, parameters_str, question_name, background, snapshot, reference_snapshot, extra_args)\u001b[0m\n\u001b[1;32m     56\u001b[0m         \u001b[0msession\u001b[0m\u001b[0;34m,\u001b[0m \u001b[0mquestion_name\u001b[0m\u001b[0;34m,\u001b[0m \u001b[0msnapshot\u001b[0m\u001b[0;34m,\u001b[0m \u001b[0mreference_snapshot\u001b[0m\u001b[0;34m\u001b[0m\u001b[0;34m\u001b[0m\u001b[0m\n\u001b[1;32m     57\u001b[0m     )\n\u001b[0;32m---> 58\u001b[0;31m     \u001b[0mworkhelper\u001b[0m\u001b[0;34m.\u001b[0m\u001b[0mexecute\u001b[0m\u001b[0;34m(\u001b[0m\u001b[0mwork_item\u001b[0m\u001b[0;34m,\u001b[0m \u001b[0msession\u001b[0m\u001b[0;34m,\u001b[0m \u001b[0mbackground\u001b[0m\u001b[0;34m,\u001b[0m \u001b[0mextra_args\u001b[0m\u001b[0;34m)\u001b[0m\u001b[0;34m\u001b[0m\u001b[0;34m\u001b[0m\u001b[0m\n\u001b[0m\u001b[1;32m     59\u001b[0m \u001b[0;34m\u001b[0m\u001b[0m\n\u001b[1;32m     60\u001b[0m     \u001b[0;32mif\u001b[0m \u001b[0mbackground\u001b[0m\u001b[0;34m:\u001b[0m\u001b[0;34m\u001b[0m\u001b[0;34m\u001b[0m\u001b[0m\n",
      "\u001b[0;32m~/src/pybatfish/pybatfish/client/workhelper.py\u001b[0m in \u001b[0;36mexecute\u001b[0;34m(work_item, session, background, extra_args)\u001b[0m\n\u001b[1;32m    151\u001b[0m                     \u001b[0mmsg\u001b[0m\u001b[0;34m=\u001b[0m\u001b[0mlog_file_msg\u001b[0m\u001b[0;34m,\u001b[0m\u001b[0;34m\u001b[0m\u001b[0;34m\u001b[0m\u001b[0m\n\u001b[1;32m    152\u001b[0m                     \u001b[0mlog\u001b[0m\u001b[0;34m=\u001b[0m\u001b[0mlog\u001b[0m\u001b[0;34m[\u001b[0m\u001b[0;34m-\u001b[0m\u001b[0mMAX_LOG_LENGTH\u001b[0m\u001b[0;34m:\u001b[0m\u001b[0;34m]\u001b[0m\u001b[0;34m,\u001b[0m\u001b[0;34m\u001b[0m\u001b[0;34m\u001b[0m\u001b[0m\n\u001b[0;32m--> 153\u001b[0;31m                     \u001b[0mprefix\u001b[0m\u001b[0;34m=\u001b[0m\u001b[0;34m\"...\"\u001b[0m \u001b[0;32mif\u001b[0m \u001b[0mlog_file_msg\u001b[0m \u001b[0;32melse\u001b[0m \u001b[0;34m\"\"\u001b[0m\u001b[0;34m,\u001b[0m\u001b[0;34m\u001b[0m\u001b[0;34m\u001b[0m\u001b[0m\n\u001b[0m\u001b[1;32m    154\u001b[0m                 )\n\u001b[1;32m    155\u001b[0m             )\n",
      "\u001b[0;31mBatfishException\u001b[0m: Work terminated abnormally\nwork_item: {\"containerName\": \"example_network\", \"id\": \"986d955f-188e-4f89-ac20-ceaadc5d138d\", \"requestParams\": {\"answer\": \"\", \"questionname\": \"__multipathConsistency_d9f3e835-ae35-496f-a8ea-7a6e7a15a0c6\", \"testrig\": \"example_snapshot\"}, \"testrigName\": \"example_snapshot\"}\n\nlog: Loading configurations for NetworkSnapshot{network=d2ff3005-d6af-4bac-8a76-8ac17a43c91c, snapshot=847da619-522d-411d-a9be-2994e117ad2b}\nLoading configurations for NetworkSnapshot{network=d2ff3005-d6af-4bac-8a76-8ac17a43c91c, snapshot=847da619-522d-411d-a9be-2994e117ad2b}\nLoading configurations for NetworkSnapshot{network=d2ff3005-d6af-4bac-8a76-8ac17a43c91c, snapshot=847da619-522d-411d-a9be-2994e117ad2b}\nLoading configurations for NetworkSnapshot{network=d2ff3005-d6af-4bac-8a76-8ac17a43c91c, snapshot=847da619-522d-411d-a9be-2994e117ad2b}\nException in container:d2ff3005-d6af-4bac-8a76-8ac17a43c91c, testrig:847da619-522d-411d-a9be-2994e117ad2b; exception:org.batfish.common.QuestionException: Exception answering question\n\tat org.batfish.datamodel.answers.Answer.append(Answer.java:46)\n\tat org.batfish.main.Batfish.run(Batfish.java:2250)\n\tat org.batfish.main.Driver.lambda$runBatfish$3(Driver.java:551)\n\tat java.base/java.lang.Thread.run(Thread.java:834)\nCaused by: org.batfish.common.BatfishException: Failed to answer question\n\tat org.batfish.main.Batfish.answer(Batfish.java:680)\n\t... 3 more\nCaused by: java.lang.NullPointerException\n\tat org.batfish.specifier.InferFromLocationIpSpaceSpecifier.lambda$resolve$0(InferFromLocationIpSpaceSpecifier.java:19)\n\tat java.base/java.lang.Iterable.forEach(Iterable.java:75)\n\tat org.batfish.specifier.InferFromLocationIpSpaceSpecifier.resolve(InferFromLocationIpSpaceSpecifier.java:18)\n\tat org.batfish.question.multipath.MultipathConsistencyAnswerer.parameters(MultipathConsistencyAnswerer.java:66)\n\tat org.batfish.question.multipath.MultipathConsistencyAnswerer.answer(MultipathConsistencyAnswerer.java:42)\n\tat org.batfish.main.Batfish.answer(Batfish.java:677)\n\t... 3 more\n{\"answerElements\":[{\"class\":\"org.batfish.common.BatfishException$BatfishStackTrace\",\"answer\":[\"org.batfish.common.BatfishException: Failed to answer question\",\"   at org.batfish.main.Batfish.answer(Batfish.java:680)\",\"   at org.batfish.main.Batfish.run(Batfish.java:2250)\",\"   at org.batfish.main.Driver.lambda$runBatfish$3(Driver.java:551)\",\"   at java.base/java.lang.Thread.run(Thread.java:834)\",\"Caused by: java.lang.NullPointerException\",\"   at org.batfish.specifier.InferFromLocationIpSpaceSpecifier.lambda$resolve$0(InferFromLocationIpSpaceSpecifier.java:19)\",\"   at java.base/java.lang.Iterable.forEach(Iterable.java:75)\",\"   at org.batfish.specifier.InferFromLocationIpSpaceSpecifier.resolve(InferFromLocationIpSpaceSpecifier.java:18)\",\"   at org.batfish.question.multipath.MultipathConsistencyAnswerer.parameters(MultipathConsistencyAnswerer.java:66)\",\"   at org.batfish.question.multipath.MultipathConsistencyAnswerer.answer(MultipathConsistencyAnswerer.java:42)\",\"   at org.batfish.main.Batfish.answer(Batfish.java:677)\",\"   ... 3 more\",\"\"]}],\"question\":{\"class\":\"org.batfish.question.multipath.MultipathConsistencyQuestion\",\"headers\":{},\"maxTraces\":32,\"pathConstraints\":{},\"differential\":false,\"includeOneTableKeys\":true,\"instance\":{\"description\":\"Validates multipath consistency.\",\"instanceName\":\"__multipathConsistency_d9f3e835-ae35-496f-a8ea-7a6e7a15a0c6\",\"longDescription\":\"Searches across all flows in the network and returns example flows that are treated differently (i.e., dropped versus forwarded) by different paths in the presence of multipath routing.\",\"orderedVariableNames\":[\"pathConstraints\",\"headers\",\"maxTraces\"],\"tags\":[\"dataplane\",\"reachability\"],\"variables\":{\"headers\":{\"description\":\"Packet header constraints.\",\"displayName\":\"Headers\",\"fields\":{\"applications\":{\"optional\":true},\"dscps\":{\"optional\":true},\"dstIps\":{\"optional\":true},\"dstPorts\":{\"optional\":true},\"ecns\":{\"optional\":true},\"flowStates\":{\"optional\":true},\"fragmentOffsets\":{\"optional\":true},\"icmpCodes\":{\"optional\":true},\"icmpTypes\":{\"optional\":true},\"ipProtocols\":{\"optional\":true},\"packetLengths\":{\"optional\":true},\"srcIps\":{\"optional\":true},\"srcPorts\":{\"optional\":true},\"tcpFlags\":{\"optional\":true}},\"optional\":true,\"type\":\"headerConstraint\"},\"maxTraces\":{\"description\":\"Limit the number of traces returned.\",\"displayName\":\"Max Traces\",\"optional\":true,\"type\":\"integer\"},\"pathConstraints\":{\"description\":\"Constraint the path a flow can take (start/end/transit locations).\",\"displayName\":\"Path Constraints\",\"fields\":{\"endLocation\":{\"optional\":true},\"forbiddenLocations\":{\"optional\":true},\"startLocation\":{\"optional\":true},\"transitLocations\":{\"optional\":true}},\"optional\":true,\"type\":\"pathConstraint\"}}}},\"status\":\"FAILURE\",\"summary\":{\"numFailed\":0,\"numPassed\":0,\"numResults\":0}}"
     ]
    }
   ],
   "source": [
    "multipath = bfq.multipathConsistency().answer().frame()\n",
    "first_result = multipath.head(1)  # this check returns many results, just show 1\n",
    "show(first_result)"
   ]
  },
  {
   "cell_type": "markdown",
   "metadata": {
    "colab_type": "text",
    "id": "h3H9Qjrxt5VH"
   },
   "source": [
    "The above trace shows that traffic from `as2core2` to `as2core1` can take four paths: through either of the two border routers or through either distribution router. However, telnet traffic will be blocked for only two of these four paths: the ones that traverse the distribution layer."
   ]
  },
  {
   "cell_type": "markdown",
   "metadata": {
    "colab_type": "text",
    "id": "mDbD6J5lWYkc"
   },
   "source": [
    "\n",
    "\n",
    "## Wrap-up\n",
    "\n",
    "This concludes the notebook. To recap, we covered the foundational tasks for path analysis:\n",
    "\n",
    "1. We performed a traceroute to check connectivity to `host1`\n",
    "2. Analyzed detailed path & hop information for the traceroute\n",
    "3. Explored a space of flows with the reachablity question and found an ACL bug that allows some external clients to reach the DNS server\n",
    "4. Perfomed a security check that ensures that only SSH and DNS traffic can reach `host1`\n",
    "5. Found multipath inconsistency in the network, for which only some paths result in successful communication\n",
    "\n",
    "We hope you found this notebook useful and informative. Future notebooks will dive into more advanced topics ensuring planned configuration changes do not have unintended consequences. Stay tuned!\n",
    "\n",
    "### Want to learn more? \n",
    "\n",
    "Reach out to us through [Slack](https://join.slack.com/t/batfish-org/shared_invite/enQtMzA0Nzg2OTAzNzQ1LTcyYzY3M2Q0NWUyYTRhYjdlM2IzYzRhZGU1NWFlNGU2MzlhNDY3OTJmMDIyMjQzYmRlNjhkMTRjNWIwNTUwNTQ) or [GitHub](https://github.com/batfish/batfish) to learn more, or send feedback."
   ]
  }
 ],
 "metadata": {
  "hide_input": false,
  "kernelspec": {
   "display_name": "Python 3",
   "language": "python",
   "name": "python3"
  },
  "language_info": {
   "codemirror_mode": {
    "name": "ipython",
    "version": 3
   },
   "file_extension": ".py",
   "mimetype": "text/x-python",
   "name": "python",
   "nbconvert_exporter": "python",
   "pygments_lexer": "ipython3",
   "version": "3.6.8"
  }
 },
 "nbformat": 4,
 "nbformat_minor": 1
}
