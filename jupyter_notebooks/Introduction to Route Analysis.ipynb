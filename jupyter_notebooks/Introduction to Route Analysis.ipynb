{
 "cells": [
  {
   "cell_type": "markdown",
   "metadata": {},
   "source": [
    "Network engineers routinely need to verify the routing protocol information in the network. This involves connecting to the various network devices and executing a series of show comamnds. In a multi-vendor network, network engineers must remember the exact command syntax and result output formats making this task much more complex then it should. However, with Batfish and the vendor-independent models that it produces, this task is extremely simple.\n",
    "\n",
    "In this notebook, we will look at how you can extract routing protocol related information from Batfish."
   ]
  },
  {
   "cell_type": "code",
   "execution_count": null,
   "metadata": {},
   "outputs": [],
   "source": [
    "# Importing packages and loading questions\n",
    "%run startup.py"
   ]
  },
  {
   "cell_type": "code",
   "execution_count": null,
   "metadata": {},
   "outputs": [],
   "source": [
    "NETWORK_NAME = \"example_network\"\n",
    "SNAPSHOT_NAME = \"example_snapshot\"\n",
    "\n",
    "# please replace this with the full path to the test_rigs folder in your local git repository for Batfish\n",
    "SNAPSHOT_PATH = \"test_rigs/example\"\n",
    "\n",
    "bf_set_network(NETWORK_NAME)\n",
    "bf_init_snapshot(SNAPSHOT_PATH, name=SNAPSHOT_NAME, overwrite=True)"
   ]
  },
  {
   "cell_type": "markdown",
   "metadata": {},
   "source": [
    "The network snapshot that we initialized above is illustrated below. You can download/view devices' configuration files [here](https://github.com/batfish/batfish/tree/master/test_rigs/example).\n",
    "\n",
    "![example-network](https://raw.githubusercontent.com/batfish/batfish/master/test_rigs/example/example-network.png)"
   ]
  },
  {
   "cell_type": "markdown",
   "metadata": {},
   "source": [
    "All of the information we will show you in this notebook is dynamically computed by Batfish based on the configuration files for the network devices."
   ]
  },
  {
   "cell_type": "markdown",
   "metadata": {},
   "source": [
    "Let's start with listing all of the Layer 3 (IP) neighbors of the router **as2border**"
   ]
  },
  {
   "cell_type": "code",
   "execution_count": null,
   "metadata": {},
   "outputs": [],
   "source": [
    "#insert code to display lanNeighbors for as2border2"
   ]
  },
  {
   "cell_type": "markdown",
   "metadata": {},
   "source": [
    "Now let's get the list of VRFs configured on **as2border** and the interfaces that are part of each of them"
   ]
  },
  {
   "cell_type": "code",
   "execution_count": null,
   "metadata": {},
   "outputs": [],
   "source": [
    "#insert code to diplay VRF list for as2border2 and the interfaces that are in each VRF"
   ]
  },
  {
   "cell_type": "markdown",
   "metadata": {},
   "source": [
    "In the example network there are no configured VRFs, so all interfaces are part of the **default** VRF. This is sometimes called the **global VRF**.\n",
    "\n",
    "Let's look at the routing table for the **default** VRF on **as2border**"
   ]
  },
  {
   "cell_type": "code",
   "execution_count": null,
   "metadata": {},
   "outputs": [],
   "source": [
    "#insert code to just retrieve the routes for as2border2 default VRF"
   ]
  },
  {
   "cell_type": "markdown",
   "metadata": {},
   "source": [
    "Often times, network engineers will check the routing tables for multiple devices in order to chase down a connectivity issue.\n",
    "\n",
    "So now, let's find all of the devices that have a route for **INSERT TARGET PREFIX**"
   ]
  },
  {
   "cell_type": "code",
   "execution_count": null,
   "metadata": {},
   "outputs": [],
   "source": [
    "#insert code to just retrieve routing entries for target prefix on ALL devices in the snapshot"
   ]
  },
  {
   "cell_type": "markdown",
   "metadata": {},
   "source": [
    "Figuring out which routers have a given prefix installed is useful, but we also want to know which routers do not have this prefix.\n",
    "So let's give that a try now."
   ]
  },
  {
   "cell_type": "code",
   "execution_count": null,
   "metadata": {},
   "outputs": [],
   "source": [
    "#insert code to just return the list of devices that DO NOT have the target prefix in the routing table"
   ]
  },
  {
   "cell_type": "markdown",
   "metadata": {},
   "source": [
    "That's it for this notebook. In this notebook we should you:\n",
    "\n",
    "a) How to retrieve the list of Layer 3 neighbors for any router in the network\n",
    "b) Retrieve the list of VRFs, and the interfaces in each VRF for any router\n",
    "c) How to find all routers that have a specific prefix in the routing table\n",
    "d) How to find all routers that are misisng a specific prefix in the routing table\n",
    "\n",
    "These are foundational concepts for using Batfish to perform route analysis. In future notebooks we will dive into more advanced route analysis using Batfish."
   ]
  },
  {
   "cell_type": "markdown",
   "metadata": {},
   "source": [
    "### Want to know more? "
   ]
  },
  {
   "cell_type": "markdown",
   "metadata": {},
   "source": [
    "Reach out to us through [Slack](https://join.slack.com/t/batfish-org/shared_invite/enQtMzA0Nzg2OTAzNzQ1LTUxOTJlY2YyNTVlNGQ3MTJkOTIwZTU2YjY3YzRjZWFiYzE4ODE5ODZiNjA4NGI5NTJhZmU2ZTllOTMwZDhjMzA) or [Github](https://github.com/batfish/batfish) to learn more. We would love to hear about your network and talk about how Batfish can help improve it's security and reliability."
   ]
  },
  {
   "cell_type": "markdown",
   "metadata": {},
   "source": [
    "We hope that you will continue to explore **Batfish** and all that it has to offer."
   ]
  },
  {
   "cell_type": "code",
   "execution_count": null,
   "metadata": {},
   "outputs": [],
   "source": []
  }
 ],
 "metadata": {
  "hide_input": false,
  "kernelspec": {
   "display_name": "Python 3",
   "language": "python",
   "name": "python3"
  },
  "language_info": {
   "codemirror_mode": {
    "name": "ipython",
    "version": 3
   },
   "file_extension": ".py",
   "mimetype": "text/x-python",
   "name": "python",
   "nbconvert_exporter": "python",
   "pygments_lexer": "ipython3",
   "version": "3.6.2"
  }
 },
 "nbformat": 4,
 "nbformat_minor": 2
}
