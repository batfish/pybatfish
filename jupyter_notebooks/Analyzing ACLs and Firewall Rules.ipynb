{
 "cells": [
  {
   "cell_type": "markdown",
   "metadata": {
    "slideshow": {
     "slide_type": "slide"
    }
   },
   "source": [
    "# Analyzing ACLs and firewall rules with Batfish"
   ]
  },
  {
   "cell_type": "markdown",
   "metadata": {
    "slideshow": {
     "slide_type": "notes"
    }
   },
   "source": [
    "Network and security engineers are responsible for ensuring that the ACLs and firewall rules in their networks are permitting and denying traffic as intended. This task usually requires manual checking or loading rulesets onto a lab device in order to test behavior on example packets of interest. These methods are not only time consuming but also error-prone. \n",
    "\n",
    "Batfish makes it easy to deeply analyze ACLs and firewall rules, which we generally call *filters.* It can show what a filter will do with a given packet, right down to the line of the filter that matches the packet; it can provide guarantees on how a filter treats a large space of packets; and it can sanity check a filter to ensure that every line in it matches at least some packets.\n",
    "\n",
    "In this notebook, we demonstrate these capabilities. In our [\"Provably Safe ACL and Firewall Changes\" notebook](Provably%20Safe%20ACL%20and%20Firewall%20Changes.ipynb), we show how Batfish can guarantee that filter changes are safe.\n",
    "\n",
    "![Analytics](https://ga-beacon.appspot.com/UA-100596389-3/open-source/pybatfish/jupyter_notebooks/analyzing-acls-and-firewall-rules?pixel&useReferer) "
   ]
  },
  {
   "cell_type": "markdown",
   "metadata": {
    "slideshow": {
     "slide_type": "slide"
    }
   },
   "source": [
    "## Initialization"
   ]
  },
  {
   "cell_type": "markdown",
   "metadata": {
    "slideshow": {
     "slide_type": "notes"
    }
   },
   "source": [
    "We use an example network with two devices, a router with ACLs and a firewall.  The device configurations can be seen [here](networks/example-filters/current/configs). "
   ]
  },
  {
   "cell_type": "code",
   "execution_count": 1,
   "metadata": {
    "slideshow": {
     "slide_type": "fragment"
    }
   },
   "outputs": [
    {
     "data": {
      "text/plain": [
       "'current'"
      ]
     },
     "execution_count": 1,
     "metadata": {},
     "output_type": "execute_result"
    }
   ],
   "source": [
    "# Import packages and load questions\n",
    "%run startup.py\n",
    "\n",
    "# Initialize a network and a snapshot\n",
    "bf_set_network(\"network-example-filters\")\n",
    "\n",
    "SNAPSHOT_NAME = \"current\"\n",
    "SNAPSHOT_PATH = \"networks/example-filters/current\"\n",
    "bf_init_snapshot(SNAPSHOT_PATH, name=SNAPSHOT_NAME, overwrite=True)"
   ]
  },
  {
   "cell_type": "markdown",
   "metadata": {
    "slideshow": {
     "slide_type": "slide"
    }
   },
   "source": [
    "## `testfilters`: Testing how filters treat a flow"
   ]
  },
  {
   "cell_type": "markdown",
   "metadata": {
    "slideshow": {
     "slide_type": "notes"
    }
   },
   "source": [
    "The `testfilters` question shows what filters do with a particular flow and *why*. It takes as input the details of the flow and a set of filters to test. The answer provides a detailed view of how the flow is treated by each filter in the set.\n",
    "\n",
    "Flows are specified using source and destination IP addresses and, optionally, other fields such as IP protocols, ports, and TCP flags. You may also specify the ingress interface which is factored in when the behavior of a filter depends on it. See [documentation](https://pybatfish.readthedocs.io/en/latest/questions.html#pybatfish.question.bfq.testfilters) for details. The question will fill in any unspecified fields with reasonable defaults.\n",
    "\n",
    "The set of filters to examine can be narrowed using various criteria, including regexes for node and filter names. Left unspecified, `testfilters` will give results for every filter in the network."
   ]
  },
  {
   "cell_type": "markdown",
   "metadata": {
    "slideshow": {
     "slide_type": "slide"
    }
   },
   "source": [
    "### Example 1: Test if hosts in a subnet can reach the DNS server"
   ]
  },
  {
   "cell_type": "markdown",
   "metadata": {
    "slideshow": {
     "slide_type": "notes"
    }
   },
   "source": [
    "Suppose we wanted to test if our ACL 'acl_in' in router 'rtr-with-acl' allows hosts in a subnet to reach our DNS server. This check is easily expressed. If the subnet is `10.10.10.0/24` and the DNS server is at the IP address `218.8.104.58`, then the query will be as shown below, where we have picked `10.10.10.1` as a representative source IP for the subnet."
   ]
  },
  {
   "cell_type": "code",
   "execution_count": 2,
   "metadata": {
    "slideshow": {
     "slide_type": "fragment"
    }
   },
   "outputs": [
    {
     "data": {
      "text/html": [
       "<style  type=\"text/css\" >\n",
       "    #T_5b0b0a58_bd35_11e8_9bc2_c4b301cae04drow0_col0 {\n",
       "            text-align:  left;\n",
       "            vertical-align:  top;\n",
       "        }    #T_5b0b0a58_bd35_11e8_9bc2_c4b301cae04drow0_col1 {\n",
       "            text-align:  left;\n",
       "            vertical-align:  top;\n",
       "        }    #T_5b0b0a58_bd35_11e8_9bc2_c4b301cae04drow0_col2 {\n",
       "            text-align:  left;\n",
       "            vertical-align:  top;\n",
       "        }    #T_5b0b0a58_bd35_11e8_9bc2_c4b301cae04drow0_col3 {\n",
       "            text-align:  left;\n",
       "            vertical-align:  top;\n",
       "        }    #T_5b0b0a58_bd35_11e8_9bc2_c4b301cae04drow0_col4 {\n",
       "            text-align:  left;\n",
       "            vertical-align:  top;\n",
       "        }    #T_5b0b0a58_bd35_11e8_9bc2_c4b301cae04drow0_col5 {\n",
       "            text-align:  left;\n",
       "            vertical-align:  top;\n",
       "        }</style>  \n",
       "<table id=\"T_5b0b0a58_bd35_11e8_9bc2_c4b301cae04d\" > \n",
       "<thead>    <tr> \n",
       "        <th class=\"blank level0\" ></th> \n",
       "        <th class=\"col_heading level0 col0\" >Node</th> \n",
       "        <th class=\"col_heading level0 col1\" >Filter_Name</th> \n",
       "        <th class=\"col_heading level0 col2\" >Flow</th> \n",
       "        <th class=\"col_heading level0 col3\" >Action</th> \n",
       "        <th class=\"col_heading level0 col4\" >Line_Content</th> \n",
       "        <th class=\"col_heading level0 col5\" >Trace</th> \n",
       "    </tr></thead> \n",
       "<tbody>    <tr> \n",
       "        <th id=\"T_5b0b0a58_bd35_11e8_9bc2_c4b301cae04dlevel0_row0\" class=\"row_heading level0 row0\" >0</th> \n",
       "        <td id=\"T_5b0b0a58_bd35_11e8_9bc2_c4b301cae04drow0_col0\" class=\"data row0 col0\" >rtr-with-acl</td> \n",
       "        <td id=\"T_5b0b0a58_bd35_11e8_9bc2_c4b301cae04drow0_col1\" class=\"data row0 col1\" >acl_in</td> \n",
       "        <td id=\"T_5b0b0a58_bd35_11e8_9bc2_c4b301cae04drow0_col2\" class=\"data row0 col2\" >start=rtr-with-acl [10.10.10.1:49152->218.8.104.58:53 UDP]</td> \n",
       "        <td id=\"T_5b0b0a58_bd35_11e8_9bc2_c4b301cae04drow0_col3\" class=\"data row0 col3\" >PERMIT</td> \n",
       "        <td id=\"T_5b0b0a58_bd35_11e8_9bc2_c4b301cae04drow0_col4\" class=\"data row0 col4\" >660 permit udp 10.10.10.0/24 218.8.104.58/32 eq domain</td> \n",
       "        <td id=\"T_5b0b0a58_bd35_11e8_9bc2_c4b301cae04drow0_col5\" class=\"data row0 col5\" >Flow permitted by 'extended ipv4 access-list' named 'acl_in', index 32: 660 permit udp 10.10.10.0/24 218.8.104.58/32 eq domain</td> \n",
       "    </tr></tbody> \n",
       "</table> "
      ],
      "text/plain": [
       "<pandas.io.formats.style.Styler at 0x11da764a8>"
      ]
     },
     "metadata": {},
     "output_type": "display_data"
    }
   ],
   "source": [
    "# Check if a representative host can reach the DNS server\n",
    "dns_flow = HeaderConstraints(srcIps=\"10.10.10.1\", dstIps=\"218.8.104.58\", applications=[\"dns\"])\n",
    "answer = bfq.testfilters(headers=dns_flow,\n",
    "                         nodes=\"rtr-with-acl\",\n",
    "                         filters=\"acl_in\").answer()\n",
    "display_html(answer.frame())"
   ]
  },
  {
   "cell_type": "markdown",
   "metadata": {
    "slideshow": {
     "slide_type": "notes"
    }
   },
   "source": [
    "The result above shows that the flow we tested is indeed permitted by the filter 'acl_in' (in `Filter_Name` column) on device 'rtr-with-acl' (in `Node` column). The `Flow` column shows the exact flow tested, including the default values chosen by Batfish for unspecified parameters. The remaining columns show how the flow is treated by the filter. The `Action` column shows the final outcome, the `Line_Number` and `Line_Content` columns show which lines led to that action, and the `Trace` column shows all the lines the packet matched. In this case, the trace is not deep, but it can be quite deep for filters that reference other structures such as policy maps and object groups."
   ]
  },
  {
   "cell_type": "markdown",
   "metadata": {
    "slideshow": {
     "slide_type": "slide"
    }
   },
   "source": [
    "### Example 2: Test that HTTP flows cannot go from one zone to another"
   ]
  },
  {
   "cell_type": "markdown",
   "metadata": {
    "slideshow": {
     "slide_type": "notes"
    }
   },
   "source": [
    "Now suppose we want to test that our 'firewall' blocks HTTP flows that cross the boundary from one zone to another. A query like the one below can help us do that. It is testing how output filters on interfaces in 'zone-z3' treat a packet with the specified header fields when it enters the firewall through interfaces in 'zone-z2'. \n",
    "\n",
    "The arguments to `startLocation` and `filters` below use Batfish specifiers that enable easy specification of various concepts. `enter(firewall[Ethernet0/0/2])` specifies that the packet we want to test enters 'firewall' via 'Ethernet0/0/2' (the interface in the first zone) and `outFilterOf(Ethernet0/0/3)` specifies that the filter we want to test is the out filter on 'Ethernet0/0/3' (the interface in the second zone). See [here](XXTODOXX) for documentation on various types of specifiers. "
   ]
  },
  {
   "cell_type": "code",
   "execution_count": 3,
   "metadata": {
    "slideshow": {
     "slide_type": "fragment"
    }
   },
   "outputs": [
    {
     "data": {
      "text/html": [
       "<style  type=\"text/css\" >\n",
       "    #T_5baca066_bd35_11e8_9d97_c4b301cae04drow0_col0 {\n",
       "            text-align:  left;\n",
       "            vertical-align:  top;\n",
       "        }    #T_5baca066_bd35_11e8_9d97_c4b301cae04drow0_col1 {\n",
       "            text-align:  left;\n",
       "            vertical-align:  top;\n",
       "        }    #T_5baca066_bd35_11e8_9d97_c4b301cae04drow0_col2 {\n",
       "            text-align:  left;\n",
       "            vertical-align:  top;\n",
       "        }    #T_5baca066_bd35_11e8_9d97_c4b301cae04drow0_col3 {\n",
       "            text-align:  left;\n",
       "            vertical-align:  top;\n",
       "        }    #T_5baca066_bd35_11e8_9d97_c4b301cae04drow0_col4 {\n",
       "            text-align:  left;\n",
       "            vertical-align:  top;\n",
       "        }    #T_5baca066_bd35_11e8_9d97_c4b301cae04drow0_col5 {\n",
       "            text-align:  left;\n",
       "            vertical-align:  top;\n",
       "        }</style>  \n",
       "<table id=\"T_5baca066_bd35_11e8_9d97_c4b301cae04d\" > \n",
       "<thead>    <tr> \n",
       "        <th class=\"blank level0\" ></th> \n",
       "        <th class=\"col_heading level0 col0\" >Node</th> \n",
       "        <th class=\"col_heading level0 col1\" >Filter_Name</th> \n",
       "        <th class=\"col_heading level0 col2\" >Flow</th> \n",
       "        <th class=\"col_heading level0 col3\" >Action</th> \n",
       "        <th class=\"col_heading level0 col4\" >Line_Content</th> \n",
       "        <th class=\"col_heading level0 col5\" >Trace</th> \n",
       "    </tr></thead> \n",
       "<tbody>    <tr> \n",
       "        <th id=\"T_5baca066_bd35_11e8_9d97_c4b301cae04dlevel0_row0\" class=\"row_heading level0 row0\" >0</th> \n",
       "        <td id=\"T_5baca066_bd35_11e8_9d97_c4b301cae04drow0_col0\" class=\"data row0 col0\" >firewall</td> \n",
       "        <td id=\"T_5baca066_bd35_11e8_9d97_c4b301cae04drow0_col1\" class=\"data row0 col1\" >~ZONE_OUTGOING_ACL~zone-z3~</td> \n",
       "        <td id=\"T_5baca066_bd35_11e8_9d97_c4b301cae04drow0_col2\" class=\"data row0 col2\" >start=firewall interface=GigabitEthernet0/0/2 vrf=None [10.114.64.1:49152->10.114.60.10:80 TCP]</td> \n",
       "        <td id=\"T_5baca066_bd35_11e8_9d97_c4b301cae04drow0_col3\" class=\"data row0 col3\" >DENY</td> \n",
       "        <td id=\"T_5baca066_bd35_11e8_9d97_c4b301cae04drow0_col4\" class=\"data row0 col4\" >no-match</td> \n",
       "        <td id=\"T_5baca066_bd35_11e8_9d97_c4b301cae04drow0_col5\" class=\"data row0 col5\" >Flow did not match ACL named '~ZONE_OUTGOING_ACL~zone-z3~'</td> \n",
       "    </tr></tbody> \n",
       "</table> "
      ],
      "text/plain": [
       "<pandas.io.formats.style.Styler at 0x11e0a8a20>"
      ]
     },
     "metadata": {},
     "output_type": "display_data"
    }
   ],
   "source": [
    "# Test if a host can reach the DNS server\n",
    "http_flow = HeaderConstraints(srcIps=\"10.114.64.1\", dstIps=\"10.114.60.10\", applications=[\"http\"])\n",
    "answer = bfq.testfilters(headers=http_flow,\n",
    "                         startLocation=\"enter(firewall[GigabitEthernet0/0/2])\",\n",
    "                         nodes=\"firewall\",\n",
    "                         filters=\"outFilterOf(GigabitEthernet0/0/3)\").answer()\n",
    "display_html(answer.frame())"
   ]
  },
  {
   "cell_type": "markdown",
   "metadata": {
    "slideshow": {
     "slide_type": "notes"
    }
   },
   "source": [
    "As we can see the HTTP flow is indeed denied, and the columns in the table show the reason for that denial."
   ]
  },
  {
   "cell_type": "markdown",
   "metadata": {
    "slideshow": {
     "slide_type": "slide"
    }
   },
   "source": [
    "## `reachfilter`: Verifying how filters treat a (very large) space of flows"
   ]
  },
  {
   "cell_type": "markdown",
   "metadata": {
    "slideshow": {
     "slide_type": "notes"
    }
   },
   "source": [
    "While `testfilters` reasons about individual flows, the `reachfilter` question provides comprehensive guarantees by reasoning about (potentially very large) spaces of flows. The space of flows is specified using source and destination prefixes (where the default prefix 0.0.0.0/0 denotes all 4,294,967,296 possibilities), a list of protocols, a range of ports, and so on. Given a flow space and a match condition, which can be `permit`, `deny`, or `matchLine <linenum>`, `reachfilters` returns flows within this space that match the condition. If no flow is returned, it is guaranteed that no flow in the entire space satisfies the condition. "
   ]
  },
  {
   "cell_type": "markdown",
   "metadata": {
    "slideshow": {
     "slide_type": "slide"
    }
   },
   "source": [
    "### Example 1: Verify that *all* hosts in a subnet can reach the DNS server"
   ]
  },
  {
   "cell_type": "markdown",
   "metadata": {
    "slideshow": {
     "slide_type": "notes"
    }
   },
   "source": [
    "Earlier we checked that a subnet could reach the DNS server using `testfilters` with a representative source IP address. Now, let's use `reachfilter` to ascertain that the entire subnet can reach the server.\n",
    "\n",
    "The query below is asking if there is *any* flow from `10.10.10.0/24` to `218.8.104.58` that is *denied* by the filter `acl_in`. That is, we're asking for violations of the desired policy. An empty result means the policy is correctly implemented. Any flow returned by the query demonstrates that the policy is not correctly implemented."
   ]
  },
  {
   "cell_type": "code",
   "execution_count": 4,
   "metadata": {
    "slideshow": {
     "slide_type": "fragment"
    }
   },
   "outputs": [
    {
     "data": {
      "text/html": [
       "<style  type=\"text/css\" >\n",
       "    #T_5c4b4770_bd35_11e8_866a_c4b301cae04drow0_col0 {\n",
       "            text-align:  left;\n",
       "            vertical-align:  top;\n",
       "        }    #T_5c4b4770_bd35_11e8_866a_c4b301cae04drow0_col1 {\n",
       "            text-align:  left;\n",
       "            vertical-align:  top;\n",
       "        }    #T_5c4b4770_bd35_11e8_866a_c4b301cae04drow0_col2 {\n",
       "            text-align:  left;\n",
       "            vertical-align:  top;\n",
       "        }    #T_5c4b4770_bd35_11e8_866a_c4b301cae04drow0_col3 {\n",
       "            text-align:  left;\n",
       "            vertical-align:  top;\n",
       "        }    #T_5c4b4770_bd35_11e8_866a_c4b301cae04drow0_col4 {\n",
       "            text-align:  left;\n",
       "            vertical-align:  top;\n",
       "        }    #T_5c4b4770_bd35_11e8_866a_c4b301cae04drow0_col5 {\n",
       "            text-align:  left;\n",
       "            vertical-align:  top;\n",
       "        }    #T_5c4b4770_bd35_11e8_866a_c4b301cae04drow0_col6 {\n",
       "            text-align:  left;\n",
       "            vertical-align:  top;\n",
       "        }</style>  \n",
       "<table id=\"T_5c4b4770_bd35_11e8_866a_c4b301cae04d\" > \n",
       "<thead>    <tr> \n",
       "        <th class=\"blank level0\" ></th> \n",
       "        <th class=\"col_heading level0 col0\" >Node</th> \n",
       "        <th class=\"col_heading level0 col1\" >Filter_Name</th> \n",
       "        <th class=\"col_heading level0 col2\" >HeaderSpace</th> \n",
       "        <th class=\"col_heading level0 col3\" >Flow</th> \n",
       "        <th class=\"col_heading level0 col4\" >Action</th> \n",
       "        <th class=\"col_heading level0 col5\" >Line_Content</th> \n",
       "        <th class=\"col_heading level0 col6\" >Trace</th> \n",
       "    </tr></thead> \n",
       "<tbody>    <tr> \n",
       "        <th id=\"T_5c4b4770_bd35_11e8_866a_c4b301cae04dlevel0_row0\" class=\"row_heading level0 row0\" >0</th> \n",
       "        <td id=\"T_5c4b4770_bd35_11e8_866a_c4b301cae04drow0_col0\" class=\"data row0 col0\" >rtr-with-acl</td> \n",
       "        <td id=\"T_5c4b4770_bd35_11e8_866a_c4b301cae04drow0_col1\" class=\"data row0 col1\" >acl_in</td> \n",
       "        <td id=\"T_5c4b4770_bd35_11e8_866a_c4b301cae04drow0_col2\" class=\"data row0 col2\" >null</td> \n",
       "        <td id=\"T_5c4b4770_bd35_11e8_866a_c4b301cae04drow0_col3\" class=\"data row0 col3\" >start=rtr-with-acl [10.10.10.42:0->218.8.104.58:53 UDP]</td> \n",
       "        <td id=\"T_5c4b4770_bd35_11e8_866a_c4b301cae04drow0_col4\" class=\"data row0 col4\" >DENY</td> \n",
       "        <td id=\"T_5c4b4770_bd35_11e8_866a_c4b301cae04drow0_col5\" class=\"data row0 col5\" >460 deny udp 10.10.10.42/32 218.8.104.58/32 eq domain</td> \n",
       "        <td id=\"T_5c4b4770_bd35_11e8_866a_c4b301cae04drow0_col6\" class=\"data row0 col6\" >Flow denied by 'extended ipv4 access-list' named 'acl_in', index 22: 460 deny udp 10.10.10.42/32 218.8.104.58/32 eq domain</td> \n",
       "    </tr></tbody> \n",
       "</table> "
      ],
      "text/plain": [
       "<pandas.io.formats.style.Styler at 0x11af6bac8>"
      ]
     },
     "metadata": {},
     "output_type": "display_data"
    }
   ],
   "source": [
    "# Check if the subnet can reach the DNS server\n",
    "answer = bfq.reachfilter(src=\"10.10.10.0/24\",\n",
    "                         dst=\"218.8.104.58\",\n",
    "                         dstPorts=[53],\n",
    "                         ipProtocols=[\"udp\"],\n",
    "                         query=\"deny\",\n",
    "                         filters=\"acl_in\").answer()\n",
    "display_html(answer.frame())"
   ]
  },
  {
   "cell_type": "markdown",
   "metadata": {
    "slideshow": {
     "slide_type": "notes"
    }
   },
   "source": [
    "As we can see, we did get a flow that matches the search condition and thus violates our desired guarantee of the entire subnet being able to reach the DNS server. The columns carry the same information as those for `testfilters` and provide insight into the violation. In particular, we see that a flow with source IP `10.10.10.42` is denied by an earlier line in the ACL. Such needles in the haystack are impossible to find with tools like pen testing. "
   ]
  },
  {
   "cell_type": "markdown",
   "metadata": {
    "slideshow": {
     "slide_type": "slide"
    }
   },
   "source": [
    "### Example 2: Verify that no non-NFS flow can go from one zone to another"
   ]
  },
  {
   "cell_type": "markdown",
   "metadata": {
    "slideshow": {
     "slide_type": "notes"
    }
   },
   "source": [
    "In the second example for `testfilters` we used an example flow to test if `firewall` allowed HTTP flows from one zone to another. Now, suppose that we wanted a stricter condition—that only NFS flows are allowed from one zone to another. With `reachfilter` we can verify this condition by searching for violations in the large space of non-NFS flows, as below."
   ]
  },
  {
   "cell_type": "code",
   "execution_count": 5,
   "metadata": {
    "slideshow": {
     "slide_type": "fragment"
    }
   },
   "outputs": [
    {
     "data": {
      "text/html": [
       "<div>\n",
       "<style scoped>\n",
       "    .dataframe tbody tr th:only-of-type {\n",
       "        vertical-align: middle;\n",
       "    }\n",
       "\n",
       "    .dataframe tbody tr th {\n",
       "        vertical-align: top;\n",
       "    }\n",
       "\n",
       "    .dataframe thead th {\n",
       "        text-align: right;\n",
       "    }\n",
       "</style>\n",
       "<table border=\"1\" class=\"dataframe\">\n",
       "  <thead>\n",
       "    <tr style=\"text-align: right;\">\n",
       "      <th></th>\n",
       "      <th>Node</th>\n",
       "      <th>Filter_Name</th>\n",
       "      <th>HeaderSpace</th>\n",
       "      <th>Flow</th>\n",
       "      <th>Action</th>\n",
       "      <th>Line_Content</th>\n",
       "      <th>Trace</th>\n",
       "    </tr>\n",
       "  </thead>\n",
       "  <tbody>\n",
       "  </tbody>\n",
       "</table>\n",
       "</div>"
      ],
      "text/plain": [
       "Empty DataFrame\n",
       "Columns: [Node, Filter_Name, HeaderSpace, Flow, Action, Line_Content, Trace]\n",
       "Index: []"
      ]
     },
     "metadata": {},
     "output_type": "display_data"
    }
   ],
   "source": [
    "# Check if any non-NFS (TCP) flow can go from one zone to another\n",
    "answer = bfq.reachfilter(src=\"10.114.64.0/24\",\n",
    "                         dst=\"10.114.60.0/24\",\n",
    "                         ipProtocols=[\"tcp\"],\n",
    "                         dstPorts=[\"0-2048\", \"2050-65356\"],  # exclude NFS port, 2049\n",
    "                         start=\"enter(zone(zone-z2))\",\n",
    "                         nodes=\"firewall\",\n",
    "                         filters=\"outFilterOf(zone(zone-z3))\",\n",
    "                         query=\"permit\").answer()\n",
    "display_html(answer.frame())"
   ]
  },
  {
   "cell_type": "markdown",
   "metadata": {
    "slideshow": {
     "slide_type": "notes"
    }
   },
   "source": [
    "Since we got back an empty answer, we can be certain that no non-NFS flow can go from one zone to another. Such strong guarantees are impossible with any other tool today."
   ]
  },
  {
   "cell_type": "markdown",
   "metadata": {
    "slideshow": {
     "slide_type": "slide"
    }
   },
   "source": [
    "## `filterLineReachability`: Analyzing reachability of filter lines "
   ]
  },
  {
   "cell_type": "markdown",
   "metadata": {
    "slideshow": {
     "slide_type": "notes"
    }
   },
   "source": [
    "When debugging or editing filters, it can be useful to confirm that every line is reachable—that is, each line can match some packets that do not match earlier lines. Unreachable filter lines are often symptomatic of bugs and past edits that did not achieve policy intent. Even when they do not represent bugs, they represent opportunities to reduce the length of the filter. \n",
    "\n",
    "The `filterLineReachability` question identifies unreachable filter lines. Given no parameters, it will check every filter in the network, but its scope can be narrowed  using `filters` and `nodes` parameters (see [documentation](https://pybatfish.readthedocs.io/en/latest/questions.html#pybatfish.question.bfq.aclReachability))."
   ]
  },
  {
   "cell_type": "code",
   "execution_count": 6,
   "metadata": {
    "scrolled": false,
    "slideshow": {
     "slide_type": "fragment"
    }
   },
   "outputs": [
    {
     "data": {
      "text/html": [
       "<style  type=\"text/css\" >\n",
       "    #T_5d8a3d58_bd35_11e8_a465_c4b301cae04drow0_col0 {\n",
       "            text-align:  left;\n",
       "            vertical-align:  top;\n",
       "        }    #T_5d8a3d58_bd35_11e8_a465_c4b301cae04drow0_col1 {\n",
       "            text-align:  left;\n",
       "            vertical-align:  top;\n",
       "        }    #T_5d8a3d58_bd35_11e8_a465_c4b301cae04drow0_col2 {\n",
       "            text-align:  left;\n",
       "            vertical-align:  top;\n",
       "        }    #T_5d8a3d58_bd35_11e8_a465_c4b301cae04drow0_col3 {\n",
       "            text-align:  left;\n",
       "            vertical-align:  top;\n",
       "        }    #T_5d8a3d58_bd35_11e8_a465_c4b301cae04drow0_col4 {\n",
       "            text-align:  left;\n",
       "            vertical-align:  top;\n",
       "        }    #T_5d8a3d58_bd35_11e8_a465_c4b301cae04drow0_col5 {\n",
       "            text-align:  left;\n",
       "            vertical-align:  top;\n",
       "        }    #T_5d8a3d58_bd35_11e8_a465_c4b301cae04drow0_col6 {\n",
       "            text-align:  left;\n",
       "            vertical-align:  top;\n",
       "        }    #T_5d8a3d58_bd35_11e8_a465_c4b301cae04drow1_col0 {\n",
       "            text-align:  left;\n",
       "            vertical-align:  top;\n",
       "        }    #T_5d8a3d58_bd35_11e8_a465_c4b301cae04drow1_col1 {\n",
       "            text-align:  left;\n",
       "            vertical-align:  top;\n",
       "        }    #T_5d8a3d58_bd35_11e8_a465_c4b301cae04drow1_col2 {\n",
       "            text-align:  left;\n",
       "            vertical-align:  top;\n",
       "        }    #T_5d8a3d58_bd35_11e8_a465_c4b301cae04drow1_col3 {\n",
       "            text-align:  left;\n",
       "            vertical-align:  top;\n",
       "        }    #T_5d8a3d58_bd35_11e8_a465_c4b301cae04drow1_col4 {\n",
       "            text-align:  left;\n",
       "            vertical-align:  top;\n",
       "        }    #T_5d8a3d58_bd35_11e8_a465_c4b301cae04drow1_col5 {\n",
       "            text-align:  left;\n",
       "            vertical-align:  top;\n",
       "        }    #T_5d8a3d58_bd35_11e8_a465_c4b301cae04drow1_col6 {\n",
       "            text-align:  left;\n",
       "            vertical-align:  top;\n",
       "        }</style>  \n",
       "<table id=\"T_5d8a3d58_bd35_11e8_a465_c4b301cae04d\" > \n",
       "<thead>    <tr> \n",
       "        <th class=\"blank level0\" ></th> \n",
       "        <th class=\"col_heading level0 col0\" >Sources</th> \n",
       "        <th class=\"col_heading level0 col1\" >Unreachable_Line</th> \n",
       "        <th class=\"col_heading level0 col2\" >Unreachable_Line_Action</th> \n",
       "        <th class=\"col_heading level0 col3\" >Blocking_Lines</th> \n",
       "        <th class=\"col_heading level0 col4\" >Different_Action</th> \n",
       "        <th class=\"col_heading level0 col5\" >Reason</th> \n",
       "        <th class=\"col_heading level0 col6\" >Additional_Info</th> \n",
       "    </tr></thead> \n",
       "<tbody>    <tr> \n",
       "        <th id=\"T_5d8a3d58_bd35_11e8_a465_c4b301cae04dlevel0_row0\" class=\"row_heading level0 row0\" >0</th> \n",
       "        <td id=\"T_5d8a3d58_bd35_11e8_a465_c4b301cae04drow0_col0\" class=\"data row0 col0\" >['rtr-with-acl: acl_in']</td> \n",
       "        <td id=\"T_5d8a3d58_bd35_11e8_a465_c4b301cae04drow0_col1\" class=\"data row0 col1\" >670 permit ip 166.146.58.184 any</td> \n",
       "        <td id=\"T_5d8a3d58_bd35_11e8_a465_c4b301cae04drow0_col2\" class=\"data row0 col2\" >PERMIT</td> \n",
       "        <td id=\"T_5d8a3d58_bd35_11e8_a465_c4b301cae04drow0_col3\" class=\"data row0 col3\" >['30 deny icmp any any redirect', '540 deny ip 166.146.58.184/12 any']</td> \n",
       "        <td id=\"T_5d8a3d58_bd35_11e8_a465_c4b301cae04drow0_col4\" class=\"data row0 col4\" >True</td> \n",
       "        <td id=\"T_5d8a3d58_bd35_11e8_a465_c4b301cae04drow0_col5\" class=\"data row0 col5\" >BLOCKING_LINES</td> \n",
       "        <td id=\"T_5d8a3d58_bd35_11e8_a465_c4b301cae04drow0_col6\" class=\"data row0 col6\" >None</td> \n",
       "    </tr>    <tr> \n",
       "        <th id=\"T_5d8a3d58_bd35_11e8_a465_c4b301cae04dlevel0_row1\" class=\"row_heading level0 row1\" >1</th> \n",
       "        <td id=\"T_5d8a3d58_bd35_11e8_a465_c4b301cae04drow1_col0\" class=\"data row1 col0\" >['rtr-with-acl: acl_in']</td> \n",
       "        <td id=\"T_5d8a3d58_bd35_11e8_a465_c4b301cae04drow1_col1\" class=\"data row1 col1\" >790 deny ip 54.203.159.1/32 any</td> \n",
       "        <td id=\"T_5d8a3d58_bd35_11e8_a465_c4b301cae04drow1_col2\" class=\"data row1 col2\" >DENY</td> \n",
       "        <td id=\"T_5d8a3d58_bd35_11e8_a465_c4b301cae04drow1_col3\" class=\"data row1 col3\" >['30 deny icmp any any redirect', '500 deny ip 54.203.159.13/8 any']</td> \n",
       "        <td id=\"T_5d8a3d58_bd35_11e8_a465_c4b301cae04drow1_col4\" class=\"data row1 col4\" >False</td> \n",
       "        <td id=\"T_5d8a3d58_bd35_11e8_a465_c4b301cae04drow1_col5\" class=\"data row1 col5\" >BLOCKING_LINES</td> \n",
       "        <td id=\"T_5d8a3d58_bd35_11e8_a465_c4b301cae04drow1_col6\" class=\"data row1 col6\" >None</td> \n",
       "    </tr></tbody> \n",
       "</table> "
      ],
      "text/plain": [
       "<pandas.io.formats.style.Styler at 0x11de2da90>"
      ]
     },
     "metadata": {},
     "output_type": "display_data"
    }
   ],
   "source": [
    "# Find unreachable lines in filters of rtr-with-acl\n",
    "aclAns = bfq.filterLineReachability(nodes=\"rtr-with-acl\").answer()\n",
    "display_html(aclAns.frame())"
   ]
  },
  {
   "cell_type": "markdown",
   "metadata": {
    "slideshow": {
     "slide_type": "notes"
    }
   },
   "source": [
    "Each line in the answer above identifies an unreachable line in a filter. Let's take a closer look at the second one. It shows that the line `670 permit ip 166.146.58.184 any` is unreachable because it is blocked by the collective impact of multiple lines that are shown in the `Blocking_Lines` column. The content of the `Different_Action` tells us that the action of the blocking lines is different from that of the unreachable line, a more worrisome situation than when actions are the same. \n",
    "\n",
    "The `Reason` column shows that the line is unreachable because of it has other lines that block it, Lines can also be independently unreachable (i.e., no packet will ever match it) or may be unreachable because of circular references. The `filterLineReachability` question identifies such cases as well, and provides more information about them in the `Additional_Info` column."
   ]
  },
  {
   "cell_type": "markdown",
   "metadata": {
    "slideshow": {
     "slide_type": "slide"
    }
   },
   "source": [
    "## Summary\n",
    "\n",
    "In this notebook, we showed how you can use Batfish to: \n",
    "  1. Test how filters in the network treat a flow\n",
    "  2. Verify how a large space of flows is treated\n",
    "  3. Find filter lines that will never match any packet"
   ]
  },
  {
   "cell_type": "markdown",
   "metadata": {
    "slideshow": {
     "slide_type": "fragment"
    }
   },
   "source": [
    "If you found these capabilities useful, check out our [\"Provably Safe ACL and Firewall Changes\" notebook](Provably%20Safe%20ACL%20and%20Firewall%20Changes.ipynb) that show how to change filters in a *provably* safe manner."
   ]
  },
  {
   "cell_type": "markdown",
   "metadata": {
    "slideshow": {
     "slide_type": "slide"
    }
   },
   "source": [
    "***\n",
    "### Get involved with the Batfish community\n",
    "\n",
    "Join our community on [Slack](https://join.slack.com/t/batfish-org/shared_invite/enQtMzA0Nzg2OTAzNzQ1LTUxOTJlY2YyNTVlNGQ3MTJkOTIwZTU2YjY3YzRjZWFiYzE4ODE5ODZiNjA4NGI5NTJhZmU2ZTllOTMwZDhjMzA) and [Github](https://github.com/batfish/batfish). "
   ]
  }
 ],
 "metadata": {
  "celltoolbar": "Slideshow",
  "kernelspec": {
   "display_name": "Python 3",
   "language": "python",
   "name": "python3"
  },
  "language_info": {
   "codemirror_mode": {
    "name": "ipython",
    "version": 3
   },
   "file_extension": ".py",
   "mimetype": "text/x-python",
   "name": "python",
   "nbconvert_exporter": "python",
   "pygments_lexer": "ipython3",
   "version": "3.6.4"
  }
 },
 "nbformat": 4,
 "nbformat_minor": 2
}
