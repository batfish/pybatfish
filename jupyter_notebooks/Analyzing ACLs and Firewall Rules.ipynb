{
 "cells": [
  {
   "cell_type": "markdown",
   "metadata": {},
   "source": [
    "# Analyzing ACLs and firewall rules with Batfish\n",
    "\n",
    "Network and security engineers are responsible for ensuring that the ACLs and firewall rules in their networks are permitting and denying traffic as intended. This task usually requires manual checking or loading rulesets onto a lab device in order to test its behavior on example packets of interest. These methods are not only time consuming but also error-prone. \n",
    "\n",
    "Batfish makes it easy to see what each ACL or firewall ruleset, which we generally call *filters*, will do with a given packet, right down to the line of the filter that matches it, and get guarantees on how the filter treats a large spaces of packets. Batfish also provides a sanity check to help ensure that every line in a filter matches at least some packets. \n",
    "\n",
    "In this notebook, we demonstrate these capabilities. In this [other notebook](Provably%20Safe%20ACL%20and%20Firewall%20Changes.ipynb), we show how Batfish can guarantee that filter changes are safe.\n",
    "\n",
    "![Analytics](https://ga-beacon.appspot.com/UA-100596389-3/open-source/pybatfish/jupyter_notebooks/analyzing-acls-and-firewall-rules?pixel&useReferer) "
   ]
  },
  {
   "cell_type": "markdown",
   "metadata": {},
   "source": [
    "## Initialization\n",
    "\n",
    "We use a snapshot with two devices, a router with ACLs and a firewall, an example in this notebook.  When adapting this example, `SNAPSHOT_PATH` below should be updated to point to a custom snapshot directory, see the [Batfish instructions](https://github.com/batfish/batfish/wiki/Packaging-snapshots-for-analysis) for how to package data for analysis. More example networks are available [here](https://github.com/batfish/batfish/tree/master/networks)."
   ]
  },
  {
   "cell_type": "code",
   "execution_count": 1,
   "metadata": {},
   "outputs": [
    {
     "data": {
      "text/plain": [
       "'current'"
      ]
     },
     "execution_count": 1,
     "metadata": {},
     "output_type": "execute_result"
    }
   ],
   "source": [
    "# Import packages and load questions\n",
    "%run startup.py\n",
    "\n",
    "# Initialize a network and snapshot\n",
    "NETWORK_NAME = \"network-example-filters\"\n",
    "SNAPSHOT_NAME = \"current\"\n",
    "\n",
    "SNAPSHOT_PATH = \"networks/example-filters/current\"\n",
    "\n",
    "bf_set_network(NETWORK_NAME)\n",
    "bf_init_snapshot(SNAPSHOT_PATH, name=SNAPSHOT_NAME, overwrite=True)"
   ]
  },
  {
   "cell_type": "markdown",
   "metadata": {},
   "source": [
    "## Testing how a flow is treated\n",
    "\n",
    "The `testfilters` question of Batfish shows what filters do with a particular flow and *why*. It takes as input the details of the flow and a set of filters to test. The answer shows how the flow is treated by each filter in the set.\n",
    "To specify the flow, you must provide the source IP address `srcIp` and the destination `dst` (hostname or IP address). Optionally, you can also specify the ingress interface (where the flow enters the device) and header fields such as IP protocols, ports, TCP flags, and ICMP codes ([see documentation for details](https://pybatfish.readthedocs.io/en/latest/questions.html#pybatfish.question.bfq.testfilters)). The question will fill in any unspecified fields with reasonable defaults.\n",
    "\n",
    "The set of filters to examine can be narrowed using various criteria, including regexes for node and filter names. Left unspecified, `testfilters` will give results for every filter in the network."
   ]
  },
  {
   "cell_type": "markdown",
   "metadata": {},
   "source": [
    "### Example 1: Test if hosts in a subnet can reach the DNS server\n",
    "\n",
    "Suppose we wanted to test if our ACL allows hosts in a subnet can reach our DNS server. This check is easily expressed. Assume that the subnet is `10.10.10.0/24` and the DNS server is at the IP address `218.8.104.58`, then the query will be as shown below, where we have picked `10.10.10.1` a representative source IP for the subnet. "
   ]
  },
  {
   "cell_type": "code",
   "execution_count": 2,
   "metadata": {},
   "outputs": [
    {
     "data": {
      "text/html": [
       "<div>\n",
       "<style scoped>\n",
       "    .dataframe tbody tr th:only-of-type {\n",
       "        vertical-align: middle;\n",
       "    }\n",
       "\n",
       "    .dataframe tbody tr th {\n",
       "        vertical-align: top;\n",
       "    }\n",
       "\n",
       "    .dataframe thead th {\n",
       "        text-align: right;\n",
       "    }\n",
       "</style>\n",
       "<table border=\"1\" class=\"dataframe\">\n",
       "  <thead>\n",
       "    <tr style=\"text-align: right;\">\n",
       "      <th></th>\n",
       "      <th>Node</th>\n",
       "      <th>Filter_Name</th>\n",
       "      <th>Flow</th>\n",
       "      <th>Action</th>\n",
       "      <th>Line_Number</th>\n",
       "      <th>Line_Content</th>\n",
       "      <th>Trace</th>\n",
       "    </tr>\n",
       "  </thead>\n",
       "  <tbody>\n",
       "    <tr>\n",
       "      <th>0</th>\n",
       "      <td>rtr-with-acl</td>\n",
       "      <td>acl_in</td>\n",
       "      <td>rtr-with-acl-&gt;[10.10.10.1:49152-&gt;218.8.104.58:53 proto: UDP dscp:0 ecn:0 fragOff:0 length:0 state:NEW flags: n/a</td>\n",
       "      <td>PERMIT</td>\n",
       "      <td>32</td>\n",
       "      <td>660 permit udp 10.10.10.0/24 218.8.104.58/32 eq domain</td>\n",
       "      <td>Flow permitted by 'extended ipv4 access-list' named 'acl_in', index 32: 660 permit udp 10.10.10.0/24 218.8.104.58/32 eq domain</td>\n",
       "    </tr>\n",
       "  </tbody>\n",
       "</table>\n",
       "</div>"
      ],
      "text/plain": [
       "           Node Filter_Name  \\\n",
       "0  rtr-with-acl      acl_in   \n",
       "\n",
       "                                                                                                               Flow  \\\n",
       "0  rtr-with-acl->[10.10.10.1:49152->218.8.104.58:53 proto: UDP dscp:0 ecn:0 fragOff:0 length:0 state:NEW flags: n/a   \n",
       "\n",
       "   Action  Line_Number  \\\n",
       "0  PERMIT           32   \n",
       "\n",
       "                                             Line_Content  \\\n",
       "0  660 permit udp 10.10.10.0/24 218.8.104.58/32 eq domain   \n",
       "\n",
       "                                                                                                                            Trace  \n",
       "0  Flow permitted by 'extended ipv4 access-list' named 'acl_in', index 32: 660 permit udp 10.10.10.0/24 218.8.104.58/32 eq domain  "
      ]
     },
     "execution_count": 2,
     "metadata": {},
     "output_type": "execute_result"
    }
   ],
   "source": [
    "# Check if a host can reach the DNS server\n",
    "bfq.testfilters(srcIp=\"10.10.10.1\",\n",
    "                dst=\"218.8.104.58\",\n",
    "                ipProtocol=\"UDP\",\n",
    "                dstPort=53,\n",
    "                filters=\"acl_in\").answer().frame()"
   ]
  },
  {
   "cell_type": "markdown",
   "metadata": {},
   "source": [
    "The result above shows that the flow we tested is indeed permitted by the filter 'acl_in' on device 'rtr-with-acl'. The `Flow` column shows the exact flow tested with the default values chosen by Batfish. The `Line_Number` and `Line_Content` columns show which lines led to that action, and the `Trace` column shows how the packet got to the line. In this case, the trace is not deep, but for filters with nested objects at multiple levels it can be, and the trace helps further understand the result. "
   ]
  },
  {
   "cell_type": "markdown",
   "metadata": {},
   "source": [
    "## Example 2: Test that HTTP flows cannot go from one zone to another\n",
    "\n",
    "Now suppose we want to test that our `firewall` device blocks HTTP flows that cross the boundary from one zone to another. This behavior can be checked  check this behavior using `testfilters` using queries like the one below. This query is testing what the output filter on `GigabitEthernet0/0/0` (which is in the destination zone) treats a packet with specified header fields when it arrives at the firewall on GigabitEthernet0/0/2 (which is in the source zone)."
   ]
  },
  {
   "cell_type": "code",
   "execution_count": 3,
   "metadata": {},
   "outputs": [
    {
     "data": {
      "text/html": [
       "<style  type=\"text/css\" >\n",
       "    #T_2db1830c_b8b7_11e8_ae11_c4b301cae04drow0_col0 {\n",
       "            text-align:  left;\n",
       "            vertical-align:  top;\n",
       "        }    #T_2db1830c_b8b7_11e8_ae11_c4b301cae04drow0_col1 {\n",
       "            text-align:  left;\n",
       "            vertical-align:  top;\n",
       "        }    #T_2db1830c_b8b7_11e8_ae11_c4b301cae04drow0_col2 {\n",
       "            text-align:  left;\n",
       "            vertical-align:  top;\n",
       "        }    #T_2db1830c_b8b7_11e8_ae11_c4b301cae04drow0_col3 {\n",
       "            text-align:  left;\n",
       "            vertical-align:  top;\n",
       "        }    #T_2db1830c_b8b7_11e8_ae11_c4b301cae04drow0_col4 {\n",
       "            text-align:  left;\n",
       "            vertical-align:  top;\n",
       "        }    #T_2db1830c_b8b7_11e8_ae11_c4b301cae04drow0_col5 {\n",
       "            text-align:  left;\n",
       "            vertical-align:  top;\n",
       "        }    #T_2db1830c_b8b7_11e8_ae11_c4b301cae04drow0_col6 {\n",
       "            text-align:  left;\n",
       "            vertical-align:  top;\n",
       "        }</style>  \n",
       "<table id=\"T_2db1830c_b8b7_11e8_ae11_c4b301cae04d\" > \n",
       "<thead>    <tr> \n",
       "        <th class=\"blank level0\" ></th> \n",
       "        <th class=\"col_heading level0 col0\" >Node</th> \n",
       "        <th class=\"col_heading level0 col1\" >Filter_Name</th> \n",
       "        <th class=\"col_heading level0 col2\" >Flow</th> \n",
       "        <th class=\"col_heading level0 col3\" >Action</th> \n",
       "        <th class=\"col_heading level0 col4\" >Line_Number</th> \n",
       "        <th class=\"col_heading level0 col5\" >Line_Content</th> \n",
       "        <th class=\"col_heading level0 col6\" >Trace</th> \n",
       "    </tr></thead> \n",
       "<tbody>    <tr> \n",
       "        <th id=\"T_2db1830c_b8b7_11e8_ae11_c4b301cae04dlevel0_row0\" class=\"row_heading level0 row0\" >0</th> \n",
       "        <td id=\"T_2db1830c_b8b7_11e8_ae11_c4b301cae04drow0_col0\" class=\"data row0 col0\" >firewall</td> \n",
       "        <td id=\"T_2db1830c_b8b7_11e8_ae11_c4b301cae04drow0_col1\" class=\"data row0 col1\" >~ZONE_OUTGOING_ACL~zone-admin~</td> \n",
       "        <td id=\"T_2db1830c_b8b7_11e8_ae11_c4b301cae04drow0_col2\" class=\"data row0 col2\" >firewallingressInterface: GigabitEthernet0/0/2vrf: None->[10.114.64.1:49152->10.114.60.10:80 proto: TCP dscp:0 ecn:0 fragOff:0 length:0 state:NEW flags: n/a</td> \n",
       "        <td id=\"T_2db1830c_b8b7_11e8_ae11_c4b301cae04drow0_col3\" class=\"data row0 col3\" >DENY</td> \n",
       "        <td id=\"T_2db1830c_b8b7_11e8_ae11_c4b301cae04drow0_col4\" class=\"data row0 col4\" >None</td> \n",
       "        <td id=\"T_2db1830c_b8b7_11e8_ae11_c4b301cae04drow0_col5\" class=\"data row0 col5\" >no-match</td> \n",
       "        <td id=\"T_2db1830c_b8b7_11e8_ae11_c4b301cae04drow0_col6\" class=\"data row0 col6\" >Flow did not match ACL named '~ZONE_OUTGOING_ACL~zone-admin~'</td> \n",
       "    </tr></tbody> \n",
       "</table> "
      ],
      "text/plain": [
       "<pandas.io.formats.style.Styler at 0x10caf47b8>"
      ]
     },
     "metadata": {},
     "output_type": "display_data"
    }
   ],
   "source": [
    "# Check if a host can reach the DNS server\n",
    "answer = bfq.testfilters(srcIp=\"10.114.64.1\",\n",
    "                         dst=\"10.114.60.10\",\n",
    "                         dstProtocol=\"http\",\n",
    "                         ingressInterface=\"GigabitEthernet0/0/2\",\n",
    "                         nodes=\"firewall\",\n",
    "                         filters=\"OUTPUTFILTERON:GigabitEthernet0/0/0\").answer().frame()\n",
    "display_html(answer)"
   ]
  },
  {
   "cell_type": "markdown",
   "metadata": {},
   "source": [
    "As we can see the HTTP flow is indeed denied, and the columns in the table show the reason for that denial."
   ]
  },
  {
   "cell_type": "markdown",
   "metadata": {},
   "source": [
    "## Verifying how a (very large) space of flows is treated\n",
    "\n",
    "While `testfilters` reasons about individual flows, the `reachfilter` question of Batfish provide comprehensive guarantees by reasoning about (potentially very large) space of flows. The space of flows is specified using source and destination prefixes (where the default prefix 0.0.0.0/0 denotes all 4,294,967,296 possibilities), a list of protocols, a range of ports, and so on. Given this space and a match condition, which can be `permit`, `deny` or `matchLine <linenum>`, `reachfilters` returns any flow within this space that match the condition. If no flow is returned, we can be assured that no flow in the entire space satisfies the condition. "
   ]
  },
  {
   "cell_type": "markdown",
   "metadata": {},
   "source": [
    "### Example 1: Verify that *all* hosts in a subnet can reach the DNS server\n",
    "\n",
    "Assuming that our goal is same as that for the first example above for `testfilters` -- check that a subnet can reach the DNS server. While we used a representative source IP address in the query above, `reachfilter` lets us analyze the entire space. \n",
    "\n",
    "The query below is asking if there is *any* flow from `10.10.10.0/24` to `218.8.104.58` that is *denied* by the filter `acl_in`. Any answer to this query denotes a flow in the space that violates the desired guarantee. An empty result denotes the guarantee that no such flow exists. "
   ]
  },
  {
   "cell_type": "code",
   "execution_count": 4,
   "metadata": {},
   "outputs": [
    {
     "data": {
      "text/html": [
       "<div>\n",
       "<style scoped>\n",
       "    .dataframe tbody tr th:only-of-type {\n",
       "        vertical-align: middle;\n",
       "    }\n",
       "\n",
       "    .dataframe tbody tr th {\n",
       "        vertical-align: top;\n",
       "    }\n",
       "\n",
       "    .dataframe thead th {\n",
       "        text-align: right;\n",
       "    }\n",
       "</style>\n",
       "<table border=\"1\" class=\"dataframe\">\n",
       "  <thead>\n",
       "    <tr style=\"text-align: right;\">\n",
       "      <th></th>\n",
       "      <th>Node</th>\n",
       "      <th>Filter_Name</th>\n",
       "      <th>Flow</th>\n",
       "      <th>Action</th>\n",
       "      <th>Line_Number</th>\n",
       "      <th>Line_Content</th>\n",
       "      <th>Trace</th>\n",
       "    </tr>\n",
       "  </thead>\n",
       "  <tbody>\n",
       "    <tr>\n",
       "      <th>0</th>\n",
       "      <td>rtr-with-acl</td>\n",
       "      <td>acl_in</td>\n",
       "      <td>rtr-with-acl-&gt;[10.10.10.42:0-&gt;218.8.104.58:53 proto: UDP dscp:0 ecn:0 fragOff:0 length:0 state:NEW flags: n/a</td>\n",
       "      <td>DENY</td>\n",
       "      <td>22</td>\n",
       "      <td>460 deny udp 10.10.10.42/32 218.8.104.58/32 eq domain</td>\n",
       "      <td>Flow denied by 'extended ipv4 access-list' named 'acl_in', index 22: 460 deny udp 10.10.10.42/32 218.8.104.58/32 eq domain</td>\n",
       "    </tr>\n",
       "  </tbody>\n",
       "</table>\n",
       "</div>"
      ],
      "text/plain": [
       "           Node Filter_Name  \\\n",
       "0  rtr-with-acl      acl_in   \n",
       "\n",
       "                                                                                                            Flow  \\\n",
       "0  rtr-with-acl->[10.10.10.42:0->218.8.104.58:53 proto: UDP dscp:0 ecn:0 fragOff:0 length:0 state:NEW flags: n/a   \n",
       "\n",
       "  Action  Line_Number                                           Line_Content  \\\n",
       "0   DENY           22  460 deny udp 10.10.10.42/32 218.8.104.58/32 eq domain   \n",
       "\n",
       "                                                                                                                        Trace  \n",
       "0  Flow denied by 'extended ipv4 access-list' named 'acl_in', index 22: 460 deny udp 10.10.10.42/32 218.8.104.58/32 eq domain  "
      ]
     },
     "execution_count": 4,
     "metadata": {},
     "output_type": "execute_result"
    }
   ],
   "source": [
    "# Check if the subnet can reach the DNS server\n",
    "bfq.reachfilter(src=\"10.10.10.0/24\",\n",
    "                dst=\"218.8.104.58\",\n",
    "                dstPorts=[53],\n",
    "                ipProtocols=[\"udp\"],\n",
    "                query=\"deny\",\n",
    "                filters=\"acl_in\").answer().frame()"
   ]
  },
  {
   "cell_type": "markdown",
   "metadata": {},
   "source": [
    "As we can see, we did get a flow that matches the search condition and thus violates our desired guarantee. The columns carry the same information as those for `testfilters` and provide insight into the flow that was found and why it was returned. In this case, we see that an earlier line in the ACL was denying a specific address in the source prefix. Such needles in the haystack are impossible to find with tools like pen testing. "
   ]
  },
  {
   "cell_type": "markdown",
   "metadata": {},
   "source": [
    "### Example 2: Verify that no non-NFS flow can go from one zone to another\n",
    "\n",
    "In the second example for `testfilters` we checked if `firewall` allowed HTTP flows from one zone to another, and we tested that using an example flow. Now, suppose that we wanted a stricter condition---that only NFS flows are allowed from one zone to another. With `reachfilter` we can verify this condition by searching for violations in the large space of non-NFS flows, as below."
   ]
  },
  {
   "cell_type": "code",
   "execution_count": 5,
   "metadata": {},
   "outputs": [
    {
     "data": {
      "text/html": [
       "<style  type=\"text/css\" >\n",
       "</style>  \n",
       "<table id=\"T_2ef3c806_b8b7_11e8_b66f_c4b301cae04d\" > \n",
       "<thead>    <tr> \n",
       "        <th class=\"blank level0\" ></th> \n",
       "        <th class=\"col_heading level0 col0\" >Node</th> \n",
       "        <th class=\"col_heading level0 col1\" >Filter_Name</th> \n",
       "        <th class=\"col_heading level0 col2\" >Flow</th> \n",
       "        <th class=\"col_heading level0 col3\" >Action</th> \n",
       "        <th class=\"col_heading level0 col4\" >Line_Number</th> \n",
       "        <th class=\"col_heading level0 col5\" >Line_Content</th> \n",
       "        <th class=\"col_heading level0 col6\" >Trace</th> \n",
       "    </tr></thead> \n",
       "<tbody></tbody> \n",
       "</table> "
      ],
      "text/plain": [
       "<pandas.io.formats.style.Styler at 0x10cb00c50>"
      ]
     },
     "metadata": {},
     "output_type": "display_data"
    }
   ],
   "source": [
    "# Check if any non-NFS (TCP) flow can go from one zone to another on\n",
    "answer = bfq.reachfilter(src=\"10.114.64.0/24\",\n",
    "                         dst=\"10.114.60.0/24\",\n",
    "                         ipProtocols=[\"tcp\"],\n",
    "                         dstPorts=[\"0-2048\", \"2050-65356\"],  # exclude NFS port, 2049\n",
    "                         start=\"GigabitEthernet0/0/2\",\n",
    "                         nodes=\"firewall\",\n",
    "                         filters=\"OUTPUTFILTERON:GigabitEthernet0/0/0\",\n",
    "                         query=\"permit\").answer().frame()\n",
    "display_html(answer)"
   ]
  },
  {
   "cell_type": "markdown",
   "metadata": {},
   "source": [
    "Since we got back an empty answer, we can be certain that no non-NFS flow can go from one zone to another. Such strong guarantees are impossible with any other tool today."
   ]
  },
  {
   "cell_type": "markdown",
   "metadata": {},
   "source": [
    "## Analyzing reachability of filter lines\n",
    "\n",
    "When debugging or editing filters, it can be useful to confirm that every line is reachable---that is, each line can  match some packets that do not match earlier lines. Unreachable filter lines are often symptomatic of bugs and past edits that did not achieve policy intent. Even when they do not represent bugs, they represent opportunities to reduce the length of the filter. \n",
    "\n",
    "The `filterLineReachability` question identifies unreachable filter lines. Given no parameters, it will check every filter in the network, but its scope can be narrowed  using `filters` and `nodes` parameters (see [documentation](https://pybatfish.readthedocs.io/en/latest/questions.html#pybatfish.question.bfq.aclReachability))."
   ]
  },
  {
   "cell_type": "code",
   "execution_count": 6,
   "metadata": {
    "scrolled": false
   },
   "outputs": [
    {
     "data": {
      "text/html": [
       "<style  type=\"text/css\" >\n",
       "    #T_332d65ee_b8b7_11e8_ae56_c4b301cae04drow0_col0 {\n",
       "            text-align:  left;\n",
       "            vertical-align:  top;\n",
       "        }    #T_332d65ee_b8b7_11e8_ae56_c4b301cae04drow0_col1 {\n",
       "            text-align:  left;\n",
       "            vertical-align:  top;\n",
       "        }    #T_332d65ee_b8b7_11e8_ae56_c4b301cae04drow0_col2 {\n",
       "            text-align:  left;\n",
       "            vertical-align:  top;\n",
       "        }    #T_332d65ee_b8b7_11e8_ae56_c4b301cae04drow0_col3 {\n",
       "            text-align:  left;\n",
       "            vertical-align:  top;\n",
       "        }    #T_332d65ee_b8b7_11e8_ae56_c4b301cae04drow0_col4 {\n",
       "            text-align:  left;\n",
       "            vertical-align:  top;\n",
       "        }    #T_332d65ee_b8b7_11e8_ae56_c4b301cae04drow0_col5 {\n",
       "            text-align:  left;\n",
       "            vertical-align:  top;\n",
       "        }    #T_332d65ee_b8b7_11e8_ae56_c4b301cae04drow0_col6 {\n",
       "            text-align:  left;\n",
       "            vertical-align:  top;\n",
       "        }    #T_332d65ee_b8b7_11e8_ae56_c4b301cae04drow0_col7 {\n",
       "            text-align:  left;\n",
       "            vertical-align:  top;\n",
       "        }    #T_332d65ee_b8b7_11e8_ae56_c4b301cae04drow1_col0 {\n",
       "            text-align:  left;\n",
       "            vertical-align:  top;\n",
       "        }    #T_332d65ee_b8b7_11e8_ae56_c4b301cae04drow1_col1 {\n",
       "            text-align:  left;\n",
       "            vertical-align:  top;\n",
       "        }    #T_332d65ee_b8b7_11e8_ae56_c4b301cae04drow1_col2 {\n",
       "            text-align:  left;\n",
       "            vertical-align:  top;\n",
       "        }    #T_332d65ee_b8b7_11e8_ae56_c4b301cae04drow1_col3 {\n",
       "            text-align:  left;\n",
       "            vertical-align:  top;\n",
       "        }    #T_332d65ee_b8b7_11e8_ae56_c4b301cae04drow1_col4 {\n",
       "            text-align:  left;\n",
       "            vertical-align:  top;\n",
       "        }    #T_332d65ee_b8b7_11e8_ae56_c4b301cae04drow1_col5 {\n",
       "            text-align:  left;\n",
       "            vertical-align:  top;\n",
       "        }    #T_332d65ee_b8b7_11e8_ae56_c4b301cae04drow1_col6 {\n",
       "            text-align:  left;\n",
       "            vertical-align:  top;\n",
       "        }    #T_332d65ee_b8b7_11e8_ae56_c4b301cae04drow1_col7 {\n",
       "            text-align:  left;\n",
       "            vertical-align:  top;\n",
       "        }</style>  \n",
       "<table id=\"T_332d65ee_b8b7_11e8_ae56_c4b301cae04d\" > \n",
       "<thead>    <tr> \n",
       "        <th class=\"blank level0\" ></th> \n",
       "        <th class=\"col_heading level0 col0\" >ACL_Sources</th> \n",
       "        <th class=\"col_heading level0 col1\" >Lines</th> \n",
       "        <th class=\"col_heading level0 col2\" >Blocked_Line_Num</th> \n",
       "        <th class=\"col_heading level0 col3\" >Blocked_Line_Action</th> \n",
       "        <th class=\"col_heading level0 col4\" >Blocking_Line_Nums</th> \n",
       "        <th class=\"col_heading level0 col5\" >Different_Action</th> \n",
       "        <th class=\"col_heading level0 col6\" >Reason</th> \n",
       "        <th class=\"col_heading level0 col7\" >Message</th> \n",
       "    </tr></thead> \n",
       "<tbody>    <tr> \n",
       "        <th id=\"T_332d65ee_b8b7_11e8_ae56_c4b301cae04dlevel0_row0\" class=\"row_heading level0 row0\" >0</th> \n",
       "        <td id=\"T_332d65ee_b8b7_11e8_ae56_c4b301cae04drow0_col0\" class=\"data row0 col0\" >['rtr-with-acl: acl_in']</td> \n",
       "        <td id=\"T_332d65ee_b8b7_11e8_ae56_c4b301cae04drow0_col1\" class=\"data row0 col1\" >['30 deny icmp any any redirect', '50 permit udp 117.186.185.143/24 range 49152 65535 117.186.185.143/24 eq 3784', '60 permit udp 117.186.185.143/24 range 49152 65535 117.186.185.143/24 eq 3785', '80 permit tcp 11.36.216.170/32 11.36.216.169/32 eq bgp', '100 permit tcp 11.36.216.176/32 11.36.216.179/32 eq bgp', '120 permit tcp 204.150.33.175/32 204.150.33.83/32 eq bgp', '140 permit tcp 205.248.59.64/32 205.248.59.67/32 eq bgp', '160 permit tcp 205.248.58.190/32 205.248.58.188/32 eq bgp', '180 permit tcp 205.248.57.174/32 205.248.57.173/32 eq bgp', '200 permit tcp 11.36.202.137/32 11.36.202.139/32 eq bgp', '220 permit tcp 11.36.202.142/32 11.36.202.141/32 eq bgp', '240 permit tcp 2.73.168.211/32 2.73.168.208/32 eq bgp', '260 permit tcp 212.58.171.208/32 212.58.171.208/32 eq bgp', '280 permit tcp 112.104.108.152/32 112.104.108.154/32 eq bgp', '300 permit tcp 218.8.104.14/32 218.8.104.15/32 eq bgp', '320 permit tcp 218.8.104.0/32 218.8.104.1/32 eq bgp', '340 permit tcp 218.8.104.62/32 218.8.104.63/32 eq bgp', '360 permit tcp 218.8.104.59/32 218.8.104.58/32 eq bgp', '380 permit icmp 218.8.104.14/32 218.8.104.15/32 echo-reply', '400 permit icmp 218.8.104.0/32 218.8.104.1/32 echo-reply', '420 permit icmp 218.8.104.62/32 218.8.104.63/32 echo-reply', '440 permit icmp 218.8.104.59/32 218.8.104.58/32 echo-reply', '460 deny udp 10.10.10.42/32 218.8.104.58/32 eq domain', '480 deny ip 118.143.170.93/8 any', '500 deny ip 54.203.159.13/8 any', '520 deny ip 163.157.10.182/16 any', '540 deny ip 166.146.58.184/12 any', '560 deny ip 198.170.50.16/24 any', '580 deny ip 198.120.182.86/16 any', '600 deny ip 224.0.0.0/3 any', '620 deny ip 11.36.217.214/19 any', '640 deny ip 11.125.83.215/19 any', '660 permit udp 10.10.10.0/24 218.8.104.58/32 eq domain', '670 permit ip 166.146.58.184 any', '680 deny ip 218.66.57.32/24 any', '700 deny ip 218.66.51.43/24 any', '720 deny ip 218.67.213.109/24 any', '740 deny ip 218.67.47.213/23 any', '760 deny ip 218.67.99.80/22 any', '780 deny ip 8.89.123.39/22 any', '790 deny ip 54.203.159.1/32 any', '800 deny ip 218.8.104.17/25 any', '820 deny ip 218.8.106.211/25 any', '840 deny ip 218.8.107.113/25 any', '860 deny ip 144.49.45.40/32 any', '880 deny ip 163.255.18.63/32 any', '900 deny ip 202.45.130.141/32 any', '920 deny ip 212.26.132.18/32 any', '940 deny ip 218.111.16.132/32 any', '960 deny ip 218.246.165.90/32 any', '980 deny ip 29.228.179.210/32 any', '1000 deny ip 194.181.135.214/32 any', '1020 deny ip 10.64.90.249/32 any', '1040 deny ip 207.70.46.217/32 any', '1060 deny ip 219.185.241.117/32 any', '1080 deny ip 2.80.3.219/32 any', '1100 deny ip 27.212.145.150/32 any', '1120 deny ip 131.159.53.215/32 any', '1140 deny ip 214.220.213.107/32 any', '1160 deny ip 196.64.84.239/32 any', '1180 deny ip 28.69.250.136/32 any', '1200 deny ip 200.45.87.238/32 any', '1220 deny ip any 11.125.89.183/30', '1240 deny ip any 11.125.89.232/30', '1260 deny ip any 11.125.89.222/30', '1280 deny ip any 11.125.89.34/30', '1300 permit icmp any any echo-reply', '1340 permit icmp any any ttl-exceeded', '1360 deny ip any 11.36.199.218/30', '1380 deny ip any 11.36.199.39/30', '1400 deny ip any 11.36.199.2/30', '1420 deny ip any 11.36.199.52/30', '1440 deny ip any 11.36.199.22/30', '1460 deny ip any 11.125.82.216/30', '1480 deny ip any 11.125.82.220/32', '1500 deny ip any 11.125.82.36/30', '1520 deny ip any 11.125.82.15/30', '1540 deny ip any 11.125.80.136/30', '1560 deny ip any 11.125.80.141/32', '1580 deny ip any 11.125.87.48/30', '1600 deny ip any 11.125.87.171/30', '1620 deny ip any 11.125.87.173/32', '1640 deny ip any 11.125.90.59/30', '1660 deny ip any 11.125.90.240/30', '1680 deny ip any 11.125.74.224/30', '1700 deny ip any 11.125.91.132/30', '1720 deny ip any 11.125.89.133/30', '1740 deny ip any 11.125.89.12/30', '1760 deny ip any 11.125.92.109/30', '1780 deny ip any 11.125.92.104/32', '1800 deny ip any 11.125.92.29/30', '1820 deny ip any 11.125.92.27/32', '1840 deny ip any 11.125.92.163/30', '1860 deny ip any 11.125.92.164/32', '1880 deny ip any 11.125.92.206/30', '1900 deny ip any 11.125.92.202/32', '1920 deny ip any 11.125.93.195/29', '1940 deny ip any 11.125.95.205/30', '1960 deny ip any 11.125.95.224/30', '1980 deny ip any 11.125.95.183/30', '2000 deny ip any 11.125.95.159/30', '2020 deny tcp any any', '2040 deny icmp any any', '2060 deny udp any any', '2080 deny ip any any']</td> \n",
       "        <td id=\"T_332d65ee_b8b7_11e8_ae56_c4b301cae04drow0_col2\" class=\"data row0 col2\" >40</td> \n",
       "        <td id=\"T_332d65ee_b8b7_11e8_ae56_c4b301cae04drow0_col3\" class=\"data row0 col3\" >DENY</td> \n",
       "        <td id=\"T_332d65ee_b8b7_11e8_ae56_c4b301cae04drow0_col4\" class=\"data row0 col4\" >['24']</td> \n",
       "        <td id=\"T_332d65ee_b8b7_11e8_ae56_c4b301cae04drow0_col5\" class=\"data row0 col5\" >False</td> \n",
       "        <td id=\"T_332d65ee_b8b7_11e8_ae56_c4b301cae04drow0_col6\" class=\"data row0 col6\" >SINGLE_BLOCKING_LINE</td> \n",
       "        <td id=\"T_332d65ee_b8b7_11e8_ae56_c4b301cae04drow0_col7\" class=\"data row0 col7\" >ACLs { rtr-with-acl: acl_in } contain an unreachable line:<br>&nbsp;&nbsp;[index 40] 790 deny ip 54.203.159.1/32 any<br>Blocking line(s):<br>&nbsp;&nbsp;[index 24] 500 deny ip 54.203.159.13/8 any</td> \n",
       "    </tr>    <tr> \n",
       "        <th id=\"T_332d65ee_b8b7_11e8_ae56_c4b301cae04dlevel0_row1\" class=\"row_heading level0 row1\" >1</th> \n",
       "        <td id=\"T_332d65ee_b8b7_11e8_ae56_c4b301cae04drow1_col0\" class=\"data row1 col0\" >['rtr-with-acl: acl_in']</td> \n",
       "        <td id=\"T_332d65ee_b8b7_11e8_ae56_c4b301cae04drow1_col1\" class=\"data row1 col1\" >['30 deny icmp any any redirect', '50 permit udp 117.186.185.143/24 range 49152 65535 117.186.185.143/24 eq 3784', '60 permit udp 117.186.185.143/24 range 49152 65535 117.186.185.143/24 eq 3785', '80 permit tcp 11.36.216.170/32 11.36.216.169/32 eq bgp', '100 permit tcp 11.36.216.176/32 11.36.216.179/32 eq bgp', '120 permit tcp 204.150.33.175/32 204.150.33.83/32 eq bgp', '140 permit tcp 205.248.59.64/32 205.248.59.67/32 eq bgp', '160 permit tcp 205.248.58.190/32 205.248.58.188/32 eq bgp', '180 permit tcp 205.248.57.174/32 205.248.57.173/32 eq bgp', '200 permit tcp 11.36.202.137/32 11.36.202.139/32 eq bgp', '220 permit tcp 11.36.202.142/32 11.36.202.141/32 eq bgp', '240 permit tcp 2.73.168.211/32 2.73.168.208/32 eq bgp', '260 permit tcp 212.58.171.208/32 212.58.171.208/32 eq bgp', '280 permit tcp 112.104.108.152/32 112.104.108.154/32 eq bgp', '300 permit tcp 218.8.104.14/32 218.8.104.15/32 eq bgp', '320 permit tcp 218.8.104.0/32 218.8.104.1/32 eq bgp', '340 permit tcp 218.8.104.62/32 218.8.104.63/32 eq bgp', '360 permit tcp 218.8.104.59/32 218.8.104.58/32 eq bgp', '380 permit icmp 218.8.104.14/32 218.8.104.15/32 echo-reply', '400 permit icmp 218.8.104.0/32 218.8.104.1/32 echo-reply', '420 permit icmp 218.8.104.62/32 218.8.104.63/32 echo-reply', '440 permit icmp 218.8.104.59/32 218.8.104.58/32 echo-reply', '460 deny udp 10.10.10.42/32 218.8.104.58/32 eq domain', '480 deny ip 118.143.170.93/8 any', '500 deny ip 54.203.159.13/8 any', '520 deny ip 163.157.10.182/16 any', '540 deny ip 166.146.58.184/12 any', '560 deny ip 198.170.50.16/24 any', '580 deny ip 198.120.182.86/16 any', '600 deny ip 224.0.0.0/3 any', '620 deny ip 11.36.217.214/19 any', '640 deny ip 11.125.83.215/19 any', '660 permit udp 10.10.10.0/24 218.8.104.58/32 eq domain', '670 permit ip 166.146.58.184 any', '680 deny ip 218.66.57.32/24 any', '700 deny ip 218.66.51.43/24 any', '720 deny ip 218.67.213.109/24 any', '740 deny ip 218.67.47.213/23 any', '760 deny ip 218.67.99.80/22 any', '780 deny ip 8.89.123.39/22 any', '790 deny ip 54.203.159.1/32 any', '800 deny ip 218.8.104.17/25 any', '820 deny ip 218.8.106.211/25 any', '840 deny ip 218.8.107.113/25 any', '860 deny ip 144.49.45.40/32 any', '880 deny ip 163.255.18.63/32 any', '900 deny ip 202.45.130.141/32 any', '920 deny ip 212.26.132.18/32 any', '940 deny ip 218.111.16.132/32 any', '960 deny ip 218.246.165.90/32 any', '980 deny ip 29.228.179.210/32 any', '1000 deny ip 194.181.135.214/32 any', '1020 deny ip 10.64.90.249/32 any', '1040 deny ip 207.70.46.217/32 any', '1060 deny ip 219.185.241.117/32 any', '1080 deny ip 2.80.3.219/32 any', '1100 deny ip 27.212.145.150/32 any', '1120 deny ip 131.159.53.215/32 any', '1140 deny ip 214.220.213.107/32 any', '1160 deny ip 196.64.84.239/32 any', '1180 deny ip 28.69.250.136/32 any', '1200 deny ip 200.45.87.238/32 any', '1220 deny ip any 11.125.89.183/30', '1240 deny ip any 11.125.89.232/30', '1260 deny ip any 11.125.89.222/30', '1280 deny ip any 11.125.89.34/30', '1300 permit icmp any any echo-reply', '1340 permit icmp any any ttl-exceeded', '1360 deny ip any 11.36.199.218/30', '1380 deny ip any 11.36.199.39/30', '1400 deny ip any 11.36.199.2/30', '1420 deny ip any 11.36.199.52/30', '1440 deny ip any 11.36.199.22/30', '1460 deny ip any 11.125.82.216/30', '1480 deny ip any 11.125.82.220/32', '1500 deny ip any 11.125.82.36/30', '1520 deny ip any 11.125.82.15/30', '1540 deny ip any 11.125.80.136/30', '1560 deny ip any 11.125.80.141/32', '1580 deny ip any 11.125.87.48/30', '1600 deny ip any 11.125.87.171/30', '1620 deny ip any 11.125.87.173/32', '1640 deny ip any 11.125.90.59/30', '1660 deny ip any 11.125.90.240/30', '1680 deny ip any 11.125.74.224/30', '1700 deny ip any 11.125.91.132/30', '1720 deny ip any 11.125.89.133/30', '1740 deny ip any 11.125.89.12/30', '1760 deny ip any 11.125.92.109/30', '1780 deny ip any 11.125.92.104/32', '1800 deny ip any 11.125.92.29/30', '1820 deny ip any 11.125.92.27/32', '1840 deny ip any 11.125.92.163/30', '1860 deny ip any 11.125.92.164/32', '1880 deny ip any 11.125.92.206/30', '1900 deny ip any 11.125.92.202/32', '1920 deny ip any 11.125.93.195/29', '1940 deny ip any 11.125.95.205/30', '1960 deny ip any 11.125.95.224/30', '1980 deny ip any 11.125.95.183/30', '2000 deny ip any 11.125.95.159/30', '2020 deny tcp any any', '2040 deny icmp any any', '2060 deny udp any any', '2080 deny ip any any']</td> \n",
       "        <td id=\"T_332d65ee_b8b7_11e8_ae56_c4b301cae04drow1_col2\" class=\"data row1 col2\" >33</td> \n",
       "        <td id=\"T_332d65ee_b8b7_11e8_ae56_c4b301cae04drow1_col3\" class=\"data row1 col3\" >PERMIT</td> \n",
       "        <td id=\"T_332d65ee_b8b7_11e8_ae56_c4b301cae04drow1_col4\" class=\"data row1 col4\" >['26']</td> \n",
       "        <td id=\"T_332d65ee_b8b7_11e8_ae56_c4b301cae04drow1_col5\" class=\"data row1 col5\" >True</td> \n",
       "        <td id=\"T_332d65ee_b8b7_11e8_ae56_c4b301cae04drow1_col6\" class=\"data row1 col6\" >SINGLE_BLOCKING_LINE</td> \n",
       "        <td id=\"T_332d65ee_b8b7_11e8_ae56_c4b301cae04drow1_col7\" class=\"data row1 col7\" >ACLs { rtr-with-acl: acl_in } contain an unreachable line:<br>&nbsp;&nbsp;[index 33] 670 permit ip 166.146.58.184 any<br>Blocking line(s):<br>&nbsp;&nbsp;[index 26] 540 deny ip 166.146.58.184/12 any</td> \n",
       "    </tr></tbody> \n",
       "</table> "
      ],
      "text/plain": [
       "<pandas.io.formats.style.Styler at 0x10911c828>"
      ]
     },
     "metadata": {},
     "output_type": "display_data"
    }
   ],
   "source": [
    "# Find unreachable lines in filters of rtr-with-acl\n",
    "aclAns = bfq.aclReachability(nodes=\"rtr-with-acl\").answer().frame()\n",
    "display_html(aclAns)"
   ]
  },
  {
   "cell_type": "markdown",
   "metadata": {},
   "source": [
    "Each line in the answer above identifies an unreachable line in a filter. Let's take a closer look at the second one. It shows that the line `670 permit ip 166.146.58.184 any` is unreachable because it is blocked by the earlier line `540 deny ip 166.146.58.184/12 any`. In column `Different_Action` the result shows that the action of the blocking line is different from that of the unreachable line, which is often a more worrisome situation than when actions are the same. \n",
    "\n",
    "Not shown there, but in the general case, filter lines can be independently unreachable because no packet will ever match them, and they can be unreachable because of multiple preceding lines (not just one). The `filterLineReachability` question outputs such unreachable lines as wel."
   ]
  },
  {
   "cell_type": "markdown",
   "metadata": {},
   "source": [
    "## Summary\n",
    "\n",
    "In this notebook, we showed how you can use Batfish to \n",
    "1. Test how filters in the network treat a given flow\n",
    "2. Verify that a large space of flows is treated in a certain way\n",
    "3. Find lines in your filters that will never match any packet\n",
    "\n",
    "If you found these capabilities useful, you may also want to checkout [this notebook](Provably%20Safe%20ACL%20and%20Firewall%20Changes.ipynb) that builds on these concepts to enable a workflow for *provably* safe changes to your filter."
   ]
  },
  {
   "cell_type": "markdown",
   "metadata": {},
   "source": [
    "***\n",
    "### Get involved with the Batfish community\n",
    "\n",
    "To get involved and learn more, join our community on [Slack](https://join.slack.com/t/batfish-org/shared_invite/enQtMzA0Nzg2OTAzNzQ1LTUxOTJlY2YyNTVlNGQ3MTJkOTIwZTU2YjY3YzRjZWFiYzE4ODE5ODZiNjA4NGI5NTJhZmU2ZTllOTMwZDhjMzA) and [Github](https://github.com/batfish/batfish). "
   ]
  }
 ],
 "metadata": {
  "kernelspec": {
   "display_name": "Python 3",
   "language": "python",
   "name": "python3"
  },
  "language_info": {
   "codemirror_mode": {
    "name": "ipython",
    "version": 3
   },
   "file_extension": ".py",
   "mimetype": "text/x-python",
   "name": "python",
   "nbconvert_exporter": "python",
   "pygments_lexer": "ipython3",
   "version": "3.6.2"
  }
 },
 "nbformat": 4,
 "nbformat_minor": 2
}
