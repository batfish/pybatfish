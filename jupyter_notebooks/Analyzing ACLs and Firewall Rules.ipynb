{
 "cells": [
  {
   "cell_type": "markdown",
   "metadata": {},
   "source": [
    "# Analyzing ACLs and firewall rules with Batfish\n",
    "\n",
    "Network and security engineers are responsible for ensuring that the ACLs and firewall rules in their networks are permitting and denying traffic as intended. This task usually requires manual checking or loading rulesets onto a lab device in order to test its behavior on example packets of interest. These methods are not only time consuming but also error-prone. \n",
    "\n",
    "Batfish makes it easy to deeply analyze ACLs and firewall rules, which we generally call *filters.* It can show what a filter will do with a given packet, right down to the line of the filter that matches the packet; it can provide guarantees on how a filter treats a large space of packets; and it can sanity check a filter to ensure that every line in it matches at least some packets.\n",
    "\n",
    "In this notebook, we demonstrate these capabilities. In our [\"Provably Safe ACL and Firewall Changes\" notebook](Provably%20Safe%20ACL%20and%20Firewall%20Changes.ipynb), we show how Batfish can guarantee that filter changes are safe.\n",
    "\n",
    "![Analytics](https://ga-beacon.appspot.com/UA-100596389-3/open-source/pybatfish/jupyter_notebooks/analyzing-acls-and-firewall-rules?pixel&useReferer) "
   ]
  },
  {
   "cell_type": "markdown",
   "metadata": {},
   "source": [
    "## Initialization\n",
    "\n",
    "We use a network with two devices, a router with ACLs and a firewall, as an example in this notebook.  The device configurations can be seen [here](networks/example-filters/current/configs). "
   ]
  },
  {
   "cell_type": "code",
   "execution_count": 1,
   "metadata": {},
   "outputs": [
    {
     "data": {
      "text/plain": [
       "'current'"
      ]
     },
     "execution_count": 1,
     "metadata": {},
     "output_type": "execute_result"
    }
   ],
   "source": [
    "# Import packages and load questions\n",
    "%run startup.py\n",
    "\n",
    "# Initialize a network and snapshot\n",
    "NETWORK_NAME = \"network-example-filters\"\n",
    "SNAPSHOT_NAME = \"current\"\n",
    "\n",
    "SNAPSHOT_PATH = \"networks/example-filters/current\"\n",
    "\n",
    "bf_set_network(NETWORK_NAME)\n",
    "bf_init_snapshot(SNAPSHOT_PATH, name=SNAPSHOT_NAME, overwrite=True)"
   ]
  },
  {
   "cell_type": "markdown",
   "metadata": {},
   "source": [
    "## Testing how a flow is treated\n",
    "\n",
    "The `testfilters` question of Batfish shows what filters do with a particular flow and *why*. It takes as input the details of the flow and a set of filters to test. The answer shows how the flow is treated by each filter in the set.\n",
    "To specify the flow, you must provide the source IP address `srcIp` and the destination `dst` (hostname or IP address). Optionally, you can also specify the ingress interface (where the flow enters the device) and header fields such as IP protocols, ports, TCP flags, and ICMP codes ([see documentation for details](https://pybatfish.readthedocs.io/en/latest/questions.html#pybatfish.question.bfq.testfilters)). The question will fill in any unspecified fields with reasonable defaults.\n",
    "\n",
    "The set of filters to examine can be narrowed using various criteria, including regexes for node and filter names. Left unspecified, `testfilters` will give results for every filter in the network."
   ]
  },
  {
   "cell_type": "markdown",
   "metadata": {},
   "source": [
    "### Example 1: Test if hosts in a subnet can reach the DNS server\n",
    "\n",
    "Suppose we wanted to test if our ACL allows hosts in a subnet to reach our DNS server. This check is easily expressed. Assume that the subnet is `10.10.10.0/24` and the DNS server is at the IP address `218.8.104.58`, then the query will be as shown below, where we have picked `10.10.10.1` as a representative source IP for the subnet. "
   ]
  },
  {
   "cell_type": "code",
   "execution_count": 2,
   "metadata": {},
   "outputs": [
    {
     "name": "stderr",
     "output_type": "stream",
     "text": [
      "WARNING: skipping validation for unknown argument type headerConstraint\n"
     ]
    },
    {
     "data": {
      "text/html": [
       "<div>\n",
       "<style scoped>\n",
       "    .dataframe tbody tr th:only-of-type {\n",
       "        vertical-align: middle;\n",
       "    }\n",
       "\n",
       "    .dataframe tbody tr th {\n",
       "        vertical-align: top;\n",
       "    }\n",
       "\n",
       "    .dataframe thead th {\n",
       "        text-align: right;\n",
       "    }\n",
       "</style>\n",
       "<table border=\"1\" class=\"dataframe\">\n",
       "  <thead>\n",
       "    <tr style=\"text-align: right;\">\n",
       "      <th></th>\n",
       "      <th>Node</th>\n",
       "      <th>Filter_Name</th>\n",
       "      <th>Flow</th>\n",
       "      <th>Action</th>\n",
       "      <th>Line_Number</th>\n",
       "      <th>Line_Content</th>\n",
       "      <th>Trace</th>\n",
       "    </tr>\n",
       "  </thead>\n",
       "  <tbody>\n",
       "    <tr>\n",
       "      <th>0</th>\n",
       "      <td>rtr-with-acl</td>\n",
       "      <td>acl_in</td>\n",
       "      <td>rtr-with-acl-&gt;[10.10.10.1:49152-&gt;218.8.104.58:53 proto: UDP dscp:0 ecn:0 fragOff:0 length:0 state:NEW flags: n/a</td>\n",
       "      <td>PERMIT</td>\n",
       "      <td>32</td>\n",
       "      <td>660 permit udp 10.10.10.0/24 218.8.104.58/32 eq domain</td>\n",
       "      <td>Flow permitted by 'extended ipv4 access-list' named 'acl_in', index 32: 660 permit udp 10.10.10.0/24 218.8.104.58/32 eq domain</td>\n",
       "    </tr>\n",
       "  </tbody>\n",
       "</table>\n",
       "</div>"
      ],
      "text/plain": [
       "           Node Filter_Name  \\\n",
       "0  rtr-with-acl      acl_in   \n",
       "\n",
       "                                                                                                               Flow  \\\n",
       "0  rtr-with-acl->[10.10.10.1:49152->218.8.104.58:53 proto: UDP dscp:0 ecn:0 fragOff:0 length:0 state:NEW flags: n/a   \n",
       "\n",
       "   Action  Line_Number  \\\n",
       "0  PERMIT           32   \n",
       "\n",
       "                                             Line_Content  \\\n",
       "0  660 permit udp 10.10.10.0/24 218.8.104.58/32 eq domain   \n",
       "\n",
       "                                                                                                                            Trace  \n",
       "0  Flow permitted by 'extended ipv4 access-list' named 'acl_in', index 32: 660 permit udp 10.10.10.0/24 218.8.104.58/32 eq domain  "
      ]
     },
     "execution_count": 2,
     "metadata": {},
     "output_type": "execute_result"
    }
   ],
   "source": [
    "# Check if a representative host can reach the DNS server\n",
    "dns_headers = HeaderConstraints(srcIps=\"10.10.10.1\", dstIps=\"218.8.104.58\", applications = [\"dns\"])\n",
    "bfq.testfilters(headers=dns_headers,\n",
    "               nodes=\"rtr-with-acl\",\n",
    "               filters=\"acl_in\").answer().frame()"
   ]
  },
  {
   "cell_type": "markdown",
   "metadata": {},
   "source": [
    "The result above shows that the flow we tested is indeed permitted by the filter 'acl_in' (in `Filter_Name` column) on device 'rtr-with-acl' (in `Node` column). The `Flow` column shows the exact flow tested, including the default values chosen by Batfish for unspecified parameters. The remaining columns show how the flow is treated by the filter. The `Action` column shows the final outcome, the `Line_Number` and `Line_Content` columns show which lines led to that action, and the `Trace` column shows how the packet got to the line. In this case, the trace is not deep, but it can be quite deep for filters that reference other structures such as policy maps and object groups."
   ]
  },
  {
   "cell_type": "markdown",
   "metadata": {},
   "source": [
    "## Example 2: Test that HTTP flows cannot go from one zone to another\n",
    "\n",
    "Now suppose we want to test that our `firewall` device blocks HTTP flows that cross the boundary from one zone to another. A query like the one below can help us do that. It is testing how the output filter on `GigabitEthernet0/0/0` (which is in the destination zone) treats a packet with the specified header fields when it enters the firewall through an interface in 'zone-z2'."
   ]
  },
  {
   "cell_type": "code",
   "execution_count": 3,
   "metadata": {},
   "outputs": [
    {
     "ename": "NameError",
     "evalue": "name 'http_flow' is not defined",
     "output_type": "error",
     "traceback": [
      "\u001b[0;31m---------------------------------------------------------------------------\u001b[0m",
      "\u001b[0;31mNameError\u001b[0m                                 Traceback (most recent call last)",
      "\u001b[0;32m<ipython-input-3-f3b896e928e7>\u001b[0m in \u001b[0;36m<module>\u001b[0;34m()\u001b[0m\n\u001b[1;32m      1\u001b[0m \u001b[0;31m# Test if a host can reach the DNS server\u001b[0m\u001b[0;34m\u001b[0m\u001b[0;34m\u001b[0m\u001b[0m\n\u001b[1;32m      2\u001b[0m \u001b[0mhttp_headers\u001b[0m \u001b[0;34m=\u001b[0m \u001b[0mHeaderConstraints\u001b[0m\u001b[0;34m(\u001b[0m\u001b[0msrcIps\u001b[0m\u001b[0;34m=\u001b[0m\u001b[0;34m\"10.114.64.1\"\u001b[0m\u001b[0;34m,\u001b[0m \u001b[0mdstIps\u001b[0m\u001b[0;34m=\u001b[0m\u001b[0;34m\"10.114.60.10\"\u001b[0m\u001b[0;34m,\u001b[0m \u001b[0mapplications\u001b[0m \u001b[0;34m=\u001b[0m \u001b[0;34m[\u001b[0m\u001b[0;34m\"http\"\u001b[0m\u001b[0;34m]\u001b[0m\u001b[0;34m)\u001b[0m\u001b[0;34m\u001b[0m\u001b[0m\n\u001b[0;32m----> 3\u001b[0;31m answer = bfq.testfilters(headers=http_flow,\n\u001b[0m\u001b[1;32m      4\u001b[0m                          \u001b[0mstartLocation\u001b[0m\u001b[0;34m=\u001b[0m\u001b[0;34m\"enter([zone(zone-z2)])\"\u001b[0m\u001b[0;34m,\u001b[0m\u001b[0;34m\u001b[0m\u001b[0m\n\u001b[1;32m      5\u001b[0m                          \u001b[0mnodes\u001b[0m\u001b[0;34m=\u001b[0m\u001b[0;34m\"firewall\"\u001b[0m\u001b[0;34m,\u001b[0m\u001b[0;34m\u001b[0m\u001b[0m\n",
      "\u001b[0;31mNameError\u001b[0m: name 'http_flow' is not defined"
     ]
    }
   ],
   "source": [
    "# Test if a host can reach the DNS server\n",
    "http_headers = HeaderConstraints(srcIps=\"10.114.64.1\", dstIps=\"10.114.60.10\", applications = [\"http\"])\n",
    "answer = bfq.testfilters(headers=http_flow,\n",
    "                         startLocation=\"enter([zone(zone-z2)])\",\n",
    "                         nodes=\"firewall\",\n",
    "                         filters=\"OUTPUTFILTERON:GigabitEthernet0/0/0\").answer().frame()\n",
    "display_html(answer)"
   ]
  },
  {
   "cell_type": "markdown",
   "metadata": {},
   "source": [
    "As we can see the HTTP flow is indeed denied, and the columns in the table show the reason for that denial."
   ]
  },
  {
   "cell_type": "markdown",
   "metadata": {},
   "source": [
    "## Verifying how a (very large) space of flows is treated\n",
    "\n",
    "While `testfilters` reasons about individual flows, the `reachfilter` question provides comprehensive guarantees by reasoning about (potentially very large) spaces of flows. The space of flows is specified using source and destination prefixes (where the default prefix 0.0.0.0/0 denotes all 4,294,967,296 possibilities), a list of protocols, a range of ports, and so on. Given a flow space and a match condition, which can be `permit`, `deny` or `matchLine <linenum>`, `reachfilters` returns flows within this space that match the condition. If no flow is returned, it is guaranteed that no flow in the entire space satisfies the condition. "
   ]
  },
  {
   "cell_type": "markdown",
   "metadata": {},
   "source": [
    "### Example 1: Verify that *all* hosts in a subnet can reach the DNS server\n",
    "\n",
    "Earlier we checked that a subnet could reach the DNS server using `testfilters` with a representative source IP address. Now, let's use `reachfilter` to ascertain that the entire subnet can reach the server.\n",
    "\n",
    "The query below is asking if there is *any* flow from `10.10.10.0/24` to `218.8.104.58` that is *denied* by the filter `acl_in`. Any answer to this query denotes a flow in the space that violates the desired guarantee. An empty result denotes the guarantee that no such flow exists. "
   ]
  },
  {
   "cell_type": "code",
   "execution_count": null,
   "metadata": {},
   "outputs": [],
   "source": [
    "# Check if the subnet can reach the DNS server\n",
    "bfq.reachfilter(src=\"10.10.10.0/24\",\n",
    "                dst=\"218.8.104.58\",\n",
    "                dstPorts=[53],\n",
    "                ipProtocols=[\"udp\"],\n",
    "                query=\"deny\",\n",
    "                filters=\"acl_in\").answer().frame()"
   ]
  },
  {
   "cell_type": "markdown",
   "metadata": {},
   "source": [
    "As we can see, we did get a flow that matches the search condition and thus violates our desired guarantee of the entire subnet being able to reach the DNS server. The columns carry the same information as those for `testfilters` and provide insight into the violation. In particular, we see that a flow with source IP `10.10.10.42` is denied by an earlier line in the ACL. Such needles in the haystack are impossible to find with tools like pen testing. "
   ]
  },
  {
   "cell_type": "markdown",
   "metadata": {},
   "source": [
    "### Example 2: Verify that no non-NFS flow can go from one zone to another\n",
    "\n",
    "In the second example for `testfilters` we used an example flow to test if `firewall` allowed HTTP flows from one zone to another. Now, suppose that we wanted a stricter condition—that only NFS flows are allowed from one zone to another. With `reachfilter` we can verify this condition by searching for violations in the large space of non-NFS flows, as below."
   ]
  },
  {
   "cell_type": "code",
   "execution_count": null,
   "metadata": {},
   "outputs": [],
   "source": [
    "# Check if any non-NFS (TCP) flow can go from one zone to another\n",
    "answer = bfq.reachfilter(src=\"10.114.64.0/24\",\n",
    "                         dst=\"10.114.60.0/24\",\n",
    "                         ipProtocols=[\"tcp\"],\n",
    "                         dstPorts=[\"0-2048\", \"2050-65356\"],  # exclude NFS port, 2049\n",
    "                         start=\"enter(zone(zone-z2))\",\n",
    "                         nodes=\"firewall\",\n",
    "                         filters=\"OUTPUTFILTERON:GigabitEthernet0/0/0\",\n",
    "                         query=\"permit\").answer().frame()\n",
    "display_html(answer)"
   ]
  },
  {
   "cell_type": "markdown",
   "metadata": {},
   "source": [
    "Since we got back an empty answer, we can be certain that no non-NFS flow can go from one zone to another. Such strong guarantees are impossible with any other tool today."
   ]
  },
  {
   "cell_type": "markdown",
   "metadata": {},
   "source": [
    "## Analyzing reachability of filter lines\n",
    "\n",
    "When debugging or editing filters, it can be useful to confirm that every line is reachable—that is, each line can match some packets that do not match earlier lines. Unreachable filter lines are often symptomatic of bugs and past edits that did not achieve policy intent. Even when they do not represent bugs, they represent opportunities to reduce the length of the filter. \n",
    "\n",
    "The `filterLineReachability` question identifies unreachable filter lines. Given no parameters, it will check every filter in the network, but its scope can be narrowed  using `filters` and `nodes` parameters (see [documentation](https://pybatfish.readthedocs.io/en/latest/questions.html#pybatfish.question.bfq.aclReachability))."
   ]
  },
  {
   "cell_type": "code",
   "execution_count": null,
   "metadata": {
    "scrolled": false
   },
   "outputs": [],
   "source": [
    "# Find unreachable lines in filters of rtr-with-acl\n",
    "aclAns = bfq.aclReachability(nodes=\"rtr-with-acl\").answer().frame()\n",
    "display_html(aclAns)"
   ]
  },
  {
   "cell_type": "markdown",
   "metadata": {},
   "source": [
    "Each line in the answer above identifies an unreachable line in a filter. Let's take a closer look at the second one. It shows that the line `670 permit ip 166.146.58.184 any` is unreachable because it is blocked by the earlier line `540 deny ip 166.146.58.184/12 any`. In column `Different_Action` the result shows that the action of the blocking line is different from that of the unreachable line, which is often a more worrisome situation than when actions are the same. \n",
    "\n",
    "Both results above show unreachable lines with a single blocking line, but lines can also be independently unreachable or be unreachable due to the collective impact of multiple line (each of which partially overlaps with the blocked line). The `filterLineReachability` question identifies such cases as well."
   ]
  },
  {
   "cell_type": "markdown",
   "metadata": {},
   "source": [
    "## Summary\n",
    "\n",
    "In this notebook, we showed how you can use Batfish to \n",
    "1. Test how filters in the network treat a given flow\n",
    "2. Verify that a large space of flows is treated in a certain way\n",
    "3. Find lines in your filters that will never match any packet\n",
    "\n",
    "If you found these capabilities useful, you may also want to check out our [\"Provably Safe ACL and Firewall Changes\" notebook](Provably%20Safe%20ACL%20and%20Firewall%20Changes.ipynb) that builds on these concepts to enable a workflow for *provably* safe changes to your filters."
   ]
  },
  {
   "cell_type": "markdown",
   "metadata": {},
   "source": [
    "***\n",
    "### Get involved with the Batfish community\n",
    "\n",
    "To get involved and learn more, join our community on [Slack](https://join.slack.com/t/batfish-org/shared_invite/enQtMzA0Nzg2OTAzNzQ1LTUxOTJlY2YyNTVlNGQ3MTJkOTIwZTU2YjY3YzRjZWFiYzE4ODE5ODZiNjA4NGI5NTJhZmU2ZTllOTMwZDhjMzA) and [Github](https://github.com/batfish/batfish). "
   ]
  }
 ],
 "metadata": {
  "kernelspec": {
   "display_name": "Python 2",
   "language": "python",
   "name": "python2"
  },
  "language_info": {
   "codemirror_mode": {
    "name": "ipython",
    "version": 3
   },
   "file_extension": ".py",
   "mimetype": "text/x-python",
   "name": "python",
   "nbconvert_exporter": "python",
   "pygments_lexer": "ipython3",
   "version": "3.6.4"
  }
 },
 "nbformat": 4,
 "nbformat_minor": 2
}
