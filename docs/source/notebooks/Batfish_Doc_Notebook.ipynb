{
 "cells": [
  {
   "cell_type": "markdown",
   "metadata": {},
   "source": [
    "## Interacting with the Batfish service\n"
   ]
  },
  {
   "cell_type": "markdown",
   "metadata": {},
   "source": [
    "### Python Imports"
   ]
  },
  {
   "cell_type": "markdown",
   "metadata": {},
   "source": [
    "In your Python program or in the Python shell you will need to import Pybatfish modules. The common imports are shown below. Depending upon your program you may need to add to this list."
   ]
  },
  {
   "cell_type": "code",
   "execution_count": 1,
   "metadata": {},
   "outputs": [],
   "source": [
    ">>> import pandas as pd\n",
    ">>> from pybatfish.client.commands import *\n",
    ">>> from pybatfish.datamodel import Edge, Interface\n",
    ">>> from pybatfish.datamodel.answer import TableAnswer\n",
    ">>> from pybatfish.datamodel.flow import (HeaderConstraints,\n",
    "...                                       PathConstraints)\n",
    ">>> from pybatfish.question import bfq, list_questions, load_questions"
   ]
  },
  {
   "cell_type": "code",
   "execution_count": 2,
   "metadata": {
    "nbsphinx": "hidden"
   },
   "outputs": [],
   "source": [
    "# Configure all pybatfish loggers to use WARN level\n",
    ">>> import logging\n",
    ">>> logging.getLogger('pybatfish').setLevel(logging.WARN)\n"
   ]
  },
  {
   "cell_type": "markdown",
   "metadata": {},
   "source": [
    "### Sessions"
   ]
  },
  {
   "cell_type": "markdown",
   "metadata": {},
   "source": [
    "The Batfish service may be running locally on your machine, or on a remote server. The first step in analyzing your configurations is setting up the connection to the Batfish service."
   ]
  },
  {
   "cell_type": "code",
   "execution_count": 3,
   "metadata": {},
   "outputs": [],
   "source": [
    ">>> bf_session.host = 'localhost'"
   ]
  },
  {
   "cell_type": "markdown",
   "metadata": {},
   "source": [
    "### Load Questions from the Batfish server"
   ]
  },
  {
   "cell_type": "code",
   "execution_count": 4,
   "metadata": {},
   "outputs": [],
   "source": [
    ">>> load_questions()"
   ]
  },
  {
   "cell_type": "markdown",
   "metadata": {},
   "source": [
    "### Uploading configurations to Batfish for analysis"
   ]
  },
  {
   "cell_type": "markdown",
   "metadata": {},
   "source": [
    "Batfish is designed to analyze a series of snapshots related to a network. This can be all of the devices in your network, or could be a subset of the devices; for example all of the devices in the your DC-ASH1 (data-center in Ashburn, VA).\n",
    "\n",
    "So the first step in the process is to specify which network you want to operate on. "
   ]
  },
  {
   "cell_type": "code",
   "execution_count": 5,
   "metadata": {},
   "outputs": [
    {
     "data": {
      "text/plain": [
       "'example'"
      ]
     },
     "execution_count": 5,
     "metadata": {},
     "output_type": "execute_result"
    }
   ],
   "source": [
    ">>> bf_set_network('example')"
   ]
  },
  {
   "cell_type": "markdown",
   "metadata": {},
   "source": [
    "#### Working with snapshots"
   ]
  },
  {
   "cell_type": "markdown",
   "metadata": {},
   "source": [
    "Now you are ready to create your first snapshot. Think of this as a collection of information about the devices in the network you are analyzing. "
   ]
  },
  {
   "cell_type": "markdown",
   "metadata": {},
   "source": [
    "#### Packaging snapshot data"
   ]
  },
  {
   "cell_type": "markdown",
   "metadata": {},
   "source": [
    "Batfish expects configuration files to be organized according to a folder structure outlined below. The names in bold are keywords and must be used in your network. Your snapshot need not have all of these components, e.g., if you are not analyzing hosts or iptables configurations, the corresponding folders are not needed.\n",
    "\n",
    "***\n",
    "snapshot _[top-level folder]_\n",
    "\n",
    "* **configs** _[folder with configurations for network devices]_\n",
    "   * router1.cfg\n",
    "   * router2.cfg\n",
    "   * ....\n",
    "\n",
    "* **hosts** _[folder with host configurations (e.g., pointers to their iptables files)]_\n",
    "   * host1.json _[see below for the expected format]_\n",
    "   * host2.json\n",
    "   * ....\n",
    "\n",
    "* **iptables** _[folder with iptables configuration files; host JSON files should point to these files]_\n",
    "   * host1.iptables\n",
    "   * host2.iptables\n",
    "   * ....\n",
    "\n",
    "* **batfish** _[miscellaneous information (not network device configuration) used by Batfish]_\n",
    "   * isp_config.json _[configuration file used to model Internet Service Providers (ISPs), see below for expected format]_ \n",
    "***\n",
    "\n",
    "See the [example snapshot](https://github.com/batfish/batfish/tree/master/networks) in the repository as an example. For convenience, this folder contains some extra files that are not used by Batfish.\n",
    "\n",
    "When you supply the snapshot as a zipped file, the top-level folder (called \"snapshot\" above) should be part of the zip archive. \n",
    "\n",
    "\n",
    "##### Format for F5 BIG-IP configuration files\n",
    "\n",
    "F5 BIG-IP configuration spans multiple individual files. Follow the instructions [here](https://github.com/batfish/batfish/wiki/Packaging-F5-Big-IP-configuration-for-analysis) to properly package them for analysis.\n",
    "\n",
    "\n",
    "##### Format for Cumulus configuration files\n",
    "\n",
    "Cumulus devices can be configured by editing individual files, such as `/etc/interfaces`, `/etc/frr.conf` or invoking the [Network Command-Line Utility (NCLU)](https://docs.cumulusnetworks.com/display/DOCS/Network+Command+Line+Utility+-+NCLU)\n",
    "\n",
    "Currently, Batfish ONLY supports processing of the NCLU configuration output. To retrieve the Cumulus configuration in the NCLU format, issue `net show config commands` and save the output to a file.\n",
    "\n",
    "If you are using the `BGP Unnumbered` feature on Cumulus devices, you will need to supply a [Layer1 topology file](#format-for-the-topology-file).\n",
    "\n",
    "\n",
    "##### Format for host JSON files\n",
    "\n",
    "The host JSON files contain basic information about the hosts attached to the network, including their names, a pointer to their iptables configuration file, and their interfaces. An example file is:\n",
    "\n",
    "```json\n",
    "{  \n",
    "  \"hostname\" : \"host1\",  \n",
    "  \"iptablesFile\" : \"iptables/host1.iptables\",  \n",
    "  \"hostInterfaces\" : {  \n",
    "    \"eth0\" : {  \n",
    "      \"name\": \"eth0\",  \n",
    "      \"prefix\" : \"2.128.0.101/24\"  \n",
    "    }  \n",
    "  }  \n",
    "}\n",
    "```\n",
    "\n",
    "`iptables/host1.iptables` is the path relative to the snapshot where this host's iptables configuration can be found. iptables configuration files should be in the format that is generated by `iptables-save`.\n",
    "\n",
    "\n",
    "##### Format for the topology file\n",
    "\n",
    "Normally Batfish infers layer-3 interface adjacencies based on IP address configuration on interfaces.\n",
    "\n",
    "For instance, if there are two interfaces in the network with IP assignments `192.168.1.1/24` and `192.128.1.2/24` respectively, Batfish will infer that these interfaces are adjacent.\n",
    "\n",
    "However, you may override this behavior by supplying a layer-1 topology file. In this case, layer-3 adjacencies are computed by combining the supplied layer-1 adjacencies with layer-2 and layer-3 configuration to get a more accurate model. This is especially useful if IP addresses are reused across the network on interfaces that are not actually adjacent in practice.\n",
    "\n",
    "Batfish can take the topology file in JSON format:\n",
    "\n",
    "   The expected JSON file has a list of edge records, where each edge record has node and interface names of the two ends. See [this file](https://github.com/batfish/batfish/tree/master/networks/example/example_layer1_topology.json) for an example. Your file name should be `layer1_topology.json` for it to be considered by Batfish.\n",
    "\n",
    "\n",
    "##### Format for ISP configuration json files\n",
    "\n",
    "Batfish can model routers representing ISPs (and Internet) for a given network. The modeling is based on a json configuration file (`isp_config.json`), which tells Batfish about the interfaces on border routers which peer with the ISPs. An example file is:\n",
    "\n",
    "```json\n",
    "{\n",
    "  \"borderInterfaces\": [\n",
    "    {\n",
    "      \"borderInterface\": {\n",
    "        \"hostname\": \"as2border1\",\n",
    "        \"interface\": \"GigabitEthernet3/0\"\n",
    "      }\n",
    "    }, {\n",
    "      \"borderInterface\": {\n",
    "        \"hostname\": \"as2border2\",\n",
    "        \"interface\": \"GigabitEthernet3/0\"\n",
    "      }\n",
    "    }\n",
    "  ],\n",
    "  \"filter\": {\n",
    "    \"onlyRemoteAsns\": [],\n",
    "    \"onlyRemoteIps\": []\n",
    "  }\n",
    "}\n",
    "```\n",
    "\n",
    "Here `borderInterfaces` contains the list of interfaces on border routers which are meant to peer with the ISPs. `onlyRemoteAsns` (list of ASNs) and `onlyRemoteIps` (list of IPs) provide a way to apply additional filter by restricting to ISPs having specific ASNs or IPs. \n",
    "\n",
    "_Batfish will not try to model any ISP routers in the absence of this configuration file._\n",
    "\n",
    "An example network with ISP modeling configuration is [here](https://github.com/batfish/batfish/tree/master/networks/example/live-with-isp).\n"
   ]
  },
  {
   "cell_type": "markdown",
   "metadata": {},
   "source": [
    "#### Initializing a new snapshot"
   ]
  },
  {
   "cell_type": "code",
   "execution_count": 6,
   "metadata": {},
   "outputs": [
    {
     "data": {
      "text/plain": [
       "'snapshot0'"
      ]
     },
     "execution_count": 6,
     "metadata": {},
     "output_type": "execute_result"
    }
   ],
   "source": [
    ">>> SNAPSHOT_DIR = '../../networks/example'\n",
    ">>> bf_init_snapshot(SNAPSHOT_DIR, name='snapshot0', overwrite=True)"
   ]
  },
  {
   "cell_type": "markdown",
   "metadata": {},
   "source": [
    "Batfish supports a wide variety of devices, device types and configuration constructs. But it may not fully support your configuration files. To check on the status of the snapshot you just initialized, you can use the `bfq.initIssues` query."
   ]
  },
  {
   "cell_type": "code",
   "execution_count": 7,
   "metadata": {},
   "outputs": [
    {
     "data": {
      "text/html": [
       "<div>\n",
       "<style scoped>\n",
       "    .dataframe tbody tr th:only-of-type {\n",
       "        vertical-align: middle;\n",
       "    }\n",
       "\n",
       "    .dataframe tbody tr th {\n",
       "        vertical-align: top;\n",
       "    }\n",
       "\n",
       "    .dataframe thead th {\n",
       "        text-align: right;\n",
       "    }\n",
       "</style>\n",
       "<table border=\"1\" class=\"dataframe\">\n",
       "  <thead>\n",
       "    <tr style=\"text-align: right;\">\n",
       "      <th></th>\n",
       "      <th>Nodes</th>\n",
       "      <th>Source_Lines</th>\n",
       "      <th>Type</th>\n",
       "      <th>Details</th>\n",
       "      <th>Line_Text</th>\n",
       "      <th>Parser_Context</th>\n",
       "    </tr>\n",
       "  </thead>\n",
       "  <tbody>\n",
       "    <tr>\n",
       "      <th>0</th>\n",
       "      <td>['as1border1']</td>\n",
       "      <td>None</td>\n",
       "      <td>Convert warning (redflag)</td>\n",
       "      <td>Could not determine update source for BGP neig...</td>\n",
       "      <td>None</td>\n",
       "      <td>None</td>\n",
       "    </tr>\n",
       "    <tr>\n",
       "      <th>1</th>\n",
       "      <td>['as1border1']</td>\n",
       "      <td>None</td>\n",
       "      <td>Convert warning (redflag)</td>\n",
       "      <td>Could not determine update source for BGP neig...</td>\n",
       "      <td>None</td>\n",
       "      <td>None</td>\n",
       "    </tr>\n",
       "  </tbody>\n",
       "</table>\n",
       "</div>"
      ],
      "text/plain": [
       "            Nodes Source_Lines                       Type  \\\n",
       "0  ['as1border1']         None  Convert warning (redflag)   \n",
       "1  ['as1border1']         None  Convert warning (redflag)   \n",
       "\n",
       "                                             Details Line_Text Parser_Context  \n",
       "0  Could not determine update source for BGP neig...      None           None  \n",
       "1  Could not determine update source for BGP neig...      None           None  "
      ]
     },
     "execution_count": 7,
     "metadata": {},
     "output_type": "execute_result"
    }
   ],
   "source": [
    ">>> bfq.initIssues().answer()"
   ]
  },
  {
   "cell_type": "markdown",
   "metadata": {},
   "source": [
    "#### Using an existing snapshot"
   ]
  },
  {
   "cell_type": "markdown",
   "metadata": {},
   "source": [
    "If you have a previously initialized snapshot that you would like to work with, you do not need to re-initialize it."
   ]
  },
  {
   "cell_type": "code",
   "execution_count": 8,
   "metadata": {},
   "outputs": [
    {
     "data": {
      "text/plain": [
       "'example'"
      ]
     },
     "execution_count": 8,
     "metadata": {},
     "output_type": "execute_result"
    }
   ],
   "source": [
    ">>> bf_set_network('example')"
   ]
  },
  {
   "cell_type": "code",
   "execution_count": 9,
   "metadata": {},
   "outputs": [
    {
     "data": {
      "text/plain": [
       "'snapshot0'"
      ]
     },
     "execution_count": 9,
     "metadata": {},
     "output_type": "execute_result"
    }
   ],
   "source": [
    ">>> bf_set_snapshot('snapshot0')"
   ]
  },
  {
   "cell_type": "markdown",
   "metadata": {},
   "source": [
    "### Running Questions"
   ]
  },
  {
   "cell_type": "markdown",
   "metadata": {},
   "source": [
    "Now that you have initialized a snapshot, you can query the Batfish service to retrieve information about the snapshot.\n",
    "\n",
    "Let’s start with the basics. The Batfish service will return the list of questions"
   ]
  },
  {
   "cell_type": "code",
   "execution_count": 10,
   "metadata": {},
   "outputs": [
    {
     "data": {
      "text/plain": [
       "64"
      ]
     },
     "execution_count": 10,
     "metadata": {},
     "output_type": "execute_result"
    }
   ],
   "source": [
    ">>> len(list_questions())"
   ]
  },
  {
   "cell_type": "code",
   "execution_count": 11,
   "metadata": {},
   "outputs": [
    {
     "data": {
      "text/plain": [
       "list"
      ]
     },
     "execution_count": 11,
     "metadata": {},
     "output_type": "execute_result"
    }
   ],
   "source": [
    ">>> type(list_questions())"
   ]
  },
  {
   "cell_type": "code",
   "execution_count": 12,
   "metadata": {},
   "outputs": [
    {
     "data": {
      "text/plain": [
       "{'name': 'aaaAuthenticationLogin',\n",
       " 'description': 'Returns nodes that do not require authentication on all virtual terminal lines.\\n\\nLists all nodes in the network for which there is a virtual terminal line that does not require authentication.',\n",
       " 'tags': ['hygiene']}"
      ]
     },
     "execution_count": 12,
     "metadata": {},
     "output_type": "execute_result"
    }
   ],
   "source": [
    ">>> list_questions()[0]"
   ]
  },
  {
   "cell_type": "markdown",
   "metadata": {},
   "source": [
    "To invoke any question, you use the form `bfq.<question_name>()`. This will create a question object."
   ]
  },
  {
   "cell_type": "code",
   "execution_count": 13,
   "metadata": {},
   "outputs": [],
   "source": [
    ">>> question = bfq.nodeProperties()"
   ]
  },
  {
   "cell_type": "code",
   "execution_count": 14,
   "metadata": {},
   "outputs": [
    {
     "data": {
      "text/plain": [
       "pybatfish.question.bfq.nodeProperties"
      ]
     },
     "execution_count": 14,
     "metadata": {},
     "output_type": "execute_result"
    }
   ],
   "source": [
    "type(question)"
   ]
  },
  {
   "cell_type": "markdown",
   "metadata": {},
   "source": [
    "To send the query to the Batfish service and retrieve the results, you need to run:"
   ]
  },
  {
   "cell_type": "code",
   "execution_count": 15,
   "metadata": {},
   "outputs": [],
   "source": [
    ">>> result = bfq.nodeProperties().answer()"
   ]
  },
  {
   "cell_type": "code",
   "execution_count": 16,
   "metadata": {},
   "outputs": [
    {
     "data": {
      "text/plain": [
       "pybatfish.datamodel.answer.table.TableAnswer"
      ]
     },
     "execution_count": 16,
     "metadata": {},
     "output_type": "execute_result"
    }
   ],
   "source": [
    ">>> type(result)"
   ]
  },
  {
   "cell_type": "markdown",
   "metadata": {},
   "source": [
    "This will return information as JSON. For easy manipulation of the data, you can turn it into a Pandas dataframe."
   ]
  },
  {
   "cell_type": "code",
   "execution_count": 17,
   "metadata": {},
   "outputs": [],
   "source": [
    ">>> result = bfq.nodeProperties().answer().frame()"
   ]
  },
  {
   "cell_type": "code",
   "execution_count": 18,
   "metadata": {
    "pycharm": {
     "name": "#%%\n"
    }
   },
   "outputs": [
    {
     "data": {
      "text/plain": [
       "pandas.core.frame.DataFrame"
      ]
     },
     "execution_count": 18,
     "metadata": {},
     "output_type": "execute_result"
    }
   ],
   "source": [
    ">>> type(result)\n",
    "\n"
   ]
  }
 ],
 "metadata": {
  "celltoolbar": "Edit Metadata",
  "hide_input": false,
  "kernelspec": {
   "display_name": "Python 3",
   "language": "python",
   "name": "python3"
  },
  "language_info": {
   "codemirror_mode": {
    "name": "ipython",
    "version": 3
   },
   "file_extension": ".py",
   "mimetype": "text/x-python",
   "name": "python",
   "nbconvert_exporter": "python",
   "pygments_lexer": "ipython3",
   "version": "3.7.5"
  },
  "pycharm": {
   "stem_cell": {
    "cell_type": "raw",
    "metadata": {
     "collapsed": false
    },
    "source": []
   }
  }
 },
 "nbformat": 4,
 "nbformat_minor": 2
}
