{
 "cells": [
  {
   "cell_type": "code",
   "execution_count": 1,
   "metadata": {
    "nbsphinx": "hidden"
   },
   "outputs": [],
   "source": [
    "import pandas as pd\n",
    "from pybatfish.client.commands import *\n",
    "from pybatfish.datamodel import *\n",
    "from pybatfish.question import bfq, list_questions, load_questions\n",
    "\n",
    "pd.set_option(\"display.width\", 300) \n",
    "pd.set_option(\"display.max_columns\", 20) \n",
    "pd.set_option(\"display.max_rows\", 1000) \n",
    "pd.set_option(\"display.max_colwidth\", None)\n",
    "\n",
    "# Configure all pybatfish loggers to use WARN level\n",
    "import logging\n",
    "logging.getLogger('pybatfish').setLevel(logging.WARN)"
   ]
  },
  {
   "cell_type": "code",
   "execution_count": 2,
   "metadata": {
    "nbsphinx": "hidden"
   },
   "outputs": [],
   "source": [
    "bf_session.host = 'localhost'"
   ]
  },
  {
   "cell_type": "code",
   "execution_count": 3,
   "metadata": {
    "nbsphinx": "hidden"
   },
   "outputs": [],
   "source": [
    "load_questions()\n"
   ]
  },
  {
   "cell_type": "markdown",
   "metadata": {},
   "source": [
    "#### Routing and Forwarding Tables"
   ]
  },
  {
   "cell_type": "markdown",
   "metadata": {},
   "source": [
    "* [Routes](#Routes)\n",
    "* [BGP RIB](#BGP-RIB)\n",
    "* [EVPN RIB](#EVPN-RIB)\n",
    "* [Longest Prefix Match](#Longest-Prefix-Match)"
   ]
  },
  {
   "cell_type": "code",
   "execution_count": 4,
   "metadata": {
    "nbsphinx": "hidden"
   },
   "outputs": [
    {
     "data": {
      "text/plain": [
       "'generate_questions'"
      ]
     },
     "execution_count": 1,
     "metadata": {},
     "output_type": "execute_result"
    }
   ],
   "source": [
    "bf_set_network('generate_questions')"
   ]
  },
  {
   "cell_type": "code",
   "execution_count": 5,
   "metadata": {
    "nbsphinx": "hidden"
   },
   "outputs": [
    {
     "data": {
      "text/plain": [
       "'generate_questions'"
      ]
     },
     "execution_count": 1,
     "metadata": {},
     "output_type": "execute_result"
    }
   ],
   "source": [
    "bf_set_snapshot('generate_questions')"
   ]
  },
  {
   "cell_type": "markdown",
   "metadata": {},
   "source": [
    "##### Routes"
   ]
  },
  {
   "cell_type": "markdown",
   "metadata": {},
   "source": [
    "Returns routing tables."
   ]
  },
  {
   "cell_type": "markdown",
   "metadata": {},
   "source": [
    "Shows routes for specified RIB, VRF, and node(s)."
   ]
  },
  {
   "cell_type": "markdown",
   "metadata": {},
   "source": [
    "###### Inputs"
   ]
  },
  {
   "cell_type": "markdown",
   "metadata": {},
   "source": [
    "Name | Description | Type | Optional | Default Value\n",
    "--- | --- | --- | --- | --- \n",
    "nodes | Examine routes on nodes matching this specifier. | [NodeSpec](../specifiers.md#node-specifier) | True | \n",
    "network | Examine routes for networks matching this prefix. | str | True | \n",
    "protocols | Examine routes for protocols matching this specifier. | [RoutingProtocolSpec](../specifiers.md#routing-protocol-specifier) | True | \n",
    "vrfs | Examine routes on VRFs matching this name or regex. | str | True | \n",
    "rib | Only return routes from a given protocol RIB. | str | True | "
   ]
  },
  {
   "cell_type": "markdown",
   "metadata": {},
   "source": [
    "###### Invocation"
   ]
  },
  {
   "cell_type": "code",
   "execution_count": 6,
   "metadata": {},
   "outputs": [],
   "source": [
    "result = bfq.routes().answer().frame()"
   ]
  },
  {
   "cell_type": "markdown",
   "metadata": {},
   "source": [
    "###### Return Value"
   ]
  },
  {
   "cell_type": "markdown",
   "metadata": {},
   "source": [
    "Name | Description | Type\n",
    "--- | --- | ---\n",
    "Node | Node | str\n",
    "VRF | VRF name | str\n",
    "Network | Network for this route | str\n",
    "Next_Hop | Inferred hostname of the next hop | str\n",
    "Next_Hop_IP | Route's Next Hop IP | str\n",
    "Next_Hop_Interface | Route's Next Hop Interface | str\n",
    "Protocol | Route's Protocol | str\n",
    "Metric | Route's Metric | int\n",
    "Admin_Distance | Route's Admin distance | int\n",
    "Tag | Tag for this route | int"
   ]
  },
  {
   "cell_type": "markdown",
   "metadata": {},
   "source": [
    "Print the first 5 rows of the returned Dataframe"
   ]
  },
  {
   "cell_type": "code",
   "execution_count": 7,
   "metadata": {},
   "outputs": [
    {
     "data": {
      "text/html": [
       "<div>\n",
       "<style scoped>\n",
       "    .dataframe tbody tr th:only-of-type {\n",
       "        vertical-align: middle;\n",
       "    }\n",
       "\n",
       "    .dataframe tbody tr th {\n",
       "        vertical-align: top;\n",
       "    }\n",
       "\n",
       "    .dataframe thead th {\n",
       "        text-align: right;\n",
       "    }\n",
       "</style>\n",
       "<table border=\"1\" class=\"dataframe\">\n",
       "  <thead>\n",
       "    <tr style=\"text-align: right;\">\n",
       "      <th></th>\n",
       "      <th>Node</th>\n",
       "      <th>VRF</th>\n",
       "      <th>Network</th>\n",
       "      <th>Next_Hop</th>\n",
       "      <th>Next_Hop_IP</th>\n",
       "      <th>Next_Hop_Interface</th>\n",
       "      <th>Protocol</th>\n",
       "      <th>Metric</th>\n",
       "      <th>Admin_Distance</th>\n",
       "      <th>Tag</th>\n",
       "    </tr>\n",
       "  </thead>\n",
       "  <tbody>\n",
       "    <tr>\n",
       "      <th>0</th>\n",
       "      <td>as1border1</td>\n",
       "      <td>default</td>\n",
       "      <td>1.0.1.1/32</td>\n",
       "      <td>None</td>\n",
       "      <td>AUTO/NONE(-1l)</td>\n",
       "      <td>GigabitEthernet0/0</td>\n",
       "      <td>local</td>\n",
       "      <td>0</td>\n",
       "      <td>0</td>\n",
       "      <td>None</td>\n",
       "    </tr>\n",
       "    <tr>\n",
       "      <th>1</th>\n",
       "      <td>as2border1</td>\n",
       "      <td>default</td>\n",
       "      <td>2.23.11.0/24</td>\n",
       "      <td>as2core1</td>\n",
       "      <td>2.12.11.2</td>\n",
       "      <td>GigabitEthernet1/0</td>\n",
       "      <td>ospf</td>\n",
       "      <td>2</td>\n",
       "      <td>110</td>\n",
       "      <td>None</td>\n",
       "    </tr>\n",
       "    <tr>\n",
       "      <th>2</th>\n",
       "      <td>as2dist2</td>\n",
       "      <td>default</td>\n",
       "      <td>2.1.3.1/32</td>\n",
       "      <td>as2core1</td>\n",
       "      <td>2.23.12.2</td>\n",
       "      <td>GigabitEthernet1/0</td>\n",
       "      <td>ospf</td>\n",
       "      <td>3</td>\n",
       "      <td>110</td>\n",
       "      <td>None</td>\n",
       "    </tr>\n",
       "    <tr>\n",
       "      <th>3</th>\n",
       "      <td>as2core1</td>\n",
       "      <td>default</td>\n",
       "      <td>2.12.21.0/24</td>\n",
       "      <td>None</td>\n",
       "      <td>AUTO/NONE(-1l)</td>\n",
       "      <td>GigabitEthernet1/0</td>\n",
       "      <td>connected</td>\n",
       "      <td>0</td>\n",
       "      <td>0</td>\n",
       "      <td>None</td>\n",
       "    </tr>\n",
       "    <tr>\n",
       "      <th>4</th>\n",
       "      <td>as2dist2</td>\n",
       "      <td>default</td>\n",
       "      <td>2.12.22.0/24</td>\n",
       "      <td>as2core2</td>\n",
       "      <td>2.23.22.2</td>\n",
       "      <td>GigabitEthernet0/0</td>\n",
       "      <td>ospf</td>\n",
       "      <td>2</td>\n",
       "      <td>110</td>\n",
       "      <td>None</td>\n",
       "    </tr>\n",
       "  </tbody>\n",
       "</table>\n",
       "</div>"
      ],
      "text/plain": [
       "         Node      VRF       Network  Next_Hop     Next_Hop_IP  Next_Hop_Interface   Protocol Metric Admin_Distance   Tag\n",
       "0  as1border1  default    1.0.1.1/32      None  AUTO/NONE(-1l)  GigabitEthernet0/0      local      0              0  None\n",
       "1  as2border1  default  2.23.11.0/24  as2core1       2.12.11.2  GigabitEthernet1/0       ospf      2            110  None\n",
       "2    as2dist2  default    2.1.3.1/32  as2core1       2.23.12.2  GigabitEthernet1/0       ospf      3            110  None\n",
       "3    as2core1  default  2.12.21.0/24      None  AUTO/NONE(-1l)  GigabitEthernet1/0  connected      0              0  None\n",
       "4    as2dist2  default  2.12.22.0/24  as2core2       2.23.22.2  GigabitEthernet0/0       ospf      2            110  None"
      ]
     },
     "execution_count": 1,
     "metadata": {},
     "output_type": "execute_result"
    }
   ],
   "source": [
    "result.head(5)"
   ]
  },
  {
   "cell_type": "markdown",
   "metadata": {},
   "source": [
    "Print the first row of the returned Dataframe"
   ]
  },
  {
   "cell_type": "code",
   "execution_count": 8,
   "metadata": {},
   "outputs": [
    {
     "data": {
      "text/plain": [
       "Node                          as1border1\n",
       "VRF                              default\n",
       "Network                       1.0.1.1/32\n",
       "Next_Hop                            None\n",
       "Next_Hop_IP               AUTO/NONE(-1l)\n",
       "Next_Hop_Interface    GigabitEthernet0/0\n",
       "Protocol                           local\n",
       "Metric                                 0\n",
       "Admin_Distance                         0\n",
       "Tag                                 None\n",
       "Name: 0, dtype: object"
      ]
     },
     "execution_count": 1,
     "metadata": {},
     "output_type": "execute_result"
    }
   ],
   "source": [
    "result.iloc[0]"
   ]
  },
  {
   "cell_type": "code",
   "execution_count": 9,
   "metadata": {
    "nbsphinx": "hidden"
   },
   "outputs": [
    {
     "data": {
      "text/plain": [
       "'generate_questions'"
      ]
     },
     "execution_count": 1,
     "metadata": {},
     "output_type": "execute_result"
    }
   ],
   "source": [
    "bf_set_network('generate_questions')"
   ]
  },
  {
   "cell_type": "code",
   "execution_count": 10,
   "metadata": {
    "nbsphinx": "hidden"
   },
   "outputs": [
    {
     "data": {
      "text/plain": [
       "'generate_questions'"
      ]
     },
     "execution_count": 1,
     "metadata": {},
     "output_type": "execute_result"
    }
   ],
   "source": [
    "bf_set_snapshot('generate_questions')"
   ]
  },
  {
   "cell_type": "markdown",
   "metadata": {},
   "source": [
    "##### BGP RIB"
   ]
  },
  {
   "cell_type": "markdown",
   "metadata": {},
   "source": [
    "Returns routes in the BGP RIB."
   ]
  },
  {
   "cell_type": "markdown",
   "metadata": {},
   "source": [
    "Shows BGP routes for specified VRF and node(s). This question is not available in Batfish containers on dockerhub prior to March 29, 2021."
   ]
  },
  {
   "cell_type": "markdown",
   "metadata": {},
   "source": [
    "###### Inputs"
   ]
  },
  {
   "cell_type": "markdown",
   "metadata": {},
   "source": [
    "Name | Description | Type | Optional | Default Value\n",
    "--- | --- | --- | --- | --- \n",
    "nodes | Examine routes on nodes matching this specifier. | [NodeSpec](../specifiers.md#node-specifier) | True | \n",
    "network | Examine routes for networks matching this prefix. | str | True | \n",
    "vrfs | Examine routes on VRFs matching this name or regex. | str | True | "
   ]
  },
  {
   "cell_type": "markdown",
   "metadata": {},
   "source": [
    "###### Invocation"
   ]
  },
  {
   "cell_type": "code",
   "execution_count": 11,
   "metadata": {},
   "outputs": [],
   "source": [
    "result = bfq.bgpRib().answer().frame()"
   ]
  },
  {
   "cell_type": "markdown",
   "metadata": {},
   "source": [
    "###### Return Value"
   ]
  },
  {
   "cell_type": "markdown",
   "metadata": {},
   "source": [
    "Name | Description | Type\n",
    "--- | --- | ---\n",
    "Node | Node | str\n",
    "VRF | VRF name | str\n",
    "Network | Network for this route | str\n",
    "Next_Hop_IP | Route's Next Hop IP | str\n",
    "Next_Hop_Interface | Route's Next Hop Interface | str\n",
    "Protocol | Route's Protocol | str\n",
    "AS_Path | Route's AS path | str\n",
    "Metric | Route's Metric | int\n",
    "Local_Pref | Route's Local Preference | int\n",
    "Communities | Route's List of communities | List of str\n",
    "Origin_Protocol | Route's Origin protocol | str\n",
    "Origin_Type | Route's Origin type | str\n",
    "Originator_Id | Route's Originator ID | str\n",
    "Cluster_List | Route's Cluster List | List of int\n",
    "Tag | Tag for this route | int"
   ]
  },
  {
   "cell_type": "markdown",
   "metadata": {},
   "source": [
    "Print the first 5 rows of the returned Dataframe"
   ]
  },
  {
   "cell_type": "code",
   "execution_count": 12,
   "metadata": {},
   "outputs": [
    {
     "data": {
      "text/html": [
       "<div>\n",
       "<style scoped>\n",
       "    .dataframe tbody tr th:only-of-type {\n",
       "        vertical-align: middle;\n",
       "    }\n",
       "\n",
       "    .dataframe tbody tr th {\n",
       "        vertical-align: top;\n",
       "    }\n",
       "\n",
       "    .dataframe thead th {\n",
       "        text-align: right;\n",
       "    }\n",
       "</style>\n",
       "<table border=\"1\" class=\"dataframe\">\n",
       "  <thead>\n",
       "    <tr style=\"text-align: right;\">\n",
       "      <th></th>\n",
       "      <th>Node</th>\n",
       "      <th>VRF</th>\n",
       "      <th>Network</th>\n",
       "      <th>Next_Hop_IP</th>\n",
       "      <th>Next_Hop_Interface</th>\n",
       "      <th>Protocol</th>\n",
       "      <th>AS_Path</th>\n",
       "      <th>Metric</th>\n",
       "      <th>Local_Pref</th>\n",
       "      <th>Communities</th>\n",
       "      <th>Origin_Protocol</th>\n",
       "      <th>Origin_Type</th>\n",
       "      <th>Originator_Id</th>\n",
       "      <th>Cluster_List</th>\n",
       "      <th>Tag</th>\n",
       "    </tr>\n",
       "  </thead>\n",
       "  <tbody>\n",
       "    <tr>\n",
       "      <th>0</th>\n",
       "      <td>as2border2</td>\n",
       "      <td>default</td>\n",
       "      <td>2.128.0.0/16</td>\n",
       "      <td>AUTO/NONE(-1l)</td>\n",
       "      <td>null_interface</td>\n",
       "      <td>aggregate</td>\n",
       "      <td></td>\n",
       "      <td>0</td>\n",
       "      <td>100</td>\n",
       "      <td>[]</td>\n",
       "      <td>aggregate</td>\n",
       "      <td>igp</td>\n",
       "      <td>2.1.1.2</td>\n",
       "      <td>None</td>\n",
       "      <td>None</td>\n",
       "    </tr>\n",
       "    <tr>\n",
       "      <th>1</th>\n",
       "      <td>as2dist1</td>\n",
       "      <td>default</td>\n",
       "      <td>3.0.2.0/24</td>\n",
       "      <td>10.23.21.3</td>\n",
       "      <td>dynamic</td>\n",
       "      <td>ibgp</td>\n",
       "      <td>3</td>\n",
       "      <td>50</td>\n",
       "      <td>350</td>\n",
       "      <td>['3:2']</td>\n",
       "      <td>ibgp</td>\n",
       "      <td>igp</td>\n",
       "      <td>2.1.1.2</td>\n",
       "      <td>[33620482]</td>\n",
       "      <td>None</td>\n",
       "    </tr>\n",
       "    <tr>\n",
       "      <th>2</th>\n",
       "      <td>as2dist2</td>\n",
       "      <td>default</td>\n",
       "      <td>3.0.1.0/24</td>\n",
       "      <td>10.23.21.3</td>\n",
       "      <td>dynamic</td>\n",
       "      <td>ibgp</td>\n",
       "      <td>3</td>\n",
       "      <td>50</td>\n",
       "      <td>350</td>\n",
       "      <td>['3:2']</td>\n",
       "      <td>ibgp</td>\n",
       "      <td>igp</td>\n",
       "      <td>2.1.1.2</td>\n",
       "      <td>[33620482]</td>\n",
       "      <td>None</td>\n",
       "    </tr>\n",
       "    <tr>\n",
       "      <th>3</th>\n",
       "      <td>as2dist2</td>\n",
       "      <td>default</td>\n",
       "      <td>3.0.2.0/24</td>\n",
       "      <td>10.23.21.3</td>\n",
       "      <td>dynamic</td>\n",
       "      <td>ibgp</td>\n",
       "      <td>3</td>\n",
       "      <td>50</td>\n",
       "      <td>350</td>\n",
       "      <td>['3:2']</td>\n",
       "      <td>ibgp</td>\n",
       "      <td>igp</td>\n",
       "      <td>2.1.1.2</td>\n",
       "      <td>[33620482]</td>\n",
       "      <td>None</td>\n",
       "    </tr>\n",
       "    <tr>\n",
       "      <th>4</th>\n",
       "      <td>as2dist1</td>\n",
       "      <td>default</td>\n",
       "      <td>3.0.2.0/24</td>\n",
       "      <td>10.23.21.3</td>\n",
       "      <td>dynamic</td>\n",
       "      <td>ibgp</td>\n",
       "      <td>3</td>\n",
       "      <td>50</td>\n",
       "      <td>350</td>\n",
       "      <td>['3:2']</td>\n",
       "      <td>ibgp</td>\n",
       "      <td>igp</td>\n",
       "      <td>2.1.1.2</td>\n",
       "      <td>[33620481]</td>\n",
       "      <td>None</td>\n",
       "    </tr>\n",
       "  </tbody>\n",
       "</table>\n",
       "</div>"
      ],
      "text/plain": [
       "         Node      VRF       Network     Next_Hop_IP Next_Hop_Interface   Protocol AS_Path Metric Local_Pref Communities Origin_Protocol Origin_Type Originator_Id Cluster_List   Tag\n",
       "0  as2border2  default  2.128.0.0/16  AUTO/NONE(-1l)     null_interface  aggregate              0        100          []       aggregate         igp       2.1.1.2         None  None\n",
       "1    as2dist1  default    3.0.2.0/24      10.23.21.3            dynamic       ibgp       3     50        350     ['3:2']            ibgp         igp       2.1.1.2   [33620482]  None\n",
       "2    as2dist2  default    3.0.1.0/24      10.23.21.3            dynamic       ibgp       3     50        350     ['3:2']            ibgp         igp       2.1.1.2   [33620482]  None\n",
       "3    as2dist2  default    3.0.2.0/24      10.23.21.3            dynamic       ibgp       3     50        350     ['3:2']            ibgp         igp       2.1.1.2   [33620482]  None\n",
       "4    as2dist1  default    3.0.2.0/24      10.23.21.3            dynamic       ibgp       3     50        350     ['3:2']            ibgp         igp       2.1.1.2   [33620481]  None"
      ]
     },
     "execution_count": 1,
     "metadata": {},
     "output_type": "execute_result"
    }
   ],
   "source": [
    "result.head(5)"
   ]
  },
  {
   "cell_type": "markdown",
   "metadata": {},
   "source": [
    "Print the first row of the returned Dataframe"
   ]
  },
  {
   "cell_type": "code",
   "execution_count": 13,
   "metadata": {},
   "outputs": [
    {
     "data": {
      "text/plain": [
       "Node                      as2border2\n",
       "VRF                          default\n",
       "Network                 2.128.0.0/16\n",
       "Next_Hop_IP           AUTO/NONE(-1l)\n",
       "Next_Hop_Interface    null_interface\n",
       "Protocol                   aggregate\n",
       "AS_Path                             \n",
       "Metric                             0\n",
       "Local_Pref                       100\n",
       "Communities                       []\n",
       "Origin_Protocol            aggregate\n",
       "Origin_Type                      igp\n",
       "Originator_Id                2.1.1.2\n",
       "Cluster_List                    None\n",
       "Tag                             None\n",
       "Name: 0, dtype: object"
      ]
     },
     "execution_count": 1,
     "metadata": {},
     "output_type": "execute_result"
    }
   ],
   "source": [
    "result.iloc[0]"
   ]
  },
  {
   "cell_type": "code",
   "execution_count": 14,
   "metadata": {
    "nbsphinx": "hidden"
   },
   "outputs": [
    {
     "data": {
      "text/plain": [
       "'generate_questions'"
      ]
     },
     "execution_count": 1,
     "metadata": {},
     "output_type": "execute_result"
    }
   ],
   "source": [
    "bf_set_network('generate_questions')"
   ]
  },
  {
   "cell_type": "code",
   "execution_count": 15,
   "metadata": {
    "nbsphinx": "hidden"
   },
   "outputs": [
    {
     "data": {
      "text/plain": [
       "'aristaevpn'"
      ]
     },
     "execution_count": 1,
     "metadata": {},
     "output_type": "execute_result"
    }
   ],
   "source": [
    "bf_set_snapshot('aristaevpn')"
   ]
  },
  {
   "cell_type": "markdown",
   "metadata": {},
   "source": [
    "##### EVPN RIB"
   ]
  },
  {
   "cell_type": "markdown",
   "metadata": {},
   "source": [
    "Returns routes in the EVPN RIB."
   ]
  },
  {
   "cell_type": "markdown",
   "metadata": {},
   "source": [
    "Shows EVPN routes for specified VRF and node(s). This question is not available in Batfish containers on dockerhub prior to March 29, 2021."
   ]
  },
  {
   "cell_type": "markdown",
   "metadata": {},
   "source": [
    "###### Inputs"
   ]
  },
  {
   "cell_type": "markdown",
   "metadata": {},
   "source": [
    "Name | Description | Type | Optional | Default Value\n",
    "--- | --- | --- | --- | --- \n",
    "nodes | Examine routes on nodes matching this specifier. | [NodeSpec](../specifiers.md#node-specifier) | True | \n",
    "network | Examine routes for networks matching this prefix. | str | True | \n",
    "vrfs | Examine routes on VRFs matching this name or regex. | str | True | "
   ]
  },
  {
   "cell_type": "markdown",
   "metadata": {},
   "source": [
    "###### Invocation"
   ]
  },
  {
   "cell_type": "code",
   "execution_count": 16,
   "metadata": {},
   "outputs": [],
   "source": [
    "result = bfq.evpnRib().answer().frame()"
   ]
  },
  {
   "cell_type": "markdown",
   "metadata": {},
   "source": [
    "###### Return Value"
   ]
  },
  {
   "cell_type": "markdown",
   "metadata": {},
   "source": [
    "Name | Description | Type\n",
    "--- | --- | ---\n",
    "Node | Node | str\n",
    "VRF | VRF name | str\n",
    "Network | Network for this route | str\n",
    "Route_Distinguisher | Route distinguisher | str\n",
    "Next_Hop_IP | Route's Next Hop IP | str\n",
    "Next_Hop_Interface | Route's Next Hop Interface | str\n",
    "Protocol | Route's Protocol | str\n",
    "AS_Path | Route's AS path | str\n",
    "Metric | Route's Metric | int\n",
    "Local_Pref | Route's Local Preference | int\n",
    "Communities | Route's List of communities | List of str\n",
    "Origin_Protocol | Route's Origin protocol | str\n",
    "Origin_Type | Route's Origin type | str\n",
    "Originator_Id | Route's Originator ID | str\n",
    "Cluster_List | Route's Cluster List | List of int\n",
    "Tag | Tag for this route | int"
   ]
  },
  {
   "cell_type": "markdown",
   "metadata": {},
   "source": [
    "Print the first 5 rows of the returned Dataframe"
   ]
  },
  {
   "cell_type": "code",
   "execution_count": 17,
   "metadata": {},
   "outputs": [
    {
     "data": {
      "text/html": [
       "<div>\n",
       "<style scoped>\n",
       "    .dataframe tbody tr th:only-of-type {\n",
       "        vertical-align: middle;\n",
       "    }\n",
       "\n",
       "    .dataframe tbody tr th {\n",
       "        vertical-align: top;\n",
       "    }\n",
       "\n",
       "    .dataframe thead th {\n",
       "        text-align: right;\n",
       "    }\n",
       "</style>\n",
       "<table border=\"1\" class=\"dataframe\">\n",
       "  <thead>\n",
       "    <tr style=\"text-align: right;\">\n",
       "      <th></th>\n",
       "      <th>Node</th>\n",
       "      <th>VRF</th>\n",
       "      <th>Network</th>\n",
       "      <th>Route_Distinguisher</th>\n",
       "      <th>Next_Hop_IP</th>\n",
       "      <th>Next_Hop_Interface</th>\n",
       "      <th>Protocol</th>\n",
       "      <th>AS_Path</th>\n",
       "      <th>Metric</th>\n",
       "      <th>Local_Pref</th>\n",
       "      <th>Communities</th>\n",
       "      <th>Origin_Protocol</th>\n",
       "      <th>Origin_Type</th>\n",
       "      <th>Originator_Id</th>\n",
       "      <th>Cluster_List</th>\n",
       "      <th>Tag</th>\n",
       "    </tr>\n",
       "  </thead>\n",
       "  <tbody>\n",
       "    <tr>\n",
       "      <th>0</th>\n",
       "      <td>dc1-svc3b</td>\n",
       "      <td>Tenant_A_WEB_Zone</td>\n",
       "      <td>192.168.254.4/32</td>\n",
       "      <td>192.168.255.5:15002</td>\n",
       "      <td>192.168.255.5</td>\n",
       "      <td>dynamic</td>\n",
       "      <td>bgp</td>\n",
       "      <td>65001 65102</td>\n",
       "      <td>0</td>\n",
       "      <td>100</td>\n",
       "      <td>['2:15002:15002']</td>\n",
       "      <td>bgp</td>\n",
       "      <td>egp</td>\n",
       "      <td>192.168.255.2</td>\n",
       "      <td>None</td>\n",
       "      <td>None</td>\n",
       "    </tr>\n",
       "    <tr>\n",
       "      <th>1</th>\n",
       "      <td>dc1-svc3a</td>\n",
       "      <td>Tenant_A_DB_Zone</td>\n",
       "      <td>192.168.254.4/32</td>\n",
       "      <td>192.168.255.5:15004</td>\n",
       "      <td>192.168.255.5</td>\n",
       "      <td>dynamic</td>\n",
       "      <td>bgp</td>\n",
       "      <td>65001 65102</td>\n",
       "      <td>0</td>\n",
       "      <td>100</td>\n",
       "      <td>['2:15004:15004']</td>\n",
       "      <td>bgp</td>\n",
       "      <td>egp</td>\n",
       "      <td>192.168.255.1</td>\n",
       "      <td>None</td>\n",
       "      <td>None</td>\n",
       "    </tr>\n",
       "    <tr>\n",
       "      <th>2</th>\n",
       "      <td>dc1-svc3b</td>\n",
       "      <td>Tenant_A_WEB_Zone</td>\n",
       "      <td>192.168.254.4/32</td>\n",
       "      <td>192.168.255.5:15002</td>\n",
       "      <td>192.168.255.5</td>\n",
       "      <td>dynamic</td>\n",
       "      <td>bgp</td>\n",
       "      <td>65001 65102</td>\n",
       "      <td>0</td>\n",
       "      <td>100</td>\n",
       "      <td>['2:15002:15002']</td>\n",
       "      <td>bgp</td>\n",
       "      <td>egp</td>\n",
       "      <td>192.168.255.1</td>\n",
       "      <td>None</td>\n",
       "      <td>None</td>\n",
       "    </tr>\n",
       "    <tr>\n",
       "      <th>3</th>\n",
       "      <td>dc1-leaf2b</td>\n",
       "      <td>Tenant_A_DB_Zone</td>\n",
       "      <td>192.168.254.6/32</td>\n",
       "      <td>192.168.255.7:15004</td>\n",
       "      <td>192.168.255.7</td>\n",
       "      <td>dynamic</td>\n",
       "      <td>bgp</td>\n",
       "      <td>65001 65103</td>\n",
       "      <td>0</td>\n",
       "      <td>100</td>\n",
       "      <td>['2:15004:15004']</td>\n",
       "      <td>bgp</td>\n",
       "      <td>egp</td>\n",
       "      <td>192.168.255.2</td>\n",
       "      <td>None</td>\n",
       "      <td>None</td>\n",
       "    </tr>\n",
       "    <tr>\n",
       "      <th>4</th>\n",
       "      <td>dc1-leaf2b</td>\n",
       "      <td>Tenant_A_DB_Zone</td>\n",
       "      <td>192.168.254.6/32</td>\n",
       "      <td>192.168.255.7:15004</td>\n",
       "      <td>192.168.255.7</td>\n",
       "      <td>dynamic</td>\n",
       "      <td>bgp</td>\n",
       "      <td>65001 65103</td>\n",
       "      <td>0</td>\n",
       "      <td>100</td>\n",
       "      <td>['2:15004:15004']</td>\n",
       "      <td>bgp</td>\n",
       "      <td>egp</td>\n",
       "      <td>192.168.255.1</td>\n",
       "      <td>None</td>\n",
       "      <td>None</td>\n",
       "    </tr>\n",
       "  </tbody>\n",
       "</table>\n",
       "</div>"
      ],
      "text/plain": [
       "         Node                VRF           Network  Route_Distinguisher    Next_Hop_IP Next_Hop_Interface Protocol      AS_Path Metric Local_Pref        Communities Origin_Protocol Origin_Type  Originator_Id Cluster_List   Tag\n",
       "0   dc1-svc3b  Tenant_A_WEB_Zone  192.168.254.4/32  192.168.255.5:15002  192.168.255.5            dynamic      bgp  65001 65102      0        100  ['2:15002:15002']             bgp         egp  192.168.255.2         None  None\n",
       "1   dc1-svc3a   Tenant_A_DB_Zone  192.168.254.4/32  192.168.255.5:15004  192.168.255.5            dynamic      bgp  65001 65102      0        100  ['2:15004:15004']             bgp         egp  192.168.255.1         None  None\n",
       "2   dc1-svc3b  Tenant_A_WEB_Zone  192.168.254.4/32  192.168.255.5:15002  192.168.255.5            dynamic      bgp  65001 65102      0        100  ['2:15002:15002']             bgp         egp  192.168.255.1         None  None\n",
       "3  dc1-leaf2b   Tenant_A_DB_Zone  192.168.254.6/32  192.168.255.7:15004  192.168.255.7            dynamic      bgp  65001 65103      0        100  ['2:15004:15004']             bgp         egp  192.168.255.2         None  None\n",
       "4  dc1-leaf2b   Tenant_A_DB_Zone  192.168.254.6/32  192.168.255.7:15004  192.168.255.7            dynamic      bgp  65001 65103      0        100  ['2:15004:15004']             bgp         egp  192.168.255.1         None  None"
      ]
     },
     "execution_count": 1,
     "metadata": {},
     "output_type": "execute_result"
    }
   ],
   "source": [
    "result.head(5)"
   ]
  },
  {
   "cell_type": "markdown",
   "metadata": {},
   "source": [
    "Print the first row of the returned Dataframe"
   ]
  },
  {
   "cell_type": "code",
   "execution_count": 18,
   "metadata": {},
   "outputs": [
    {
     "data": {
      "text/plain": [
       "Node                             dc1-svc3b\n",
       "VRF                      Tenant_A_WEB_Zone\n",
       "Network                   192.168.254.4/32\n",
       "Route_Distinguisher    192.168.255.5:15002\n",
       "Next_Hop_IP                  192.168.255.5\n",
       "Next_Hop_Interface                 dynamic\n",
       "Protocol                               bgp\n",
       "AS_Path                        65001 65102\n",
       "Metric                                   0\n",
       "Local_Pref                             100\n",
       "Communities              ['2:15002:15002']\n",
       "Origin_Protocol                        bgp\n",
       "Origin_Type                            egp\n",
       "Originator_Id                192.168.255.2\n",
       "Cluster_List                          None\n",
       "Tag                                   None\n",
       "Name: 0, dtype: object"
      ]
     },
     "execution_count": 1,
     "metadata": {},
     "output_type": "execute_result"
    }
   ],
   "source": [
    "result.iloc[0]"
   ]
  },
  {
   "cell_type": "code",
   "execution_count": 19,
   "metadata": {
    "nbsphinx": "hidden"
   },
   "outputs": [
    {
     "data": {
      "text/plain": [
       "'generate_questions'"
      ]
     },
     "execution_count": 1,
     "metadata": {},
     "output_type": "execute_result"
    }
   ],
   "source": [
    "bf_set_network('generate_questions')"
   ]
  },
  {
   "cell_type": "code",
   "execution_count": 20,
   "metadata": {
    "nbsphinx": "hidden"
   },
   "outputs": [
    {
     "data": {
      "text/plain": [
       "'generate_questions'"
      ]
     },
     "execution_count": 1,
     "metadata": {},
     "output_type": "execute_result"
    }
   ],
   "source": [
    "bf_set_snapshot('generate_questions')"
   ]
  },
  {
   "cell_type": "markdown",
   "metadata": {},
   "source": [
    "##### Longest Prefix Match"
   ]
  },
  {
   "cell_type": "markdown",
   "metadata": {},
   "source": [
    "Returns routes that are longest prefix match for a given IP address."
   ]
  },
  {
   "cell_type": "markdown",
   "metadata": {},
   "source": [
    "Return longest prefix match routes for a given IP in the RIBs of specified nodes and VRFs."
   ]
  },
  {
   "cell_type": "markdown",
   "metadata": {},
   "source": [
    "###### Inputs"
   ]
  },
  {
   "cell_type": "markdown",
   "metadata": {},
   "source": [
    "Name | Description | Type | Optional | Default Value\n",
    "--- | --- | --- | --- | --- \n",
    "ip | IP address to run LPM on. | str | False | \n",
    "nodes | Examine routes on nodes matching this specifier. | [NodeSpec](../specifiers.md#node-specifier) | True | .*\n",
    "vrfs | Examine routes on VRFs matching this name or regex. | str | True | .*"
   ]
  },
  {
   "cell_type": "markdown",
   "metadata": {},
   "source": [
    "###### Invocation"
   ]
  },
  {
   "cell_type": "code",
   "execution_count": 21,
   "metadata": {},
   "outputs": [],
   "source": [
    "result = bfq.lpmRoutes(ip='2.34.201.10').answer().frame()"
   ]
  },
  {
   "cell_type": "markdown",
   "metadata": {},
   "source": [
    "###### Return Value"
   ]
  },
  {
   "cell_type": "markdown",
   "metadata": {},
   "source": [
    "Name | Description | Type\n",
    "--- | --- | ---\n",
    "Node | Node where the route is present | str\n",
    "VRF | VRF where the route is present | str\n",
    "Ip | IP that was being matched on | str\n",
    "Network | The longest-prefix network that matched | str\n",
    "Num_Routes | Number of routes that matched (in case of ECMP) | int"
   ]
  },
  {
   "cell_type": "markdown",
   "metadata": {},
   "source": [
    "Print the first 5 rows of the returned Dataframe"
   ]
  },
  {
   "cell_type": "code",
   "execution_count": 22,
   "metadata": {},
   "outputs": [
    {
     "data": {
      "text/html": [
       "<div>\n",
       "<style scoped>\n",
       "    .dataframe tbody tr th:only-of-type {\n",
       "        vertical-align: middle;\n",
       "    }\n",
       "\n",
       "    .dataframe tbody tr th {\n",
       "        vertical-align: top;\n",
       "    }\n",
       "\n",
       "    .dataframe thead th {\n",
       "        text-align: right;\n",
       "    }\n",
       "</style>\n",
       "<table border=\"1\" class=\"dataframe\">\n",
       "  <thead>\n",
       "    <tr style=\"text-align: right;\">\n",
       "      <th></th>\n",
       "      <th>Node</th>\n",
       "      <th>VRF</th>\n",
       "      <th>Ip</th>\n",
       "      <th>Network</th>\n",
       "      <th>Num_Routes</th>\n",
       "    </tr>\n",
       "  </thead>\n",
       "  <tbody>\n",
       "    <tr>\n",
       "      <th>0</th>\n",
       "      <td>as2border1</td>\n",
       "      <td>default</td>\n",
       "      <td>2.34.201.10</td>\n",
       "      <td>2.34.201.0/24</td>\n",
       "      <td>2</td>\n",
       "    </tr>\n",
       "    <tr>\n",
       "      <th>1</th>\n",
       "      <td>as2border2</td>\n",
       "      <td>default</td>\n",
       "      <td>2.34.201.10</td>\n",
       "      <td>2.34.201.0/24</td>\n",
       "      <td>2</td>\n",
       "    </tr>\n",
       "    <tr>\n",
       "      <th>2</th>\n",
       "      <td>as2core1</td>\n",
       "      <td>default</td>\n",
       "      <td>2.34.201.10</td>\n",
       "      <td>2.34.201.0/24</td>\n",
       "      <td>1</td>\n",
       "    </tr>\n",
       "    <tr>\n",
       "      <th>3</th>\n",
       "      <td>as2core2</td>\n",
       "      <td>default</td>\n",
       "      <td>2.34.201.10</td>\n",
       "      <td>2.34.201.0/24</td>\n",
       "      <td>1</td>\n",
       "    </tr>\n",
       "    <tr>\n",
       "      <th>4</th>\n",
       "      <td>as2dept1</td>\n",
       "      <td>default</td>\n",
       "      <td>2.34.201.10</td>\n",
       "      <td>2.34.201.0/24</td>\n",
       "      <td>1</td>\n",
       "    </tr>\n",
       "  </tbody>\n",
       "</table>\n",
       "</div>"
      ],
      "text/plain": [
       "         Node      VRF           Ip        Network Num_Routes\n",
       "0  as2border1  default  2.34.201.10  2.34.201.0/24          2\n",
       "1  as2border2  default  2.34.201.10  2.34.201.0/24          2\n",
       "2    as2core1  default  2.34.201.10  2.34.201.0/24          1\n",
       "3    as2core2  default  2.34.201.10  2.34.201.0/24          1\n",
       "4    as2dept1  default  2.34.201.10  2.34.201.0/24          1"
      ]
     },
     "execution_count": 1,
     "metadata": {},
     "output_type": "execute_result"
    }
   ],
   "source": [
    "result.head(5)"
   ]
  },
  {
   "cell_type": "markdown",
   "metadata": {},
   "source": [
    "Print the first row of the returned Dataframe"
   ]
  },
  {
   "cell_type": "code",
   "execution_count": 23,
   "metadata": {},
   "outputs": [
    {
     "data": {
      "text/plain": [
       "Node             as2border1\n",
       "VRF                 default\n",
       "Ip              2.34.201.10\n",
       "Network       2.34.201.0/24\n",
       "Num_Routes                2\n",
       "Name: 0, dtype: object"
      ]
     },
     "execution_count": 1,
     "metadata": {},
     "output_type": "execute_result"
    }
   ],
   "source": [
    "result.iloc[0]"
   ]
  }
 ],
 "metadata": {
  "celltoolbar": "Edit Metadata",
  "hide_input": false,
  "kernelspec": {
   "display_name": "Python 3",
   "language": "python",
   "name": "python3"
  },
  "language_info": {
   "codemirror_mode": {
    "name": "ipython",
    "version": 3
   },
   "file_extension": ".py",
   "mimetype": "text/x-python",
   "name": "python",
   "nbconvert_exporter": "python",
   "pygments_lexer": "ipython3",
   "version": "3.7.7"
  },
  "pycharm": {
   "stem_cell": {
    "cell_type": "raw",
    "metadata": {
     "collapsed": false
    },
    "source": []
   }
  }
 },
 "nbformat": 4,
 "nbformat_minor": 2
}
