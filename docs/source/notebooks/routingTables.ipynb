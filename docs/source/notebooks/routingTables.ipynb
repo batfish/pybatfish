{
 "cells": [
  {
   "cell_type": "code",
   "execution_count": 1,
   "metadata": {
    "nbsphinx": "hidden"
   },
   "outputs": [],
   "source": [
    "import pandas as pd\n",
    "from pybatfish.client.session import Session\n",
    "from pybatfish.datamodel import *\n",
    "\n",
    "pd.set_option(\"display.width\", 300) \n",
    "pd.set_option(\"display.max_columns\", 20) \n",
    "pd.set_option(\"display.max_rows\", 1000) \n",
    "pd.set_option(\"display.max_colwidth\", None)\n",
    "\n",
    "# Configure all pybatfish loggers to use WARN level\n",
    "import logging\n",
    "logging.getLogger('pybatfish').setLevel(logging.WARN)"
   ]
  },
  {
   "cell_type": "code",
   "execution_count": 2,
   "metadata": {
    "nbsphinx": "hidden"
   },
   "outputs": [],
   "source": [
    "bf = Session(\"localhost\")\n",
    "\n"
   ]
  },
  {
   "cell_type": "markdown",
   "id": "f4bf2fba",
   "metadata": {},
   "source": [
    "#### Routing and Forwarding Tables"
   ]
  },
  {
   "cell_type": "markdown",
   "id": "df13f45b",
   "metadata": {},
   "source": [
    "* [Routes](#Routes)\n",
    "* [BGP RIB](#BGP-RIB)\n",
    "* [EVPN RIB](#EVPN-RIB)\n",
    "* [Longest Prefix Match](#Longest-Prefix-Match)"
   ]
  },
  {
   "cell_type": "code",
   "execution_count": 3,
   "id": "9cb3b0f6",
   "metadata": {
    "nbsphinx": "hidden"
   },
   "outputs": [
    {
     "data": {
      "text/plain": [
       "'generate_questions'"
      ]
     },
     "execution_count": 3,
     "metadata": {},
     "output_type": "execute_result"
    }
   ],
   "source": [
    "bf.set_network('generate_questions')"
   ]
  },
  {
   "cell_type": "code",
   "execution_count": 4,
   "id": "7a34373f",
   "metadata": {
    "nbsphinx": "hidden"
   },
   "outputs": [
    {
     "data": {
      "text/plain": [
       "'generate_questions'"
      ]
     },
     "execution_count": 4,
     "metadata": {},
     "output_type": "execute_result"
    }
   ],
   "source": [
    "bf.set_snapshot('generate_questions')"
   ]
  },
  {
   "cell_type": "markdown",
   "id": "7595db7f",
   "metadata": {},
   "source": [
    "##### Routes"
   ]
  },
  {
   "cell_type": "markdown",
   "id": "b8667b0e",
   "metadata": {},
   "source": [
    "Returns routing tables."
   ]
  },
  {
   "cell_type": "markdown",
   "id": "8aae3171",
   "metadata": {},
   "source": [
    "Shows routes for specified RIB, VRF, and node(s)."
   ]
  },
  {
   "cell_type": "markdown",
   "id": "d40a6e1a",
   "metadata": {},
   "source": [
    "###### Inputs"
   ]
  },
  {
   "cell_type": "markdown",
   "id": "ada3d7c4",
   "metadata": {},
   "source": [
    "Name | Description | Type | Optional | Default Value\n",
    "--- | --- | --- | --- | --- \n",
    "nodes | Examine routes on nodes matching this specifier. | [NodeSpec](../specifiers.md#node-specifier) | True | \n",
    "network | Examine routes for networks matching this prefix. | str | True | \n",
    "protocols | Examine routes for protocols matching this specifier. | [RoutingProtocolSpec](../specifiers.md#routing-protocol-specifier) | True | \n",
    "vrfs | Examine routes on VRFs matching this name or regex. | str | True | \n",
    "rib | Only return routes from a given protocol RIB. | str | True | "
   ]
  },
  {
   "cell_type": "markdown",
   "id": "a9fa2c16",
   "metadata": {},
   "source": [
    "###### Invocation"
   ]
  },
  {
   "cell_type": "code",
   "execution_count": 5,
   "id": "c0fe908b",
   "metadata": {},
   "outputs": [],
   "source": [
    "result = bf.q.routes().answer().frame()"
   ]
  },
  {
   "cell_type": "markdown",
   "id": "98516940",
   "metadata": {},
   "source": [
    "###### Return Value"
   ]
  },
  {
   "cell_type": "markdown",
   "id": "5832d6a3",
   "metadata": {},
   "source": [
    "Name | Description | Type\n",
    "--- | --- | ---\n",
    "Node | Node | str\n",
    "VRF | VRF name | str\n",
    "Network | Network for this route | str\n",
    "Next_Hop | Inferred hostname of the next hop | str\n",
    "Next_Hop_IP | Route's Next Hop IP | str\n",
    "Next_Hop_Interface | Route's Next Hop Interface | str\n",
    "Protocol | Route's Protocol | str\n",
    "Metric | Route's Metric | int\n",
    "Admin_Distance | Route's Admin distance | int\n",
    "Tag | Tag for this route | int"
   ]
  },
  {
   "cell_type": "markdown",
   "id": "70ac9725",
   "metadata": {},
   "source": [
    "Print the first 5 rows of the returned Dataframe"
   ]
  },
  {
   "cell_type": "code",
   "execution_count": 6,
   "id": "fae8ce3a",
   "metadata": {},
   "outputs": [
    {
     "data": {
      "text/html": [
       "<div>\n",
       "<style scoped>\n",
       "    .dataframe tbody tr th:only-of-type {\n",
       "        vertical-align: middle;\n",
       "    }\n",
       "\n",
       "    .dataframe tbody tr th {\n",
       "        vertical-align: top;\n",
       "    }\n",
       "\n",
       "    .dataframe thead th {\n",
       "        text-align: right;\n",
       "    }\n",
       "</style>\n",
       "<table border=\"1\" class=\"dataframe\">\n",
       "  <thead>\n",
       "    <tr style=\"text-align: right;\">\n",
       "      <th></th>\n",
       "      <th>Node</th>\n",
       "      <th>VRF</th>\n",
       "      <th>Network</th>\n",
       "      <th>Next_Hop</th>\n",
       "      <th>Next_Hop_IP</th>\n",
       "      <th>Next_Hop_Interface</th>\n",
       "      <th>Protocol</th>\n",
       "      <th>Metric</th>\n",
       "      <th>Admin_Distance</th>\n",
       "      <th>Tag</th>\n",
       "    </tr>\n",
       "  </thead>\n",
       "  <tbody>\n",
       "    <tr>\n",
       "      <th>0</th>\n",
       "      <td>as1border1</td>\n",
       "      <td>default</td>\n",
       "      <td>1.0.1.1/32</td>\n",
       "      <td>None</td>\n",
       "      <td>AUTO/NONE(-1l)</td>\n",
       "      <td>GigabitEthernet0/0</td>\n",
       "      <td>local</td>\n",
       "      <td>0</td>\n",
       "      <td>0</td>\n",
       "      <td>None</td>\n",
       "    </tr>\n",
       "    <tr>\n",
       "      <th>1</th>\n",
       "      <td>as2border1</td>\n",
       "      <td>default</td>\n",
       "      <td>2.23.11.0/24</td>\n",
       "      <td>as2core1</td>\n",
       "      <td>2.12.11.2</td>\n",
       "      <td>GigabitEthernet1/0</td>\n",
       "      <td>ospf</td>\n",
       "      <td>2</td>\n",
       "      <td>110</td>\n",
       "      <td>None</td>\n",
       "    </tr>\n",
       "    <tr>\n",
       "      <th>2</th>\n",
       "      <td>as2dist2</td>\n",
       "      <td>default</td>\n",
       "      <td>2.1.3.1/32</td>\n",
       "      <td>as2core1</td>\n",
       "      <td>2.23.12.2</td>\n",
       "      <td>GigabitEthernet1/0</td>\n",
       "      <td>ospf</td>\n",
       "      <td>3</td>\n",
       "      <td>110</td>\n",
       "      <td>None</td>\n",
       "    </tr>\n",
       "    <tr>\n",
       "      <th>3</th>\n",
       "      <td>as2core1</td>\n",
       "      <td>default</td>\n",
       "      <td>2.12.21.0/24</td>\n",
       "      <td>None</td>\n",
       "      <td>AUTO/NONE(-1l)</td>\n",
       "      <td>GigabitEthernet1/0</td>\n",
       "      <td>connected</td>\n",
       "      <td>0</td>\n",
       "      <td>0</td>\n",
       "      <td>None</td>\n",
       "    </tr>\n",
       "    <tr>\n",
       "      <th>4</th>\n",
       "      <td>as2dist2</td>\n",
       "      <td>default</td>\n",
       "      <td>2.12.22.0/24</td>\n",
       "      <td>as2core2</td>\n",
       "      <td>2.23.22.2</td>\n",
       "      <td>GigabitEthernet0/0</td>\n",
       "      <td>ospf</td>\n",
       "      <td>2</td>\n",
       "      <td>110</td>\n",
       "      <td>None</td>\n",
       "    </tr>\n",
       "  </tbody>\n",
       "</table>\n",
       "</div>"
      ],
      "text/plain": [
       "         Node      VRF       Network  Next_Hop     Next_Hop_IP  Next_Hop_Interface   Protocol Metric Admin_Distance   Tag\n",
       "0  as1border1  default    1.0.1.1/32      None  AUTO/NONE(-1l)  GigabitEthernet0/0      local      0              0  None\n",
       "1  as2border1  default  2.23.11.0/24  as2core1       2.12.11.2  GigabitEthernet1/0       ospf      2            110  None\n",
       "2    as2dist2  default    2.1.3.1/32  as2core1       2.23.12.2  GigabitEthernet1/0       ospf      3            110  None\n",
       "3    as2core1  default  2.12.21.0/24      None  AUTO/NONE(-1l)  GigabitEthernet1/0  connected      0              0  None\n",
       "4    as2dist2  default  2.12.22.0/24  as2core2       2.23.22.2  GigabitEthernet0/0       ospf      2            110  None"
      ]
     },
     "execution_count": 6,
     "metadata": {},
     "output_type": "execute_result"
    }
   ],
   "source": [
    "result.head(5)"
   ]
  },
  {
   "cell_type": "markdown",
   "id": "db7aca7b",
   "metadata": {},
   "source": [
    "Print the first row of the returned Dataframe"
   ]
  },
  {
   "cell_type": "code",
   "execution_count": 7,
   "id": "b8ddba1a",
   "metadata": {},
   "outputs": [
    {
     "data": {
      "text/plain": [
       "Node                          as1border1\n",
       "VRF                              default\n",
       "Network                       1.0.1.1/32\n",
       "Next_Hop                            None\n",
       "Next_Hop_IP               AUTO/NONE(-1l)\n",
       "Next_Hop_Interface    GigabitEthernet0/0\n",
       "Protocol                           local\n",
       "Metric                                 0\n",
       "Admin_Distance                         0\n",
       "Tag                                 None\n",
       "Name: 0, dtype: object"
      ]
     },
     "execution_count": 7,
     "metadata": {},
     "output_type": "execute_result"
    }
   ],
   "source": [
    "result.iloc[0]"
   ]
  },
  {
   "cell_type": "code",
   "execution_count": 8,
   "id": "5a0ad37e",
   "metadata": {
    "nbsphinx": "hidden"
   },
   "outputs": [
    {
     "data": {
      "text/plain": [
       "'generate_questions'"
      ]
     },
     "execution_count": 8,
     "metadata": {},
     "output_type": "execute_result"
    }
   ],
   "source": [
    "bf.set_network('generate_questions')"
   ]
  },
  {
   "cell_type": "code",
   "execution_count": 9,
   "id": "a727cd6c",
   "metadata": {
    "nbsphinx": "hidden"
   },
   "outputs": [
    {
     "data": {
      "text/plain": [
       "'generate_questions'"
      ]
     },
     "execution_count": 9,
     "metadata": {},
     "output_type": "execute_result"
    }
   ],
   "source": [
    "bf.set_snapshot('generate_questions')"
   ]
  },
  {
   "cell_type": "markdown",
   "id": "cb478bfa",
   "metadata": {},
   "source": [
    "##### BGP RIB"
   ]
  },
  {
   "cell_type": "markdown",
   "id": "6f1fa1e0",
   "metadata": {},
   "source": [
    "Returns routes in the BGP RIB."
   ]
  },
  {
   "cell_type": "markdown",
   "id": "7ffb5142",
   "metadata": {},
   "source": [
    "Shows BGP routes for specified VRF and node(s). This question is not available in Batfish containers on dockerhub prior to March 29, 2021."
   ]
  },
  {
   "cell_type": "markdown",
   "id": "94c76b0d",
   "metadata": {},
   "source": [
    "###### Inputs"
   ]
  },
  {
   "cell_type": "markdown",
   "id": "10e2ebec",
   "metadata": {},
   "source": [
    "Name | Description | Type | Optional | Default Value\n",
    "--- | --- | --- | --- | --- \n",
    "nodes | Examine routes on nodes matching this specifier. | [NodeSpec](../specifiers.md#node-specifier) | True | \n",
    "network | Examine routes for networks matching this prefix. | str | True | \n",
    "vrfs | Examine routes on VRFs matching this name or regex. | str | True | \n",
    "status | Examine routes whose status matches this specifier. | [BgpRouteStatusSpec](../specifiers.md#bgp-route-status-specifier) | True | "
   ]
  },
  {
   "cell_type": "markdown",
   "id": "f34ef572",
   "metadata": {},
   "source": [
    "###### Invocation"
   ]
  },
  {
   "cell_type": "code",
   "execution_count": 10,
   "id": "b568681e",
   "metadata": {},
   "outputs": [],
   "source": [
    "result = bf.q.bgpRib().answer().frame()"
   ]
  },
  {
   "cell_type": "markdown",
   "id": "686aceac",
   "metadata": {},
   "source": [
    "###### Return Value"
   ]
  },
  {
   "cell_type": "markdown",
   "id": "af31d10a",
   "metadata": {},
   "source": [
    "Name | Description | Type\n",
    "--- | --- | ---\n",
    "Node | Node | str\n",
    "VRF | VRF name | str\n",
    "Network | Network for this route | str\n",
    "Status | Route's statuses | List of str\n",
    "Next_Hop_IP | Route's Next Hop IP | str\n",
    "Next_Hop_Interface | Route's Next Hop Interface | str\n",
    "Protocol | Route's Protocol | str\n",
    "AS_Path | Route's AS path | str\n",
    "Metric | Route's Metric | int\n",
    "Local_Pref | Route's Local Preference | int\n",
    "Communities | Route's List of communities | List of str\n",
    "Origin_Protocol | Route's Origin protocol | str\n",
    "Origin_Type | Route's Origin type | str\n",
    "Originator_Id | Route's Originator ID | str\n",
    "Cluster_List | Route's Cluster List | List of int\n",
    "Weight | Route's BGP Weight | int\n",
    "Tag | Tag for this route | int"
   ]
  },
  {
   "cell_type": "markdown",
   "id": "c02af349",
   "metadata": {},
   "source": [
    "Print the first 5 rows of the returned Dataframe"
   ]
  },
  {
   "cell_type": "code",
   "execution_count": 11,
   "id": "06b5effd",
   "metadata": {},
   "outputs": [
    {
     "data": {
      "text/html": [
       "<div>\n",
       "<style scoped>\n",
       "    .dataframe tbody tr th:only-of-type {\n",
       "        vertical-align: middle;\n",
       "    }\n",
       "\n",
       "    .dataframe tbody tr th {\n",
       "        vertical-align: top;\n",
       "    }\n",
       "\n",
       "    .dataframe thead th {\n",
       "        text-align: right;\n",
       "    }\n",
       "</style>\n",
       "<table border=\"1\" class=\"dataframe\">\n",
       "  <thead>\n",
       "    <tr style=\"text-align: right;\">\n",
       "      <th></th>\n",
       "      <th>Node</th>\n",
       "      <th>VRF</th>\n",
       "      <th>Network</th>\n",
       "      <th>Status</th>\n",
       "      <th>Next_Hop_IP</th>\n",
       "      <th>Next_Hop_Interface</th>\n",
       "      <th>Protocol</th>\n",
       "      <th>AS_Path</th>\n",
       "      <th>Metric</th>\n",
       "      <th>Local_Pref</th>\n",
       "      <th>Communities</th>\n",
       "      <th>Origin_Protocol</th>\n",
       "      <th>Origin_Type</th>\n",
       "      <th>Originator_Id</th>\n",
       "      <th>Cluster_List</th>\n",
       "      <th>Weight</th>\n",
       "      <th>Tag</th>\n",
       "    </tr>\n",
       "  </thead>\n",
       "  <tbody>\n",
       "    <tr>\n",
       "      <th>0</th>\n",
       "      <td>as2dept1</td>\n",
       "      <td>default</td>\n",
       "      <td>1.0.2.0/24</td>\n",
       "      <td>['BEST']</td>\n",
       "      <td>2.34.101.3</td>\n",
       "      <td>dynamic</td>\n",
       "      <td>bgp</td>\n",
       "      <td>2 1</td>\n",
       "      <td>50</td>\n",
       "      <td>350</td>\n",
       "      <td>['1:2', '2:65001']</td>\n",
       "      <td>bgp</td>\n",
       "      <td>igp</td>\n",
       "      <td>2.1.3.1</td>\n",
       "      <td>None</td>\n",
       "      <td>0</td>\n",
       "      <td>None</td>\n",
       "    </tr>\n",
       "    <tr>\n",
       "      <th>1</th>\n",
       "      <td>as3core1</td>\n",
       "      <td>default</td>\n",
       "      <td>1.0.2.0/24</td>\n",
       "      <td>['BEST']</td>\n",
       "      <td>10.13.22.1</td>\n",
       "      <td>dynamic</td>\n",
       "      <td>ibgp</td>\n",
       "      <td>1</td>\n",
       "      <td>50</td>\n",
       "      <td>350</td>\n",
       "      <td>['1:3']</td>\n",
       "      <td>ibgp</td>\n",
       "      <td>igp</td>\n",
       "      <td>3.2.2.2</td>\n",
       "      <td>None</td>\n",
       "      <td>0</td>\n",
       "      <td>None</td>\n",
       "    </tr>\n",
       "    <tr>\n",
       "      <th>2</th>\n",
       "      <td>as2dist1</td>\n",
       "      <td>default</td>\n",
       "      <td>2.128.0.0/24</td>\n",
       "      <td>['BEST']</td>\n",
       "      <td>2.34.101.4</td>\n",
       "      <td>dynamic</td>\n",
       "      <td>bgp</td>\n",
       "      <td>65001</td>\n",
       "      <td>50</td>\n",
       "      <td>350</td>\n",
       "      <td>['65001:2']</td>\n",
       "      <td>bgp</td>\n",
       "      <td>igp</td>\n",
       "      <td>2.1.4.1</td>\n",
       "      <td>None</td>\n",
       "      <td>0</td>\n",
       "      <td>None</td>\n",
       "    </tr>\n",
       "    <tr>\n",
       "      <th>3</th>\n",
       "      <td>as2dept1</td>\n",
       "      <td>default</td>\n",
       "      <td>3.0.2.0/24</td>\n",
       "      <td>['BEST']</td>\n",
       "      <td>2.34.201.3</td>\n",
       "      <td>dynamic</td>\n",
       "      <td>bgp</td>\n",
       "      <td>2 3</td>\n",
       "      <td>50</td>\n",
       "      <td>350</td>\n",
       "      <td>['3:2', '2:65001']</td>\n",
       "      <td>bgp</td>\n",
       "      <td>igp</td>\n",
       "      <td>2.1.3.2</td>\n",
       "      <td>None</td>\n",
       "      <td>0</td>\n",
       "      <td>None</td>\n",
       "    </tr>\n",
       "    <tr>\n",
       "      <th>4</th>\n",
       "      <td>as3border2</td>\n",
       "      <td>default</td>\n",
       "      <td>2.128.0.0/16</td>\n",
       "      <td>['BEST']</td>\n",
       "      <td>10.23.21.2</td>\n",
       "      <td>dynamic</td>\n",
       "      <td>ibgp</td>\n",
       "      <td>2</td>\n",
       "      <td>50</td>\n",
       "      <td>350</td>\n",
       "      <td>['2:3']</td>\n",
       "      <td>ibgp</td>\n",
       "      <td>igp</td>\n",
       "      <td>3.1.1.1</td>\n",
       "      <td>[50987265]</td>\n",
       "      <td>0</td>\n",
       "      <td>None</td>\n",
       "    </tr>\n",
       "  </tbody>\n",
       "</table>\n",
       "</div>"
      ],
      "text/plain": [
       "         Node      VRF       Network    Status Next_Hop_IP Next_Hop_Interface Protocol AS_Path Metric Local_Pref         Communities Origin_Protocol Origin_Type Originator_Id Cluster_List Weight   Tag\n",
       "0    as2dept1  default    1.0.2.0/24  ['BEST']  2.34.101.3            dynamic      bgp     2 1     50        350  ['1:2', '2:65001']             bgp         igp       2.1.3.1         None      0  None\n",
       "1    as3core1  default    1.0.2.0/24  ['BEST']  10.13.22.1            dynamic     ibgp       1     50        350             ['1:3']            ibgp         igp       3.2.2.2         None      0  None\n",
       "2    as2dist1  default  2.128.0.0/24  ['BEST']  2.34.101.4            dynamic      bgp   65001     50        350         ['65001:2']             bgp         igp       2.1.4.1         None      0  None\n",
       "3    as2dept1  default    3.0.2.0/24  ['BEST']  2.34.201.3            dynamic      bgp     2 3     50        350  ['3:2', '2:65001']             bgp         igp       2.1.3.2         None      0  None\n",
       "4  as3border2  default  2.128.0.0/16  ['BEST']  10.23.21.2            dynamic     ibgp       2     50        350             ['2:3']            ibgp         igp       3.1.1.1   [50987265]      0  None"
      ]
     },
     "execution_count": 11,
     "metadata": {},
     "output_type": "execute_result"
    }
   ],
   "source": [
    "result.head(5)"
   ]
  },
  {
   "cell_type": "markdown",
   "id": "8180548e",
   "metadata": {},
   "source": [
    "Print the first row of the returned Dataframe"
   ]
  },
  {
   "cell_type": "code",
   "execution_count": 12,
   "id": "4e689f32",
   "metadata": {},
   "outputs": [
    {
     "data": {
      "text/plain": [
       "Node                            as2dept1\n",
       "VRF                              default\n",
       "Network                       1.0.2.0/24\n",
       "Status                          ['BEST']\n",
       "Next_Hop_IP                   2.34.101.3\n",
       "Next_Hop_Interface               dynamic\n",
       "Protocol                             bgp\n",
       "AS_Path                              2 1\n",
       "Metric                                50\n",
       "Local_Pref                           350\n",
       "Communities           ['1:2', '2:65001']\n",
       "Origin_Protocol                      bgp\n",
       "Origin_Type                          igp\n",
       "Originator_Id                    2.1.3.1\n",
       "Cluster_List                        None\n",
       "Weight                                 0\n",
       "Tag                                 None\n",
       "Name: 0, dtype: object"
      ]
     },
     "execution_count": 12,
     "metadata": {},
     "output_type": "execute_result"
    }
   ],
   "source": [
    "result.iloc[0]"
   ]
  },
  {
   "cell_type": "code",
   "execution_count": 13,
   "id": "c4df4290",
   "metadata": {
    "nbsphinx": "hidden"
   },
   "outputs": [
    {
     "data": {
      "text/plain": [
       "'generate_questions'"
      ]
     },
     "execution_count": 13,
     "metadata": {},
     "output_type": "execute_result"
    }
   ],
   "source": [
    "bf.set_network('generate_questions')"
   ]
  },
  {
   "cell_type": "code",
   "execution_count": 14,
   "id": "92fb9d71",
   "metadata": {
    "nbsphinx": "hidden"
   },
   "outputs": [
    {
     "data": {
      "text/plain": [
       "'aristaevpn'"
      ]
     },
     "execution_count": 14,
     "metadata": {},
     "output_type": "execute_result"
    }
   ],
   "source": [
    "bf.set_snapshot('aristaevpn')"
   ]
  },
  {
   "cell_type": "markdown",
   "id": "1b1b2970",
   "metadata": {},
   "source": [
    "##### EVPN RIB"
   ]
  },
  {
   "cell_type": "markdown",
   "id": "40d434be",
   "metadata": {},
   "source": [
    "Returns routes in the EVPN RIB."
   ]
  },
  {
   "cell_type": "markdown",
   "id": "ea81d2ba",
   "metadata": {},
   "source": [
    "Shows EVPN routes for specified VRF and node(s). This question is not available in Batfish containers on dockerhub prior to March 29, 2021."
   ]
  },
  {
   "cell_type": "markdown",
   "id": "d781c1da",
   "metadata": {},
   "source": [
    "###### Inputs"
   ]
  },
  {
   "cell_type": "markdown",
   "id": "bfa72a6b",
   "metadata": {},
   "source": [
    "Name | Description | Type | Optional | Default Value\n",
    "--- | --- | --- | --- | --- \n",
    "nodes | Examine routes on nodes matching this specifier. | [NodeSpec](../specifiers.md#node-specifier) | True | \n",
    "network | Examine routes for networks matching this prefix. | str | True | \n",
    "vrfs | Examine routes on VRFs matching this name or regex. | str | True | "
   ]
  },
  {
   "cell_type": "markdown",
   "id": "afcb52f4",
   "metadata": {},
   "source": [
    "###### Invocation"
   ]
  },
  {
   "cell_type": "code",
   "execution_count": 15,
   "id": "2a5b8cd9",
   "metadata": {},
   "outputs": [],
   "source": [
    "result = bf.q.evpnRib().answer().frame()"
   ]
  },
  {
   "cell_type": "markdown",
   "id": "f79c3308",
   "metadata": {},
   "source": [
    "###### Return Value"
   ]
  },
  {
   "cell_type": "markdown",
   "id": "f74438a2",
   "metadata": {},
   "source": [
    "Name | Description | Type\n",
    "--- | --- | ---\n",
    "Node | Node | str\n",
    "VRF | VRF name | str\n",
    "Network | Network for this route | str\n",
    "Status | Route's statuses | List of str\n",
    "Route_Distinguisher | Route distinguisher | str\n",
    "Next_Hop_IP | Route's Next Hop IP | str\n",
    "Next_Hop_Interface | Route's Next Hop Interface | str\n",
    "Protocol | Route's Protocol | str\n",
    "AS_Path | Route's AS path | str\n",
    "Metric | Route's Metric | int\n",
    "Local_Pref | Route's Local Preference | int\n",
    "Communities | Route's List of communities | List of str\n",
    "Origin_Protocol | Route's Origin protocol | str\n",
    "Origin_Type | Route's Origin type | str\n",
    "Originator_Id | Route's Originator ID | str\n",
    "Cluster_List | Route's Cluster List | List of int\n",
    "Weight | Route's BGP Weight | int\n",
    "Tag | Tag for this route | int"
   ]
  },
  {
   "cell_type": "markdown",
   "id": "fb82273c",
   "metadata": {},
   "source": [
    "Print the first 5 rows of the returned Dataframe"
   ]
  },
  {
   "cell_type": "code",
   "execution_count": 16,
   "id": "92e38329",
   "metadata": {},
   "outputs": [
    {
     "data": {
      "text/html": [
       "<div>\n",
       "<style scoped>\n",
       "    .dataframe tbody tr th:only-of-type {\n",
       "        vertical-align: middle;\n",
       "    }\n",
       "\n",
       "    .dataframe tbody tr th {\n",
       "        vertical-align: top;\n",
       "    }\n",
       "\n",
       "    .dataframe thead th {\n",
       "        text-align: right;\n",
       "    }\n",
       "</style>\n",
       "<table border=\"1\" class=\"dataframe\">\n",
       "  <thead>\n",
       "    <tr style=\"text-align: right;\">\n",
       "      <th></th>\n",
       "      <th>Node</th>\n",
       "      <th>VRF</th>\n",
       "      <th>Network</th>\n",
       "      <th>Status</th>\n",
       "      <th>Route_Distinguisher</th>\n",
       "      <th>Next_Hop_IP</th>\n",
       "      <th>Next_Hop_Interface</th>\n",
       "      <th>Protocol</th>\n",
       "      <th>AS_Path</th>\n",
       "      <th>Metric</th>\n",
       "      <th>Local_Pref</th>\n",
       "      <th>Communities</th>\n",
       "      <th>Origin_Protocol</th>\n",
       "      <th>Origin_Type</th>\n",
       "      <th>Originator_Id</th>\n",
       "      <th>Cluster_List</th>\n",
       "      <th>Weight</th>\n",
       "      <th>Tag</th>\n",
       "    </tr>\n",
       "  </thead>\n",
       "  <tbody>\n",
       "    <tr>\n",
       "      <th>0</th>\n",
       "      <td>dc1-svc3b</td>\n",
       "      <td>Tenant_A_WEB_Zone</td>\n",
       "      <td>192.168.254.6/32</td>\n",
       "      <td>['BEST']</td>\n",
       "      <td>192.168.255.7:15002</td>\n",
       "      <td>AUTO/NONE(-1l)</td>\n",
       "      <td>null_interface</td>\n",
       "      <td>bgp</td>\n",
       "      <td></td>\n",
       "      <td>0</td>\n",
       "      <td>100</td>\n",
       "      <td>['2:15002:15002']</td>\n",
       "      <td>None</td>\n",
       "      <td>egp</td>\n",
       "      <td>192.168.255.7</td>\n",
       "      <td>None</td>\n",
       "      <td>0</td>\n",
       "      <td>None</td>\n",
       "    </tr>\n",
       "    <tr>\n",
       "      <th>1</th>\n",
       "      <td>dc1-leaf2a</td>\n",
       "      <td>Tenant_A_DB_Zone</td>\n",
       "      <td>192.168.254.6/32</td>\n",
       "      <td>['BEST']</td>\n",
       "      <td>192.168.255.6:15004</td>\n",
       "      <td>192.168.255.6</td>\n",
       "      <td>dynamic</td>\n",
       "      <td>bgp</td>\n",
       "      <td>65001 65103</td>\n",
       "      <td>0</td>\n",
       "      <td>100</td>\n",
       "      <td>['2:15004:15004']</td>\n",
       "      <td>bgp</td>\n",
       "      <td>egp</td>\n",
       "      <td>192.168.255.2</td>\n",
       "      <td>None</td>\n",
       "      <td>0</td>\n",
       "      <td>None</td>\n",
       "    </tr>\n",
       "    <tr>\n",
       "      <th>2</th>\n",
       "      <td>dc1-svc3b</td>\n",
       "      <td>Tenant_A_APP_Zone</td>\n",
       "      <td>192.168.254.4/32</td>\n",
       "      <td>['BEST']</td>\n",
       "      <td>192.168.255.5:15003</td>\n",
       "      <td>192.168.255.5</td>\n",
       "      <td>dynamic</td>\n",
       "      <td>bgp</td>\n",
       "      <td>65001 65102</td>\n",
       "      <td>0</td>\n",
       "      <td>100</td>\n",
       "      <td>['2:15003:15003']</td>\n",
       "      <td>bgp</td>\n",
       "      <td>egp</td>\n",
       "      <td>192.168.255.2</td>\n",
       "      <td>None</td>\n",
       "      <td>0</td>\n",
       "      <td>None</td>\n",
       "    </tr>\n",
       "    <tr>\n",
       "      <th>3</th>\n",
       "      <td>dc1-svc3b</td>\n",
       "      <td>Tenant_A_APP_Zone</td>\n",
       "      <td>192.168.254.4/32</td>\n",
       "      <td>['BEST']</td>\n",
       "      <td>192.168.255.5:15003</td>\n",
       "      <td>192.168.255.5</td>\n",
       "      <td>dynamic</td>\n",
       "      <td>bgp</td>\n",
       "      <td>65001 65102</td>\n",
       "      <td>0</td>\n",
       "      <td>100</td>\n",
       "      <td>['2:15003:15003']</td>\n",
       "      <td>bgp</td>\n",
       "      <td>egp</td>\n",
       "      <td>192.168.255.1</td>\n",
       "      <td>None</td>\n",
       "      <td>0</td>\n",
       "      <td>None</td>\n",
       "    </tr>\n",
       "    <tr>\n",
       "      <th>4</th>\n",
       "      <td>dc1-leaf1a</td>\n",
       "      <td>Tenant_B_OP_Zone</td>\n",
       "      <td>192.168.254.3/32</td>\n",
       "      <td>['BEST']</td>\n",
       "      <td>192.168.255.3:25020</td>\n",
       "      <td>AUTO/NONE(-1l)</td>\n",
       "      <td>null_interface</td>\n",
       "      <td>bgp</td>\n",
       "      <td></td>\n",
       "      <td>0</td>\n",
       "      <td>100</td>\n",
       "      <td>['2:25020:25020']</td>\n",
       "      <td>None</td>\n",
       "      <td>egp</td>\n",
       "      <td>192.168.255.3</td>\n",
       "      <td>None</td>\n",
       "      <td>0</td>\n",
       "      <td>None</td>\n",
       "    </tr>\n",
       "  </tbody>\n",
       "</table>\n",
       "</div>"
      ],
      "text/plain": [
       "         Node                VRF           Network    Status  Route_Distinguisher     Next_Hop_IP Next_Hop_Interface Protocol      AS_Path Metric Local_Pref        Communities Origin_Protocol Origin_Type  Originator_Id Cluster_List Weight   Tag\n",
       "0   dc1-svc3b  Tenant_A_WEB_Zone  192.168.254.6/32  ['BEST']  192.168.255.7:15002  AUTO/NONE(-1l)     null_interface      bgp                   0        100  ['2:15002:15002']            None         egp  192.168.255.7         None      0  None\n",
       "1  dc1-leaf2a   Tenant_A_DB_Zone  192.168.254.6/32  ['BEST']  192.168.255.6:15004   192.168.255.6            dynamic      bgp  65001 65103      0        100  ['2:15004:15004']             bgp         egp  192.168.255.2         None      0  None\n",
       "2   dc1-svc3b  Tenant_A_APP_Zone  192.168.254.4/32  ['BEST']  192.168.255.5:15003   192.168.255.5            dynamic      bgp  65001 65102      0        100  ['2:15003:15003']             bgp         egp  192.168.255.2         None      0  None\n",
       "3   dc1-svc3b  Tenant_A_APP_Zone  192.168.254.4/32  ['BEST']  192.168.255.5:15003   192.168.255.5            dynamic      bgp  65001 65102      0        100  ['2:15003:15003']             bgp         egp  192.168.255.1         None      0  None\n",
       "4  dc1-leaf1a   Tenant_B_OP_Zone  192.168.254.3/32  ['BEST']  192.168.255.3:25020  AUTO/NONE(-1l)     null_interface      bgp                   0        100  ['2:25020:25020']            None         egp  192.168.255.3         None      0  None"
      ]
     },
     "execution_count": 16,
     "metadata": {},
     "output_type": "execute_result"
    }
   ],
   "source": [
    "result.head(5)"
   ]
  },
  {
   "cell_type": "markdown",
   "id": "42aa6cf2",
   "metadata": {},
   "source": [
    "Print the first row of the returned Dataframe"
   ]
  },
  {
   "cell_type": "code",
   "execution_count": 17,
   "id": "e48063aa",
   "metadata": {},
   "outputs": [
    {
     "data": {
      "text/plain": [
       "Node                             dc1-svc3b\n",
       "VRF                      Tenant_A_WEB_Zone\n",
       "Network                   192.168.254.6/32\n",
       "Status                            ['BEST']\n",
       "Route_Distinguisher    192.168.255.7:15002\n",
       "Next_Hop_IP                 AUTO/NONE(-1l)\n",
       "Next_Hop_Interface          null_interface\n",
       "Protocol                               bgp\n",
       "AS_Path                                   \n",
       "Metric                                   0\n",
       "Local_Pref                             100\n",
       "Communities              ['2:15002:15002']\n",
       "Origin_Protocol                       None\n",
       "Origin_Type                            egp\n",
       "Originator_Id                192.168.255.7\n",
       "Cluster_List                          None\n",
       "Weight                                   0\n",
       "Tag                                   None\n",
       "Name: 0, dtype: object"
      ]
     },
     "execution_count": 17,
     "metadata": {},
     "output_type": "execute_result"
    }
   ],
   "source": [
    "result.iloc[0]"
   ]
  },
  {
   "cell_type": "code",
   "execution_count": 18,
   "id": "62e725d5",
   "metadata": {
    "nbsphinx": "hidden"
   },
   "outputs": [
    {
     "data": {
      "text/plain": [
       "'generate_questions'"
      ]
     },
     "execution_count": 18,
     "metadata": {},
     "output_type": "execute_result"
    }
   ],
   "source": [
    "bf.set_network('generate_questions')"
   ]
  },
  {
   "cell_type": "code",
   "execution_count": 19,
   "id": "75e477d7",
   "metadata": {
    "nbsphinx": "hidden"
   },
   "outputs": [
    {
     "data": {
      "text/plain": [
       "'generate_questions'"
      ]
     },
     "execution_count": 19,
     "metadata": {},
     "output_type": "execute_result"
    }
   ],
   "source": [
    "bf.set_snapshot('generate_questions')"
   ]
  },
  {
   "cell_type": "markdown",
   "id": "862a4e2c",
   "metadata": {},
   "source": [
    "##### Longest Prefix Match"
   ]
  },
  {
   "cell_type": "markdown",
   "id": "f3f359f3",
   "metadata": {},
   "source": [
    "Returns routes that are longest prefix match for a given IP address."
   ]
  },
  {
   "cell_type": "markdown",
   "id": "8b9bb588",
   "metadata": {},
   "source": [
    "Return longest prefix match routes for a given IP in the RIBs of specified nodes and VRFs."
   ]
  },
  {
   "cell_type": "markdown",
   "id": "efe4dd0d",
   "metadata": {},
   "source": [
    "###### Inputs"
   ]
  },
  {
   "cell_type": "markdown",
   "id": "bcb1e7d8",
   "metadata": {},
   "source": [
    "Name | Description | Type | Optional | Default Value\n",
    "--- | --- | --- | --- | --- \n",
    "ip | IP address to run LPM on. | str | False | \n",
    "nodes | Examine routes on nodes matching this specifier. | [NodeSpec](../specifiers.md#node-specifier) | True | .*\n",
    "vrfs | Examine routes on VRFs matching this name or regex. | str | True | .*"
   ]
  },
  {
   "cell_type": "markdown",
   "id": "bead1aec",
   "metadata": {},
   "source": [
    "###### Invocation"
   ]
  },
  {
   "cell_type": "code",
   "execution_count": 20,
   "id": "2afcc9af",
   "metadata": {},
   "outputs": [],
   "source": [
    "result = bf.q.lpmRoutes(ip='2.34.201.10').answer().frame()"
   ]
  },
  {
   "cell_type": "markdown",
   "id": "daeb59e2",
   "metadata": {},
   "source": [
    "###### Return Value"
   ]
  },
  {
   "cell_type": "markdown",
   "id": "b4763b59",
   "metadata": {},
   "source": [
    "Name | Description | Type\n",
    "--- | --- | ---\n",
    "Node | Node where the route is present | str\n",
    "VRF | VRF where the route is present | str\n",
    "Ip | IP that was being matched on | str\n",
    "Network | The longest-prefix network that matched | str\n",
    "Num_Routes | Number of routes that matched (in case of ECMP) | int"
   ]
  },
  {
   "cell_type": "markdown",
   "id": "ab92dc30",
   "metadata": {},
   "source": [
    "Print the first 5 rows of the returned Dataframe"
   ]
  },
  {
   "cell_type": "code",
   "execution_count": 21,
   "id": "e6dc73bf",
   "metadata": {},
   "outputs": [
    {
     "data": {
      "text/html": [
       "<div>\n",
       "<style scoped>\n",
       "    .dataframe tbody tr th:only-of-type {\n",
       "        vertical-align: middle;\n",
       "    }\n",
       "\n",
       "    .dataframe tbody tr th {\n",
       "        vertical-align: top;\n",
       "    }\n",
       "\n",
       "    .dataframe thead th {\n",
       "        text-align: right;\n",
       "    }\n",
       "</style>\n",
       "<table border=\"1\" class=\"dataframe\">\n",
       "  <thead>\n",
       "    <tr style=\"text-align: right;\">\n",
       "      <th></th>\n",
       "      <th>Node</th>\n",
       "      <th>VRF</th>\n",
       "      <th>Ip</th>\n",
       "      <th>Network</th>\n",
       "      <th>Num_Routes</th>\n",
       "    </tr>\n",
       "  </thead>\n",
       "  <tbody>\n",
       "    <tr>\n",
       "      <th>0</th>\n",
       "      <td>as2border1</td>\n",
       "      <td>default</td>\n",
       "      <td>2.34.201.10</td>\n",
       "      <td>2.34.201.0/24</td>\n",
       "      <td>2</td>\n",
       "    </tr>\n",
       "    <tr>\n",
       "      <th>1</th>\n",
       "      <td>as2border2</td>\n",
       "      <td>default</td>\n",
       "      <td>2.34.201.10</td>\n",
       "      <td>2.34.201.0/24</td>\n",
       "      <td>2</td>\n",
       "    </tr>\n",
       "    <tr>\n",
       "      <th>2</th>\n",
       "      <td>as2core1</td>\n",
       "      <td>default</td>\n",
       "      <td>2.34.201.10</td>\n",
       "      <td>2.34.201.0/24</td>\n",
       "      <td>1</td>\n",
       "    </tr>\n",
       "    <tr>\n",
       "      <th>3</th>\n",
       "      <td>as2core2</td>\n",
       "      <td>default</td>\n",
       "      <td>2.34.201.10</td>\n",
       "      <td>2.34.201.0/24</td>\n",
       "      <td>1</td>\n",
       "    </tr>\n",
       "    <tr>\n",
       "      <th>4</th>\n",
       "      <td>as2dept1</td>\n",
       "      <td>default</td>\n",
       "      <td>2.34.201.10</td>\n",
       "      <td>2.34.201.0/24</td>\n",
       "      <td>1</td>\n",
       "    </tr>\n",
       "  </tbody>\n",
       "</table>\n",
       "</div>"
      ],
      "text/plain": [
       "         Node      VRF           Ip        Network Num_Routes\n",
       "0  as2border1  default  2.34.201.10  2.34.201.0/24          2\n",
       "1  as2border2  default  2.34.201.10  2.34.201.0/24          2\n",
       "2    as2core1  default  2.34.201.10  2.34.201.0/24          1\n",
       "3    as2core2  default  2.34.201.10  2.34.201.0/24          1\n",
       "4    as2dept1  default  2.34.201.10  2.34.201.0/24          1"
      ]
     },
     "execution_count": 21,
     "metadata": {},
     "output_type": "execute_result"
    }
   ],
   "source": [
    "result.head(5)"
   ]
  },
  {
   "cell_type": "markdown",
   "id": "16020292",
   "metadata": {},
   "source": [
    "Print the first row of the returned Dataframe"
   ]
  },
  {
   "cell_type": "code",
   "execution_count": 22,
   "id": "9ebde924",
   "metadata": {},
   "outputs": [
    {
     "data": {
      "text/plain": [
       "Node             as2border1\n",
       "VRF                 default\n",
       "Ip              2.34.201.10\n",
       "Network       2.34.201.0/24\n",
       "Num_Routes                2\n",
       "Name: 0, dtype: object"
      ]
     },
     "execution_count": 22,
     "metadata": {},
     "output_type": "execute_result"
    }
   ],
   "source": [
    "result.iloc[0]"
   ]
  }
 ],
 "metadata": {
  "celltoolbar": "Edit Metadata",
  "hide_input": false,
  "kernelspec": {
   "display_name": "Python 3",
   "language": "python",
   "name": "python3"
  },
  "language_info": {
   "codemirror_mode": {
    "name": "ipython",
    "version": 3
   },
   "file_extension": ".py",
   "mimetype": "text/x-python",
   "name": "python",
   "nbconvert_exporter": "python",
   "pygments_lexer": "ipython3",
   "version": "3.7.7"
  }
 },
 "nbformat": 4,
 "nbformat_minor": 2
}
