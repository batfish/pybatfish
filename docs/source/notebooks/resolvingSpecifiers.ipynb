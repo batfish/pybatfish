{
 "cells": [
  {
   "cell_type": "code",
   "execution_count": 1,
   "metadata": {
    "nbsphinx": "hidden"
   },
   "outputs": [],
   "source": [
    "import pandas as pd\n",
    "from pybatfish.client.session import Session\n",
    "from pybatfish.datamodel import *\n",
    "\n",
    "pd.set_option(\"display.width\", 300) \n",
    "pd.set_option(\"display.max_columns\", 20) \n",
    "pd.set_option(\"display.max_rows\", 1000) \n",
    "pd.set_option(\"display.max_colwidth\", None)\n",
    "\n",
    "# Configure all pybatfish loggers to use WARN level\n",
    "import logging\n",
    "logging.getLogger('pybatfish').setLevel(logging.WARN)"
   ]
  },
  {
   "cell_type": "code",
   "execution_count": 2,
   "metadata": {
    "nbsphinx": "hidden"
   },
   "outputs": [],
   "source": [
    "bf = Session(\"localhost\")\n",
    "\n"
   ]
  },
  {
   "cell_type": "markdown",
   "id": "5ee058b5",
   "metadata": {},
   "source": [
    "#### Resolving Specifiers"
   ]
  },
  {
   "cell_type": "markdown",
   "id": "e39a66d6",
   "metadata": {},
   "source": [
    "* [Resolve Location Specifier](#Resolve-Location-Specifier)\n",
    "* [Resolve Filter Specifier](#Resolve-Filter-Specifier)\n",
    "* [Resolve Node Specifier](#Resolve-Node-Specifier)\n",
    "* [Resolve Interface Specifier](#Resolve-Interface-Specifier)\n",
    "* [Resolve IPs from Location Specifier](#Resolve-IPs-from-Location-Specifier)\n",
    "* [Resolve IP Specifier](#Resolve-IP-Specifier)"
   ]
  },
  {
   "cell_type": "code",
   "execution_count": 3,
   "id": "1deb00b6",
   "metadata": {
    "nbsphinx": "hidden"
   },
   "outputs": [
    {
     "data": {
      "text/plain": [
       "'generate_questions'"
      ]
     },
     "execution_count": 3,
     "metadata": {},
     "output_type": "execute_result"
    }
   ],
   "source": [
    "bf.set_network('generate_questions')"
   ]
  },
  {
   "cell_type": "code",
   "execution_count": 4,
   "id": "69d11f99",
   "metadata": {
    "nbsphinx": "hidden"
   },
   "outputs": [
    {
     "data": {
      "text/plain": [
       "'generate_questions'"
      ]
     },
     "execution_count": 4,
     "metadata": {},
     "output_type": "execute_result"
    }
   ],
   "source": [
    "bf.set_snapshot('generate_questions')"
   ]
  },
  {
   "cell_type": "markdown",
   "id": "fe3d99d2",
   "metadata": {},
   "source": [
    "##### Resolve Location Specifier"
   ]
  },
  {
   "cell_type": "markdown",
   "id": "5025f97f",
   "metadata": {},
   "source": [
    "Returns the set of locations corresponding to a locationSpec value."
   ]
  },
  {
   "cell_type": "markdown",
   "id": "2ae94deb",
   "metadata": {},
   "source": [
    "Helper question that shows how specified locationSpec values resolve to the locations in the network."
   ]
  },
  {
   "cell_type": "markdown",
   "id": "2ac60d33",
   "metadata": {},
   "source": [
    "###### Inputs"
   ]
  },
  {
   "cell_type": "markdown",
   "id": "0b228486",
   "metadata": {},
   "source": [
    "Name | Description | Type | Optional | Default Value\n",
    "--- | --- | --- | --- | --- \n",
    "locations | Input to the LocationSpecifier. | [LocationSpec](../specifiers.md#location-specifier) | False | \n",
    "grammarVersion | Version of grammar to use for resolution. | str | True | "
   ]
  },
  {
   "cell_type": "markdown",
   "id": "c1ea5dd1",
   "metadata": {},
   "source": [
    "###### Invocation"
   ]
  },
  {
   "cell_type": "code",
   "execution_count": 5,
   "id": "3dc917b7",
   "metadata": {},
   "outputs": [],
   "source": [
    "result = bf.q.resolveLocationSpecifier(locations='@enter(as2border1[GigabitEthernet2/0])').answer().frame()"
   ]
  },
  {
   "cell_type": "markdown",
   "id": "e0aa3f88",
   "metadata": {},
   "source": [
    "###### Return Value"
   ]
  },
  {
   "cell_type": "markdown",
   "id": "689d53ef",
   "metadata": {},
   "source": [
    "Name | Description | Type\n",
    "--- | --- | ---\n",
    "Location | Location | str"
   ]
  },
  {
   "cell_type": "markdown",
   "id": "5961d361",
   "metadata": {},
   "source": [
    "Print the first 5 rows of the returned Dataframe"
   ]
  },
  {
   "cell_type": "code",
   "execution_count": 6,
   "id": "15646187",
   "metadata": {},
   "outputs": [
    {
     "data": {
      "text/html": [
       "<div>\n",
       "<style scoped>\n",
       "    .dataframe tbody tr th:only-of-type {\n",
       "        vertical-align: middle;\n",
       "    }\n",
       "\n",
       "    .dataframe tbody tr th {\n",
       "        vertical-align: top;\n",
       "    }\n",
       "\n",
       "    .dataframe thead th {\n",
       "        text-align: right;\n",
       "    }\n",
       "</style>\n",
       "<table border=\"1\" class=\"dataframe\">\n",
       "  <thead>\n",
       "    <tr style=\"text-align: right;\">\n",
       "      <th></th>\n",
       "      <th>Location</th>\n",
       "    </tr>\n",
       "  </thead>\n",
       "  <tbody>\n",
       "    <tr>\n",
       "      <th>0</th>\n",
       "      <td>InterfaceLinkLocation{nodeName=as2border1, interfaceName=GigabitEthernet2/0}</td>\n",
       "    </tr>\n",
       "  </tbody>\n",
       "</table>\n",
       "</div>"
      ],
      "text/plain": [
       "                                                                       Location\n",
       "0  InterfaceLinkLocation{nodeName=as2border1, interfaceName=GigabitEthernet2/0}"
      ]
     },
     "execution_count": 6,
     "metadata": {},
     "output_type": "execute_result"
    }
   ],
   "source": [
    "result.head(5)"
   ]
  },
  {
   "cell_type": "markdown",
   "id": "dd9dd359",
   "metadata": {},
   "source": [
    "Print the first row of the returned Dataframe"
   ]
  },
  {
   "cell_type": "code",
   "execution_count": 7,
   "id": "6a2bbeb6",
   "metadata": {},
   "outputs": [
    {
     "data": {
      "text/plain": [
       "Location    InterfaceLinkLocation{nodeName=as2border1, interfaceName=GigabitEthernet2/0}\n",
       "Name: 0, dtype: object"
      ]
     },
     "execution_count": 7,
     "metadata": {},
     "output_type": "execute_result"
    }
   ],
   "source": [
    "result.iloc[0]"
   ]
  },
  {
   "cell_type": "code",
   "execution_count": 8,
   "id": "182070dd",
   "metadata": {
    "nbsphinx": "hidden"
   },
   "outputs": [
    {
     "data": {
      "text/plain": [
       "'generate_questions'"
      ]
     },
     "execution_count": 8,
     "metadata": {},
     "output_type": "execute_result"
    }
   ],
   "source": [
    "bf.set_network('generate_questions')"
   ]
  },
  {
   "cell_type": "code",
   "execution_count": 9,
   "id": "2046ea22",
   "metadata": {
    "nbsphinx": "hidden"
   },
   "outputs": [
    {
     "data": {
      "text/plain": [
       "'generate_questions'"
      ]
     },
     "execution_count": 9,
     "metadata": {},
     "output_type": "execute_result"
    }
   ],
   "source": [
    "bf.set_snapshot('generate_questions')"
   ]
  },
  {
   "cell_type": "markdown",
   "id": "f6cf45c8",
   "metadata": {},
   "source": [
    "##### Resolve Filter Specifier"
   ]
  },
  {
   "cell_type": "markdown",
   "id": "1fa6c8dd",
   "metadata": {},
   "source": [
    "Returns the set of filters corresponding to a filterSpec value."
   ]
  },
  {
   "cell_type": "markdown",
   "id": "d3c8563f",
   "metadata": {},
   "source": [
    "Helper question that shows how specified filterSpec values resolve to the filters in the network."
   ]
  },
  {
   "cell_type": "markdown",
   "id": "239fe656",
   "metadata": {},
   "source": [
    "###### Inputs"
   ]
  },
  {
   "cell_type": "markdown",
   "id": "478f2477",
   "metadata": {},
   "source": [
    "Name | Description | Type | Optional | Default Value\n",
    "--- | --- | --- | --- | --- \n",
    "filters | Input to the FilterSpecifier. | [FilterSpec](../specifiers.md#filter-specifier) | False | \n",
    "grammarVersion | Version of grammar to use for resolution. | str | True | \n",
    "nodes | Input to the NodeSpecifier that specifies the set of nodes that should be considered. | [NodeSpec](../specifiers.md#node-specifier) | True | /.*/"
   ]
  },
  {
   "cell_type": "markdown",
   "id": "a562acd1",
   "metadata": {},
   "source": [
    "###### Invocation"
   ]
  },
  {
   "cell_type": "code",
   "execution_count": 10,
   "id": "16684613",
   "metadata": {},
   "outputs": [],
   "source": [
    "result = bf.q.resolveFilterSpecifier(filters='@in(as2border1[GigabitEthernet0/0])').answer().frame()"
   ]
  },
  {
   "cell_type": "markdown",
   "id": "c10198a2",
   "metadata": {},
   "source": [
    "###### Return Value"
   ]
  },
  {
   "cell_type": "markdown",
   "id": "38f6d791",
   "metadata": {},
   "source": [
    "Name | Description | Type\n",
    "--- | --- | ---\n",
    "Node | Node | str\n",
    "Filter_Name | Filter name | str"
   ]
  },
  {
   "cell_type": "markdown",
   "id": "e6bc6548",
   "metadata": {},
   "source": [
    "Print the first 5 rows of the returned Dataframe"
   ]
  },
  {
   "cell_type": "code",
   "execution_count": 11,
   "id": "ed6affd9",
   "metadata": {},
   "outputs": [
    {
     "data": {
      "text/html": [
       "<div>\n",
       "<style scoped>\n",
       "    .dataframe tbody tr th:only-of-type {\n",
       "        vertical-align: middle;\n",
       "    }\n",
       "\n",
       "    .dataframe tbody tr th {\n",
       "        vertical-align: top;\n",
       "    }\n",
       "\n",
       "    .dataframe thead th {\n",
       "        text-align: right;\n",
       "    }\n",
       "</style>\n",
       "<table border=\"1\" class=\"dataframe\">\n",
       "  <thead>\n",
       "    <tr style=\"text-align: right;\">\n",
       "      <th></th>\n",
       "      <th>Node</th>\n",
       "      <th>Filter_Name</th>\n",
       "    </tr>\n",
       "  </thead>\n",
       "  <tbody>\n",
       "    <tr>\n",
       "      <th>0</th>\n",
       "      <td>as2border1</td>\n",
       "      <td>OUTSIDE_TO_INSIDE</td>\n",
       "    </tr>\n",
       "  </tbody>\n",
       "</table>\n",
       "</div>"
      ],
      "text/plain": [
       "         Node        Filter_Name\n",
       "0  as2border1  OUTSIDE_TO_INSIDE"
      ]
     },
     "execution_count": 11,
     "metadata": {},
     "output_type": "execute_result"
    }
   ],
   "source": [
    "result.head(5)"
   ]
  },
  {
   "cell_type": "markdown",
   "id": "9a0f6e12",
   "metadata": {},
   "source": [
    "Print the first row of the returned Dataframe"
   ]
  },
  {
   "cell_type": "code",
   "execution_count": 12,
   "id": "1b009220",
   "metadata": {},
   "outputs": [
    {
     "data": {
      "text/plain": [
       "Node                  as2border1\n",
       "Filter_Name    OUTSIDE_TO_INSIDE\n",
       "Name: 0, dtype: object"
      ]
     },
     "execution_count": 12,
     "metadata": {},
     "output_type": "execute_result"
    }
   ],
   "source": [
    "result.iloc[0]"
   ]
  },
  {
   "cell_type": "code",
   "execution_count": 13,
   "id": "e8d63734",
   "metadata": {
    "nbsphinx": "hidden"
   },
   "outputs": [
    {
     "data": {
      "text/plain": [
       "'generate_questions'"
      ]
     },
     "execution_count": 13,
     "metadata": {},
     "output_type": "execute_result"
    }
   ],
   "source": [
    "bf.set_network('generate_questions')"
   ]
  },
  {
   "cell_type": "code",
   "execution_count": 14,
   "id": "29e7f7e7",
   "metadata": {
    "nbsphinx": "hidden"
   },
   "outputs": [
    {
     "data": {
      "text/plain": [
       "'generate_questions'"
      ]
     },
     "execution_count": 14,
     "metadata": {},
     "output_type": "execute_result"
    }
   ],
   "source": [
    "bf.set_snapshot('generate_questions')"
   ]
  },
  {
   "cell_type": "markdown",
   "id": "20c52265",
   "metadata": {},
   "source": [
    "##### Resolve Node Specifier"
   ]
  },
  {
   "cell_type": "markdown",
   "id": "e3478af1",
   "metadata": {},
   "source": [
    "Returns the set of nodes corresponding to a nodeSpec value."
   ]
  },
  {
   "cell_type": "markdown",
   "id": "83cd1f16",
   "metadata": {},
   "source": [
    "Helper question that shows how specified nodeSpec values resolve to the nodes in the network."
   ]
  },
  {
   "cell_type": "markdown",
   "id": "1db570d9",
   "metadata": {},
   "source": [
    "###### Inputs"
   ]
  },
  {
   "cell_type": "markdown",
   "id": "5627f75b",
   "metadata": {},
   "source": [
    "Name | Description | Type | Optional | Default Value\n",
    "--- | --- | --- | --- | --- \n",
    "nodes | Input to the NodeSpecifier. | [NodeSpec](../specifiers.md#node-specifier) | False | \n",
    "grammarVersion | Version of grammar to use for resolution. | str | True | "
   ]
  },
  {
   "cell_type": "markdown",
   "id": "fee784a3",
   "metadata": {},
   "source": [
    "###### Invocation"
   ]
  },
  {
   "cell_type": "code",
   "execution_count": 15,
   "id": "d816972f",
   "metadata": {},
   "outputs": [],
   "source": [
    "result = bf.q.resolveNodeSpecifier(nodes='/border/').answer().frame()"
   ]
  },
  {
   "cell_type": "markdown",
   "id": "120377d1",
   "metadata": {},
   "source": [
    "###### Return Value"
   ]
  },
  {
   "cell_type": "markdown",
   "id": "65c0ba19",
   "metadata": {},
   "source": [
    "Name | Description | Type\n",
    "--- | --- | ---\n",
    "Node | Node | str"
   ]
  },
  {
   "cell_type": "markdown",
   "id": "930f860d",
   "metadata": {},
   "source": [
    "Print the first 5 rows of the returned Dataframe"
   ]
  },
  {
   "cell_type": "code",
   "execution_count": 16,
   "id": "33b26d84",
   "metadata": {},
   "outputs": [
    {
     "data": {
      "text/html": [
       "<div>\n",
       "<style scoped>\n",
       "    .dataframe tbody tr th:only-of-type {\n",
       "        vertical-align: middle;\n",
       "    }\n",
       "\n",
       "    .dataframe tbody tr th {\n",
       "        vertical-align: top;\n",
       "    }\n",
       "\n",
       "    .dataframe thead th {\n",
       "        text-align: right;\n",
       "    }\n",
       "</style>\n",
       "<table border=\"1\" class=\"dataframe\">\n",
       "  <thead>\n",
       "    <tr style=\"text-align: right;\">\n",
       "      <th></th>\n",
       "      <th>Node</th>\n",
       "    </tr>\n",
       "  </thead>\n",
       "  <tbody>\n",
       "    <tr>\n",
       "      <th>0</th>\n",
       "      <td>as1border1</td>\n",
       "    </tr>\n",
       "    <tr>\n",
       "      <th>1</th>\n",
       "      <td>as1border2</td>\n",
       "    </tr>\n",
       "    <tr>\n",
       "      <th>2</th>\n",
       "      <td>as2border1</td>\n",
       "    </tr>\n",
       "    <tr>\n",
       "      <th>3</th>\n",
       "      <td>as2border2</td>\n",
       "    </tr>\n",
       "    <tr>\n",
       "      <th>4</th>\n",
       "      <td>as3border1</td>\n",
       "    </tr>\n",
       "  </tbody>\n",
       "</table>\n",
       "</div>"
      ],
      "text/plain": [
       "         Node\n",
       "0  as1border1\n",
       "1  as1border2\n",
       "2  as2border1\n",
       "3  as2border2\n",
       "4  as3border1"
      ]
     },
     "execution_count": 16,
     "metadata": {},
     "output_type": "execute_result"
    }
   ],
   "source": [
    "result.head(5)"
   ]
  },
  {
   "cell_type": "markdown",
   "id": "6a7773a7",
   "metadata": {},
   "source": [
    "Print the first row of the returned Dataframe"
   ]
  },
  {
   "cell_type": "code",
   "execution_count": 17,
   "id": "90e9af91",
   "metadata": {},
   "outputs": [
    {
     "data": {
      "text/plain": [
       "Node    as1border1\n",
       "Name: 0, dtype: object"
      ]
     },
     "execution_count": 17,
     "metadata": {},
     "output_type": "execute_result"
    }
   ],
   "source": [
    "result.iloc[0]"
   ]
  },
  {
   "cell_type": "code",
   "execution_count": 18,
   "id": "c4b5b3c5",
   "metadata": {
    "nbsphinx": "hidden"
   },
   "outputs": [
    {
     "data": {
      "text/plain": [
       "'generate_questions'"
      ]
     },
     "execution_count": 18,
     "metadata": {},
     "output_type": "execute_result"
    }
   ],
   "source": [
    "bf.set_network('generate_questions')"
   ]
  },
  {
   "cell_type": "code",
   "execution_count": 19,
   "id": "548fc682",
   "metadata": {
    "nbsphinx": "hidden"
   },
   "outputs": [
    {
     "data": {
      "text/plain": [
       "'generate_questions'"
      ]
     },
     "execution_count": 19,
     "metadata": {},
     "output_type": "execute_result"
    }
   ],
   "source": [
    "bf.set_snapshot('generate_questions')"
   ]
  },
  {
   "cell_type": "markdown",
   "id": "42bf9c58",
   "metadata": {},
   "source": [
    "##### Resolve Interface Specifier"
   ]
  },
  {
   "cell_type": "markdown",
   "id": "76b3bd41",
   "metadata": {},
   "source": [
    "Returns the set of interfaces corresponding to an interfaceSpec value."
   ]
  },
  {
   "cell_type": "markdown",
   "id": "f5a04904",
   "metadata": {},
   "source": [
    "Helper question that shows how specified interfaceSpec values resolve to the interfaces in the network."
   ]
  },
  {
   "cell_type": "markdown",
   "id": "0375b2dc",
   "metadata": {},
   "source": [
    "###### Inputs"
   ]
  },
  {
   "cell_type": "markdown",
   "id": "ce7602c3",
   "metadata": {},
   "source": [
    "Name | Description | Type | Optional | Default Value\n",
    "--- | --- | --- | --- | --- \n",
    "interfaces | Input to the interfaceSpecifier. | [InterfaceSpec](../specifiers.md#interface-specifier) | False | \n",
    "grammarVersion | Version of grammar to use for resolution. | str | True | \n",
    "nodes | Input to the NodeSpecifier that specifies the set of nodes that should be considered. | [NodeSpec](../specifiers.md#node-specifier) | True | /.*/"
   ]
  },
  {
   "cell_type": "markdown",
   "id": "105557a7",
   "metadata": {},
   "source": [
    "###### Invocation"
   ]
  },
  {
   "cell_type": "code",
   "execution_count": 20,
   "id": "720c3db8",
   "metadata": {},
   "outputs": [],
   "source": [
    "result = bf.q.resolveInterfaceSpecifier(interfaces='/border/[.*Ethernet]').answer().frame()"
   ]
  },
  {
   "cell_type": "markdown",
   "id": "dfe97b82",
   "metadata": {},
   "source": [
    "###### Return Value"
   ]
  },
  {
   "cell_type": "markdown",
   "id": "65332a1d",
   "metadata": {},
   "source": [
    "Name | Description | Type\n",
    "--- | --- | ---\n",
    "Interface | Interface | [Interface](../datamodel.rst#pybatfish.datamodel.primitives.Interface)"
   ]
  },
  {
   "cell_type": "markdown",
   "id": "408233d4",
   "metadata": {},
   "source": [
    "Print the first 5 rows of the returned Dataframe"
   ]
  },
  {
   "cell_type": "code",
   "execution_count": 21,
   "id": "f1e43f40",
   "metadata": {},
   "outputs": [
    {
     "data": {
      "text/html": [
       "<div>\n",
       "<style scoped>\n",
       "    .dataframe tbody tr th:only-of-type {\n",
       "        vertical-align: middle;\n",
       "    }\n",
       "\n",
       "    .dataframe tbody tr th {\n",
       "        vertical-align: top;\n",
       "    }\n",
       "\n",
       "    .dataframe thead th {\n",
       "        text-align: right;\n",
       "    }\n",
       "</style>\n",
       "<table border=\"1\" class=\"dataframe\">\n",
       "  <thead>\n",
       "    <tr style=\"text-align: right;\">\n",
       "      <th></th>\n",
       "      <th>Interface</th>\n",
       "    </tr>\n",
       "  </thead>\n",
       "  <tbody>\n",
       "    <tr>\n",
       "      <th>0</th>\n",
       "      <td>as1border1[Ethernet0/0]</td>\n",
       "    </tr>\n",
       "    <tr>\n",
       "      <th>1</th>\n",
       "      <td>as1border1[GigabitEthernet0/0]</td>\n",
       "    </tr>\n",
       "    <tr>\n",
       "      <th>2</th>\n",
       "      <td>as1border1[GigabitEthernet1/0]</td>\n",
       "    </tr>\n",
       "    <tr>\n",
       "      <th>3</th>\n",
       "      <td>as1border2[Ethernet0/0]</td>\n",
       "    </tr>\n",
       "    <tr>\n",
       "      <th>4</th>\n",
       "      <td>as1border2[GigabitEthernet0/0]</td>\n",
       "    </tr>\n",
       "  </tbody>\n",
       "</table>\n",
       "</div>"
      ],
      "text/plain": [
       "                        Interface\n",
       "0         as1border1[Ethernet0/0]\n",
       "1  as1border1[GigabitEthernet0/0]\n",
       "2  as1border1[GigabitEthernet1/0]\n",
       "3         as1border2[Ethernet0/0]\n",
       "4  as1border2[GigabitEthernet0/0]"
      ]
     },
     "execution_count": 21,
     "metadata": {},
     "output_type": "execute_result"
    }
   ],
   "source": [
    "result.head(5)"
   ]
  },
  {
   "cell_type": "markdown",
   "id": "f94781a0",
   "metadata": {},
   "source": [
    "Print the first row of the returned Dataframe"
   ]
  },
  {
   "cell_type": "code",
   "execution_count": 22,
   "id": "34c8fc78",
   "metadata": {},
   "outputs": [
    {
     "data": {
      "text/plain": [
       "Interface    as1border1[Ethernet0/0]\n",
       "Name: 0, dtype: object"
      ]
     },
     "execution_count": 22,
     "metadata": {},
     "output_type": "execute_result"
    }
   ],
   "source": [
    "result.iloc[0]"
   ]
  },
  {
   "cell_type": "code",
   "execution_count": 23,
   "id": "7c17f8af",
   "metadata": {
    "nbsphinx": "hidden"
   },
   "outputs": [
    {
     "data": {
      "text/plain": [
       "'generate_questions'"
      ]
     },
     "execution_count": 23,
     "metadata": {},
     "output_type": "execute_result"
    }
   ],
   "source": [
    "bf.set_network('generate_questions')"
   ]
  },
  {
   "cell_type": "code",
   "execution_count": 24,
   "id": "f3ac6efb",
   "metadata": {
    "nbsphinx": "hidden"
   },
   "outputs": [
    {
     "data": {
      "text/plain": [
       "'generate_questions'"
      ]
     },
     "execution_count": 24,
     "metadata": {},
     "output_type": "execute_result"
    }
   ],
   "source": [
    "bf.set_snapshot('generate_questions')"
   ]
  },
  {
   "cell_type": "markdown",
   "id": "ea45803e",
   "metadata": {},
   "source": [
    "##### Resolve IPs from Location Specifier"
   ]
  },
  {
   "cell_type": "markdown",
   "id": "9635fe45",
   "metadata": {},
   "source": [
    "Returns IPs that are auto-assigned to locations."
   ]
  },
  {
   "cell_type": "markdown",
   "id": "3012b867",
   "metadata": {},
   "source": [
    "Helper question that shows IPs that will be assigned to specified locationSpec values by questions are automatically pick IPs based on locations."
   ]
  },
  {
   "cell_type": "markdown",
   "id": "513b91d9",
   "metadata": {},
   "source": [
    "###### Inputs"
   ]
  },
  {
   "cell_type": "markdown",
   "id": "3a39e4ee",
   "metadata": {},
   "source": [
    "Name | Description | Type | Optional | Default Value\n",
    "--- | --- | --- | --- | --- \n",
    "locations | Input to the LocationSpecifier. | [LocationSpec](../specifiers.md#location-specifier) | False | \n",
    "grammarVersion | Version of grammar to use for resolution. | str | True | "
   ]
  },
  {
   "cell_type": "markdown",
   "id": "8339f7c6",
   "metadata": {},
   "source": [
    "###### Invocation"
   ]
  },
  {
   "cell_type": "code",
   "execution_count": 25,
   "id": "a76738ce",
   "metadata": {},
   "outputs": [],
   "source": [
    "result = bf.q.resolveIpsOfLocationSpecifier(locations='@enter(as2border1[GigabitEthernet2/0])').answer().frame()"
   ]
  },
  {
   "cell_type": "markdown",
   "id": "7b9002a1",
   "metadata": {},
   "source": [
    "###### Return Value"
   ]
  },
  {
   "cell_type": "markdown",
   "id": "74201e10",
   "metadata": {},
   "source": [
    "Name | Description | Type\n",
    "--- | --- | ---\n",
    "Locations | Resolution | str\n",
    "IP_Space | IP space | str"
   ]
  },
  {
   "cell_type": "markdown",
   "id": "dd9177d5",
   "metadata": {},
   "source": [
    "Print the first 5 rows of the returned Dataframe"
   ]
  },
  {
   "cell_type": "code",
   "execution_count": 26,
   "id": "1cfb7488",
   "metadata": {},
   "outputs": [
    {
     "data": {
      "text/html": [
       "<div>\n",
       "<style scoped>\n",
       "    .dataframe tbody tr th:only-of-type {\n",
       "        vertical-align: middle;\n",
       "    }\n",
       "\n",
       "    .dataframe tbody tr th {\n",
       "        vertical-align: top;\n",
       "    }\n",
       "\n",
       "    .dataframe thead th {\n",
       "        text-align: right;\n",
       "    }\n",
       "</style>\n",
       "<table border=\"1\" class=\"dataframe\">\n",
       "  <thead>\n",
       "    <tr style=\"text-align: right;\">\n",
       "      <th></th>\n",
       "      <th>Locations</th>\n",
       "      <th>IP_Space</th>\n",
       "    </tr>\n",
       "  </thead>\n",
       "  <tbody>\n",
       "    <tr>\n",
       "      <th>0</th>\n",
       "      <td>[InterfaceLinkLocation{nodeName=as2border1, interfaceName=GigabitEthernet2/0}]</td>\n",
       "      <td>AclIpSpace{lines=[AclIpSpaceLine{action=DENY, ipSpace=AclIpSpace{lines=[AclIpSpaceLine{ipSpace=IpIpSpace{ip=3.2.2.2}}, AclIpSpaceLine{ipSpace=IpIpSpace{ip=3.1.1.1}}, AclIpSpaceLine{ipSpace=IpIpSpace{ip=2.1.3.1}}, AclIpSpaceLine{ipSpace=IpIpSpace{ip=2.1.2.1}}, AclIpSpaceLine{ipSpace=IpIpSpace{ip=2.1.1.1}}, AclIpSpaceLine{ipSpace=IpIpSpace{ip=1.2.2.2}}, AclIpSpaceLine{ipSpace=IpIpSpace{ip=1.1.1.1}}, AclIpSpaceLine{ipSpace=IpIpSpace{ip=3.0.2.1}}, AclIpSpaceLine{ipSpace=IpIpSpace{ip=3.0.1.1}}, AclIpSpaceLine{ipSpace=IpIpSpace{ip=2.128.1.1}}, AclIpSpaceLine{ipSpace=IpIpSpace{ip=2.128.0.1}}, AclIpSpaceLine{ipSpace=IpIpSpace{ip=1.0.2.1}}, AclIpSpaceLine{ipSpace=IpIpSpace{ip=1.0.1.1}}, AclIpSpaceLine{ipSpace=IpIpSpace{ip=3.0.1.2}}, AclIpSpaceLine{ipSpace=IpIpSpace{ip=3.0.2.2}}, AclIpSpaceLine{ipSpace=IpIpSpace{ip=1.0.1.2}}, AclIpSpaceLine{ipSpace=IpIpSpace{ip=1.0.2.2}}, AclIpSpaceLine{ipSpace=IpIpSpace{ip=2.1.3.2}}, AclIpSpaceLine{ipSpace=IpIpSpace{ip=2.1.2.2}}, AclIpSpaceLine{ipSpace=IpIpSpace{ip=2.1.1.2}}, AclIpSpaceLine{ipSpace=IpIpSpace{ip=3.10.1.1}}, AclIpSpaceLine{ipSpace=IpIpSpace{ip=1.10.1.1}}, AclIpSpaceLine{ipSpace=IpIpSpace{ip=10.13.22.1}}, AclIpSpaceLine{ipSpace=IpIpSpace{ip=2.12.21.1}}, AclIpSpaceLine{ipSpace=IpIpSpace{ip=2.12.22.1}}, AclIpSpaceLine{ipSpace=IpIpSpace{ip=2.12.12.1}}, AclIpSpaceLine{ipSpace=IpIpSpace{ip=2.12.11.1}}, AclIpSpaceLine{ipSpace=IpIpSpace{ip=10.12.11.1}}, AclIpSpaceLine{ipSpace=IpIpSpace{ip=10.13.22.3}}, AclIpSpaceLine{ipSpace=IpIpSpace{ip=2.12.12.2}}, AclIpSpaceLine{ipSpace=IpIpSpace{ip=2.12.22.2}}, AclIpSpaceLine{ipSpace=IpIpSpace{ip=2.12.21.2}}, AclIpSpaceLine{ipSpace=IpIpSpace{ip=2.12.11.2}}, AclIpSpaceLine{ipSpace=IpIpSpace{ip=10.12.11.2}}, AclIpSpaceLine{ipSpace=IpIpSpace{ip=10.14.22.1}}, AclIpSpaceLine{ipSpace=IpIpSpace{ip=10.23.21.3}}, AclIpSpaceLine{ipSpace=IpIpSpace{ip=2.23.12.3}}, AclIpSpaceLine{ipSpace=IpIpSpace{ip=2.23.22.3}}, AclIpSpaceLine{ipSpace=IpIpSpace{ip=2.23.21.3}}, AclIpSpaceLine{ipSpace=IpIpSpace{ip=2.23.11.3}}, AclIpSpaceLine{ipSpace=IpIpSpace{ip=2.23.21.2}}, AclIpSpaceLine{ipSpace=IpIpSpace{ip=2.23.22.2}}, AclIpSpaceLine{ipSpace=IpIpSpace{ip=2.23.12.2}}, AclIpSpaceLine{ipSpace=IpIpSpace{ip=2.23.11.2}}, AclIpSpaceLine{ipSpace=IpIpSpace{ip=10.23.21.2}}, AclIpSpaceLine{ipSpace=IpIpSpace{ip=2.34.201.3}}, AclIpSpaceLine{ipSpace=IpIpSpace{ip=2.34.101.3}}, AclIpSpaceLine{ipSpace=IpIpSpace{ip=2.34.201.4}}, AclIpSpaceLine{ipSpace=IpIpSpace{ip=2.34.101.4}}, AclIpSpaceLine{ipSpace=IpIpSpace{ip=90.90.90.2}}, AclIpSpaceLine{ipSpace=IpIpSpace{ip=90.90.90.1}}, AclIpSpaceLine{ipSpace=IpIpSpace{ip=2.128.1.101}}, AclIpSpaceLine{ipSpace=IpIpSpace{ip=2.128.0.101}}]}}, AclIpSpaceLine{ipSpace=IpWildcardSetIpSpace{blacklist=[2.12.12.0, 2.12.12.255], whitelist=[2.12.12.0/24]}}]}</td>\n",
       "    </tr>\n",
       "  </tbody>\n",
       "</table>\n",
       "</div>"
      ],
      "text/plain": [
       "                                                                        Locations  \\\n",
       "0  [InterfaceLinkLocation{nodeName=as2border1, interfaceName=GigabitEthernet2/0}]   \n",
       "\n",
       "                                                                                                                                                                                                                                                                                                                                                                                                                                                                                                                                                                                                                                                                                                                                                                                                                                                                                                                                                                                                                                                                                                                                                                                                                                                                                                                                                                                                                                                                                                                                                                                                                                                                                                                                                                                                                                                                                                                                                                                                                                                                                                                                                                                                                                                                                                                                                                                                                                                                                                                                                                                                                                                                                                                                                                                                                                                                  IP_Space  \n",
       "0  AclIpSpace{lines=[AclIpSpaceLine{action=DENY, ipSpace=AclIpSpace{lines=[AclIpSpaceLine{ipSpace=IpIpSpace{ip=3.2.2.2}}, AclIpSpaceLine{ipSpace=IpIpSpace{ip=3.1.1.1}}, AclIpSpaceLine{ipSpace=IpIpSpace{ip=2.1.3.1}}, AclIpSpaceLine{ipSpace=IpIpSpace{ip=2.1.2.1}}, AclIpSpaceLine{ipSpace=IpIpSpace{ip=2.1.1.1}}, AclIpSpaceLine{ipSpace=IpIpSpace{ip=1.2.2.2}}, AclIpSpaceLine{ipSpace=IpIpSpace{ip=1.1.1.1}}, AclIpSpaceLine{ipSpace=IpIpSpace{ip=3.0.2.1}}, AclIpSpaceLine{ipSpace=IpIpSpace{ip=3.0.1.1}}, AclIpSpaceLine{ipSpace=IpIpSpace{ip=2.128.1.1}}, AclIpSpaceLine{ipSpace=IpIpSpace{ip=2.128.0.1}}, AclIpSpaceLine{ipSpace=IpIpSpace{ip=1.0.2.1}}, AclIpSpaceLine{ipSpace=IpIpSpace{ip=1.0.1.1}}, AclIpSpaceLine{ipSpace=IpIpSpace{ip=3.0.1.2}}, AclIpSpaceLine{ipSpace=IpIpSpace{ip=3.0.2.2}}, AclIpSpaceLine{ipSpace=IpIpSpace{ip=1.0.1.2}}, AclIpSpaceLine{ipSpace=IpIpSpace{ip=1.0.2.2}}, AclIpSpaceLine{ipSpace=IpIpSpace{ip=2.1.3.2}}, AclIpSpaceLine{ipSpace=IpIpSpace{ip=2.1.2.2}}, AclIpSpaceLine{ipSpace=IpIpSpace{ip=2.1.1.2}}, AclIpSpaceLine{ipSpace=IpIpSpace{ip=3.10.1.1}}, AclIpSpaceLine{ipSpace=IpIpSpace{ip=1.10.1.1}}, AclIpSpaceLine{ipSpace=IpIpSpace{ip=10.13.22.1}}, AclIpSpaceLine{ipSpace=IpIpSpace{ip=2.12.21.1}}, AclIpSpaceLine{ipSpace=IpIpSpace{ip=2.12.22.1}}, AclIpSpaceLine{ipSpace=IpIpSpace{ip=2.12.12.1}}, AclIpSpaceLine{ipSpace=IpIpSpace{ip=2.12.11.1}}, AclIpSpaceLine{ipSpace=IpIpSpace{ip=10.12.11.1}}, AclIpSpaceLine{ipSpace=IpIpSpace{ip=10.13.22.3}}, AclIpSpaceLine{ipSpace=IpIpSpace{ip=2.12.12.2}}, AclIpSpaceLine{ipSpace=IpIpSpace{ip=2.12.22.2}}, AclIpSpaceLine{ipSpace=IpIpSpace{ip=2.12.21.2}}, AclIpSpaceLine{ipSpace=IpIpSpace{ip=2.12.11.2}}, AclIpSpaceLine{ipSpace=IpIpSpace{ip=10.12.11.2}}, AclIpSpaceLine{ipSpace=IpIpSpace{ip=10.14.22.1}}, AclIpSpaceLine{ipSpace=IpIpSpace{ip=10.23.21.3}}, AclIpSpaceLine{ipSpace=IpIpSpace{ip=2.23.12.3}}, AclIpSpaceLine{ipSpace=IpIpSpace{ip=2.23.22.3}}, AclIpSpaceLine{ipSpace=IpIpSpace{ip=2.23.21.3}}, AclIpSpaceLine{ipSpace=IpIpSpace{ip=2.23.11.3}}, AclIpSpaceLine{ipSpace=IpIpSpace{ip=2.23.21.2}}, AclIpSpaceLine{ipSpace=IpIpSpace{ip=2.23.22.2}}, AclIpSpaceLine{ipSpace=IpIpSpace{ip=2.23.12.2}}, AclIpSpaceLine{ipSpace=IpIpSpace{ip=2.23.11.2}}, AclIpSpaceLine{ipSpace=IpIpSpace{ip=10.23.21.2}}, AclIpSpaceLine{ipSpace=IpIpSpace{ip=2.34.201.3}}, AclIpSpaceLine{ipSpace=IpIpSpace{ip=2.34.101.3}}, AclIpSpaceLine{ipSpace=IpIpSpace{ip=2.34.201.4}}, AclIpSpaceLine{ipSpace=IpIpSpace{ip=2.34.101.4}}, AclIpSpaceLine{ipSpace=IpIpSpace{ip=90.90.90.2}}, AclIpSpaceLine{ipSpace=IpIpSpace{ip=90.90.90.1}}, AclIpSpaceLine{ipSpace=IpIpSpace{ip=2.128.1.101}}, AclIpSpaceLine{ipSpace=IpIpSpace{ip=2.128.0.101}}]}}, AclIpSpaceLine{ipSpace=IpWildcardSetIpSpace{blacklist=[2.12.12.0, 2.12.12.255], whitelist=[2.12.12.0/24]}}]}  "
      ]
     },
     "execution_count": 26,
     "metadata": {},
     "output_type": "execute_result"
    }
   ],
   "source": [
    "result.head(5)"
   ]
  },
  {
   "cell_type": "markdown",
   "id": "5b6d2de6",
   "metadata": {},
   "source": [
    "Print the first row of the returned Dataframe"
   ]
  },
  {
   "cell_type": "code",
   "execution_count": 27,
   "id": "08d546b1",
   "metadata": {},
   "outputs": [
    {
     "data": {
      "text/plain": [
       "Locations                                                                                                                                                                                                                                                                                                                                                                                                                                                                                                                                                                                                                                                                                                                                                                                                                                                                                                                                                                                                                                                                                                                                                                                                                                                                                                                                                                                                                                                                                                                                                                                                                                                                                                                                                                                                                                                                                                                                                                                                                                                                                                                                                                                                                                                                                                                                                                                                                                                                                                                                                                                                                                                                                                                                                                                             [InterfaceLinkLocation{nodeName=as2border1, interfaceName=GigabitEthernet2/0}]\n",
       "IP_Space     AclIpSpace{lines=[AclIpSpaceLine{action=DENY, ipSpace=AclIpSpace{lines=[AclIpSpaceLine{ipSpace=IpIpSpace{ip=3.2.2.2}}, AclIpSpaceLine{ipSpace=IpIpSpace{ip=3.1.1.1}}, AclIpSpaceLine{ipSpace=IpIpSpace{ip=2.1.3.1}}, AclIpSpaceLine{ipSpace=IpIpSpace{ip=2.1.2.1}}, AclIpSpaceLine{ipSpace=IpIpSpace{ip=2.1.1.1}}, AclIpSpaceLine{ipSpace=IpIpSpace{ip=1.2.2.2}}, AclIpSpaceLine{ipSpace=IpIpSpace{ip=1.1.1.1}}, AclIpSpaceLine{ipSpace=IpIpSpace{ip=3.0.2.1}}, AclIpSpaceLine{ipSpace=IpIpSpace{ip=3.0.1.1}}, AclIpSpaceLine{ipSpace=IpIpSpace{ip=2.128.1.1}}, AclIpSpaceLine{ipSpace=IpIpSpace{ip=2.128.0.1}}, AclIpSpaceLine{ipSpace=IpIpSpace{ip=1.0.2.1}}, AclIpSpaceLine{ipSpace=IpIpSpace{ip=1.0.1.1}}, AclIpSpaceLine{ipSpace=IpIpSpace{ip=3.0.1.2}}, AclIpSpaceLine{ipSpace=IpIpSpace{ip=3.0.2.2}}, AclIpSpaceLine{ipSpace=IpIpSpace{ip=1.0.1.2}}, AclIpSpaceLine{ipSpace=IpIpSpace{ip=1.0.2.2}}, AclIpSpaceLine{ipSpace=IpIpSpace{ip=2.1.3.2}}, AclIpSpaceLine{ipSpace=IpIpSpace{ip=2.1.2.2}}, AclIpSpaceLine{ipSpace=IpIpSpace{ip=2.1.1.2}}, AclIpSpaceLine{ipSpace=IpIpSpace{ip=3.10.1.1}}, AclIpSpaceLine{ipSpace=IpIpSpace{ip=1.10.1.1}}, AclIpSpaceLine{ipSpace=IpIpSpace{ip=10.13.22.1}}, AclIpSpaceLine{ipSpace=IpIpSpace{ip=2.12.21.1}}, AclIpSpaceLine{ipSpace=IpIpSpace{ip=2.12.22.1}}, AclIpSpaceLine{ipSpace=IpIpSpace{ip=2.12.12.1}}, AclIpSpaceLine{ipSpace=IpIpSpace{ip=2.12.11.1}}, AclIpSpaceLine{ipSpace=IpIpSpace{ip=10.12.11.1}}, AclIpSpaceLine{ipSpace=IpIpSpace{ip=10.13.22.3}}, AclIpSpaceLine{ipSpace=IpIpSpace{ip=2.12.12.2}}, AclIpSpaceLine{ipSpace=IpIpSpace{ip=2.12.22.2}}, AclIpSpaceLine{ipSpace=IpIpSpace{ip=2.12.21.2}}, AclIpSpaceLine{ipSpace=IpIpSpace{ip=2.12.11.2}}, AclIpSpaceLine{ipSpace=IpIpSpace{ip=10.12.11.2}}, AclIpSpaceLine{ipSpace=IpIpSpace{ip=10.14.22.1}}, AclIpSpaceLine{ipSpace=IpIpSpace{ip=10.23.21.3}}, AclIpSpaceLine{ipSpace=IpIpSpace{ip=2.23.12.3}}, AclIpSpaceLine{ipSpace=IpIpSpace{ip=2.23.22.3}}, AclIpSpaceLine{ipSpace=IpIpSpace{ip=2.23.21.3}}, AclIpSpaceLine{ipSpace=IpIpSpace{ip=2.23.11.3}}, AclIpSpaceLine{ipSpace=IpIpSpace{ip=2.23.21.2}}, AclIpSpaceLine{ipSpace=IpIpSpace{ip=2.23.22.2}}, AclIpSpaceLine{ipSpace=IpIpSpace{ip=2.23.12.2}}, AclIpSpaceLine{ipSpace=IpIpSpace{ip=2.23.11.2}}, AclIpSpaceLine{ipSpace=IpIpSpace{ip=10.23.21.2}}, AclIpSpaceLine{ipSpace=IpIpSpace{ip=2.34.201.3}}, AclIpSpaceLine{ipSpace=IpIpSpace{ip=2.34.101.3}}, AclIpSpaceLine{ipSpace=IpIpSpace{ip=2.34.201.4}}, AclIpSpaceLine{ipSpace=IpIpSpace{ip=2.34.101.4}}, AclIpSpaceLine{ipSpace=IpIpSpace{ip=90.90.90.2}}, AclIpSpaceLine{ipSpace=IpIpSpace{ip=90.90.90.1}}, AclIpSpaceLine{ipSpace=IpIpSpace{ip=2.128.1.101}}, AclIpSpaceLine{ipSpace=IpIpSpace{ip=2.128.0.101}}]}}, AclIpSpaceLine{ipSpace=IpWildcardSetIpSpace{blacklist=[2.12.12.0, 2.12.12.255], whitelist=[2.12.12.0/24]}}]}\n",
       "Name: 0, dtype: object"
      ]
     },
     "execution_count": 27,
     "metadata": {},
     "output_type": "execute_result"
    }
   ],
   "source": [
    "result.iloc[0]"
   ]
  },
  {
   "cell_type": "code",
   "execution_count": 28,
   "id": "adf5cbdf",
   "metadata": {
    "nbsphinx": "hidden"
   },
   "outputs": [
    {
     "data": {
      "text/plain": [
       "'generate_questions'"
      ]
     },
     "execution_count": 28,
     "metadata": {},
     "output_type": "execute_result"
    }
   ],
   "source": [
    "bf.set_network('generate_questions')"
   ]
  },
  {
   "cell_type": "code",
   "execution_count": 29,
   "id": "be694883",
   "metadata": {
    "nbsphinx": "hidden"
   },
   "outputs": [
    {
     "data": {
      "text/plain": [
       "'generate_questions'"
      ]
     },
     "execution_count": 29,
     "metadata": {},
     "output_type": "execute_result"
    }
   ],
   "source": [
    "bf.set_snapshot('generate_questions')"
   ]
  },
  {
   "cell_type": "markdown",
   "id": "5149e456",
   "metadata": {},
   "source": [
    "##### Resolve IP Specifier"
   ]
  },
  {
   "cell_type": "markdown",
   "id": "90076549",
   "metadata": {},
   "source": [
    "Returns the IP address space corresponding to an ipSpec value."
   ]
  },
  {
   "cell_type": "markdown",
   "id": "871d4a46",
   "metadata": {},
   "source": [
    "Helper question that shows how specified ipSpec values resolve to IPs."
   ]
  },
  {
   "cell_type": "markdown",
   "id": "98d6908b",
   "metadata": {},
   "source": [
    "###### Inputs"
   ]
  },
  {
   "cell_type": "markdown",
   "id": "4d39f59c",
   "metadata": {},
   "source": [
    "Name | Description | Type | Optional | Default Value\n",
    "--- | --- | --- | --- | --- \n",
    "ips | Input to the IP space specifier. | [IpSpec](../specifiers.md#ip-specifier) | False | \n",
    "grammarVersion | Version of grammar to use for resolution. | str | True | "
   ]
  },
  {
   "cell_type": "markdown",
   "id": "8178011c",
   "metadata": {},
   "source": [
    "###### Invocation"
   ]
  },
  {
   "cell_type": "code",
   "execution_count": 30,
   "id": "6574deb3",
   "metadata": {},
   "outputs": [],
   "source": [
    "result = bf.q.resolveIpSpecifier(ips='/border/[.*Ethernet]').answer().frame()"
   ]
  },
  {
   "cell_type": "markdown",
   "id": "69f44b8f",
   "metadata": {},
   "source": [
    "###### Return Value"
   ]
  },
  {
   "cell_type": "markdown",
   "id": "91ee9b7f",
   "metadata": {},
   "source": [
    "Name | Description | Type\n",
    "--- | --- | ---\n",
    "IP_Space | IP space | str"
   ]
  },
  {
   "cell_type": "markdown",
   "id": "2c740a6c",
   "metadata": {},
   "source": [
    "Print the first 5 rows of the returned Dataframe"
   ]
  },
  {
   "cell_type": "code",
   "execution_count": 31,
   "id": "d9320707",
   "metadata": {},
   "outputs": [
    {
     "data": {
      "text/html": [
       "<div>\n",
       "<style scoped>\n",
       "    .dataframe tbody tr th:only-of-type {\n",
       "        vertical-align: middle;\n",
       "    }\n",
       "\n",
       "    .dataframe tbody tr th {\n",
       "        vertical-align: top;\n",
       "    }\n",
       "\n",
       "    .dataframe thead th {\n",
       "        text-align: right;\n",
       "    }\n",
       "</style>\n",
       "<table border=\"1\" class=\"dataframe\">\n",
       "  <thead>\n",
       "    <tr style=\"text-align: right;\">\n",
       "      <th></th>\n",
       "      <th>IP_Space</th>\n",
       "    </tr>\n",
       "  </thead>\n",
       "  <tbody>\n",
       "    <tr>\n",
       "      <th>0</th>\n",
       "      <td>AclIpSpace{lines=[AclIpSpaceLine{ipSpace=IpWildcardSetIpSpace{blacklist=[], whitelist=[1.0.1.1]}}, AclIpSpaceLine{ipSpace=IpWildcardSetIpSpace{blacklist=[], whitelist=[10.12.11.1]}}, AclIpSpaceLine{ipSpace=IpWildcardSetIpSpace{blacklist=[], whitelist=[10.13.22.1]}}, AclIpSpaceLine{ipSpace=IpWildcardSetIpSpace{blacklist=[], whitelist=[1.0.2.1]}}, AclIpSpaceLine{ipSpace=IpWildcardSetIpSpace{blacklist=[], whitelist=[10.14.22.1]}}, AclIpSpaceLine{ipSpace=IpWildcardSetIpSpace{blacklist=[], whitelist=[10.12.11.2]}}, AclIpSpaceLine{ipSpace=IpWildcardSetIpSpace{blacklist=[], whitelist=[2.12.11.1]}}, AclIpSpaceLine{ipSpace=IpWildcardSetIpSpace{blacklist=[], whitelist=[2.12.12.1]}}, AclIpSpaceLine{ipSpace=IpWildcardSetIpSpace{blacklist=[], whitelist=[10.23.21.2]}}, AclIpSpaceLine{ipSpace=IpWildcardSetIpSpace{blacklist=[], whitelist=[2.12.22.1]}}, AclIpSpaceLine{ipSpace=IpWildcardSetIpSpace{blacklist=[], whitelist=[2.12.21.1]}}, AclIpSpaceLine{ipSpace=IpWildcardSetIpSpace{blacklist=[], whitelist=[3.0.1.1]}}, AclIpSpaceLine{ipSpace=IpWildcardSetIpSpace{blacklist=[], whitelist=[10.23.21.3]}}, AclIpSpaceLine{ipSpace=IpWildcardSetIpSpace{blacklist=[], whitelist=[10.13.22.3]}}, AclIpSpaceLine{ipSpace=IpWildcardSetIpSpace{blacklist=[], whitelist=[3.0.2.1]}}]}</td>\n",
       "    </tr>\n",
       "  </tbody>\n",
       "</table>\n",
       "</div>"
      ],
      "text/plain": [
       "                                                                                                                                                                                                                                                                                                                                                                                                                                                                                                                                                                                                                                                                                                                                                                                                                                                                                                                                                                                                                                                                                                                                                                                                                                                                                                         IP_Space\n",
       "0  AclIpSpace{lines=[AclIpSpaceLine{ipSpace=IpWildcardSetIpSpace{blacklist=[], whitelist=[1.0.1.1]}}, AclIpSpaceLine{ipSpace=IpWildcardSetIpSpace{blacklist=[], whitelist=[10.12.11.1]}}, AclIpSpaceLine{ipSpace=IpWildcardSetIpSpace{blacklist=[], whitelist=[10.13.22.1]}}, AclIpSpaceLine{ipSpace=IpWildcardSetIpSpace{blacklist=[], whitelist=[1.0.2.1]}}, AclIpSpaceLine{ipSpace=IpWildcardSetIpSpace{blacklist=[], whitelist=[10.14.22.1]}}, AclIpSpaceLine{ipSpace=IpWildcardSetIpSpace{blacklist=[], whitelist=[10.12.11.2]}}, AclIpSpaceLine{ipSpace=IpWildcardSetIpSpace{blacklist=[], whitelist=[2.12.11.1]}}, AclIpSpaceLine{ipSpace=IpWildcardSetIpSpace{blacklist=[], whitelist=[2.12.12.1]}}, AclIpSpaceLine{ipSpace=IpWildcardSetIpSpace{blacklist=[], whitelist=[10.23.21.2]}}, AclIpSpaceLine{ipSpace=IpWildcardSetIpSpace{blacklist=[], whitelist=[2.12.22.1]}}, AclIpSpaceLine{ipSpace=IpWildcardSetIpSpace{blacklist=[], whitelist=[2.12.21.1]}}, AclIpSpaceLine{ipSpace=IpWildcardSetIpSpace{blacklist=[], whitelist=[3.0.1.1]}}, AclIpSpaceLine{ipSpace=IpWildcardSetIpSpace{blacklist=[], whitelist=[10.23.21.3]}}, AclIpSpaceLine{ipSpace=IpWildcardSetIpSpace{blacklist=[], whitelist=[10.13.22.3]}}, AclIpSpaceLine{ipSpace=IpWildcardSetIpSpace{blacklist=[], whitelist=[3.0.2.1]}}]}"
      ]
     },
     "execution_count": 31,
     "metadata": {},
     "output_type": "execute_result"
    }
   ],
   "source": [
    "result.head(5)"
   ]
  },
  {
   "cell_type": "markdown",
   "id": "a7aa7a48",
   "metadata": {},
   "source": [
    "Print the first row of the returned Dataframe"
   ]
  },
  {
   "cell_type": "code",
   "execution_count": 32,
   "id": "bff9ce5d",
   "metadata": {},
   "outputs": [
    {
     "data": {
      "text/plain": [
       "IP_Space    AclIpSpace{lines=[AclIpSpaceLine{ipSpace=IpWildcardSetIpSpace{blacklist=[], whitelist=[1.0.1.1]}}, AclIpSpaceLine{ipSpace=IpWildcardSetIpSpace{blacklist=[], whitelist=[10.12.11.1]}}, AclIpSpaceLine{ipSpace=IpWildcardSetIpSpace{blacklist=[], whitelist=[10.13.22.1]}}, AclIpSpaceLine{ipSpace=IpWildcardSetIpSpace{blacklist=[], whitelist=[1.0.2.1]}}, AclIpSpaceLine{ipSpace=IpWildcardSetIpSpace{blacklist=[], whitelist=[10.14.22.1]}}, AclIpSpaceLine{ipSpace=IpWildcardSetIpSpace{blacklist=[], whitelist=[10.12.11.2]}}, AclIpSpaceLine{ipSpace=IpWildcardSetIpSpace{blacklist=[], whitelist=[2.12.11.1]}}, AclIpSpaceLine{ipSpace=IpWildcardSetIpSpace{blacklist=[], whitelist=[2.12.12.1]}}, AclIpSpaceLine{ipSpace=IpWildcardSetIpSpace{blacklist=[], whitelist=[10.23.21.2]}}, AclIpSpaceLine{ipSpace=IpWildcardSetIpSpace{blacklist=[], whitelist=[2.12.22.1]}}, AclIpSpaceLine{ipSpace=IpWildcardSetIpSpace{blacklist=[], whitelist=[2.12.21.1]}}, AclIpSpaceLine{ipSpace=IpWildcardSetIpSpace{blacklist=[], whitelist=[3.0.1.1]}}, AclIpSpaceLine{ipSpace=IpWildcardSetIpSpace{blacklist=[], whitelist=[10.23.21.3]}}, AclIpSpaceLine{ipSpace=IpWildcardSetIpSpace{blacklist=[], whitelist=[10.13.22.3]}}, AclIpSpaceLine{ipSpace=IpWildcardSetIpSpace{blacklist=[], whitelist=[3.0.2.1]}}]}\n",
       "Name: 0, dtype: object"
      ]
     },
     "execution_count": 32,
     "metadata": {},
     "output_type": "execute_result"
    }
   ],
   "source": [
    "result.iloc[0]"
   ]
  }
 ],
 "metadata": {
  "celltoolbar": "Edit Metadata",
  "hide_input": false,
  "kernelspec": {
   "display_name": "Python 3",
   "language": "python",
   "name": "python3"
  },
  "language_info": {
   "codemirror_mode": {
    "name": "ipython",
    "version": 3
   },
   "file_extension": ".py",
   "mimetype": "text/x-python",
   "name": "python",
   "nbconvert_exporter": "python",
   "pygments_lexer": "ipython3",
   "version": "3.7.7"
  }
 },
 "nbformat": 4,
 "nbformat_minor": 2
}
