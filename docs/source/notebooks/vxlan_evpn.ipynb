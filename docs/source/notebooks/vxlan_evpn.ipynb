{
 "cells": [
  {
   "cell_type": "code",
   "execution_count": 1,
   "metadata": {
    "nbsphinx": "hidden"
   },
   "outputs": [],
   "source": [
    "import pandas as pd\n",
    "from pybatfish.client.commands import *\n",
    "from pybatfish.datamodel import *\n",
    "from pybatfish.question import bfq, list_questions, load_questions\n",
    "\n",
    "pd.set_option(\"display.width\", 300) \n",
    "pd.set_option(\"display.max_columns\", 20) \n",
    "pd.set_option(\"display.max_rows\", 1000) \n",
    "pd.set_option(\"display.max_colwidth\", -1)\n",
    "\n",
    "# Configure all pybatfish loggers to use WARN level\n",
    "import logging\n",
    "logging.getLogger('pybatfish').setLevel(logging.WARN)"
   ]
  },
  {
   "cell_type": "code",
   "execution_count": 2,
   "metadata": {
    "nbsphinx": "hidden"
   },
   "outputs": [],
   "source": [
    "bf_session.host = 'localhost'"
   ]
  },
  {
   "cell_type": "code",
   "execution_count": 3,
   "metadata": {
    "nbsphinx": "hidden",
    "pycharm": {
     "name": "#%%\n"
    }
   },
   "outputs": [],
   "source": [
    "load_questions()\n"
   ]
  },
  {
   "cell_type": "markdown",
   "metadata": {},
   "source": [
    "#### VXLAN and EVPN"
   ]
  },
  {
   "cell_type": "markdown",
   "metadata": {},
   "source": [
    "* [VXLAN VNI Properties](#VXLAN-VNI-Properties)\n",
    "* [VXLAN Edges](#VXLAN-Edges)\n",
    "* [L3 EVPN VNIs](#L3-EVPN-VNIs)"
   ]
  },
  {
   "cell_type": "code",
   "execution_count": 4,
   "metadata": {
    "nbsphinx": "hidden"
   },
   "outputs": [
    {
     "data": {
      "text/plain": [
       "'generate_questions'"
      ]
     },
     "execution_count": 4,
     "metadata": {},
     "output_type": "execute_result"
    }
   ],
   "source": [
    "bf_set_network('generate_questions')"
   ]
  },
  {
   "cell_type": "code",
   "execution_count": 5,
   "metadata": {
    "nbsphinx": "hidden"
   },
   "outputs": [
    {
     "data": {
      "text/plain": [
       "'aristaevpn'"
      ]
     },
     "execution_count": 5,
     "metadata": {},
     "output_type": "execute_result"
    }
   ],
   "source": [
    "bf_set_snapshot('aristaevpn')"
   ]
  },
  {
   "cell_type": "markdown",
   "metadata": {},
   "source": [
    "##### VXLAN VNI Properties"
   ]
  },
  {
   "cell_type": "markdown",
   "metadata": {},
   "source": [
    "Returns configuration settings of VXLANs."
   ]
  },
  {
   "cell_type": "markdown",
   "metadata": {},
   "source": [
    "Lists VNI-level network segment settings configured for VXLANs."
   ]
  },
  {
   "cell_type": "markdown",
   "metadata": {},
   "source": [
    "###### Inputs"
   ]
  },
  {
   "cell_type": "markdown",
   "metadata": {},
   "source": [
    "Name | Description | Type | Optional | Default Value\n",
    "--- | --- | --- | --- | --- \n",
    "nodes | Include nodes matching this specifier. | [NodeSpec](../specifiers.md#node-specifier) | True | \n",
    "properties | Include properties matching this specifier. | [VxlanVniPropertySpec](../specifiers.md#vxlan-vni-property-specifier) | True | "
   ]
  },
  {
   "cell_type": "markdown",
   "metadata": {},
   "source": [
    "###### Invocation"
   ]
  },
  {
   "cell_type": "code",
   "execution_count": 6,
   "metadata": {},
   "outputs": [],
   "source": [
    "result = bfq.vxlanVniProperties().answer().frame()"
   ]
  },
  {
   "cell_type": "markdown",
   "metadata": {},
   "source": [
    "###### Return Value"
   ]
  },
  {
   "cell_type": "markdown",
   "metadata": {},
   "source": [
    "Name | Description | Type\n",
    "--- | --- | ---\n",
    "Node | Node | str\n",
    "VRF | VRF | str\n",
    "VNI | VXLAN Segment ID | int\n",
    "Local_VTEP_IP | IPv4 address of the local VTEP | str\n",
    "Multicast_Group | IPv4 address of the multicast group | str\n",
    "VLAN | VLAN number for the VNI | int\n",
    "VTEP_Flood_List | All IPv4 addresses in the VTEP flood list | List of str\n",
    "VXLAN_Port | Destination port number for the VXLAN tunnel | int"
   ]
  },
  {
   "cell_type": "markdown",
   "metadata": {},
   "source": [
    "Print the first 5 rows of the returned Dataframe"
   ]
  },
  {
   "cell_type": "code",
   "execution_count": 7,
   "metadata": {},
   "outputs": [
    {
     "data": {
      "text/html": [
       "<div>\n",
       "<style scoped>\n",
       "    .dataframe tbody tr th:only-of-type {\n",
       "        vertical-align: middle;\n",
       "    }\n",
       "\n",
       "    .dataframe tbody tr th {\n",
       "        vertical-align: top;\n",
       "    }\n",
       "\n",
       "    .dataframe thead th {\n",
       "        text-align: right;\n",
       "    }\n",
       "</style>\n",
       "<table border=\"1\" class=\"dataframe\">\n",
       "  <thead>\n",
       "    <tr style=\"text-align: right;\">\n",
       "      <th></th>\n",
       "      <th>Node</th>\n",
       "      <th>VRF</th>\n",
       "      <th>VNI</th>\n",
       "      <th>Local_VTEP_IP</th>\n",
       "      <th>Multicast_Group</th>\n",
       "      <th>VLAN</th>\n",
       "      <th>VTEP_Flood_List</th>\n",
       "      <th>VXLAN_Port</th>\n",
       "    </tr>\n",
       "  </thead>\n",
       "  <tbody>\n",
       "    <tr>\n",
       "      <th>0</th>\n",
       "      <td>dc1-bl1a</td>\n",
       "      <td>Tenant_A_WAN_Zone</td>\n",
       "      <td>10150</td>\n",
       "      <td>192.168.254.8</td>\n",
       "      <td>None</td>\n",
       "      <td>150</td>\n",
       "      <td>[]</td>\n",
       "      <td>4789</td>\n",
       "    </tr>\n",
       "    <tr>\n",
       "      <th>1</th>\n",
       "      <td>dc1-leaf1a</td>\n",
       "      <td>Tenant_A_OP_Zone</td>\n",
       "      <td>10110</td>\n",
       "      <td>192.168.254.3</td>\n",
       "      <td>None</td>\n",
       "      <td>110</td>\n",
       "      <td>['192.168.254.4']</td>\n",
       "      <td>4789</td>\n",
       "    </tr>\n",
       "    <tr>\n",
       "      <th>2</th>\n",
       "      <td>dc1-bl1b</td>\n",
       "      <td>Tenant_A_WAN_Zone</td>\n",
       "      <td>10150</td>\n",
       "      <td>192.168.254.8</td>\n",
       "      <td>None</td>\n",
       "      <td>150</td>\n",
       "      <td>[]</td>\n",
       "      <td>4789</td>\n",
       "    </tr>\n",
       "    <tr>\n",
       "      <th>3</th>\n",
       "      <td>dc1-leaf2a</td>\n",
       "      <td>Tenant_A_APP_Zone</td>\n",
       "      <td>10131</td>\n",
       "      <td>192.168.254.4</td>\n",
       "      <td>None</td>\n",
       "      <td>131</td>\n",
       "      <td>['192.168.254.6']</td>\n",
       "      <td>4789</td>\n",
       "    </tr>\n",
       "    <tr>\n",
       "      <th>4</th>\n",
       "      <td>dc1-leaf1a</td>\n",
       "      <td>Tenant_A_OP_Zone</td>\n",
       "      <td>10111</td>\n",
       "      <td>192.168.254.3</td>\n",
       "      <td>None</td>\n",
       "      <td>111</td>\n",
       "      <td>['192.168.254.4']</td>\n",
       "      <td>4789</td>\n",
       "    </tr>\n",
       "  </tbody>\n",
       "</table>\n",
       "</div>"
      ],
      "text/plain": [
       "         Node                VRF    VNI  Local_VTEP_IP Multicast_Group VLAN    VTEP_Flood_List VXLAN_Port\n",
       "0  dc1-bl1a    Tenant_A_WAN_Zone  10150  192.168.254.8  None            150  []                 4789     \n",
       "1  dc1-leaf1a  Tenant_A_OP_Zone   10110  192.168.254.3  None            110  ['192.168.254.4']  4789     \n",
       "2  dc1-bl1b    Tenant_A_WAN_Zone  10150  192.168.254.8  None            150  []                 4789     \n",
       "3  dc1-leaf2a  Tenant_A_APP_Zone  10131  192.168.254.4  None            131  ['192.168.254.6']  4789     \n",
       "4  dc1-leaf1a  Tenant_A_OP_Zone   10111  192.168.254.3  None            111  ['192.168.254.4']  4789     "
      ]
     },
     "execution_count": 7,
     "metadata": {},
     "output_type": "execute_result"
    }
   ],
   "source": [
    "result.head(5)"
   ]
  },
  {
   "cell_type": "markdown",
   "metadata": {},
   "source": [
    "Print the first row of the returned Dataframe"
   ]
  },
  {
   "cell_type": "code",
   "execution_count": 8,
   "metadata": {},
   "outputs": [
    {
     "data": {
      "text/plain": [
       "Node               dc1-bl1a         \n",
       "VRF                Tenant_A_WAN_Zone\n",
       "VNI                10150            \n",
       "Local_VTEP_IP      192.168.254.8    \n",
       "Multicast_Group    None             \n",
       "VLAN               150              \n",
       "VTEP_Flood_List    []               \n",
       "VXLAN_Port         4789             \n",
       "Name: 0, dtype: object"
      ]
     },
     "execution_count": 8,
     "metadata": {},
     "output_type": "execute_result"
    }
   ],
   "source": [
    "result.iloc[0]"
   ]
  },
  {
   "cell_type": "code",
   "execution_count": 9,
   "metadata": {
    "nbsphinx": "hidden"
   },
   "outputs": [
    {
     "data": {
      "text/plain": [
       "'generate_questions'"
      ]
     },
     "execution_count": 9,
     "metadata": {},
     "output_type": "execute_result"
    }
   ],
   "source": [
    "bf_set_network('generate_questions')"
   ]
  },
  {
   "cell_type": "code",
   "execution_count": 10,
   "metadata": {
    "nbsphinx": "hidden"
   },
   "outputs": [
    {
     "data": {
      "text/plain": [
       "'aristaevpn'"
      ]
     },
     "execution_count": 10,
     "metadata": {},
     "output_type": "execute_result"
    }
   ],
   "source": [
    "bf_set_snapshot('aristaevpn')"
   ]
  },
  {
   "cell_type": "markdown",
   "metadata": {},
   "source": [
    "##### VXLAN Edges"
   ]
  },
  {
   "cell_type": "markdown",
   "metadata": {},
   "source": [
    "Returns VXLAN edges."
   ]
  },
  {
   "cell_type": "markdown",
   "metadata": {},
   "source": [
    "Lists all VXLAN edges in the network."
   ]
  },
  {
   "cell_type": "markdown",
   "metadata": {},
   "source": [
    "###### Inputs"
   ]
  },
  {
   "cell_type": "markdown",
   "metadata": {},
   "source": [
    "Name | Description | Type | Optional | Default Value\n",
    "--- | --- | --- | --- | --- \n",
    "nodes | Include edges whose first node matches this name or regex. | [NodeSpec](../specifiers.md#node-specifier) | True | .*\n",
    "remoteNodes | Include edges whose second node matches this name or regex. | [NodeSpec](../specifiers.md#node-specifier) | True | .*"
   ]
  },
  {
   "cell_type": "markdown",
   "metadata": {},
   "source": [
    "###### Invocation"
   ]
  },
  {
   "cell_type": "code",
   "execution_count": 11,
   "metadata": {},
   "outputs": [],
   "source": [
    "result = bfq.vxlanEdges().answer().frame()"
   ]
  },
  {
   "cell_type": "markdown",
   "metadata": {},
   "source": [
    "###### Return Value"
   ]
  },
  {
   "cell_type": "markdown",
   "metadata": {},
   "source": [
    "Name | Description | Type\n",
    "--- | --- | ---\n",
    "VNI | VNI of the VXLAN tunnel edge | int\n",
    "Node | Node from which the edge originates | str\n",
    "Remote_Node | Node at which the edge terminates | str\n",
    "VTEP_Address | VTEP IP of node from which the edge originates | str\n",
    "Remote_VTEP_Address | VTEP IP of node at which the edge terminates | str\n",
    "VLAN | VLAN associated with VNI on node from which the edge originates | int\n",
    "Remote_VLAN | VLAN associated with VNI on node at which the edge terminates | int\n",
    "UDP_Port | UDP port of the VXLAN tunnel transport | int\n",
    "Multicast_Group | Multicast group of the VXLAN tunnel transport | str"
   ]
  },
  {
   "cell_type": "markdown",
   "metadata": {},
   "source": [
    "Print the first 5 rows of the returned Dataframe"
   ]
  },
  {
   "cell_type": "code",
   "execution_count": 12,
   "metadata": {},
   "outputs": [
    {
     "data": {
      "text/html": [
       "<div>\n",
       "<style scoped>\n",
       "    .dataframe tbody tr th:only-of-type {\n",
       "        vertical-align: middle;\n",
       "    }\n",
       "\n",
       "    .dataframe tbody tr th {\n",
       "        vertical-align: top;\n",
       "    }\n",
       "\n",
       "    .dataframe thead th {\n",
       "        text-align: right;\n",
       "    }\n",
       "</style>\n",
       "<table border=\"1\" class=\"dataframe\">\n",
       "  <thead>\n",
       "    <tr style=\"text-align: right;\">\n",
       "      <th></th>\n",
       "      <th>VNI</th>\n",
       "      <th>Node</th>\n",
       "      <th>Remote_Node</th>\n",
       "      <th>VTEP_Address</th>\n",
       "      <th>Remote_VTEP_Address</th>\n",
       "      <th>VLAN</th>\n",
       "      <th>Remote_VLAN</th>\n",
       "      <th>UDP_Port</th>\n",
       "      <th>Multicast_Group</th>\n",
       "    </tr>\n",
       "  </thead>\n",
       "  <tbody>\n",
       "    <tr>\n",
       "      <th>0</th>\n",
       "      <td>10130</td>\n",
       "      <td>dc1-leaf2b</td>\n",
       "      <td>dc1-svc3a</td>\n",
       "      <td>192.168.254.4</td>\n",
       "      <td>192.168.254.6</td>\n",
       "      <td>130</td>\n",
       "      <td>130</td>\n",
       "      <td>4789</td>\n",
       "      <td>None</td>\n",
       "    </tr>\n",
       "    <tr>\n",
       "      <th>1</th>\n",
       "      <td>10140</td>\n",
       "      <td>dc1-leaf2a</td>\n",
       "      <td>dc1-svc3a</td>\n",
       "      <td>192.168.254.4</td>\n",
       "      <td>192.168.254.6</td>\n",
       "      <td>140</td>\n",
       "      <td>140</td>\n",
       "      <td>4789</td>\n",
       "      <td>None</td>\n",
       "    </tr>\n",
       "    <tr>\n",
       "      <th>2</th>\n",
       "      <td>10130</td>\n",
       "      <td>dc1-svc3a</td>\n",
       "      <td>dc1-leaf2a</td>\n",
       "      <td>192.168.254.6</td>\n",
       "      <td>192.168.254.4</td>\n",
       "      <td>130</td>\n",
       "      <td>130</td>\n",
       "      <td>4789</td>\n",
       "      <td>None</td>\n",
       "    </tr>\n",
       "    <tr>\n",
       "      <th>3</th>\n",
       "      <td>10111</td>\n",
       "      <td>dc1-leaf1a</td>\n",
       "      <td>dc1-leaf2b</td>\n",
       "      <td>192.168.254.3</td>\n",
       "      <td>192.168.254.4</td>\n",
       "      <td>111</td>\n",
       "      <td>111</td>\n",
       "      <td>4789</td>\n",
       "      <td>None</td>\n",
       "    </tr>\n",
       "    <tr>\n",
       "      <th>4</th>\n",
       "      <td>10130</td>\n",
       "      <td>dc1-svc3b</td>\n",
       "      <td>dc1-leaf2b</td>\n",
       "      <td>192.168.254.6</td>\n",
       "      <td>192.168.254.4</td>\n",
       "      <td>130</td>\n",
       "      <td>130</td>\n",
       "      <td>4789</td>\n",
       "      <td>None</td>\n",
       "    </tr>\n",
       "  </tbody>\n",
       "</table>\n",
       "</div>"
      ],
      "text/plain": [
       "     VNI        Node Remote_Node   VTEP_Address Remote_VTEP_Address VLAN Remote_VLAN UDP_Port Multicast_Group\n",
       "0  10130  dc1-leaf2b  dc1-svc3a   192.168.254.4  192.168.254.6       130  130         4789     None          \n",
       "1  10140  dc1-leaf2a  dc1-svc3a   192.168.254.4  192.168.254.6       140  140         4789     None          \n",
       "2  10130  dc1-svc3a   dc1-leaf2a  192.168.254.6  192.168.254.4       130  130         4789     None          \n",
       "3  10111  dc1-leaf1a  dc1-leaf2b  192.168.254.3  192.168.254.4       111  111         4789     None          \n",
       "4  10130  dc1-svc3b   dc1-leaf2b  192.168.254.6  192.168.254.4       130  130         4789     None          "
      ]
     },
     "execution_count": 12,
     "metadata": {},
     "output_type": "execute_result"
    }
   ],
   "source": [
    "result.head(5)"
   ]
  },
  {
   "cell_type": "markdown",
   "metadata": {},
   "source": [
    "Print the first row of the returned Dataframe"
   ]
  },
  {
   "cell_type": "code",
   "execution_count": 13,
   "metadata": {},
   "outputs": [
    {
     "data": {
      "text/plain": [
       "VNI                    10130        \n",
       "Node                   dc1-leaf2b   \n",
       "Remote_Node            dc1-svc3a    \n",
       "VTEP_Address           192.168.254.4\n",
       "Remote_VTEP_Address    192.168.254.6\n",
       "VLAN                   130          \n",
       "Remote_VLAN            130          \n",
       "UDP_Port               4789         \n",
       "Multicast_Group        None         \n",
       "Name: 0, dtype: object"
      ]
     },
     "execution_count": 13,
     "metadata": {},
     "output_type": "execute_result"
    }
   ],
   "source": [
    "result.iloc[0]"
   ]
  },
  {
   "cell_type": "code",
   "execution_count": 14,
   "metadata": {
    "nbsphinx": "hidden"
   },
   "outputs": [
    {
     "data": {
      "text/plain": [
       "'generate_questions'"
      ]
     },
     "execution_count": 14,
     "metadata": {},
     "output_type": "execute_result"
    }
   ],
   "source": [
    "bf_set_network('generate_questions')"
   ]
  },
  {
   "cell_type": "code",
   "execution_count": 15,
   "metadata": {
    "nbsphinx": "hidden"
   },
   "outputs": [
    {
     "data": {
      "text/plain": [
       "'aristaevpn'"
      ]
     },
     "execution_count": 15,
     "metadata": {},
     "output_type": "execute_result"
    }
   ],
   "source": [
    "bf_set_snapshot('aristaevpn')"
   ]
  },
  {
   "cell_type": "markdown",
   "metadata": {},
   "source": [
    "##### L3 EVPN VNIs"
   ]
  },
  {
   "cell_type": "markdown",
   "metadata": {},
   "source": [
    "Returns configuration settings of VXLANs."
   ]
  },
  {
   "cell_type": "markdown",
   "metadata": {},
   "source": [
    "Lists VNI-level network segment settings configured for VXLANs."
   ]
  },
  {
   "cell_type": "markdown",
   "metadata": {},
   "source": [
    "###### Inputs"
   ]
  },
  {
   "cell_type": "markdown",
   "metadata": {},
   "source": [
    "Name | Description | Type | Optional | Default Value\n",
    "--- | --- | --- | --- | --- \n",
    "nodes | Include nodes matching this specifier. | [NodeSpec](../specifiers.md#node-specifier) | True | "
   ]
  },
  {
   "cell_type": "markdown",
   "metadata": {},
   "source": [
    "###### Invocation"
   ]
  },
  {
   "cell_type": "code",
   "execution_count": 16,
   "metadata": {},
   "outputs": [],
   "source": [
    "result = bfq.evpnL3VniProperties().answer().frame()"
   ]
  },
  {
   "cell_type": "markdown",
   "metadata": {},
   "source": [
    "###### Return Value"
   ]
  },
  {
   "cell_type": "markdown",
   "metadata": {},
   "source": [
    "Name | Description | Type\n",
    "--- | --- | ---\n",
    "Node | Node | str\n",
    "VRF | VRF | str\n",
    "VNI | VXLAN Segment ID | int\n",
    "Route_Distinguisher | Route distinguisher | str\n",
    "Import_Route_Target | Import route target | str\n",
    "Export_Route_Target | Export route target | str"
   ]
  },
  {
   "cell_type": "markdown",
   "metadata": {},
   "source": [
    "Print the first 5 rows of the returned Dataframe"
   ]
  },
  {
   "cell_type": "code",
   "execution_count": 17,
   "metadata": {},
   "outputs": [
    {
     "data": {
      "text/html": [
       "<div>\n",
       "<style scoped>\n",
       "    .dataframe tbody tr th:only-of-type {\n",
       "        vertical-align: middle;\n",
       "    }\n",
       "\n",
       "    .dataframe tbody tr th {\n",
       "        vertical-align: top;\n",
       "    }\n",
       "\n",
       "    .dataframe thead th {\n",
       "        text-align: right;\n",
       "    }\n",
       "</style>\n",
       "<table border=\"1\" class=\"dataframe\">\n",
       "  <thead>\n",
       "    <tr style=\"text-align: right;\">\n",
       "      <th></th>\n",
       "      <th>Node</th>\n",
       "      <th>VRF</th>\n",
       "      <th>VNI</th>\n",
       "      <th>Route_Distinguisher</th>\n",
       "      <th>Import_Route_Target</th>\n",
       "      <th>Export_Route_Target</th>\n",
       "    </tr>\n",
       "  </thead>\n",
       "  <tbody>\n",
       "    <tr>\n",
       "      <th>0</th>\n",
       "      <td>dc1-bl1a</td>\n",
       "      <td>Tenant_A_WAN_Zone</td>\n",
       "      <td>15005</td>\n",
       "      <td>192.168.255.8:15005</td>\n",
       "      <td>15005:15005</td>\n",
       "      <td>15005:15005</td>\n",
       "    </tr>\n",
       "    <tr>\n",
       "      <th>1</th>\n",
       "      <td>dc1-bl1a</td>\n",
       "      <td>Tenant_B_WAN_Zone</td>\n",
       "      <td>25021</td>\n",
       "      <td>192.168.255.8:25021</td>\n",
       "      <td>25021:25021</td>\n",
       "      <td>25021:25021</td>\n",
       "    </tr>\n",
       "    <tr>\n",
       "      <th>2</th>\n",
       "      <td>dc1-bl1a</td>\n",
       "      <td>Tenant_C_WAN_Zone</td>\n",
       "      <td>35031</td>\n",
       "      <td>192.168.255.8:35031</td>\n",
       "      <td>35031:35031</td>\n",
       "      <td>35031:35031</td>\n",
       "    </tr>\n",
       "    <tr>\n",
       "      <th>3</th>\n",
       "      <td>dc1-bl1b</td>\n",
       "      <td>Tenant_A_WAN_Zone</td>\n",
       "      <td>15005</td>\n",
       "      <td>192.168.255.9:15005</td>\n",
       "      <td>15005:15005</td>\n",
       "      <td>15005:15005</td>\n",
       "    </tr>\n",
       "    <tr>\n",
       "      <th>4</th>\n",
       "      <td>dc1-bl1b</td>\n",
       "      <td>Tenant_B_WAN_Zone</td>\n",
       "      <td>25021</td>\n",
       "      <td>192.168.255.9:25021</td>\n",
       "      <td>25021:25021</td>\n",
       "      <td>25021:25021</td>\n",
       "    </tr>\n",
       "  </tbody>\n",
       "</table>\n",
       "</div>"
      ],
      "text/plain": [
       "       Node                VRF    VNI  Route_Distinguisher Import_Route_Target Export_Route_Target\n",
       "0  dc1-bl1a  Tenant_A_WAN_Zone  15005  192.168.255.8:15005  15005:15005         15005:15005       \n",
       "1  dc1-bl1a  Tenant_B_WAN_Zone  25021  192.168.255.8:25021  25021:25021         25021:25021       \n",
       "2  dc1-bl1a  Tenant_C_WAN_Zone  35031  192.168.255.8:35031  35031:35031         35031:35031       \n",
       "3  dc1-bl1b  Tenant_A_WAN_Zone  15005  192.168.255.9:15005  15005:15005         15005:15005       \n",
       "4  dc1-bl1b  Tenant_B_WAN_Zone  25021  192.168.255.9:25021  25021:25021         25021:25021       "
      ]
     },
     "execution_count": 17,
     "metadata": {},
     "output_type": "execute_result"
    }
   ],
   "source": [
    "result.head(5)"
   ]
  },
  {
   "cell_type": "markdown",
   "metadata": {},
   "source": [
    "Print the first row of the returned Dataframe"
   ]
  },
  {
   "cell_type": "code",
   "execution_count": 18,
   "metadata": {},
   "outputs": [
    {
     "data": {
      "text/plain": [
       "Node                   dc1-bl1a           \n",
       "VRF                    Tenant_A_WAN_Zone  \n",
       "VNI                    15005              \n",
       "Route_Distinguisher    192.168.255.8:15005\n",
       "Import_Route_Target    15005:15005        \n",
       "Export_Route_Target    15005:15005        \n",
       "Name: 0, dtype: object"
      ]
     },
     "execution_count": 18,
     "metadata": {},
     "output_type": "execute_result"
    }
   ],
   "source": [
    "result.iloc[0]"
   ]
  }
 ],
 "metadata": {
  "celltoolbar": "Edit Metadata",
  "hide_input": false,
  "kernelspec": {
   "display_name": "Python 3",
   "language": "python",
   "name": "python3"
  },
  "language_info": {
   "codemirror_mode": {
    "name": "ipython",
    "version": 3
   },
   "file_extension": ".py",
   "mimetype": "text/x-python",
   "name": "python",
   "nbconvert_exporter": "python",
   "pygments_lexer": "ipython3",
   "version": "3.7.7"
  },
  "pycharm": {
   "stem_cell": {
    "cell_type": "raw",
    "metadata": {
     "collapsed": false
    },
    "source": []
   }
  }
 },
 "nbformat": 4,
 "nbformat_minor": 2
}
