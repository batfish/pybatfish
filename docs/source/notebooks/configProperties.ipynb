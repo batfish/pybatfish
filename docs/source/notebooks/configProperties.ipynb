{
 "cells": [
  {
   "cell_type": "code",
   "execution_count": 1,
   "metadata": {
    "nbsphinx": "hidden"
   },
   "outputs": [],
   "source": [
    "import pandas as pd\n",
    "from pybatfish.client.session import Session\n",
    "from pybatfish.datamodel import *\n",
    "\n",
    "pd.set_option(\"display.width\", 300) \n",
    "pd.set_option(\"display.max_columns\", 30) \n",
    "pd.set_option(\"display.max_rows\", 1000) \n",
    "pd.set_option(\"display.max_colwidth\", None)\n",
    "\n",
    "# Configure all pybatfish loggers to use WARN level\n",
    "import logging\n",
    "logging.getLogger('pybatfish').setLevel(logging.WARN)"
   ]
  },
  {
   "cell_type": "code",
   "execution_count": 2,
   "metadata": {
    "nbsphinx": "hidden"
   },
   "outputs": [],
   "source": [
    "bf = Session(host=\"localhost\")\n",
    "\n"
   ]
  },
  {
   "cell_type": "markdown",
   "id": "6f30985a",
   "metadata": {},
   "source": [
    "#### Configuration Properties"
   ]
  },
  {
   "cell_type": "markdown",
   "id": "837c0905",
   "metadata": {},
   "source": [
    "This category of questions enables you to retrieve and process the\n",
    "contents of device configurations in a vendor-agnostic manner\n",
    "(except where the question itself is vendor-specific). Batfish organizes\n",
    "configuration content into several sub-categories.\n"
   ]
  },
  {
   "cell_type": "markdown",
   "id": "67dcd81a",
   "metadata": {},
   "source": [
    "* [Node Properties](#Node-Properties)\n",
    "* [Interface Properties](#Interface-Properties)\n",
    "* [BGP Process Configuration](#BGP-Process-Configuration)\n",
    "* [BGP Peer Configuration](#BGP-Peer-Configuration)\n",
    "* [HSRP Properties](#HSRP-Properties)\n",
    "* [OSPF Process Configuration](#OSPF-Process-Configuration)\n",
    "* [OSPF Interface Configuration](#OSPF-Interface-Configuration)\n",
    "* [OSPF Area Configuration](#OSPF-Area-Configuration)\n",
    "* [Multi-chassis LAG](#Multi-chassis-LAG)\n",
    "* [IP Owners](#IP-Owners)\n",
    "* [Named Structures](#Named-Structures)\n",
    "* [Defined Structures](#Defined-Structures)\n",
    "* [Referenced Structures](#Referenced-Structures)\n",
    "* [Undefined References](#Undefined-References)\n",
    "* [Unused Structures](#Unused-Structures)\n",
    "* [VLAN Properties](#VLAN-Properties)\n",
    "* [VRRP Properties](#VRRP-Properties)\n",
    "* [A10 Virtual Server Configuration](#A10-Virtual-Server-Configuration)\n",
    "* [F5 BIG-IP VIP Configuration](#F5-BIG-IP-VIP-Configuration)"
   ]
  },
  {
   "cell_type": "code",
   "execution_count": 3,
   "id": "17010f34",
   "metadata": {
    "nbsphinx": "hidden"
   },
   "outputs": [
    {
     "data": {
      "text/plain": [
       "'generate_questions'"
      ]
     },
     "execution_count": 3,
     "metadata": {},
     "output_type": "execute_result"
    }
   ],
   "source": [
    "bf.set_network('generate_questions')"
   ]
  },
  {
   "cell_type": "code",
   "execution_count": 4,
   "id": "61c2fe77",
   "metadata": {
    "nbsphinx": "hidden"
   },
   "outputs": [
    {
     "data": {
      "text/plain": [
       "'generate_questions'"
      ]
     },
     "execution_count": 4,
     "metadata": {},
     "output_type": "execute_result"
    }
   ],
   "source": [
    "bf.set_snapshot('generate_questions')"
   ]
  },
  {
   "cell_type": "markdown",
   "id": "e07be270",
   "metadata": {},
   "source": [
    "##### Node Properties"
   ]
  },
  {
   "cell_type": "markdown",
   "id": "d209141d",
   "metadata": {},
   "source": [
    "Returns configuration settings of nodes."
   ]
  },
  {
   "cell_type": "markdown",
   "id": "3d912018",
   "metadata": {},
   "source": [
    "Lists global settings of devices in the network. Settings that are specific to interfaces, routing protocols, etc. are available via other questions."
   ]
  },
  {
   "cell_type": "markdown",
   "id": "5098ecc7",
   "metadata": {},
   "source": [
    "###### **Inputs**"
   ]
  },
  {
   "cell_type": "markdown",
   "id": "289dc7ce",
   "metadata": {},
   "source": [
    "Name | Description | Type | Optional | Default Value\n",
    "--- | --- | --- | --- | --- \n",
    "nodes | Include nodes matching this name or regex. | [NodeSpec](../specifiers.md#node-specifier) | True | \n",
    "properties | Include properties matching this regex. | [NodePropertySpec](../specifiers.md#node-property-specifier) | True | "
   ]
  },
  {
   "cell_type": "markdown",
   "id": "1cb59669",
   "metadata": {},
   "source": [
    "###### **Invocation**"
   ]
  },
  {
   "cell_type": "code",
   "execution_count": 5,
   "id": "6633c85f",
   "metadata": {},
   "outputs": [],
   "source": [
    "result = bf.q.nodeProperties().answer().frame()"
   ]
  },
  {
   "cell_type": "markdown",
   "id": "03c93297",
   "metadata": {},
   "source": [
    "###### **Return Value**"
   ]
  },
  {
   "cell_type": "markdown",
   "id": "ce9647ee",
   "metadata": {},
   "source": [
    "Name | Description | Type\n",
    "--- | --- | ---\n",
    "Node | Node | str\n",
    "AS_Path_Access_Lists | Names of AS path access lists | Set of str\n",
    "Authentication_Key_Chains | Names of authentication keychains | Set of str\n",
    "Community_Match_Exprs | Names of expressions for matching a community | Set of str\n",
    "Community_Set_Exprs | Names of expressions representing a community-set | Set of str\n",
    "Community_Set_Match_Exprs | Names of expressions for matching a ommunity-set | Set of str\n",
    "Community_Sets | Names of community-sets | Set of str\n",
    "Configuration_Format | Configuration format of the node | str\n",
    "DNS_Servers | Configured DNS servers | Set of str\n",
    "DNS_Source_Interface | Source interface to use for communicating with DNS servers | str\n",
    "Default_Cross_Zone_Action | Default action (PERMIT, DENY) for traffic that traverses firewall zones (null for non-firewall nodes) | str\n",
    "Default_Inbound_Action | Default action (PERMIT, DENY) for traffic destined for this node | str\n",
    "Domain_Name | Domain name of the node | str\n",
    "Hostname | Hostname of the node | str\n",
    "IKE_Phase1_Keys | Names of IKE Phase 1 keys | Set of str\n",
    "IKE_Phase1_Policies | Names of IKE Phase 1 policies | Set of str\n",
    "IKE_Phase1_Proposals | Names of IKE Phase 1 proposals | Set of str\n",
    "IP6_Access_Lists | (Deprecated) Names of IPv6 filters (ACLs, firewall rule sets) | Set of str\n",
    "IP_Access_Lists | Names of IPv4 filters (ACLs, firewall rule sets) | Set of str\n",
    "IPsec_Peer_Configs | Names of IPSec peers | Set of str\n",
    "IPsec_Phase2_Policies | Names of IPSec Phase 2 policies | Set of str\n",
    "IPsec_Phase2_Proposals | Names of IPSec Phase 2 proposals | Set of str\n",
    "Interfaces | Names of interfaces | Set of str\n",
    "Logging_Servers | Configured logging servers | Set of str\n",
    "Logging_Source_Interface | Source interface for communicating with logging servers | str\n",
    "NTP_Servers | Configured NTP servers | Set of str\n",
    "NTP_Source_Interface | Source interface for communicating with NTP servers | str\n",
    "PBR_Policies | Names of policy-based routing (PBR) policies | Set of str\n",
    "Route6_Filter_Lists | (Deprecated) Names of structures that filter IPv6 routes (e.g., prefix lists) | Set of str\n",
    "Route_Filter_Lists | Names of structures that filter IPv4 routes (e.g., prefix lists) | Set of str\n",
    "Routing_Policies | Names of policies that manipulate routes (e.g., route maps) | Set of str\n",
    "SNMP_Source_Interface | Source interface to use for communicating with SNMP servers | str\n",
    "SNMP_Trap_Servers | Configured SNMP trap servers | Set of str\n",
    "TACACS_Servers | Configured TACACS servers | Set of str\n",
    "TACACS_Source_Interface | Source interface to use for communicating with TACACS servers | str\n",
    "VRFs | Names of VRFs present on the node | Set of str\n",
    "Zones | Names of firewall zones on the node | Set of str"
   ]
  },
  {
   "cell_type": "markdown",
   "id": "385c6b6d",
   "metadata": {},
   "source": [
    "Print the first 5 rows of the returned Dataframe"
   ]
  },
  {
   "cell_type": "code",
   "execution_count": 6,
   "id": "c41c7188",
   "metadata": {},
   "outputs": [
    {
     "data": {
      "text/html": [
       "<div>\n",
       "<style scoped>\n",
       "    .dataframe tbody tr th:only-of-type {\n",
       "        vertical-align: middle;\n",
       "    }\n",
       "\n",
       "    .dataframe tbody tr th {\n",
       "        vertical-align: top;\n",
       "    }\n",
       "\n",
       "    .dataframe thead th {\n",
       "        text-align: right;\n",
       "    }\n",
       "</style>\n",
       "<table border=\"1\" class=\"dataframe\">\n",
       "  <thead>\n",
       "    <tr style=\"text-align: right;\">\n",
       "      <th></th>\n",
       "      <th>Node</th>\n",
       "      <th>AS_Path_Access_Lists</th>\n",
       "      <th>Authentication_Key_Chains</th>\n",
       "      <th>Community_Match_Exprs</th>\n",
       "      <th>Community_Set_Exprs</th>\n",
       "      <th>Community_Set_Match_Exprs</th>\n",
       "      <th>Community_Sets</th>\n",
       "      <th>Configuration_Format</th>\n",
       "      <th>DNS_Servers</th>\n",
       "      <th>DNS_Source_Interface</th>\n",
       "      <th>Default_Cross_Zone_Action</th>\n",
       "      <th>Default_Inbound_Action</th>\n",
       "      <th>Domain_Name</th>\n",
       "      <th>Hostname</th>\n",
       "      <th>IKE_Phase1_Keys</th>\n",
       "      <th>...</th>\n",
       "      <th>Interfaces</th>\n",
       "      <th>Logging_Servers</th>\n",
       "      <th>Logging_Source_Interface</th>\n",
       "      <th>NTP_Servers</th>\n",
       "      <th>NTP_Source_Interface</th>\n",
       "      <th>PBR_Policies</th>\n",
       "      <th>Route6_Filter_Lists</th>\n",
       "      <th>Route_Filter_Lists</th>\n",
       "      <th>Routing_Policies</th>\n",
       "      <th>SNMP_Source_Interface</th>\n",
       "      <th>SNMP_Trap_Servers</th>\n",
       "      <th>TACACS_Servers</th>\n",
       "      <th>TACACS_Source_Interface</th>\n",
       "      <th>VRFs</th>\n",
       "      <th>Zones</th>\n",
       "    </tr>\n",
       "  </thead>\n",
       "  <tbody>\n",
       "    <tr>\n",
       "      <th>0</th>\n",
       "      <td>as2border2</td>\n",
       "      <td>[]</td>\n",
       "      <td>[]</td>\n",
       "      <td>['as1_community', 'as2_community', 'as3_community']</td>\n",
       "      <td>[]</td>\n",
       "      <td>['as1_community', 'as2_community', 'as3_community']</td>\n",
       "      <td>[]</td>\n",
       "      <td>CISCO_IOS</td>\n",
       "      <td>[]</td>\n",
       "      <td>None</td>\n",
       "      <td>PERMIT</td>\n",
       "      <td>PERMIT</td>\n",
       "      <td>lab.local</td>\n",
       "      <td>as2border2</td>\n",
       "      <td>[]</td>\n",
       "      <td>...</td>\n",
       "      <td>['Ethernet0/0', 'GigabitEthernet0/0', 'GigabitEthernet1/0', 'GigabitEthernet2/0', 'Loopback0']</td>\n",
       "      <td>[]</td>\n",
       "      <td>None</td>\n",
       "      <td>['18.18.18.18']</td>\n",
       "      <td>None</td>\n",
       "      <td>[]</td>\n",
       "      <td>[]</td>\n",
       "      <td>['101', '103', 'inbound_route_filter', 'outbound_routes', '~MATCH_SUPPRESSED_SUMMARY_ONLY:default~']</td>\n",
       "      <td>['as1_to_as2', 'as2_to_as1', 'as2_to_as3', 'as3_to_as2', '~BGP_COMMON_EXPORT_POLICY:default~', '~BGP_PEER_EXPORT_POLICY:default:10.23.21.3~', '~BGP_PEER_EXPORT_POLICY:default:2.1.2.1~', '~BGP_PEER_EXPORT_POLICY:default:2.1.2.2~', '~BGP_REDISTRIBUTION_POLICY:default~', '~OSPF_EXPORT_POLICY:default:1~', '~RESOLUTION_POLICY~', '~suppress~rp~summary-only~']</td>\n",
       "      <td>None</td>\n",
       "      <td>[]</td>\n",
       "      <td>[]</td>\n",
       "      <td>None</td>\n",
       "      <td>['default']</td>\n",
       "      <td>[]</td>\n",
       "    </tr>\n",
       "    <tr>\n",
       "      <th>1</th>\n",
       "      <td>as1border1</td>\n",
       "      <td>[]</td>\n",
       "      <td>[]</td>\n",
       "      <td>['as1_community', 'as2_community', 'as3_community']</td>\n",
       "      <td>[]</td>\n",
       "      <td>['as1_community', 'as2_community', 'as3_community']</td>\n",
       "      <td>[]</td>\n",
       "      <td>CISCO_IOS</td>\n",
       "      <td>[]</td>\n",
       "      <td>None</td>\n",
       "      <td>PERMIT</td>\n",
       "      <td>PERMIT</td>\n",
       "      <td>lab.local</td>\n",
       "      <td>as1border1</td>\n",
       "      <td>[]</td>\n",
       "      <td>...</td>\n",
       "      <td>['Ethernet0/0', 'GigabitEthernet0/0', 'GigabitEthernet1/0', 'Loopback0']</td>\n",
       "      <td>[]</td>\n",
       "      <td>None</td>\n",
       "      <td>[]</td>\n",
       "      <td>None</td>\n",
       "      <td>[]</td>\n",
       "      <td>[]</td>\n",
       "      <td>['101', '102', '103', 'default_list', 'inbound_route_filter']</td>\n",
       "      <td>['as1_to_as2', 'as1_to_as3', 'as2_to_as1', 'as3_to_as1', '~BGP_COMMON_EXPORT_POLICY:default~', '~BGP_PEER_EXPORT_POLICY:default:1.10.1.1~', '~BGP_PEER_EXPORT_POLICY:default:10.12.11.2~', '~BGP_PEER_EXPORT_POLICY:default:3.2.2.2~', '~BGP_PEER_EXPORT_POLICY:default:5.6.7.8~', '~BGP_REDISTRIBUTION_POLICY:default~', '~OSPF_EXPORT_POLICY:default:1~', '~RESOLUTION_POLICY~']</td>\n",
       "      <td>None</td>\n",
       "      <td>[]</td>\n",
       "      <td>[]</td>\n",
       "      <td>None</td>\n",
       "      <td>['default']</td>\n",
       "      <td>[]</td>\n",
       "    </tr>\n",
       "    <tr>\n",
       "      <th>2</th>\n",
       "      <td>as3border2</td>\n",
       "      <td>[]</td>\n",
       "      <td>[]</td>\n",
       "      <td>['as1_community', 'as2_community', 'as3_community']</td>\n",
       "      <td>[]</td>\n",
       "      <td>['as1_community', 'as2_community', 'as3_community']</td>\n",
       "      <td>[]</td>\n",
       "      <td>CISCO_IOS</td>\n",
       "      <td>[]</td>\n",
       "      <td>None</td>\n",
       "      <td>PERMIT</td>\n",
       "      <td>PERMIT</td>\n",
       "      <td>lab.local</td>\n",
       "      <td>as3border2</td>\n",
       "      <td>[]</td>\n",
       "      <td>...</td>\n",
       "      <td>['Ethernet0/0', 'GigabitEthernet0/0', 'GigabitEthernet1/0', 'Loopback0']</td>\n",
       "      <td>[]</td>\n",
       "      <td>None</td>\n",
       "      <td>['18.18.18.18', '23.23.23.23']</td>\n",
       "      <td>None</td>\n",
       "      <td>[]</td>\n",
       "      <td>[]</td>\n",
       "      <td>['101', '102', '103', 'inbound_route_filter']</td>\n",
       "      <td>['as1_to_as3', 'as2_to_as3', 'as3_to_as1', 'as3_to_as2', '~BGP_COMMON_EXPORT_POLICY:default~', '~BGP_PEER_EXPORT_POLICY:default:10.13.22.1~', '~BGP_PEER_EXPORT_POLICY:default:3.10.1.1~', '~BGP_REDISTRIBUTION_POLICY:default~', '~OSPF_EXPORT_POLICY:default:1~', '~RESOLUTION_POLICY~']</td>\n",
       "      <td>None</td>\n",
       "      <td>[]</td>\n",
       "      <td>[]</td>\n",
       "      <td>None</td>\n",
       "      <td>['default']</td>\n",
       "      <td>[]</td>\n",
       "    </tr>\n",
       "    <tr>\n",
       "      <th>3</th>\n",
       "      <td>as1border2</td>\n",
       "      <td>[]</td>\n",
       "      <td>[]</td>\n",
       "      <td>['as1_community', 'as2_community', 'as3_community', 'as4_community']</td>\n",
       "      <td>[]</td>\n",
       "      <td>['as1_community', 'as2_community', 'as3_community', 'as4_community']</td>\n",
       "      <td>[]</td>\n",
       "      <td>CISCO_IOS</td>\n",
       "      <td>[]</td>\n",
       "      <td>None</td>\n",
       "      <td>PERMIT</td>\n",
       "      <td>PERMIT</td>\n",
       "      <td>lab.local</td>\n",
       "      <td>as1border2</td>\n",
       "      <td>[]</td>\n",
       "      <td>...</td>\n",
       "      <td>['Ethernet0/0', 'GigabitEthernet0/0', 'GigabitEthernet1/0', 'GigabitEthernet2/0', 'Loopback0']</td>\n",
       "      <td>[]</td>\n",
       "      <td>None</td>\n",
       "      <td>['18.18.18.18', '23.23.23.23']</td>\n",
       "      <td>None</td>\n",
       "      <td>[]</td>\n",
       "      <td>[]</td>\n",
       "      <td>['101', '102', '103', 'as4-prefixes', 'inbound_route_filter']</td>\n",
       "      <td>['as1_to_as2', 'as1_to_as3', 'as1_to_as4', 'as2_to_as1', 'as3_to_as1', 'as4_to_as1', '~BGP_COMMON_EXPORT_POLICY:default~', '~BGP_PEER_EXPORT_POLICY:default:1.10.1.1~', '~BGP_PEER_EXPORT_POLICY:default:10.13.22.3~', '~BGP_PEER_EXPORT_POLICY:default:10.14.22.4~', '~BGP_REDISTRIBUTION_POLICY:default~', '~OSPF_EXPORT_POLICY:default:1~', '~RESOLUTION_POLICY~']</td>\n",
       "      <td>None</td>\n",
       "      <td>[]</td>\n",
       "      <td>[]</td>\n",
       "      <td>None</td>\n",
       "      <td>['default']</td>\n",
       "      <td>[]</td>\n",
       "    </tr>\n",
       "    <tr>\n",
       "      <th>4</th>\n",
       "      <td>as2dept1</td>\n",
       "      <td>[]</td>\n",
       "      <td>[]</td>\n",
       "      <td>['as2_community']</td>\n",
       "      <td>[]</td>\n",
       "      <td>['as2_community']</td>\n",
       "      <td>[]</td>\n",
       "      <td>CISCO_IOS</td>\n",
       "      <td>[]</td>\n",
       "      <td>None</td>\n",
       "      <td>PERMIT</td>\n",
       "      <td>PERMIT</td>\n",
       "      <td>lab.local</td>\n",
       "      <td>as2dept1</td>\n",
       "      <td>[]</td>\n",
       "      <td>...</td>\n",
       "      <td>['Ethernet0/0', 'GigabitEthernet0/0', 'GigabitEthernet1/0', 'GigabitEthernet2/0', 'GigabitEthernet3/0', 'Loopback0']</td>\n",
       "      <td>[]</td>\n",
       "      <td>None</td>\n",
       "      <td>[]</td>\n",
       "      <td>None</td>\n",
       "      <td>[]</td>\n",
       "      <td>[]</td>\n",
       "      <td>['102']</td>\n",
       "      <td>['as2_to_dept', 'dept_to_as2', '~BGP_COMMON_EXPORT_POLICY:default~', '~BGP_PEER_EXPORT_POLICY:default:2.34.101.3~', '~BGP_PEER_EXPORT_POLICY:default:2.34.201.3~', '~BGP_REDISTRIBUTION_POLICY:default~', '~RESOLUTION_POLICY~']</td>\n",
       "      <td>None</td>\n",
       "      <td>[]</td>\n",
       "      <td>[]</td>\n",
       "      <td>None</td>\n",
       "      <td>['default']</td>\n",
       "      <td>[]</td>\n",
       "    </tr>\n",
       "  </tbody>\n",
       "</table>\n",
       "<p>5 rows × 37 columns</p>\n",
       "</div>"
      ],
      "text/plain": [
       "         Node AS_Path_Access_Lists Authentication_Key_Chains                                                 Community_Match_Exprs Community_Set_Exprs                                             Community_Set_Match_Exprs Community_Sets Configuration_Format DNS_Servers DNS_Source_Interface  \\\n",
       "0  as2border2                   []                        []                   ['as1_community', 'as2_community', 'as3_community']                  []                   ['as1_community', 'as2_community', 'as3_community']             []            CISCO_IOS          []                 None   \n",
       "1  as1border1                   []                        []                   ['as1_community', 'as2_community', 'as3_community']                  []                   ['as1_community', 'as2_community', 'as3_community']             []            CISCO_IOS          []                 None   \n",
       "2  as3border2                   []                        []                   ['as1_community', 'as2_community', 'as3_community']                  []                   ['as1_community', 'as2_community', 'as3_community']             []            CISCO_IOS          []                 None   \n",
       "3  as1border2                   []                        []  ['as1_community', 'as2_community', 'as3_community', 'as4_community']                  []  ['as1_community', 'as2_community', 'as3_community', 'as4_community']             []            CISCO_IOS          []                 None   \n",
       "4    as2dept1                   []                        []                                                     ['as2_community']                  []                                                     ['as2_community']             []            CISCO_IOS          []                 None   \n",
       "\n",
       "  Default_Cross_Zone_Action Default_Inbound_Action Domain_Name    Hostname IKE_Phase1_Keys  ...                                                                                                            Interfaces Logging_Servers Logging_Source_Interface                     NTP_Servers  \\\n",
       "0                    PERMIT                 PERMIT   lab.local  as2border2              []  ...                        ['Ethernet0/0', 'GigabitEthernet0/0', 'GigabitEthernet1/0', 'GigabitEthernet2/0', 'Loopback0']              []                     None                 ['18.18.18.18']   \n",
       "1                    PERMIT                 PERMIT   lab.local  as1border1              []  ...                                              ['Ethernet0/0', 'GigabitEthernet0/0', 'GigabitEthernet1/0', 'Loopback0']              []                     None                              []   \n",
       "2                    PERMIT                 PERMIT   lab.local  as3border2              []  ...                                              ['Ethernet0/0', 'GigabitEthernet0/0', 'GigabitEthernet1/0', 'Loopback0']              []                     None  ['18.18.18.18', '23.23.23.23']   \n",
       "3                    PERMIT                 PERMIT   lab.local  as1border2              []  ...                        ['Ethernet0/0', 'GigabitEthernet0/0', 'GigabitEthernet1/0', 'GigabitEthernet2/0', 'Loopback0']              []                     None  ['18.18.18.18', '23.23.23.23']   \n",
       "4                    PERMIT                 PERMIT   lab.local    as2dept1              []  ...  ['Ethernet0/0', 'GigabitEthernet0/0', 'GigabitEthernet1/0', 'GigabitEthernet2/0', 'GigabitEthernet3/0', 'Loopback0']              []                     None                              []   \n",
       "\n",
       "  NTP_Source_Interface PBR_Policies Route6_Filter_Lists                                                                                    Route_Filter_Lists  \\\n",
       "0                 None           []                  []  ['101', '103', 'inbound_route_filter', 'outbound_routes', '~MATCH_SUPPRESSED_SUMMARY_ONLY:default~']   \n",
       "1                 None           []                  []                                         ['101', '102', '103', 'default_list', 'inbound_route_filter']   \n",
       "2                 None           []                  []                                                         ['101', '102', '103', 'inbound_route_filter']   \n",
       "3                 None           []                  []                                         ['101', '102', '103', 'as4-prefixes', 'inbound_route_filter']   \n",
       "4                 None           []                  []                                                                                               ['102']   \n",
       "\n",
       "                                                                                                                                                                                                                                                                                                                                                                     Routing_Policies  \\\n",
       "0                 ['as1_to_as2', 'as2_to_as1', 'as2_to_as3', 'as3_to_as2', '~BGP_COMMON_EXPORT_POLICY:default~', '~BGP_PEER_EXPORT_POLICY:default:10.23.21.3~', '~BGP_PEER_EXPORT_POLICY:default:2.1.2.1~', '~BGP_PEER_EXPORT_POLICY:default:2.1.2.2~', '~BGP_REDISTRIBUTION_POLICY:default~', '~OSPF_EXPORT_POLICY:default:1~', '~RESOLUTION_POLICY~', '~suppress~rp~summary-only~']   \n",
       "1  ['as1_to_as2', 'as1_to_as3', 'as2_to_as1', 'as3_to_as1', '~BGP_COMMON_EXPORT_POLICY:default~', '~BGP_PEER_EXPORT_POLICY:default:1.10.1.1~', '~BGP_PEER_EXPORT_POLICY:default:10.12.11.2~', '~BGP_PEER_EXPORT_POLICY:default:3.2.2.2~', '~BGP_PEER_EXPORT_POLICY:default:5.6.7.8~', '~BGP_REDISTRIBUTION_POLICY:default~', '~OSPF_EXPORT_POLICY:default:1~', '~RESOLUTION_POLICY~']   \n",
       "2                                                                                          ['as1_to_as3', 'as2_to_as3', 'as3_to_as1', 'as3_to_as2', '~BGP_COMMON_EXPORT_POLICY:default~', '~BGP_PEER_EXPORT_POLICY:default:10.13.22.1~', '~BGP_PEER_EXPORT_POLICY:default:3.10.1.1~', '~BGP_REDISTRIBUTION_POLICY:default~', '~OSPF_EXPORT_POLICY:default:1~', '~RESOLUTION_POLICY~']   \n",
       "3               ['as1_to_as2', 'as1_to_as3', 'as1_to_as4', 'as2_to_as1', 'as3_to_as1', 'as4_to_as1', '~BGP_COMMON_EXPORT_POLICY:default~', '~BGP_PEER_EXPORT_POLICY:default:1.10.1.1~', '~BGP_PEER_EXPORT_POLICY:default:10.13.22.3~', '~BGP_PEER_EXPORT_POLICY:default:10.14.22.4~', '~BGP_REDISTRIBUTION_POLICY:default~', '~OSPF_EXPORT_POLICY:default:1~', '~RESOLUTION_POLICY~']   \n",
       "4                                                                                                                                                    ['as2_to_dept', 'dept_to_as2', '~BGP_COMMON_EXPORT_POLICY:default~', '~BGP_PEER_EXPORT_POLICY:default:2.34.101.3~', '~BGP_PEER_EXPORT_POLICY:default:2.34.201.3~', '~BGP_REDISTRIBUTION_POLICY:default~', '~RESOLUTION_POLICY~']   \n",
       "\n",
       "  SNMP_Source_Interface SNMP_Trap_Servers TACACS_Servers TACACS_Source_Interface         VRFs Zones  \n",
       "0                  None                []             []                    None  ['default']    []  \n",
       "1                  None                []             []                    None  ['default']    []  \n",
       "2                  None                []             []                    None  ['default']    []  \n",
       "3                  None                []             []                    None  ['default']    []  \n",
       "4                  None                []             []                    None  ['default']    []  \n",
       "\n",
       "[5 rows x 37 columns]"
      ]
     },
     "execution_count": 6,
     "metadata": {},
     "output_type": "execute_result"
    }
   ],
   "source": [
    "result.head(5)"
   ]
  },
  {
   "cell_type": "markdown",
   "id": "552fba50",
   "metadata": {},
   "source": [
    "Print the first row of the returned Dataframe"
   ]
  },
  {
   "cell_type": "code",
   "execution_count": 7,
   "id": "47049518",
   "metadata": {},
   "outputs": [
    {
     "data": {
      "text/plain": [
       "Node                                                                                                                                                                                                                                                                                                                                                                                  as2border2\n",
       "AS_Path_Access_Lists                                                                                                                                                                                                                                                                                                                                                                          []\n",
       "Authentication_Key_Chains                                                                                                                                                                                                                                                                                                                                                                     []\n",
       "Community_Match_Exprs                                                                                                                                                                                                                                                                                                                        ['as1_community', 'as2_community', 'as3_community']\n",
       "Community_Set_Exprs                                                                                                                                                                                                                                                                                                                                                                           []\n",
       "Community_Set_Match_Exprs                                                                                                                                                                                                                                                                                                                    ['as1_community', 'as2_community', 'as3_community']\n",
       "Community_Sets                                                                                                                                                                                                                                                                                                                                                                                []\n",
       "Configuration_Format                                                                                                                                                                                                                                                                                                                                                                   CISCO_IOS\n",
       "DNS_Servers                                                                                                                                                                                                                                                                                                                                                                                   []\n",
       "DNS_Source_Interface                                                                                                                                                                                                                                                                                                                                                                        None\n",
       "Default_Cross_Zone_Action                                                                                                                                                                                                                                                                                                                                                                 PERMIT\n",
       "Default_Inbound_Action                                                                                                                                                                                                                                                                                                                                                                    PERMIT\n",
       "Domain_Name                                                                                                                                                                                                                                                                                                                                                                            lab.local\n",
       "Hostname                                                                                                                                                                                                                                                                                                                                                                              as2border2\n",
       "IKE_Phase1_Keys                                                                                                                                                                                                                                                                                                                                                                               []\n",
       "IKE_Phase1_Policies                                                                                                                                                                                                                                                                                                                                                                           []\n",
       "IKE_Phase1_Proposals                                                                                                                                                                                                                                                                                                                                                                          []\n",
       "IP6_Access_Lists                                                                                                                                                                                                                                                                                                                                                                              []\n",
       "IP_Access_Lists                                                                                                                                                                                                                                                                                                                             ['101', '103', 'INSIDE_TO_AS3', 'OUTSIDE_TO_INSIDE']\n",
       "IPsec_Peer_Configs                                                                                                                                                                                                                                                                                                                                                                            []\n",
       "IPsec_Phase2_Policies                                                                                                                                                                                                                                                                                                                                                                         []\n",
       "IPsec_Phase2_Proposals                                                                                                                                                                                                                                                                                                                                                                        []\n",
       "Interfaces                                                                                                                                                                                                                                                                                        ['Ethernet0/0', 'GigabitEthernet0/0', 'GigabitEthernet1/0', 'GigabitEthernet2/0', 'Loopback0']\n",
       "Logging_Servers                                                                                                                                                                                                                                                                                                                                                                               []\n",
       "Logging_Source_Interface                                                                                                                                                                                                                                                                                                                                                                    None\n",
       "NTP_Servers                                                                                                                                                                                                                                                                                                                                                                      ['18.18.18.18']\n",
       "NTP_Source_Interface                                                                                                                                                                                                                                                                                                                                                                        None\n",
       "PBR_Policies                                                                                                                                                                                                                                                                                                                                                                                  []\n",
       "Route6_Filter_Lists                                                                                                                                                                                                                                                                                                                                                                           []\n",
       "Route_Filter_Lists                                                                                                                                                                                                                                                                          ['101', '103', 'inbound_route_filter', 'outbound_routes', '~MATCH_SUPPRESSED_SUMMARY_ONLY:default~']\n",
       "Routing_Policies             ['as1_to_as2', 'as2_to_as1', 'as2_to_as3', 'as3_to_as2', '~BGP_COMMON_EXPORT_POLICY:default~', '~BGP_PEER_EXPORT_POLICY:default:10.23.21.3~', '~BGP_PEER_EXPORT_POLICY:default:2.1.2.1~', '~BGP_PEER_EXPORT_POLICY:default:2.1.2.2~', '~BGP_REDISTRIBUTION_POLICY:default~', '~OSPF_EXPORT_POLICY:default:1~', '~RESOLUTION_POLICY~', '~suppress~rp~summary-only~']\n",
       "SNMP_Source_Interface                                                                                                                                                                                                                                                                                                                                                                       None\n",
       "SNMP_Trap_Servers                                                                                                                                                                                                                                                                                                                                                                             []\n",
       "TACACS_Servers                                                                                                                                                                                                                                                                                                                                                                                []\n",
       "TACACS_Source_Interface                                                                                                                                                                                                                                                                                                                                                                     None\n",
       "VRFs                                                                                                                                                                                                                                                                                                                                                                                 ['default']\n",
       "Zones                                                                                                                                                                                                                                                                                                                                                                                         []\n",
       "Name: 0, dtype: object"
      ]
     },
     "execution_count": 7,
     "metadata": {},
     "output_type": "execute_result"
    }
   ],
   "source": [
    "result.iloc[0]"
   ]
  },
  {
   "cell_type": "code",
   "execution_count": 8,
   "id": "07ff50f5",
   "metadata": {
    "nbsphinx": "hidden"
   },
   "outputs": [
    {
     "data": {
      "text/plain": [
       "'generate_questions'"
      ]
     },
     "execution_count": 8,
     "metadata": {},
     "output_type": "execute_result"
    }
   ],
   "source": [
    "bf.set_network('generate_questions')"
   ]
  },
  {
   "cell_type": "code",
   "execution_count": 9,
   "id": "51ee89dd",
   "metadata": {
    "nbsphinx": "hidden"
   },
   "outputs": [
    {
     "data": {
      "text/plain": [
       "'generate_questions'"
      ]
     },
     "execution_count": 9,
     "metadata": {},
     "output_type": "execute_result"
    }
   ],
   "source": [
    "bf.set_snapshot('generate_questions')"
   ]
  },
  {
   "cell_type": "markdown",
   "id": "9bbf881f",
   "metadata": {},
   "source": [
    "##### Interface Properties"
   ]
  },
  {
   "cell_type": "markdown",
   "id": "b8c4c25d",
   "metadata": {},
   "source": [
    "Returns configuration settings of interfaces."
   ]
  },
  {
   "cell_type": "markdown",
   "id": "5c95b8e3",
   "metadata": {},
   "source": [
    "Lists interface-level settings of interfaces. Settings for routing protocols, VRFs, and zones etc. that are attached to interfaces are available via other questions."
   ]
  },
  {
   "cell_type": "markdown",
   "id": "2d1e3d62",
   "metadata": {},
   "source": [
    "###### **Inputs**"
   ]
  },
  {
   "cell_type": "markdown",
   "id": "a4318d70",
   "metadata": {},
   "source": [
    "Name | Description | Type | Optional | Default Value\n",
    "--- | --- | --- | --- | --- \n",
    "nodes | Include nodes matching this specifier. | [NodeSpec](../specifiers.md#node-specifier) | True | \n",
    "interfaces | Include interfaces matching this specifier. | [InterfaceSpec](../specifiers.md#interface-specifier) | True | \n",
    "properties | Include properties matching this specifier. | [InterfacePropertySpec](../specifiers.md#interface-property-specifier) | True | \n",
    "excludeShutInterfaces | Exclude interfaces that are shutdown. | bool | True | "
   ]
  },
  {
   "cell_type": "markdown",
   "id": "de26ee1a",
   "metadata": {},
   "source": [
    "###### **Invocation**"
   ]
  },
  {
   "cell_type": "code",
   "execution_count": 10,
   "id": "86b3a371",
   "metadata": {},
   "outputs": [],
   "source": [
    "result = bf.q.interfaceProperties().answer().frame()"
   ]
  },
  {
   "cell_type": "markdown",
   "id": "48418e62",
   "metadata": {},
   "source": [
    "###### **Return Value**"
   ]
  },
  {
   "cell_type": "markdown",
   "id": "127ff377",
   "metadata": {},
   "source": [
    "Name | Description | Type\n",
    "--- | --- | ---\n",
    "Interface | Interface | [Interface](../datamodel.rst#pybatfish.datamodel.primitives.Interface)\n",
    "Access_VLAN | VLAN number when the switchport mode is access (null otherwise) | int\n",
    "Active | Whether the interface is active | bool\n",
    "Admin_Up | Whether the interface is administratively enabled | bool\n",
    "All_Prefixes | All IPv4 addresses assigned to the interface | List of str\n",
    "Allowed_VLANs | Allowed VLAN numbers when the switchport mode is trunk | str\n",
    "Auto_State_VLAN | For VLAN interfaces, whether the operational status depends on member switchports | bool\n",
    "Bandwidth | Nominal bandwidth in bits/sec, used for protocol cost calculations | float\n",
    "Blacklisted | Whether the interface is considered down for maintenance | bool\n",
    "Channel_Group | Name of the aggregated interface (e.g., a port channel) to which this interface belongs | str\n",
    "Channel_Group_Members | For aggregated interfaces (e.g., a port channel), names of constituent interfaces | List of str\n",
    "DHCP_Relay_Addresses | IPv4 addresses to which incoming DHCP requests are relayed | List of str\n",
    "Declared_Names | Any aliases explicitly defined for this interface | List of str\n",
    "Description | Configured interface description | str\n",
    "Encapsulation_VLAN | Number for VLAN encapsulation | int\n",
    "HSRP_Groups | HSRP group identifiers | Set of str\n",
    "HSRP_Version | HSRP version that will be used | str\n",
    "Inactive_Reason | Reason why interface is inactive | str\n",
    "Incoming_Filter_Name | Name of the input IPv4 filter | str\n",
    "MLAG_ID | MLAG identifier of the interface | int\n",
    "MTU | Layer3 MTU of the interface | int\n",
    "Native_VLAN | Native VLAN when switchport mode is trunk | int\n",
    "Outgoing_Filter_Name | Name of the output IPv4 filter | str\n",
    "PBR_Policy_Name | Name of policy-based routing (PBR) policy | str\n",
    "Primary_Address | Primary IPv4 address along with the prefix length | str\n",
    "Primary_Network | Primary IPv4 subnet, in canonical form | str\n",
    "Proxy_ARP | Whether proxy ARP is enabled | bool\n",
    "Rip_Enabled | Whether RIP is enabled | bool\n",
    "Rip_Passive | Whether interface is in RIP passive mode | bool\n",
    "Spanning_Tree_Portfast | Whether spanning-tree portfast feature is enabled | bool\n",
    "Speed | Link speed in bits/sec | float\n",
    "Switchport | Whether the interface is configured as switchport | bool\n",
    "Switchport_Mode | Switchport mode (ACCESS, DOT1Q_TUNNEL, DYNAMIC_AUTO, DYNAMIC_DESIRABLE, FEX_FABRIC, MONITOR, NONE, TAP, TOOL, TRUNK) for switchport interfaces | str\n",
    "Switchport_Trunk_Encapsulation | Encapsulation type (DOT1Q, ISL, NEGOTIATE) for switchport trunk interfaces | str\n",
    "VRF | Name of the VRF to which the interface belongs | str\n",
    "VRRP_Groups | All VRRP groups to which the interface belongs | List of int\n",
    "Zone_Name | Name of the firewall zone to which the interface belongs | str"
   ]
  },
  {
   "cell_type": "markdown",
   "id": "a8bdcbdf",
   "metadata": {},
   "source": [
    "Print the first 5 rows of the returned Dataframe"
   ]
  },
  {
   "cell_type": "code",
   "execution_count": 11,
   "id": "1a7cd32f",
   "metadata": {},
   "outputs": [
    {
     "data": {
      "text/html": [
       "<div>\n",
       "<style scoped>\n",
       "    .dataframe tbody tr th:only-of-type {\n",
       "        vertical-align: middle;\n",
       "    }\n",
       "\n",
       "    .dataframe tbody tr th {\n",
       "        vertical-align: top;\n",
       "    }\n",
       "\n",
       "    .dataframe thead th {\n",
       "        text-align: right;\n",
       "    }\n",
       "</style>\n",
       "<table border=\"1\" class=\"dataframe\">\n",
       "  <thead>\n",
       "    <tr style=\"text-align: right;\">\n",
       "      <th></th>\n",
       "      <th>Interface</th>\n",
       "      <th>Access_VLAN</th>\n",
       "      <th>Active</th>\n",
       "      <th>Admin_Up</th>\n",
       "      <th>All_Prefixes</th>\n",
       "      <th>Allowed_VLANs</th>\n",
       "      <th>Auto_State_VLAN</th>\n",
       "      <th>Bandwidth</th>\n",
       "      <th>Blacklisted</th>\n",
       "      <th>Channel_Group</th>\n",
       "      <th>Channel_Group_Members</th>\n",
       "      <th>DHCP_Relay_Addresses</th>\n",
       "      <th>Declared_Names</th>\n",
       "      <th>Description</th>\n",
       "      <th>Encapsulation_VLAN</th>\n",
       "      <th>...</th>\n",
       "      <th>Outgoing_Filter_Name</th>\n",
       "      <th>PBR_Policy_Name</th>\n",
       "      <th>Primary_Address</th>\n",
       "      <th>Primary_Network</th>\n",
       "      <th>Proxy_ARP</th>\n",
       "      <th>Rip_Enabled</th>\n",
       "      <th>Rip_Passive</th>\n",
       "      <th>Spanning_Tree_Portfast</th>\n",
       "      <th>Speed</th>\n",
       "      <th>Switchport</th>\n",
       "      <th>Switchport_Mode</th>\n",
       "      <th>Switchport_Trunk_Encapsulation</th>\n",
       "      <th>VRF</th>\n",
       "      <th>VRRP_Groups</th>\n",
       "      <th>Zone_Name</th>\n",
       "    </tr>\n",
       "  </thead>\n",
       "  <tbody>\n",
       "    <tr>\n",
       "      <th>0</th>\n",
       "      <td>as1border1[Ethernet0/0]</td>\n",
       "      <td>None</td>\n",
       "      <td>False</td>\n",
       "      <td>False</td>\n",
       "      <td>[]</td>\n",
       "      <td></td>\n",
       "      <td>True</td>\n",
       "      <td>1e+07</td>\n",
       "      <td>False</td>\n",
       "      <td>None</td>\n",
       "      <td>[]</td>\n",
       "      <td>[]</td>\n",
       "      <td>['Ethernet0/0']</td>\n",
       "      <td>None</td>\n",
       "      <td>None</td>\n",
       "      <td>...</td>\n",
       "      <td>None</td>\n",
       "      <td>None</td>\n",
       "      <td>None</td>\n",
       "      <td>None</td>\n",
       "      <td>True</td>\n",
       "      <td>False</td>\n",
       "      <td>False</td>\n",
       "      <td>False</td>\n",
       "      <td>1e+07</td>\n",
       "      <td>False</td>\n",
       "      <td>NONE</td>\n",
       "      <td>DOT1Q</td>\n",
       "      <td>default</td>\n",
       "      <td>[]</td>\n",
       "      <td>None</td>\n",
       "    </tr>\n",
       "    <tr>\n",
       "      <th>1</th>\n",
       "      <td>as1border1[GigabitEthernet0/0]</td>\n",
       "      <td>None</td>\n",
       "      <td>True</td>\n",
       "      <td>True</td>\n",
       "      <td>['1.0.1.1/24']</td>\n",
       "      <td></td>\n",
       "      <td>True</td>\n",
       "      <td>1e+09</td>\n",
       "      <td>False</td>\n",
       "      <td>None</td>\n",
       "      <td>[]</td>\n",
       "      <td>[]</td>\n",
       "      <td>['GigabitEthernet0/0']</td>\n",
       "      <td>None</td>\n",
       "      <td>None</td>\n",
       "      <td>...</td>\n",
       "      <td>None</td>\n",
       "      <td>None</td>\n",
       "      <td>1.0.1.1/24</td>\n",
       "      <td>1.0.1.0/24</td>\n",
       "      <td>True</td>\n",
       "      <td>False</td>\n",
       "      <td>False</td>\n",
       "      <td>False</td>\n",
       "      <td>1e+09</td>\n",
       "      <td>False</td>\n",
       "      <td>NONE</td>\n",
       "      <td>DOT1Q</td>\n",
       "      <td>default</td>\n",
       "      <td>[123]</td>\n",
       "      <td>None</td>\n",
       "    </tr>\n",
       "    <tr>\n",
       "      <th>2</th>\n",
       "      <td>as1border1[GigabitEthernet1/0]</td>\n",
       "      <td>None</td>\n",
       "      <td>True</td>\n",
       "      <td>True</td>\n",
       "      <td>['10.12.11.1/24']</td>\n",
       "      <td></td>\n",
       "      <td>True</td>\n",
       "      <td>1e+09</td>\n",
       "      <td>False</td>\n",
       "      <td>None</td>\n",
       "      <td>[]</td>\n",
       "      <td>[]</td>\n",
       "      <td>['GigabitEthernet1/0']</td>\n",
       "      <td>None</td>\n",
       "      <td>None</td>\n",
       "      <td>...</td>\n",
       "      <td>None</td>\n",
       "      <td>None</td>\n",
       "      <td>10.12.11.1/24</td>\n",
       "      <td>10.12.11.0/24</td>\n",
       "      <td>True</td>\n",
       "      <td>False</td>\n",
       "      <td>False</td>\n",
       "      <td>False</td>\n",
       "      <td>1e+09</td>\n",
       "      <td>False</td>\n",
       "      <td>NONE</td>\n",
       "      <td>DOT1Q</td>\n",
       "      <td>default</td>\n",
       "      <td>[]</td>\n",
       "      <td>None</td>\n",
       "    </tr>\n",
       "    <tr>\n",
       "      <th>3</th>\n",
       "      <td>as1border1[Loopback0]</td>\n",
       "      <td>None</td>\n",
       "      <td>True</td>\n",
       "      <td>True</td>\n",
       "      <td>['1.1.1.1/32']</td>\n",
       "      <td></td>\n",
       "      <td>True</td>\n",
       "      <td>8e+09</td>\n",
       "      <td>None</td>\n",
       "      <td>None</td>\n",
       "      <td>[]</td>\n",
       "      <td>[]</td>\n",
       "      <td>['Loopback0']</td>\n",
       "      <td>None</td>\n",
       "      <td>None</td>\n",
       "      <td>...</td>\n",
       "      <td>None</td>\n",
       "      <td>None</td>\n",
       "      <td>1.1.1.1/32</td>\n",
       "      <td>1.1.1.1/32</td>\n",
       "      <td>True</td>\n",
       "      <td>False</td>\n",
       "      <td>False</td>\n",
       "      <td>False</td>\n",
       "      <td>None</td>\n",
       "      <td>False</td>\n",
       "      <td>NONE</td>\n",
       "      <td>DOT1Q</td>\n",
       "      <td>default</td>\n",
       "      <td>[]</td>\n",
       "      <td>None</td>\n",
       "    </tr>\n",
       "    <tr>\n",
       "      <th>4</th>\n",
       "      <td>as1border2[Ethernet0/0]</td>\n",
       "      <td>None</td>\n",
       "      <td>False</td>\n",
       "      <td>False</td>\n",
       "      <td>[]</td>\n",
       "      <td></td>\n",
       "      <td>True</td>\n",
       "      <td>1e+07</td>\n",
       "      <td>False</td>\n",
       "      <td>None</td>\n",
       "      <td>[]</td>\n",
       "      <td>[]</td>\n",
       "      <td>['Ethernet0/0']</td>\n",
       "      <td>None</td>\n",
       "      <td>None</td>\n",
       "      <td>...</td>\n",
       "      <td>None</td>\n",
       "      <td>None</td>\n",
       "      <td>None</td>\n",
       "      <td>None</td>\n",
       "      <td>True</td>\n",
       "      <td>False</td>\n",
       "      <td>False</td>\n",
       "      <td>False</td>\n",
       "      <td>1e+07</td>\n",
       "      <td>False</td>\n",
       "      <td>NONE</td>\n",
       "      <td>DOT1Q</td>\n",
       "      <td>default</td>\n",
       "      <td>[]</td>\n",
       "      <td>None</td>\n",
       "    </tr>\n",
       "  </tbody>\n",
       "</table>\n",
       "<p>5 rows × 37 columns</p>\n",
       "</div>"
      ],
      "text/plain": [
       "                        Interface Access_VLAN Active Admin_Up       All_Prefixes Allowed_VLANs Auto_State_VLAN Bandwidth Blacklisted Channel_Group Channel_Group_Members DHCP_Relay_Addresses          Declared_Names Description Encapsulation_VLAN  ... Outgoing_Filter_Name PBR_Policy_Name  \\\n",
       "0         as1border1[Ethernet0/0]        None  False    False                 []                          True     1e+07       False          None                    []                   []         ['Ethernet0/0']        None               None  ...                 None            None   \n",
       "1  as1border1[GigabitEthernet0/0]        None   True     True     ['1.0.1.1/24']                          True     1e+09       False          None                    []                   []  ['GigabitEthernet0/0']        None               None  ...                 None            None   \n",
       "2  as1border1[GigabitEthernet1/0]        None   True     True  ['10.12.11.1/24']                          True     1e+09       False          None                    []                   []  ['GigabitEthernet1/0']        None               None  ...                 None            None   \n",
       "3           as1border1[Loopback0]        None   True     True     ['1.1.1.1/32']                          True     8e+09        None          None                    []                   []           ['Loopback0']        None               None  ...                 None            None   \n",
       "4         as1border2[Ethernet0/0]        None  False    False                 []                          True     1e+07       False          None                    []                   []         ['Ethernet0/0']        None               None  ...                 None            None   \n",
       "\n",
       "  Primary_Address Primary_Network Proxy_ARP Rip_Enabled Rip_Passive Spanning_Tree_Portfast  Speed Switchport Switchport_Mode Switchport_Trunk_Encapsulation      VRF VRRP_Groups Zone_Name  \n",
       "0            None            None      True       False       False                  False  1e+07      False            NONE                          DOT1Q  default          []      None  \n",
       "1      1.0.1.1/24      1.0.1.0/24      True       False       False                  False  1e+09      False            NONE                          DOT1Q  default       [123]      None  \n",
       "2   10.12.11.1/24   10.12.11.0/24      True       False       False                  False  1e+09      False            NONE                          DOT1Q  default          []      None  \n",
       "3      1.1.1.1/32      1.1.1.1/32      True       False       False                  False   None      False            NONE                          DOT1Q  default          []      None  \n",
       "4            None            None      True       False       False                  False  1e+07      False            NONE                          DOT1Q  default          []      None  \n",
       "\n",
       "[5 rows x 37 columns]"
      ]
     },
     "execution_count": 11,
     "metadata": {},
     "output_type": "execute_result"
    }
   ],
   "source": [
    "result.head(5)"
   ]
  },
  {
   "cell_type": "markdown",
   "id": "e91a6262",
   "metadata": {},
   "source": [
    "Print the first row of the returned Dataframe"
   ]
  },
  {
   "cell_type": "code",
   "execution_count": 12,
   "id": "3188b78b",
   "metadata": {},
   "outputs": [
    {
     "data": {
      "text/plain": [
       "Interface                         as1border1[Ethernet0/0]\n",
       "Access_VLAN                                          None\n",
       "Active                                              False\n",
       "Admin_Up                                            False\n",
       "All_Prefixes                                           []\n",
       "Allowed_VLANs                                            \n",
       "Auto_State_VLAN                                      True\n",
       "Bandwidth                                           1e+07\n",
       "Blacklisted                                         False\n",
       "Channel_Group                                        None\n",
       "Channel_Group_Members                                  []\n",
       "DHCP_Relay_Addresses                                   []\n",
       "Declared_Names                            ['Ethernet0/0']\n",
       "Description                                          None\n",
       "Encapsulation_VLAN                                   None\n",
       "HSRP_Groups                                            []\n",
       "HSRP_Version                                         None\n",
       "Inactive_Reason                     Administratively down\n",
       "Incoming_Filter_Name                                 None\n",
       "MLAG_ID                                              None\n",
       "MTU                                                  1500\n",
       "Native_VLAN                                          None\n",
       "Outgoing_Filter_Name                                 None\n",
       "PBR_Policy_Name                                      None\n",
       "Primary_Address                                      None\n",
       "Primary_Network                                      None\n",
       "Proxy_ARP                                            True\n",
       "Rip_Enabled                                         False\n",
       "Rip_Passive                                         False\n",
       "Spanning_Tree_Portfast                              False\n",
       "Speed                                               1e+07\n",
       "Switchport                                          False\n",
       "Switchport_Mode                                      NONE\n",
       "Switchport_Trunk_Encapsulation                      DOT1Q\n",
       "VRF                                               default\n",
       "VRRP_Groups                                            []\n",
       "Zone_Name                                            None\n",
       "Name: 0, dtype: object"
      ]
     },
     "execution_count": 12,
     "metadata": {},
     "output_type": "execute_result"
    }
   ],
   "source": [
    "result.iloc[0]"
   ]
  },
  {
   "cell_type": "code",
   "execution_count": 13,
   "id": "92059fa7",
   "metadata": {
    "nbsphinx": "hidden"
   },
   "outputs": [
    {
     "data": {
      "text/plain": [
       "'generate_questions'"
      ]
     },
     "execution_count": 13,
     "metadata": {},
     "output_type": "execute_result"
    }
   ],
   "source": [
    "bf.set_network('generate_questions')"
   ]
  },
  {
   "cell_type": "code",
   "execution_count": 14,
   "id": "6c0398b5",
   "metadata": {
    "nbsphinx": "hidden"
   },
   "outputs": [
    {
     "data": {
      "text/plain": [
       "'generate_questions'"
      ]
     },
     "execution_count": 14,
     "metadata": {},
     "output_type": "execute_result"
    }
   ],
   "source": [
    "bf.set_snapshot('generate_questions')"
   ]
  },
  {
   "cell_type": "markdown",
   "id": "249cf5a8",
   "metadata": {},
   "source": [
    "##### BGP Process Configuration"
   ]
  },
  {
   "cell_type": "markdown",
   "id": "908e4e09",
   "metadata": {},
   "source": [
    "Returns configuration settings of BGP processes."
   ]
  },
  {
   "cell_type": "markdown",
   "id": "aff8e291",
   "metadata": {},
   "source": [
    "Reports configuration settings for each BGP process on each node and VRF in the network. This question reports only process-wide settings. Peer-specific settings are reported by the bgpPeerConfiguration question."
   ]
  },
  {
   "cell_type": "markdown",
   "id": "a5c1453c",
   "metadata": {},
   "source": [
    "###### **Inputs**"
   ]
  },
  {
   "cell_type": "markdown",
   "id": "778159e3",
   "metadata": {},
   "source": [
    "Name | Description | Type | Optional | Default Value\n",
    "--- | --- | --- | --- | --- \n",
    "nodes | Include nodes matching this name or regex. | [NodeSpec](../specifiers.md#node-specifier) | True | \n",
    "properties | Include properties matching this regex. | [BgpProcessPropertySpec](../specifiers.md#bgp-process-property-specifier) | True | "
   ]
  },
  {
   "cell_type": "markdown",
   "id": "a8f203c9",
   "metadata": {},
   "source": [
    "###### **Invocation**"
   ]
  },
  {
   "cell_type": "code",
   "execution_count": 15,
   "id": "8d09e9fb",
   "metadata": {},
   "outputs": [],
   "source": [
    "result = bf.q.bgpProcessConfiguration().answer().frame()"
   ]
  },
  {
   "cell_type": "markdown",
   "id": "220a0271",
   "metadata": {},
   "source": [
    "###### **Return Value**"
   ]
  },
  {
   "cell_type": "markdown",
   "id": "88f8aa41",
   "metadata": {},
   "source": [
    "Name | Description | Type\n",
    "--- | --- | ---\n",
    "Node | Node | str\n",
    "VRF | VRF | str\n",
    "Router_ID | Router ID | str\n",
    "Confederation_ID | Externally visible autonomous system number for the confederation | int\n",
    "Confederation_Members | Set of autonomous system numbers visible only within this BGP confederation | str\n",
    "Multipath_EBGP | Whether multipath routing is enabled for EBGP | bool\n",
    "Multipath_IBGP | Whether multipath routing is enabled for IBGP | bool\n",
    "Multipath_Match_Mode | Which AS paths are considered equivalent (EXACT_PATH, FIRST_AS, PATH_LENGTH) when multipath BGP is enabled | str\n",
    "Neighbors | All peers configured on this process, identified by peer address (for active and dynamic peers) or peer interface (for BGP unnumbered peers) | Set of str\n",
    "Route_Reflector | Whether any BGP peer in this process is configured as a route reflector client, for ipv4 unicast address family | bool\n",
    "Tie_Breaker | Tie breaking mode (ARRIVAL_ORDER, CLUSTER_LIST_LENGTH, ROUTER_ID) | str"
   ]
  },
  {
   "cell_type": "markdown",
   "id": "bb0a8ac2",
   "metadata": {},
   "source": [
    "Print the first 5 rows of the returned Dataframe"
   ]
  },
  {
   "cell_type": "code",
   "execution_count": 16,
   "id": "6f0748e0",
   "metadata": {},
   "outputs": [
    {
     "data": {
      "text/html": [
       "<div>\n",
       "<style scoped>\n",
       "    .dataframe tbody tr th:only-of-type {\n",
       "        vertical-align: middle;\n",
       "    }\n",
       "\n",
       "    .dataframe tbody tr th {\n",
       "        vertical-align: top;\n",
       "    }\n",
       "\n",
       "    .dataframe thead th {\n",
       "        text-align: right;\n",
       "    }\n",
       "</style>\n",
       "<table border=\"1\" class=\"dataframe\">\n",
       "  <thead>\n",
       "    <tr style=\"text-align: right;\">\n",
       "      <th></th>\n",
       "      <th>Node</th>\n",
       "      <th>VRF</th>\n",
       "      <th>Router_ID</th>\n",
       "      <th>Confederation_ID</th>\n",
       "      <th>Confederation_Members</th>\n",
       "      <th>Multipath_EBGP</th>\n",
       "      <th>Multipath_IBGP</th>\n",
       "      <th>Multipath_Match_Mode</th>\n",
       "      <th>Neighbors</th>\n",
       "      <th>Route_Reflector</th>\n",
       "      <th>Tie_Breaker</th>\n",
       "    </tr>\n",
       "  </thead>\n",
       "  <tbody>\n",
       "    <tr>\n",
       "      <th>0</th>\n",
       "      <td>as2border2</td>\n",
       "      <td>default</td>\n",
       "      <td>2.1.1.2</td>\n",
       "      <td>None</td>\n",
       "      <td>None</td>\n",
       "      <td>True</td>\n",
       "      <td>True</td>\n",
       "      <td>EXACT_PATH</td>\n",
       "      <td>['2.1.2.1', '2.1.2.2', '10.23.21.3']</td>\n",
       "      <td>False</td>\n",
       "      <td>ARRIVAL_ORDER</td>\n",
       "    </tr>\n",
       "    <tr>\n",
       "      <th>1</th>\n",
       "      <td>as2dist1</td>\n",
       "      <td>default</td>\n",
       "      <td>2.1.3.1</td>\n",
       "      <td>None</td>\n",
       "      <td>None</td>\n",
       "      <td>True</td>\n",
       "      <td>True</td>\n",
       "      <td>EXACT_PATH</td>\n",
       "      <td>['2.1.2.1', '2.1.2.2', '2.34.101.4']</td>\n",
       "      <td>False</td>\n",
       "      <td>ARRIVAL_ORDER</td>\n",
       "    </tr>\n",
       "    <tr>\n",
       "      <th>2</th>\n",
       "      <td>as3core1</td>\n",
       "      <td>default</td>\n",
       "      <td>3.10.1.1</td>\n",
       "      <td>None</td>\n",
       "      <td>None</td>\n",
       "      <td>True</td>\n",
       "      <td>True</td>\n",
       "      <td>EXACT_PATH</td>\n",
       "      <td>['3.1.1.1', '3.2.2.2']</td>\n",
       "      <td>True</td>\n",
       "      <td>ARRIVAL_ORDER</td>\n",
       "    </tr>\n",
       "    <tr>\n",
       "      <th>3</th>\n",
       "      <td>as2border1</td>\n",
       "      <td>default</td>\n",
       "      <td>2.1.1.1</td>\n",
       "      <td>None</td>\n",
       "      <td>None</td>\n",
       "      <td>True</td>\n",
       "      <td>True</td>\n",
       "      <td>EXACT_PATH</td>\n",
       "      <td>['2.1.2.1', '2.1.2.2', '10.12.11.1']</td>\n",
       "      <td>False</td>\n",
       "      <td>ARRIVAL_ORDER</td>\n",
       "    </tr>\n",
       "    <tr>\n",
       "      <th>4</th>\n",
       "      <td>as1core1</td>\n",
       "      <td>default</td>\n",
       "      <td>1.10.1.1</td>\n",
       "      <td>None</td>\n",
       "      <td>None</td>\n",
       "      <td>True</td>\n",
       "      <td>True</td>\n",
       "      <td>EXACT_PATH</td>\n",
       "      <td>['1.1.1.1', '1.2.2.2']</td>\n",
       "      <td>True</td>\n",
       "      <td>ARRIVAL_ORDER</td>\n",
       "    </tr>\n",
       "  </tbody>\n",
       "</table>\n",
       "</div>"
      ],
      "text/plain": [
       "         Node      VRF Router_ID Confederation_ID Confederation_Members Multipath_EBGP Multipath_IBGP Multipath_Match_Mode                             Neighbors Route_Reflector    Tie_Breaker\n",
       "0  as2border2  default   2.1.1.2             None                  None           True           True           EXACT_PATH  ['2.1.2.1', '2.1.2.2', '10.23.21.3']           False  ARRIVAL_ORDER\n",
       "1    as2dist1  default   2.1.3.1             None                  None           True           True           EXACT_PATH  ['2.1.2.1', '2.1.2.2', '2.34.101.4']           False  ARRIVAL_ORDER\n",
       "2    as3core1  default  3.10.1.1             None                  None           True           True           EXACT_PATH                ['3.1.1.1', '3.2.2.2']            True  ARRIVAL_ORDER\n",
       "3  as2border1  default   2.1.1.1             None                  None           True           True           EXACT_PATH  ['2.1.2.1', '2.1.2.2', '10.12.11.1']           False  ARRIVAL_ORDER\n",
       "4    as1core1  default  1.10.1.1             None                  None           True           True           EXACT_PATH                ['1.1.1.1', '1.2.2.2']            True  ARRIVAL_ORDER"
      ]
     },
     "execution_count": 16,
     "metadata": {},
     "output_type": "execute_result"
    }
   ],
   "source": [
    "result.head(5)"
   ]
  },
  {
   "cell_type": "markdown",
   "id": "62c403e7",
   "metadata": {},
   "source": [
    "Print the first row of the returned Dataframe"
   ]
  },
  {
   "cell_type": "code",
   "execution_count": 17,
   "id": "5902758e",
   "metadata": {},
   "outputs": [
    {
     "data": {
      "text/plain": [
       "Node                                               as2border2\n",
       "VRF                                                   default\n",
       "Router_ID                                             2.1.1.2\n",
       "Confederation_ID                                         None\n",
       "Confederation_Members                                    None\n",
       "Multipath_EBGP                                           True\n",
       "Multipath_IBGP                                           True\n",
       "Multipath_Match_Mode                               EXACT_PATH\n",
       "Neighbors                ['2.1.2.1', '2.1.2.2', '10.23.21.3']\n",
       "Route_Reflector                                         False\n",
       "Tie_Breaker                                     ARRIVAL_ORDER\n",
       "Name: 0, dtype: object"
      ]
     },
     "execution_count": 17,
     "metadata": {},
     "output_type": "execute_result"
    }
   ],
   "source": [
    "result.iloc[0]"
   ]
  },
  {
   "cell_type": "code",
   "execution_count": 18,
   "id": "2f3600e0",
   "metadata": {
    "nbsphinx": "hidden"
   },
   "outputs": [
    {
     "data": {
      "text/plain": [
       "'generate_questions'"
      ]
     },
     "execution_count": 18,
     "metadata": {},
     "output_type": "execute_result"
    }
   ],
   "source": [
    "bf.set_network('generate_questions')"
   ]
  },
  {
   "cell_type": "code",
   "execution_count": 19,
   "id": "7d959a5f",
   "metadata": {
    "nbsphinx": "hidden"
   },
   "outputs": [
    {
     "data": {
      "text/plain": [
       "'generate_questions'"
      ]
     },
     "execution_count": 19,
     "metadata": {},
     "output_type": "execute_result"
    }
   ],
   "source": [
    "bf.set_snapshot('generate_questions')"
   ]
  },
  {
   "cell_type": "markdown",
   "id": "665aa606",
   "metadata": {},
   "source": [
    "##### BGP Peer Configuration"
   ]
  },
  {
   "cell_type": "markdown",
   "id": "c7cc9875",
   "metadata": {},
   "source": [
    "Returns configuration settings for BGP peerings."
   ]
  },
  {
   "cell_type": "markdown",
   "id": "cd1bc43c",
   "metadata": {},
   "source": [
    "Reports configuration settings for each configured BGP peering on each node in the network. This question reports peer-specific settings. Settings that are process-wide are reported by the bgpProcessConfiguration question."
   ]
  },
  {
   "cell_type": "markdown",
   "id": "8e6a1421",
   "metadata": {},
   "source": [
    "###### **Inputs**"
   ]
  },
  {
   "cell_type": "markdown",
   "id": "a407309c",
   "metadata": {},
   "source": [
    "Name | Description | Type | Optional | Default Value\n",
    "--- | --- | --- | --- | --- \n",
    "nodes | Include nodes matching this name or regex. | [NodeSpec](../specifiers.md#node-specifier) | True | \n",
    "properties | Include properties matching this regex. | [BgpPeerPropertySpec](../specifiers.md#bgp-peer-property-specifier) | True | "
   ]
  },
  {
   "cell_type": "markdown",
   "id": "a9dcc114",
   "metadata": {},
   "source": [
    "###### **Invocation**"
   ]
  },
  {
   "cell_type": "code",
   "execution_count": 20,
   "id": "f7e9abbb",
   "metadata": {},
   "outputs": [],
   "source": [
    "result = bf.q.bgpPeerConfiguration().answer().frame()"
   ]
  },
  {
   "cell_type": "markdown",
   "id": "8a6d53b4",
   "metadata": {},
   "source": [
    "###### **Return Value**"
   ]
  },
  {
   "cell_type": "markdown",
   "id": "a038e11f",
   "metadata": {},
   "source": [
    "Name | Description | Type\n",
    "--- | --- | ---\n",
    "Node | Node | str\n",
    "VRF | VRF | str\n",
    "Local_AS | Local AS number | int\n",
    "Local_IP | Local IPv4 address (null for BGP unnumbered peers) | str\n",
    "Local_Interface | Local Interface | str\n",
    "Confederation | Confederation AS number | int\n",
    "Remote_AS | Remote AS numbers with which this peer may establish a session | str\n",
    "Remote_IP | Remote IP | str\n",
    "Description | Configured peer description | str\n",
    "Route_Reflector_Client | Whether this peer is a route reflector client | bool\n",
    "Cluster_ID | Cluster ID of this peer (null for peers that are not route reflector clients) | str\n",
    "Peer_Group | Name of the BGP peer group to which this peer belongs | str\n",
    "Import_Policy | Names of import policies to be applied to routes received by this peer | Set of str\n",
    "Export_Policy | Names of export policies to be applied to routes exported by this peer | Set of str\n",
    "Send_Community | Whether this peer propagates communities | bool\n",
    "Is_Passive | Whether this peer is passive | bool"
   ]
  },
  {
   "cell_type": "markdown",
   "id": "e07559cd",
   "metadata": {},
   "source": [
    "Print the first 5 rows of the returned Dataframe"
   ]
  },
  {
   "cell_type": "code",
   "execution_count": 21,
   "id": "1f354cdd",
   "metadata": {},
   "outputs": [
    {
     "data": {
      "text/html": [
       "<div>\n",
       "<style scoped>\n",
       "    .dataframe tbody tr th:only-of-type {\n",
       "        vertical-align: middle;\n",
       "    }\n",
       "\n",
       "    .dataframe tbody tr th {\n",
       "        vertical-align: top;\n",
       "    }\n",
       "\n",
       "    .dataframe thead th {\n",
       "        text-align: right;\n",
       "    }\n",
       "</style>\n",
       "<table border=\"1\" class=\"dataframe\">\n",
       "  <thead>\n",
       "    <tr style=\"text-align: right;\">\n",
       "      <th></th>\n",
       "      <th>Node</th>\n",
       "      <th>VRF</th>\n",
       "      <th>Local_AS</th>\n",
       "      <th>Local_IP</th>\n",
       "      <th>Local_Interface</th>\n",
       "      <th>Confederation</th>\n",
       "      <th>Remote_AS</th>\n",
       "      <th>Remote_IP</th>\n",
       "      <th>Description</th>\n",
       "      <th>Route_Reflector_Client</th>\n",
       "      <th>Cluster_ID</th>\n",
       "      <th>Peer_Group</th>\n",
       "      <th>Import_Policy</th>\n",
       "      <th>Export_Policy</th>\n",
       "      <th>Send_Community</th>\n",
       "      <th>Is_Passive</th>\n",
       "    </tr>\n",
       "  </thead>\n",
       "  <tbody>\n",
       "    <tr>\n",
       "      <th>0</th>\n",
       "      <td>as3core1</td>\n",
       "      <td>default</td>\n",
       "      <td>3</td>\n",
       "      <td>3.10.1.1</td>\n",
       "      <td>None</td>\n",
       "      <td>None</td>\n",
       "      <td>3</td>\n",
       "      <td>3.1.1.1</td>\n",
       "      <td>None</td>\n",
       "      <td>True</td>\n",
       "      <td>3.10.1.1</td>\n",
       "      <td>as3</td>\n",
       "      <td>[]</td>\n",
       "      <td>[]</td>\n",
       "      <td>True</td>\n",
       "      <td>False</td>\n",
       "    </tr>\n",
       "    <tr>\n",
       "      <th>1</th>\n",
       "      <td>as2border1</td>\n",
       "      <td>default</td>\n",
       "      <td>2</td>\n",
       "      <td>10.12.11.2</td>\n",
       "      <td>None</td>\n",
       "      <td>None</td>\n",
       "      <td>1</td>\n",
       "      <td>10.12.11.1</td>\n",
       "      <td>None</td>\n",
       "      <td>False</td>\n",
       "      <td>None</td>\n",
       "      <td>as1</td>\n",
       "      <td>['as1_to_as2']</td>\n",
       "      <td>['as2_to_as1']</td>\n",
       "      <td>True</td>\n",
       "      <td>False</td>\n",
       "    </tr>\n",
       "    <tr>\n",
       "      <th>2</th>\n",
       "      <td>as2core2</td>\n",
       "      <td>default</td>\n",
       "      <td>2</td>\n",
       "      <td>2.1.2.2</td>\n",
       "      <td>None</td>\n",
       "      <td>None</td>\n",
       "      <td>2</td>\n",
       "      <td>2.1.3.2</td>\n",
       "      <td>None</td>\n",
       "      <td>True</td>\n",
       "      <td>2.1.2.2</td>\n",
       "      <td>as2</td>\n",
       "      <td>[]</td>\n",
       "      <td>[]</td>\n",
       "      <td>True</td>\n",
       "      <td>False</td>\n",
       "    </tr>\n",
       "    <tr>\n",
       "      <th>3</th>\n",
       "      <td>as3border1</td>\n",
       "      <td>default</td>\n",
       "      <td>3</td>\n",
       "      <td>3.1.1.1</td>\n",
       "      <td>None</td>\n",
       "      <td>None</td>\n",
       "      <td>3</td>\n",
       "      <td>3.10.1.1</td>\n",
       "      <td>None</td>\n",
       "      <td>False</td>\n",
       "      <td>None</td>\n",
       "      <td>as3</td>\n",
       "      <td>[]</td>\n",
       "      <td>[]</td>\n",
       "      <td>True</td>\n",
       "      <td>False</td>\n",
       "    </tr>\n",
       "    <tr>\n",
       "      <th>4</th>\n",
       "      <td>as2core1</td>\n",
       "      <td>default</td>\n",
       "      <td>2</td>\n",
       "      <td>2.1.2.1</td>\n",
       "      <td>None</td>\n",
       "      <td>None</td>\n",
       "      <td>2</td>\n",
       "      <td>2.1.3.2</td>\n",
       "      <td>None</td>\n",
       "      <td>True</td>\n",
       "      <td>2.1.2.1</td>\n",
       "      <td>as2</td>\n",
       "      <td>[]</td>\n",
       "      <td>[]</td>\n",
       "      <td>True</td>\n",
       "      <td>False</td>\n",
       "    </tr>\n",
       "  </tbody>\n",
       "</table>\n",
       "</div>"
      ],
      "text/plain": [
       "         Node      VRF Local_AS    Local_IP Local_Interface Confederation Remote_AS   Remote_IP Description Route_Reflector_Client Cluster_ID Peer_Group   Import_Policy   Export_Policy Send_Community Is_Passive\n",
       "0    as3core1  default        3    3.10.1.1            None          None         3     3.1.1.1        None                   True   3.10.1.1        as3              []              []           True      False\n",
       "1  as2border1  default        2  10.12.11.2            None          None         1  10.12.11.1        None                  False       None        as1  ['as1_to_as2']  ['as2_to_as1']           True      False\n",
       "2    as2core2  default        2     2.1.2.2            None          None         2     2.1.3.2        None                   True    2.1.2.2        as2              []              []           True      False\n",
       "3  as3border1  default        3     3.1.1.1            None          None         3    3.10.1.1        None                  False       None        as3              []              []           True      False\n",
       "4    as2core1  default        2     2.1.2.1            None          None         2     2.1.3.2        None                   True    2.1.2.1        as2              []              []           True      False"
      ]
     },
     "execution_count": 21,
     "metadata": {},
     "output_type": "execute_result"
    }
   ],
   "source": [
    "result.head(5)"
   ]
  },
  {
   "cell_type": "markdown",
   "id": "5ac7f559",
   "metadata": {},
   "source": [
    "Print the first row of the returned Dataframe"
   ]
  },
  {
   "cell_type": "code",
   "execution_count": 22,
   "id": "c2e82809",
   "metadata": {},
   "outputs": [
    {
     "data": {
      "text/plain": [
       "Node                      as3core1\n",
       "VRF                        default\n",
       "Local_AS                         3\n",
       "Local_IP                  3.10.1.1\n",
       "Local_Interface               None\n",
       "Confederation                 None\n",
       "Remote_AS                        3\n",
       "Remote_IP                  3.1.1.1\n",
       "Description                   None\n",
       "Route_Reflector_Client        True\n",
       "Cluster_ID                3.10.1.1\n",
       "Peer_Group                     as3\n",
       "Import_Policy                   []\n",
       "Export_Policy                   []\n",
       "Send_Community                True\n",
       "Is_Passive                   False\n",
       "Name: 0, dtype: object"
      ]
     },
     "execution_count": 22,
     "metadata": {},
     "output_type": "execute_result"
    }
   ],
   "source": [
    "result.iloc[0]"
   ]
  },
  {
   "cell_type": "code",
   "execution_count": 23,
   "id": "dc0e40a7",
   "metadata": {
    "nbsphinx": "hidden"
   },
   "outputs": [
    {
     "data": {
      "text/plain": [
       "'generate_questions'"
      ]
     },
     "execution_count": 23,
     "metadata": {},
     "output_type": "execute_result"
    }
   ],
   "source": [
    "bf.set_network('generate_questions')"
   ]
  },
  {
   "cell_type": "code",
   "execution_count": 24,
   "id": "5ce5fcfd",
   "metadata": {
    "nbsphinx": "hidden"
   },
   "outputs": [
    {
     "data": {
      "text/plain": [
       "'ios_basic_hsrp'"
      ]
     },
     "execution_count": 24,
     "metadata": {},
     "output_type": "execute_result"
    }
   ],
   "source": [
    "bf.set_snapshot('ios_basic_hsrp')"
   ]
  },
  {
   "cell_type": "markdown",
   "id": "7437ec23",
   "metadata": {},
   "source": [
    "##### HSRP Properties"
   ]
  },
  {
   "cell_type": "markdown",
   "id": "8a03d92f",
   "metadata": {},
   "source": [
    "Returns configuration settings of HSRP groups."
   ]
  },
  {
   "cell_type": "markdown",
   "id": "5498a77f",
   "metadata": {},
   "source": [
    "Lists information about HSRP groups on interfaces."
   ]
  },
  {
   "cell_type": "markdown",
   "id": "d8316703",
   "metadata": {},
   "source": [
    "###### **Inputs**"
   ]
  },
  {
   "cell_type": "markdown",
   "id": "53b4c215",
   "metadata": {},
   "source": [
    "Name | Description | Type | Optional | Default Value\n",
    "--- | --- | --- | --- | --- \n",
    "nodes | Include nodes matching this specifier. | [NodeSpec](../specifiers.md#node-specifier) | True | \n",
    "interfaces | Include interfaces matching this specifier. | [InterfaceSpec](../specifiers.md#interface-specifier) | True | \n",
    "virtualAddresses | Include only groups with at least one virtual address matching this specifier. | [IpSpec](../specifiers.md#ip-specifier) | True | \n",
    "excludeShutInterfaces | Exclude interfaces that are shutdown. | bool | True | "
   ]
  },
  {
   "cell_type": "markdown",
   "id": "ce0530f3",
   "metadata": {},
   "source": [
    "###### **Invocation**"
   ]
  },
  {
   "cell_type": "code",
   "execution_count": 25,
   "id": "893032a3",
   "metadata": {},
   "outputs": [],
   "source": [
    "result = bf.q.hsrpProperties().answer().frame()"
   ]
  },
  {
   "cell_type": "markdown",
   "id": "ca620cc5",
   "metadata": {},
   "source": [
    "###### **Return Value**"
   ]
  },
  {
   "cell_type": "markdown",
   "id": "509f1b0f",
   "metadata": {},
   "source": [
    "Name | Description | Type\n",
    "--- | --- | ---\n",
    "Interface | Interface | [Interface](../datamodel.rst#pybatfish.datamodel.primitives.Interface)\n",
    "Group_Id | HSRP Group ID | int\n",
    "Virtual_Addresses | Virtual Addresses | Set of str\n",
    "Source_Address | Source Address used for HSRP messages | str\n",
    "Priority | HSRP router priority | int\n",
    "Preempt | Whether preemption is allowed | bool\n",
    "Active | Whether the interface is active | bool"
   ]
  },
  {
   "cell_type": "markdown",
   "id": "77dd6666",
   "metadata": {},
   "source": [
    "Print the first 5 rows of the returned Dataframe"
   ]
  },
  {
   "cell_type": "code",
   "execution_count": 26,
   "id": "32864127",
   "metadata": {},
   "outputs": [
    {
     "data": {
      "text/html": [
       "<div>\n",
       "<style scoped>\n",
       "    .dataframe tbody tr th:only-of-type {\n",
       "        vertical-align: middle;\n",
       "    }\n",
       "\n",
       "    .dataframe tbody tr th {\n",
       "        vertical-align: top;\n",
       "    }\n",
       "\n",
       "    .dataframe thead th {\n",
       "        text-align: right;\n",
       "    }\n",
       "</style>\n",
       "<table border=\"1\" class=\"dataframe\">\n",
       "  <thead>\n",
       "    <tr style=\"text-align: right;\">\n",
       "      <th></th>\n",
       "      <th>Interface</th>\n",
       "      <th>Group_Id</th>\n",
       "      <th>Virtual_Addresses</th>\n",
       "      <th>Source_Address</th>\n",
       "      <th>Priority</th>\n",
       "      <th>Preempt</th>\n",
       "      <th>Active</th>\n",
       "    </tr>\n",
       "  </thead>\n",
       "  <tbody>\n",
       "    <tr>\n",
       "      <th>0</th>\n",
       "      <td>br2[GigabitEthernet0/2]</td>\n",
       "      <td>12</td>\n",
       "      <td>['192.168.1.254']</td>\n",
       "      <td>192.168.1.2/24</td>\n",
       "      <td>100</td>\n",
       "      <td>False</td>\n",
       "      <td>True</td>\n",
       "    </tr>\n",
       "    <tr>\n",
       "      <th>1</th>\n",
       "      <td>br1[GigabitEthernet0/2]</td>\n",
       "      <td>12</td>\n",
       "      <td>['192.168.1.254']</td>\n",
       "      <td>192.168.1.1/24</td>\n",
       "      <td>110</td>\n",
       "      <td>False</td>\n",
       "      <td>True</td>\n",
       "    </tr>\n",
       "  </tbody>\n",
       "</table>\n",
       "</div>"
      ],
      "text/plain": [
       "                 Interface Group_Id  Virtual_Addresses  Source_Address Priority Preempt Active\n",
       "0  br2[GigabitEthernet0/2]       12  ['192.168.1.254']  192.168.1.2/24      100   False   True\n",
       "1  br1[GigabitEthernet0/2]       12  ['192.168.1.254']  192.168.1.1/24      110   False   True"
      ]
     },
     "execution_count": 26,
     "metadata": {},
     "output_type": "execute_result"
    }
   ],
   "source": [
    "result.head(5)"
   ]
  },
  {
   "cell_type": "markdown",
   "id": "53cddee4",
   "metadata": {},
   "source": [
    "Print the first row of the returned Dataframe"
   ]
  },
  {
   "cell_type": "code",
   "execution_count": 27,
   "id": "2240784a",
   "metadata": {},
   "outputs": [
    {
     "data": {
      "text/plain": [
       "Interface            br2[GigabitEthernet0/2]\n",
       "Group_Id                                  12\n",
       "Virtual_Addresses          ['192.168.1.254']\n",
       "Source_Address                192.168.1.2/24\n",
       "Priority                                 100\n",
       "Preempt                                False\n",
       "Active                                  True\n",
       "Name: 0, dtype: object"
      ]
     },
     "execution_count": 27,
     "metadata": {},
     "output_type": "execute_result"
    }
   ],
   "source": [
    "result.iloc[0]"
   ]
  },
  {
   "cell_type": "code",
   "execution_count": 28,
   "id": "00f36a32",
   "metadata": {
    "nbsphinx": "hidden"
   },
   "outputs": [
    {
     "data": {
      "text/plain": [
       "'generate_questions'"
      ]
     },
     "execution_count": 28,
     "metadata": {},
     "output_type": "execute_result"
    }
   ],
   "source": [
    "bf.set_network('generate_questions')"
   ]
  },
  {
   "cell_type": "code",
   "execution_count": 29,
   "id": "74e41904",
   "metadata": {
    "nbsphinx": "hidden"
   },
   "outputs": [
    {
     "data": {
      "text/plain": [
       "'generate_questions'"
      ]
     },
     "execution_count": 29,
     "metadata": {},
     "output_type": "execute_result"
    }
   ],
   "source": [
    "bf.set_snapshot('generate_questions')"
   ]
  },
  {
   "cell_type": "markdown",
   "id": "c075888f",
   "metadata": {},
   "source": [
    "##### OSPF Process Configuration"
   ]
  },
  {
   "cell_type": "markdown",
   "id": "95eb5c34",
   "metadata": {},
   "source": [
    "Returns configuration parameters for OSPF routing processes."
   ]
  },
  {
   "cell_type": "markdown",
   "id": "36d78e1b",
   "metadata": {},
   "source": [
    "Returns the values of important properties for all OSPF processes running across the network."
   ]
  },
  {
   "cell_type": "markdown",
   "id": "9e227730",
   "metadata": {},
   "source": [
    "###### **Inputs**"
   ]
  },
  {
   "cell_type": "markdown",
   "id": "be9918f6",
   "metadata": {},
   "source": [
    "Name | Description | Type | Optional | Default Value\n",
    "--- | --- | --- | --- | --- \n",
    "nodes | Include nodes matching this name or regex. | [NodeSpec](../specifiers.md#node-specifier) | True | \n",
    "properties | Include properties matching this specifier. | [OspfProcessPropertySpec](../specifiers.md#ospf-process-property-specifier) | True | "
   ]
  },
  {
   "cell_type": "markdown",
   "id": "df1822bf",
   "metadata": {},
   "source": [
    "###### **Invocation**"
   ]
  },
  {
   "cell_type": "code",
   "execution_count": 30,
   "id": "5aaded40",
   "metadata": {},
   "outputs": [],
   "source": [
    "result = bf.q.ospfProcessConfiguration().answer().frame()"
   ]
  },
  {
   "cell_type": "markdown",
   "id": "444f746a",
   "metadata": {},
   "source": [
    "###### **Return Value**"
   ]
  },
  {
   "cell_type": "markdown",
   "id": "a880de33",
   "metadata": {},
   "source": [
    "Name | Description | Type\n",
    "--- | --- | ---\n",
    "Node | Node | str\n",
    "VRF | VRF name | str\n",
    "Process_ID | Process ID | str\n",
    "Areas | All OSPF areas for this process | Set of str\n",
    "Reference_Bandwidth | Reference bandwidth in bits/sec used to calculate interface OSPF cost | float\n",
    "Router_ID | Router ID of the process | str\n",
    "Export_Policy_Sources | Names of policies that determine which routes are exported into OSPF | Set of str\n",
    "Area_Border_Router | Whether this process is at the area border (with at least one interface in Area 0 and one in another area) | bool"
   ]
  },
  {
   "cell_type": "markdown",
   "id": "1331efdc",
   "metadata": {},
   "source": [
    "Print the first 5 rows of the returned Dataframe"
   ]
  },
  {
   "cell_type": "code",
   "execution_count": 31,
   "id": "6e0fd586",
   "metadata": {},
   "outputs": [
    {
     "data": {
      "text/html": [
       "<div>\n",
       "<style scoped>\n",
       "    .dataframe tbody tr th:only-of-type {\n",
       "        vertical-align: middle;\n",
       "    }\n",
       "\n",
       "    .dataframe tbody tr th {\n",
       "        vertical-align: top;\n",
       "    }\n",
       "\n",
       "    .dataframe thead th {\n",
       "        text-align: right;\n",
       "    }\n",
       "</style>\n",
       "<table border=\"1\" class=\"dataframe\">\n",
       "  <thead>\n",
       "    <tr style=\"text-align: right;\">\n",
       "      <th></th>\n",
       "      <th>Node</th>\n",
       "      <th>VRF</th>\n",
       "      <th>Process_ID</th>\n",
       "      <th>Areas</th>\n",
       "      <th>Reference_Bandwidth</th>\n",
       "      <th>Router_ID</th>\n",
       "      <th>Export_Policy_Sources</th>\n",
       "      <th>Area_Border_Router</th>\n",
       "    </tr>\n",
       "  </thead>\n",
       "  <tbody>\n",
       "    <tr>\n",
       "      <th>0</th>\n",
       "      <td>as2border1</td>\n",
       "      <td>default</td>\n",
       "      <td>1</td>\n",
       "      <td>['1']</td>\n",
       "      <td>1e+08</td>\n",
       "      <td>2.1.1.1</td>\n",
       "      <td>[]</td>\n",
       "      <td>False</td>\n",
       "    </tr>\n",
       "    <tr>\n",
       "      <th>1</th>\n",
       "      <td>as2core1</td>\n",
       "      <td>default</td>\n",
       "      <td>1</td>\n",
       "      <td>['1']</td>\n",
       "      <td>1e+08</td>\n",
       "      <td>2.1.2.1</td>\n",
       "      <td>[]</td>\n",
       "      <td>False</td>\n",
       "    </tr>\n",
       "    <tr>\n",
       "      <th>2</th>\n",
       "      <td>as2dist1</td>\n",
       "      <td>default</td>\n",
       "      <td>1</td>\n",
       "      <td>['1']</td>\n",
       "      <td>1e+08</td>\n",
       "      <td>2.1.3.1</td>\n",
       "      <td>[]</td>\n",
       "      <td>False</td>\n",
       "    </tr>\n",
       "    <tr>\n",
       "      <th>3</th>\n",
       "      <td>as2dist2</td>\n",
       "      <td>default</td>\n",
       "      <td>1</td>\n",
       "      <td>['1']</td>\n",
       "      <td>1e+08</td>\n",
       "      <td>2.1.3.2</td>\n",
       "      <td>[]</td>\n",
       "      <td>False</td>\n",
       "    </tr>\n",
       "    <tr>\n",
       "      <th>4</th>\n",
       "      <td>as1border2</td>\n",
       "      <td>default</td>\n",
       "      <td>1</td>\n",
       "      <td>['1']</td>\n",
       "      <td>1e+08</td>\n",
       "      <td>1.2.2.2</td>\n",
       "      <td>[]</td>\n",
       "      <td>False</td>\n",
       "    </tr>\n",
       "  </tbody>\n",
       "</table>\n",
       "</div>"
      ],
      "text/plain": [
       "         Node      VRF Process_ID  Areas Reference_Bandwidth Router_ID Export_Policy_Sources Area_Border_Router\n",
       "0  as2border1  default          1  ['1']               1e+08   2.1.1.1                    []              False\n",
       "1    as2core1  default          1  ['1']               1e+08   2.1.2.1                    []              False\n",
       "2    as2dist1  default          1  ['1']               1e+08   2.1.3.1                    []              False\n",
       "3    as2dist2  default          1  ['1']               1e+08   2.1.3.2                    []              False\n",
       "4  as1border2  default          1  ['1']               1e+08   1.2.2.2                    []              False"
      ]
     },
     "execution_count": 31,
     "metadata": {},
     "output_type": "execute_result"
    }
   ],
   "source": [
    "result.head(5)"
   ]
  },
  {
   "cell_type": "markdown",
   "id": "0f22d7cb",
   "metadata": {},
   "source": [
    "Print the first row of the returned Dataframe"
   ]
  },
  {
   "cell_type": "code",
   "execution_count": 32,
   "id": "08a06da2",
   "metadata": {},
   "outputs": [
    {
     "data": {
      "text/plain": [
       "Node                     as2border1\n",
       "VRF                         default\n",
       "Process_ID                        1\n",
       "Areas                         ['1']\n",
       "Reference_Bandwidth           1e+08\n",
       "Router_ID                   2.1.1.1\n",
       "Export_Policy_Sources            []\n",
       "Area_Border_Router            False\n",
       "Name: 0, dtype: object"
      ]
     },
     "execution_count": 32,
     "metadata": {},
     "output_type": "execute_result"
    }
   ],
   "source": [
    "result.iloc[0]"
   ]
  },
  {
   "cell_type": "code",
   "execution_count": 33,
   "id": "88219f60",
   "metadata": {
    "nbsphinx": "hidden"
   },
   "outputs": [
    {
     "data": {
      "text/plain": [
       "'generate_questions'"
      ]
     },
     "execution_count": 33,
     "metadata": {},
     "output_type": "execute_result"
    }
   ],
   "source": [
    "bf.set_network('generate_questions')"
   ]
  },
  {
   "cell_type": "code",
   "execution_count": 34,
   "id": "858bd50d",
   "metadata": {
    "nbsphinx": "hidden"
   },
   "outputs": [
    {
     "data": {
      "text/plain": [
       "'generate_questions'"
      ]
     },
     "execution_count": 34,
     "metadata": {},
     "output_type": "execute_result"
    }
   ],
   "source": [
    "bf.set_snapshot('generate_questions')"
   ]
  },
  {
   "cell_type": "markdown",
   "id": "8962d104",
   "metadata": {},
   "source": [
    "##### OSPF Interface Configuration"
   ]
  },
  {
   "cell_type": "markdown",
   "id": "ab644a51",
   "metadata": {},
   "source": [
    "Returns OSPF configuration of interfaces."
   ]
  },
  {
   "cell_type": "markdown",
   "id": "7e6b1e46",
   "metadata": {},
   "source": [
    "Returns the interface level OSPF configuration details for the interfaces in the network which run OSPF."
   ]
  },
  {
   "cell_type": "markdown",
   "id": "5b00cfbb",
   "metadata": {},
   "source": [
    "###### **Inputs**"
   ]
  },
  {
   "cell_type": "markdown",
   "id": "eeec40fb",
   "metadata": {},
   "source": [
    "Name | Description | Type | Optional | Default Value\n",
    "--- | --- | --- | --- | --- \n",
    "nodes | Include nodes matching this specifier. | [NodeSpec](../specifiers.md#node-specifier) | True | \n",
    "properties | Include properties matching this specifier. | [OspfInterfacePropertySpec](../specifiers.md#ospf-interface-property-specifier) | True | "
   ]
  },
  {
   "cell_type": "markdown",
   "id": "15188e0e",
   "metadata": {},
   "source": [
    "###### **Invocation**"
   ]
  },
  {
   "cell_type": "code",
   "execution_count": 35,
   "id": "b7658eac",
   "metadata": {},
   "outputs": [],
   "source": [
    "result = bf.q.ospfInterfaceConfiguration().answer().frame()"
   ]
  },
  {
   "cell_type": "markdown",
   "id": "c10ddd40",
   "metadata": {},
   "source": [
    "###### **Return Value**"
   ]
  },
  {
   "cell_type": "markdown",
   "id": "4e0fda43",
   "metadata": {},
   "source": [
    "Name | Description | Type\n",
    "--- | --- | ---\n",
    "Interface | Interface | [Interface](../datamodel.rst#pybatfish.datamodel.primitives.Interface)\n",
    "VRF | VRF name | str\n",
    "Process_ID | Process ID | str\n",
    "OSPF_Area_Name | OSPF area to which the interface belongs | int\n",
    "OSPF_Enabled | Whether OSPF is enabled | bool\n",
    "OSPF_Passive | Whether interface is in OSPF passive mode | bool\n",
    "OSPF_Cost | OSPF cost if explicitly configured | int\n",
    "OSPF_Network_Type | Type of OSPF network associated with the interface | str\n",
    "OSPF_Hello_Interval | Interval in seconds between sending OSPF hello messages | int\n",
    "OSPF_Dead_Interval | Interval in seconds before a silent OSPF neighbor is declared dead | int"
   ]
  },
  {
   "cell_type": "markdown",
   "id": "f487cdeb",
   "metadata": {},
   "source": [
    "Print the first 5 rows of the returned Dataframe"
   ]
  },
  {
   "cell_type": "code",
   "execution_count": 36,
   "id": "9f64e82e",
   "metadata": {},
   "outputs": [
    {
     "data": {
      "text/html": [
       "<div>\n",
       "<style scoped>\n",
       "    .dataframe tbody tr th:only-of-type {\n",
       "        vertical-align: middle;\n",
       "    }\n",
       "\n",
       "    .dataframe tbody tr th {\n",
       "        vertical-align: top;\n",
       "    }\n",
       "\n",
       "    .dataframe thead th {\n",
       "        text-align: right;\n",
       "    }\n",
       "</style>\n",
       "<table border=\"1\" class=\"dataframe\">\n",
       "  <thead>\n",
       "    <tr style=\"text-align: right;\">\n",
       "      <th></th>\n",
       "      <th>Interface</th>\n",
       "      <th>VRF</th>\n",
       "      <th>Process_ID</th>\n",
       "      <th>OSPF_Area_Name</th>\n",
       "      <th>OSPF_Enabled</th>\n",
       "      <th>OSPF_Passive</th>\n",
       "      <th>OSPF_Cost</th>\n",
       "      <th>OSPF_Network_Type</th>\n",
       "      <th>OSPF_Hello_Interval</th>\n",
       "      <th>OSPF_Dead_Interval</th>\n",
       "    </tr>\n",
       "  </thead>\n",
       "  <tbody>\n",
       "    <tr>\n",
       "      <th>0</th>\n",
       "      <td>as1core1[GigabitEthernet1/0]</td>\n",
       "      <td>default</td>\n",
       "      <td>1</td>\n",
       "      <td>1</td>\n",
       "      <td>True</td>\n",
       "      <td>False</td>\n",
       "      <td>1</td>\n",
       "      <td>BROADCAST</td>\n",
       "      <td>10</td>\n",
       "      <td>40</td>\n",
       "    </tr>\n",
       "    <tr>\n",
       "      <th>1</th>\n",
       "      <td>as1core1[GigabitEthernet0/0]</td>\n",
       "      <td>default</td>\n",
       "      <td>1</td>\n",
       "      <td>1</td>\n",
       "      <td>True</td>\n",
       "      <td>False</td>\n",
       "      <td>1</td>\n",
       "      <td>BROADCAST</td>\n",
       "      <td>10</td>\n",
       "      <td>40</td>\n",
       "    </tr>\n",
       "    <tr>\n",
       "      <th>2</th>\n",
       "      <td>as2dist1[Loopback0]</td>\n",
       "      <td>default</td>\n",
       "      <td>1</td>\n",
       "      <td>1</td>\n",
       "      <td>True</td>\n",
       "      <td>False</td>\n",
       "      <td>1</td>\n",
       "      <td>BROADCAST</td>\n",
       "      <td>10</td>\n",
       "      <td>40</td>\n",
       "    </tr>\n",
       "    <tr>\n",
       "      <th>3</th>\n",
       "      <td>as3core1[GigabitEthernet0/0]</td>\n",
       "      <td>default</td>\n",
       "      <td>1</td>\n",
       "      <td>1</td>\n",
       "      <td>True</td>\n",
       "      <td>False</td>\n",
       "      <td>1</td>\n",
       "      <td>BROADCAST</td>\n",
       "      <td>10</td>\n",
       "      <td>40</td>\n",
       "    </tr>\n",
       "    <tr>\n",
       "      <th>4</th>\n",
       "      <td>as3core1[GigabitEthernet1/0]</td>\n",
       "      <td>default</td>\n",
       "      <td>1</td>\n",
       "      <td>1</td>\n",
       "      <td>True</td>\n",
       "      <td>False</td>\n",
       "      <td>1</td>\n",
       "      <td>BROADCAST</td>\n",
       "      <td>10</td>\n",
       "      <td>40</td>\n",
       "    </tr>\n",
       "  </tbody>\n",
       "</table>\n",
       "</div>"
      ],
      "text/plain": [
       "                      Interface      VRF Process_ID OSPF_Area_Name OSPF_Enabled OSPF_Passive OSPF_Cost OSPF_Network_Type OSPF_Hello_Interval OSPF_Dead_Interval\n",
       "0  as1core1[GigabitEthernet1/0]  default          1              1         True        False         1         BROADCAST                  10                 40\n",
       "1  as1core1[GigabitEthernet0/0]  default          1              1         True        False         1         BROADCAST                  10                 40\n",
       "2           as2dist1[Loopback0]  default          1              1         True        False         1         BROADCAST                  10                 40\n",
       "3  as3core1[GigabitEthernet0/0]  default          1              1         True        False         1         BROADCAST                  10                 40\n",
       "4  as3core1[GigabitEthernet1/0]  default          1              1         True        False         1         BROADCAST                  10                 40"
      ]
     },
     "execution_count": 36,
     "metadata": {},
     "output_type": "execute_result"
    }
   ],
   "source": [
    "result.head(5)"
   ]
  },
  {
   "cell_type": "markdown",
   "id": "c0c586bf",
   "metadata": {},
   "source": [
    "Print the first row of the returned Dataframe"
   ]
  },
  {
   "cell_type": "code",
   "execution_count": 37,
   "id": "f0d35705",
   "metadata": {},
   "outputs": [
    {
     "data": {
      "text/plain": [
       "Interface              as1core1[GigabitEthernet1/0]\n",
       "VRF                                         default\n",
       "Process_ID                                        1\n",
       "OSPF_Area_Name                                    1\n",
       "OSPF_Enabled                                   True\n",
       "OSPF_Passive                                  False\n",
       "OSPF_Cost                                         1\n",
       "OSPF_Network_Type                         BROADCAST\n",
       "OSPF_Hello_Interval                              10\n",
       "OSPF_Dead_Interval                               40\n",
       "Name: 0, dtype: object"
      ]
     },
     "execution_count": 37,
     "metadata": {},
     "output_type": "execute_result"
    }
   ],
   "source": [
    "result.iloc[0]"
   ]
  },
  {
   "cell_type": "code",
   "execution_count": 38,
   "id": "4f06053a",
   "metadata": {
    "nbsphinx": "hidden"
   },
   "outputs": [
    {
     "data": {
      "text/plain": [
       "'generate_questions'"
      ]
     },
     "execution_count": 38,
     "metadata": {},
     "output_type": "execute_result"
    }
   ],
   "source": [
    "bf.set_network('generate_questions')"
   ]
  },
  {
   "cell_type": "code",
   "execution_count": 39,
   "id": "5a1389e9",
   "metadata": {
    "nbsphinx": "hidden"
   },
   "outputs": [
    {
     "data": {
      "text/plain": [
       "'generate_questions'"
      ]
     },
     "execution_count": 39,
     "metadata": {},
     "output_type": "execute_result"
    }
   ],
   "source": [
    "bf.set_snapshot('generate_questions')"
   ]
  },
  {
   "cell_type": "markdown",
   "id": "7981b927",
   "metadata": {},
   "source": [
    "##### OSPF Area Configuration"
   ]
  },
  {
   "cell_type": "markdown",
   "id": "cd0df90e",
   "metadata": {},
   "source": [
    "Returns configuration parameters of OSPF areas."
   ]
  },
  {
   "cell_type": "markdown",
   "id": "73723118",
   "metadata": {},
   "source": [
    "Returns information about all OSPF areas defined across the network."
   ]
  },
  {
   "cell_type": "markdown",
   "id": "79470b4c",
   "metadata": {},
   "source": [
    "###### **Inputs**"
   ]
  },
  {
   "cell_type": "markdown",
   "id": "9792c997",
   "metadata": {},
   "source": [
    "Name | Description | Type | Optional | Default Value\n",
    "--- | --- | --- | --- | --- \n",
    "nodes | Include nodes matching this name or regex. | [NodeSpec](../specifiers.md#node-specifier) | True | "
   ]
  },
  {
   "cell_type": "markdown",
   "id": "a274427f",
   "metadata": {},
   "source": [
    "###### **Invocation**"
   ]
  },
  {
   "cell_type": "code",
   "execution_count": 40,
   "id": "f3553634",
   "metadata": {},
   "outputs": [],
   "source": [
    "result = bf.q.ospfAreaConfiguration().answer().frame()"
   ]
  },
  {
   "cell_type": "markdown",
   "id": "2ecc6e2d",
   "metadata": {},
   "source": [
    "###### **Return Value**"
   ]
  },
  {
   "cell_type": "markdown",
   "id": "f349566f",
   "metadata": {},
   "source": [
    "Name | Description | Type\n",
    "--- | --- | ---\n",
    "Node | Node | str\n",
    "VRF | VRF | str\n",
    "Process_ID | Process ID | str\n",
    "Area | Area number | str\n",
    "Area_Type | Area type | str\n",
    "Active_Interfaces | Names of active interfaces | Set of str\n",
    "Passive_Interfaces | Names of passive interfaces | Set of str"
   ]
  },
  {
   "cell_type": "markdown",
   "id": "27b8050c",
   "metadata": {},
   "source": [
    "Print the first 5 rows of the returned Dataframe"
   ]
  },
  {
   "cell_type": "code",
   "execution_count": 41,
   "id": "26a2bafb",
   "metadata": {},
   "outputs": [
    {
     "data": {
      "text/html": [
       "<div>\n",
       "<style scoped>\n",
       "    .dataframe tbody tr th:only-of-type {\n",
       "        vertical-align: middle;\n",
       "    }\n",
       "\n",
       "    .dataframe tbody tr th {\n",
       "        vertical-align: top;\n",
       "    }\n",
       "\n",
       "    .dataframe thead th {\n",
       "        text-align: right;\n",
       "    }\n",
       "</style>\n",
       "<table border=\"1\" class=\"dataframe\">\n",
       "  <thead>\n",
       "    <tr style=\"text-align: right;\">\n",
       "      <th></th>\n",
       "      <th>Node</th>\n",
       "      <th>VRF</th>\n",
       "      <th>Process_ID</th>\n",
       "      <th>Area</th>\n",
       "      <th>Area_Type</th>\n",
       "      <th>Active_Interfaces</th>\n",
       "      <th>Passive_Interfaces</th>\n",
       "    </tr>\n",
       "  </thead>\n",
       "  <tbody>\n",
       "    <tr>\n",
       "      <th>0</th>\n",
       "      <td>as2dist2</td>\n",
       "      <td>default</td>\n",
       "      <td>1</td>\n",
       "      <td>1</td>\n",
       "      <td>NONE</td>\n",
       "      <td>['GigabitEthernet0/0', 'GigabitEthernet1/0', 'Loopback0']</td>\n",
       "      <td>[]</td>\n",
       "    </tr>\n",
       "    <tr>\n",
       "      <th>1</th>\n",
       "      <td>as2border2</td>\n",
       "      <td>default</td>\n",
       "      <td>1</td>\n",
       "      <td>1</td>\n",
       "      <td>NONE</td>\n",
       "      <td>['GigabitEthernet1/0', 'GigabitEthernet2/0', 'Loopback0']</td>\n",
       "      <td>[]</td>\n",
       "    </tr>\n",
       "    <tr>\n",
       "      <th>2</th>\n",
       "      <td>as3core1</td>\n",
       "      <td>default</td>\n",
       "      <td>1</td>\n",
       "      <td>1</td>\n",
       "      <td>NONE</td>\n",
       "      <td>['GigabitEthernet0/0', 'GigabitEthernet1/0', 'Loopback0']</td>\n",
       "      <td>[]</td>\n",
       "    </tr>\n",
       "    <tr>\n",
       "      <th>3</th>\n",
       "      <td>as2core1</td>\n",
       "      <td>default</td>\n",
       "      <td>1</td>\n",
       "      <td>1</td>\n",
       "      <td>NONE</td>\n",
       "      <td>['GigabitEthernet0/0', 'GigabitEthernet1/0', 'GigabitEthernet2/0', 'GigabitEthernet3/0', 'Loopback0']</td>\n",
       "      <td>[]</td>\n",
       "    </tr>\n",
       "    <tr>\n",
       "      <th>4</th>\n",
       "      <td>as1border2</td>\n",
       "      <td>default</td>\n",
       "      <td>1</td>\n",
       "      <td>1</td>\n",
       "      <td>NONE</td>\n",
       "      <td>['GigabitEthernet1/0', 'Loopback0']</td>\n",
       "      <td>[]</td>\n",
       "    </tr>\n",
       "  </tbody>\n",
       "</table>\n",
       "</div>"
      ],
      "text/plain": [
       "         Node      VRF Process_ID Area Area_Type                                                                                      Active_Interfaces Passive_Interfaces\n",
       "0    as2dist2  default          1    1      NONE                                              ['GigabitEthernet0/0', 'GigabitEthernet1/0', 'Loopback0']                 []\n",
       "1  as2border2  default          1    1      NONE                                              ['GigabitEthernet1/0', 'GigabitEthernet2/0', 'Loopback0']                 []\n",
       "2    as3core1  default          1    1      NONE                                              ['GigabitEthernet0/0', 'GigabitEthernet1/0', 'Loopback0']                 []\n",
       "3    as2core1  default          1    1      NONE  ['GigabitEthernet0/0', 'GigabitEthernet1/0', 'GigabitEthernet2/0', 'GigabitEthernet3/0', 'Loopback0']                 []\n",
       "4  as1border2  default          1    1      NONE                                                                    ['GigabitEthernet1/0', 'Loopback0']                 []"
      ]
     },
     "execution_count": 41,
     "metadata": {},
     "output_type": "execute_result"
    }
   ],
   "source": [
    "result.head(5)"
   ]
  },
  {
   "cell_type": "markdown",
   "id": "7ae7ab0b",
   "metadata": {},
   "source": [
    "Print the first row of the returned Dataframe"
   ]
  },
  {
   "cell_type": "code",
   "execution_count": 42,
   "id": "d79ad1b4",
   "metadata": {},
   "outputs": [
    {
     "data": {
      "text/plain": [
       "Node                                                                   as2dist2\n",
       "VRF                                                                     default\n",
       "Process_ID                                                                    1\n",
       "Area                                                                          1\n",
       "Area_Type                                                                  NONE\n",
       "Active_Interfaces     ['GigabitEthernet0/0', 'GigabitEthernet1/0', 'Loopback0']\n",
       "Passive_Interfaces                                                           []\n",
       "Name: 0, dtype: object"
      ]
     },
     "execution_count": 42,
     "metadata": {},
     "output_type": "execute_result"
    }
   ],
   "source": [
    "result.iloc[0]"
   ]
  },
  {
   "cell_type": "code",
   "execution_count": 43,
   "id": "c9dc8910",
   "metadata": {
    "nbsphinx": "hidden"
   },
   "outputs": [
    {
     "data": {
      "text/plain": [
       "'generate_questions'"
      ]
     },
     "execution_count": 43,
     "metadata": {},
     "output_type": "execute_result"
    }
   ],
   "source": [
    "bf.set_network('generate_questions')"
   ]
  },
  {
   "cell_type": "code",
   "execution_count": 44,
   "id": "112f208f",
   "metadata": {
    "nbsphinx": "hidden"
   },
   "outputs": [
    {
     "data": {
      "text/plain": [
       "'aristaevpn'"
      ]
     },
     "execution_count": 44,
     "metadata": {},
     "output_type": "execute_result"
    }
   ],
   "source": [
    "bf.set_snapshot('aristaevpn')"
   ]
  },
  {
   "cell_type": "markdown",
   "id": "ea588dc5",
   "metadata": {},
   "source": [
    "##### Multi-chassis LAG"
   ]
  },
  {
   "cell_type": "markdown",
   "id": "9645224d",
   "metadata": {},
   "source": [
    "Returns MLAG configuration."
   ]
  },
  {
   "cell_type": "markdown",
   "id": "b0004a57",
   "metadata": {},
   "source": [
    "Lists the configuration settings for each MLAG domain in the network."
   ]
  },
  {
   "cell_type": "markdown",
   "id": "3014d10e",
   "metadata": {},
   "source": [
    "###### **Inputs**"
   ]
  },
  {
   "cell_type": "markdown",
   "id": "70b46b1c",
   "metadata": {},
   "source": [
    "Name | Description | Type | Optional | Default Value\n",
    "--- | --- | --- | --- | --- \n",
    "nodes | Include nodes matching this specifier. | [NodeSpec](../specifiers.md#node-specifier) | True | \n",
    "mlagIds | Include MLAG IDs matching this specifier. | [MlagIdSpec](../specifiers.md#mlag-id-specifier) | True | "
   ]
  },
  {
   "cell_type": "markdown",
   "id": "508648b1",
   "metadata": {},
   "source": [
    "###### **Invocation**"
   ]
  },
  {
   "cell_type": "code",
   "execution_count": 45,
   "id": "8864ba08",
   "metadata": {},
   "outputs": [],
   "source": [
    "result = bf.q.mlagProperties().answer().frame()"
   ]
  },
  {
   "cell_type": "markdown",
   "id": "97cde390",
   "metadata": {},
   "source": [
    "###### **Return Value**"
   ]
  },
  {
   "cell_type": "markdown",
   "id": "c9e234e6",
   "metadata": {},
   "source": [
    "Name | Description | Type\n",
    "--- | --- | ---\n",
    "Node | Node name | str\n",
    "MLAG_ID | MLAG domain ID | str\n",
    "Peer_Address | Peer's IP address | str\n",
    "Local_Interface | Local interface used for MLAG peering | [Interface](../datamodel.rst#pybatfish.datamodel.primitives.Interface)\n",
    "Source_Interface | Local interface used as source-interface for MLAG peering | [Interface](../datamodel.rst#pybatfish.datamodel.primitives.Interface)"
   ]
  },
  {
   "cell_type": "markdown",
   "id": "241ed4a4",
   "metadata": {},
   "source": [
    "Print the first 5 rows of the returned Dataframe"
   ]
  },
  {
   "cell_type": "code",
   "execution_count": 46,
   "id": "d39001ab",
   "metadata": {},
   "outputs": [
    {
     "data": {
      "text/html": [
       "<div>\n",
       "<style scoped>\n",
       "    .dataframe tbody tr th:only-of-type {\n",
       "        vertical-align: middle;\n",
       "    }\n",
       "\n",
       "    .dataframe tbody tr th {\n",
       "        vertical-align: top;\n",
       "    }\n",
       "\n",
       "    .dataframe thead th {\n",
       "        text-align: right;\n",
       "    }\n",
       "</style>\n",
       "<table border=\"1\" class=\"dataframe\">\n",
       "  <thead>\n",
       "    <tr style=\"text-align: right;\">\n",
       "      <th></th>\n",
       "      <th>Node</th>\n",
       "      <th>MLAG_ID</th>\n",
       "      <th>Peer_Address</th>\n",
       "      <th>Local_Interface</th>\n",
       "      <th>Source_Interface</th>\n",
       "    </tr>\n",
       "  </thead>\n",
       "  <tbody>\n",
       "    <tr>\n",
       "      <th>0</th>\n",
       "      <td>dc1-bl1a</td>\n",
       "      <td>DC1_BL1</td>\n",
       "      <td>10.255.252.11</td>\n",
       "      <td>dc1-bl1a[Port-Channel3]</td>\n",
       "      <td>dc1-bl1a[Vlan4094]</td>\n",
       "    </tr>\n",
       "    <tr>\n",
       "      <th>1</th>\n",
       "      <td>dc1-bl1b</td>\n",
       "      <td>DC1_BL1</td>\n",
       "      <td>10.255.252.10</td>\n",
       "      <td>dc1-bl1b[Port-Channel3]</td>\n",
       "      <td>dc1-bl1b[Vlan4094]</td>\n",
       "    </tr>\n",
       "    <tr>\n",
       "      <th>2</th>\n",
       "      <td>dc1-l2leaf5a</td>\n",
       "      <td>DC1_L2LEAF5</td>\n",
       "      <td>10.255.252.19</td>\n",
       "      <td>dc1-l2leaf5a[Port-Channel3]</td>\n",
       "      <td>dc1-l2leaf5a[Vlan4094]</td>\n",
       "    </tr>\n",
       "    <tr>\n",
       "      <th>3</th>\n",
       "      <td>dc1-l2leaf5b</td>\n",
       "      <td>DC1_L2LEAF5</td>\n",
       "      <td>10.255.252.18</td>\n",
       "      <td>dc1-l2leaf5b[Port-Channel3]</td>\n",
       "      <td>dc1-l2leaf5b[Vlan4094]</td>\n",
       "    </tr>\n",
       "    <tr>\n",
       "      <th>4</th>\n",
       "      <td>dc1-l2leaf6a</td>\n",
       "      <td>DC1_L2LEAF6</td>\n",
       "      <td>10.255.252.23</td>\n",
       "      <td>dc1-l2leaf6a[Port-Channel3]</td>\n",
       "      <td>dc1-l2leaf6a[Vlan4094]</td>\n",
       "    </tr>\n",
       "  </tbody>\n",
       "</table>\n",
       "</div>"
      ],
      "text/plain": [
       "           Node      MLAG_ID   Peer_Address              Local_Interface        Source_Interface\n",
       "0      dc1-bl1a      DC1_BL1  10.255.252.11      dc1-bl1a[Port-Channel3]      dc1-bl1a[Vlan4094]\n",
       "1      dc1-bl1b      DC1_BL1  10.255.252.10      dc1-bl1b[Port-Channel3]      dc1-bl1b[Vlan4094]\n",
       "2  dc1-l2leaf5a  DC1_L2LEAF5  10.255.252.19  dc1-l2leaf5a[Port-Channel3]  dc1-l2leaf5a[Vlan4094]\n",
       "3  dc1-l2leaf5b  DC1_L2LEAF5  10.255.252.18  dc1-l2leaf5b[Port-Channel3]  dc1-l2leaf5b[Vlan4094]\n",
       "4  dc1-l2leaf6a  DC1_L2LEAF6  10.255.252.23  dc1-l2leaf6a[Port-Channel3]  dc1-l2leaf6a[Vlan4094]"
      ]
     },
     "execution_count": 46,
     "metadata": {},
     "output_type": "execute_result"
    }
   ],
   "source": [
    "result.head(5)"
   ]
  },
  {
   "cell_type": "markdown",
   "id": "7db4b9ce",
   "metadata": {},
   "source": [
    "Print the first row of the returned Dataframe"
   ]
  },
  {
   "cell_type": "code",
   "execution_count": 47,
   "id": "aaa2fb8c",
   "metadata": {},
   "outputs": [
    {
     "data": {
      "text/plain": [
       "Node                               dc1-bl1a\n",
       "MLAG_ID                             DC1_BL1\n",
       "Peer_Address                  10.255.252.11\n",
       "Local_Interface     dc1-bl1a[Port-Channel3]\n",
       "Source_Interface         dc1-bl1a[Vlan4094]\n",
       "Name: 0, dtype: object"
      ]
     },
     "execution_count": 47,
     "metadata": {},
     "output_type": "execute_result"
    }
   ],
   "source": [
    "result.iloc[0]"
   ]
  },
  {
   "cell_type": "code",
   "execution_count": 48,
   "id": "51e76ca6",
   "metadata": {
    "nbsphinx": "hidden"
   },
   "outputs": [
    {
     "data": {
      "text/plain": [
       "'generate_questions'"
      ]
     },
     "execution_count": 48,
     "metadata": {},
     "output_type": "execute_result"
    }
   ],
   "source": [
    "bf.set_network('generate_questions')"
   ]
  },
  {
   "cell_type": "code",
   "execution_count": 49,
   "id": "0bbb3667",
   "metadata": {
    "nbsphinx": "hidden"
   },
   "outputs": [
    {
     "data": {
      "text/plain": [
       "'generate_questions'"
      ]
     },
     "execution_count": 49,
     "metadata": {},
     "output_type": "execute_result"
    }
   ],
   "source": [
    "bf.set_snapshot('generate_questions')"
   ]
  },
  {
   "cell_type": "markdown",
   "id": "6733c1ac",
   "metadata": {},
   "source": [
    "##### IP Owners"
   ]
  },
  {
   "cell_type": "markdown",
   "id": "107758b1",
   "metadata": {},
   "source": [
    "Returns where IP addresses are attached in the network."
   ]
  },
  {
   "cell_type": "markdown",
   "id": "d959bc03",
   "metadata": {},
   "source": [
    "For each device, lists the mapping from IPs to corresponding interface(s) and VRF(s)."
   ]
  },
  {
   "cell_type": "markdown",
   "id": "080c12c3",
   "metadata": {},
   "source": [
    "###### **Inputs**"
   ]
  },
  {
   "cell_type": "markdown",
   "id": "3d654bbd",
   "metadata": {},
   "source": [
    "Name | Description | Type | Optional | Default Value\n",
    "--- | --- | --- | --- | --- \n",
    "ips | Restrict output to only specified IP addresses. | [IpSpec](../specifiers.md#ip-specifier) | True | \n",
    "duplicatesOnly | Restrict output to only IP addresses that are duplicated (configured on a different node or VRF) in the snapshot. | bool | False | False"
   ]
  },
  {
   "cell_type": "markdown",
   "id": "0bb24ed4",
   "metadata": {},
   "source": [
    "###### **Invocation**"
   ]
  },
  {
   "cell_type": "code",
   "execution_count": 50,
   "id": "6322f622",
   "metadata": {},
   "outputs": [],
   "source": [
    "result = bf.q.ipOwners().answer().frame()"
   ]
  },
  {
   "cell_type": "markdown",
   "id": "0a308a6b",
   "metadata": {},
   "source": [
    "###### **Return Value**"
   ]
  },
  {
   "cell_type": "markdown",
   "id": "2bf09c11",
   "metadata": {},
   "source": [
    "Name | Description | Type\n",
    "--- | --- | ---\n",
    "Node | Node hostname | str\n",
    "VRF | VRF name | str\n",
    "Interface | Interface name | str\n",
    "IP | IP address | str\n",
    "Mask | Network mask length | int\n",
    "Active | Whether the interface is active | bool"
   ]
  },
  {
   "cell_type": "markdown",
   "id": "35464822",
   "metadata": {},
   "source": [
    "Print the first 5 rows of the returned Dataframe"
   ]
  },
  {
   "cell_type": "code",
   "execution_count": 51,
   "id": "2680fed4",
   "metadata": {},
   "outputs": [
    {
     "data": {
      "text/html": [
       "<div>\n",
       "<style scoped>\n",
       "    .dataframe tbody tr th:only-of-type {\n",
       "        vertical-align: middle;\n",
       "    }\n",
       "\n",
       "    .dataframe tbody tr th {\n",
       "        vertical-align: top;\n",
       "    }\n",
       "\n",
       "    .dataframe thead th {\n",
       "        text-align: right;\n",
       "    }\n",
       "</style>\n",
       "<table border=\"1\" class=\"dataframe\">\n",
       "  <thead>\n",
       "    <tr style=\"text-align: right;\">\n",
       "      <th></th>\n",
       "      <th>Node</th>\n",
       "      <th>VRF</th>\n",
       "      <th>Interface</th>\n",
       "      <th>IP</th>\n",
       "      <th>Mask</th>\n",
       "      <th>Active</th>\n",
       "    </tr>\n",
       "  </thead>\n",
       "  <tbody>\n",
       "    <tr>\n",
       "      <th>0</th>\n",
       "      <td>as2dist2</td>\n",
       "      <td>default</td>\n",
       "      <td>Loopback0</td>\n",
       "      <td>2.1.3.2</td>\n",
       "      <td>32</td>\n",
       "      <td>True</td>\n",
       "    </tr>\n",
       "    <tr>\n",
       "      <th>1</th>\n",
       "      <td>as2dist1</td>\n",
       "      <td>default</td>\n",
       "      <td>Loopback0</td>\n",
       "      <td>2.1.3.1</td>\n",
       "      <td>32</td>\n",
       "      <td>True</td>\n",
       "    </tr>\n",
       "    <tr>\n",
       "      <th>2</th>\n",
       "      <td>as2dept1</td>\n",
       "      <td>default</td>\n",
       "      <td>GigabitEthernet1/0</td>\n",
       "      <td>2.34.201.4</td>\n",
       "      <td>24</td>\n",
       "      <td>True</td>\n",
       "    </tr>\n",
       "    <tr>\n",
       "      <th>3</th>\n",
       "      <td>as2dept1</td>\n",
       "      <td>default</td>\n",
       "      <td>Loopback0</td>\n",
       "      <td>2.1.1.2</td>\n",
       "      <td>32</td>\n",
       "      <td>True</td>\n",
       "    </tr>\n",
       "    <tr>\n",
       "      <th>4</th>\n",
       "      <td>as3border2</td>\n",
       "      <td>default</td>\n",
       "      <td>GigabitEthernet1/0</td>\n",
       "      <td>3.0.2.1</td>\n",
       "      <td>24</td>\n",
       "      <td>True</td>\n",
       "    </tr>\n",
       "  </tbody>\n",
       "</table>\n",
       "</div>"
      ],
      "text/plain": [
       "         Node      VRF           Interface          IP Mask Active\n",
       "0    as2dist2  default           Loopback0     2.1.3.2   32   True\n",
       "1    as2dist1  default           Loopback0     2.1.3.1   32   True\n",
       "2    as2dept1  default  GigabitEthernet1/0  2.34.201.4   24   True\n",
       "3    as2dept1  default           Loopback0     2.1.1.2   32   True\n",
       "4  as3border2  default  GigabitEthernet1/0     3.0.2.1   24   True"
      ]
     },
     "execution_count": 51,
     "metadata": {},
     "output_type": "execute_result"
    }
   ],
   "source": [
    "result.head(5)"
   ]
  },
  {
   "cell_type": "markdown",
   "id": "d27bdd93",
   "metadata": {},
   "source": [
    "Print the first row of the returned Dataframe"
   ]
  },
  {
   "cell_type": "code",
   "execution_count": 52,
   "id": "2ae06fc1",
   "metadata": {},
   "outputs": [
    {
     "data": {
      "text/plain": [
       "Node          as2dist2\n",
       "VRF            default\n",
       "Interface    Loopback0\n",
       "IP             2.1.3.2\n",
       "Mask                32\n",
       "Active            True\n",
       "Name: 0, dtype: object"
      ]
     },
     "execution_count": 52,
     "metadata": {},
     "output_type": "execute_result"
    }
   ],
   "source": [
    "result.iloc[0]"
   ]
  },
  {
   "cell_type": "code",
   "execution_count": 53,
   "id": "27120027",
   "metadata": {
    "nbsphinx": "hidden"
   },
   "outputs": [
    {
     "data": {
      "text/plain": [
       "'generate_questions'"
      ]
     },
     "execution_count": 53,
     "metadata": {},
     "output_type": "execute_result"
    }
   ],
   "source": [
    "bf.set_network('generate_questions')"
   ]
  },
  {
   "cell_type": "code",
   "execution_count": 54,
   "id": "bc77d0e2",
   "metadata": {
    "nbsphinx": "hidden"
   },
   "outputs": [
    {
     "data": {
      "text/plain": [
       "'generate_questions'"
      ]
     },
     "execution_count": 54,
     "metadata": {},
     "output_type": "execute_result"
    }
   ],
   "source": [
    "bf.set_snapshot('generate_questions')"
   ]
  },
  {
   "cell_type": "markdown",
   "id": "6d1bdf10",
   "metadata": {},
   "source": [
    "##### Named Structures"
   ]
  },
  {
   "cell_type": "markdown",
   "id": "1b472271",
   "metadata": {},
   "source": [
    "Returns named structure definitions."
   ]
  },
  {
   "cell_type": "markdown",
   "id": "a7c33f72",
   "metadata": {},
   "source": [
    "Return structures defined in the configurations, represented in a vendor-independent JSON format."
   ]
  },
  {
   "cell_type": "markdown",
   "id": "818c8f5b",
   "metadata": {},
   "source": [
    "###### **Inputs**"
   ]
  },
  {
   "cell_type": "markdown",
   "id": "f64b74d8",
   "metadata": {},
   "source": [
    "Name | Description | Type | Optional | Default Value\n",
    "--- | --- | --- | --- | --- \n",
    "nodes | Include nodes matching this specifier. | [NodeSpec](../specifiers.md#node-specifier) | True | \n",
    "structureTypes | Include structures of this type. | [NamedStructureSpec](../specifiers.md#named-structure-specifier) | True | \n",
    "structureNames | Include structures matching this name or regex. | str | True | \n",
    "ignoreGenerated | Whether to ignore auto-generated structures. | bool | True | True\n",
    "indicatePresence | Output if the structure is present or absent. | bool | True | "
   ]
  },
  {
   "cell_type": "markdown",
   "id": "57ca3d42",
   "metadata": {},
   "source": [
    "###### **Invocation**"
   ]
  },
  {
   "cell_type": "code",
   "execution_count": 55,
   "id": "7b84f2bd",
   "metadata": {},
   "outputs": [],
   "source": [
    "result = bf.q.namedStructures().answer().frame()"
   ]
  },
  {
   "cell_type": "markdown",
   "id": "497dcc35",
   "metadata": {},
   "source": [
    "###### **Return Value**"
   ]
  },
  {
   "cell_type": "markdown",
   "id": "1326c5f2",
   "metadata": {},
   "source": [
    "Name | Description | Type\n",
    "--- | --- | ---\n",
    "Node | Node | str\n",
    "Structure_Type | Structure type | str\n",
    "Structure_Name | Structure name | str\n",
    "Structure_Definition | Structure definition | dict"
   ]
  },
  {
   "cell_type": "markdown",
   "id": "7956fbd0",
   "metadata": {},
   "source": [
    "Print the first 5 rows of the returned Dataframe"
   ]
  },
  {
   "cell_type": "code",
   "execution_count": 56,
   "id": "0a762d74",
   "metadata": {},
   "outputs": [
    {
     "data": {
      "text/html": [
       "<div>\n",
       "<style scoped>\n",
       "    .dataframe tbody tr th:only-of-type {\n",
       "        vertical-align: middle;\n",
       "    }\n",
       "\n",
       "    .dataframe tbody tr th {\n",
       "        vertical-align: top;\n",
       "    }\n",
       "\n",
       "    .dataframe thead th {\n",
       "        text-align: right;\n",
       "    }\n",
       "</style>\n",
       "<table border=\"1\" class=\"dataframe\">\n",
       "  <thead>\n",
       "    <tr style=\"text-align: right;\">\n",
       "      <th></th>\n",
       "      <th>Node</th>\n",
       "      <th>Structure_Type</th>\n",
       "      <th>Structure_Name</th>\n",
       "      <th>Structure_Definition</th>\n",
       "    </tr>\n",
       "  </thead>\n",
       "  <tbody>\n",
       "    <tr>\n",
       "      <th>0</th>\n",
       "      <td>as1border1</td>\n",
       "      <td>Community_Set_Match_Expr</td>\n",
       "      <td>as1_community</td>\n",
       "      <td>{'expr': {'class': 'org.batfish.datamodel.routing_policy.communities.CommunityMatchRegex', 'communityRendering': {'class': 'org.batfish.datamodel.routing_policy.communities.ColonSeparatedRendering'}, 'regex': '(,|\\{|\\}|^|$| )1:'}}</td>\n",
       "    </tr>\n",
       "    <tr>\n",
       "      <th>1</th>\n",
       "      <td>as1border2</td>\n",
       "      <td>Community_Set_Match_Expr</td>\n",
       "      <td>as1_community</td>\n",
       "      <td>{'expr': {'class': 'org.batfish.datamodel.routing_policy.communities.CommunityMatchRegex', 'communityRendering': {'class': 'org.batfish.datamodel.routing_policy.communities.ColonSeparatedRendering'}, 'regex': '(,|\\{|\\}|^|$| )1:'}}</td>\n",
       "    </tr>\n",
       "    <tr>\n",
       "      <th>2</th>\n",
       "      <td>as2border1</td>\n",
       "      <td>Community_Set_Match_Expr</td>\n",
       "      <td>as1_community</td>\n",
       "      <td>{'expr': {'class': 'org.batfish.datamodel.routing_policy.communities.CommunityMatchRegex', 'communityRendering': {'class': 'org.batfish.datamodel.routing_policy.communities.ColonSeparatedRendering'}, 'regex': '(,|\\{|\\}|^|$| )1:'}}</td>\n",
       "    </tr>\n",
       "    <tr>\n",
       "      <th>3</th>\n",
       "      <td>as2border2</td>\n",
       "      <td>Community_Set_Match_Expr</td>\n",
       "      <td>as1_community</td>\n",
       "      <td>{'expr': {'class': 'org.batfish.datamodel.routing_policy.communities.CommunityMatchRegex', 'communityRendering': {'class': 'org.batfish.datamodel.routing_policy.communities.ColonSeparatedRendering'}, 'regex': '(,|\\{|\\}|^|$| )1:'}}</td>\n",
       "    </tr>\n",
       "    <tr>\n",
       "      <th>4</th>\n",
       "      <td>as3border1</td>\n",
       "      <td>Community_Set_Match_Expr</td>\n",
       "      <td>as1_community</td>\n",
       "      <td>{'expr': {'class': 'org.batfish.datamodel.routing_policy.communities.CommunityMatchRegex', 'communityRendering': {'class': 'org.batfish.datamodel.routing_policy.communities.ColonSeparatedRendering'}, 'regex': '(,|\\{|\\}|^|$| )1:'}}</td>\n",
       "    </tr>\n",
       "  </tbody>\n",
       "</table>\n",
       "</div>"
      ],
      "text/plain": [
       "         Node            Structure_Type Structure_Name                                                                                                                                                                                                                    Structure_Definition\n",
       "0  as1border1  Community_Set_Match_Expr  as1_community  {'expr': {'class': 'org.batfish.datamodel.routing_policy.communities.CommunityMatchRegex', 'communityRendering': {'class': 'org.batfish.datamodel.routing_policy.communities.ColonSeparatedRendering'}, 'regex': '(,|\\{|\\}|^|$| )1:'}}\n",
       "1  as1border2  Community_Set_Match_Expr  as1_community  {'expr': {'class': 'org.batfish.datamodel.routing_policy.communities.CommunityMatchRegex', 'communityRendering': {'class': 'org.batfish.datamodel.routing_policy.communities.ColonSeparatedRendering'}, 'regex': '(,|\\{|\\}|^|$| )1:'}}\n",
       "2  as2border1  Community_Set_Match_Expr  as1_community  {'expr': {'class': 'org.batfish.datamodel.routing_policy.communities.CommunityMatchRegex', 'communityRendering': {'class': 'org.batfish.datamodel.routing_policy.communities.ColonSeparatedRendering'}, 'regex': '(,|\\{|\\}|^|$| )1:'}}\n",
       "3  as2border2  Community_Set_Match_Expr  as1_community  {'expr': {'class': 'org.batfish.datamodel.routing_policy.communities.CommunityMatchRegex', 'communityRendering': {'class': 'org.batfish.datamodel.routing_policy.communities.ColonSeparatedRendering'}, 'regex': '(,|\\{|\\}|^|$| )1:'}}\n",
       "4  as3border1  Community_Set_Match_Expr  as1_community  {'expr': {'class': 'org.batfish.datamodel.routing_policy.communities.CommunityMatchRegex', 'communityRendering': {'class': 'org.batfish.datamodel.routing_policy.communities.ColonSeparatedRendering'}, 'regex': '(,|\\{|\\}|^|$| )1:'}}"
      ]
     },
     "execution_count": 56,
     "metadata": {},
     "output_type": "execute_result"
    }
   ],
   "source": [
    "result.head(5)"
   ]
  },
  {
   "cell_type": "markdown",
   "id": "876352fc",
   "metadata": {},
   "source": [
    "Print the first row of the returned Dataframe"
   ]
  },
  {
   "cell_type": "code",
   "execution_count": 57,
   "id": "5ce9384b",
   "metadata": {},
   "outputs": [
    {
     "data": {
      "text/plain": [
       "Node                                                                                                                                                                                                                                                as1border1\n",
       "Structure_Type                                                                                                                                                                                                                        Community_Set_Match_Expr\n",
       "Structure_Name                                                                                                                                                                                                                                   as1_community\n",
       "Structure_Definition    {'expr': {'class': 'org.batfish.datamodel.routing_policy.communities.CommunityMatchRegex', 'communityRendering': {'class': 'org.batfish.datamodel.routing_policy.communities.ColonSeparatedRendering'}, 'regex': '(,|\\{|\\}|^|$| )1:'}}\n",
       "Name: 0, dtype: object"
      ]
     },
     "execution_count": 57,
     "metadata": {},
     "output_type": "execute_result"
    }
   ],
   "source": [
    "result.iloc[0]"
   ]
  },
  {
   "cell_type": "code",
   "execution_count": 58,
   "id": "6e9ecded",
   "metadata": {
    "nbsphinx": "hidden"
   },
   "outputs": [
    {
     "data": {
      "text/plain": [
       "'generate_questions'"
      ]
     },
     "execution_count": 58,
     "metadata": {},
     "output_type": "execute_result"
    }
   ],
   "source": [
    "bf.set_network('generate_questions')"
   ]
  },
  {
   "cell_type": "code",
   "execution_count": 59,
   "id": "1794cf89",
   "metadata": {
    "nbsphinx": "hidden"
   },
   "outputs": [
    {
     "data": {
      "text/plain": [
       "'generate_questions'"
      ]
     },
     "execution_count": 59,
     "metadata": {},
     "output_type": "execute_result"
    }
   ],
   "source": [
    "bf.set_snapshot('generate_questions')"
   ]
  },
  {
   "cell_type": "markdown",
   "id": "d816dc13",
   "metadata": {},
   "source": [
    "##### Defined Structures"
   ]
  },
  {
   "cell_type": "markdown",
   "id": "72193881",
   "metadata": {},
   "source": [
    "Lists the structures defined in the network."
   ]
  },
  {
   "cell_type": "markdown",
   "id": "d5a5cfc9",
   "metadata": {},
   "source": [
    "Lists the structures defined in the network, along with the files and line numbers in which they are defined."
   ]
  },
  {
   "cell_type": "markdown",
   "id": "a788ac9d",
   "metadata": {},
   "source": [
    "###### **Inputs**"
   ]
  },
  {
   "cell_type": "markdown",
   "id": "67f6dbbc",
   "metadata": {},
   "source": [
    "Name | Description | Type | Optional | Default Value\n",
    "--- | --- | --- | --- | --- \n",
    "filename | Include structures defined in the given file. | str | True | \n",
    "nodes | Include files used to generate nodes whose name matches this specifier. | [NodeSpec](../specifiers.md#node-specifier) | True | .*\n",
    "names | Include structures whose name matches this string or regex. | str | True | .*\n",
    "types | Include structures whose vendor-specific type matches this string or regex. | str | True | .*"
   ]
  },
  {
   "cell_type": "markdown",
   "id": "86ece6ea",
   "metadata": {},
   "source": [
    "###### **Invocation**"
   ]
  },
  {
   "cell_type": "code",
   "execution_count": 60,
   "id": "fe35a9d2",
   "metadata": {},
   "outputs": [],
   "source": [
    "result = bf.q.definedStructures().answer().frame()"
   ]
  },
  {
   "cell_type": "markdown",
   "id": "0af68eb1",
   "metadata": {},
   "source": [
    "###### **Return Value**"
   ]
  },
  {
   "cell_type": "markdown",
   "id": "04d56bdb",
   "metadata": {},
   "source": [
    "Name | Description | Type\n",
    "--- | --- | ---\n",
    "Structure_Type | Vendor-specific type of the structure | str\n",
    "Structure_Name | Name of the structure | str\n",
    "Source_Lines | File and line numbers where the structure is defined | [FileLines](../datamodel.rst#pybatfish.datamodel.primitives.FileLines)"
   ]
  },
  {
   "cell_type": "markdown",
   "id": "707980bc",
   "metadata": {},
   "source": [
    "Print the first 5 rows of the returned Dataframe"
   ]
  },
  {
   "cell_type": "code",
   "execution_count": 61,
   "id": "a8f22066",
   "metadata": {},
   "outputs": [
    {
     "data": {
      "text/html": [
       "<div>\n",
       "<style scoped>\n",
       "    .dataframe tbody tr th:only-of-type {\n",
       "        vertical-align: middle;\n",
       "    }\n",
       "\n",
       "    .dataframe tbody tr th {\n",
       "        vertical-align: top;\n",
       "    }\n",
       "\n",
       "    .dataframe thead th {\n",
       "        text-align: right;\n",
       "    }\n",
       "</style>\n",
       "<table border=\"1\" class=\"dataframe\">\n",
       "  <thead>\n",
       "    <tr style=\"text-align: right;\">\n",
       "      <th></th>\n",
       "      <th>Structure_Type</th>\n",
       "      <th>Structure_Name</th>\n",
       "      <th>Source_Lines</th>\n",
       "    </tr>\n",
       "  </thead>\n",
       "  <tbody>\n",
       "    <tr>\n",
       "      <th>0</th>\n",
       "      <td>extended ipv4 access-list line</td>\n",
       "      <td>OUTSIDE_TO_INSIDE: permit ip any any</td>\n",
       "      <td>configs/as2border1.cfg:[137]</td>\n",
       "    </tr>\n",
       "    <tr>\n",
       "      <th>1</th>\n",
       "      <td>extended ipv4 access-list line</td>\n",
       "      <td>blocktelnet: deny   tcp any any eq telnet</td>\n",
       "      <td>configs/as2core1.cfg:[122]</td>\n",
       "    </tr>\n",
       "    <tr>\n",
       "      <th>2</th>\n",
       "      <td>interface</td>\n",
       "      <td>GigabitEthernet1/0</td>\n",
       "      <td>configs/as1core1.cfg:[69, 70, 71]</td>\n",
       "    </tr>\n",
       "    <tr>\n",
       "      <th>3</th>\n",
       "      <td>route-map-clause</td>\n",
       "      <td>as3_to_as2 1</td>\n",
       "      <td>configs/as3border1.cfg:[146, 147, 148, 149]</td>\n",
       "    </tr>\n",
       "    <tr>\n",
       "      <th>4</th>\n",
       "      <td>extended ipv4 access-list</td>\n",
       "      <td>101</td>\n",
       "      <td>configs/as2border2.cfg:[140, 141]</td>\n",
       "    </tr>\n",
       "  </tbody>\n",
       "</table>\n",
       "</div>"
      ],
      "text/plain": [
       "                   Structure_Type                             Structure_Name                                 Source_Lines\n",
       "0  extended ipv4 access-list line       OUTSIDE_TO_INSIDE: permit ip any any                 configs/as2border1.cfg:[137]\n",
       "1  extended ipv4 access-list line  blocktelnet: deny   tcp any any eq telnet                   configs/as2core1.cfg:[122]\n",
       "2                       interface                         GigabitEthernet1/0            configs/as1core1.cfg:[69, 70, 71]\n",
       "3                route-map-clause                               as3_to_as2 1  configs/as3border1.cfg:[146, 147, 148, 149]\n",
       "4       extended ipv4 access-list                                        101            configs/as2border2.cfg:[140, 141]"
      ]
     },
     "execution_count": 61,
     "metadata": {},
     "output_type": "execute_result"
    }
   ],
   "source": [
    "result.head(5)"
   ]
  },
  {
   "cell_type": "markdown",
   "id": "797d2171",
   "metadata": {},
   "source": [
    "Print the first row of the returned Dataframe"
   ]
  },
  {
   "cell_type": "code",
   "execution_count": 62,
   "id": "bbe9c987",
   "metadata": {},
   "outputs": [
    {
     "data": {
      "text/plain": [
       "Structure_Type          extended ipv4 access-list line\n",
       "Structure_Name    OUTSIDE_TO_INSIDE: permit ip any any\n",
       "Source_Lines              configs/as2border1.cfg:[137]\n",
       "Name: 0, dtype: object"
      ]
     },
     "execution_count": 62,
     "metadata": {},
     "output_type": "execute_result"
    }
   ],
   "source": [
    "result.iloc[0]"
   ]
  },
  {
   "cell_type": "code",
   "execution_count": 63,
   "id": "9a482558",
   "metadata": {
    "nbsphinx": "hidden"
   },
   "outputs": [
    {
     "data": {
      "text/plain": [
       "'generate_questions'"
      ]
     },
     "execution_count": 63,
     "metadata": {},
     "output_type": "execute_result"
    }
   ],
   "source": [
    "bf.set_network('generate_questions')"
   ]
  },
  {
   "cell_type": "code",
   "execution_count": 64,
   "id": "4d8015ee",
   "metadata": {
    "nbsphinx": "hidden"
   },
   "outputs": [
    {
     "data": {
      "text/plain": [
       "'generate_questions'"
      ]
     },
     "execution_count": 64,
     "metadata": {},
     "output_type": "execute_result"
    }
   ],
   "source": [
    "bf.set_snapshot('generate_questions')"
   ]
  },
  {
   "cell_type": "markdown",
   "id": "bbf0afef",
   "metadata": {},
   "source": [
    "##### Referenced Structures"
   ]
  },
  {
   "cell_type": "markdown",
   "id": "4ffe5e81",
   "metadata": {},
   "source": [
    "Lists the references in configuration files to vendor-specific structures."
   ]
  },
  {
   "cell_type": "markdown",
   "id": "f3479e9f",
   "metadata": {},
   "source": [
    "Lists the references in configuration files to vendor-specific structures, along with the line number, the name and the type of the structure referenced, and configuration context in which each reference occurs."
   ]
  },
  {
   "cell_type": "markdown",
   "id": "5636af1a",
   "metadata": {},
   "source": [
    "###### **Inputs**"
   ]
  },
  {
   "cell_type": "markdown",
   "id": "bc02751f",
   "metadata": {},
   "source": [
    "Name | Description | Type | Optional | Default Value\n",
    "--- | --- | --- | --- | --- \n",
    "nodes | Include files used to generate nodes whose name matches this specifier. | [NodeSpec](../specifiers.md#node-specifier) | True | \n",
    "names | Include structures whose name matches this string or regex. | str | True | \n",
    "types | Include structures whose vendor-specific type matches this string or regex. | str | True | "
   ]
  },
  {
   "cell_type": "markdown",
   "id": "0423150a",
   "metadata": {},
   "source": [
    "###### **Invocation**"
   ]
  },
  {
   "cell_type": "code",
   "execution_count": 65,
   "id": "f149fa19",
   "metadata": {},
   "outputs": [],
   "source": [
    "result = bf.q.referencedStructures().answer().frame()"
   ]
  },
  {
   "cell_type": "markdown",
   "id": "90d1fbe3",
   "metadata": {},
   "source": [
    "###### **Return Value**"
   ]
  },
  {
   "cell_type": "markdown",
   "id": "1c0d7886",
   "metadata": {},
   "source": [
    "Name | Description | Type\n",
    "--- | --- | ---\n",
    "Structure_Type | Type of structure referenced | str\n",
    "Structure_Name | The referenced structure | str\n",
    "Context | Configuration context in which the reference appears | str\n",
    "Source_Lines | Lines where reference appears | [FileLines](../datamodel.rst#pybatfish.datamodel.primitives.FileLines)"
   ]
  },
  {
   "cell_type": "markdown",
   "id": "56ab66d1",
   "metadata": {},
   "source": [
    "Print the first 5 rows of the returned Dataframe"
   ]
  },
  {
   "cell_type": "code",
   "execution_count": 66,
   "id": "d9df677b",
   "metadata": {},
   "outputs": [
    {
     "data": {
      "text/html": [
       "<div>\n",
       "<style scoped>\n",
       "    .dataframe tbody tr th:only-of-type {\n",
       "        vertical-align: middle;\n",
       "    }\n",
       "\n",
       "    .dataframe tbody tr th {\n",
       "        vertical-align: top;\n",
       "    }\n",
       "\n",
       "    .dataframe thead th {\n",
       "        text-align: right;\n",
       "    }\n",
       "</style>\n",
       "<table border=\"1\" class=\"dataframe\">\n",
       "  <thead>\n",
       "    <tr style=\"text-align: right;\">\n",
       "      <th></th>\n",
       "      <th>Structure_Type</th>\n",
       "      <th>Structure_Name</th>\n",
       "      <th>Context</th>\n",
       "      <th>Source_Lines</th>\n",
       "    </tr>\n",
       "  </thead>\n",
       "  <tbody>\n",
       "    <tr>\n",
       "      <th>0</th>\n",
       "      <td>bgp neighbor</td>\n",
       "      <td>1.10.1.1 (VRF default)</td>\n",
       "      <td>bgp neighbor self ref</td>\n",
       "      <td>configs/as1border1.cfg:[92, 111]</td>\n",
       "    </tr>\n",
       "    <tr>\n",
       "      <th>1</th>\n",
       "      <td>bgp neighbor</td>\n",
       "      <td>10.12.11.2 (VRF default)</td>\n",
       "      <td>bgp neighbor self ref</td>\n",
       "      <td>configs/as1border1.cfg:[114]</td>\n",
       "    </tr>\n",
       "    <tr>\n",
       "      <th>2</th>\n",
       "      <td>bgp neighbor</td>\n",
       "      <td>3.2.2.2 (VRF default)</td>\n",
       "      <td>bgp neighbor self ref</td>\n",
       "      <td>configs/as1border1.cfg:[112]</td>\n",
       "    </tr>\n",
       "    <tr>\n",
       "      <th>3</th>\n",
       "      <td>bgp neighbor</td>\n",
       "      <td>5.6.7.8 (VRF default)</td>\n",
       "      <td>bgp neighbor self ref</td>\n",
       "      <td>configs/as1border1.cfg:[113]</td>\n",
       "    </tr>\n",
       "    <tr>\n",
       "      <th>4</th>\n",
       "      <td>bgp peer-group</td>\n",
       "      <td>as1</td>\n",
       "      <td>bgp neighbor peer-group</td>\n",
       "      <td>configs/as1border1.cfg:[91]</td>\n",
       "    </tr>\n",
       "  </tbody>\n",
       "</table>\n",
       "</div>"
      ],
      "text/plain": [
       "   Structure_Type            Structure_Name                  Context                      Source_Lines\n",
       "0    bgp neighbor    1.10.1.1 (VRF default)    bgp neighbor self ref  configs/as1border1.cfg:[92, 111]\n",
       "1    bgp neighbor  10.12.11.2 (VRF default)    bgp neighbor self ref      configs/as1border1.cfg:[114]\n",
       "2    bgp neighbor     3.2.2.2 (VRF default)    bgp neighbor self ref      configs/as1border1.cfg:[112]\n",
       "3    bgp neighbor     5.6.7.8 (VRF default)    bgp neighbor self ref      configs/as1border1.cfg:[113]\n",
       "4  bgp peer-group                       as1  bgp neighbor peer-group       configs/as1border1.cfg:[91]"
      ]
     },
     "execution_count": 66,
     "metadata": {},
     "output_type": "execute_result"
    }
   ],
   "source": [
    "result.head(5)"
   ]
  },
  {
   "cell_type": "markdown",
   "id": "447e04d5",
   "metadata": {},
   "source": [
    "Print the first row of the returned Dataframe"
   ]
  },
  {
   "cell_type": "code",
   "execution_count": 67,
   "id": "d1aab234",
   "metadata": {},
   "outputs": [
    {
     "data": {
      "text/plain": [
       "Structure_Type                        bgp neighbor\n",
       "Structure_Name              1.10.1.1 (VRF default)\n",
       "Context                      bgp neighbor self ref\n",
       "Source_Lines      configs/as1border1.cfg:[92, 111]\n",
       "Name: 0, dtype: object"
      ]
     },
     "execution_count": 67,
     "metadata": {},
     "output_type": "execute_result"
    }
   ],
   "source": [
    "result.iloc[0]"
   ]
  },
  {
   "cell_type": "code",
   "execution_count": 68,
   "id": "35d4bfb0",
   "metadata": {
    "nbsphinx": "hidden"
   },
   "outputs": [
    {
     "data": {
      "text/plain": [
       "'generate_questions'"
      ]
     },
     "execution_count": 68,
     "metadata": {},
     "output_type": "execute_result"
    }
   ],
   "source": [
    "bf.set_network('generate_questions')"
   ]
  },
  {
   "cell_type": "code",
   "execution_count": 69,
   "id": "e0a56fc3",
   "metadata": {
    "nbsphinx": "hidden"
   },
   "outputs": [
    {
     "data": {
      "text/plain": [
       "'generate_questions'"
      ]
     },
     "execution_count": 69,
     "metadata": {},
     "output_type": "execute_result"
    }
   ],
   "source": [
    "bf.set_snapshot('generate_questions')"
   ]
  },
  {
   "cell_type": "markdown",
   "id": "95d3457c",
   "metadata": {},
   "source": [
    "##### Undefined References"
   ]
  },
  {
   "cell_type": "markdown",
   "id": "0e381bc8",
   "metadata": {},
   "source": [
    "Identifies undefined references in configuration."
   ]
  },
  {
   "cell_type": "markdown",
   "id": "c24cb066",
   "metadata": {},
   "source": [
    "Finds configurations that have references to named structures (e.g., ACLs) that are not defined. Such occurrences indicate errors and can have serious consequences in some cases."
   ]
  },
  {
   "cell_type": "markdown",
   "id": "5ce00ba3",
   "metadata": {},
   "source": [
    "###### **Inputs**"
   ]
  },
  {
   "cell_type": "markdown",
   "id": "59ede722",
   "metadata": {},
   "source": [
    "Name | Description | Type | Optional | Default Value\n",
    "--- | --- | --- | --- | --- \n",
    "nodes | Look for undefined references on nodes matching this name or regex. | [NodeSpec](../specifiers.md#node-specifier) | True | .*"
   ]
  },
  {
   "cell_type": "markdown",
   "id": "42b5540a",
   "metadata": {},
   "source": [
    "###### **Invocation**"
   ]
  },
  {
   "cell_type": "code",
   "execution_count": 70,
   "id": "1e195261",
   "metadata": {},
   "outputs": [],
   "source": [
    "result = bf.q.undefinedReferences().answer().frame()"
   ]
  },
  {
   "cell_type": "markdown",
   "id": "8df1e14d",
   "metadata": {},
   "source": [
    "###### **Return Value**"
   ]
  },
  {
   "cell_type": "markdown",
   "id": "19b4f765",
   "metadata": {},
   "source": [
    "Name | Description | Type\n",
    "--- | --- | ---\n",
    "File_Name | File containing reference | str\n",
    "Struct_Type | Type of struct reference is supposed to be | str\n",
    "Ref_Name | The undefined reference | str\n",
    "Context | Context of undefined reference | str\n",
    "Lines | Lines where reference appears | [FileLines](../datamodel.rst#pybatfish.datamodel.primitives.FileLines)"
   ]
  },
  {
   "cell_type": "markdown",
   "id": "93c94d0a",
   "metadata": {},
   "source": [
    "Print the first 5 rows of the returned Dataframe"
   ]
  },
  {
   "cell_type": "code",
   "execution_count": 71,
   "id": "7a80ca87",
   "metadata": {},
   "outputs": [
    {
     "data": {
      "text/html": [
       "<div>\n",
       "<style scoped>\n",
       "    .dataframe tbody tr th:only-of-type {\n",
       "        vertical-align: middle;\n",
       "    }\n",
       "\n",
       "    .dataframe tbody tr th {\n",
       "        vertical-align: top;\n",
       "    }\n",
       "\n",
       "    .dataframe thead th {\n",
       "        text-align: right;\n",
       "    }\n",
       "</style>\n",
       "<table border=\"1\" class=\"dataframe\">\n",
       "  <thead>\n",
       "    <tr style=\"text-align: right;\">\n",
       "      <th></th>\n",
       "      <th>File_Name</th>\n",
       "      <th>Struct_Type</th>\n",
       "      <th>Ref_Name</th>\n",
       "      <th>Context</th>\n",
       "      <th>Lines</th>\n",
       "    </tr>\n",
       "  </thead>\n",
       "  <tbody>\n",
       "    <tr>\n",
       "      <th>0</th>\n",
       "      <td>configs/as2core2.cfg</td>\n",
       "      <td>route-map</td>\n",
       "      <td>filter-bogons</td>\n",
       "      <td>bgp inbound route-map</td>\n",
       "      <td>configs/as2core2.cfg:[110]</td>\n",
       "    </tr>\n",
       "  </tbody>\n",
       "</table>\n",
       "</div>"
      ],
      "text/plain": [
       "              File_Name Struct_Type       Ref_Name                Context                       Lines\n",
       "0  configs/as2core2.cfg   route-map  filter-bogons  bgp inbound route-map  configs/as2core2.cfg:[110]"
      ]
     },
     "execution_count": 71,
     "metadata": {},
     "output_type": "execute_result"
    }
   ],
   "source": [
    "result.head(5)"
   ]
  },
  {
   "cell_type": "markdown",
   "id": "909a572e",
   "metadata": {},
   "source": [
    "Print the first row of the returned Dataframe"
   ]
  },
  {
   "cell_type": "code",
   "execution_count": 72,
   "id": "45daa945",
   "metadata": {},
   "outputs": [
    {
     "data": {
      "text/plain": [
       "File_Name            configs/as2core2.cfg\n",
       "Struct_Type                     route-map\n",
       "Ref_Name                    filter-bogons\n",
       "Context             bgp inbound route-map\n",
       "Lines          configs/as2core2.cfg:[110]\n",
       "Name: 0, dtype: object"
      ]
     },
     "execution_count": 72,
     "metadata": {},
     "output_type": "execute_result"
    }
   ],
   "source": [
    "result.iloc[0]"
   ]
  },
  {
   "cell_type": "code",
   "execution_count": 73,
   "id": "43c427a7",
   "metadata": {
    "nbsphinx": "hidden"
   },
   "outputs": [
    {
     "data": {
      "text/plain": [
       "'generate_questions'"
      ]
     },
     "execution_count": 73,
     "metadata": {},
     "output_type": "execute_result"
    }
   ],
   "source": [
    "bf.set_network('generate_questions')"
   ]
  },
  {
   "cell_type": "code",
   "execution_count": 74,
   "id": "6430ebc4",
   "metadata": {
    "nbsphinx": "hidden"
   },
   "outputs": [
    {
     "data": {
      "text/plain": [
       "'generate_questions'"
      ]
     },
     "execution_count": 74,
     "metadata": {},
     "output_type": "execute_result"
    }
   ],
   "source": [
    "bf.set_snapshot('generate_questions')"
   ]
  },
  {
   "cell_type": "markdown",
   "id": "9f3f405f",
   "metadata": {},
   "source": [
    "##### Unused Structures"
   ]
  },
  {
   "cell_type": "markdown",
   "id": "6f322c70",
   "metadata": {},
   "source": [
    "Returns nodes with structures such as ACLs, routemaps, etc. that are defined but not used."
   ]
  },
  {
   "cell_type": "markdown",
   "id": "a6a5d84f",
   "metadata": {},
   "source": [
    "Return nodes with structures such as ACLs, routes, etc. that are defined but not used. This may represent a bug in the configuration, which may have occurred because a final step in a template or MOP was not completed. Or it could be harmless extra configuration generated from a master template that is not meant to be used on those nodes."
   ]
  },
  {
   "cell_type": "markdown",
   "id": "419ce5fe",
   "metadata": {},
   "source": [
    "###### **Inputs**"
   ]
  },
  {
   "cell_type": "markdown",
   "id": "4f374289",
   "metadata": {},
   "source": [
    "Name | Description | Type | Optional | Default Value\n",
    "--- | --- | --- | --- | --- \n",
    "nodes | Look for unused structures on nodes matching this name or regex. | [NodeSpec](../specifiers.md#node-specifier) | True | .*"
   ]
  },
  {
   "cell_type": "markdown",
   "id": "a5c74dcf",
   "metadata": {},
   "source": [
    "###### **Invocation**"
   ]
  },
  {
   "cell_type": "code",
   "execution_count": 75,
   "id": "6e089ae4",
   "metadata": {},
   "outputs": [],
   "source": [
    "result = bf.q.unusedStructures().answer().frame()"
   ]
  },
  {
   "cell_type": "markdown",
   "id": "b6713ae1",
   "metadata": {},
   "source": [
    "###### **Return Value**"
   ]
  },
  {
   "cell_type": "markdown",
   "id": "c5f721a9",
   "metadata": {},
   "source": [
    "Name | Description | Type\n",
    "--- | --- | ---\n",
    "Structure_Type | Vendor-specific type of the structure | str\n",
    "Structure_Name | Name of the structure | str\n",
    "Source_Lines | File and line numbers where the structure is defined | [FileLines](../datamodel.rst#pybatfish.datamodel.primitives.FileLines)"
   ]
  },
  {
   "cell_type": "markdown",
   "id": "6a719b33",
   "metadata": {},
   "source": [
    "Print the first 5 rows of the returned Dataframe"
   ]
  },
  {
   "cell_type": "code",
   "execution_count": 76,
   "id": "ce6380a6",
   "metadata": {},
   "outputs": [
    {
     "data": {
      "text/html": [
       "<div>\n",
       "<style scoped>\n",
       "    .dataframe tbody tr th:only-of-type {\n",
       "        vertical-align: middle;\n",
       "    }\n",
       "\n",
       "    .dataframe tbody tr th {\n",
       "        vertical-align: top;\n",
       "    }\n",
       "\n",
       "    .dataframe thead th {\n",
       "        text-align: right;\n",
       "    }\n",
       "</style>\n",
       "<table border=\"1\" class=\"dataframe\">\n",
       "  <thead>\n",
       "    <tr style=\"text-align: right;\">\n",
       "      <th></th>\n",
       "      <th>Structure_Type</th>\n",
       "      <th>Structure_Name</th>\n",
       "      <th>Source_Lines</th>\n",
       "    </tr>\n",
       "  </thead>\n",
       "  <tbody>\n",
       "    <tr>\n",
       "      <th>0</th>\n",
       "      <td>bgp peer-group</td>\n",
       "      <td>as3</td>\n",
       "      <td>configs/as1border1.cfg:[85]</td>\n",
       "    </tr>\n",
       "    <tr>\n",
       "      <th>1</th>\n",
       "      <td>expanded community-list</td>\n",
       "      <td>as1_community</td>\n",
       "      <td>configs/as1border1.cfg:[121]</td>\n",
       "    </tr>\n",
       "    <tr>\n",
       "      <th>2</th>\n",
       "      <td>ipv4 prefix-list</td>\n",
       "      <td>inbound_route_filter</td>\n",
       "      <td>configs/as1border1.cfg:[131, 132]</td>\n",
       "    </tr>\n",
       "    <tr>\n",
       "      <th>3</th>\n",
       "      <td>bgp peer-group</td>\n",
       "      <td>as2</td>\n",
       "      <td>configs/as1border2.cfg:[87]</td>\n",
       "    </tr>\n",
       "    <tr>\n",
       "      <th>4</th>\n",
       "      <td>expanded community-list</td>\n",
       "      <td>as1_community</td>\n",
       "      <td>configs/as1border2.cfg:[123]</td>\n",
       "    </tr>\n",
       "  </tbody>\n",
       "</table>\n",
       "</div>"
      ],
      "text/plain": [
       "            Structure_Type        Structure_Name                       Source_Lines\n",
       "0           bgp peer-group                   as3        configs/as1border1.cfg:[85]\n",
       "1  expanded community-list         as1_community       configs/as1border1.cfg:[121]\n",
       "2         ipv4 prefix-list  inbound_route_filter  configs/as1border1.cfg:[131, 132]\n",
       "3           bgp peer-group                   as2        configs/as1border2.cfg:[87]\n",
       "4  expanded community-list         as1_community       configs/as1border2.cfg:[123]"
      ]
     },
     "execution_count": 76,
     "metadata": {},
     "output_type": "execute_result"
    }
   ],
   "source": [
    "result.head(5)"
   ]
  },
  {
   "cell_type": "markdown",
   "id": "dec56b65",
   "metadata": {},
   "source": [
    "Print the first row of the returned Dataframe"
   ]
  },
  {
   "cell_type": "code",
   "execution_count": 77,
   "id": "d02f56af",
   "metadata": {},
   "outputs": [
    {
     "data": {
      "text/plain": [
       "Structure_Type                 bgp peer-group\n",
       "Structure_Name                            as3\n",
       "Source_Lines      configs/as1border1.cfg:[85]\n",
       "Name: 0, dtype: object"
      ]
     },
     "execution_count": 77,
     "metadata": {},
     "output_type": "execute_result"
    }
   ],
   "source": [
    "result.iloc[0]"
   ]
  },
  {
   "cell_type": "code",
   "execution_count": 78,
   "id": "12912d83",
   "metadata": {
    "nbsphinx": "hidden"
   },
   "outputs": [
    {
     "data": {
      "text/plain": [
       "'generate_questions'"
      ]
     },
     "execution_count": 78,
     "metadata": {},
     "output_type": "execute_result"
    }
   ],
   "source": [
    "bf.set_network('generate_questions')"
   ]
  },
  {
   "cell_type": "code",
   "execution_count": 79,
   "id": "260c52d0",
   "metadata": {
    "nbsphinx": "hidden"
   },
   "outputs": [
    {
     "data": {
      "text/plain": [
       "'aristaevpn'"
      ]
     },
     "execution_count": 79,
     "metadata": {},
     "output_type": "execute_result"
    }
   ],
   "source": [
    "bf.set_snapshot('aristaevpn')"
   ]
  },
  {
   "cell_type": "markdown",
   "id": "f4884007",
   "metadata": {},
   "source": [
    "##### VLAN Properties"
   ]
  },
  {
   "cell_type": "markdown",
   "id": "d1c3eb14",
   "metadata": {},
   "source": [
    "Returns configuration settings of switched VLANs."
   ]
  },
  {
   "cell_type": "markdown",
   "id": "8e31335c",
   "metadata": {},
   "source": [
    "Lists information about implicitly and explicitly configured switched VLANs."
   ]
  },
  {
   "cell_type": "markdown",
   "id": "0d4d35cc",
   "metadata": {},
   "source": [
    "###### **Inputs**"
   ]
  },
  {
   "cell_type": "markdown",
   "id": "77d46563",
   "metadata": {},
   "source": [
    "Name | Description | Type | Optional | Default Value\n",
    "--- | --- | --- | --- | --- \n",
    "nodes | Include nodes matching this specifier. | [NodeSpec](../specifiers.md#node-specifier) | True | \n",
    "interfaces | Include interfaces matching this specifier. | [InterfaceSpec](../specifiers.md#interface-specifier) | True | \n",
    "vlans | Include VLANs in this space. | str | True | \n",
    "excludeShutInterfaces | Exclude interfaces that are shutdown. | bool | True | "
   ]
  },
  {
   "cell_type": "markdown",
   "id": "20b8b3e8",
   "metadata": {},
   "source": [
    "###### **Invocation**"
   ]
  },
  {
   "cell_type": "code",
   "execution_count": 80,
   "id": "cf4859dc",
   "metadata": {},
   "outputs": [],
   "source": [
    "result = bf.q.switchedVlanProperties().answer().frame()"
   ]
  },
  {
   "cell_type": "markdown",
   "id": "336e9a6e",
   "metadata": {},
   "source": [
    "###### **Return Value**"
   ]
  },
  {
   "cell_type": "markdown",
   "id": "814fd42a",
   "metadata": {},
   "source": [
    "Name | Description | Type\n",
    "--- | --- | ---\n",
    "Node | Node | str\n",
    "VLAN_ID | VLAN_ID | int\n",
    "Interfaces | Switched interfaces carrying traffic for this VLAN | Set of [Interface](../datamodel.rst#pybatfish.datamodel.primitives.Interface)\n",
    "VXLAN_VNI | VXLAN VNI with which this VLAN is associated | int"
   ]
  },
  {
   "cell_type": "markdown",
   "id": "d31734cf",
   "metadata": {},
   "source": [
    "Print the first 5 rows of the returned Dataframe"
   ]
  },
  {
   "cell_type": "code",
   "execution_count": 81,
   "id": "be979362",
   "metadata": {},
   "outputs": [
    {
     "data": {
      "text/html": [
       "<div>\n",
       "<style scoped>\n",
       "    .dataframe tbody tr th:only-of-type {\n",
       "        vertical-align: middle;\n",
       "    }\n",
       "\n",
       "    .dataframe tbody tr th {\n",
       "        vertical-align: top;\n",
       "    }\n",
       "\n",
       "    .dataframe thead th {\n",
       "        text-align: right;\n",
       "    }\n",
       "</style>\n",
       "<table border=\"1\" class=\"dataframe\">\n",
       "  <thead>\n",
       "    <tr style=\"text-align: right;\">\n",
       "      <th></th>\n",
       "      <th>Node</th>\n",
       "      <th>VLAN_ID</th>\n",
       "      <th>Interfaces</th>\n",
       "      <th>VXLAN_VNI</th>\n",
       "    </tr>\n",
       "  </thead>\n",
       "  <tbody>\n",
       "    <tr>\n",
       "      <th>0</th>\n",
       "      <td>dc1-bl1b</td>\n",
       "      <td>250</td>\n",
       "      <td>[dc1-bl1b[Port-Channel3], dc1-bl1b[Vlan250]]</td>\n",
       "      <td>20250</td>\n",
       "    </tr>\n",
       "    <tr>\n",
       "      <th>1</th>\n",
       "      <td>dc1-leaf1a</td>\n",
       "      <td>210</td>\n",
       "      <td>[dc1-leaf1a[Vlan210]]</td>\n",
       "      <td>20210</td>\n",
       "    </tr>\n",
       "    <tr>\n",
       "      <th>2</th>\n",
       "      <td>dc1-leaf1a</td>\n",
       "      <td>211</td>\n",
       "      <td>[dc1-leaf1a[Vlan211]]</td>\n",
       "      <td>20211</td>\n",
       "    </tr>\n",
       "    <tr>\n",
       "      <th>3</th>\n",
       "      <td>dc1-leaf2a</td>\n",
       "      <td>3764</td>\n",
       "      <td>[dc1-leaf2a[Port-Channel3]]</td>\n",
       "      <td>None</td>\n",
       "    </tr>\n",
       "    <tr>\n",
       "      <th>4</th>\n",
       "      <td>dc1-leaf2b</td>\n",
       "      <td>3789</td>\n",
       "      <td>[dc1-leaf2b[Port-Channel3]]</td>\n",
       "      <td>None</td>\n",
       "    </tr>\n",
       "  </tbody>\n",
       "</table>\n",
       "</div>"
      ],
      "text/plain": [
       "         Node VLAN_ID                                    Interfaces VXLAN_VNI\n",
       "0    dc1-bl1b     250  [dc1-bl1b[Port-Channel3], dc1-bl1b[Vlan250]]     20250\n",
       "1  dc1-leaf1a     210                         [dc1-leaf1a[Vlan210]]     20210\n",
       "2  dc1-leaf1a     211                         [dc1-leaf1a[Vlan211]]     20211\n",
       "3  dc1-leaf2a    3764                   [dc1-leaf2a[Port-Channel3]]      None\n",
       "4  dc1-leaf2b    3789                   [dc1-leaf2b[Port-Channel3]]      None"
      ]
     },
     "execution_count": 81,
     "metadata": {},
     "output_type": "execute_result"
    }
   ],
   "source": [
    "result.head(5)"
   ]
  },
  {
   "cell_type": "markdown",
   "id": "5eeabd1b",
   "metadata": {},
   "source": [
    "Print the first row of the returned Dataframe"
   ]
  },
  {
   "cell_type": "code",
   "execution_count": 82,
   "id": "3324624c",
   "metadata": {},
   "outputs": [
    {
     "data": {
      "text/plain": [
       "Node                                              dc1-bl1b\n",
       "VLAN_ID                                                250\n",
       "Interfaces    [dc1-bl1b[Port-Channel3], dc1-bl1b[Vlan250]]\n",
       "VXLAN_VNI                                            20250\n",
       "Name: 0, dtype: object"
      ]
     },
     "execution_count": 82,
     "metadata": {},
     "output_type": "execute_result"
    }
   ],
   "source": [
    "result.iloc[0]"
   ]
  },
  {
   "cell_type": "code",
   "execution_count": 83,
   "id": "da5e2e52",
   "metadata": {
    "nbsphinx": "hidden"
   },
   "outputs": [
    {
     "data": {
      "text/plain": [
       "'generate_questions'"
      ]
     },
     "execution_count": 83,
     "metadata": {},
     "output_type": "execute_result"
    }
   ],
   "source": [
    "bf.set_network('generate_questions')"
   ]
  },
  {
   "cell_type": "code",
   "execution_count": 84,
   "id": "4ea85d02",
   "metadata": {
    "nbsphinx": "hidden"
   },
   "outputs": [
    {
     "data": {
      "text/plain": [
       "'ios_basic_vrrp'"
      ]
     },
     "execution_count": 84,
     "metadata": {},
     "output_type": "execute_result"
    }
   ],
   "source": [
    "bf.set_snapshot('ios_basic_vrrp')"
   ]
  },
  {
   "cell_type": "markdown",
   "id": "39eade8c",
   "metadata": {},
   "source": [
    "##### VRRP Properties"
   ]
  },
  {
   "cell_type": "markdown",
   "id": "eb7c9529",
   "metadata": {},
   "source": [
    "Returns configuration settings of VRRP groups."
   ]
  },
  {
   "cell_type": "markdown",
   "id": "13d4c9e7",
   "metadata": {},
   "source": [
    "Lists information about VRRP groups on interfaces."
   ]
  },
  {
   "cell_type": "markdown",
   "id": "27d14389",
   "metadata": {},
   "source": [
    "###### **Inputs**"
   ]
  },
  {
   "cell_type": "markdown",
   "id": "39261953",
   "metadata": {},
   "source": [
    "Name | Description | Type | Optional | Default Value\n",
    "--- | --- | --- | --- | --- \n",
    "nodes | Include nodes matching this specifier. | [NodeSpec](../specifiers.md#node-specifier) | True | \n",
    "interfaces | Include interfaces matching this specifier. | [InterfaceSpec](../specifiers.md#interface-specifier) | True | \n",
    "virtualAddresses | Include only groups with at least one virtual address matching this specifier. | [IpSpec](../specifiers.md#ip-specifier) | True | \n",
    "excludeShutInterfaces | Exclude interfaces that are shutdown. | bool | True | "
   ]
  },
  {
   "cell_type": "markdown",
   "id": "16af5e25",
   "metadata": {},
   "source": [
    "###### **Invocation**"
   ]
  },
  {
   "cell_type": "code",
   "execution_count": 85,
   "id": "381567d0",
   "metadata": {},
   "outputs": [],
   "source": [
    "result = bf.q.vrrpProperties().answer().frame()"
   ]
  },
  {
   "cell_type": "markdown",
   "id": "23ff320e",
   "metadata": {},
   "source": [
    "###### **Return Value**"
   ]
  },
  {
   "cell_type": "markdown",
   "id": "ea977f4a",
   "metadata": {},
   "source": [
    "Name | Description | Type\n",
    "--- | --- | ---\n",
    "Interface | Interface | [Interface](../datamodel.rst#pybatfish.datamodel.primitives.Interface)\n",
    "Group_Id | VRRP Group ID | int\n",
    "Virtual_Addresses | Virtual Addresses | Set of str\n",
    "Source_Address | Source Address used for VRRP messages | str\n",
    "Priority | VRRP router priority | int\n",
    "Preempt | Whether preemption is allowed | bool\n",
    "Active | Whether the interface is active | bool"
   ]
  },
  {
   "cell_type": "markdown",
   "id": "cfa005e7",
   "metadata": {},
   "source": [
    "Print the first 5 rows of the returned Dataframe"
   ]
  },
  {
   "cell_type": "code",
   "execution_count": 86,
   "id": "68e1e07a",
   "metadata": {},
   "outputs": [
    {
     "data": {
      "text/html": [
       "<div>\n",
       "<style scoped>\n",
       "    .dataframe tbody tr th:only-of-type {\n",
       "        vertical-align: middle;\n",
       "    }\n",
       "\n",
       "    .dataframe tbody tr th {\n",
       "        vertical-align: top;\n",
       "    }\n",
       "\n",
       "    .dataframe thead th {\n",
       "        text-align: right;\n",
       "    }\n",
       "</style>\n",
       "<table border=\"1\" class=\"dataframe\">\n",
       "  <thead>\n",
       "    <tr style=\"text-align: right;\">\n",
       "      <th></th>\n",
       "      <th>Interface</th>\n",
       "      <th>Group_Id</th>\n",
       "      <th>Virtual_Addresses</th>\n",
       "      <th>Source_Address</th>\n",
       "      <th>Priority</th>\n",
       "      <th>Preempt</th>\n",
       "      <th>Active</th>\n",
       "    </tr>\n",
       "  </thead>\n",
       "  <tbody>\n",
       "    <tr>\n",
       "      <th>0</th>\n",
       "      <td>br1[GigabitEthernet0/2]</td>\n",
       "      <td>12</td>\n",
       "      <td>['192.168.1.254']</td>\n",
       "      <td>192.168.1.1/24</td>\n",
       "      <td>110</td>\n",
       "      <td>True</td>\n",
       "      <td>True</td>\n",
       "    </tr>\n",
       "    <tr>\n",
       "      <th>1</th>\n",
       "      <td>br2[GigabitEthernet0/2]</td>\n",
       "      <td>12</td>\n",
       "      <td>['192.168.1.254']</td>\n",
       "      <td>192.168.1.2/24</td>\n",
       "      <td>100</td>\n",
       "      <td>True</td>\n",
       "      <td>True</td>\n",
       "    </tr>\n",
       "  </tbody>\n",
       "</table>\n",
       "</div>"
      ],
      "text/plain": [
       "                 Interface Group_Id  Virtual_Addresses  Source_Address Priority Preempt Active\n",
       "0  br1[GigabitEthernet0/2]       12  ['192.168.1.254']  192.168.1.1/24      110    True   True\n",
       "1  br2[GigabitEthernet0/2]       12  ['192.168.1.254']  192.168.1.2/24      100    True   True"
      ]
     },
     "execution_count": 86,
     "metadata": {},
     "output_type": "execute_result"
    }
   ],
   "source": [
    "result.head(5)"
   ]
  },
  {
   "cell_type": "markdown",
   "id": "82c0644d",
   "metadata": {},
   "source": [
    "Print the first row of the returned Dataframe"
   ]
  },
  {
   "cell_type": "code",
   "execution_count": 87,
   "id": "f06bf115",
   "metadata": {},
   "outputs": [
    {
     "data": {
      "text/plain": [
       "Interface            br1[GigabitEthernet0/2]\n",
       "Group_Id                                  12\n",
       "Virtual_Addresses          ['192.168.1.254']\n",
       "Source_Address                192.168.1.1/24\n",
       "Priority                                 110\n",
       "Preempt                                 True\n",
       "Active                                  True\n",
       "Name: 0, dtype: object"
      ]
     },
     "execution_count": 87,
     "metadata": {},
     "output_type": "execute_result"
    }
   ],
   "source": [
    "result.iloc[0]"
   ]
  },
  {
   "cell_type": "code",
   "execution_count": 88,
   "id": "8ba7b2d2",
   "metadata": {
    "nbsphinx": "hidden"
   },
   "outputs": [
    {
     "data": {
      "text/plain": [
       "'generate_questions'"
      ]
     },
     "execution_count": 88,
     "metadata": {},
     "output_type": "execute_result"
    }
   ],
   "source": [
    "bf.set_network('generate_questions')"
   ]
  },
  {
   "cell_type": "code",
   "execution_count": 89,
   "id": "cae74609",
   "metadata": {
    "nbsphinx": "hidden"
   },
   "outputs": [
    {
     "data": {
      "text/plain": [
       "'a10'"
      ]
     },
     "execution_count": 89,
     "metadata": {},
     "output_type": "execute_result"
    }
   ],
   "source": [
    "bf.set_snapshot('a10')"
   ]
  },
  {
   "cell_type": "markdown",
   "id": "5b5373d8",
   "metadata": {},
   "source": [
    "##### A10 Virtual Server Configuration"
   ]
  },
  {
   "cell_type": "markdown",
   "id": "d475ccf4",
   "metadata": {},
   "source": [
    "Returns Virtual Server configuration of A10 devices."
   ]
  },
  {
   "cell_type": "markdown",
   "id": "eb5f5ac6",
   "metadata": {},
   "source": [
    "Lists all the virtual-server to service-group to server mappings in A10 configurations."
   ]
  },
  {
   "cell_type": "markdown",
   "id": "e1109a26",
   "metadata": {},
   "source": [
    "###### **Inputs**"
   ]
  },
  {
   "cell_type": "markdown",
   "id": "c5040f5a",
   "metadata": {},
   "source": [
    "Name | Description | Type | Optional | Default Value\n",
    "--- | --- | --- | --- | --- \n",
    "nodes | Include nodes matching this name or regex. | [NodeSpec](../specifiers.md#node-specifier) | True | \n",
    "virtualServerIps | Include virtual servers whose IP match this specifier. | [IpSpec](../specifiers.md#ip-specifier) | True | "
   ]
  },
  {
   "cell_type": "markdown",
   "id": "2236c6ed",
   "metadata": {},
   "source": [
    "###### **Invocation**"
   ]
  },
  {
   "cell_type": "code",
   "execution_count": 90,
   "id": "f5c21cdf",
   "metadata": {},
   "outputs": [],
   "source": [
    "result = bf.q.a10VirtualServerConfiguration().answer().frame()"
   ]
  },
  {
   "cell_type": "markdown",
   "id": "d6546060",
   "metadata": {},
   "source": [
    "###### **Return Value**"
   ]
  },
  {
   "cell_type": "markdown",
   "id": "ee19f6db",
   "metadata": {},
   "source": [
    "Name | Description | Type\n",
    "--- | --- | ---\n",
    "Node | Node | str\n",
    "Virtual_Server_Name | Virtual Server Name | str\n",
    "Virtual_Server_Enabled | Virtual Server Enabled | bool\n",
    "Virtual_Server_IP | Virtual Server IP | str\n",
    "Virtual_Server_Port | Virtual Server Port | int\n",
    "Virtual_Server_Port_Enabled | Virtual Server Port Enabled | bool\n",
    "Virtual_Server_Type | Virtual Server Type | str\n",
    "Virtual_Server_Port_Type_Name | Virtual Server Port Type Name | str\n",
    "Service_Group_Name | Service Group Name | str\n",
    "Service_Group_Type | Service Group Type | str\n",
    "Servers | List of Servers. Each item is a 4-tuple: Server Name, Port, IP Address, and Active Status. | Set of List of str\n",
    "Source_NAT_Pool_Name | Source NAT Pool Name | str"
   ]
  },
  {
   "cell_type": "markdown",
   "id": "14954511",
   "metadata": {},
   "source": [
    "Print the first 5 rows of the returned Dataframe"
   ]
  },
  {
   "cell_type": "code",
   "execution_count": 91,
   "id": "611946bf",
   "metadata": {},
   "outputs": [
    {
     "data": {
      "text/html": [
       "<div>\n",
       "<style scoped>\n",
       "    .dataframe tbody tr th:only-of-type {\n",
       "        vertical-align: middle;\n",
       "    }\n",
       "\n",
       "    .dataframe tbody tr th {\n",
       "        vertical-align: top;\n",
       "    }\n",
       "\n",
       "    .dataframe thead th {\n",
       "        text-align: right;\n",
       "    }\n",
       "</style>\n",
       "<table border=\"1\" class=\"dataframe\">\n",
       "  <thead>\n",
       "    <tr style=\"text-align: right;\">\n",
       "      <th></th>\n",
       "      <th>Node</th>\n",
       "      <th>Virtual_Server_Name</th>\n",
       "      <th>Virtual_Server_Enabled</th>\n",
       "      <th>Virtual_Server_IP</th>\n",
       "      <th>Virtual_Server_Port</th>\n",
       "      <th>Virtual_Server_Port_Enabled</th>\n",
       "      <th>Virtual_Server_Type</th>\n",
       "      <th>Virtual_Server_Port_Type_Name</th>\n",
       "      <th>Service_Group_Name</th>\n",
       "      <th>Service_Group_Type</th>\n",
       "      <th>Servers</th>\n",
       "      <th>Source_NAT_Pool_Name</th>\n",
       "    </tr>\n",
       "  </thead>\n",
       "  <tbody>\n",
       "    <tr>\n",
       "      <th>0</th>\n",
       "      <td>lb42</td>\n",
       "      <td>VS_TCP_80</td>\n",
       "      <td>True</td>\n",
       "      <td>10.0.0.1</td>\n",
       "      <td>80</td>\n",
       "      <td>True</td>\n",
       "      <td>TCP</td>\n",
       "      <td>None</td>\n",
       "      <td>SG_TCP_80</td>\n",
       "      <td>TCP</td>\n",
       "      <td>[['SERVER1', '80', '10.1.10.11', 'active'], ['SERVER2', '80', '10.1.10.12', 'inactive']]</td>\n",
       "      <td>None</td>\n",
       "    </tr>\n",
       "  </tbody>\n",
       "</table>\n",
       "</div>"
      ],
      "text/plain": [
       "   Node Virtual_Server_Name Virtual_Server_Enabled Virtual_Server_IP Virtual_Server_Port Virtual_Server_Port_Enabled Virtual_Server_Type Virtual_Server_Port_Type_Name Service_Group_Name Service_Group_Type                                                                                   Servers  \\\n",
       "0  lb42           VS_TCP_80                   True          10.0.0.1                  80                        True                 TCP                          None          SG_TCP_80                TCP  [['SERVER1', '80', '10.1.10.11', 'active'], ['SERVER2', '80', '10.1.10.12', 'inactive']]   \n",
       "\n",
       "  Source_NAT_Pool_Name  \n",
       "0                 None  "
      ]
     },
     "execution_count": 91,
     "metadata": {},
     "output_type": "execute_result"
    }
   ],
   "source": [
    "result.head(5)"
   ]
  },
  {
   "cell_type": "markdown",
   "id": "49d3b1b9",
   "metadata": {},
   "source": [
    "Print the first row of the returned Dataframe"
   ]
  },
  {
   "cell_type": "code",
   "execution_count": 92,
   "id": "6b736e50",
   "metadata": {},
   "outputs": [
    {
     "data": {
      "text/plain": [
       "Node                                                                                                                 lb42\n",
       "Virtual_Server_Name                                                                                             VS_TCP_80\n",
       "Virtual_Server_Enabled                                                                                               True\n",
       "Virtual_Server_IP                                                                                                10.0.0.1\n",
       "Virtual_Server_Port                                                                                                    80\n",
       "Virtual_Server_Port_Enabled                                                                                          True\n",
       "Virtual_Server_Type                                                                                                   TCP\n",
       "Virtual_Server_Port_Type_Name                                                                                        None\n",
       "Service_Group_Name                                                                                              SG_TCP_80\n",
       "Service_Group_Type                                                                                                    TCP\n",
       "Servers                          [['SERVER1', '80', '10.1.10.11', 'active'], ['SERVER2', '80', '10.1.10.12', 'inactive']]\n",
       "Source_NAT_Pool_Name                                                                                                 None\n",
       "Name: 0, dtype: object"
      ]
     },
     "execution_count": 92,
     "metadata": {},
     "output_type": "execute_result"
    }
   ],
   "source": [
    "result.iloc[0]"
   ]
  },
  {
   "cell_type": "code",
   "execution_count": 93,
   "id": "28b84953",
   "metadata": {
    "nbsphinx": "hidden"
   },
   "outputs": [
    {
     "data": {
      "text/plain": [
       "'generate_questions'"
      ]
     },
     "execution_count": 93,
     "metadata": {},
     "output_type": "execute_result"
    }
   ],
   "source": [
    "bf.set_network('generate_questions')"
   ]
  },
  {
   "cell_type": "code",
   "execution_count": 94,
   "id": "bd9a2625",
   "metadata": {
    "nbsphinx": "hidden"
   },
   "outputs": [
    {
     "data": {
      "text/plain": [
       "'f5'"
      ]
     },
     "execution_count": 94,
     "metadata": {},
     "output_type": "execute_result"
    }
   ],
   "source": [
    "bf.set_snapshot('f5')"
   ]
  },
  {
   "cell_type": "markdown",
   "id": "41a490fd",
   "metadata": {},
   "source": [
    "##### F5 BIG-IP VIP Configuration"
   ]
  },
  {
   "cell_type": "markdown",
   "id": "2b9e0e57",
   "metadata": {},
   "source": [
    "Returns VIP configuration of F5 BIG-IP devices."
   ]
  },
  {
   "cell_type": "markdown",
   "id": "458067b6",
   "metadata": {},
   "source": [
    "Lists all the VIP to server IP mappings contained in F5 BIP-IP configurations."
   ]
  },
  {
   "cell_type": "markdown",
   "id": "7fa66438",
   "metadata": {},
   "source": [
    "###### **Inputs**"
   ]
  },
  {
   "cell_type": "markdown",
   "id": "c5e5bc15",
   "metadata": {},
   "source": [
    "Name | Description | Type | Optional | Default Value\n",
    "--- | --- | --- | --- | --- \n",
    "nodes | Include nodes matching this name or regex. | [NodeSpec](../specifiers.md#node-specifier) | True | "
   ]
  },
  {
   "cell_type": "markdown",
   "id": "816c6cbf",
   "metadata": {},
   "source": [
    "###### **Invocation**"
   ]
  },
  {
   "cell_type": "code",
   "execution_count": 95,
   "id": "3a460fe6",
   "metadata": {},
   "outputs": [],
   "source": [
    "result = bf.q.f5BigipVipConfiguration().answer().frame()"
   ]
  },
  {
   "cell_type": "markdown",
   "id": "3172ac94",
   "metadata": {},
   "source": [
    "###### **Return Value**"
   ]
  },
  {
   "cell_type": "markdown",
   "id": "1087d166",
   "metadata": {},
   "source": [
    "Name | Description | Type\n",
    "--- | --- | ---\n",
    "Node | Node | str\n",
    "VIP_Name | Virtual Service Name | str\n",
    "VIP_Endpoint | Virtual Service Endpoint | str\n",
    "Servers | Servers | Set of str\n",
    "Description | Description | str"
   ]
  },
  {
   "cell_type": "markdown",
   "id": "8de633cf",
   "metadata": {},
   "source": [
    "Print the first 5 rows of the returned Dataframe"
   ]
  },
  {
   "cell_type": "code",
   "execution_count": 96,
   "id": "4e59f8ad",
   "metadata": {},
   "outputs": [
    {
     "data": {
      "text/html": [
       "<div>\n",
       "<style scoped>\n",
       "    .dataframe tbody tr th:only-of-type {\n",
       "        vertical-align: middle;\n",
       "    }\n",
       "\n",
       "    .dataframe tbody tr th {\n",
       "        vertical-align: top;\n",
       "    }\n",
       "\n",
       "    .dataframe thead th {\n",
       "        text-align: right;\n",
       "    }\n",
       "</style>\n",
       "<table border=\"1\" class=\"dataframe\">\n",
       "  <thead>\n",
       "    <tr style=\"text-align: right;\">\n",
       "      <th></th>\n",
       "      <th>Node</th>\n",
       "      <th>VIP_Name</th>\n",
       "      <th>VIP_Endpoint</th>\n",
       "      <th>Servers</th>\n",
       "      <th>Description</th>\n",
       "    </tr>\n",
       "  </thead>\n",
       "  <tbody>\n",
       "    <tr>\n",
       "      <th>0</th>\n",
       "      <td>f5bigip</td>\n",
       "      <td>/Common/virtual1</td>\n",
       "      <td>192.0.2.1:80 TCP</td>\n",
       "      <td>['10.0.0.1:80']</td>\n",
       "      <td>virtual1 is cool</td>\n",
       "    </tr>\n",
       "    <tr>\n",
       "      <th>1</th>\n",
       "      <td>f5bigip</td>\n",
       "      <td>/Common/virtual2</td>\n",
       "      <td>192.0.2.2:80 TCP</td>\n",
       "      <td>['10.0.0.2:80']</td>\n",
       "      <td>pool2 is lame</td>\n",
       "    </tr>\n",
       "    <tr>\n",
       "      <th>2</th>\n",
       "      <td>f5bigip</td>\n",
       "      <td>/Common/virtual3</td>\n",
       "      <td>192.0.2.3:80 TCP</td>\n",
       "      <td>['10.0.0.4:80', '10.0.0.3:80']</td>\n",
       "      <td></td>\n",
       "    </tr>\n",
       "  </tbody>\n",
       "</table>\n",
       "</div>"
      ],
      "text/plain": [
       "      Node          VIP_Name      VIP_Endpoint                         Servers       Description\n",
       "0  f5bigip  /Common/virtual1  192.0.2.1:80 TCP                 ['10.0.0.1:80']  virtual1 is cool\n",
       "1  f5bigip  /Common/virtual2  192.0.2.2:80 TCP                 ['10.0.0.2:80']     pool2 is lame\n",
       "2  f5bigip  /Common/virtual3  192.0.2.3:80 TCP  ['10.0.0.4:80', '10.0.0.3:80']                  "
      ]
     },
     "execution_count": 96,
     "metadata": {},
     "output_type": "execute_result"
    }
   ],
   "source": [
    "result.head(5)"
   ]
  },
  {
   "cell_type": "markdown",
   "id": "c7efcc69",
   "metadata": {},
   "source": [
    "Print the first row of the returned Dataframe"
   ]
  },
  {
   "cell_type": "code",
   "execution_count": 97,
   "id": "c2c93278",
   "metadata": {},
   "outputs": [
    {
     "data": {
      "text/plain": [
       "Node                     f5bigip\n",
       "VIP_Name        /Common/virtual1\n",
       "VIP_Endpoint    192.0.2.1:80 TCP\n",
       "Servers          ['10.0.0.1:80']\n",
       "Description     virtual1 is cool\n",
       "Name: 0, dtype: object"
      ]
     },
     "execution_count": 97,
     "metadata": {},
     "output_type": "execute_result"
    }
   ],
   "source": [
    "result.iloc[0]"
   ]
  }
 ],
 "metadata": {
  "celltoolbar": "Edit Metadata",
  "hide_input": false,
  "kernelspec": {
   "display_name": "Python 3 (ipykernel)",
   "language": "python",
   "name": "python3"
  },
  "language_info": {
   "codemirror_mode": {
    "name": "ipython",
    "version": 3
   },
   "file_extension": ".py",
   "mimetype": "text/x-python",
   "name": "python",
   "nbconvert_exporter": "python",
   "pygments_lexer": "ipython3",
   "version": "3.8.16"
  }
 },
 "nbformat": 4,
 "nbformat_minor": 2
}
