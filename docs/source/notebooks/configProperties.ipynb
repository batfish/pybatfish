{
 "cells": [
  {
   "cell_type": "code",
   "execution_count": 1,
   "metadata": {
    "nbsphinx": "hidden"
   },
   "outputs": [],
   "source": [
    "import pandas as pd\n",
    "from pybatfish.client.session import Session\n",
    "from pybatfish.datamodel import *\n",
    "\n",
    "pd.set_option(\"display.width\", 300) \n",
    "pd.set_option(\"display.max_columns\", 30) \n",
    "pd.set_option(\"display.max_rows\", 1000) \n",
    "pd.set_option(\"display.max_colwidth\", None)\n",
    "\n",
    "# Configure all pybatfish loggers to use WARN level\n",
    "import logging\n",
    "logging.getLogger('pybatfish').setLevel(logging.WARN)"
   ]
  },
  {
   "cell_type": "code",
   "execution_count": 2,
   "metadata": {
    "nbsphinx": "hidden"
   },
   "outputs": [],
   "source": [
    "bf = Session(host=\"localhost\")\n",
    "\n"
   ]
  },
  {
   "cell_type": "markdown",
   "id": "8c4134a1",
   "metadata": {},
   "source": [
    "#### Configuration Properties"
   ]
  },
  {
   "cell_type": "markdown",
   "id": "86337895",
   "metadata": {},
   "source": [
    "This category of questions enables you to retrieve and process the\n",
    "contents of device configurations in a vendor-agnostic manner\n",
    "(except where the question itself is vendor-specific). Batfish organizes\n",
    "configuration content into several sub-categories.\n"
   ]
  },
  {
   "cell_type": "markdown",
   "id": "dd4ba641",
   "metadata": {},
   "source": [
    "* [Node Properties](#Node-Properties)\n",
    "* [Interface Properties](#Interface-Properties)\n",
    "* [BGP Process Configuration](#BGP-Process-Configuration)\n",
    "* [BGP Peer Configuration](#BGP-Peer-Configuration)\n",
    "* [HSRP Properties](#HSRP-Properties)\n",
    "* [OSPF Process Configuration](#OSPF-Process-Configuration)\n",
    "* [OSPF Interface Configuration](#OSPF-Interface-Configuration)\n",
    "* [OSPF Area Configuration](#OSPF-Area-Configuration)\n",
    "* [Multi-chassis LAG](#Multi-chassis-LAG)\n",
    "* [IP Owners](#IP-Owners)\n",
    "* [Named Structures](#Named-Structures)\n",
    "* [Defined Structures](#Defined-Structures)\n",
    "* [Referenced Structures](#Referenced-Structures)\n",
    "* [Undefined References](#Undefined-References)\n",
    "* [Unused Structures](#Unused-Structures)\n",
    "* [VLAN Properties](#VLAN-Properties)\n",
    "* [VRRP Properties](#VRRP-Properties)\n",
    "* [A10 Virtual Server Configuration](#A10-Virtual-Server-Configuration)\n",
    "* [F5 BIG-IP VIP Configuration](#F5-BIG-IP-VIP-Configuration)"
   ]
  },
  {
   "cell_type": "code",
   "execution_count": 3,
   "id": "085071a7",
   "metadata": {
    "nbsphinx": "hidden"
   },
   "outputs": [
    {
     "data": {
      "text/plain": [
       "'generate_questions'"
      ]
     },
     "execution_count": 3,
     "metadata": {},
     "output_type": "execute_result"
    }
   ],
   "source": [
    "bf.set_network('generate_questions')"
   ]
  },
  {
   "cell_type": "code",
   "execution_count": 4,
   "id": "2928fa99",
   "metadata": {
    "nbsphinx": "hidden"
   },
   "outputs": [
    {
     "data": {
      "text/plain": [
       "'generate_questions'"
      ]
     },
     "execution_count": 4,
     "metadata": {},
     "output_type": "execute_result"
    }
   ],
   "source": [
    "bf.set_snapshot('generate_questions')"
   ]
  },
  {
   "cell_type": "markdown",
   "id": "2a720f68",
   "metadata": {},
   "source": [
    "##### Node Properties"
   ]
  },
  {
   "cell_type": "markdown",
   "id": "408a9197",
   "metadata": {},
   "source": [
    "Returns configuration settings of nodes."
   ]
  },
  {
   "cell_type": "markdown",
   "id": "a7930dc0",
   "metadata": {},
   "source": [
    "Lists global settings of devices in the network. Settings that are specific to interfaces, routing protocols, etc. are available via other questions."
   ]
  },
  {
   "cell_type": "markdown",
   "id": "2c97ebf9",
   "metadata": {},
   "source": [
    "###### **Inputs**"
   ]
  },
  {
   "cell_type": "markdown",
   "id": "f2e49e5a",
   "metadata": {},
   "source": [
    "Name | Description | Type | Optional | Default Value\n",
    "--- | --- | --- | --- | --- \n",
    "nodes | Include nodes matching this name or regex. | [NodeSpec](../specifiers.md#node-specifier) | True | \n",
    "properties | Include properties matching this regex. | [NodePropertySpec](../specifiers.md#node-property-specifier) | True | "
   ]
  },
  {
   "cell_type": "markdown",
   "id": "cbff496a",
   "metadata": {},
   "source": [
    "###### **Invocation**"
   ]
  },
  {
   "cell_type": "code",
   "execution_count": 5,
   "id": "9a2f556c",
   "metadata": {},
   "outputs": [],
   "source": [
    "result = bf.q.nodeProperties().answer().frame()"
   ]
  },
  {
   "cell_type": "markdown",
   "id": "8cb4b1f4",
   "metadata": {},
   "source": [
    "###### **Return Value**"
   ]
  },
  {
   "cell_type": "markdown",
   "id": "cd4ca1ef",
   "metadata": {},
   "source": [
    "Name | Description | Type\n",
    "--- | --- | ---\n",
    "Node | Node | str\n",
    "AS_Path_Access_Lists | Names of AS path access lists | Set of str\n",
    "Authentication_Key_Chains | Names of authentication keychains | Set of str\n",
    "Community_Match_Exprs | Names of expressions for matching a community | Set of str\n",
    "Community_Set_Exprs | Names of expressions representing a community-set | Set of str\n",
    "Community_Set_Match_Exprs | Names of expressions for matching a ommunity-set | Set of str\n",
    "Community_Sets | Names of community-sets | Set of str\n",
    "Configuration_Format | Configuration format of the node | str\n",
    "DNS_Servers | Configured DNS servers | Set of str\n",
    "DNS_Source_Interface | Source interface to use for communicating with DNS servers | str\n",
    "Default_Cross_Zone_Action | Default action (PERMIT, DENY) for traffic that traverses firewall zones (null for non-firewall nodes) | str\n",
    "Default_Inbound_Action | Default action (PERMIT, DENY) for traffic destined for this node | str\n",
    "Domain_Name | Domain name of the node | str\n",
    "Hostname | Hostname of the node | str\n",
    "IKE_Phase1_Keys | Names of IKE Phase 1 keys | Set of str\n",
    "IKE_Phase1_Policies | Names of IKE Phase 1 policies | Set of str\n",
    "IKE_Phase1_Proposals | Names of IKE Phase 1 proposals | Set of str\n",
    "IP6_Access_Lists | (Deprecated) Names of IPv6 filters (ACLs, firewall rule sets) | Set of str\n",
    "IP_Access_Lists | Names of IPv4 filters (ACLs, firewall rule sets) | Set of str\n",
    "IPsec_Peer_Configs | Names of IPSec peers | Set of str\n",
    "IPsec_Phase2_Policies | Names of IPSec Phase 2 policies | Set of str\n",
    "IPsec_Phase2_Proposals | Names of IPSec Phase 2 proposals | Set of str\n",
    "Interfaces | Names of interfaces | Set of str\n",
    "Logging_Servers | Configured logging servers | Set of str\n",
    "Logging_Source_Interface | Source interface for communicating with logging servers | str\n",
    "NTP_Servers | Configured NTP servers | Set of str\n",
    "NTP_Source_Interface | Source interface for communicating with NTP servers | str\n",
    "PBR_Policies | Names of policy-based routing (PBR) policies | Set of str\n",
    "Route6_Filter_Lists | (Deprecated) Names of structures that filter IPv6 routes (e.g., prefix lists) | Set of str\n",
    "Route_Filter_Lists | Names of structures that filter IPv4 routes (e.g., prefix lists) | Set of str\n",
    "Routing_Policies | Names of policies that manipulate routes (e.g., route maps) | Set of str\n",
    "SNMP_Source_Interface | Source interface to use for communicating with SNMP servers | str\n",
    "SNMP_Trap_Servers | Configured SNMP trap servers | Set of str\n",
    "TACACS_Servers | Configured TACACS servers | Set of str\n",
    "TACACS_Source_Interface | Source interface to use for communicating with TACACS servers | str\n",
    "VRFs | Names of VRFs present on the node | Set of str\n",
    "Zones | Names of firewall zones on the node | Set of str"
   ]
  },
  {
   "cell_type": "markdown",
   "id": "d8f55b09",
   "metadata": {},
   "source": [
    "Print the first 5 rows of the returned Dataframe"
   ]
  },
  {
   "cell_type": "code",
   "execution_count": 6,
   "id": "2f464207",
   "metadata": {},
   "outputs": [
    {
     "data": {
      "text/html": [
       "<div>\n",
       "<style scoped>\n",
       "    .dataframe tbody tr th:only-of-type {\n",
       "        vertical-align: middle;\n",
       "    }\n",
       "\n",
       "    .dataframe tbody tr th {\n",
       "        vertical-align: top;\n",
       "    }\n",
       "\n",
       "    .dataframe thead th {\n",
       "        text-align: right;\n",
       "    }\n",
       "</style>\n",
       "<table border=\"1\" class=\"dataframe\">\n",
       "  <thead>\n",
       "    <tr style=\"text-align: right;\">\n",
       "      <th></th>\n",
       "      <th>Node</th>\n",
       "      <th>AS_Path_Access_Lists</th>\n",
       "      <th>Authentication_Key_Chains</th>\n",
       "      <th>Community_Match_Exprs</th>\n",
       "      <th>Community_Set_Exprs</th>\n",
       "      <th>Community_Set_Match_Exprs</th>\n",
       "      <th>Community_Sets</th>\n",
       "      <th>Configuration_Format</th>\n",
       "      <th>DNS_Servers</th>\n",
       "      <th>DNS_Source_Interface</th>\n",
       "      <th>Default_Cross_Zone_Action</th>\n",
       "      <th>Default_Inbound_Action</th>\n",
       "      <th>Domain_Name</th>\n",
       "      <th>Hostname</th>\n",
       "      <th>IKE_Phase1_Keys</th>\n",
       "      <th>...</th>\n",
       "      <th>Interfaces</th>\n",
       "      <th>Logging_Servers</th>\n",
       "      <th>Logging_Source_Interface</th>\n",
       "      <th>NTP_Servers</th>\n",
       "      <th>NTP_Source_Interface</th>\n",
       "      <th>PBR_Policies</th>\n",
       "      <th>Route6_Filter_Lists</th>\n",
       "      <th>Route_Filter_Lists</th>\n",
       "      <th>Routing_Policies</th>\n",
       "      <th>SNMP_Source_Interface</th>\n",
       "      <th>SNMP_Trap_Servers</th>\n",
       "      <th>TACACS_Servers</th>\n",
       "      <th>TACACS_Source_Interface</th>\n",
       "      <th>VRFs</th>\n",
       "      <th>Zones</th>\n",
       "    </tr>\n",
       "  </thead>\n",
       "  <tbody>\n",
       "    <tr>\n",
       "      <th>0</th>\n",
       "      <td>as2border2</td>\n",
       "      <td>[]</td>\n",
       "      <td>[]</td>\n",
       "      <td>['as1_community', 'as2_community', 'as3_community']</td>\n",
       "      <td>[]</td>\n",
       "      <td>['as1_community', 'as2_community', 'as3_community']</td>\n",
       "      <td>[]</td>\n",
       "      <td>CISCO_IOS</td>\n",
       "      <td>[]</td>\n",
       "      <td>None</td>\n",
       "      <td>PERMIT</td>\n",
       "      <td>PERMIT</td>\n",
       "      <td>lab.local</td>\n",
       "      <td>as2border2</td>\n",
       "      <td>[]</td>\n",
       "      <td>...</td>\n",
       "      <td>['Ethernet0/0', 'GigabitEthernet0/0', 'GigabitEthernet1/0', 'GigabitEthernet2/0', 'Loopback0']</td>\n",
       "      <td>[]</td>\n",
       "      <td>None</td>\n",
       "      <td>['18.18.18.18']</td>\n",
       "      <td>None</td>\n",
       "      <td>[]</td>\n",
       "      <td>[]</td>\n",
       "      <td>['101', '103', 'inbound_route_filter', 'outbound_routes', '~MATCH_SUPPRESSED_SUMMARY_ONLY:default~']</td>\n",
       "      <td>['as1_to_as2', 'as2_to_as1', 'as2_to_as3', 'as3_to_as2', '~BGP_COMMON_EXPORT_POLICY:default~', '~BGP_PEER_EXPORT_POLICY:default:10.23.21.3~', '~BGP_PEER_EXPORT_POLICY:default:2.1.2.1~', '~BGP_PEER_EXPORT_POLICY:default:2.1.2.2~', '~BGP_REDISTRIBUTION_POLICY:default~', '~OSPF_EXPORT_POLICY:default:1~', '~RESOLUTION_POLICY~', '~suppress~rp~summary-only~']</td>\n",
       "      <td>None</td>\n",
       "      <td>[]</td>\n",
       "      <td>[]</td>\n",
       "      <td>None</td>\n",
       "      <td>['default']</td>\n",
       "      <td>[]</td>\n",
       "    </tr>\n",
       "    <tr>\n",
       "      <th>1</th>\n",
       "      <td>as1border1</td>\n",
       "      <td>[]</td>\n",
       "      <td>[]</td>\n",
       "      <td>['as1_community', 'as2_community', 'as3_community']</td>\n",
       "      <td>[]</td>\n",
       "      <td>['as1_community', 'as2_community', 'as3_community']</td>\n",
       "      <td>[]</td>\n",
       "      <td>CISCO_IOS</td>\n",
       "      <td>[]</td>\n",
       "      <td>None</td>\n",
       "      <td>PERMIT</td>\n",
       "      <td>PERMIT</td>\n",
       "      <td>lab.local</td>\n",
       "      <td>as1border1</td>\n",
       "      <td>[]</td>\n",
       "      <td>...</td>\n",
       "      <td>['Ethernet0/0', 'GigabitEthernet0/0', 'GigabitEthernet1/0', 'Loopback0']</td>\n",
       "      <td>[]</td>\n",
       "      <td>None</td>\n",
       "      <td>[]</td>\n",
       "      <td>None</td>\n",
       "      <td>[]</td>\n",
       "      <td>[]</td>\n",
       "      <td>['101', '102', '103', 'default_list', 'inbound_route_filter']</td>\n",
       "      <td>['as1_to_as2', 'as1_to_as3', 'as2_to_as1', 'as3_to_as1', '~BGP_COMMON_EXPORT_POLICY:default~', '~BGP_PEER_EXPORT_POLICY:default:1.10.1.1~', '~BGP_PEER_EXPORT_POLICY:default:10.12.11.2~', '~BGP_PEER_EXPORT_POLICY:default:3.2.2.2~', '~BGP_PEER_EXPORT_POLICY:default:5.6.7.8~', '~BGP_REDISTRIBUTION_POLICY:default~', '~OSPF_EXPORT_POLICY:default:1~', '~RESOLUTION_POLICY~']</td>\n",
       "      <td>None</td>\n",
       "      <td>[]</td>\n",
       "      <td>[]</td>\n",
       "      <td>None</td>\n",
       "      <td>['default']</td>\n",
       "      <td>[]</td>\n",
       "    </tr>\n",
       "    <tr>\n",
       "      <th>2</th>\n",
       "      <td>as3border2</td>\n",
       "      <td>[]</td>\n",
       "      <td>[]</td>\n",
       "      <td>['as1_community', 'as2_community', 'as3_community']</td>\n",
       "      <td>[]</td>\n",
       "      <td>['as1_community', 'as2_community', 'as3_community']</td>\n",
       "      <td>[]</td>\n",
       "      <td>CISCO_IOS</td>\n",
       "      <td>[]</td>\n",
       "      <td>None</td>\n",
       "      <td>PERMIT</td>\n",
       "      <td>PERMIT</td>\n",
       "      <td>lab.local</td>\n",
       "      <td>as3border2</td>\n",
       "      <td>[]</td>\n",
       "      <td>...</td>\n",
       "      <td>['Ethernet0/0', 'GigabitEthernet0/0', 'GigabitEthernet1/0', 'Loopback0']</td>\n",
       "      <td>[]</td>\n",
       "      <td>None</td>\n",
       "      <td>['18.18.18.18', '23.23.23.23']</td>\n",
       "      <td>None</td>\n",
       "      <td>[]</td>\n",
       "      <td>[]</td>\n",
       "      <td>['101', '102', '103', 'inbound_route_filter']</td>\n",
       "      <td>['as1_to_as3', 'as2_to_as3', 'as3_to_as1', 'as3_to_as2', '~BGP_COMMON_EXPORT_POLICY:default~', '~BGP_PEER_EXPORT_POLICY:default:10.13.22.1~', '~BGP_PEER_EXPORT_POLICY:default:3.10.1.1~', '~BGP_REDISTRIBUTION_POLICY:default~', '~OSPF_EXPORT_POLICY:default:1~', '~RESOLUTION_POLICY~']</td>\n",
       "      <td>None</td>\n",
       "      <td>[]</td>\n",
       "      <td>[]</td>\n",
       "      <td>None</td>\n",
       "      <td>['default']</td>\n",
       "      <td>[]</td>\n",
       "    </tr>\n",
       "    <tr>\n",
       "      <th>3</th>\n",
       "      <td>as1border2</td>\n",
       "      <td>[]</td>\n",
       "      <td>[]</td>\n",
       "      <td>['as1_community', 'as2_community', 'as3_community', 'as4_community']</td>\n",
       "      <td>[]</td>\n",
       "      <td>['as1_community', 'as2_community', 'as3_community', 'as4_community']</td>\n",
       "      <td>[]</td>\n",
       "      <td>CISCO_IOS</td>\n",
       "      <td>[]</td>\n",
       "      <td>None</td>\n",
       "      <td>PERMIT</td>\n",
       "      <td>PERMIT</td>\n",
       "      <td>lab.local</td>\n",
       "      <td>as1border2</td>\n",
       "      <td>[]</td>\n",
       "      <td>...</td>\n",
       "      <td>['Ethernet0/0', 'GigabitEthernet0/0', 'GigabitEthernet1/0', 'GigabitEthernet2/0', 'Loopback0']</td>\n",
       "      <td>[]</td>\n",
       "      <td>None</td>\n",
       "      <td>['18.18.18.18', '23.23.23.23']</td>\n",
       "      <td>None</td>\n",
       "      <td>[]</td>\n",
       "      <td>[]</td>\n",
       "      <td>['101', '102', '103', 'as4-prefixes', 'inbound_route_filter']</td>\n",
       "      <td>['as1_to_as2', 'as1_to_as3', 'as1_to_as4', 'as2_to_as1', 'as3_to_as1', 'as4_to_as1', '~BGP_COMMON_EXPORT_POLICY:default~', '~BGP_PEER_EXPORT_POLICY:default:1.10.1.1~', '~BGP_PEER_EXPORT_POLICY:default:10.13.22.3~', '~BGP_PEER_EXPORT_POLICY:default:10.14.22.4~', '~BGP_REDISTRIBUTION_POLICY:default~', '~OSPF_EXPORT_POLICY:default:1~', '~RESOLUTION_POLICY~']</td>\n",
       "      <td>None</td>\n",
       "      <td>[]</td>\n",
       "      <td>[]</td>\n",
       "      <td>None</td>\n",
       "      <td>['default']</td>\n",
       "      <td>[]</td>\n",
       "    </tr>\n",
       "    <tr>\n",
       "      <th>4</th>\n",
       "      <td>as2dept1</td>\n",
       "      <td>[]</td>\n",
       "      <td>[]</td>\n",
       "      <td>['as2_community']</td>\n",
       "      <td>[]</td>\n",
       "      <td>['as2_community']</td>\n",
       "      <td>[]</td>\n",
       "      <td>CISCO_IOS</td>\n",
       "      <td>[]</td>\n",
       "      <td>None</td>\n",
       "      <td>PERMIT</td>\n",
       "      <td>PERMIT</td>\n",
       "      <td>lab.local</td>\n",
       "      <td>as2dept1</td>\n",
       "      <td>[]</td>\n",
       "      <td>...</td>\n",
       "      <td>['Ethernet0/0', 'GigabitEthernet0/0', 'GigabitEthernet1/0', 'GigabitEthernet2/0', 'GigabitEthernet3/0', 'Loopback0']</td>\n",
       "      <td>[]</td>\n",
       "      <td>None</td>\n",
       "      <td>[]</td>\n",
       "      <td>None</td>\n",
       "      <td>[]</td>\n",
       "      <td>[]</td>\n",
       "      <td>['102']</td>\n",
       "      <td>['as2_to_dept', 'dept_to_as2', '~BGP_COMMON_EXPORT_POLICY:default~', '~BGP_PEER_EXPORT_POLICY:default:2.34.101.3~', '~BGP_PEER_EXPORT_POLICY:default:2.34.201.3~', '~BGP_REDISTRIBUTION_POLICY:default~', '~RESOLUTION_POLICY~']</td>\n",
       "      <td>None</td>\n",
       "      <td>[]</td>\n",
       "      <td>[]</td>\n",
       "      <td>None</td>\n",
       "      <td>['default']</td>\n",
       "      <td>[]</td>\n",
       "    </tr>\n",
       "  </tbody>\n",
       "</table>\n",
       "<p>5 rows × 37 columns</p>\n",
       "</div>"
      ],
      "text/plain": [
       "         Node AS_Path_Access_Lists Authentication_Key_Chains                                                 Community_Match_Exprs Community_Set_Exprs                                             Community_Set_Match_Exprs Community_Sets Configuration_Format DNS_Servers DNS_Source_Interface  \\\n",
       "0  as2border2                   []                        []                   ['as1_community', 'as2_community', 'as3_community']                  []                   ['as1_community', 'as2_community', 'as3_community']             []            CISCO_IOS          []                 None   \n",
       "1  as1border1                   []                        []                   ['as1_community', 'as2_community', 'as3_community']                  []                   ['as1_community', 'as2_community', 'as3_community']             []            CISCO_IOS          []                 None   \n",
       "2  as3border2                   []                        []                   ['as1_community', 'as2_community', 'as3_community']                  []                   ['as1_community', 'as2_community', 'as3_community']             []            CISCO_IOS          []                 None   \n",
       "3  as1border2                   []                        []  ['as1_community', 'as2_community', 'as3_community', 'as4_community']                  []  ['as1_community', 'as2_community', 'as3_community', 'as4_community']             []            CISCO_IOS          []                 None   \n",
       "4    as2dept1                   []                        []                                                     ['as2_community']                  []                                                     ['as2_community']             []            CISCO_IOS          []                 None   \n",
       "\n",
       "  Default_Cross_Zone_Action Default_Inbound_Action Domain_Name    Hostname IKE_Phase1_Keys  ...                                                                                                            Interfaces Logging_Servers Logging_Source_Interface                     NTP_Servers  \\\n",
       "0                    PERMIT                 PERMIT   lab.local  as2border2              []  ...                        ['Ethernet0/0', 'GigabitEthernet0/0', 'GigabitEthernet1/0', 'GigabitEthernet2/0', 'Loopback0']              []                     None                 ['18.18.18.18']   \n",
       "1                    PERMIT                 PERMIT   lab.local  as1border1              []  ...                                              ['Ethernet0/0', 'GigabitEthernet0/0', 'GigabitEthernet1/0', 'Loopback0']              []                     None                              []   \n",
       "2                    PERMIT                 PERMIT   lab.local  as3border2              []  ...                                              ['Ethernet0/0', 'GigabitEthernet0/0', 'GigabitEthernet1/0', 'Loopback0']              []                     None  ['18.18.18.18', '23.23.23.23']   \n",
       "3                    PERMIT                 PERMIT   lab.local  as1border2              []  ...                        ['Ethernet0/0', 'GigabitEthernet0/0', 'GigabitEthernet1/0', 'GigabitEthernet2/0', 'Loopback0']              []                     None  ['18.18.18.18', '23.23.23.23']   \n",
       "4                    PERMIT                 PERMIT   lab.local    as2dept1              []  ...  ['Ethernet0/0', 'GigabitEthernet0/0', 'GigabitEthernet1/0', 'GigabitEthernet2/0', 'GigabitEthernet3/0', 'Loopback0']              []                     None                              []   \n",
       "\n",
       "  NTP_Source_Interface PBR_Policies Route6_Filter_Lists                                                                                    Route_Filter_Lists  \\\n",
       "0                 None           []                  []  ['101', '103', 'inbound_route_filter', 'outbound_routes', '~MATCH_SUPPRESSED_SUMMARY_ONLY:default~']   \n",
       "1                 None           []                  []                                         ['101', '102', '103', 'default_list', 'inbound_route_filter']   \n",
       "2                 None           []                  []                                                         ['101', '102', '103', 'inbound_route_filter']   \n",
       "3                 None           []                  []                                         ['101', '102', '103', 'as4-prefixes', 'inbound_route_filter']   \n",
       "4                 None           []                  []                                                                                               ['102']   \n",
       "\n",
       "                                                                                                                                                                                                                                                                                                                                                                     Routing_Policies  \\\n",
       "0                 ['as1_to_as2', 'as2_to_as1', 'as2_to_as3', 'as3_to_as2', '~BGP_COMMON_EXPORT_POLICY:default~', '~BGP_PEER_EXPORT_POLICY:default:10.23.21.3~', '~BGP_PEER_EXPORT_POLICY:default:2.1.2.1~', '~BGP_PEER_EXPORT_POLICY:default:2.1.2.2~', '~BGP_REDISTRIBUTION_POLICY:default~', '~OSPF_EXPORT_POLICY:default:1~', '~RESOLUTION_POLICY~', '~suppress~rp~summary-only~']   \n",
       "1  ['as1_to_as2', 'as1_to_as3', 'as2_to_as1', 'as3_to_as1', '~BGP_COMMON_EXPORT_POLICY:default~', '~BGP_PEER_EXPORT_POLICY:default:1.10.1.1~', '~BGP_PEER_EXPORT_POLICY:default:10.12.11.2~', '~BGP_PEER_EXPORT_POLICY:default:3.2.2.2~', '~BGP_PEER_EXPORT_POLICY:default:5.6.7.8~', '~BGP_REDISTRIBUTION_POLICY:default~', '~OSPF_EXPORT_POLICY:default:1~', '~RESOLUTION_POLICY~']   \n",
       "2                                                                                          ['as1_to_as3', 'as2_to_as3', 'as3_to_as1', 'as3_to_as2', '~BGP_COMMON_EXPORT_POLICY:default~', '~BGP_PEER_EXPORT_POLICY:default:10.13.22.1~', '~BGP_PEER_EXPORT_POLICY:default:3.10.1.1~', '~BGP_REDISTRIBUTION_POLICY:default~', '~OSPF_EXPORT_POLICY:default:1~', '~RESOLUTION_POLICY~']   \n",
       "3               ['as1_to_as2', 'as1_to_as3', 'as1_to_as4', 'as2_to_as1', 'as3_to_as1', 'as4_to_as1', '~BGP_COMMON_EXPORT_POLICY:default~', '~BGP_PEER_EXPORT_POLICY:default:1.10.1.1~', '~BGP_PEER_EXPORT_POLICY:default:10.13.22.3~', '~BGP_PEER_EXPORT_POLICY:default:10.14.22.4~', '~BGP_REDISTRIBUTION_POLICY:default~', '~OSPF_EXPORT_POLICY:default:1~', '~RESOLUTION_POLICY~']   \n",
       "4                                                                                                                                                    ['as2_to_dept', 'dept_to_as2', '~BGP_COMMON_EXPORT_POLICY:default~', '~BGP_PEER_EXPORT_POLICY:default:2.34.101.3~', '~BGP_PEER_EXPORT_POLICY:default:2.34.201.3~', '~BGP_REDISTRIBUTION_POLICY:default~', '~RESOLUTION_POLICY~']   \n",
       "\n",
       "  SNMP_Source_Interface SNMP_Trap_Servers TACACS_Servers TACACS_Source_Interface         VRFs Zones  \n",
       "0                  None                []             []                    None  ['default']    []  \n",
       "1                  None                []             []                    None  ['default']    []  \n",
       "2                  None                []             []                    None  ['default']    []  \n",
       "3                  None                []             []                    None  ['default']    []  \n",
       "4                  None                []             []                    None  ['default']    []  \n",
       "\n",
       "[5 rows x 37 columns]"
      ]
     },
     "execution_count": 6,
     "metadata": {},
     "output_type": "execute_result"
    }
   ],
   "source": [
    "result.head(5)"
   ]
  },
  {
   "cell_type": "markdown",
   "id": "3a310b29",
   "metadata": {},
   "source": [
    "Print the first row of the returned Dataframe"
   ]
  },
  {
   "cell_type": "code",
   "execution_count": 7,
   "id": "638c36fd",
   "metadata": {},
   "outputs": [
    {
     "data": {
      "text/plain": [
       "Node                                                                                                                                                                                                                                                                                                                                                                                  as2border2\n",
       "AS_Path_Access_Lists                                                                                                                                                                                                                                                                                                                                                                          []\n",
       "Authentication_Key_Chains                                                                                                                                                                                                                                                                                                                                                                     []\n",
       "Community_Match_Exprs                                                                                                                                                                                                                                                                                                                        ['as1_community', 'as2_community', 'as3_community']\n",
       "Community_Set_Exprs                                                                                                                                                                                                                                                                                                                                                                           []\n",
       "Community_Set_Match_Exprs                                                                                                                                                                                                                                                                                                                    ['as1_community', 'as2_community', 'as3_community']\n",
       "Community_Sets                                                                                                                                                                                                                                                                                                                                                                                []\n",
       "Configuration_Format                                                                                                                                                                                                                                                                                                                                                                   CISCO_IOS\n",
       "DNS_Servers                                                                                                                                                                                                                                                                                                                                                                                   []\n",
       "DNS_Source_Interface                                                                                                                                                                                                                                                                                                                                                                        None\n",
       "Default_Cross_Zone_Action                                                                                                                                                                                                                                                                                                                                                                 PERMIT\n",
       "Default_Inbound_Action                                                                                                                                                                                                                                                                                                                                                                    PERMIT\n",
       "Domain_Name                                                                                                                                                                                                                                                                                                                                                                            lab.local\n",
       "Hostname                                                                                                                                                                                                                                                                                                                                                                              as2border2\n",
       "IKE_Phase1_Keys                                                                                                                                                                                                                                                                                                                                                                               []\n",
       "IKE_Phase1_Policies                                                                                                                                                                                                                                                                                                                                                                           []\n",
       "IKE_Phase1_Proposals                                                                                                                                                                                                                                                                                                                                                                          []\n",
       "IP6_Access_Lists                                                                                                                                                                                                                                                                                                                                                                              []\n",
       "IP_Access_Lists                                                                                                                                                                                                                                                                                                                             ['101', '103', 'INSIDE_TO_AS3', 'OUTSIDE_TO_INSIDE']\n",
       "IPsec_Peer_Configs                                                                                                                                                                                                                                                                                                                                                                            []\n",
       "IPsec_Phase2_Policies                                                                                                                                                                                                                                                                                                                                                                         []\n",
       "IPsec_Phase2_Proposals                                                                                                                                                                                                                                                                                                                                                                        []\n",
       "Interfaces                                                                                                                                                                                                                                                                                        ['Ethernet0/0', 'GigabitEthernet0/0', 'GigabitEthernet1/0', 'GigabitEthernet2/0', 'Loopback0']\n",
       "Logging_Servers                                                                                                                                                                                                                                                                                                                                                                               []\n",
       "Logging_Source_Interface                                                                                                                                                                                                                                                                                                                                                                    None\n",
       "NTP_Servers                                                                                                                                                                                                                                                                                                                                                                      ['18.18.18.18']\n",
       "NTP_Source_Interface                                                                                                                                                                                                                                                                                                                                                                        None\n",
       "PBR_Policies                                                                                                                                                                                                                                                                                                                                                                                  []\n",
       "Route6_Filter_Lists                                                                                                                                                                                                                                                                                                                                                                           []\n",
       "Route_Filter_Lists                                                                                                                                                                                                                                                                          ['101', '103', 'inbound_route_filter', 'outbound_routes', '~MATCH_SUPPRESSED_SUMMARY_ONLY:default~']\n",
       "Routing_Policies             ['as1_to_as2', 'as2_to_as1', 'as2_to_as3', 'as3_to_as2', '~BGP_COMMON_EXPORT_POLICY:default~', '~BGP_PEER_EXPORT_POLICY:default:10.23.21.3~', '~BGP_PEER_EXPORT_POLICY:default:2.1.2.1~', '~BGP_PEER_EXPORT_POLICY:default:2.1.2.2~', '~BGP_REDISTRIBUTION_POLICY:default~', '~OSPF_EXPORT_POLICY:default:1~', '~RESOLUTION_POLICY~', '~suppress~rp~summary-only~']\n",
       "SNMP_Source_Interface                                                                                                                                                                                                                                                                                                                                                                       None\n",
       "SNMP_Trap_Servers                                                                                                                                                                                                                                                                                                                                                                             []\n",
       "TACACS_Servers                                                                                                                                                                                                                                                                                                                                                                                []\n",
       "TACACS_Source_Interface                                                                                                                                                                                                                                                                                                                                                                     None\n",
       "VRFs                                                                                                                                                                                                                                                                                                                                                                                 ['default']\n",
       "Zones                                                                                                                                                                                                                                                                                                                                                                                         []\n",
       "Name: 0, dtype: object"
      ]
     },
     "execution_count": 7,
     "metadata": {},
     "output_type": "execute_result"
    }
   ],
   "source": [
    "result.iloc[0]"
   ]
  },
  {
   "cell_type": "code",
   "execution_count": 8,
   "id": "9b741f4d",
   "metadata": {
    "nbsphinx": "hidden"
   },
   "outputs": [
    {
     "data": {
      "text/plain": [
       "'generate_questions'"
      ]
     },
     "execution_count": 8,
     "metadata": {},
     "output_type": "execute_result"
    }
   ],
   "source": [
    "bf.set_network('generate_questions')"
   ]
  },
  {
   "cell_type": "code",
   "execution_count": 9,
   "id": "d575c9c4",
   "metadata": {
    "nbsphinx": "hidden"
   },
   "outputs": [
    {
     "data": {
      "text/plain": [
       "'generate_questions'"
      ]
     },
     "execution_count": 9,
     "metadata": {},
     "output_type": "execute_result"
    }
   ],
   "source": [
    "bf.set_snapshot('generate_questions')"
   ]
  },
  {
   "cell_type": "markdown",
   "id": "af0ddfb0",
   "metadata": {},
   "source": [
    "##### Interface Properties"
   ]
  },
  {
   "cell_type": "markdown",
   "id": "5fb37fb6",
   "metadata": {},
   "source": [
    "Returns configuration settings of interfaces."
   ]
  },
  {
   "cell_type": "markdown",
   "id": "62332b61",
   "metadata": {},
   "source": [
    "Lists interface-level settings of interfaces. Settings for routing protocols, VRFs, and zones etc. that are attached to interfaces are available via other questions."
   ]
  },
  {
   "cell_type": "markdown",
   "id": "90a17cdc",
   "metadata": {},
   "source": [
    "###### **Inputs**"
   ]
  },
  {
   "cell_type": "markdown",
   "id": "00888ba4",
   "metadata": {},
   "source": [
    "Name | Description | Type | Optional | Default Value\n",
    "--- | --- | --- | --- | --- \n",
    "nodes | Include nodes matching this specifier. | [NodeSpec](../specifiers.md#node-specifier) | True | \n",
    "interfaces | Include interfaces matching this specifier. | [InterfaceSpec](../specifiers.md#interface-specifier) | True | \n",
    "properties | Include properties matching this specifier. | [InterfacePropertySpec](../specifiers.md#interface-property-specifier) | True | \n",
    "excludeShutInterfaces | Exclude interfaces that are shutdown. | bool | True | "
   ]
  },
  {
   "cell_type": "markdown",
   "id": "76bec614",
   "metadata": {},
   "source": [
    "###### **Invocation**"
   ]
  },
  {
   "cell_type": "code",
   "execution_count": 10,
   "id": "9d52a079",
   "metadata": {},
   "outputs": [],
   "source": [
    "result = bf.q.interfaceProperties().answer().frame()"
   ]
  },
  {
   "cell_type": "markdown",
   "id": "b6db5227",
   "metadata": {},
   "source": [
    "###### **Return Value**"
   ]
  },
  {
   "cell_type": "markdown",
   "id": "70d2cc56",
   "metadata": {},
   "source": [
    "Name | Description | Type\n",
    "--- | --- | ---\n",
    "Interface | Interface | [Interface](../datamodel.rst#pybatfish.datamodel.primitives.Interface)\n",
    "Access_VLAN | VLAN number when the switchport mode is access (null otherwise) | int\n",
    "Active | Whether the interface is active | bool\n",
    "Admin_Up | Whether the interface is administratively enabled | bool\n",
    "All_Prefixes | All IPv4 addresses assigned to the interface | List of str\n",
    "Allowed_VLANs | Allowed VLAN numbers when the switchport mode is trunk | str\n",
    "Auto_State_VLAN | For VLAN interfaces, whether the operational status depends on member switchports | bool\n",
    "Bandwidth | Nominal bandwidth in bits/sec, used for protocol cost calculations | float\n",
    "Blacklisted | Whether the interface is considered down for maintenance | bool\n",
    "Channel_Group | Name of the aggregated interface (e.g., a port channel) to which this interface belongs | str\n",
    "Channel_Group_Members | For aggregated interfaces (e.g., a port channel), names of constituent interfaces | List of str\n",
    "DHCP_Relay_Addresses | IPv4 addresses to which incoming DHCP requests are relayed | List of str\n",
    "Declared_Names | Any aliases explicitly defined for this interface | List of str\n",
    "Description | Configured interface description | str\n",
    "Encapsulation_VLAN | Number for VLAN encapsulation | int\n",
    "HSRP_Groups | HSRP group identifiers | Set of str\n",
    "HSRP_Version | HSRP version that will be used | str\n",
    "Inactive_Reason | Reason why interface is inactive | str\n",
    "Incoming_Filter_Name | Name of the input IPv4 filter | str\n",
    "MLAG_ID | MLAG identifier of the interface | int\n",
    "MTU | Layer3 MTU of the interface | int\n",
    "Native_VLAN | Native VLAN when switchport mode is trunk | int\n",
    "Outgoing_Filter_Name | Name of the output IPv4 filter | str\n",
    "PBR_Policy_Name | Name of policy-based routing (PBR) policy | str\n",
    "Primary_Address | Primary IPv4 address along with the prefix length | str\n",
    "Primary_Network | Primary IPv4 subnet, in canonical form | str\n",
    "Proxy_ARP | Whether proxy ARP is enabled | bool\n",
    "Rip_Enabled | Whether RIP is enabled | bool\n",
    "Rip_Passive | Whether interface is in RIP passive mode | bool\n",
    "Spanning_Tree_Portfast | Whether spanning-tree portfast feature is enabled | bool\n",
    "Speed | Link speed in bits/sec | float\n",
    "Switchport | Whether the interface is configured as switchport | bool\n",
    "Switchport_Mode | Switchport mode (ACCESS, DOT1Q_TUNNEL, DYNAMIC_AUTO, DYNAMIC_DESIRABLE, FEX_FABRIC, MONITOR, NONE, TAP, TOOL, TRUNK) for switchport interfaces | str\n",
    "Switchport_Trunk_Encapsulation | Encapsulation type (DOT1Q, ISL, NEGOTIATE) for switchport trunk interfaces | str\n",
    "VRF | Name of the VRF to which the interface belongs | str\n",
    "VRRP_Groups | All VRRP groups to which the interface belongs | List of int\n",
    "Zone_Name | Name of the firewall zone to which the interface belongs | str"
   ]
  },
  {
   "cell_type": "markdown",
   "id": "76edab76",
   "metadata": {},
   "source": [
    "Print the first 5 rows of the returned Dataframe"
   ]
  },
  {
   "cell_type": "code",
   "execution_count": 11,
   "id": "28c61a1f",
   "metadata": {},
   "outputs": [
    {
     "data": {
      "text/html": [
       "<div>\n",
       "<style scoped>\n",
       "    .dataframe tbody tr th:only-of-type {\n",
       "        vertical-align: middle;\n",
       "    }\n",
       "\n",
       "    .dataframe tbody tr th {\n",
       "        vertical-align: top;\n",
       "    }\n",
       "\n",
       "    .dataframe thead th {\n",
       "        text-align: right;\n",
       "    }\n",
       "</style>\n",
       "<table border=\"1\" class=\"dataframe\">\n",
       "  <thead>\n",
       "    <tr style=\"text-align: right;\">\n",
       "      <th></th>\n",
       "      <th>Interface</th>\n",
       "      <th>Access_VLAN</th>\n",
       "      <th>Active</th>\n",
       "      <th>Admin_Up</th>\n",
       "      <th>All_Prefixes</th>\n",
       "      <th>Allowed_VLANs</th>\n",
       "      <th>Auto_State_VLAN</th>\n",
       "      <th>Bandwidth</th>\n",
       "      <th>Blacklisted</th>\n",
       "      <th>Channel_Group</th>\n",
       "      <th>Channel_Group_Members</th>\n",
       "      <th>DHCP_Relay_Addresses</th>\n",
       "      <th>Declared_Names</th>\n",
       "      <th>Description</th>\n",
       "      <th>Encapsulation_VLAN</th>\n",
       "      <th>...</th>\n",
       "      <th>Outgoing_Filter_Name</th>\n",
       "      <th>PBR_Policy_Name</th>\n",
       "      <th>Primary_Address</th>\n",
       "      <th>Primary_Network</th>\n",
       "      <th>Proxy_ARP</th>\n",
       "      <th>Rip_Enabled</th>\n",
       "      <th>Rip_Passive</th>\n",
       "      <th>Spanning_Tree_Portfast</th>\n",
       "      <th>Speed</th>\n",
       "      <th>Switchport</th>\n",
       "      <th>Switchport_Mode</th>\n",
       "      <th>Switchport_Trunk_Encapsulation</th>\n",
       "      <th>VRF</th>\n",
       "      <th>VRRP_Groups</th>\n",
       "      <th>Zone_Name</th>\n",
       "    </tr>\n",
       "  </thead>\n",
       "  <tbody>\n",
       "    <tr>\n",
       "      <th>0</th>\n",
       "      <td>as1border1[Ethernet0/0]</td>\n",
       "      <td>None</td>\n",
       "      <td>False</td>\n",
       "      <td>False</td>\n",
       "      <td>[]</td>\n",
       "      <td></td>\n",
       "      <td>True</td>\n",
       "      <td>10000000.0</td>\n",
       "      <td>False</td>\n",
       "      <td>None</td>\n",
       "      <td>[]</td>\n",
       "      <td>[]</td>\n",
       "      <td>['Ethernet0/0']</td>\n",
       "      <td>None</td>\n",
       "      <td>None</td>\n",
       "      <td>...</td>\n",
       "      <td>None</td>\n",
       "      <td>None</td>\n",
       "      <td>None</td>\n",
       "      <td>None</td>\n",
       "      <td>True</td>\n",
       "      <td>False</td>\n",
       "      <td>False</td>\n",
       "      <td>False</td>\n",
       "      <td>10000000.0</td>\n",
       "      <td>False</td>\n",
       "      <td>NONE</td>\n",
       "      <td>DOT1Q</td>\n",
       "      <td>default</td>\n",
       "      <td>[]</td>\n",
       "      <td>None</td>\n",
       "    </tr>\n",
       "    <tr>\n",
       "      <th>1</th>\n",
       "      <td>as1border1[GigabitEthernet0/0]</td>\n",
       "      <td>None</td>\n",
       "      <td>True</td>\n",
       "      <td>True</td>\n",
       "      <td>['1.0.1.1/24']</td>\n",
       "      <td></td>\n",
       "      <td>True</td>\n",
       "      <td>1000000000.0</td>\n",
       "      <td>False</td>\n",
       "      <td>None</td>\n",
       "      <td>[]</td>\n",
       "      <td>[]</td>\n",
       "      <td>['GigabitEthernet0/0']</td>\n",
       "      <td>None</td>\n",
       "      <td>None</td>\n",
       "      <td>...</td>\n",
       "      <td>None</td>\n",
       "      <td>None</td>\n",
       "      <td>1.0.1.1/24</td>\n",
       "      <td>1.0.1.0/24</td>\n",
       "      <td>True</td>\n",
       "      <td>False</td>\n",
       "      <td>False</td>\n",
       "      <td>False</td>\n",
       "      <td>1000000000.0</td>\n",
       "      <td>False</td>\n",
       "      <td>NONE</td>\n",
       "      <td>DOT1Q</td>\n",
       "      <td>default</td>\n",
       "      <td>[123]</td>\n",
       "      <td>None</td>\n",
       "    </tr>\n",
       "    <tr>\n",
       "      <th>2</th>\n",
       "      <td>as1border1[GigabitEthernet1/0]</td>\n",
       "      <td>None</td>\n",
       "      <td>True</td>\n",
       "      <td>True</td>\n",
       "      <td>['10.12.11.1/24']</td>\n",
       "      <td></td>\n",
       "      <td>True</td>\n",
       "      <td>1000000000.0</td>\n",
       "      <td>False</td>\n",
       "      <td>None</td>\n",
       "      <td>[]</td>\n",
       "      <td>[]</td>\n",
       "      <td>['GigabitEthernet1/0']</td>\n",
       "      <td>None</td>\n",
       "      <td>None</td>\n",
       "      <td>...</td>\n",
       "      <td>None</td>\n",
       "      <td>None</td>\n",
       "      <td>10.12.11.1/24</td>\n",
       "      <td>10.12.11.0/24</td>\n",
       "      <td>True</td>\n",
       "      <td>False</td>\n",
       "      <td>False</td>\n",
       "      <td>False</td>\n",
       "      <td>1000000000.0</td>\n",
       "      <td>False</td>\n",
       "      <td>NONE</td>\n",
       "      <td>DOT1Q</td>\n",
       "      <td>default</td>\n",
       "      <td>[]</td>\n",
       "      <td>None</td>\n",
       "    </tr>\n",
       "    <tr>\n",
       "      <th>3</th>\n",
       "      <td>as1border1[Loopback0]</td>\n",
       "      <td>None</td>\n",
       "      <td>True</td>\n",
       "      <td>True</td>\n",
       "      <td>['1.1.1.1/32']</td>\n",
       "      <td></td>\n",
       "      <td>True</td>\n",
       "      <td>8000000000.0</td>\n",
       "      <td>None</td>\n",
       "      <td>None</td>\n",
       "      <td>[]</td>\n",
       "      <td>[]</td>\n",
       "      <td>['Loopback0']</td>\n",
       "      <td>None</td>\n",
       "      <td>None</td>\n",
       "      <td>...</td>\n",
       "      <td>None</td>\n",
       "      <td>None</td>\n",
       "      <td>1.1.1.1/32</td>\n",
       "      <td>1.1.1.1/32</td>\n",
       "      <td>True</td>\n",
       "      <td>False</td>\n",
       "      <td>False</td>\n",
       "      <td>False</td>\n",
       "      <td>None</td>\n",
       "      <td>False</td>\n",
       "      <td>NONE</td>\n",
       "      <td>DOT1Q</td>\n",
       "      <td>default</td>\n",
       "      <td>[]</td>\n",
       "      <td>None</td>\n",
       "    </tr>\n",
       "    <tr>\n",
       "      <th>4</th>\n",
       "      <td>as1border2[Ethernet0/0]</td>\n",
       "      <td>None</td>\n",
       "      <td>False</td>\n",
       "      <td>False</td>\n",
       "      <td>[]</td>\n",
       "      <td></td>\n",
       "      <td>True</td>\n",
       "      <td>10000000.0</td>\n",
       "      <td>False</td>\n",
       "      <td>None</td>\n",
       "      <td>[]</td>\n",
       "      <td>[]</td>\n",
       "      <td>['Ethernet0/0']</td>\n",
       "      <td>None</td>\n",
       "      <td>None</td>\n",
       "      <td>...</td>\n",
       "      <td>None</td>\n",
       "      <td>None</td>\n",
       "      <td>None</td>\n",
       "      <td>None</td>\n",
       "      <td>True</td>\n",
       "      <td>False</td>\n",
       "      <td>False</td>\n",
       "      <td>False</td>\n",
       "      <td>10000000.0</td>\n",
       "      <td>False</td>\n",
       "      <td>NONE</td>\n",
       "      <td>DOT1Q</td>\n",
       "      <td>default</td>\n",
       "      <td>[]</td>\n",
       "      <td>None</td>\n",
       "    </tr>\n",
       "  </tbody>\n",
       "</table>\n",
       "<p>5 rows × 37 columns</p>\n",
       "</div>"
      ],
      "text/plain": [
       "                        Interface Access_VLAN Active Admin_Up       All_Prefixes Allowed_VLANs Auto_State_VLAN     Bandwidth Blacklisted Channel_Group Channel_Group_Members DHCP_Relay_Addresses          Declared_Names Description Encapsulation_VLAN  ... Outgoing_Filter_Name PBR_Policy_Name  \\\n",
       "0         as1border1[Ethernet0/0]        None  False    False                 []                          True    10000000.0       False          None                    []                   []         ['Ethernet0/0']        None               None  ...                 None            None   \n",
       "1  as1border1[GigabitEthernet0/0]        None   True     True     ['1.0.1.1/24']                          True  1000000000.0       False          None                    []                   []  ['GigabitEthernet0/0']        None               None  ...                 None            None   \n",
       "2  as1border1[GigabitEthernet1/0]        None   True     True  ['10.12.11.1/24']                          True  1000000000.0       False          None                    []                   []  ['GigabitEthernet1/0']        None               None  ...                 None            None   \n",
       "3           as1border1[Loopback0]        None   True     True     ['1.1.1.1/32']                          True  8000000000.0        None          None                    []                   []           ['Loopback0']        None               None  ...                 None            None   \n",
       "4         as1border2[Ethernet0/0]        None  False    False                 []                          True    10000000.0       False          None                    []                   []         ['Ethernet0/0']        None               None  ...                 None            None   \n",
       "\n",
       "  Primary_Address Primary_Network Proxy_ARP Rip_Enabled Rip_Passive Spanning_Tree_Portfast         Speed Switchport Switchport_Mode Switchport_Trunk_Encapsulation      VRF VRRP_Groups Zone_Name  \n",
       "0            None            None      True       False       False                  False    10000000.0      False            NONE                          DOT1Q  default          []      None  \n",
       "1      1.0.1.1/24      1.0.1.0/24      True       False       False                  False  1000000000.0      False            NONE                          DOT1Q  default       [123]      None  \n",
       "2   10.12.11.1/24   10.12.11.0/24      True       False       False                  False  1000000000.0      False            NONE                          DOT1Q  default          []      None  \n",
       "3      1.1.1.1/32      1.1.1.1/32      True       False       False                  False          None      False            NONE                          DOT1Q  default          []      None  \n",
       "4            None            None      True       False       False                  False    10000000.0      False            NONE                          DOT1Q  default          []      None  \n",
       "\n",
       "[5 rows x 37 columns]"
      ]
     },
     "execution_count": 11,
     "metadata": {},
     "output_type": "execute_result"
    }
   ],
   "source": [
    "result.head(5)"
   ]
  },
  {
   "cell_type": "markdown",
   "id": "6d2a7758",
   "metadata": {},
   "source": [
    "Print the first row of the returned Dataframe"
   ]
  },
  {
   "cell_type": "code",
   "execution_count": 12,
   "id": "113c4e83",
   "metadata": {},
   "outputs": [
    {
     "data": {
      "text/plain": [
       "Interface                         as1border1[Ethernet0/0]\n",
       "Access_VLAN                                          None\n",
       "Active                                              False\n",
       "Admin_Up                                            False\n",
       "All_Prefixes                                           []\n",
       "Allowed_VLANs                                            \n",
       "Auto_State_VLAN                                      True\n",
       "Bandwidth                                      10000000.0\n",
       "Blacklisted                                         False\n",
       "Channel_Group                                        None\n",
       "Channel_Group_Members                                  []\n",
       "DHCP_Relay_Addresses                                   []\n",
       "Declared_Names                            ['Ethernet0/0']\n",
       "Description                                          None\n",
       "Encapsulation_VLAN                                   None\n",
       "HSRP_Groups                                            []\n",
       "HSRP_Version                                         None\n",
       "Inactive_Reason                     Administratively down\n",
       "Incoming_Filter_Name                                 None\n",
       "MLAG_ID                                              None\n",
       "MTU                                                  1500\n",
       "Native_VLAN                                          None\n",
       "Outgoing_Filter_Name                                 None\n",
       "PBR_Policy_Name                                      None\n",
       "Primary_Address                                      None\n",
       "Primary_Network                                      None\n",
       "Proxy_ARP                                            True\n",
       "Rip_Enabled                                         False\n",
       "Rip_Passive                                         False\n",
       "Spanning_Tree_Portfast                              False\n",
       "Speed                                          10000000.0\n",
       "Switchport                                          False\n",
       "Switchport_Mode                                      NONE\n",
       "Switchport_Trunk_Encapsulation                      DOT1Q\n",
       "VRF                                               default\n",
       "VRRP_Groups                                            []\n",
       "Zone_Name                                            None\n",
       "Name: 0, dtype: object"
      ]
     },
     "execution_count": 12,
     "metadata": {},
     "output_type": "execute_result"
    }
   ],
   "source": [
    "result.iloc[0]"
   ]
  },
  {
   "cell_type": "code",
   "execution_count": 13,
   "id": "4f37393c",
   "metadata": {
    "nbsphinx": "hidden"
   },
   "outputs": [
    {
     "data": {
      "text/plain": [
       "'generate_questions'"
      ]
     },
     "execution_count": 13,
     "metadata": {},
     "output_type": "execute_result"
    }
   ],
   "source": [
    "bf.set_network('generate_questions')"
   ]
  },
  {
   "cell_type": "code",
   "execution_count": 14,
   "id": "88150528",
   "metadata": {
    "nbsphinx": "hidden"
   },
   "outputs": [
    {
     "data": {
      "text/plain": [
       "'generate_questions'"
      ]
     },
     "execution_count": 14,
     "metadata": {},
     "output_type": "execute_result"
    }
   ],
   "source": [
    "bf.set_snapshot('generate_questions')"
   ]
  },
  {
   "cell_type": "markdown",
   "id": "a64e5422",
   "metadata": {},
   "source": [
    "##### BGP Process Configuration"
   ]
  },
  {
   "cell_type": "markdown",
   "id": "7170128d",
   "metadata": {},
   "source": [
    "Returns configuration settings of BGP processes."
   ]
  },
  {
   "cell_type": "markdown",
   "id": "72c4b4a8",
   "metadata": {},
   "source": [
    "Reports configuration settings for each BGP process on each node and VRF in the network. This question reports only process-wide settings. Peer-specific settings are reported by the bgpPeerConfiguration question."
   ]
  },
  {
   "cell_type": "markdown",
   "id": "cf890a99",
   "metadata": {},
   "source": [
    "###### **Inputs**"
   ]
  },
  {
   "cell_type": "markdown",
   "id": "6ae7c98e",
   "metadata": {},
   "source": [
    "Name | Description | Type | Optional | Default Value\n",
    "--- | --- | --- | --- | --- \n",
    "nodes | Include nodes matching this name or regex. | [NodeSpec](../specifiers.md#node-specifier) | True | \n",
    "properties | Include properties matching this regex. | [BgpProcessPropertySpec](../specifiers.md#bgp-process-property-specifier) | True | "
   ]
  },
  {
   "cell_type": "markdown",
   "id": "d3cff10b",
   "metadata": {},
   "source": [
    "###### **Invocation**"
   ]
  },
  {
   "cell_type": "code",
   "execution_count": 15,
   "id": "abab4f9c",
   "metadata": {},
   "outputs": [],
   "source": [
    "result = bf.q.bgpProcessConfiguration().answer().frame()"
   ]
  },
  {
   "cell_type": "markdown",
   "id": "6db8139c",
   "metadata": {},
   "source": [
    "###### **Return Value**"
   ]
  },
  {
   "cell_type": "markdown",
   "id": "e52bb63d",
   "metadata": {},
   "source": [
    "Name | Description | Type\n",
    "--- | --- | ---\n",
    "Node | Node | str\n",
    "VRF | VRF | str\n",
    "Router_ID | Router ID | str\n",
    "Confederation_ID | Externally visible autonomous system number for the confederation | int\n",
    "Confederation_Members | Set of autonomous system numbers visible only within this BGP confederation | str\n",
    "Multipath_EBGP | Whether multipath routing is enabled for EBGP | bool\n",
    "Multipath_IBGP | Whether multipath routing is enabled for IBGP | bool\n",
    "Multipath_Match_Mode | Which AS paths are considered equivalent (EXACT_PATH, FIRST_AS, PATH_LENGTH) when multipath BGP is enabled | str\n",
    "Neighbors | All peers configured on this process, identified by peer address (for active and dynamic peers) or peer interface (for BGP unnumbered peers) | Set of str\n",
    "Route_Reflector | Whether any BGP peer in this process is configured as a route reflector client, for ipv4 unicast address family | bool\n",
    "Tie_Breaker | Tie breaking mode (ARRIVAL_ORDER, CLUSTER_LIST_LENGTH, ROUTER_ID) | str"
   ]
  },
  {
   "cell_type": "markdown",
   "id": "4b05c017",
   "metadata": {},
   "source": [
    "Print the first 5 rows of the returned Dataframe"
   ]
  },
  {
   "cell_type": "code",
   "execution_count": 16,
   "id": "4bb37ae1",
   "metadata": {},
   "outputs": [
    {
     "data": {
      "text/html": [
       "<div>\n",
       "<style scoped>\n",
       "    .dataframe tbody tr th:only-of-type {\n",
       "        vertical-align: middle;\n",
       "    }\n",
       "\n",
       "    .dataframe tbody tr th {\n",
       "        vertical-align: top;\n",
       "    }\n",
       "\n",
       "    .dataframe thead th {\n",
       "        text-align: right;\n",
       "    }\n",
       "</style>\n",
       "<table border=\"1\" class=\"dataframe\">\n",
       "  <thead>\n",
       "    <tr style=\"text-align: right;\">\n",
       "      <th></th>\n",
       "      <th>Node</th>\n",
       "      <th>VRF</th>\n",
       "      <th>Router_ID</th>\n",
       "      <th>Confederation_ID</th>\n",
       "      <th>Confederation_Members</th>\n",
       "      <th>Multipath_EBGP</th>\n",
       "      <th>Multipath_IBGP</th>\n",
       "      <th>Multipath_Match_Mode</th>\n",
       "      <th>Neighbors</th>\n",
       "      <th>Route_Reflector</th>\n",
       "      <th>Tie_Breaker</th>\n",
       "    </tr>\n",
       "  </thead>\n",
       "  <tbody>\n",
       "    <tr>\n",
       "      <th>0</th>\n",
       "      <td>as2border2</td>\n",
       "      <td>default</td>\n",
       "      <td>2.1.1.2</td>\n",
       "      <td>None</td>\n",
       "      <td>None</td>\n",
       "      <td>True</td>\n",
       "      <td>True</td>\n",
       "      <td>EXACT_PATH</td>\n",
       "      <td>['2.1.2.1', '2.1.2.2', '10.23.21.3']</td>\n",
       "      <td>False</td>\n",
       "      <td>ARRIVAL_ORDER</td>\n",
       "    </tr>\n",
       "    <tr>\n",
       "      <th>1</th>\n",
       "      <td>as2dist1</td>\n",
       "      <td>default</td>\n",
       "      <td>2.1.3.1</td>\n",
       "      <td>None</td>\n",
       "      <td>None</td>\n",
       "      <td>True</td>\n",
       "      <td>True</td>\n",
       "      <td>EXACT_PATH</td>\n",
       "      <td>['2.1.2.1', '2.1.2.2', '2.34.101.4']</td>\n",
       "      <td>False</td>\n",
       "      <td>ARRIVAL_ORDER</td>\n",
       "    </tr>\n",
       "    <tr>\n",
       "      <th>2</th>\n",
       "      <td>as3core1</td>\n",
       "      <td>default</td>\n",
       "      <td>3.10.1.1</td>\n",
       "      <td>None</td>\n",
       "      <td>None</td>\n",
       "      <td>True</td>\n",
       "      <td>True</td>\n",
       "      <td>EXACT_PATH</td>\n",
       "      <td>['3.1.1.1', '3.2.2.2']</td>\n",
       "      <td>True</td>\n",
       "      <td>ARRIVAL_ORDER</td>\n",
       "    </tr>\n",
       "    <tr>\n",
       "      <th>3</th>\n",
       "      <td>as2border1</td>\n",
       "      <td>default</td>\n",
       "      <td>2.1.1.1</td>\n",
       "      <td>None</td>\n",
       "      <td>None</td>\n",
       "      <td>True</td>\n",
       "      <td>True</td>\n",
       "      <td>EXACT_PATH</td>\n",
       "      <td>['2.1.2.1', '2.1.2.2', '10.12.11.1']</td>\n",
       "      <td>False</td>\n",
       "      <td>ARRIVAL_ORDER</td>\n",
       "    </tr>\n",
       "    <tr>\n",
       "      <th>4</th>\n",
       "      <td>as1core1</td>\n",
       "      <td>default</td>\n",
       "      <td>1.10.1.1</td>\n",
       "      <td>None</td>\n",
       "      <td>None</td>\n",
       "      <td>True</td>\n",
       "      <td>True</td>\n",
       "      <td>EXACT_PATH</td>\n",
       "      <td>['1.1.1.1', '1.2.2.2']</td>\n",
       "      <td>True</td>\n",
       "      <td>ARRIVAL_ORDER</td>\n",
       "    </tr>\n",
       "  </tbody>\n",
       "</table>\n",
       "</div>"
      ],
      "text/plain": [
       "         Node      VRF Router_ID Confederation_ID Confederation_Members Multipath_EBGP Multipath_IBGP Multipath_Match_Mode                             Neighbors Route_Reflector    Tie_Breaker\n",
       "0  as2border2  default   2.1.1.2             None                  None           True           True           EXACT_PATH  ['2.1.2.1', '2.1.2.2', '10.23.21.3']           False  ARRIVAL_ORDER\n",
       "1    as2dist1  default   2.1.3.1             None                  None           True           True           EXACT_PATH  ['2.1.2.1', '2.1.2.2', '2.34.101.4']           False  ARRIVAL_ORDER\n",
       "2    as3core1  default  3.10.1.1             None                  None           True           True           EXACT_PATH                ['3.1.1.1', '3.2.2.2']            True  ARRIVAL_ORDER\n",
       "3  as2border1  default   2.1.1.1             None                  None           True           True           EXACT_PATH  ['2.1.2.1', '2.1.2.2', '10.12.11.1']           False  ARRIVAL_ORDER\n",
       "4    as1core1  default  1.10.1.1             None                  None           True           True           EXACT_PATH                ['1.1.1.1', '1.2.2.2']            True  ARRIVAL_ORDER"
      ]
     },
     "execution_count": 16,
     "metadata": {},
     "output_type": "execute_result"
    }
   ],
   "source": [
    "result.head(5)"
   ]
  },
  {
   "cell_type": "markdown",
   "id": "f1ff8b55",
   "metadata": {},
   "source": [
    "Print the first row of the returned Dataframe"
   ]
  },
  {
   "cell_type": "code",
   "execution_count": 17,
   "id": "857af270",
   "metadata": {},
   "outputs": [
    {
     "data": {
      "text/plain": [
       "Node                                               as2border2\n",
       "VRF                                                   default\n",
       "Router_ID                                             2.1.1.2\n",
       "Confederation_ID                                         None\n",
       "Confederation_Members                                    None\n",
       "Multipath_EBGP                                           True\n",
       "Multipath_IBGP                                           True\n",
       "Multipath_Match_Mode                               EXACT_PATH\n",
       "Neighbors                ['2.1.2.1', '2.1.2.2', '10.23.21.3']\n",
       "Route_Reflector                                         False\n",
       "Tie_Breaker                                     ARRIVAL_ORDER\n",
       "Name: 0, dtype: object"
      ]
     },
     "execution_count": 17,
     "metadata": {},
     "output_type": "execute_result"
    }
   ],
   "source": [
    "result.iloc[0]"
   ]
  },
  {
   "cell_type": "code",
   "execution_count": 18,
   "id": "d046a769",
   "metadata": {
    "nbsphinx": "hidden"
   },
   "outputs": [
    {
     "data": {
      "text/plain": [
       "'generate_questions'"
      ]
     },
     "execution_count": 18,
     "metadata": {},
     "output_type": "execute_result"
    }
   ],
   "source": [
    "bf.set_network('generate_questions')"
   ]
  },
  {
   "cell_type": "code",
   "execution_count": 19,
   "id": "de7b8275",
   "metadata": {
    "nbsphinx": "hidden"
   },
   "outputs": [
    {
     "data": {
      "text/plain": [
       "'generate_questions'"
      ]
     },
     "execution_count": 19,
     "metadata": {},
     "output_type": "execute_result"
    }
   ],
   "source": [
    "bf.set_snapshot('generate_questions')"
   ]
  },
  {
   "cell_type": "markdown",
   "id": "37ff94ed",
   "metadata": {},
   "source": [
    "##### BGP Peer Configuration"
   ]
  },
  {
   "cell_type": "markdown",
   "id": "a1b333bc",
   "metadata": {},
   "source": [
    "Returns configuration settings for BGP peerings."
   ]
  },
  {
   "cell_type": "markdown",
   "id": "50460f92",
   "metadata": {},
   "source": [
    "Reports configuration settings for each configured BGP peering on each node in the network. This question reports peer-specific settings. Settings that are process-wide are reported by the bgpProcessConfiguration question."
   ]
  },
  {
   "cell_type": "markdown",
   "id": "874a4592",
   "metadata": {},
   "source": [
    "###### **Inputs**"
   ]
  },
  {
   "cell_type": "markdown",
   "id": "a5351b97",
   "metadata": {},
   "source": [
    "Name | Description | Type | Optional | Default Value\n",
    "--- | --- | --- | --- | --- \n",
    "nodes | Include nodes matching this name or regex. | [NodeSpec](../specifiers.md#node-specifier) | True | \n",
    "properties | Include properties matching this regex. | [BgpPeerPropertySpec](../specifiers.md#bgp-peer-property-specifier) | True | "
   ]
  },
  {
   "cell_type": "markdown",
   "id": "cb13f98e",
   "metadata": {},
   "source": [
    "###### **Invocation**"
   ]
  },
  {
   "cell_type": "code",
   "execution_count": 20,
   "id": "4e156196",
   "metadata": {},
   "outputs": [],
   "source": [
    "result = bf.q.bgpPeerConfiguration().answer().frame()"
   ]
  },
  {
   "cell_type": "markdown",
   "id": "71e7b51a",
   "metadata": {},
   "source": [
    "###### **Return Value**"
   ]
  },
  {
   "cell_type": "markdown",
   "id": "090f0071",
   "metadata": {},
   "source": [
    "Name | Description | Type\n",
    "--- | --- | ---\n",
    "Node | Node | str\n",
    "VRF | VRF | str\n",
    "Local_AS | Local AS number | int\n",
    "Local_IP | Local IPv4 address (null for BGP unnumbered peers) | str\n",
    "Local_Interface | Local Interface | str\n",
    "Confederation | Confederation AS number | int\n",
    "Remote_AS | Remote AS numbers with which this peer may establish a session | str\n",
    "Remote_IP | Remote IP | str\n",
    "Description | Configured peer description | str\n",
    "Route_Reflector_Client | Whether this peer is a route reflector client | bool\n",
    "Cluster_ID | Cluster ID of this peer (null for peers that are not route reflector clients) | str\n",
    "Peer_Group | Name of the BGP peer group to which this peer belongs | str\n",
    "Import_Policy | Names of import policies to be applied to routes received by this peer | Set of str\n",
    "Export_Policy | Names of export policies to be applied to routes exported by this peer | Set of str\n",
    "Send_Community | Whether this peer propagates communities | bool\n",
    "Is_Passive | Whether this peer is passive | bool"
   ]
  },
  {
   "cell_type": "markdown",
   "id": "f1bc2fd3",
   "metadata": {},
   "source": [
    "Print the first 5 rows of the returned Dataframe"
   ]
  },
  {
   "cell_type": "code",
   "execution_count": 21,
   "id": "067e12da",
   "metadata": {},
   "outputs": [
    {
     "data": {
      "text/html": [
       "<div>\n",
       "<style scoped>\n",
       "    .dataframe tbody tr th:only-of-type {\n",
       "        vertical-align: middle;\n",
       "    }\n",
       "\n",
       "    .dataframe tbody tr th {\n",
       "        vertical-align: top;\n",
       "    }\n",
       "\n",
       "    .dataframe thead th {\n",
       "        text-align: right;\n",
       "    }\n",
       "</style>\n",
       "<table border=\"1\" class=\"dataframe\">\n",
       "  <thead>\n",
       "    <tr style=\"text-align: right;\">\n",
       "      <th></th>\n",
       "      <th>Node</th>\n",
       "      <th>VRF</th>\n",
       "      <th>Local_AS</th>\n",
       "      <th>Local_IP</th>\n",
       "      <th>Local_Interface</th>\n",
       "      <th>Confederation</th>\n",
       "      <th>Remote_AS</th>\n",
       "      <th>Remote_IP</th>\n",
       "      <th>Description</th>\n",
       "      <th>Route_Reflector_Client</th>\n",
       "      <th>Cluster_ID</th>\n",
       "      <th>Peer_Group</th>\n",
       "      <th>Import_Policy</th>\n",
       "      <th>Export_Policy</th>\n",
       "      <th>Send_Community</th>\n",
       "      <th>Is_Passive</th>\n",
       "    </tr>\n",
       "  </thead>\n",
       "  <tbody>\n",
       "    <tr>\n",
       "      <th>0</th>\n",
       "      <td>as3core1</td>\n",
       "      <td>default</td>\n",
       "      <td>3</td>\n",
       "      <td>3.10.1.1</td>\n",
       "      <td>None</td>\n",
       "      <td>None</td>\n",
       "      <td>3</td>\n",
       "      <td>3.1.1.1</td>\n",
       "      <td>None</td>\n",
       "      <td>True</td>\n",
       "      <td>3.10.1.1</td>\n",
       "      <td>as3</td>\n",
       "      <td>[]</td>\n",
       "      <td>[]</td>\n",
       "      <td>True</td>\n",
       "      <td>False</td>\n",
       "    </tr>\n",
       "    <tr>\n",
       "      <th>1</th>\n",
       "      <td>as2border1</td>\n",
       "      <td>default</td>\n",
       "      <td>2</td>\n",
       "      <td>10.12.11.2</td>\n",
       "      <td>None</td>\n",
       "      <td>None</td>\n",
       "      <td>1</td>\n",
       "      <td>10.12.11.1</td>\n",
       "      <td>None</td>\n",
       "      <td>False</td>\n",
       "      <td>None</td>\n",
       "      <td>as1</td>\n",
       "      <td>['as1_to_as2']</td>\n",
       "      <td>['as2_to_as1']</td>\n",
       "      <td>True</td>\n",
       "      <td>False</td>\n",
       "    </tr>\n",
       "    <tr>\n",
       "      <th>2</th>\n",
       "      <td>as2core2</td>\n",
       "      <td>default</td>\n",
       "      <td>2</td>\n",
       "      <td>2.1.2.2</td>\n",
       "      <td>None</td>\n",
       "      <td>None</td>\n",
       "      <td>2</td>\n",
       "      <td>2.1.3.2</td>\n",
       "      <td>None</td>\n",
       "      <td>True</td>\n",
       "      <td>2.1.2.2</td>\n",
       "      <td>as2</td>\n",
       "      <td>[]</td>\n",
       "      <td>[]</td>\n",
       "      <td>True</td>\n",
       "      <td>False</td>\n",
       "    </tr>\n",
       "    <tr>\n",
       "      <th>3</th>\n",
       "      <td>as3border1</td>\n",
       "      <td>default</td>\n",
       "      <td>3</td>\n",
       "      <td>3.1.1.1</td>\n",
       "      <td>None</td>\n",
       "      <td>None</td>\n",
       "      <td>3</td>\n",
       "      <td>3.10.1.1</td>\n",
       "      <td>None</td>\n",
       "      <td>False</td>\n",
       "      <td>None</td>\n",
       "      <td>as3</td>\n",
       "      <td>[]</td>\n",
       "      <td>[]</td>\n",
       "      <td>True</td>\n",
       "      <td>False</td>\n",
       "    </tr>\n",
       "    <tr>\n",
       "      <th>4</th>\n",
       "      <td>as2core1</td>\n",
       "      <td>default</td>\n",
       "      <td>2</td>\n",
       "      <td>2.1.2.1</td>\n",
       "      <td>None</td>\n",
       "      <td>None</td>\n",
       "      <td>2</td>\n",
       "      <td>2.1.3.2</td>\n",
       "      <td>None</td>\n",
       "      <td>True</td>\n",
       "      <td>2.1.2.1</td>\n",
       "      <td>as2</td>\n",
       "      <td>[]</td>\n",
       "      <td>[]</td>\n",
       "      <td>True</td>\n",
       "      <td>False</td>\n",
       "    </tr>\n",
       "  </tbody>\n",
       "</table>\n",
       "</div>"
      ],
      "text/plain": [
       "         Node      VRF Local_AS    Local_IP Local_Interface Confederation Remote_AS   Remote_IP Description Route_Reflector_Client Cluster_ID Peer_Group   Import_Policy   Export_Policy Send_Community Is_Passive\n",
       "0    as3core1  default        3    3.10.1.1            None          None         3     3.1.1.1        None                   True   3.10.1.1        as3              []              []           True      False\n",
       "1  as2border1  default        2  10.12.11.2            None          None         1  10.12.11.1        None                  False       None        as1  ['as1_to_as2']  ['as2_to_as1']           True      False\n",
       "2    as2core2  default        2     2.1.2.2            None          None         2     2.1.3.2        None                   True    2.1.2.2        as2              []              []           True      False\n",
       "3  as3border1  default        3     3.1.1.1            None          None         3    3.10.1.1        None                  False       None        as3              []              []           True      False\n",
       "4    as2core1  default        2     2.1.2.1            None          None         2     2.1.3.2        None                   True    2.1.2.1        as2              []              []           True      False"
      ]
     },
     "execution_count": 21,
     "metadata": {},
     "output_type": "execute_result"
    }
   ],
   "source": [
    "result.head(5)"
   ]
  },
  {
   "cell_type": "markdown",
   "id": "e8fb2acf",
   "metadata": {},
   "source": [
    "Print the first row of the returned Dataframe"
   ]
  },
  {
   "cell_type": "code",
   "execution_count": 22,
   "id": "68f405ab",
   "metadata": {},
   "outputs": [
    {
     "data": {
      "text/plain": [
       "Node                      as3core1\n",
       "VRF                        default\n",
       "Local_AS                         3\n",
       "Local_IP                  3.10.1.1\n",
       "Local_Interface               None\n",
       "Confederation                 None\n",
       "Remote_AS                        3\n",
       "Remote_IP                  3.1.1.1\n",
       "Description                   None\n",
       "Route_Reflector_Client        True\n",
       "Cluster_ID                3.10.1.1\n",
       "Peer_Group                     as3\n",
       "Import_Policy                   []\n",
       "Export_Policy                   []\n",
       "Send_Community                True\n",
       "Is_Passive                   False\n",
       "Name: 0, dtype: object"
      ]
     },
     "execution_count": 22,
     "metadata": {},
     "output_type": "execute_result"
    }
   ],
   "source": [
    "result.iloc[0]"
   ]
  },
  {
   "cell_type": "code",
   "execution_count": 23,
   "id": "bcfa0c12",
   "metadata": {
    "nbsphinx": "hidden"
   },
   "outputs": [
    {
     "data": {
      "text/plain": [
       "'generate_questions'"
      ]
     },
     "execution_count": 23,
     "metadata": {},
     "output_type": "execute_result"
    }
   ],
   "source": [
    "bf.set_network('generate_questions')"
   ]
  },
  {
   "cell_type": "code",
   "execution_count": 24,
   "id": "e48dc788",
   "metadata": {
    "nbsphinx": "hidden"
   },
   "outputs": [
    {
     "data": {
      "text/plain": [
       "'ios_basic_hsrp'"
      ]
     },
     "execution_count": 24,
     "metadata": {},
     "output_type": "execute_result"
    }
   ],
   "source": [
    "bf.set_snapshot('ios_basic_hsrp')"
   ]
  },
  {
   "cell_type": "markdown",
   "id": "23776254",
   "metadata": {},
   "source": [
    "##### HSRP Properties"
   ]
  },
  {
   "cell_type": "markdown",
   "id": "0a41d2ee",
   "metadata": {},
   "source": [
    "Returns configuration settings of HSRP groups."
   ]
  },
  {
   "cell_type": "markdown",
   "id": "5cd5a85a",
   "metadata": {},
   "source": [
    "Lists information about HSRP groups on interfaces."
   ]
  },
  {
   "cell_type": "markdown",
   "id": "012aa436",
   "metadata": {},
   "source": [
    "###### **Inputs**"
   ]
  },
  {
   "cell_type": "markdown",
   "id": "22285b5e",
   "metadata": {},
   "source": [
    "Name | Description | Type | Optional | Default Value\n",
    "--- | --- | --- | --- | --- \n",
    "nodes | Include nodes matching this specifier. | [NodeSpec](../specifiers.md#node-specifier) | True | \n",
    "interfaces | Include interfaces matching this specifier. | [InterfaceSpec](../specifiers.md#interface-specifier) | True | \n",
    "virtualAddresses | Include only groups with at least one virtual address matching this specifier. | [IpSpec](../specifiers.md#ip-specifier) | True | \n",
    "excludeShutInterfaces | Exclude interfaces that are shutdown. | bool | True | "
   ]
  },
  {
   "cell_type": "markdown",
   "id": "f4813da5",
   "metadata": {},
   "source": [
    "###### **Invocation**"
   ]
  },
  {
   "cell_type": "code",
   "execution_count": 25,
   "id": "2f90cff0",
   "metadata": {},
   "outputs": [],
   "source": [
    "result = bf.q.hsrpProperties().answer().frame()"
   ]
  },
  {
   "cell_type": "markdown",
   "id": "bfc68211",
   "metadata": {},
   "source": [
    "###### **Return Value**"
   ]
  },
  {
   "cell_type": "markdown",
   "id": "77707db4",
   "metadata": {},
   "source": [
    "Name | Description | Type\n",
    "--- | --- | ---\n",
    "Interface | Interface | [Interface](../datamodel.rst#pybatfish.datamodel.primitives.Interface)\n",
    "Group_Id | HSRP Group ID | int\n",
    "Virtual_Addresses | Virtual Addresses | Set of str\n",
    "Source_Address | Source Address used for HSRP messages | str\n",
    "Priority | HSRP router priority | int\n",
    "Preempt | Whether preemption is allowed | bool\n",
    "Active | Whether the interface is active | bool"
   ]
  },
  {
   "cell_type": "markdown",
   "id": "40c1e71a",
   "metadata": {},
   "source": [
    "Print the first 5 rows of the returned Dataframe"
   ]
  },
  {
   "cell_type": "code",
   "execution_count": 26,
   "id": "ec3a26a9",
   "metadata": {},
   "outputs": [
    {
     "data": {
      "text/html": [
       "<div>\n",
       "<style scoped>\n",
       "    .dataframe tbody tr th:only-of-type {\n",
       "        vertical-align: middle;\n",
       "    }\n",
       "\n",
       "    .dataframe tbody tr th {\n",
       "        vertical-align: top;\n",
       "    }\n",
       "\n",
       "    .dataframe thead th {\n",
       "        text-align: right;\n",
       "    }\n",
       "</style>\n",
       "<table border=\"1\" class=\"dataframe\">\n",
       "  <thead>\n",
       "    <tr style=\"text-align: right;\">\n",
       "      <th></th>\n",
       "      <th>Interface</th>\n",
       "      <th>Group_Id</th>\n",
       "      <th>Virtual_Addresses</th>\n",
       "      <th>Source_Address</th>\n",
       "      <th>Priority</th>\n",
       "      <th>Preempt</th>\n",
       "      <th>Active</th>\n",
       "    </tr>\n",
       "  </thead>\n",
       "  <tbody>\n",
       "    <tr>\n",
       "      <th>0</th>\n",
       "      <td>br2[GigabitEthernet0/2]</td>\n",
       "      <td>12</td>\n",
       "      <td>['192.168.1.254']</td>\n",
       "      <td>192.168.1.2/24</td>\n",
       "      <td>100</td>\n",
       "      <td>False</td>\n",
       "      <td>True</td>\n",
       "    </tr>\n",
       "    <tr>\n",
       "      <th>1</th>\n",
       "      <td>br1[GigabitEthernet0/2]</td>\n",
       "      <td>12</td>\n",
       "      <td>['192.168.1.254']</td>\n",
       "      <td>192.168.1.1/24</td>\n",
       "      <td>110</td>\n",
       "      <td>False</td>\n",
       "      <td>True</td>\n",
       "    </tr>\n",
       "  </tbody>\n",
       "</table>\n",
       "</div>"
      ],
      "text/plain": [
       "                 Interface Group_Id  Virtual_Addresses  Source_Address Priority Preempt Active\n",
       "0  br2[GigabitEthernet0/2]       12  ['192.168.1.254']  192.168.1.2/24      100   False   True\n",
       "1  br1[GigabitEthernet0/2]       12  ['192.168.1.254']  192.168.1.1/24      110   False   True"
      ]
     },
     "execution_count": 26,
     "metadata": {},
     "output_type": "execute_result"
    }
   ],
   "source": [
    "result.head(5)"
   ]
  },
  {
   "cell_type": "markdown",
   "id": "935a8fb2",
   "metadata": {},
   "source": [
    "Print the first row of the returned Dataframe"
   ]
  },
  {
   "cell_type": "code",
   "execution_count": 27,
   "id": "069ac12b",
   "metadata": {},
   "outputs": [
    {
     "data": {
      "text/plain": [
       "Interface            br2[GigabitEthernet0/2]\n",
       "Group_Id                                  12\n",
       "Virtual_Addresses          ['192.168.1.254']\n",
       "Source_Address                192.168.1.2/24\n",
       "Priority                                 100\n",
       "Preempt                                False\n",
       "Active                                  True\n",
       "Name: 0, dtype: object"
      ]
     },
     "execution_count": 27,
     "metadata": {},
     "output_type": "execute_result"
    }
   ],
   "source": [
    "result.iloc[0]"
   ]
  },
  {
   "cell_type": "code",
   "execution_count": 28,
   "id": "50221d0e",
   "metadata": {
    "nbsphinx": "hidden"
   },
   "outputs": [
    {
     "data": {
      "text/plain": [
       "'generate_questions'"
      ]
     },
     "execution_count": 28,
     "metadata": {},
     "output_type": "execute_result"
    }
   ],
   "source": [
    "bf.set_network('generate_questions')"
   ]
  },
  {
   "cell_type": "code",
   "execution_count": 29,
   "id": "9f5cc5c7",
   "metadata": {
    "nbsphinx": "hidden"
   },
   "outputs": [
    {
     "data": {
      "text/plain": [
       "'generate_questions'"
      ]
     },
     "execution_count": 29,
     "metadata": {},
     "output_type": "execute_result"
    }
   ],
   "source": [
    "bf.set_snapshot('generate_questions')"
   ]
  },
  {
   "cell_type": "markdown",
   "id": "73e70d82",
   "metadata": {},
   "source": [
    "##### OSPF Process Configuration"
   ]
  },
  {
   "cell_type": "markdown",
   "id": "4cb6d2af",
   "metadata": {},
   "source": [
    "Returns configuration parameters for OSPF routing processes."
   ]
  },
  {
   "cell_type": "markdown",
   "id": "2d4a7adf",
   "metadata": {},
   "source": [
    "Returns the values of important properties for all OSPF processes running across the network."
   ]
  },
  {
   "cell_type": "markdown",
   "id": "2a590f2a",
   "metadata": {},
   "source": [
    "###### **Inputs**"
   ]
  },
  {
   "cell_type": "markdown",
   "id": "7ac5a020",
   "metadata": {},
   "source": [
    "Name | Description | Type | Optional | Default Value\n",
    "--- | --- | --- | --- | --- \n",
    "nodes | Include nodes matching this name or regex. | [NodeSpec](../specifiers.md#node-specifier) | True | \n",
    "properties | Include properties matching this specifier. | [OspfProcessPropertySpec](../specifiers.md#ospf-process-property-specifier) | True | "
   ]
  },
  {
   "cell_type": "markdown",
   "id": "7b7444e5",
   "metadata": {},
   "source": [
    "###### **Invocation**"
   ]
  },
  {
   "cell_type": "code",
   "execution_count": 30,
   "id": "1385a4c2",
   "metadata": {},
   "outputs": [],
   "source": [
    "result = bf.q.ospfProcessConfiguration().answer().frame()"
   ]
  },
  {
   "cell_type": "markdown",
   "id": "aa688221",
   "metadata": {},
   "source": [
    "###### **Return Value**"
   ]
  },
  {
   "cell_type": "markdown",
   "id": "cdf9859c",
   "metadata": {},
   "source": [
    "Name | Description | Type\n",
    "--- | --- | ---\n",
    "Node | Node | str\n",
    "VRF | VRF name | str\n",
    "Process_ID | Process ID | str\n",
    "Areas | All OSPF areas for this process | Set of str\n",
    "Reference_Bandwidth | Reference bandwidth in bits/sec used to calculate interface OSPF cost | float\n",
    "Router_ID | Router ID of the process | str\n",
    "Export_Policy_Sources | Names of policies that determine which routes are exported into OSPF | Set of str\n",
    "Area_Border_Router | Whether this process is at the area border (with at least one interface in Area 0 and one in another area) | bool"
   ]
  },
  {
   "cell_type": "markdown",
   "id": "30643c3c",
   "metadata": {},
   "source": [
    "Print the first 5 rows of the returned Dataframe"
   ]
  },
  {
   "cell_type": "code",
   "execution_count": 31,
   "id": "aaf7d9ad",
   "metadata": {},
   "outputs": [
    {
     "data": {
      "text/html": [
       "<div>\n",
       "<style scoped>\n",
       "    .dataframe tbody tr th:only-of-type {\n",
       "        vertical-align: middle;\n",
       "    }\n",
       "\n",
       "    .dataframe tbody tr th {\n",
       "        vertical-align: top;\n",
       "    }\n",
       "\n",
       "    .dataframe thead th {\n",
       "        text-align: right;\n",
       "    }\n",
       "</style>\n",
       "<table border=\"1\" class=\"dataframe\">\n",
       "  <thead>\n",
       "    <tr style=\"text-align: right;\">\n",
       "      <th></th>\n",
       "      <th>Node</th>\n",
       "      <th>VRF</th>\n",
       "      <th>Process_ID</th>\n",
       "      <th>Areas</th>\n",
       "      <th>Reference_Bandwidth</th>\n",
       "      <th>Router_ID</th>\n",
       "      <th>Export_Policy_Sources</th>\n",
       "      <th>Area_Border_Router</th>\n",
       "    </tr>\n",
       "  </thead>\n",
       "  <tbody>\n",
       "    <tr>\n",
       "      <th>0</th>\n",
       "      <td>as2border1</td>\n",
       "      <td>default</td>\n",
       "      <td>1</td>\n",
       "      <td>['1']</td>\n",
       "      <td>100000000.0</td>\n",
       "      <td>2.1.1.1</td>\n",
       "      <td>[]</td>\n",
       "      <td>False</td>\n",
       "    </tr>\n",
       "    <tr>\n",
       "      <th>1</th>\n",
       "      <td>as2core1</td>\n",
       "      <td>default</td>\n",
       "      <td>1</td>\n",
       "      <td>['1']</td>\n",
       "      <td>100000000.0</td>\n",
       "      <td>2.1.2.1</td>\n",
       "      <td>[]</td>\n",
       "      <td>False</td>\n",
       "    </tr>\n",
       "    <tr>\n",
       "      <th>2</th>\n",
       "      <td>as2dist1</td>\n",
       "      <td>default</td>\n",
       "      <td>1</td>\n",
       "      <td>['1']</td>\n",
       "      <td>100000000.0</td>\n",
       "      <td>2.1.3.1</td>\n",
       "      <td>[]</td>\n",
       "      <td>False</td>\n",
       "    </tr>\n",
       "    <tr>\n",
       "      <th>3</th>\n",
       "      <td>as2dist2</td>\n",
       "      <td>default</td>\n",
       "      <td>1</td>\n",
       "      <td>['1']</td>\n",
       "      <td>100000000.0</td>\n",
       "      <td>2.1.3.2</td>\n",
       "      <td>[]</td>\n",
       "      <td>False</td>\n",
       "    </tr>\n",
       "    <tr>\n",
       "      <th>4</th>\n",
       "      <td>as1border2</td>\n",
       "      <td>default</td>\n",
       "      <td>1</td>\n",
       "      <td>['1']</td>\n",
       "      <td>100000000.0</td>\n",
       "      <td>1.2.2.2</td>\n",
       "      <td>[]</td>\n",
       "      <td>False</td>\n",
       "    </tr>\n",
       "  </tbody>\n",
       "</table>\n",
       "</div>"
      ],
      "text/plain": [
       "         Node      VRF Process_ID  Areas Reference_Bandwidth Router_ID Export_Policy_Sources Area_Border_Router\n",
       "0  as2border1  default          1  ['1']         100000000.0   2.1.1.1                    []              False\n",
       "1    as2core1  default          1  ['1']         100000000.0   2.1.2.1                    []              False\n",
       "2    as2dist1  default          1  ['1']         100000000.0   2.1.3.1                    []              False\n",
       "3    as2dist2  default          1  ['1']         100000000.0   2.1.3.2                    []              False\n",
       "4  as1border2  default          1  ['1']         100000000.0   1.2.2.2                    []              False"
      ]
     },
     "execution_count": 31,
     "metadata": {},
     "output_type": "execute_result"
    }
   ],
   "source": [
    "result.head(5)"
   ]
  },
  {
   "cell_type": "markdown",
   "id": "d7d6970f",
   "metadata": {},
   "source": [
    "Print the first row of the returned Dataframe"
   ]
  },
  {
   "cell_type": "code",
   "execution_count": 32,
   "id": "0ebc567a",
   "metadata": {},
   "outputs": [
    {
     "data": {
      "text/plain": [
       "Node                      as2border1\n",
       "VRF                          default\n",
       "Process_ID                         1\n",
       "Areas                          ['1']\n",
       "Reference_Bandwidth      100000000.0\n",
       "Router_ID                    2.1.1.1\n",
       "Export_Policy_Sources             []\n",
       "Area_Border_Router             False\n",
       "Name: 0, dtype: object"
      ]
     },
     "execution_count": 32,
     "metadata": {},
     "output_type": "execute_result"
    }
   ],
   "source": [
    "result.iloc[0]"
   ]
  },
  {
   "cell_type": "code",
   "execution_count": 33,
   "id": "b282c3f5",
   "metadata": {
    "nbsphinx": "hidden"
   },
   "outputs": [
    {
     "data": {
      "text/plain": [
       "'generate_questions'"
      ]
     },
     "execution_count": 33,
     "metadata": {},
     "output_type": "execute_result"
    }
   ],
   "source": [
    "bf.set_network('generate_questions')"
   ]
  },
  {
   "cell_type": "code",
   "execution_count": 34,
   "id": "d0408378",
   "metadata": {
    "nbsphinx": "hidden"
   },
   "outputs": [
    {
     "data": {
      "text/plain": [
       "'generate_questions'"
      ]
     },
     "execution_count": 34,
     "metadata": {},
     "output_type": "execute_result"
    }
   ],
   "source": [
    "bf.set_snapshot('generate_questions')"
   ]
  },
  {
   "cell_type": "markdown",
   "id": "de09e94c",
   "metadata": {},
   "source": [
    "##### OSPF Interface Configuration"
   ]
  },
  {
   "cell_type": "markdown",
   "id": "db222be6",
   "metadata": {},
   "source": [
    "Returns OSPF configuration of interfaces."
   ]
  },
  {
   "cell_type": "markdown",
   "id": "46bdfead",
   "metadata": {},
   "source": [
    "Returns the interface level OSPF configuration details for the interfaces in the network which run OSPF."
   ]
  },
  {
   "cell_type": "markdown",
   "id": "23ee31ba",
   "metadata": {},
   "source": [
    "###### **Inputs**"
   ]
  },
  {
   "cell_type": "markdown",
   "id": "2473f2d7",
   "metadata": {},
   "source": [
    "Name | Description | Type | Optional | Default Value\n",
    "--- | --- | --- | --- | --- \n",
    "nodes | Include nodes matching this specifier. | [NodeSpec](../specifiers.md#node-specifier) | True | \n",
    "properties | Include properties matching this specifier. | [OspfInterfacePropertySpec](../specifiers.md#ospf-interface-property-specifier) | True | "
   ]
  },
  {
   "cell_type": "markdown",
   "id": "61b02165",
   "metadata": {},
   "source": [
    "###### **Invocation**"
   ]
  },
  {
   "cell_type": "code",
   "execution_count": 35,
   "id": "5691ec44",
   "metadata": {},
   "outputs": [],
   "source": [
    "result = bf.q.ospfInterfaceConfiguration().answer().frame()"
   ]
  },
  {
   "cell_type": "markdown",
   "id": "f238fd4b",
   "metadata": {},
   "source": [
    "###### **Return Value**"
   ]
  },
  {
   "cell_type": "markdown",
   "id": "3b6715ab",
   "metadata": {},
   "source": [
    "Name | Description | Type\n",
    "--- | --- | ---\n",
    "Interface | Interface | [Interface](../datamodel.rst#pybatfish.datamodel.primitives.Interface)\n",
    "VRF | VRF name | str\n",
    "Process_ID | Process ID | str\n",
    "OSPF_Area_Name | OSPF area to which the interface belongs | int\n",
    "OSPF_Enabled | Whether OSPF is enabled | bool\n",
    "OSPF_Passive | Whether interface is in OSPF passive mode | bool\n",
    "OSPF_Cost | OSPF cost if explicitly configured | int\n",
    "OSPF_Network_Type | Type of OSPF network associated with the interface | str\n",
    "OSPF_Hello_Interval | Interval in seconds between sending OSPF hello messages | int\n",
    "OSPF_Dead_Interval | Interval in seconds before a silent OSPF neighbor is declared dead | int"
   ]
  },
  {
   "cell_type": "markdown",
   "id": "7b17f4b4",
   "metadata": {},
   "source": [
    "Print the first 5 rows of the returned Dataframe"
   ]
  },
  {
   "cell_type": "code",
   "execution_count": 36,
   "id": "e4ec38ec",
   "metadata": {},
   "outputs": [
    {
     "data": {
      "text/html": [
       "<div>\n",
       "<style scoped>\n",
       "    .dataframe tbody tr th:only-of-type {\n",
       "        vertical-align: middle;\n",
       "    }\n",
       "\n",
       "    .dataframe tbody tr th {\n",
       "        vertical-align: top;\n",
       "    }\n",
       "\n",
       "    .dataframe thead th {\n",
       "        text-align: right;\n",
       "    }\n",
       "</style>\n",
       "<table border=\"1\" class=\"dataframe\">\n",
       "  <thead>\n",
       "    <tr style=\"text-align: right;\">\n",
       "      <th></th>\n",
       "      <th>Interface</th>\n",
       "      <th>VRF</th>\n",
       "      <th>Process_ID</th>\n",
       "      <th>OSPF_Area_Name</th>\n",
       "      <th>OSPF_Enabled</th>\n",
       "      <th>OSPF_Passive</th>\n",
       "      <th>OSPF_Cost</th>\n",
       "      <th>OSPF_Network_Type</th>\n",
       "      <th>OSPF_Hello_Interval</th>\n",
       "      <th>OSPF_Dead_Interval</th>\n",
       "    </tr>\n",
       "  </thead>\n",
       "  <tbody>\n",
       "    <tr>\n",
       "      <th>0</th>\n",
       "      <td>as1core1[GigabitEthernet1/0]</td>\n",
       "      <td>default</td>\n",
       "      <td>1</td>\n",
       "      <td>1</td>\n",
       "      <td>True</td>\n",
       "      <td>False</td>\n",
       "      <td>1</td>\n",
       "      <td>BROADCAST</td>\n",
       "      <td>10</td>\n",
       "      <td>40</td>\n",
       "    </tr>\n",
       "    <tr>\n",
       "      <th>1</th>\n",
       "      <td>as1core1[GigabitEthernet0/0]</td>\n",
       "      <td>default</td>\n",
       "      <td>1</td>\n",
       "      <td>1</td>\n",
       "      <td>True</td>\n",
       "      <td>False</td>\n",
       "      <td>1</td>\n",
       "      <td>BROADCAST</td>\n",
       "      <td>10</td>\n",
       "      <td>40</td>\n",
       "    </tr>\n",
       "    <tr>\n",
       "      <th>2</th>\n",
       "      <td>as2dist1[Loopback0]</td>\n",
       "      <td>default</td>\n",
       "      <td>1</td>\n",
       "      <td>1</td>\n",
       "      <td>True</td>\n",
       "      <td>False</td>\n",
       "      <td>1</td>\n",
       "      <td>BROADCAST</td>\n",
       "      <td>10</td>\n",
       "      <td>40</td>\n",
       "    </tr>\n",
       "    <tr>\n",
       "      <th>3</th>\n",
       "      <td>as3core1[GigabitEthernet0/0]</td>\n",
       "      <td>default</td>\n",
       "      <td>1</td>\n",
       "      <td>1</td>\n",
       "      <td>True</td>\n",
       "      <td>False</td>\n",
       "      <td>1</td>\n",
       "      <td>BROADCAST</td>\n",
       "      <td>10</td>\n",
       "      <td>40</td>\n",
       "    </tr>\n",
       "    <tr>\n",
       "      <th>4</th>\n",
       "      <td>as3core1[GigabitEthernet1/0]</td>\n",
       "      <td>default</td>\n",
       "      <td>1</td>\n",
       "      <td>1</td>\n",
       "      <td>True</td>\n",
       "      <td>False</td>\n",
       "      <td>1</td>\n",
       "      <td>BROADCAST</td>\n",
       "      <td>10</td>\n",
       "      <td>40</td>\n",
       "    </tr>\n",
       "  </tbody>\n",
       "</table>\n",
       "</div>"
      ],
      "text/plain": [
       "                      Interface      VRF Process_ID OSPF_Area_Name OSPF_Enabled OSPF_Passive OSPF_Cost OSPF_Network_Type OSPF_Hello_Interval OSPF_Dead_Interval\n",
       "0  as1core1[GigabitEthernet1/0]  default          1              1         True        False         1         BROADCAST                  10                 40\n",
       "1  as1core1[GigabitEthernet0/0]  default          1              1         True        False         1         BROADCAST                  10                 40\n",
       "2           as2dist1[Loopback0]  default          1              1         True        False         1         BROADCAST                  10                 40\n",
       "3  as3core1[GigabitEthernet0/0]  default          1              1         True        False         1         BROADCAST                  10                 40\n",
       "4  as3core1[GigabitEthernet1/0]  default          1              1         True        False         1         BROADCAST                  10                 40"
      ]
     },
     "execution_count": 36,
     "metadata": {},
     "output_type": "execute_result"
    }
   ],
   "source": [
    "result.head(5)"
   ]
  },
  {
   "cell_type": "markdown",
   "id": "d66b5bc0",
   "metadata": {},
   "source": [
    "Print the first row of the returned Dataframe"
   ]
  },
  {
   "cell_type": "code",
   "execution_count": 37,
   "id": "a8ba9559",
   "metadata": {},
   "outputs": [
    {
     "data": {
      "text/plain": [
       "Interface              as1core1[GigabitEthernet1/0]\n",
       "VRF                                         default\n",
       "Process_ID                                        1\n",
       "OSPF_Area_Name                                    1\n",
       "OSPF_Enabled                                   True\n",
       "OSPF_Passive                                  False\n",
       "OSPF_Cost                                         1\n",
       "OSPF_Network_Type                         BROADCAST\n",
       "OSPF_Hello_Interval                              10\n",
       "OSPF_Dead_Interval                               40\n",
       "Name: 0, dtype: object"
      ]
     },
     "execution_count": 37,
     "metadata": {},
     "output_type": "execute_result"
    }
   ],
   "source": [
    "result.iloc[0]"
   ]
  },
  {
   "cell_type": "code",
   "execution_count": 38,
   "id": "3364fbfb",
   "metadata": {
    "nbsphinx": "hidden"
   },
   "outputs": [
    {
     "data": {
      "text/plain": [
       "'generate_questions'"
      ]
     },
     "execution_count": 38,
     "metadata": {},
     "output_type": "execute_result"
    }
   ],
   "source": [
    "bf.set_network('generate_questions')"
   ]
  },
  {
   "cell_type": "code",
   "execution_count": 39,
   "id": "35c2de0d",
   "metadata": {
    "nbsphinx": "hidden"
   },
   "outputs": [
    {
     "data": {
      "text/plain": [
       "'generate_questions'"
      ]
     },
     "execution_count": 39,
     "metadata": {},
     "output_type": "execute_result"
    }
   ],
   "source": [
    "bf.set_snapshot('generate_questions')"
   ]
  },
  {
   "cell_type": "markdown",
   "id": "01462055",
   "metadata": {},
   "source": [
    "##### OSPF Area Configuration"
   ]
  },
  {
   "cell_type": "markdown",
   "id": "ff81f827",
   "metadata": {},
   "source": [
    "Returns configuration parameters of OSPF areas."
   ]
  },
  {
   "cell_type": "markdown",
   "id": "e05c2313",
   "metadata": {},
   "source": [
    "Returns information about all OSPF areas defined across the network."
   ]
  },
  {
   "cell_type": "markdown",
   "id": "d8bbca25",
   "metadata": {},
   "source": [
    "###### **Inputs**"
   ]
  },
  {
   "cell_type": "markdown",
   "id": "cf17daa7",
   "metadata": {},
   "source": [
    "Name | Description | Type | Optional | Default Value\n",
    "--- | --- | --- | --- | --- \n",
    "nodes | Include nodes matching this name or regex. | [NodeSpec](../specifiers.md#node-specifier) | True | "
   ]
  },
  {
   "cell_type": "markdown",
   "id": "411a7af0",
   "metadata": {},
   "source": [
    "###### **Invocation**"
   ]
  },
  {
   "cell_type": "code",
   "execution_count": 40,
   "id": "35273bee",
   "metadata": {},
   "outputs": [],
   "source": [
    "result = bf.q.ospfAreaConfiguration().answer().frame()"
   ]
  },
  {
   "cell_type": "markdown",
   "id": "8a1a5657",
   "metadata": {},
   "source": [
    "###### **Return Value**"
   ]
  },
  {
   "cell_type": "markdown",
   "id": "0f88c630",
   "metadata": {},
   "source": [
    "Name | Description | Type\n",
    "--- | --- | ---\n",
    "Node | Node | str\n",
    "VRF | VRF | str\n",
    "Process_ID | Process ID | str\n",
    "Area | Area number | str\n",
    "Area_Type | Area type | str\n",
    "Active_Interfaces | Names of active interfaces | Set of str\n",
    "Passive_Interfaces | Names of passive interfaces | Set of str"
   ]
  },
  {
   "cell_type": "markdown",
   "id": "f19437cf",
   "metadata": {},
   "source": [
    "Print the first 5 rows of the returned Dataframe"
   ]
  },
  {
   "cell_type": "code",
   "execution_count": 41,
   "id": "d9156ba1",
   "metadata": {},
   "outputs": [
    {
     "data": {
      "text/html": [
       "<div>\n",
       "<style scoped>\n",
       "    .dataframe tbody tr th:only-of-type {\n",
       "        vertical-align: middle;\n",
       "    }\n",
       "\n",
       "    .dataframe tbody tr th {\n",
       "        vertical-align: top;\n",
       "    }\n",
       "\n",
       "    .dataframe thead th {\n",
       "        text-align: right;\n",
       "    }\n",
       "</style>\n",
       "<table border=\"1\" class=\"dataframe\">\n",
       "  <thead>\n",
       "    <tr style=\"text-align: right;\">\n",
       "      <th></th>\n",
       "      <th>Node</th>\n",
       "      <th>VRF</th>\n",
       "      <th>Process_ID</th>\n",
       "      <th>Area</th>\n",
       "      <th>Area_Type</th>\n",
       "      <th>Active_Interfaces</th>\n",
       "      <th>Passive_Interfaces</th>\n",
       "    </tr>\n",
       "  </thead>\n",
       "  <tbody>\n",
       "    <tr>\n",
       "      <th>0</th>\n",
       "      <td>as2dist2</td>\n",
       "      <td>default</td>\n",
       "      <td>1</td>\n",
       "      <td>1</td>\n",
       "      <td>NONE</td>\n",
       "      <td>['GigabitEthernet0/0', 'GigabitEthernet1/0', 'Loopback0']</td>\n",
       "      <td>[]</td>\n",
       "    </tr>\n",
       "    <tr>\n",
       "      <th>1</th>\n",
       "      <td>as2border2</td>\n",
       "      <td>default</td>\n",
       "      <td>1</td>\n",
       "      <td>1</td>\n",
       "      <td>NONE</td>\n",
       "      <td>['GigabitEthernet1/0', 'GigabitEthernet2/0', 'Loopback0']</td>\n",
       "      <td>[]</td>\n",
       "    </tr>\n",
       "    <tr>\n",
       "      <th>2</th>\n",
       "      <td>as3core1</td>\n",
       "      <td>default</td>\n",
       "      <td>1</td>\n",
       "      <td>1</td>\n",
       "      <td>NONE</td>\n",
       "      <td>['GigabitEthernet0/0', 'GigabitEthernet1/0', 'Loopback0']</td>\n",
       "      <td>[]</td>\n",
       "    </tr>\n",
       "    <tr>\n",
       "      <th>3</th>\n",
       "      <td>as2core1</td>\n",
       "      <td>default</td>\n",
       "      <td>1</td>\n",
       "      <td>1</td>\n",
       "      <td>NONE</td>\n",
       "      <td>['GigabitEthernet0/0', 'GigabitEthernet1/0', 'GigabitEthernet2/0', 'GigabitEthernet3/0', 'Loopback0']</td>\n",
       "      <td>[]</td>\n",
       "    </tr>\n",
       "    <tr>\n",
       "      <th>4</th>\n",
       "      <td>as1border2</td>\n",
       "      <td>default</td>\n",
       "      <td>1</td>\n",
       "      <td>1</td>\n",
       "      <td>NONE</td>\n",
       "      <td>['GigabitEthernet1/0', 'Loopback0']</td>\n",
       "      <td>[]</td>\n",
       "    </tr>\n",
       "  </tbody>\n",
       "</table>\n",
       "</div>"
      ],
      "text/plain": [
       "         Node      VRF Process_ID Area Area_Type                                                                                      Active_Interfaces Passive_Interfaces\n",
       "0    as2dist2  default          1    1      NONE                                              ['GigabitEthernet0/0', 'GigabitEthernet1/0', 'Loopback0']                 []\n",
       "1  as2border2  default          1    1      NONE                                              ['GigabitEthernet1/0', 'GigabitEthernet2/0', 'Loopback0']                 []\n",
       "2    as3core1  default          1    1      NONE                                              ['GigabitEthernet0/0', 'GigabitEthernet1/0', 'Loopback0']                 []\n",
       "3    as2core1  default          1    1      NONE  ['GigabitEthernet0/0', 'GigabitEthernet1/0', 'GigabitEthernet2/0', 'GigabitEthernet3/0', 'Loopback0']                 []\n",
       "4  as1border2  default          1    1      NONE                                                                    ['GigabitEthernet1/0', 'Loopback0']                 []"
      ]
     },
     "execution_count": 41,
     "metadata": {},
     "output_type": "execute_result"
    }
   ],
   "source": [
    "result.head(5)"
   ]
  },
  {
   "cell_type": "markdown",
   "id": "73ad73cb",
   "metadata": {},
   "source": [
    "Print the first row of the returned Dataframe"
   ]
  },
  {
   "cell_type": "code",
   "execution_count": 42,
   "id": "eb69e244",
   "metadata": {},
   "outputs": [
    {
     "data": {
      "text/plain": [
       "Node                                                                   as2dist2\n",
       "VRF                                                                     default\n",
       "Process_ID                                                                    1\n",
       "Area                                                                          1\n",
       "Area_Type                                                                  NONE\n",
       "Active_Interfaces     ['GigabitEthernet0/0', 'GigabitEthernet1/0', 'Loopback0']\n",
       "Passive_Interfaces                                                           []\n",
       "Name: 0, dtype: object"
      ]
     },
     "execution_count": 42,
     "metadata": {},
     "output_type": "execute_result"
    }
   ],
   "source": [
    "result.iloc[0]"
   ]
  },
  {
   "cell_type": "code",
   "execution_count": 43,
   "id": "3ab6cc91",
   "metadata": {
    "nbsphinx": "hidden"
   },
   "outputs": [
    {
     "data": {
      "text/plain": [
       "'generate_questions'"
      ]
     },
     "execution_count": 43,
     "metadata": {},
     "output_type": "execute_result"
    }
   ],
   "source": [
    "bf.set_network('generate_questions')"
   ]
  },
  {
   "cell_type": "code",
   "execution_count": 44,
   "id": "515d5c61",
   "metadata": {
    "nbsphinx": "hidden"
   },
   "outputs": [
    {
     "data": {
      "text/plain": [
       "'aristaevpn'"
      ]
     },
     "execution_count": 44,
     "metadata": {},
     "output_type": "execute_result"
    }
   ],
   "source": [
    "bf.set_snapshot('aristaevpn')"
   ]
  },
  {
   "cell_type": "markdown",
   "id": "df883f41",
   "metadata": {},
   "source": [
    "##### Multi-chassis LAG"
   ]
  },
  {
   "cell_type": "markdown",
   "id": "fa3d90b2",
   "metadata": {},
   "source": [
    "Returns MLAG configuration."
   ]
  },
  {
   "cell_type": "markdown",
   "id": "059c5616",
   "metadata": {},
   "source": [
    "Lists the configuration settings for each MLAG domain in the network."
   ]
  },
  {
   "cell_type": "markdown",
   "id": "503d33aa",
   "metadata": {},
   "source": [
    "###### **Inputs**"
   ]
  },
  {
   "cell_type": "markdown",
   "id": "e42175c8",
   "metadata": {},
   "source": [
    "Name | Description | Type | Optional | Default Value\n",
    "--- | --- | --- | --- | --- \n",
    "nodes | Include nodes matching this specifier. | [NodeSpec](../specifiers.md#node-specifier) | True | \n",
    "mlagIds | Include MLAG IDs matching this specifier. | [MlagIdSpec](../specifiers.md#mlag-id-specifier) | True | "
   ]
  },
  {
   "cell_type": "markdown",
   "id": "0f7200aa",
   "metadata": {},
   "source": [
    "###### **Invocation**"
   ]
  },
  {
   "cell_type": "code",
   "execution_count": 45,
   "id": "a4fa0b45",
   "metadata": {},
   "outputs": [],
   "source": [
    "result = bf.q.mlagProperties().answer().frame()"
   ]
  },
  {
   "cell_type": "markdown",
   "id": "6500ab62",
   "metadata": {},
   "source": [
    "###### **Return Value**"
   ]
  },
  {
   "cell_type": "markdown",
   "id": "a70745e5",
   "metadata": {},
   "source": [
    "Name | Description | Type\n",
    "--- | --- | ---\n",
    "Node | Node name | str\n",
    "MLAG_ID | MLAG domain ID | str\n",
    "Peer_Address | Peer's IP address | str\n",
    "Local_Interface | Local interface used for MLAG peering | [Interface](../datamodel.rst#pybatfish.datamodel.primitives.Interface)\n",
    "Source_Interface | Local interface used as source-interface for MLAG peering | [Interface](../datamodel.rst#pybatfish.datamodel.primitives.Interface)"
   ]
  },
  {
   "cell_type": "markdown",
   "id": "76919309",
   "metadata": {},
   "source": [
    "Print the first 5 rows of the returned Dataframe"
   ]
  },
  {
   "cell_type": "code",
   "execution_count": 46,
   "id": "9c3f6c5a",
   "metadata": {},
   "outputs": [
    {
     "data": {
      "text/html": [
       "<div>\n",
       "<style scoped>\n",
       "    .dataframe tbody tr th:only-of-type {\n",
       "        vertical-align: middle;\n",
       "    }\n",
       "\n",
       "    .dataframe tbody tr th {\n",
       "        vertical-align: top;\n",
       "    }\n",
       "\n",
       "    .dataframe thead th {\n",
       "        text-align: right;\n",
       "    }\n",
       "</style>\n",
       "<table border=\"1\" class=\"dataframe\">\n",
       "  <thead>\n",
       "    <tr style=\"text-align: right;\">\n",
       "      <th></th>\n",
       "      <th>Node</th>\n",
       "      <th>MLAG_ID</th>\n",
       "      <th>Peer_Address</th>\n",
       "      <th>Local_Interface</th>\n",
       "      <th>Source_Interface</th>\n",
       "    </tr>\n",
       "  </thead>\n",
       "  <tbody>\n",
       "    <tr>\n",
       "      <th>0</th>\n",
       "      <td>dc1-bl1a</td>\n",
       "      <td>DC1_BL1</td>\n",
       "      <td>10.255.252.11</td>\n",
       "      <td>dc1-bl1a[Port-Channel3]</td>\n",
       "      <td>dc1-bl1a[Vlan4094]</td>\n",
       "    </tr>\n",
       "    <tr>\n",
       "      <th>1</th>\n",
       "      <td>dc1-bl1b</td>\n",
       "      <td>DC1_BL1</td>\n",
       "      <td>10.255.252.10</td>\n",
       "      <td>dc1-bl1b[Port-Channel3]</td>\n",
       "      <td>dc1-bl1b[Vlan4094]</td>\n",
       "    </tr>\n",
       "    <tr>\n",
       "      <th>2</th>\n",
       "      <td>dc1-l2leaf5a</td>\n",
       "      <td>DC1_L2LEAF5</td>\n",
       "      <td>10.255.252.19</td>\n",
       "      <td>dc1-l2leaf5a[Port-Channel3]</td>\n",
       "      <td>dc1-l2leaf5a[Vlan4094]</td>\n",
       "    </tr>\n",
       "    <tr>\n",
       "      <th>3</th>\n",
       "      <td>dc1-l2leaf5b</td>\n",
       "      <td>DC1_L2LEAF5</td>\n",
       "      <td>10.255.252.18</td>\n",
       "      <td>dc1-l2leaf5b[Port-Channel3]</td>\n",
       "      <td>dc1-l2leaf5b[Vlan4094]</td>\n",
       "    </tr>\n",
       "    <tr>\n",
       "      <th>4</th>\n",
       "      <td>dc1-l2leaf6a</td>\n",
       "      <td>DC1_L2LEAF6</td>\n",
       "      <td>10.255.252.23</td>\n",
       "      <td>dc1-l2leaf6a[Port-Channel3]</td>\n",
       "      <td>dc1-l2leaf6a[Vlan4094]</td>\n",
       "    </tr>\n",
       "  </tbody>\n",
       "</table>\n",
       "</div>"
      ],
      "text/plain": [
       "           Node      MLAG_ID   Peer_Address              Local_Interface        Source_Interface\n",
       "0      dc1-bl1a      DC1_BL1  10.255.252.11      dc1-bl1a[Port-Channel3]      dc1-bl1a[Vlan4094]\n",
       "1      dc1-bl1b      DC1_BL1  10.255.252.10      dc1-bl1b[Port-Channel3]      dc1-bl1b[Vlan4094]\n",
       "2  dc1-l2leaf5a  DC1_L2LEAF5  10.255.252.19  dc1-l2leaf5a[Port-Channel3]  dc1-l2leaf5a[Vlan4094]\n",
       "3  dc1-l2leaf5b  DC1_L2LEAF5  10.255.252.18  dc1-l2leaf5b[Port-Channel3]  dc1-l2leaf5b[Vlan4094]\n",
       "4  dc1-l2leaf6a  DC1_L2LEAF6  10.255.252.23  dc1-l2leaf6a[Port-Channel3]  dc1-l2leaf6a[Vlan4094]"
      ]
     },
     "execution_count": 46,
     "metadata": {},
     "output_type": "execute_result"
    }
   ],
   "source": [
    "result.head(5)"
   ]
  },
  {
   "cell_type": "markdown",
   "id": "78d0d195",
   "metadata": {},
   "source": [
    "Print the first row of the returned Dataframe"
   ]
  },
  {
   "cell_type": "code",
   "execution_count": 47,
   "id": "8832ba0e",
   "metadata": {},
   "outputs": [
    {
     "data": {
      "text/plain": [
       "Node                               dc1-bl1a\n",
       "MLAG_ID                             DC1_BL1\n",
       "Peer_Address                  10.255.252.11\n",
       "Local_Interface     dc1-bl1a[Port-Channel3]\n",
       "Source_Interface         dc1-bl1a[Vlan4094]\n",
       "Name: 0, dtype: object"
      ]
     },
     "execution_count": 47,
     "metadata": {},
     "output_type": "execute_result"
    }
   ],
   "source": [
    "result.iloc[0]"
   ]
  },
  {
   "cell_type": "code",
   "execution_count": 48,
   "id": "e29b2a8c",
   "metadata": {
    "nbsphinx": "hidden"
   },
   "outputs": [
    {
     "data": {
      "text/plain": [
       "'generate_questions'"
      ]
     },
     "execution_count": 48,
     "metadata": {},
     "output_type": "execute_result"
    }
   ],
   "source": [
    "bf.set_network('generate_questions')"
   ]
  },
  {
   "cell_type": "code",
   "execution_count": 49,
   "id": "1e1dcb69",
   "metadata": {
    "nbsphinx": "hidden"
   },
   "outputs": [
    {
     "data": {
      "text/plain": [
       "'generate_questions'"
      ]
     },
     "execution_count": 49,
     "metadata": {},
     "output_type": "execute_result"
    }
   ],
   "source": [
    "bf.set_snapshot('generate_questions')"
   ]
  },
  {
   "cell_type": "markdown",
   "id": "6365ee33",
   "metadata": {},
   "source": [
    "##### IP Owners"
   ]
  },
  {
   "cell_type": "markdown",
   "id": "4b176a79",
   "metadata": {},
   "source": [
    "Returns where IP addresses are attached in the network."
   ]
  },
  {
   "cell_type": "markdown",
   "id": "43f2be86",
   "metadata": {},
   "source": [
    "For each device, lists the mapping from IPs to corresponding interface(s) and VRF(s)."
   ]
  },
  {
   "cell_type": "markdown",
   "id": "c715c2f8",
   "metadata": {},
   "source": [
    "###### **Inputs**"
   ]
  },
  {
   "cell_type": "markdown",
   "id": "d6ecb6f4",
   "metadata": {},
   "source": [
    "Name | Description | Type | Optional | Default Value\n",
    "--- | --- | --- | --- | --- \n",
    "ips | Restrict output to only specified IP addresses. | [IpSpec](../specifiers.md#ip-specifier) | True | \n",
    "duplicatesOnly | Restrict output to only IP addresses that are duplicated (configured on a different node or VRF) in the snapshot. | bool | False | False"
   ]
  },
  {
   "cell_type": "markdown",
   "id": "9e52ceab",
   "metadata": {},
   "source": [
    "###### **Invocation**"
   ]
  },
  {
   "cell_type": "code",
   "execution_count": 50,
   "id": "82096269",
   "metadata": {},
   "outputs": [],
   "source": [
    "result = bf.q.ipOwners().answer().frame()"
   ]
  },
  {
   "cell_type": "markdown",
   "id": "00b15a28",
   "metadata": {},
   "source": [
    "###### **Return Value**"
   ]
  },
  {
   "cell_type": "markdown",
   "id": "950116b1",
   "metadata": {},
   "source": [
    "Name | Description | Type\n",
    "--- | --- | ---\n",
    "Node | Node hostname | str\n",
    "VRF | VRF name | str\n",
    "Interface | Interface name | str\n",
    "IP | IP address | str\n",
    "Mask | Network mask length | int\n",
    "Active | Whether the interface is active | bool"
   ]
  },
  {
   "cell_type": "markdown",
   "id": "3c102315",
   "metadata": {},
   "source": [
    "Print the first 5 rows of the returned Dataframe"
   ]
  },
  {
   "cell_type": "code",
   "execution_count": 51,
   "id": "ec635501",
   "metadata": {},
   "outputs": [
    {
     "data": {
      "text/html": [
       "<div>\n",
       "<style scoped>\n",
       "    .dataframe tbody tr th:only-of-type {\n",
       "        vertical-align: middle;\n",
       "    }\n",
       "\n",
       "    .dataframe tbody tr th {\n",
       "        vertical-align: top;\n",
       "    }\n",
       "\n",
       "    .dataframe thead th {\n",
       "        text-align: right;\n",
       "    }\n",
       "</style>\n",
       "<table border=\"1\" class=\"dataframe\">\n",
       "  <thead>\n",
       "    <tr style=\"text-align: right;\">\n",
       "      <th></th>\n",
       "      <th>Node</th>\n",
       "      <th>VRF</th>\n",
       "      <th>Interface</th>\n",
       "      <th>IP</th>\n",
       "      <th>Mask</th>\n",
       "      <th>Active</th>\n",
       "    </tr>\n",
       "  </thead>\n",
       "  <tbody>\n",
       "    <tr>\n",
       "      <th>0</th>\n",
       "      <td>as2dist2</td>\n",
       "      <td>default</td>\n",
       "      <td>Loopback0</td>\n",
       "      <td>2.1.3.2</td>\n",
       "      <td>32</td>\n",
       "      <td>True</td>\n",
       "    </tr>\n",
       "    <tr>\n",
       "      <th>1</th>\n",
       "      <td>as2dist1</td>\n",
       "      <td>default</td>\n",
       "      <td>Loopback0</td>\n",
       "      <td>2.1.3.1</td>\n",
       "      <td>32</td>\n",
       "      <td>True</td>\n",
       "    </tr>\n",
       "    <tr>\n",
       "      <th>2</th>\n",
       "      <td>as2dept1</td>\n",
       "      <td>default</td>\n",
       "      <td>GigabitEthernet1/0</td>\n",
       "      <td>2.34.201.4</td>\n",
       "      <td>24</td>\n",
       "      <td>True</td>\n",
       "    </tr>\n",
       "    <tr>\n",
       "      <th>3</th>\n",
       "      <td>as2dept1</td>\n",
       "      <td>default</td>\n",
       "      <td>Loopback0</td>\n",
       "      <td>2.1.1.2</td>\n",
       "      <td>32</td>\n",
       "      <td>True</td>\n",
       "    </tr>\n",
       "    <tr>\n",
       "      <th>4</th>\n",
       "      <td>as3border2</td>\n",
       "      <td>default</td>\n",
       "      <td>GigabitEthernet1/0</td>\n",
       "      <td>3.0.2.1</td>\n",
       "      <td>24</td>\n",
       "      <td>True</td>\n",
       "    </tr>\n",
       "  </tbody>\n",
       "</table>\n",
       "</div>"
      ],
      "text/plain": [
       "         Node      VRF           Interface          IP Mask Active\n",
       "0    as2dist2  default           Loopback0     2.1.3.2   32   True\n",
       "1    as2dist1  default           Loopback0     2.1.3.1   32   True\n",
       "2    as2dept1  default  GigabitEthernet1/0  2.34.201.4   24   True\n",
       "3    as2dept1  default           Loopback0     2.1.1.2   32   True\n",
       "4  as3border2  default  GigabitEthernet1/0     3.0.2.1   24   True"
      ]
     },
     "execution_count": 51,
     "metadata": {},
     "output_type": "execute_result"
    }
   ],
   "source": [
    "result.head(5)"
   ]
  },
  {
   "cell_type": "markdown",
   "id": "3ea12738",
   "metadata": {},
   "source": [
    "Print the first row of the returned Dataframe"
   ]
  },
  {
   "cell_type": "code",
   "execution_count": 52,
   "id": "3c0b610f",
   "metadata": {},
   "outputs": [
    {
     "data": {
      "text/plain": [
       "Node          as2dist2\n",
       "VRF            default\n",
       "Interface    Loopback0\n",
       "IP             2.1.3.2\n",
       "Mask                32\n",
       "Active            True\n",
       "Name: 0, dtype: object"
      ]
     },
     "execution_count": 52,
     "metadata": {},
     "output_type": "execute_result"
    }
   ],
   "source": [
    "result.iloc[0]"
   ]
  },
  {
   "cell_type": "code",
   "execution_count": 53,
   "id": "cbf6b508",
   "metadata": {
    "nbsphinx": "hidden"
   },
   "outputs": [
    {
     "data": {
      "text/plain": [
       "'generate_questions'"
      ]
     },
     "execution_count": 53,
     "metadata": {},
     "output_type": "execute_result"
    }
   ],
   "source": [
    "bf.set_network('generate_questions')"
   ]
  },
  {
   "cell_type": "code",
   "execution_count": 54,
   "id": "aed18bbd",
   "metadata": {
    "nbsphinx": "hidden"
   },
   "outputs": [
    {
     "data": {
      "text/plain": [
       "'generate_questions'"
      ]
     },
     "execution_count": 54,
     "metadata": {},
     "output_type": "execute_result"
    }
   ],
   "source": [
    "bf.set_snapshot('generate_questions')"
   ]
  },
  {
   "cell_type": "markdown",
   "id": "568057f5",
   "metadata": {},
   "source": [
    "##### Named Structures"
   ]
  },
  {
   "cell_type": "markdown",
   "id": "0c8717f9",
   "metadata": {},
   "source": [
    "Returns named structure definitions."
   ]
  },
  {
   "cell_type": "markdown",
   "id": "9e2d4c2b",
   "metadata": {},
   "source": [
    "Return structures defined in the configurations, represented in a vendor-independent JSON format."
   ]
  },
  {
   "cell_type": "markdown",
   "id": "ee829a5d",
   "metadata": {},
   "source": [
    "###### **Inputs**"
   ]
  },
  {
   "cell_type": "markdown",
   "id": "c0315df1",
   "metadata": {},
   "source": [
    "Name | Description | Type | Optional | Default Value\n",
    "--- | --- | --- | --- | --- \n",
    "nodes | Include nodes matching this specifier. | [NodeSpec](../specifiers.md#node-specifier) | True | \n",
    "structureTypes | Include structures of this type. | [NamedStructureSpec](../specifiers.md#named-structure-specifier) | True | \n",
    "structureNames | Include structures matching this name or regex. | str | True | \n",
    "ignoreGenerated | Whether to ignore auto-generated structures. | bool | True | True\n",
    "indicatePresence | Output if the structure is present or absent. | bool | True | "
   ]
  },
  {
   "cell_type": "markdown",
   "id": "fec7d1ab",
   "metadata": {},
   "source": [
    "###### **Invocation**"
   ]
  },
  {
   "cell_type": "code",
   "execution_count": 55,
   "id": "e366c226",
   "metadata": {},
   "outputs": [],
   "source": [
    "result = bf.q.namedStructures().answer().frame()"
   ]
  },
  {
   "cell_type": "markdown",
   "id": "3ddc8655",
   "metadata": {},
   "source": [
    "###### **Return Value**"
   ]
  },
  {
   "cell_type": "markdown",
   "id": "5a1a14ab",
   "metadata": {},
   "source": [
    "Name | Description | Type\n",
    "--- | --- | ---\n",
    "Node | Node | str\n",
    "Structure_Type | Structure type | str\n",
    "Structure_Name | Structure name | str\n",
    "Structure_Definition | Structure definition | dict"
   ]
  },
  {
   "cell_type": "markdown",
   "id": "5c9385fe",
   "metadata": {},
   "source": [
    "Print the first 5 rows of the returned Dataframe"
   ]
  },
  {
   "cell_type": "code",
   "execution_count": 56,
   "id": "6c715a92",
   "metadata": {},
   "outputs": [
    {
     "data": {
      "text/html": [
       "<div>\n",
       "<style scoped>\n",
       "    .dataframe tbody tr th:only-of-type {\n",
       "        vertical-align: middle;\n",
       "    }\n",
       "\n",
       "    .dataframe tbody tr th {\n",
       "        vertical-align: top;\n",
       "    }\n",
       "\n",
       "    .dataframe thead th {\n",
       "        text-align: right;\n",
       "    }\n",
       "</style>\n",
       "<table border=\"1\" class=\"dataframe\">\n",
       "  <thead>\n",
       "    <tr style=\"text-align: right;\">\n",
       "      <th></th>\n",
       "      <th>Node</th>\n",
       "      <th>Structure_Type</th>\n",
       "      <th>Structure_Name</th>\n",
       "      <th>Structure_Definition</th>\n",
       "    </tr>\n",
       "  </thead>\n",
       "  <tbody>\n",
       "    <tr>\n",
       "      <th>0</th>\n",
       "      <td>as1border1</td>\n",
       "      <td>Community_Set_Match_Expr</td>\n",
       "      <td>as1_community</td>\n",
       "      <td>{'expr': {'class': 'org.batfish.datamodel.routing_policy.communities.CommunityMatchRegex', 'communityRendering': {'class': 'org.batfish.datamodel.routing_policy.communities.ColonSeparatedRendering'}, 'regex': '(,|\\{|\\}|^|$| )1:'}}</td>\n",
       "    </tr>\n",
       "    <tr>\n",
       "      <th>1</th>\n",
       "      <td>as1border2</td>\n",
       "      <td>Community_Set_Match_Expr</td>\n",
       "      <td>as1_community</td>\n",
       "      <td>{'expr': {'class': 'org.batfish.datamodel.routing_policy.communities.CommunityMatchRegex', 'communityRendering': {'class': 'org.batfish.datamodel.routing_policy.communities.ColonSeparatedRendering'}, 'regex': '(,|\\{|\\}|^|$| )1:'}}</td>\n",
       "    </tr>\n",
       "    <tr>\n",
       "      <th>2</th>\n",
       "      <td>as2border1</td>\n",
       "      <td>Community_Set_Match_Expr</td>\n",
       "      <td>as1_community</td>\n",
       "      <td>{'expr': {'class': 'org.batfish.datamodel.routing_policy.communities.CommunityMatchRegex', 'communityRendering': {'class': 'org.batfish.datamodel.routing_policy.communities.ColonSeparatedRendering'}, 'regex': '(,|\\{|\\}|^|$| )1:'}}</td>\n",
       "    </tr>\n",
       "    <tr>\n",
       "      <th>3</th>\n",
       "      <td>as2border2</td>\n",
       "      <td>Community_Set_Match_Expr</td>\n",
       "      <td>as1_community</td>\n",
       "      <td>{'expr': {'class': 'org.batfish.datamodel.routing_policy.communities.CommunityMatchRegex', 'communityRendering': {'class': 'org.batfish.datamodel.routing_policy.communities.ColonSeparatedRendering'}, 'regex': '(,|\\{|\\}|^|$| )1:'}}</td>\n",
       "    </tr>\n",
       "    <tr>\n",
       "      <th>4</th>\n",
       "      <td>as3border1</td>\n",
       "      <td>Community_Set_Match_Expr</td>\n",
       "      <td>as1_community</td>\n",
       "      <td>{'expr': {'class': 'org.batfish.datamodel.routing_policy.communities.CommunityMatchRegex', 'communityRendering': {'class': 'org.batfish.datamodel.routing_policy.communities.ColonSeparatedRendering'}, 'regex': '(,|\\{|\\}|^|$| )1:'}}</td>\n",
       "    </tr>\n",
       "  </tbody>\n",
       "</table>\n",
       "</div>"
      ],
      "text/plain": [
       "         Node            Structure_Type Structure_Name                                                                                                                                                                                                                    Structure_Definition\n",
       "0  as1border1  Community_Set_Match_Expr  as1_community  {'expr': {'class': 'org.batfish.datamodel.routing_policy.communities.CommunityMatchRegex', 'communityRendering': {'class': 'org.batfish.datamodel.routing_policy.communities.ColonSeparatedRendering'}, 'regex': '(,|\\{|\\}|^|$| )1:'}}\n",
       "1  as1border2  Community_Set_Match_Expr  as1_community  {'expr': {'class': 'org.batfish.datamodel.routing_policy.communities.CommunityMatchRegex', 'communityRendering': {'class': 'org.batfish.datamodel.routing_policy.communities.ColonSeparatedRendering'}, 'regex': '(,|\\{|\\}|^|$| )1:'}}\n",
       "2  as2border1  Community_Set_Match_Expr  as1_community  {'expr': {'class': 'org.batfish.datamodel.routing_policy.communities.CommunityMatchRegex', 'communityRendering': {'class': 'org.batfish.datamodel.routing_policy.communities.ColonSeparatedRendering'}, 'regex': '(,|\\{|\\}|^|$| )1:'}}\n",
       "3  as2border2  Community_Set_Match_Expr  as1_community  {'expr': {'class': 'org.batfish.datamodel.routing_policy.communities.CommunityMatchRegex', 'communityRendering': {'class': 'org.batfish.datamodel.routing_policy.communities.ColonSeparatedRendering'}, 'regex': '(,|\\{|\\}|^|$| )1:'}}\n",
       "4  as3border1  Community_Set_Match_Expr  as1_community  {'expr': {'class': 'org.batfish.datamodel.routing_policy.communities.CommunityMatchRegex', 'communityRendering': {'class': 'org.batfish.datamodel.routing_policy.communities.ColonSeparatedRendering'}, 'regex': '(,|\\{|\\}|^|$| )1:'}}"
      ]
     },
     "execution_count": 56,
     "metadata": {},
     "output_type": "execute_result"
    }
   ],
   "source": [
    "result.head(5)"
   ]
  },
  {
   "cell_type": "markdown",
   "id": "f6f0fa86",
   "metadata": {},
   "source": [
    "Print the first row of the returned Dataframe"
   ]
  },
  {
   "cell_type": "code",
   "execution_count": 57,
   "id": "511abee8",
   "metadata": {},
   "outputs": [
    {
     "data": {
      "text/plain": [
       "Node                                                                                                                                                                                                                                                as1border1\n",
       "Structure_Type                                                                                                                                                                                                                        Community_Set_Match_Expr\n",
       "Structure_Name                                                                                                                                                                                                                                   as1_community\n",
       "Structure_Definition    {'expr': {'class': 'org.batfish.datamodel.routing_policy.communities.CommunityMatchRegex', 'communityRendering': {'class': 'org.batfish.datamodel.routing_policy.communities.ColonSeparatedRendering'}, 'regex': '(,|\\{|\\}|^|$| )1:'}}\n",
       "Name: 0, dtype: object"
      ]
     },
     "execution_count": 57,
     "metadata": {},
     "output_type": "execute_result"
    }
   ],
   "source": [
    "result.iloc[0]"
   ]
  },
  {
   "cell_type": "code",
   "execution_count": 58,
   "id": "6ba4197b",
   "metadata": {
    "nbsphinx": "hidden"
   },
   "outputs": [
    {
     "data": {
      "text/plain": [
       "'generate_questions'"
      ]
     },
     "execution_count": 58,
     "metadata": {},
     "output_type": "execute_result"
    }
   ],
   "source": [
    "bf.set_network('generate_questions')"
   ]
  },
  {
   "cell_type": "code",
   "execution_count": 59,
   "id": "92f65dcd",
   "metadata": {
    "nbsphinx": "hidden"
   },
   "outputs": [
    {
     "data": {
      "text/plain": [
       "'generate_questions'"
      ]
     },
     "execution_count": 59,
     "metadata": {},
     "output_type": "execute_result"
    }
   ],
   "source": [
    "bf.set_snapshot('generate_questions')"
   ]
  },
  {
   "cell_type": "markdown",
   "id": "4677bda3",
   "metadata": {},
   "source": [
    "##### Defined Structures"
   ]
  },
  {
   "cell_type": "markdown",
   "id": "6b2d6c68",
   "metadata": {},
   "source": [
    "Lists the structures defined in the network."
   ]
  },
  {
   "cell_type": "markdown",
   "id": "b5bb8801",
   "metadata": {},
   "source": [
    "Lists the structures defined in the network, along with the files and line numbers in which they are defined."
   ]
  },
  {
   "cell_type": "markdown",
   "id": "4520cf06",
   "metadata": {},
   "source": [
    "###### **Inputs**"
   ]
  },
  {
   "cell_type": "markdown",
   "id": "1bc09ddc",
   "metadata": {},
   "source": [
    "Name | Description | Type | Optional | Default Value\n",
    "--- | --- | --- | --- | --- \n",
    "filename | Include structures defined in the given file. | str | True | \n",
    "nodes | Include files used to generate nodes whose name matches this specifier. | [NodeSpec](../specifiers.md#node-specifier) | True | .*\n",
    "names | Include structures whose name matches this string or regex. | str | True | .*\n",
    "types | Include structures whose vendor-specific type matches this string or regex. | str | True | .*"
   ]
  },
  {
   "cell_type": "markdown",
   "id": "ed7040ab",
   "metadata": {},
   "source": [
    "###### **Invocation**"
   ]
  },
  {
   "cell_type": "code",
   "execution_count": 60,
   "id": "8ec9f130",
   "metadata": {},
   "outputs": [],
   "source": [
    "result = bf.q.definedStructures().answer().frame()"
   ]
  },
  {
   "cell_type": "markdown",
   "id": "c2d7aa09",
   "metadata": {},
   "source": [
    "###### **Return Value**"
   ]
  },
  {
   "cell_type": "markdown",
   "id": "90b12956",
   "metadata": {},
   "source": [
    "Name | Description | Type\n",
    "--- | --- | ---\n",
    "Structure_Type | Vendor-specific type of the structure | str\n",
    "Structure_Name | Name of the structure | str\n",
    "Source_Lines | File and line numbers where the structure is defined | [FileLines](../datamodel.rst#pybatfish.datamodel.primitives.FileLines)"
   ]
  },
  {
   "cell_type": "markdown",
   "id": "fa1e654f",
   "metadata": {},
   "source": [
    "Print the first 5 rows of the returned Dataframe"
   ]
  },
  {
   "cell_type": "code",
   "execution_count": 61,
   "id": "4ad9336d",
   "metadata": {},
   "outputs": [
    {
     "data": {
      "text/html": [
       "<div>\n",
       "<style scoped>\n",
       "    .dataframe tbody tr th:only-of-type {\n",
       "        vertical-align: middle;\n",
       "    }\n",
       "\n",
       "    .dataframe tbody tr th {\n",
       "        vertical-align: top;\n",
       "    }\n",
       "\n",
       "    .dataframe thead th {\n",
       "        text-align: right;\n",
       "    }\n",
       "</style>\n",
       "<table border=\"1\" class=\"dataframe\">\n",
       "  <thead>\n",
       "    <tr style=\"text-align: right;\">\n",
       "      <th></th>\n",
       "      <th>Structure_Type</th>\n",
       "      <th>Structure_Name</th>\n",
       "      <th>Source_Lines</th>\n",
       "    </tr>\n",
       "  </thead>\n",
       "  <tbody>\n",
       "    <tr>\n",
       "      <th>0</th>\n",
       "      <td>extended ipv4 access-list line</td>\n",
       "      <td>OUTSIDE_TO_INSIDE: permit ip any any</td>\n",
       "      <td>configs/as2border1.cfg:[137]</td>\n",
       "    </tr>\n",
       "    <tr>\n",
       "      <th>1</th>\n",
       "      <td>extended ipv4 access-list line</td>\n",
       "      <td>blocktelnet: deny   tcp any any eq telnet</td>\n",
       "      <td>configs/as2core1.cfg:[122]</td>\n",
       "    </tr>\n",
       "    <tr>\n",
       "      <th>2</th>\n",
       "      <td>interface</td>\n",
       "      <td>GigabitEthernet1/0</td>\n",
       "      <td>configs/as1core1.cfg:[69, 70, 71]</td>\n",
       "    </tr>\n",
       "    <tr>\n",
       "      <th>3</th>\n",
       "      <td>route-map-clause</td>\n",
       "      <td>as3_to_as2 1</td>\n",
       "      <td>configs/as3border1.cfg:[146, 147, 148, 149]</td>\n",
       "    </tr>\n",
       "    <tr>\n",
       "      <th>4</th>\n",
       "      <td>extended ipv4 access-list</td>\n",
       "      <td>101</td>\n",
       "      <td>configs/as2border2.cfg:[140, 141]</td>\n",
       "    </tr>\n",
       "  </tbody>\n",
       "</table>\n",
       "</div>"
      ],
      "text/plain": [
       "                   Structure_Type                             Structure_Name                                 Source_Lines\n",
       "0  extended ipv4 access-list line       OUTSIDE_TO_INSIDE: permit ip any any                 configs/as2border1.cfg:[137]\n",
       "1  extended ipv4 access-list line  blocktelnet: deny   tcp any any eq telnet                   configs/as2core1.cfg:[122]\n",
       "2                       interface                         GigabitEthernet1/0            configs/as1core1.cfg:[69, 70, 71]\n",
       "3                route-map-clause                               as3_to_as2 1  configs/as3border1.cfg:[146, 147, 148, 149]\n",
       "4       extended ipv4 access-list                                        101            configs/as2border2.cfg:[140, 141]"
      ]
     },
     "execution_count": 61,
     "metadata": {},
     "output_type": "execute_result"
    }
   ],
   "source": [
    "result.head(5)"
   ]
  },
  {
   "cell_type": "markdown",
   "id": "22151fa1",
   "metadata": {},
   "source": [
    "Print the first row of the returned Dataframe"
   ]
  },
  {
   "cell_type": "code",
   "execution_count": 62,
   "id": "09560dc2",
   "metadata": {},
   "outputs": [
    {
     "data": {
      "text/plain": [
       "Structure_Type          extended ipv4 access-list line\n",
       "Structure_Name    OUTSIDE_TO_INSIDE: permit ip any any\n",
       "Source_Lines              configs/as2border1.cfg:[137]\n",
       "Name: 0, dtype: object"
      ]
     },
     "execution_count": 62,
     "metadata": {},
     "output_type": "execute_result"
    }
   ],
   "source": [
    "result.iloc[0]"
   ]
  },
  {
   "cell_type": "code",
   "execution_count": 63,
   "id": "d5d6b844",
   "metadata": {
    "nbsphinx": "hidden"
   },
   "outputs": [
    {
     "data": {
      "text/plain": [
       "'generate_questions'"
      ]
     },
     "execution_count": 63,
     "metadata": {},
     "output_type": "execute_result"
    }
   ],
   "source": [
    "bf.set_network('generate_questions')"
   ]
  },
  {
   "cell_type": "code",
   "execution_count": 64,
   "id": "94104175",
   "metadata": {
    "nbsphinx": "hidden"
   },
   "outputs": [
    {
     "data": {
      "text/plain": [
       "'generate_questions'"
      ]
     },
     "execution_count": 64,
     "metadata": {},
     "output_type": "execute_result"
    }
   ],
   "source": [
    "bf.set_snapshot('generate_questions')"
   ]
  },
  {
   "cell_type": "markdown",
   "id": "44d8798b",
   "metadata": {},
   "source": [
    "##### Referenced Structures"
   ]
  },
  {
   "cell_type": "markdown",
   "id": "ed36d8bd",
   "metadata": {},
   "source": [
    "Lists the references in configuration files to vendor-specific structures."
   ]
  },
  {
   "cell_type": "markdown",
   "id": "8daf7dc0",
   "metadata": {},
   "source": [
    "Lists the references in configuration files to vendor-specific structures, along with the line number, the name and the type of the structure referenced, and configuration context in which each reference occurs."
   ]
  },
  {
   "cell_type": "markdown",
   "id": "9886c4f7",
   "metadata": {},
   "source": [
    "###### **Inputs**"
   ]
  },
  {
   "cell_type": "markdown",
   "id": "d0f57d7a",
   "metadata": {},
   "source": [
    "Name | Description | Type | Optional | Default Value\n",
    "--- | --- | --- | --- | --- \n",
    "nodes | Include files used to generate nodes whose name matches this specifier. | [NodeSpec](../specifiers.md#node-specifier) | True | \n",
    "names | Include structures whose name matches this string or regex. | str | True | \n",
    "types | Include structures whose vendor-specific type matches this string or regex. | str | True | "
   ]
  },
  {
   "cell_type": "markdown",
   "id": "13122930",
   "metadata": {},
   "source": [
    "###### **Invocation**"
   ]
  },
  {
   "cell_type": "code",
   "execution_count": 65,
   "id": "ae1ac94e",
   "metadata": {},
   "outputs": [],
   "source": [
    "result = bf.q.referencedStructures().answer().frame()"
   ]
  },
  {
   "cell_type": "markdown",
   "id": "724792ee",
   "metadata": {},
   "source": [
    "###### **Return Value**"
   ]
  },
  {
   "cell_type": "markdown",
   "id": "2ac8eeb2",
   "metadata": {},
   "source": [
    "Name | Description | Type\n",
    "--- | --- | ---\n",
    "Structure_Type | Type of structure referenced | str\n",
    "Structure_Name | The referenced structure | str\n",
    "Context | Configuration context in which the reference appears | str\n",
    "Source_Lines | Lines where reference appears | [FileLines](../datamodel.rst#pybatfish.datamodel.primitives.FileLines)"
   ]
  },
  {
   "cell_type": "markdown",
   "id": "a7ada371",
   "metadata": {},
   "source": [
    "Print the first 5 rows of the returned Dataframe"
   ]
  },
  {
   "cell_type": "code",
   "execution_count": 66,
   "id": "2d70786d",
   "metadata": {},
   "outputs": [
    {
     "data": {
      "text/html": [
       "<div>\n",
       "<style scoped>\n",
       "    .dataframe tbody tr th:only-of-type {\n",
       "        vertical-align: middle;\n",
       "    }\n",
       "\n",
       "    .dataframe tbody tr th {\n",
       "        vertical-align: top;\n",
       "    }\n",
       "\n",
       "    .dataframe thead th {\n",
       "        text-align: right;\n",
       "    }\n",
       "</style>\n",
       "<table border=\"1\" class=\"dataframe\">\n",
       "  <thead>\n",
       "    <tr style=\"text-align: right;\">\n",
       "      <th></th>\n",
       "      <th>Structure_Type</th>\n",
       "      <th>Structure_Name</th>\n",
       "      <th>Context</th>\n",
       "      <th>Source_Lines</th>\n",
       "    </tr>\n",
       "  </thead>\n",
       "  <tbody>\n",
       "    <tr>\n",
       "      <th>0</th>\n",
       "      <td>bgp neighbor</td>\n",
       "      <td>1.10.1.1 (VRF default)</td>\n",
       "      <td>bgp neighbor self ref</td>\n",
       "      <td>configs/as1border1.cfg:[92, 111]</td>\n",
       "    </tr>\n",
       "    <tr>\n",
       "      <th>1</th>\n",
       "      <td>bgp neighbor</td>\n",
       "      <td>10.12.11.2 (VRF default)</td>\n",
       "      <td>bgp neighbor self ref</td>\n",
       "      <td>configs/as1border1.cfg:[114]</td>\n",
       "    </tr>\n",
       "    <tr>\n",
       "      <th>2</th>\n",
       "      <td>bgp neighbor</td>\n",
       "      <td>3.2.2.2 (VRF default)</td>\n",
       "      <td>bgp neighbor self ref</td>\n",
       "      <td>configs/as1border1.cfg:[112]</td>\n",
       "    </tr>\n",
       "    <tr>\n",
       "      <th>3</th>\n",
       "      <td>bgp neighbor</td>\n",
       "      <td>5.6.7.8 (VRF default)</td>\n",
       "      <td>bgp neighbor self ref</td>\n",
       "      <td>configs/as1border1.cfg:[113]</td>\n",
       "    </tr>\n",
       "    <tr>\n",
       "      <th>4</th>\n",
       "      <td>bgp peer-group</td>\n",
       "      <td>as1</td>\n",
       "      <td>bgp neighbor peer-group</td>\n",
       "      <td>configs/as1border1.cfg:[91]</td>\n",
       "    </tr>\n",
       "  </tbody>\n",
       "</table>\n",
       "</div>"
      ],
      "text/plain": [
       "   Structure_Type            Structure_Name                  Context                      Source_Lines\n",
       "0    bgp neighbor    1.10.1.1 (VRF default)    bgp neighbor self ref  configs/as1border1.cfg:[92, 111]\n",
       "1    bgp neighbor  10.12.11.2 (VRF default)    bgp neighbor self ref      configs/as1border1.cfg:[114]\n",
       "2    bgp neighbor     3.2.2.2 (VRF default)    bgp neighbor self ref      configs/as1border1.cfg:[112]\n",
       "3    bgp neighbor     5.6.7.8 (VRF default)    bgp neighbor self ref      configs/as1border1.cfg:[113]\n",
       "4  bgp peer-group                       as1  bgp neighbor peer-group       configs/as1border1.cfg:[91]"
      ]
     },
     "execution_count": 66,
     "metadata": {},
     "output_type": "execute_result"
    }
   ],
   "source": [
    "result.head(5)"
   ]
  },
  {
   "cell_type": "markdown",
   "id": "c07ec0ad",
   "metadata": {},
   "source": [
    "Print the first row of the returned Dataframe"
   ]
  },
  {
   "cell_type": "code",
   "execution_count": 67,
   "id": "38d93e83",
   "metadata": {},
   "outputs": [
    {
     "data": {
      "text/plain": [
       "Structure_Type                        bgp neighbor\n",
       "Structure_Name              1.10.1.1 (VRF default)\n",
       "Context                      bgp neighbor self ref\n",
       "Source_Lines      configs/as1border1.cfg:[92, 111]\n",
       "Name: 0, dtype: object"
      ]
     },
     "execution_count": 67,
     "metadata": {},
     "output_type": "execute_result"
    }
   ],
   "source": [
    "result.iloc[0]"
   ]
  },
  {
   "cell_type": "code",
   "execution_count": 68,
   "id": "7fea28cc",
   "metadata": {
    "nbsphinx": "hidden"
   },
   "outputs": [
    {
     "data": {
      "text/plain": [
       "'generate_questions'"
      ]
     },
     "execution_count": 68,
     "metadata": {},
     "output_type": "execute_result"
    }
   ],
   "source": [
    "bf.set_network('generate_questions')"
   ]
  },
  {
   "cell_type": "code",
   "execution_count": 69,
   "id": "8e09aae4",
   "metadata": {
    "nbsphinx": "hidden"
   },
   "outputs": [
    {
     "data": {
      "text/plain": [
       "'generate_questions'"
      ]
     },
     "execution_count": 69,
     "metadata": {},
     "output_type": "execute_result"
    }
   ],
   "source": [
    "bf.set_snapshot('generate_questions')"
   ]
  },
  {
   "cell_type": "markdown",
   "id": "5aefffb9",
   "metadata": {},
   "source": [
    "##### Undefined References"
   ]
  },
  {
   "cell_type": "markdown",
   "id": "cec3a97e",
   "metadata": {},
   "source": [
    "Identifies undefined references in configuration."
   ]
  },
  {
   "cell_type": "markdown",
   "id": "eaed5bf5",
   "metadata": {},
   "source": [
    "Finds configurations that have references to named structures (e.g., ACLs) that are not defined. Such occurrences indicate errors and can have serious consequences in some cases."
   ]
  },
  {
   "cell_type": "markdown",
   "id": "e5ef62fc",
   "metadata": {},
   "source": [
    "###### **Inputs**"
   ]
  },
  {
   "cell_type": "markdown",
   "id": "4a838d1f",
   "metadata": {},
   "source": [
    "Name | Description | Type | Optional | Default Value\n",
    "--- | --- | --- | --- | --- \n",
    "nodes | Look for undefined references on nodes matching this name or regex. | [NodeSpec](../specifiers.md#node-specifier) | True | .*"
   ]
  },
  {
   "cell_type": "markdown",
   "id": "749781cf",
   "metadata": {},
   "source": [
    "###### **Invocation**"
   ]
  },
  {
   "cell_type": "code",
   "execution_count": 70,
   "id": "c93e5ff8",
   "metadata": {},
   "outputs": [],
   "source": [
    "result = bf.q.undefinedReferences().answer().frame()"
   ]
  },
  {
   "cell_type": "markdown",
   "id": "5132a335",
   "metadata": {},
   "source": [
    "###### **Return Value**"
   ]
  },
  {
   "cell_type": "markdown",
   "id": "fadc9f21",
   "metadata": {},
   "source": [
    "Name | Description | Type\n",
    "--- | --- | ---\n",
    "File_Name | File containing reference | str\n",
    "Struct_Type | Type of struct reference is supposed to be | str\n",
    "Ref_Name | The undefined reference | str\n",
    "Context | Context of undefined reference | str\n",
    "Lines | Lines where reference appears | [FileLines](../datamodel.rst#pybatfish.datamodel.primitives.FileLines)"
   ]
  },
  {
   "cell_type": "markdown",
   "id": "136b1b52",
   "metadata": {},
   "source": [
    "Print the first 5 rows of the returned Dataframe"
   ]
  },
  {
   "cell_type": "code",
   "execution_count": 71,
   "id": "844dd8aa",
   "metadata": {},
   "outputs": [
    {
     "data": {
      "text/html": [
       "<div>\n",
       "<style scoped>\n",
       "    .dataframe tbody tr th:only-of-type {\n",
       "        vertical-align: middle;\n",
       "    }\n",
       "\n",
       "    .dataframe tbody tr th {\n",
       "        vertical-align: top;\n",
       "    }\n",
       "\n",
       "    .dataframe thead th {\n",
       "        text-align: right;\n",
       "    }\n",
       "</style>\n",
       "<table border=\"1\" class=\"dataframe\">\n",
       "  <thead>\n",
       "    <tr style=\"text-align: right;\">\n",
       "      <th></th>\n",
       "      <th>File_Name</th>\n",
       "      <th>Struct_Type</th>\n",
       "      <th>Ref_Name</th>\n",
       "      <th>Context</th>\n",
       "      <th>Lines</th>\n",
       "    </tr>\n",
       "  </thead>\n",
       "  <tbody>\n",
       "    <tr>\n",
       "      <th>0</th>\n",
       "      <td>configs/as2core2.cfg</td>\n",
       "      <td>route-map</td>\n",
       "      <td>filter-bogons</td>\n",
       "      <td>bgp inbound route-map</td>\n",
       "      <td>configs/as2core2.cfg:[110]</td>\n",
       "    </tr>\n",
       "  </tbody>\n",
       "</table>\n",
       "</div>"
      ],
      "text/plain": [
       "              File_Name Struct_Type       Ref_Name                Context                       Lines\n",
       "0  configs/as2core2.cfg   route-map  filter-bogons  bgp inbound route-map  configs/as2core2.cfg:[110]"
      ]
     },
     "execution_count": 71,
     "metadata": {},
     "output_type": "execute_result"
    }
   ],
   "source": [
    "result.head(5)"
   ]
  },
  {
   "cell_type": "markdown",
   "id": "d33a2f81",
   "metadata": {},
   "source": [
    "Print the first row of the returned Dataframe"
   ]
  },
  {
   "cell_type": "code",
   "execution_count": 72,
   "id": "5d6ae31c",
   "metadata": {},
   "outputs": [
    {
     "data": {
      "text/plain": [
       "File_Name            configs/as2core2.cfg\n",
       "Struct_Type                     route-map\n",
       "Ref_Name                    filter-bogons\n",
       "Context             bgp inbound route-map\n",
       "Lines          configs/as2core2.cfg:[110]\n",
       "Name: 0, dtype: object"
      ]
     },
     "execution_count": 72,
     "metadata": {},
     "output_type": "execute_result"
    }
   ],
   "source": [
    "result.iloc[0]"
   ]
  },
  {
   "cell_type": "code",
   "execution_count": 73,
   "id": "905fcd6f",
   "metadata": {
    "nbsphinx": "hidden"
   },
   "outputs": [
    {
     "data": {
      "text/plain": [
       "'generate_questions'"
      ]
     },
     "execution_count": 73,
     "metadata": {},
     "output_type": "execute_result"
    }
   ],
   "source": [
    "bf.set_network('generate_questions')"
   ]
  },
  {
   "cell_type": "code",
   "execution_count": 74,
   "id": "744c432d",
   "metadata": {
    "nbsphinx": "hidden"
   },
   "outputs": [
    {
     "data": {
      "text/plain": [
       "'generate_questions'"
      ]
     },
     "execution_count": 74,
     "metadata": {},
     "output_type": "execute_result"
    }
   ],
   "source": [
    "bf.set_snapshot('generate_questions')"
   ]
  },
  {
   "cell_type": "markdown",
   "id": "80be9685",
   "metadata": {},
   "source": [
    "##### Unused Structures"
   ]
  },
  {
   "cell_type": "markdown",
   "id": "d44a9c44",
   "metadata": {},
   "source": [
    "Returns nodes with structures such as ACLs, routemaps, etc. that are defined but not used."
   ]
  },
  {
   "cell_type": "markdown",
   "id": "9d2c9d63",
   "metadata": {},
   "source": [
    "Return nodes with structures such as ACLs, routes, etc. that are defined but not used. This may represent a bug in the configuration, which may have occurred because a final step in a template or MOP was not completed. Or it could be harmless extra configuration generated from a master template that is not meant to be used on those nodes."
   ]
  },
  {
   "cell_type": "markdown",
   "id": "0424e242",
   "metadata": {},
   "source": [
    "###### **Inputs**"
   ]
  },
  {
   "cell_type": "markdown",
   "id": "b304159f",
   "metadata": {},
   "source": [
    "Name | Description | Type | Optional | Default Value\n",
    "--- | --- | --- | --- | --- \n",
    "nodes | Look for unused structures on nodes matching this name or regex. | [NodeSpec](../specifiers.md#node-specifier) | True | .*"
   ]
  },
  {
   "cell_type": "markdown",
   "id": "12270072",
   "metadata": {},
   "source": [
    "###### **Invocation**"
   ]
  },
  {
   "cell_type": "code",
   "execution_count": 75,
   "id": "b05ca726",
   "metadata": {},
   "outputs": [],
   "source": [
    "result = bf.q.unusedStructures().answer().frame()"
   ]
  },
  {
   "cell_type": "markdown",
   "id": "f6678911",
   "metadata": {},
   "source": [
    "###### **Return Value**"
   ]
  },
  {
   "cell_type": "markdown",
   "id": "f5b61d58",
   "metadata": {},
   "source": [
    "Name | Description | Type\n",
    "--- | --- | ---\n",
    "Structure_Type | Vendor-specific type of the structure | str\n",
    "Structure_Name | Name of the structure | str\n",
    "Source_Lines | File and line numbers where the structure is defined | [FileLines](../datamodel.rst#pybatfish.datamodel.primitives.FileLines)"
   ]
  },
  {
   "cell_type": "markdown",
   "id": "ed5fe55e",
   "metadata": {},
   "source": [
    "Print the first 5 rows of the returned Dataframe"
   ]
  },
  {
   "cell_type": "code",
   "execution_count": 76,
   "id": "74e375b5",
   "metadata": {},
   "outputs": [
    {
     "data": {
      "text/html": [
       "<div>\n",
       "<style scoped>\n",
       "    .dataframe tbody tr th:only-of-type {\n",
       "        vertical-align: middle;\n",
       "    }\n",
       "\n",
       "    .dataframe tbody tr th {\n",
       "        vertical-align: top;\n",
       "    }\n",
       "\n",
       "    .dataframe thead th {\n",
       "        text-align: right;\n",
       "    }\n",
       "</style>\n",
       "<table border=\"1\" class=\"dataframe\">\n",
       "  <thead>\n",
       "    <tr style=\"text-align: right;\">\n",
       "      <th></th>\n",
       "      <th>Structure_Type</th>\n",
       "      <th>Structure_Name</th>\n",
       "      <th>Source_Lines</th>\n",
       "    </tr>\n",
       "  </thead>\n",
       "  <tbody>\n",
       "    <tr>\n",
       "      <th>0</th>\n",
       "      <td>bgp peer-group</td>\n",
       "      <td>as3</td>\n",
       "      <td>configs/as1border1.cfg:[85]</td>\n",
       "    </tr>\n",
       "    <tr>\n",
       "      <th>1</th>\n",
       "      <td>expanded community-list</td>\n",
       "      <td>as1_community</td>\n",
       "      <td>configs/as1border1.cfg:[121]</td>\n",
       "    </tr>\n",
       "    <tr>\n",
       "      <th>2</th>\n",
       "      <td>ipv4 prefix-list</td>\n",
       "      <td>inbound_route_filter</td>\n",
       "      <td>configs/as1border1.cfg:[131, 132]</td>\n",
       "    </tr>\n",
       "    <tr>\n",
       "      <th>3</th>\n",
       "      <td>bgp peer-group</td>\n",
       "      <td>as2</td>\n",
       "      <td>configs/as1border2.cfg:[87]</td>\n",
       "    </tr>\n",
       "    <tr>\n",
       "      <th>4</th>\n",
       "      <td>expanded community-list</td>\n",
       "      <td>as1_community</td>\n",
       "      <td>configs/as1border2.cfg:[123]</td>\n",
       "    </tr>\n",
       "  </tbody>\n",
       "</table>\n",
       "</div>"
      ],
      "text/plain": [
       "            Structure_Type        Structure_Name                       Source_Lines\n",
       "0           bgp peer-group                   as3        configs/as1border1.cfg:[85]\n",
       "1  expanded community-list         as1_community       configs/as1border1.cfg:[121]\n",
       "2         ipv4 prefix-list  inbound_route_filter  configs/as1border1.cfg:[131, 132]\n",
       "3           bgp peer-group                   as2        configs/as1border2.cfg:[87]\n",
       "4  expanded community-list         as1_community       configs/as1border2.cfg:[123]"
      ]
     },
     "execution_count": 76,
     "metadata": {},
     "output_type": "execute_result"
    }
   ],
   "source": [
    "result.head(5)"
   ]
  },
  {
   "cell_type": "markdown",
   "id": "63d72a27",
   "metadata": {},
   "source": [
    "Print the first row of the returned Dataframe"
   ]
  },
  {
   "cell_type": "code",
   "execution_count": 77,
   "id": "7011d806",
   "metadata": {},
   "outputs": [
    {
     "data": {
      "text/plain": [
       "Structure_Type                 bgp peer-group\n",
       "Structure_Name                            as3\n",
       "Source_Lines      configs/as1border1.cfg:[85]\n",
       "Name: 0, dtype: object"
      ]
     },
     "execution_count": 77,
     "metadata": {},
     "output_type": "execute_result"
    }
   ],
   "source": [
    "result.iloc[0]"
   ]
  },
  {
   "cell_type": "code",
   "execution_count": 78,
   "id": "ef8a6f60",
   "metadata": {
    "nbsphinx": "hidden"
   },
   "outputs": [
    {
     "data": {
      "text/plain": [
       "'generate_questions'"
      ]
     },
     "execution_count": 78,
     "metadata": {},
     "output_type": "execute_result"
    }
   ],
   "source": [
    "bf.set_network('generate_questions')"
   ]
  },
  {
   "cell_type": "code",
   "execution_count": 79,
   "id": "132c3439",
   "metadata": {
    "nbsphinx": "hidden"
   },
   "outputs": [
    {
     "data": {
      "text/plain": [
       "'aristaevpn'"
      ]
     },
     "execution_count": 79,
     "metadata": {},
     "output_type": "execute_result"
    }
   ],
   "source": [
    "bf.set_snapshot('aristaevpn')"
   ]
  },
  {
   "cell_type": "markdown",
   "id": "b5451109",
   "metadata": {},
   "source": [
    "##### VLAN Properties"
   ]
  },
  {
   "cell_type": "markdown",
   "id": "c41be816",
   "metadata": {},
   "source": [
    "Returns configuration settings of switched VLANs."
   ]
  },
  {
   "cell_type": "markdown",
   "id": "7b5ca431",
   "metadata": {},
   "source": [
    "Lists information about implicitly and explicitly configured switched VLANs."
   ]
  },
  {
   "cell_type": "markdown",
   "id": "f73211c6",
   "metadata": {},
   "source": [
    "###### **Inputs**"
   ]
  },
  {
   "cell_type": "markdown",
   "id": "2a8f1e2f",
   "metadata": {},
   "source": [
    "Name | Description | Type | Optional | Default Value\n",
    "--- | --- | --- | --- | --- \n",
    "nodes | Include nodes matching this specifier. | [NodeSpec](../specifiers.md#node-specifier) | True | \n",
    "interfaces | Include interfaces matching this specifier. | [InterfaceSpec](../specifiers.md#interface-specifier) | True | \n",
    "vlans | Include VLANs in this space. | str | True | \n",
    "excludeShutInterfaces | Exclude interfaces that are shutdown. | bool | True | "
   ]
  },
  {
   "cell_type": "markdown",
   "id": "7ffd28f6",
   "metadata": {},
   "source": [
    "###### **Invocation**"
   ]
  },
  {
   "cell_type": "code",
   "execution_count": 80,
   "id": "2b529199",
   "metadata": {},
   "outputs": [],
   "source": [
    "result = bf.q.switchedVlanProperties().answer().frame()"
   ]
  },
  {
   "cell_type": "markdown",
   "id": "eab17928",
   "metadata": {},
   "source": [
    "###### **Return Value**"
   ]
  },
  {
   "cell_type": "markdown",
   "id": "0b4755ff",
   "metadata": {},
   "source": [
    "Name | Description | Type\n",
    "--- | --- | ---\n",
    "Node | Node | str\n",
    "VLAN_ID | VLAN_ID | int\n",
    "Interfaces | Switched interfaces carrying traffic for this VLAN | Set of [Interface](../datamodel.rst#pybatfish.datamodel.primitives.Interface)\n",
    "VXLAN_VNI | VXLAN VNI with which this VLAN is associated | int"
   ]
  },
  {
   "cell_type": "markdown",
   "id": "5b3793db",
   "metadata": {},
   "source": [
    "Print the first 5 rows of the returned Dataframe"
   ]
  },
  {
   "cell_type": "code",
   "execution_count": 81,
   "id": "3efb9be6",
   "metadata": {},
   "outputs": [
    {
     "data": {
      "text/html": [
       "<div>\n",
       "<style scoped>\n",
       "    .dataframe tbody tr th:only-of-type {\n",
       "        vertical-align: middle;\n",
       "    }\n",
       "\n",
       "    .dataframe tbody tr th {\n",
       "        vertical-align: top;\n",
       "    }\n",
       "\n",
       "    .dataframe thead th {\n",
       "        text-align: right;\n",
       "    }\n",
       "</style>\n",
       "<table border=\"1\" class=\"dataframe\">\n",
       "  <thead>\n",
       "    <tr style=\"text-align: right;\">\n",
       "      <th></th>\n",
       "      <th>Node</th>\n",
       "      <th>VLAN_ID</th>\n",
       "      <th>Interfaces</th>\n",
       "      <th>VXLAN_VNI</th>\n",
       "    </tr>\n",
       "  </thead>\n",
       "  <tbody>\n",
       "    <tr>\n",
       "      <th>0</th>\n",
       "      <td>dc1-bl1b</td>\n",
       "      <td>250</td>\n",
       "      <td>[dc1-bl1b[Port-Channel3], dc1-bl1b[Vlan250]]</td>\n",
       "      <td>20250</td>\n",
       "    </tr>\n",
       "    <tr>\n",
       "      <th>1</th>\n",
       "      <td>dc1-leaf1a</td>\n",
       "      <td>210</td>\n",
       "      <td>[dc1-leaf1a[Vlan210]]</td>\n",
       "      <td>20210</td>\n",
       "    </tr>\n",
       "    <tr>\n",
       "      <th>2</th>\n",
       "      <td>dc1-leaf1a</td>\n",
       "      <td>211</td>\n",
       "      <td>[dc1-leaf1a[Vlan211]]</td>\n",
       "      <td>20211</td>\n",
       "    </tr>\n",
       "    <tr>\n",
       "      <th>3</th>\n",
       "      <td>dc1-leaf2a</td>\n",
       "      <td>3764</td>\n",
       "      <td>[dc1-leaf2a[Port-Channel3]]</td>\n",
       "      <td>None</td>\n",
       "    </tr>\n",
       "    <tr>\n",
       "      <th>4</th>\n",
       "      <td>dc1-leaf2b</td>\n",
       "      <td>3789</td>\n",
       "      <td>[dc1-leaf2b[Port-Channel3]]</td>\n",
       "      <td>None</td>\n",
       "    </tr>\n",
       "  </tbody>\n",
       "</table>\n",
       "</div>"
      ],
      "text/plain": [
       "         Node VLAN_ID                                    Interfaces VXLAN_VNI\n",
       "0    dc1-bl1b     250  [dc1-bl1b[Port-Channel3], dc1-bl1b[Vlan250]]     20250\n",
       "1  dc1-leaf1a     210                         [dc1-leaf1a[Vlan210]]     20210\n",
       "2  dc1-leaf1a     211                         [dc1-leaf1a[Vlan211]]     20211\n",
       "3  dc1-leaf2a    3764                   [dc1-leaf2a[Port-Channel3]]      None\n",
       "4  dc1-leaf2b    3789                   [dc1-leaf2b[Port-Channel3]]      None"
      ]
     },
     "execution_count": 81,
     "metadata": {},
     "output_type": "execute_result"
    }
   ],
   "source": [
    "result.head(5)"
   ]
  },
  {
   "cell_type": "markdown",
   "id": "a60de499",
   "metadata": {},
   "source": [
    "Print the first row of the returned Dataframe"
   ]
  },
  {
   "cell_type": "code",
   "execution_count": 82,
   "id": "543f1e6e",
   "metadata": {},
   "outputs": [
    {
     "data": {
      "text/plain": [
       "Node                                              dc1-bl1b\n",
       "VLAN_ID                                                250\n",
       "Interfaces    [dc1-bl1b[Port-Channel3], dc1-bl1b[Vlan250]]\n",
       "VXLAN_VNI                                            20250\n",
       "Name: 0, dtype: object"
      ]
     },
     "execution_count": 82,
     "metadata": {},
     "output_type": "execute_result"
    }
   ],
   "source": [
    "result.iloc[0]"
   ]
  },
  {
   "cell_type": "code",
   "execution_count": 83,
   "id": "162ada74",
   "metadata": {
    "nbsphinx": "hidden"
   },
   "outputs": [
    {
     "data": {
      "text/plain": [
       "'generate_questions'"
      ]
     },
     "execution_count": 83,
     "metadata": {},
     "output_type": "execute_result"
    }
   ],
   "source": [
    "bf.set_network('generate_questions')"
   ]
  },
  {
   "cell_type": "code",
   "execution_count": 84,
   "id": "08bc1f7c",
   "metadata": {
    "nbsphinx": "hidden"
   },
   "outputs": [
    {
     "data": {
      "text/plain": [
       "'ios_basic_vrrp'"
      ]
     },
     "execution_count": 84,
     "metadata": {},
     "output_type": "execute_result"
    }
   ],
   "source": [
    "bf.set_snapshot('ios_basic_vrrp')"
   ]
  },
  {
   "cell_type": "markdown",
   "id": "2573e9e6",
   "metadata": {},
   "source": [
    "##### VRRP Properties"
   ]
  },
  {
   "cell_type": "markdown",
   "id": "b31bfcad",
   "metadata": {},
   "source": [
    "Returns configuration settings of VRRP groups."
   ]
  },
  {
   "cell_type": "markdown",
   "id": "f0396b19",
   "metadata": {},
   "source": [
    "Lists information about VRRP groups on interfaces."
   ]
  },
  {
   "cell_type": "markdown",
   "id": "e229b2ff",
   "metadata": {},
   "source": [
    "###### **Inputs**"
   ]
  },
  {
   "cell_type": "markdown",
   "id": "c3a55eb4",
   "metadata": {},
   "source": [
    "Name | Description | Type | Optional | Default Value\n",
    "--- | --- | --- | --- | --- \n",
    "nodes | Include nodes matching this specifier. | [NodeSpec](../specifiers.md#node-specifier) | True | \n",
    "interfaces | Include interfaces matching this specifier. | [InterfaceSpec](../specifiers.md#interface-specifier) | True | \n",
    "virtualAddresses | Include only groups with at least one virtual address matching this specifier. | [IpSpec](../specifiers.md#ip-specifier) | True | \n",
    "excludeShutInterfaces | Exclude interfaces that are shutdown. | bool | True | "
   ]
  },
  {
   "cell_type": "markdown",
   "id": "5c0ea96d",
   "metadata": {},
   "source": [
    "###### **Invocation**"
   ]
  },
  {
   "cell_type": "code",
   "execution_count": 85,
   "id": "74bebf30",
   "metadata": {},
   "outputs": [],
   "source": [
    "result = bf.q.vrrpProperties().answer().frame()"
   ]
  },
  {
   "cell_type": "markdown",
   "id": "b995476b",
   "metadata": {},
   "source": [
    "###### **Return Value**"
   ]
  },
  {
   "cell_type": "markdown",
   "id": "5fabaac8",
   "metadata": {},
   "source": [
    "Name | Description | Type\n",
    "--- | --- | ---\n",
    "Interface | Interface | [Interface](../datamodel.rst#pybatfish.datamodel.primitives.Interface)\n",
    "Group_Id | VRRP Group ID | int\n",
    "Virtual_Addresses | Virtual Addresses | Set of str\n",
    "Source_Address | Source Address used for VRRP messages | str\n",
    "Priority | VRRP router priority | int\n",
    "Preempt | Whether preemption is allowed | bool\n",
    "Active | Whether the interface is active | bool"
   ]
  },
  {
   "cell_type": "markdown",
   "id": "54566e4c",
   "metadata": {},
   "source": [
    "Print the first 5 rows of the returned Dataframe"
   ]
  },
  {
   "cell_type": "code",
   "execution_count": 86,
   "id": "4eca393f",
   "metadata": {},
   "outputs": [
    {
     "data": {
      "text/html": [
       "<div>\n",
       "<style scoped>\n",
       "    .dataframe tbody tr th:only-of-type {\n",
       "        vertical-align: middle;\n",
       "    }\n",
       "\n",
       "    .dataframe tbody tr th {\n",
       "        vertical-align: top;\n",
       "    }\n",
       "\n",
       "    .dataframe thead th {\n",
       "        text-align: right;\n",
       "    }\n",
       "</style>\n",
       "<table border=\"1\" class=\"dataframe\">\n",
       "  <thead>\n",
       "    <tr style=\"text-align: right;\">\n",
       "      <th></th>\n",
       "      <th>Interface</th>\n",
       "      <th>Group_Id</th>\n",
       "      <th>Virtual_Addresses</th>\n",
       "      <th>Source_Address</th>\n",
       "      <th>Priority</th>\n",
       "      <th>Preempt</th>\n",
       "      <th>Active</th>\n",
       "    </tr>\n",
       "  </thead>\n",
       "  <tbody>\n",
       "    <tr>\n",
       "      <th>0</th>\n",
       "      <td>br1[GigabitEthernet0/2]</td>\n",
       "      <td>12</td>\n",
       "      <td>['192.168.1.254']</td>\n",
       "      <td>192.168.1.1/24</td>\n",
       "      <td>110</td>\n",
       "      <td>True</td>\n",
       "      <td>True</td>\n",
       "    </tr>\n",
       "    <tr>\n",
       "      <th>1</th>\n",
       "      <td>br2[GigabitEthernet0/2]</td>\n",
       "      <td>12</td>\n",
       "      <td>['192.168.1.254']</td>\n",
       "      <td>192.168.1.2/24</td>\n",
       "      <td>100</td>\n",
       "      <td>True</td>\n",
       "      <td>True</td>\n",
       "    </tr>\n",
       "  </tbody>\n",
       "</table>\n",
       "</div>"
      ],
      "text/plain": [
       "                 Interface Group_Id  Virtual_Addresses  Source_Address Priority Preempt Active\n",
       "0  br1[GigabitEthernet0/2]       12  ['192.168.1.254']  192.168.1.1/24      110    True   True\n",
       "1  br2[GigabitEthernet0/2]       12  ['192.168.1.254']  192.168.1.2/24      100    True   True"
      ]
     },
     "execution_count": 86,
     "metadata": {},
     "output_type": "execute_result"
    }
   ],
   "source": [
    "result.head(5)"
   ]
  },
  {
   "cell_type": "markdown",
   "id": "2a07b8b1",
   "metadata": {},
   "source": [
    "Print the first row of the returned Dataframe"
   ]
  },
  {
   "cell_type": "code",
   "execution_count": 87,
   "id": "9144192f",
   "metadata": {},
   "outputs": [
    {
     "data": {
      "text/plain": [
       "Interface            br1[GigabitEthernet0/2]\n",
       "Group_Id                                  12\n",
       "Virtual_Addresses          ['192.168.1.254']\n",
       "Source_Address                192.168.1.1/24\n",
       "Priority                                 110\n",
       "Preempt                                 True\n",
       "Active                                  True\n",
       "Name: 0, dtype: object"
      ]
     },
     "execution_count": 87,
     "metadata": {},
     "output_type": "execute_result"
    }
   ],
   "source": [
    "result.iloc[0]"
   ]
  },
  {
   "cell_type": "code",
   "execution_count": 88,
   "id": "090197f2",
   "metadata": {
    "nbsphinx": "hidden"
   },
   "outputs": [
    {
     "data": {
      "text/plain": [
       "'generate_questions'"
      ]
     },
     "execution_count": 88,
     "metadata": {},
     "output_type": "execute_result"
    }
   ],
   "source": [
    "bf.set_network('generate_questions')"
   ]
  },
  {
   "cell_type": "code",
   "execution_count": 89,
   "id": "143b594a",
   "metadata": {
    "nbsphinx": "hidden"
   },
   "outputs": [
    {
     "data": {
      "text/plain": [
       "'a10'"
      ]
     },
     "execution_count": 89,
     "metadata": {},
     "output_type": "execute_result"
    }
   ],
   "source": [
    "bf.set_snapshot('a10')"
   ]
  },
  {
   "cell_type": "markdown",
   "id": "01673edc",
   "metadata": {},
   "source": [
    "##### A10 Virtual Server Configuration"
   ]
  },
  {
   "cell_type": "markdown",
   "id": "de8a553f",
   "metadata": {},
   "source": [
    "Returns Virtual Server configuration of A10 devices."
   ]
  },
  {
   "cell_type": "markdown",
   "id": "561f684d",
   "metadata": {},
   "source": [
    "Lists all the virtual-server to service-group to server mappings in A10 configurations."
   ]
  },
  {
   "cell_type": "markdown",
   "id": "2692aedf",
   "metadata": {},
   "source": [
    "###### **Inputs**"
   ]
  },
  {
   "cell_type": "markdown",
   "id": "686a5fdc",
   "metadata": {},
   "source": [
    "Name | Description | Type | Optional | Default Value\n",
    "--- | --- | --- | --- | --- \n",
    "nodes | Include nodes matching this name or regex. | [NodeSpec](../specifiers.md#node-specifier) | True | \n",
    "virtualServerIps | Include virtual servers whose IP match this specifier. | [IpSpec](../specifiers.md#ip-specifier) | True | "
   ]
  },
  {
   "cell_type": "markdown",
   "id": "0c2c9654",
   "metadata": {},
   "source": [
    "###### **Invocation**"
   ]
  },
  {
   "cell_type": "code",
   "execution_count": 90,
   "id": "b415e784",
   "metadata": {},
   "outputs": [],
   "source": [
    "result = bf.q.a10VirtualServerConfiguration().answer().frame()"
   ]
  },
  {
   "cell_type": "markdown",
   "id": "75e2d1a5",
   "metadata": {},
   "source": [
    "###### **Return Value**"
   ]
  },
  {
   "cell_type": "markdown",
   "id": "8fbc9675",
   "metadata": {},
   "source": [
    "Name | Description | Type\n",
    "--- | --- | ---\n",
    "Node | Node | str\n",
    "Virtual_Server_Name | Virtual Server Name | str\n",
    "Virtual_Server_Enabled | Virtual Server Enabled | bool\n",
    "Virtual_Server_IP | Virtual Server IP | str\n",
    "Virtual_Server_Port | Virtual Server Port | int\n",
    "Virtual_Server_Port_Enabled | Virtual Server Port Enabled | bool\n",
    "Virtual_Server_Type | Virtual Server Type | str\n",
    "Virtual_Server_Port_Type_Name | Virtual Server Port Type Name | str\n",
    "Service_Group_Name | Service Group Name | str\n",
    "Service_Group_Type | Service Group Type | str\n",
    "Servers | List of Servers. Each item is a 4-tuple: Server Name, Port, IP Address, and Active Status. | Set of List of str\n",
    "Source_NAT_Pool_Name | Source NAT Pool Name | str"
   ]
  },
  {
   "cell_type": "markdown",
   "id": "3a876591",
   "metadata": {},
   "source": [
    "Print the first 5 rows of the returned Dataframe"
   ]
  },
  {
   "cell_type": "code",
   "execution_count": 91,
   "id": "87a5e825",
   "metadata": {},
   "outputs": [
    {
     "data": {
      "text/html": [
       "<div>\n",
       "<style scoped>\n",
       "    .dataframe tbody tr th:only-of-type {\n",
       "        vertical-align: middle;\n",
       "    }\n",
       "\n",
       "    .dataframe tbody tr th {\n",
       "        vertical-align: top;\n",
       "    }\n",
       "\n",
       "    .dataframe thead th {\n",
       "        text-align: right;\n",
       "    }\n",
       "</style>\n",
       "<table border=\"1\" class=\"dataframe\">\n",
       "  <thead>\n",
       "    <tr style=\"text-align: right;\">\n",
       "      <th></th>\n",
       "      <th>Node</th>\n",
       "      <th>Virtual_Server_Name</th>\n",
       "      <th>Virtual_Server_Enabled</th>\n",
       "      <th>Virtual_Server_IP</th>\n",
       "      <th>Virtual_Server_Port</th>\n",
       "      <th>Virtual_Server_Port_Enabled</th>\n",
       "      <th>Virtual_Server_Type</th>\n",
       "      <th>Virtual_Server_Port_Type_Name</th>\n",
       "      <th>Service_Group_Name</th>\n",
       "      <th>Service_Group_Type</th>\n",
       "      <th>Servers</th>\n",
       "      <th>Source_NAT_Pool_Name</th>\n",
       "    </tr>\n",
       "  </thead>\n",
       "  <tbody>\n",
       "    <tr>\n",
       "      <th>0</th>\n",
       "      <td>lb42</td>\n",
       "      <td>VS_TCP_80</td>\n",
       "      <td>True</td>\n",
       "      <td>10.0.0.1</td>\n",
       "      <td>80</td>\n",
       "      <td>True</td>\n",
       "      <td>TCP</td>\n",
       "      <td>None</td>\n",
       "      <td>SG_TCP_80</td>\n",
       "      <td>TCP</td>\n",
       "      <td>[['SERVER1', '80', '10.1.10.11', 'active'], ['SERVER2', '80', '10.1.10.12', 'inactive']]</td>\n",
       "      <td>None</td>\n",
       "    </tr>\n",
       "  </tbody>\n",
       "</table>\n",
       "</div>"
      ],
      "text/plain": [
       "   Node Virtual_Server_Name Virtual_Server_Enabled Virtual_Server_IP Virtual_Server_Port Virtual_Server_Port_Enabled Virtual_Server_Type Virtual_Server_Port_Type_Name Service_Group_Name Service_Group_Type                                                                                   Servers  \\\n",
       "0  lb42           VS_TCP_80                   True          10.0.0.1                  80                        True                 TCP                          None          SG_TCP_80                TCP  [['SERVER1', '80', '10.1.10.11', 'active'], ['SERVER2', '80', '10.1.10.12', 'inactive']]   \n",
       "\n",
       "  Source_NAT_Pool_Name  \n",
       "0                 None  "
      ]
     },
     "execution_count": 91,
     "metadata": {},
     "output_type": "execute_result"
    }
   ],
   "source": [
    "result.head(5)"
   ]
  },
  {
   "cell_type": "markdown",
   "id": "4141f935",
   "metadata": {},
   "source": [
    "Print the first row of the returned Dataframe"
   ]
  },
  {
   "cell_type": "code",
   "execution_count": 92,
   "id": "5a75381d",
   "metadata": {},
   "outputs": [
    {
     "data": {
      "text/plain": [
       "Node                                                                                                                 lb42\n",
       "Virtual_Server_Name                                                                                             VS_TCP_80\n",
       "Virtual_Server_Enabled                                                                                               True\n",
       "Virtual_Server_IP                                                                                                10.0.0.1\n",
       "Virtual_Server_Port                                                                                                    80\n",
       "Virtual_Server_Port_Enabled                                                                                          True\n",
       "Virtual_Server_Type                                                                                                   TCP\n",
       "Virtual_Server_Port_Type_Name                                                                                        None\n",
       "Service_Group_Name                                                                                              SG_TCP_80\n",
       "Service_Group_Type                                                                                                    TCP\n",
       "Servers                          [['SERVER1', '80', '10.1.10.11', 'active'], ['SERVER2', '80', '10.1.10.12', 'inactive']]\n",
       "Source_NAT_Pool_Name                                                                                                 None\n",
       "Name: 0, dtype: object"
      ]
     },
     "execution_count": 92,
     "metadata": {},
     "output_type": "execute_result"
    }
   ],
   "source": [
    "result.iloc[0]"
   ]
  },
  {
   "cell_type": "code",
   "execution_count": 93,
   "id": "cd40e96d",
   "metadata": {
    "nbsphinx": "hidden"
   },
   "outputs": [
    {
     "data": {
      "text/plain": [
       "'generate_questions'"
      ]
     },
     "execution_count": 93,
     "metadata": {},
     "output_type": "execute_result"
    }
   ],
   "source": [
    "bf.set_network('generate_questions')"
   ]
  },
  {
   "cell_type": "code",
   "execution_count": 94,
   "id": "2e4de305",
   "metadata": {
    "nbsphinx": "hidden"
   },
   "outputs": [
    {
     "data": {
      "text/plain": [
       "'f5'"
      ]
     },
     "execution_count": 94,
     "metadata": {},
     "output_type": "execute_result"
    }
   ],
   "source": [
    "bf.set_snapshot('f5')"
   ]
  },
  {
   "cell_type": "markdown",
   "id": "518dd224",
   "metadata": {},
   "source": [
    "##### F5 BIG-IP VIP Configuration"
   ]
  },
  {
   "cell_type": "markdown",
   "id": "c9811482",
   "metadata": {},
   "source": [
    "Returns VIP configuration of F5 BIG-IP devices."
   ]
  },
  {
   "cell_type": "markdown",
   "id": "f62b80da",
   "metadata": {},
   "source": [
    "Lists all the VIP to server IP mappings contained in F5 BIP-IP configurations."
   ]
  },
  {
   "cell_type": "markdown",
   "id": "d5e0b142",
   "metadata": {},
   "source": [
    "###### **Inputs**"
   ]
  },
  {
   "cell_type": "markdown",
   "id": "bd9f89c1",
   "metadata": {},
   "source": [
    "Name | Description | Type | Optional | Default Value\n",
    "--- | --- | --- | --- | --- \n",
    "nodes | Include nodes matching this name or regex. | [NodeSpec](../specifiers.md#node-specifier) | True | "
   ]
  },
  {
   "cell_type": "markdown",
   "id": "ac2fab21",
   "metadata": {},
   "source": [
    "###### **Invocation**"
   ]
  },
  {
   "cell_type": "code",
   "execution_count": 95,
   "id": "b2cd299b",
   "metadata": {},
   "outputs": [],
   "source": [
    "result = bf.q.f5BigipVipConfiguration().answer().frame()"
   ]
  },
  {
   "cell_type": "markdown",
   "id": "b0089a64",
   "metadata": {},
   "source": [
    "###### **Return Value**"
   ]
  },
  {
   "cell_type": "markdown",
   "id": "d01f847f",
   "metadata": {},
   "source": [
    "Name | Description | Type\n",
    "--- | --- | ---\n",
    "Node | Node | str\n",
    "VIP_Name | Virtual Service Name | str\n",
    "VIP_Endpoint | Virtual Service Endpoint | str\n",
    "Servers | Servers | Set of str\n",
    "Description | Description | str"
   ]
  },
  {
   "cell_type": "markdown",
   "id": "b12cd949",
   "metadata": {},
   "source": [
    "Print the first 5 rows of the returned Dataframe"
   ]
  },
  {
   "cell_type": "code",
   "execution_count": 96,
   "id": "31538ce1",
   "metadata": {},
   "outputs": [
    {
     "data": {
      "text/html": [
       "<div>\n",
       "<style scoped>\n",
       "    .dataframe tbody tr th:only-of-type {\n",
       "        vertical-align: middle;\n",
       "    }\n",
       "\n",
       "    .dataframe tbody tr th {\n",
       "        vertical-align: top;\n",
       "    }\n",
       "\n",
       "    .dataframe thead th {\n",
       "        text-align: right;\n",
       "    }\n",
       "</style>\n",
       "<table border=\"1\" class=\"dataframe\">\n",
       "  <thead>\n",
       "    <tr style=\"text-align: right;\">\n",
       "      <th></th>\n",
       "      <th>Node</th>\n",
       "      <th>VIP_Name</th>\n",
       "      <th>VIP_Endpoint</th>\n",
       "      <th>Servers</th>\n",
       "      <th>Description</th>\n",
       "    </tr>\n",
       "  </thead>\n",
       "  <tbody>\n",
       "    <tr>\n",
       "      <th>0</th>\n",
       "      <td>f5bigip</td>\n",
       "      <td>/Common/virtual1</td>\n",
       "      <td>192.0.2.1:80 TCP</td>\n",
       "      <td>['10.0.0.1:80']</td>\n",
       "      <td>virtual1 is cool</td>\n",
       "    </tr>\n",
       "    <tr>\n",
       "      <th>1</th>\n",
       "      <td>f5bigip</td>\n",
       "      <td>/Common/virtual2</td>\n",
       "      <td>192.0.2.2:80 TCP</td>\n",
       "      <td>['10.0.0.2:80']</td>\n",
       "      <td>pool2 is lame</td>\n",
       "    </tr>\n",
       "    <tr>\n",
       "      <th>2</th>\n",
       "      <td>f5bigip</td>\n",
       "      <td>/Common/virtual3</td>\n",
       "      <td>192.0.2.3:80 TCP</td>\n",
       "      <td>['10.0.0.4:80', '10.0.0.3:80']</td>\n",
       "      <td></td>\n",
       "    </tr>\n",
       "  </tbody>\n",
       "</table>\n",
       "</div>"
      ],
      "text/plain": [
       "      Node          VIP_Name      VIP_Endpoint                         Servers       Description\n",
       "0  f5bigip  /Common/virtual1  192.0.2.1:80 TCP                 ['10.0.0.1:80']  virtual1 is cool\n",
       "1  f5bigip  /Common/virtual2  192.0.2.2:80 TCP                 ['10.0.0.2:80']     pool2 is lame\n",
       "2  f5bigip  /Common/virtual3  192.0.2.3:80 TCP  ['10.0.0.4:80', '10.0.0.3:80']                  "
      ]
     },
     "execution_count": 96,
     "metadata": {},
     "output_type": "execute_result"
    }
   ],
   "source": [
    "result.head(5)"
   ]
  },
  {
   "cell_type": "markdown",
   "id": "47b87832",
   "metadata": {},
   "source": [
    "Print the first row of the returned Dataframe"
   ]
  },
  {
   "cell_type": "code",
   "execution_count": 97,
   "id": "1c8d2df0",
   "metadata": {},
   "outputs": [
    {
     "data": {
      "text/plain": [
       "Node                     f5bigip\n",
       "VIP_Name        /Common/virtual1\n",
       "VIP_Endpoint    192.0.2.1:80 TCP\n",
       "Servers          ['10.0.0.1:80']\n",
       "Description     virtual1 is cool\n",
       "Name: 0, dtype: object"
      ]
     },
     "execution_count": 97,
     "metadata": {},
     "output_type": "execute_result"
    }
   ],
   "source": [
    "result.iloc[0]"
   ]
  }
 ],
 "metadata": {
  "celltoolbar": "Edit Metadata",
  "hide_input": false,
  "kernelspec": {
   "display_name": "Python 3 (ipykernel)",
   "language": "python",
   "name": "python3"
  },
  "language_info": {
   "codemirror_mode": {
    "name": "ipython",
    "version": 3
   },
   "file_extension": ".py",
   "mimetype": "text/x-python",
   "name": "python",
   "nbconvert_exporter": "python",
   "pygments_lexer": "ipython3",
   "version": "3.9.17"
  }
 },
 "nbformat": 4,
 "nbformat_minor": 2
}
