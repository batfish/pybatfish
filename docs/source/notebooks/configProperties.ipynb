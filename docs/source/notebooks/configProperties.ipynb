{
 "cells": [
  {
   "cell_type": "code",
   "execution_count": 1,
   "metadata": {
    "nbsphinx": "hidden"
   },
   "outputs": [],
   "source": [
    "import pandas as pd\n",
    "from pybatfish.client.commands import *\n",
    "from pybatfish.datamodel import *\n",
    "from pybatfish.question import bfq, list_questions, load_questions\n",
    "\n",
    "pd.set_option(\"display.width\", 300) \n",
    "pd.set_option(\"display.max_columns\", 20) \n",
    "pd.set_option(\"display.max_rows\", 1000) \n",
    "pd.set_option(\"display.max_colwidth\", -1)\n",
    "\n",
    "# Configure all pybatfish loggers to use WARN level\n",
    "import logging\n",
    "logging.getLogger('pybatfish').setLevel(logging.WARN)"
   ]
  },
  {
   "cell_type": "code",
   "execution_count": 2,
   "metadata": {
    "nbsphinx": "hidden"
   },
   "outputs": [],
   "source": [
    "bf_session.host = 'localhost'"
   ]
  },
  {
   "cell_type": "code",
   "execution_count": 3,
   "metadata": {
    "nbsphinx": "hidden",
    "pycharm": {
     "name": "#%%\n"
    }
   },
   "outputs": [],
   "source": [
    "load_questions()\n"
   ]
  },
  {
   "cell_type": "markdown",
   "metadata": {},
   "source": [
    "#### Configuration Properties"
   ]
  },
  {
   "cell_type": "markdown",
   "metadata": {},
   "source": [
    "* [Node Properties](#Node-Properties)\n",
    "* [Interface Properties](#Interface-Properties)\n",
    "* [BGP Process Configuration](#BGP-Process-Configuration)\n",
    "* [BGP Peer Configuration](#BGP-Peer-Configuration)\n",
    "* [OSPF Process Configuration](#OSPF-Process-Configuration)\n",
    "* [OSPF Interface Configuration](#OSPF-Interface-Configuration)\n",
    "* [OSPF Area Configuration](#OSPF-Area-Configuration)\n",
    "* [IP Owners](#IP-Owners)\n",
    "* [Named Structures](#Named-Structures)\n",
    "* [Defined Structures](#Defined-Structures)\n",
    "* [Referenced Structures](#Referenced-Structures)\n",
    "* [Undefined References](#Undefined-References)\n",
    "* [Unused Structures](#Unused-Structures)\n",
    "* [Interface MTU](#Interface-MTU)"
   ]
  },
  {
   "cell_type": "code",
   "execution_count": 4,
   "metadata": {
    "nbsphinx": "hidden"
   },
   "outputs": [
    {
     "data": {
      "text/plain": [
       "'generate_questions'"
      ]
     },
     "execution_count": 4,
     "metadata": {},
     "output_type": "execute_result"
    }
   ],
   "source": [
    "bf_set_network('generate_questions')"
   ]
  },
  {
   "cell_type": "code",
   "execution_count": 5,
   "metadata": {
    "nbsphinx": "hidden"
   },
   "outputs": [
    {
     "data": {
      "text/plain": [
       "'generate_questions'"
      ]
     },
     "execution_count": 5,
     "metadata": {},
     "output_type": "execute_result"
    }
   ],
   "source": [
    "bf_set_snapshot('generate_questions')"
   ]
  },
  {
   "cell_type": "markdown",
   "metadata": {},
   "source": [
    "##### Node Properties"
   ]
  },
  {
   "cell_type": "markdown",
   "metadata": {},
   "source": [
    "Returns configuration settings of nodes."
   ]
  },
  {
   "cell_type": "markdown",
   "metadata": {},
   "source": [
    "Lists global settings of devices in the network. Settings that are specific to interfaces, routing protocols, etc. are available via other questions."
   ]
  },
  {
   "cell_type": "markdown",
   "metadata": {},
   "source": [
    "###### Inputs"
   ]
  },
  {
   "cell_type": "markdown",
   "metadata": {},
   "source": [
    "Name | Description | Type | Optional | Default Value\n",
    "--- | --- | --- | --- | --- \n",
    "nodes | Include nodes matching this name or regex. | [NodeSpec](../specifiers.md#node-specifier) | True | \n",
    "properties | Include properties matching this regex. | [NodePropertySpec](../specifiers.md#node-property-specifier) | True | "
   ]
  },
  {
   "cell_type": "markdown",
   "metadata": {},
   "source": [
    "###### Invocation"
   ]
  },
  {
   "cell_type": "code",
   "execution_count": 6,
   "metadata": {},
   "outputs": [],
   "source": [
    "result = bfq.nodeProperties().answer().frame()"
   ]
  },
  {
   "cell_type": "markdown",
   "metadata": {},
   "source": [
    "###### Return Value"
   ]
  },
  {
   "cell_type": "markdown",
   "metadata": {},
   "source": [
    "Name | Description | Type\n",
    "--- | --- | ---\n",
    "Node | Node | str\n",
    "AS_Path_Access_Lists | Names of AS path access lists | Set of str\n",
    "Authentication_Key_Chains | Names of authentication keychains | Set of str\n",
    "Community_Lists | Names of community lists | Set of str\n",
    "Configuration_Format | Configuration format of the node | str\n",
    "DNS_Servers | Configured DNS servers | Set of str\n",
    "DNS_Source_Interface | Source interface to use for communicating with DNS servers | str\n",
    "Default_Cross_Zone_Action | Default action (PERMIT, DENY) for traffic that traverses firewall zones (null for non-firewall nodes) | str\n",
    "Default_Inbound_Action | Default action (PERMIT, DENY) for traffic destined for this node | str\n",
    "Device_Type | Device type of this node (HOST, INTERNET, ISP, ROUTER, SWITCH) | str\n",
    "Domain_Name | Domain name of the node | str\n",
    "Hostname | Hostname of the node | str\n",
    "IKE_Phase1_Keys | Names of IKE Phase 1 keys | Set of str\n",
    "IKE_Phase1_Policies | Names of IKE Phase 1 policies | Set of str\n",
    "IKE_Phase1_Proposals | Names of IKE Phase 1 proposals | Set of str\n",
    "IP6_Access_Lists | Names of IPv6 filters (ACLs, firewall rule sets) | Set of str\n",
    "IP_Access_Lists | Names of IPv4 filters (ACLs, firewall rule sets) | Set of str\n",
    "IPsec_Peer_Configs | Names of IPSec peers | Set of str\n",
    "IPsec_Phase2_Policies | Names of IPSec Phase 2 policies | Set of str\n",
    "IPsec_Phase2_Proposals | Names of IPSec Phase 2 proposals | Set of str\n",
    "Interfaces | Names of interfaces | Set of str\n",
    "Logging_Servers | Configured logging servers | Set of str\n",
    "Logging_Source_Interface | Source interface for communicating with logging servers | str\n",
    "NTP_Servers | Configured NTP servers | Set of str\n",
    "NTP_Source_Interface | Source interface for communicating with NTP servers | str\n",
    "PBR_Policies | Names of policy-based routing (PBR) policies | Set of str\n",
    "Route6_Filter_Lists | Names of structures that filter IPv6 routes (e.g., prefix lists) | Set of str\n",
    "Route_Filter_Lists | Names of structures that filter IPv4 routes (e.g., prefix lists) | Set of str\n",
    "Routing_Policies | Names of policies that manipulate routes (e.g., route maps) | Set of str\n",
    "SNMP_Source_Interface | Source interface to use for communicating with SNMP servers | str\n",
    "SNMP_Trap_Servers | Configured SNMP trap servers | Set of str\n",
    "TACACS_Servers | Configured TACACS servers | Set of str\n",
    "TACACS_Source_Interface | Source interface to use for communicating with TACACS servers | str\n",
    "VRFs | Names of VRFs present on the node | Set of str\n",
    "Zones | Names of firewall zones on the node | Set of str"
   ]
  },
  {
   "cell_type": "markdown",
   "metadata": {},
   "source": [
    "Print the first 5 rows of the returned Dataframe"
   ]
  },
  {
   "cell_type": "code",
   "execution_count": 7,
   "metadata": {},
   "outputs": [
    {
     "data": {
      "text/html": [
       "<div>\n",
       "<style scoped>\n",
       "    .dataframe tbody tr th:only-of-type {\n",
       "        vertical-align: middle;\n",
       "    }\n",
       "\n",
       "    .dataframe tbody tr th {\n",
       "        vertical-align: top;\n",
       "    }\n",
       "\n",
       "    .dataframe thead th {\n",
       "        text-align: right;\n",
       "    }\n",
       "</style>\n",
       "<table border=\"1\" class=\"dataframe\">\n",
       "  <thead>\n",
       "    <tr style=\"text-align: right;\">\n",
       "      <th></th>\n",
       "      <th>Node</th>\n",
       "      <th>AS_Path_Access_Lists</th>\n",
       "      <th>Authentication_Key_Chains</th>\n",
       "      <th>Community_Lists</th>\n",
       "      <th>Configuration_Format</th>\n",
       "      <th>DNS_Servers</th>\n",
       "      <th>DNS_Source_Interface</th>\n",
       "      <th>Default_Cross_Zone_Action</th>\n",
       "      <th>Default_Inbound_Action</th>\n",
       "      <th>Device_Type</th>\n",
       "      <th>...</th>\n",
       "      <th>PBR_Policies</th>\n",
       "      <th>Route6_Filter_Lists</th>\n",
       "      <th>Route_Filter_Lists</th>\n",
       "      <th>Routing_Policies</th>\n",
       "      <th>SNMP_Source_Interface</th>\n",
       "      <th>SNMP_Trap_Servers</th>\n",
       "      <th>TACACS_Servers</th>\n",
       "      <th>TACACS_Source_Interface</th>\n",
       "      <th>VRFs</th>\n",
       "      <th>Zones</th>\n",
       "    </tr>\n",
       "  </thead>\n",
       "  <tbody>\n",
       "    <tr>\n",
       "      <th>0</th>\n",
       "      <td>as1core1</td>\n",
       "      <td>[]</td>\n",
       "      <td>[]</td>\n",
       "      <td>[]</td>\n",
       "      <td>CISCO_IOS</td>\n",
       "      <td>[]</td>\n",
       "      <td>None</td>\n",
       "      <td>PERMIT</td>\n",
       "      <td>PERMIT</td>\n",
       "      <td>ROUTER</td>\n",
       "      <td>...</td>\n",
       "      <td>[]</td>\n",
       "      <td>[]</td>\n",
       "      <td>[]</td>\n",
       "      <td>['~BGP_COMMON_EXPORT_POLICY:default~', '~BGP_PEER_EXPORT_POLICY:default:1.1.1.1~', '~BGP_PEER_EXPORT_POLICY:default:1.2.2.2~', '~OSPF_EXPORT_POLICY:default~']</td>\n",
       "      <td>None</td>\n",
       "      <td>[]</td>\n",
       "      <td>[]</td>\n",
       "      <td>None</td>\n",
       "      <td>['default']</td>\n",
       "      <td>[]</td>\n",
       "    </tr>\n",
       "    <tr>\n",
       "      <th>1</th>\n",
       "      <td>as2dist1</td>\n",
       "      <td>[]</td>\n",
       "      <td>[]</td>\n",
       "      <td>['dept_community']</td>\n",
       "      <td>CISCO_IOS</td>\n",
       "      <td>[]</td>\n",
       "      <td>None</td>\n",
       "      <td>PERMIT</td>\n",
       "      <td>PERMIT</td>\n",
       "      <td>ROUTER</td>\n",
       "      <td>...</td>\n",
       "      <td>[]</td>\n",
       "      <td>[]</td>\n",
       "      <td>['105']</td>\n",
       "      <td>['as2dist_to_dept', 'dept_to_as2dist', '~BGP_COMMON_EXPORT_POLICY:default~', '~BGP_PEER_EXPORT_POLICY:default:2.1.2.1~', '~BGP_PEER_EXPORT_POLICY:default:2.1.2.2~', '~BGP_PEER_EXPORT_POLICY:default:2.34.101.4~', '~OSPF_EXPORT_POLICY:default~']</td>\n",
       "      <td>None</td>\n",
       "      <td>[]</td>\n",
       "      <td>[]</td>\n",
       "      <td>None</td>\n",
       "      <td>['default']</td>\n",
       "      <td>[]</td>\n",
       "    </tr>\n",
       "    <tr>\n",
       "      <th>2</th>\n",
       "      <td>as3border1</td>\n",
       "      <td>[]</td>\n",
       "      <td>[]</td>\n",
       "      <td>['as1_community', 'as2_community', 'as3_community']</td>\n",
       "      <td>CISCO_IOS</td>\n",
       "      <td>[]</td>\n",
       "      <td>None</td>\n",
       "      <td>PERMIT</td>\n",
       "      <td>PERMIT</td>\n",
       "      <td>ROUTER</td>\n",
       "      <td>...</td>\n",
       "      <td>[]</td>\n",
       "      <td>[]</td>\n",
       "      <td>['101', '102', '103', 'default_list', 'inbound_route_filter']</td>\n",
       "      <td>['as1_to_as3', 'as2_to_as3', 'as3_to_as1', 'as3_to_as2', '~BGP_COMMON_EXPORT_POLICY:default~', '~BGP_PEER_EXPORT_POLICY:default:10.23.21.2~', '~BGP_PEER_EXPORT_POLICY:default:3.10.1.1~', '~OSPF_EXPORT_POLICY:default~']</td>\n",
       "      <td>None</td>\n",
       "      <td>[]</td>\n",
       "      <td>[]</td>\n",
       "      <td>None</td>\n",
       "      <td>['default']</td>\n",
       "      <td>[]</td>\n",
       "    </tr>\n",
       "    <tr>\n",
       "      <th>3</th>\n",
       "      <td>as2core1</td>\n",
       "      <td>[]</td>\n",
       "      <td>[]</td>\n",
       "      <td>[]</td>\n",
       "      <td>CISCO_IOS</td>\n",
       "      <td>[]</td>\n",
       "      <td>None</td>\n",
       "      <td>PERMIT</td>\n",
       "      <td>PERMIT</td>\n",
       "      <td>ROUTER</td>\n",
       "      <td>...</td>\n",
       "      <td>[]</td>\n",
       "      <td>[]</td>\n",
       "      <td>[]</td>\n",
       "      <td>['~BGP_COMMON_EXPORT_POLICY:default~', '~BGP_PEER_EXPORT_POLICY:default:2.1.1.1~', '~BGP_PEER_EXPORT_POLICY:default:2.1.1.2~', '~BGP_PEER_EXPORT_POLICY:default:2.1.3.1~', '~BGP_PEER_EXPORT_POLICY:default:2.1.3.2~', '~OSPF_EXPORT_POLICY:default~']</td>\n",
       "      <td>None</td>\n",
       "      <td>[]</td>\n",
       "      <td>[]</td>\n",
       "      <td>None</td>\n",
       "      <td>['default']</td>\n",
       "      <td>[]</td>\n",
       "    </tr>\n",
       "    <tr>\n",
       "      <th>4</th>\n",
       "      <td>host2</td>\n",
       "      <td>[]</td>\n",
       "      <td>[]</td>\n",
       "      <td>[]</td>\n",
       "      <td>HOST</td>\n",
       "      <td>[]</td>\n",
       "      <td>None</td>\n",
       "      <td>PERMIT</td>\n",
       "      <td>PERMIT</td>\n",
       "      <td>HOST</td>\n",
       "      <td>...</td>\n",
       "      <td>[]</td>\n",
       "      <td>[]</td>\n",
       "      <td>[]</td>\n",
       "      <td>[]</td>\n",
       "      <td>None</td>\n",
       "      <td>[]</td>\n",
       "      <td>[]</td>\n",
       "      <td>None</td>\n",
       "      <td>['default']</td>\n",
       "      <td>[]</td>\n",
       "    </tr>\n",
       "  </tbody>\n",
       "</table>\n",
       "<p>5 rows × 35 columns</p>\n",
       "</div>"
      ],
      "text/plain": [
       "         Node AS_Path_Access_Lists Authentication_Key_Chains                                      Community_Lists Configuration_Format DNS_Servers DNS_Source_Interface Default_Cross_Zone_Action Default_Inbound_Action Device_Type  ... PBR_Policies Route6_Filter_Lists  \\\n",
       "0  as1core1    []                   []                        []                                                   CISCO_IOS            []          None                 PERMIT                    PERMIT                 ROUTER      ...  []           []                   \n",
       "1  as2dist1    []                   []                        ['dept_community']                                   CISCO_IOS            []          None                 PERMIT                    PERMIT                 ROUTER      ...  []           []                   \n",
       "2  as3border1  []                   []                        ['as1_community', 'as2_community', 'as3_community']  CISCO_IOS            []          None                 PERMIT                    PERMIT                 ROUTER      ...  []           []                   \n",
       "3  as2core1    []                   []                        []                                                   CISCO_IOS            []          None                 PERMIT                    PERMIT                 ROUTER      ...  []           []                   \n",
       "4  host2       []                   []                        []                                                   HOST                 []          None                 PERMIT                    PERMIT                 HOST        ...  []           []                   \n",
       "\n",
       "                                              Route_Filter_Lists  \\\n",
       "0  []                                                              \n",
       "1  ['105']                                                         \n",
       "2  ['101', '102', '103', 'default_list', 'inbound_route_filter']   \n",
       "3  []                                                              \n",
       "4  []                                                              \n",
       "\n",
       "                                                                                                                                                                                                                                         Routing_Policies SNMP_Source_Interface SNMP_Trap_Servers  \\\n",
       "0  ['~BGP_COMMON_EXPORT_POLICY:default~', '~BGP_PEER_EXPORT_POLICY:default:1.1.1.1~', '~BGP_PEER_EXPORT_POLICY:default:1.2.2.2~', '~OSPF_EXPORT_POLICY:default~']                                                                                          None                  []                 \n",
       "1  ['as2dist_to_dept', 'dept_to_as2dist', '~BGP_COMMON_EXPORT_POLICY:default~', '~BGP_PEER_EXPORT_POLICY:default:2.1.2.1~', '~BGP_PEER_EXPORT_POLICY:default:2.1.2.2~', '~BGP_PEER_EXPORT_POLICY:default:2.34.101.4~', '~OSPF_EXPORT_POLICY:default~']     None                  []                 \n",
       "2  ['as1_to_as3', 'as2_to_as3', 'as3_to_as1', 'as3_to_as2', '~BGP_COMMON_EXPORT_POLICY:default~', '~BGP_PEER_EXPORT_POLICY:default:10.23.21.2~', '~BGP_PEER_EXPORT_POLICY:default:3.10.1.1~', '~OSPF_EXPORT_POLICY:default~']                              None                  []                 \n",
       "3  ['~BGP_COMMON_EXPORT_POLICY:default~', '~BGP_PEER_EXPORT_POLICY:default:2.1.1.1~', '~BGP_PEER_EXPORT_POLICY:default:2.1.1.2~', '~BGP_PEER_EXPORT_POLICY:default:2.1.3.1~', '~BGP_PEER_EXPORT_POLICY:default:2.1.3.2~', '~OSPF_EXPORT_POLICY:default~']  None                  []                 \n",
       "4  []                                                                                                                                                                                                                                                      None                  []                 \n",
       "\n",
       "  TACACS_Servers TACACS_Source_Interface         VRFs Zones  \n",
       "0  []             None                    ['default']  []    \n",
       "1  []             None                    ['default']  []    \n",
       "2  []             None                    ['default']  []    \n",
       "3  []             None                    ['default']  []    \n",
       "4  []             None                    ['default']  []    \n",
       "\n",
       "[5 rows x 35 columns]"
      ]
     },
     "execution_count": 7,
     "metadata": {},
     "output_type": "execute_result"
    }
   ],
   "source": [
    "result.head(5)"
   ]
  },
  {
   "cell_type": "markdown",
   "metadata": {},
   "source": [
    "Print the first row of the returned Dataframe"
   ]
  },
  {
   "cell_type": "code",
   "execution_count": 8,
   "metadata": {},
   "outputs": [
    {
     "data": {
      "text/plain": [
       "Node                         as1core1                                                                                                                                                      \n",
       "AS_Path_Access_Lists         []                                                                                                                                                            \n",
       "Authentication_Key_Chains    []                                                                                                                                                            \n",
       "Community_Lists              []                                                                                                                                                            \n",
       "Configuration_Format         CISCO_IOS                                                                                                                                                     \n",
       "DNS_Servers                  []                                                                                                                                                            \n",
       "DNS_Source_Interface         None                                                                                                                                                          \n",
       "Default_Cross_Zone_Action    PERMIT                                                                                                                                                        \n",
       "Default_Inbound_Action       PERMIT                                                                                                                                                        \n",
       "Device_Type                  ROUTER                                                                                                                                                        \n",
       "Domain_Name                  lab.local                                                                                                                                                     \n",
       "Hostname                     as1core1                                                                                                                                                      \n",
       "IKE_Phase1_Keys              []                                                                                                                                                            \n",
       "IKE_Phase1_Policies          []                                                                                                                                                            \n",
       "IKE_Phase1_Proposals         []                                                                                                                                                            \n",
       "IP6_Access_Lists             []                                                                                                                                                            \n",
       "IP_Access_Lists              []                                                                                                                                                            \n",
       "IPsec_Peer_Configs           []                                                                                                                                                            \n",
       "IPsec_Phase2_Policies        []                                                                                                                                                            \n",
       "IPsec_Phase2_Proposals       []                                                                                                                                                            \n",
       "Interfaces                   ['Ethernet0/0', 'GigabitEthernet0/0', 'GigabitEthernet1/0', 'Loopback0']                                                                                      \n",
       "Logging_Servers              ['1.1.1.1', '2.2.2.2']                                                                                                                                        \n",
       "Logging_Source_Interface     None                                                                                                                                                          \n",
       "NTP_Servers                  []                                                                                                                                                            \n",
       "NTP_Source_Interface         None                                                                                                                                                          \n",
       "PBR_Policies                 []                                                                                                                                                            \n",
       "Route6_Filter_Lists          []                                                                                                                                                            \n",
       "Route_Filter_Lists           []                                                                                                                                                            \n",
       "Routing_Policies             ['~BGP_COMMON_EXPORT_POLICY:default~', '~BGP_PEER_EXPORT_POLICY:default:1.1.1.1~', '~BGP_PEER_EXPORT_POLICY:default:1.2.2.2~', '~OSPF_EXPORT_POLICY:default~']\n",
       "SNMP_Source_Interface        None                                                                                                                                                          \n",
       "SNMP_Trap_Servers            []                                                                                                                                                            \n",
       "TACACS_Servers               []                                                                                                                                                            \n",
       "TACACS_Source_Interface      None                                                                                                                                                          \n",
       "VRFs                         ['default']                                                                                                                                                   \n",
       "Zones                        []                                                                                                                                                            \n",
       "Name: 0, dtype: object"
      ]
     },
     "execution_count": 8,
     "metadata": {},
     "output_type": "execute_result"
    }
   ],
   "source": [
    "result.iloc[0]"
   ]
  },
  {
   "cell_type": "code",
   "execution_count": 9,
   "metadata": {
    "nbsphinx": "hidden"
   },
   "outputs": [
    {
     "data": {
      "text/plain": [
       "'generate_questions'"
      ]
     },
     "execution_count": 9,
     "metadata": {},
     "output_type": "execute_result"
    }
   ],
   "source": [
    "bf_set_network('generate_questions')"
   ]
  },
  {
   "cell_type": "code",
   "execution_count": 10,
   "metadata": {
    "nbsphinx": "hidden"
   },
   "outputs": [
    {
     "data": {
      "text/plain": [
       "'generate_questions'"
      ]
     },
     "execution_count": 10,
     "metadata": {},
     "output_type": "execute_result"
    }
   ],
   "source": [
    "bf_set_snapshot('generate_questions')"
   ]
  },
  {
   "cell_type": "markdown",
   "metadata": {},
   "source": [
    "##### Interface Properties"
   ]
  },
  {
   "cell_type": "markdown",
   "metadata": {},
   "source": [
    "Returns configuration settings of interfaces."
   ]
  },
  {
   "cell_type": "markdown",
   "metadata": {},
   "source": [
    "Lists interface-level settings of interfaces. Settings for routing protocols, VRFs, and zones etc. that are attached to interfaces are available via other questions."
   ]
  },
  {
   "cell_type": "markdown",
   "metadata": {},
   "source": [
    "###### Inputs"
   ]
  },
  {
   "cell_type": "markdown",
   "metadata": {},
   "source": [
    "Name | Description | Type | Optional | Default Value\n",
    "--- | --- | --- | --- | --- \n",
    "nodes | Include nodes matching this specifier. | [NodeSpec](../specifiers.md#node-specifier) | True | \n",
    "interfaces | Include interfaces matching this specifier. | [InterfaceSpec](../specifiers.md#interface-specifier) | True | \n",
    "properties | Include properties matching this specifier. | [InterfacePropertySpec](../specifiers.md#interface-property-specifier) | True | \n",
    "excludeShutInterfaces | Exclude interfaces that are shutdown. | bool | True | "
   ]
  },
  {
   "cell_type": "markdown",
   "metadata": {},
   "source": [
    "###### Invocation"
   ]
  },
  {
   "cell_type": "code",
   "execution_count": 11,
   "metadata": {},
   "outputs": [],
   "source": [
    "result = bfq.interfaceProperties().answer().frame()"
   ]
  },
  {
   "cell_type": "markdown",
   "metadata": {},
   "source": [
    "###### Return Value"
   ]
  },
  {
   "cell_type": "markdown",
   "metadata": {},
   "source": [
    "Name | Description | Type\n",
    "--- | --- | ---\n",
    "Interface | Interface | [Interface](../datamodel.rst#pybatfish.datamodel.primitives.Interface)\n",
    "Access_VLAN | VLAN number when the switchport mode is access (null otherwise) | int\n",
    "Active | Whether the interface is active | bool\n",
    "All_Prefixes | All IPv4 addresses assigned to the interface | List of str\n",
    "Allowed_VLANs | Allowed VLAN numbers when the switchport mode is trunk | str\n",
    "Auto_State_VLAN | For VLAN interfaces, whether the operational status depends on member switchports | bool\n",
    "Bandwidth | Nominal bandwidth in bits/sec, used for protocol cost calculations | float\n",
    "Blacklisted | Whether the interface is considered down for maintenance | bool\n",
    "Channel_Group | Name of the aggregated interface (e.g., a port channel) to which this interface belongs | str\n",
    "Channel_Group_Members | For aggregated interfaces (e.g., a port channel), names of constituent interfaces | List of str\n",
    "DHCP_Relay_Addresses | IPv4 addresses to which incoming DHCP requests are relayed | List of str\n",
    "Declared_Names | Any aliases explicitly defined for this interface | List of str\n",
    "Description | Configured interface description | str\n",
    "Encapsulation_VLAN | Number for VLAN encapsulation | int\n",
    "HSRP_Groups | HSRP group identifiers | Set of str\n",
    "HSRP_Version | HSRP version that will be used | str\n",
    "Incoming_Filter_Name | Name of the input IPv4 filter | str\n",
    "MLAG_ID | MLAG identifier of the interface | int\n",
    "MTU | Layer3 MTU of the interface | int\n",
    "Native_VLAN | Native VLAN when switchport mode is trunk | int\n",
    "Outgoing_Filter_Name | Name of the output IPv4 filter | str\n",
    "PBR_Policy_Name | Name of policy-based routing (PBR) policy | str\n",
    "Primary_Address | Primary IPv4 address along with the prefix length | str\n",
    "Primary_Network | Primary IPv4 subnet, in canonical form | str\n",
    "Proxy_ARP | Whether proxy ARP is enabled | bool\n",
    "Rip_Enabled | Whether RIP is enabled | bool\n",
    "Rip_Passive | Whether interface is in RIP passive mode | bool\n",
    "Spanning_Tree_Portfast | Whether spanning-tree portfast feature is enabled | bool\n",
    "Speed | Link speed in bits/sec | float\n",
    "Switchport | Whether the interface is configured as switchport | bool\n",
    "Switchport_Mode | Switchport mode (ACCESS, DOT1Q_TUNNEL, DYNAMIC_AUTO, DYNAMIC_DESIRABLE, FEX_FABRIC, MONITOR, NONE, TAP, TOOL, TRUNK) for switchport interfaces | str\n",
    "Switchport_Trunk_Encapsulation | Encapsulation type (DOT1Q, ISL, NEGOTIATE) for switchport trunk interfaces | str\n",
    "VRF | Name of the VRF to which the interface belongs | str\n",
    "VRRP_Groups | All VRRP groups to which the interface belongs | List of int\n",
    "Zone_Name | Name of the firewall zone to which the interface belongs | str"
   ]
  },
  {
   "cell_type": "markdown",
   "metadata": {},
   "source": [
    "Print the first 5 rows of the returned Dataframe"
   ]
  },
  {
   "cell_type": "code",
   "execution_count": 12,
   "metadata": {},
   "outputs": [
    {
     "data": {
      "text/html": [
       "<div>\n",
       "<style scoped>\n",
       "    .dataframe tbody tr th:only-of-type {\n",
       "        vertical-align: middle;\n",
       "    }\n",
       "\n",
       "    .dataframe tbody tr th {\n",
       "        vertical-align: top;\n",
       "    }\n",
       "\n",
       "    .dataframe thead th {\n",
       "        text-align: right;\n",
       "    }\n",
       "</style>\n",
       "<table border=\"1\" class=\"dataframe\">\n",
       "  <thead>\n",
       "    <tr style=\"text-align: right;\">\n",
       "      <th></th>\n",
       "      <th>Interface</th>\n",
       "      <th>Access_VLAN</th>\n",
       "      <th>Active</th>\n",
       "      <th>All_Prefixes</th>\n",
       "      <th>Allowed_VLANs</th>\n",
       "      <th>Auto_State_VLAN</th>\n",
       "      <th>Bandwidth</th>\n",
       "      <th>Blacklisted</th>\n",
       "      <th>Channel_Group</th>\n",
       "      <th>Channel_Group_Members</th>\n",
       "      <th>...</th>\n",
       "      <th>Rip_Enabled</th>\n",
       "      <th>Rip_Passive</th>\n",
       "      <th>Spanning_Tree_Portfast</th>\n",
       "      <th>Speed</th>\n",
       "      <th>Switchport</th>\n",
       "      <th>Switchport_Mode</th>\n",
       "      <th>Switchport_Trunk_Encapsulation</th>\n",
       "      <th>VRF</th>\n",
       "      <th>VRRP_Groups</th>\n",
       "      <th>Zone_Name</th>\n",
       "    </tr>\n",
       "  </thead>\n",
       "  <tbody>\n",
       "    <tr>\n",
       "      <th>0</th>\n",
       "      <td>as2dist1[GigabitEthernet2/0]</td>\n",
       "      <td>None</td>\n",
       "      <td>True</td>\n",
       "      <td>['2.34.101.3/24']</td>\n",
       "      <td></td>\n",
       "      <td>True</td>\n",
       "      <td>1e+09</td>\n",
       "      <td>False</td>\n",
       "      <td>None</td>\n",
       "      <td>[]</td>\n",
       "      <td>...</td>\n",
       "      <td>False</td>\n",
       "      <td>False</td>\n",
       "      <td>False</td>\n",
       "      <td>1e+09</td>\n",
       "      <td>False</td>\n",
       "      <td>NONE</td>\n",
       "      <td>DOT1Q</td>\n",
       "      <td>default</td>\n",
       "      <td>[]</td>\n",
       "      <td>None</td>\n",
       "    </tr>\n",
       "    <tr>\n",
       "      <th>1</th>\n",
       "      <td>as3core1[Loopback0]</td>\n",
       "      <td>None</td>\n",
       "      <td>True</td>\n",
       "      <td>['3.10.1.1/32']</td>\n",
       "      <td></td>\n",
       "      <td>True</td>\n",
       "      <td>8e+09</td>\n",
       "      <td>False</td>\n",
       "      <td>None</td>\n",
       "      <td>[]</td>\n",
       "      <td>...</td>\n",
       "      <td>False</td>\n",
       "      <td>False</td>\n",
       "      <td>False</td>\n",
       "      <td>None</td>\n",
       "      <td>False</td>\n",
       "      <td>NONE</td>\n",
       "      <td>DOT1Q</td>\n",
       "      <td>default</td>\n",
       "      <td>[]</td>\n",
       "      <td>None</td>\n",
       "    </tr>\n",
       "    <tr>\n",
       "      <th>2</th>\n",
       "      <td>as1core1[Loopback0]</td>\n",
       "      <td>None</td>\n",
       "      <td>True</td>\n",
       "      <td>['1.10.1.1/32']</td>\n",
       "      <td></td>\n",
       "      <td>True</td>\n",
       "      <td>8e+09</td>\n",
       "      <td>False</td>\n",
       "      <td>None</td>\n",
       "      <td>[]</td>\n",
       "      <td>...</td>\n",
       "      <td>False</td>\n",
       "      <td>False</td>\n",
       "      <td>False</td>\n",
       "      <td>None</td>\n",
       "      <td>False</td>\n",
       "      <td>NONE</td>\n",
       "      <td>DOT1Q</td>\n",
       "      <td>default</td>\n",
       "      <td>[]</td>\n",
       "      <td>None</td>\n",
       "    </tr>\n",
       "    <tr>\n",
       "      <th>3</th>\n",
       "      <td>as2border1[Loopback0]</td>\n",
       "      <td>None</td>\n",
       "      <td>True</td>\n",
       "      <td>['2.1.1.1/32']</td>\n",
       "      <td></td>\n",
       "      <td>True</td>\n",
       "      <td>8e+09</td>\n",
       "      <td>False</td>\n",
       "      <td>None</td>\n",
       "      <td>[]</td>\n",
       "      <td>...</td>\n",
       "      <td>False</td>\n",
       "      <td>False</td>\n",
       "      <td>False</td>\n",
       "      <td>None</td>\n",
       "      <td>False</td>\n",
       "      <td>NONE</td>\n",
       "      <td>DOT1Q</td>\n",
       "      <td>default</td>\n",
       "      <td>[]</td>\n",
       "      <td>None</td>\n",
       "    </tr>\n",
       "    <tr>\n",
       "      <th>4</th>\n",
       "      <td>as2border2[GigabitEthernet2/0]</td>\n",
       "      <td>None</td>\n",
       "      <td>True</td>\n",
       "      <td>['2.12.21.1/24']</td>\n",
       "      <td></td>\n",
       "      <td>True</td>\n",
       "      <td>1e+09</td>\n",
       "      <td>False</td>\n",
       "      <td>None</td>\n",
       "      <td>[]</td>\n",
       "      <td>...</td>\n",
       "      <td>False</td>\n",
       "      <td>False</td>\n",
       "      <td>False</td>\n",
       "      <td>1e+09</td>\n",
       "      <td>False</td>\n",
       "      <td>NONE</td>\n",
       "      <td>DOT1Q</td>\n",
       "      <td>default</td>\n",
       "      <td>[]</td>\n",
       "      <td>None</td>\n",
       "    </tr>\n",
       "  </tbody>\n",
       "</table>\n",
       "<p>5 rows × 35 columns</p>\n",
       "</div>"
      ],
      "text/plain": [
       "                        Interface Access_VLAN Active       All_Prefixes Allowed_VLANs Auto_State_VLAN Bandwidth Blacklisted Channel_Group Channel_Group_Members  ... Rip_Enabled Rip_Passive Spanning_Tree_Portfast  Speed Switchport Switchport_Mode Switchport_Trunk_Encapsulation      VRF VRRP_Groups  \\\n",
       "0  as2dist1[GigabitEthernet2/0]    None        True   ['2.34.101.3/24']                True            1e+09     False       None          []                    ...  False       False       False                  1e+09  False      NONE            DOT1Q                          default  []           \n",
       "1  as3core1[Loopback0]             None        True   ['3.10.1.1/32']                  True            8e+09     False       None          []                    ...  False       False       False                  None   False      NONE            DOT1Q                          default  []           \n",
       "2  as1core1[Loopback0]             None        True   ['1.10.1.1/32']                  True            8e+09     False       None          []                    ...  False       False       False                  None   False      NONE            DOT1Q                          default  []           \n",
       "3  as2border1[Loopback0]           None        True   ['2.1.1.1/32']                   True            8e+09     False       None          []                    ...  False       False       False                  None   False      NONE            DOT1Q                          default  []           \n",
       "4  as2border2[GigabitEthernet2/0]  None        True   ['2.12.21.1/24']                 True            1e+09     False       None          []                    ...  False       False       False                  1e+09  False      NONE            DOT1Q                          default  []           \n",
       "\n",
       "  Zone_Name  \n",
       "0  None      \n",
       "1  None      \n",
       "2  None      \n",
       "3  None      \n",
       "4  None      \n",
       "\n",
       "[5 rows x 35 columns]"
      ]
     },
     "execution_count": 12,
     "metadata": {},
     "output_type": "execute_result"
    }
   ],
   "source": [
    "result.head(5)"
   ]
  },
  {
   "cell_type": "markdown",
   "metadata": {},
   "source": [
    "Print the first row of the returned Dataframe"
   ]
  },
  {
   "cell_type": "code",
   "execution_count": 13,
   "metadata": {},
   "outputs": [
    {
     "data": {
      "text/plain": [
       "Interface                         as2dist1[GigabitEthernet2/0]\n",
       "Access_VLAN                       None                        \n",
       "Active                            True                        \n",
       "All_Prefixes                      ['2.34.101.3/24']           \n",
       "Allowed_VLANs                                                 \n",
       "Auto_State_VLAN                   True                        \n",
       "Bandwidth                         1e+09                       \n",
       "Blacklisted                       False                       \n",
       "Channel_Group                     None                        \n",
       "Channel_Group_Members             []                          \n",
       "DHCP_Relay_Addresses              []                          \n",
       "Declared_Names                    ['GigabitEthernet2/0']      \n",
       "Description                       None                        \n",
       "Encapsulation_VLAN                None                        \n",
       "HSRP_Groups                       []                          \n",
       "HSRP_Version                      None                        \n",
       "Incoming_Filter_Name              None                        \n",
       "MLAG_ID                           None                        \n",
       "MTU                               1500                        \n",
       "Native_VLAN                       None                        \n",
       "Outgoing_Filter_Name              None                        \n",
       "PBR_Policy_Name                   None                        \n",
       "Primary_Address                   2.34.101.3/24               \n",
       "Primary_Network                   2.34.101.0/24               \n",
       "Proxy_ARP                         True                        \n",
       "Rip_Enabled                       False                       \n",
       "Rip_Passive                       False                       \n",
       "Spanning_Tree_Portfast            False                       \n",
       "Speed                             1e+09                       \n",
       "Switchport                        False                       \n",
       "Switchport_Mode                   NONE                        \n",
       "Switchport_Trunk_Encapsulation    DOT1Q                       \n",
       "VRF                               default                     \n",
       "VRRP_Groups                       []                          \n",
       "Zone_Name                         None                        \n",
       "Name: 0, dtype: object"
      ]
     },
     "execution_count": 13,
     "metadata": {},
     "output_type": "execute_result"
    }
   ],
   "source": [
    "result.iloc[0]"
   ]
  },
  {
   "cell_type": "code",
   "execution_count": 14,
   "metadata": {
    "nbsphinx": "hidden"
   },
   "outputs": [
    {
     "data": {
      "text/plain": [
       "'generate_questions'"
      ]
     },
     "execution_count": 14,
     "metadata": {},
     "output_type": "execute_result"
    }
   ],
   "source": [
    "bf_set_network('generate_questions')"
   ]
  },
  {
   "cell_type": "code",
   "execution_count": 15,
   "metadata": {
    "nbsphinx": "hidden"
   },
   "outputs": [
    {
     "data": {
      "text/plain": [
       "'generate_questions'"
      ]
     },
     "execution_count": 15,
     "metadata": {},
     "output_type": "execute_result"
    }
   ],
   "source": [
    "bf_set_snapshot('generate_questions')"
   ]
  },
  {
   "cell_type": "markdown",
   "metadata": {},
   "source": [
    "##### BGP Process Configuration"
   ]
  },
  {
   "cell_type": "markdown",
   "metadata": {},
   "source": [
    "Returns configuration settings of BGP processes."
   ]
  },
  {
   "cell_type": "markdown",
   "metadata": {},
   "source": [
    "Reports configuration settings for each BGP process on each node and VRF in the network. This question reports only process-wide settings. Peer-specific settings are reported by the bgpPeerConfiguration question."
   ]
  },
  {
   "cell_type": "markdown",
   "metadata": {},
   "source": [
    "###### Inputs"
   ]
  },
  {
   "cell_type": "markdown",
   "metadata": {},
   "source": [
    "Name | Description | Type | Optional | Default Value\n",
    "--- | --- | --- | --- | --- \n",
    "nodes | Include nodes matching this name or regex. | [NodeSpec](../specifiers.md#node-specifier) | True | \n",
    "properties | Include properties matching this regex. | [BgpProcessPropertySpec](../specifiers.md#bgp-process-property-specifier) | True | "
   ]
  },
  {
   "cell_type": "markdown",
   "metadata": {},
   "source": [
    "###### Invocation"
   ]
  },
  {
   "cell_type": "code",
   "execution_count": 16,
   "metadata": {},
   "outputs": [],
   "source": [
    "result = bfq.bgpProcessConfiguration().answer().frame()"
   ]
  },
  {
   "cell_type": "markdown",
   "metadata": {},
   "source": [
    "###### Return Value"
   ]
  },
  {
   "cell_type": "markdown",
   "metadata": {},
   "source": [
    "Name | Description | Type\n",
    "--- | --- | ---\n",
    "Node | Node | str\n",
    "VRF | VRF | str\n",
    "Router_ID | Router ID | str\n",
    "Confederation_ID | Externally visible autonomous system number for the confederation | int\n",
    "Confederation_Members | Set of autonomous system numbers visible only within this BGP confederation | Set of int\n",
    "Multipath_EBGP | Whether multipath routing is enabled for EBGP | bool\n",
    "Multipath_IBGP | Whether multipath routing is enabled for IBGP | bool\n",
    "Multipath_Match_Mode | Which AS paths are considered equivalent (EXACT_PATH, FIRST_AS, PATH_LENGTH) when multipath BGP is enabled | str\n",
    "Neighbors | All peers configured on this process, identified by peer address (for active and dynamic peers) or peer interface (for BGP unnumbered peers) | Set of str\n",
    "Route_Reflector | Whether any BGP peer in this process is configured as a route reflector client, for ipv4 unicast address family | bool\n",
    "Tie_Breaker | Tie breaking mode (ARRIVAL_ORDER, CLUSTER_LIST_LENGTH, ROUTER_ID) | str"
   ]
  },
  {
   "cell_type": "markdown",
   "metadata": {},
   "source": [
    "Print the first 5 rows of the returned Dataframe"
   ]
  },
  {
   "cell_type": "code",
   "execution_count": 17,
   "metadata": {},
   "outputs": [
    {
     "data": {
      "text/html": [
       "<div>\n",
       "<style scoped>\n",
       "    .dataframe tbody tr th:only-of-type {\n",
       "        vertical-align: middle;\n",
       "    }\n",
       "\n",
       "    .dataframe tbody tr th {\n",
       "        vertical-align: top;\n",
       "    }\n",
       "\n",
       "    .dataframe thead th {\n",
       "        text-align: right;\n",
       "    }\n",
       "</style>\n",
       "<table border=\"1\" class=\"dataframe\">\n",
       "  <thead>\n",
       "    <tr style=\"text-align: right;\">\n",
       "      <th></th>\n",
       "      <th>Node</th>\n",
       "      <th>VRF</th>\n",
       "      <th>Router_ID</th>\n",
       "      <th>Confederation_ID</th>\n",
       "      <th>Confederation_Members</th>\n",
       "      <th>Multipath_EBGP</th>\n",
       "      <th>Multipath_IBGP</th>\n",
       "      <th>Multipath_Match_Mode</th>\n",
       "      <th>Neighbors</th>\n",
       "      <th>Route_Reflector</th>\n",
       "      <th>Tie_Breaker</th>\n",
       "    </tr>\n",
       "  </thead>\n",
       "  <tbody>\n",
       "    <tr>\n",
       "      <th>0</th>\n",
       "      <td>as2dept1</td>\n",
       "      <td>default</td>\n",
       "      <td>2.1.4.1</td>\n",
       "      <td>None</td>\n",
       "      <td>None</td>\n",
       "      <td>True</td>\n",
       "      <td>True</td>\n",
       "      <td>EXACT_PATH</td>\n",
       "      <td>['2.34.101.3/32', '2.34.201.3/32']</td>\n",
       "      <td>False</td>\n",
       "      <td>ARRIVAL_ORDER</td>\n",
       "    </tr>\n",
       "    <tr>\n",
       "      <th>1</th>\n",
       "      <td>as2border2</td>\n",
       "      <td>default</td>\n",
       "      <td>2.1.1.2</td>\n",
       "      <td>None</td>\n",
       "      <td>None</td>\n",
       "      <td>True</td>\n",
       "      <td>True</td>\n",
       "      <td>EXACT_PATH</td>\n",
       "      <td>['2.1.2.1/32', '2.1.2.2/32', '10.23.21.3/32']</td>\n",
       "      <td>False</td>\n",
       "      <td>ARRIVAL_ORDER</td>\n",
       "    </tr>\n",
       "    <tr>\n",
       "      <th>2</th>\n",
       "      <td>as2dist2</td>\n",
       "      <td>default</td>\n",
       "      <td>2.1.3.2</td>\n",
       "      <td>None</td>\n",
       "      <td>None</td>\n",
       "      <td>True</td>\n",
       "      <td>True</td>\n",
       "      <td>EXACT_PATH</td>\n",
       "      <td>['2.1.2.1/32', '2.1.2.2/32', '2.34.201.4/32']</td>\n",
       "      <td>False</td>\n",
       "      <td>ARRIVAL_ORDER</td>\n",
       "    </tr>\n",
       "    <tr>\n",
       "      <th>3</th>\n",
       "      <td>as3border2</td>\n",
       "      <td>default</td>\n",
       "      <td>3.2.2.2</td>\n",
       "      <td>None</td>\n",
       "      <td>None</td>\n",
       "      <td>True</td>\n",
       "      <td>True</td>\n",
       "      <td>EXACT_PATH</td>\n",
       "      <td>['3.10.1.1/32', '10.13.22.1/32']</td>\n",
       "      <td>False</td>\n",
       "      <td>ARRIVAL_ORDER</td>\n",
       "    </tr>\n",
       "    <tr>\n",
       "      <th>4</th>\n",
       "      <td>as3core1</td>\n",
       "      <td>default</td>\n",
       "      <td>3.10.1.1</td>\n",
       "      <td>None</td>\n",
       "      <td>None</td>\n",
       "      <td>True</td>\n",
       "      <td>True</td>\n",
       "      <td>EXACT_PATH</td>\n",
       "      <td>['3.1.1.1/32', '3.2.2.2/32']</td>\n",
       "      <td>True</td>\n",
       "      <td>ARRIVAL_ORDER</td>\n",
       "    </tr>\n",
       "  </tbody>\n",
       "</table>\n",
       "</div>"
      ],
      "text/plain": [
       "         Node      VRF Router_ID Confederation_ID Confederation_Members Multipath_EBGP Multipath_IBGP Multipath_Match_Mode                                      Neighbors Route_Reflector    Tie_Breaker\n",
       "0  as2dept1    default  2.1.4.1   None             None                  True           True           EXACT_PATH           ['2.34.101.3/32', '2.34.201.3/32']             False           ARRIVAL_ORDER\n",
       "1  as2border2  default  2.1.1.2   None             None                  True           True           EXACT_PATH           ['2.1.2.1/32', '2.1.2.2/32', '10.23.21.3/32']  False           ARRIVAL_ORDER\n",
       "2  as2dist2    default  2.1.3.2   None             None                  True           True           EXACT_PATH           ['2.1.2.1/32', '2.1.2.2/32', '2.34.201.4/32']  False           ARRIVAL_ORDER\n",
       "3  as3border2  default  3.2.2.2   None             None                  True           True           EXACT_PATH           ['3.10.1.1/32', '10.13.22.1/32']               False           ARRIVAL_ORDER\n",
       "4  as3core1    default  3.10.1.1  None             None                  True           True           EXACT_PATH           ['3.1.1.1/32', '3.2.2.2/32']                   True            ARRIVAL_ORDER"
      ]
     },
     "execution_count": 17,
     "metadata": {},
     "output_type": "execute_result"
    }
   ],
   "source": [
    "result.head(5)"
   ]
  },
  {
   "cell_type": "markdown",
   "metadata": {},
   "source": [
    "Print the first row of the returned Dataframe"
   ]
  },
  {
   "cell_type": "code",
   "execution_count": 18,
   "metadata": {},
   "outputs": [
    {
     "data": {
      "text/plain": [
       "Node                     as2dept1                          \n",
       "VRF                      default                           \n",
       "Router_ID                2.1.4.1                           \n",
       "Confederation_ID         None                              \n",
       "Confederation_Members    None                              \n",
       "Multipath_EBGP           True                              \n",
       "Multipath_IBGP           True                              \n",
       "Multipath_Match_Mode     EXACT_PATH                        \n",
       "Neighbors                ['2.34.101.3/32', '2.34.201.3/32']\n",
       "Route_Reflector          False                             \n",
       "Tie_Breaker              ARRIVAL_ORDER                     \n",
       "Name: 0, dtype: object"
      ]
     },
     "execution_count": 18,
     "metadata": {},
     "output_type": "execute_result"
    }
   ],
   "source": [
    "result.iloc[0]"
   ]
  },
  {
   "cell_type": "code",
   "execution_count": 19,
   "metadata": {
    "nbsphinx": "hidden"
   },
   "outputs": [
    {
     "data": {
      "text/plain": [
       "'generate_questions'"
      ]
     },
     "execution_count": 19,
     "metadata": {},
     "output_type": "execute_result"
    }
   ],
   "source": [
    "bf_set_network('generate_questions')"
   ]
  },
  {
   "cell_type": "code",
   "execution_count": 20,
   "metadata": {
    "nbsphinx": "hidden"
   },
   "outputs": [
    {
     "data": {
      "text/plain": [
       "'generate_questions'"
      ]
     },
     "execution_count": 20,
     "metadata": {},
     "output_type": "execute_result"
    }
   ],
   "source": [
    "bf_set_snapshot('generate_questions')"
   ]
  },
  {
   "cell_type": "markdown",
   "metadata": {},
   "source": [
    "##### BGP Peer Configuration"
   ]
  },
  {
   "cell_type": "markdown",
   "metadata": {},
   "source": [
    "Returns configuration settings for BGP peerings."
   ]
  },
  {
   "cell_type": "markdown",
   "metadata": {},
   "source": [
    "Reports configuration settings for each configured BGP peering on each node in the network. This question reports peer-specific settings. Settings that are process-wide are reported by the bgpProcessConfiguration question."
   ]
  },
  {
   "cell_type": "markdown",
   "metadata": {},
   "source": [
    "###### Inputs"
   ]
  },
  {
   "cell_type": "markdown",
   "metadata": {},
   "source": [
    "Name | Description | Type | Optional | Default Value\n",
    "--- | --- | --- | --- | --- \n",
    "nodes | Include nodes matching this name or regex. | [NodeSpec](../specifiers.md#node-specifier) | True | \n",
    "properties | Include properties matching this regex. | [BgpPeerPropertySpec](../specifiers.md#bgp-peer-property-specifier) | True | "
   ]
  },
  {
   "cell_type": "markdown",
   "metadata": {},
   "source": [
    "###### Invocation"
   ]
  },
  {
   "cell_type": "code",
   "execution_count": 21,
   "metadata": {},
   "outputs": [],
   "source": [
    "result = bfq.bgpPeerConfiguration().answer().frame()"
   ]
  },
  {
   "cell_type": "markdown",
   "metadata": {},
   "source": [
    "###### Return Value"
   ]
  },
  {
   "cell_type": "markdown",
   "metadata": {},
   "source": [
    "Name | Description | Type\n",
    "--- | --- | ---\n",
    "Node | Node | str\n",
    "VRF | VRF | str\n",
    "Local_AS | Local AS number | int\n",
    "Local_IP | Local IPv4 address (null for BGP unnumbered peers) | str\n",
    "Local_Interface | Local Interface | str\n",
    "Confederation | Confederation AS number | int\n",
    "Remote_AS | Remote AS numbers with which this peer may establish a session | str\n",
    "Remote_IP | Remote IP | str\n",
    "Route_Reflector_Client | Whether this peer is a route reflector client | bool\n",
    "Cluster_ID | Cluster ID of this peer (null for peers that are not route reflector clients) | str\n",
    "Peer_Group | Name of the BGP peer group to which this peer belongs | str\n",
    "Import_Policy | Names of import policies to be applied to routes received by this peer | Set of str\n",
    "Export_Policy | Names of export policies to be applied to routes exported by this peer | Set of str\n",
    "Send_Community | Whether this peer propagates communities | bool\n",
    "Is_Passive | Whether this peer is passive | bool"
   ]
  },
  {
   "cell_type": "markdown",
   "metadata": {},
   "source": [
    "Print the first 5 rows of the returned Dataframe"
   ]
  },
  {
   "cell_type": "code",
   "execution_count": 22,
   "metadata": {},
   "outputs": [
    {
     "data": {
      "text/html": [
       "<div>\n",
       "<style scoped>\n",
       "    .dataframe tbody tr th:only-of-type {\n",
       "        vertical-align: middle;\n",
       "    }\n",
       "\n",
       "    .dataframe tbody tr th {\n",
       "        vertical-align: top;\n",
       "    }\n",
       "\n",
       "    .dataframe thead th {\n",
       "        text-align: right;\n",
       "    }\n",
       "</style>\n",
       "<table border=\"1\" class=\"dataframe\">\n",
       "  <thead>\n",
       "    <tr style=\"text-align: right;\">\n",
       "      <th></th>\n",
       "      <th>Node</th>\n",
       "      <th>VRF</th>\n",
       "      <th>Local_AS</th>\n",
       "      <th>Local_IP</th>\n",
       "      <th>Local_Interface</th>\n",
       "      <th>Confederation</th>\n",
       "      <th>Remote_AS</th>\n",
       "      <th>Remote_IP</th>\n",
       "      <th>Route_Reflector_Client</th>\n",
       "      <th>Cluster_ID</th>\n",
       "      <th>Peer_Group</th>\n",
       "      <th>Import_Policy</th>\n",
       "      <th>Export_Policy</th>\n",
       "      <th>Send_Community</th>\n",
       "      <th>Is_Passive</th>\n",
       "    </tr>\n",
       "  </thead>\n",
       "  <tbody>\n",
       "    <tr>\n",
       "      <th>0</th>\n",
       "      <td>as2core1</td>\n",
       "      <td>default</td>\n",
       "      <td>2</td>\n",
       "      <td>2.1.2.1</td>\n",
       "      <td>None</td>\n",
       "      <td>None</td>\n",
       "      <td>2</td>\n",
       "      <td>2.1.3.2</td>\n",
       "      <td>True</td>\n",
       "      <td>2.1.2.1</td>\n",
       "      <td>as2</td>\n",
       "      <td>[]</td>\n",
       "      <td>[]</td>\n",
       "      <td>True</td>\n",
       "      <td>False</td>\n",
       "    </tr>\n",
       "    <tr>\n",
       "      <th>1</th>\n",
       "      <td>as2core2</td>\n",
       "      <td>default</td>\n",
       "      <td>2</td>\n",
       "      <td>2.1.2.2</td>\n",
       "      <td>None</td>\n",
       "      <td>None</td>\n",
       "      <td>2</td>\n",
       "      <td>2.1.1.2</td>\n",
       "      <td>True</td>\n",
       "      <td>2.1.2.2</td>\n",
       "      <td>as2</td>\n",
       "      <td>[]</td>\n",
       "      <td>[]</td>\n",
       "      <td>True</td>\n",
       "      <td>False</td>\n",
       "    </tr>\n",
       "    <tr>\n",
       "      <th>2</th>\n",
       "      <td>as2core2</td>\n",
       "      <td>default</td>\n",
       "      <td>2</td>\n",
       "      <td>2.1.2.2</td>\n",
       "      <td>None</td>\n",
       "      <td>None</td>\n",
       "      <td>2</td>\n",
       "      <td>2.1.3.2</td>\n",
       "      <td>True</td>\n",
       "      <td>2.1.2.2</td>\n",
       "      <td>as2</td>\n",
       "      <td>[]</td>\n",
       "      <td>[]</td>\n",
       "      <td>True</td>\n",
       "      <td>False</td>\n",
       "    </tr>\n",
       "    <tr>\n",
       "      <th>3</th>\n",
       "      <td>as1border1</td>\n",
       "      <td>default</td>\n",
       "      <td>1</td>\n",
       "      <td>None</td>\n",
       "      <td>None</td>\n",
       "      <td>None</td>\n",
       "      <td>555</td>\n",
       "      <td>5.6.7.8</td>\n",
       "      <td>False</td>\n",
       "      <td>None</td>\n",
       "      <td>xanadu</td>\n",
       "      <td>[]</td>\n",
       "      <td>[]</td>\n",
       "      <td>False</td>\n",
       "      <td>False</td>\n",
       "    </tr>\n",
       "    <tr>\n",
       "      <th>4</th>\n",
       "      <td>as2dept1</td>\n",
       "      <td>default</td>\n",
       "      <td>65001</td>\n",
       "      <td>2.34.101.4</td>\n",
       "      <td>None</td>\n",
       "      <td>None</td>\n",
       "      <td>2</td>\n",
       "      <td>2.34.101.3</td>\n",
       "      <td>False</td>\n",
       "      <td>None</td>\n",
       "      <td>as2</td>\n",
       "      <td>['as2_to_dept']</td>\n",
       "      <td>['dept_to_as2']</td>\n",
       "      <td>True</td>\n",
       "      <td>False</td>\n",
       "    </tr>\n",
       "  </tbody>\n",
       "</table>\n",
       "</div>"
      ],
      "text/plain": [
       "         Node      VRF Local_AS    Local_IP Local_Interface Confederation Remote_AS   Remote_IP Route_Reflector_Client Cluster_ID Peer_Group    Import_Policy    Export_Policy Send_Community Is_Passive\n",
       "0  as2core1    default  2        2.1.2.1     None            None          2         2.1.3.2     True                   2.1.2.1    as2        []               []               True           False    \n",
       "1  as2core2    default  2        2.1.2.2     None            None          2         2.1.1.2     True                   2.1.2.2    as2        []               []               True           False    \n",
       "2  as2core2    default  2        2.1.2.2     None            None          2         2.1.3.2     True                   2.1.2.2    as2        []               []               True           False    \n",
       "3  as1border1  default  1        None        None            None          555       5.6.7.8     False                  None       xanadu     []               []               False          False    \n",
       "4  as2dept1    default  65001    2.34.101.4  None            None          2         2.34.101.3  False                  None       as2        ['as2_to_dept']  ['dept_to_as2']  True           False    "
      ]
     },
     "execution_count": 22,
     "metadata": {},
     "output_type": "execute_result"
    }
   ],
   "source": [
    "result.head(5)"
   ]
  },
  {
   "cell_type": "markdown",
   "metadata": {},
   "source": [
    "Print the first row of the returned Dataframe"
   ]
  },
  {
   "cell_type": "code",
   "execution_count": 23,
   "metadata": {},
   "outputs": [
    {
     "data": {
      "text/plain": [
       "Node                      as2core1\n",
       "VRF                       default \n",
       "Local_AS                  2       \n",
       "Local_IP                  2.1.2.1 \n",
       "Local_Interface           None    \n",
       "Confederation             None    \n",
       "Remote_AS                 2       \n",
       "Remote_IP                 2.1.3.2 \n",
       "Route_Reflector_Client    True    \n",
       "Cluster_ID                2.1.2.1 \n",
       "Peer_Group                as2     \n",
       "Import_Policy             []      \n",
       "Export_Policy             []      \n",
       "Send_Community            True    \n",
       "Is_Passive                False   \n",
       "Name: 0, dtype: object"
      ]
     },
     "execution_count": 23,
     "metadata": {},
     "output_type": "execute_result"
    }
   ],
   "source": [
    "result.iloc[0]"
   ]
  },
  {
   "cell_type": "code",
   "execution_count": 24,
   "metadata": {
    "nbsphinx": "hidden"
   },
   "outputs": [
    {
     "data": {
      "text/plain": [
       "'generate_questions'"
      ]
     },
     "execution_count": 24,
     "metadata": {},
     "output_type": "execute_result"
    }
   ],
   "source": [
    "bf_set_network('generate_questions')"
   ]
  },
  {
   "cell_type": "code",
   "execution_count": 25,
   "metadata": {
    "nbsphinx": "hidden"
   },
   "outputs": [
    {
     "data": {
      "text/plain": [
       "'generate_questions'"
      ]
     },
     "execution_count": 25,
     "metadata": {},
     "output_type": "execute_result"
    }
   ],
   "source": [
    "bf_set_snapshot('generate_questions')"
   ]
  },
  {
   "cell_type": "markdown",
   "metadata": {},
   "source": [
    "##### OSPF Process Configuration"
   ]
  },
  {
   "cell_type": "markdown",
   "metadata": {},
   "source": [
    "Returns configuration parameters for OSPF routing processes."
   ]
  },
  {
   "cell_type": "markdown",
   "metadata": {},
   "source": [
    "Returns the values of important properties for all OSPF processes running across the network."
   ]
  },
  {
   "cell_type": "markdown",
   "metadata": {},
   "source": [
    "###### Inputs"
   ]
  },
  {
   "cell_type": "markdown",
   "metadata": {},
   "source": [
    "Name | Description | Type | Optional | Default Value\n",
    "--- | --- | --- | --- | --- \n",
    "nodes | Include nodes matching this name or regex. | [NodeSpec](../specifiers.md#node-specifier) | True | \n",
    "properties | Include properties matching this specifier. | [OspfProcessPropertySpec](../specifiers.md#ospf-process-property-specifier) | True | "
   ]
  },
  {
   "cell_type": "markdown",
   "metadata": {},
   "source": [
    "###### Invocation"
   ]
  },
  {
   "cell_type": "code",
   "execution_count": 26,
   "metadata": {},
   "outputs": [],
   "source": [
    "result = bfq.ospfProcessConfiguration().answer().frame()"
   ]
  },
  {
   "cell_type": "markdown",
   "metadata": {},
   "source": [
    "###### Return Value"
   ]
  },
  {
   "cell_type": "markdown",
   "metadata": {},
   "source": [
    "Name | Description | Type\n",
    "--- | --- | ---\n",
    "Node | Node | str\n",
    "VRF | VRF name | str\n",
    "Process_ID | Process ID | str\n",
    "Areas | All OSPF areas for this process | Set of str\n",
    "Reference_Bandwidth | Reference bandwidth in bits/sec used to calculate interface OSPF cost | float\n",
    "Router_ID | Router ID of the process | str\n",
    "Export_Policy_Sources | Names of policies that determine which routes are exported into OSPF | Set of str\n",
    "Area_Border_Router | Whether this process is at the area border (with at least one interface in Area 0 and one in another area) | bool"
   ]
  },
  {
   "cell_type": "markdown",
   "metadata": {},
   "source": [
    "Print the first 5 rows of the returned Dataframe"
   ]
  },
  {
   "cell_type": "code",
   "execution_count": 27,
   "metadata": {},
   "outputs": [
    {
     "data": {
      "text/html": [
       "<div>\n",
       "<style scoped>\n",
       "    .dataframe tbody tr th:only-of-type {\n",
       "        vertical-align: middle;\n",
       "    }\n",
       "\n",
       "    .dataframe tbody tr th {\n",
       "        vertical-align: top;\n",
       "    }\n",
       "\n",
       "    .dataframe thead th {\n",
       "        text-align: right;\n",
       "    }\n",
       "</style>\n",
       "<table border=\"1\" class=\"dataframe\">\n",
       "  <thead>\n",
       "    <tr style=\"text-align: right;\">\n",
       "      <th></th>\n",
       "      <th>Node</th>\n",
       "      <th>VRF</th>\n",
       "      <th>Process_ID</th>\n",
       "      <th>Areas</th>\n",
       "      <th>Reference_Bandwidth</th>\n",
       "      <th>Router_ID</th>\n",
       "      <th>Export_Policy_Sources</th>\n",
       "      <th>Area_Border_Router</th>\n",
       "    </tr>\n",
       "  </thead>\n",
       "  <tbody>\n",
       "    <tr>\n",
       "      <th>0</th>\n",
       "      <td>as2border1</td>\n",
       "      <td>default</td>\n",
       "      <td>1</td>\n",
       "      <td>['1']</td>\n",
       "      <td>1e+08</td>\n",
       "      <td>2.1.1.1</td>\n",
       "      <td>[]</td>\n",
       "      <td>False</td>\n",
       "    </tr>\n",
       "    <tr>\n",
       "      <th>1</th>\n",
       "      <td>as2core1</td>\n",
       "      <td>default</td>\n",
       "      <td>1</td>\n",
       "      <td>['1']</td>\n",
       "      <td>1e+08</td>\n",
       "      <td>2.1.2.1</td>\n",
       "      <td>[]</td>\n",
       "      <td>False</td>\n",
       "    </tr>\n",
       "    <tr>\n",
       "      <th>2</th>\n",
       "      <td>as2dist1</td>\n",
       "      <td>default</td>\n",
       "      <td>1</td>\n",
       "      <td>['1']</td>\n",
       "      <td>1e+08</td>\n",
       "      <td>2.1.3.1</td>\n",
       "      <td>[]</td>\n",
       "      <td>False</td>\n",
       "    </tr>\n",
       "    <tr>\n",
       "      <th>3</th>\n",
       "      <td>as2dist2</td>\n",
       "      <td>default</td>\n",
       "      <td>1</td>\n",
       "      <td>['1']</td>\n",
       "      <td>1e+08</td>\n",
       "      <td>2.1.3.2</td>\n",
       "      <td>[]</td>\n",
       "      <td>False</td>\n",
       "    </tr>\n",
       "    <tr>\n",
       "      <th>4</th>\n",
       "      <td>as1border2</td>\n",
       "      <td>default</td>\n",
       "      <td>1</td>\n",
       "      <td>['1']</td>\n",
       "      <td>1e+08</td>\n",
       "      <td>1.2.2.2</td>\n",
       "      <td>[]</td>\n",
       "      <td>False</td>\n",
       "    </tr>\n",
       "  </tbody>\n",
       "</table>\n",
       "</div>"
      ],
      "text/plain": [
       "         Node      VRF Process_ID  Areas Reference_Bandwidth Router_ID Export_Policy_Sources Area_Border_Router\n",
       "0  as2border1  default  1          ['1']  1e+08               2.1.1.1   []                    False            \n",
       "1  as2core1    default  1          ['1']  1e+08               2.1.2.1   []                    False            \n",
       "2  as2dist1    default  1          ['1']  1e+08               2.1.3.1   []                    False            \n",
       "3  as2dist2    default  1          ['1']  1e+08               2.1.3.2   []                    False            \n",
       "4  as1border2  default  1          ['1']  1e+08               1.2.2.2   []                    False            "
      ]
     },
     "execution_count": 27,
     "metadata": {},
     "output_type": "execute_result"
    }
   ],
   "source": [
    "result.head(5)"
   ]
  },
  {
   "cell_type": "markdown",
   "metadata": {},
   "source": [
    "Print the first row of the returned Dataframe"
   ]
  },
  {
   "cell_type": "code",
   "execution_count": 28,
   "metadata": {},
   "outputs": [
    {
     "data": {
      "text/plain": [
       "Node                     as2border1\n",
       "VRF                      default   \n",
       "Process_ID               1         \n",
       "Areas                    ['1']     \n",
       "Reference_Bandwidth      1e+08     \n",
       "Router_ID                2.1.1.1   \n",
       "Export_Policy_Sources    []        \n",
       "Area_Border_Router       False     \n",
       "Name: 0, dtype: object"
      ]
     },
     "execution_count": 28,
     "metadata": {},
     "output_type": "execute_result"
    }
   ],
   "source": [
    "result.iloc[0]"
   ]
  },
  {
   "cell_type": "code",
   "execution_count": 29,
   "metadata": {
    "nbsphinx": "hidden"
   },
   "outputs": [
    {
     "data": {
      "text/plain": [
       "'generate_questions'"
      ]
     },
     "execution_count": 29,
     "metadata": {},
     "output_type": "execute_result"
    }
   ],
   "source": [
    "bf_set_network('generate_questions')"
   ]
  },
  {
   "cell_type": "code",
   "execution_count": 30,
   "metadata": {
    "nbsphinx": "hidden"
   },
   "outputs": [
    {
     "data": {
      "text/plain": [
       "'generate_questions'"
      ]
     },
     "execution_count": 30,
     "metadata": {},
     "output_type": "execute_result"
    }
   ],
   "source": [
    "bf_set_snapshot('generate_questions')"
   ]
  },
  {
   "cell_type": "markdown",
   "metadata": {},
   "source": [
    "##### OSPF Interface Configuration"
   ]
  },
  {
   "cell_type": "markdown",
   "metadata": {},
   "source": [
    "Returns OSPF configuration of interfaces."
   ]
  },
  {
   "cell_type": "markdown",
   "metadata": {},
   "source": [
    "Returns the interface level OSPF configuration details for the interfaces in the network which run OSPF."
   ]
  },
  {
   "cell_type": "markdown",
   "metadata": {},
   "source": [
    "###### Inputs"
   ]
  },
  {
   "cell_type": "markdown",
   "metadata": {},
   "source": [
    "Name | Description | Type | Optional | Default Value\n",
    "--- | --- | --- | --- | --- \n",
    "nodes | Include nodes matching this specifier. | [NodeSpec](../specifiers.md#node-specifier) | True | \n",
    "properties | Include properties matching this specifier. | [OspfInterfacePropertySpec](../specifiers.md#ospf-interface-property-specifier) | True | "
   ]
  },
  {
   "cell_type": "markdown",
   "metadata": {},
   "source": [
    "###### Invocation"
   ]
  },
  {
   "cell_type": "code",
   "execution_count": 31,
   "metadata": {},
   "outputs": [],
   "source": [
    "result = bfq.ospfInterfaceConfiguration().answer().frame()"
   ]
  },
  {
   "cell_type": "markdown",
   "metadata": {},
   "source": [
    "###### Return Value"
   ]
  },
  {
   "cell_type": "markdown",
   "metadata": {},
   "source": [
    "Name | Description | Type\n",
    "--- | --- | ---\n",
    "Interface | Interface | [Interface](../datamodel.rst#pybatfish.datamodel.primitives.Interface)\n",
    "VRF | VRF name | str\n",
    "Process_ID | Process ID | str\n",
    "OSPF_Area_Name | OSPF area to which the interface belongs | int\n",
    "OSPF_Enabled | Whether OSPF is enabled | bool\n",
    "OSPF_Passive | Whether interface is in OSPF passive mode | bool\n",
    "OSPF_Cost | OSPF cost if explicitly configured | int\n",
    "OSPF_Network_Type | Type of OSPF network associated with the interface | str\n",
    "OSPF_Hello_Interval | Interval in seconds between sending OSPF hello messages | int\n",
    "OSPF_Dead_Interval | Interval in seconds before a silent OSPF neighbor is declared dead | int"
   ]
  },
  {
   "cell_type": "markdown",
   "metadata": {},
   "source": [
    "Print the first 5 rows of the returned Dataframe"
   ]
  },
  {
   "cell_type": "code",
   "execution_count": 32,
   "metadata": {},
   "outputs": [
    {
     "data": {
      "text/html": [
       "<div>\n",
       "<style scoped>\n",
       "    .dataframe tbody tr th:only-of-type {\n",
       "        vertical-align: middle;\n",
       "    }\n",
       "\n",
       "    .dataframe tbody tr th {\n",
       "        vertical-align: top;\n",
       "    }\n",
       "\n",
       "    .dataframe thead th {\n",
       "        text-align: right;\n",
       "    }\n",
       "</style>\n",
       "<table border=\"1\" class=\"dataframe\">\n",
       "  <thead>\n",
       "    <tr style=\"text-align: right;\">\n",
       "      <th></th>\n",
       "      <th>Interface</th>\n",
       "      <th>VRF</th>\n",
       "      <th>Process_ID</th>\n",
       "      <th>OSPF_Area_Name</th>\n",
       "      <th>OSPF_Enabled</th>\n",
       "      <th>OSPF_Passive</th>\n",
       "      <th>OSPF_Cost</th>\n",
       "      <th>OSPF_Network_Type</th>\n",
       "      <th>OSPF_Hello_Interval</th>\n",
       "      <th>OSPF_Dead_Interval</th>\n",
       "    </tr>\n",
       "  </thead>\n",
       "  <tbody>\n",
       "    <tr>\n",
       "      <th>0</th>\n",
       "      <td>as1core1[GigabitEthernet1/0]</td>\n",
       "      <td>default</td>\n",
       "      <td>1</td>\n",
       "      <td>1</td>\n",
       "      <td>True</td>\n",
       "      <td>False</td>\n",
       "      <td>1</td>\n",
       "      <td>BROADCAST</td>\n",
       "      <td>10</td>\n",
       "      <td>40</td>\n",
       "    </tr>\n",
       "    <tr>\n",
       "      <th>1</th>\n",
       "      <td>as1core1[GigabitEthernet0/0]</td>\n",
       "      <td>default</td>\n",
       "      <td>1</td>\n",
       "      <td>1</td>\n",
       "      <td>True</td>\n",
       "      <td>False</td>\n",
       "      <td>1</td>\n",
       "      <td>BROADCAST</td>\n",
       "      <td>10</td>\n",
       "      <td>40</td>\n",
       "    </tr>\n",
       "    <tr>\n",
       "      <th>2</th>\n",
       "      <td>as2dist1[Loopback0]</td>\n",
       "      <td>default</td>\n",
       "      <td>1</td>\n",
       "      <td>1</td>\n",
       "      <td>True</td>\n",
       "      <td>False</td>\n",
       "      <td>1</td>\n",
       "      <td>BROADCAST</td>\n",
       "      <td>10</td>\n",
       "      <td>40</td>\n",
       "    </tr>\n",
       "    <tr>\n",
       "      <th>3</th>\n",
       "      <td>as3core1[GigabitEthernet0/0]</td>\n",
       "      <td>default</td>\n",
       "      <td>1</td>\n",
       "      <td>1</td>\n",
       "      <td>True</td>\n",
       "      <td>False</td>\n",
       "      <td>1</td>\n",
       "      <td>BROADCAST</td>\n",
       "      <td>10</td>\n",
       "      <td>40</td>\n",
       "    </tr>\n",
       "    <tr>\n",
       "      <th>4</th>\n",
       "      <td>as3core1[GigabitEthernet1/0]</td>\n",
       "      <td>default</td>\n",
       "      <td>1</td>\n",
       "      <td>1</td>\n",
       "      <td>True</td>\n",
       "      <td>False</td>\n",
       "      <td>1</td>\n",
       "      <td>BROADCAST</td>\n",
       "      <td>10</td>\n",
       "      <td>40</td>\n",
       "    </tr>\n",
       "  </tbody>\n",
       "</table>\n",
       "</div>"
      ],
      "text/plain": [
       "                      Interface      VRF Process_ID OSPF_Area_Name OSPF_Enabled OSPF_Passive OSPF_Cost OSPF_Network_Type OSPF_Hello_Interval OSPF_Dead_Interval\n",
       "0  as1core1[GigabitEthernet1/0]  default  1          1              True         False        1         BROADCAST         10                  40               \n",
       "1  as1core1[GigabitEthernet0/0]  default  1          1              True         False        1         BROADCAST         10                  40               \n",
       "2  as2dist1[Loopback0]           default  1          1              True         False        1         BROADCAST         10                  40               \n",
       "3  as3core1[GigabitEthernet0/0]  default  1          1              True         False        1         BROADCAST         10                  40               \n",
       "4  as3core1[GigabitEthernet1/0]  default  1          1              True         False        1         BROADCAST         10                  40               "
      ]
     },
     "execution_count": 32,
     "metadata": {},
     "output_type": "execute_result"
    }
   ],
   "source": [
    "result.head(5)"
   ]
  },
  {
   "cell_type": "markdown",
   "metadata": {},
   "source": [
    "Print the first row of the returned Dataframe"
   ]
  },
  {
   "cell_type": "code",
   "execution_count": 33,
   "metadata": {},
   "outputs": [
    {
     "data": {
      "text/plain": [
       "Interface              as1core1[GigabitEthernet1/0]\n",
       "VRF                    default                     \n",
       "Process_ID             1                           \n",
       "OSPF_Area_Name         1                           \n",
       "OSPF_Enabled           True                        \n",
       "OSPF_Passive           False                       \n",
       "OSPF_Cost              1                           \n",
       "OSPF_Network_Type      BROADCAST                   \n",
       "OSPF_Hello_Interval    10                          \n",
       "OSPF_Dead_Interval     40                          \n",
       "Name: 0, dtype: object"
      ]
     },
     "execution_count": 33,
     "metadata": {},
     "output_type": "execute_result"
    }
   ],
   "source": [
    "result.iloc[0]"
   ]
  },
  {
   "cell_type": "code",
   "execution_count": 34,
   "metadata": {
    "nbsphinx": "hidden"
   },
   "outputs": [
    {
     "data": {
      "text/plain": [
       "'generate_questions'"
      ]
     },
     "execution_count": 34,
     "metadata": {},
     "output_type": "execute_result"
    }
   ],
   "source": [
    "bf_set_network('generate_questions')"
   ]
  },
  {
   "cell_type": "code",
   "execution_count": 35,
   "metadata": {
    "nbsphinx": "hidden"
   },
   "outputs": [
    {
     "data": {
      "text/plain": [
       "'generate_questions'"
      ]
     },
     "execution_count": 35,
     "metadata": {},
     "output_type": "execute_result"
    }
   ],
   "source": [
    "bf_set_snapshot('generate_questions')"
   ]
  },
  {
   "cell_type": "markdown",
   "metadata": {},
   "source": [
    "##### OSPF Area Configuration"
   ]
  },
  {
   "cell_type": "markdown",
   "metadata": {},
   "source": [
    "Returns configuration parameters of OSPF areas."
   ]
  },
  {
   "cell_type": "markdown",
   "metadata": {},
   "source": [
    "Returns information about all OSPF areas defined across the network."
   ]
  },
  {
   "cell_type": "markdown",
   "metadata": {},
   "source": [
    "###### Inputs"
   ]
  },
  {
   "cell_type": "markdown",
   "metadata": {},
   "source": [
    "Name | Description | Type | Optional | Default Value\n",
    "--- | --- | --- | --- | --- \n",
    "nodes | Include nodes matching this name or regex. | [NodeSpec](../specifiers.md#node-specifier) | True | "
   ]
  },
  {
   "cell_type": "markdown",
   "metadata": {},
   "source": [
    "###### Invocation"
   ]
  },
  {
   "cell_type": "code",
   "execution_count": 36,
   "metadata": {},
   "outputs": [],
   "source": [
    "result = bfq.ospfAreaConfiguration().answer().frame()"
   ]
  },
  {
   "cell_type": "markdown",
   "metadata": {},
   "source": [
    "###### Return Value"
   ]
  },
  {
   "cell_type": "markdown",
   "metadata": {},
   "source": [
    "Name | Description | Type\n",
    "--- | --- | ---\n",
    "Node | Node | str\n",
    "VRF | VRF | str\n",
    "Process_ID | Process ID | str\n",
    "Area | Area number | str\n",
    "Area_Type | Area type | str\n",
    "Active_Interfaces | Names of active interfaces | Set of str\n",
    "Passive_Interfaces | Names of passive interfaces | Set of str"
   ]
  },
  {
   "cell_type": "markdown",
   "metadata": {},
   "source": [
    "Print the first 5 rows of the returned Dataframe"
   ]
  },
  {
   "cell_type": "code",
   "execution_count": 37,
   "metadata": {},
   "outputs": [
    {
     "data": {
      "text/html": [
       "<div>\n",
       "<style scoped>\n",
       "    .dataframe tbody tr th:only-of-type {\n",
       "        vertical-align: middle;\n",
       "    }\n",
       "\n",
       "    .dataframe tbody tr th {\n",
       "        vertical-align: top;\n",
       "    }\n",
       "\n",
       "    .dataframe thead th {\n",
       "        text-align: right;\n",
       "    }\n",
       "</style>\n",
       "<table border=\"1\" class=\"dataframe\">\n",
       "  <thead>\n",
       "    <tr style=\"text-align: right;\">\n",
       "      <th></th>\n",
       "      <th>Node</th>\n",
       "      <th>VRF</th>\n",
       "      <th>Process_ID</th>\n",
       "      <th>Area</th>\n",
       "      <th>Area_Type</th>\n",
       "      <th>Active_Interfaces</th>\n",
       "      <th>Passive_Interfaces</th>\n",
       "    </tr>\n",
       "  </thead>\n",
       "  <tbody>\n",
       "    <tr>\n",
       "      <th>0</th>\n",
       "      <td>as2dist2</td>\n",
       "      <td>default</td>\n",
       "      <td>1</td>\n",
       "      <td>1</td>\n",
       "      <td>NONE</td>\n",
       "      <td>['GigabitEthernet0/0', 'GigabitEthernet1/0', 'Loopback0']</td>\n",
       "      <td>[]</td>\n",
       "    </tr>\n",
       "    <tr>\n",
       "      <th>1</th>\n",
       "      <td>as2border2</td>\n",
       "      <td>default</td>\n",
       "      <td>1</td>\n",
       "      <td>1</td>\n",
       "      <td>NONE</td>\n",
       "      <td>['GigabitEthernet1/0', 'GigabitEthernet2/0', 'Loopback0']</td>\n",
       "      <td>[]</td>\n",
       "    </tr>\n",
       "    <tr>\n",
       "      <th>2</th>\n",
       "      <td>as3core1</td>\n",
       "      <td>default</td>\n",
       "      <td>1</td>\n",
       "      <td>1</td>\n",
       "      <td>NONE</td>\n",
       "      <td>['GigabitEthernet0/0', 'GigabitEthernet1/0', 'Loopback0']</td>\n",
       "      <td>[]</td>\n",
       "    </tr>\n",
       "    <tr>\n",
       "      <th>3</th>\n",
       "      <td>as2core1</td>\n",
       "      <td>default</td>\n",
       "      <td>1</td>\n",
       "      <td>1</td>\n",
       "      <td>NONE</td>\n",
       "      <td>['GigabitEthernet0/0', 'GigabitEthernet1/0', 'GigabitEthernet2/0', 'GigabitEthernet3/0', 'Loopback0']</td>\n",
       "      <td>[]</td>\n",
       "    </tr>\n",
       "    <tr>\n",
       "      <th>4</th>\n",
       "      <td>as1border2</td>\n",
       "      <td>default</td>\n",
       "      <td>1</td>\n",
       "      <td>1</td>\n",
       "      <td>NONE</td>\n",
       "      <td>['GigabitEthernet1/0', 'Loopback0']</td>\n",
       "      <td>[]</td>\n",
       "    </tr>\n",
       "  </tbody>\n",
       "</table>\n",
       "</div>"
      ],
      "text/plain": [
       "         Node      VRF Process_ID Area Area_Type                                                                                      Active_Interfaces Passive_Interfaces\n",
       "0  as2dist2    default  1          1    NONE      ['GigabitEthernet0/0', 'GigabitEthernet1/0', 'Loopback0']                                              []               \n",
       "1  as2border2  default  1          1    NONE      ['GigabitEthernet1/0', 'GigabitEthernet2/0', 'Loopback0']                                              []               \n",
       "2  as3core1    default  1          1    NONE      ['GigabitEthernet0/0', 'GigabitEthernet1/0', 'Loopback0']                                              []               \n",
       "3  as2core1    default  1          1    NONE      ['GigabitEthernet0/0', 'GigabitEthernet1/0', 'GigabitEthernet2/0', 'GigabitEthernet3/0', 'Loopback0']  []               \n",
       "4  as1border2  default  1          1    NONE      ['GigabitEthernet1/0', 'Loopback0']                                                                    []               "
      ]
     },
     "execution_count": 37,
     "metadata": {},
     "output_type": "execute_result"
    }
   ],
   "source": [
    "result.head(5)"
   ]
  },
  {
   "cell_type": "markdown",
   "metadata": {},
   "source": [
    "Print the first row of the returned Dataframe"
   ]
  },
  {
   "cell_type": "code",
   "execution_count": 38,
   "metadata": {},
   "outputs": [
    {
     "data": {
      "text/plain": [
       "Node                  as2dist2                                                 \n",
       "VRF                   default                                                  \n",
       "Process_ID            1                                                        \n",
       "Area                  1                                                        \n",
       "Area_Type             NONE                                                     \n",
       "Active_Interfaces     ['GigabitEthernet0/0', 'GigabitEthernet1/0', 'Loopback0']\n",
       "Passive_Interfaces    []                                                       \n",
       "Name: 0, dtype: object"
      ]
     },
     "execution_count": 38,
     "metadata": {},
     "output_type": "execute_result"
    }
   ],
   "source": [
    "result.iloc[0]"
   ]
  },
  {
   "cell_type": "code",
   "execution_count": 39,
   "metadata": {
    "nbsphinx": "hidden"
   },
   "outputs": [
    {
     "data": {
      "text/plain": [
       "'generate_questions'"
      ]
     },
     "execution_count": 39,
     "metadata": {},
     "output_type": "execute_result"
    }
   ],
   "source": [
    "bf_set_network('generate_questions')"
   ]
  },
  {
   "cell_type": "code",
   "execution_count": 40,
   "metadata": {
    "nbsphinx": "hidden"
   },
   "outputs": [
    {
     "data": {
      "text/plain": [
       "'generate_questions'"
      ]
     },
     "execution_count": 40,
     "metadata": {},
     "output_type": "execute_result"
    }
   ],
   "source": [
    "bf_set_snapshot('generate_questions')"
   ]
  },
  {
   "cell_type": "markdown",
   "metadata": {},
   "source": [
    "##### IP Owners"
   ]
  },
  {
   "cell_type": "markdown",
   "metadata": {},
   "source": [
    "Returns where IP addresses are attached in the network."
   ]
  },
  {
   "cell_type": "markdown",
   "metadata": {},
   "source": [
    "For each device, lists the mapping from IPs to corresponding interface(s) and VRF(s)."
   ]
  },
  {
   "cell_type": "markdown",
   "metadata": {},
   "source": [
    "###### Inputs"
   ]
  },
  {
   "cell_type": "markdown",
   "metadata": {},
   "source": [
    "Name | Description | Type | Optional | Default Value\n",
    "--- | --- | --- | --- | --- \n",
    "duplicatesOnly | Restrict output to only IP addresses that are duplicated (configured on a different node or VRF) in the snapshot. | bool | False | False"
   ]
  },
  {
   "cell_type": "markdown",
   "metadata": {},
   "source": [
    "###### Invocation"
   ]
  },
  {
   "cell_type": "code",
   "execution_count": 41,
   "metadata": {},
   "outputs": [],
   "source": [
    "result = bfq.ipOwners().answer().frame()"
   ]
  },
  {
   "cell_type": "markdown",
   "metadata": {},
   "source": [
    "###### Return Value"
   ]
  },
  {
   "cell_type": "markdown",
   "metadata": {},
   "source": [
    "Name | Description | Type\n",
    "--- | --- | ---\n",
    "Node | Node hostname | str\n",
    "VRF | VRF name | str\n",
    "Interface | Interface name | str\n",
    "IP | IP address | str\n",
    "Mask | Network mask length | int\n",
    "Active | Whether the interface is active | bool"
   ]
  },
  {
   "cell_type": "markdown",
   "metadata": {},
   "source": [
    "Print the first 5 rows of the returned Dataframe"
   ]
  },
  {
   "cell_type": "code",
   "execution_count": 42,
   "metadata": {},
   "outputs": [
    {
     "data": {
      "text/html": [
       "<div>\n",
       "<style scoped>\n",
       "    .dataframe tbody tr th:only-of-type {\n",
       "        vertical-align: middle;\n",
       "    }\n",
       "\n",
       "    .dataframe tbody tr th {\n",
       "        vertical-align: top;\n",
       "    }\n",
       "\n",
       "    .dataframe thead th {\n",
       "        text-align: right;\n",
       "    }\n",
       "</style>\n",
       "<table border=\"1\" class=\"dataframe\">\n",
       "  <thead>\n",
       "    <tr style=\"text-align: right;\">\n",
       "      <th></th>\n",
       "      <th>Node</th>\n",
       "      <th>VRF</th>\n",
       "      <th>Interface</th>\n",
       "      <th>IP</th>\n",
       "      <th>Mask</th>\n",
       "      <th>Active</th>\n",
       "    </tr>\n",
       "  </thead>\n",
       "  <tbody>\n",
       "    <tr>\n",
       "      <th>0</th>\n",
       "      <td>as2dist2</td>\n",
       "      <td>default</td>\n",
       "      <td>Loopback0</td>\n",
       "      <td>2.1.3.2</td>\n",
       "      <td>32</td>\n",
       "      <td>True</td>\n",
       "    </tr>\n",
       "    <tr>\n",
       "      <th>1</th>\n",
       "      <td>as2dist1</td>\n",
       "      <td>default</td>\n",
       "      <td>Loopback0</td>\n",
       "      <td>2.1.3.1</td>\n",
       "      <td>32</td>\n",
       "      <td>True</td>\n",
       "    </tr>\n",
       "    <tr>\n",
       "      <th>2</th>\n",
       "      <td>as2dept1</td>\n",
       "      <td>default</td>\n",
       "      <td>GigabitEthernet1/0</td>\n",
       "      <td>2.34.201.4</td>\n",
       "      <td>24</td>\n",
       "      <td>True</td>\n",
       "    </tr>\n",
       "    <tr>\n",
       "      <th>3</th>\n",
       "      <td>as2dept1</td>\n",
       "      <td>default</td>\n",
       "      <td>Loopback0</td>\n",
       "      <td>2.1.1.2</td>\n",
       "      <td>32</td>\n",
       "      <td>True</td>\n",
       "    </tr>\n",
       "    <tr>\n",
       "      <th>4</th>\n",
       "      <td>as3border2</td>\n",
       "      <td>default</td>\n",
       "      <td>GigabitEthernet1/0</td>\n",
       "      <td>3.0.2.1</td>\n",
       "      <td>24</td>\n",
       "      <td>True</td>\n",
       "    </tr>\n",
       "  </tbody>\n",
       "</table>\n",
       "</div>"
      ],
      "text/plain": [
       "         Node      VRF           Interface          IP Mask Active\n",
       "0  as2dist2    default  Loopback0           2.1.3.2     32   True \n",
       "1  as2dist1    default  Loopback0           2.1.3.1     32   True \n",
       "2  as2dept1    default  GigabitEthernet1/0  2.34.201.4  24   True \n",
       "3  as2dept1    default  Loopback0           2.1.1.2     32   True \n",
       "4  as3border2  default  GigabitEthernet1/0  3.0.2.1     24   True "
      ]
     },
     "execution_count": 42,
     "metadata": {},
     "output_type": "execute_result"
    }
   ],
   "source": [
    "result.head(5)"
   ]
  },
  {
   "cell_type": "markdown",
   "metadata": {},
   "source": [
    "Print the first row of the returned Dataframe"
   ]
  },
  {
   "cell_type": "code",
   "execution_count": 43,
   "metadata": {},
   "outputs": [
    {
     "data": {
      "text/plain": [
       "Node         as2dist2 \n",
       "VRF          default  \n",
       "Interface    Loopback0\n",
       "IP           2.1.3.2  \n",
       "Mask         32       \n",
       "Active       True     \n",
       "Name: 0, dtype: object"
      ]
     },
     "execution_count": 43,
     "metadata": {},
     "output_type": "execute_result"
    }
   ],
   "source": [
    "result.iloc[0]"
   ]
  },
  {
   "cell_type": "code",
   "execution_count": 44,
   "metadata": {
    "nbsphinx": "hidden"
   },
   "outputs": [
    {
     "data": {
      "text/plain": [
       "'generate_questions'"
      ]
     },
     "execution_count": 44,
     "metadata": {},
     "output_type": "execute_result"
    }
   ],
   "source": [
    "bf_set_network('generate_questions')"
   ]
  },
  {
   "cell_type": "code",
   "execution_count": 45,
   "metadata": {
    "nbsphinx": "hidden"
   },
   "outputs": [
    {
     "data": {
      "text/plain": [
       "'generate_questions'"
      ]
     },
     "execution_count": 45,
     "metadata": {},
     "output_type": "execute_result"
    }
   ],
   "source": [
    "bf_set_snapshot('generate_questions')"
   ]
  },
  {
   "cell_type": "markdown",
   "metadata": {},
   "source": [
    "##### Named Structures"
   ]
  },
  {
   "cell_type": "markdown",
   "metadata": {},
   "source": [
    "Returns named structure definitions."
   ]
  },
  {
   "cell_type": "markdown",
   "metadata": {},
   "source": [
    "Return structures defined in the configurations, represented in a vendor-independent JSON format."
   ]
  },
  {
   "cell_type": "markdown",
   "metadata": {},
   "source": [
    "###### Inputs"
   ]
  },
  {
   "cell_type": "markdown",
   "metadata": {},
   "source": [
    "Name | Description | Type | Optional | Default Value\n",
    "--- | --- | --- | --- | --- \n",
    "nodes | Include nodes matching this specifier. | [NodeSpec](../specifiers.md#node-specifier) | True | \n",
    "structureTypes | Include structures of this type. | [NamedStructureSpec](../specifiers.md#named-structure-specifier) | True | \n",
    "structureNames | Include structures matching this name or regex. | str | True | \n",
    "ignoreGenerated | Whether to ignore auto-generated structures. | bool | True | True\n",
    "indicatePresence | Output if the structure is present or absent. | bool | True | "
   ]
  },
  {
   "cell_type": "markdown",
   "metadata": {},
   "source": [
    "###### Invocation"
   ]
  },
  {
   "cell_type": "code",
   "execution_count": 46,
   "metadata": {},
   "outputs": [],
   "source": [
    "result = bfq.namedStructures().answer().frame()"
   ]
  },
  {
   "cell_type": "markdown",
   "metadata": {},
   "source": [
    "###### Return Value"
   ]
  },
  {
   "cell_type": "markdown",
   "metadata": {},
   "source": [
    "Name | Description | Type\n",
    "--- | --- | ---\n",
    "Node | Node | str\n",
    "Structure_Type | Structure type | str\n",
    "Structure_Name | Structure name | str\n",
    "Structure_Definition | Structure definition | dict"
   ]
  },
  {
   "cell_type": "markdown",
   "metadata": {},
   "source": [
    "Print the first 5 rows of the returned Dataframe"
   ]
  },
  {
   "cell_type": "code",
   "execution_count": 47,
   "metadata": {},
   "outputs": [
    {
     "data": {
      "text/html": [
       "<div>\n",
       "<style scoped>\n",
       "    .dataframe tbody tr th:only-of-type {\n",
       "        vertical-align: middle;\n",
       "    }\n",
       "\n",
       "    .dataframe tbody tr th {\n",
       "        vertical-align: top;\n",
       "    }\n",
       "\n",
       "    .dataframe thead th {\n",
       "        text-align: right;\n",
       "    }\n",
       "</style>\n",
       "<table border=\"1\" class=\"dataframe\">\n",
       "  <thead>\n",
       "    <tr style=\"text-align: right;\">\n",
       "      <th></th>\n",
       "      <th>Node</th>\n",
       "      <th>Structure_Type</th>\n",
       "      <th>Structure_Name</th>\n",
       "      <th>Structure_Definition</th>\n",
       "    </tr>\n",
       "  </thead>\n",
       "  <tbody>\n",
       "    <tr>\n",
       "      <th>0</th>\n",
       "      <td>as3border1</td>\n",
       "      <td>Routing_Policy</td>\n",
       "      <td>as3_to_as2</td>\n",
       "      <td>{'name': 'as3_to_as2', 'statements': [{'class': 'org.batfish.datamodel.routing_policy.statement.If', 'comment': '~RMCLAUSE~as3_to_as2~1~', 'falseStatements': [{'class': 'org.batfish.datamodel.routing_policy.statement.If', 'comment': '~RMCLAUSE~as3_to_as2~3~', 'falseStatements': [{'class': 'org.batfish.datamodel.routing_policy.statement.If', 'comment': '~RMCLAUSE~as3_to_as2~5~', 'falseStatements': [{'class': 'org.batfish.datamodel.routing_policy.statement.Statements$StaticStatement', 'type': 'ReturnLocalDefaultAction'}], 'guard': {'class': 'org.batfish.datamodel.routing_policy.expr.MatchPrefixSet', 'prefix': {'class': 'org.batfish.datamodel.routing_policy.expr.DestinationNetwork'}, 'prefixSet': {'class': 'org.batfish.datamodel.routing_policy.expr.NamedPrefixSet', 'name': 'default_list'}}, 'trueStatements': [{'class': 'org.batfish.datamodel.routing_policy.statement.SetMetric', 'metric': {'class': 'org.batfish.datamodel.routing_policy.expr.LiteralLong', 'value': 50}}, {'class': 'org.batfish.datamodel.routing_policy.statement.AddCommunity', 'expr': {'class': 'org.batfish.datamodel.routing_policy.expr.LiteralCommunitySet', 'communities': ['3:2']}}, {'class': 'org.batfish.datamodel.routing_policy.statement.Statements$StaticStatement', 'type': 'ReturnTrue'}]}], 'guard': {'class': 'org.batfish.datamodel.routing_policy.expr.MatchPrefixSet', 'prefix': {'class': 'org.batfish.datamodel.routing_policy.expr.DestinationNetwork'}, 'prefixSet': {'class': 'org.batfish.datamodel.routing_policy.expr.NamedPrefixSet', 'name': '103'}}, 'trueStatements': [{'class': 'org.batfish.datamodel.routing_policy.statement.SetMetric', 'metric': {'class': 'org.batfish.datamodel.routing_policy.expr.LiteralLong', 'value': 50}}, {'class': 'org.batfish.datamodel.routing_policy.statement.AddCommunity', 'expr': {'class': 'org.batfish.datamodel.routing_policy.expr.LiteralCommunitySet', 'communities': ['3:2']}}, {'class': 'org.batfish.datamodel.routing_policy.statement.Statements$StaticStatement', 'type': 'ReturnTrue'}]}], 'guard': {'class': 'org.batfish.datamodel.routing_policy.expr.MatchPrefixSet', 'prefix': {'class': 'org.batfish.datamodel.routing_policy.expr.DestinationNetwork'}, 'prefixSet': {'class': 'org.batfish.datamodel.routing_policy.expr.NamedPrefixSet', 'name': '101'}}, 'trueStatements': [{'class': 'org.batfish.datamodel.routing_policy.statement.SetMetric', 'metric': {'class': 'org.batfish.datamodel.routing_policy.expr.LiteralLong', 'value': 50}}, {'class': 'org.batfish.datamodel.routing_policy.statement.AddCommunity', 'expr': {'class': 'org.batfish.datamodel.routing_policy.expr.LiteralCommunitySet', 'communities': ['3:2']}}, {'class': 'org.batfish.datamodel.routing_policy.statement.Statements$StaticStatement', 'type': 'ReturnTrue'}]}]}</td>\n",
       "    </tr>\n",
       "    <tr>\n",
       "      <th>1</th>\n",
       "      <td>host1</td>\n",
       "      <td>IP_Access_List</td>\n",
       "      <td>filter::OUTPUT</td>\n",
       "      <td>{'lines': [{'class': 'org.batfish.datamodel.ExprAclLine', 'action': 'PERMIT', 'matchCondition': {'class': 'org.batfish.datamodel.acl.TrueExpr'}, 'name': 'default'}], 'name': 'filter::OUTPUT'}</td>\n",
       "    </tr>\n",
       "    <tr>\n",
       "      <th>2</th>\n",
       "      <td>host2</td>\n",
       "      <td>IP_Access_List</td>\n",
       "      <td>mangle::OUTPUT</td>\n",
       "      <td>{'lines': [{'class': 'org.batfish.datamodel.ExprAclLine', 'action': 'PERMIT', 'matchCondition': {'class': 'org.batfish.datamodel.acl.TrueExpr'}, 'name': 'default'}], 'name': 'mangle::OUTPUT'}</td>\n",
       "    </tr>\n",
       "    <tr>\n",
       "      <th>3</th>\n",
       "      <td>host1</td>\n",
       "      <td>IP_Access_List</td>\n",
       "      <td>nat::POSTROUTING</td>\n",
       "      <td>{'lines': [{'class': 'org.batfish.datamodel.ExprAclLine', 'action': 'PERMIT', 'matchCondition': {'class': 'org.batfish.datamodel.acl.TrueExpr'}, 'name': 'default'}], 'name': 'nat::POSTROUTING'}</td>\n",
       "    </tr>\n",
       "    <tr>\n",
       "      <th>4</th>\n",
       "      <td>as1border1</td>\n",
       "      <td>Route_Filter_List</td>\n",
       "      <td>102</td>\n",
       "      <td>{'lines': [{'action': 'PERMIT', 'ipWildcard': '2.0.0.0/8', 'lengthRange': '8-8'}, {'action': 'PERMIT', 'ipWildcard': '2.128.0.0/16', 'lengthRange': '16-16'}], 'name': '102'}</td>\n",
       "    </tr>\n",
       "  </tbody>\n",
       "</table>\n",
       "</div>"
      ],
      "text/plain": [
       "         Node     Structure_Type    Structure_Name  \\\n",
       "0  as3border1  Routing_Policy     as3_to_as2         \n",
       "1  host1       IP_Access_List     filter::OUTPUT     \n",
       "2  host2       IP_Access_List     mangle::OUTPUT     \n",
       "3  host1       IP_Access_List     nat::POSTROUTING   \n",
       "4  as1border1  Route_Filter_List  102                \n",
       "\n",
       "                                                                                                                                                                                                                                                                                                                                                                                                                                                                                                                                                                                                                                                                                                                                                                                                                                                                                                                                                                                                                                                                                                                                                                                                                                                                                                                                                                                                                                                                                                                                                                                                                                                                                                                                                                                                                                                                                                                                                                                                                                                                                                                                                                                                                                                                                                                                                                                                                                                                                                                                                                                                                                                                                                                                                                                                                                                 Structure_Definition  \n",
       "0  {'name': 'as3_to_as2', 'statements': [{'class': 'org.batfish.datamodel.routing_policy.statement.If', 'comment': '~RMCLAUSE~as3_to_as2~1~', 'falseStatements': [{'class': 'org.batfish.datamodel.routing_policy.statement.If', 'comment': '~RMCLAUSE~as3_to_as2~3~', 'falseStatements': [{'class': 'org.batfish.datamodel.routing_policy.statement.If', 'comment': '~RMCLAUSE~as3_to_as2~5~', 'falseStatements': [{'class': 'org.batfish.datamodel.routing_policy.statement.Statements$StaticStatement', 'type': 'ReturnLocalDefaultAction'}], 'guard': {'class': 'org.batfish.datamodel.routing_policy.expr.MatchPrefixSet', 'prefix': {'class': 'org.batfish.datamodel.routing_policy.expr.DestinationNetwork'}, 'prefixSet': {'class': 'org.batfish.datamodel.routing_policy.expr.NamedPrefixSet', 'name': 'default_list'}}, 'trueStatements': [{'class': 'org.batfish.datamodel.routing_policy.statement.SetMetric', 'metric': {'class': 'org.batfish.datamodel.routing_policy.expr.LiteralLong', 'value': 50}}, {'class': 'org.batfish.datamodel.routing_policy.statement.AddCommunity', 'expr': {'class': 'org.batfish.datamodel.routing_policy.expr.LiteralCommunitySet', 'communities': ['3:2']}}, {'class': 'org.batfish.datamodel.routing_policy.statement.Statements$StaticStatement', 'type': 'ReturnTrue'}]}], 'guard': {'class': 'org.batfish.datamodel.routing_policy.expr.MatchPrefixSet', 'prefix': {'class': 'org.batfish.datamodel.routing_policy.expr.DestinationNetwork'}, 'prefixSet': {'class': 'org.batfish.datamodel.routing_policy.expr.NamedPrefixSet', 'name': '103'}}, 'trueStatements': [{'class': 'org.batfish.datamodel.routing_policy.statement.SetMetric', 'metric': {'class': 'org.batfish.datamodel.routing_policy.expr.LiteralLong', 'value': 50}}, {'class': 'org.batfish.datamodel.routing_policy.statement.AddCommunity', 'expr': {'class': 'org.batfish.datamodel.routing_policy.expr.LiteralCommunitySet', 'communities': ['3:2']}}, {'class': 'org.batfish.datamodel.routing_policy.statement.Statements$StaticStatement', 'type': 'ReturnTrue'}]}], 'guard': {'class': 'org.batfish.datamodel.routing_policy.expr.MatchPrefixSet', 'prefix': {'class': 'org.batfish.datamodel.routing_policy.expr.DestinationNetwork'}, 'prefixSet': {'class': 'org.batfish.datamodel.routing_policy.expr.NamedPrefixSet', 'name': '101'}}, 'trueStatements': [{'class': 'org.batfish.datamodel.routing_policy.statement.SetMetric', 'metric': {'class': 'org.batfish.datamodel.routing_policy.expr.LiteralLong', 'value': 50}}, {'class': 'org.batfish.datamodel.routing_policy.statement.AddCommunity', 'expr': {'class': 'org.batfish.datamodel.routing_policy.expr.LiteralCommunitySet', 'communities': ['3:2']}}, {'class': 'org.batfish.datamodel.routing_policy.statement.Statements$StaticStatement', 'type': 'ReturnTrue'}]}]}  \n",
       "1  {'lines': [{'class': 'org.batfish.datamodel.ExprAclLine', 'action': 'PERMIT', 'matchCondition': {'class': 'org.batfish.datamodel.acl.TrueExpr'}, 'name': 'default'}], 'name': 'filter::OUTPUT'}                                                                                                                                                                                                                                                                                                                                                                                                                                                                                                                                                                                                                                                                                                                                                                                                                                                                                                                                                                                                                                                                                                                                                                                                                                                                                                                                                                                                                                                                                                                                                                                                                                                                                                                                                                                                                                                                                                                                                                                                                                                                                                                                                                                                                                                                                                                                                                                                                                                                                                                                                                                                                                                                     \n",
       "2  {'lines': [{'class': 'org.batfish.datamodel.ExprAclLine', 'action': 'PERMIT', 'matchCondition': {'class': 'org.batfish.datamodel.acl.TrueExpr'}, 'name': 'default'}], 'name': 'mangle::OUTPUT'}                                                                                                                                                                                                                                                                                                                                                                                                                                                                                                                                                                                                                                                                                                                                                                                                                                                                                                                                                                                                                                                                                                                                                                                                                                                                                                                                                                                                                                                                                                                                                                                                                                                                                                                                                                                                                                                                                                                                                                                                                                                                                                                                                                                                                                                                                                                                                                                                                                                                                                                                                                                                                                                                     \n",
       "3  {'lines': [{'class': 'org.batfish.datamodel.ExprAclLine', 'action': 'PERMIT', 'matchCondition': {'class': 'org.batfish.datamodel.acl.TrueExpr'}, 'name': 'default'}], 'name': 'nat::POSTROUTING'}                                                                                                                                                                                                                                                                                                                                                                                                                                                                                                                                                                                                                                                                                                                                                                                                                                                                                                                                                                                                                                                                                                                                                                                                                                                                                                                                                                                                                                                                                                                                                                                                                                                                                                                                                                                                                                                                                                                                                                                                                                                                                                                                                                                                                                                                                                                                                                                                                                                                                                                                                                                                                                                                   \n",
       "4  {'lines': [{'action': 'PERMIT', 'ipWildcard': '2.0.0.0/8', 'lengthRange': '8-8'}, {'action': 'PERMIT', 'ipWildcard': '2.128.0.0/16', 'lengthRange': '16-16'}], 'name': '102'}                                                                                                                                                                                                                                                                                                                                                                                                                                                                                                                                                                                                                                                                                                                                                                                                                                                                                                                                                                                                                                                                                                                                                                                                                                                                                                                                                                                                                                                                                                                                                                                                                                                                                                                                                                                                                                                                                                                                                                                                                                                                                                                                                                                                                                                                                                                                                                                                                                                                                                                                                                                                                                                                                       "
      ]
     },
     "execution_count": 47,
     "metadata": {},
     "output_type": "execute_result"
    }
   ],
   "source": [
    "result.head(5)"
   ]
  },
  {
   "cell_type": "markdown",
   "metadata": {},
   "source": [
    "Print the first row of the returned Dataframe"
   ]
  },
  {
   "cell_type": "code",
   "execution_count": 48,
   "metadata": {},
   "outputs": [
    {
     "data": {
      "text/plain": [
       "Node                    as3border1                                                                                                                                                                                                                                                                                                                                                                                                                                                                                                                                                                                                                                                                                                                                                                                                                                                                                                                                                                                                                                                                                                                                                                                                                                                                                                                                                                                                                                                                                                                                                                                                                                                                                                                                                                                                                                                                                                                                                                                                                                                                                                                                                                                                                                                                                                                                                                                                                                                                                                                                                                                                                                                                                                                                                                                                                                                        \n",
       "Structure_Type          Routing_Policy                                                                                                                                                                                                                                                                                                                                                                                                                                                                                                                                                                                                                                                                                                                                                                                                                                                                                                                                                                                                                                                                                                                                                                                                                                                                                                                                                                                                                                                                                                                                                                                                                                                                                                                                                                                                                                                                                                                                                                                                                                                                                                                                                                                                                                                                                                                                                                                                                                                                                                                                                                                                                                                                                                                                                                                                                                                    \n",
       "Structure_Name          as3_to_as2                                                                                                                                                                                                                                                                                                                                                                                                                                                                                                                                                                                                                                                                                                                                                                                                                                                                                                                                                                                                                                                                                                                                                                                                                                                                                                                                                                                                                                                                                                                                                                                                                                                                                                                                                                                                                                                                                                                                                                                                                                                                                                                                                                                                                                                                                                                                                                                                                                                                                                                                                                                                                                                                                                                                                                                                                                                        \n",
       "Structure_Definition    {'name': 'as3_to_as2', 'statements': [{'class': 'org.batfish.datamodel.routing_policy.statement.If', 'comment': '~RMCLAUSE~as3_to_as2~1~', 'falseStatements': [{'class': 'org.batfish.datamodel.routing_policy.statement.If', 'comment': '~RMCLAUSE~as3_to_as2~3~', 'falseStatements': [{'class': 'org.batfish.datamodel.routing_policy.statement.If', 'comment': '~RMCLAUSE~as3_to_as2~5~', 'falseStatements': [{'class': 'org.batfish.datamodel.routing_policy.statement.Statements$StaticStatement', 'type': 'ReturnLocalDefaultAction'}], 'guard': {'class': 'org.batfish.datamodel.routing_policy.expr.MatchPrefixSet', 'prefix': {'class': 'org.batfish.datamodel.routing_policy.expr.DestinationNetwork'}, 'prefixSet': {'class': 'org.batfish.datamodel.routing_policy.expr.NamedPrefixSet', 'name': 'default_list'}}, 'trueStatements': [{'class': 'org.batfish.datamodel.routing_policy.statement.SetMetric', 'metric': {'class': 'org.batfish.datamodel.routing_policy.expr.LiteralLong', 'value': 50}}, {'class': 'org.batfish.datamodel.routing_policy.statement.AddCommunity', 'expr': {'class': 'org.batfish.datamodel.routing_policy.expr.LiteralCommunitySet', 'communities': ['3:2']}}, {'class': 'org.batfish.datamodel.routing_policy.statement.Statements$StaticStatement', 'type': 'ReturnTrue'}]}], 'guard': {'class': 'org.batfish.datamodel.routing_policy.expr.MatchPrefixSet', 'prefix': {'class': 'org.batfish.datamodel.routing_policy.expr.DestinationNetwork'}, 'prefixSet': {'class': 'org.batfish.datamodel.routing_policy.expr.NamedPrefixSet', 'name': '103'}}, 'trueStatements': [{'class': 'org.batfish.datamodel.routing_policy.statement.SetMetric', 'metric': {'class': 'org.batfish.datamodel.routing_policy.expr.LiteralLong', 'value': 50}}, {'class': 'org.batfish.datamodel.routing_policy.statement.AddCommunity', 'expr': {'class': 'org.batfish.datamodel.routing_policy.expr.LiteralCommunitySet', 'communities': ['3:2']}}, {'class': 'org.batfish.datamodel.routing_policy.statement.Statements$StaticStatement', 'type': 'ReturnTrue'}]}], 'guard': {'class': 'org.batfish.datamodel.routing_policy.expr.MatchPrefixSet', 'prefix': {'class': 'org.batfish.datamodel.routing_policy.expr.DestinationNetwork'}, 'prefixSet': {'class': 'org.batfish.datamodel.routing_policy.expr.NamedPrefixSet', 'name': '101'}}, 'trueStatements': [{'class': 'org.batfish.datamodel.routing_policy.statement.SetMetric', 'metric': {'class': 'org.batfish.datamodel.routing_policy.expr.LiteralLong', 'value': 50}}, {'class': 'org.batfish.datamodel.routing_policy.statement.AddCommunity', 'expr': {'class': 'org.batfish.datamodel.routing_policy.expr.LiteralCommunitySet', 'communities': ['3:2']}}, {'class': 'org.batfish.datamodel.routing_policy.statement.Statements$StaticStatement', 'type': 'ReturnTrue'}]}]}\n",
       "Name: 0, dtype: object"
      ]
     },
     "execution_count": 48,
     "metadata": {},
     "output_type": "execute_result"
    }
   ],
   "source": [
    "result.iloc[0]"
   ]
  },
  {
   "cell_type": "code",
   "execution_count": 49,
   "metadata": {
    "nbsphinx": "hidden"
   },
   "outputs": [
    {
     "data": {
      "text/plain": [
       "'generate_questions'"
      ]
     },
     "execution_count": 49,
     "metadata": {},
     "output_type": "execute_result"
    }
   ],
   "source": [
    "bf_set_network('generate_questions')"
   ]
  },
  {
   "cell_type": "code",
   "execution_count": 50,
   "metadata": {
    "nbsphinx": "hidden"
   },
   "outputs": [
    {
     "data": {
      "text/plain": [
       "'generate_questions'"
      ]
     },
     "execution_count": 50,
     "metadata": {},
     "output_type": "execute_result"
    }
   ],
   "source": [
    "bf_set_snapshot('generate_questions')"
   ]
  },
  {
   "cell_type": "markdown",
   "metadata": {},
   "source": [
    "##### Defined Structures"
   ]
  },
  {
   "cell_type": "markdown",
   "metadata": {},
   "source": [
    "Lists the structures defined in the network."
   ]
  },
  {
   "cell_type": "markdown",
   "metadata": {},
   "source": [
    "Lists the structures defined in the network, along with the files and line numbers in which they are defined."
   ]
  },
  {
   "cell_type": "markdown",
   "metadata": {},
   "source": [
    "###### Inputs"
   ]
  },
  {
   "cell_type": "markdown",
   "metadata": {},
   "source": [
    "Name | Description | Type | Optional | Default Value\n",
    "--- | --- | --- | --- | --- \n",
    "nodes | Include files used to generate nodes whose name matches this specifier. | [NodeSpec](../specifiers.md#node-specifier) | True | .*\n",
    "names | Include structures whose name matches this string or regex. | str | True | .*\n",
    "types | Include structures whose vendor-specific type matches this string or regex. | str | True | .*"
   ]
  },
  {
   "cell_type": "markdown",
   "metadata": {},
   "source": [
    "###### Invocation"
   ]
  },
  {
   "cell_type": "code",
   "execution_count": 51,
   "metadata": {},
   "outputs": [],
   "source": [
    "result = bfq.definedStructures().answer().frame()"
   ]
  },
  {
   "cell_type": "markdown",
   "metadata": {},
   "source": [
    "###### Return Value"
   ]
  },
  {
   "cell_type": "markdown",
   "metadata": {},
   "source": [
    "Name | Description | Type\n",
    "--- | --- | ---\n",
    "Structure_Type | Vendor-specific type of the structure | str\n",
    "Structure_Name | Name of the structure | str\n",
    "Source_Lines | File and line numbers where the structure is defined | [FileLines](../datamodel.rst#pybatfish.datamodel.primitives.FileLines)"
   ]
  },
  {
   "cell_type": "markdown",
   "metadata": {},
   "source": [
    "Print the first 5 rows of the returned Dataframe"
   ]
  },
  {
   "cell_type": "code",
   "execution_count": 52,
   "metadata": {},
   "outputs": [
    {
     "data": {
      "text/html": [
       "<div>\n",
       "<style scoped>\n",
       "    .dataframe tbody tr th:only-of-type {\n",
       "        vertical-align: middle;\n",
       "    }\n",
       "\n",
       "    .dataframe tbody tr th {\n",
       "        vertical-align: top;\n",
       "    }\n",
       "\n",
       "    .dataframe thead th {\n",
       "        text-align: right;\n",
       "    }\n",
       "</style>\n",
       "<table border=\"1\" class=\"dataframe\">\n",
       "  <thead>\n",
       "    <tr style=\"text-align: right;\">\n",
       "      <th></th>\n",
       "      <th>Structure_Type</th>\n",
       "      <th>Structure_Name</th>\n",
       "      <th>Source_Lines</th>\n",
       "    </tr>\n",
       "  </thead>\n",
       "  <tbody>\n",
       "    <tr>\n",
       "      <th>0</th>\n",
       "      <td>bgp peer-group</td>\n",
       "      <td>as2</td>\n",
       "      <td>configs/as1border1.cfg:[81]</td>\n",
       "    </tr>\n",
       "    <tr>\n",
       "      <th>1</th>\n",
       "      <td>interface</td>\n",
       "      <td>GigabitEthernet1/0</td>\n",
       "      <td>configs/as1core1.cfg:[69, 70, 71]</td>\n",
       "    </tr>\n",
       "    <tr>\n",
       "      <th>2</th>\n",
       "      <td>extended ipv4 access-list</td>\n",
       "      <td>103</td>\n",
       "      <td>configs/as1border2.cfg:[140]</td>\n",
       "    </tr>\n",
       "    <tr>\n",
       "      <th>3</th>\n",
       "      <td>ipv4 prefix-list</td>\n",
       "      <td>as4-prefixes</td>\n",
       "      <td>configs/as1border2.cfg:[132]</td>\n",
       "    </tr>\n",
       "    <tr>\n",
       "      <th>4</th>\n",
       "      <td>extended ipv4 access-list</td>\n",
       "      <td>101</td>\n",
       "      <td>configs/as2border2.cfg:[140, 141]</td>\n",
       "    </tr>\n",
       "  </tbody>\n",
       "</table>\n",
       "</div>"
      ],
      "text/plain": [
       "              Structure_Type      Structure_Name                       Source_Lines\n",
       "0  bgp peer-group             as2                 configs/as1border1.cfg:[81]      \n",
       "1  interface                  GigabitEthernet1/0  configs/as1core1.cfg:[69, 70, 71]\n",
       "2  extended ipv4 access-list  103                 configs/as1border2.cfg:[140]     \n",
       "3  ipv4 prefix-list           as4-prefixes        configs/as1border2.cfg:[132]     \n",
       "4  extended ipv4 access-list  101                 configs/as2border2.cfg:[140, 141]"
      ]
     },
     "execution_count": 52,
     "metadata": {},
     "output_type": "execute_result"
    }
   ],
   "source": [
    "result.head(5)"
   ]
  },
  {
   "cell_type": "markdown",
   "metadata": {},
   "source": [
    "Print the first row of the returned Dataframe"
   ]
  },
  {
   "cell_type": "code",
   "execution_count": 53,
   "metadata": {},
   "outputs": [
    {
     "data": {
      "text/plain": [
       "Structure_Type    bgp peer-group             \n",
       "Structure_Name    as2                        \n",
       "Source_Lines      configs/as1border1.cfg:[81]\n",
       "Name: 0, dtype: object"
      ]
     },
     "execution_count": 53,
     "metadata": {},
     "output_type": "execute_result"
    }
   ],
   "source": [
    "result.iloc[0]"
   ]
  },
  {
   "cell_type": "code",
   "execution_count": 54,
   "metadata": {
    "nbsphinx": "hidden"
   },
   "outputs": [
    {
     "data": {
      "text/plain": [
       "'generate_questions'"
      ]
     },
     "execution_count": 54,
     "metadata": {},
     "output_type": "execute_result"
    }
   ],
   "source": [
    "bf_set_network('generate_questions')"
   ]
  },
  {
   "cell_type": "code",
   "execution_count": 55,
   "metadata": {
    "nbsphinx": "hidden"
   },
   "outputs": [
    {
     "data": {
      "text/plain": [
       "'generate_questions'"
      ]
     },
     "execution_count": 55,
     "metadata": {},
     "output_type": "execute_result"
    }
   ],
   "source": [
    "bf_set_snapshot('generate_questions')"
   ]
  },
  {
   "cell_type": "markdown",
   "metadata": {},
   "source": [
    "##### Referenced Structures"
   ]
  },
  {
   "cell_type": "markdown",
   "metadata": {},
   "source": [
    "Lists the references in configuration files to vendor-specific structures."
   ]
  },
  {
   "cell_type": "markdown",
   "metadata": {},
   "source": [
    "Lists the references in configuration files to vendor-specific structures, along with the line number, the name and the type of the structure referenced, and configuration context in which each reference occurs."
   ]
  },
  {
   "cell_type": "markdown",
   "metadata": {},
   "source": [
    "###### Inputs"
   ]
  },
  {
   "cell_type": "markdown",
   "metadata": {},
   "source": [
    "Name | Description | Type | Optional | Default Value\n",
    "--- | --- | --- | --- | --- \n",
    "nodes | Include files used to generate nodes whose name matches this specifier. | [NodeSpec](../specifiers.md#node-specifier) | True | \n",
    "names | Include structures whose name matches this string or regex. | str | True | \n",
    "types | Include structures whose vendor-specific type matches this string or regex. | str | True | "
   ]
  },
  {
   "cell_type": "markdown",
   "metadata": {},
   "source": [
    "###### Invocation"
   ]
  },
  {
   "cell_type": "code",
   "execution_count": 56,
   "metadata": {},
   "outputs": [],
   "source": [
    "result = bfq.referencedStructures().answer().frame()"
   ]
  },
  {
   "cell_type": "markdown",
   "metadata": {},
   "source": [
    "###### Return Value"
   ]
  },
  {
   "cell_type": "markdown",
   "metadata": {},
   "source": [
    "Name | Description | Type\n",
    "--- | --- | ---\n",
    "Structure_Type | Type of structure referenced | str\n",
    "Structure_Name | The referenced structure | str\n",
    "Context | Configuration context in which the reference appears | str\n",
    "Source_Lines | Lines where reference appears | [FileLines](../datamodel.rst#pybatfish.datamodel.primitives.FileLines)"
   ]
  },
  {
   "cell_type": "markdown",
   "metadata": {},
   "source": [
    "Print the first 5 rows of the returned Dataframe"
   ]
  },
  {
   "cell_type": "code",
   "execution_count": 57,
   "metadata": {},
   "outputs": [
    {
     "data": {
      "text/html": [
       "<div>\n",
       "<style scoped>\n",
       "    .dataframe tbody tr th:only-of-type {\n",
       "        vertical-align: middle;\n",
       "    }\n",
       "\n",
       "    .dataframe tbody tr th {\n",
       "        vertical-align: top;\n",
       "    }\n",
       "\n",
       "    .dataframe thead th {\n",
       "        text-align: right;\n",
       "    }\n",
       "</style>\n",
       "<table border=\"1\" class=\"dataframe\">\n",
       "  <thead>\n",
       "    <tr style=\"text-align: right;\">\n",
       "      <th></th>\n",
       "      <th>Structure_Type</th>\n",
       "      <th>Structure_Name</th>\n",
       "      <th>Context</th>\n",
       "      <th>Source_Lines</th>\n",
       "    </tr>\n",
       "  </thead>\n",
       "  <tbody>\n",
       "    <tr>\n",
       "      <th>0</th>\n",
       "      <td>bgp peer-group</td>\n",
       "      <td>as1</td>\n",
       "      <td>bgp neighbor peer-group</td>\n",
       "      <td>configs/as1border1.cfg:[89]</td>\n",
       "    </tr>\n",
       "    <tr>\n",
       "      <th>1</th>\n",
       "      <td>bgp peer-group</td>\n",
       "      <td>as2</td>\n",
       "      <td>bgp neighbor peer-group</td>\n",
       "      <td>configs/as1border1.cfg:[93]</td>\n",
       "    </tr>\n",
       "    <tr>\n",
       "      <th>2</th>\n",
       "      <td>bgp peer-group</td>\n",
       "      <td>bad-ebgp</td>\n",
       "      <td>bgp neighbor peer-group</td>\n",
       "      <td>configs/as1border1.cfg:[91]</td>\n",
       "    </tr>\n",
       "    <tr>\n",
       "      <th>3</th>\n",
       "      <td>bgp peer-group</td>\n",
       "      <td>xanadu</td>\n",
       "      <td>bgp neighbor peer-group</td>\n",
       "      <td>configs/as1border1.cfg:[92]</td>\n",
       "    </tr>\n",
       "    <tr>\n",
       "      <th>4</th>\n",
       "      <td>community-list</td>\n",
       "      <td>as2_community</td>\n",
       "      <td>route-map match community-list</td>\n",
       "      <td>configs/as1border1.cfg:[154]</td>\n",
       "    </tr>\n",
       "  </tbody>\n",
       "</table>\n",
       "</div>"
      ],
      "text/plain": [
       "   Structure_Type Structure_Name                         Context                  Source_Lines\n",
       "0  bgp peer-group  as1            bgp neighbor peer-group         configs/as1border1.cfg:[89] \n",
       "1  bgp peer-group  as2            bgp neighbor peer-group         configs/as1border1.cfg:[93] \n",
       "2  bgp peer-group  bad-ebgp       bgp neighbor peer-group         configs/as1border1.cfg:[91] \n",
       "3  bgp peer-group  xanadu         bgp neighbor peer-group         configs/as1border1.cfg:[92] \n",
       "4  community-list  as2_community  route-map match community-list  configs/as1border1.cfg:[154]"
      ]
     },
     "execution_count": 57,
     "metadata": {},
     "output_type": "execute_result"
    }
   ],
   "source": [
    "result.head(5)"
   ]
  },
  {
   "cell_type": "markdown",
   "metadata": {},
   "source": [
    "Print the first row of the returned Dataframe"
   ]
  },
  {
   "cell_type": "code",
   "execution_count": 58,
   "metadata": {},
   "outputs": [
    {
     "data": {
      "text/plain": [
       "Structure_Type    bgp peer-group             \n",
       "Structure_Name    as1                        \n",
       "Context           bgp neighbor peer-group    \n",
       "Source_Lines      configs/as1border1.cfg:[89]\n",
       "Name: 0, dtype: object"
      ]
     },
     "execution_count": 58,
     "metadata": {},
     "output_type": "execute_result"
    }
   ],
   "source": [
    "result.iloc[0]"
   ]
  },
  {
   "cell_type": "code",
   "execution_count": 59,
   "metadata": {
    "nbsphinx": "hidden"
   },
   "outputs": [
    {
     "data": {
      "text/plain": [
       "'generate_questions'"
      ]
     },
     "execution_count": 59,
     "metadata": {},
     "output_type": "execute_result"
    }
   ],
   "source": [
    "bf_set_network('generate_questions')"
   ]
  },
  {
   "cell_type": "code",
   "execution_count": 60,
   "metadata": {
    "nbsphinx": "hidden"
   },
   "outputs": [
    {
     "data": {
      "text/plain": [
       "'generate_questions'"
      ]
     },
     "execution_count": 60,
     "metadata": {},
     "output_type": "execute_result"
    }
   ],
   "source": [
    "bf_set_snapshot('generate_questions')"
   ]
  },
  {
   "cell_type": "markdown",
   "metadata": {},
   "source": [
    "##### Undefined References"
   ]
  },
  {
   "cell_type": "markdown",
   "metadata": {},
   "source": [
    "Identifies undefined references in configuration."
   ]
  },
  {
   "cell_type": "markdown",
   "metadata": {},
   "source": [
    "Finds configurations that have references to named structures (e.g., ACLs) that are not defined. Such occurrences indicate errors and can have serious consequences in some cases."
   ]
  },
  {
   "cell_type": "markdown",
   "metadata": {},
   "source": [
    "###### Inputs"
   ]
  },
  {
   "cell_type": "markdown",
   "metadata": {},
   "source": [
    "Name | Description | Type | Optional | Default Value\n",
    "--- | --- | --- | --- | --- \n",
    "nodes | Look for undefined references on nodes matching this name or regex. | [NodeSpec](../specifiers.md#node-specifier) | False | .*"
   ]
  },
  {
   "cell_type": "markdown",
   "metadata": {},
   "source": [
    "###### Invocation"
   ]
  },
  {
   "cell_type": "code",
   "execution_count": 61,
   "metadata": {},
   "outputs": [],
   "source": [
    "result = bfq.undefinedReferences().answer().frame()"
   ]
  },
  {
   "cell_type": "markdown",
   "metadata": {},
   "source": [
    "###### Return Value"
   ]
  },
  {
   "cell_type": "markdown",
   "metadata": {},
   "source": [
    "Name | Description | Type\n",
    "--- | --- | ---\n",
    "File_Name | File containing reference | str\n",
    "Struct_Type | Type of struct reference is supposed to be | str\n",
    "Ref_Name | The undefined reference | str\n",
    "Context | Context of undefined reference | str\n",
    "Lines | Lines where reference appears | [FileLines](../datamodel.rst#pybatfish.datamodel.primitives.FileLines)"
   ]
  },
  {
   "cell_type": "markdown",
   "metadata": {},
   "source": [
    "Print the first 5 rows of the returned Dataframe"
   ]
  },
  {
   "cell_type": "code",
   "execution_count": 62,
   "metadata": {},
   "outputs": [
    {
     "data": {
      "text/html": [
       "<div>\n",
       "<style scoped>\n",
       "    .dataframe tbody tr th:only-of-type {\n",
       "        vertical-align: middle;\n",
       "    }\n",
       "\n",
       "    .dataframe tbody tr th {\n",
       "        vertical-align: top;\n",
       "    }\n",
       "\n",
       "    .dataframe thead th {\n",
       "        text-align: right;\n",
       "    }\n",
       "</style>\n",
       "<table border=\"1\" class=\"dataframe\">\n",
       "  <thead>\n",
       "    <tr style=\"text-align: right;\">\n",
       "      <th></th>\n",
       "      <th>File_Name</th>\n",
       "      <th>Struct_Type</th>\n",
       "      <th>Ref_Name</th>\n",
       "      <th>Context</th>\n",
       "      <th>Lines</th>\n",
       "    </tr>\n",
       "  </thead>\n",
       "  <tbody>\n",
       "    <tr>\n",
       "      <th>0</th>\n",
       "      <td>configs/as2core2.cfg</td>\n",
       "      <td>route-map</td>\n",
       "      <td>filter-bogons</td>\n",
       "      <td>bgp inbound route-map</td>\n",
       "      <td>configs/as2core2.cfg:[109]</td>\n",
       "    </tr>\n",
       "  </tbody>\n",
       "</table>\n",
       "</div>"
      ],
      "text/plain": [
       "              File_Name Struct_Type       Ref_Name                Context                       Lines\n",
       "0  configs/as2core2.cfg  route-map   filter-bogons  bgp inbound route-map  configs/as2core2.cfg:[109]"
      ]
     },
     "execution_count": 62,
     "metadata": {},
     "output_type": "execute_result"
    }
   ],
   "source": [
    "result.head(5)"
   ]
  },
  {
   "cell_type": "markdown",
   "metadata": {},
   "source": [
    "Print the first row of the returned Dataframe"
   ]
  },
  {
   "cell_type": "code",
   "execution_count": 63,
   "metadata": {},
   "outputs": [
    {
     "data": {
      "text/plain": [
       "File_Name      configs/as2core2.cfg      \n",
       "Struct_Type    route-map                 \n",
       "Ref_Name       filter-bogons             \n",
       "Context        bgp inbound route-map     \n",
       "Lines          configs/as2core2.cfg:[109]\n",
       "Name: 0, dtype: object"
      ]
     },
     "execution_count": 63,
     "metadata": {},
     "output_type": "execute_result"
    }
   ],
   "source": [
    "result.iloc[0]"
   ]
  },
  {
   "cell_type": "code",
   "execution_count": 64,
   "metadata": {
    "nbsphinx": "hidden"
   },
   "outputs": [
    {
     "data": {
      "text/plain": [
       "'generate_questions'"
      ]
     },
     "execution_count": 64,
     "metadata": {},
     "output_type": "execute_result"
    }
   ],
   "source": [
    "bf_set_network('generate_questions')"
   ]
  },
  {
   "cell_type": "code",
   "execution_count": 65,
   "metadata": {
    "nbsphinx": "hidden"
   },
   "outputs": [
    {
     "data": {
      "text/plain": [
       "'generate_questions'"
      ]
     },
     "execution_count": 65,
     "metadata": {},
     "output_type": "execute_result"
    }
   ],
   "source": [
    "bf_set_snapshot('generate_questions')"
   ]
  },
  {
   "cell_type": "markdown",
   "metadata": {},
   "source": [
    "##### Unused Structures"
   ]
  },
  {
   "cell_type": "markdown",
   "metadata": {},
   "source": [
    "Returns nodes with structures such as ACLs, routemaps, etc. that are defined but not used."
   ]
  },
  {
   "cell_type": "markdown",
   "metadata": {},
   "source": [
    "Return nodes with structures such as ACLs, routes, etc. that are defined but not used. This may represent a bug in the configuration, which may have occurred because a final step in a template or MOP was not completed. Or it could be harmless extra configuration generated from a master template that is not meant to be used on those nodes."
   ]
  },
  {
   "cell_type": "markdown",
   "metadata": {},
   "source": [
    "###### Inputs"
   ]
  },
  {
   "cell_type": "markdown",
   "metadata": {},
   "source": [
    "Name | Description | Type | Optional | Default Value\n",
    "--- | --- | --- | --- | --- \n",
    "nodes | Look for unused structures on nodes matching this name or regex. | [NodeSpec](../specifiers.md#node-specifier) | False | .*"
   ]
  },
  {
   "cell_type": "markdown",
   "metadata": {},
   "source": [
    "###### Invocation"
   ]
  },
  {
   "cell_type": "code",
   "execution_count": 66,
   "metadata": {},
   "outputs": [],
   "source": [
    "result = bfq.unusedStructures().answer().frame()"
   ]
  },
  {
   "cell_type": "markdown",
   "metadata": {},
   "source": [
    "###### Return Value"
   ]
  },
  {
   "cell_type": "markdown",
   "metadata": {},
   "source": [
    "Name | Description | Type\n",
    "--- | --- | ---\n",
    "Structure_Type | Vendor-specific type of the structure | str\n",
    "Structure_Name | Name of the structure | str\n",
    "Source_Lines | File and line numbers where the structure is defined | [FileLines](../datamodel.rst#pybatfish.datamodel.primitives.FileLines)"
   ]
  },
  {
   "cell_type": "markdown",
   "metadata": {},
   "source": [
    "Print the first 5 rows of the returned Dataframe"
   ]
  },
  {
   "cell_type": "code",
   "execution_count": 67,
   "metadata": {},
   "outputs": [
    {
     "data": {
      "text/html": [
       "<div>\n",
       "<style scoped>\n",
       "    .dataframe tbody tr th:only-of-type {\n",
       "        vertical-align: middle;\n",
       "    }\n",
       "\n",
       "    .dataframe tbody tr th {\n",
       "        vertical-align: top;\n",
       "    }\n",
       "\n",
       "    .dataframe thead th {\n",
       "        text-align: right;\n",
       "    }\n",
       "</style>\n",
       "<table border=\"1\" class=\"dataframe\">\n",
       "  <thead>\n",
       "    <tr style=\"text-align: right;\">\n",
       "      <th></th>\n",
       "      <th>Structure_Type</th>\n",
       "      <th>Structure_Name</th>\n",
       "      <th>Source_Lines</th>\n",
       "    </tr>\n",
       "  </thead>\n",
       "  <tbody>\n",
       "    <tr>\n",
       "      <th>0</th>\n",
       "      <td>bgp peer-group</td>\n",
       "      <td>as3</td>\n",
       "      <td>configs/as1border1.cfg:[83]</td>\n",
       "    </tr>\n",
       "    <tr>\n",
       "      <th>1</th>\n",
       "      <td>expanded community-list</td>\n",
       "      <td>as1_community</td>\n",
       "      <td>configs/as1border1.cfg:[119]</td>\n",
       "    </tr>\n",
       "    <tr>\n",
       "      <th>2</th>\n",
       "      <td>ipv4 prefix-list</td>\n",
       "      <td>inbound_route_filter</td>\n",
       "      <td>configs/as1border1.cfg:[129, 130]</td>\n",
       "    </tr>\n",
       "    <tr>\n",
       "      <th>3</th>\n",
       "      <td>bgp peer-group</td>\n",
       "      <td>as2</td>\n",
       "      <td>configs/as1border2.cfg:[87]</td>\n",
       "    </tr>\n",
       "    <tr>\n",
       "      <th>4</th>\n",
       "      <td>expanded community-list</td>\n",
       "      <td>as1_community</td>\n",
       "      <td>configs/as1border2.cfg:[123]</td>\n",
       "    </tr>\n",
       "  </tbody>\n",
       "</table>\n",
       "</div>"
      ],
      "text/plain": [
       "            Structure_Type        Structure_Name                       Source_Lines\n",
       "0  bgp peer-group           as3                   configs/as1border1.cfg:[83]      \n",
       "1  expanded community-list  as1_community         configs/as1border1.cfg:[119]     \n",
       "2  ipv4 prefix-list         inbound_route_filter  configs/as1border1.cfg:[129, 130]\n",
       "3  bgp peer-group           as2                   configs/as1border2.cfg:[87]      \n",
       "4  expanded community-list  as1_community         configs/as1border2.cfg:[123]     "
      ]
     },
     "execution_count": 67,
     "metadata": {},
     "output_type": "execute_result"
    }
   ],
   "source": [
    "result.head(5)"
   ]
  },
  {
   "cell_type": "markdown",
   "metadata": {},
   "source": [
    "Print the first row of the returned Dataframe"
   ]
  },
  {
   "cell_type": "code",
   "execution_count": 68,
   "metadata": {},
   "outputs": [
    {
     "data": {
      "text/plain": [
       "Structure_Type    bgp peer-group             \n",
       "Structure_Name    as3                        \n",
       "Source_Lines      configs/as1border1.cfg:[83]\n",
       "Name: 0, dtype: object"
      ]
     },
     "execution_count": 68,
     "metadata": {},
     "output_type": "execute_result"
    }
   ],
   "source": [
    "result.iloc[0]"
   ]
  },
  {
   "cell_type": "code",
   "execution_count": 69,
   "metadata": {
    "nbsphinx": "hidden"
   },
   "outputs": [
    {
     "data": {
      "text/plain": [
       "'generate_questions'"
      ]
     },
     "execution_count": 69,
     "metadata": {},
     "output_type": "execute_result"
    }
   ],
   "source": [
    "bf_set_network('generate_questions')"
   ]
  },
  {
   "cell_type": "code",
   "execution_count": 70,
   "metadata": {
    "nbsphinx": "hidden"
   },
   "outputs": [
    {
     "data": {
      "text/plain": [
       "'generate_questions'"
      ]
     },
     "execution_count": 70,
     "metadata": {},
     "output_type": "execute_result"
    }
   ],
   "source": [
    "bf_set_snapshot('generate_questions')"
   ]
  },
  {
   "cell_type": "markdown",
   "metadata": {},
   "source": [
    "##### Interface MTU"
   ]
  },
  {
   "cell_type": "markdown",
   "metadata": {},
   "source": [
    "Finds interfaces where the configured MTU matches the specified comparator and mtuBytes."
   ]
  },
  {
   "cell_type": "markdown",
   "metadata": {},
   "source": [
    "For example, if comparator is '<' and mtuBytes is 1500, then only interfaces where the configured MTU is less than 1500 bytes will be returned."
   ]
  },
  {
   "cell_type": "markdown",
   "metadata": {},
   "source": [
    "###### Inputs"
   ]
  },
  {
   "cell_type": "markdown",
   "metadata": {},
   "source": [
    "Name | Description | Type | Optional | Default Value\n",
    "--- | --- | --- | --- | --- \n",
    "interfaces | Evaluate interfaces matching this specifier. | [InterfaceSpec](../specifiers.md#interface-specifier) | False | .*\n",
    "mtuBytes | The reference MTU in bytes against which to check the configured MTU. | int | False | 1500\n",
    "nodes | Include nodes matching this specifier. | [NodeSpec](../specifiers.md#node-specifier) | False | .*\n",
    "comparator | Returned devices will satisfy <comparator> <mtuBytes>. Use '<' to find devices that do not have MTU smaller than the specified <mtuBytes> MTU. | str | True | <"
   ]
  },
  {
   "cell_type": "markdown",
   "metadata": {},
   "source": [
    "###### Invocation"
   ]
  },
  {
   "cell_type": "code",
   "execution_count": 71,
   "metadata": {},
   "outputs": [],
   "source": [
    "result = bfq.interfaceMtu(mtuBytes=2000, comparator='<').answer().frame()"
   ]
  },
  {
   "cell_type": "markdown",
   "metadata": {},
   "source": [
    "###### Return Value"
   ]
  },
  {
   "cell_type": "markdown",
   "metadata": {},
   "source": [
    "Name | Description | Type\n",
    "--- | --- | ---\n",
    "Interface | Interface | [Interface](../datamodel.rst#pybatfish.datamodel.primitives.Interface)\n",
    "MTU | Layer3 MTU of the interface | int"
   ]
  },
  {
   "cell_type": "markdown",
   "metadata": {},
   "source": [
    "Print the first 5 rows of the returned Dataframe"
   ]
  },
  {
   "cell_type": "code",
   "execution_count": 72,
   "metadata": {},
   "outputs": [
    {
     "data": {
      "text/html": [
       "<div>\n",
       "<style scoped>\n",
       "    .dataframe tbody tr th:only-of-type {\n",
       "        vertical-align: middle;\n",
       "    }\n",
       "\n",
       "    .dataframe tbody tr th {\n",
       "        vertical-align: top;\n",
       "    }\n",
       "\n",
       "    .dataframe thead th {\n",
       "        text-align: right;\n",
       "    }\n",
       "</style>\n",
       "<table border=\"1\" class=\"dataframe\">\n",
       "  <thead>\n",
       "    <tr style=\"text-align: right;\">\n",
       "      <th></th>\n",
       "      <th>Interface</th>\n",
       "      <th>MTU</th>\n",
       "    </tr>\n",
       "  </thead>\n",
       "  <tbody>\n",
       "    <tr>\n",
       "      <th>0</th>\n",
       "      <td>as1border1[Ethernet0/0]</td>\n",
       "      <td>1500</td>\n",
       "    </tr>\n",
       "    <tr>\n",
       "      <th>1</th>\n",
       "      <td>as1border1[GigabitEthernet0/0]</td>\n",
       "      <td>1500</td>\n",
       "    </tr>\n",
       "    <tr>\n",
       "      <th>2</th>\n",
       "      <td>as1border1[GigabitEthernet1/0]</td>\n",
       "      <td>1500</td>\n",
       "    </tr>\n",
       "    <tr>\n",
       "      <th>3</th>\n",
       "      <td>as1border1[Loopback0]</td>\n",
       "      <td>1500</td>\n",
       "    </tr>\n",
       "    <tr>\n",
       "      <th>4</th>\n",
       "      <td>as1border2[Ethernet0/0]</td>\n",
       "      <td>1500</td>\n",
       "    </tr>\n",
       "  </tbody>\n",
       "</table>\n",
       "</div>"
      ],
      "text/plain": [
       "                        Interface   MTU\n",
       "0  as1border1[Ethernet0/0]         1500\n",
       "1  as1border1[GigabitEthernet0/0]  1500\n",
       "2  as1border1[GigabitEthernet1/0]  1500\n",
       "3  as1border1[Loopback0]           1500\n",
       "4  as1border2[Ethernet0/0]         1500"
      ]
     },
     "execution_count": 72,
     "metadata": {},
     "output_type": "execute_result"
    }
   ],
   "source": [
    "result.head(5)"
   ]
  },
  {
   "cell_type": "markdown",
   "metadata": {},
   "source": [
    "Print the first row of the returned Dataframe"
   ]
  },
  {
   "cell_type": "code",
   "execution_count": 73,
   "metadata": {},
   "outputs": [
    {
     "data": {
      "text/plain": [
       "Interface    as1border1[Ethernet0/0]\n",
       "MTU          1500                   \n",
       "Name: 0, dtype: object"
      ]
     },
     "execution_count": 73,
     "metadata": {},
     "output_type": "execute_result"
    }
   ],
   "source": [
    "result.iloc[0]"
   ]
  }
 ],
 "metadata": {
  "celltoolbar": "Edit Metadata",
  "hide_input": false,
  "kernelspec": {
   "display_name": "Python 3",
   "language": "python",
   "name": "python3"
  },
  "language_info": {
   "codemirror_mode": {
    "name": "ipython",
    "version": 3
   },
   "file_extension": ".py",
   "mimetype": "text/x-python",
   "name": "python",
   "nbconvert_exporter": "python",
   "pygments_lexer": "ipython3",
   "version": "3.7.4"
  },
  "pycharm": {
   "stem_cell": {
    "cell_type": "raw",
    "metadata": {
     "collapsed": false
    },
    "source": []
   }
  }
 },
 "nbformat": 4,
 "nbformat_minor": 2
}
