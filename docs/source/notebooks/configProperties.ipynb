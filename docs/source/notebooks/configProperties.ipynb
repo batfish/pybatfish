{
 "cells": [
  {
   "cell_type": "code",
   "execution_count": null,
   "metadata": {
    "nbsphinx": "hidden"
   },
   "outputs": [],
   "source": [
    "import pandas as pd\n",
    "from pybatfish.client.commands import *\n",
    "from pybatfish.datamodel import *\n",
    "from pybatfish.question import bfq, list_questions, load_questions\n",
    "\n",
    "pd.set_option(\"display.width\", 300) \n",
    "pd.set_option(\"display.max_columns\", 20) \n",
    "pd.set_option(\"display.max_rows\", 1000) \n",
    "pd.set_option(\"display.max_colwidth\", -1)\n",
    "\n",
    "# Configure all pybatfish loggers to use WARN level\n",
    "import logging\n",
    "logging.getLogger('pybatfish').setLevel(logging.WARN)"
   ]
  },
  {
   "cell_type": "code",
   "execution_count": null,
   "metadata": {
    "nbsphinx": "hidden"
   },
   "outputs": [],
   "source": [
    "bf_session.host = 'localhost'"
   ]
  },
  {
   "cell_type": "code",
   "execution_count": null,
   "metadata": {
    "nbsphinx": "hidden",
    "pycharm": {
     "name": "#%%\n"
    }
   },
   "outputs": [],
   "source": [
    "load_questions()\n"
   ]
  },
  {
   "cell_type": "markdown",
   "metadata": {},
   "source": [
    "#### Configuration Properties"
   ]
  },
  {
   "cell_type": "markdown",
   "metadata": {},
   "source": [
    "* [Node Properties](#Node-Properties)"
   ]
  },
  {
   "cell_type": "code",
   "execution_count": null,
   "metadata": {
    "nbsphinx": "hidden"
   },
   "outputs": [],
   "source": [
    "bf_set_network('generate_questions')"
   ]
  },
  {
   "cell_type": "code",
   "execution_count": null,
   "metadata": {
    "nbsphinx": "hidden"
   },
   "outputs": [],
   "source": [
    "bf_set_snapshot('generate_questions')"
   ]
  },
  {
   "cell_type": "markdown",
   "metadata": {},
   "source": [
    "##### Node Properties"
   ]
  },
  {
   "cell_type": "markdown",
   "metadata": {},
   "source": [
    "Returns configuration settings of nodes."
   ]
  },
  {
   "cell_type": "markdown",
   "metadata": {},
   "source": [
    "Lists global settings of devices in the network. Settings that are specific to interfaces, routing protocols, etc. are available via other questions."
   ]
  },
  {
   "cell_type": "markdown",
   "metadata": {},
   "source": [
    "###### Inputs"
   ]
  },
  {
   "cell_type": "markdown",
   "metadata": {},
   "source": [
    "Name | Description | Type | Optional | Default Value\n",
    "--- | --- | --- | --- | --- \n",
    "nodes | Include nodes matching this name or regex. | [NodeSpec](../specifiers.md#node-specifier) | True | \n",
    "properties | Include properties matching this regex. | [NodePropertySpec](../specifiers.md#node-property-specifier) | True | "
   ]
  },
  {
   "cell_type": "markdown",
   "metadata": {},
   "source": [
    "###### Invocation"
   ]
  },
  {
   "cell_type": "code",
   "execution_count": null,
   "metadata": {},
   "outputs": [],
   "source": [
    "result = bfq.nodeProperties().answer().frame()"
   ]
  },
  {
   "cell_type": "markdown",
   "metadata": {},
   "source": [
    "###### Return Value"
   ]
  },
  {
   "cell_type": "markdown",
   "metadata": {},
   "source": [
    "Name | Description | Type\n",
    "--- | --- | ---\n",
    "Node | Node | str\n",
    "AS_Path_Access_Lists | Names of AS path access lists | Set of str\n",
    "Authentication_Key_Chains | Names of authentication keychains | Set of str\n",
    "Community_Lists | Names of community lists | Set of str\n",
    "Configuration_Format | Configuration format of the node | str\n",
    "DNS_Servers | Configured DNS servers | Set of str\n",
    "DNS_Source_Interface | Source interface to use for communicating with DNS servers | str\n",
    "Default_Cross_Zone_Action | Default action (PERMIT, DENY) for traffic that traverses firewall zones (null for non-firewall nodes) | str\n",
    "Default_Inbound_Action | Default action (PERMIT, DENY) for traffic destined for this node | str\n",
    "Device_Type | Device type of this node (HOST, INTERNET, ISP, ROUTER, SWITCH) | str\n",
    "Domain_Name | Domain name of the node | str\n",
    "Hostname | Hostname of the node | str\n",
    "IKE_Phase1_Keys | Names of IKE Phase 1 keys | Set of str\n",
    "IKE_Phase1_Policies | Names of IKE Phase 1 policies | Set of str\n",
    "IKE_Phase1_Proposals | Names of IKE Phase 1 proposals | Set of str\n",
    "IP6_Access_Lists | Names of IPv6 filters (ACLs, firewall rule sets) | Set of str\n",
    "IP_Access_Lists | Names of IPv4 filters (ACLs, firewall rule sets) | Set of str\n",
    "IPsec_Peer_Configs | Names of IPSec peers | Set of str\n",
    "IPsec_Phase2_Policies | Names of IPSec Phase 2 policies | Set of str\n",
    "IPsec_Phase2_Proposals | Names of IPSec Phase 2 proposals | Set of str\n",
    "Interfaces | Names of interfaces | Set of str\n",
    "Logging_Servers | Configured logging servers | Set of str\n",
    "Logging_Source_Interface | Source interface for communicating with logging servers | str\n",
    "NTP_Servers | Configured NTP servers | Set of str\n",
    "NTP_Source_Interface | Source interface for communicating with NTP servers | str\n",
    "PBR_Policies | Names of policy-based routing (PBR) policies | Set of str\n",
    "Route6_Filter_Lists | Names of structures that filter IPv6 routes (e.g., prefix lists) | Set of str\n",
    "Route_Filter_Lists | Names of structures that filter IPv4 routes (e.g., prefix lists) | Set of str\n",
    "Routing_Policies | Names of policies that manipulate routes (e.g., route maps) | Set of str\n",
    "SNMP_Source_Interface | Source interface to use for communicating with SNMP servers | str\n",
    "SNMP_Trap_Servers | Configured SNMP trap servers | Set of str\n",
    "TACACS_Servers | Configured TACACS servers | Set of str\n",
    "TACACS_Source_Interface | Source interface to use for communicating with TACACS servers | str\n",
    "VRFs | Names of VRFs present on the node | Set of str\n",
    "Zones | Names of firewall zones on the node | Set of str"
   ]
  },
  {
   "cell_type": "markdown",
   "metadata": {},
   "source": [
    "Print the first 5 rows of the returned Dataframe"
   ]
  },
  {
   "cell_type": "code",
   "execution_count": null,
   "metadata": {},
   "outputs": [],
   "source": [
    "result.head(5)"
   ]
  },
  {
   "cell_type": "markdown",
   "metadata": {},
   "source": [
    "Print the first row of the returned Dataframe"
   ]
  },
  {
   "cell_type": "code",
   "execution_count": null,
   "metadata": {},
   "outputs": [],
   "source": [
    "result.iloc[0]"
   ]
  }
 ],
 "metadata": {
  "celltoolbar": "Edit Metadata",
  "hide_input": false,
  "kernelspec": {
   "display_name": "Python 3",
   "language": "python",
   "name": "python3"
  },
  "language_info": {
   "codemirror_mode": {
    "name": "ipython",
    "version": 3
   },
   "file_extension": ".py",
   "mimetype": "text/x-python",
   "name": "python",
   "nbconvert_exporter": "python",
   "pygments_lexer": "ipython3",
   "version": "3.6.2"
  },
  "pycharm": {
   "stem_cell": {
    "cell_type": "raw",
    "metadata": {
     "collapsed": false
    },
    "source": []
   }
  }
 },
 "nbformat": 4,
 "nbformat_minor": 2
}
