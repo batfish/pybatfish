{
 "cells": [
  {
   "cell_type": "code",
   "execution_count": 1,
   "metadata": {
    "nbsphinx": "hidden"
   },
   "outputs": [],
   "source": [
    "import pandas as pd\n",
    "from pybatfish.client.commands import *\n",
    "from pybatfish.datamodel import *\n",
    "from pybatfish.question import bfq, list_questions, load_questions\n",
    "\n",
    "pd.set_option(\"display.width\", 300) \n",
    "pd.set_option(\"display.max_columns\", 20) \n",
    "pd.set_option(\"display.max_rows\", 1000) \n",
    "pd.set_option(\"display.max_colwidth\", -1)\n",
    "\n",
    "# Configure all pybatfish loggers to use WARN level\n",
    "import logging\n",
    "logging.getLogger('pybatfish').setLevel(logging.WARN)"
   ]
  },
  {
   "cell_type": "code",
   "execution_count": 2,
   "metadata": {
    "nbsphinx": "hidden"
   },
   "outputs": [],
   "source": [
    "bf_session.host = 'localhost'"
   ]
  },
  {
   "cell_type": "code",
   "execution_count": 3,
   "metadata": {
    "nbsphinx": "hidden",
    "pycharm": {
     "name": "#%%\n"
    }
   },
   "outputs": [],
   "source": [
    "load_questions()\n"
   ]
  },
  {
   "cell_type": "markdown",
   "metadata": {},
   "source": [
    "#### Routing Protocols"
   ]
  },
  {
   "cell_type": "markdown",
   "metadata": {},
   "source": [
    "* [BGP Session Compatibility](#BGP-Session-Compatibility)\n",
    "* [BGP Session Status](#BGP-Session-Status)\n",
    "* [BGP Edges](#BGP-Edges)\n",
    "* [OSPF Session Compatibility](#OSPF-Session-Compatibility)\n",
    "* [OSPF Edges](#OSPF-Edges)"
   ]
  },
  {
   "cell_type": "code",
   "execution_count": 4,
   "metadata": {
    "nbsphinx": "hidden"
   },
   "outputs": [
    {
     "data": {
      "text/plain": [
       "'generate_questions'"
      ]
     },
     "execution_count": 4,
     "metadata": {},
     "output_type": "execute_result"
    }
   ],
   "source": [
    "bf_set_network('generate_questions')"
   ]
  },
  {
   "cell_type": "code",
   "execution_count": 5,
   "metadata": {
    "nbsphinx": "hidden"
   },
   "outputs": [
    {
     "data": {
      "text/plain": [
       "'generate_questions'"
      ]
     },
     "execution_count": 5,
     "metadata": {},
     "output_type": "execute_result"
    }
   ],
   "source": [
    "bf_set_snapshot('generate_questions')"
   ]
  },
  {
   "cell_type": "markdown",
   "metadata": {},
   "source": [
    "##### BGP Session Compatibility"
   ]
  },
  {
   "cell_type": "markdown",
   "metadata": {},
   "source": [
    "Returns the compatibility of configured BGP sessions."
   ]
  },
  {
   "cell_type": "markdown",
   "metadata": {},
   "source": [
    "Checks the settings of each configured BGP peering and reports any issue with those settings locally or incompatiblity with its remote counterparts. Each row represents one configured BGP peering on a node and contains information about the session it is meant to establish. For dynamic peers, there is one row per compatible remote peer. Statuses that indicate an independently misconfigured peerings include NO_LOCAL_AS, NO_REMOTE_AS, NO_LOCAL_IP (for eBGP single-hop peerings), LOCAL_IP_UNKNOWN_STATICALLY (for iBGP or eBGP multi-hop peerings), NO_REMOTE_IP (for point-to-point peerings), and NO_REMOTE_PREFIX (for dynamic peerings). INVALID_LOCAL_IP indicates that the peering's configured local IP does not belong to any active interface on the node; UNKNOWN_REMOTE indicates that the configured remote IP is not present in the network. A locally valid point-to-point peering is deemed HALF_OPEN if it has no compatible remote peers, UNIQUE_MATCH if it has exactly one compatible remote peer, or MULTIPLE_REMOTES if it has multiple compatible remote peers. A locally valid dynamic peering is deemed NO_MATCH_FOUND if it has no compatible remote peers, or DYNAMIC_MATCH if it has at least one compatible remote peer."
   ]
  },
  {
   "cell_type": "markdown",
   "metadata": {},
   "source": [
    "###### Inputs"
   ]
  },
  {
   "cell_type": "markdown",
   "metadata": {},
   "source": [
    "Name | Description | Type | Optional | Default Value\n",
    "--- | --- | --- | --- | --- \n",
    "nodes | Include sessions whose first node matches this specifier. | [NodeSpec](../specifiers.md#node-specifier) | True | \n",
    "remoteNodes | Include sessions whose second node matches this specifier. | [NodeSpec](../specifiers.md#node-specifier) | True | \n",
    "status | Only include sessions for which compatibility status matches this specifier. | [BgpSessionCompatStatusSpec](../specifiers.md#bgp-session-compat-status-specifier) | True | \n",
    "type | Only include sessions that match this specifier. | [BgpSessionTypeSpec](../specifiers.md#bgp-session-type-specifier) | True | "
   ]
  },
  {
   "cell_type": "markdown",
   "metadata": {},
   "source": [
    "###### Invocation"
   ]
  },
  {
   "cell_type": "code",
   "execution_count": 6,
   "metadata": {},
   "outputs": [],
   "source": [
    "result = bfq.bgpSessionCompatibility().answer().frame()"
   ]
  },
  {
   "cell_type": "markdown",
   "metadata": {},
   "source": [
    "###### Return Value"
   ]
  },
  {
   "cell_type": "markdown",
   "metadata": {},
   "source": [
    "Name | Description | Type\n",
    "--- | --- | ---\n",
    "Node | The node where this session is configured | str\n",
    "VRF | The VRF in which this session is configured | str\n",
    "Local_AS | The local AS of the session | int\n",
    "Local_Interface | Local interface of the session | [Interface](../datamodel.rst#pybatfish.datamodel.primitives.Interface)\n",
    "Local_IP | The local IP of the session | str\n",
    "Remote_AS | The remote AS or list of ASes of the session | str\n",
    "Remote_Node | Remote node for this session | str\n",
    "Remote_Interface | Remote interface for this session | [Interface](../datamodel.rst#pybatfish.datamodel.primitives.Interface)\n",
    "Remote_IP | Remote IP or prefix for this session | str\n",
    "Address_Families | Address Families participating in this session | Set of str\n",
    "Session_Type | The type of this session | str\n",
    "Configured_Status | Configured status | str"
   ]
  },
  {
   "cell_type": "markdown",
   "metadata": {},
   "source": [
    "Print the first 5 rows of the returned Dataframe"
   ]
  },
  {
   "cell_type": "code",
   "execution_count": 7,
   "metadata": {},
   "outputs": [
    {
     "data": {
      "text/html": [
       "<div>\n",
       "<style scoped>\n",
       "    .dataframe tbody tr th:only-of-type {\n",
       "        vertical-align: middle;\n",
       "    }\n",
       "\n",
       "    .dataframe tbody tr th {\n",
       "        vertical-align: top;\n",
       "    }\n",
       "\n",
       "    .dataframe thead th {\n",
       "        text-align: right;\n",
       "    }\n",
       "</style>\n",
       "<table border=\"1\" class=\"dataframe\">\n",
       "  <thead>\n",
       "    <tr style=\"text-align: right;\">\n",
       "      <th></th>\n",
       "      <th>Node</th>\n",
       "      <th>VRF</th>\n",
       "      <th>Local_AS</th>\n",
       "      <th>Local_Interface</th>\n",
       "      <th>Local_IP</th>\n",
       "      <th>Remote_AS</th>\n",
       "      <th>Remote_Node</th>\n",
       "      <th>Remote_Interface</th>\n",
       "      <th>Remote_IP</th>\n",
       "      <th>Address_Families</th>\n",
       "      <th>Session_Type</th>\n",
       "      <th>Configured_Status</th>\n",
       "    </tr>\n",
       "  </thead>\n",
       "  <tbody>\n",
       "    <tr>\n",
       "      <th>0</th>\n",
       "      <td>as1border1</td>\n",
       "      <td>default</td>\n",
       "      <td>1</td>\n",
       "      <td>None</td>\n",
       "      <td>1.1.1.1</td>\n",
       "      <td>1</td>\n",
       "      <td>as1core1</td>\n",
       "      <td>None</td>\n",
       "      <td>1.10.1.1</td>\n",
       "      <td>['IPV4_UNICAST']</td>\n",
       "      <td>IBGP</td>\n",
       "      <td>UNIQUE_MATCH</td>\n",
       "    </tr>\n",
       "    <tr>\n",
       "      <th>1</th>\n",
       "      <td>as1border1</td>\n",
       "      <td>default</td>\n",
       "      <td>1</td>\n",
       "      <td>None</td>\n",
       "      <td>None</td>\n",
       "      <td>666</td>\n",
       "      <td>None</td>\n",
       "      <td>None</td>\n",
       "      <td>3.2.2.2</td>\n",
       "      <td>[]</td>\n",
       "      <td>EBGP_SINGLEHOP</td>\n",
       "      <td>NO_LOCAL_IP</td>\n",
       "    </tr>\n",
       "    <tr>\n",
       "      <th>2</th>\n",
       "      <td>as1border1</td>\n",
       "      <td>default</td>\n",
       "      <td>1</td>\n",
       "      <td>None</td>\n",
       "      <td>None</td>\n",
       "      <td>555</td>\n",
       "      <td>None</td>\n",
       "      <td>None</td>\n",
       "      <td>5.6.7.8</td>\n",
       "      <td>[]</td>\n",
       "      <td>EBGP_SINGLEHOP</td>\n",
       "      <td>NO_LOCAL_IP</td>\n",
       "    </tr>\n",
       "    <tr>\n",
       "      <th>3</th>\n",
       "      <td>as1border1</td>\n",
       "      <td>default</td>\n",
       "      <td>1</td>\n",
       "      <td>None</td>\n",
       "      <td>10.12.11.1</td>\n",
       "      <td>2</td>\n",
       "      <td>as2border1</td>\n",
       "      <td>None</td>\n",
       "      <td>10.12.11.2</td>\n",
       "      <td>['IPV4_UNICAST']</td>\n",
       "      <td>EBGP_SINGLEHOP</td>\n",
       "      <td>UNIQUE_MATCH</td>\n",
       "    </tr>\n",
       "    <tr>\n",
       "      <th>4</th>\n",
       "      <td>as1border2</td>\n",
       "      <td>default</td>\n",
       "      <td>1</td>\n",
       "      <td>None</td>\n",
       "      <td>1.2.2.2</td>\n",
       "      <td>1</td>\n",
       "      <td>as1core1</td>\n",
       "      <td>None</td>\n",
       "      <td>1.10.1.1</td>\n",
       "      <td>['IPV4_UNICAST']</td>\n",
       "      <td>IBGP</td>\n",
       "      <td>UNIQUE_MATCH</td>\n",
       "    </tr>\n",
       "  </tbody>\n",
       "</table>\n",
       "</div>"
      ],
      "text/plain": [
       "         Node      VRF Local_AS Local_Interface    Local_IP Remote_AS Remote_Node Remote_Interface   Remote_IP  Address_Families    Session_Type Configured_Status\n",
       "0  as1border1  default  1        None            1.1.1.1     1         as1core1    None             1.10.1.1    ['IPV4_UNICAST']  IBGP            UNIQUE_MATCH    \n",
       "1  as1border1  default  1        None            None        666       None        None             3.2.2.2     []                EBGP_SINGLEHOP  NO_LOCAL_IP     \n",
       "2  as1border1  default  1        None            None        555       None        None             5.6.7.8     []                EBGP_SINGLEHOP  NO_LOCAL_IP     \n",
       "3  as1border1  default  1        None            10.12.11.1  2         as2border1  None             10.12.11.2  ['IPV4_UNICAST']  EBGP_SINGLEHOP  UNIQUE_MATCH    \n",
       "4  as1border2  default  1        None            1.2.2.2     1         as1core1    None             1.10.1.1    ['IPV4_UNICAST']  IBGP            UNIQUE_MATCH    "
      ]
     },
     "execution_count": 7,
     "metadata": {},
     "output_type": "execute_result"
    }
   ],
   "source": [
    "result.head(5)"
   ]
  },
  {
   "cell_type": "markdown",
   "metadata": {},
   "source": [
    "Print the first row of the returned Dataframe"
   ]
  },
  {
   "cell_type": "code",
   "execution_count": 8,
   "metadata": {},
   "outputs": [
    {
     "data": {
      "text/plain": [
       "Node                 as1border1      \n",
       "VRF                  default         \n",
       "Local_AS             1               \n",
       "Local_Interface      None            \n",
       "Local_IP             1.1.1.1         \n",
       "Remote_AS            1               \n",
       "Remote_Node          as1core1        \n",
       "Remote_Interface     None            \n",
       "Remote_IP            1.10.1.1        \n",
       "Address_Families     ['IPV4_UNICAST']\n",
       "Session_Type         IBGP            \n",
       "Configured_Status    UNIQUE_MATCH    \n",
       "Name: 0, dtype: object"
      ]
     },
     "execution_count": 8,
     "metadata": {},
     "output_type": "execute_result"
    }
   ],
   "source": [
    "result.iloc[0]"
   ]
  },
  {
   "cell_type": "code",
   "execution_count": 9,
   "metadata": {
    "nbsphinx": "hidden"
   },
   "outputs": [
    {
     "data": {
      "text/plain": [
       "'generate_questions'"
      ]
     },
     "execution_count": 9,
     "metadata": {},
     "output_type": "execute_result"
    }
   ],
   "source": [
    "bf_set_network('generate_questions')"
   ]
  },
  {
   "cell_type": "code",
   "execution_count": 10,
   "metadata": {
    "nbsphinx": "hidden"
   },
   "outputs": [
    {
     "data": {
      "text/plain": [
       "'generate_questions'"
      ]
     },
     "execution_count": 10,
     "metadata": {},
     "output_type": "execute_result"
    }
   ],
   "source": [
    "bf_set_snapshot('generate_questions')"
   ]
  },
  {
   "cell_type": "markdown",
   "metadata": {},
   "source": [
    "##### BGP Session Status"
   ]
  },
  {
   "cell_type": "markdown",
   "metadata": {},
   "source": [
    "Returns the dynamic status of configured BGP sessions."
   ]
  },
  {
   "cell_type": "markdown",
   "metadata": {},
   "source": [
    "Checks whether configured BGP peerings can be established. Each row represents one configured BGP peering and contains information about the session it is configured to establish. For dynamic peerings, one row is shown per compatible remote peer. Possible statuses for each session are NOT_COMPATIBLE, ESTABLISHED, and NOT_ESTABLISHED. NOT_COMPATIBLE sessions are those where one or both peers are misconfigured; the BgpSessionCompatibility question provides further insight into the nature of the configuration error. NOT_ESTABLISHED sessions are those that are configured compatibly but will not come up because peers cannot reach each other (e.g., due to being blocked by an ACL). ESTABLISHED sessions are those that are compatible and are expected to come up."
   ]
  },
  {
   "cell_type": "markdown",
   "metadata": {},
   "source": [
    "###### Inputs"
   ]
  },
  {
   "cell_type": "markdown",
   "metadata": {},
   "source": [
    "Name | Description | Type | Optional | Default Value\n",
    "--- | --- | --- | --- | --- \n",
    "nodes | Include sessions whose first node matches this specifier. | [NodeSpec](../specifiers.md#node-specifier) | True | \n",
    "remoteNodes | Include sessions whose second node matches this specifier. | [NodeSpec](../specifiers.md#node-specifier) | True | \n",
    "status | Only include sessions for which status matches this specifier. | [BgpSessionStatusSpec](../specifiers.md#bgp-session-status-specifier) | True | \n",
    "type | Only include sessions that match this specifier. | [BgpSessionTypeSpec](../specifiers.md#bgp-session-type-specifier) | True | "
   ]
  },
  {
   "cell_type": "markdown",
   "metadata": {},
   "source": [
    "###### Invocation"
   ]
  },
  {
   "cell_type": "code",
   "execution_count": 11,
   "metadata": {},
   "outputs": [],
   "source": [
    "result = bfq.bgpSessionStatus().answer().frame()"
   ]
  },
  {
   "cell_type": "markdown",
   "metadata": {},
   "source": [
    "###### Return Value"
   ]
  },
  {
   "cell_type": "markdown",
   "metadata": {},
   "source": [
    "Name | Description | Type\n",
    "--- | --- | ---\n",
    "Node | The node where this session is configured | str\n",
    "VRF | The VRF in which this session is configured | str\n",
    "Local_AS | The local AS of the session | int\n",
    "Local_Interface | Local interface of the session | [Interface](../datamodel.rst#pybatfish.datamodel.primitives.Interface)\n",
    "Local_IP | The local IP of the session | str\n",
    "Remote_AS | The remote AS or list of ASes of the session | str\n",
    "Remote_Node | Remote node for this session | str\n",
    "Remote_Interface | Remote interface for this session | [Interface](../datamodel.rst#pybatfish.datamodel.primitives.Interface)\n",
    "Remote_IP | Remote IP or prefix for this session | str\n",
    "Address_Families | Address Families participating in this session | Set of str\n",
    "Session_Type | The type of this session | str\n",
    "Established_Status | Established status | str"
   ]
  },
  {
   "cell_type": "markdown",
   "metadata": {},
   "source": [
    "Print the first 5 rows of the returned Dataframe"
   ]
  },
  {
   "cell_type": "code",
   "execution_count": 12,
   "metadata": {},
   "outputs": [
    {
     "data": {
      "text/html": [
       "<div>\n",
       "<style scoped>\n",
       "    .dataframe tbody tr th:only-of-type {\n",
       "        vertical-align: middle;\n",
       "    }\n",
       "\n",
       "    .dataframe tbody tr th {\n",
       "        vertical-align: top;\n",
       "    }\n",
       "\n",
       "    .dataframe thead th {\n",
       "        text-align: right;\n",
       "    }\n",
       "</style>\n",
       "<table border=\"1\" class=\"dataframe\">\n",
       "  <thead>\n",
       "    <tr style=\"text-align: right;\">\n",
       "      <th></th>\n",
       "      <th>Node</th>\n",
       "      <th>VRF</th>\n",
       "      <th>Local_AS</th>\n",
       "      <th>Local_Interface</th>\n",
       "      <th>Local_IP</th>\n",
       "      <th>Remote_AS</th>\n",
       "      <th>Remote_Node</th>\n",
       "      <th>Remote_Interface</th>\n",
       "      <th>Remote_IP</th>\n",
       "      <th>Address_Families</th>\n",
       "      <th>Session_Type</th>\n",
       "      <th>Established_Status</th>\n",
       "    </tr>\n",
       "  </thead>\n",
       "  <tbody>\n",
       "    <tr>\n",
       "      <th>0</th>\n",
       "      <td>as1border1</td>\n",
       "      <td>default</td>\n",
       "      <td>1</td>\n",
       "      <td>None</td>\n",
       "      <td>1.1.1.1</td>\n",
       "      <td>1</td>\n",
       "      <td>as1core1</td>\n",
       "      <td>None</td>\n",
       "      <td>1.10.1.1</td>\n",
       "      <td>['IPV4_UNICAST']</td>\n",
       "      <td>IBGP</td>\n",
       "      <td>ESTABLISHED</td>\n",
       "    </tr>\n",
       "    <tr>\n",
       "      <th>1</th>\n",
       "      <td>as1border1</td>\n",
       "      <td>default</td>\n",
       "      <td>1</td>\n",
       "      <td>None</td>\n",
       "      <td>None</td>\n",
       "      <td>666</td>\n",
       "      <td>None</td>\n",
       "      <td>None</td>\n",
       "      <td>3.2.2.2</td>\n",
       "      <td>[]</td>\n",
       "      <td>EBGP_SINGLEHOP</td>\n",
       "      <td>NOT_COMPATIBLE</td>\n",
       "    </tr>\n",
       "    <tr>\n",
       "      <th>2</th>\n",
       "      <td>as1border1</td>\n",
       "      <td>default</td>\n",
       "      <td>1</td>\n",
       "      <td>None</td>\n",
       "      <td>None</td>\n",
       "      <td>555</td>\n",
       "      <td>None</td>\n",
       "      <td>None</td>\n",
       "      <td>5.6.7.8</td>\n",
       "      <td>[]</td>\n",
       "      <td>EBGP_SINGLEHOP</td>\n",
       "      <td>NOT_COMPATIBLE</td>\n",
       "    </tr>\n",
       "    <tr>\n",
       "      <th>3</th>\n",
       "      <td>as1border1</td>\n",
       "      <td>default</td>\n",
       "      <td>1</td>\n",
       "      <td>None</td>\n",
       "      <td>10.12.11.1</td>\n",
       "      <td>2</td>\n",
       "      <td>as2border1</td>\n",
       "      <td>None</td>\n",
       "      <td>10.12.11.2</td>\n",
       "      <td>['IPV4_UNICAST']</td>\n",
       "      <td>EBGP_SINGLEHOP</td>\n",
       "      <td>ESTABLISHED</td>\n",
       "    </tr>\n",
       "    <tr>\n",
       "      <th>4</th>\n",
       "      <td>as1border2</td>\n",
       "      <td>default</td>\n",
       "      <td>1</td>\n",
       "      <td>None</td>\n",
       "      <td>1.2.2.2</td>\n",
       "      <td>1</td>\n",
       "      <td>as1core1</td>\n",
       "      <td>None</td>\n",
       "      <td>1.10.1.1</td>\n",
       "      <td>['IPV4_UNICAST']</td>\n",
       "      <td>IBGP</td>\n",
       "      <td>ESTABLISHED</td>\n",
       "    </tr>\n",
       "  </tbody>\n",
       "</table>\n",
       "</div>"
      ],
      "text/plain": [
       "         Node      VRF Local_AS Local_Interface    Local_IP Remote_AS Remote_Node Remote_Interface   Remote_IP  Address_Families    Session_Type Established_Status\n",
       "0  as1border1  default  1        None            1.1.1.1     1         as1core1    None             1.10.1.1    ['IPV4_UNICAST']  IBGP            ESTABLISHED      \n",
       "1  as1border1  default  1        None            None        666       None        None             3.2.2.2     []                EBGP_SINGLEHOP  NOT_COMPATIBLE   \n",
       "2  as1border1  default  1        None            None        555       None        None             5.6.7.8     []                EBGP_SINGLEHOP  NOT_COMPATIBLE   \n",
       "3  as1border1  default  1        None            10.12.11.1  2         as2border1  None             10.12.11.2  ['IPV4_UNICAST']  EBGP_SINGLEHOP  ESTABLISHED      \n",
       "4  as1border2  default  1        None            1.2.2.2     1         as1core1    None             1.10.1.1    ['IPV4_UNICAST']  IBGP            ESTABLISHED      "
      ]
     },
     "execution_count": 12,
     "metadata": {},
     "output_type": "execute_result"
    }
   ],
   "source": [
    "result.head(5)"
   ]
  },
  {
   "cell_type": "markdown",
   "metadata": {},
   "source": [
    "Print the first row of the returned Dataframe"
   ]
  },
  {
   "cell_type": "code",
   "execution_count": 13,
   "metadata": {},
   "outputs": [
    {
     "data": {
      "text/plain": [
       "Node                  as1border1      \n",
       "VRF                   default         \n",
       "Local_AS              1               \n",
       "Local_Interface       None            \n",
       "Local_IP              1.1.1.1         \n",
       "Remote_AS             1               \n",
       "Remote_Node           as1core1        \n",
       "Remote_Interface      None            \n",
       "Remote_IP             1.10.1.1        \n",
       "Address_Families      ['IPV4_UNICAST']\n",
       "Session_Type          IBGP            \n",
       "Established_Status    ESTABLISHED     \n",
       "Name: 0, dtype: object"
      ]
     },
     "execution_count": 13,
     "metadata": {},
     "output_type": "execute_result"
    }
   ],
   "source": [
    "result.iloc[0]"
   ]
  },
  {
   "cell_type": "code",
   "execution_count": 14,
   "metadata": {
    "nbsphinx": "hidden"
   },
   "outputs": [
    {
     "data": {
      "text/plain": [
       "'generate_questions'"
      ]
     },
     "execution_count": 14,
     "metadata": {},
     "output_type": "execute_result"
    }
   ],
   "source": [
    "bf_set_network('generate_questions')"
   ]
  },
  {
   "cell_type": "code",
   "execution_count": 15,
   "metadata": {
    "nbsphinx": "hidden"
   },
   "outputs": [
    {
     "data": {
      "text/plain": [
       "'generate_questions'"
      ]
     },
     "execution_count": 15,
     "metadata": {},
     "output_type": "execute_result"
    }
   ],
   "source": [
    "bf_set_snapshot('generate_questions')"
   ]
  },
  {
   "cell_type": "markdown",
   "metadata": {},
   "source": [
    "##### BGP Edges"
   ]
  },
  {
   "cell_type": "markdown",
   "metadata": {},
   "source": [
    "Returns BGP adjacencies."
   ]
  },
  {
   "cell_type": "markdown",
   "metadata": {},
   "source": [
    "Lists all BGP adjacencies in the network."
   ]
  },
  {
   "cell_type": "markdown",
   "metadata": {},
   "source": [
    "###### Inputs"
   ]
  },
  {
   "cell_type": "markdown",
   "metadata": {},
   "source": [
    "Name | Description | Type | Optional | Default Value\n",
    "--- | --- | --- | --- | --- \n",
    "nodes | Include adjacencies whose first node matches this name or regex. | [NodeSpec](../specifiers.md#node-specifier) | True | .*\n",
    "remoteNodes | Include adjacencies whose second node matches this name or regex. | [NodeSpec](../specifiers.md#node-specifier) | True | .*"
   ]
  },
  {
   "cell_type": "markdown",
   "metadata": {},
   "source": [
    "###### Invocation"
   ]
  },
  {
   "cell_type": "code",
   "execution_count": 16,
   "metadata": {},
   "outputs": [],
   "source": [
    "result = bfq.bgpEdges().answer().frame()"
   ]
  },
  {
   "cell_type": "markdown",
   "metadata": {},
   "source": [
    "###### Return Value"
   ]
  },
  {
   "cell_type": "markdown",
   "metadata": {},
   "source": [
    "Name | Description | Type\n",
    "--- | --- | ---\n",
    "Node | Node from which the edge originates | str\n",
    "IP | IP at the side of originator | str\n",
    "Interface | Interface at which the edge originates | str\n",
    "AS_Number | AS Number at the side of originator | str\n",
    "Remote_Node | Node at which the edge terminates | str\n",
    "Remote_IP | IP at the side of the responder | str\n",
    "Remote_Interface | Interface at which the edge terminates | str\n",
    "Remote_AS_Number | AS Number at the side of responder | str"
   ]
  },
  {
   "cell_type": "markdown",
   "metadata": {},
   "source": [
    "Print the first 5 rows of the returned Dataframe"
   ]
  },
  {
   "cell_type": "code",
   "execution_count": 17,
   "metadata": {},
   "outputs": [
    {
     "data": {
      "text/html": [
       "<div>\n",
       "<style scoped>\n",
       "    .dataframe tbody tr th:only-of-type {\n",
       "        vertical-align: middle;\n",
       "    }\n",
       "\n",
       "    .dataframe tbody tr th {\n",
       "        vertical-align: top;\n",
       "    }\n",
       "\n",
       "    .dataframe thead th {\n",
       "        text-align: right;\n",
       "    }\n",
       "</style>\n",
       "<table border=\"1\" class=\"dataframe\">\n",
       "  <thead>\n",
       "    <tr style=\"text-align: right;\">\n",
       "      <th></th>\n",
       "      <th>Node</th>\n",
       "      <th>IP</th>\n",
       "      <th>Interface</th>\n",
       "      <th>AS_Number</th>\n",
       "      <th>Remote_Node</th>\n",
       "      <th>Remote_IP</th>\n",
       "      <th>Remote_Interface</th>\n",
       "      <th>Remote_AS_Number</th>\n",
       "    </tr>\n",
       "  </thead>\n",
       "  <tbody>\n",
       "    <tr>\n",
       "      <th>0</th>\n",
       "      <td>as1border2</td>\n",
       "      <td>1.2.2.2</td>\n",
       "      <td>None</td>\n",
       "      <td>1</td>\n",
       "      <td>as1core1</td>\n",
       "      <td>1.10.1.1</td>\n",
       "      <td>None</td>\n",
       "      <td>1</td>\n",
       "    </tr>\n",
       "    <tr>\n",
       "      <th>1</th>\n",
       "      <td>as1core1</td>\n",
       "      <td>1.10.1.1</td>\n",
       "      <td>None</td>\n",
       "      <td>1</td>\n",
       "      <td>as1border1</td>\n",
       "      <td>1.1.1.1</td>\n",
       "      <td>None</td>\n",
       "      <td>1</td>\n",
       "    </tr>\n",
       "    <tr>\n",
       "      <th>2</th>\n",
       "      <td>as2dist2</td>\n",
       "      <td>2.1.3.2</td>\n",
       "      <td>None</td>\n",
       "      <td>2</td>\n",
       "      <td>as2core2</td>\n",
       "      <td>2.1.2.2</td>\n",
       "      <td>None</td>\n",
       "      <td>2</td>\n",
       "    </tr>\n",
       "    <tr>\n",
       "      <th>3</th>\n",
       "      <td>as3border2</td>\n",
       "      <td>3.2.2.2</td>\n",
       "      <td>None</td>\n",
       "      <td>3</td>\n",
       "      <td>as3core1</td>\n",
       "      <td>3.10.1.1</td>\n",
       "      <td>None</td>\n",
       "      <td>3</td>\n",
       "    </tr>\n",
       "    <tr>\n",
       "      <th>4</th>\n",
       "      <td>as3border1</td>\n",
       "      <td>10.23.21.3</td>\n",
       "      <td>None</td>\n",
       "      <td>3</td>\n",
       "      <td>as2border2</td>\n",
       "      <td>10.23.21.2</td>\n",
       "      <td>None</td>\n",
       "      <td>2</td>\n",
       "    </tr>\n",
       "  </tbody>\n",
       "</table>\n",
       "</div>"
      ],
      "text/plain": [
       "         Node          IP Interface AS_Number Remote_Node   Remote_IP Remote_Interface Remote_AS_Number\n",
       "0  as1border2  1.2.2.2     None      1         as1core1    1.10.1.1    None             1              \n",
       "1  as1core1    1.10.1.1    None      1         as1border1  1.1.1.1     None             1              \n",
       "2  as2dist2    2.1.3.2     None      2         as2core2    2.1.2.2     None             2              \n",
       "3  as3border2  3.2.2.2     None      3         as3core1    3.10.1.1    None             3              \n",
       "4  as3border1  10.23.21.3  None      3         as2border2  10.23.21.2  None             2              "
      ]
     },
     "execution_count": 17,
     "metadata": {},
     "output_type": "execute_result"
    }
   ],
   "source": [
    "result.head(5)"
   ]
  },
  {
   "cell_type": "markdown",
   "metadata": {},
   "source": [
    "Print the first row of the returned Dataframe"
   ]
  },
  {
   "cell_type": "code",
   "execution_count": 18,
   "metadata": {},
   "outputs": [
    {
     "data": {
      "text/plain": [
       "Node                as1border2\n",
       "IP                  1.2.2.2   \n",
       "Interface           None      \n",
       "AS_Number           1         \n",
       "Remote_Node         as1core1  \n",
       "Remote_IP           1.10.1.1  \n",
       "Remote_Interface    None      \n",
       "Remote_AS_Number    1         \n",
       "Name: 0, dtype: object"
      ]
     },
     "execution_count": 18,
     "metadata": {},
     "output_type": "execute_result"
    }
   ],
   "source": [
    "result.iloc[0]"
   ]
  },
  {
   "cell_type": "code",
   "execution_count": 19,
   "metadata": {
    "nbsphinx": "hidden"
   },
   "outputs": [
    {
     "data": {
      "text/plain": [
       "'generate_questions'"
      ]
     },
     "execution_count": 19,
     "metadata": {},
     "output_type": "execute_result"
    }
   ],
   "source": [
    "bf_set_network('generate_questions')"
   ]
  },
  {
   "cell_type": "code",
   "execution_count": 20,
   "metadata": {
    "nbsphinx": "hidden"
   },
   "outputs": [
    {
     "data": {
      "text/plain": [
       "'generate_questions'"
      ]
     },
     "execution_count": 20,
     "metadata": {},
     "output_type": "execute_result"
    }
   ],
   "source": [
    "bf_set_snapshot('generate_questions')"
   ]
  },
  {
   "cell_type": "markdown",
   "metadata": {},
   "source": [
    "##### OSPF Session Compatibility"
   ]
  },
  {
   "cell_type": "markdown",
   "metadata": {},
   "source": [
    "Returns compatible OSPF sessions."
   ]
  },
  {
   "cell_type": "markdown",
   "metadata": {},
   "source": [
    "Returns compatible OSPF sessions in the network. A session is compatible if the interfaces involved are not shutdown and do run OSPF, are not OSPF passive and are associated with the same OSPF area."
   ]
  },
  {
   "cell_type": "markdown",
   "metadata": {},
   "source": [
    "###### Inputs"
   ]
  },
  {
   "cell_type": "markdown",
   "metadata": {},
   "source": [
    "Name | Description | Type | Optional | Default Value\n",
    "--- | --- | --- | --- | --- \n",
    "nodes | Include nodes matching this name or regex. | [NodeSpec](../specifiers.md#node-specifier) | True | \n",
    "remoteNodes | Include remote nodes matching this name or regex. | [NodeSpec](../specifiers.md#node-specifier) | True | \n",
    "statuses | Only include sessions matching this status specifier. | [OspfSessionStatusSpec](../specifiers.md#ospf-session-status-specifier) | True | "
   ]
  },
  {
   "cell_type": "markdown",
   "metadata": {},
   "source": [
    "###### Invocation"
   ]
  },
  {
   "cell_type": "code",
   "execution_count": 21,
   "metadata": {},
   "outputs": [],
   "source": [
    "result = bfq.ospfSessionCompatibility().answer().frame()"
   ]
  },
  {
   "cell_type": "markdown",
   "metadata": {},
   "source": [
    "###### Return Value"
   ]
  },
  {
   "cell_type": "markdown",
   "metadata": {},
   "source": [
    "Name | Description | Type\n",
    "--- | --- | ---\n",
    "Interface | Interface | [Interface](../datamodel.rst#pybatfish.datamodel.primitives.Interface)\n",
    "VRF | VRF | str\n",
    "IP | Ip | str\n",
    "Area | Area | int\n",
    "Remote_Interface | Remote Interface | [Interface](../datamodel.rst#pybatfish.datamodel.primitives.Interface)\n",
    "Remote_VRF | Remote VRF | str\n",
    "Remote_IP | Remote IP | str\n",
    "Remote_Area | Remote Area | int\n",
    "Session_Status | Status of the OSPF session | str"
   ]
  },
  {
   "cell_type": "markdown",
   "metadata": {},
   "source": [
    "Print the first 5 rows of the returned Dataframe"
   ]
  },
  {
   "cell_type": "code",
   "execution_count": 22,
   "metadata": {},
   "outputs": [
    {
     "data": {
      "text/html": [
       "<div>\n",
       "<style scoped>\n",
       "    .dataframe tbody tr th:only-of-type {\n",
       "        vertical-align: middle;\n",
       "    }\n",
       "\n",
       "    .dataframe tbody tr th {\n",
       "        vertical-align: top;\n",
       "    }\n",
       "\n",
       "    .dataframe thead th {\n",
       "        text-align: right;\n",
       "    }\n",
       "</style>\n",
       "<table border=\"1\" class=\"dataframe\">\n",
       "  <thead>\n",
       "    <tr style=\"text-align: right;\">\n",
       "      <th></th>\n",
       "      <th>Interface</th>\n",
       "      <th>VRF</th>\n",
       "      <th>IP</th>\n",
       "      <th>Area</th>\n",
       "      <th>Remote_Interface</th>\n",
       "      <th>Remote_VRF</th>\n",
       "      <th>Remote_IP</th>\n",
       "      <th>Remote_Area</th>\n",
       "      <th>Session_Status</th>\n",
       "    </tr>\n",
       "  </thead>\n",
       "  <tbody>\n",
       "    <tr>\n",
       "      <th>0</th>\n",
       "      <td>as2core2[GigabitEthernet0/0]</td>\n",
       "      <td>default</td>\n",
       "      <td>2.12.22.2</td>\n",
       "      <td>1</td>\n",
       "      <td>as2border2[GigabitEthernet1/0]</td>\n",
       "      <td>default</td>\n",
       "      <td>2.12.22.1</td>\n",
       "      <td>1</td>\n",
       "      <td>ESTABLISHED</td>\n",
       "    </tr>\n",
       "    <tr>\n",
       "      <th>1</th>\n",
       "      <td>as2core2[GigabitEthernet1/0]</td>\n",
       "      <td>default</td>\n",
       "      <td>2.12.12.2</td>\n",
       "      <td>1</td>\n",
       "      <td>as2border1[GigabitEthernet2/0]</td>\n",
       "      <td>default</td>\n",
       "      <td>2.12.12.1</td>\n",
       "      <td>1</td>\n",
       "      <td>ESTABLISHED</td>\n",
       "    </tr>\n",
       "    <tr>\n",
       "      <th>2</th>\n",
       "      <td>as2border1[GigabitEthernet1/0]</td>\n",
       "      <td>default</td>\n",
       "      <td>2.12.11.1</td>\n",
       "      <td>1</td>\n",
       "      <td>as2core1[GigabitEthernet0/0]</td>\n",
       "      <td>default</td>\n",
       "      <td>2.12.11.2</td>\n",
       "      <td>1</td>\n",
       "      <td>ESTABLISHED</td>\n",
       "    </tr>\n",
       "    <tr>\n",
       "      <th>3</th>\n",
       "      <td>as2border1[GigabitEthernet2/0]</td>\n",
       "      <td>default</td>\n",
       "      <td>2.12.12.1</td>\n",
       "      <td>1</td>\n",
       "      <td>as2core2[GigabitEthernet1/0]</td>\n",
       "      <td>default</td>\n",
       "      <td>2.12.12.2</td>\n",
       "      <td>1</td>\n",
       "      <td>ESTABLISHED</td>\n",
       "    </tr>\n",
       "    <tr>\n",
       "      <th>4</th>\n",
       "      <td>as2core2[GigabitEthernet3/0]</td>\n",
       "      <td>default</td>\n",
       "      <td>2.23.21.2</td>\n",
       "      <td>1</td>\n",
       "      <td>as2dist1[GigabitEthernet1/0]</td>\n",
       "      <td>default</td>\n",
       "      <td>2.23.21.3</td>\n",
       "      <td>1</td>\n",
       "      <td>ESTABLISHED</td>\n",
       "    </tr>\n",
       "  </tbody>\n",
       "</table>\n",
       "</div>"
      ],
      "text/plain": [
       "                        Interface      VRF         IP Area                Remote_Interface Remote_VRF  Remote_IP Remote_Area Session_Status\n",
       "0  as2core2[GigabitEthernet0/0]    default  2.12.22.2  1    as2border2[GigabitEthernet1/0]  default    2.12.22.1  1           ESTABLISHED  \n",
       "1  as2core2[GigabitEthernet1/0]    default  2.12.12.2  1    as2border1[GigabitEthernet2/0]  default    2.12.12.1  1           ESTABLISHED  \n",
       "2  as2border1[GigabitEthernet1/0]  default  2.12.11.1  1    as2core1[GigabitEthernet0/0]    default    2.12.11.2  1           ESTABLISHED  \n",
       "3  as2border1[GigabitEthernet2/0]  default  2.12.12.1  1    as2core2[GigabitEthernet1/0]    default    2.12.12.2  1           ESTABLISHED  \n",
       "4  as2core2[GigabitEthernet3/0]    default  2.23.21.2  1    as2dist1[GigabitEthernet1/0]    default    2.23.21.3  1           ESTABLISHED  "
      ]
     },
     "execution_count": 22,
     "metadata": {},
     "output_type": "execute_result"
    }
   ],
   "source": [
    "result.head(5)"
   ]
  },
  {
   "cell_type": "markdown",
   "metadata": {},
   "source": [
    "Print the first row of the returned Dataframe"
   ]
  },
  {
   "cell_type": "code",
   "execution_count": 23,
   "metadata": {},
   "outputs": [
    {
     "data": {
      "text/plain": [
       "Interface           as2core2[GigabitEthernet0/0]  \n",
       "VRF                 default                       \n",
       "IP                  2.12.22.2                     \n",
       "Area                1                             \n",
       "Remote_Interface    as2border2[GigabitEthernet1/0]\n",
       "Remote_VRF          default                       \n",
       "Remote_IP           2.12.22.1                     \n",
       "Remote_Area         1                             \n",
       "Session_Status      ESTABLISHED                   \n",
       "Name: 0, dtype: object"
      ]
     },
     "execution_count": 23,
     "metadata": {},
     "output_type": "execute_result"
    }
   ],
   "source": [
    "result.iloc[0]"
   ]
  },
  {
   "cell_type": "code",
   "execution_count": 24,
   "metadata": {
    "nbsphinx": "hidden"
   },
   "outputs": [
    {
     "data": {
      "text/plain": [
       "'generate_questions'"
      ]
     },
     "execution_count": 24,
     "metadata": {},
     "output_type": "execute_result"
    }
   ],
   "source": [
    "bf_set_network('generate_questions')"
   ]
  },
  {
   "cell_type": "code",
   "execution_count": 25,
   "metadata": {
    "nbsphinx": "hidden"
   },
   "outputs": [
    {
     "data": {
      "text/plain": [
       "'generate_questions'"
      ]
     },
     "execution_count": 25,
     "metadata": {},
     "output_type": "execute_result"
    }
   ],
   "source": [
    "bf_set_snapshot('generate_questions')"
   ]
  },
  {
   "cell_type": "markdown",
   "metadata": {},
   "source": [
    "##### OSPF Edges"
   ]
  },
  {
   "cell_type": "markdown",
   "metadata": {},
   "source": [
    "Returns OSPF adjacencies."
   ]
  },
  {
   "cell_type": "markdown",
   "metadata": {},
   "source": [
    "Lists all OSPF adjacencies in the network."
   ]
  },
  {
   "cell_type": "markdown",
   "metadata": {},
   "source": [
    "###### Inputs"
   ]
  },
  {
   "cell_type": "markdown",
   "metadata": {},
   "source": [
    "Name | Description | Type | Optional | Default Value\n",
    "--- | --- | --- | --- | --- \n",
    "nodes | Include adjacencies whose first node matches this name or regex. | [NodeSpec](../specifiers.md#node-specifier) | True | .*\n",
    "remoteNodes | Include edges whose second node matches this name or regex. | [NodeSpec](../specifiers.md#node-specifier) | True | .*"
   ]
  },
  {
   "cell_type": "markdown",
   "metadata": {},
   "source": [
    "###### Invocation"
   ]
  },
  {
   "cell_type": "code",
   "execution_count": 26,
   "metadata": {},
   "outputs": [],
   "source": [
    "result = bfq.ospfEdges().answer().frame()"
   ]
  },
  {
   "cell_type": "markdown",
   "metadata": {},
   "source": [
    "###### Return Value"
   ]
  },
  {
   "cell_type": "markdown",
   "metadata": {},
   "source": [
    "Name | Description | Type\n",
    "--- | --- | ---\n",
    "Interface | Interface from which the edge originates | [Interface](../datamodel.rst#pybatfish.datamodel.primitives.Interface)\n",
    "Remote_Interface | Interface at which the edge terminates | [Interface](../datamodel.rst#pybatfish.datamodel.primitives.Interface)"
   ]
  },
  {
   "cell_type": "markdown",
   "metadata": {},
   "source": [
    "Print the first 5 rows of the returned Dataframe"
   ]
  },
  {
   "cell_type": "code",
   "execution_count": 27,
   "metadata": {},
   "outputs": [
    {
     "data": {
      "text/html": [
       "<div>\n",
       "<style scoped>\n",
       "    .dataframe tbody tr th:only-of-type {\n",
       "        vertical-align: middle;\n",
       "    }\n",
       "\n",
       "    .dataframe tbody tr th {\n",
       "        vertical-align: top;\n",
       "    }\n",
       "\n",
       "    .dataframe thead th {\n",
       "        text-align: right;\n",
       "    }\n",
       "</style>\n",
       "<table border=\"1\" class=\"dataframe\">\n",
       "  <thead>\n",
       "    <tr style=\"text-align: right;\">\n",
       "      <th></th>\n",
       "      <th>Interface</th>\n",
       "      <th>Remote_Interface</th>\n",
       "    </tr>\n",
       "  </thead>\n",
       "  <tbody>\n",
       "    <tr>\n",
       "      <th>0</th>\n",
       "      <td>as1border1[GigabitEthernet0/0]</td>\n",
       "      <td>as1core1[GigabitEthernet1/0]</td>\n",
       "    </tr>\n",
       "    <tr>\n",
       "      <th>1</th>\n",
       "      <td>as1core1[GigabitEthernet1/0]</td>\n",
       "      <td>as1border1[GigabitEthernet0/0]</td>\n",
       "    </tr>\n",
       "    <tr>\n",
       "      <th>2</th>\n",
       "      <td>as1border2[GigabitEthernet1/0]</td>\n",
       "      <td>as1core1[GigabitEthernet0/0]</td>\n",
       "    </tr>\n",
       "    <tr>\n",
       "      <th>3</th>\n",
       "      <td>as1core1[GigabitEthernet0/0]</td>\n",
       "      <td>as1border2[GigabitEthernet1/0]</td>\n",
       "    </tr>\n",
       "    <tr>\n",
       "      <th>4</th>\n",
       "      <td>as2border1[GigabitEthernet1/0]</td>\n",
       "      <td>as2core1[GigabitEthernet0/0]</td>\n",
       "    </tr>\n",
       "  </tbody>\n",
       "</table>\n",
       "</div>"
      ],
      "text/plain": [
       "                        Interface                Remote_Interface\n",
       "0  as1border1[GigabitEthernet0/0]  as1core1[GigabitEthernet1/0]  \n",
       "1  as1core1[GigabitEthernet1/0]    as1border1[GigabitEthernet0/0]\n",
       "2  as1border2[GigabitEthernet1/0]  as1core1[GigabitEthernet0/0]  \n",
       "3  as1core1[GigabitEthernet0/0]    as1border2[GigabitEthernet1/0]\n",
       "4  as2border1[GigabitEthernet1/0]  as2core1[GigabitEthernet0/0]  "
      ]
     },
     "execution_count": 27,
     "metadata": {},
     "output_type": "execute_result"
    }
   ],
   "source": [
    "result.head(5)"
   ]
  },
  {
   "cell_type": "markdown",
   "metadata": {},
   "source": [
    "Print the first row of the returned Dataframe"
   ]
  },
  {
   "cell_type": "code",
   "execution_count": 28,
   "metadata": {},
   "outputs": [
    {
     "data": {
      "text/plain": [
       "Interface           as1border1[GigabitEthernet0/0]\n",
       "Remote_Interface    as1core1[GigabitEthernet1/0]  \n",
       "Name: 0, dtype: object"
      ]
     },
     "execution_count": 28,
     "metadata": {},
     "output_type": "execute_result"
    }
   ],
   "source": [
    "result.iloc[0]"
   ]
  }
 ],
 "metadata": {
  "celltoolbar": "Edit Metadata",
  "hide_input": false,
  "kernelspec": {
   "display_name": "Python 3",
   "language": "python",
   "name": "python3"
  },
  "language_info": {
   "codemirror_mode": {
    "name": "ipython",
    "version": 3
   },
   "file_extension": ".py",
   "mimetype": "text/x-python",
   "name": "python",
   "nbconvert_exporter": "python",
   "pygments_lexer": "ipython3",
   "version": "3.7.4"
  },
  "pycharm": {
   "stem_cell": {
    "cell_type": "raw",
    "metadata": {
     "collapsed": false
    },
    "source": []
   }
  }
 },
 "nbformat": 4,
 "nbformat_minor": 2
}
