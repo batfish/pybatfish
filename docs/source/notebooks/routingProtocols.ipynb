{
 "cells": [
  {
   "cell_type": "code",
   "execution_count": 1,
   "metadata": {
    "nbsphinx": "hidden"
   },
   "outputs": [],
   "source": [
    "import pandas as pd\n",
    "from pybatfish.client.session import Session\n",
    "from pybatfish.datamodel import *\n",
    "\n",
    "pd.set_option(\"display.width\", 300) \n",
    "pd.set_option(\"display.max_columns\", 20) \n",
    "pd.set_option(\"display.max_rows\", 1000) \n",
    "pd.set_option(\"display.max_colwidth\", None)\n",
    "\n",
    "# Configure all pybatfish loggers to use WARN level\n",
    "import logging\n",
    "logging.getLogger('pybatfish').setLevel(logging.WARN)"
   ]
  },
  {
   "cell_type": "code",
   "execution_count": 2,
   "metadata": {
    "nbsphinx": "hidden"
   },
   "outputs": [],
   "source": [
    "bf = Session(\"localhost\")\n",
    "\n"
   ]
  },
  {
   "cell_type": "markdown",
   "id": "9a9d20f2",
   "metadata": {},
   "source": [
    "#### Routing Protocols"
   ]
  },
  {
   "cell_type": "markdown",
   "id": "af90491a",
   "metadata": {},
   "source": [
    "* [BGP Session Compatibility](#BGP-Session-Compatibility)\n",
    "* [BGP Session Status](#BGP-Session-Status)\n",
    "* [BGP Edges](#BGP-Edges)\n",
    "* [OSPF Session Compatibility](#OSPF-Session-Compatibility)\n",
    "* [OSPF Edges](#OSPF-Edges)\n",
    "* [Test Route Policies](#Test-Route-Policies)\n",
    "* [Search Route Policies](#Search-Route-Policies)"
   ]
  },
  {
   "cell_type": "code",
   "execution_count": 3,
   "id": "99369a5a",
   "metadata": {
    "nbsphinx": "hidden"
   },
   "outputs": [
    {
     "data": {
      "text/plain": [
       "'generate_questions'"
      ]
     },
     "execution_count": 3,
     "metadata": {},
     "output_type": "execute_result"
    }
   ],
   "source": [
    "bf.set_network('generate_questions')"
   ]
  },
  {
   "cell_type": "code",
   "execution_count": 4,
   "id": "06bc61df",
   "metadata": {
    "nbsphinx": "hidden"
   },
   "outputs": [
    {
     "data": {
      "text/plain": [
       "'generate_questions'"
      ]
     },
     "execution_count": 4,
     "metadata": {},
     "output_type": "execute_result"
    }
   ],
   "source": [
    "bf.set_snapshot('generate_questions')"
   ]
  },
  {
   "cell_type": "markdown",
   "id": "8b841672",
   "metadata": {},
   "source": [
    "##### BGP Session Compatibility"
   ]
  },
  {
   "cell_type": "markdown",
   "id": "5234b8f4",
   "metadata": {},
   "source": [
    "Returns the compatibility of configured BGP sessions."
   ]
  },
  {
   "cell_type": "markdown",
   "id": "0af0af80",
   "metadata": {},
   "source": [
    "Checks the settings of each configured BGP peering and reports any issue with those settings locally or incompatiblity with its remote counterparts. Each row represents one configured BGP peering on a node and contains information about the session it is meant to establish. For dynamic peers, there is one row per compatible remote peer. Statuses that indicate an independently misconfigured peerings include NO_LOCAL_AS, NO_REMOTE_AS, NO_LOCAL_IP (for eBGP single-hop peerings), LOCAL_IP_UNKNOWN_STATICALLY (for iBGP or eBGP multi-hop peerings), NO_REMOTE_IP (for point-to-point peerings), and NO_REMOTE_PREFIX (for dynamic peerings). INVALID_LOCAL_IP indicates that the peering's configured local IP does not belong to any active interface on the node; UNKNOWN_REMOTE indicates that the configured remote IP is not present in the network. A locally valid point-to-point peering is deemed HALF_OPEN if it has no compatible remote peers, UNIQUE_MATCH if it has exactly one compatible remote peer, or MULTIPLE_REMOTES if it has multiple compatible remote peers. A locally valid dynamic peering is deemed NO_MATCH_FOUND if it has no compatible remote peers, or DYNAMIC_MATCH if it has at least one compatible remote peer."
   ]
  },
  {
   "cell_type": "markdown",
   "id": "3ced2c01",
   "metadata": {},
   "source": [
    "###### Inputs"
   ]
  },
  {
   "cell_type": "markdown",
   "id": "9ce3c16a",
   "metadata": {},
   "source": [
    "Name | Description | Type | Optional | Default Value\n",
    "--- | --- | --- | --- | --- \n",
    "nodes | Include sessions whose first node matches this specifier. | [NodeSpec](../specifiers.md#node-specifier) | True | \n",
    "remoteNodes | Include sessions whose second node matches this specifier. | [NodeSpec](../specifiers.md#node-specifier) | True | \n",
    "status | Only include sessions for which compatibility status matches this specifier. | [BgpSessionCompatStatusSpec](../specifiers.md#bgp-session-compat-status-specifier) | True | \n",
    "type | Only include sessions that match this specifier. | [BgpSessionTypeSpec](../specifiers.md#bgp-session-type-specifier) | True | "
   ]
  },
  {
   "cell_type": "markdown",
   "id": "a86dbe62",
   "metadata": {},
   "source": [
    "###### Invocation"
   ]
  },
  {
   "cell_type": "code",
   "execution_count": 5,
   "id": "097cb1b0",
   "metadata": {},
   "outputs": [],
   "source": [
    "result = bf.q.bgpSessionCompatibility().answer().frame()"
   ]
  },
  {
   "cell_type": "markdown",
   "id": "31fd6b6d",
   "metadata": {},
   "source": [
    "###### Return Value"
   ]
  },
  {
   "cell_type": "markdown",
   "id": "8afa364a",
   "metadata": {},
   "source": [
    "Name | Description | Type\n",
    "--- | --- | ---\n",
    "Node | The node where this session is configured | str\n",
    "VRF | The VRF in which this session is configured | str\n",
    "Local_AS | The local AS of the session | int\n",
    "Local_Interface | Local interface of the session | [Interface](../datamodel.rst#pybatfish.datamodel.primitives.Interface)\n",
    "Local_IP | The local IP of the session | str\n",
    "Remote_AS | The remote AS or list of ASes of the session | str\n",
    "Remote_Node | Remote node for this session | str\n",
    "Remote_Interface | Remote interface for this session | [Interface](../datamodel.rst#pybatfish.datamodel.primitives.Interface)\n",
    "Remote_IP | Remote IP or prefix for this session | str\n",
    "Address_Families | Address Families participating in this session | Set of str\n",
    "Session_Type | The type of this session | str\n",
    "Configured_Status | Configured status | str"
   ]
  },
  {
   "cell_type": "markdown",
   "id": "90495d96",
   "metadata": {},
   "source": [
    "Print the first 5 rows of the returned Dataframe"
   ]
  },
  {
   "cell_type": "code",
   "execution_count": 6,
   "id": "26137b8c",
   "metadata": {},
   "outputs": [
    {
     "data": {
      "text/html": [
       "<div>\n",
       "<style scoped>\n",
       "    .dataframe tbody tr th:only-of-type {\n",
       "        vertical-align: middle;\n",
       "    }\n",
       "\n",
       "    .dataframe tbody tr th {\n",
       "        vertical-align: top;\n",
       "    }\n",
       "\n",
       "    .dataframe thead th {\n",
       "        text-align: right;\n",
       "    }\n",
       "</style>\n",
       "<table border=\"1\" class=\"dataframe\">\n",
       "  <thead>\n",
       "    <tr style=\"text-align: right;\">\n",
       "      <th></th>\n",
       "      <th>Node</th>\n",
       "      <th>VRF</th>\n",
       "      <th>Local_AS</th>\n",
       "      <th>Local_Interface</th>\n",
       "      <th>Local_IP</th>\n",
       "      <th>Remote_AS</th>\n",
       "      <th>Remote_Node</th>\n",
       "      <th>Remote_Interface</th>\n",
       "      <th>Remote_IP</th>\n",
       "      <th>Address_Families</th>\n",
       "      <th>Session_Type</th>\n",
       "      <th>Configured_Status</th>\n",
       "    </tr>\n",
       "  </thead>\n",
       "  <tbody>\n",
       "    <tr>\n",
       "      <th>0</th>\n",
       "      <td>as1border1</td>\n",
       "      <td>default</td>\n",
       "      <td>1</td>\n",
       "      <td>None</td>\n",
       "      <td>1.1.1.1</td>\n",
       "      <td>1</td>\n",
       "      <td>as1core1</td>\n",
       "      <td>None</td>\n",
       "      <td>1.10.1.1</td>\n",
       "      <td>['IPV4_UNICAST']</td>\n",
       "      <td>IBGP</td>\n",
       "      <td>UNIQUE_MATCH</td>\n",
       "    </tr>\n",
       "    <tr>\n",
       "      <th>1</th>\n",
       "      <td>as1border1</td>\n",
       "      <td>default</td>\n",
       "      <td>1</td>\n",
       "      <td>None</td>\n",
       "      <td>None</td>\n",
       "      <td>666</td>\n",
       "      <td>None</td>\n",
       "      <td>None</td>\n",
       "      <td>3.2.2.2</td>\n",
       "      <td>[]</td>\n",
       "      <td>EBGP_SINGLEHOP</td>\n",
       "      <td>NO_LOCAL_IP</td>\n",
       "    </tr>\n",
       "    <tr>\n",
       "      <th>2</th>\n",
       "      <td>as1border1</td>\n",
       "      <td>default</td>\n",
       "      <td>1</td>\n",
       "      <td>None</td>\n",
       "      <td>None</td>\n",
       "      <td>555</td>\n",
       "      <td>None</td>\n",
       "      <td>None</td>\n",
       "      <td>5.6.7.8</td>\n",
       "      <td>[]</td>\n",
       "      <td>EBGP_SINGLEHOP</td>\n",
       "      <td>NO_LOCAL_IP</td>\n",
       "    </tr>\n",
       "    <tr>\n",
       "      <th>3</th>\n",
       "      <td>as1border1</td>\n",
       "      <td>default</td>\n",
       "      <td>1</td>\n",
       "      <td>None</td>\n",
       "      <td>10.12.11.1</td>\n",
       "      <td>2</td>\n",
       "      <td>as2border1</td>\n",
       "      <td>None</td>\n",
       "      <td>10.12.11.2</td>\n",
       "      <td>['IPV4_UNICAST']</td>\n",
       "      <td>EBGP_SINGLEHOP</td>\n",
       "      <td>UNIQUE_MATCH</td>\n",
       "    </tr>\n",
       "    <tr>\n",
       "      <th>4</th>\n",
       "      <td>as1border2</td>\n",
       "      <td>default</td>\n",
       "      <td>1</td>\n",
       "      <td>None</td>\n",
       "      <td>1.2.2.2</td>\n",
       "      <td>1</td>\n",
       "      <td>as1core1</td>\n",
       "      <td>None</td>\n",
       "      <td>1.10.1.1</td>\n",
       "      <td>['IPV4_UNICAST']</td>\n",
       "      <td>IBGP</td>\n",
       "      <td>UNIQUE_MATCH</td>\n",
       "    </tr>\n",
       "  </tbody>\n",
       "</table>\n",
       "</div>"
      ],
      "text/plain": [
       "         Node      VRF Local_AS Local_Interface    Local_IP Remote_AS Remote_Node Remote_Interface   Remote_IP  Address_Families    Session_Type Configured_Status\n",
       "0  as1border1  default        1            None     1.1.1.1         1    as1core1             None    1.10.1.1  ['IPV4_UNICAST']            IBGP      UNIQUE_MATCH\n",
       "1  as1border1  default        1            None        None       666        None             None     3.2.2.2                []  EBGP_SINGLEHOP       NO_LOCAL_IP\n",
       "2  as1border1  default        1            None        None       555        None             None     5.6.7.8                []  EBGP_SINGLEHOP       NO_LOCAL_IP\n",
       "3  as1border1  default        1            None  10.12.11.1         2  as2border1             None  10.12.11.2  ['IPV4_UNICAST']  EBGP_SINGLEHOP      UNIQUE_MATCH\n",
       "4  as1border2  default        1            None     1.2.2.2         1    as1core1             None    1.10.1.1  ['IPV4_UNICAST']            IBGP      UNIQUE_MATCH"
      ]
     },
     "execution_count": 6,
     "metadata": {},
     "output_type": "execute_result"
    }
   ],
   "source": [
    "result.head(5)"
   ]
  },
  {
   "cell_type": "markdown",
   "id": "9429d3d6",
   "metadata": {},
   "source": [
    "Print the first row of the returned Dataframe"
   ]
  },
  {
   "cell_type": "code",
   "execution_count": 7,
   "id": "5222cb5b",
   "metadata": {},
   "outputs": [
    {
     "data": {
      "text/plain": [
       "Node                       as1border1\n",
       "VRF                           default\n",
       "Local_AS                            1\n",
       "Local_Interface                  None\n",
       "Local_IP                      1.1.1.1\n",
       "Remote_AS                           1\n",
       "Remote_Node                  as1core1\n",
       "Remote_Interface                 None\n",
       "Remote_IP                    1.10.1.1\n",
       "Address_Families     ['IPV4_UNICAST']\n",
       "Session_Type                     IBGP\n",
       "Configured_Status        UNIQUE_MATCH\n",
       "Name: 0, dtype: object"
      ]
     },
     "execution_count": 7,
     "metadata": {},
     "output_type": "execute_result"
    }
   ],
   "source": [
    "result.iloc[0]"
   ]
  },
  {
   "cell_type": "code",
   "execution_count": 8,
   "id": "2ffa85cb",
   "metadata": {
    "nbsphinx": "hidden"
   },
   "outputs": [
    {
     "data": {
      "text/plain": [
       "'generate_questions'"
      ]
     },
     "execution_count": 8,
     "metadata": {},
     "output_type": "execute_result"
    }
   ],
   "source": [
    "bf.set_network('generate_questions')"
   ]
  },
  {
   "cell_type": "code",
   "execution_count": 9,
   "id": "f5a2930e",
   "metadata": {
    "nbsphinx": "hidden"
   },
   "outputs": [
    {
     "data": {
      "text/plain": [
       "'generate_questions'"
      ]
     },
     "execution_count": 9,
     "metadata": {},
     "output_type": "execute_result"
    }
   ],
   "source": [
    "bf.set_snapshot('generate_questions')"
   ]
  },
  {
   "cell_type": "markdown",
   "id": "e40adf49",
   "metadata": {},
   "source": [
    "##### BGP Session Status"
   ]
  },
  {
   "cell_type": "markdown",
   "id": "1d6130e5",
   "metadata": {},
   "source": [
    "Returns the dynamic status of configured BGP sessions."
   ]
  },
  {
   "cell_type": "markdown",
   "id": "b4ef62a2",
   "metadata": {},
   "source": [
    "Checks whether configured BGP peerings can be established. Each row represents one configured BGP peering and contains information about the session it is configured to establish. For dynamic peerings, one row is shown per compatible remote peer. Possible statuses for each session are NOT_COMPATIBLE, ESTABLISHED, and NOT_ESTABLISHED. NOT_COMPATIBLE sessions are those where one or both peers are misconfigured; the BgpSessionCompatibility question provides further insight into the nature of the configuration error. NOT_ESTABLISHED sessions are those that are configured compatibly but will not come up because peers cannot reach each other (e.g., due to being blocked by an ACL). ESTABLISHED sessions are those that are compatible and are expected to come up."
   ]
  },
  {
   "cell_type": "markdown",
   "id": "dc87bb33",
   "metadata": {},
   "source": [
    "###### Inputs"
   ]
  },
  {
   "cell_type": "markdown",
   "id": "afc8c4c9",
   "metadata": {},
   "source": [
    "Name | Description | Type | Optional | Default Value\n",
    "--- | --- | --- | --- | --- \n",
    "nodes | Include sessions whose first node matches this specifier. | [NodeSpec](../specifiers.md#node-specifier) | True | \n",
    "remoteNodes | Include sessions whose second node matches this specifier. | [NodeSpec](../specifiers.md#node-specifier) | True | \n",
    "status | Only include sessions for which status matches this specifier. | [BgpSessionStatusSpec](../specifiers.md#bgp-session-status-specifier) | True | \n",
    "type | Only include sessions that match this specifier. | [BgpSessionTypeSpec](../specifiers.md#bgp-session-type-specifier) | True | "
   ]
  },
  {
   "cell_type": "markdown",
   "id": "99186aff",
   "metadata": {},
   "source": [
    "###### Invocation"
   ]
  },
  {
   "cell_type": "code",
   "execution_count": 10,
   "id": "90ef2420",
   "metadata": {},
   "outputs": [],
   "source": [
    "result = bf.q.bgpSessionStatus().answer().frame()"
   ]
  },
  {
   "cell_type": "markdown",
   "id": "69b490fd",
   "metadata": {},
   "source": [
    "###### Return Value"
   ]
  },
  {
   "cell_type": "markdown",
   "id": "ab0cfcb0",
   "metadata": {},
   "source": [
    "Name | Description | Type\n",
    "--- | --- | ---\n",
    "Node | The node where this session is configured | str\n",
    "VRF | The VRF in which this session is configured | str\n",
    "Local_AS | The local AS of the session | int\n",
    "Local_Interface | Local interface of the session | [Interface](../datamodel.rst#pybatfish.datamodel.primitives.Interface)\n",
    "Local_IP | The local IP of the session | str\n",
    "Remote_AS | The remote AS or list of ASes of the session | str\n",
    "Remote_Node | Remote node for this session | str\n",
    "Remote_Interface | Remote interface for this session | [Interface](../datamodel.rst#pybatfish.datamodel.primitives.Interface)\n",
    "Remote_IP | Remote IP or prefix for this session | str\n",
    "Address_Families | Address Families participating in this session | Set of str\n",
    "Session_Type | The type of this session | str\n",
    "Established_Status | Established status | str"
   ]
  },
  {
   "cell_type": "markdown",
   "id": "def64250",
   "metadata": {},
   "source": [
    "Print the first 5 rows of the returned Dataframe"
   ]
  },
  {
   "cell_type": "code",
   "execution_count": 11,
   "id": "fff2092a",
   "metadata": {},
   "outputs": [
    {
     "data": {
      "text/html": [
       "<div>\n",
       "<style scoped>\n",
       "    .dataframe tbody tr th:only-of-type {\n",
       "        vertical-align: middle;\n",
       "    }\n",
       "\n",
       "    .dataframe tbody tr th {\n",
       "        vertical-align: top;\n",
       "    }\n",
       "\n",
       "    .dataframe thead th {\n",
       "        text-align: right;\n",
       "    }\n",
       "</style>\n",
       "<table border=\"1\" class=\"dataframe\">\n",
       "  <thead>\n",
       "    <tr style=\"text-align: right;\">\n",
       "      <th></th>\n",
       "      <th>Node</th>\n",
       "      <th>VRF</th>\n",
       "      <th>Local_AS</th>\n",
       "      <th>Local_Interface</th>\n",
       "      <th>Local_IP</th>\n",
       "      <th>Remote_AS</th>\n",
       "      <th>Remote_Node</th>\n",
       "      <th>Remote_Interface</th>\n",
       "      <th>Remote_IP</th>\n",
       "      <th>Address_Families</th>\n",
       "      <th>Session_Type</th>\n",
       "      <th>Established_Status</th>\n",
       "    </tr>\n",
       "  </thead>\n",
       "  <tbody>\n",
       "    <tr>\n",
       "      <th>0</th>\n",
       "      <td>as1border1</td>\n",
       "      <td>default</td>\n",
       "      <td>1</td>\n",
       "      <td>None</td>\n",
       "      <td>1.1.1.1</td>\n",
       "      <td>1</td>\n",
       "      <td>as1core1</td>\n",
       "      <td>None</td>\n",
       "      <td>1.10.1.1</td>\n",
       "      <td>['IPV4_UNICAST']</td>\n",
       "      <td>IBGP</td>\n",
       "      <td>ESTABLISHED</td>\n",
       "    </tr>\n",
       "    <tr>\n",
       "      <th>1</th>\n",
       "      <td>as1border1</td>\n",
       "      <td>default</td>\n",
       "      <td>1</td>\n",
       "      <td>None</td>\n",
       "      <td>None</td>\n",
       "      <td>666</td>\n",
       "      <td>None</td>\n",
       "      <td>None</td>\n",
       "      <td>3.2.2.2</td>\n",
       "      <td>[]</td>\n",
       "      <td>EBGP_SINGLEHOP</td>\n",
       "      <td>NOT_COMPATIBLE</td>\n",
       "    </tr>\n",
       "    <tr>\n",
       "      <th>2</th>\n",
       "      <td>as1border1</td>\n",
       "      <td>default</td>\n",
       "      <td>1</td>\n",
       "      <td>None</td>\n",
       "      <td>None</td>\n",
       "      <td>555</td>\n",
       "      <td>None</td>\n",
       "      <td>None</td>\n",
       "      <td>5.6.7.8</td>\n",
       "      <td>[]</td>\n",
       "      <td>EBGP_SINGLEHOP</td>\n",
       "      <td>NOT_COMPATIBLE</td>\n",
       "    </tr>\n",
       "    <tr>\n",
       "      <th>3</th>\n",
       "      <td>as1border1</td>\n",
       "      <td>default</td>\n",
       "      <td>1</td>\n",
       "      <td>None</td>\n",
       "      <td>10.12.11.1</td>\n",
       "      <td>2</td>\n",
       "      <td>as2border1</td>\n",
       "      <td>None</td>\n",
       "      <td>10.12.11.2</td>\n",
       "      <td>['IPV4_UNICAST']</td>\n",
       "      <td>EBGP_SINGLEHOP</td>\n",
       "      <td>ESTABLISHED</td>\n",
       "    </tr>\n",
       "    <tr>\n",
       "      <th>4</th>\n",
       "      <td>as1border2</td>\n",
       "      <td>default</td>\n",
       "      <td>1</td>\n",
       "      <td>None</td>\n",
       "      <td>1.2.2.2</td>\n",
       "      <td>1</td>\n",
       "      <td>as1core1</td>\n",
       "      <td>None</td>\n",
       "      <td>1.10.1.1</td>\n",
       "      <td>['IPV4_UNICAST']</td>\n",
       "      <td>IBGP</td>\n",
       "      <td>ESTABLISHED</td>\n",
       "    </tr>\n",
       "  </tbody>\n",
       "</table>\n",
       "</div>"
      ],
      "text/plain": [
       "         Node      VRF Local_AS Local_Interface    Local_IP Remote_AS Remote_Node Remote_Interface   Remote_IP  Address_Families    Session_Type Established_Status\n",
       "0  as1border1  default        1            None     1.1.1.1         1    as1core1             None    1.10.1.1  ['IPV4_UNICAST']            IBGP        ESTABLISHED\n",
       "1  as1border1  default        1            None        None       666        None             None     3.2.2.2                []  EBGP_SINGLEHOP     NOT_COMPATIBLE\n",
       "2  as1border1  default        1            None        None       555        None             None     5.6.7.8                []  EBGP_SINGLEHOP     NOT_COMPATIBLE\n",
       "3  as1border1  default        1            None  10.12.11.1         2  as2border1             None  10.12.11.2  ['IPV4_UNICAST']  EBGP_SINGLEHOP        ESTABLISHED\n",
       "4  as1border2  default        1            None     1.2.2.2         1    as1core1             None    1.10.1.1  ['IPV4_UNICAST']            IBGP        ESTABLISHED"
      ]
     },
     "execution_count": 11,
     "metadata": {},
     "output_type": "execute_result"
    }
   ],
   "source": [
    "result.head(5)"
   ]
  },
  {
   "cell_type": "markdown",
   "id": "e9a387c5",
   "metadata": {},
   "source": [
    "Print the first row of the returned Dataframe"
   ]
  },
  {
   "cell_type": "code",
   "execution_count": 12,
   "id": "eb34d9ac",
   "metadata": {},
   "outputs": [
    {
     "data": {
      "text/plain": [
       "Node                        as1border1\n",
       "VRF                            default\n",
       "Local_AS                             1\n",
       "Local_Interface                   None\n",
       "Local_IP                       1.1.1.1\n",
       "Remote_AS                            1\n",
       "Remote_Node                   as1core1\n",
       "Remote_Interface                  None\n",
       "Remote_IP                     1.10.1.1\n",
       "Address_Families      ['IPV4_UNICAST']\n",
       "Session_Type                      IBGP\n",
       "Established_Status         ESTABLISHED\n",
       "Name: 0, dtype: object"
      ]
     },
     "execution_count": 12,
     "metadata": {},
     "output_type": "execute_result"
    }
   ],
   "source": [
    "result.iloc[0]"
   ]
  },
  {
   "cell_type": "code",
   "execution_count": 13,
   "id": "dfb8c145",
   "metadata": {
    "nbsphinx": "hidden"
   },
   "outputs": [
    {
     "data": {
      "text/plain": [
       "'generate_questions'"
      ]
     },
     "execution_count": 13,
     "metadata": {},
     "output_type": "execute_result"
    }
   ],
   "source": [
    "bf.set_network('generate_questions')"
   ]
  },
  {
   "cell_type": "code",
   "execution_count": 14,
   "id": "ad2376e8",
   "metadata": {
    "nbsphinx": "hidden"
   },
   "outputs": [
    {
     "data": {
      "text/plain": [
       "'generate_questions'"
      ]
     },
     "execution_count": 14,
     "metadata": {},
     "output_type": "execute_result"
    }
   ],
   "source": [
    "bf.set_snapshot('generate_questions')"
   ]
  },
  {
   "cell_type": "markdown",
   "id": "a4895da7",
   "metadata": {},
   "source": [
    "##### BGP Edges"
   ]
  },
  {
   "cell_type": "markdown",
   "id": "d8de64b2",
   "metadata": {},
   "source": [
    "Returns BGP adjacencies."
   ]
  },
  {
   "cell_type": "markdown",
   "id": "af7d48b4",
   "metadata": {},
   "source": [
    "Lists all BGP adjacencies in the network."
   ]
  },
  {
   "cell_type": "markdown",
   "id": "0e8fb216",
   "metadata": {},
   "source": [
    "###### Inputs"
   ]
  },
  {
   "cell_type": "markdown",
   "id": "c7602d33",
   "metadata": {},
   "source": [
    "Name | Description | Type | Optional | Default Value\n",
    "--- | --- | --- | --- | --- \n",
    "nodes | Include adjacencies whose first node matches this name or regex. | [NodeSpec](../specifiers.md#node-specifier) | True | .*\n",
    "remoteNodes | Include adjacencies whose second node matches this name or regex. | [NodeSpec](../specifiers.md#node-specifier) | True | .*"
   ]
  },
  {
   "cell_type": "markdown",
   "id": "1b25ca0d",
   "metadata": {},
   "source": [
    "###### Invocation"
   ]
  },
  {
   "cell_type": "code",
   "execution_count": 15,
   "id": "dbbaea92",
   "metadata": {},
   "outputs": [],
   "source": [
    "result = bf.q.bgpEdges().answer().frame()"
   ]
  },
  {
   "cell_type": "markdown",
   "id": "a20b5d4e",
   "metadata": {},
   "source": [
    "###### Return Value"
   ]
  },
  {
   "cell_type": "markdown",
   "id": "3aef1fb0",
   "metadata": {},
   "source": [
    "Name | Description | Type\n",
    "--- | --- | ---\n",
    "Node | Node from which the edge originates | str\n",
    "IP | IP at the side of originator | str\n",
    "Interface | Interface at which the edge originates | str\n",
    "AS_Number | AS Number at the side of originator | str\n",
    "Remote_Node | Node at which the edge terminates | str\n",
    "Remote_IP | IP at the side of the responder | str\n",
    "Remote_Interface | Interface at which the edge terminates | str\n",
    "Remote_AS_Number | AS Number at the side of responder | str"
   ]
  },
  {
   "cell_type": "markdown",
   "id": "032078ef",
   "metadata": {},
   "source": [
    "Print the first 5 rows of the returned Dataframe"
   ]
  },
  {
   "cell_type": "code",
   "execution_count": 16,
   "id": "76e5278f",
   "metadata": {},
   "outputs": [
    {
     "data": {
      "text/html": [
       "<div>\n",
       "<style scoped>\n",
       "    .dataframe tbody tr th:only-of-type {\n",
       "        vertical-align: middle;\n",
       "    }\n",
       "\n",
       "    .dataframe tbody tr th {\n",
       "        vertical-align: top;\n",
       "    }\n",
       "\n",
       "    .dataframe thead th {\n",
       "        text-align: right;\n",
       "    }\n",
       "</style>\n",
       "<table border=\"1\" class=\"dataframe\">\n",
       "  <thead>\n",
       "    <tr style=\"text-align: right;\">\n",
       "      <th></th>\n",
       "      <th>Node</th>\n",
       "      <th>IP</th>\n",
       "      <th>Interface</th>\n",
       "      <th>AS_Number</th>\n",
       "      <th>Remote_Node</th>\n",
       "      <th>Remote_IP</th>\n",
       "      <th>Remote_Interface</th>\n",
       "      <th>Remote_AS_Number</th>\n",
       "    </tr>\n",
       "  </thead>\n",
       "  <tbody>\n",
       "    <tr>\n",
       "      <th>0</th>\n",
       "      <td>as1border2</td>\n",
       "      <td>1.2.2.2</td>\n",
       "      <td>None</td>\n",
       "      <td>1</td>\n",
       "      <td>as1core1</td>\n",
       "      <td>1.10.1.1</td>\n",
       "      <td>None</td>\n",
       "      <td>1</td>\n",
       "    </tr>\n",
       "    <tr>\n",
       "      <th>1</th>\n",
       "      <td>as1core1</td>\n",
       "      <td>1.10.1.1</td>\n",
       "      <td>None</td>\n",
       "      <td>1</td>\n",
       "      <td>as1border1</td>\n",
       "      <td>1.1.1.1</td>\n",
       "      <td>None</td>\n",
       "      <td>1</td>\n",
       "    </tr>\n",
       "    <tr>\n",
       "      <th>2</th>\n",
       "      <td>as2dist2</td>\n",
       "      <td>2.1.3.2</td>\n",
       "      <td>None</td>\n",
       "      <td>2</td>\n",
       "      <td>as2core2</td>\n",
       "      <td>2.1.2.2</td>\n",
       "      <td>None</td>\n",
       "      <td>2</td>\n",
       "    </tr>\n",
       "    <tr>\n",
       "      <th>3</th>\n",
       "      <td>as3border2</td>\n",
       "      <td>3.2.2.2</td>\n",
       "      <td>None</td>\n",
       "      <td>3</td>\n",
       "      <td>as3core1</td>\n",
       "      <td>3.10.1.1</td>\n",
       "      <td>None</td>\n",
       "      <td>3</td>\n",
       "    </tr>\n",
       "    <tr>\n",
       "      <th>4</th>\n",
       "      <td>as3border1</td>\n",
       "      <td>10.23.21.3</td>\n",
       "      <td>None</td>\n",
       "      <td>3</td>\n",
       "      <td>as2border2</td>\n",
       "      <td>10.23.21.2</td>\n",
       "      <td>None</td>\n",
       "      <td>2</td>\n",
       "    </tr>\n",
       "  </tbody>\n",
       "</table>\n",
       "</div>"
      ],
      "text/plain": [
       "         Node          IP Interface AS_Number Remote_Node   Remote_IP Remote_Interface Remote_AS_Number\n",
       "0  as1border2     1.2.2.2      None         1    as1core1    1.10.1.1             None                1\n",
       "1    as1core1    1.10.1.1      None         1  as1border1     1.1.1.1             None                1\n",
       "2    as2dist2     2.1.3.2      None         2    as2core2     2.1.2.2             None                2\n",
       "3  as3border2     3.2.2.2      None         3    as3core1    3.10.1.1             None                3\n",
       "4  as3border1  10.23.21.3      None         3  as2border2  10.23.21.2             None                2"
      ]
     },
     "execution_count": 16,
     "metadata": {},
     "output_type": "execute_result"
    }
   ],
   "source": [
    "result.head(5)"
   ]
  },
  {
   "cell_type": "markdown",
   "id": "6c0c299e",
   "metadata": {},
   "source": [
    "Print the first row of the returned Dataframe"
   ]
  },
  {
   "cell_type": "code",
   "execution_count": 17,
   "id": "b547c945",
   "metadata": {},
   "outputs": [
    {
     "data": {
      "text/plain": [
       "Node                as1border2\n",
       "IP                     1.2.2.2\n",
       "Interface                 None\n",
       "AS_Number                    1\n",
       "Remote_Node           as1core1\n",
       "Remote_IP             1.10.1.1\n",
       "Remote_Interface          None\n",
       "Remote_AS_Number             1\n",
       "Name: 0, dtype: object"
      ]
     },
     "execution_count": 17,
     "metadata": {},
     "output_type": "execute_result"
    }
   ],
   "source": [
    "result.iloc[0]"
   ]
  },
  {
   "cell_type": "code",
   "execution_count": 18,
   "id": "6ab2f9aa",
   "metadata": {
    "nbsphinx": "hidden"
   },
   "outputs": [
    {
     "data": {
      "text/plain": [
       "'generate_questions'"
      ]
     },
     "execution_count": 18,
     "metadata": {},
     "output_type": "execute_result"
    }
   ],
   "source": [
    "bf.set_network('generate_questions')"
   ]
  },
  {
   "cell_type": "code",
   "execution_count": 19,
   "id": "5d8a5bd3",
   "metadata": {
    "nbsphinx": "hidden"
   },
   "outputs": [
    {
     "data": {
      "text/plain": [
       "'generate_questions'"
      ]
     },
     "execution_count": 19,
     "metadata": {},
     "output_type": "execute_result"
    }
   ],
   "source": [
    "bf.set_snapshot('generate_questions')"
   ]
  },
  {
   "cell_type": "markdown",
   "id": "84e05b69",
   "metadata": {},
   "source": [
    "##### OSPF Session Compatibility"
   ]
  },
  {
   "cell_type": "markdown",
   "id": "6e736b20",
   "metadata": {},
   "source": [
    "Returns compatible OSPF sessions."
   ]
  },
  {
   "cell_type": "markdown",
   "id": "d4870809",
   "metadata": {},
   "source": [
    "Returns compatible OSPF sessions in the network. A session is compatible if the interfaces involved are not shutdown and do run OSPF, are not OSPF passive and are associated with the same OSPF area."
   ]
  },
  {
   "cell_type": "markdown",
   "id": "21958123",
   "metadata": {},
   "source": [
    "###### Inputs"
   ]
  },
  {
   "cell_type": "markdown",
   "id": "2ab456d4",
   "metadata": {},
   "source": [
    "Name | Description | Type | Optional | Default Value\n",
    "--- | --- | --- | --- | --- \n",
    "nodes | Include nodes matching this name or regex. | [NodeSpec](../specifiers.md#node-specifier) | True | \n",
    "remoteNodes | Include remote nodes matching this name or regex. | [NodeSpec](../specifiers.md#node-specifier) | True | \n",
    "statuses | Only include sessions matching this status specifier. | [OspfSessionStatusSpec](../specifiers.md#ospf-session-status-specifier) | True | "
   ]
  },
  {
   "cell_type": "markdown",
   "id": "64dd3192",
   "metadata": {},
   "source": [
    "###### Invocation"
   ]
  },
  {
   "cell_type": "code",
   "execution_count": 20,
   "id": "fd8e89dc",
   "metadata": {},
   "outputs": [],
   "source": [
    "result = bf.q.ospfSessionCompatibility().answer().frame()"
   ]
  },
  {
   "cell_type": "markdown",
   "id": "8cdbf6fa",
   "metadata": {},
   "source": [
    "###### Return Value"
   ]
  },
  {
   "cell_type": "markdown",
   "id": "b7a97acc",
   "metadata": {},
   "source": [
    "Name | Description | Type\n",
    "--- | --- | ---\n",
    "Interface | Interface | [Interface](../datamodel.rst#pybatfish.datamodel.primitives.Interface)\n",
    "VRF | VRF | str\n",
    "IP | Ip | str\n",
    "Area | Area | int\n",
    "Remote_Interface | Remote Interface | [Interface](../datamodel.rst#pybatfish.datamodel.primitives.Interface)\n",
    "Remote_VRF | Remote VRF | str\n",
    "Remote_IP | Remote IP | str\n",
    "Remote_Area | Remote Area | int\n",
    "Session_Status | Status of the OSPF session | str"
   ]
  },
  {
   "cell_type": "markdown",
   "id": "9f55c601",
   "metadata": {},
   "source": [
    "Print the first 5 rows of the returned Dataframe"
   ]
  },
  {
   "cell_type": "code",
   "execution_count": 21,
   "id": "154d6dab",
   "metadata": {},
   "outputs": [
    {
     "data": {
      "text/html": [
       "<div>\n",
       "<style scoped>\n",
       "    .dataframe tbody tr th:only-of-type {\n",
       "        vertical-align: middle;\n",
       "    }\n",
       "\n",
       "    .dataframe tbody tr th {\n",
       "        vertical-align: top;\n",
       "    }\n",
       "\n",
       "    .dataframe thead th {\n",
       "        text-align: right;\n",
       "    }\n",
       "</style>\n",
       "<table border=\"1\" class=\"dataframe\">\n",
       "  <thead>\n",
       "    <tr style=\"text-align: right;\">\n",
       "      <th></th>\n",
       "      <th>Interface</th>\n",
       "      <th>VRF</th>\n",
       "      <th>IP</th>\n",
       "      <th>Area</th>\n",
       "      <th>Remote_Interface</th>\n",
       "      <th>Remote_VRF</th>\n",
       "      <th>Remote_IP</th>\n",
       "      <th>Remote_Area</th>\n",
       "      <th>Session_Status</th>\n",
       "    </tr>\n",
       "  </thead>\n",
       "  <tbody>\n",
       "    <tr>\n",
       "      <th>0</th>\n",
       "      <td>as2core2[GigabitEthernet0/0]</td>\n",
       "      <td>default</td>\n",
       "      <td>2.12.22.2</td>\n",
       "      <td>1</td>\n",
       "      <td>as2border2[GigabitEthernet1/0]</td>\n",
       "      <td>default</td>\n",
       "      <td>2.12.22.1</td>\n",
       "      <td>1</td>\n",
       "      <td>ESTABLISHED</td>\n",
       "    </tr>\n",
       "    <tr>\n",
       "      <th>1</th>\n",
       "      <td>as2core2[GigabitEthernet1/0]</td>\n",
       "      <td>default</td>\n",
       "      <td>2.12.12.2</td>\n",
       "      <td>1</td>\n",
       "      <td>as2border1[GigabitEthernet2/0]</td>\n",
       "      <td>default</td>\n",
       "      <td>2.12.12.1</td>\n",
       "      <td>1</td>\n",
       "      <td>ESTABLISHED</td>\n",
       "    </tr>\n",
       "    <tr>\n",
       "      <th>2</th>\n",
       "      <td>as2border1[GigabitEthernet1/0]</td>\n",
       "      <td>default</td>\n",
       "      <td>2.12.11.1</td>\n",
       "      <td>1</td>\n",
       "      <td>as2core1[GigabitEthernet0/0]</td>\n",
       "      <td>default</td>\n",
       "      <td>2.12.11.2</td>\n",
       "      <td>1</td>\n",
       "      <td>ESTABLISHED</td>\n",
       "    </tr>\n",
       "    <tr>\n",
       "      <th>3</th>\n",
       "      <td>as2border1[GigabitEthernet2/0]</td>\n",
       "      <td>default</td>\n",
       "      <td>2.12.12.1</td>\n",
       "      <td>1</td>\n",
       "      <td>as2core2[GigabitEthernet1/0]</td>\n",
       "      <td>default</td>\n",
       "      <td>2.12.12.2</td>\n",
       "      <td>1</td>\n",
       "      <td>ESTABLISHED</td>\n",
       "    </tr>\n",
       "    <tr>\n",
       "      <th>4</th>\n",
       "      <td>as2core2[GigabitEthernet3/0]</td>\n",
       "      <td>default</td>\n",
       "      <td>2.23.21.2</td>\n",
       "      <td>1</td>\n",
       "      <td>as2dist1[GigabitEthernet1/0]</td>\n",
       "      <td>default</td>\n",
       "      <td>2.23.21.3</td>\n",
       "      <td>1</td>\n",
       "      <td>ESTABLISHED</td>\n",
       "    </tr>\n",
       "  </tbody>\n",
       "</table>\n",
       "</div>"
      ],
      "text/plain": [
       "                        Interface      VRF         IP Area                Remote_Interface Remote_VRF  Remote_IP Remote_Area Session_Status\n",
       "0    as2core2[GigabitEthernet0/0]  default  2.12.22.2    1  as2border2[GigabitEthernet1/0]    default  2.12.22.1           1    ESTABLISHED\n",
       "1    as2core2[GigabitEthernet1/0]  default  2.12.12.2    1  as2border1[GigabitEthernet2/0]    default  2.12.12.1           1    ESTABLISHED\n",
       "2  as2border1[GigabitEthernet1/0]  default  2.12.11.1    1    as2core1[GigabitEthernet0/0]    default  2.12.11.2           1    ESTABLISHED\n",
       "3  as2border1[GigabitEthernet2/0]  default  2.12.12.1    1    as2core2[GigabitEthernet1/0]    default  2.12.12.2           1    ESTABLISHED\n",
       "4    as2core2[GigabitEthernet3/0]  default  2.23.21.2    1    as2dist1[GigabitEthernet1/0]    default  2.23.21.3           1    ESTABLISHED"
      ]
     },
     "execution_count": 21,
     "metadata": {},
     "output_type": "execute_result"
    }
   ],
   "source": [
    "result.head(5)"
   ]
  },
  {
   "cell_type": "markdown",
   "id": "4b0b489b",
   "metadata": {},
   "source": [
    "Print the first row of the returned Dataframe"
   ]
  },
  {
   "cell_type": "code",
   "execution_count": 22,
   "id": "cda0a22e",
   "metadata": {},
   "outputs": [
    {
     "data": {
      "text/plain": [
       "Interface             as2core2[GigabitEthernet0/0]\n",
       "VRF                                        default\n",
       "IP                                       2.12.22.2\n",
       "Area                                             1\n",
       "Remote_Interface    as2border2[GigabitEthernet1/0]\n",
       "Remote_VRF                                 default\n",
       "Remote_IP                                2.12.22.1\n",
       "Remote_Area                                      1\n",
       "Session_Status                         ESTABLISHED\n",
       "Name: 0, dtype: object"
      ]
     },
     "execution_count": 22,
     "metadata": {},
     "output_type": "execute_result"
    }
   ],
   "source": [
    "result.iloc[0]"
   ]
  },
  {
   "cell_type": "code",
   "execution_count": 23,
   "id": "7faefa24",
   "metadata": {
    "nbsphinx": "hidden"
   },
   "outputs": [
    {
     "data": {
      "text/plain": [
       "'generate_questions'"
      ]
     },
     "execution_count": 23,
     "metadata": {},
     "output_type": "execute_result"
    }
   ],
   "source": [
    "bf.set_network('generate_questions')"
   ]
  },
  {
   "cell_type": "code",
   "execution_count": 24,
   "id": "4294a911",
   "metadata": {
    "nbsphinx": "hidden"
   },
   "outputs": [
    {
     "data": {
      "text/plain": [
       "'generate_questions'"
      ]
     },
     "execution_count": 24,
     "metadata": {},
     "output_type": "execute_result"
    }
   ],
   "source": [
    "bf.set_snapshot('generate_questions')"
   ]
  },
  {
   "cell_type": "markdown",
   "id": "bf0d9f14",
   "metadata": {},
   "source": [
    "##### OSPF Edges"
   ]
  },
  {
   "cell_type": "markdown",
   "id": "53a322b7",
   "metadata": {},
   "source": [
    "Returns OSPF adjacencies."
   ]
  },
  {
   "cell_type": "markdown",
   "id": "a74f9aaa",
   "metadata": {},
   "source": [
    "Lists all OSPF adjacencies in the network."
   ]
  },
  {
   "cell_type": "markdown",
   "id": "09863142",
   "metadata": {},
   "source": [
    "###### Inputs"
   ]
  },
  {
   "cell_type": "markdown",
   "id": "f9c3b433",
   "metadata": {},
   "source": [
    "Name | Description | Type | Optional | Default Value\n",
    "--- | --- | --- | --- | --- \n",
    "nodes | Include adjacencies whose first node matches this name or regex. | [NodeSpec](../specifiers.md#node-specifier) | True | .*\n",
    "remoteNodes | Include edges whose second node matches this name or regex. | [NodeSpec](../specifiers.md#node-specifier) | True | .*"
   ]
  },
  {
   "cell_type": "markdown",
   "id": "ee77e387",
   "metadata": {},
   "source": [
    "###### Invocation"
   ]
  },
  {
   "cell_type": "code",
   "execution_count": 25,
   "id": "fd2bf634",
   "metadata": {},
   "outputs": [],
   "source": [
    "result = bf.q.ospfEdges().answer().frame()"
   ]
  },
  {
   "cell_type": "markdown",
   "id": "129ef48f",
   "metadata": {},
   "source": [
    "###### Return Value"
   ]
  },
  {
   "cell_type": "markdown",
   "id": "db784b25",
   "metadata": {},
   "source": [
    "Name | Description | Type\n",
    "--- | --- | ---\n",
    "Interface | Interface from which the edge originates | [Interface](../datamodel.rst#pybatfish.datamodel.primitives.Interface)\n",
    "Remote_Interface | Interface at which the edge terminates | [Interface](../datamodel.rst#pybatfish.datamodel.primitives.Interface)"
   ]
  },
  {
   "cell_type": "markdown",
   "id": "b5b1b854",
   "metadata": {},
   "source": [
    "Print the first 5 rows of the returned Dataframe"
   ]
  },
  {
   "cell_type": "code",
   "execution_count": 26,
   "id": "b493bfd5",
   "metadata": {},
   "outputs": [
    {
     "data": {
      "text/html": [
       "<div>\n",
       "<style scoped>\n",
       "    .dataframe tbody tr th:only-of-type {\n",
       "        vertical-align: middle;\n",
       "    }\n",
       "\n",
       "    .dataframe tbody tr th {\n",
       "        vertical-align: top;\n",
       "    }\n",
       "\n",
       "    .dataframe thead th {\n",
       "        text-align: right;\n",
       "    }\n",
       "</style>\n",
       "<table border=\"1\" class=\"dataframe\">\n",
       "  <thead>\n",
       "    <tr style=\"text-align: right;\">\n",
       "      <th></th>\n",
       "      <th>Interface</th>\n",
       "      <th>Remote_Interface</th>\n",
       "    </tr>\n",
       "  </thead>\n",
       "  <tbody>\n",
       "    <tr>\n",
       "      <th>0</th>\n",
       "      <td>as1border1[GigabitEthernet0/0]</td>\n",
       "      <td>as1core1[GigabitEthernet1/0]</td>\n",
       "    </tr>\n",
       "    <tr>\n",
       "      <th>1</th>\n",
       "      <td>as1core1[GigabitEthernet1/0]</td>\n",
       "      <td>as1border1[GigabitEthernet0/0]</td>\n",
       "    </tr>\n",
       "    <tr>\n",
       "      <th>2</th>\n",
       "      <td>as1border2[GigabitEthernet1/0]</td>\n",
       "      <td>as1core1[GigabitEthernet0/0]</td>\n",
       "    </tr>\n",
       "    <tr>\n",
       "      <th>3</th>\n",
       "      <td>as1core1[GigabitEthernet0/0]</td>\n",
       "      <td>as1border2[GigabitEthernet1/0]</td>\n",
       "    </tr>\n",
       "    <tr>\n",
       "      <th>4</th>\n",
       "      <td>as2border1[GigabitEthernet1/0]</td>\n",
       "      <td>as2core1[GigabitEthernet0/0]</td>\n",
       "    </tr>\n",
       "  </tbody>\n",
       "</table>\n",
       "</div>"
      ],
      "text/plain": [
       "                        Interface                Remote_Interface\n",
       "0  as1border1[GigabitEthernet0/0]    as1core1[GigabitEthernet1/0]\n",
       "1    as1core1[GigabitEthernet1/0]  as1border1[GigabitEthernet0/0]\n",
       "2  as1border2[GigabitEthernet1/0]    as1core1[GigabitEthernet0/0]\n",
       "3    as1core1[GigabitEthernet0/0]  as1border2[GigabitEthernet1/0]\n",
       "4  as2border1[GigabitEthernet1/0]    as2core1[GigabitEthernet0/0]"
      ]
     },
     "execution_count": 26,
     "metadata": {},
     "output_type": "execute_result"
    }
   ],
   "source": [
    "result.head(5)"
   ]
  },
  {
   "cell_type": "markdown",
   "id": "51603a99",
   "metadata": {},
   "source": [
    "Print the first row of the returned Dataframe"
   ]
  },
  {
   "cell_type": "code",
   "execution_count": 27,
   "id": "d617bfce",
   "metadata": {},
   "outputs": [
    {
     "data": {
      "text/plain": [
       "Interface           as1border1[GigabitEthernet0/0]\n",
       "Remote_Interface      as1core1[GigabitEthernet1/0]\n",
       "Name: 0, dtype: object"
      ]
     },
     "execution_count": 27,
     "metadata": {},
     "output_type": "execute_result"
    }
   ],
   "source": [
    "result.iloc[0]"
   ]
  },
  {
   "cell_type": "code",
   "execution_count": 28,
   "id": "02f67e7b",
   "metadata": {
    "nbsphinx": "hidden"
   },
   "outputs": [
    {
     "data": {
      "text/plain": [
       "'generate_questions'"
      ]
     },
     "execution_count": 28,
     "metadata": {},
     "output_type": "execute_result"
    }
   ],
   "source": [
    "bf.set_network('generate_questions')"
   ]
  },
  {
   "cell_type": "code",
   "execution_count": 29,
   "id": "2ba9e08c",
   "metadata": {
    "nbsphinx": "hidden"
   },
   "outputs": [
    {
     "data": {
      "text/plain": [
       "'generate_questions'"
      ]
     },
     "execution_count": 29,
     "metadata": {},
     "output_type": "execute_result"
    }
   ],
   "source": [
    "bf.set_snapshot('generate_questions')"
   ]
  },
  {
   "cell_type": "markdown",
   "id": "e3335f4b",
   "metadata": {},
   "source": [
    "##### Test Route Policies"
   ]
  },
  {
   "cell_type": "markdown",
   "id": "43e530ba",
   "metadata": {},
   "source": [
    "Evaluates the processing of a route by a given policy."
   ]
  },
  {
   "cell_type": "markdown",
   "id": "cff57770",
   "metadata": {},
   "source": [
    "Find how the specified route is processed through the specified routing policies."
   ]
  },
  {
   "cell_type": "markdown",
   "id": "cd3edf47",
   "metadata": {},
   "source": [
    "###### Inputs"
   ]
  },
  {
   "cell_type": "markdown",
   "id": "8e574c60",
   "metadata": {},
   "source": [
    "Name | Description | Type | Optional | Default Value\n",
    "--- | --- | --- | --- | --- \n",
    "nodes | Only examine filters on nodes matching this specifier. | [NodeSpec](../specifiers.md#node-specifier) | True | \n",
    "policies | Only consider policies that match this specifier. | [RoutingPolicySpec](../specifiers.md#routing-policy-specifier) | True | \n",
    "inputRoutes | The BGP route announcements to test the policy on. | List of [BgpRoute](../datamodel.rst#pybatfish.datamodel.route.BgpRoute) | False | \n",
    "direction | The direction of the route, with respect to the device (IN/OUT). | str | False | "
   ]
  },
  {
   "cell_type": "markdown",
   "id": "fa95c44b",
   "metadata": {},
   "source": [
    "###### Invocation"
   ]
  },
  {
   "cell_type": "code",
   "execution_count": 30,
   "id": "682c346a",
   "metadata": {},
   "outputs": [],
   "source": [
    "result = bf.q.testRoutePolicies(policies='/as1_to_/', direction='in', inputRoutes=list([BgpRoute(network='10.0.0.0/24', originatorIp='4.4.4.4', originType='egp', protocol='bgp', asPath=[[64512, 64513], [64514]], communities=['64512:42', '64513:21'])])).answer().frame()"
   ]
  },
  {
   "cell_type": "markdown",
   "id": "bddc37b4",
   "metadata": {},
   "source": [
    "###### Return Value"
   ]
  },
  {
   "cell_type": "markdown",
   "id": "86a68e19",
   "metadata": {},
   "source": [
    "Name | Description | Type\n",
    "--- | --- | ---\n",
    "Node | The node that has the policy | str\n",
    "Policy_Name | The name of this policy | str\n",
    "Input_Route | The input route | [BgpRoute](../datamodel.rst#pybatfish.datamodel.route.BgpRoute)\n",
    "Action | The action of the policy on the input route | str\n",
    "Output_Route | The output route, if any | [BgpRoute](../datamodel.rst#pybatfish.datamodel.route.BgpRoute)\n",
    "Difference | The difference between the input and output routes, if any | [BgpRouteDiffs](../datamodel.rst#pybatfish.datamodel.route.BgpRouteDiffs)\n",
    "Trace | Route policy trace that shows which clauses/terms matched the input route. If the trace is empty, either nothing matched or tracing is not yet been implemented for this policy type. This is an experimental feature whose content and format is subject to change. | List of [TraceTree](../datamodel.rst#pybatfish.datamodel.acl.TraceTree)"
   ]
  },
  {
   "cell_type": "markdown",
   "id": "d0c5abb6",
   "metadata": {},
   "source": [
    "Print the first 5 rows of the returned Dataframe"
   ]
  },
  {
   "cell_type": "code",
   "execution_count": 31,
   "id": "2f2b3201",
   "metadata": {},
   "outputs": [
    {
     "data": {
      "text/html": [
       "<div>\n",
       "<style scoped>\n",
       "    .dataframe tbody tr th:only-of-type {\n",
       "        vertical-align: middle;\n",
       "    }\n",
       "\n",
       "    .dataframe tbody tr th {\n",
       "        vertical-align: top;\n",
       "    }\n",
       "\n",
       "    .dataframe thead th {\n",
       "        text-align: right;\n",
       "    }\n",
       "</style>\n",
       "<table border=\"1\" class=\"dataframe\">\n",
       "  <thead>\n",
       "    <tr style=\"text-align: right;\">\n",
       "      <th></th>\n",
       "      <th>Node</th>\n",
       "      <th>Policy_Name</th>\n",
       "      <th>Input_Route</th>\n",
       "      <th>Action</th>\n",
       "      <th>Output_Route</th>\n",
       "      <th>Difference</th>\n",
       "      <th>Trace</th>\n",
       "    </tr>\n",
       "  </thead>\n",
       "  <tbody>\n",
       "    <tr>\n",
       "      <th>0</th>\n",
       "      <td>as1border1</td>\n",
       "      <td>as1_to_as2</td>\n",
       "      <td>BgpRoute(network='10.0.0.0/24', originatorIp='4.4.4.4', originType='egp', protocol='bgp', asPath=[{'asns': [64512, 64513], 'confederation': False}, {'asns': [64514], 'confederation': False}], communities=['64512:42', '64513:21'], localPreference=0, metric=0, sourceProtocol=None)</td>\n",
       "      <td>DENY</td>\n",
       "      <td>None</td>\n",
       "      <td>None</td>\n",
       "      <td></td>\n",
       "    </tr>\n",
       "    <tr>\n",
       "      <th>1</th>\n",
       "      <td>as1border1</td>\n",
       "      <td>as1_to_as3</td>\n",
       "      <td>BgpRoute(network='10.0.0.0/24', originatorIp='4.4.4.4', originType='egp', protocol='bgp', asPath=[{'asns': [64512, 64513], 'confederation': False}, {'asns': [64514], 'confederation': False}], communities=['64512:42', '64513:21'], localPreference=0, metric=0, sourceProtocol=None)</td>\n",
       "      <td>DENY</td>\n",
       "      <td>None</td>\n",
       "      <td>None</td>\n",
       "      <td></td>\n",
       "    </tr>\n",
       "    <tr>\n",
       "      <th>2</th>\n",
       "      <td>as1border2</td>\n",
       "      <td>as1_to_as2</td>\n",
       "      <td>BgpRoute(network='10.0.0.0/24', originatorIp='4.4.4.4', originType='egp', protocol='bgp', asPath=[{'asns': [64512, 64513], 'confederation': False}, {'asns': [64514], 'confederation': False}], communities=['64512:42', '64513:21'], localPreference=0, metric=0, sourceProtocol=None)</td>\n",
       "      <td>DENY</td>\n",
       "      <td>None</td>\n",
       "      <td>None</td>\n",
       "      <td></td>\n",
       "    </tr>\n",
       "    <tr>\n",
       "      <th>3</th>\n",
       "      <td>as1border2</td>\n",
       "      <td>as1_to_as3</td>\n",
       "      <td>BgpRoute(network='10.0.0.0/24', originatorIp='4.4.4.4', originType='egp', protocol='bgp', asPath=[{'asns': [64512, 64513], 'confederation': False}, {'asns': [64514], 'confederation': False}], communities=['64512:42', '64513:21'], localPreference=0, metric=0, sourceProtocol=None)</td>\n",
       "      <td>DENY</td>\n",
       "      <td>None</td>\n",
       "      <td>None</td>\n",
       "      <td></td>\n",
       "    </tr>\n",
       "    <tr>\n",
       "      <th>4</th>\n",
       "      <td>as1border2</td>\n",
       "      <td>as1_to_as4</td>\n",
       "      <td>BgpRoute(network='10.0.0.0/24', originatorIp='4.4.4.4', originType='egp', protocol='bgp', asPath=[{'asns': [64512, 64513], 'confederation': False}, {'asns': [64514], 'confederation': False}], communities=['64512:42', '64513:21'], localPreference=0, metric=0, sourceProtocol=None)</td>\n",
       "      <td>PERMIT</td>\n",
       "      <td>BgpRoute(network='10.0.0.0/24', originatorIp='4.4.4.4', originType='egp', protocol='bgp', asPath=[{'asns': [64512, 64513], 'confederation': False}, {'asns': [64514], 'confederation': False}], communities=['1:4', '64512:42', '64513:21'], localPreference=0, metric=50, sourceProtocol=None)</td>\n",
       "      <td>BgpRouteDiffs(diffs=[BgpRouteDiff(fieldName='communities', oldValue='[64512:42, 64513:21]', newValue='[1:4, 64512:42, 64513:21]'), BgpRouteDiff(fieldName='metric', oldValue='0', newValue='50')])</td>\n",
       "      <td>- Matched route-map as1_to_as4 clause 2</td>\n",
       "    </tr>\n",
       "  </tbody>\n",
       "</table>\n",
       "</div>"
      ],
      "text/plain": [
       "         Node Policy_Name  \\\n",
       "0  as1border1  as1_to_as2   \n",
       "1  as1border1  as1_to_as3   \n",
       "2  as1border2  as1_to_as2   \n",
       "3  as1border2  as1_to_as3   \n",
       "4  as1border2  as1_to_as4   \n",
       "\n",
       "                                                                                                                                                                                                                                                                               Input_Route  Action  \\\n",
       "0  BgpRoute(network='10.0.0.0/24', originatorIp='4.4.4.4', originType='egp', protocol='bgp', asPath=[{'asns': [64512, 64513], 'confederation': False}, {'asns': [64514], 'confederation': False}], communities=['64512:42', '64513:21'], localPreference=0, metric=0, sourceProtocol=None)    DENY   \n",
       "1  BgpRoute(network='10.0.0.0/24', originatorIp='4.4.4.4', originType='egp', protocol='bgp', asPath=[{'asns': [64512, 64513], 'confederation': False}, {'asns': [64514], 'confederation': False}], communities=['64512:42', '64513:21'], localPreference=0, metric=0, sourceProtocol=None)    DENY   \n",
       "2  BgpRoute(network='10.0.0.0/24', originatorIp='4.4.4.4', originType='egp', protocol='bgp', asPath=[{'asns': [64512, 64513], 'confederation': False}, {'asns': [64514], 'confederation': False}], communities=['64512:42', '64513:21'], localPreference=0, metric=0, sourceProtocol=None)    DENY   \n",
       "3  BgpRoute(network='10.0.0.0/24', originatorIp='4.4.4.4', originType='egp', protocol='bgp', asPath=[{'asns': [64512, 64513], 'confederation': False}, {'asns': [64514], 'confederation': False}], communities=['64512:42', '64513:21'], localPreference=0, metric=0, sourceProtocol=None)    DENY   \n",
       "4  BgpRoute(network='10.0.0.0/24', originatorIp='4.4.4.4', originType='egp', protocol='bgp', asPath=[{'asns': [64512, 64513], 'confederation': False}, {'asns': [64514], 'confederation': False}], communities=['64512:42', '64513:21'], localPreference=0, metric=0, sourceProtocol=None)  PERMIT   \n",
       "\n",
       "                                                                                                                                                                                                                                                                                      Output_Route  \\\n",
       "0                                                                                                                                                                                                                                                                                             None   \n",
       "1                                                                                                                                                                                                                                                                                             None   \n",
       "2                                                                                                                                                                                                                                                                                             None   \n",
       "3                                                                                                                                                                                                                                                                                             None   \n",
       "4  BgpRoute(network='10.0.0.0/24', originatorIp='4.4.4.4', originType='egp', protocol='bgp', asPath=[{'asns': [64512, 64513], 'confederation': False}, {'asns': [64514], 'confederation': False}], communities=['1:4', '64512:42', '64513:21'], localPreference=0, metric=50, sourceProtocol=None)   \n",
       "\n",
       "                                                                                                                                                                                           Difference                                    Trace  \n",
       "0                                                                                                                                                                                                None                                           \n",
       "1                                                                                                                                                                                                None                                           \n",
       "2                                                                                                                                                                                                None                                           \n",
       "3                                                                                                                                                                                                None                                           \n",
       "4  BgpRouteDiffs(diffs=[BgpRouteDiff(fieldName='communities', oldValue='[64512:42, 64513:21]', newValue='[1:4, 64512:42, 64513:21]'), BgpRouteDiff(fieldName='metric', oldValue='0', newValue='50')])  - Matched route-map as1_to_as4 clause 2  "
      ]
     },
     "execution_count": 31,
     "metadata": {},
     "output_type": "execute_result"
    }
   ],
   "source": [
    "result.head(5)"
   ]
  },
  {
   "cell_type": "markdown",
   "id": "edd53dfe",
   "metadata": {},
   "source": [
    "Print the first row of the returned Dataframe"
   ]
  },
  {
   "cell_type": "code",
   "execution_count": 32,
   "id": "4962b78c",
   "metadata": {},
   "outputs": [
    {
     "data": {
      "text/plain": [
       "Node                                                                                                                                                                                                                                                                                         as1border1\n",
       "Policy_Name                                                                                                                                                                                                                                                                                  as1_to_as2\n",
       "Input_Route     BgpRoute(network='10.0.0.0/24', originatorIp='4.4.4.4', originType='egp', protocol='bgp', asPath=[{'asns': [64512, 64513], 'confederation': False}, {'asns': [64514], 'confederation': False}], communities=['64512:42', '64513:21'], localPreference=0, metric=0, sourceProtocol=None)\n",
       "Action                                                                                                                                                                                                                                                                                             DENY\n",
       "Output_Route                                                                                                                                                                                                                                                                                       None\n",
       "Difference                                                                                                                                                                                                                                                                                         None\n",
       "Trace                                                                                                                                                                                                                                                                                                  \n",
       "Name: 0, dtype: object"
      ]
     },
     "execution_count": 32,
     "metadata": {},
     "output_type": "execute_result"
    }
   ],
   "source": [
    "result.iloc[0]"
   ]
  },
  {
   "cell_type": "code",
   "execution_count": 33,
   "id": "4b09dc8b",
   "metadata": {
    "nbsphinx": "hidden"
   },
   "outputs": [
    {
     "data": {
      "text/plain": [
       "'generate_questions'"
      ]
     },
     "execution_count": 33,
     "metadata": {},
     "output_type": "execute_result"
    }
   ],
   "source": [
    "bf.set_network('generate_questions')"
   ]
  },
  {
   "cell_type": "code",
   "execution_count": 34,
   "id": "3f037585",
   "metadata": {
    "nbsphinx": "hidden"
   },
   "outputs": [
    {
     "data": {
      "text/plain": [
       "'generate_questions'"
      ]
     },
     "execution_count": 34,
     "metadata": {},
     "output_type": "execute_result"
    }
   ],
   "source": [
    "bf.set_snapshot('generate_questions')"
   ]
  },
  {
   "cell_type": "markdown",
   "id": "2589f9a7",
   "metadata": {},
   "source": [
    "##### Search Route Policies"
   ]
  },
  {
   "cell_type": "markdown",
   "id": "a7fe53d8",
   "metadata": {},
   "source": [
    "Finds route announcements for which a route policy has a particular behavior."
   ]
  },
  {
   "cell_type": "markdown",
   "id": "36576ea0",
   "metadata": {},
   "source": [
    "This question finds route announcements for which a route policy has a particular behavior. The behaviors can be: that the policy permits the route (`permit`) or that it denies the route (`deny`). Constraints can be imposed on the input route announcements of interest and, in the case of a `permit` action, also on the output route announcements of interest. Route policies are selected using node and policy specifiers, which might match multiple policies. In this case, a (possibly different) answer will be found for each policy. This question currently supports common forms of matching on prefixes, communities, and AS-paths, as well as common forms of setting communities, the local preference, and the metric. It does not support other routing policy constructs. The question throws an exception if a route policy uses an unsupported construct."
   ]
  },
  {
   "cell_type": "markdown",
   "id": "7ce958d4",
   "metadata": {},
   "source": [
    "###### Inputs"
   ]
  },
  {
   "cell_type": "markdown",
   "id": "3d267a77",
   "metadata": {},
   "source": [
    "Name | Description | Type | Optional | Default Value\n",
    "--- | --- | --- | --- | --- \n",
    "nodes | Only examine policies on nodes matching this specifier. | [NodeSpec](../specifiers.md#node-specifier) | True | \n",
    "policies | Only consider policies that match this specifier. | [RoutingPolicySpec](../specifiers.md#routing-policy-specifier) | True | \n",
    "inputConstraints | Constraints on the set of input BGP route announcements to consider. | [BgpRouteConstraints](../datamodel.rst#pybatfish.datamodel.route.BgpRouteConstraints) | True | \n",
    "action | The behavior to be evaluated. Specify exactly one of `permit` or `deny`. | str | True | \n",
    "outputConstraints | Constraints on the set of output BGP route announcements to consider. | [BgpRouteConstraints](../datamodel.rst#pybatfish.datamodel.route.BgpRouteConstraints) | True | "
   ]
  },
  {
   "cell_type": "markdown",
   "id": "2402c116",
   "metadata": {},
   "source": [
    "###### Invocation"
   ]
  },
  {
   "cell_type": "code",
   "execution_count": 35,
   "id": "ce542ec6",
   "metadata": {},
   "outputs": [],
   "source": [
    "result = bf.q.searchRoutePolicies(nodes='/^as1/', policies='/as1_to_/', inputConstraints=BgpRouteConstraints(prefix=[\"10.0.0.0/8:8-32\", \"172.16.0.0/28:28-32\", \"192.168.0.0/16:16-32\"]), action='permit').answer().frame()"
   ]
  },
  {
   "cell_type": "markdown",
   "id": "984f02ad",
   "metadata": {},
   "source": [
    "###### Return Value"
   ]
  },
  {
   "cell_type": "markdown",
   "id": "967f4123",
   "metadata": {},
   "source": [
    "Name | Description | Type\n",
    "--- | --- | ---\n",
    "Node | The node that has the policy | str\n",
    "Policy_Name | The name of this policy | str\n",
    "Input_Route | The input route | [BgpRoute](../datamodel.rst#pybatfish.datamodel.route.BgpRoute)\n",
    "Action | The action of the policy on the input route | str\n",
    "Output_Route | The output route, if any | [BgpRoute](../datamodel.rst#pybatfish.datamodel.route.BgpRoute)\n",
    "Difference | The difference between the input and output routes, if any | [BgpRouteDiffs](../datamodel.rst#pybatfish.datamodel.route.BgpRouteDiffs)\n",
    "Trace | Route policy trace that shows which clauses/terms matched the input route. If the trace is empty, either nothing matched or tracing is not yet been implemented for this policy type. This is an experimental feature whose content and format is subject to change. | List of [TraceTree](../datamodel.rst#pybatfish.datamodel.acl.TraceTree)"
   ]
  },
  {
   "cell_type": "markdown",
   "id": "9c9ca767",
   "metadata": {},
   "source": [
    "Print the first 5 rows of the returned Dataframe"
   ]
  },
  {
   "cell_type": "code",
   "execution_count": 36,
   "id": "1ff930b4",
   "metadata": {},
   "outputs": [
    {
     "data": {
      "text/html": [
       "<div>\n",
       "<style scoped>\n",
       "    .dataframe tbody tr th:only-of-type {\n",
       "        vertical-align: middle;\n",
       "    }\n",
       "\n",
       "    .dataframe tbody tr th {\n",
       "        vertical-align: top;\n",
       "    }\n",
       "\n",
       "    .dataframe thead th {\n",
       "        text-align: right;\n",
       "    }\n",
       "</style>\n",
       "<table border=\"1\" class=\"dataframe\">\n",
       "  <thead>\n",
       "    <tr style=\"text-align: right;\">\n",
       "      <th></th>\n",
       "      <th>Node</th>\n",
       "      <th>Policy_Name</th>\n",
       "      <th>Input_Route</th>\n",
       "      <th>Action</th>\n",
       "      <th>Output_Route</th>\n",
       "      <th>Difference</th>\n",
       "      <th>Trace</th>\n",
       "    </tr>\n",
       "  </thead>\n",
       "  <tbody>\n",
       "    <tr>\n",
       "      <th>0</th>\n",
       "      <td>as1border2</td>\n",
       "      <td>as1_to_as4</td>\n",
       "      <td>BgpRoute(network='10.0.0.0/32', originatorIp='0.0.0.0', originType='igp', protocol='bgp', asPath=[], communities=[], localPreference=0, metric=0, sourceProtocol=None)</td>\n",
       "      <td>PERMIT</td>\n",
       "      <td>BgpRoute(network='10.0.0.0/32', originatorIp='0.0.0.0', originType='igp', protocol='bgp', asPath=[], communities=['1:4'], localPreference=0, metric=50, sourceProtocol=None)</td>\n",
       "      <td>BgpRouteDiffs(diffs=[BgpRouteDiff(fieldName='communities', oldValue='[]', newValue='[1:4]'), BgpRouteDiff(fieldName='metric', oldValue='0', newValue='50')])</td>\n",
       "      <td>- Matched route-map as1_to_as4 clause 2</td>\n",
       "    </tr>\n",
       "  </tbody>\n",
       "</table>\n",
       "</div>"
      ],
      "text/plain": [
       "         Node Policy_Name                                                                                                                                                             Input_Route  Action  \\\n",
       "0  as1border2  as1_to_as4  BgpRoute(network='10.0.0.0/32', originatorIp='0.0.0.0', originType='igp', protocol='bgp', asPath=[], communities=[], localPreference=0, metric=0, sourceProtocol=None)  PERMIT   \n",
       "\n",
       "                                                                                                                                                                   Output_Route  \\\n",
       "0  BgpRoute(network='10.0.0.0/32', originatorIp='0.0.0.0', originType='igp', protocol='bgp', asPath=[], communities=['1:4'], localPreference=0, metric=50, sourceProtocol=None)   \n",
       "\n",
       "                                                                                                                                                     Difference                                    Trace  \n",
       "0  BgpRouteDiffs(diffs=[BgpRouteDiff(fieldName='communities', oldValue='[]', newValue='[1:4]'), BgpRouteDiff(fieldName='metric', oldValue='0', newValue='50')])  - Matched route-map as1_to_as4 clause 2  "
      ]
     },
     "execution_count": 36,
     "metadata": {},
     "output_type": "execute_result"
    }
   ],
   "source": [
    "result.head(5)"
   ]
  },
  {
   "cell_type": "markdown",
   "id": "a3385268",
   "metadata": {},
   "source": [
    "Print the first row of the returned Dataframe"
   ]
  },
  {
   "cell_type": "code",
   "execution_count": 37,
   "id": "d6b2d1b2",
   "metadata": {},
   "outputs": [
    {
     "data": {
      "text/plain": [
       "Node                                                                                                                                                                              as1border2\n",
       "Policy_Name                                                                                                                                                                       as1_to_as4\n",
       "Input_Route           BgpRoute(network='10.0.0.0/32', originatorIp='0.0.0.0', originType='igp', protocol='bgp', asPath=[], communities=[], localPreference=0, metric=0, sourceProtocol=None)\n",
       "Action                                                                                                                                                                                PERMIT\n",
       "Output_Route    BgpRoute(network='10.0.0.0/32', originatorIp='0.0.0.0', originType='igp', protocol='bgp', asPath=[], communities=['1:4'], localPreference=0, metric=50, sourceProtocol=None)\n",
       "Difference                      BgpRouteDiffs(diffs=[BgpRouteDiff(fieldName='communities', oldValue='[]', newValue='[1:4]'), BgpRouteDiff(fieldName='metric', oldValue='0', newValue='50')])\n",
       "Trace                                                                                                                                                - Matched route-map as1_to_as4 clause 2\n",
       "Name: 0, dtype: object"
      ]
     },
     "execution_count": 37,
     "metadata": {},
     "output_type": "execute_result"
    }
   ],
   "source": [
    "result.iloc[0]"
   ]
  }
 ],
 "metadata": {
  "celltoolbar": "Edit Metadata",
  "hide_input": false,
  "kernelspec": {
   "display_name": "Python 3",
   "language": "python",
   "name": "python3"
  },
  "language_info": {
   "codemirror_mode": {
    "name": "ipython",
    "version": 3
   },
   "file_extension": ".py",
   "mimetype": "text/x-python",
   "name": "python",
   "nbconvert_exporter": "python",
   "pygments_lexer": "ipython3",
   "version": "3.7.7"
  }
 },
 "nbformat": 4,
 "nbformat_minor": 2
}
