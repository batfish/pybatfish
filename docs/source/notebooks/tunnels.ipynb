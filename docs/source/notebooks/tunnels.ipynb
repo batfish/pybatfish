{
 "cells": [
  {
   "cell_type": "code",
   "execution_count": 1,
   "metadata": {
    "nbsphinx": "hidden"
   },
   "outputs": [],
   "source": [
    ">>> import pandas as pd\n",
    ">>> from pybatfish.client.commands import *\n",
    ">>> from pybatfish.datamodel import Edge, Interface\n",
    ">>> from pybatfish.datamodel.answer import TableAnswer\n",
    ">>> from pybatfish.datamodel.flow import (HeaderConstraints,\n",
    "...                                       PathConstraints)\n",
    ">>> from pybatfish.question import bfq, list_questions, load_questions\n",
    "\n",
    ">>> pd.set_option(\"display.width\", 300) \n",
    ">>> pd.set_option(\"display.max_columns\", 20) \n",
    ">>> pd.set_option(\"display.max_rows\", 1000) \n",
    ">>> pd.set_option(\"display.max_colwidth\", -1)\n",
    "\n",
    "# Configure all pybatfish loggers to use WARN level\n",
    ">>> import logging\n",
    ">>> logging.getLogger('pybatfish').setLevel(logging.WARN)"
   ]
  },
  {
   "cell_type": "code",
   "execution_count": 2,
   "metadata": {
    "nbsphinx": "hidden"
   },
   "outputs": [],
   "source": [
    ">>> bf_session.host = 'localhost'"
   ]
  },
  {
   "cell_type": "code",
   "execution_count": 3,
   "metadata": {
    "nbsphinx": "hidden",
    "pycharm": {
     "name": "#%%\n"
    }
   },
   "outputs": [],
   "source": [
    ">>> load_questions()\n"
   ]
  },
  {
   "cell_type": "markdown",
   "metadata": {},
   "source": [
    "#### Tunnels and Overlays"
   ]
  },
  {
   "cell_type": "markdown",
   "metadata": {},
   "source": []
  }
 ],
 "metadata": {
  "celltoolbar": "Edit Metadata",
  "hide_input": false,
  "kernelspec": {
   "display_name": "Python 3",
   "language": "python",
   "name": "python3"
  },
  "language_info": {
   "codemirror_mode": {
    "name": "ipython",
    "version": 3
   },
   "file_extension": ".py",
   "mimetype": "text/x-python",
   "name": "python",
   "nbconvert_exporter": "python",
   "pygments_lexer": "ipython3",
   "version": "3.7.4"
  },
  "pycharm": {
   "stem_cell": {
    "cell_type": "raw",
    "metadata": {
     "collapsed": false
    },
    "source": []
   }
  }
 },
 "nbformat": 4,
 "nbformat_minor": 2
}
