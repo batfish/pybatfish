{
 "cells": [
  {
   "cell_type": "markdown",
   "metadata": {},
   "source": [
    "## Interacting with the Batfish service\n"
   ]
  },
  {
   "cell_type": "markdown",
   "metadata": {},
   "source": [
    "### Python Imports"
   ]
  },
  {
   "cell_type": "markdown",
   "metadata": {},
   "source": [
    "In your Python program (or shell) you will need to import Pybatfish modules. \n",
    "The most common imports are shown below. Depending your needs, this list may vary."
   ]
  },
  {
   "cell_type": "code",
   "execution_count": 1,
   "metadata": {},
   "outputs": [],
   "source": [
    "import pandas as pd\n",
    "from pybatfish.client.commands import *\n",
    "from pybatfish.datamodel import *\n",
    "from pybatfish.datamodel.answer import *\n",
    "from pybatfish.datamodel.flow import *\n",
    "from pybatfish.question import *\n",
    "from pybatfish.question import bfq"
   ]
  },
  {
   "cell_type": "code",
   "execution_count": 2,
   "metadata": {
    "nbsphinx": "hidden",
    "pycharm": {
     "name": "#%%\n"
    }
   },
   "outputs": [],
   "source": [
    "pd.set_option('display.max_colwidth', -1)\n",
    "pd.set_option('display.max_columns', None)\n",
    "# Prevent rendering text between '$' as MathJax expressions\n",
    "pd.set_option('display.html.use_mathjax', False)"
   ]
  },
  {
   "cell_type": "code",
   "execution_count": 3,
   "metadata": {
    "nbsphinx": "hidden"
   },
   "outputs": [],
   "source": [
    "# Configure all pybatfish loggers to use WARN level\n",
    "import logging\n",
    "logging.getLogger('pybatfish').setLevel(logging.WARN)"
   ]
  },
  {
   "cell_type": "markdown",
   "metadata": {},
   "source": [
    "### Sessions"
   ]
  },
  {
   "cell_type": "markdown",
   "metadata": {},
   "source": [
    "The Batfish service may be running locally on your machine, or on a remote server. \n",
    "The first step to analyzing your configurations is setting up the connection to the Batfish service."
   ]
  },
  {
   "cell_type": "code",
   "execution_count": 4,
   "metadata": {},
   "outputs": [],
   "source": [
    "bf_session.host = 'localhost'"
   ]
  },
  {
   "cell_type": "markdown",
   "metadata": {},
   "source": []
  },
  {
   "cell_type": "markdown",
   "metadata": {},
   "source": [
    "### Uploading configurations"
   ]
  },
  {
   "cell_type": "markdown",
   "metadata": {},
   "source": [
    "Batfish is designed to analyze a series of snapshots of a network.\n",
    "\n",
    "A *network* is a logical grouping of devices -- it may mean all of the devices in your network, \n",
    "or a subset (e.g., all devices in a single datacenter.)\n",
    " \n",
    "A *snapshot* is a state of the network at a given time.\n",
    "A network may contain many snapshots, allowing you to understand the evolution of your network.\n",
    "\n",
    "Let's say we will be working with our example datacenter:"
   ]
  },
  {
   "cell_type": "code",
   "execution_count": 5,
   "metadata": {},
   "outputs": [
    {
     "data": {
      "text/plain": [
       "'example_dc'"
      ]
     },
     "execution_count": 5,
     "metadata": {},
     "output_type": "execute_result"
    }
   ],
   "source": [
    "bf_set_network('example_dc')"
   ]
  },
  {
   "cell_type": "markdown",
   "metadata": {},
   "source": [
    "Now you are ready to create your first snapshot. Batfish can ingest a variety of data in order to model your network,\n",
    "so let's look at how you can package it as a snapshot."
   ]
  },
  {
   "cell_type": "markdown",
   "metadata": {},
   "source": [
    "#### Packaging snapshot data"
   ]
  },
  {
   "cell_type": "markdown",
   "metadata": {},
   "source": [
    "Batfish expects configuration files to be organized according to a folder structure outlined below. \n",
    "The names in bold are keywords and must be used in your directory structure. \n",
    "Your snapshot need not have all of these components, \n",
    "e.g., if you are not analyzing hosts or iptables configurations, the corresponding folders are not needed.\n",
    "\n",
    "***\n",
    "\n",
    "* snapshot _[top-level folder]_\n",
    "    * **configs** _[folder with configurations for network devices]_\n",
    "        * router1.cfg\n",
    "        * router2.cfg\n",
    "        * ...\n",
    "    * **hosts** _[folder with host configurations (e.g., pointers to their iptables files)]_\n",
    "        * host1.json _[see below for the expected format]_\n",
    "        * host2.json\n",
    "        * ...\n",
    "    * **iptables** _[folder with iptables configuration files; host JSON files should point to these files]_\n",
    "        * host1.iptables\n",
    "        * host2.iptables\n",
    "        * ...\n",
    "    * **batfish** _[supplemental information (not network device configuration) used by Batfish]_\n",
    "        * isp_config.json _[configuration file used to model Internet Service Providers (ISPs), see below for expected format]_\n",
    "\n",
    "*** \n",
    "\n",
    "See the [example snapshot](https://github.com/batfish/batfish/tree/master/networks/example) in the Batfish repository as an example. \n",
    "Note: For explanation convenience, this folder contains some extra files that are not used by Batfish, i.e., `example-network.png`.\n",
    "You do not need to include diagrams of the network with your snapshot(s).\n",
    "\n",
    "When you supply the snapshot as a zipped file, the top-level folder (called \"snapshot\" above) should be part of the zip archive. \n",
    "\n",
    "Details on packaging specific vendor data and supplementa batfish information [are described here](../formats.md)"
   ]
  },
  {
   "cell_type": "markdown",
   "metadata": {},
   "source": [
    "#### Initializing a new snapshot"
   ]
  },
  {
   "cell_type": "code",
   "execution_count": 6,
   "metadata": {},
   "outputs": [
    {
     "data": {
      "text/plain": [
       "'snapshot-2020-01-01'"
      ]
     },
     "execution_count": 6,
     "metadata": {},
     "output_type": "execute_result"
    }
   ],
   "source": [
    "SNAPSHOT_DIR = '../../networks/example'\n",
    "bf_init_snapshot(SNAPSHOT_DIR, name='snapshot-2020-01-01', overwrite=True)"
   ]
  },
  {
   "cell_type": "markdown",
   "metadata": {},
   "source": [
    "### Using an existing snapshot"
   ]
  },
  {
   "cell_type": "markdown",
   "metadata": {},
   "source": [
    "If you have a previously initialized snapshot that you would like to work with, you do not need to re-initialize it.\n",
    "Simply set the network and snapshot by name:"
   ]
  },
  {
   "cell_type": "code",
   "execution_count": 7,
   "metadata": {},
   "outputs": [
    {
     "data": {
      "text/plain": [
       "'snapshot-2020-01-01'"
      ]
     },
     "execution_count": 7,
     "metadata": {},
     "output_type": "execute_result"
    }
   ],
   "source": [
    "bf_set_network('example_dc')\n",
    "bf_set_snapshot('snapshot-2020-01-01')"
   ]
  },
  {
   "cell_type": "markdown",
   "metadata": {},
   "source": [
    "### Loading Questions\n",
    "\n",
    "Batfish exposes a series of *questions* to users. \n",
    "With the help of these questions you can examine data about you network as a whole, \n",
    "or individual devices, in a vendor-agnostic way.\n",
    "\n",
    "To load these questions from the services, run:"
   ]
  },
  {
   "cell_type": "code",
   "execution_count": 8,
   "metadata": {
    "pycharm": {
     "name": "#%%\n"
    }
   },
   "outputs": [],
   "source": [
    "load_questions()"
   ]
  },
  {
   "cell_type": "markdown",
   "metadata": {},
   "source": [
    "### Running Questions"
   ]
  },
  {
   "cell_type": "markdown",
   "metadata": {},
   "source": [
    "Now that you have initialized (or set) a snapshot, \n",
    "you can query the Batfish service to retrieve information about the snapshot.\n",
    "\n",
    "Note that while Batfish supports a wide variety of devices and configuration constructs, \n",
    "it may not fully support your configuration files. \n",
    "We always recommend checking the status of the snapshot you just initialized, by runnning `bfq.initIssues`:"
   ]
  },
  {
   "cell_type": "code",
   "execution_count": 9,
   "metadata": {
    "pycharm": {
     "name": "#%%\n"
    }
   },
   "outputs": [
    {
     "data": {
      "text/html": [
       "<div>\n",
       "<style scoped>\n",
       "    .dataframe tbody tr th:only-of-type {\n",
       "        vertical-align: middle;\n",
       "    }\n",
       "\n",
       "    .dataframe tbody tr th {\n",
       "        vertical-align: top;\n",
       "    }\n",
       "\n",
       "    .dataframe thead th {\n",
       "        text-align: right;\n",
       "    }\n",
       "</style>\n",
       "<table border=\"1\" class=\"dataframe tex2jax_ignore\">\n",
       "  <thead>\n",
       "    <tr style=\"text-align: right;\">\n",
       "      <th></th>\n",
       "      <th>Nodes</th>\n",
       "      <th>Source_Lines</th>\n",
       "      <th>Type</th>\n",
       "      <th>Details</th>\n",
       "      <th>Line_Text</th>\n",
       "      <th>Parser_Context</th>\n",
       "    </tr>\n",
       "  </thead>\n",
       "  <tbody>\n",
       "    <tr>\n",
       "      <th>0</th>\n",
       "      <td>['as1border1']</td>\n",
       "      <td>None</td>\n",
       "      <td>Convert warning (redflag)</td>\n",
       "      <td>Could not determine update source for BGP neighbor: '3.2.2.2'</td>\n",
       "      <td>None</td>\n",
       "      <td>None</td>\n",
       "    </tr>\n",
       "    <tr>\n",
       "      <th>1</th>\n",
       "      <td>['as1border1']</td>\n",
       "      <td>None</td>\n",
       "      <td>Convert warning (redflag)</td>\n",
       "      <td>Could not determine update source for BGP neighbor: '5.6.7.8'</td>\n",
       "      <td>None</td>\n",
       "      <td>None</td>\n",
       "    </tr>\n",
       "  </tbody>\n",
       "</table>\n",
       "</div>"
      ],
      "text/plain": [
       "            Nodes Source_Lines                       Type  \\\n",
       "0  ['as1border1']  None         Convert warning (redflag)   \n",
       "1  ['as1border1']  None         Convert warning (redflag)   \n",
       "\n",
       "                                                         Details Line_Text  \\\n",
       "0  Could not determine update source for BGP neighbor: '3.2.2.2'  None       \n",
       "1  Could not determine update source for BGP neighbor: '5.6.7.8'  None       \n",
       "\n",
       "  Parser_Context  \n",
       "0  None           \n",
       "1  None           "
      ]
     },
     "execution_count": 9,
     "metadata": {},
     "output_type": "execute_result"
    }
   ],
   "source": [
    "bfq.initIssues().answer()"
   ]
  },
  {
   "cell_type": "markdown",
   "metadata": {
    "pycharm": {
     "name": "#%% md\n"
    }
   },
   "source": [
    "This is the general pattern you will be using for many questions:\n",
    "\n",
    "* `bfq.<question_name>()` Creates a question (with parameters, if applicable).\n",
    "* `bfq.<question_name>().answer()` sends a query to Batfish service and returns the results of executing the question\n",
    "* `bfq.<question_name>().answer().frame()` converts the answer into a [Pandas dataframe](https://pandas.pydata.org/pandas-docs/stable/getting_started/dsintro.html#dataframe) for easy data manipulation\n",
    "\n",
    "These are the very basics of how to interact with the Batfish service.\n",
    "\n",
    "As a next step, explore [a variety of questions](../questions.rst) that allow you to analyze your network in great detail."
   ]
  }
 ],
 "metadata": {
  "celltoolbar": "Edit Metadata",
  "hide_input": false,
  "kernelspec": {
   "display_name": "Python 3",
   "language": "python",
   "name": "python3"
  },
  "language_info": {
   "codemirror_mode": {
    "name": "ipython",
    "version": 3
   },
   "file_extension": ".py",
   "mimetype": "text/x-python",
   "name": "python",
   "nbconvert_exporter": "python",
   "pygments_lexer": "ipython3",
   "version": "3.7.4"
  },
  "pycharm": {
   "stem_cell": {
    "cell_type": "raw",
    "source": [],
    "metadata": {
     "collapsed": false
    }
   }
  },
  "varInspector": {
   "cols": {
    "lenName": 16,
    "lenType": 16,
    "lenVar": 40
   },
   "kernels_config": {
    "python": {
     "delete_cmd_postfix": "",
     "delete_cmd_prefix": "del ",
     "library": "var_list.py",
     "varRefreshCmd": "print(var_dic_list())"
    },
    "r": {
     "delete_cmd_postfix": ") ",
     "delete_cmd_prefix": "rm(",
     "library": "var_list.r",
     "varRefreshCmd": "cat(var_dic_list()) "
    }
   },
   "types_to_exclude": [
    "module",
    "function",
    "builtin_function_or_method",
    "instance",
    "_Feature"
   ],
   "window_display": false
  }
 },
 "nbformat": 4,
 "nbformat_minor": 2
}
