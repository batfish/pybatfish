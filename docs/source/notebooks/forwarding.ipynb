{
 "cells": [
  {
   "cell_type": "code",
   "execution_count": 1,
   "metadata": {
    "nbsphinx": "hidden"
   },
   "outputs": [],
   "source": [
    "import pandas as pd\n",
    "from pybatfish.client.session import Session\n",
    "from pybatfish.datamodel import *\n",
    "\n",
    "pd.set_option(\"display.width\", 300) \n",
    "pd.set_option(\"display.max_columns\", 20) \n",
    "pd.set_option(\"display.max_rows\", 1000) \n",
    "pd.set_option(\"display.max_colwidth\", None)\n",
    "\n",
    "# Configure all pybatfish loggers to use WARN level\n",
    "import logging\n",
    "logging.getLogger('pybatfish').setLevel(logging.WARN)"
   ]
  },
  {
   "cell_type": "code",
   "execution_count": 2,
   "metadata": {
    "nbsphinx": "hidden"
   },
   "outputs": [],
   "source": [
    "bf = Session(\"localhost\")\n",
    "\n"
   ]
  },
  {
   "cell_type": "markdown",
   "id": "be364991",
   "metadata": {},
   "source": [
    "#### Packet Forwarding"
   ]
  },
  {
   "cell_type": "markdown",
   "id": "9ddf949f",
   "metadata": {},
   "source": [
    "* [Traceroute](#Traceroute)\n",
    "* [Bi-directional Traceroute](#Bi-directional-Traceroute)\n",
    "* [Reachability](#Reachability)\n",
    "* [Bi-directional Reachability](#Bi-directional-Reachability)\n",
    "* [Loop detection](#Loop-detection)\n",
    "* [Multipath Consistency for host-subnets](#Multipath-Consistency-for-host-subnets)\n",
    "* [Multipath Consistency for router loopbacks](#Multipath-Consistency-for-router-loopbacks)"
   ]
  },
  {
   "cell_type": "code",
   "execution_count": 3,
   "id": "5e8edd85",
   "metadata": {
    "nbsphinx": "hidden"
   },
   "outputs": [
    {
     "data": {
      "text/plain": [
       "'generate_questions'"
      ]
     },
     "execution_count": 3,
     "metadata": {},
     "output_type": "execute_result"
    }
   ],
   "source": [
    "bf.set_network('generate_questions')"
   ]
  },
  {
   "cell_type": "code",
   "execution_count": 4,
   "id": "8f0441d0",
   "metadata": {
    "nbsphinx": "hidden"
   },
   "outputs": [
    {
     "data": {
      "text/plain": [
       "'generate_questions'"
      ]
     },
     "execution_count": 4,
     "metadata": {},
     "output_type": "execute_result"
    }
   ],
   "source": [
    "bf.set_snapshot('generate_questions')"
   ]
  },
  {
   "cell_type": "markdown",
   "id": "165b95c8",
   "metadata": {},
   "source": [
    "##### Traceroute"
   ]
  },
  {
   "cell_type": "markdown",
   "id": "0c96f87e",
   "metadata": {},
   "source": [
    "Traces the path(s) for the specified flow."
   ]
  },
  {
   "cell_type": "markdown",
   "id": "4312d8dd",
   "metadata": {},
   "source": [
    "Performs a virtual traceroute in the network from a starting node. A destination IP and ingress (source) node must be specified. Other IP headers are given default values if unspecified.\n",
    "Unlike a real traceroute, this traceroute is directional. That is, for it to succeed, the reverse connectivity is not needed. This feature can help debug connectivity issues by decoupling the two directions."
   ]
  },
  {
   "cell_type": "markdown",
   "id": "5215de26",
   "metadata": {},
   "source": [
    "###### Inputs"
   ]
  },
  {
   "cell_type": "markdown",
   "id": "8ad1137d",
   "metadata": {},
   "source": [
    "Name | Description | Type | Optional | Default Value\n",
    "--- | --- | --- | --- | --- \n",
    "startLocation | Location (node and interface combination) to start tracing from. | [LocationSpec](../specifiers.md#location-specifier) | False | \n",
    "headers | Packet header constraints. | [HeaderConstraints](../datamodel.rst#pybatfish.datamodel.flow.HeaderConstraints) | False | \n",
    "maxTraces | Limit the number of traces returned. | int | True | \n",
    "ignoreFilters | If set, filters/ACLs encountered along the path are ignored. | bool | True | "
   ]
  },
  {
   "cell_type": "markdown",
   "id": "63191a4a",
   "metadata": {},
   "source": [
    "###### Invocation"
   ]
  },
  {
   "cell_type": "code",
   "execution_count": 5,
   "id": "f22ee8ba",
   "metadata": {},
   "outputs": [],
   "source": [
    "result = bf.q.traceroute(startLocation='@enter(as2border1[GigabitEthernet2/0])', headers=HeaderConstraints(dstIps='2.34.201.10', srcIps='8.8.8.8')).answer().frame()"
   ]
  },
  {
   "cell_type": "markdown",
   "id": "b7613e2a",
   "metadata": {},
   "source": [
    "###### Return Value"
   ]
  },
  {
   "cell_type": "markdown",
   "id": "cba05014",
   "metadata": {},
   "source": [
    "Name | Description | Type\n",
    "--- | --- | ---\n",
    "Flow | The flow | [Flow](../datamodel.rst#pybatfish.datamodel.flow.Flow)\n",
    "Traces | The traces for this flow | Set of [Trace](../datamodel.rst#pybatfish.datamodel.flow.Trace)\n",
    "TraceCount | The total number traces for this flow | int"
   ]
  },
  {
   "cell_type": "markdown",
   "id": "5a91abcd",
   "metadata": {},
   "source": [
    "Retrieving the flow definition"
   ]
  },
  {
   "cell_type": "code",
   "execution_count": 6,
   "id": "6a084c5b",
   "metadata": {},
   "outputs": [
    {
     "data": {
      "text/plain": [
       "0    start=as2border1 interface=GigabitEthernet2/0 [8.8.8.8:49152->2.34.201.10:33434 UDP length=512]\n",
       "Name: Flow, dtype: object"
      ]
     },
     "execution_count": 6,
     "metadata": {},
     "output_type": "execute_result"
    }
   ],
   "source": [
    "result.Flow"
   ]
  },
  {
   "cell_type": "markdown",
   "id": "773bc1f1",
   "metadata": {},
   "source": [
    "Retrieving the detailed Trace information"
   ]
  },
  {
   "cell_type": "code",
   "execution_count": 7,
   "id": "db9d132c",
   "metadata": {},
   "outputs": [
    {
     "data": {
      "text/plain": [
       "1"
      ]
     },
     "execution_count": 7,
     "metadata": {},
     "output_type": "execute_result"
    }
   ],
   "source": [
    "len(result.Traces)"
   ]
  },
  {
   "cell_type": "code",
   "execution_count": 8,
   "id": "9e9d1aa1",
   "metadata": {},
   "outputs": [
    {
     "data": {
      "text/html": [
       "<span style=\"color:#019612; text-weight:bold;\">DELIVERED_TO_SUBNET</span><br><strong>1</strong>. node: as2border1<br>&nbsp;&nbsp;RECEIVED(GigabitEthernet2/0)<br>&nbsp;&nbsp;FORWARDED(ARP IP: 2.12.11.2, Output Interface: GigabitEthernet1/0, Routes: [ospfE2 (Network: 2.34.201.0/24, Next Hop IP:2.12.11.2)])<br>&nbsp;&nbsp;TRANSMITTED(GigabitEthernet1/0)<br><strong>2</strong>. node: as2core1<br>&nbsp;&nbsp;RECEIVED(GigabitEthernet0/0)<br>&nbsp;&nbsp;FORWARDED(ARP IP: 2.23.12.3, Output Interface: GigabitEthernet3/0, Routes: [ospfE2 (Network: 2.34.201.0/24, Next Hop IP:2.23.12.3)])<br>&nbsp;&nbsp;TRANSMITTED(GigabitEthernet3/0)<br><strong>3</strong>. node: as2dist2<br>&nbsp;&nbsp;RECEIVED(GigabitEthernet1/0)<br>&nbsp;&nbsp;FORWARDED(ARP IP: AUTO/NONE(-1l), Output Interface: GigabitEthernet2/0, Routes: [connected (Network: 2.34.201.0/24, Next Hop IP:AUTO/NONE(-1l))])<br>&nbsp;&nbsp;TRANSMITTED(GigabitEthernet2/0)<br>&nbsp;&nbsp;DELIVERED_TO_SUBNET(Output Interface: GigabitEthernet2/0, Resolved Next Hop IP: 2.34.201.10)<br><br><span style=\"color:#019612; text-weight:bold;\">DELIVERED_TO_SUBNET</span><br><strong>1</strong>. node: as2border1<br>&nbsp;&nbsp;RECEIVED(GigabitEthernet2/0)<br>&nbsp;&nbsp;FORWARDED(ARP IP: 2.12.12.2, Output Interface: GigabitEthernet2/0, Routes: [ospfE2 (Network: 2.34.201.0/24, Next Hop IP:2.12.12.2)])<br>&nbsp;&nbsp;TRANSMITTED(GigabitEthernet2/0)<br><strong>2</strong>. node: as2core2<br>&nbsp;&nbsp;RECEIVED(GigabitEthernet1/0)<br>&nbsp;&nbsp;FORWARDED(ARP IP: 2.23.22.3, Output Interface: GigabitEthernet2/0, Routes: [ospfE2 (Network: 2.34.201.0/24, Next Hop IP:2.23.22.3)])<br>&nbsp;&nbsp;TRANSMITTED(GigabitEthernet2/0)<br><strong>3</strong>. node: as2dist2<br>&nbsp;&nbsp;RECEIVED(GigabitEthernet0/0)<br>&nbsp;&nbsp;FORWARDED(ARP IP: AUTO/NONE(-1l), Output Interface: GigabitEthernet2/0, Routes: [connected (Network: 2.34.201.0/24, Next Hop IP:AUTO/NONE(-1l))])<br>&nbsp;&nbsp;TRANSMITTED(GigabitEthernet2/0)<br>&nbsp;&nbsp;DELIVERED_TO_SUBNET(Output Interface: GigabitEthernet2/0, Resolved Next Hop IP: 2.34.201.10)"
      ],
      "text/plain": [
       "ListWrapper([((RECEIVED(GigabitEthernet2/0), FORWARDED(ARP IP: 2.12.11.2, Output Interface: GigabitEthernet1/0, Routes: [ospfE2 (Network: 2.34.201.0/24, Next Hop IP:2.12.11.2)]), TRANSMITTED(GigabitEthernet1/0)), (RECEIVED(GigabitEthernet0/0), FORWARDED(ARP IP: 2.23.12.3, Output Interface: GigabitEthernet3/0, Routes: [ospfE2 (Network: 2.34.201.0/24, Next Hop IP:2.23.12.3)]), TRANSMITTED(GigabitEthernet3/0)), (RECEIVED(GigabitEthernet1/0), FORWARDED(ARP IP: AUTO/NONE(-1l), Output Interface: GigabitEthernet2/0, Routes: [connected (Network: 2.34.201.0/24, Next Hop IP:AUTO/NONE(-1l))]), TRANSMITTED(GigabitEthernet2/0), DELIVERED_TO_SUBNET(Output Interface: GigabitEthernet2/0, Resolved Next Hop IP: 2.34.201.10))), ((RECEIVED(GigabitEthernet2/0), FORWARDED(ARP IP: 2.12.12.2, Output Interface: GigabitEthernet2/0, Routes: [ospfE2 (Network: 2.34.201.0/24, Next Hop IP:2.12.12.2)]), TRANSMITTED(GigabitEthernet2/0)), (RECEIVED(GigabitEthernet1/0), FORWARDED(ARP IP: 2.23.22.3, Output Interface: GigabitEthernet2/0, Routes: [ospfE2 (Network: 2.34.201.0/24, Next Hop IP:2.23.22.3)]), TRANSMITTED(GigabitEthernet2/0)), (RECEIVED(GigabitEthernet0/0), FORWARDED(ARP IP: AUTO/NONE(-1l), Output Interface: GigabitEthernet2/0, Routes: [connected (Network: 2.34.201.0/24, Next Hop IP:AUTO/NONE(-1l))]), TRANSMITTED(GigabitEthernet2/0), DELIVERED_TO_SUBNET(Output Interface: GigabitEthernet2/0, Resolved Next Hop IP: 2.34.201.10)))])"
      ]
     },
     "execution_count": 8,
     "metadata": {},
     "output_type": "execute_result"
    }
   ],
   "source": [
    "result.Traces[0]"
   ]
  },
  {
   "cell_type": "markdown",
   "id": "72cd056b",
   "metadata": {},
   "source": [
    "Evaluating the first Trace"
   ]
  },
  {
   "cell_type": "code",
   "execution_count": 9,
   "id": "e1e520e3",
   "metadata": {},
   "outputs": [
    {
     "data": {
      "text/html": [
       "<span style=\"color:#019612; text-weight:bold;\">DELIVERED_TO_SUBNET</span><br><strong>1</strong>. node: as2border1<br>&nbsp;&nbsp;RECEIVED(GigabitEthernet2/0)<br>&nbsp;&nbsp;FORWARDED(ARP IP: 2.12.11.2, Output Interface: GigabitEthernet1/0, Routes: [ospfE2 (Network: 2.34.201.0/24, Next Hop IP:2.12.11.2)])<br>&nbsp;&nbsp;TRANSMITTED(GigabitEthernet1/0)<br><strong>2</strong>. node: as2core1<br>&nbsp;&nbsp;RECEIVED(GigabitEthernet0/0)<br>&nbsp;&nbsp;FORWARDED(ARP IP: 2.23.12.3, Output Interface: GigabitEthernet3/0, Routes: [ospfE2 (Network: 2.34.201.0/24, Next Hop IP:2.23.12.3)])<br>&nbsp;&nbsp;TRANSMITTED(GigabitEthernet3/0)<br><strong>3</strong>. node: as2dist2<br>&nbsp;&nbsp;RECEIVED(GigabitEthernet1/0)<br>&nbsp;&nbsp;FORWARDED(ARP IP: AUTO/NONE(-1l), Output Interface: GigabitEthernet2/0, Routes: [connected (Network: 2.34.201.0/24, Next Hop IP:AUTO/NONE(-1l))])<br>&nbsp;&nbsp;TRANSMITTED(GigabitEthernet2/0)<br>&nbsp;&nbsp;DELIVERED_TO_SUBNET(Output Interface: GigabitEthernet2/0, Resolved Next Hop IP: 2.34.201.10)"
      ],
      "text/plain": [
       "Trace(disposition='DELIVERED_TO_SUBNET', hops=[Hop(node='as2border1', steps=[Step(detail=EnterInputIfaceStepDetail(inputInterface='GigabitEthernet2/0', inputVrf='default'), action='RECEIVED'), Step(detail=RoutingStepDetail(routes=[{'admin': 110, 'metric': 20, 'network': '2.34.201.0/24', 'nextHopIp': '2.12.11.2', 'protocol': 'ospfE2'}], arpIp='2.12.11.2', outputInterface='GigabitEthernet1/0'), action='FORWARDED'), Step(detail=ExitOutputIfaceStepDetail(outputInterface='GigabitEthernet1/0', transformedFlow=None), action='TRANSMITTED')]), Hop(node='as2core1', steps=[Step(detail=EnterInputIfaceStepDetail(inputInterface='GigabitEthernet0/0', inputVrf='default'), action='RECEIVED'), Step(detail=RoutingStepDetail(routes=[{'admin': 110, 'metric': 20, 'network': '2.34.201.0/24', 'nextHopIp': '2.23.12.3', 'protocol': 'ospfE2'}], arpIp='2.23.12.3', outputInterface='GigabitEthernet3/0'), action='FORWARDED'), Step(detail=ExitOutputIfaceStepDetail(outputInterface='GigabitEthernet3/0', transformedFlow=None), action='TRANSMITTED')]), Hop(node='as2dist2', steps=[Step(detail=EnterInputIfaceStepDetail(inputInterface='GigabitEthernet1/0', inputVrf='default'), action='RECEIVED'), Step(detail=RoutingStepDetail(routes=[{'admin': 0, 'metric': 0, 'network': '2.34.201.0/24', 'nextHopIp': 'AUTO/NONE(-1l)', 'protocol': 'connected'}], arpIp='AUTO/NONE(-1l)', outputInterface='GigabitEthernet2/0'), action='FORWARDED'), Step(detail=ExitOutputIfaceStepDetail(outputInterface='GigabitEthernet2/0', transformedFlow=None), action='TRANSMITTED'), Step(detail=DeliveredStepDetail(outputInterface='GigabitEthernet2/0', resolvedNexthopIp='2.34.201.10'), action='DELIVERED_TO_SUBNET')])])"
      ]
     },
     "execution_count": 9,
     "metadata": {},
     "output_type": "execute_result"
    }
   ],
   "source": [
    "result.Traces[0][0]"
   ]
  },
  {
   "cell_type": "markdown",
   "id": "1a6aeca2",
   "metadata": {},
   "source": [
    "Retrieving the disposition of the first Trace"
   ]
  },
  {
   "cell_type": "code",
   "execution_count": 10,
   "id": "34a0973d",
   "metadata": {},
   "outputs": [
    {
     "data": {
      "text/plain": [
       "'DELIVERED_TO_SUBNET'"
      ]
     },
     "execution_count": 10,
     "metadata": {},
     "output_type": "execute_result"
    }
   ],
   "source": [
    "result.Traces[0][0].disposition"
   ]
  },
  {
   "cell_type": "markdown",
   "id": "0a732769",
   "metadata": {},
   "source": [
    "Retrieving the first hop of the first Trace"
   ]
  },
  {
   "cell_type": "code",
   "execution_count": 11,
   "id": "0ee1f6a2",
   "metadata": {},
   "outputs": [
    {
     "data": {
      "text/html": [
       "node: as2border1<br>&nbsp;&nbsp;RECEIVED(GigabitEthernet2/0)<br>&nbsp;&nbsp;FORWARDED(ARP IP: 2.12.11.2, Output Interface: GigabitEthernet1/0, Routes: [ospfE2 (Network: 2.34.201.0/24, Next Hop IP:2.12.11.2)])<br>&nbsp;&nbsp;TRANSMITTED(GigabitEthernet1/0)"
      ],
      "text/plain": [
       "Hop(node='as2border1', steps=[Step(detail=EnterInputIfaceStepDetail(inputInterface='GigabitEthernet2/0', inputVrf='default'), action='RECEIVED'), Step(detail=RoutingStepDetail(routes=[{'admin': 110, 'metric': 20, 'network': '2.34.201.0/24', 'nextHopIp': '2.12.11.2', 'protocol': 'ospfE2'}], arpIp='2.12.11.2', outputInterface='GigabitEthernet1/0'), action='FORWARDED'), Step(detail=ExitOutputIfaceStepDetail(outputInterface='GigabitEthernet1/0', transformedFlow=None), action='TRANSMITTED')])"
      ]
     },
     "execution_count": 11,
     "metadata": {},
     "output_type": "execute_result"
    }
   ],
   "source": [
    "result.Traces[0][0][0]"
   ]
  },
  {
   "cell_type": "markdown",
   "id": "2df00a09",
   "metadata": {},
   "source": [
    "Retrieving the last hop of the first Trace"
   ]
  },
  {
   "cell_type": "code",
   "execution_count": 12,
   "id": "0bcfa1fe",
   "metadata": {},
   "outputs": [
    {
     "data": {
      "text/html": [
       "node: as2dist2<br>&nbsp;&nbsp;RECEIVED(GigabitEthernet1/0)<br>&nbsp;&nbsp;FORWARDED(ARP IP: AUTO/NONE(-1l), Output Interface: GigabitEthernet2/0, Routes: [connected (Network: 2.34.201.0/24, Next Hop IP:AUTO/NONE(-1l))])<br>&nbsp;&nbsp;TRANSMITTED(GigabitEthernet2/0)<br>&nbsp;&nbsp;DELIVERED_TO_SUBNET(Output Interface: GigabitEthernet2/0, Resolved Next Hop IP: 2.34.201.10)"
      ],
      "text/plain": [
       "Hop(node='as2dist2', steps=[Step(detail=EnterInputIfaceStepDetail(inputInterface='GigabitEthernet1/0', inputVrf='default'), action='RECEIVED'), Step(detail=RoutingStepDetail(routes=[{'admin': 0, 'metric': 0, 'network': '2.34.201.0/24', 'nextHopIp': 'AUTO/NONE(-1l)', 'protocol': 'connected'}], arpIp='AUTO/NONE(-1l)', outputInterface='GigabitEthernet2/0'), action='FORWARDED'), Step(detail=ExitOutputIfaceStepDetail(outputInterface='GigabitEthernet2/0', transformedFlow=None), action='TRANSMITTED'), Step(detail=DeliveredStepDetail(outputInterface='GigabitEthernet2/0', resolvedNexthopIp='2.34.201.10'), action='DELIVERED_TO_SUBNET')])"
      ]
     },
     "execution_count": 12,
     "metadata": {},
     "output_type": "execute_result"
    }
   ],
   "source": [
    "result.Traces[0][0][-1]"
   ]
  },
  {
   "cell_type": "code",
   "execution_count": 13,
   "id": "29a32379",
   "metadata": {
    "nbsphinx": "hidden"
   },
   "outputs": [
    {
     "data": {
      "text/plain": [
       "'generate_questions'"
      ]
     },
     "execution_count": 13,
     "metadata": {},
     "output_type": "execute_result"
    }
   ],
   "source": [
    "bf.set_network('generate_questions')"
   ]
  },
  {
   "cell_type": "code",
   "execution_count": 14,
   "id": "80efd5de",
   "metadata": {
    "nbsphinx": "hidden"
   },
   "outputs": [
    {
     "data": {
      "text/plain": [
       "'generate_questions'"
      ]
     },
     "execution_count": 14,
     "metadata": {},
     "output_type": "execute_result"
    }
   ],
   "source": [
    "bf.set_snapshot('generate_questions')"
   ]
  },
  {
   "cell_type": "markdown",
   "id": "306cf301",
   "metadata": {},
   "source": [
    "##### Bi-directional Traceroute"
   ]
  },
  {
   "cell_type": "markdown",
   "id": "04953cdf",
   "metadata": {},
   "source": [
    "Traces the path(s) for the specified flow, along with path(s) for reverse flows."
   ]
  },
  {
   "cell_type": "markdown",
   "id": "557a48dd",
   "metadata": {},
   "source": [
    "This question performs a virtual traceroute in the network from a starting node. A destination IP and ingress (source) node must be specified. Other IP headers are given default values if unspecified.\n",
    "If the trace succeeds, a traceroute is performed in the reverse direction."
   ]
  },
  {
   "cell_type": "markdown",
   "id": "426cc999",
   "metadata": {},
   "source": [
    "###### Inputs"
   ]
  },
  {
   "cell_type": "markdown",
   "id": "1c42c9f1",
   "metadata": {},
   "source": [
    "Name | Description | Type | Optional | Default Value\n",
    "--- | --- | --- | --- | --- \n",
    "startLocation | Location (node and interface combination) to start tracing from. | [LocationSpec](../specifiers.md#location-specifier) | False | \n",
    "headers | Packet header constraints. | [HeaderConstraints](../datamodel.rst#pybatfish.datamodel.flow.HeaderConstraints) | False | \n",
    "maxTraces | Limit the number of traces returned. | int | True | \n",
    "ignoreFilters | If set, filters/ACLs encountered along the path are ignored. | bool | True | "
   ]
  },
  {
   "cell_type": "markdown",
   "id": "e9cf3f9d",
   "metadata": {},
   "source": [
    "###### Invocation"
   ]
  },
  {
   "cell_type": "code",
   "execution_count": 15,
   "id": "101c72c4",
   "metadata": {},
   "outputs": [],
   "source": [
    "result = bf.q.bidirectionalTraceroute(startLocation='@enter(as2border1[GigabitEthernet2/0])', headers=HeaderConstraints(dstIps='2.34.201.10', srcIps='8.8.8.8')).answer().frame()"
   ]
  },
  {
   "cell_type": "markdown",
   "id": "de2a6a69",
   "metadata": {},
   "source": [
    "###### Return Value"
   ]
  },
  {
   "cell_type": "markdown",
   "id": "d35ca732",
   "metadata": {},
   "source": [
    "Name | Description | Type\n",
    "--- | --- | ---\n",
    "Forward_Flow | The forward flow. | [Flow](../datamodel.rst#pybatfish.datamodel.flow.Flow)\n",
    "Forward_Traces | The forward traces. | List of [Trace](../datamodel.rst#pybatfish.datamodel.flow.Trace)\n",
    "New_Sessions | Sessions initialized by the forward trace. | List of str\n",
    "Reverse_Flow | The reverse flow. | [Flow](../datamodel.rst#pybatfish.datamodel.flow.Flow)\n",
    "Reverse_Traces | The reverse traces. | List of [Trace](../datamodel.rst#pybatfish.datamodel.flow.Trace)"
   ]
  },
  {
   "cell_type": "markdown",
   "id": "317f954e",
   "metadata": {},
   "source": [
    "Retrieving the Forward flow definition"
   ]
  },
  {
   "cell_type": "code",
   "execution_count": 16,
   "id": "9c9cdf60",
   "metadata": {},
   "outputs": [
    {
     "data": {
      "text/plain": [
       "0    start=as2border1 interface=GigabitEthernet2/0 [8.8.8.8:49152->2.34.201.10:33434 UDP length=512]\n",
       "Name: Forward_Flow, dtype: object"
      ]
     },
     "execution_count": 16,
     "metadata": {},
     "output_type": "execute_result"
    }
   ],
   "source": [
    "result.Forward_Flow"
   ]
  },
  {
   "cell_type": "markdown",
   "id": "261a964e",
   "metadata": {},
   "source": [
    "Retrieving the detailed Forward Trace information"
   ]
  },
  {
   "cell_type": "code",
   "execution_count": 17,
   "id": "c738d335",
   "metadata": {},
   "outputs": [
    {
     "data": {
      "text/plain": [
       "1"
      ]
     },
     "execution_count": 17,
     "metadata": {},
     "output_type": "execute_result"
    }
   ],
   "source": [
    "len(result.Forward_Traces)"
   ]
  },
  {
   "cell_type": "code",
   "execution_count": 18,
   "id": "ea21a888",
   "metadata": {},
   "outputs": [
    {
     "data": {
      "text/html": [
       "<span style=\"color:#019612; text-weight:bold;\">DELIVERED_TO_SUBNET</span><br><strong>1</strong>. node: as2border1<br>&nbsp;&nbsp;RECEIVED(GigabitEthernet2/0)<br>&nbsp;&nbsp;FORWARDED(ARP IP: 2.12.11.2, Output Interface: GigabitEthernet1/0, Routes: [ospfE2 (Network: 2.34.201.0/24, Next Hop IP:2.12.11.2)])<br>&nbsp;&nbsp;TRANSMITTED(GigabitEthernet1/0)<br><strong>2</strong>. node: as2core1<br>&nbsp;&nbsp;RECEIVED(GigabitEthernet0/0)<br>&nbsp;&nbsp;FORWARDED(ARP IP: 2.23.12.3, Output Interface: GigabitEthernet3/0, Routes: [ospfE2 (Network: 2.34.201.0/24, Next Hop IP:2.23.12.3)])<br>&nbsp;&nbsp;TRANSMITTED(GigabitEthernet3/0)<br><strong>3</strong>. node: as2dist2<br>&nbsp;&nbsp;RECEIVED(GigabitEthernet1/0)<br>&nbsp;&nbsp;FORWARDED(ARP IP: AUTO/NONE(-1l), Output Interface: GigabitEthernet2/0, Routes: [connected (Network: 2.34.201.0/24, Next Hop IP:AUTO/NONE(-1l))])<br>&nbsp;&nbsp;TRANSMITTED(GigabitEthernet2/0)<br>&nbsp;&nbsp;DELIVERED_TO_SUBNET(Output Interface: GigabitEthernet2/0, Resolved Next Hop IP: 2.34.201.10)<br><br><span style=\"color:#019612; text-weight:bold;\">DELIVERED_TO_SUBNET</span><br><strong>1</strong>. node: as2border1<br>&nbsp;&nbsp;RECEIVED(GigabitEthernet2/0)<br>&nbsp;&nbsp;FORWARDED(ARP IP: 2.12.12.2, Output Interface: GigabitEthernet2/0, Routes: [ospfE2 (Network: 2.34.201.0/24, Next Hop IP:2.12.12.2)])<br>&nbsp;&nbsp;TRANSMITTED(GigabitEthernet2/0)<br><strong>2</strong>. node: as2core2<br>&nbsp;&nbsp;RECEIVED(GigabitEthernet1/0)<br>&nbsp;&nbsp;FORWARDED(ARP IP: 2.23.22.3, Output Interface: GigabitEthernet2/0, Routes: [ospfE2 (Network: 2.34.201.0/24, Next Hop IP:2.23.22.3)])<br>&nbsp;&nbsp;TRANSMITTED(GigabitEthernet2/0)<br><strong>3</strong>. node: as2dist2<br>&nbsp;&nbsp;RECEIVED(GigabitEthernet0/0)<br>&nbsp;&nbsp;FORWARDED(ARP IP: AUTO/NONE(-1l), Output Interface: GigabitEthernet2/0, Routes: [connected (Network: 2.34.201.0/24, Next Hop IP:AUTO/NONE(-1l))])<br>&nbsp;&nbsp;TRANSMITTED(GigabitEthernet2/0)<br>&nbsp;&nbsp;DELIVERED_TO_SUBNET(Output Interface: GigabitEthernet2/0, Resolved Next Hop IP: 2.34.201.10)"
      ],
      "text/plain": [
       "ListWrapper([((RECEIVED(GigabitEthernet2/0), FORWARDED(ARP IP: 2.12.11.2, Output Interface: GigabitEthernet1/0, Routes: [ospfE2 (Network: 2.34.201.0/24, Next Hop IP:2.12.11.2)]), TRANSMITTED(GigabitEthernet1/0)), (RECEIVED(GigabitEthernet0/0), FORWARDED(ARP IP: 2.23.12.3, Output Interface: GigabitEthernet3/0, Routes: [ospfE2 (Network: 2.34.201.0/24, Next Hop IP:2.23.12.3)]), TRANSMITTED(GigabitEthernet3/0)), (RECEIVED(GigabitEthernet1/0), FORWARDED(ARP IP: AUTO/NONE(-1l), Output Interface: GigabitEthernet2/0, Routes: [connected (Network: 2.34.201.0/24, Next Hop IP:AUTO/NONE(-1l))]), TRANSMITTED(GigabitEthernet2/0), DELIVERED_TO_SUBNET(Output Interface: GigabitEthernet2/0, Resolved Next Hop IP: 2.34.201.10))), ((RECEIVED(GigabitEthernet2/0), FORWARDED(ARP IP: 2.12.12.2, Output Interface: GigabitEthernet2/0, Routes: [ospfE2 (Network: 2.34.201.0/24, Next Hop IP:2.12.12.2)]), TRANSMITTED(GigabitEthernet2/0)), (RECEIVED(GigabitEthernet1/0), FORWARDED(ARP IP: 2.23.22.3, Output Interface: GigabitEthernet2/0, Routes: [ospfE2 (Network: 2.34.201.0/24, Next Hop IP:2.23.22.3)]), TRANSMITTED(GigabitEthernet2/0)), (RECEIVED(GigabitEthernet0/0), FORWARDED(ARP IP: AUTO/NONE(-1l), Output Interface: GigabitEthernet2/0, Routes: [connected (Network: 2.34.201.0/24, Next Hop IP:AUTO/NONE(-1l))]), TRANSMITTED(GigabitEthernet2/0), DELIVERED_TO_SUBNET(Output Interface: GigabitEthernet2/0, Resolved Next Hop IP: 2.34.201.10)))])"
      ]
     },
     "execution_count": 18,
     "metadata": {},
     "output_type": "execute_result"
    }
   ],
   "source": [
    "result.Forward_Traces[0]"
   ]
  },
  {
   "cell_type": "markdown",
   "id": "6ee29f1d",
   "metadata": {},
   "source": [
    "Evaluating the first Forward Trace"
   ]
  },
  {
   "cell_type": "code",
   "execution_count": 19,
   "id": "7e98f5b3",
   "metadata": {},
   "outputs": [
    {
     "data": {
      "text/html": [
       "<span style=\"color:#019612; text-weight:bold;\">DELIVERED_TO_SUBNET</span><br><strong>1</strong>. node: as2border1<br>&nbsp;&nbsp;RECEIVED(GigabitEthernet2/0)<br>&nbsp;&nbsp;FORWARDED(ARP IP: 2.12.11.2, Output Interface: GigabitEthernet1/0, Routes: [ospfE2 (Network: 2.34.201.0/24, Next Hop IP:2.12.11.2)])<br>&nbsp;&nbsp;TRANSMITTED(GigabitEthernet1/0)<br><strong>2</strong>. node: as2core1<br>&nbsp;&nbsp;RECEIVED(GigabitEthernet0/0)<br>&nbsp;&nbsp;FORWARDED(ARP IP: 2.23.12.3, Output Interface: GigabitEthernet3/0, Routes: [ospfE2 (Network: 2.34.201.0/24, Next Hop IP:2.23.12.3)])<br>&nbsp;&nbsp;TRANSMITTED(GigabitEthernet3/0)<br><strong>3</strong>. node: as2dist2<br>&nbsp;&nbsp;RECEIVED(GigabitEthernet1/0)<br>&nbsp;&nbsp;FORWARDED(ARP IP: AUTO/NONE(-1l), Output Interface: GigabitEthernet2/0, Routes: [connected (Network: 2.34.201.0/24, Next Hop IP:AUTO/NONE(-1l))])<br>&nbsp;&nbsp;TRANSMITTED(GigabitEthernet2/0)<br>&nbsp;&nbsp;DELIVERED_TO_SUBNET(Output Interface: GigabitEthernet2/0, Resolved Next Hop IP: 2.34.201.10)"
      ],
      "text/plain": [
       "Trace(disposition='DELIVERED_TO_SUBNET', hops=[Hop(node='as2border1', steps=[Step(detail=EnterInputIfaceStepDetail(inputInterface='GigabitEthernet2/0', inputVrf='default'), action='RECEIVED'), Step(detail=RoutingStepDetail(routes=[{'admin': 110, 'metric': 20, 'network': '2.34.201.0/24', 'nextHopIp': '2.12.11.2', 'protocol': 'ospfE2'}], arpIp='2.12.11.2', outputInterface='GigabitEthernet1/0'), action='FORWARDED'), Step(detail=ExitOutputIfaceStepDetail(outputInterface='GigabitEthernet1/0', transformedFlow=None), action='TRANSMITTED')]), Hop(node='as2core1', steps=[Step(detail=EnterInputIfaceStepDetail(inputInterface='GigabitEthernet0/0', inputVrf='default'), action='RECEIVED'), Step(detail=RoutingStepDetail(routes=[{'admin': 110, 'metric': 20, 'network': '2.34.201.0/24', 'nextHopIp': '2.23.12.3', 'protocol': 'ospfE2'}], arpIp='2.23.12.3', outputInterface='GigabitEthernet3/0'), action='FORWARDED'), Step(detail=ExitOutputIfaceStepDetail(outputInterface='GigabitEthernet3/0', transformedFlow=None), action='TRANSMITTED')]), Hop(node='as2dist2', steps=[Step(detail=EnterInputIfaceStepDetail(inputInterface='GigabitEthernet1/0', inputVrf='default'), action='RECEIVED'), Step(detail=RoutingStepDetail(routes=[{'admin': 0, 'metric': 0, 'network': '2.34.201.0/24', 'nextHopIp': 'AUTO/NONE(-1l)', 'protocol': 'connected'}], arpIp='AUTO/NONE(-1l)', outputInterface='GigabitEthernet2/0'), action='FORWARDED'), Step(detail=ExitOutputIfaceStepDetail(outputInterface='GigabitEthernet2/0', transformedFlow=None), action='TRANSMITTED'), Step(detail=DeliveredStepDetail(outputInterface='GigabitEthernet2/0', resolvedNexthopIp='2.34.201.10'), action='DELIVERED_TO_SUBNET')])])"
      ]
     },
     "execution_count": 19,
     "metadata": {},
     "output_type": "execute_result"
    }
   ],
   "source": [
    "result.Forward_Traces[0][0]"
   ]
  },
  {
   "cell_type": "markdown",
   "id": "a46a1329",
   "metadata": {},
   "source": [
    "Retrieving the disposition of the first Forward Trace"
   ]
  },
  {
   "cell_type": "code",
   "execution_count": 20,
   "id": "3a550d4f",
   "metadata": {},
   "outputs": [
    {
     "data": {
      "text/plain": [
       "'DELIVERED_TO_SUBNET'"
      ]
     },
     "execution_count": 20,
     "metadata": {},
     "output_type": "execute_result"
    }
   ],
   "source": [
    "result.Forward_Traces[0][0].disposition"
   ]
  },
  {
   "cell_type": "markdown",
   "id": "00ae8439",
   "metadata": {},
   "source": [
    "Retrieving the first hop of the first Forward Trace"
   ]
  },
  {
   "cell_type": "code",
   "execution_count": 21,
   "id": "7c1e7e69",
   "metadata": {},
   "outputs": [
    {
     "data": {
      "text/html": [
       "node: as2border1<br>&nbsp;&nbsp;RECEIVED(GigabitEthernet2/0)<br>&nbsp;&nbsp;FORWARDED(ARP IP: 2.12.11.2, Output Interface: GigabitEthernet1/0, Routes: [ospfE2 (Network: 2.34.201.0/24, Next Hop IP:2.12.11.2)])<br>&nbsp;&nbsp;TRANSMITTED(GigabitEthernet1/0)"
      ],
      "text/plain": [
       "Hop(node='as2border1', steps=[Step(detail=EnterInputIfaceStepDetail(inputInterface='GigabitEthernet2/0', inputVrf='default'), action='RECEIVED'), Step(detail=RoutingStepDetail(routes=[{'admin': 110, 'metric': 20, 'network': '2.34.201.0/24', 'nextHopIp': '2.12.11.2', 'protocol': 'ospfE2'}], arpIp='2.12.11.2', outputInterface='GigabitEthernet1/0'), action='FORWARDED'), Step(detail=ExitOutputIfaceStepDetail(outputInterface='GigabitEthernet1/0', transformedFlow=None), action='TRANSMITTED')])"
      ]
     },
     "execution_count": 21,
     "metadata": {},
     "output_type": "execute_result"
    }
   ],
   "source": [
    "result.Forward_Traces[0][0][0]"
   ]
  },
  {
   "cell_type": "markdown",
   "id": "17346d8a",
   "metadata": {},
   "source": [
    "Retrieving the last hop of the first Forward Trace"
   ]
  },
  {
   "cell_type": "code",
   "execution_count": 22,
   "id": "a87cba52",
   "metadata": {},
   "outputs": [
    {
     "data": {
      "text/html": [
       "node: as2dist2<br>&nbsp;&nbsp;RECEIVED(GigabitEthernet1/0)<br>&nbsp;&nbsp;FORWARDED(ARP IP: AUTO/NONE(-1l), Output Interface: GigabitEthernet2/0, Routes: [connected (Network: 2.34.201.0/24, Next Hop IP:AUTO/NONE(-1l))])<br>&nbsp;&nbsp;TRANSMITTED(GigabitEthernet2/0)<br>&nbsp;&nbsp;DELIVERED_TO_SUBNET(Output Interface: GigabitEthernet2/0, Resolved Next Hop IP: 2.34.201.10)"
      ],
      "text/plain": [
       "Hop(node='as2dist2', steps=[Step(detail=EnterInputIfaceStepDetail(inputInterface='GigabitEthernet1/0', inputVrf='default'), action='RECEIVED'), Step(detail=RoutingStepDetail(routes=[{'admin': 0, 'metric': 0, 'network': '2.34.201.0/24', 'nextHopIp': 'AUTO/NONE(-1l)', 'protocol': 'connected'}], arpIp='AUTO/NONE(-1l)', outputInterface='GigabitEthernet2/0'), action='FORWARDED'), Step(detail=ExitOutputIfaceStepDetail(outputInterface='GigabitEthernet2/0', transformedFlow=None), action='TRANSMITTED'), Step(detail=DeliveredStepDetail(outputInterface='GigabitEthernet2/0', resolvedNexthopIp='2.34.201.10'), action='DELIVERED_TO_SUBNET')])"
      ]
     },
     "execution_count": 22,
     "metadata": {},
     "output_type": "execute_result"
    }
   ],
   "source": [
    "result.Forward_Traces[0][0][-1]"
   ]
  },
  {
   "cell_type": "markdown",
   "id": "26e6d3d7",
   "metadata": {},
   "source": [
    "Retrieving the Return flow definition"
   ]
  },
  {
   "cell_type": "code",
   "execution_count": 23,
   "id": "de8ded8a",
   "metadata": {},
   "outputs": [
    {
     "data": {
      "text/plain": [
       "0    start=as2dist2 interface=GigabitEthernet2/0 [2.34.201.10:33434->8.8.8.8:49152 UDP length=512]\n",
       "Name: Reverse_Flow, dtype: object"
      ]
     },
     "execution_count": 23,
     "metadata": {},
     "output_type": "execute_result"
    }
   ],
   "source": [
    "result.Reverse_Flow"
   ]
  },
  {
   "cell_type": "markdown",
   "id": "0c6a2f23",
   "metadata": {},
   "source": [
    "Retrieving the detailed Return Trace information"
   ]
  },
  {
   "cell_type": "code",
   "execution_count": 24,
   "id": "4443b44e",
   "metadata": {},
   "outputs": [
    {
     "data": {
      "text/plain": [
       "1"
      ]
     },
     "execution_count": 24,
     "metadata": {},
     "output_type": "execute_result"
    }
   ],
   "source": [
    "len(result.Reverse_Traces)"
   ]
  },
  {
   "cell_type": "code",
   "execution_count": 25,
   "id": "c1ba825b",
   "metadata": {},
   "outputs": [
    {
     "data": {
      "text/html": [
       "<span style=\"color:#7c020e; text-weight:bold;\">NO_ROUTE</span><br><strong>1</strong>. node: as2dist2<br>&nbsp;&nbsp;RECEIVED(GigabitEthernet2/0)<br>&nbsp;&nbsp;NO_ROUTE"
      ],
      "text/plain": [
       "ListWrapper([((RECEIVED(GigabitEthernet2/0), NO_ROUTE))])"
      ]
     },
     "execution_count": 25,
     "metadata": {},
     "output_type": "execute_result"
    }
   ],
   "source": [
    "result.Reverse_Traces[0]"
   ]
  },
  {
   "cell_type": "markdown",
   "id": "a8de95d3",
   "metadata": {},
   "source": [
    "Evaluating the first Reverse Trace"
   ]
  },
  {
   "cell_type": "code",
   "execution_count": 26,
   "id": "931d559f",
   "metadata": {},
   "outputs": [
    {
     "data": {
      "text/html": [
       "<span style=\"color:#7c020e; text-weight:bold;\">NO_ROUTE</span><br><strong>1</strong>. node: as2dist2<br>&nbsp;&nbsp;RECEIVED(GigabitEthernet2/0)<br>&nbsp;&nbsp;NO_ROUTE"
      ],
      "text/plain": [
       "Trace(disposition='NO_ROUTE', hops=[Hop(node='as2dist2', steps=[Step(detail=EnterInputIfaceStepDetail(inputInterface='GigabitEthernet2/0', inputVrf='default'), action='RECEIVED'), Step(detail=RoutingStepDetail(routes=[], arpIp=None, outputInterface=None), action='NO_ROUTE')])])"
      ]
     },
     "execution_count": 26,
     "metadata": {},
     "output_type": "execute_result"
    }
   ],
   "source": [
    "result.Reverse_Traces[0][0]"
   ]
  },
  {
   "cell_type": "markdown",
   "id": "319f397d",
   "metadata": {},
   "source": [
    "Retrieving the disposition of the first Reverse Trace"
   ]
  },
  {
   "cell_type": "code",
   "execution_count": 27,
   "id": "f3387e33",
   "metadata": {},
   "outputs": [
    {
     "data": {
      "text/plain": [
       "'NO_ROUTE'"
      ]
     },
     "execution_count": 27,
     "metadata": {},
     "output_type": "execute_result"
    }
   ],
   "source": [
    "result.Reverse_Traces[0][0].disposition"
   ]
  },
  {
   "cell_type": "markdown",
   "id": "8d6ddcf8",
   "metadata": {},
   "source": [
    "Retrieving the first hop of the first Reverse Trace"
   ]
  },
  {
   "cell_type": "code",
   "execution_count": 28,
   "id": "bd97c2d6",
   "metadata": {},
   "outputs": [
    {
     "data": {
      "text/html": [
       "node: as2dist2<br>&nbsp;&nbsp;RECEIVED(GigabitEthernet2/0)<br>&nbsp;&nbsp;NO_ROUTE"
      ],
      "text/plain": [
       "Hop(node='as2dist2', steps=[Step(detail=EnterInputIfaceStepDetail(inputInterface='GigabitEthernet2/0', inputVrf='default'), action='RECEIVED'), Step(detail=RoutingStepDetail(routes=[], arpIp=None, outputInterface=None), action='NO_ROUTE')])"
      ]
     },
     "execution_count": 28,
     "metadata": {},
     "output_type": "execute_result"
    }
   ],
   "source": [
    "result.Reverse_Traces[0][0][0]"
   ]
  },
  {
   "cell_type": "markdown",
   "id": "be59a0cf",
   "metadata": {},
   "source": [
    "Retrieving the last hop of the first Reverse Trace"
   ]
  },
  {
   "cell_type": "code",
   "execution_count": 29,
   "id": "ea1a5035",
   "metadata": {},
   "outputs": [
    {
     "data": {
      "text/html": [
       "node: as2dist2<br>&nbsp;&nbsp;RECEIVED(GigabitEthernet2/0)<br>&nbsp;&nbsp;NO_ROUTE"
      ],
      "text/plain": [
       "Hop(node='as2dist2', steps=[Step(detail=EnterInputIfaceStepDetail(inputInterface='GigabitEthernet2/0', inputVrf='default'), action='RECEIVED'), Step(detail=RoutingStepDetail(routes=[], arpIp=None, outputInterface=None), action='NO_ROUTE')])"
      ]
     },
     "execution_count": 29,
     "metadata": {},
     "output_type": "execute_result"
    }
   ],
   "source": [
    "result.Reverse_Traces[0][0][-1]"
   ]
  },
  {
   "cell_type": "code",
   "execution_count": 30,
   "id": "21ac66c7",
   "metadata": {
    "nbsphinx": "hidden"
   },
   "outputs": [
    {
     "data": {
      "text/plain": [
       "'generate_questions'"
      ]
     },
     "execution_count": 30,
     "metadata": {},
     "output_type": "execute_result"
    }
   ],
   "source": [
    "bf.set_network('generate_questions')"
   ]
  },
  {
   "cell_type": "code",
   "execution_count": 31,
   "id": "c05b80bc",
   "metadata": {
    "nbsphinx": "hidden"
   },
   "outputs": [
    {
     "data": {
      "text/plain": [
       "'generate_questions'"
      ]
     },
     "execution_count": 31,
     "metadata": {},
     "output_type": "execute_result"
    }
   ],
   "source": [
    "bf.set_snapshot('generate_questions')"
   ]
  },
  {
   "cell_type": "markdown",
   "id": "0fb5f9ac",
   "metadata": {},
   "source": [
    "##### Reachability"
   ]
  },
  {
   "cell_type": "markdown",
   "id": "2f822572",
   "metadata": {},
   "source": [
    "Finds flows that match the specified path and header space conditions."
   ]
  },
  {
   "cell_type": "markdown",
   "id": "37f156d7",
   "metadata": {},
   "source": [
    "Searches across all flows that match the specified conditions and returns examples of such flows. This question can be used to ensure that certain services are globally accessible and parts of the network are perfectly isolated from each other."
   ]
  },
  {
   "cell_type": "markdown",
   "id": "09841017",
   "metadata": {},
   "source": [
    "###### Inputs"
   ]
  },
  {
   "cell_type": "markdown",
   "id": "b9e63613",
   "metadata": {},
   "source": [
    "Name | Description | Type | Optional | Default Value\n",
    "--- | --- | --- | --- | --- \n",
    "pathConstraints | Constraint the path a flow can take (start/end/transit locations). | [PathConstraints](../datamodel.rst#pybatfish.datamodel.flow.PathConstraints) | True | \n",
    "headers | Packet header constraints. | [HeaderConstraints](../datamodel.rst#pybatfish.datamodel.flow.HeaderConstraints) | True | \n",
    "actions | Only return flows for which the disposition is from this set. | [DispositionSpec](../specifiers.md#disposition-specifier) | True | success\n",
    "maxTraces | Limit the number of traces returned. | int | True | \n",
    "invertSearch | Search for packet headers outside the specified headerspace, rather than inside the space. | bool | True | \n",
    "ignoreFilters | Do not apply filters/ACLs during analysis. | bool | True | "
   ]
  },
  {
   "cell_type": "markdown",
   "id": "465558d7",
   "metadata": {},
   "source": [
    "###### Invocation"
   ]
  },
  {
   "cell_type": "code",
   "execution_count": 32,
   "id": "c7f589c0",
   "metadata": {},
   "outputs": [],
   "source": [
    "result = bf.q.reachability(pathConstraints=PathConstraints(startLocation = '/as2/'), headers=HeaderConstraints(dstIps='host1', srcIps='0.0.0.0/0', applications='DNS'), actions='SUCCESS').answer().frame()"
   ]
  },
  {
   "cell_type": "markdown",
   "id": "d4b927fe",
   "metadata": {},
   "source": [
    "###### Return Value"
   ]
  },
  {
   "cell_type": "markdown",
   "id": "3c5c03ce",
   "metadata": {},
   "source": [
    "Name | Description | Type\n",
    "--- | --- | ---\n",
    "Flow | The flow | [Flow](../datamodel.rst#pybatfish.datamodel.flow.Flow)\n",
    "Traces | The traces for this flow | Set of [Trace](../datamodel.rst#pybatfish.datamodel.flow.Trace)\n",
    "TraceCount | The total number traces for this flow | int"
   ]
  },
  {
   "cell_type": "markdown",
   "id": "be5c5320",
   "metadata": {},
   "source": [
    "Retrieving the flow definition"
   ]
  },
  {
   "cell_type": "code",
   "execution_count": 33,
   "id": "71be4e7a",
   "metadata": {},
   "outputs": [
    {
     "data": {
      "text/plain": [
       "0    start=as2border1 [10.0.0.0:49152->2.128.0.101:53 UDP length=512]\n",
       "1    start=as2border2 [10.0.0.0:49152->2.128.0.101:53 UDP length=512]\n",
       "2      start=as2core1 [10.0.0.0:49152->2.128.0.101:53 UDP length=512]\n",
       "3      start=as2core2 [10.0.0.0:49152->2.128.0.101:53 UDP length=512]\n",
       "4      start=as2dept1 [10.0.0.0:49152->2.128.0.101:53 UDP length=512]\n",
       "5      start=as2dist1 [10.0.0.0:49152->2.128.0.101:53 UDP length=512]\n",
       "6      start=as2dist2 [10.0.0.0:49152->2.128.0.101:53 UDP length=512]\n",
       "Name: Flow, dtype: object"
      ]
     },
     "execution_count": 33,
     "metadata": {},
     "output_type": "execute_result"
    }
   ],
   "source": [
    "result.Flow"
   ]
  },
  {
   "cell_type": "markdown",
   "id": "18c2f8ed",
   "metadata": {},
   "source": [
    "Retrieving the detailed Trace information"
   ]
  },
  {
   "cell_type": "code",
   "execution_count": 34,
   "id": "4a16252c",
   "metadata": {},
   "outputs": [
    {
     "data": {
      "text/plain": [
       "7"
      ]
     },
     "execution_count": 34,
     "metadata": {},
     "output_type": "execute_result"
    }
   ],
   "source": [
    "len(result.Traces)"
   ]
  },
  {
   "cell_type": "code",
   "execution_count": 35,
   "id": "7d217ac5",
   "metadata": {},
   "outputs": [
    {
     "data": {
      "text/html": [
       "<span style=\"color:#019612; text-weight:bold;\">ACCEPTED</span><br><strong>1</strong>. node: as2border1<br>&nbsp;&nbsp;ORIGINATED(default)<br>&nbsp;&nbsp;FORWARDED(ARP IP: 2.12.11.2, Output Interface: GigabitEthernet1/0, Routes: [ibgp (Network: 2.128.0.0/24, Next Hop IP:2.34.101.4),ibgp (Network: 2.128.0.0/24, Next Hop IP:2.34.201.4)])<br>&nbsp;&nbsp;TRANSMITTED(GigabitEthernet1/0)<br><strong>2</strong>. node: as2core1<br>&nbsp;&nbsp;RECEIVED(GigabitEthernet0/0)<br>&nbsp;&nbsp;FORWARDED(ARP IP: 2.23.11.3, Output Interface: GigabitEthernet2/0, Routes: [ibgp (Network: 2.128.0.0/24, Next Hop IP:2.34.101.4)])<br>&nbsp;&nbsp;TRANSMITTED(GigabitEthernet2/0)<br><strong>3</strong>. node: as2dist1<br>&nbsp;&nbsp;RECEIVED(GigabitEthernet0/0)<br>&nbsp;&nbsp;FORWARDED(ARP IP: 2.34.101.4, Output Interface: GigabitEthernet2/0, Routes: [bgp (Network: 2.128.0.0/24, Next Hop IP:2.34.101.4)])<br>&nbsp;&nbsp;TRANSMITTED(GigabitEthernet2/0)<br><strong>4</strong>. node: as2dept1<br>&nbsp;&nbsp;RECEIVED(GigabitEthernet0/0)<br>&nbsp;&nbsp;FORWARDED(ARP IP: AUTO/NONE(-1l), Output Interface: GigabitEthernet2/0, Routes: [connected (Network: 2.128.0.0/24, Next Hop IP:AUTO/NONE(-1l))])<br>&nbsp;&nbsp;TRANSMITTED(GigabitEthernet2/0)<br><strong>5</strong>. node: host1<br>&nbsp;&nbsp;RECEIVED(eth0)<br>&nbsp;&nbsp;PERMITTED(filter::INPUT (INGRESS_FILTER))<br>&nbsp;&nbsp;ACCEPTED(eth0)<br><br><span style=\"color:#019612; text-weight:bold;\">ACCEPTED</span><br><strong>1</strong>. node: as2border1<br>&nbsp;&nbsp;ORIGINATED(default)<br>&nbsp;&nbsp;FORWARDED(ARP IP: 2.12.11.2, Output Interface: GigabitEthernet1/0, Routes: [ibgp (Network: 2.128.0.0/24, Next Hop IP:2.34.101.4),ibgp (Network: 2.128.0.0/24, Next Hop IP:2.34.201.4)])<br>&nbsp;&nbsp;TRANSMITTED(GigabitEthernet1/0)<br><strong>2</strong>. node: as2core1<br>&nbsp;&nbsp;RECEIVED(GigabitEthernet0/0)<br>&nbsp;&nbsp;FORWARDED(ARP IP: 2.23.12.3, Output Interface: GigabitEthernet3/0, Routes: [ibgp (Network: 2.128.0.0/24, Next Hop IP:2.34.201.4)])<br>&nbsp;&nbsp;TRANSMITTED(GigabitEthernet3/0)<br><strong>3</strong>. node: as2dist2<br>&nbsp;&nbsp;RECEIVED(GigabitEthernet1/0)<br>&nbsp;&nbsp;FORWARDED(ARP IP: 2.34.201.4, Output Interface: GigabitEthernet2/0, Routes: [bgp (Network: 2.128.0.0/24, Next Hop IP:2.34.201.4)])<br>&nbsp;&nbsp;TRANSMITTED(GigabitEthernet2/0)<br><strong>4</strong>. node: as2dept1<br>&nbsp;&nbsp;RECEIVED(GigabitEthernet1/0)<br>&nbsp;&nbsp;FORWARDED(ARP IP: AUTO/NONE(-1l), Output Interface: GigabitEthernet2/0, Routes: [connected (Network: 2.128.0.0/24, Next Hop IP:AUTO/NONE(-1l))])<br>&nbsp;&nbsp;TRANSMITTED(GigabitEthernet2/0)<br><strong>5</strong>. node: host1<br>&nbsp;&nbsp;RECEIVED(eth0)<br>&nbsp;&nbsp;PERMITTED(filter::INPUT (INGRESS_FILTER))<br>&nbsp;&nbsp;ACCEPTED(eth0)<br><br><span style=\"color:#019612; text-weight:bold;\">ACCEPTED</span><br><strong>1</strong>. node: as2border1<br>&nbsp;&nbsp;ORIGINATED(default)<br>&nbsp;&nbsp;FORWARDED(ARP IP: 2.12.12.2, Output Interface: GigabitEthernet2/0, Routes: [ibgp (Network: 2.128.0.0/24, Next Hop IP:2.34.101.4),ibgp (Network: 2.128.0.0/24, Next Hop IP:2.34.201.4)])<br>&nbsp;&nbsp;TRANSMITTED(GigabitEthernet2/0)<br><strong>2</strong>. node: as2core2<br>&nbsp;&nbsp;RECEIVED(GigabitEthernet1/0)<br>&nbsp;&nbsp;FORWARDED(ARP IP: 2.23.22.3, Output Interface: GigabitEthernet2/0, Routes: [ibgp (Network: 2.128.0.0/24, Next Hop IP:2.34.201.4)])<br>&nbsp;&nbsp;TRANSMITTED(GigabitEthernet2/0)<br><strong>3</strong>. node: as2dist2<br>&nbsp;&nbsp;RECEIVED(GigabitEthernet0/0)<br>&nbsp;&nbsp;FORWARDED(ARP IP: 2.34.201.4, Output Interface: GigabitEthernet2/0, Routes: [bgp (Network: 2.128.0.0/24, Next Hop IP:2.34.201.4)])<br>&nbsp;&nbsp;TRANSMITTED(GigabitEthernet2/0)<br><strong>4</strong>. node: as2dept1<br>&nbsp;&nbsp;RECEIVED(GigabitEthernet1/0)<br>&nbsp;&nbsp;FORWARDED(ARP IP: AUTO/NONE(-1l), Output Interface: GigabitEthernet2/0, Routes: [connected (Network: 2.128.0.0/24, Next Hop IP:AUTO/NONE(-1l))])<br>&nbsp;&nbsp;TRANSMITTED(GigabitEthernet2/0)<br><strong>5</strong>. node: host1<br>&nbsp;&nbsp;RECEIVED(eth0)<br>&nbsp;&nbsp;PERMITTED(filter::INPUT (INGRESS_FILTER))<br>&nbsp;&nbsp;ACCEPTED(eth0)<br><br><span style=\"color:#019612; text-weight:bold;\">ACCEPTED</span><br><strong>1</strong>. node: as2border1<br>&nbsp;&nbsp;ORIGINATED(default)<br>&nbsp;&nbsp;FORWARDED(ARP IP: 2.12.12.2, Output Interface: GigabitEthernet2/0, Routes: [ibgp (Network: 2.128.0.0/24, Next Hop IP:2.34.101.4),ibgp (Network: 2.128.0.0/24, Next Hop IP:2.34.201.4)])<br>&nbsp;&nbsp;TRANSMITTED(GigabitEthernet2/0)<br><strong>2</strong>. node: as2core2<br>&nbsp;&nbsp;RECEIVED(GigabitEthernet1/0)<br>&nbsp;&nbsp;FORWARDED(ARP IP: 2.23.21.3, Output Interface: GigabitEthernet3/0, Routes: [ibgp (Network: 2.128.0.0/24, Next Hop IP:2.34.101.4)])<br>&nbsp;&nbsp;TRANSMITTED(GigabitEthernet3/0)<br><strong>3</strong>. node: as2dist1<br>&nbsp;&nbsp;RECEIVED(GigabitEthernet1/0)<br>&nbsp;&nbsp;FORWARDED(ARP IP: 2.34.101.4, Output Interface: GigabitEthernet2/0, Routes: [bgp (Network: 2.128.0.0/24, Next Hop IP:2.34.101.4)])<br>&nbsp;&nbsp;TRANSMITTED(GigabitEthernet2/0)<br><strong>4</strong>. node: as2dept1<br>&nbsp;&nbsp;RECEIVED(GigabitEthernet0/0)<br>&nbsp;&nbsp;FORWARDED(ARP IP: AUTO/NONE(-1l), Output Interface: GigabitEthernet2/0, Routes: [connected (Network: 2.128.0.0/24, Next Hop IP:AUTO/NONE(-1l))])<br>&nbsp;&nbsp;TRANSMITTED(GigabitEthernet2/0)<br><strong>5</strong>. node: host1<br>&nbsp;&nbsp;RECEIVED(eth0)<br>&nbsp;&nbsp;PERMITTED(filter::INPUT (INGRESS_FILTER))<br>&nbsp;&nbsp;ACCEPTED(eth0)"
      ],
      "text/plain": [
       "ListWrapper([((ORIGINATED(default), FORWARDED(ARP IP: 2.12.11.2, Output Interface: GigabitEthernet1/0, Routes: [ibgp (Network: 2.128.0.0/24, Next Hop IP:2.34.101.4),ibgp (Network: 2.128.0.0/24, Next Hop IP:2.34.201.4)]), TRANSMITTED(GigabitEthernet1/0)), (RECEIVED(GigabitEthernet0/0), FORWARDED(ARP IP: 2.23.11.3, Output Interface: GigabitEthernet2/0, Routes: [ibgp (Network: 2.128.0.0/24, Next Hop IP:2.34.101.4)]), TRANSMITTED(GigabitEthernet2/0)), (RECEIVED(GigabitEthernet0/0), FORWARDED(ARP IP: 2.34.101.4, Output Interface: GigabitEthernet2/0, Routes: [bgp (Network: 2.128.0.0/24, Next Hop IP:2.34.101.4)]), TRANSMITTED(GigabitEthernet2/0)), (RECEIVED(GigabitEthernet0/0), FORWARDED(ARP IP: AUTO/NONE(-1l), Output Interface: GigabitEthernet2/0, Routes: [connected (Network: 2.128.0.0/24, Next Hop IP:AUTO/NONE(-1l))]), TRANSMITTED(GigabitEthernet2/0)), (RECEIVED(eth0), PERMITTED(filter::INPUT (INGRESS_FILTER)), ACCEPTED(eth0))), ((ORIGINATED(default), FORWARDED(ARP IP: 2.12.11.2, Output Interface: GigabitEthernet1/0, Routes: [ibgp (Network: 2.128.0.0/24, Next Hop IP:2.34.101.4),ibgp (Network: 2.128.0.0/24, Next Hop IP:2.34.201.4)]), TRANSMITTED(GigabitEthernet1/0)), (RECEIVED(GigabitEthernet0/0), FORWARDED(ARP IP: 2.23.12.3, Output Interface: GigabitEthernet3/0, Routes: [ibgp (Network: 2.128.0.0/24, Next Hop IP:2.34.201.4)]), TRANSMITTED(GigabitEthernet3/0)), (RECEIVED(GigabitEthernet1/0), FORWARDED(ARP IP: 2.34.201.4, Output Interface: GigabitEthernet2/0, Routes: [bgp (Network: 2.128.0.0/24, Next Hop IP:2.34.201.4)]), TRANSMITTED(GigabitEthernet2/0)), (RECEIVED(GigabitEthernet1/0), FORWARDED(ARP IP: AUTO/NONE(-1l), Output Interface: GigabitEthernet2/0, Routes: [connected (Network: 2.128.0.0/24, Next Hop IP:AUTO/NONE(-1l))]), TRANSMITTED(GigabitEthernet2/0)), (RECEIVED(eth0), PERMITTED(filter::INPUT (INGRESS_FILTER)), ACCEPTED(eth0))), ((ORIGINATED(default), FORWARDED(ARP IP: 2.12.12.2, Output Interface: GigabitEthernet2/0, Routes: [ibgp (Network: 2.128.0.0/24, Next Hop IP:2.34.101.4),ibgp (Network: 2.128.0.0/24, Next Hop IP:2.34.201.4)]), TRANSMITTED(GigabitEthernet2/0)), (RECEIVED(GigabitEthernet1/0), FORWARDED(ARP IP: 2.23.22.3, Output Interface: GigabitEthernet2/0, Routes: [ibgp (Network: 2.128.0.0/24, Next Hop IP:2.34.201.4)]), TRANSMITTED(GigabitEthernet2/0)), (RECEIVED(GigabitEthernet0/0), FORWARDED(ARP IP: 2.34.201.4, Output Interface: GigabitEthernet2/0, Routes: [bgp (Network: 2.128.0.0/24, Next Hop IP:2.34.201.4)]), TRANSMITTED(GigabitEthernet2/0)), (RECEIVED(GigabitEthernet1/0), FORWARDED(ARP IP: AUTO/NONE(-1l), Output Interface: GigabitEthernet2/0, Routes: [connected (Network: 2.128.0.0/24, Next Hop IP:AUTO/NONE(-1l))]), TRANSMITTED(GigabitEthernet2/0)), (RECEIVED(eth0), PERMITTED(filter::INPUT (INGRESS_FILTER)), ACCEPTED(eth0))), ((ORIGINATED(default), FORWARDED(ARP IP: 2.12.12.2, Output Interface: GigabitEthernet2/0, Routes: [ibgp (Network: 2.128.0.0/24, Next Hop IP:2.34.101.4),ibgp (Network: 2.128.0.0/24, Next Hop IP:2.34.201.4)]), TRANSMITTED(GigabitEthernet2/0)), (RECEIVED(GigabitEthernet1/0), FORWARDED(ARP IP: 2.23.21.3, Output Interface: GigabitEthernet3/0, Routes: [ibgp (Network: 2.128.0.0/24, Next Hop IP:2.34.101.4)]), TRANSMITTED(GigabitEthernet3/0)), (RECEIVED(GigabitEthernet1/0), FORWARDED(ARP IP: 2.34.101.4, Output Interface: GigabitEthernet2/0, Routes: [bgp (Network: 2.128.0.0/24, Next Hop IP:2.34.101.4)]), TRANSMITTED(GigabitEthernet2/0)), (RECEIVED(GigabitEthernet0/0), FORWARDED(ARP IP: AUTO/NONE(-1l), Output Interface: GigabitEthernet2/0, Routes: [connected (Network: 2.128.0.0/24, Next Hop IP:AUTO/NONE(-1l))]), TRANSMITTED(GigabitEthernet2/0)), (RECEIVED(eth0), PERMITTED(filter::INPUT (INGRESS_FILTER)), ACCEPTED(eth0)))])"
      ]
     },
     "execution_count": 35,
     "metadata": {},
     "output_type": "execute_result"
    }
   ],
   "source": [
    "result.Traces[0]"
   ]
  },
  {
   "cell_type": "markdown",
   "id": "ad0245b2",
   "metadata": {},
   "source": [
    "Evaluating the first Trace"
   ]
  },
  {
   "cell_type": "code",
   "execution_count": 36,
   "id": "927734c0",
   "metadata": {},
   "outputs": [
    {
     "data": {
      "text/html": [
       "<span style=\"color:#019612; text-weight:bold;\">ACCEPTED</span><br><strong>1</strong>. node: as2border1<br>&nbsp;&nbsp;ORIGINATED(default)<br>&nbsp;&nbsp;FORWARDED(ARP IP: 2.12.11.2, Output Interface: GigabitEthernet1/0, Routes: [ibgp (Network: 2.128.0.0/24, Next Hop IP:2.34.101.4),ibgp (Network: 2.128.0.0/24, Next Hop IP:2.34.201.4)])<br>&nbsp;&nbsp;TRANSMITTED(GigabitEthernet1/0)<br><strong>2</strong>. node: as2core1<br>&nbsp;&nbsp;RECEIVED(GigabitEthernet0/0)<br>&nbsp;&nbsp;FORWARDED(ARP IP: 2.23.11.3, Output Interface: GigabitEthernet2/0, Routes: [ibgp (Network: 2.128.0.0/24, Next Hop IP:2.34.101.4)])<br>&nbsp;&nbsp;TRANSMITTED(GigabitEthernet2/0)<br><strong>3</strong>. node: as2dist1<br>&nbsp;&nbsp;RECEIVED(GigabitEthernet0/0)<br>&nbsp;&nbsp;FORWARDED(ARP IP: 2.34.101.4, Output Interface: GigabitEthernet2/0, Routes: [bgp (Network: 2.128.0.0/24, Next Hop IP:2.34.101.4)])<br>&nbsp;&nbsp;TRANSMITTED(GigabitEthernet2/0)<br><strong>4</strong>. node: as2dept1<br>&nbsp;&nbsp;RECEIVED(GigabitEthernet0/0)<br>&nbsp;&nbsp;FORWARDED(ARP IP: AUTO/NONE(-1l), Output Interface: GigabitEthernet2/0, Routes: [connected (Network: 2.128.0.0/24, Next Hop IP:AUTO/NONE(-1l))])<br>&nbsp;&nbsp;TRANSMITTED(GigabitEthernet2/0)<br><strong>5</strong>. node: host1<br>&nbsp;&nbsp;RECEIVED(eth0)<br>&nbsp;&nbsp;PERMITTED(filter::INPUT (INGRESS_FILTER))<br>&nbsp;&nbsp;ACCEPTED(eth0)"
      ],
      "text/plain": [
       "Trace(disposition='ACCEPTED', hops=[Hop(node='as2border1', steps=[Step(detail=OriginateStepDetail(originatingVrf='default'), action='ORIGINATED'), Step(detail=RoutingStepDetail(routes=[{'admin': 200, 'metric': 50, 'network': '2.128.0.0/24', 'nextHopIp': '2.34.101.4', 'protocol': 'ibgp'}, {'admin': 200, 'metric': 50, 'network': '2.128.0.0/24', 'nextHopIp': '2.34.201.4', 'protocol': 'ibgp'}], arpIp='2.12.11.2', outputInterface='GigabitEthernet1/0'), action='FORWARDED'), Step(detail=ExitOutputIfaceStepDetail(outputInterface='GigabitEthernet1/0', transformedFlow=None), action='TRANSMITTED')]), Hop(node='as2core1', steps=[Step(detail=EnterInputIfaceStepDetail(inputInterface='GigabitEthernet0/0', inputVrf='default'), action='RECEIVED'), Step(detail=RoutingStepDetail(routes=[{'admin': 200, 'metric': 50, 'network': '2.128.0.0/24', 'nextHopIp': '2.34.101.4', 'protocol': 'ibgp'}], arpIp='2.23.11.3', outputInterface='GigabitEthernet2/0'), action='FORWARDED'), Step(detail=ExitOutputIfaceStepDetail(outputInterface='GigabitEthernet2/0', transformedFlow=None), action='TRANSMITTED')]), Hop(node='as2dist1', steps=[Step(detail=EnterInputIfaceStepDetail(inputInterface='GigabitEthernet0/0', inputVrf='default'), action='RECEIVED'), Step(detail=RoutingStepDetail(routes=[{'admin': 20, 'metric': 50, 'network': '2.128.0.0/24', 'nextHopIp': '2.34.101.4', 'protocol': 'bgp'}], arpIp='2.34.101.4', outputInterface='GigabitEthernet2/0'), action='FORWARDED'), Step(detail=ExitOutputIfaceStepDetail(outputInterface='GigabitEthernet2/0', transformedFlow=None), action='TRANSMITTED')]), Hop(node='as2dept1', steps=[Step(detail=EnterInputIfaceStepDetail(inputInterface='GigabitEthernet0/0', inputVrf='default'), action='RECEIVED'), Step(detail=RoutingStepDetail(routes=[{'admin': 0, 'metric': 0, 'network': '2.128.0.0/24', 'nextHopIp': 'AUTO/NONE(-1l)', 'protocol': 'connected'}], arpIp='AUTO/NONE(-1l)', outputInterface='GigabitEthernet2/0'), action='FORWARDED'), Step(detail=ExitOutputIfaceStepDetail(outputInterface='GigabitEthernet2/0', transformedFlow=None), action='TRANSMITTED')]), Hop(node='host1', steps=[Step(detail=EnterInputIfaceStepDetail(inputInterface='eth0', inputVrf='default'), action='RECEIVED'), Step(detail=FilterStepDetail(filter='filter::INPUT', filterType='INGRESS_FILTER', inputInterface='eth0', flow=Flow(dscp=0, dstIp='2.128.0.101', dstPort=53, ecn=0, fragmentOffset=0, icmpCode=None, icmpVar=None, ingressInterface=None, ingressNode='as2border1', ingressVrf='default', ipProtocol='UDP', packetLength=512, srcIp='10.0.0.0', srcPort=49152, tcpFlagsAck=0, tcpFlagsCwr=0, tcpFlagsEce=0, tcpFlagsFin=0, tcpFlagsPsh=0, tcpFlagsRst=0, tcpFlagsSyn=0, tcpFlagsUrg=0)), action='PERMITTED'), Step(detail=InboundStepDetail(interface='eth0'), action='ACCEPTED')])])"
      ]
     },
     "execution_count": 36,
     "metadata": {},
     "output_type": "execute_result"
    }
   ],
   "source": [
    "result.Traces[0][0]"
   ]
  },
  {
   "cell_type": "markdown",
   "id": "c446faa2",
   "metadata": {},
   "source": [
    "Retrieving the disposition of the first Trace"
   ]
  },
  {
   "cell_type": "code",
   "execution_count": 37,
   "id": "517ebad5",
   "metadata": {},
   "outputs": [
    {
     "data": {
      "text/plain": [
       "'ACCEPTED'"
      ]
     },
     "execution_count": 37,
     "metadata": {},
     "output_type": "execute_result"
    }
   ],
   "source": [
    "result.Traces[0][0].disposition"
   ]
  },
  {
   "cell_type": "markdown",
   "id": "2bd43ac0",
   "metadata": {},
   "source": [
    "Retrieving the first hop of the first Trace"
   ]
  },
  {
   "cell_type": "code",
   "execution_count": 38,
   "id": "329ea619",
   "metadata": {},
   "outputs": [
    {
     "data": {
      "text/html": [
       "node: as2border1<br>&nbsp;&nbsp;ORIGINATED(default)<br>&nbsp;&nbsp;FORWARDED(ARP IP: 2.12.11.2, Output Interface: GigabitEthernet1/0, Routes: [ibgp (Network: 2.128.0.0/24, Next Hop IP:2.34.101.4),ibgp (Network: 2.128.0.0/24, Next Hop IP:2.34.201.4)])<br>&nbsp;&nbsp;TRANSMITTED(GigabitEthernet1/0)"
      ],
      "text/plain": [
       "Hop(node='as2border1', steps=[Step(detail=OriginateStepDetail(originatingVrf='default'), action='ORIGINATED'), Step(detail=RoutingStepDetail(routes=[{'admin': 200, 'metric': 50, 'network': '2.128.0.0/24', 'nextHopIp': '2.34.101.4', 'protocol': 'ibgp'}, {'admin': 200, 'metric': 50, 'network': '2.128.0.0/24', 'nextHopIp': '2.34.201.4', 'protocol': 'ibgp'}], arpIp='2.12.11.2', outputInterface='GigabitEthernet1/0'), action='FORWARDED'), Step(detail=ExitOutputIfaceStepDetail(outputInterface='GigabitEthernet1/0', transformedFlow=None), action='TRANSMITTED')])"
      ]
     },
     "execution_count": 38,
     "metadata": {},
     "output_type": "execute_result"
    }
   ],
   "source": [
    "result.Traces[0][0][0]"
   ]
  },
  {
   "cell_type": "markdown",
   "id": "310e3a87",
   "metadata": {},
   "source": [
    "Retrieving the last hop of the first Trace"
   ]
  },
  {
   "cell_type": "code",
   "execution_count": 39,
   "id": "0d5feccf",
   "metadata": {},
   "outputs": [
    {
     "data": {
      "text/html": [
       "node: host1<br>&nbsp;&nbsp;RECEIVED(eth0)<br>&nbsp;&nbsp;PERMITTED(filter::INPUT (INGRESS_FILTER))<br>&nbsp;&nbsp;ACCEPTED(eth0)"
      ],
      "text/plain": [
       "Hop(node='host1', steps=[Step(detail=EnterInputIfaceStepDetail(inputInterface='eth0', inputVrf='default'), action='RECEIVED'), Step(detail=FilterStepDetail(filter='filter::INPUT', filterType='INGRESS_FILTER', inputInterface='eth0', flow=Flow(dscp=0, dstIp='2.128.0.101', dstPort=53, ecn=0, fragmentOffset=0, icmpCode=None, icmpVar=None, ingressInterface=None, ingressNode='as2border1', ingressVrf='default', ipProtocol='UDP', packetLength=512, srcIp='10.0.0.0', srcPort=49152, tcpFlagsAck=0, tcpFlagsCwr=0, tcpFlagsEce=0, tcpFlagsFin=0, tcpFlagsPsh=0, tcpFlagsRst=0, tcpFlagsSyn=0, tcpFlagsUrg=0)), action='PERMITTED'), Step(detail=InboundStepDetail(interface='eth0'), action='ACCEPTED')])"
      ]
     },
     "execution_count": 39,
     "metadata": {},
     "output_type": "execute_result"
    }
   ],
   "source": [
    "result.Traces[0][0][-1]"
   ]
  },
  {
   "cell_type": "code",
   "execution_count": 40,
   "id": "0a0f2ef0",
   "metadata": {
    "nbsphinx": "hidden"
   },
   "outputs": [
    {
     "data": {
      "text/plain": [
       "'generate_questions'"
      ]
     },
     "execution_count": 40,
     "metadata": {},
     "output_type": "execute_result"
    }
   ],
   "source": [
    "bf.set_network('generate_questions')"
   ]
  },
  {
   "cell_type": "code",
   "execution_count": 41,
   "id": "bc460042",
   "metadata": {
    "nbsphinx": "hidden"
   },
   "outputs": [
    {
     "data": {
      "text/plain": [
       "'generate_questions'"
      ]
     },
     "execution_count": 41,
     "metadata": {},
     "output_type": "execute_result"
    }
   ],
   "source": [
    "bf.set_snapshot('generate_questions')"
   ]
  },
  {
   "cell_type": "markdown",
   "id": "796f1597",
   "metadata": {},
   "source": [
    "##### Bi-directional Reachability"
   ]
  },
  {
   "cell_type": "markdown",
   "id": "f6646fe8",
   "metadata": {},
   "source": [
    "Searches for successfully delivered flows that can successfully receive a response."
   ]
  },
  {
   "cell_type": "markdown",
   "id": "0a835fd6",
   "metadata": {},
   "source": [
    "Performs two reachability analyses, first originating from specified sources, then returning back to those sources. After the first (forward) pass, sets up sessions in the network and creates returning flows for each successfully delivered forward flow. The second pass searches for return flows that can be successfully delivered in the presence of the setup sessions."
   ]
  },
  {
   "cell_type": "markdown",
   "id": "4e3e2d87",
   "metadata": {},
   "source": [
    "###### Inputs"
   ]
  },
  {
   "cell_type": "markdown",
   "id": "57c18d45",
   "metadata": {},
   "source": [
    "Name | Description | Type | Optional | Default Value\n",
    "--- | --- | --- | --- | --- \n",
    "pathConstraints | Constraint the path a flow can take (start/end/transit locations). | [PathConstraints](../datamodel.rst#pybatfish.datamodel.flow.PathConstraints) | True | \n",
    "headers | Packet header constraints. | [HeaderConstraints](../datamodel.rst#pybatfish.datamodel.flow.HeaderConstraints) | False | \n",
    "returnFlowType | Specifies the type of return flows to search. | str | True | SUCCESS"
   ]
  },
  {
   "cell_type": "markdown",
   "id": "c54157fc",
   "metadata": {},
   "source": [
    "###### Invocation"
   ]
  },
  {
   "cell_type": "code",
   "execution_count": 42,
   "id": "6f4e5d5b",
   "metadata": {},
   "outputs": [],
   "source": [
    "result = bf.q.bidirectionalReachability(pathConstraints=PathConstraints(startLocation = '/as2dist1/'), headers=HeaderConstraints(dstIps='host1', srcIps='0.0.0.0/0', applications='DNS'), returnFlowType='SUCCESS').answer().frame()"
   ]
  },
  {
   "cell_type": "markdown",
   "id": "db9db6bd",
   "metadata": {},
   "source": [
    "###### Return Value"
   ]
  },
  {
   "cell_type": "markdown",
   "id": "1bd26604",
   "metadata": {},
   "source": [
    "Name | Description | Type\n",
    "--- | --- | ---\n",
    "Forward_Flow | The forward flow. | [Flow](../datamodel.rst#pybatfish.datamodel.flow.Flow)\n",
    "Forward_Traces | The forward traces. | List of [Trace](../datamodel.rst#pybatfish.datamodel.flow.Trace)\n",
    "New_Sessions | Sessions initialized by the forward trace. | List of str\n",
    "Reverse_Flow | The reverse flow. | [Flow](../datamodel.rst#pybatfish.datamodel.flow.Flow)\n",
    "Reverse_Traces | The reverse traces. | List of [Trace](../datamodel.rst#pybatfish.datamodel.flow.Trace)"
   ]
  },
  {
   "cell_type": "markdown",
   "id": "57fd5b32",
   "metadata": {},
   "source": [
    "Retrieving the Forward flow definition"
   ]
  },
  {
   "cell_type": "code",
   "execution_count": 43,
   "id": "8063849c",
   "metadata": {},
   "outputs": [
    {
     "data": {
      "text/plain": [
       "0    start=as2dist1 [2.34.101.3:49152->2.128.0.101:53 UDP length=512]\n",
       "Name: Forward_Flow, dtype: object"
      ]
     },
     "execution_count": 43,
     "metadata": {},
     "output_type": "execute_result"
    }
   ],
   "source": [
    "result.Forward_Flow"
   ]
  },
  {
   "cell_type": "markdown",
   "id": "59d2de7c",
   "metadata": {},
   "source": [
    "Retrieving the detailed Forward Trace information"
   ]
  },
  {
   "cell_type": "code",
   "execution_count": 44,
   "id": "19aa9468",
   "metadata": {},
   "outputs": [
    {
     "data": {
      "text/plain": [
       "1"
      ]
     },
     "execution_count": 44,
     "metadata": {},
     "output_type": "execute_result"
    }
   ],
   "source": [
    "len(result.Forward_Traces)"
   ]
  },
  {
   "cell_type": "code",
   "execution_count": 45,
   "id": "fc1a6742",
   "metadata": {},
   "outputs": [
    {
     "data": {
      "text/html": [
       "<span style=\"color:#019612; text-weight:bold;\">ACCEPTED</span><br><strong>1</strong>. node: as2dist1<br>&nbsp;&nbsp;ORIGINATED(default)<br>&nbsp;&nbsp;FORWARDED(ARP IP: 2.34.101.4, Output Interface: GigabitEthernet2/0, Routes: [bgp (Network: 2.128.0.0/24, Next Hop IP:2.34.101.4)])<br>&nbsp;&nbsp;TRANSMITTED(GigabitEthernet2/0)<br><strong>2</strong>. node: as2dept1<br>&nbsp;&nbsp;RECEIVED(GigabitEthernet0/0)<br>&nbsp;&nbsp;FORWARDED(ARP IP: AUTO/NONE(-1l), Output Interface: GigabitEthernet2/0, Routes: [connected (Network: 2.128.0.0/24, Next Hop IP:AUTO/NONE(-1l))])<br>&nbsp;&nbsp;TRANSMITTED(GigabitEthernet2/0)<br><strong>3</strong>. node: host1<br>&nbsp;&nbsp;RECEIVED(eth0)<br>&nbsp;&nbsp;PERMITTED(filter::INPUT (INGRESS_FILTER))<br>&nbsp;&nbsp;ACCEPTED(eth0)"
      ],
      "text/plain": [
       "ListWrapper([((ORIGINATED(default), FORWARDED(ARP IP: 2.34.101.4, Output Interface: GigabitEthernet2/0, Routes: [bgp (Network: 2.128.0.0/24, Next Hop IP:2.34.101.4)]), TRANSMITTED(GigabitEthernet2/0)), (RECEIVED(GigabitEthernet0/0), FORWARDED(ARP IP: AUTO/NONE(-1l), Output Interface: GigabitEthernet2/0, Routes: [connected (Network: 2.128.0.0/24, Next Hop IP:AUTO/NONE(-1l))]), TRANSMITTED(GigabitEthernet2/0)), (RECEIVED(eth0), PERMITTED(filter::INPUT (INGRESS_FILTER)), ACCEPTED(eth0)))])"
      ]
     },
     "execution_count": 45,
     "metadata": {},
     "output_type": "execute_result"
    }
   ],
   "source": [
    "result.Forward_Traces[0]"
   ]
  },
  {
   "cell_type": "markdown",
   "id": "25c7e213",
   "metadata": {},
   "source": [
    "Evaluating the first Forward Trace"
   ]
  },
  {
   "cell_type": "code",
   "execution_count": 46,
   "id": "0e8547d4",
   "metadata": {},
   "outputs": [
    {
     "data": {
      "text/html": [
       "<span style=\"color:#019612; text-weight:bold;\">ACCEPTED</span><br><strong>1</strong>. node: as2dist1<br>&nbsp;&nbsp;ORIGINATED(default)<br>&nbsp;&nbsp;FORWARDED(ARP IP: 2.34.101.4, Output Interface: GigabitEthernet2/0, Routes: [bgp (Network: 2.128.0.0/24, Next Hop IP:2.34.101.4)])<br>&nbsp;&nbsp;TRANSMITTED(GigabitEthernet2/0)<br><strong>2</strong>. node: as2dept1<br>&nbsp;&nbsp;RECEIVED(GigabitEthernet0/0)<br>&nbsp;&nbsp;FORWARDED(ARP IP: AUTO/NONE(-1l), Output Interface: GigabitEthernet2/0, Routes: [connected (Network: 2.128.0.0/24, Next Hop IP:AUTO/NONE(-1l))])<br>&nbsp;&nbsp;TRANSMITTED(GigabitEthernet2/0)<br><strong>3</strong>. node: host1<br>&nbsp;&nbsp;RECEIVED(eth0)<br>&nbsp;&nbsp;PERMITTED(filter::INPUT (INGRESS_FILTER))<br>&nbsp;&nbsp;ACCEPTED(eth0)"
      ],
      "text/plain": [
       "Trace(disposition='ACCEPTED', hops=[Hop(node='as2dist1', steps=[Step(detail=OriginateStepDetail(originatingVrf='default'), action='ORIGINATED'), Step(detail=RoutingStepDetail(routes=[{'admin': 20, 'metric': 50, 'network': '2.128.0.0/24', 'nextHopIp': '2.34.101.4', 'protocol': 'bgp'}], arpIp='2.34.101.4', outputInterface='GigabitEthernet2/0'), action='FORWARDED'), Step(detail=ExitOutputIfaceStepDetail(outputInterface='GigabitEthernet2/0', transformedFlow=None), action='TRANSMITTED')]), Hop(node='as2dept1', steps=[Step(detail=EnterInputIfaceStepDetail(inputInterface='GigabitEthernet0/0', inputVrf='default'), action='RECEIVED'), Step(detail=RoutingStepDetail(routes=[{'admin': 0, 'metric': 0, 'network': '2.128.0.0/24', 'nextHopIp': 'AUTO/NONE(-1l)', 'protocol': 'connected'}], arpIp='AUTO/NONE(-1l)', outputInterface='GigabitEthernet2/0'), action='FORWARDED'), Step(detail=ExitOutputIfaceStepDetail(outputInterface='GigabitEthernet2/0', transformedFlow=None), action='TRANSMITTED')]), Hop(node='host1', steps=[Step(detail=EnterInputIfaceStepDetail(inputInterface='eth0', inputVrf='default'), action='RECEIVED'), Step(detail=FilterStepDetail(filter='filter::INPUT', filterType='INGRESS_FILTER', inputInterface='eth0', flow=Flow(dscp=0, dstIp='2.128.0.101', dstPort=53, ecn=0, fragmentOffset=0, icmpCode=None, icmpVar=None, ingressInterface=None, ingressNode='as2dist1', ingressVrf='default', ipProtocol='UDP', packetLength=512, srcIp='2.34.101.3', srcPort=49152, tcpFlagsAck=0, tcpFlagsCwr=0, tcpFlagsEce=0, tcpFlagsFin=0, tcpFlagsPsh=0, tcpFlagsRst=0, tcpFlagsSyn=0, tcpFlagsUrg=0)), action='PERMITTED'), Step(detail=InboundStepDetail(interface='eth0'), action='ACCEPTED')])])"
      ]
     },
     "execution_count": 46,
     "metadata": {},
     "output_type": "execute_result"
    }
   ],
   "source": [
    "result.Forward_Traces[0][0]"
   ]
  },
  {
   "cell_type": "markdown",
   "id": "3e12dc00",
   "metadata": {},
   "source": [
    "Retrieving the disposition of the first Forward Trace"
   ]
  },
  {
   "cell_type": "code",
   "execution_count": 47,
   "id": "6135cac8",
   "metadata": {},
   "outputs": [
    {
     "data": {
      "text/plain": [
       "'ACCEPTED'"
      ]
     },
     "execution_count": 47,
     "metadata": {},
     "output_type": "execute_result"
    }
   ],
   "source": [
    "result.Forward_Traces[0][0].disposition"
   ]
  },
  {
   "cell_type": "markdown",
   "id": "fcbc121e",
   "metadata": {},
   "source": [
    "Retrieving the first hop of the first Forward Trace"
   ]
  },
  {
   "cell_type": "code",
   "execution_count": 48,
   "id": "743bf064",
   "metadata": {},
   "outputs": [
    {
     "data": {
      "text/html": [
       "node: as2dist1<br>&nbsp;&nbsp;ORIGINATED(default)<br>&nbsp;&nbsp;FORWARDED(ARP IP: 2.34.101.4, Output Interface: GigabitEthernet2/0, Routes: [bgp (Network: 2.128.0.0/24, Next Hop IP:2.34.101.4)])<br>&nbsp;&nbsp;TRANSMITTED(GigabitEthernet2/0)"
      ],
      "text/plain": [
       "Hop(node='as2dist1', steps=[Step(detail=OriginateStepDetail(originatingVrf='default'), action='ORIGINATED'), Step(detail=RoutingStepDetail(routes=[{'admin': 20, 'metric': 50, 'network': '2.128.0.0/24', 'nextHopIp': '2.34.101.4', 'protocol': 'bgp'}], arpIp='2.34.101.4', outputInterface='GigabitEthernet2/0'), action='FORWARDED'), Step(detail=ExitOutputIfaceStepDetail(outputInterface='GigabitEthernet2/0', transformedFlow=None), action='TRANSMITTED')])"
      ]
     },
     "execution_count": 48,
     "metadata": {},
     "output_type": "execute_result"
    }
   ],
   "source": [
    "result.Forward_Traces[0][0][0]"
   ]
  },
  {
   "cell_type": "markdown",
   "id": "2a110ce7",
   "metadata": {},
   "source": [
    "Retrieving the last hop of the first Forward Trace"
   ]
  },
  {
   "cell_type": "code",
   "execution_count": 49,
   "id": "a9a300ff",
   "metadata": {},
   "outputs": [
    {
     "data": {
      "text/html": [
       "node: host1<br>&nbsp;&nbsp;RECEIVED(eth0)<br>&nbsp;&nbsp;PERMITTED(filter::INPUT (INGRESS_FILTER))<br>&nbsp;&nbsp;ACCEPTED(eth0)"
      ],
      "text/plain": [
       "Hop(node='host1', steps=[Step(detail=EnterInputIfaceStepDetail(inputInterface='eth0', inputVrf='default'), action='RECEIVED'), Step(detail=FilterStepDetail(filter='filter::INPUT', filterType='INGRESS_FILTER', inputInterface='eth0', flow=Flow(dscp=0, dstIp='2.128.0.101', dstPort=53, ecn=0, fragmentOffset=0, icmpCode=None, icmpVar=None, ingressInterface=None, ingressNode='as2dist1', ingressVrf='default', ipProtocol='UDP', packetLength=512, srcIp='2.34.101.3', srcPort=49152, tcpFlagsAck=0, tcpFlagsCwr=0, tcpFlagsEce=0, tcpFlagsFin=0, tcpFlagsPsh=0, tcpFlagsRst=0, tcpFlagsSyn=0, tcpFlagsUrg=0)), action='PERMITTED'), Step(detail=InboundStepDetail(interface='eth0'), action='ACCEPTED')])"
      ]
     },
     "execution_count": 49,
     "metadata": {},
     "output_type": "execute_result"
    }
   ],
   "source": [
    "result.Forward_Traces[0][0][-1]"
   ]
  },
  {
   "cell_type": "markdown",
   "id": "703f0349",
   "metadata": {},
   "source": [
    "Retrieving the Return flow definition"
   ]
  },
  {
   "cell_type": "code",
   "execution_count": 50,
   "id": "f7428712",
   "metadata": {},
   "outputs": [
    {
     "data": {
      "text/plain": [
       "0    start=host1 [2.128.0.101:53->2.34.101.3:49152 UDP length=512]\n",
       "Name: Reverse_Flow, dtype: object"
      ]
     },
     "execution_count": 50,
     "metadata": {},
     "output_type": "execute_result"
    }
   ],
   "source": [
    "result.Reverse_Flow"
   ]
  },
  {
   "cell_type": "markdown",
   "id": "d0c3fa6d",
   "metadata": {},
   "source": [
    "Retrieving the detailed Return Trace information"
   ]
  },
  {
   "cell_type": "code",
   "execution_count": 51,
   "id": "d6ba1418",
   "metadata": {},
   "outputs": [
    {
     "data": {
      "text/plain": [
       "1"
      ]
     },
     "execution_count": 51,
     "metadata": {},
     "output_type": "execute_result"
    }
   ],
   "source": [
    "len(result.Reverse_Traces)"
   ]
  },
  {
   "cell_type": "code",
   "execution_count": 52,
   "id": "40b17b02",
   "metadata": {},
   "outputs": [
    {
     "data": {
      "text/html": [
       "<span style=\"color:#019612; text-weight:bold;\">ACCEPTED</span><br><strong>1</strong>. node: host1<br>&nbsp;&nbsp;ORIGINATED(default)<br>&nbsp;&nbsp;FORWARDED(ARP IP: 2.128.0.1, Output Interface: eth0, Routes: [static (Network: 0.0.0.0/0, Next Hop IP:2.128.0.1)])<br>&nbsp;&nbsp;PERMITTED(filter::OUTPUT (EGRESS_FILTER))<br>&nbsp;&nbsp;TRANSMITTED(eth0)<br><strong>2</strong>. node: as2dept1<br>&nbsp;&nbsp;RECEIVED(GigabitEthernet2/0)<br>&nbsp;&nbsp;PERMITTED(RESTRICT_HOST_TRAFFIC_IN (INGRESS_FILTER))<br>&nbsp;&nbsp;FORWARDED(ARP IP: AUTO/NONE(-1l), Output Interface: GigabitEthernet0/0, Routes: [connected (Network: 2.34.101.0/24, Next Hop IP:AUTO/NONE(-1l))])<br>&nbsp;&nbsp;TRANSMITTED(GigabitEthernet0/0)<br><strong>3</strong>. node: as2dist1<br>&nbsp;&nbsp;RECEIVED(GigabitEthernet2/0)<br>&nbsp;&nbsp;ACCEPTED(GigabitEthernet2/0)"
      ],
      "text/plain": [
       "ListWrapper([((ORIGINATED(default), FORWARDED(ARP IP: 2.128.0.1, Output Interface: eth0, Routes: [static (Network: 0.0.0.0/0, Next Hop IP:2.128.0.1)]), PERMITTED(filter::OUTPUT (EGRESS_FILTER)), TRANSMITTED(eth0)), (RECEIVED(GigabitEthernet2/0), PERMITTED(RESTRICT_HOST_TRAFFIC_IN (INGRESS_FILTER)), FORWARDED(ARP IP: AUTO/NONE(-1l), Output Interface: GigabitEthernet0/0, Routes: [connected (Network: 2.34.101.0/24, Next Hop IP:AUTO/NONE(-1l))]), TRANSMITTED(GigabitEthernet0/0)), (RECEIVED(GigabitEthernet2/0), ACCEPTED(GigabitEthernet2/0)))])"
      ]
     },
     "execution_count": 52,
     "metadata": {},
     "output_type": "execute_result"
    }
   ],
   "source": [
    "result.Reverse_Traces[0]"
   ]
  },
  {
   "cell_type": "markdown",
   "id": "b9db7fb5",
   "metadata": {},
   "source": [
    "Evaluating the first Reverse Trace"
   ]
  },
  {
   "cell_type": "code",
   "execution_count": 53,
   "id": "5a9a1942",
   "metadata": {},
   "outputs": [
    {
     "data": {
      "text/html": [
       "<span style=\"color:#019612; text-weight:bold;\">ACCEPTED</span><br><strong>1</strong>. node: host1<br>&nbsp;&nbsp;ORIGINATED(default)<br>&nbsp;&nbsp;FORWARDED(ARP IP: 2.128.0.1, Output Interface: eth0, Routes: [static (Network: 0.0.0.0/0, Next Hop IP:2.128.0.1)])<br>&nbsp;&nbsp;PERMITTED(filter::OUTPUT (EGRESS_FILTER))<br>&nbsp;&nbsp;TRANSMITTED(eth0)<br><strong>2</strong>. node: as2dept1<br>&nbsp;&nbsp;RECEIVED(GigabitEthernet2/0)<br>&nbsp;&nbsp;PERMITTED(RESTRICT_HOST_TRAFFIC_IN (INGRESS_FILTER))<br>&nbsp;&nbsp;FORWARDED(ARP IP: AUTO/NONE(-1l), Output Interface: GigabitEthernet0/0, Routes: [connected (Network: 2.34.101.0/24, Next Hop IP:AUTO/NONE(-1l))])<br>&nbsp;&nbsp;TRANSMITTED(GigabitEthernet0/0)<br><strong>3</strong>. node: as2dist1<br>&nbsp;&nbsp;RECEIVED(GigabitEthernet2/0)<br>&nbsp;&nbsp;ACCEPTED(GigabitEthernet2/0)"
      ],
      "text/plain": [
       "Trace(disposition='ACCEPTED', hops=[Hop(node='host1', steps=[Step(detail=OriginateStepDetail(originatingVrf='default'), action='ORIGINATED'), Step(detail=RoutingStepDetail(routes=[{'admin': 1, 'metric': 0, 'network': '0.0.0.0/0', 'nextHopIp': '2.128.0.1', 'protocol': 'static'}], arpIp='2.128.0.1', outputInterface='eth0'), action='FORWARDED'), Step(detail=FilterStepDetail(filter='filter::OUTPUT', filterType='EGRESS_FILTER', inputInterface='', flow=Flow(dscp=0, dstIp='2.34.101.3', dstPort=49152, ecn=0, fragmentOffset=0, icmpCode=None, icmpVar=None, ingressInterface=None, ingressNode='host1', ingressVrf='default', ipProtocol='UDP', packetLength=512, srcIp='2.128.0.101', srcPort=53, tcpFlagsAck=0, tcpFlagsCwr=0, tcpFlagsEce=0, tcpFlagsFin=0, tcpFlagsPsh=0, tcpFlagsRst=0, tcpFlagsSyn=0, tcpFlagsUrg=0)), action='PERMITTED'), Step(detail=ExitOutputIfaceStepDetail(outputInterface='eth0', transformedFlow=None), action='TRANSMITTED')]), Hop(node='as2dept1', steps=[Step(detail=EnterInputIfaceStepDetail(inputInterface='GigabitEthernet2/0', inputVrf='default'), action='RECEIVED'), Step(detail=FilterStepDetail(filter='RESTRICT_HOST_TRAFFIC_IN', filterType='INGRESS_FILTER', inputInterface='GigabitEthernet2/0', flow=Flow(dscp=0, dstIp='2.34.101.3', dstPort=49152, ecn=0, fragmentOffset=0, icmpCode=None, icmpVar=None, ingressInterface=None, ingressNode='host1', ingressVrf='default', ipProtocol='UDP', packetLength=512, srcIp='2.128.0.101', srcPort=53, tcpFlagsAck=0, tcpFlagsCwr=0, tcpFlagsEce=0, tcpFlagsFin=0, tcpFlagsPsh=0, tcpFlagsRst=0, tcpFlagsSyn=0, tcpFlagsUrg=0)), action='PERMITTED'), Step(detail=RoutingStepDetail(routes=[{'admin': 0, 'metric': 0, 'network': '2.34.101.0/24', 'nextHopIp': 'AUTO/NONE(-1l)', 'protocol': 'connected'}], arpIp='AUTO/NONE(-1l)', outputInterface='GigabitEthernet0/0'), action='FORWARDED'), Step(detail=ExitOutputIfaceStepDetail(outputInterface='GigabitEthernet0/0', transformedFlow=None), action='TRANSMITTED')]), Hop(node='as2dist1', steps=[Step(detail=EnterInputIfaceStepDetail(inputInterface='GigabitEthernet2/0', inputVrf='default'), action='RECEIVED'), Step(detail=InboundStepDetail(interface='GigabitEthernet2/0'), action='ACCEPTED')])])"
      ]
     },
     "execution_count": 53,
     "metadata": {},
     "output_type": "execute_result"
    }
   ],
   "source": [
    "result.Reverse_Traces[0][0]"
   ]
  },
  {
   "cell_type": "markdown",
   "id": "66748f52",
   "metadata": {},
   "source": [
    "Retrieving the disposition of the first Reverse Trace"
   ]
  },
  {
   "cell_type": "code",
   "execution_count": 54,
   "id": "f8571672",
   "metadata": {},
   "outputs": [
    {
     "data": {
      "text/plain": [
       "'ACCEPTED'"
      ]
     },
     "execution_count": 54,
     "metadata": {},
     "output_type": "execute_result"
    }
   ],
   "source": [
    "result.Reverse_Traces[0][0].disposition"
   ]
  },
  {
   "cell_type": "markdown",
   "id": "e22a8f01",
   "metadata": {},
   "source": [
    "Retrieving the first hop of the first Reverse Trace"
   ]
  },
  {
   "cell_type": "code",
   "execution_count": 55,
   "id": "a39536b5",
   "metadata": {},
   "outputs": [
    {
     "data": {
      "text/html": [
       "node: host1<br>&nbsp;&nbsp;ORIGINATED(default)<br>&nbsp;&nbsp;FORWARDED(ARP IP: 2.128.0.1, Output Interface: eth0, Routes: [static (Network: 0.0.0.0/0, Next Hop IP:2.128.0.1)])<br>&nbsp;&nbsp;PERMITTED(filter::OUTPUT (EGRESS_FILTER))<br>&nbsp;&nbsp;TRANSMITTED(eth0)"
      ],
      "text/plain": [
       "Hop(node='host1', steps=[Step(detail=OriginateStepDetail(originatingVrf='default'), action='ORIGINATED'), Step(detail=RoutingStepDetail(routes=[{'admin': 1, 'metric': 0, 'network': '0.0.0.0/0', 'nextHopIp': '2.128.0.1', 'protocol': 'static'}], arpIp='2.128.0.1', outputInterface='eth0'), action='FORWARDED'), Step(detail=FilterStepDetail(filter='filter::OUTPUT', filterType='EGRESS_FILTER', inputInterface='', flow=Flow(dscp=0, dstIp='2.34.101.3', dstPort=49152, ecn=0, fragmentOffset=0, icmpCode=None, icmpVar=None, ingressInterface=None, ingressNode='host1', ingressVrf='default', ipProtocol='UDP', packetLength=512, srcIp='2.128.0.101', srcPort=53, tcpFlagsAck=0, tcpFlagsCwr=0, tcpFlagsEce=0, tcpFlagsFin=0, tcpFlagsPsh=0, tcpFlagsRst=0, tcpFlagsSyn=0, tcpFlagsUrg=0)), action='PERMITTED'), Step(detail=ExitOutputIfaceStepDetail(outputInterface='eth0', transformedFlow=None), action='TRANSMITTED')])"
      ]
     },
     "execution_count": 55,
     "metadata": {},
     "output_type": "execute_result"
    }
   ],
   "source": [
    "result.Reverse_Traces[0][0][0]"
   ]
  },
  {
   "cell_type": "markdown",
   "id": "0acd1495",
   "metadata": {},
   "source": [
    "Retrieving the last hop of the first Reverse Trace"
   ]
  },
  {
   "cell_type": "code",
   "execution_count": 56,
   "id": "8c28ffab",
   "metadata": {},
   "outputs": [
    {
     "data": {
      "text/html": [
       "node: as2dist1<br>&nbsp;&nbsp;RECEIVED(GigabitEthernet2/0)<br>&nbsp;&nbsp;ACCEPTED(GigabitEthernet2/0)"
      ],
      "text/plain": [
       "Hop(node='as2dist1', steps=[Step(detail=EnterInputIfaceStepDetail(inputInterface='GigabitEthernet2/0', inputVrf='default'), action='RECEIVED'), Step(detail=InboundStepDetail(interface='GigabitEthernet2/0'), action='ACCEPTED')])"
      ]
     },
     "execution_count": 56,
     "metadata": {},
     "output_type": "execute_result"
    }
   ],
   "source": [
    "result.Reverse_Traces[0][0][-1]"
   ]
  },
  {
   "cell_type": "code",
   "execution_count": 57,
   "id": "a544849c",
   "metadata": {
    "nbsphinx": "hidden"
   },
   "outputs": [
    {
     "data": {
      "text/plain": [
       "'generate_questions'"
      ]
     },
     "execution_count": 57,
     "metadata": {},
     "output_type": "execute_result"
    }
   ],
   "source": [
    "bf.set_network('generate_questions')"
   ]
  },
  {
   "cell_type": "code",
   "execution_count": 58,
   "id": "5a0e46d0",
   "metadata": {
    "nbsphinx": "hidden"
   },
   "outputs": [
    {
     "data": {
      "text/plain": [
       "'generate_questions'"
      ]
     },
     "execution_count": 58,
     "metadata": {},
     "output_type": "execute_result"
    }
   ],
   "source": [
    "bf.set_snapshot('generate_questions')"
   ]
  },
  {
   "cell_type": "markdown",
   "id": "64be9cc1",
   "metadata": {},
   "source": [
    "##### Loop detection"
   ]
  },
  {
   "cell_type": "markdown",
   "id": "18799728",
   "metadata": {},
   "source": [
    "Detects forwarding loops."
   ]
  },
  {
   "cell_type": "markdown",
   "id": "307a08e1",
   "metadata": {},
   "source": [
    "Searches across all possible flows in the network and returns example flows that will experience forwarding loops."
   ]
  },
  {
   "cell_type": "markdown",
   "id": "565c7f37",
   "metadata": {},
   "source": [
    "###### Inputs"
   ]
  },
  {
   "cell_type": "markdown",
   "id": "139ae00e",
   "metadata": {},
   "source": [
    "Name | Description | Type | Optional | Default Value\n",
    "--- | --- | --- | --- | --- \n",
    "maxTraces | Limit the number of traces returned. | int | True | "
   ]
  },
  {
   "cell_type": "markdown",
   "id": "50fc2f55",
   "metadata": {},
   "source": [
    "###### Invocation"
   ]
  },
  {
   "cell_type": "code",
   "execution_count": 59,
   "id": "1a239519",
   "metadata": {},
   "outputs": [],
   "source": [
    "result = bf.q.detectLoops().answer().frame()"
   ]
  },
  {
   "cell_type": "markdown",
   "id": "a9f5b399",
   "metadata": {},
   "source": [
    "###### Return Value"
   ]
  },
  {
   "cell_type": "markdown",
   "id": "d25c0705",
   "metadata": {},
   "source": [
    "Name | Description | Type\n",
    "--- | --- | ---\n",
    "Flow | The flow | [Flow](../datamodel.rst#pybatfish.datamodel.flow.Flow)\n",
    "Traces | The traces for this flow | Set of [Trace](../datamodel.rst#pybatfish.datamodel.flow.Trace)\n",
    "TraceCount | The total number traces for this flow | int"
   ]
  },
  {
   "cell_type": "markdown",
   "id": "58a1641f",
   "metadata": {},
   "source": [
    "Print the first 5 rows of the returned Dataframe"
   ]
  },
  {
   "cell_type": "code",
   "execution_count": 60,
   "id": "9ec7898f",
   "metadata": {},
   "outputs": [
    {
     "data": {
      "text/html": [
       "<div>\n",
       "<style scoped>\n",
       "    .dataframe tbody tr th:only-of-type {\n",
       "        vertical-align: middle;\n",
       "    }\n",
       "\n",
       "    .dataframe tbody tr th {\n",
       "        vertical-align: top;\n",
       "    }\n",
       "\n",
       "    .dataframe thead th {\n",
       "        text-align: right;\n",
       "    }\n",
       "</style>\n",
       "<table border=\"1\" class=\"dataframe\">\n",
       "  <thead>\n",
       "    <tr style=\"text-align: right;\">\n",
       "      <th></th>\n",
       "      <th>Flow</th>\n",
       "      <th>Traces</th>\n",
       "      <th>TraceCount</th>\n",
       "    </tr>\n",
       "  </thead>\n",
       "  <tbody>\n",
       "  </tbody>\n",
       "</table>\n",
       "</div>"
      ],
      "text/plain": [
       "Empty DataFrame\n",
       "Columns: [Flow, Traces, TraceCount]\n",
       "Index: []"
      ]
     },
     "execution_count": 60,
     "metadata": {},
     "output_type": "execute_result"
    }
   ],
   "source": [
    "result.head(5)"
   ]
  },
  {
   "cell_type": "code",
   "execution_count": 61,
   "id": "faf03a39",
   "metadata": {
    "nbsphinx": "hidden"
   },
   "outputs": [
    {
     "data": {
      "text/plain": [
       "'generate_questions'"
      ]
     },
     "execution_count": 61,
     "metadata": {},
     "output_type": "execute_result"
    }
   ],
   "source": [
    "bf.set_network('generate_questions')"
   ]
  },
  {
   "cell_type": "code",
   "execution_count": 62,
   "id": "a48a3a4f",
   "metadata": {
    "nbsphinx": "hidden"
   },
   "outputs": [
    {
     "data": {
      "text/plain": [
       "'generate_questions'"
      ]
     },
     "execution_count": 62,
     "metadata": {},
     "output_type": "execute_result"
    }
   ],
   "source": [
    "bf.set_snapshot('generate_questions')"
   ]
  },
  {
   "cell_type": "markdown",
   "id": "15477830",
   "metadata": {},
   "source": [
    "##### Multipath Consistency for host-subnets"
   ]
  },
  {
   "cell_type": "markdown",
   "id": "7123396f",
   "metadata": {},
   "source": [
    "Validates multipath consistency between all pairs of subnets."
   ]
  },
  {
   "cell_type": "markdown",
   "id": "54c9b66d",
   "metadata": {},
   "source": [
    "Searches across all flows between subnets that are treated differently (i.e., dropped versus forwarded) by different paths in the network and returns example flows."
   ]
  },
  {
   "cell_type": "markdown",
   "id": "6209acf7",
   "metadata": {},
   "source": [
    "###### Inputs"
   ]
  },
  {
   "cell_type": "markdown",
   "id": "3cd93eda",
   "metadata": {},
   "source": [
    "Name | Description | Type | Optional | Default Value\n",
    "--- | --- | --- | --- | --- \n",
    "maxTraces | Limit the number of traces returned. | int | True | "
   ]
  },
  {
   "cell_type": "markdown",
   "id": "89be1328",
   "metadata": {},
   "source": [
    "###### Invocation"
   ]
  },
  {
   "cell_type": "code",
   "execution_count": 63,
   "id": "edb6f5ea",
   "metadata": {},
   "outputs": [],
   "source": [
    "result = bf.q.subnetMultipathConsistency().answer().frame()"
   ]
  },
  {
   "cell_type": "markdown",
   "id": "85c9d117",
   "metadata": {},
   "source": [
    "###### Return Value"
   ]
  },
  {
   "cell_type": "markdown",
   "id": "bc834b31",
   "metadata": {},
   "source": [
    "Name | Description | Type\n",
    "--- | --- | ---\n",
    "Flow | The flow | [Flow](../datamodel.rst#pybatfish.datamodel.flow.Flow)\n",
    "Traces | The traces for this flow | Set of [Trace](../datamodel.rst#pybatfish.datamodel.flow.Trace)\n",
    "TraceCount | The total number traces for this flow | int"
   ]
  },
  {
   "cell_type": "markdown",
   "id": "8a5edcdf",
   "metadata": {},
   "source": [
    "Retrieving the flow definition"
   ]
  },
  {
   "cell_type": "code",
   "execution_count": 64,
   "id": "f1d52e0e",
   "metadata": {},
   "outputs": [
    {
     "data": {
      "text/plain": [
       "0    start=as2dept1 interface=GigabitEthernet0/0 [2.34.101.1:49152->1.0.1.3:23 TCP length=512]\n",
       "1    start=as2dept1 interface=GigabitEthernet1/0 [2.34.201.1:49152->1.0.1.3:23 TCP length=512]\n",
       "2     start=as2dept1 interface=GigabitEthernet2/0 [2.128.0.2:49152->1.0.1.3:23 TCP length=512]\n",
       "3     start=as2dept1 interface=GigabitEthernet3/0 [2.128.1.2:49152->1.0.1.3:23 TCP length=512]\n",
       "4     start=as2dist1 interface=GigabitEthernet0/0 [2.23.11.1:49152->1.0.1.3:23 TCP length=512]\n",
       "5     start=as2dist1 interface=GigabitEthernet1/0 [2.23.21.1:49152->1.0.1.3:23 TCP length=512]\n",
       "6    start=as2dist1 interface=GigabitEthernet2/0 [2.34.101.1:49152->1.0.1.3:23 TCP length=512]\n",
       "7     start=as2dist2 interface=GigabitEthernet0/0 [2.23.22.1:49152->1.0.1.3:23 TCP length=512]\n",
       "8     start=as2dist2 interface=GigabitEthernet1/0 [2.23.12.1:49152->1.0.1.3:23 TCP length=512]\n",
       "9    start=as2dist2 interface=GigabitEthernet2/0 [2.34.201.1:49152->1.0.1.3:23 TCP length=512]\n",
       "Name: Flow, dtype: object"
      ]
     },
     "execution_count": 64,
     "metadata": {},
     "output_type": "execute_result"
    }
   ],
   "source": [
    "result.Flow"
   ]
  },
  {
   "cell_type": "markdown",
   "id": "22e55b7d",
   "metadata": {},
   "source": [
    "Retrieving the detailed Trace information"
   ]
  },
  {
   "cell_type": "code",
   "execution_count": 65,
   "id": "647572ed",
   "metadata": {},
   "outputs": [
    {
     "data": {
      "text/plain": [
       "10"
      ]
     },
     "execution_count": 65,
     "metadata": {},
     "output_type": "execute_result"
    }
   ],
   "source": [
    "len(result.Traces)"
   ]
  },
  {
   "cell_type": "code",
   "execution_count": 66,
   "id": "085f3b06",
   "metadata": {},
   "outputs": [
    {
     "data": {
      "text/html": [
       "<span style=\"color:#7c020e; text-weight:bold;\">DENIED_IN</span><br><strong>1</strong>. node: as2dept1<br>&nbsp;&nbsp;RECEIVED(GigabitEthernet0/0)<br>&nbsp;&nbsp;FORWARDED(ARP IP: 2.34.101.3, Output Interface: GigabitEthernet0/0, Routes: [bgp (Network: 1.0.1.0/24, Next Hop IP:2.34.101.3)])<br>&nbsp;&nbsp;TRANSMITTED(GigabitEthernet0/0)<br><strong>2</strong>. node: as2dist1<br>&nbsp;&nbsp;RECEIVED(GigabitEthernet2/0)<br>&nbsp;&nbsp;FORWARDED(ARP IP: 2.23.11.2, Output Interface: GigabitEthernet0/0, Routes: [ibgp (Network: 1.0.1.0/24, Next Hop IP:10.12.11.1)])<br>&nbsp;&nbsp;TRANSMITTED(GigabitEthernet0/0)<br><strong>3</strong>. node: as2core1<br>&nbsp;&nbsp;RECEIVED(GigabitEthernet2/0)<br>&nbsp;&nbsp;DENIED(blocktelnet (INGRESS_FILTER))<br><br><span style=\"color:#019612; text-weight:bold;\">DELIVERED_TO_SUBNET</span><br><strong>1</strong>. node: as2dept1<br>&nbsp;&nbsp;RECEIVED(GigabitEthernet0/0)<br>&nbsp;&nbsp;FORWARDED(ARP IP: 2.34.101.3, Output Interface: GigabitEthernet0/0, Routes: [bgp (Network: 1.0.1.0/24, Next Hop IP:2.34.101.3)])<br>&nbsp;&nbsp;TRANSMITTED(GigabitEthernet0/0)<br><strong>2</strong>. node: as2dist1<br>&nbsp;&nbsp;RECEIVED(GigabitEthernet2/0)<br>&nbsp;&nbsp;FORWARDED(ARP IP: 2.23.21.2, Output Interface: GigabitEthernet1/0, Routes: [ibgp (Network: 1.0.1.0/24, Next Hop IP:10.12.11.1)])<br>&nbsp;&nbsp;TRANSMITTED(GigabitEthernet1/0)<br><strong>3</strong>. node: as2core2<br>&nbsp;&nbsp;RECEIVED(GigabitEthernet3/0)<br>&nbsp;&nbsp;FORWARDED(ARP IP: 2.12.12.1, Output Interface: GigabitEthernet1/0, Routes: [ibgp (Network: 1.0.1.0/24, Next Hop IP:10.12.11.1)])<br>&nbsp;&nbsp;TRANSMITTED(GigabitEthernet1/0)<br><strong>4</strong>. node: as2border1<br>&nbsp;&nbsp;RECEIVED(GigabitEthernet2/0)<br>&nbsp;&nbsp;FORWARDED(ARP IP: 10.12.11.1, Output Interface: GigabitEthernet0/0, Routes: [bgp (Network: 1.0.1.0/24, Next Hop IP:10.12.11.1)])<br>&nbsp;&nbsp;PERMITTED(INSIDE_TO_AS1 (EGRESS_FILTER))<br>&nbsp;&nbsp;TRANSMITTED(GigabitEthernet0/0)<br><strong>5</strong>. node: as1border1<br>&nbsp;&nbsp;RECEIVED(GigabitEthernet1/0)<br>&nbsp;&nbsp;FORWARDED(ARP IP: AUTO/NONE(-1l), Output Interface: GigabitEthernet0/0, Routes: [connected (Network: 1.0.1.0/24, Next Hop IP:AUTO/NONE(-1l))])<br>&nbsp;&nbsp;TRANSMITTED(GigabitEthernet0/0)<br>&nbsp;&nbsp;DELIVERED_TO_SUBNET(Output Interface: GigabitEthernet0/0, Resolved Next Hop IP: 1.0.1.3)<br><br><span style=\"color:#019612; text-weight:bold;\">DELIVERED_TO_SUBNET</span><br><strong>1</strong>. node: as2dept1<br>&nbsp;&nbsp;RECEIVED(GigabitEthernet0/0)<br>&nbsp;&nbsp;FORWARDED(ARP IP: 2.34.201.3, Output Interface: GigabitEthernet1/0, Routes: [bgp (Network: 1.0.1.0/24, Next Hop IP:2.34.201.3)])<br>&nbsp;&nbsp;TRANSMITTED(GigabitEthernet1/0)<br><strong>2</strong>. node: as2dist2<br>&nbsp;&nbsp;RECEIVED(GigabitEthernet2/0)<br>&nbsp;&nbsp;FORWARDED(ARP IP: 2.23.22.2, Output Interface: GigabitEthernet0/0, Routes: [ibgp (Network: 1.0.1.0/24, Next Hop IP:10.12.11.1)])<br>&nbsp;&nbsp;TRANSMITTED(GigabitEthernet0/0)<br><strong>3</strong>. node: as2core2<br>&nbsp;&nbsp;RECEIVED(GigabitEthernet2/0)<br>&nbsp;&nbsp;FORWARDED(ARP IP: 2.12.12.1, Output Interface: GigabitEthernet1/0, Routes: [ibgp (Network: 1.0.1.0/24, Next Hop IP:10.12.11.1)])<br>&nbsp;&nbsp;TRANSMITTED(GigabitEthernet1/0)<br><strong>4</strong>. node: as2border1<br>&nbsp;&nbsp;RECEIVED(GigabitEthernet2/0)<br>&nbsp;&nbsp;FORWARDED(ARP IP: 10.12.11.1, Output Interface: GigabitEthernet0/0, Routes: [bgp (Network: 1.0.1.0/24, Next Hop IP:10.12.11.1)])<br>&nbsp;&nbsp;PERMITTED(INSIDE_TO_AS1 (EGRESS_FILTER))<br>&nbsp;&nbsp;TRANSMITTED(GigabitEthernet0/0)<br><strong>5</strong>. node: as1border1<br>&nbsp;&nbsp;RECEIVED(GigabitEthernet1/0)<br>&nbsp;&nbsp;FORWARDED(ARP IP: AUTO/NONE(-1l), Output Interface: GigabitEthernet0/0, Routes: [connected (Network: 1.0.1.0/24, Next Hop IP:AUTO/NONE(-1l))])<br>&nbsp;&nbsp;TRANSMITTED(GigabitEthernet0/0)<br>&nbsp;&nbsp;DELIVERED_TO_SUBNET(Output Interface: GigabitEthernet0/0, Resolved Next Hop IP: 1.0.1.3)<br><br><span style=\"color:#7c020e; text-weight:bold;\">DENIED_IN</span><br><strong>1</strong>. node: as2dept1<br>&nbsp;&nbsp;RECEIVED(GigabitEthernet0/0)<br>&nbsp;&nbsp;FORWARDED(ARP IP: 2.34.201.3, Output Interface: GigabitEthernet1/0, Routes: [bgp (Network: 1.0.1.0/24, Next Hop IP:2.34.201.3)])<br>&nbsp;&nbsp;TRANSMITTED(GigabitEthernet1/0)<br><strong>2</strong>. node: as2dist2<br>&nbsp;&nbsp;RECEIVED(GigabitEthernet2/0)<br>&nbsp;&nbsp;FORWARDED(ARP IP: 2.23.12.2, Output Interface: GigabitEthernet1/0, Routes: [ibgp (Network: 1.0.1.0/24, Next Hop IP:10.12.11.1)])<br>&nbsp;&nbsp;TRANSMITTED(GigabitEthernet1/0)<br><strong>3</strong>. node: as2core1<br>&nbsp;&nbsp;RECEIVED(GigabitEthernet3/0)<br>&nbsp;&nbsp;DENIED(blocktelnet (INGRESS_FILTER))"
      ],
      "text/plain": [
       "ListWrapper([((RECEIVED(GigabitEthernet0/0), FORWARDED(ARP IP: 2.34.101.3, Output Interface: GigabitEthernet0/0, Routes: [bgp (Network: 1.0.1.0/24, Next Hop IP:2.34.101.3)]), TRANSMITTED(GigabitEthernet0/0)), (RECEIVED(GigabitEthernet2/0), FORWARDED(ARP IP: 2.23.11.2, Output Interface: GigabitEthernet0/0, Routes: [ibgp (Network: 1.0.1.0/24, Next Hop IP:10.12.11.1)]), TRANSMITTED(GigabitEthernet0/0)), (RECEIVED(GigabitEthernet2/0), DENIED(blocktelnet (INGRESS_FILTER)))), ((RECEIVED(GigabitEthernet0/0), FORWARDED(ARP IP: 2.34.101.3, Output Interface: GigabitEthernet0/0, Routes: [bgp (Network: 1.0.1.0/24, Next Hop IP:2.34.101.3)]), TRANSMITTED(GigabitEthernet0/0)), (RECEIVED(GigabitEthernet2/0), FORWARDED(ARP IP: 2.23.21.2, Output Interface: GigabitEthernet1/0, Routes: [ibgp (Network: 1.0.1.0/24, Next Hop IP:10.12.11.1)]), TRANSMITTED(GigabitEthernet1/0)), (RECEIVED(GigabitEthernet3/0), FORWARDED(ARP IP: 2.12.12.1, Output Interface: GigabitEthernet1/0, Routes: [ibgp (Network: 1.0.1.0/24, Next Hop IP:10.12.11.1)]), TRANSMITTED(GigabitEthernet1/0)), (RECEIVED(GigabitEthernet2/0), FORWARDED(ARP IP: 10.12.11.1, Output Interface: GigabitEthernet0/0, Routes: [bgp (Network: 1.0.1.0/24, Next Hop IP:10.12.11.1)]), PERMITTED(INSIDE_TO_AS1 (EGRESS_FILTER)), TRANSMITTED(GigabitEthernet0/0)), (RECEIVED(GigabitEthernet1/0), FORWARDED(ARP IP: AUTO/NONE(-1l), Output Interface: GigabitEthernet0/0, Routes: [connected (Network: 1.0.1.0/24, Next Hop IP:AUTO/NONE(-1l))]), TRANSMITTED(GigabitEthernet0/0), DELIVERED_TO_SUBNET(Output Interface: GigabitEthernet0/0, Resolved Next Hop IP: 1.0.1.3))), ((RECEIVED(GigabitEthernet0/0), FORWARDED(ARP IP: 2.34.201.3, Output Interface: GigabitEthernet1/0, Routes: [bgp (Network: 1.0.1.0/24, Next Hop IP:2.34.201.3)]), TRANSMITTED(GigabitEthernet1/0)), (RECEIVED(GigabitEthernet2/0), FORWARDED(ARP IP: 2.23.22.2, Output Interface: GigabitEthernet0/0, Routes: [ibgp (Network: 1.0.1.0/24, Next Hop IP:10.12.11.1)]), TRANSMITTED(GigabitEthernet0/0)), (RECEIVED(GigabitEthernet2/0), FORWARDED(ARP IP: 2.12.12.1, Output Interface: GigabitEthernet1/0, Routes: [ibgp (Network: 1.0.1.0/24, Next Hop IP:10.12.11.1)]), TRANSMITTED(GigabitEthernet1/0)), (RECEIVED(GigabitEthernet2/0), FORWARDED(ARP IP: 10.12.11.1, Output Interface: GigabitEthernet0/0, Routes: [bgp (Network: 1.0.1.0/24, Next Hop IP:10.12.11.1)]), PERMITTED(INSIDE_TO_AS1 (EGRESS_FILTER)), TRANSMITTED(GigabitEthernet0/0)), (RECEIVED(GigabitEthernet1/0), FORWARDED(ARP IP: AUTO/NONE(-1l), Output Interface: GigabitEthernet0/0, Routes: [connected (Network: 1.0.1.0/24, Next Hop IP:AUTO/NONE(-1l))]), TRANSMITTED(GigabitEthernet0/0), DELIVERED_TO_SUBNET(Output Interface: GigabitEthernet0/0, Resolved Next Hop IP: 1.0.1.3))), ((RECEIVED(GigabitEthernet0/0), FORWARDED(ARP IP: 2.34.201.3, Output Interface: GigabitEthernet1/0, Routes: [bgp (Network: 1.0.1.0/24, Next Hop IP:2.34.201.3)]), TRANSMITTED(GigabitEthernet1/0)), (RECEIVED(GigabitEthernet2/0), FORWARDED(ARP IP: 2.23.12.2, Output Interface: GigabitEthernet1/0, Routes: [ibgp (Network: 1.0.1.0/24, Next Hop IP:10.12.11.1)]), TRANSMITTED(GigabitEthernet1/0)), (RECEIVED(GigabitEthernet3/0), DENIED(blocktelnet (INGRESS_FILTER))))])"
      ]
     },
     "execution_count": 66,
     "metadata": {},
     "output_type": "execute_result"
    }
   ],
   "source": [
    "result.Traces[0]"
   ]
  },
  {
   "cell_type": "markdown",
   "id": "3a2ad796",
   "metadata": {},
   "source": [
    "Evaluating the first Trace"
   ]
  },
  {
   "cell_type": "code",
   "execution_count": 67,
   "id": "b7b33bfa",
   "metadata": {},
   "outputs": [
    {
     "data": {
      "text/html": [
       "<span style=\"color:#7c020e; text-weight:bold;\">DENIED_IN</span><br><strong>1</strong>. node: as2dept1<br>&nbsp;&nbsp;RECEIVED(GigabitEthernet0/0)<br>&nbsp;&nbsp;FORWARDED(ARP IP: 2.34.101.3, Output Interface: GigabitEthernet0/0, Routes: [bgp (Network: 1.0.1.0/24, Next Hop IP:2.34.101.3)])<br>&nbsp;&nbsp;TRANSMITTED(GigabitEthernet0/0)<br><strong>2</strong>. node: as2dist1<br>&nbsp;&nbsp;RECEIVED(GigabitEthernet2/0)<br>&nbsp;&nbsp;FORWARDED(ARP IP: 2.23.11.2, Output Interface: GigabitEthernet0/0, Routes: [ibgp (Network: 1.0.1.0/24, Next Hop IP:10.12.11.1)])<br>&nbsp;&nbsp;TRANSMITTED(GigabitEthernet0/0)<br><strong>3</strong>. node: as2core1<br>&nbsp;&nbsp;RECEIVED(GigabitEthernet2/0)<br>&nbsp;&nbsp;DENIED(blocktelnet (INGRESS_FILTER))"
      ],
      "text/plain": [
       "Trace(disposition='DENIED_IN', hops=[Hop(node='as2dept1', steps=[Step(detail=EnterInputIfaceStepDetail(inputInterface='GigabitEthernet0/0', inputVrf='default'), action='RECEIVED'), Step(detail=RoutingStepDetail(routes=[{'admin': 20, 'metric': 50, 'network': '1.0.1.0/24', 'nextHopIp': '2.34.101.3', 'protocol': 'bgp'}], arpIp='2.34.101.3', outputInterface='GigabitEthernet0/0'), action='FORWARDED'), Step(detail=ExitOutputIfaceStepDetail(outputInterface='GigabitEthernet0/0', transformedFlow=None), action='TRANSMITTED')]), Hop(node='as2dist1', steps=[Step(detail=EnterInputIfaceStepDetail(inputInterface='GigabitEthernet2/0', inputVrf='default'), action='RECEIVED'), Step(detail=RoutingStepDetail(routes=[{'admin': 200, 'metric': 50, 'network': '1.0.1.0/24', 'nextHopIp': '10.12.11.1', 'protocol': 'ibgp'}], arpIp='2.23.11.2', outputInterface='GigabitEthernet0/0'), action='FORWARDED'), Step(detail=ExitOutputIfaceStepDetail(outputInterface='GigabitEthernet0/0', transformedFlow=None), action='TRANSMITTED')]), Hop(node='as2core1', steps=[Step(detail=EnterInputIfaceStepDetail(inputInterface='GigabitEthernet2/0', inputVrf='default'), action='RECEIVED'), Step(detail=FilterStepDetail(filter='blocktelnet', filterType='INGRESS_FILTER', inputInterface='GigabitEthernet2/0', flow=Flow(dscp=0, dstIp='1.0.1.3', dstPort=23, ecn=0, fragmentOffset=0, icmpCode=None, icmpVar=None, ingressInterface='GigabitEthernet0/0', ingressNode='as2dept1', ingressVrf=None, ipProtocol='TCP', packetLength=512, srcIp='2.34.101.1', srcPort=49152, tcpFlagsAck=0, tcpFlagsCwr=0, tcpFlagsEce=0, tcpFlagsFin=0, tcpFlagsPsh=0, tcpFlagsRst=0, tcpFlagsSyn=1, tcpFlagsUrg=0)), action='DENIED')])])"
      ]
     },
     "execution_count": 67,
     "metadata": {},
     "output_type": "execute_result"
    }
   ],
   "source": [
    "result.Traces[0][0]"
   ]
  },
  {
   "cell_type": "markdown",
   "id": "832e5c16",
   "metadata": {},
   "source": [
    "Retrieving the disposition of the first Trace"
   ]
  },
  {
   "cell_type": "code",
   "execution_count": 68,
   "id": "10ad47e0",
   "metadata": {},
   "outputs": [
    {
     "data": {
      "text/plain": [
       "'DENIED_IN'"
      ]
     },
     "execution_count": 68,
     "metadata": {},
     "output_type": "execute_result"
    }
   ],
   "source": [
    "result.Traces[0][0].disposition"
   ]
  },
  {
   "cell_type": "markdown",
   "id": "4578d8a8",
   "metadata": {},
   "source": [
    "Retrieving the first hop of the first Trace"
   ]
  },
  {
   "cell_type": "code",
   "execution_count": 69,
   "id": "56b1093f",
   "metadata": {},
   "outputs": [
    {
     "data": {
      "text/html": [
       "node: as2dept1<br>&nbsp;&nbsp;RECEIVED(GigabitEthernet0/0)<br>&nbsp;&nbsp;FORWARDED(ARP IP: 2.34.101.3, Output Interface: GigabitEthernet0/0, Routes: [bgp (Network: 1.0.1.0/24, Next Hop IP:2.34.101.3)])<br>&nbsp;&nbsp;TRANSMITTED(GigabitEthernet0/0)"
      ],
      "text/plain": [
       "Hop(node='as2dept1', steps=[Step(detail=EnterInputIfaceStepDetail(inputInterface='GigabitEthernet0/0', inputVrf='default'), action='RECEIVED'), Step(detail=RoutingStepDetail(routes=[{'admin': 20, 'metric': 50, 'network': '1.0.1.0/24', 'nextHopIp': '2.34.101.3', 'protocol': 'bgp'}], arpIp='2.34.101.3', outputInterface='GigabitEthernet0/0'), action='FORWARDED'), Step(detail=ExitOutputIfaceStepDetail(outputInterface='GigabitEthernet0/0', transformedFlow=None), action='TRANSMITTED')])"
      ]
     },
     "execution_count": 69,
     "metadata": {},
     "output_type": "execute_result"
    }
   ],
   "source": [
    "result.Traces[0][0][0]"
   ]
  },
  {
   "cell_type": "markdown",
   "id": "b94f2c36",
   "metadata": {},
   "source": [
    "Retrieving the last hop of the first Trace"
   ]
  },
  {
   "cell_type": "code",
   "execution_count": 70,
   "id": "9847bb5e",
   "metadata": {},
   "outputs": [
    {
     "data": {
      "text/html": [
       "node: as2core1<br>&nbsp;&nbsp;RECEIVED(GigabitEthernet2/0)<br>&nbsp;&nbsp;DENIED(blocktelnet (INGRESS_FILTER))"
      ],
      "text/plain": [
       "Hop(node='as2core1', steps=[Step(detail=EnterInputIfaceStepDetail(inputInterface='GigabitEthernet2/0', inputVrf='default'), action='RECEIVED'), Step(detail=FilterStepDetail(filter='blocktelnet', filterType='INGRESS_FILTER', inputInterface='GigabitEthernet2/0', flow=Flow(dscp=0, dstIp='1.0.1.3', dstPort=23, ecn=0, fragmentOffset=0, icmpCode=None, icmpVar=None, ingressInterface='GigabitEthernet0/0', ingressNode='as2dept1', ingressVrf=None, ipProtocol='TCP', packetLength=512, srcIp='2.34.101.1', srcPort=49152, tcpFlagsAck=0, tcpFlagsCwr=0, tcpFlagsEce=0, tcpFlagsFin=0, tcpFlagsPsh=0, tcpFlagsRst=0, tcpFlagsSyn=1, tcpFlagsUrg=0)), action='DENIED')])"
      ]
     },
     "execution_count": 70,
     "metadata": {},
     "output_type": "execute_result"
    }
   ],
   "source": [
    "result.Traces[0][0][-1]"
   ]
  },
  {
   "cell_type": "code",
   "execution_count": 71,
   "id": "7fa92fa3",
   "metadata": {
    "nbsphinx": "hidden"
   },
   "outputs": [
    {
     "data": {
      "text/plain": [
       "'generate_questions'"
      ]
     },
     "execution_count": 71,
     "metadata": {},
     "output_type": "execute_result"
    }
   ],
   "source": [
    "bf.set_network('generate_questions')"
   ]
  },
  {
   "cell_type": "code",
   "execution_count": 72,
   "id": "70b81aab",
   "metadata": {
    "nbsphinx": "hidden"
   },
   "outputs": [
    {
     "data": {
      "text/plain": [
       "'generate_questions'"
      ]
     },
     "execution_count": 72,
     "metadata": {},
     "output_type": "execute_result"
    }
   ],
   "source": [
    "bf.set_snapshot('generate_questions')"
   ]
  },
  {
   "cell_type": "markdown",
   "id": "c5b264d9",
   "metadata": {},
   "source": [
    "##### Multipath Consistency for router loopbacks"
   ]
  },
  {
   "cell_type": "markdown",
   "id": "a1b61fa7",
   "metadata": {},
   "source": [
    "Validates multipath consistency between all pairs of loopbacks."
   ]
  },
  {
   "cell_type": "markdown",
   "id": "703ba919",
   "metadata": {},
   "source": [
    "Finds flows between loopbacks that are treated differently (i.e., dropped versus forwarded) by different paths in the presence of multipath routing."
   ]
  },
  {
   "cell_type": "markdown",
   "id": "ad0489d9",
   "metadata": {},
   "source": [
    "###### Inputs"
   ]
  },
  {
   "cell_type": "markdown",
   "id": "85b544a4",
   "metadata": {},
   "source": [
    "Name | Description | Type | Optional | Default Value\n",
    "--- | --- | --- | --- | --- \n",
    "maxTraces | Limit the number of traces returned. | int | True | "
   ]
  },
  {
   "cell_type": "markdown",
   "id": "54703ba4",
   "metadata": {},
   "source": [
    "###### Invocation"
   ]
  },
  {
   "cell_type": "code",
   "execution_count": 73,
   "id": "a08b7c1f",
   "metadata": {},
   "outputs": [],
   "source": [
    "result = bf.q.loopbackMultipathConsistency().answer().frame()"
   ]
  },
  {
   "cell_type": "markdown",
   "id": "bfb6514e",
   "metadata": {},
   "source": [
    "###### Return Value"
   ]
  },
  {
   "cell_type": "markdown",
   "id": "8fe77fb9",
   "metadata": {},
   "source": [
    "Name | Description | Type\n",
    "--- | --- | ---\n",
    "Flow | The flow | [Flow](../datamodel.rst#pybatfish.datamodel.flow.Flow)\n",
    "Traces | The traces for this flow | Set of [Trace](../datamodel.rst#pybatfish.datamodel.flow.Trace)\n",
    "TraceCount | The total number traces for this flow | int"
   ]
  },
  {
   "cell_type": "markdown",
   "id": "ff989a00",
   "metadata": {},
   "source": [
    "Retrieving the flow definition"
   ]
  },
  {
   "cell_type": "code",
   "execution_count": 74,
   "id": "93714784",
   "metadata": {},
   "outputs": [
    {
     "data": {
      "text/plain": [
       "0    start=as2core2 [2.1.2.2:49152->2.1.2.1:23 TCP length=512]\n",
       "1    start=as2dist1 [2.1.3.1:49152->2.1.1.1:23 TCP length=512]\n",
       "2    start=as2dist2 [2.1.3.2:49152->2.1.1.1:23 TCP length=512]\n",
       "Name: Flow, dtype: object"
      ]
     },
     "execution_count": 74,
     "metadata": {},
     "output_type": "execute_result"
    }
   ],
   "source": [
    "result.Flow"
   ]
  },
  {
   "cell_type": "markdown",
   "id": "b8a5b8a6",
   "metadata": {},
   "source": [
    "Retrieving the detailed Trace information"
   ]
  },
  {
   "cell_type": "code",
   "execution_count": 75,
   "id": "49c97d52",
   "metadata": {},
   "outputs": [
    {
     "data": {
      "text/plain": [
       "3"
      ]
     },
     "execution_count": 75,
     "metadata": {},
     "output_type": "execute_result"
    }
   ],
   "source": [
    "len(result.Traces)"
   ]
  },
  {
   "cell_type": "code",
   "execution_count": 76,
   "id": "4c189314",
   "metadata": {},
   "outputs": [
    {
     "data": {
      "text/html": [
       "<span style=\"color:#019612; text-weight:bold;\">ACCEPTED</span><br><strong>1</strong>. node: as2core2<br>&nbsp;&nbsp;ORIGINATED(default)<br>&nbsp;&nbsp;FORWARDED(ARP IP: 2.12.22.1, Output Interface: GigabitEthernet0/0, Routes: [ospf (Network: 2.1.2.1/32, Next Hop IP:2.12.22.1)])<br>&nbsp;&nbsp;TRANSMITTED(GigabitEthernet0/0)<br><strong>2</strong>. node: as2border2<br>&nbsp;&nbsp;RECEIVED(GigabitEthernet1/0)<br>&nbsp;&nbsp;FORWARDED(ARP IP: 2.12.21.2, Output Interface: GigabitEthernet2/0, Routes: [ospf (Network: 2.1.2.1/32, Next Hop IP:2.12.21.2)])<br>&nbsp;&nbsp;TRANSMITTED(GigabitEthernet2/0)<br><strong>3</strong>. node: as2core1<br>&nbsp;&nbsp;RECEIVED(GigabitEthernet1/0)<br>&nbsp;&nbsp;ACCEPTED(Loopback0)<br><br><span style=\"color:#019612; text-weight:bold;\">ACCEPTED</span><br><strong>1</strong>. node: as2core2<br>&nbsp;&nbsp;ORIGINATED(default)<br>&nbsp;&nbsp;FORWARDED(ARP IP: 2.12.12.1, Output Interface: GigabitEthernet1/0, Routes: [ospf (Network: 2.1.2.1/32, Next Hop IP:2.12.12.1)])<br>&nbsp;&nbsp;TRANSMITTED(GigabitEthernet1/0)<br><strong>2</strong>. node: as2border1<br>&nbsp;&nbsp;RECEIVED(GigabitEthernet2/0)<br>&nbsp;&nbsp;FORWARDED(ARP IP: 2.12.11.2, Output Interface: GigabitEthernet1/0, Routes: [ospf (Network: 2.1.2.1/32, Next Hop IP:2.12.11.2)])<br>&nbsp;&nbsp;TRANSMITTED(GigabitEthernet1/0)<br><strong>3</strong>. node: as2core1<br>&nbsp;&nbsp;RECEIVED(GigabitEthernet0/0)<br>&nbsp;&nbsp;ACCEPTED(Loopback0)<br><br><span style=\"color:#7c020e; text-weight:bold;\">DENIED_IN</span><br><strong>1</strong>. node: as2core2<br>&nbsp;&nbsp;ORIGINATED(default)<br>&nbsp;&nbsp;FORWARDED(ARP IP: 2.23.22.3, Output Interface: GigabitEthernet2/0, Routes: [ospf (Network: 2.1.2.1/32, Next Hop IP:2.23.22.3)])<br>&nbsp;&nbsp;TRANSMITTED(GigabitEthernet2/0)<br><strong>2</strong>. node: as2dist2<br>&nbsp;&nbsp;RECEIVED(GigabitEthernet0/0)<br>&nbsp;&nbsp;FORWARDED(ARP IP: 2.23.12.2, Output Interface: GigabitEthernet1/0, Routes: [ospf (Network: 2.1.2.1/32, Next Hop IP:2.23.12.2)])<br>&nbsp;&nbsp;TRANSMITTED(GigabitEthernet1/0)<br><strong>3</strong>. node: as2core1<br>&nbsp;&nbsp;RECEIVED(GigabitEthernet3/0)<br>&nbsp;&nbsp;DENIED(blocktelnet (INGRESS_FILTER))<br><br><span style=\"color:#7c020e; text-weight:bold;\">DENIED_IN</span><br><strong>1</strong>. node: as2core2<br>&nbsp;&nbsp;ORIGINATED(default)<br>&nbsp;&nbsp;FORWARDED(ARP IP: 2.23.21.3, Output Interface: GigabitEthernet3/0, Routes: [ospf (Network: 2.1.2.1/32, Next Hop IP:2.23.21.3)])<br>&nbsp;&nbsp;TRANSMITTED(GigabitEthernet3/0)<br><strong>2</strong>. node: as2dist1<br>&nbsp;&nbsp;RECEIVED(GigabitEthernet1/0)<br>&nbsp;&nbsp;FORWARDED(ARP IP: 2.23.11.2, Output Interface: GigabitEthernet0/0, Routes: [ospf (Network: 2.1.2.1/32, Next Hop IP:2.23.11.2)])<br>&nbsp;&nbsp;TRANSMITTED(GigabitEthernet0/0)<br><strong>3</strong>. node: as2core1<br>&nbsp;&nbsp;RECEIVED(GigabitEthernet2/0)<br>&nbsp;&nbsp;DENIED(blocktelnet (INGRESS_FILTER))"
      ],
      "text/plain": [
       "ListWrapper([((ORIGINATED(default), FORWARDED(ARP IP: 2.12.22.1, Output Interface: GigabitEthernet0/0, Routes: [ospf (Network: 2.1.2.1/32, Next Hop IP:2.12.22.1)]), TRANSMITTED(GigabitEthernet0/0)), (RECEIVED(GigabitEthernet1/0), FORWARDED(ARP IP: 2.12.21.2, Output Interface: GigabitEthernet2/0, Routes: [ospf (Network: 2.1.2.1/32, Next Hop IP:2.12.21.2)]), TRANSMITTED(GigabitEthernet2/0)), (RECEIVED(GigabitEthernet1/0), ACCEPTED(Loopback0))), ((ORIGINATED(default), FORWARDED(ARP IP: 2.12.12.1, Output Interface: GigabitEthernet1/0, Routes: [ospf (Network: 2.1.2.1/32, Next Hop IP:2.12.12.1)]), TRANSMITTED(GigabitEthernet1/0)), (RECEIVED(GigabitEthernet2/0), FORWARDED(ARP IP: 2.12.11.2, Output Interface: GigabitEthernet1/0, Routes: [ospf (Network: 2.1.2.1/32, Next Hop IP:2.12.11.2)]), TRANSMITTED(GigabitEthernet1/0)), (RECEIVED(GigabitEthernet0/0), ACCEPTED(Loopback0))), ((ORIGINATED(default), FORWARDED(ARP IP: 2.23.22.3, Output Interface: GigabitEthernet2/0, Routes: [ospf (Network: 2.1.2.1/32, Next Hop IP:2.23.22.3)]), TRANSMITTED(GigabitEthernet2/0)), (RECEIVED(GigabitEthernet0/0), FORWARDED(ARP IP: 2.23.12.2, Output Interface: GigabitEthernet1/0, Routes: [ospf (Network: 2.1.2.1/32, Next Hop IP:2.23.12.2)]), TRANSMITTED(GigabitEthernet1/0)), (RECEIVED(GigabitEthernet3/0), DENIED(blocktelnet (INGRESS_FILTER)))), ((ORIGINATED(default), FORWARDED(ARP IP: 2.23.21.3, Output Interface: GigabitEthernet3/0, Routes: [ospf (Network: 2.1.2.1/32, Next Hop IP:2.23.21.3)]), TRANSMITTED(GigabitEthernet3/0)), (RECEIVED(GigabitEthernet1/0), FORWARDED(ARP IP: 2.23.11.2, Output Interface: GigabitEthernet0/0, Routes: [ospf (Network: 2.1.2.1/32, Next Hop IP:2.23.11.2)]), TRANSMITTED(GigabitEthernet0/0)), (RECEIVED(GigabitEthernet2/0), DENIED(blocktelnet (INGRESS_FILTER))))])"
      ]
     },
     "execution_count": 76,
     "metadata": {},
     "output_type": "execute_result"
    }
   ],
   "source": [
    "result.Traces[0]"
   ]
  },
  {
   "cell_type": "markdown",
   "id": "f1b3d808",
   "metadata": {},
   "source": [
    "Evaluating the first Trace"
   ]
  },
  {
   "cell_type": "code",
   "execution_count": 77,
   "id": "b701b568",
   "metadata": {},
   "outputs": [
    {
     "data": {
      "text/html": [
       "<span style=\"color:#019612; text-weight:bold;\">ACCEPTED</span><br><strong>1</strong>. node: as2core2<br>&nbsp;&nbsp;ORIGINATED(default)<br>&nbsp;&nbsp;FORWARDED(ARP IP: 2.12.22.1, Output Interface: GigabitEthernet0/0, Routes: [ospf (Network: 2.1.2.1/32, Next Hop IP:2.12.22.1)])<br>&nbsp;&nbsp;TRANSMITTED(GigabitEthernet0/0)<br><strong>2</strong>. node: as2border2<br>&nbsp;&nbsp;RECEIVED(GigabitEthernet1/0)<br>&nbsp;&nbsp;FORWARDED(ARP IP: 2.12.21.2, Output Interface: GigabitEthernet2/0, Routes: [ospf (Network: 2.1.2.1/32, Next Hop IP:2.12.21.2)])<br>&nbsp;&nbsp;TRANSMITTED(GigabitEthernet2/0)<br><strong>3</strong>. node: as2core1<br>&nbsp;&nbsp;RECEIVED(GigabitEthernet1/0)<br>&nbsp;&nbsp;ACCEPTED(Loopback0)"
      ],
      "text/plain": [
       "Trace(disposition='ACCEPTED', hops=[Hop(node='as2core2', steps=[Step(detail=OriginateStepDetail(originatingVrf='default'), action='ORIGINATED'), Step(detail=RoutingStepDetail(routes=[{'admin': 110, 'metric': 3, 'network': '2.1.2.1/32', 'nextHopIp': '2.12.22.1', 'protocol': 'ospf'}], arpIp='2.12.22.1', outputInterface='GigabitEthernet0/0'), action='FORWARDED'), Step(detail=ExitOutputIfaceStepDetail(outputInterface='GigabitEthernet0/0', transformedFlow=None), action='TRANSMITTED')]), Hop(node='as2border2', steps=[Step(detail=EnterInputIfaceStepDetail(inputInterface='GigabitEthernet1/0', inputVrf='default'), action='RECEIVED'), Step(detail=RoutingStepDetail(routes=[{'admin': 110, 'metric': 2, 'network': '2.1.2.1/32', 'nextHopIp': '2.12.21.2', 'protocol': 'ospf'}], arpIp='2.12.21.2', outputInterface='GigabitEthernet2/0'), action='FORWARDED'), Step(detail=ExitOutputIfaceStepDetail(outputInterface='GigabitEthernet2/0', transformedFlow=None), action='TRANSMITTED')]), Hop(node='as2core1', steps=[Step(detail=EnterInputIfaceStepDetail(inputInterface='GigabitEthernet1/0', inputVrf='default'), action='RECEIVED'), Step(detail=InboundStepDetail(interface='Loopback0'), action='ACCEPTED')])])"
      ]
     },
     "execution_count": 77,
     "metadata": {},
     "output_type": "execute_result"
    }
   ],
   "source": [
    "result.Traces[0][0]"
   ]
  },
  {
   "cell_type": "markdown",
   "id": "a62a48ca",
   "metadata": {},
   "source": [
    "Retrieving the disposition of the first Trace"
   ]
  },
  {
   "cell_type": "code",
   "execution_count": 78,
   "id": "79160fbf",
   "metadata": {},
   "outputs": [
    {
     "data": {
      "text/plain": [
       "'ACCEPTED'"
      ]
     },
     "execution_count": 78,
     "metadata": {},
     "output_type": "execute_result"
    }
   ],
   "source": [
    "result.Traces[0][0].disposition"
   ]
  },
  {
   "cell_type": "markdown",
   "id": "68ca042b",
   "metadata": {},
   "source": [
    "Retrieving the first hop of the first Trace"
   ]
  },
  {
   "cell_type": "code",
   "execution_count": 79,
   "id": "4050e56f",
   "metadata": {},
   "outputs": [
    {
     "data": {
      "text/html": [
       "node: as2core2<br>&nbsp;&nbsp;ORIGINATED(default)<br>&nbsp;&nbsp;FORWARDED(ARP IP: 2.12.22.1, Output Interface: GigabitEthernet0/0, Routes: [ospf (Network: 2.1.2.1/32, Next Hop IP:2.12.22.1)])<br>&nbsp;&nbsp;TRANSMITTED(GigabitEthernet0/0)"
      ],
      "text/plain": [
       "Hop(node='as2core2', steps=[Step(detail=OriginateStepDetail(originatingVrf='default'), action='ORIGINATED'), Step(detail=RoutingStepDetail(routes=[{'admin': 110, 'metric': 3, 'network': '2.1.2.1/32', 'nextHopIp': '2.12.22.1', 'protocol': 'ospf'}], arpIp='2.12.22.1', outputInterface='GigabitEthernet0/0'), action='FORWARDED'), Step(detail=ExitOutputIfaceStepDetail(outputInterface='GigabitEthernet0/0', transformedFlow=None), action='TRANSMITTED')])"
      ]
     },
     "execution_count": 79,
     "metadata": {},
     "output_type": "execute_result"
    }
   ],
   "source": [
    "result.Traces[0][0][0]"
   ]
  },
  {
   "cell_type": "markdown",
   "id": "f897c70b",
   "metadata": {},
   "source": [
    "Retrieving the last hop of the first Trace"
   ]
  },
  {
   "cell_type": "code",
   "execution_count": 80,
   "id": "b70a08e9",
   "metadata": {},
   "outputs": [
    {
     "data": {
      "text/html": [
       "node: as2core1<br>&nbsp;&nbsp;RECEIVED(GigabitEthernet1/0)<br>&nbsp;&nbsp;ACCEPTED(Loopback0)"
      ],
      "text/plain": [
       "Hop(node='as2core1', steps=[Step(detail=EnterInputIfaceStepDetail(inputInterface='GigabitEthernet1/0', inputVrf='default'), action='RECEIVED'), Step(detail=InboundStepDetail(interface='Loopback0'), action='ACCEPTED')])"
      ]
     },
     "execution_count": 80,
     "metadata": {},
     "output_type": "execute_result"
    }
   ],
   "source": [
    "result.Traces[0][0][-1]"
   ]
  }
 ],
 "metadata": {
  "celltoolbar": "Edit Metadata",
  "hide_input": false,
  "kernelspec": {
   "display_name": "Python 3",
   "language": "python",
   "name": "python3"
  },
  "language_info": {
   "codemirror_mode": {
    "name": "ipython",
    "version": 3
   },
   "file_extension": ".py",
   "mimetype": "text/x-python",
   "name": "python",
   "nbconvert_exporter": "python",
   "pygments_lexer": "ipython3",
   "version": "3.7.7"
  }
 },
 "nbformat": 4,
 "nbformat_minor": 2
}
