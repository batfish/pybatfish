{
 "cells": [
  {
   "cell_type": "code",
   "execution_count": 1,
   "metadata": {
    "execution": {
     "iopub.execute_input": "2021-02-25T06:32:05.602347Z",
     "iopub.status.busy": "2021-02-25T06:32:05.601325Z",
     "iopub.status.idle": "2021-02-25T06:32:06.355199Z",
     "shell.execute_reply": "2021-02-25T06:32:06.354464Z"
    },
    "nbsphinx": "hidden"
   },
   "outputs": [
    {
     "name": "stderr",
     "output_type": "stream",
     "text": [
      "/Users/dan/.pyenv/versions/3.7.7/envs/pybf/lib/python3.7/site-packages/ipykernel_launcher.py:9: FutureWarning: Passing a negative integer is deprecated in version 1.0 and will not be supported in future version. Instead, use None to not limit the column width.\n",
      "  if __name__ == '__main__':\n"
     ]
    }
   ],
   "source": [
    "import pandas as pd\n",
    "from pybatfish.client.commands import *\n",
    "from pybatfish.datamodel import *\n",
    "from pybatfish.question import bfq, list_questions, load_questions\n",
    "\n",
    "pd.set_option(\"display.width\", 300) \n",
    "pd.set_option(\"display.max_columns\", 20) \n",
    "pd.set_option(\"display.max_rows\", 1000) \n",
    "pd.set_option(\"display.max_colwidth\", -1)\n",
    "\n",
    "# Configure all pybatfish loggers to use WARN level\n",
    "import logging\n",
    "logging.getLogger('pybatfish').setLevel(logging.WARN)"
   ]
  },
  {
   "cell_type": "code",
   "execution_count": 2,
   "metadata": {
    "execution": {
     "iopub.execute_input": "2021-02-25T06:32:06.360152Z",
     "iopub.status.busy": "2021-02-25T06:32:06.359306Z",
     "iopub.status.idle": "2021-02-25T06:32:06.361938Z",
     "shell.execute_reply": "2021-02-25T06:32:06.362520Z"
    },
    "nbsphinx": "hidden"
   },
   "outputs": [],
   "source": [
    "bf_session.host = 'localhost'"
   ]
  },
  {
   "cell_type": "code",
   "execution_count": 3,
   "metadata": {
    "execution": {
     "iopub.execute_input": "2021-02-25T06:32:06.367463Z",
     "iopub.status.busy": "2021-02-25T06:32:06.366673Z",
     "iopub.status.idle": "2021-02-25T06:32:06.472591Z",
     "shell.execute_reply": "2021-02-25T06:32:06.473259Z"
    },
    "nbsphinx": "hidden",
    "pycharm": {
     "name": "#%%\n"
    }
   },
   "outputs": [],
   "source": [
    "load_questions()\n"
   ]
  },
  {
   "cell_type": "markdown",
   "id": "dangerous-mention",
   "metadata": {},
   "source": [
    "#### Snapshot Input"
   ]
  },
  {
   "cell_type": "markdown",
   "id": "infrared-charge",
   "metadata": {},
   "source": [
    "* [Snapshot Initialization Issues](#Snapshot-Initialization-Issues)\n",
    "* [Snapshot Input File Parse Status](#Snapshot-Input-File-Parse-Status)\n",
    "* [Snapshot Input File Parse Warnings](#Snapshot-Input-File-Parse-Warnings)"
   ]
  },
  {
   "cell_type": "code",
   "execution_count": 4,
   "id": "spare-subdivision",
   "metadata": {
    "execution": {
     "iopub.execute_input": "2021-02-25T06:32:06.479071Z",
     "iopub.status.busy": "2021-02-25T06:32:06.478248Z",
     "iopub.status.idle": "2021-02-25T06:32:06.492846Z",
     "shell.execute_reply": "2021-02-25T06:32:06.493518Z"
    },
    "nbsphinx": "hidden"
   },
   "outputs": [
    {
     "data": {
      "text/plain": [
       "'generate_questions'"
      ]
     },
     "execution_count": 1,
     "metadata": {},
     "output_type": "execute_result"
    }
   ],
   "source": [
    "bf_set_network('generate_questions')"
   ]
  },
  {
   "cell_type": "code",
   "execution_count": 5,
   "id": "acting-behalf",
   "metadata": {
    "execution": {
     "iopub.execute_input": "2021-02-25T06:32:06.499001Z",
     "iopub.status.busy": "2021-02-25T06:32:06.498185Z",
     "iopub.status.idle": "2021-02-25T06:32:06.508901Z",
     "shell.execute_reply": "2021-02-25T06:32:06.509526Z"
    },
    "nbsphinx": "hidden"
   },
   "outputs": [
    {
     "data": {
      "text/plain": [
       "'generate_questions'"
      ]
     },
     "execution_count": 1,
     "metadata": {},
     "output_type": "execute_result"
    }
   ],
   "source": [
    "bf_set_snapshot('generate_questions')"
   ]
  },
  {
   "cell_type": "markdown",
   "id": "increased-confusion",
   "metadata": {},
   "source": [
    "##### Snapshot Initialization Issues"
   ]
  },
  {
   "cell_type": "markdown",
   "id": "acquired-hunger",
   "metadata": {},
   "source": [
    "Returns issues encountered when processing the snapshot."
   ]
  },
  {
   "cell_type": "markdown",
   "id": "sound-christopher",
   "metadata": {},
   "source": [
    "Reports issues encountered by Batfish, including failure to recognize certain lines in the configuration, lack of support for certain features, and errors when converting to vendor-independent models."
   ]
  },
  {
   "cell_type": "markdown",
   "id": "republican-motorcycle",
   "metadata": {},
   "source": [
    "###### Inputs"
   ]
  },
  {
   "cell_type": "markdown",
   "id": "increasing-polish",
   "metadata": {},
   "source": []
  },
  {
   "cell_type": "markdown",
   "id": "wrapped-memorabilia",
   "metadata": {},
   "source": [
    "###### Invocation"
   ]
  },
  {
   "cell_type": "code",
   "execution_count": 6,
   "id": "paperback-moderator",
   "metadata": {
    "execution": {
     "iopub.execute_input": "2021-02-25T06:32:06.517685Z",
     "iopub.status.busy": "2021-02-25T06:32:06.516785Z",
     "iopub.status.idle": "2021-02-25T06:32:06.812122Z",
     "shell.execute_reply": "2021-02-25T06:32:06.812932Z"
    }
   },
   "outputs": [],
   "source": [
    "result = bfq.initIssues().answer().frame()"
   ]
  },
  {
   "cell_type": "markdown",
   "id": "nuclear-macedonia",
   "metadata": {},
   "source": [
    "###### Return Value"
   ]
  },
  {
   "cell_type": "markdown",
   "id": "separate-composite",
   "metadata": {},
   "source": [
    "Name | Description | Type\n",
    "--- | --- | ---\n",
    "Nodes | The nodes that were converted (if applicable) | List of str\n",
    "Source_Lines | The files and lines that caused the issues (if applicable) | List of [FileLines](../datamodel.rst#pybatfish.datamodel.primitives.FileLines)\n",
    "Type | The type of issues identified | str\n",
    "Details | Details about the issues identified | str\n",
    "Line_Text | The text of the input files that caused the issues (if applicable) | str\n",
    "Parser_Context | Batfish parser state when issues were encountered (if applicable) | str"
   ]
  },
  {
   "cell_type": "markdown",
   "id": "suburban-helping",
   "metadata": {},
   "source": [
    "Print the first 5 rows of the returned Dataframe"
   ]
  },
  {
   "cell_type": "code",
   "execution_count": 7,
   "id": "anonymous-typing",
   "metadata": {
    "execution": {
     "iopub.execute_input": "2021-02-25T06:32:06.825188Z",
     "iopub.status.busy": "2021-02-25T06:32:06.824111Z",
     "iopub.status.idle": "2021-02-25T06:32:06.833012Z",
     "shell.execute_reply": "2021-02-25T06:32:06.833689Z"
    }
   },
   "outputs": [
    {
     "data": {
      "text/html": [
       "<div>\n",
       "<style scoped>\n",
       "    .dataframe tbody tr th:only-of-type {\n",
       "        vertical-align: middle;\n",
       "    }\n",
       "\n",
       "    .dataframe tbody tr th {\n",
       "        vertical-align: top;\n",
       "    }\n",
       "\n",
       "    .dataframe thead th {\n",
       "        text-align: right;\n",
       "    }\n",
       "</style>\n",
       "<table border=\"1\" class=\"dataframe\">\n",
       "  <thead>\n",
       "    <tr style=\"text-align: right;\">\n",
       "      <th></th>\n",
       "      <th>Nodes</th>\n",
       "      <th>Source_Lines</th>\n",
       "      <th>Type</th>\n",
       "      <th>Details</th>\n",
       "      <th>Line_Text</th>\n",
       "      <th>Parser_Context</th>\n",
       "    </tr>\n",
       "  </thead>\n",
       "  <tbody>\n",
       "    <tr>\n",
       "      <th>0</th>\n",
       "      <td>['as1border1']</td>\n",
       "      <td>None</td>\n",
       "      <td>Convert warning (redflag)</td>\n",
       "      <td>Could not determine update source for BGP neighbor: '3.2.2.2'</td>\n",
       "      <td>None</td>\n",
       "      <td>None</td>\n",
       "    </tr>\n",
       "    <tr>\n",
       "      <th>1</th>\n",
       "      <td>['as1border1']</td>\n",
       "      <td>None</td>\n",
       "      <td>Convert warning (redflag)</td>\n",
       "      <td>Could not determine update source for BGP neighbor: '5.6.7.8'</td>\n",
       "      <td>None</td>\n",
       "      <td>None</td>\n",
       "    </tr>\n",
       "  </tbody>\n",
       "</table>\n",
       "</div>"
      ],
      "text/plain": [
       "            Nodes Source_Lines                       Type                                                        Details Line_Text Parser_Context\n",
       "0  ['as1border1']  None         Convert warning (redflag)  Could not determine update source for BGP neighbor: '3.2.2.2'  None      None         \n",
       "1  ['as1border1']  None         Convert warning (redflag)  Could not determine update source for BGP neighbor: '5.6.7.8'  None      None         "
      ]
     },
     "execution_count": 1,
     "metadata": {},
     "output_type": "execute_result"
    }
   ],
   "source": [
    "result.head(5)"
   ]
  },
  {
   "cell_type": "markdown",
   "id": "joint-equilibrium",
   "metadata": {},
   "source": [
    "Print the first row of the returned Dataframe"
   ]
  },
  {
   "cell_type": "code",
   "execution_count": 8,
   "id": "practical-petite",
   "metadata": {
    "execution": {
     "iopub.execute_input": "2021-02-25T06:32:06.839418Z",
     "iopub.status.busy": "2021-02-25T06:32:06.838546Z",
     "iopub.status.idle": "2021-02-25T06:32:06.843418Z",
     "shell.execute_reply": "2021-02-25T06:32:06.844192Z"
    }
   },
   "outputs": [
    {
     "data": {
      "text/plain": [
       "Nodes             ['as1border1']                                               \n",
       "Source_Lines      None                                                         \n",
       "Type              Convert warning (redflag)                                    \n",
       "Details           Could not determine update source for BGP neighbor: '3.2.2.2'\n",
       "Line_Text         None                                                         \n",
       "Parser_Context    None                                                         \n",
       "Name: 0, dtype: object"
      ]
     },
     "execution_count": 1,
     "metadata": {},
     "output_type": "execute_result"
    }
   ],
   "source": [
    "result.iloc[0]"
   ]
  },
  {
   "cell_type": "code",
   "execution_count": 9,
   "id": "average-hydrogen",
   "metadata": {
    "execution": {
     "iopub.execute_input": "2021-02-25T06:32:06.849630Z",
     "iopub.status.busy": "2021-02-25T06:32:06.848736Z",
     "iopub.status.idle": "2021-02-25T06:32:06.855683Z",
     "shell.execute_reply": "2021-02-25T06:32:06.856401Z"
    },
    "nbsphinx": "hidden"
   },
   "outputs": [
    {
     "data": {
      "text/plain": [
       "'generate_questions'"
      ]
     },
     "execution_count": 1,
     "metadata": {},
     "output_type": "execute_result"
    }
   ],
   "source": [
    "bf_set_network('generate_questions')"
   ]
  },
  {
   "cell_type": "code",
   "execution_count": 10,
   "id": "married-basketball",
   "metadata": {
    "execution": {
     "iopub.execute_input": "2021-02-25T06:32:06.861771Z",
     "iopub.status.busy": "2021-02-25T06:32:06.860956Z",
     "iopub.status.idle": "2021-02-25T06:32:06.869405Z",
     "shell.execute_reply": "2021-02-25T06:32:06.870032Z"
    },
    "nbsphinx": "hidden"
   },
   "outputs": [
    {
     "data": {
      "text/plain": [
       "'generate_questions'"
      ]
     },
     "execution_count": 1,
     "metadata": {},
     "output_type": "execute_result"
    }
   ],
   "source": [
    "bf_set_snapshot('generate_questions')"
   ]
  },
  {
   "cell_type": "markdown",
   "id": "pharmaceutical-bonus",
   "metadata": {},
   "source": [
    "##### Snapshot Input File Parse Status"
   ]
  },
  {
   "cell_type": "markdown",
   "id": "destroyed-window",
   "metadata": {},
   "source": [
    "Displays file parse status."
   ]
  },
  {
   "cell_type": "markdown",
   "id": "interesting-approval",
   "metadata": {},
   "source": [
    "For each file in a snapshot, returns the host(s) that were produced by the file and the parse status: pass, fail, partially parsed."
   ]
  },
  {
   "cell_type": "markdown",
   "id": "varied-crisis",
   "metadata": {},
   "source": [
    "###### Inputs"
   ]
  },
  {
   "cell_type": "markdown",
   "id": "lovely-stake",
   "metadata": {},
   "source": []
  },
  {
   "cell_type": "markdown",
   "id": "colonial-snapshot",
   "metadata": {},
   "source": [
    "###### Invocation"
   ]
  },
  {
   "cell_type": "code",
   "execution_count": 11,
   "id": "emerging-energy",
   "metadata": {
    "execution": {
     "iopub.execute_input": "2021-02-25T06:32:06.877157Z",
     "iopub.status.busy": "2021-02-25T06:32:06.876118Z",
     "iopub.status.idle": "2021-02-25T06:32:07.010653Z",
     "shell.execute_reply": "2021-02-25T06:32:07.011360Z"
    }
   },
   "outputs": [],
   "source": [
    "result = bfq.fileParseStatus().answer().frame()"
   ]
  },
  {
   "cell_type": "markdown",
   "id": "discrete-cardiff",
   "metadata": {},
   "source": [
    "###### Return Value"
   ]
  },
  {
   "cell_type": "markdown",
   "id": "spectacular-journey",
   "metadata": {},
   "source": [
    "Name | Description | Type\n",
    "--- | --- | ---\n",
    "File_Name | The file that was parsed | str\n",
    "Status | The status of the parsing operation | str\n",
    "File_Format | The detected format of the file | str\n",
    "Nodes | Names of nodes produced from this file | List of str"
   ]
  },
  {
   "cell_type": "markdown",
   "id": "synthetic-centre",
   "metadata": {},
   "source": [
    "Print the first 5 rows of the returned Dataframe"
   ]
  },
  {
   "cell_type": "code",
   "execution_count": 12,
   "id": "boolean-infrastructure",
   "metadata": {
    "execution": {
     "iopub.execute_input": "2021-02-25T06:32:07.025861Z",
     "iopub.status.busy": "2021-02-25T06:32:07.024933Z",
     "iopub.status.idle": "2021-02-25T06:32:07.029017Z",
     "shell.execute_reply": "2021-02-25T06:32:07.028298Z"
    }
   },
   "outputs": [
    {
     "data": {
      "text/html": [
       "<div>\n",
       "<style scoped>\n",
       "    .dataframe tbody tr th:only-of-type {\n",
       "        vertical-align: middle;\n",
       "    }\n",
       "\n",
       "    .dataframe tbody tr th {\n",
       "        vertical-align: top;\n",
       "    }\n",
       "\n",
       "    .dataframe thead th {\n",
       "        text-align: right;\n",
       "    }\n",
       "</style>\n",
       "<table border=\"1\" class=\"dataframe\">\n",
       "  <thead>\n",
       "    <tr style=\"text-align: right;\">\n",
       "      <th></th>\n",
       "      <th>File_Name</th>\n",
       "      <th>Status</th>\n",
       "      <th>File_Format</th>\n",
       "      <th>Nodes</th>\n",
       "    </tr>\n",
       "  </thead>\n",
       "  <tbody>\n",
       "    <tr>\n",
       "      <th>0</th>\n",
       "      <td>configs/as1border1.cfg</td>\n",
       "      <td>PASSED</td>\n",
       "      <td>CISCO_IOS</td>\n",
       "      <td>['as1border1']</td>\n",
       "    </tr>\n",
       "    <tr>\n",
       "      <th>1</th>\n",
       "      <td>configs/as1border2.cfg</td>\n",
       "      <td>PASSED</td>\n",
       "      <td>CISCO_IOS</td>\n",
       "      <td>['as1border2']</td>\n",
       "    </tr>\n",
       "    <tr>\n",
       "      <th>2</th>\n",
       "      <td>configs/as1core1.cfg</td>\n",
       "      <td>PASSED</td>\n",
       "      <td>CISCO_IOS</td>\n",
       "      <td>['as1core1']</td>\n",
       "    </tr>\n",
       "    <tr>\n",
       "      <th>3</th>\n",
       "      <td>configs/as2border1.cfg</td>\n",
       "      <td>PASSED</td>\n",
       "      <td>CISCO_IOS</td>\n",
       "      <td>['as2border1']</td>\n",
       "    </tr>\n",
       "    <tr>\n",
       "      <th>4</th>\n",
       "      <td>configs/as2border2.cfg</td>\n",
       "      <td>PASSED</td>\n",
       "      <td>CISCO_IOS</td>\n",
       "      <td>['as2border2']</td>\n",
       "    </tr>\n",
       "  </tbody>\n",
       "</table>\n",
       "</div>"
      ],
      "text/plain": [
       "                File_Name  Status File_Format           Nodes\n",
       "0  configs/as1border1.cfg  PASSED  CISCO_IOS   ['as1border1']\n",
       "1  configs/as1border2.cfg  PASSED  CISCO_IOS   ['as1border2']\n",
       "2  configs/as1core1.cfg    PASSED  CISCO_IOS   ['as1core1']  \n",
       "3  configs/as2border1.cfg  PASSED  CISCO_IOS   ['as2border1']\n",
       "4  configs/as2border2.cfg  PASSED  CISCO_IOS   ['as2border2']"
      ]
     },
     "execution_count": 1,
     "metadata": {},
     "output_type": "execute_result"
    }
   ],
   "source": [
    "result.head(5)"
   ]
  },
  {
   "cell_type": "markdown",
   "id": "technological-classification",
   "metadata": {},
   "source": [
    "Print the first row of the returned Dataframe"
   ]
  },
  {
   "cell_type": "code",
   "execution_count": 13,
   "id": "animated-worse",
   "metadata": {
    "execution": {
     "iopub.execute_input": "2021-02-25T06:32:07.036098Z",
     "iopub.status.busy": "2021-02-25T06:32:07.035165Z",
     "iopub.status.idle": "2021-02-25T06:32:07.038449Z",
     "shell.execute_reply": "2021-02-25T06:32:07.039076Z"
    }
   },
   "outputs": [
    {
     "data": {
      "text/plain": [
       "File_Name      configs/as1border1.cfg\n",
       "Status         PASSED                \n",
       "File_Format    CISCO_IOS             \n",
       "Nodes          ['as1border1']        \n",
       "Name: 0, dtype: object"
      ]
     },
     "execution_count": 1,
     "metadata": {},
     "output_type": "execute_result"
    }
   ],
   "source": [
    "result.iloc[0]"
   ]
  },
  {
   "cell_type": "code",
   "execution_count": 14,
   "id": "naked-journalist",
   "metadata": {
    "execution": {
     "iopub.execute_input": "2021-02-25T06:32:07.044667Z",
     "iopub.status.busy": "2021-02-25T06:32:07.043840Z",
     "iopub.status.idle": "2021-02-25T06:32:07.050587Z",
     "shell.execute_reply": "2021-02-25T06:32:07.051224Z"
    },
    "nbsphinx": "hidden"
   },
   "outputs": [
    {
     "data": {
      "text/plain": [
       "'generate_questions'"
      ]
     },
     "execution_count": 1,
     "metadata": {},
     "output_type": "execute_result"
    }
   ],
   "source": [
    "bf_set_network('generate_questions')"
   ]
  },
  {
   "cell_type": "code",
   "execution_count": 15,
   "id": "fatty-criminal",
   "metadata": {
    "execution": {
     "iopub.execute_input": "2021-02-25T06:32:07.057012Z",
     "iopub.status.busy": "2021-02-25T06:32:07.056159Z",
     "iopub.status.idle": "2021-02-25T06:32:07.064979Z",
     "shell.execute_reply": "2021-02-25T06:32:07.065666Z"
    },
    "nbsphinx": "hidden"
   },
   "outputs": [
    {
     "data": {
      "text/plain": [
       "'generate_questions'"
      ]
     },
     "execution_count": 1,
     "metadata": {},
     "output_type": "execute_result"
    }
   ],
   "source": [
    "bf_set_snapshot('generate_questions')"
   ]
  },
  {
   "cell_type": "markdown",
   "id": "annual-merchant",
   "metadata": {},
   "source": [
    "##### Snapshot Input File Parse Warnings"
   ]
  },
  {
   "cell_type": "markdown",
   "id": "ordinary-designer",
   "metadata": {},
   "source": [
    "Returns warnings that occurred when parsing the snapshot."
   ]
  },
  {
   "cell_type": "markdown",
   "id": "whole-garden",
   "metadata": {},
   "source": [
    "Return warnings such as failure to recognize certain lines and lack of support for certain features."
   ]
  },
  {
   "cell_type": "markdown",
   "id": "equal-maintenance",
   "metadata": {},
   "source": [
    "###### Inputs"
   ]
  },
  {
   "cell_type": "markdown",
   "id": "enhanced-pakistan",
   "metadata": {},
   "source": [
    "Name | Description | Type | Optional | Default Value\n",
    "--- | --- | --- | --- | --- \n",
    "aggregateDuplicates | Whether to aggregate duplicate results. | bool | True | "
   ]
  },
  {
   "cell_type": "markdown",
   "id": "convertible-whole",
   "metadata": {},
   "source": [
    "###### Invocation"
   ]
  },
  {
   "cell_type": "code",
   "execution_count": 16,
   "id": "geographic-edmonton",
   "metadata": {
    "execution": {
     "iopub.execute_input": "2021-02-25T06:32:07.073428Z",
     "iopub.status.busy": "2021-02-25T06:32:07.072435Z",
     "iopub.status.idle": "2021-02-25T06:32:07.204348Z",
     "shell.execute_reply": "2021-02-25T06:32:07.205261Z"
    }
   },
   "outputs": [],
   "source": [
    "result = bfq.parseWarning().answer().frame()"
   ]
  },
  {
   "cell_type": "markdown",
   "id": "contemporary-myanmar",
   "metadata": {},
   "source": [
    "###### Return Value"
   ]
  },
  {
   "cell_type": "markdown",
   "id": "judicial-rhythm",
   "metadata": {},
   "source": [
    "Name | Description | Type\n",
    "--- | --- | ---\n",
    "Filename | The file that was parsed | str\n",
    "Line | The line number in the input file that caused the warning | int\n",
    "Text | The text of the input that caused the warning | str\n",
    "Parser_Context | The context of the Batfish parser when the warning occurred | str\n",
    "Comment | An optional comment explaining more information about the warning | str"
   ]
  },
  {
   "cell_type": "markdown",
   "id": "appointed-necklace",
   "metadata": {},
   "source": [
    "Print the first 5 rows of the returned Dataframe"
   ]
  },
  {
   "cell_type": "code",
   "execution_count": 17,
   "id": "integral-exception",
   "metadata": {
    "execution": {
     "iopub.execute_input": "2021-02-25T06:32:07.216124Z",
     "iopub.status.busy": "2021-02-25T06:32:07.215082Z",
     "iopub.status.idle": "2021-02-25T06:32:07.218649Z",
     "shell.execute_reply": "2021-02-25T06:32:07.219349Z"
    }
   },
   "outputs": [
    {
     "data": {
      "text/html": [
       "<div>\n",
       "<style scoped>\n",
       "    .dataframe tbody tr th:only-of-type {\n",
       "        vertical-align: middle;\n",
       "    }\n",
       "\n",
       "    .dataframe tbody tr th {\n",
       "        vertical-align: top;\n",
       "    }\n",
       "\n",
       "    .dataframe thead th {\n",
       "        text-align: right;\n",
       "    }\n",
       "</style>\n",
       "<table border=\"1\" class=\"dataframe\">\n",
       "  <thead>\n",
       "    <tr style=\"text-align: right;\">\n",
       "      <th></th>\n",
       "      <th>Filename</th>\n",
       "      <th>Line</th>\n",
       "      <th>Text</th>\n",
       "      <th>Parser_Context</th>\n",
       "      <th>Comment</th>\n",
       "    </tr>\n",
       "  </thead>\n",
       "  <tbody>\n",
       "  </tbody>\n",
       "</table>\n",
       "</div>"
      ],
      "text/plain": [
       "Empty DataFrame\n",
       "Columns: [Filename, Line, Text, Parser_Context, Comment]\n",
       "Index: []"
      ]
     },
     "execution_count": 1,
     "metadata": {},
     "output_type": "execute_result"
    }
   ],
   "source": [
    "result.head(5)"
   ]
  }
 ],
 "metadata": {
  "celltoolbar": "Edit Metadata",
  "hide_input": false,
  "kernelspec": {
   "display_name": "Python 3",
   "language": "python",
   "name": "python3"
  },
  "language_info": {
   "codemirror_mode": {
    "name": "ipython",
    "version": 3
   },
   "file_extension": ".py",
   "mimetype": "text/x-python",
   "name": "python",
   "nbconvert_exporter": "python",
   "pygments_lexer": "ipython3",
   "version": "3.7.7"
  },
  "pycharm": {
   "stem_cell": {
    "cell_type": "raw",
    "metadata": {
     "collapsed": false
    },
    "source": []
   }
  }
 },
 "nbformat": 4,
 "nbformat_minor": 2
}
