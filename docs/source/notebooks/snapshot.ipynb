{
 "cells": [
  {
   "cell_type": "code",
   "execution_count": 1,
   "metadata": {
    "nbsphinx": "hidden"
   },
   "outputs": [],
   "source": [
    "import pandas as pd\n",
    "from pybatfish.client.session import Session\n",
    "from pybatfish.datamodel import *\n",
    "\n",
    "pd.set_option(\"display.width\", 300) \n",
    "pd.set_option(\"display.max_columns\", 20) \n",
    "pd.set_option(\"display.max_rows\", 1000) \n",
    "pd.set_option(\"display.max_colwidth\", None)\n",
    "\n",
    "# Configure all pybatfish loggers to use WARN level\n",
    "import logging\n",
    "logging.getLogger('pybatfish').setLevel(logging.WARN)"
   ]
  },
  {
   "cell_type": "code",
   "execution_count": 2,
   "metadata": {
    "nbsphinx": "hidden"
   },
   "outputs": [],
   "source": [
    "bf = Session(\"localhost\")\n",
    "\n"
   ]
  },
  {
   "cell_type": "markdown",
   "id": "a6282901",
   "metadata": {},
   "source": [
    "#### Snapshot Input"
   ]
  },
  {
   "cell_type": "markdown",
   "id": "7e6440e9",
   "metadata": {},
   "source": [
    "* [Snapshot Initialization Issues](#Snapshot-Initialization-Issues)\n",
    "* [Snapshot Input File Parse Status](#Snapshot-Input-File-Parse-Status)\n",
    "* [Snapshot Input File Parse Warnings](#Snapshot-Input-File-Parse-Warnings)"
   ]
  },
  {
   "cell_type": "code",
   "execution_count": 3,
   "id": "3ec08d69",
   "metadata": {
    "nbsphinx": "hidden"
   },
   "outputs": [
    {
     "data": {
      "text/plain": [
       "'generate_questions'"
      ]
     },
     "execution_count": 3,
     "metadata": {},
     "output_type": "execute_result"
    }
   ],
   "source": [
    "bf.set_network('generate_questions')"
   ]
  },
  {
   "cell_type": "code",
   "execution_count": 4,
   "id": "a6d39a22",
   "metadata": {
    "nbsphinx": "hidden"
   },
   "outputs": [
    {
     "data": {
      "text/plain": [
       "'generate_questions'"
      ]
     },
     "execution_count": 4,
     "metadata": {},
     "output_type": "execute_result"
    }
   ],
   "source": [
    "bf.set_snapshot('generate_questions')"
   ]
  },
  {
   "cell_type": "markdown",
   "id": "77705458",
   "metadata": {},
   "source": [
    "##### Snapshot Initialization Issues"
   ]
  },
  {
   "cell_type": "markdown",
   "id": "90776ffa",
   "metadata": {},
   "source": [
    "Returns issues encountered when processing the snapshot."
   ]
  },
  {
   "cell_type": "markdown",
   "id": "12541c13",
   "metadata": {},
   "source": [
    "Reports issues encountered by Batfish, including failure to recognize certain lines in the configuration, lack of support for certain features, and errors when converting to vendor-independent models."
   ]
  },
  {
   "cell_type": "markdown",
   "id": "7f5de335",
   "metadata": {},
   "source": [
    "###### Inputs"
   ]
  },
  {
   "cell_type": "markdown",
   "id": "6ce20f06",
   "metadata": {},
   "source": []
  },
  {
   "cell_type": "markdown",
   "id": "908ecd0e",
   "metadata": {},
   "source": [
    "###### Invocation"
   ]
  },
  {
   "cell_type": "code",
   "execution_count": 5,
   "id": "2463f375",
   "metadata": {},
   "outputs": [],
   "source": [
    "result = bf.q.initIssues().answer().frame()"
   ]
  },
  {
   "cell_type": "markdown",
   "id": "89fe46d1",
   "metadata": {},
   "source": [
    "###### Return Value"
   ]
  },
  {
   "cell_type": "markdown",
   "id": "bf054256",
   "metadata": {},
   "source": [
    "Name | Description | Type\n",
    "--- | --- | ---\n",
    "Nodes | The nodes that were converted (if applicable) | List of str\n",
    "Source_Lines | The files and lines that caused the issues (if applicable) | List of [FileLines](../datamodel.rst#pybatfish.datamodel.primitives.FileLines)\n",
    "Type | The type of issues identified | str\n",
    "Details | Details about the issues identified | str\n",
    "Line_Text | The text of the input files that caused the issues (if applicable) | str\n",
    "Parser_Context | Batfish parser state when issues were encountered (if applicable) | str"
   ]
  },
  {
   "cell_type": "markdown",
   "id": "0aaeb35d",
   "metadata": {},
   "source": [
    "Print the first 5 rows of the returned Dataframe"
   ]
  },
  {
   "cell_type": "code",
   "execution_count": 6,
   "id": "e0d0ef7c",
   "metadata": {},
   "outputs": [
    {
     "data": {
      "text/html": [
       "<div>\n",
       "<style scoped>\n",
       "    .dataframe tbody tr th:only-of-type {\n",
       "        vertical-align: middle;\n",
       "    }\n",
       "\n",
       "    .dataframe tbody tr th {\n",
       "        vertical-align: top;\n",
       "    }\n",
       "\n",
       "    .dataframe thead th {\n",
       "        text-align: right;\n",
       "    }\n",
       "</style>\n",
       "<table border=\"1\" class=\"dataframe\">\n",
       "  <thead>\n",
       "    <tr style=\"text-align: right;\">\n",
       "      <th></th>\n",
       "      <th>Nodes</th>\n",
       "      <th>Source_Lines</th>\n",
       "      <th>Type</th>\n",
       "      <th>Details</th>\n",
       "      <th>Line_Text</th>\n",
       "      <th>Parser_Context</th>\n",
       "    </tr>\n",
       "  </thead>\n",
       "  <tbody>\n",
       "    <tr>\n",
       "      <th>0</th>\n",
       "      <td>['as1border1']</td>\n",
       "      <td>None</td>\n",
       "      <td>Convert warning (redflag)</td>\n",
       "      <td>Could not determine update source for BGP neighbor: '3.2.2.2'</td>\n",
       "      <td>None</td>\n",
       "      <td>None</td>\n",
       "    </tr>\n",
       "    <tr>\n",
       "      <th>1</th>\n",
       "      <td>['as1border1']</td>\n",
       "      <td>None</td>\n",
       "      <td>Convert warning (redflag)</td>\n",
       "      <td>Could not determine update source for BGP neighbor: '5.6.7.8'</td>\n",
       "      <td>None</td>\n",
       "      <td>None</td>\n",
       "    </tr>\n",
       "  </tbody>\n",
       "</table>\n",
       "</div>"
      ],
      "text/plain": [
       "            Nodes Source_Lines                       Type                                                        Details Line_Text Parser_Context\n",
       "0  ['as1border1']         None  Convert warning (redflag)  Could not determine update source for BGP neighbor: '3.2.2.2'      None           None\n",
       "1  ['as1border1']         None  Convert warning (redflag)  Could not determine update source for BGP neighbor: '5.6.7.8'      None           None"
      ]
     },
     "execution_count": 6,
     "metadata": {},
     "output_type": "execute_result"
    }
   ],
   "source": [
    "result.head(5)"
   ]
  },
  {
   "cell_type": "markdown",
   "id": "a67323db",
   "metadata": {},
   "source": [
    "Print the first row of the returned Dataframe"
   ]
  },
  {
   "cell_type": "code",
   "execution_count": 7,
   "id": "97141dbf",
   "metadata": {},
   "outputs": [
    {
     "data": {
      "text/plain": [
       "Nodes                                                            ['as1border1']\n",
       "Source_Lines                                                               None\n",
       "Type                                                  Convert warning (redflag)\n",
       "Details           Could not determine update source for BGP neighbor: '3.2.2.2'\n",
       "Line_Text                                                                  None\n",
       "Parser_Context                                                             None\n",
       "Name: 0, dtype: object"
      ]
     },
     "execution_count": 7,
     "metadata": {},
     "output_type": "execute_result"
    }
   ],
   "source": [
    "result.iloc[0]"
   ]
  },
  {
   "cell_type": "code",
   "execution_count": 8,
   "id": "b5b013b7",
   "metadata": {
    "nbsphinx": "hidden"
   },
   "outputs": [
    {
     "data": {
      "text/plain": [
       "'generate_questions'"
      ]
     },
     "execution_count": 8,
     "metadata": {},
     "output_type": "execute_result"
    }
   ],
   "source": [
    "bf.set_network('generate_questions')"
   ]
  },
  {
   "cell_type": "code",
   "execution_count": 9,
   "id": "45ce5384",
   "metadata": {
    "nbsphinx": "hidden"
   },
   "outputs": [
    {
     "data": {
      "text/plain": [
       "'generate_questions'"
      ]
     },
     "execution_count": 9,
     "metadata": {},
     "output_type": "execute_result"
    }
   ],
   "source": [
    "bf.set_snapshot('generate_questions')"
   ]
  },
  {
   "cell_type": "markdown",
   "id": "43fc6997",
   "metadata": {},
   "source": [
    "##### Snapshot Input File Parse Status"
   ]
  },
  {
   "cell_type": "markdown",
   "id": "c3961275",
   "metadata": {},
   "source": [
    "Displays file parse status."
   ]
  },
  {
   "cell_type": "markdown",
   "id": "a01ad245",
   "metadata": {},
   "source": [
    "For each file in a snapshot, returns the host(s) that were produced by the file and the parse status: pass, fail, partially parsed."
   ]
  },
  {
   "cell_type": "markdown",
   "id": "377ee222",
   "metadata": {},
   "source": [
    "###### Inputs"
   ]
  },
  {
   "cell_type": "markdown",
   "id": "47d9a295",
   "metadata": {},
   "source": []
  },
  {
   "cell_type": "markdown",
   "id": "ff3655b6",
   "metadata": {},
   "source": [
    "###### Invocation"
   ]
  },
  {
   "cell_type": "code",
   "execution_count": 10,
   "id": "0840b3a8",
   "metadata": {},
   "outputs": [],
   "source": [
    "result = bf.q.fileParseStatus().answer().frame()"
   ]
  },
  {
   "cell_type": "markdown",
   "id": "4e8ea391",
   "metadata": {},
   "source": [
    "###### Return Value"
   ]
  },
  {
   "cell_type": "markdown",
   "id": "d236e012",
   "metadata": {},
   "source": [
    "Name | Description | Type\n",
    "--- | --- | ---\n",
    "File_Name | The file that was parsed | str\n",
    "Status | The status of the parsing operation | str\n",
    "File_Format | The detected format of the file | str\n",
    "Nodes | Names of nodes produced from this file | List of str"
   ]
  },
  {
   "cell_type": "markdown",
   "id": "da2166b3",
   "metadata": {},
   "source": [
    "Print the first 5 rows of the returned Dataframe"
   ]
  },
  {
   "cell_type": "code",
   "execution_count": 11,
   "id": "e0f05cf6",
   "metadata": {},
   "outputs": [
    {
     "data": {
      "text/html": [
       "<div>\n",
       "<style scoped>\n",
       "    .dataframe tbody tr th:only-of-type {\n",
       "        vertical-align: middle;\n",
       "    }\n",
       "\n",
       "    .dataframe tbody tr th {\n",
       "        vertical-align: top;\n",
       "    }\n",
       "\n",
       "    .dataframe thead th {\n",
       "        text-align: right;\n",
       "    }\n",
       "</style>\n",
       "<table border=\"1\" class=\"dataframe\">\n",
       "  <thead>\n",
       "    <tr style=\"text-align: right;\">\n",
       "      <th></th>\n",
       "      <th>File_Name</th>\n",
       "      <th>Status</th>\n",
       "      <th>File_Format</th>\n",
       "      <th>Nodes</th>\n",
       "    </tr>\n",
       "  </thead>\n",
       "  <tbody>\n",
       "    <tr>\n",
       "      <th>0</th>\n",
       "      <td>configs/as1border1.cfg</td>\n",
       "      <td>PASSED</td>\n",
       "      <td>CISCO_IOS</td>\n",
       "      <td>['as1border1']</td>\n",
       "    </tr>\n",
       "    <tr>\n",
       "      <th>1</th>\n",
       "      <td>configs/as1border2.cfg</td>\n",
       "      <td>PASSED</td>\n",
       "      <td>CISCO_IOS</td>\n",
       "      <td>['as1border2']</td>\n",
       "    </tr>\n",
       "    <tr>\n",
       "      <th>2</th>\n",
       "      <td>configs/as1core1.cfg</td>\n",
       "      <td>PASSED</td>\n",
       "      <td>CISCO_IOS</td>\n",
       "      <td>['as1core1']</td>\n",
       "    </tr>\n",
       "    <tr>\n",
       "      <th>3</th>\n",
       "      <td>configs/as2border1.cfg</td>\n",
       "      <td>PASSED</td>\n",
       "      <td>CISCO_IOS</td>\n",
       "      <td>['as2border1']</td>\n",
       "    </tr>\n",
       "    <tr>\n",
       "      <th>4</th>\n",
       "      <td>configs/as2border2.cfg</td>\n",
       "      <td>PASSED</td>\n",
       "      <td>CISCO_IOS</td>\n",
       "      <td>['as2border2']</td>\n",
       "    </tr>\n",
       "  </tbody>\n",
       "</table>\n",
       "</div>"
      ],
      "text/plain": [
       "                File_Name  Status File_Format           Nodes\n",
       "0  configs/as1border1.cfg  PASSED   CISCO_IOS  ['as1border1']\n",
       "1  configs/as1border2.cfg  PASSED   CISCO_IOS  ['as1border2']\n",
       "2    configs/as1core1.cfg  PASSED   CISCO_IOS    ['as1core1']\n",
       "3  configs/as2border1.cfg  PASSED   CISCO_IOS  ['as2border1']\n",
       "4  configs/as2border2.cfg  PASSED   CISCO_IOS  ['as2border2']"
      ]
     },
     "execution_count": 11,
     "metadata": {},
     "output_type": "execute_result"
    }
   ],
   "source": [
    "result.head(5)"
   ]
  },
  {
   "cell_type": "markdown",
   "id": "9c579d7f",
   "metadata": {},
   "source": [
    "Print the first row of the returned Dataframe"
   ]
  },
  {
   "cell_type": "code",
   "execution_count": 12,
   "id": "0980fac3",
   "metadata": {},
   "outputs": [
    {
     "data": {
      "text/plain": [
       "File_Name      configs/as1border1.cfg\n",
       "Status                         PASSED\n",
       "File_Format                 CISCO_IOS\n",
       "Nodes                  ['as1border1']\n",
       "Name: 0, dtype: object"
      ]
     },
     "execution_count": 12,
     "metadata": {},
     "output_type": "execute_result"
    }
   ],
   "source": [
    "result.iloc[0]"
   ]
  },
  {
   "cell_type": "code",
   "execution_count": 13,
   "id": "80adcede",
   "metadata": {
    "nbsphinx": "hidden"
   },
   "outputs": [
    {
     "data": {
      "text/plain": [
       "'generate_questions'"
      ]
     },
     "execution_count": 13,
     "metadata": {},
     "output_type": "execute_result"
    }
   ],
   "source": [
    "bf.set_network('generate_questions')"
   ]
  },
  {
   "cell_type": "code",
   "execution_count": 14,
   "id": "50e02c9c",
   "metadata": {
    "nbsphinx": "hidden"
   },
   "outputs": [
    {
     "data": {
      "text/plain": [
       "'generate_questions'"
      ]
     },
     "execution_count": 14,
     "metadata": {},
     "output_type": "execute_result"
    }
   ],
   "source": [
    "bf.set_snapshot('generate_questions')"
   ]
  },
  {
   "cell_type": "markdown",
   "id": "b728dcaa",
   "metadata": {},
   "source": [
    "##### Snapshot Input File Parse Warnings"
   ]
  },
  {
   "cell_type": "markdown",
   "id": "0b3df499",
   "metadata": {},
   "source": [
    "Returns warnings that occurred when parsing the snapshot."
   ]
  },
  {
   "cell_type": "markdown",
   "id": "d44b447e",
   "metadata": {},
   "source": [
    "Return warnings such as failure to recognize certain lines and lack of support for certain features."
   ]
  },
  {
   "cell_type": "markdown",
   "id": "507522f3",
   "metadata": {},
   "source": [
    "###### Inputs"
   ]
  },
  {
   "cell_type": "markdown",
   "id": "611dd660",
   "metadata": {},
   "source": [
    "Name | Description | Type | Optional | Default Value\n",
    "--- | --- | --- | --- | --- \n",
    "aggregateDuplicates | Whether to aggregate duplicate results. | bool | True | "
   ]
  },
  {
   "cell_type": "markdown",
   "id": "b2150cae",
   "metadata": {},
   "source": [
    "###### Invocation"
   ]
  },
  {
   "cell_type": "code",
   "execution_count": 15,
   "id": "a25fa1d1",
   "metadata": {},
   "outputs": [],
   "source": [
    "result = bf.q.parseWarning().answer().frame()"
   ]
  },
  {
   "cell_type": "markdown",
   "id": "cb4861a0",
   "metadata": {},
   "source": [
    "###### Return Value"
   ]
  },
  {
   "cell_type": "markdown",
   "id": "43946fb9",
   "metadata": {},
   "source": [
    "Name | Description | Type\n",
    "--- | --- | ---\n",
    "Filename | The file that was parsed | str\n",
    "Line | The line number in the input file that caused the warning | int\n",
    "Text | The text of the input that caused the warning | str\n",
    "Parser_Context | The context of the Batfish parser when the warning occurred | str\n",
    "Comment | An optional comment explaining more information about the warning | str"
   ]
  },
  {
   "cell_type": "markdown",
   "id": "bf1dca43",
   "metadata": {},
   "source": [
    "Print the first 5 rows of the returned Dataframe"
   ]
  },
  {
   "cell_type": "code",
   "execution_count": 16,
   "id": "d7392c4d",
   "metadata": {},
   "outputs": [
    {
     "data": {
      "text/html": [
       "<div>\n",
       "<style scoped>\n",
       "    .dataframe tbody tr th:only-of-type {\n",
       "        vertical-align: middle;\n",
       "    }\n",
       "\n",
       "    .dataframe tbody tr th {\n",
       "        vertical-align: top;\n",
       "    }\n",
       "\n",
       "    .dataframe thead th {\n",
       "        text-align: right;\n",
       "    }\n",
       "</style>\n",
       "<table border=\"1\" class=\"dataframe\">\n",
       "  <thead>\n",
       "    <tr style=\"text-align: right;\">\n",
       "      <th></th>\n",
       "      <th>Filename</th>\n",
       "      <th>Line</th>\n",
       "      <th>Text</th>\n",
       "      <th>Parser_Context</th>\n",
       "      <th>Comment</th>\n",
       "    </tr>\n",
       "  </thead>\n",
       "  <tbody>\n",
       "  </tbody>\n",
       "</table>\n",
       "</div>"
      ],
      "text/plain": [
       "Empty DataFrame\n",
       "Columns: [Filename, Line, Text, Parser_Context, Comment]\n",
       "Index: []"
      ]
     },
     "execution_count": 16,
     "metadata": {},
     "output_type": "execute_result"
    }
   ],
   "source": [
    "result.head(5)"
   ]
  }
 ],
 "metadata": {
  "celltoolbar": "Edit Metadata",
  "hide_input": false,
  "kernelspec": {
   "display_name": "Python 3",
   "language": "python",
   "name": "python3"
  },
  "language_info": {
   "codemirror_mode": {
    "name": "ipython",
    "version": 3
   },
   "file_extension": ".py",
   "mimetype": "text/x-python",
   "name": "python",
   "nbconvert_exporter": "python",
   "pygments_lexer": "ipython3",
   "version": "3.7.7"
  }
 },
 "nbformat": 4,
 "nbformat_minor": 2
}
