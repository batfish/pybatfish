{
 "cells": [
  {
   "cell_type": "code",
   "execution_count": 1,
   "metadata": {
    "nbsphinx": "hidden"
   },
   "outputs": [],
   "source": [
    "import pandas as pd\n",
    "from pybatfish.client.commands import *\n",
    "from pybatfish.datamodel import *\n",
    "from pybatfish.question import bfq, list_questions, load_questions\n",
    "\n",
    "pd.set_option(\"display.width\", 300) \n",
    "pd.set_option(\"display.max_columns\", 20) \n",
    "pd.set_option(\"display.max_rows\", 1000) \n",
    "pd.set_option(\"display.max_colwidth\", -1)\n",
    "\n",
    "# Configure all pybatfish loggers to use WARN level\n",
    "import logging\n",
    "logging.getLogger('pybatfish').setLevel(logging.WARN)"
   ]
  },
  {
   "cell_type": "code",
   "execution_count": 2,
   "metadata": {
    "nbsphinx": "hidden"
   },
   "outputs": [],
   "source": [
    "bf_session.host = 'localhost'"
   ]
  },
  {
   "cell_type": "code",
   "execution_count": 3,
   "metadata": {
    "nbsphinx": "hidden",
    "pycharm": {
     "name": "#%%\n"
    }
   },
   "outputs": [],
   "source": [
    "load_questions()\n"
   ]
  },
  {
   "cell_type": "markdown",
   "metadata": {},
   "source": [
    "#### IPSec Tunnels"
   ]
  },
  {
   "cell_type": "markdown",
   "metadata": {},
   "source": [
    "* [IPSec Session Status](#IPSec-Session-Status)\n",
    "* [IPSec Edges](#IPSec-Edges)"
   ]
  },
  {
   "cell_type": "code",
   "execution_count": 4,
   "metadata": {
    "nbsphinx": "hidden"
   },
   "outputs": [
    {
     "data": {
      "text/plain": [
       "'generate_questions'"
      ]
     },
     "execution_count": 4,
     "metadata": {},
     "output_type": "execute_result"
    }
   ],
   "source": [
    "bf_set_network('generate_questions')"
   ]
  },
  {
   "cell_type": "code",
   "execution_count": 5,
   "metadata": {
    "nbsphinx": "hidden"
   },
   "outputs": [
    {
     "data": {
      "text/plain": [
       "'hybridcloud'"
      ]
     },
     "execution_count": 5,
     "metadata": {},
     "output_type": "execute_result"
    }
   ],
   "source": [
    "bf_set_snapshot('hybridcloud')"
   ]
  },
  {
   "cell_type": "markdown",
   "metadata": {},
   "source": [
    "##### IPSec Session Status"
   ]
  },
  {
   "cell_type": "markdown",
   "metadata": {},
   "source": [
    "Returns the status of configured IPSec sessions."
   ]
  },
  {
   "cell_type": "markdown",
   "metadata": {},
   "source": [
    "Shows configuration settings and status for each configured IPSec tunnel in the network. The status is IPSEC_SESSION_ESTABLISHED for tunnels that are expected to be established; it is IKE_PHASE1_FAILED if IKE parameters negotiation failed; it is IKE_PHASE1_KEY_MISMATCH if IKE negotiation was successful but IKE keys do not match; it is IPSEC_PHASE2_FAILED if negotiation of IPsec parameters failed; and it is MISSING_END_POINT if the remote endpoint for a configured IPsec tunnel could not be found in the network."
   ]
  },
  {
   "cell_type": "markdown",
   "metadata": {},
   "source": [
    "###### Inputs"
   ]
  },
  {
   "cell_type": "markdown",
   "metadata": {},
   "source": [
    "Name | Description | Type | Optional | Default Value\n",
    "--- | --- | --- | --- | --- \n",
    "nodes | Include sessions whose first node matches this specifier. | [NodeSpec](../specifiers.md#node-specifier) | True | \n",
    "remoteNodes | Include sessions whose second node matches this specifier. | [NodeSpec](../specifiers.md#node-specifier) | True | \n",
    "status | Only include IPSec sessions for which status matches this specifier. | [IpsecSessionStatusSpec](../specifiers.md#ipsec-session-status-specifier) | True | "
   ]
  },
  {
   "cell_type": "markdown",
   "metadata": {},
   "source": [
    "###### Invocation"
   ]
  },
  {
   "cell_type": "code",
   "execution_count": 6,
   "metadata": {},
   "outputs": [],
   "source": [
    "result = bfq.ipsecSessionStatus().answer().frame()"
   ]
  },
  {
   "cell_type": "markdown",
   "metadata": {},
   "source": [
    "###### Return Value"
   ]
  },
  {
   "cell_type": "markdown",
   "metadata": {},
   "source": [
    "Name | Description | Type\n",
    "--- | --- | ---\n",
    "Node | IPSec initiator | str\n",
    "Node_Interface | Initiator Interface | [Interface](../datamodel.rst#pybatfish.datamodel.primitives.Interface)\n",
    "Node_IP | Initiator IP | str\n",
    "Remote_Node | IPSec responder | str\n",
    "Remote_Node_Interface | Responder Interface | [Interface](../datamodel.rst#pybatfish.datamodel.primitives.Interface)\n",
    "Remote_Node_IP | Responder IP | str\n",
    "Tunnel_Interfaces | Tunnel interfaces pair used in peering session | str\n",
    "Status | IPSec session status | str"
   ]
  },
  {
   "cell_type": "markdown",
   "metadata": {},
   "source": [
    "Print the first 5 rows of the returned Dataframe"
   ]
  },
  {
   "cell_type": "code",
   "execution_count": 7,
   "metadata": {},
   "outputs": [
    {
     "data": {
      "text/html": [
       "<div>\n",
       "<style scoped>\n",
       "    .dataframe tbody tr th:only-of-type {\n",
       "        vertical-align: middle;\n",
       "    }\n",
       "\n",
       "    .dataframe tbody tr th {\n",
       "        vertical-align: top;\n",
       "    }\n",
       "\n",
       "    .dataframe thead th {\n",
       "        text-align: right;\n",
       "    }\n",
       "</style>\n",
       "<table border=\"1\" class=\"dataframe\">\n",
       "  <thead>\n",
       "    <tr style=\"text-align: right;\">\n",
       "      <th></th>\n",
       "      <th>Node</th>\n",
       "      <th>Node_Interface</th>\n",
       "      <th>Node_IP</th>\n",
       "      <th>Remote_Node</th>\n",
       "      <th>Remote_Node_Interface</th>\n",
       "      <th>Remote_Node_IP</th>\n",
       "      <th>Tunnel_Interfaces</th>\n",
       "      <th>Status</th>\n",
       "    </tr>\n",
       "  </thead>\n",
       "  <tbody>\n",
       "    <tr>\n",
       "      <th>0</th>\n",
       "      <td>tgw-06b348adabd13452d</td>\n",
       "      <td>tgw-06b348adabd13452d[external-vpn-01c45673532d3e33e-1]</td>\n",
       "      <td>3.19.24.131</td>\n",
       "      <td>exitgw</td>\n",
       "      <td>exitgw[GigabitEthernet3]</td>\n",
       "      <td>147.75.69.27</td>\n",
       "      <td>vpn-vpn-01c45673532d3e33e-1 -&gt; Tunnel1</td>\n",
       "      <td>IPSEC_SESSION_ESTABLISHED</td>\n",
       "    </tr>\n",
       "    <tr>\n",
       "      <th>1</th>\n",
       "      <td>tgw-0888a76c8a371246d</td>\n",
       "      <td>tgw-0888a76c8a371246d[external-vpn-0dc7abdb974ff8a69-1]</td>\n",
       "      <td>34.209.88.227</td>\n",
       "      <td>exitgw</td>\n",
       "      <td>exitgw[GigabitEthernet3]</td>\n",
       "      <td>147.75.69.27</td>\n",
       "      <td>vpn-vpn-0dc7abdb974ff8a69-1 -&gt; Tunnel3</td>\n",
       "      <td>IPSEC_SESSION_ESTABLISHED</td>\n",
       "    </tr>\n",
       "    <tr>\n",
       "      <th>2</th>\n",
       "      <td>tgw-06b348adabd13452d</td>\n",
       "      <td>tgw-06b348adabd13452d[external-vpn-01c45673532d3e33e-2]</td>\n",
       "      <td>52.14.53.162</td>\n",
       "      <td>exitgw</td>\n",
       "      <td>exitgw[GigabitEthernet3]</td>\n",
       "      <td>147.75.69.27</td>\n",
       "      <td>vpn-vpn-01c45673532d3e33e-2 -&gt; Tunnel4</td>\n",
       "      <td>IKE_PHASE1_KEY_MISMATCH</td>\n",
       "    </tr>\n",
       "    <tr>\n",
       "      <th>3</th>\n",
       "      <td>exitgw</td>\n",
       "      <td>exitgw[GigabitEthernet3]</td>\n",
       "      <td>147.75.69.27</td>\n",
       "      <td>tgw-06b348adabd13452d</td>\n",
       "      <td>tgw-06b348adabd13452d[external-vpn-01c45673532d3e33e-2]</td>\n",
       "      <td>52.14.53.162</td>\n",
       "      <td>Tunnel2 -&gt; vpn-vpn-01c45673532d3e33e-2</td>\n",
       "      <td>IPSEC_SESSION_ESTABLISHED</td>\n",
       "    </tr>\n",
       "    <tr>\n",
       "      <th>4</th>\n",
       "      <td>tgw-06b348adabd13452d</td>\n",
       "      <td>tgw-06b348adabd13452d[external-vpn-01c45673532d3e33e-2]</td>\n",
       "      <td>52.14.53.162</td>\n",
       "      <td>exitgw</td>\n",
       "      <td>exitgw[GigabitEthernet3]</td>\n",
       "      <td>147.75.69.27</td>\n",
       "      <td>vpn-vpn-01c45673532d3e33e-2 -&gt; Tunnel3</td>\n",
       "      <td>IKE_PHASE1_KEY_MISMATCH</td>\n",
       "    </tr>\n",
       "  </tbody>\n",
       "</table>\n",
       "</div>"
      ],
      "text/plain": [
       "                    Node                                           Node_Interface        Node_IP            Remote_Node                                    Remote_Node_Interface Remote_Node_IP                       Tunnel_Interfaces                     Status\n",
       "0  tgw-06b348adabd13452d  tgw-06b348adabd13452d[external-vpn-01c45673532d3e33e-1]  3.19.24.131    exitgw                 exitgw[GigabitEthernet3]                                 147.75.69.27   vpn-vpn-01c45673532d3e33e-1 -> Tunnel1  IPSEC_SESSION_ESTABLISHED\n",
       "1  tgw-0888a76c8a371246d  tgw-0888a76c8a371246d[external-vpn-0dc7abdb974ff8a69-1]  34.209.88.227  exitgw                 exitgw[GigabitEthernet3]                                 147.75.69.27   vpn-vpn-0dc7abdb974ff8a69-1 -> Tunnel3  IPSEC_SESSION_ESTABLISHED\n",
       "2  tgw-06b348adabd13452d  tgw-06b348adabd13452d[external-vpn-01c45673532d3e33e-2]  52.14.53.162   exitgw                 exitgw[GigabitEthernet3]                                 147.75.69.27   vpn-vpn-01c45673532d3e33e-2 -> Tunnel4  IKE_PHASE1_KEY_MISMATCH  \n",
       "3  exitgw                 exitgw[GigabitEthernet3]                                 147.75.69.27   tgw-06b348adabd13452d  tgw-06b348adabd13452d[external-vpn-01c45673532d3e33e-2]  52.14.53.162   Tunnel2 -> vpn-vpn-01c45673532d3e33e-2  IPSEC_SESSION_ESTABLISHED\n",
       "4  tgw-06b348adabd13452d  tgw-06b348adabd13452d[external-vpn-01c45673532d3e33e-2]  52.14.53.162   exitgw                 exitgw[GigabitEthernet3]                                 147.75.69.27   vpn-vpn-01c45673532d3e33e-2 -> Tunnel3  IKE_PHASE1_KEY_MISMATCH  "
      ]
     },
     "execution_count": 7,
     "metadata": {},
     "output_type": "execute_result"
    }
   ],
   "source": [
    "result.head(5)"
   ]
  },
  {
   "cell_type": "markdown",
   "metadata": {},
   "source": [
    "Print the first row of the returned Dataframe"
   ]
  },
  {
   "cell_type": "code",
   "execution_count": 8,
   "metadata": {},
   "outputs": [
    {
     "data": {
      "text/plain": [
       "Node                     tgw-06b348adabd13452d                                  \n",
       "Node_Interface           tgw-06b348adabd13452d[external-vpn-01c45673532d3e33e-1]\n",
       "Node_IP                  3.19.24.131                                            \n",
       "Remote_Node              exitgw                                                 \n",
       "Remote_Node_Interface    exitgw[GigabitEthernet3]                               \n",
       "Remote_Node_IP           147.75.69.27                                           \n",
       "Tunnel_Interfaces        vpn-vpn-01c45673532d3e33e-1 -> Tunnel1                 \n",
       "Status                   IPSEC_SESSION_ESTABLISHED                              \n",
       "Name: 0, dtype: object"
      ]
     },
     "execution_count": 8,
     "metadata": {},
     "output_type": "execute_result"
    }
   ],
   "source": [
    "result.iloc[0]"
   ]
  },
  {
   "cell_type": "code",
   "execution_count": 9,
   "metadata": {
    "nbsphinx": "hidden"
   },
   "outputs": [
    {
     "data": {
      "text/plain": [
       "'generate_questions'"
      ]
     },
     "execution_count": 9,
     "metadata": {},
     "output_type": "execute_result"
    }
   ],
   "source": [
    "bf_set_network('generate_questions')"
   ]
  },
  {
   "cell_type": "code",
   "execution_count": 10,
   "metadata": {
    "nbsphinx": "hidden"
   },
   "outputs": [
    {
     "data": {
      "text/plain": [
       "'hybridcloud'"
      ]
     },
     "execution_count": 10,
     "metadata": {},
     "output_type": "execute_result"
    }
   ],
   "source": [
    "bf_set_snapshot('hybridcloud')"
   ]
  },
  {
   "cell_type": "markdown",
   "metadata": {},
   "source": [
    "##### IPSec Edges"
   ]
  },
  {
   "cell_type": "markdown",
   "metadata": {},
   "source": [
    "Returns IPSec tunnels."
   ]
  },
  {
   "cell_type": "markdown",
   "metadata": {},
   "source": [
    "Lists all IPSec tunnels in the network."
   ]
  },
  {
   "cell_type": "markdown",
   "metadata": {},
   "source": [
    "###### Inputs"
   ]
  },
  {
   "cell_type": "markdown",
   "metadata": {},
   "source": [
    "Name | Description | Type | Optional | Default Value\n",
    "--- | --- | --- | --- | --- \n",
    "nodes | Include tunnels whose first node matches this name or regex. | [NodeSpec](../specifiers.md#node-specifier) | True | .*\n",
    "remoteNodes | Include tunnels whose second node matches this name or regex. | [NodeSpec](../specifiers.md#node-specifier) | True | .*"
   ]
  },
  {
   "cell_type": "markdown",
   "metadata": {},
   "source": [
    "###### Invocation"
   ]
  },
  {
   "cell_type": "code",
   "execution_count": 11,
   "metadata": {},
   "outputs": [],
   "source": [
    "result = bfq.ipsecEdges().answer().frame()"
   ]
  },
  {
   "cell_type": "markdown",
   "metadata": {},
   "source": [
    "###### Return Value"
   ]
  },
  {
   "cell_type": "markdown",
   "metadata": {},
   "source": [
    "Name | Description | Type\n",
    "--- | --- | ---\n",
    "Source_Interface | Source interface used in the IPsec session | [Interface](../datamodel.rst#pybatfish.datamodel.primitives.Interface)\n",
    "Tunnel_Interface | Tunnel interface (if any) used in the IPsec session | [Interface](../datamodel.rst#pybatfish.datamodel.primitives.Interface)\n",
    "Remote_Source_Interface | Remote source interface used in the IPsec session | [Interface](../datamodel.rst#pybatfish.datamodel.primitives.Interface)\n",
    "Remote_Tunnel_Interface | Remote tunnel interface (if any) used in the IPsec session | [Interface](../datamodel.rst#pybatfish.datamodel.primitives.Interface)"
   ]
  },
  {
   "cell_type": "markdown",
   "metadata": {},
   "source": [
    "Print the first 5 rows of the returned Dataframe"
   ]
  },
  {
   "cell_type": "code",
   "execution_count": 12,
   "metadata": {},
   "outputs": [
    {
     "data": {
      "text/html": [
       "<div>\n",
       "<style scoped>\n",
       "    .dataframe tbody tr th:only-of-type {\n",
       "        vertical-align: middle;\n",
       "    }\n",
       "\n",
       "    .dataframe tbody tr th {\n",
       "        vertical-align: top;\n",
       "    }\n",
       "\n",
       "    .dataframe thead th {\n",
       "        text-align: right;\n",
       "    }\n",
       "</style>\n",
       "<table border=\"1\" class=\"dataframe\">\n",
       "  <thead>\n",
       "    <tr style=\"text-align: right;\">\n",
       "      <th></th>\n",
       "      <th>Source_Interface</th>\n",
       "      <th>Tunnel_Interface</th>\n",
       "      <th>Remote_Source_Interface</th>\n",
       "      <th>Remote_Tunnel_Interface</th>\n",
       "    </tr>\n",
       "  </thead>\n",
       "  <tbody>\n",
       "    <tr>\n",
       "      <th>0</th>\n",
       "      <td>tgw-06b348adabd13452d[external-vpn-01c45673532d3e33e-1]</td>\n",
       "      <td>tgw-06b348adabd13452d[vpn-vpn-01c45673532d3e33e-1]</td>\n",
       "      <td>exitgw[GigabitEthernet3]</td>\n",
       "      <td>exitgw[Tunnel1]</td>\n",
       "    </tr>\n",
       "    <tr>\n",
       "      <th>1</th>\n",
       "      <td>tgw-0888a76c8a371246d[external-vpn-0dc7abdb974ff8a69-1]</td>\n",
       "      <td>tgw-0888a76c8a371246d[vpn-vpn-0dc7abdb974ff8a69-1]</td>\n",
       "      <td>exitgw[GigabitEthernet3]</td>\n",
       "      <td>exitgw[Tunnel3]</td>\n",
       "    </tr>\n",
       "    <tr>\n",
       "      <th>2</th>\n",
       "      <td>tgw-06b348adabd13452d[external-vpn-01c45673532d3e33e-2]</td>\n",
       "      <td>tgw-06b348adabd13452d[vpn-vpn-01c45673532d3e33e-2]</td>\n",
       "      <td>exitgw[GigabitEthernet3]</td>\n",
       "      <td>exitgw[Tunnel2]</td>\n",
       "    </tr>\n",
       "    <tr>\n",
       "      <th>3</th>\n",
       "      <td>exitgw[GigabitEthernet3]</td>\n",
       "      <td>exitgw[Tunnel4]</td>\n",
       "      <td>tgw-0888a76c8a371246d[external-vpn-0dc7abdb974ff8a69-2]</td>\n",
       "      <td>tgw-0888a76c8a371246d[vpn-vpn-0dc7abdb974ff8a69-2]</td>\n",
       "    </tr>\n",
       "    <tr>\n",
       "      <th>4</th>\n",
       "      <td>tgw-0888a76c8a371246d[external-vpn-0dc7abdb974ff8a69-2]</td>\n",
       "      <td>tgw-0888a76c8a371246d[vpn-vpn-0dc7abdb974ff8a69-2]</td>\n",
       "      <td>exitgw[GigabitEthernet3]</td>\n",
       "      <td>exitgw[Tunnel4]</td>\n",
       "    </tr>\n",
       "  </tbody>\n",
       "</table>\n",
       "</div>"
      ],
      "text/plain": [
       "                                          Source_Interface                                    Tunnel_Interface                                  Remote_Source_Interface                             Remote_Tunnel_Interface\n",
       "0  tgw-06b348adabd13452d[external-vpn-01c45673532d3e33e-1]  tgw-06b348adabd13452d[vpn-vpn-01c45673532d3e33e-1]  exitgw[GigabitEthernet3]                                 exitgw[Tunnel1]                                   \n",
       "1  tgw-0888a76c8a371246d[external-vpn-0dc7abdb974ff8a69-1]  tgw-0888a76c8a371246d[vpn-vpn-0dc7abdb974ff8a69-1]  exitgw[GigabitEthernet3]                                 exitgw[Tunnel3]                                   \n",
       "2  tgw-06b348adabd13452d[external-vpn-01c45673532d3e33e-2]  tgw-06b348adabd13452d[vpn-vpn-01c45673532d3e33e-2]  exitgw[GigabitEthernet3]                                 exitgw[Tunnel2]                                   \n",
       "3  exitgw[GigabitEthernet3]                                 exitgw[Tunnel4]                                     tgw-0888a76c8a371246d[external-vpn-0dc7abdb974ff8a69-2]  tgw-0888a76c8a371246d[vpn-vpn-0dc7abdb974ff8a69-2]\n",
       "4  tgw-0888a76c8a371246d[external-vpn-0dc7abdb974ff8a69-2]  tgw-0888a76c8a371246d[vpn-vpn-0dc7abdb974ff8a69-2]  exitgw[GigabitEthernet3]                                 exitgw[Tunnel4]                                   "
      ]
     },
     "execution_count": 12,
     "metadata": {},
     "output_type": "execute_result"
    }
   ],
   "source": [
    "result.head(5)"
   ]
  },
  {
   "cell_type": "markdown",
   "metadata": {},
   "source": [
    "Print the first row of the returned Dataframe"
   ]
  },
  {
   "cell_type": "code",
   "execution_count": 13,
   "metadata": {},
   "outputs": [
    {
     "data": {
      "text/plain": [
       "Source_Interface           tgw-06b348adabd13452d[external-vpn-01c45673532d3e33e-1]\n",
       "Tunnel_Interface           tgw-06b348adabd13452d[vpn-vpn-01c45673532d3e33e-1]     \n",
       "Remote_Source_Interface    exitgw[GigabitEthernet3]                               \n",
       "Remote_Tunnel_Interface    exitgw[Tunnel1]                                        \n",
       "Name: 0, dtype: object"
      ]
     },
     "execution_count": 13,
     "metadata": {},
     "output_type": "execute_result"
    }
   ],
   "source": [
    "result.iloc[0]"
   ]
  }
 ],
 "metadata": {
  "celltoolbar": "Edit Metadata",
  "hide_input": false,
  "kernelspec": {
   "display_name": "Python 3",
   "language": "python",
   "name": "python3"
  },
  "language_info": {
   "codemirror_mode": {
    "name": "ipython",
    "version": 3
   },
   "file_extension": ".py",
   "mimetype": "text/x-python",
   "name": "python",
   "nbconvert_exporter": "python",
   "pygments_lexer": "ipython3",
   "version": "3.7.7"
  },
  "pycharm": {
   "stem_cell": {
    "cell_type": "raw",
    "metadata": {
     "collapsed": false
    },
    "source": []
   }
  }
 },
 "nbformat": 4,
 "nbformat_minor": 2
}
